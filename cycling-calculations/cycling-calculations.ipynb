{
    "metadata": {
        "kernelspec": {
            "name": "SQL",
            "display_name": "SQL",
            "language": "sql"
        },
        "language_info": {
            "name": "sql",
            "version": ""
        }
    },
    "nbformat_minor": 2,
    "nbformat": 4,
    "cells": [
        {
            "cell_type": "markdown",
            "source": [
                "# Description:\n",
                "\n",
                "I use a Garmin fenix watch and a set of sensors to collect data from my bike rides.\n",
                "\n",
                "I analyse the data to find patterns etc.\n",
                "\n",
                "One of the problems was that I could not link the cadence with the gear combinations, so I could not measure the power improvements.\n",
                "\n",
                "This project tries to calucate the distance traveled by each revolution.\n",
                "\n",
                "## Instructions:\n",
                "\n",
                "Run the structure.sql and action.sql before running this notebook.\n",
                "\n",
                "## TO DO:\n",
                "\n",
                "1. Link with the cadence and speed data from Garmin to find the gear combination that was used;\n",
                "2. Correct with the elevation to verify if the calcualtion is correct."
            ],
            "metadata": {
                "azdata_cell_guid": "2b887162-c5f4-44f3-a9dd-289ce476df8b"
            },
            "attachments": {}
        },
        {
            "cell_type": "code",
            "source": [
                "SELECT    chainring_cogs,\r\n",
                "          sprocket_cogs,\r\n",
                "          ratio,\r\n",
                "          cycling.public.chainrings.name AS chainring_gear,\r\n",
                "          cycling.public.sprockets.name AS sprocket_gear\r\n",
                "FROM      cycling.public.v_gear_ratios\r\n",
                "JOIN      cycling.public.chainrings ON cycling.public.chainrings.cogs = cycling.public.v_gear_ratios.chainring_cogs\r\n",
                "JOIN      cycling.public.sprockets ON cycling.public.sprockets.cogs = cycling.public.v_gear_ratios.sprocket_cogs\r\n",
                "LIMIT     1000"
            ],
            "metadata": {
                "azdata_cell_guid": "2b0a8ac0-eea8-45e1-970e-ab003dd753e9",
                "language": "sql",
                "tags": []
            },
            "outputs": [
                {
                    "output_type": "display_data",
                    "data": {
                        "text/html": "(27 row(s) affected)"
                    },
                    "metadata": {}
                },
                {
                    "output_type": "display_data",
                    "data": {
                        "text/html": "Total execution time: 00:00:00.009"
                    },
                    "metadata": {}
                },
                {
                    "output_type": "execute_result",
                    "metadata": {},
                    "execution_count": 23,
                    "data": {
                        "application/vnd.dataresource+json": {
                            "schema": {
                                "fields": [
                                    {
                                        "name": "gear_id"
                                    },
                                    {
                                        "name": "chainring_cogs"
                                    },
                                    {
                                        "name": "sprocket_cogs"
                                    },
                                    {
                                        "name": "ratio"
                                    },
                                    {
                                        "name": "chainring_gear"
                                    },
                                    {
                                        "name": "sprocket_gear"
                                    }
                                ]
                            },
                            "data": [
                                {
                                    "gear_id": "4436",
                                    "chainring_cogs": "44",
                                    "sprocket_cogs": "36",
                                    "ratio": "1.22",
                                    "chainring_gear": "third",
                                    "sprocket_gear": "first"
                                },
                                {
                                    "gear_id": "4432",
                                    "chainring_cogs": "44",
                                    "sprocket_cogs": "32",
                                    "ratio": "1.38",
                                    "chainring_gear": "third",
                                    "sprocket_gear": "second"
                                },
                                {
                                    "gear_id": "4428",
                                    "chainring_cogs": "44",
                                    "sprocket_cogs": "28",
                                    "ratio": "1.57",
                                    "chainring_gear": "third",
                                    "sprocket_gear": "third"
                                },
                                {
                                    "gear_id": "4424",
                                    "chainring_cogs": "44",
                                    "sprocket_cogs": "24",
                                    "ratio": "1.83",
                                    "chainring_gear": "third",
                                    "sprocket_gear": "fourth"
                                },
                                {
                                    "gear_id": "4421",
                                    "chainring_cogs": "44",
                                    "sprocket_cogs": "21",
                                    "ratio": "2.10",
                                    "chainring_gear": "third",
                                    "sprocket_gear": "fifth"
                                },
                                {
                                    "gear_id": "4418",
                                    "chainring_cogs": "44",
                                    "sprocket_cogs": "18",
                                    "ratio": "2.44",
                                    "chainring_gear": "third",
                                    "sprocket_gear": "sixth"
                                },
                                {
                                    "gear_id": "4415",
                                    "chainring_cogs": "44",
                                    "sprocket_cogs": "15",
                                    "ratio": "2.93",
                                    "chainring_gear": "third",
                                    "sprocket_gear": "seventh"
                                },
                                {
                                    "gear_id": "4413",
                                    "chainring_cogs": "44",
                                    "sprocket_cogs": "13",
                                    "ratio": "3.38",
                                    "chainring_gear": "third",
                                    "sprocket_gear": "eight"
                                },
                                {
                                    "gear_id": "4411",
                                    "chainring_cogs": "44",
                                    "sprocket_cogs": "11",
                                    "ratio": "4.00",
                                    "chainring_gear": "third",
                                    "sprocket_gear": "nineth"
                                },
                                {
                                    "gear_id": "3236",
                                    "chainring_cogs": "32",
                                    "sprocket_cogs": "36",
                                    "ratio": "0.89",
                                    "chainring_gear": "second",
                                    "sprocket_gear": "first"
                                },
                                {
                                    "gear_id": "3232",
                                    "chainring_cogs": "32",
                                    "sprocket_cogs": "32",
                                    "ratio": "1.00",
                                    "chainring_gear": "second",
                                    "sprocket_gear": "second"
                                },
                                {
                                    "gear_id": "3228",
                                    "chainring_cogs": "32",
                                    "sprocket_cogs": "28",
                                    "ratio": "1.14",
                                    "chainring_gear": "second",
                                    "sprocket_gear": "third"
                                },
                                {
                                    "gear_id": "3224",
                                    "chainring_cogs": "32",
                                    "sprocket_cogs": "24",
                                    "ratio": "1.33",
                                    "chainring_gear": "second",
                                    "sprocket_gear": "fourth"
                                },
                                {
                                    "gear_id": "3221",
                                    "chainring_cogs": "32",
                                    "sprocket_cogs": "21",
                                    "ratio": "1.52",
                                    "chainring_gear": "second",
                                    "sprocket_gear": "fifth"
                                },
                                {
                                    "gear_id": "3218",
                                    "chainring_cogs": "32",
                                    "sprocket_cogs": "18",
                                    "ratio": "1.78",
                                    "chainring_gear": "second",
                                    "sprocket_gear": "sixth"
                                },
                                {
                                    "gear_id": "3215",
                                    "chainring_cogs": "32",
                                    "sprocket_cogs": "15",
                                    "ratio": "2.13",
                                    "chainring_gear": "second",
                                    "sprocket_gear": "seventh"
                                },
                                {
                                    "gear_id": "3213",
                                    "chainring_cogs": "32",
                                    "sprocket_cogs": "13",
                                    "ratio": "2.46",
                                    "chainring_gear": "second",
                                    "sprocket_gear": "eight"
                                },
                                {
                                    "gear_id": "3211",
                                    "chainring_cogs": "32",
                                    "sprocket_cogs": "11",
                                    "ratio": "2.91",
                                    "chainring_gear": "second",
                                    "sprocket_gear": "nineth"
                                },
                                {
                                    "gear_id": "2236",
                                    "chainring_cogs": "22",
                                    "sprocket_cogs": "36",
                                    "ratio": "0.61",
                                    "chainring_gear": "first",
                                    "sprocket_gear": "first"
                                },
                                {
                                    "gear_id": "2232",
                                    "chainring_cogs": "22",
                                    "sprocket_cogs": "32",
                                    "ratio": "0.69",
                                    "chainring_gear": "first",
                                    "sprocket_gear": "second"
                                },
                                {
                                    "gear_id": "2228",
                                    "chainring_cogs": "22",
                                    "sprocket_cogs": "28",
                                    "ratio": "0.79",
                                    "chainring_gear": "first",
                                    "sprocket_gear": "third"
                                },
                                {
                                    "gear_id": "2224",
                                    "chainring_cogs": "22",
                                    "sprocket_cogs": "24",
                                    "ratio": "0.92",
                                    "chainring_gear": "first",
                                    "sprocket_gear": "fourth"
                                },
                                {
                                    "gear_id": "2221",
                                    "chainring_cogs": "22",
                                    "sprocket_cogs": "21",
                                    "ratio": "1.05",
                                    "chainring_gear": "first",
                                    "sprocket_gear": "fifth"
                                },
                                {
                                    "gear_id": "2218",
                                    "chainring_cogs": "22",
                                    "sprocket_cogs": "18",
                                    "ratio": "1.22",
                                    "chainring_gear": "first",
                                    "sprocket_gear": "sixth"
                                },
                                {
                                    "gear_id": "2215",
                                    "chainring_cogs": "22",
                                    "sprocket_cogs": "15",
                                    "ratio": "1.47",
                                    "chainring_gear": "first",
                                    "sprocket_gear": "seventh"
                                },
                                {
                                    "gear_id": "2213",
                                    "chainring_cogs": "22",
                                    "sprocket_cogs": "13",
                                    "ratio": "1.69",
                                    "chainring_gear": "first",
                                    "sprocket_gear": "eight"
                                },
                                {
                                    "gear_id": "2211",
                                    "chainring_cogs": "22",
                                    "sprocket_cogs": "11",
                                    "ratio": "2.00",
                                    "chainring_gear": "first",
                                    "sprocket_gear": "nineth"
                                }
                            ]
                        },
                        "text/html": [
                            "<table>",
                            "<tr><th>gear_id</th><th>chainring_cogs</th><th>sprocket_cogs</th><th>ratio</th><th>chainring_gear</th><th>sprocket_gear</th></tr>",
                            "<tr><td>4436</td><td>44</td><td>36</td><td>1.22</td><td>third</td><td>first</td></tr>",
                            "<tr><td>4432</td><td>44</td><td>32</td><td>1.38</td><td>third</td><td>second</td></tr>",
                            "<tr><td>4428</td><td>44</td><td>28</td><td>1.57</td><td>third</td><td>third</td></tr>",
                            "<tr><td>4424</td><td>44</td><td>24</td><td>1.83</td><td>third</td><td>fourth</td></tr>",
                            "<tr><td>4421</td><td>44</td><td>21</td><td>2.10</td><td>third</td><td>fifth</td></tr>",
                            "<tr><td>4418</td><td>44</td><td>18</td><td>2.44</td><td>third</td><td>sixth</td></tr>",
                            "<tr><td>4415</td><td>44</td><td>15</td><td>2.93</td><td>third</td><td>seventh</td></tr>",
                            "<tr><td>4413</td><td>44</td><td>13</td><td>3.38</td><td>third</td><td>eight</td></tr>",
                            "<tr><td>4411</td><td>44</td><td>11</td><td>4.00</td><td>third</td><td>nineth</td></tr>",
                            "<tr><td>3236</td><td>32</td><td>36</td><td>0.89</td><td>second</td><td>first</td></tr>",
                            "<tr><td>3232</td><td>32</td><td>32</td><td>1.00</td><td>second</td><td>second</td></tr>",
                            "<tr><td>3228</td><td>32</td><td>28</td><td>1.14</td><td>second</td><td>third</td></tr>",
                            "<tr><td>3224</td><td>32</td><td>24</td><td>1.33</td><td>second</td><td>fourth</td></tr>",
                            "<tr><td>3221</td><td>32</td><td>21</td><td>1.52</td><td>second</td><td>fifth</td></tr>",
                            "<tr><td>3218</td><td>32</td><td>18</td><td>1.78</td><td>second</td><td>sixth</td></tr>",
                            "<tr><td>3215</td><td>32</td><td>15</td><td>2.13</td><td>second</td><td>seventh</td></tr>",
                            "<tr><td>3213</td><td>32</td><td>13</td><td>2.46</td><td>second</td><td>eight</td></tr>",
                            "<tr><td>3211</td><td>32</td><td>11</td><td>2.91</td><td>second</td><td>nineth</td></tr>",
                            "<tr><td>2236</td><td>22</td><td>36</td><td>0.61</td><td>first</td><td>first</td></tr>",
                            "<tr><td>2232</td><td>22</td><td>32</td><td>0.69</td><td>first</td><td>second</td></tr>",
                            "<tr><td>2228</td><td>22</td><td>28</td><td>0.79</td><td>first</td><td>third</td></tr>",
                            "<tr><td>2224</td><td>22</td><td>24</td><td>0.92</td><td>first</td><td>fourth</td></tr>",
                            "<tr><td>2221</td><td>22</td><td>21</td><td>1.05</td><td>first</td><td>fifth</td></tr>",
                            "<tr><td>2218</td><td>22</td><td>18</td><td>1.22</td><td>first</td><td>sixth</td></tr>",
                            "<tr><td>2215</td><td>22</td><td>15</td><td>1.47</td><td>first</td><td>seventh</td></tr>",
                            "<tr><td>2213</td><td>22</td><td>13</td><td>1.69</td><td>first</td><td>eight</td></tr>",
                            "<tr><td>2211</td><td>22</td><td>11</td><td>2.00</td><td>first</td><td>nineth</td></tr>",
                            "</table>"
                        ]
                    }
                }
            ],
            "execution_count": 23
        },
        {
            "cell_type": "markdown",
            "source": [
                "I noticed that there is a combination that does not work as the chain bends too much. This needs to be logged and excluded in the calcualtions.\n",
                "\n",
                "The name of the gears are concatenated.\n",
                "\n",
                "The cogs are the sum of the multiplication of <span style=\"color: rgb(33, 33, 33); font-family: Consolas, &quot;Courier New&quot;, monospace; font-size: 12px; white-space: pre;\">chainrings cogs by 100 and the </span> <span style=\"color: rgb(33, 33, 33); font-family: Consolas, &quot;Courier New&quot;, monospace; font-size: 12px; white-space: pre;\">sprockets cogs.</span>"
            ],
            "metadata": {
                "language": "sql",
                "azdata_cell_guid": "08e39f5d-b11a-453a-84a9-8526cc450a47"
            },
            "attachments": {}
        },
        {
            "cell_type": "code",
            "source": [
                "DROP TABLE IF EXISTS public.impossible_combination cascade;\r\n",
                "CREATE TABLE public.impossible_combination (\r\n",
                "\tid int GENERATED BY DEFAULT AS IDENTITY,\r\n",
                "\t\"name\" varchar NULL,\r\n",
                "\t\"cogs\" numeric NULL\r\n",
                ");\r\n",
                "\r\n",
                "WITH      chainrings AS (\r\n",
                "          SELECT    \"name\",\r\n",
                "                    cogs * 100 AS cogs_multiplier\r\n",
                "          FROM      public.chainrings\r\n",
                "          WHERE     cogs = 44\r\n",
                "          ),\r\n",
                "          sprockets AS (\r\n",
                "          SELECT    \"name\",\r\n",
                "                    cogs\r\n",
                "          FROM      public.sprockets\r\n",
                "          WHERE     cogs = 36\r\n",
                "          )\r\n",
                "INSERT    INTO public.impossible_combination (\"name\", cogs)\r\n",
                "SELECT    chainrings.name || '-' || sprockets.name AS combined_names,\r\n",
                "          chainrings.cogs_multiplier +             sprockets.cogs\r\n",
                "FROM      chainrings,\r\n",
                "          sprockets;\r\n",
                "          \r\n",
                "SELECT    *\r\n",
                "FROM      public.impossible_combination;"
            ],
            "metadata": {
                "language": "sql",
                "azdata_cell_guid": "4e39255f-8400-4e6b-af9f-ee19371a6c97"
            },
            "outputs": [
                {
                    "output_type": "display_data",
                    "data": {
                        "text/html": "DROP TABLE"
                    },
                    "metadata": {}
                },
                {
                    "output_type": "display_data",
                    "data": {
                        "text/html": "CREATE TABLE"
                    },
                    "metadata": {}
                },
                {
                    "output_type": "display_data",
                    "data": {
                        "text/html": "INSERT 0 1"
                    },
                    "metadata": {}
                },
                {
                    "output_type": "display_data",
                    "data": {
                        "text/html": "(1 row(s) affected)"
                    },
                    "metadata": {}
                },
                {
                    "output_type": "display_data",
                    "data": {
                        "text/html": "Total execution time: 00:00:00.037"
                    },
                    "metadata": {}
                },
                {
                    "output_type": "execute_result",
                    "metadata": {},
                    "execution_count": 22,
                    "data": {
                        "application/vnd.dataresource+json": {
                            "schema": {
                                "fields": [
                                    {
                                        "name": "id"
                                    },
                                    {
                                        "name": "name"
                                    },
                                    {
                                        "name": "cogs"
                                    }
                                ]
                            },
                            "data": [
                                {
                                    "id": "1",
                                    "name": "third-first",
                                    "cogs": "4436"
                                }
                            ]
                        },
                        "text/html": [
                            "<table>",
                            "<tr><th>id</th><th>name</th><th>cogs</th></tr>",
                            "<tr><td>1</td><td>third-first</td><td>4436</td></tr>",
                            "</table>"
                        ]
                    }
                }
            ],
            "execution_count": 22
        },
        {
            "cell_type": "markdown",
            "source": [
                "Finally I need to add <span style=\"color: rgb(33, 33, 33); font-family: Consolas, &quot;Courier New&quot;, monospace; font-size: 12px; white-space: pre;\"><b>gear_id</b> to filter out the impossible combinations.</span>"
            ],
            "metadata": {
                "language": "sql",
                "azdata_cell_guid": "2efd6b1b-2bae-4958-955a-cf0178eae06a"
            },
            "attachments": {}
        },
        {
            "cell_type": "code",
            "source": [
                "SELECT    chainring_cogs * 100 + sprocket_cogs AS gear_id,\r\n",
                "          chainring_cogs,\r\n",
                "          sprocket_cogs,\r\n",
                "          ratio,\r\n",
                "          cycling.public.chainrings.name       AS chainring_gear,\r\n",
                "          cycling.public.sprockets.name        AS sprocket_gear\r\n",
                "FROM      cycling.public.v_gear_ratios\r\n",
                "JOIN      cycling.public.chainrings ON cycling.public.chainrings.cogs = cycling.public.v_gear_ratios.chainring_cogs\r\n",
                "JOIN      cycling.public.sprockets ON cycling.public.sprockets.cogs = cycling.public.v_gear_ratios.sprocket_cogs\r\n",
                "WHERE     (chainring_cogs * 100 + sprocket_cogs) NOT IN (\r\n",
                "          SELECT    cogs\r\n",
                "          FROM      public.impossible_combination\r\n",
                "          )\r\n",
                "LIMIT     1000"
            ],
            "metadata": {
                "language": "sql",
                "azdata_cell_guid": "a638cb65-e402-40af-a4ae-cb2ed23458ac"
            },
            "outputs": [
                {
                    "output_type": "display_data",
                    "data": {
                        "text/html": "(26 row(s) affected)"
                    },
                    "metadata": {}
                },
                {
                    "output_type": "display_data",
                    "data": {
                        "text/html": "Total execution time: 00:00:00.010"
                    },
                    "metadata": {}
                },
                {
                    "output_type": "execute_result",
                    "metadata": {},
                    "execution_count": 24,
                    "data": {
                        "application/vnd.dataresource+json": {
                            "schema": {
                                "fields": [
                                    {
                                        "name": "gear_id"
                                    },
                                    {
                                        "name": "chainring_cogs"
                                    },
                                    {
                                        "name": "sprocket_cogs"
                                    },
                                    {
                                        "name": "ratio"
                                    },
                                    {
                                        "name": "chainring_gear"
                                    },
                                    {
                                        "name": "sprocket_gear"
                                    }
                                ]
                            },
                            "data": [
                                {
                                    "gear_id": "4432",
                                    "chainring_cogs": "44",
                                    "sprocket_cogs": "32",
                                    "ratio": "1.38",
                                    "chainring_gear": "third",
                                    "sprocket_gear": "second"
                                },
                                {
                                    "gear_id": "4428",
                                    "chainring_cogs": "44",
                                    "sprocket_cogs": "28",
                                    "ratio": "1.57",
                                    "chainring_gear": "third",
                                    "sprocket_gear": "third"
                                },
                                {
                                    "gear_id": "4424",
                                    "chainring_cogs": "44",
                                    "sprocket_cogs": "24",
                                    "ratio": "1.83",
                                    "chainring_gear": "third",
                                    "sprocket_gear": "fourth"
                                },
                                {
                                    "gear_id": "4421",
                                    "chainring_cogs": "44",
                                    "sprocket_cogs": "21",
                                    "ratio": "2.10",
                                    "chainring_gear": "third",
                                    "sprocket_gear": "fifth"
                                },
                                {
                                    "gear_id": "4418",
                                    "chainring_cogs": "44",
                                    "sprocket_cogs": "18",
                                    "ratio": "2.44",
                                    "chainring_gear": "third",
                                    "sprocket_gear": "sixth"
                                },
                                {
                                    "gear_id": "4415",
                                    "chainring_cogs": "44",
                                    "sprocket_cogs": "15",
                                    "ratio": "2.93",
                                    "chainring_gear": "third",
                                    "sprocket_gear": "seventh"
                                },
                                {
                                    "gear_id": "4413",
                                    "chainring_cogs": "44",
                                    "sprocket_cogs": "13",
                                    "ratio": "3.38",
                                    "chainring_gear": "third",
                                    "sprocket_gear": "eight"
                                },
                                {
                                    "gear_id": "4411",
                                    "chainring_cogs": "44",
                                    "sprocket_cogs": "11",
                                    "ratio": "4.00",
                                    "chainring_gear": "third",
                                    "sprocket_gear": "nineth"
                                },
                                {
                                    "gear_id": "3236",
                                    "chainring_cogs": "32",
                                    "sprocket_cogs": "36",
                                    "ratio": "0.89",
                                    "chainring_gear": "second",
                                    "sprocket_gear": "first"
                                },
                                {
                                    "gear_id": "3232",
                                    "chainring_cogs": "32",
                                    "sprocket_cogs": "32",
                                    "ratio": "1.00",
                                    "chainring_gear": "second",
                                    "sprocket_gear": "second"
                                },
                                {
                                    "gear_id": "3228",
                                    "chainring_cogs": "32",
                                    "sprocket_cogs": "28",
                                    "ratio": "1.14",
                                    "chainring_gear": "second",
                                    "sprocket_gear": "third"
                                },
                                {
                                    "gear_id": "3224",
                                    "chainring_cogs": "32",
                                    "sprocket_cogs": "24",
                                    "ratio": "1.33",
                                    "chainring_gear": "second",
                                    "sprocket_gear": "fourth"
                                },
                                {
                                    "gear_id": "3221",
                                    "chainring_cogs": "32",
                                    "sprocket_cogs": "21",
                                    "ratio": "1.52",
                                    "chainring_gear": "second",
                                    "sprocket_gear": "fifth"
                                },
                                {
                                    "gear_id": "3218",
                                    "chainring_cogs": "32",
                                    "sprocket_cogs": "18",
                                    "ratio": "1.78",
                                    "chainring_gear": "second",
                                    "sprocket_gear": "sixth"
                                },
                                {
                                    "gear_id": "3215",
                                    "chainring_cogs": "32",
                                    "sprocket_cogs": "15",
                                    "ratio": "2.13",
                                    "chainring_gear": "second",
                                    "sprocket_gear": "seventh"
                                },
                                {
                                    "gear_id": "3213",
                                    "chainring_cogs": "32",
                                    "sprocket_cogs": "13",
                                    "ratio": "2.46",
                                    "chainring_gear": "second",
                                    "sprocket_gear": "eight"
                                },
                                {
                                    "gear_id": "3211",
                                    "chainring_cogs": "32",
                                    "sprocket_cogs": "11",
                                    "ratio": "2.91",
                                    "chainring_gear": "second",
                                    "sprocket_gear": "nineth"
                                },
                                {
                                    "gear_id": "2236",
                                    "chainring_cogs": "22",
                                    "sprocket_cogs": "36",
                                    "ratio": "0.61",
                                    "chainring_gear": "first",
                                    "sprocket_gear": "first"
                                },
                                {
                                    "gear_id": "2232",
                                    "chainring_cogs": "22",
                                    "sprocket_cogs": "32",
                                    "ratio": "0.69",
                                    "chainring_gear": "first",
                                    "sprocket_gear": "second"
                                },
                                {
                                    "gear_id": "2228",
                                    "chainring_cogs": "22",
                                    "sprocket_cogs": "28",
                                    "ratio": "0.79",
                                    "chainring_gear": "first",
                                    "sprocket_gear": "third"
                                },
                                {
                                    "gear_id": "2224",
                                    "chainring_cogs": "22",
                                    "sprocket_cogs": "24",
                                    "ratio": "0.92",
                                    "chainring_gear": "first",
                                    "sprocket_gear": "fourth"
                                },
                                {
                                    "gear_id": "2221",
                                    "chainring_cogs": "22",
                                    "sprocket_cogs": "21",
                                    "ratio": "1.05",
                                    "chainring_gear": "first",
                                    "sprocket_gear": "fifth"
                                },
                                {
                                    "gear_id": "2218",
                                    "chainring_cogs": "22",
                                    "sprocket_cogs": "18",
                                    "ratio": "1.22",
                                    "chainring_gear": "first",
                                    "sprocket_gear": "sixth"
                                },
                                {
                                    "gear_id": "2215",
                                    "chainring_cogs": "22",
                                    "sprocket_cogs": "15",
                                    "ratio": "1.47",
                                    "chainring_gear": "first",
                                    "sprocket_gear": "seventh"
                                },
                                {
                                    "gear_id": "2213",
                                    "chainring_cogs": "22",
                                    "sprocket_cogs": "13",
                                    "ratio": "1.69",
                                    "chainring_gear": "first",
                                    "sprocket_gear": "eight"
                                },
                                {
                                    "gear_id": "2211",
                                    "chainring_cogs": "22",
                                    "sprocket_cogs": "11",
                                    "ratio": "2.00",
                                    "chainring_gear": "first",
                                    "sprocket_gear": "nineth"
                                }
                            ]
                        },
                        "text/html": [
                            "<table>",
                            "<tr><th>gear_id</th><th>chainring_cogs</th><th>sprocket_cogs</th><th>ratio</th><th>chainring_gear</th><th>sprocket_gear</th></tr>",
                            "<tr><td>4432</td><td>44</td><td>32</td><td>1.38</td><td>third</td><td>second</td></tr>",
                            "<tr><td>4428</td><td>44</td><td>28</td><td>1.57</td><td>third</td><td>third</td></tr>",
                            "<tr><td>4424</td><td>44</td><td>24</td><td>1.83</td><td>third</td><td>fourth</td></tr>",
                            "<tr><td>4421</td><td>44</td><td>21</td><td>2.10</td><td>third</td><td>fifth</td></tr>",
                            "<tr><td>4418</td><td>44</td><td>18</td><td>2.44</td><td>third</td><td>sixth</td></tr>",
                            "<tr><td>4415</td><td>44</td><td>15</td><td>2.93</td><td>third</td><td>seventh</td></tr>",
                            "<tr><td>4413</td><td>44</td><td>13</td><td>3.38</td><td>third</td><td>eight</td></tr>",
                            "<tr><td>4411</td><td>44</td><td>11</td><td>4.00</td><td>third</td><td>nineth</td></tr>",
                            "<tr><td>3236</td><td>32</td><td>36</td><td>0.89</td><td>second</td><td>first</td></tr>",
                            "<tr><td>3232</td><td>32</td><td>32</td><td>1.00</td><td>second</td><td>second</td></tr>",
                            "<tr><td>3228</td><td>32</td><td>28</td><td>1.14</td><td>second</td><td>third</td></tr>",
                            "<tr><td>3224</td><td>32</td><td>24</td><td>1.33</td><td>second</td><td>fourth</td></tr>",
                            "<tr><td>3221</td><td>32</td><td>21</td><td>1.52</td><td>second</td><td>fifth</td></tr>",
                            "<tr><td>3218</td><td>32</td><td>18</td><td>1.78</td><td>second</td><td>sixth</td></tr>",
                            "<tr><td>3215</td><td>32</td><td>15</td><td>2.13</td><td>second</td><td>seventh</td></tr>",
                            "<tr><td>3213</td><td>32</td><td>13</td><td>2.46</td><td>second</td><td>eight</td></tr>",
                            "<tr><td>3211</td><td>32</td><td>11</td><td>2.91</td><td>second</td><td>nineth</td></tr>",
                            "<tr><td>2236</td><td>22</td><td>36</td><td>0.61</td><td>first</td><td>first</td></tr>",
                            "<tr><td>2232</td><td>22</td><td>32</td><td>0.69</td><td>first</td><td>second</td></tr>",
                            "<tr><td>2228</td><td>22</td><td>28</td><td>0.79</td><td>first</td><td>third</td></tr>",
                            "<tr><td>2224</td><td>22</td><td>24</td><td>0.92</td><td>first</td><td>fourth</td></tr>",
                            "<tr><td>2221</td><td>22</td><td>21</td><td>1.05</td><td>first</td><td>fifth</td></tr>",
                            "<tr><td>2218</td><td>22</td><td>18</td><td>1.22</td><td>first</td><td>sixth</td></tr>",
                            "<tr><td>2215</td><td>22</td><td>15</td><td>1.47</td><td>first</td><td>seventh</td></tr>",
                            "<tr><td>2213</td><td>22</td><td>13</td><td>1.69</td><td>first</td><td>eight</td></tr>",
                            "<tr><td>2211</td><td>22</td><td>11</td><td>2.00</td><td>first</td><td>nineth</td></tr>",
                            "</table>"
                        ]
                    }
                }
            ],
            "execution_count": 24
        },
        {
            "cell_type": "markdown",
            "source": [
                "To find the top gear find the combination of the **<span style=\"color: rgb(33, 33, 33); font-family: Consolas, &quot;Courier New&quot;, monospace; font-size: 12px; white-space: pre;\">chainring</span>**  <span style=\"color: var(--vscode-foreground);\">with most cogs and with&nbsp;</span>   <span style=\"color: rgb(33, 33, 33); font-family: Consolas, &quot;Courier New&quot;, monospace; font-size: 12px; white-space: pre;\"><b>sprocket </b></span> <span style=\"color: var(--vscode-foreground);\">least cogs.</span>\n",
                "\n",
                "<span style=\"color: var(--vscode-foreground);\">Or the combination that gives the <b>highest </b>ratio.</span>"
            ],
            "metadata": {
                "language": "sql",
                "azdata_cell_guid": "cb29c92f-a2ba-4f72-9eb8-097852426d8a"
            },
            "attachments": {}
        },
        {
            "cell_type": "code",
            "source": [
                "SELECT    chainring_cogs,\r\n",
                "          sprocket_cogs,\r\n",
                "          ratio\r\n",
                "FROM      cycling.public.v_gear_ratios\r\n",
                "WHERE     chainring_cogs = (\r\n",
                "          SELECT    MAX(chainring_cogs)\r\n",
                "          FROM      cycling.public.v_gear_ratios\r\n",
                "          )\r\n",
                "AND       sprocket_cogs = (\r\n",
                "          SELECT    MIN(sprocket_cogs)\r\n",
                "          FROM      cycling.public.v_gear_ratios\r\n",
                "          )\r\n",
                "LIMIT     1000"
            ],
            "metadata": {
                "language": "sql",
                "azdata_cell_guid": "8f45c443-5ad8-48d9-b962-05d8ff04d682"
            },
            "outputs": [
                {
                    "output_type": "display_data",
                    "data": {
                        "text/html": "(1 row(s) affected)"
                    },
                    "metadata": {}
                },
                {
                    "output_type": "display_data",
                    "data": {
                        "text/html": "Total execution time: 00:00:01.348"
                    },
                    "metadata": {}
                },
                {
                    "output_type": "execute_result",
                    "metadata": {},
                    "execution_count": 8,
                    "data": {
                        "application/vnd.dataresource+json": {
                            "schema": {
                                "fields": [
                                    {
                                        "name": "chainring_cogs"
                                    },
                                    {
                                        "name": "sprocket_cogs"
                                    },
                                    {
                                        "name": "ratio"
                                    }
                                ]
                            },
                            "data": [
                                {
                                    "chainring_cogs": "44",
                                    "sprocket_cogs": "11",
                                    "ratio": "4.00"
                                }
                            ]
                        },
                        "text/html": [
                            "<table>",
                            "<tr><th>chainring_cogs</th><th>sprocket_cogs</th><th>ratio</th></tr>",
                            "<tr><td>44</td><td>11</td><td>4.00</td></tr>",
                            "</table>"
                        ]
                    }
                }
            ],
            "execution_count": 8
        },
        {
            "cell_type": "markdown",
            "source": [
                "To find the bottom gear find the combination of the **chainring** with least cogs and with **sprocket** mosth cogs.\n",
                "\n",
                "Or the combination that gives the **lowest** ratio."
            ],
            "metadata": {
                "language": "",
                "azdata_cell_guid": "827da9e2-e0c9-4fd6-9400-e0527f465ca3"
            },
            "attachments": {}
        },
        {
            "cell_type": "code",
            "source": [
                "SELECT    chainring_cogs,\r\n",
                "          sprocket_cogs,\r\n",
                "          ratio\r\n",
                "FROM      cycling.public.v_gear_ratios\r\n",
                "WHERE     chainring_cogs = (\r\n",
                "          SELECT    MIN(chainring_cogs)\r\n",
                "          FROM      cycling.public.v_gear_ratios\r\n",
                "          )\r\n",
                "AND       sprocket_cogs = (\r\n",
                "          SELECT    MAX(sprocket_cogs)\r\n",
                "          FROM      cycling.public.v_gear_ratios\r\n",
                "          )\r\n",
                "LIMIT     1000"
            ],
            "metadata": {
                "language": "sql",
                "azdata_cell_guid": "48847092-1488-4562-91f4-38fdebb78e69"
            },
            "outputs": [
                {
                    "output_type": "display_data",
                    "data": {
                        "text/html": "(1 row(s) affected)"
                    },
                    "metadata": {}
                },
                {
                    "output_type": "display_data",
                    "data": {
                        "text/html": "Total execution time: 00:00:01.346"
                    },
                    "metadata": {}
                },
                {
                    "output_type": "execute_result",
                    "metadata": {},
                    "execution_count": 12,
                    "data": {
                        "application/vnd.dataresource+json": {
                            "schema": {
                                "fields": [
                                    {
                                        "name": "chainring_cogs"
                                    },
                                    {
                                        "name": "sprocket_cogs"
                                    },
                                    {
                                        "name": "ratio"
                                    }
                                ]
                            },
                            "data": [
                                {
                                    "chainring_cogs": "22",
                                    "sprocket_cogs": "36",
                                    "ratio": "0.61"
                                }
                            ]
                        },
                        "text/html": [
                            "<table>",
                            "<tr><th>chainring_cogs</th><th>sprocket_cogs</th><th>ratio</th></tr>",
                            "<tr><td>22</td><td>36</td><td>0.61</td></tr>",
                            "</table>"
                        ]
                    }
                }
            ],
            "execution_count": 12
        },
        {
            "cell_type": "markdown",
            "source": [
                "Now I need to filter out the impossible gear combinations.\n",
                "\n",
                "I have the distance per one revolution (cadence 1).\n",
                "\n",
                "With this I can multiply the <span style=\"color: rgb(33, 33, 33); font-family: Consolas, &quot;Courier New&quot;, monospace; font-size: 12px; white-space: pre;\"><b>distance_per_revolution</b> or </span> <span style=\"color: rgb(33, 33, 33); font-family: Consolas, &quot;Courier New&quot;, monospace; font-size: 12px; white-space: pre;\"><b>distance_per_revolution_cm </b></span> <span style=\"color: var(--vscode-foreground);\">by the cadence from the Garmin sensor and I will get the distance in in/cm per minute.</span>\n",
                "\n",
                "<span style=\"color: var(--vscode-foreground);\">A few more calculations are required to get the result in km/h.</span>"
            ],
            "metadata": {
                "language": "sql",
                "azdata_cell_guid": "df1a71f2-2e68-4047-ad48-a17898f50d09"
            },
            "attachments": {}
        },
        {
            "cell_type": "code",
            "source": [
                "SELECT    diameter,\r\n",
                "          chainring_cogs * 100 + sprocket_cogs AS gear_id,\r\n",
                "          ratio,\r\n",
                "          chainring_cogs,\r\n",
                "          sprocket_cogs,\r\n",
                "          gear_inches,\r\n",
                "          distance_per_revolution,\r\n",
                "          distance_per_revolution_cm\r\n",
                "FROM      public.v_distance_per_revolution\r\n",
                "WHERE     (chainring_cogs * 100 + sprocket_cogs) NOT IN (\r\n",
                "          SELECT    cogs\r\n",
                "          FROM      public.impossible_combination\r\n",
                "          )\r\n",
                "LIMIT     1000"
            ],
            "metadata": {
                "language": "sql",
                "azdata_cell_guid": "8914d96f-f47a-46fd-bbd0-2fa1358416c0"
            },
            "outputs": [
                {
                    "output_type": "display_data",
                    "data": {
                        "text/html": "(26 row(s) affected)"
                    },
                    "metadata": {}
                },
                {
                    "output_type": "display_data",
                    "data": {
                        "text/html": "Total execution time: 00:00:00.009"
                    },
                    "metadata": {}
                },
                {
                    "output_type": "execute_result",
                    "metadata": {},
                    "execution_count": 28,
                    "data": {
                        "application/vnd.dataresource+json": {
                            "schema": {
                                "fields": [
                                    {
                                        "name": "diameter"
                                    },
                                    {
                                        "name": "gear_id"
                                    },
                                    {
                                        "name": "ratio"
                                    },
                                    {
                                        "name": "chainring_cogs"
                                    },
                                    {
                                        "name": "sprocket_cogs"
                                    },
                                    {
                                        "name": "gear_inches"
                                    },
                                    {
                                        "name": "distance_per_revolution"
                                    },
                                    {
                                        "name": "distance_per_revolution_cm"
                                    }
                                ]
                            },
                            "data": [
                                {
                                    "diameter": "27.5",
                                    "gear_id": "4432",
                                    "ratio": "1.38",
                                    "chainring_cogs": "44",
                                    "sprocket_cogs": "32",
                                    "gear_inches": "37.950",
                                    "distance_per_revolution": "119.16300",
                                    "distance_per_revolution_cm": "302.67"
                                },
                                {
                                    "diameter": "27.5",
                                    "gear_id": "4428",
                                    "ratio": "1.57",
                                    "chainring_cogs": "44",
                                    "sprocket_cogs": "28",
                                    "gear_inches": "43.175",
                                    "distance_per_revolution": "135.56950",
                                    "distance_per_revolution_cm": "344.35"
                                },
                                {
                                    "diameter": "27.5",
                                    "gear_id": "4424",
                                    "ratio": "1.83",
                                    "chainring_cogs": "44",
                                    "sprocket_cogs": "24",
                                    "gear_inches": "50.325",
                                    "distance_per_revolution": "158.02050",
                                    "distance_per_revolution_cm": "401.37"
                                },
                                {
                                    "diameter": "27.5",
                                    "gear_id": "4421",
                                    "ratio": "2.10",
                                    "chainring_cogs": "44",
                                    "sprocket_cogs": "21",
                                    "gear_inches": "57.750",
                                    "distance_per_revolution": "181.33500",
                                    "distance_per_revolution_cm": "460.59"
                                },
                                {
                                    "diameter": "27.5",
                                    "gear_id": "4418",
                                    "ratio": "2.44",
                                    "chainring_cogs": "44",
                                    "sprocket_cogs": "18",
                                    "gear_inches": "67.100",
                                    "distance_per_revolution": "210.69400",
                                    "distance_per_revolution_cm": "535.16"
                                },
                                {
                                    "diameter": "27.5",
                                    "gear_id": "4415",
                                    "ratio": "2.93",
                                    "chainring_cogs": "44",
                                    "sprocket_cogs": "15",
                                    "gear_inches": "80.575",
                                    "distance_per_revolution": "253.00550",
                                    "distance_per_revolution_cm": "642.63"
                                },
                                {
                                    "diameter": "27.5",
                                    "gear_id": "4413",
                                    "ratio": "3.38",
                                    "chainring_cogs": "44",
                                    "sprocket_cogs": "13",
                                    "gear_inches": "92.950",
                                    "distance_per_revolution": "291.86300",
                                    "distance_per_revolution_cm": "741.33"
                                },
                                {
                                    "diameter": "27.5",
                                    "gear_id": "4411",
                                    "ratio": "4.00",
                                    "chainring_cogs": "44",
                                    "sprocket_cogs": "11",
                                    "gear_inches": "110.000",
                                    "distance_per_revolution": "345.40000",
                                    "distance_per_revolution_cm": "877.32"
                                },
                                {
                                    "diameter": "27.5",
                                    "gear_id": "3236",
                                    "ratio": "0.89",
                                    "chainring_cogs": "32",
                                    "sprocket_cogs": "36",
                                    "gear_inches": "24.475",
                                    "distance_per_revolution": "76.85150",
                                    "distance_per_revolution_cm": "195.20"
                                },
                                {
                                    "diameter": "27.5",
                                    "gear_id": "3232",
                                    "ratio": "1.00",
                                    "chainring_cogs": "32",
                                    "sprocket_cogs": "32",
                                    "gear_inches": "27.500",
                                    "distance_per_revolution": "86.35000",
                                    "distance_per_revolution_cm": "219.33"
                                },
                                {
                                    "diameter": "27.5",
                                    "gear_id": "3228",
                                    "ratio": "1.14",
                                    "chainring_cogs": "32",
                                    "sprocket_cogs": "28",
                                    "gear_inches": "31.350",
                                    "distance_per_revolution": "98.43900",
                                    "distance_per_revolution_cm": "250.04"
                                },
                                {
                                    "diameter": "27.5",
                                    "gear_id": "3224",
                                    "ratio": "1.33",
                                    "chainring_cogs": "32",
                                    "sprocket_cogs": "24",
                                    "gear_inches": "36.575",
                                    "distance_per_revolution": "114.84550",
                                    "distance_per_revolution_cm": "291.71"
                                },
                                {
                                    "diameter": "27.5",
                                    "gear_id": "3221",
                                    "ratio": "1.52",
                                    "chainring_cogs": "32",
                                    "sprocket_cogs": "21",
                                    "gear_inches": "41.800",
                                    "distance_per_revolution": "131.25200",
                                    "distance_per_revolution_cm": "333.38"
                                },
                                {
                                    "diameter": "27.5",
                                    "gear_id": "3218",
                                    "ratio": "1.78",
                                    "chainring_cogs": "32",
                                    "sprocket_cogs": "18",
                                    "gear_inches": "48.950",
                                    "distance_per_revolution": "153.70300",
                                    "distance_per_revolution_cm": "390.41"
                                },
                                {
                                    "diameter": "27.5",
                                    "gear_id": "3215",
                                    "ratio": "2.13",
                                    "chainring_cogs": "32",
                                    "sprocket_cogs": "15",
                                    "gear_inches": "58.575",
                                    "distance_per_revolution": "183.92550",
                                    "distance_per_revolution_cm": "467.17"
                                },
                                {
                                    "diameter": "27.5",
                                    "gear_id": "3213",
                                    "ratio": "2.46",
                                    "chainring_cogs": "32",
                                    "sprocket_cogs": "13",
                                    "gear_inches": "67.650",
                                    "distance_per_revolution": "212.42100",
                                    "distance_per_revolution_cm": "539.55"
                                },
                                {
                                    "diameter": "27.5",
                                    "gear_id": "3211",
                                    "ratio": "2.91",
                                    "chainring_cogs": "32",
                                    "sprocket_cogs": "11",
                                    "gear_inches": "80.025",
                                    "distance_per_revolution": "251.27850",
                                    "distance_per_revolution_cm": "638.25"
                                },
                                {
                                    "diameter": "27.5",
                                    "gear_id": "2236",
                                    "ratio": "0.61",
                                    "chainring_cogs": "22",
                                    "sprocket_cogs": "36",
                                    "gear_inches": "16.775",
                                    "distance_per_revolution": "52.67350",
                                    "distance_per_revolution_cm": "133.79"
                                },
                                {
                                    "diameter": "27.5",
                                    "gear_id": "2232",
                                    "ratio": "0.69",
                                    "chainring_cogs": "22",
                                    "sprocket_cogs": "32",
                                    "gear_inches": "18.975",
                                    "distance_per_revolution": "59.58150",
                                    "distance_per_revolution_cm": "151.34"
                                },
                                {
                                    "diameter": "27.5",
                                    "gear_id": "2228",
                                    "ratio": "0.79",
                                    "chainring_cogs": "22",
                                    "sprocket_cogs": "28",
                                    "gear_inches": "21.725",
                                    "distance_per_revolution": "68.21650",
                                    "distance_per_revolution_cm": "173.27"
                                },
                                {
                                    "diameter": "27.5",
                                    "gear_id": "2224",
                                    "ratio": "0.92",
                                    "chainring_cogs": "22",
                                    "sprocket_cogs": "24",
                                    "gear_inches": "25.300",
                                    "distance_per_revolution": "79.44200",
                                    "distance_per_revolution_cm": "201.78"
                                },
                                {
                                    "diameter": "27.5",
                                    "gear_id": "2221",
                                    "ratio": "1.05",
                                    "chainring_cogs": "22",
                                    "sprocket_cogs": "21",
                                    "gear_inches": "28.875",
                                    "distance_per_revolution": "90.66750",
                                    "distance_per_revolution_cm": "230.30"
                                },
                                {
                                    "diameter": "27.5",
                                    "gear_id": "2218",
                                    "ratio": "1.22",
                                    "chainring_cogs": "22",
                                    "sprocket_cogs": "18",
                                    "gear_inches": "33.550",
                                    "distance_per_revolution": "105.34700",
                                    "distance_per_revolution_cm": "267.58"
                                },
                                {
                                    "diameter": "27.5",
                                    "gear_id": "2215",
                                    "ratio": "1.47",
                                    "chainring_cogs": "22",
                                    "sprocket_cogs": "15",
                                    "gear_inches": "40.425",
                                    "distance_per_revolution": "126.93450",
                                    "distance_per_revolution_cm": "322.41"
                                },
                                {
                                    "diameter": "27.5",
                                    "gear_id": "2213",
                                    "ratio": "1.69",
                                    "chainring_cogs": "22",
                                    "sprocket_cogs": "13",
                                    "gear_inches": "46.475",
                                    "distance_per_revolution": "145.93150",
                                    "distance_per_revolution_cm": "370.67"
                                },
                                {
                                    "diameter": "27.5",
                                    "gear_id": "2211",
                                    "ratio": "2.00",
                                    "chainring_cogs": "22",
                                    "sprocket_cogs": "11",
                                    "gear_inches": "55.000",
                                    "distance_per_revolution": "172.70000",
                                    "distance_per_revolution_cm": "438.66"
                                }
                            ]
                        },
                        "text/html": [
                            "<table>",
                            "<tr><th>diameter</th><th>gear_id</th><th>ratio</th><th>chainring_cogs</th><th>sprocket_cogs</th><th>gear_inches</th><th>distance_per_revolution</th><th>distance_per_revolution_cm</th></tr>",
                            "<tr><td>27.5</td><td>4432</td><td>1.38</td><td>44</td><td>32</td><td>37.950</td><td>119.16300</td><td>302.67</td></tr>",
                            "<tr><td>27.5</td><td>4428</td><td>1.57</td><td>44</td><td>28</td><td>43.175</td><td>135.56950</td><td>344.35</td></tr>",
                            "<tr><td>27.5</td><td>4424</td><td>1.83</td><td>44</td><td>24</td><td>50.325</td><td>158.02050</td><td>401.37</td></tr>",
                            "<tr><td>27.5</td><td>4421</td><td>2.10</td><td>44</td><td>21</td><td>57.750</td><td>181.33500</td><td>460.59</td></tr>",
                            "<tr><td>27.5</td><td>4418</td><td>2.44</td><td>44</td><td>18</td><td>67.100</td><td>210.69400</td><td>535.16</td></tr>",
                            "<tr><td>27.5</td><td>4415</td><td>2.93</td><td>44</td><td>15</td><td>80.575</td><td>253.00550</td><td>642.63</td></tr>",
                            "<tr><td>27.5</td><td>4413</td><td>3.38</td><td>44</td><td>13</td><td>92.950</td><td>291.86300</td><td>741.33</td></tr>",
                            "<tr><td>27.5</td><td>4411</td><td>4.00</td><td>44</td><td>11</td><td>110.000</td><td>345.40000</td><td>877.32</td></tr>",
                            "<tr><td>27.5</td><td>3236</td><td>0.89</td><td>32</td><td>36</td><td>24.475</td><td>76.85150</td><td>195.20</td></tr>",
                            "<tr><td>27.5</td><td>3232</td><td>1.00</td><td>32</td><td>32</td><td>27.500</td><td>86.35000</td><td>219.33</td></tr>",
                            "<tr><td>27.5</td><td>3228</td><td>1.14</td><td>32</td><td>28</td><td>31.350</td><td>98.43900</td><td>250.04</td></tr>",
                            "<tr><td>27.5</td><td>3224</td><td>1.33</td><td>32</td><td>24</td><td>36.575</td><td>114.84550</td><td>291.71</td></tr>",
                            "<tr><td>27.5</td><td>3221</td><td>1.52</td><td>32</td><td>21</td><td>41.800</td><td>131.25200</td><td>333.38</td></tr>",
                            "<tr><td>27.5</td><td>3218</td><td>1.78</td><td>32</td><td>18</td><td>48.950</td><td>153.70300</td><td>390.41</td></tr>",
                            "<tr><td>27.5</td><td>3215</td><td>2.13</td><td>32</td><td>15</td><td>58.575</td><td>183.92550</td><td>467.17</td></tr>",
                            "<tr><td>27.5</td><td>3213</td><td>2.46</td><td>32</td><td>13</td><td>67.650</td><td>212.42100</td><td>539.55</td></tr>",
                            "<tr><td>27.5</td><td>3211</td><td>2.91</td><td>32</td><td>11</td><td>80.025</td><td>251.27850</td><td>638.25</td></tr>",
                            "<tr><td>27.5</td><td>2236</td><td>0.61</td><td>22</td><td>36</td><td>16.775</td><td>52.67350</td><td>133.79</td></tr>",
                            "<tr><td>27.5</td><td>2232</td><td>0.69</td><td>22</td><td>32</td><td>18.975</td><td>59.58150</td><td>151.34</td></tr>",
                            "<tr><td>27.5</td><td>2228</td><td>0.79</td><td>22</td><td>28</td><td>21.725</td><td>68.21650</td><td>173.27</td></tr>",
                            "<tr><td>27.5</td><td>2224</td><td>0.92</td><td>22</td><td>24</td><td>25.300</td><td>79.44200</td><td>201.78</td></tr>",
                            "<tr><td>27.5</td><td>2221</td><td>1.05</td><td>22</td><td>21</td><td>28.875</td><td>90.66750</td><td>230.30</td></tr>",
                            "<tr><td>27.5</td><td>2218</td><td>1.22</td><td>22</td><td>18</td><td>33.550</td><td>105.34700</td><td>267.58</td></tr>",
                            "<tr><td>27.5</td><td>2215</td><td>1.47</td><td>22</td><td>15</td><td>40.425</td><td>126.93450</td><td>322.41</td></tr>",
                            "<tr><td>27.5</td><td>2213</td><td>1.69</td><td>22</td><td>13</td><td>46.475</td><td>145.93150</td><td>370.67</td></tr>",
                            "<tr><td>27.5</td><td>2211</td><td>2.00</td><td>22</td><td>11</td><td>55.000</td><td>172.70000</td><td>438.66</td></tr>",
                            "</table>"
                        ]
                    }
                }
            ],
            "execution_count": 28
        },
        {
            "cell_type": "markdown",
            "source": [
                "Assume cadence is 1 (per minute), then the distance per hour wil be:"
            ],
            "metadata": {
                "language": "sql",
                "azdata_cell_guid": "d5563b50-beb0-44f7-b65a-dcae66179a86"
            },
            "attachments": {}
        },
        {
            "cell_type": "code",
            "source": [
                "SELECT    diameter,\r\n",
                "          chainring_cogs * 100 + sprocket_cogs AS gear_id,\r\n",
                "          ratio,\r\n",
                "          chainring_cogs,\r\n",
                "          sprocket_cogs,\r\n",
                "          gear_inches,\r\n",
                "          distance_per_revolution as distance_per_revolution_in,\r\n",
                "          distance_per_revolution_cm,\r\n",
                "          round(distance_per_revolution / 633.60 * 60 /*cadence*/,2) as distance_mph,\r\n",
                "          round(distance_per_revolution_cm / 1000 * 60 /*cadence*/,2) as distance_kmh\r\n",
                "FROM      public.v_distance_per_revolution\r\n",
                "WHERE     (chainring_cogs * 100 + sprocket_cogs) NOT IN (\r\n",
                "          SELECT    cogs\r\n",
                "          FROM      public.impossible_combination\r\n",
                "          )\r\n",
                "LIMIT     1000"
            ],
            "metadata": {
                "language": "sql",
                "azdata_cell_guid": "87cca4ff-f873-40db-871b-ce49d4e0adea"
            },
            "outputs": [
                {
                    "output_type": "display_data",
                    "data": {
                        "text/html": "(26 row(s) affected)"
                    },
                    "metadata": {}
                },
                {
                    "output_type": "display_data",
                    "data": {
                        "text/html": "Total execution time: 00:00:00.009"
                    },
                    "metadata": {}
                },
                {
                    "output_type": "execute_result",
                    "metadata": {},
                    "execution_count": 62,
                    "data": {
                        "application/vnd.dataresource+json": {
                            "schema": {
                                "fields": [
                                    {
                                        "name": "diameter"
                                    },
                                    {
                                        "name": "gear_id"
                                    },
                                    {
                                        "name": "ratio"
                                    },
                                    {
                                        "name": "chainring_cogs"
                                    },
                                    {
                                        "name": "sprocket_cogs"
                                    },
                                    {
                                        "name": "gear_inches"
                                    },
                                    {
                                        "name": "distance_per_revolution_in"
                                    },
                                    {
                                        "name": "distance_per_revolution_cm"
                                    },
                                    {
                                        "name": "distance_mph"
                                    },
                                    {
                                        "name": "distance_kmh"
                                    }
                                ]
                            },
                            "data": [
                                {
                                    "diameter": "27.5",
                                    "gear_id": "4432",
                                    "ratio": "1.38",
                                    "chainring_cogs": "44",
                                    "sprocket_cogs": "32",
                                    "gear_inches": "37.950",
                                    "distance_per_revolution_in": "119.16300",
                                    "distance_per_revolution_cm": "302.67",
                                    "distance_mph": "11.28",
                                    "distance_kmh": "18.16"
                                },
                                {
                                    "diameter": "27.5",
                                    "gear_id": "4428",
                                    "ratio": "1.57",
                                    "chainring_cogs": "44",
                                    "sprocket_cogs": "28",
                                    "gear_inches": "43.175",
                                    "distance_per_revolution_in": "135.56950",
                                    "distance_per_revolution_cm": "344.35",
                                    "distance_mph": "12.84",
                                    "distance_kmh": "20.66"
                                },
                                {
                                    "diameter": "27.5",
                                    "gear_id": "4424",
                                    "ratio": "1.83",
                                    "chainring_cogs": "44",
                                    "sprocket_cogs": "24",
                                    "gear_inches": "50.325",
                                    "distance_per_revolution_in": "158.02050",
                                    "distance_per_revolution_cm": "401.37",
                                    "distance_mph": "14.96",
                                    "distance_kmh": "24.08"
                                },
                                {
                                    "diameter": "27.5",
                                    "gear_id": "4421",
                                    "ratio": "2.10",
                                    "chainring_cogs": "44",
                                    "sprocket_cogs": "21",
                                    "gear_inches": "57.750",
                                    "distance_per_revolution_in": "181.33500",
                                    "distance_per_revolution_cm": "460.59",
                                    "distance_mph": "17.17",
                                    "distance_kmh": "27.64"
                                },
                                {
                                    "diameter": "27.5",
                                    "gear_id": "4418",
                                    "ratio": "2.44",
                                    "chainring_cogs": "44",
                                    "sprocket_cogs": "18",
                                    "gear_inches": "67.100",
                                    "distance_per_revolution_in": "210.69400",
                                    "distance_per_revolution_cm": "535.16",
                                    "distance_mph": "19.95",
                                    "distance_kmh": "32.11"
                                },
                                {
                                    "diameter": "27.5",
                                    "gear_id": "4415",
                                    "ratio": "2.93",
                                    "chainring_cogs": "44",
                                    "sprocket_cogs": "15",
                                    "gear_inches": "80.575",
                                    "distance_per_revolution_in": "253.00550",
                                    "distance_per_revolution_cm": "642.63",
                                    "distance_mph": "23.96",
                                    "distance_kmh": "38.56"
                                },
                                {
                                    "diameter": "27.5",
                                    "gear_id": "4413",
                                    "ratio": "3.38",
                                    "chainring_cogs": "44",
                                    "sprocket_cogs": "13",
                                    "gear_inches": "92.950",
                                    "distance_per_revolution_in": "291.86300",
                                    "distance_per_revolution_cm": "741.33",
                                    "distance_mph": "27.64",
                                    "distance_kmh": "44.48"
                                },
                                {
                                    "diameter": "27.5",
                                    "gear_id": "4411",
                                    "ratio": "4.00",
                                    "chainring_cogs": "44",
                                    "sprocket_cogs": "11",
                                    "gear_inches": "110.000",
                                    "distance_per_revolution_in": "345.40000",
                                    "distance_per_revolution_cm": "877.32",
                                    "distance_mph": "32.71",
                                    "distance_kmh": "52.64"
                                },
                                {
                                    "diameter": "27.5",
                                    "gear_id": "3236",
                                    "ratio": "0.89",
                                    "chainring_cogs": "32",
                                    "sprocket_cogs": "36",
                                    "gear_inches": "24.475",
                                    "distance_per_revolution_in": "76.85150",
                                    "distance_per_revolution_cm": "195.20",
                                    "distance_mph": "7.28",
                                    "distance_kmh": "11.71"
                                },
                                {
                                    "diameter": "27.5",
                                    "gear_id": "3232",
                                    "ratio": "1.00",
                                    "chainring_cogs": "32",
                                    "sprocket_cogs": "32",
                                    "gear_inches": "27.500",
                                    "distance_per_revolution_in": "86.35000",
                                    "distance_per_revolution_cm": "219.33",
                                    "distance_mph": "8.18",
                                    "distance_kmh": "13.16"
                                },
                                {
                                    "diameter": "27.5",
                                    "gear_id": "3228",
                                    "ratio": "1.14",
                                    "chainring_cogs": "32",
                                    "sprocket_cogs": "28",
                                    "gear_inches": "31.350",
                                    "distance_per_revolution_in": "98.43900",
                                    "distance_per_revolution_cm": "250.04",
                                    "distance_mph": "9.32",
                                    "distance_kmh": "15.00"
                                },
                                {
                                    "diameter": "27.5",
                                    "gear_id": "3224",
                                    "ratio": "1.33",
                                    "chainring_cogs": "32",
                                    "sprocket_cogs": "24",
                                    "gear_inches": "36.575",
                                    "distance_per_revolution_in": "114.84550",
                                    "distance_per_revolution_cm": "291.71",
                                    "distance_mph": "10.88",
                                    "distance_kmh": "17.50"
                                },
                                {
                                    "diameter": "27.5",
                                    "gear_id": "3221",
                                    "ratio": "1.52",
                                    "chainring_cogs": "32",
                                    "sprocket_cogs": "21",
                                    "gear_inches": "41.800",
                                    "distance_per_revolution_in": "131.25200",
                                    "distance_per_revolution_cm": "333.38",
                                    "distance_mph": "12.43",
                                    "distance_kmh": "20.00"
                                },
                                {
                                    "diameter": "27.5",
                                    "gear_id": "3218",
                                    "ratio": "1.78",
                                    "chainring_cogs": "32",
                                    "sprocket_cogs": "18",
                                    "gear_inches": "48.950",
                                    "distance_per_revolution_in": "153.70300",
                                    "distance_per_revolution_cm": "390.41",
                                    "distance_mph": "14.56",
                                    "distance_kmh": "23.42"
                                },
                                {
                                    "diameter": "27.5",
                                    "gear_id": "3215",
                                    "ratio": "2.13",
                                    "chainring_cogs": "32",
                                    "sprocket_cogs": "15",
                                    "gear_inches": "58.575",
                                    "distance_per_revolution_in": "183.92550",
                                    "distance_per_revolution_cm": "467.17",
                                    "distance_mph": "17.42",
                                    "distance_kmh": "28.03"
                                },
                                {
                                    "diameter": "27.5",
                                    "gear_id": "3213",
                                    "ratio": "2.46",
                                    "chainring_cogs": "32",
                                    "sprocket_cogs": "13",
                                    "gear_inches": "67.650",
                                    "distance_per_revolution_in": "212.42100",
                                    "distance_per_revolution_cm": "539.55",
                                    "distance_mph": "20.12",
                                    "distance_kmh": "32.37"
                                },
                                {
                                    "diameter": "27.5",
                                    "gear_id": "3211",
                                    "ratio": "2.91",
                                    "chainring_cogs": "32",
                                    "sprocket_cogs": "11",
                                    "gear_inches": "80.025",
                                    "distance_per_revolution_in": "251.27850",
                                    "distance_per_revolution_cm": "638.25",
                                    "distance_mph": "23.80",
                                    "distance_kmh": "38.30"
                                },
                                {
                                    "diameter": "27.5",
                                    "gear_id": "2236",
                                    "ratio": "0.61",
                                    "chainring_cogs": "22",
                                    "sprocket_cogs": "36",
                                    "gear_inches": "16.775",
                                    "distance_per_revolution_in": "52.67350",
                                    "distance_per_revolution_cm": "133.79",
                                    "distance_mph": "4.99",
                                    "distance_kmh": "8.03"
                                },
                                {
                                    "diameter": "27.5",
                                    "gear_id": "2232",
                                    "ratio": "0.69",
                                    "chainring_cogs": "22",
                                    "sprocket_cogs": "32",
                                    "gear_inches": "18.975",
                                    "distance_per_revolution_in": "59.58150",
                                    "distance_per_revolution_cm": "151.34",
                                    "distance_mph": "5.64",
                                    "distance_kmh": "9.08"
                                },
                                {
                                    "diameter": "27.5",
                                    "gear_id": "2228",
                                    "ratio": "0.79",
                                    "chainring_cogs": "22",
                                    "sprocket_cogs": "28",
                                    "gear_inches": "21.725",
                                    "distance_per_revolution_in": "68.21650",
                                    "distance_per_revolution_cm": "173.27",
                                    "distance_mph": "6.46",
                                    "distance_kmh": "10.40"
                                },
                                {
                                    "diameter": "27.5",
                                    "gear_id": "2224",
                                    "ratio": "0.92",
                                    "chainring_cogs": "22",
                                    "sprocket_cogs": "24",
                                    "gear_inches": "25.300",
                                    "distance_per_revolution_in": "79.44200",
                                    "distance_per_revolution_cm": "201.78",
                                    "distance_mph": "7.52",
                                    "distance_kmh": "12.11"
                                },
                                {
                                    "diameter": "27.5",
                                    "gear_id": "2221",
                                    "ratio": "1.05",
                                    "chainring_cogs": "22",
                                    "sprocket_cogs": "21",
                                    "gear_inches": "28.875",
                                    "distance_per_revolution_in": "90.66750",
                                    "distance_per_revolution_cm": "230.30",
                                    "distance_mph": "8.59",
                                    "distance_kmh": "13.82"
                                },
                                {
                                    "diameter": "27.5",
                                    "gear_id": "2218",
                                    "ratio": "1.22",
                                    "chainring_cogs": "22",
                                    "sprocket_cogs": "18",
                                    "gear_inches": "33.550",
                                    "distance_per_revolution_in": "105.34700",
                                    "distance_per_revolution_cm": "267.58",
                                    "distance_mph": "9.98",
                                    "distance_kmh": "16.05"
                                },
                                {
                                    "diameter": "27.5",
                                    "gear_id": "2215",
                                    "ratio": "1.47",
                                    "chainring_cogs": "22",
                                    "sprocket_cogs": "15",
                                    "gear_inches": "40.425",
                                    "distance_per_revolution_in": "126.93450",
                                    "distance_per_revolution_cm": "322.41",
                                    "distance_mph": "12.02",
                                    "distance_kmh": "19.34"
                                },
                                {
                                    "diameter": "27.5",
                                    "gear_id": "2213",
                                    "ratio": "1.69",
                                    "chainring_cogs": "22",
                                    "sprocket_cogs": "13",
                                    "gear_inches": "46.475",
                                    "distance_per_revolution_in": "145.93150",
                                    "distance_per_revolution_cm": "370.67",
                                    "distance_mph": "13.82",
                                    "distance_kmh": "22.24"
                                },
                                {
                                    "diameter": "27.5",
                                    "gear_id": "2211",
                                    "ratio": "2.00",
                                    "chainring_cogs": "22",
                                    "sprocket_cogs": "11",
                                    "gear_inches": "55.000",
                                    "distance_per_revolution_in": "172.70000",
                                    "distance_per_revolution_cm": "438.66",
                                    "distance_mph": "16.35",
                                    "distance_kmh": "26.32"
                                }
                            ]
                        },
                        "text/html": [
                            "<table>",
                            "<tr><th>diameter</th><th>gear_id</th><th>ratio</th><th>chainring_cogs</th><th>sprocket_cogs</th><th>gear_inches</th><th>distance_per_revolution_in</th><th>distance_per_revolution_cm</th><th>distance_mph</th><th>distance_kmh</th></tr>",
                            "<tr><td>27.5</td><td>4432</td><td>1.38</td><td>44</td><td>32</td><td>37.950</td><td>119.16300</td><td>302.67</td><td>11.28</td><td>18.16</td></tr>",
                            "<tr><td>27.5</td><td>4428</td><td>1.57</td><td>44</td><td>28</td><td>43.175</td><td>135.56950</td><td>344.35</td><td>12.84</td><td>20.66</td></tr>",
                            "<tr><td>27.5</td><td>4424</td><td>1.83</td><td>44</td><td>24</td><td>50.325</td><td>158.02050</td><td>401.37</td><td>14.96</td><td>24.08</td></tr>",
                            "<tr><td>27.5</td><td>4421</td><td>2.10</td><td>44</td><td>21</td><td>57.750</td><td>181.33500</td><td>460.59</td><td>17.17</td><td>27.64</td></tr>",
                            "<tr><td>27.5</td><td>4418</td><td>2.44</td><td>44</td><td>18</td><td>67.100</td><td>210.69400</td><td>535.16</td><td>19.95</td><td>32.11</td></tr>",
                            "<tr><td>27.5</td><td>4415</td><td>2.93</td><td>44</td><td>15</td><td>80.575</td><td>253.00550</td><td>642.63</td><td>23.96</td><td>38.56</td></tr>",
                            "<tr><td>27.5</td><td>4413</td><td>3.38</td><td>44</td><td>13</td><td>92.950</td><td>291.86300</td><td>741.33</td><td>27.64</td><td>44.48</td></tr>",
                            "<tr><td>27.5</td><td>4411</td><td>4.00</td><td>44</td><td>11</td><td>110.000</td><td>345.40000</td><td>877.32</td><td>32.71</td><td>52.64</td></tr>",
                            "<tr><td>27.5</td><td>3236</td><td>0.89</td><td>32</td><td>36</td><td>24.475</td><td>76.85150</td><td>195.20</td><td>7.28</td><td>11.71</td></tr>",
                            "<tr><td>27.5</td><td>3232</td><td>1.00</td><td>32</td><td>32</td><td>27.500</td><td>86.35000</td><td>219.33</td><td>8.18</td><td>13.16</td></tr>",
                            "<tr><td>27.5</td><td>3228</td><td>1.14</td><td>32</td><td>28</td><td>31.350</td><td>98.43900</td><td>250.04</td><td>9.32</td><td>15.00</td></tr>",
                            "<tr><td>27.5</td><td>3224</td><td>1.33</td><td>32</td><td>24</td><td>36.575</td><td>114.84550</td><td>291.71</td><td>10.88</td><td>17.50</td></tr>",
                            "<tr><td>27.5</td><td>3221</td><td>1.52</td><td>32</td><td>21</td><td>41.800</td><td>131.25200</td><td>333.38</td><td>12.43</td><td>20.00</td></tr>",
                            "<tr><td>27.5</td><td>3218</td><td>1.78</td><td>32</td><td>18</td><td>48.950</td><td>153.70300</td><td>390.41</td><td>14.56</td><td>23.42</td></tr>",
                            "<tr><td>27.5</td><td>3215</td><td>2.13</td><td>32</td><td>15</td><td>58.575</td><td>183.92550</td><td>467.17</td><td>17.42</td><td>28.03</td></tr>",
                            "<tr><td>27.5</td><td>3213</td><td>2.46</td><td>32</td><td>13</td><td>67.650</td><td>212.42100</td><td>539.55</td><td>20.12</td><td>32.37</td></tr>",
                            "<tr><td>27.5</td><td>3211</td><td>2.91</td><td>32</td><td>11</td><td>80.025</td><td>251.27850</td><td>638.25</td><td>23.80</td><td>38.30</td></tr>",
                            "<tr><td>27.5</td><td>2236</td><td>0.61</td><td>22</td><td>36</td><td>16.775</td><td>52.67350</td><td>133.79</td><td>4.99</td><td>8.03</td></tr>",
                            "<tr><td>27.5</td><td>2232</td><td>0.69</td><td>22</td><td>32</td><td>18.975</td><td>59.58150</td><td>151.34</td><td>5.64</td><td>9.08</td></tr>",
                            "<tr><td>27.5</td><td>2228</td><td>0.79</td><td>22</td><td>28</td><td>21.725</td><td>68.21650</td><td>173.27</td><td>6.46</td><td>10.40</td></tr>",
                            "<tr><td>27.5</td><td>2224</td><td>0.92</td><td>22</td><td>24</td><td>25.300</td><td>79.44200</td><td>201.78</td><td>7.52</td><td>12.11</td></tr>",
                            "<tr><td>27.5</td><td>2221</td><td>1.05</td><td>22</td><td>21</td><td>28.875</td><td>90.66750</td><td>230.30</td><td>8.59</td><td>13.82</td></tr>",
                            "<tr><td>27.5</td><td>2218</td><td>1.22</td><td>22</td><td>18</td><td>33.550</td><td>105.34700</td><td>267.58</td><td>9.98</td><td>16.05</td></tr>",
                            "<tr><td>27.5</td><td>2215</td><td>1.47</td><td>22</td><td>15</td><td>40.425</td><td>126.93450</td><td>322.41</td><td>12.02</td><td>19.34</td></tr>",
                            "<tr><td>27.5</td><td>2213</td><td>1.69</td><td>22</td><td>13</td><td>46.475</td><td>145.93150</td><td>370.67</td><td>13.82</td><td>22.24</td></tr>",
                            "<tr><td>27.5</td><td>2211</td><td>2.00</td><td>22</td><td>11</td><td>55.000</td><td>172.70000</td><td>438.66</td><td>16.35</td><td>26.32</td></tr>",
                            "</table>"
                        ]
                    }
                }
            ],
            "execution_count": 62
        }
    ]
}