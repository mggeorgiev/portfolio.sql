{
    "metadata": {
        "kernelspec": {
            "name": "SQL",
            "display_name": "SQL",
            "language": "sql"
        },
        "language_info": {
            "name": "sql",
            "version": ""
        }
    },
    "nbformat_minor": 2,
    "nbformat": 4,
    "cells": [
        {
            "cell_type": "markdown",
            "source": [
                "# Description:\n",
                "\n",
                "I use a Garmin fenix watch and a set of sensors to collect data from my bike rides.\n",
                "\n",
                "I analyse the data to find patterns etc.\n",
                "\n",
                "One of the problems was that I could not link the cadence with the gear combinations, so I could not measure the power improvements.\n",
                "\n",
                "This project tries to calucate the distance traveled by each revolution.\n",
                "\n",
                "## Instructions:\n",
                "\n",
                "Run the structure.sql and action.sql before running this notebook.\n",
                "\n",
                "## TO DO:\n",
                "\n",
                "1. Link with the cadence and speed data from Garmin to find the gear combination that was used;\n",
                "2. Correct with the elevation to verify if the calcualtion is correct."
            ],
            "metadata": {
                "azdata_cell_guid": "2b887162-c5f4-44f3-a9dd-289ce476df8b"
            },
            "attachments": {}
        },
        {
            "cell_type": "code",
            "source": [
                "select  chainring_cogs\r\n",
                ",sprocket_cogs\r\n",
                ",ratio\r\n",
                "from cycling.public.v_gear_ratios\r\n",
                "LIMIT 1000"
            ],
            "metadata": {
                "azdata_cell_guid": "2b0a8ac0-eea8-45e1-970e-ab003dd753e9",
                "language": "sql",
                "tags": []
            },
            "outputs": [
                {
                    "output_type": "display_data",
                    "data": {
                        "text/html": "(27 row(s) affected)"
                    },
                    "metadata": {}
                },
                {
                    "output_type": "display_data",
                    "data": {
                        "text/html": "Total execution time: 00:00:00.009"
                    },
                    "metadata": {}
                },
                {
                    "output_type": "execute_result",
                    "metadata": {},
                    "execution_count": 3,
                    "data": {
                        "application/vnd.dataresource+json": {
                            "schema": {
                                "fields": [
                                    {
                                        "name": "chainring_cogs"
                                    },
                                    {
                                        "name": "sprocket_cogs"
                                    },
                                    {
                                        "name": "ratio"
                                    }
                                ]
                            },
                            "data": [
                                {
                                    "chainring_cogs": "44",
                                    "sprocket_cogs": "36",
                                    "ratio": "1.22"
                                },
                                {
                                    "chainring_cogs": "44",
                                    "sprocket_cogs": "32",
                                    "ratio": "1.38"
                                },
                                {
                                    "chainring_cogs": "44",
                                    "sprocket_cogs": "28",
                                    "ratio": "1.57"
                                },
                                {
                                    "chainring_cogs": "44",
                                    "sprocket_cogs": "24",
                                    "ratio": "1.83"
                                },
                                {
                                    "chainring_cogs": "44",
                                    "sprocket_cogs": "21",
                                    "ratio": "2.10"
                                },
                                {
                                    "chainring_cogs": "44",
                                    "sprocket_cogs": "18",
                                    "ratio": "2.44"
                                },
                                {
                                    "chainring_cogs": "44",
                                    "sprocket_cogs": "15",
                                    "ratio": "2.93"
                                },
                                {
                                    "chainring_cogs": "44",
                                    "sprocket_cogs": "13",
                                    "ratio": "3.38"
                                },
                                {
                                    "chainring_cogs": "44",
                                    "sprocket_cogs": "11",
                                    "ratio": "4.00"
                                },
                                {
                                    "chainring_cogs": "32",
                                    "sprocket_cogs": "36",
                                    "ratio": "0.89"
                                },
                                {
                                    "chainring_cogs": "32",
                                    "sprocket_cogs": "32",
                                    "ratio": "1.00"
                                },
                                {
                                    "chainring_cogs": "32",
                                    "sprocket_cogs": "28",
                                    "ratio": "1.14"
                                },
                                {
                                    "chainring_cogs": "32",
                                    "sprocket_cogs": "24",
                                    "ratio": "1.33"
                                },
                                {
                                    "chainring_cogs": "32",
                                    "sprocket_cogs": "21",
                                    "ratio": "1.52"
                                },
                                {
                                    "chainring_cogs": "32",
                                    "sprocket_cogs": "18",
                                    "ratio": "1.78"
                                },
                                {
                                    "chainring_cogs": "32",
                                    "sprocket_cogs": "15",
                                    "ratio": "2.13"
                                },
                                {
                                    "chainring_cogs": "32",
                                    "sprocket_cogs": "13",
                                    "ratio": "2.46"
                                },
                                {
                                    "chainring_cogs": "32",
                                    "sprocket_cogs": "11",
                                    "ratio": "2.91"
                                },
                                {
                                    "chainring_cogs": "22",
                                    "sprocket_cogs": "36",
                                    "ratio": "0.61"
                                },
                                {
                                    "chainring_cogs": "22",
                                    "sprocket_cogs": "32",
                                    "ratio": "0.69"
                                },
                                {
                                    "chainring_cogs": "22",
                                    "sprocket_cogs": "28",
                                    "ratio": "0.79"
                                },
                                {
                                    "chainring_cogs": "22",
                                    "sprocket_cogs": "24",
                                    "ratio": "0.92"
                                },
                                {
                                    "chainring_cogs": "22",
                                    "sprocket_cogs": "21",
                                    "ratio": "1.05"
                                },
                                {
                                    "chainring_cogs": "22",
                                    "sprocket_cogs": "18",
                                    "ratio": "1.22"
                                },
                                {
                                    "chainring_cogs": "22",
                                    "sprocket_cogs": "15",
                                    "ratio": "1.47"
                                },
                                {
                                    "chainring_cogs": "22",
                                    "sprocket_cogs": "13",
                                    "ratio": "1.69"
                                },
                                {
                                    "chainring_cogs": "22",
                                    "sprocket_cogs": "11",
                                    "ratio": "2.00"
                                }
                            ]
                        },
                        "text/html": [
                            "<table>",
                            "<tr><th>chainring_cogs</th><th>sprocket_cogs</th><th>ratio</th></tr>",
                            "<tr><td>44</td><td>36</td><td>1.22</td></tr>",
                            "<tr><td>44</td><td>32</td><td>1.38</td></tr>",
                            "<tr><td>44</td><td>28</td><td>1.57</td></tr>",
                            "<tr><td>44</td><td>24</td><td>1.83</td></tr>",
                            "<tr><td>44</td><td>21</td><td>2.10</td></tr>",
                            "<tr><td>44</td><td>18</td><td>2.44</td></tr>",
                            "<tr><td>44</td><td>15</td><td>2.93</td></tr>",
                            "<tr><td>44</td><td>13</td><td>3.38</td></tr>",
                            "<tr><td>44</td><td>11</td><td>4.00</td></tr>",
                            "<tr><td>32</td><td>36</td><td>0.89</td></tr>",
                            "<tr><td>32</td><td>32</td><td>1.00</td></tr>",
                            "<tr><td>32</td><td>28</td><td>1.14</td></tr>",
                            "<tr><td>32</td><td>24</td><td>1.33</td></tr>",
                            "<tr><td>32</td><td>21</td><td>1.52</td></tr>",
                            "<tr><td>32</td><td>18</td><td>1.78</td></tr>",
                            "<tr><td>32</td><td>15</td><td>2.13</td></tr>",
                            "<tr><td>32</td><td>13</td><td>2.46</td></tr>",
                            "<tr><td>32</td><td>11</td><td>2.91</td></tr>",
                            "<tr><td>22</td><td>36</td><td>0.61</td></tr>",
                            "<tr><td>22</td><td>32</td><td>0.69</td></tr>",
                            "<tr><td>22</td><td>28</td><td>0.79</td></tr>",
                            "<tr><td>22</td><td>24</td><td>0.92</td></tr>",
                            "<tr><td>22</td><td>21</td><td>1.05</td></tr>",
                            "<tr><td>22</td><td>18</td><td>1.22</td></tr>",
                            "<tr><td>22</td><td>15</td><td>1.47</td></tr>",
                            "<tr><td>22</td><td>13</td><td>1.69</td></tr>",
                            "<tr><td>22</td><td>11</td><td>2.00</td></tr>",
                            "</table>"
                        ]
                    }
                }
            ],
            "execution_count": 3
        },
        {
            "cell_type": "markdown",
            "source": [
                "To find the top gear find the combination of the **<span style=\"color: rgb(33, 33, 33); font-family: Consolas, &quot;Courier New&quot;, monospace; font-size: 12px; white-space: pre;\">chainring</span>**  <span style=\"color: var(--vscode-foreground);\">with most cogs and with&nbsp;</span>   <span style=\"color: rgb(33, 33, 33); font-family: Consolas, &quot;Courier New&quot;, monospace; font-size: 12px; white-space: pre;\"><b>sprocket </b></span> <span style=\"color: var(--vscode-foreground);\">least cogs.</span>\n",
                "\n",
                "<span style=\"color: var(--vscode-foreground);\">Or the combination that gives the <b>highest </b>ratio.</span>"
            ],
            "metadata": {
                "language": "sql",
                "azdata_cell_guid": "cb29c92f-a2ba-4f72-9eb8-097852426d8a"
            },
            "attachments": {}
        },
        {
            "cell_type": "code",
            "source": [
                "SELECT    chainring_cogs,\r\n",
                "          sprocket_cogs,\r\n",
                "          ratio\r\n",
                "FROM      cycling.public.v_gear_ratios\r\n",
                "WHERE     chainring_cogs = (\r\n",
                "          SELECT    MAX(chainring_cogs)\r\n",
                "          FROM      cycling.public.v_gear_ratios\r\n",
                "          )\r\n",
                "AND       sprocket_cogs = (\r\n",
                "          SELECT    MIN(sprocket_cogs)\r\n",
                "          FROM      cycling.public.v_gear_ratios\r\n",
                "          )\r\n",
                "LIMIT     1000"
            ],
            "metadata": {
                "language": "sql",
                "azdata_cell_guid": "8f45c443-5ad8-48d9-b962-05d8ff04d682"
            },
            "outputs": [
                {
                    "output_type": "display_data",
                    "data": {
                        "text/html": "(1 row(s) affected)"
                    },
                    "metadata": {}
                },
                {
                    "output_type": "display_data",
                    "data": {
                        "text/html": "Total execution time: 00:00:01.348"
                    },
                    "metadata": {}
                },
                {
                    "output_type": "execute_result",
                    "metadata": {},
                    "execution_count": 8,
                    "data": {
                        "application/vnd.dataresource+json": {
                            "schema": {
                                "fields": [
                                    {
                                        "name": "chainring_cogs"
                                    },
                                    {
                                        "name": "sprocket_cogs"
                                    },
                                    {
                                        "name": "ratio"
                                    }
                                ]
                            },
                            "data": [
                                {
                                    "chainring_cogs": "44",
                                    "sprocket_cogs": "11",
                                    "ratio": "4.00"
                                }
                            ]
                        },
                        "text/html": [
                            "<table>",
                            "<tr><th>chainring_cogs</th><th>sprocket_cogs</th><th>ratio</th></tr>",
                            "<tr><td>44</td><td>11</td><td>4.00</td></tr>",
                            "</table>"
                        ]
                    }
                }
            ],
            "execution_count": 8
        },
        {
            "cell_type": "markdown",
            "source": [
                "To find the bottom gear find the combination of the **chainring** with least cogs and with **sprocket** mosth cogs.\n",
                "\n",
                "Or the combination that gives the **lowest** ratio."
            ],
            "metadata": {
                "language": "",
                "azdata_cell_guid": "827da9e2-e0c9-4fd6-9400-e0527f465ca3"
            },
            "attachments": {}
        },
        {
            "cell_type": "code",
            "source": [
                "SELECT    chainring_cogs,\r\n",
                "          sprocket_cogs,\r\n",
                "          ratio\r\n",
                "FROM      cycling.public.v_gear_ratios\r\n",
                "WHERE     chainring_cogs = (\r\n",
                "          SELECT    MIN(chainring_cogs)\r\n",
                "          FROM      cycling.public.v_gear_ratios\r\n",
                "          )\r\n",
                "AND       sprocket_cogs = (\r\n",
                "          SELECT    MAX(sprocket_cogs)\r\n",
                "          FROM      cycling.public.v_gear_ratios\r\n",
                "          )\r\n",
                "LIMIT     1000"
            ],
            "metadata": {
                "language": "sql",
                "azdata_cell_guid": "48847092-1488-4562-91f4-38fdebb78e69"
            },
            "outputs": [
{
    "output_type": "display_data",
    "data": {
        "text/html": "(1 row(s) affected)"
    },
    "metadata": {}
}, {
    "output_type": "display_data",
    "data": {
        "text/html": "Total execution time: 00:00:01.348"
    },
    "metadata": {}
}, {
    "output_type": "execute_result",
    "metadata": {},
    "execution_count": 9,
    "data": {
        "application/vnd.dataresource+json": {
            "schema": {
                "fields": [
                    {
                        "name": "chainring_cogs"
                    },
                    {
                        "name": "sprocket_cogs"
                    },
                    {
                        "name": "ratio"
                    }
                ]
            },
            "data": [
                {
                    "chainring_cogs": "22",
                    "sprocket_cogs": "36",
                    "ratio": "0.61"
                }
            ]
        },
        "text/html": [
            "<table>",
            "<tr><th>chainring_cogs</th><th>sprocket_cogs</th><th>ratio</th></tr>",
            "<tr><td>22</td><td>36</td><td>0.61</td></tr>",
            "</table>"
        ]
    }
}
],
            "execution_count": 9
        }
    ]
}