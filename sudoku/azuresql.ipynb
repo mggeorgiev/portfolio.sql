{
    "metadata": {
        "kernelspec": {
            "name": "SQL",
            "display_name": "SQL",
            "language": "sql"
        },
        "language_info": {
            "name": "sql",
            "version": ""
        }
    },
    "nbformat_minor": 2,
    "nbformat": 4,
    "cells": [
        {
            "cell_type": "code",
            "source": [
                "USE portfolio;\r\n",
                "GO\r\n",
                "\r\n",
                "-- Create a new table called '[Sudoku]' in schema '[dbo]'\r\n",
                "-- Drop the table if it already exists\r\n",
                "IF OBJECT_ID('[dbo].[Sudoku]', 'U') IS NOT NULL\r\n",
                "DROP TABLE [dbo].[Sudoku]\r\n",
                "GO\r\n",
                "-- Create the table in the specified schema\r\n",
                "CREATE TABLE [dbo].[Sudoku]\r\n",
                "(\r\n",
                "    row INT,\r\n",
                "    col INT,\r\n",
                "    value INT NULL,  -- Allow NULL values for empty cells\r\n",
                "    PRIMARY KEY (row, col)\r\n",
                "    -- Specify more columns here\r\n",
                ");\r\n",
                "GO"
            ],
            "metadata": {
                "azdata_cell_guid": "36efea07-58e6-48ec-8d6b-fbd4a2e87c1a",
                "language": "sql",
                "tags": []
            },
            "outputs": [
                {
                    "output_type": "display_data",
                    "data": {
                        "text/html": "Commands completed successfully."
                    },
                    "metadata": {}
                },
                {
                    "output_type": "display_data",
                    "data": {
                        "text/html": "Commands completed successfully."
                    },
                    "metadata": {}
                },
                {
                    "output_type": "display_data",
                    "data": {
                        "text/html": "Commands completed successfully."
                    },
                    "metadata": {}
                },
                {
                    "output_type": "display_data",
                    "data": {
                        "text/html": "Total execution time: 00:00:00.062"
                    },
                    "metadata": {}
                }
            ],
            "execution_count": 38
        },
        {
            "cell_type": "code",
            "source": [
                "INSERT INTO Sudoku (row, col, value) VALUES\r\n",
                "(1, 9, 3),\r\n",
                "(2, 8, 1), (2, 9, 8),\r\n",
                "(3, 7, 9), (3, 8, 5), (3, 9, 2),\r\n",
                "(4, 6, 5), (4, 7, 3), (4, 8, 7), (4, 9, 1),\r\n",
                "(5, 5, 1), (5, 6, 3), (5, 7, 2), (5, 8, 9), (5, 9, 4),\r\n",
                "(6, 4, 4), (6, 5, 2), (6, 6, 9), (6, 7, 5), (6, 8, 8), (6, 9, 6),\r\n",
                "(7, 3, 6), (7, 4, 5), (7, 5, 4), (7, 6, 7), (7, 7, 1), (7, 8, 3), (7, 9, 9),\r\n",
                "(8, 2, 1), (8, 3, 7), (8, 4, 2), (8, 5, 9), (8, 6, 8), (8, 7, 6), (8, 8, 4), (8, 9, 5),\r\n",
                "(9, 1, 9), (9, 2, 5), (9, 3, 4), (9, 4, 3), (9, 5, 6), (9, 6, 1), (9, 7, 8), (9, 8, 2), (9, 9, 7);\r\n",
                "GO"
            ],
            "metadata": {
                "language": "sql",
                "azdata_cell_guid": "e6df192d-0d36-46ef-a418-9bc3ce879d58",
                "tags": []
            },
            "outputs": [
                {
                    "output_type": "display_data",
                    "data": {
                        "text/html": "(45 rows affected)"
                    },
                    "metadata": {}
                },
                {
                    "output_type": "display_data",
                    "data": {
                        "text/html": "Total execution time: 00:00:00.047"
                    },
                    "metadata": {}
                }
            ],
            "execution_count": 39
        },
        {
            "cell_type": "code",
            "source": [
                "SELECT\r\n",
                "    row,\r\n",
                "    MAX(CASE WHEN col = 1 THEN value END) AS column1,\r\n",
                "    MAX(CASE WHEN col = 2 THEN value END) AS column2,\r\n",
                "    MAX(CASE WHEN col = 3 THEN value END) AS column3,\r\n",
                "    MAX(CASE WHEN col = 4 THEN value END) AS column4,\r\n",
                "    MAX(CASE WHEN col = 5 THEN value END) AS column5,\r\n",
                "    MAX(CASE WHEN col = 6 THEN value END) AS column6,\r\n",
                "    MAX(CASE WHEN col = 7 THEN value END) AS column7,\r\n",
                "    MAX(CASE WHEN col = 8 THEN value END) AS column8,\r\n",
                "    MAX(CASE WHEN col = 9 THEN value END) AS column9\r\n",
                "FROM sudoku\r\n",
                "GROUP BY row\r\n",
                "ORDER BY row;"
            ],
            "metadata": {
                "language": "sql",
                "azdata_cell_guid": "6ad886c4-c6e4-4f7b-baf3-1fc671505f96",
                "tags": []
            },
            "outputs": [
                {
                    "output_type": "display_data",
                    "data": {
                        "text/html": "Warning: Null value is eliminated by an aggregate or other SET operation."
                    },
                    "metadata": {}
                },
                {
                    "output_type": "display_data",
                    "data": {
                        "text/html": "(9 rows affected)"
                    },
                    "metadata": {}
                },
                {
                    "output_type": "display_data",
                    "data": {
                        "text/html": "Total execution time: 00:00:00.042"
                    },
                    "metadata": {}
                },
                {
                    "output_type": "execute_result",
                    "metadata": {},
                    "execution_count": 40,
                    "data": {
                        "application/vnd.dataresource+json": {
                            "schema": {
                                "fields": [
                                    {
                                        "name": "row"
                                    },
                                    {
                                        "name": "column1"
                                    },
                                    {
                                        "name": "column2"
                                    },
                                    {
                                        "name": "column3"
                                    },
                                    {
                                        "name": "column4"
                                    },
                                    {
                                        "name": "column5"
                                    },
                                    {
                                        "name": "column6"
                                    },
                                    {
                                        "name": "column7"
                                    },
                                    {
                                        "name": "column8"
                                    },
                                    {
                                        "name": "column9"
                                    }
                                ]
                            },
                            "data": [
                                {
                                    "row": "1",
                                    "column1": "NULL",
                                    "column2": "NULL",
                                    "column3": "NULL",
                                    "column4": "NULL",
                                    "column5": "NULL",
                                    "column6": "NULL",
                                    "column7": "NULL",
                                    "column8": "NULL",
                                    "column9": "3"
                                },
                                {
                                    "row": "2",
                                    "column1": "NULL",
                                    "column2": "NULL",
                                    "column3": "NULL",
                                    "column4": "NULL",
                                    "column5": "NULL",
                                    "column6": "NULL",
                                    "column7": "NULL",
                                    "column8": "1",
                                    "column9": "8"
                                },
                                {
                                    "row": "3",
                                    "column1": "NULL",
                                    "column2": "NULL",
                                    "column3": "NULL",
                                    "column4": "NULL",
                                    "column5": "NULL",
                                    "column6": "NULL",
                                    "column7": "9",
                                    "column8": "5",
                                    "column9": "2"
                                },
                                {
                                    "row": "4",
                                    "column1": "NULL",
                                    "column2": "NULL",
                                    "column3": "NULL",
                                    "column4": "NULL",
                                    "column5": "NULL",
                                    "column6": "5",
                                    "column7": "3",
                                    "column8": "7",
                                    "column9": "1"
                                },
                                {
                                    "row": "5",
                                    "column1": "NULL",
                                    "column2": "NULL",
                                    "column3": "NULL",
                                    "column4": "NULL",
                                    "column5": "1",
                                    "column6": "3",
                                    "column7": "2",
                                    "column8": "9",
                                    "column9": "4"
                                },
                                {
                                    "row": "6",
                                    "column1": "NULL",
                                    "column2": "NULL",
                                    "column3": "NULL",
                                    "column4": "4",
                                    "column5": "2",
                                    "column6": "9",
                                    "column7": "5",
                                    "column8": "8",
                                    "column9": "6"
                                },
                                {
                                    "row": "7",
                                    "column1": "NULL",
                                    "column2": "NULL",
                                    "column3": "6",
                                    "column4": "5",
                                    "column5": "4",
                                    "column6": "7",
                                    "column7": "1",
                                    "column8": "3",
                                    "column9": "9"
                                },
                                {
                                    "row": "8",
                                    "column1": "NULL",
                                    "column2": "1",
                                    "column3": "7",
                                    "column4": "2",
                                    "column5": "9",
                                    "column6": "8",
                                    "column7": "6",
                                    "column8": "4",
                                    "column9": "5"
                                },
                                {
                                    "row": "9",
                                    "column1": "9",
                                    "column2": "5",
                                    "column3": "4",
                                    "column4": "3",
                                    "column5": "6",
                                    "column6": "1",
                                    "column7": "8",
                                    "column8": "2",
                                    "column9": "7"
                                }
                            ]
                        },
                        "text/html": [
                            "<table>",
                            "<tr><th>row</th><th>column1</th><th>column2</th><th>column3</th><th>column4</th><th>column5</th><th>column6</th><th>column7</th><th>column8</th><th>column9</th></tr>",
                            "<tr><td>1</td><td>NULL</td><td>NULL</td><td>NULL</td><td>NULL</td><td>NULL</td><td>NULL</td><td>NULL</td><td>NULL</td><td>3</td></tr>",
                            "<tr><td>2</td><td>NULL</td><td>NULL</td><td>NULL</td><td>NULL</td><td>NULL</td><td>NULL</td><td>NULL</td><td>1</td><td>8</td></tr>",
                            "<tr><td>3</td><td>NULL</td><td>NULL</td><td>NULL</td><td>NULL</td><td>NULL</td><td>NULL</td><td>9</td><td>5</td><td>2</td></tr>",
                            "<tr><td>4</td><td>NULL</td><td>NULL</td><td>NULL</td><td>NULL</td><td>NULL</td><td>5</td><td>3</td><td>7</td><td>1</td></tr>",
                            "<tr><td>5</td><td>NULL</td><td>NULL</td><td>NULL</td><td>NULL</td><td>1</td><td>3</td><td>2</td><td>9</td><td>4</td></tr>",
                            "<tr><td>6</td><td>NULL</td><td>NULL</td><td>NULL</td><td>4</td><td>2</td><td>9</td><td>5</td><td>8</td><td>6</td></tr>",
                            "<tr><td>7</td><td>NULL</td><td>NULL</td><td>6</td><td>5</td><td>4</td><td>7</td><td>1</td><td>3</td><td>9</td></tr>",
                            "<tr><td>8</td><td>NULL</td><td>1</td><td>7</td><td>2</td><td>9</td><td>8</td><td>6</td><td>4</td><td>5</td></tr>",
                            "<tr><td>9</td><td>9</td><td>5</td><td>4</td><td>3</td><td>6</td><td>1</td><td>8</td><td>2</td><td>7</td></tr>",
                            "</table>"
                        ]
                    }
                }
            ],
            "execution_count": 40
        },
        {
            "cell_type": "code",
            "source": [
                "-- The number of all filled cells. Total bumber is 9 * 9 = 81\r\n",
                "SELECT    COUNT(*)*100/81 AS percent_complete\r\n",
                "FROM      sudoku;\r\n",
                "GO\r\n",
                "\r\n",
                "SELECT    VALUE,\r\n",
                "          COUNT(*) AS cnt,\r\n",
                "          COUNT(*)*100 / 9 as percent_complete\r\n",
                "FROM      sudoku\r\n",
                "GROUP BY  VALUE\r\n",
                "ORDER BY  VALUE\r\n",
                "GO"
            ],
            "metadata": {
                "language": "sql",
                "azdata_cell_guid": "1943e013-362c-481d-8e0b-ffcef4040bb8",
                "tags": []
            },
            "outputs": [
                {
                    "output_type": "display_data",
                    "data": {
                        "text/html": "(1 row affected)"
                    },
                    "metadata": {}
                },
                {
                    "output_type": "display_data",
                    "data": {
                        "text/html": "(9 rows affected)"
                    },
                    "metadata": {}
                },
                {
                    "output_type": "display_data",
                    "data": {
                        "text/html": "Total execution time: 00:00:00.105"
                    },
                    "metadata": {}
                },
                {
                    "output_type": "execute_result",
                    "metadata": {},
                    "execution_count": 41,
                    "data": {
                        "application/vnd.dataresource+json": {
                            "schema": {
                                "fields": [
                                    {
                                        "name": "percent_complete"
                                    }
                                ]
                            },
                            "data": [
                                {
                                    "percent_complete": "55"
                                }
                            ]
                        },
                        "text/html": [
                            "<table>",
                            "<tr><th>percent_complete</th></tr>",
                            "<tr><td>55</td></tr>",
                            "</table>"
                        ]
                    }
                },
                {
                    "output_type": "execute_result",
                    "metadata": {},
                    "execution_count": 41,
                    "data": {
                        "application/vnd.dataresource+json": {
                            "schema": {
                                "fields": [
                                    {
                                        "name": "VALUE"
                                    },
                                    {
                                        "name": "cnt"
                                    },
                                    {
                                        "name": "percent_complete"
                                    }
                                ]
                            },
                            "data": [
                                {
                                    "VALUE": "1",
                                    "cnt": "6",
                                    "percent_complete": "66"
                                },
                                {
                                    "VALUE": "2",
                                    "cnt": "5",
                                    "percent_complete": "55"
                                },
                                {
                                    "VALUE": "3",
                                    "cnt": "5",
                                    "percent_complete": "55"
                                },
                                {
                                    "VALUE": "4",
                                    "cnt": "5",
                                    "percent_complete": "55"
                                },
                                {
                                    "VALUE": "5",
                                    "cnt": "6",
                                    "percent_complete": "66"
                                },
                                {
                                    "VALUE": "6",
                                    "cnt": "4",
                                    "percent_complete": "44"
                                },
                                {
                                    "VALUE": "7",
                                    "cnt": "4",
                                    "percent_complete": "44"
                                },
                                {
                                    "VALUE": "8",
                                    "cnt": "4",
                                    "percent_complete": "44"
                                },
                                {
                                    "VALUE": "9",
                                    "cnt": "6",
                                    "percent_complete": "66"
                                }
                            ]
                        },
                        "text/html": [
                            "<table>",
                            "<tr><th>VALUE</th><th>cnt</th><th>percent_complete</th></tr>",
                            "<tr><td>1</td><td>6</td><td>66</td></tr>",
                            "<tr><td>2</td><td>5</td><td>55</td></tr>",
                            "<tr><td>3</td><td>5</td><td>55</td></tr>",
                            "<tr><td>4</td><td>5</td><td>55</td></tr>",
                            "<tr><td>5</td><td>6</td><td>66</td></tr>",
                            "<tr><td>6</td><td>4</td><td>44</td></tr>",
                            "<tr><td>7</td><td>4</td><td>44</td></tr>",
                            "<tr><td>8</td><td>4</td><td>44</td></tr>",
                            "<tr><td>9</td><td>6</td><td>66</td></tr>",
                            "</table>"
                        ]
                    }
                }
            ],
            "execution_count": 41
        },
        {
            "cell_type": "code",
            "source": [
                "-- Row 8 has only one missing value\r\n",
                "\r\n",
                "SELECT    VALUE\r\n",
                "FROM      (\r\n",
                "          VALUES    (1),\r\n",
                "                    (2),\r\n",
                "                    (3),\r\n",
                "                    (4),\r\n",
                "                    (5),\r\n",
                "                    (6),\r\n",
                "                    (7),\r\n",
                "                    (8),\r\n",
                "                    (9)\r\n",
                "          ) AS PossibleValues (VALUE)\r\n",
                "WHERE     VALUE NOT IN (\r\n",
                "          SELECT    VALUE\r\n",
                "          FROM      Sudoku\r\n",
                "          WHERE     ROW = 8\r\n",
                "          );"
            ],
            "metadata": {
                "language": "sql",
                "azdata_cell_guid": "856f1841-4951-4bd7-842f-ee1fc5db7039",
                "tags": []
            },
            "outputs": [
                {
                    "output_type": "display_data",
                    "data": {
                        "text/html": "(1 row affected)"
                    },
                    "metadata": {}
                },
                {
                    "output_type": "display_data",
                    "data": {
                        "text/html": "Total execution time: 00:00:00.040"
                    },
                    "metadata": {}
                },
                {
                    "output_type": "execute_result",
                    "metadata": {},
                    "execution_count": 42,
                    "data": {
                        "application/vnd.dataresource+json": {
                            "schema": {
                                "fields": [
                                    {
                                        "name": "VALUE"
                                    }
                                ]
                            },
                            "data": [
                                {
                                    "VALUE": "3"
                                }
                            ]
                        },
                        "text/html": [
                            "<table>",
                            "<tr><th>VALUE</th></tr>",
                            "<tr><td>3</td></tr>",
                            "</table>"
                        ]
                    }
                }
            ],
            "execution_count": 42
        },
        {
            "cell_type": "code",
            "source": [
                "-- Column 8 has only one missing value\r\n",
                "SELECT    VALUE\r\n",
                "FROM      (\r\n",
                "          VALUES    (1),\r\n",
                "                    (2),\r\n",
                "                    (3),\r\n",
                "                    (4),\r\n",
                "                    (5),\r\n",
                "                    (6),\r\n",
                "                    (7),\r\n",
                "                    (8),\r\n",
                "                    (9)\r\n",
                "          ) AS PossibleValues (VALUE)\r\n",
                "WHERE     VALUE NOT IN (\r\n",
                "          SELECT    VALUE\r\n",
                "          FROM      Sudoku\r\n",
                "          WHERE     col = 8\r\n",
                "          );"
            ],
            "metadata": {
                "language": "sql",
                "azdata_cell_guid": "528579f1-5b11-462a-ab78-f41f1f64c414",
                "tags": []
            },
            "outputs": [
                {
                    "output_type": "display_data",
                    "data": {
                        "text/html": "(1 row affected)"
                    },
                    "metadata": {}
                },
                {
                    "output_type": "display_data",
                    "data": {
                        "text/html": "Total execution time: 00:00:00.050"
                    },
                    "metadata": {}
                },
                {
                    "output_type": "execute_result",
                    "metadata": {},
                    "execution_count": 43,
                    "data": {
                        "application/vnd.dataresource+json": {
                            "schema": {
                                "fields": [
                                    {
                                        "name": "VALUE"
                                    }
                                ]
                            },
                            "data": [
                                {
                                    "VALUE": "6"
                                }
                            ]
                        },
                        "text/html": [
                            "<table>",
                            "<tr><th>VALUE</th></tr>",
                            "<tr><td>6</td></tr>",
                            "</table>"
                        ]
                    }
                }
            ],
            "execution_count": 43
        },
        {
            "cell_type": "code",
            "source": [
                "-- insert the only possible solution to two fields\r\n",
                "INSERT INTO sudoku (row, col, value) VALUES\r\n",
                "(8, 1, 3), (1, 8, 6);\r\n",
                "\r\n",
                "-- The number of all filled cells. Total bumber is 9 * 9 = 81\r\n",
                "SELECT    COUNT(*)*100/81 AS percent_complete\r\n",
                "FROM      sudoku;\r\n",
                "GO\r\n",
                "\r\n",
                "SELECT    VALUE,\r\n",
                "          COUNT(*) AS cnt,\r\n",
                "          COUNT(*)*100 / 9 as percent_complete\r\n",
                "FROM      sudoku\r\n",
                "GROUP BY  VALUE\r\n",
                "ORDER BY  VALUE;\r\n",
                "GO\r\n",
                "\r\n",
                "-- New solution\r\n",
                "SELECT\r\n",
                "    row,\r\n",
                "    MAX(CASE WHEN col = 1 THEN value END) AS column1,\r\n",
                "    MAX(CASE WHEN col = 2 THEN value END) AS column2,\r\n",
                "    MAX(CASE WHEN col = 3 THEN value END) AS column3,\r\n",
                "    MAX(CASE WHEN col = 4 THEN value END) AS column4,\r\n",
                "    MAX(CASE WHEN col = 5 THEN value END) AS column5,\r\n",
                "    MAX(CASE WHEN col = 6 THEN value END) AS column6,\r\n",
                "    MAX(CASE WHEN col = 7 THEN value END) AS column7,\r\n",
                "    MAX(CASE WHEN col = 8 THEN value END) AS column8,\r\n",
                "    MAX(CASE WHEN col = 9 THEN value END) AS column9\r\n",
                "FROM sudoku\r\n",
                "GROUP BY row\r\n",
                "ORDER BY row;\r\n",
                "GO\r\n",
                "\r\n",
                "-- New percentages\r\n",
                "SELECT    COUNT(*)*100/81 AS percent_complete\r\n",
                "FROM      sudoku;\r\n",
                "\r\n",
                "SELECT    VALUE,\r\n",
                "          COUNT(*) AS cnt,\r\n",
                "          COUNT(*)*100 / 9 as percent_complete\r\n",
                "FROM      sudoku\r\n",
                "GROUP BY  VALUE\r\n",
                "ORDER BY  VALUE;\r\n",
                "GO"
            ],
            "metadata": {
                "language": "sql",
                "azdata_cell_guid": "b6e32110-079c-45f3-92f9-d998a971c6ee",
                "tags": []
            },
            "outputs": [
                {
                    "output_type": "display_data",
                    "data": {
                        "text/html": "(2 rows affected)"
                    },
                    "metadata": {}
                },
                {
                    "output_type": "display_data",
                    "data": {
                        "text/html": "(1 row affected)"
                    },
                    "metadata": {}
                },
                {
                    "output_type": "display_data",
                    "data": {
                        "text/html": "(9 rows affected)"
                    },
                    "metadata": {}
                },
                {
                    "output_type": "display_data",
                    "data": {
                        "text/html": "Warning: Null value is eliminated by an aggregate or other SET operation."
                    },
                    "metadata": {}
                },
                {
                    "output_type": "display_data",
                    "data": {
                        "text/html": "(9 rows affected)"
                    },
                    "metadata": {}
                },
                {
                    "output_type": "display_data",
                    "data": {
                        "text/html": "(1 row affected)"
                    },
                    "metadata": {}
                },
                {
                    "output_type": "display_data",
                    "data": {
                        "text/html": "(9 rows affected)"
                    },
                    "metadata": {}
                },
                {
                    "output_type": "display_data",
                    "data": {
                        "text/html": "Total execution time: 00:00:00.108"
                    },
                    "metadata": {}
                },
                {
                    "output_type": "execute_result",
                    "metadata": {},
                    "execution_count": 44,
                    "data": {
                        "application/vnd.dataresource+json": {
                            "schema": {
                                "fields": [
                                    {
                                        "name": "percent_complete"
                                    }
                                ]
                            },
                            "data": [
                                {
                                    "percent_complete": "58"
                                }
                            ]
                        },
                        "text/html": [
                            "<table>",
                            "<tr><th>percent_complete</th></tr>",
                            "<tr><td>58</td></tr>",
                            "</table>"
                        ]
                    }
                },
                {
                    "output_type": "execute_result",
                    "metadata": {},
                    "execution_count": 44,
                    "data": {
                        "application/vnd.dataresource+json": {
                            "schema": {
                                "fields": [
                                    {
                                        "name": "VALUE"
                                    },
                                    {
                                        "name": "cnt"
                                    },
                                    {
                                        "name": "percent_complete"
                                    }
                                ]
                            },
                            "data": [
                                {
                                    "VALUE": "1",
                                    "cnt": "6",
                                    "percent_complete": "66"
                                },
                                {
                                    "VALUE": "2",
                                    "cnt": "5",
                                    "percent_complete": "55"
                                },
                                {
                                    "VALUE": "3",
                                    "cnt": "6",
                                    "percent_complete": "66"
                                },
                                {
                                    "VALUE": "4",
                                    "cnt": "5",
                                    "percent_complete": "55"
                                },
                                {
                                    "VALUE": "5",
                                    "cnt": "6",
                                    "percent_complete": "66"
                                },
                                {
                                    "VALUE": "6",
                                    "cnt": "5",
                                    "percent_complete": "55"
                                },
                                {
                                    "VALUE": "7",
                                    "cnt": "4",
                                    "percent_complete": "44"
                                },
                                {
                                    "VALUE": "8",
                                    "cnt": "4",
                                    "percent_complete": "44"
                                },
                                {
                                    "VALUE": "9",
                                    "cnt": "6",
                                    "percent_complete": "66"
                                }
                            ]
                        },
                        "text/html": [
                            "<table>",
                            "<tr><th>VALUE</th><th>cnt</th><th>percent_complete</th></tr>",
                            "<tr><td>1</td><td>6</td><td>66</td></tr>",
                            "<tr><td>2</td><td>5</td><td>55</td></tr>",
                            "<tr><td>3</td><td>6</td><td>66</td></tr>",
                            "<tr><td>4</td><td>5</td><td>55</td></tr>",
                            "<tr><td>5</td><td>6</td><td>66</td></tr>",
                            "<tr><td>6</td><td>5</td><td>55</td></tr>",
                            "<tr><td>7</td><td>4</td><td>44</td></tr>",
                            "<tr><td>8</td><td>4</td><td>44</td></tr>",
                            "<tr><td>9</td><td>6</td><td>66</td></tr>",
                            "</table>"
                        ]
                    }
                },
                {
                    "output_type": "execute_result",
                    "metadata": {},
                    "execution_count": 44,
                    "data": {
                        "application/vnd.dataresource+json": {
                            "schema": {
                                "fields": [
                                    {
                                        "name": "row"
                                    },
                                    {
                                        "name": "column1"
                                    },
                                    {
                                        "name": "column2"
                                    },
                                    {
                                        "name": "column3"
                                    },
                                    {
                                        "name": "column4"
                                    },
                                    {
                                        "name": "column5"
                                    },
                                    {
                                        "name": "column6"
                                    },
                                    {
                                        "name": "column7"
                                    },
                                    {
                                        "name": "column8"
                                    },
                                    {
                                        "name": "column9"
                                    }
                                ]
                            },
                            "data": [
                                {
                                    "row": "1",
                                    "column1": "NULL",
                                    "column2": "NULL",
                                    "column3": "NULL",
                                    "column4": "NULL",
                                    "column5": "NULL",
                                    "column6": "NULL",
                                    "column7": "NULL",
                                    "column8": "6",
                                    "column9": "3"
                                },
                                {
                                    "row": "2",
                                    "column1": "NULL",
                                    "column2": "NULL",
                                    "column3": "NULL",
                                    "column4": "NULL",
                                    "column5": "NULL",
                                    "column6": "NULL",
                                    "column7": "NULL",
                                    "column8": "1",
                                    "column9": "8"
                                },
                                {
                                    "row": "3",
                                    "column1": "NULL",
                                    "column2": "NULL",
                                    "column3": "NULL",
                                    "column4": "NULL",
                                    "column5": "NULL",
                                    "column6": "NULL",
                                    "column7": "9",
                                    "column8": "5",
                                    "column9": "2"
                                },
                                {
                                    "row": "4",
                                    "column1": "NULL",
                                    "column2": "NULL",
                                    "column3": "NULL",
                                    "column4": "NULL",
                                    "column5": "NULL",
                                    "column6": "5",
                                    "column7": "3",
                                    "column8": "7",
                                    "column9": "1"
                                },
                                {
                                    "row": "5",
                                    "column1": "NULL",
                                    "column2": "NULL",
                                    "column3": "NULL",
                                    "column4": "NULL",
                                    "column5": "1",
                                    "column6": "3",
                                    "column7": "2",
                                    "column8": "9",
                                    "column9": "4"
                                },
                                {
                                    "row": "6",
                                    "column1": "NULL",
                                    "column2": "NULL",
                                    "column3": "NULL",
                                    "column4": "4",
                                    "column5": "2",
                                    "column6": "9",
                                    "column7": "5",
                                    "column8": "8",
                                    "column9": "6"
                                },
                                {
                                    "row": "7",
                                    "column1": "NULL",
                                    "column2": "NULL",
                                    "column3": "6",
                                    "column4": "5",
                                    "column5": "4",
                                    "column6": "7",
                                    "column7": "1",
                                    "column8": "3",
                                    "column9": "9"
                                },
                                {
                                    "row": "8",
                                    "column1": "3",
                                    "column2": "1",
                                    "column3": "7",
                                    "column4": "2",
                                    "column5": "9",
                                    "column6": "8",
                                    "column7": "6",
                                    "column8": "4",
                                    "column9": "5"
                                },
                                {
                                    "row": "9",
                                    "column1": "9",
                                    "column2": "5",
                                    "column3": "4",
                                    "column4": "3",
                                    "column5": "6",
                                    "column6": "1",
                                    "column7": "8",
                                    "column8": "2",
                                    "column9": "7"
                                }
                            ]
                        },
                        "text/html": [
                            "<table>",
                            "<tr><th>row</th><th>column1</th><th>column2</th><th>column3</th><th>column4</th><th>column5</th><th>column6</th><th>column7</th><th>column8</th><th>column9</th></tr>",
                            "<tr><td>1</td><td>NULL</td><td>NULL</td><td>NULL</td><td>NULL</td><td>NULL</td><td>NULL</td><td>NULL</td><td>6</td><td>3</td></tr>",
                            "<tr><td>2</td><td>NULL</td><td>NULL</td><td>NULL</td><td>NULL</td><td>NULL</td><td>NULL</td><td>NULL</td><td>1</td><td>8</td></tr>",
                            "<tr><td>3</td><td>NULL</td><td>NULL</td><td>NULL</td><td>NULL</td><td>NULL</td><td>NULL</td><td>9</td><td>5</td><td>2</td></tr>",
                            "<tr><td>4</td><td>NULL</td><td>NULL</td><td>NULL</td><td>NULL</td><td>NULL</td><td>5</td><td>3</td><td>7</td><td>1</td></tr>",
                            "<tr><td>5</td><td>NULL</td><td>NULL</td><td>NULL</td><td>NULL</td><td>1</td><td>3</td><td>2</td><td>9</td><td>4</td></tr>",
                            "<tr><td>6</td><td>NULL</td><td>NULL</td><td>NULL</td><td>4</td><td>2</td><td>9</td><td>5</td><td>8</td><td>6</td></tr>",
                            "<tr><td>7</td><td>NULL</td><td>NULL</td><td>6</td><td>5</td><td>4</td><td>7</td><td>1</td><td>3</td><td>9</td></tr>",
                            "<tr><td>8</td><td>3</td><td>1</td><td>7</td><td>2</td><td>9</td><td>8</td><td>6</td><td>4</td><td>5</td></tr>",
                            "<tr><td>9</td><td>9</td><td>5</td><td>4</td><td>3</td><td>6</td><td>1</td><td>8</td><td>2</td><td>7</td></tr>",
                            "</table>"
                        ]
                    }
                },
                {
                    "output_type": "execute_result",
                    "metadata": {},
                    "execution_count": 44,
                    "data": {
                        "application/vnd.dataresource+json": {
                            "schema": {
                                "fields": [
                                    {
                                        "name": "percent_complete"
                                    }
                                ]
                            },
                            "data": [
                                {
                                    "percent_complete": "58"
                                }
                            ]
                        },
                        "text/html": [
                            "<table>",
                            "<tr><th>percent_complete</th></tr>",
                            "<tr><td>58</td></tr>",
                            "</table>"
                        ]
                    }
                },
                {
                    "output_type": "execute_result",
                    "metadata": {},
                    "execution_count": 44,
                    "data": {
                        "application/vnd.dataresource+json": {
                            "schema": {
                                "fields": [
                                    {
                                        "name": "VALUE"
                                    },
                                    {
                                        "name": "cnt"
                                    },
                                    {
                                        "name": "percent_complete"
                                    }
                                ]
                            },
                            "data": [
                                {
                                    "VALUE": "1",
                                    "cnt": "6",
                                    "percent_complete": "66"
                                },
                                {
                                    "VALUE": "2",
                                    "cnt": "5",
                                    "percent_complete": "55"
                                },
                                {
                                    "VALUE": "3",
                                    "cnt": "6",
                                    "percent_complete": "66"
                                },
                                {
                                    "VALUE": "4",
                                    "cnt": "5",
                                    "percent_complete": "55"
                                },
                                {
                                    "VALUE": "5",
                                    "cnt": "6",
                                    "percent_complete": "66"
                                },
                                {
                                    "VALUE": "6",
                                    "cnt": "5",
                                    "percent_complete": "55"
                                },
                                {
                                    "VALUE": "7",
                                    "cnt": "4",
                                    "percent_complete": "44"
                                },
                                {
                                    "VALUE": "8",
                                    "cnt": "4",
                                    "percent_complete": "44"
                                },
                                {
                                    "VALUE": "9",
                                    "cnt": "6",
                                    "percent_complete": "66"
                                }
                            ]
                        },
                        "text/html": [
                            "<table>",
                            "<tr><th>VALUE</th><th>cnt</th><th>percent_complete</th></tr>",
                            "<tr><td>1</td><td>6</td><td>66</td></tr>",
                            "<tr><td>2</td><td>5</td><td>55</td></tr>",
                            "<tr><td>3</td><td>6</td><td>66</td></tr>",
                            "<tr><td>4</td><td>5</td><td>55</td></tr>",
                            "<tr><td>5</td><td>6</td><td>66</td></tr>",
                            "<tr><td>6</td><td>5</td><td>55</td></tr>",
                            "<tr><td>7</td><td>4</td><td>44</td></tr>",
                            "<tr><td>8</td><td>4</td><td>44</td></tr>",
                            "<tr><td>9</td><td>6</td><td>66</td></tr>",
                            "</table>"
                        ]
                    }
                }
            ],
            "execution_count": 44
        },
        {
            "cell_type": "code",
            "source": [
                "-- Insert NULL values to enable selecting the row and column for a cross join with all possible values\r\n",
                "INSERT INTO sudoku (row, col, value) VALUES\r\n",
                "(1, 1, NULL), (1, 2, NULL), (1, 3, NULL), (1, 4, NULL), (1, 5, NULL), (1, 6, NULL), (1, 7, NULL),\r\n",
                "(2, 1, NULL), (2, 2, NULL), (2, 3, NULL), (2, 4, NULL), (2, 5, NULL), (2, 6, NULL), (2, 7, NULL),\r\n",
                "(3, 1, NULL), (3, 2, NULL), (3, 3, NULL), (3, 4, NULL), (3, 5, NULL), (3, 6, NULL),\r\n",
                "(4, 1, NULL), (4, 2, NULL), (4, 3, NULL), (4, 4, NULL), (4, 5, NULL),\r\n",
                "(5, 1, NULL), (5, 2, NULL), (5, 3, NULL), (5, 4, NULL),\r\n",
                "(6, 1, NULL), (6, 2, NULL), (6, 3, NULL),\r\n",
                "(7, 1, NULL), (7, 2, NULL);\r\n",
                "GO"
            ],
            "metadata": {
                "language": "sql",
                "azdata_cell_guid": "e43095ae-b674-4c93-a4fc-33d17c2809b5",
                "tags": []
            },
            "outputs": [
                {
                    "output_type": "display_data",
                    "data": {
                        "text/html": "(34 rows affected)"
                    },
                    "metadata": {}
                },
                {
                    "output_type": "display_data",
                    "data": {
                        "text/html": "Total execution time: 00:00:00.073"
                    },
                    "metadata": {}
                }
            ],
            "execution_count": 45
        },
        {
            "cell_type": "code",
            "source": [
                "     -- All combinations\r\n",
                "\r\n",
                "    SELECT s.row, s.col, n.value\r\n",
                "    FROM sudoku s\r\n",
                "    CROSS JOIN (VALUES (1), (2), (3), (4), (5), (6), (7), (8), (9)) n(value)\r\n",
                "    WHERE s.value IS NULL\r\n",
                "    order by s.row, s.col, n.value"
            ],
            "metadata": {
                "language": "sql",
                "azdata_cell_guid": "e769010e-6e6e-4720-b7a5-f5ba1187a8af",
                "tags": []
            },
            "outputs": [
                {
                    "output_type": "display_data",
                    "data": {
                        "text/html": "(306 rows affected)"
                    },
                    "metadata": {}
                },
                {
                    "output_type": "display_data",
                    "data": {
                        "text/html": "Total execution time: 00:00:00.046"
                    },
                    "metadata": {}
                },
                {
                    "output_type": "execute_result",
                    "metadata": {},
                    "execution_count": 46,
                    "data": {
                        "application/vnd.dataresource+json": {
                            "schema": {
                                "fields": [
                                    {
                                        "name": "row"
                                    },
                                    {
                                        "name": "col"
                                    },
                                    {
                                        "name": "value"
                                    }
                                ]
                            },
                            "data": [
                                {
                                    "row": "1",
                                    "col": "1",
                                    "value": "1"
                                },
                                {
                                    "row": "1",
                                    "col": "1",
                                    "value": "2"
                                },
                                {
                                    "row": "1",
                                    "col": "1",
                                    "value": "3"
                                },
                                {
                                    "row": "1",
                                    "col": "1",
                                    "value": "4"
                                },
                                {
                                    "row": "1",
                                    "col": "1",
                                    "value": "5"
                                },
                                {
                                    "row": "1",
                                    "col": "1",
                                    "value": "6"
                                },
                                {
                                    "row": "1",
                                    "col": "1",
                                    "value": "7"
                                },
                                {
                                    "row": "1",
                                    "col": "1",
                                    "value": "8"
                                },
                                {
                                    "row": "1",
                                    "col": "1",
                                    "value": "9"
                                },
                                {
                                    "row": "1",
                                    "col": "2",
                                    "value": "1"
                                },
                                {
                                    "row": "1",
                                    "col": "2",
                                    "value": "2"
                                },
                                {
                                    "row": "1",
                                    "col": "2",
                                    "value": "3"
                                },
                                {
                                    "row": "1",
                                    "col": "2",
                                    "value": "4"
                                },
                                {
                                    "row": "1",
                                    "col": "2",
                                    "value": "5"
                                },
                                {
                                    "row": "1",
                                    "col": "2",
                                    "value": "6"
                                },
                                {
                                    "row": "1",
                                    "col": "2",
                                    "value": "7"
                                },
                                {
                                    "row": "1",
                                    "col": "2",
                                    "value": "8"
                                },
                                {
                                    "row": "1",
                                    "col": "2",
                                    "value": "9"
                                },
                                {
                                    "row": "1",
                                    "col": "3",
                                    "value": "1"
                                },
                                {
                                    "row": "1",
                                    "col": "3",
                                    "value": "2"
                                },
                                {
                                    "row": "1",
                                    "col": "3",
                                    "value": "3"
                                },
                                {
                                    "row": "1",
                                    "col": "3",
                                    "value": "4"
                                },
                                {
                                    "row": "1",
                                    "col": "3",
                                    "value": "5"
                                },
                                {
                                    "row": "1",
                                    "col": "3",
                                    "value": "6"
                                },
                                {
                                    "row": "1",
                                    "col": "3",
                                    "value": "7"
                                },
                                {
                                    "row": "1",
                                    "col": "3",
                                    "value": "8"
                                },
                                {
                                    "row": "1",
                                    "col": "3",
                                    "value": "9"
                                },
                                {
                                    "row": "1",
                                    "col": "4",
                                    "value": "1"
                                },
                                {
                                    "row": "1",
                                    "col": "4",
                                    "value": "2"
                                },
                                {
                                    "row": "1",
                                    "col": "4",
                                    "value": "3"
                                },
                                {
                                    "row": "1",
                                    "col": "4",
                                    "value": "4"
                                },
                                {
                                    "row": "1",
                                    "col": "4",
                                    "value": "5"
                                },
                                {
                                    "row": "1",
                                    "col": "4",
                                    "value": "6"
                                },
                                {
                                    "row": "1",
                                    "col": "4",
                                    "value": "7"
                                },
                                {
                                    "row": "1",
                                    "col": "4",
                                    "value": "8"
                                },
                                {
                                    "row": "1",
                                    "col": "4",
                                    "value": "9"
                                },
                                {
                                    "row": "1",
                                    "col": "5",
                                    "value": "1"
                                },
                                {
                                    "row": "1",
                                    "col": "5",
                                    "value": "2"
                                },
                                {
                                    "row": "1",
                                    "col": "5",
                                    "value": "3"
                                },
                                {
                                    "row": "1",
                                    "col": "5",
                                    "value": "4"
                                },
                                {
                                    "row": "1",
                                    "col": "5",
                                    "value": "5"
                                },
                                {
                                    "row": "1",
                                    "col": "5",
                                    "value": "6"
                                },
                                {
                                    "row": "1",
                                    "col": "5",
                                    "value": "7"
                                },
                                {
                                    "row": "1",
                                    "col": "5",
                                    "value": "8"
                                },
                                {
                                    "row": "1",
                                    "col": "5",
                                    "value": "9"
                                },
                                {
                                    "row": "1",
                                    "col": "6",
                                    "value": "1"
                                },
                                {
                                    "row": "1",
                                    "col": "6",
                                    "value": "2"
                                },
                                {
                                    "row": "1",
                                    "col": "6",
                                    "value": "3"
                                },
                                {
                                    "row": "1",
                                    "col": "6",
                                    "value": "4"
                                },
                                {
                                    "row": "1",
                                    "col": "6",
                                    "value": "5"
                                },
                                {
                                    "row": "1",
                                    "col": "6",
                                    "value": "6"
                                },
                                {
                                    "row": "1",
                                    "col": "6",
                                    "value": "7"
                                },
                                {
                                    "row": "1",
                                    "col": "6",
                                    "value": "8"
                                },
                                {
                                    "row": "1",
                                    "col": "6",
                                    "value": "9"
                                },
                                {
                                    "row": "1",
                                    "col": "7",
                                    "value": "1"
                                },
                                {
                                    "row": "1",
                                    "col": "7",
                                    "value": "2"
                                },
                                {
                                    "row": "1",
                                    "col": "7",
                                    "value": "3"
                                },
                                {
                                    "row": "1",
                                    "col": "7",
                                    "value": "4"
                                },
                                {
                                    "row": "1",
                                    "col": "7",
                                    "value": "5"
                                },
                                {
                                    "row": "1",
                                    "col": "7",
                                    "value": "6"
                                },
                                {
                                    "row": "1",
                                    "col": "7",
                                    "value": "7"
                                },
                                {
                                    "row": "1",
                                    "col": "7",
                                    "value": "8"
                                },
                                {
                                    "row": "1",
                                    "col": "7",
                                    "value": "9"
                                },
                                {
                                    "row": "2",
                                    "col": "1",
                                    "value": "1"
                                },
                                {
                                    "row": "2",
                                    "col": "1",
                                    "value": "2"
                                },
                                {
                                    "row": "2",
                                    "col": "1",
                                    "value": "3"
                                },
                                {
                                    "row": "2",
                                    "col": "1",
                                    "value": "4"
                                },
                                {
                                    "row": "2",
                                    "col": "1",
                                    "value": "5"
                                },
                                {
                                    "row": "2",
                                    "col": "1",
                                    "value": "6"
                                },
                                {
                                    "row": "2",
                                    "col": "1",
                                    "value": "7"
                                },
                                {
                                    "row": "2",
                                    "col": "1",
                                    "value": "8"
                                },
                                {
                                    "row": "2",
                                    "col": "1",
                                    "value": "9"
                                },
                                {
                                    "row": "2",
                                    "col": "2",
                                    "value": "1"
                                },
                                {
                                    "row": "2",
                                    "col": "2",
                                    "value": "2"
                                },
                                {
                                    "row": "2",
                                    "col": "2",
                                    "value": "3"
                                },
                                {
                                    "row": "2",
                                    "col": "2",
                                    "value": "4"
                                },
                                {
                                    "row": "2",
                                    "col": "2",
                                    "value": "5"
                                },
                                {
                                    "row": "2",
                                    "col": "2",
                                    "value": "6"
                                },
                                {
                                    "row": "2",
                                    "col": "2",
                                    "value": "7"
                                },
                                {
                                    "row": "2",
                                    "col": "2",
                                    "value": "8"
                                },
                                {
                                    "row": "2",
                                    "col": "2",
                                    "value": "9"
                                },
                                {
                                    "row": "2",
                                    "col": "3",
                                    "value": "1"
                                },
                                {
                                    "row": "2",
                                    "col": "3",
                                    "value": "2"
                                },
                                {
                                    "row": "2",
                                    "col": "3",
                                    "value": "3"
                                },
                                {
                                    "row": "2",
                                    "col": "3",
                                    "value": "4"
                                },
                                {
                                    "row": "2",
                                    "col": "3",
                                    "value": "5"
                                },
                                {
                                    "row": "2",
                                    "col": "3",
                                    "value": "6"
                                },
                                {
                                    "row": "2",
                                    "col": "3",
                                    "value": "7"
                                },
                                {
                                    "row": "2",
                                    "col": "3",
                                    "value": "8"
                                },
                                {
                                    "row": "2",
                                    "col": "3",
                                    "value": "9"
                                },
                                {
                                    "row": "2",
                                    "col": "4",
                                    "value": "1"
                                },
                                {
                                    "row": "2",
                                    "col": "4",
                                    "value": "2"
                                },
                                {
                                    "row": "2",
                                    "col": "4",
                                    "value": "3"
                                },
                                {
                                    "row": "2",
                                    "col": "4",
                                    "value": "4"
                                },
                                {
                                    "row": "2",
                                    "col": "4",
                                    "value": "5"
                                },
                                {
                                    "row": "2",
                                    "col": "4",
                                    "value": "6"
                                },
                                {
                                    "row": "2",
                                    "col": "4",
                                    "value": "7"
                                },
                                {
                                    "row": "2",
                                    "col": "4",
                                    "value": "8"
                                },
                                {
                                    "row": "2",
                                    "col": "4",
                                    "value": "9"
                                },
                                {
                                    "row": "2",
                                    "col": "5",
                                    "value": "1"
                                },
                                {
                                    "row": "2",
                                    "col": "5",
                                    "value": "2"
                                },
                                {
                                    "row": "2",
                                    "col": "5",
                                    "value": "3"
                                },
                                {
                                    "row": "2",
                                    "col": "5",
                                    "value": "4"
                                },
                                {
                                    "row": "2",
                                    "col": "5",
                                    "value": "5"
                                },
                                {
                                    "row": "2",
                                    "col": "5",
                                    "value": "6"
                                },
                                {
                                    "row": "2",
                                    "col": "5",
                                    "value": "7"
                                },
                                {
                                    "row": "2",
                                    "col": "5",
                                    "value": "8"
                                },
                                {
                                    "row": "2",
                                    "col": "5",
                                    "value": "9"
                                },
                                {
                                    "row": "2",
                                    "col": "6",
                                    "value": "1"
                                },
                                {
                                    "row": "2",
                                    "col": "6",
                                    "value": "2"
                                },
                                {
                                    "row": "2",
                                    "col": "6",
                                    "value": "3"
                                },
                                {
                                    "row": "2",
                                    "col": "6",
                                    "value": "4"
                                },
                                {
                                    "row": "2",
                                    "col": "6",
                                    "value": "5"
                                },
                                {
                                    "row": "2",
                                    "col": "6",
                                    "value": "6"
                                },
                                {
                                    "row": "2",
                                    "col": "6",
                                    "value": "7"
                                },
                                {
                                    "row": "2",
                                    "col": "6",
                                    "value": "8"
                                },
                                {
                                    "row": "2",
                                    "col": "6",
                                    "value": "9"
                                },
                                {
                                    "row": "2",
                                    "col": "7",
                                    "value": "1"
                                },
                                {
                                    "row": "2",
                                    "col": "7",
                                    "value": "2"
                                },
                                {
                                    "row": "2",
                                    "col": "7",
                                    "value": "3"
                                },
                                {
                                    "row": "2",
                                    "col": "7",
                                    "value": "4"
                                },
                                {
                                    "row": "2",
                                    "col": "7",
                                    "value": "5"
                                },
                                {
                                    "row": "2",
                                    "col": "7",
                                    "value": "6"
                                },
                                {
                                    "row": "2",
                                    "col": "7",
                                    "value": "7"
                                },
                                {
                                    "row": "2",
                                    "col": "7",
                                    "value": "8"
                                },
                                {
                                    "row": "2",
                                    "col": "7",
                                    "value": "9"
                                },
                                {
                                    "row": "3",
                                    "col": "1",
                                    "value": "1"
                                },
                                {
                                    "row": "3",
                                    "col": "1",
                                    "value": "2"
                                },
                                {
                                    "row": "3",
                                    "col": "1",
                                    "value": "3"
                                },
                                {
                                    "row": "3",
                                    "col": "1",
                                    "value": "4"
                                },
                                {
                                    "row": "3",
                                    "col": "1",
                                    "value": "5"
                                },
                                {
                                    "row": "3",
                                    "col": "1",
                                    "value": "6"
                                },
                                {
                                    "row": "3",
                                    "col": "1",
                                    "value": "7"
                                },
                                {
                                    "row": "3",
                                    "col": "1",
                                    "value": "8"
                                },
                                {
                                    "row": "3",
                                    "col": "1",
                                    "value": "9"
                                },
                                {
                                    "row": "3",
                                    "col": "2",
                                    "value": "1"
                                },
                                {
                                    "row": "3",
                                    "col": "2",
                                    "value": "2"
                                },
                                {
                                    "row": "3",
                                    "col": "2",
                                    "value": "3"
                                },
                                {
                                    "row": "3",
                                    "col": "2",
                                    "value": "4"
                                },
                                {
                                    "row": "3",
                                    "col": "2",
                                    "value": "5"
                                },
                                {
                                    "row": "3",
                                    "col": "2",
                                    "value": "6"
                                },
                                {
                                    "row": "3",
                                    "col": "2",
                                    "value": "7"
                                },
                                {
                                    "row": "3",
                                    "col": "2",
                                    "value": "8"
                                },
                                {
                                    "row": "3",
                                    "col": "2",
                                    "value": "9"
                                },
                                {
                                    "row": "3",
                                    "col": "3",
                                    "value": "1"
                                },
                                {
                                    "row": "3",
                                    "col": "3",
                                    "value": "2"
                                },
                                {
                                    "row": "3",
                                    "col": "3",
                                    "value": "3"
                                },
                                {
                                    "row": "3",
                                    "col": "3",
                                    "value": "4"
                                },
                                {
                                    "row": "3",
                                    "col": "3",
                                    "value": "5"
                                },
                                {
                                    "row": "3",
                                    "col": "3",
                                    "value": "6"
                                },
                                {
                                    "row": "3",
                                    "col": "3",
                                    "value": "7"
                                },
                                {
                                    "row": "3",
                                    "col": "3",
                                    "value": "8"
                                },
                                {
                                    "row": "3",
                                    "col": "3",
                                    "value": "9"
                                },
                                {
                                    "row": "3",
                                    "col": "4",
                                    "value": "1"
                                },
                                {
                                    "row": "3",
                                    "col": "4",
                                    "value": "2"
                                },
                                {
                                    "row": "3",
                                    "col": "4",
                                    "value": "3"
                                },
                                {
                                    "row": "3",
                                    "col": "4",
                                    "value": "4"
                                },
                                {
                                    "row": "3",
                                    "col": "4",
                                    "value": "5"
                                },
                                {
                                    "row": "3",
                                    "col": "4",
                                    "value": "6"
                                },
                                {
                                    "row": "3",
                                    "col": "4",
                                    "value": "7"
                                },
                                {
                                    "row": "3",
                                    "col": "4",
                                    "value": "8"
                                },
                                {
                                    "row": "3",
                                    "col": "4",
                                    "value": "9"
                                },
                                {
                                    "row": "3",
                                    "col": "5",
                                    "value": "1"
                                },
                                {
                                    "row": "3",
                                    "col": "5",
                                    "value": "2"
                                },
                                {
                                    "row": "3",
                                    "col": "5",
                                    "value": "3"
                                },
                                {
                                    "row": "3",
                                    "col": "5",
                                    "value": "4"
                                },
                                {
                                    "row": "3",
                                    "col": "5",
                                    "value": "5"
                                },
                                {
                                    "row": "3",
                                    "col": "5",
                                    "value": "6"
                                },
                                {
                                    "row": "3",
                                    "col": "5",
                                    "value": "7"
                                },
                                {
                                    "row": "3",
                                    "col": "5",
                                    "value": "8"
                                },
                                {
                                    "row": "3",
                                    "col": "5",
                                    "value": "9"
                                },
                                {
                                    "row": "3",
                                    "col": "6",
                                    "value": "1"
                                },
                                {
                                    "row": "3",
                                    "col": "6",
                                    "value": "2"
                                },
                                {
                                    "row": "3",
                                    "col": "6",
                                    "value": "3"
                                },
                                {
                                    "row": "3",
                                    "col": "6",
                                    "value": "4"
                                },
                                {
                                    "row": "3",
                                    "col": "6",
                                    "value": "5"
                                },
                                {
                                    "row": "3",
                                    "col": "6",
                                    "value": "6"
                                },
                                {
                                    "row": "3",
                                    "col": "6",
                                    "value": "7"
                                },
                                {
                                    "row": "3",
                                    "col": "6",
                                    "value": "8"
                                },
                                {
                                    "row": "3",
                                    "col": "6",
                                    "value": "9"
                                },
                                {
                                    "row": "4",
                                    "col": "1",
                                    "value": "1"
                                },
                                {
                                    "row": "4",
                                    "col": "1",
                                    "value": "2"
                                },
                                {
                                    "row": "4",
                                    "col": "1",
                                    "value": "3"
                                },
                                {
                                    "row": "4",
                                    "col": "1",
                                    "value": "4"
                                },
                                {
                                    "row": "4",
                                    "col": "1",
                                    "value": "5"
                                },
                                {
                                    "row": "4",
                                    "col": "1",
                                    "value": "6"
                                },
                                {
                                    "row": "4",
                                    "col": "1",
                                    "value": "7"
                                },
                                {
                                    "row": "4",
                                    "col": "1",
                                    "value": "8"
                                },
                                {
                                    "row": "4",
                                    "col": "1",
                                    "value": "9"
                                },
                                {
                                    "row": "4",
                                    "col": "2",
                                    "value": "1"
                                },
                                {
                                    "row": "4",
                                    "col": "2",
                                    "value": "2"
                                },
                                {
                                    "row": "4",
                                    "col": "2",
                                    "value": "3"
                                },
                                {
                                    "row": "4",
                                    "col": "2",
                                    "value": "4"
                                },
                                {
                                    "row": "4",
                                    "col": "2",
                                    "value": "5"
                                },
                                {
                                    "row": "4",
                                    "col": "2",
                                    "value": "6"
                                },
                                {
                                    "row": "4",
                                    "col": "2",
                                    "value": "7"
                                },
                                {
                                    "row": "4",
                                    "col": "2",
                                    "value": "8"
                                },
                                {
                                    "row": "4",
                                    "col": "2",
                                    "value": "9"
                                },
                                {
                                    "row": "4",
                                    "col": "3",
                                    "value": "1"
                                },
                                {
                                    "row": "4",
                                    "col": "3",
                                    "value": "2"
                                },
                                {
                                    "row": "4",
                                    "col": "3",
                                    "value": "3"
                                },
                                {
                                    "row": "4",
                                    "col": "3",
                                    "value": "4"
                                },
                                {
                                    "row": "4",
                                    "col": "3",
                                    "value": "5"
                                },
                                {
                                    "row": "4",
                                    "col": "3",
                                    "value": "6"
                                },
                                {
                                    "row": "4",
                                    "col": "3",
                                    "value": "7"
                                },
                                {
                                    "row": "4",
                                    "col": "3",
                                    "value": "8"
                                },
                                {
                                    "row": "4",
                                    "col": "3",
                                    "value": "9"
                                },
                                {
                                    "row": "4",
                                    "col": "4",
                                    "value": "1"
                                },
                                {
                                    "row": "4",
                                    "col": "4",
                                    "value": "2"
                                },
                                {
                                    "row": "4",
                                    "col": "4",
                                    "value": "3"
                                },
                                {
                                    "row": "4",
                                    "col": "4",
                                    "value": "4"
                                },
                                {
                                    "row": "4",
                                    "col": "4",
                                    "value": "5"
                                },
                                {
                                    "row": "4",
                                    "col": "4",
                                    "value": "6"
                                },
                                {
                                    "row": "4",
                                    "col": "4",
                                    "value": "7"
                                },
                                {
                                    "row": "4",
                                    "col": "4",
                                    "value": "8"
                                },
                                {
                                    "row": "4",
                                    "col": "4",
                                    "value": "9"
                                },
                                {
                                    "row": "4",
                                    "col": "5",
                                    "value": "1"
                                },
                                {
                                    "row": "4",
                                    "col": "5",
                                    "value": "2"
                                },
                                {
                                    "row": "4",
                                    "col": "5",
                                    "value": "3"
                                },
                                {
                                    "row": "4",
                                    "col": "5",
                                    "value": "4"
                                },
                                {
                                    "row": "4",
                                    "col": "5",
                                    "value": "5"
                                },
                                {
                                    "row": "4",
                                    "col": "5",
                                    "value": "6"
                                },
                                {
                                    "row": "4",
                                    "col": "5",
                                    "value": "7"
                                },
                                {
                                    "row": "4",
                                    "col": "5",
                                    "value": "8"
                                },
                                {
                                    "row": "4",
                                    "col": "5",
                                    "value": "9"
                                },
                                {
                                    "row": "5",
                                    "col": "1",
                                    "value": "1"
                                },
                                {
                                    "row": "5",
                                    "col": "1",
                                    "value": "2"
                                },
                                {
                                    "row": "5",
                                    "col": "1",
                                    "value": "3"
                                },
                                {
                                    "row": "5",
                                    "col": "1",
                                    "value": "4"
                                },
                                {
                                    "row": "5",
                                    "col": "1",
                                    "value": "5"
                                },
                                {
                                    "row": "5",
                                    "col": "1",
                                    "value": "6"
                                },
                                {
                                    "row": "5",
                                    "col": "1",
                                    "value": "7"
                                },
                                {
                                    "row": "5",
                                    "col": "1",
                                    "value": "8"
                                },
                                {
                                    "row": "5",
                                    "col": "1",
                                    "value": "9"
                                },
                                {
                                    "row": "5",
                                    "col": "2",
                                    "value": "1"
                                },
                                {
                                    "row": "5",
                                    "col": "2",
                                    "value": "2"
                                },
                                {
                                    "row": "5",
                                    "col": "2",
                                    "value": "3"
                                },
                                {
                                    "row": "5",
                                    "col": "2",
                                    "value": "4"
                                },
                                {
                                    "row": "5",
                                    "col": "2",
                                    "value": "5"
                                },
                                {
                                    "row": "5",
                                    "col": "2",
                                    "value": "6"
                                },
                                {
                                    "row": "5",
                                    "col": "2",
                                    "value": "7"
                                },
                                {
                                    "row": "5",
                                    "col": "2",
                                    "value": "8"
                                },
                                {
                                    "row": "5",
                                    "col": "2",
                                    "value": "9"
                                },
                                {
                                    "row": "5",
                                    "col": "3",
                                    "value": "1"
                                },
                                {
                                    "row": "5",
                                    "col": "3",
                                    "value": "2"
                                },
                                {
                                    "row": "5",
                                    "col": "3",
                                    "value": "3"
                                },
                                {
                                    "row": "5",
                                    "col": "3",
                                    "value": "4"
                                },
                                {
                                    "row": "5",
                                    "col": "3",
                                    "value": "5"
                                },
                                {
                                    "row": "5",
                                    "col": "3",
                                    "value": "6"
                                },
                                {
                                    "row": "5",
                                    "col": "3",
                                    "value": "7"
                                },
                                {
                                    "row": "5",
                                    "col": "3",
                                    "value": "8"
                                },
                                {
                                    "row": "5",
                                    "col": "3",
                                    "value": "9"
                                },
                                {
                                    "row": "5",
                                    "col": "4",
                                    "value": "1"
                                },
                                {
                                    "row": "5",
                                    "col": "4",
                                    "value": "2"
                                },
                                {
                                    "row": "5",
                                    "col": "4",
                                    "value": "3"
                                },
                                {
                                    "row": "5",
                                    "col": "4",
                                    "value": "4"
                                },
                                {
                                    "row": "5",
                                    "col": "4",
                                    "value": "5"
                                },
                                {
                                    "row": "5",
                                    "col": "4",
                                    "value": "6"
                                },
                                {
                                    "row": "5",
                                    "col": "4",
                                    "value": "7"
                                },
                                {
                                    "row": "5",
                                    "col": "4",
                                    "value": "8"
                                },
                                {
                                    "row": "5",
                                    "col": "4",
                                    "value": "9"
                                },
                                {
                                    "row": "6",
                                    "col": "1",
                                    "value": "1"
                                },
                                {
                                    "row": "6",
                                    "col": "1",
                                    "value": "2"
                                },
                                {
                                    "row": "6",
                                    "col": "1",
                                    "value": "3"
                                },
                                {
                                    "row": "6",
                                    "col": "1",
                                    "value": "4"
                                },
                                {
                                    "row": "6",
                                    "col": "1",
                                    "value": "5"
                                },
                                {
                                    "row": "6",
                                    "col": "1",
                                    "value": "6"
                                },
                                {
                                    "row": "6",
                                    "col": "1",
                                    "value": "7"
                                },
                                {
                                    "row": "6",
                                    "col": "1",
                                    "value": "8"
                                },
                                {
                                    "row": "6",
                                    "col": "1",
                                    "value": "9"
                                },
                                {
                                    "row": "6",
                                    "col": "2",
                                    "value": "1"
                                },
                                {
                                    "row": "6",
                                    "col": "2",
                                    "value": "2"
                                },
                                {
                                    "row": "6",
                                    "col": "2",
                                    "value": "3"
                                },
                                {
                                    "row": "6",
                                    "col": "2",
                                    "value": "4"
                                },
                                {
                                    "row": "6",
                                    "col": "2",
                                    "value": "5"
                                },
                                {
                                    "row": "6",
                                    "col": "2",
                                    "value": "6"
                                },
                                {
                                    "row": "6",
                                    "col": "2",
                                    "value": "7"
                                },
                                {
                                    "row": "6",
                                    "col": "2",
                                    "value": "8"
                                },
                                {
                                    "row": "6",
                                    "col": "2",
                                    "value": "9"
                                },
                                {
                                    "row": "6",
                                    "col": "3",
                                    "value": "1"
                                },
                                {
                                    "row": "6",
                                    "col": "3",
                                    "value": "2"
                                },
                                {
                                    "row": "6",
                                    "col": "3",
                                    "value": "3"
                                },
                                {
                                    "row": "6",
                                    "col": "3",
                                    "value": "4"
                                },
                                {
                                    "row": "6",
                                    "col": "3",
                                    "value": "5"
                                },
                                {
                                    "row": "6",
                                    "col": "3",
                                    "value": "6"
                                },
                                {
                                    "row": "6",
                                    "col": "3",
                                    "value": "7"
                                },
                                {
                                    "row": "6",
                                    "col": "3",
                                    "value": "8"
                                },
                                {
                                    "row": "6",
                                    "col": "3",
                                    "value": "9"
                                },
                                {
                                    "row": "7",
                                    "col": "1",
                                    "value": "1"
                                },
                                {
                                    "row": "7",
                                    "col": "1",
                                    "value": "2"
                                },
                                {
                                    "row": "7",
                                    "col": "1",
                                    "value": "3"
                                },
                                {
                                    "row": "7",
                                    "col": "1",
                                    "value": "4"
                                },
                                {
                                    "row": "7",
                                    "col": "1",
                                    "value": "5"
                                },
                                {
                                    "row": "7",
                                    "col": "1",
                                    "value": "6"
                                },
                                {
                                    "row": "7",
                                    "col": "1",
                                    "value": "7"
                                },
                                {
                                    "row": "7",
                                    "col": "1",
                                    "value": "8"
                                },
                                {
                                    "row": "7",
                                    "col": "1",
                                    "value": "9"
                                },
                                {
                                    "row": "7",
                                    "col": "2",
                                    "value": "1"
                                },
                                {
                                    "row": "7",
                                    "col": "2",
                                    "value": "2"
                                },
                                {
                                    "row": "7",
                                    "col": "2",
                                    "value": "3"
                                },
                                {
                                    "row": "7",
                                    "col": "2",
                                    "value": "4"
                                },
                                {
                                    "row": "7",
                                    "col": "2",
                                    "value": "5"
                                },
                                {
                                    "row": "7",
                                    "col": "2",
                                    "value": "6"
                                },
                                {
                                    "row": "7",
                                    "col": "2",
                                    "value": "7"
                                },
                                {
                                    "row": "7",
                                    "col": "2",
                                    "value": "8"
                                },
                                {
                                    "row": "7",
                                    "col": "2",
                                    "value": "9"
                                }
                            ]
                        },
                        "text/html": [
                            "<table>",
                            "<tr><th>row</th><th>col</th><th>value</th></tr>",
                            "<tr><td>1</td><td>1</td><td>1</td></tr>",
                            "<tr><td>1</td><td>1</td><td>2</td></tr>",
                            "<tr><td>1</td><td>1</td><td>3</td></tr>",
                            "<tr><td>1</td><td>1</td><td>4</td></tr>",
                            "<tr><td>1</td><td>1</td><td>5</td></tr>",
                            "<tr><td>1</td><td>1</td><td>6</td></tr>",
                            "<tr><td>1</td><td>1</td><td>7</td></tr>",
                            "<tr><td>1</td><td>1</td><td>8</td></tr>",
                            "<tr><td>1</td><td>1</td><td>9</td></tr>",
                            "<tr><td>1</td><td>2</td><td>1</td></tr>",
                            "<tr><td>1</td><td>2</td><td>2</td></tr>",
                            "<tr><td>1</td><td>2</td><td>3</td></tr>",
                            "<tr><td>1</td><td>2</td><td>4</td></tr>",
                            "<tr><td>1</td><td>2</td><td>5</td></tr>",
                            "<tr><td>1</td><td>2</td><td>6</td></tr>",
                            "<tr><td>1</td><td>2</td><td>7</td></tr>",
                            "<tr><td>1</td><td>2</td><td>8</td></tr>",
                            "<tr><td>1</td><td>2</td><td>9</td></tr>",
                            "<tr><td>1</td><td>3</td><td>1</td></tr>",
                            "<tr><td>1</td><td>3</td><td>2</td></tr>",
                            "<tr><td>1</td><td>3</td><td>3</td></tr>",
                            "<tr><td>1</td><td>3</td><td>4</td></tr>",
                            "<tr><td>1</td><td>3</td><td>5</td></tr>",
                            "<tr><td>1</td><td>3</td><td>6</td></tr>",
                            "<tr><td>1</td><td>3</td><td>7</td></tr>",
                            "<tr><td>1</td><td>3</td><td>8</td></tr>",
                            "<tr><td>1</td><td>3</td><td>9</td></tr>",
                            "<tr><td>1</td><td>4</td><td>1</td></tr>",
                            "<tr><td>1</td><td>4</td><td>2</td></tr>",
                            "<tr><td>1</td><td>4</td><td>3</td></tr>",
                            "<tr><td>1</td><td>4</td><td>4</td></tr>",
                            "<tr><td>1</td><td>4</td><td>5</td></tr>",
                            "<tr><td>1</td><td>4</td><td>6</td></tr>",
                            "<tr><td>1</td><td>4</td><td>7</td></tr>",
                            "<tr><td>1</td><td>4</td><td>8</td></tr>",
                            "<tr><td>1</td><td>4</td><td>9</td></tr>",
                            "<tr><td>1</td><td>5</td><td>1</td></tr>",
                            "<tr><td>1</td><td>5</td><td>2</td></tr>",
                            "<tr><td>1</td><td>5</td><td>3</td></tr>",
                            "<tr><td>1</td><td>5</td><td>4</td></tr>",
                            "<tr><td>1</td><td>5</td><td>5</td></tr>",
                            "<tr><td>1</td><td>5</td><td>6</td></tr>",
                            "<tr><td>1</td><td>5</td><td>7</td></tr>",
                            "<tr><td>1</td><td>5</td><td>8</td></tr>",
                            "<tr><td>1</td><td>5</td><td>9</td></tr>",
                            "<tr><td>1</td><td>6</td><td>1</td></tr>",
                            "<tr><td>1</td><td>6</td><td>2</td></tr>",
                            "<tr><td>1</td><td>6</td><td>3</td></tr>",
                            "<tr><td>1</td><td>6</td><td>4</td></tr>",
                            "<tr><td>1</td><td>6</td><td>5</td></tr>",
                            "<tr><td>1</td><td>6</td><td>6</td></tr>",
                            "<tr><td>1</td><td>6</td><td>7</td></tr>",
                            "<tr><td>1</td><td>6</td><td>8</td></tr>",
                            "<tr><td>1</td><td>6</td><td>9</td></tr>",
                            "<tr><td>1</td><td>7</td><td>1</td></tr>",
                            "<tr><td>1</td><td>7</td><td>2</td></tr>",
                            "<tr><td>1</td><td>7</td><td>3</td></tr>",
                            "<tr><td>1</td><td>7</td><td>4</td></tr>",
                            "<tr><td>1</td><td>7</td><td>5</td></tr>",
                            "<tr><td>1</td><td>7</td><td>6</td></tr>",
                            "<tr><td>1</td><td>7</td><td>7</td></tr>",
                            "<tr><td>1</td><td>7</td><td>8</td></tr>",
                            "<tr><td>1</td><td>7</td><td>9</td></tr>",
                            "<tr><td>2</td><td>1</td><td>1</td></tr>",
                            "<tr><td>2</td><td>1</td><td>2</td></tr>",
                            "<tr><td>2</td><td>1</td><td>3</td></tr>",
                            "<tr><td>2</td><td>1</td><td>4</td></tr>",
                            "<tr><td>2</td><td>1</td><td>5</td></tr>",
                            "<tr><td>2</td><td>1</td><td>6</td></tr>",
                            "<tr><td>2</td><td>1</td><td>7</td></tr>",
                            "<tr><td>2</td><td>1</td><td>8</td></tr>",
                            "<tr><td>2</td><td>1</td><td>9</td></tr>",
                            "<tr><td>2</td><td>2</td><td>1</td></tr>",
                            "<tr><td>2</td><td>2</td><td>2</td></tr>",
                            "<tr><td>2</td><td>2</td><td>3</td></tr>",
                            "<tr><td>2</td><td>2</td><td>4</td></tr>",
                            "<tr><td>2</td><td>2</td><td>5</td></tr>",
                            "<tr><td>2</td><td>2</td><td>6</td></tr>",
                            "<tr><td>2</td><td>2</td><td>7</td></tr>",
                            "<tr><td>2</td><td>2</td><td>8</td></tr>",
                            "<tr><td>2</td><td>2</td><td>9</td></tr>",
                            "<tr><td>2</td><td>3</td><td>1</td></tr>",
                            "<tr><td>2</td><td>3</td><td>2</td></tr>",
                            "<tr><td>2</td><td>3</td><td>3</td></tr>",
                            "<tr><td>2</td><td>3</td><td>4</td></tr>",
                            "<tr><td>2</td><td>3</td><td>5</td></tr>",
                            "<tr><td>2</td><td>3</td><td>6</td></tr>",
                            "<tr><td>2</td><td>3</td><td>7</td></tr>",
                            "<tr><td>2</td><td>3</td><td>8</td></tr>",
                            "<tr><td>2</td><td>3</td><td>9</td></tr>",
                            "<tr><td>2</td><td>4</td><td>1</td></tr>",
                            "<tr><td>2</td><td>4</td><td>2</td></tr>",
                            "<tr><td>2</td><td>4</td><td>3</td></tr>",
                            "<tr><td>2</td><td>4</td><td>4</td></tr>",
                            "<tr><td>2</td><td>4</td><td>5</td></tr>",
                            "<tr><td>2</td><td>4</td><td>6</td></tr>",
                            "<tr><td>2</td><td>4</td><td>7</td></tr>",
                            "<tr><td>2</td><td>4</td><td>8</td></tr>",
                            "<tr><td>2</td><td>4</td><td>9</td></tr>",
                            "<tr><td>2</td><td>5</td><td>1</td></tr>",
                            "<tr><td>2</td><td>5</td><td>2</td></tr>",
                            "<tr><td>2</td><td>5</td><td>3</td></tr>",
                            "<tr><td>2</td><td>5</td><td>4</td></tr>",
                            "<tr><td>2</td><td>5</td><td>5</td></tr>",
                            "<tr><td>2</td><td>5</td><td>6</td></tr>",
                            "<tr><td>2</td><td>5</td><td>7</td></tr>",
                            "<tr><td>2</td><td>5</td><td>8</td></tr>",
                            "<tr><td>2</td><td>5</td><td>9</td></tr>",
                            "<tr><td>2</td><td>6</td><td>1</td></tr>",
                            "<tr><td>2</td><td>6</td><td>2</td></tr>",
                            "<tr><td>2</td><td>6</td><td>3</td></tr>",
                            "<tr><td>2</td><td>6</td><td>4</td></tr>",
                            "<tr><td>2</td><td>6</td><td>5</td></tr>",
                            "<tr><td>2</td><td>6</td><td>6</td></tr>",
                            "<tr><td>2</td><td>6</td><td>7</td></tr>",
                            "<tr><td>2</td><td>6</td><td>8</td></tr>",
                            "<tr><td>2</td><td>6</td><td>9</td></tr>",
                            "<tr><td>2</td><td>7</td><td>1</td></tr>",
                            "<tr><td>2</td><td>7</td><td>2</td></tr>",
                            "<tr><td>2</td><td>7</td><td>3</td></tr>",
                            "<tr><td>2</td><td>7</td><td>4</td></tr>",
                            "<tr><td>2</td><td>7</td><td>5</td></tr>",
                            "<tr><td>2</td><td>7</td><td>6</td></tr>",
                            "<tr><td>2</td><td>7</td><td>7</td></tr>",
                            "<tr><td>2</td><td>7</td><td>8</td></tr>",
                            "<tr><td>2</td><td>7</td><td>9</td></tr>",
                            "<tr><td>3</td><td>1</td><td>1</td></tr>",
                            "<tr><td>3</td><td>1</td><td>2</td></tr>",
                            "<tr><td>3</td><td>1</td><td>3</td></tr>",
                            "<tr><td>3</td><td>1</td><td>4</td></tr>",
                            "<tr><td>3</td><td>1</td><td>5</td></tr>",
                            "<tr><td>3</td><td>1</td><td>6</td></tr>",
                            "<tr><td>3</td><td>1</td><td>7</td></tr>",
                            "<tr><td>3</td><td>1</td><td>8</td></tr>",
                            "<tr><td>3</td><td>1</td><td>9</td></tr>",
                            "<tr><td>3</td><td>2</td><td>1</td></tr>",
                            "<tr><td>3</td><td>2</td><td>2</td></tr>",
                            "<tr><td>3</td><td>2</td><td>3</td></tr>",
                            "<tr><td>3</td><td>2</td><td>4</td></tr>",
                            "<tr><td>3</td><td>2</td><td>5</td></tr>",
                            "<tr><td>3</td><td>2</td><td>6</td></tr>",
                            "<tr><td>3</td><td>2</td><td>7</td></tr>",
                            "<tr><td>3</td><td>2</td><td>8</td></tr>",
                            "<tr><td>3</td><td>2</td><td>9</td></tr>",
                            "<tr><td>3</td><td>3</td><td>1</td></tr>",
                            "<tr><td>3</td><td>3</td><td>2</td></tr>",
                            "<tr><td>3</td><td>3</td><td>3</td></tr>",
                            "<tr><td>3</td><td>3</td><td>4</td></tr>",
                            "<tr><td>3</td><td>3</td><td>5</td></tr>",
                            "<tr><td>3</td><td>3</td><td>6</td></tr>",
                            "<tr><td>3</td><td>3</td><td>7</td></tr>",
                            "<tr><td>3</td><td>3</td><td>8</td></tr>",
                            "<tr><td>3</td><td>3</td><td>9</td></tr>",
                            "<tr><td>3</td><td>4</td><td>1</td></tr>",
                            "<tr><td>3</td><td>4</td><td>2</td></tr>",
                            "<tr><td>3</td><td>4</td><td>3</td></tr>",
                            "<tr><td>3</td><td>4</td><td>4</td></tr>",
                            "<tr><td>3</td><td>4</td><td>5</td></tr>",
                            "<tr><td>3</td><td>4</td><td>6</td></tr>",
                            "<tr><td>3</td><td>4</td><td>7</td></tr>",
                            "<tr><td>3</td><td>4</td><td>8</td></tr>",
                            "<tr><td>3</td><td>4</td><td>9</td></tr>",
                            "<tr><td>3</td><td>5</td><td>1</td></tr>",
                            "<tr><td>3</td><td>5</td><td>2</td></tr>",
                            "<tr><td>3</td><td>5</td><td>3</td></tr>",
                            "<tr><td>3</td><td>5</td><td>4</td></tr>",
                            "<tr><td>3</td><td>5</td><td>5</td></tr>",
                            "<tr><td>3</td><td>5</td><td>6</td></tr>",
                            "<tr><td>3</td><td>5</td><td>7</td></tr>",
                            "<tr><td>3</td><td>5</td><td>8</td></tr>",
                            "<tr><td>3</td><td>5</td><td>9</td></tr>",
                            "<tr><td>3</td><td>6</td><td>1</td></tr>",
                            "<tr><td>3</td><td>6</td><td>2</td></tr>",
                            "<tr><td>3</td><td>6</td><td>3</td></tr>",
                            "<tr><td>3</td><td>6</td><td>4</td></tr>",
                            "<tr><td>3</td><td>6</td><td>5</td></tr>",
                            "<tr><td>3</td><td>6</td><td>6</td></tr>",
                            "<tr><td>3</td><td>6</td><td>7</td></tr>",
                            "<tr><td>3</td><td>6</td><td>8</td></tr>",
                            "<tr><td>3</td><td>6</td><td>9</td></tr>",
                            "<tr><td>4</td><td>1</td><td>1</td></tr>",
                            "<tr><td>4</td><td>1</td><td>2</td></tr>",
                            "<tr><td>4</td><td>1</td><td>3</td></tr>",
                            "<tr><td>4</td><td>1</td><td>4</td></tr>",
                            "<tr><td>4</td><td>1</td><td>5</td></tr>",
                            "<tr><td>4</td><td>1</td><td>6</td></tr>",
                            "<tr><td>4</td><td>1</td><td>7</td></tr>",
                            "<tr><td>4</td><td>1</td><td>8</td></tr>",
                            "<tr><td>4</td><td>1</td><td>9</td></tr>",
                            "<tr><td>4</td><td>2</td><td>1</td></tr>",
                            "<tr><td>4</td><td>2</td><td>2</td></tr>",
                            "<tr><td>4</td><td>2</td><td>3</td></tr>",
                            "<tr><td>4</td><td>2</td><td>4</td></tr>",
                            "<tr><td>4</td><td>2</td><td>5</td></tr>",
                            "<tr><td>4</td><td>2</td><td>6</td></tr>",
                            "<tr><td>4</td><td>2</td><td>7</td></tr>",
                            "<tr><td>4</td><td>2</td><td>8</td></tr>",
                            "<tr><td>4</td><td>2</td><td>9</td></tr>",
                            "<tr><td>4</td><td>3</td><td>1</td></tr>",
                            "<tr><td>4</td><td>3</td><td>2</td></tr>",
                            "<tr><td>4</td><td>3</td><td>3</td></tr>",
                            "<tr><td>4</td><td>3</td><td>4</td></tr>",
                            "<tr><td>4</td><td>3</td><td>5</td></tr>",
                            "<tr><td>4</td><td>3</td><td>6</td></tr>",
                            "<tr><td>4</td><td>3</td><td>7</td></tr>",
                            "<tr><td>4</td><td>3</td><td>8</td></tr>",
                            "<tr><td>4</td><td>3</td><td>9</td></tr>",
                            "<tr><td>4</td><td>4</td><td>1</td></tr>",
                            "<tr><td>4</td><td>4</td><td>2</td></tr>",
                            "<tr><td>4</td><td>4</td><td>3</td></tr>",
                            "<tr><td>4</td><td>4</td><td>4</td></tr>",
                            "<tr><td>4</td><td>4</td><td>5</td></tr>",
                            "<tr><td>4</td><td>4</td><td>6</td></tr>",
                            "<tr><td>4</td><td>4</td><td>7</td></tr>",
                            "<tr><td>4</td><td>4</td><td>8</td></tr>",
                            "<tr><td>4</td><td>4</td><td>9</td></tr>",
                            "<tr><td>4</td><td>5</td><td>1</td></tr>",
                            "<tr><td>4</td><td>5</td><td>2</td></tr>",
                            "<tr><td>4</td><td>5</td><td>3</td></tr>",
                            "<tr><td>4</td><td>5</td><td>4</td></tr>",
                            "<tr><td>4</td><td>5</td><td>5</td></tr>",
                            "<tr><td>4</td><td>5</td><td>6</td></tr>",
                            "<tr><td>4</td><td>5</td><td>7</td></tr>",
                            "<tr><td>4</td><td>5</td><td>8</td></tr>",
                            "<tr><td>4</td><td>5</td><td>9</td></tr>",
                            "<tr><td>5</td><td>1</td><td>1</td></tr>",
                            "<tr><td>5</td><td>1</td><td>2</td></tr>",
                            "<tr><td>5</td><td>1</td><td>3</td></tr>",
                            "<tr><td>5</td><td>1</td><td>4</td></tr>",
                            "<tr><td>5</td><td>1</td><td>5</td></tr>",
                            "<tr><td>5</td><td>1</td><td>6</td></tr>",
                            "<tr><td>5</td><td>1</td><td>7</td></tr>",
                            "<tr><td>5</td><td>1</td><td>8</td></tr>",
                            "<tr><td>5</td><td>1</td><td>9</td></tr>",
                            "<tr><td>5</td><td>2</td><td>1</td></tr>",
                            "<tr><td>5</td><td>2</td><td>2</td></tr>",
                            "<tr><td>5</td><td>2</td><td>3</td></tr>",
                            "<tr><td>5</td><td>2</td><td>4</td></tr>",
                            "<tr><td>5</td><td>2</td><td>5</td></tr>",
                            "<tr><td>5</td><td>2</td><td>6</td></tr>",
                            "<tr><td>5</td><td>2</td><td>7</td></tr>",
                            "<tr><td>5</td><td>2</td><td>8</td></tr>",
                            "<tr><td>5</td><td>2</td><td>9</td></tr>",
                            "<tr><td>5</td><td>3</td><td>1</td></tr>",
                            "<tr><td>5</td><td>3</td><td>2</td></tr>",
                            "<tr><td>5</td><td>3</td><td>3</td></tr>",
                            "<tr><td>5</td><td>3</td><td>4</td></tr>",
                            "<tr><td>5</td><td>3</td><td>5</td></tr>",
                            "<tr><td>5</td><td>3</td><td>6</td></tr>",
                            "<tr><td>5</td><td>3</td><td>7</td></tr>",
                            "<tr><td>5</td><td>3</td><td>8</td></tr>",
                            "<tr><td>5</td><td>3</td><td>9</td></tr>",
                            "<tr><td>5</td><td>4</td><td>1</td></tr>",
                            "<tr><td>5</td><td>4</td><td>2</td></tr>",
                            "<tr><td>5</td><td>4</td><td>3</td></tr>",
                            "<tr><td>5</td><td>4</td><td>4</td></tr>",
                            "<tr><td>5</td><td>4</td><td>5</td></tr>",
                            "<tr><td>5</td><td>4</td><td>6</td></tr>",
                            "<tr><td>5</td><td>4</td><td>7</td></tr>",
                            "<tr><td>5</td><td>4</td><td>8</td></tr>",
                            "<tr><td>5</td><td>4</td><td>9</td></tr>",
                            "<tr><td>6</td><td>1</td><td>1</td></tr>",
                            "<tr><td>6</td><td>1</td><td>2</td></tr>",
                            "<tr><td>6</td><td>1</td><td>3</td></tr>",
                            "<tr><td>6</td><td>1</td><td>4</td></tr>",
                            "<tr><td>6</td><td>1</td><td>5</td></tr>",
                            "<tr><td>6</td><td>1</td><td>6</td></tr>",
                            "<tr><td>6</td><td>1</td><td>7</td></tr>",
                            "<tr><td>6</td><td>1</td><td>8</td></tr>",
                            "<tr><td>6</td><td>1</td><td>9</td></tr>",
                            "<tr><td>6</td><td>2</td><td>1</td></tr>",
                            "<tr><td>6</td><td>2</td><td>2</td></tr>",
                            "<tr><td>6</td><td>2</td><td>3</td></tr>",
                            "<tr><td>6</td><td>2</td><td>4</td></tr>",
                            "<tr><td>6</td><td>2</td><td>5</td></tr>",
                            "<tr><td>6</td><td>2</td><td>6</td></tr>",
                            "<tr><td>6</td><td>2</td><td>7</td></tr>",
                            "<tr><td>6</td><td>2</td><td>8</td></tr>",
                            "<tr><td>6</td><td>2</td><td>9</td></tr>",
                            "<tr><td>6</td><td>3</td><td>1</td></tr>",
                            "<tr><td>6</td><td>3</td><td>2</td></tr>",
                            "<tr><td>6</td><td>3</td><td>3</td></tr>",
                            "<tr><td>6</td><td>3</td><td>4</td></tr>",
                            "<tr><td>6</td><td>3</td><td>5</td></tr>",
                            "<tr><td>6</td><td>3</td><td>6</td></tr>",
                            "<tr><td>6</td><td>3</td><td>7</td></tr>",
                            "<tr><td>6</td><td>3</td><td>8</td></tr>",
                            "<tr><td>6</td><td>3</td><td>9</td></tr>",
                            "<tr><td>7</td><td>1</td><td>1</td></tr>",
                            "<tr><td>7</td><td>1</td><td>2</td></tr>",
                            "<tr><td>7</td><td>1</td><td>3</td></tr>",
                            "<tr><td>7</td><td>1</td><td>4</td></tr>",
                            "<tr><td>7</td><td>1</td><td>5</td></tr>",
                            "<tr><td>7</td><td>1</td><td>6</td></tr>",
                            "<tr><td>7</td><td>1</td><td>7</td></tr>",
                            "<tr><td>7</td><td>1</td><td>8</td></tr>",
                            "<tr><td>7</td><td>1</td><td>9</td></tr>",
                            "<tr><td>7</td><td>2</td><td>1</td></tr>",
                            "<tr><td>7</td><td>2</td><td>2</td></tr>",
                            "<tr><td>7</td><td>2</td><td>3</td></tr>",
                            "<tr><td>7</td><td>2</td><td>4</td></tr>",
                            "<tr><td>7</td><td>2</td><td>5</td></tr>",
                            "<tr><td>7</td><td>2</td><td>6</td></tr>",
                            "<tr><td>7</td><td>2</td><td>7</td></tr>",
                            "<tr><td>7</td><td>2</td><td>8</td></tr>",
                            "<tr><td>7</td><td>2</td><td>9</td></tr>",
                            "</table>"
                        ]
                    }
                }
            ],
            "execution_count": 46
        },
        {
            "cell_type": "code",
            "source": [
                "     -- All combinations\r\n",
                "\r\n",
                "    SELECT s.row, s.col, n.value\r\n",
                "    FROM sudoku s\r\n",
                "    CROSS JOIN (VALUES (1), (2), (3), (4), (5), (6), (7), (8), (9)) n(value)\r\n",
                "    WHERE s.value IS NULL\r\n",
                "      AND NOT EXISTS (\r\n",
                "          -- Check if the value is already in the same row\r\n",
                "          SELECT 1\r\n",
                "          FROM sudoku fs\r\n",
                "          WHERE fs.row = s.row AND fs.value = n.value\r\n",
                "      )\r\n",
                "      AND NOT EXISTS (\r\n",
                "          -- Check if the value is already in the same column\r\n",
                "          SELECT 1\r\n",
                "          FROM sudoku fs\r\n",
                "          WHERE fs.col = s.col AND fs.value = n.value\r\n",
                "      )\r\n",
                "      AND NOT EXISTS (\r\n",
                "          -- Check if the value is already in the same 3x3 block\r\n",
                "          SELECT 1\r\n",
                "          FROM sudoku fs\r\n",
                "          WHERE (fs.row - 1) / 3 = (s.row - 1) / 3\r\n",
                "            AND (fs.col - 1) / 3 = (s.col - 1) / 3\r\n",
                "            AND fs.value = n.value\r\n",
                "      )"
            ],
            "metadata": {
                "language": "sql",
                "azdata_cell_guid": "02d06930-3195-47e7-b25f-59fa5a15795c",
                "tags": []
            },
            "outputs": [
                {
                    "output_type": "display_data",
                    "data": {
                        "text/html": "(112 rows affected)"
                    },
                    "metadata": {}
                },
                {
                    "output_type": "display_data",
                    "data": {
                        "text/html": "Total execution time: 00:00:00.261"
                    },
                    "metadata": {}
                },
                {
                    "output_type": "execute_result",
                    "metadata": {},
                    "execution_count": 47,
                    "data": {
                        "application/vnd.dataresource+json": {
                            "schema": {
                                "fields": [
                                    {
                                        "name": "row"
                                    },
                                    {
                                        "name": "col"
                                    },
                                    {
                                        "name": "value"
                                    }
                                ]
                            },
                            "data": [
                                {
                                    "row": "1",
                                    "col": "1",
                                    "value": "1"
                                },
                                {
                                    "row": "1",
                                    "col": "1",
                                    "value": "2"
                                },
                                {
                                    "row": "1",
                                    "col": "1",
                                    "value": "4"
                                },
                                {
                                    "row": "1",
                                    "col": "1",
                                    "value": "5"
                                },
                                {
                                    "row": "1",
                                    "col": "1",
                                    "value": "7"
                                },
                                {
                                    "row": "1",
                                    "col": "1",
                                    "value": "8"
                                },
                                {
                                    "row": "1",
                                    "col": "2",
                                    "value": "2"
                                },
                                {
                                    "row": "1",
                                    "col": "2",
                                    "value": "4"
                                },
                                {
                                    "row": "1",
                                    "col": "2",
                                    "value": "7"
                                },
                                {
                                    "row": "1",
                                    "col": "2",
                                    "value": "8"
                                },
                                {
                                    "row": "1",
                                    "col": "2",
                                    "value": "9"
                                },
                                {
                                    "row": "1",
                                    "col": "3",
                                    "value": "1"
                                },
                                {
                                    "row": "1",
                                    "col": "3",
                                    "value": "2"
                                },
                                {
                                    "row": "1",
                                    "col": "3",
                                    "value": "5"
                                },
                                {
                                    "row": "1",
                                    "col": "3",
                                    "value": "8"
                                },
                                {
                                    "row": "1",
                                    "col": "3",
                                    "value": "9"
                                },
                                {
                                    "row": "1",
                                    "col": "4",
                                    "value": "1"
                                },
                                {
                                    "row": "1",
                                    "col": "4",
                                    "value": "7"
                                },
                                {
                                    "row": "1",
                                    "col": "4",
                                    "value": "8"
                                },
                                {
                                    "row": "1",
                                    "col": "4",
                                    "value": "9"
                                },
                                {
                                    "row": "1",
                                    "col": "5",
                                    "value": "5"
                                },
                                {
                                    "row": "1",
                                    "col": "5",
                                    "value": "7"
                                },
                                {
                                    "row": "1",
                                    "col": "5",
                                    "value": "8"
                                },
                                {
                                    "row": "1",
                                    "col": "6",
                                    "value": "2"
                                },
                                {
                                    "row": "1",
                                    "col": "6",
                                    "value": "4"
                                },
                                {
                                    "row": "1",
                                    "col": "7",
                                    "value": "4"
                                },
                                {
                                    "row": "1",
                                    "col": "7",
                                    "value": "7"
                                },
                                {
                                    "row": "2",
                                    "col": "1",
                                    "value": "2"
                                },
                                {
                                    "row": "2",
                                    "col": "1",
                                    "value": "4"
                                },
                                {
                                    "row": "2",
                                    "col": "1",
                                    "value": "5"
                                },
                                {
                                    "row": "2",
                                    "col": "1",
                                    "value": "6"
                                },
                                {
                                    "row": "2",
                                    "col": "1",
                                    "value": "7"
                                },
                                {
                                    "row": "2",
                                    "col": "2",
                                    "value": "2"
                                },
                                {
                                    "row": "2",
                                    "col": "2",
                                    "value": "3"
                                },
                                {
                                    "row": "2",
                                    "col": "2",
                                    "value": "4"
                                },
                                {
                                    "row": "2",
                                    "col": "2",
                                    "value": "6"
                                },
                                {
                                    "row": "2",
                                    "col": "2",
                                    "value": "7"
                                },
                                {
                                    "row": "2",
                                    "col": "2",
                                    "value": "9"
                                },
                                {
                                    "row": "2",
                                    "col": "3",
                                    "value": "2"
                                },
                                {
                                    "row": "2",
                                    "col": "3",
                                    "value": "3"
                                },
                                {
                                    "row": "2",
                                    "col": "3",
                                    "value": "5"
                                },
                                {
                                    "row": "2",
                                    "col": "3",
                                    "value": "9"
                                },
                                {
                                    "row": "2",
                                    "col": "4",
                                    "value": "6"
                                },
                                {
                                    "row": "2",
                                    "col": "4",
                                    "value": "7"
                                },
                                {
                                    "row": "2",
                                    "col": "4",
                                    "value": "9"
                                },
                                {
                                    "row": "2",
                                    "col": "5",
                                    "value": "3"
                                },
                                {
                                    "row": "2",
                                    "col": "5",
                                    "value": "5"
                                },
                                {
                                    "row": "2",
                                    "col": "5",
                                    "value": "7"
                                },
                                {
                                    "row": "2",
                                    "col": "6",
                                    "value": "2"
                                },
                                {
                                    "row": "2",
                                    "col": "6",
                                    "value": "4"
                                },
                                {
                                    "row": "2",
                                    "col": "6",
                                    "value": "6"
                                },
                                {
                                    "row": "2",
                                    "col": "7",
                                    "value": "4"
                                },
                                {
                                    "row": "2",
                                    "col": "7",
                                    "value": "7"
                                },
                                {
                                    "row": "3",
                                    "col": "1",
                                    "value": "1"
                                },
                                {
                                    "row": "3",
                                    "col": "1",
                                    "value": "4"
                                },
                                {
                                    "row": "3",
                                    "col": "1",
                                    "value": "6"
                                },
                                {
                                    "row": "3",
                                    "col": "1",
                                    "value": "7"
                                },
                                {
                                    "row": "3",
                                    "col": "1",
                                    "value": "8"
                                },
                                {
                                    "row": "3",
                                    "col": "2",
                                    "value": "3"
                                },
                                {
                                    "row": "3",
                                    "col": "2",
                                    "value": "4"
                                },
                                {
                                    "row": "3",
                                    "col": "2",
                                    "value": "6"
                                },
                                {
                                    "row": "3",
                                    "col": "2",
                                    "value": "7"
                                },
                                {
                                    "row": "3",
                                    "col": "2",
                                    "value": "8"
                                },
                                {
                                    "row": "3",
                                    "col": "3",
                                    "value": "1"
                                },
                                {
                                    "row": "3",
                                    "col": "3",
                                    "value": "3"
                                },
                                {
                                    "row": "3",
                                    "col": "3",
                                    "value": "8"
                                },
                                {
                                    "row": "3",
                                    "col": "4",
                                    "value": "1"
                                },
                                {
                                    "row": "3",
                                    "col": "4",
                                    "value": "6"
                                },
                                {
                                    "row": "3",
                                    "col": "4",
                                    "value": "7"
                                },
                                {
                                    "row": "3",
                                    "col": "4",
                                    "value": "8"
                                },
                                {
                                    "row": "3",
                                    "col": "5",
                                    "value": "3"
                                },
                                {
                                    "row": "3",
                                    "col": "5",
                                    "value": "7"
                                },
                                {
                                    "row": "3",
                                    "col": "5",
                                    "value": "8"
                                },
                                {
                                    "row": "3",
                                    "col": "6",
                                    "value": "4"
                                },
                                {
                                    "row": "3",
                                    "col": "6",
                                    "value": "6"
                                },
                                {
                                    "row": "4",
                                    "col": "1",
                                    "value": "2"
                                },
                                {
                                    "row": "4",
                                    "col": "1",
                                    "value": "4"
                                },
                                {
                                    "row": "4",
                                    "col": "1",
                                    "value": "6"
                                },
                                {
                                    "row": "4",
                                    "col": "1",
                                    "value": "8"
                                },
                                {
                                    "row": "4",
                                    "col": "2",
                                    "value": "2"
                                },
                                {
                                    "row": "4",
                                    "col": "2",
                                    "value": "4"
                                },
                                {
                                    "row": "4",
                                    "col": "2",
                                    "value": "6"
                                },
                                {
                                    "row": "4",
                                    "col": "2",
                                    "value": "8"
                                },
                                {
                                    "row": "4",
                                    "col": "2",
                                    "value": "9"
                                },
                                {
                                    "row": "4",
                                    "col": "3",
                                    "value": "2"
                                },
                                {
                                    "row": "4",
                                    "col": "3",
                                    "value": "8"
                                },
                                {
                                    "row": "4",
                                    "col": "3",
                                    "value": "9"
                                },
                                {
                                    "row": "4",
                                    "col": "4",
                                    "value": "6"
                                },
                                {
                                    "row": "4",
                                    "col": "4",
                                    "value": "8"
                                },
                                {
                                    "row": "4",
                                    "col": "5",
                                    "value": "8"
                                },
                                {
                                    "row": "5",
                                    "col": "1",
                                    "value": "5"
                                },
                                {
                                    "row": "5",
                                    "col": "1",
                                    "value": "6"
                                },
                                {
                                    "row": "5",
                                    "col": "1",
                                    "value": "7"
                                },
                                {
                                    "row": "5",
                                    "col": "1",
                                    "value": "8"
                                },
                                {
                                    "row": "5",
                                    "col": "2",
                                    "value": "6"
                                },
                                {
                                    "row": "5",
                                    "col": "2",
                                    "value": "7"
                                },
                                {
                                    "row": "5",
                                    "col": "2",
                                    "value": "8"
                                },
                                {
                                    "row": "5",
                                    "col": "3",
                                    "value": "5"
                                },
                                {
                                    "row": "5",
                                    "col": "3",
                                    "value": "8"
                                },
                                {
                                    "row": "5",
                                    "col": "4",
                                    "value": "6"
                                },
                                {
                                    "row": "5",
                                    "col": "4",
                                    "value": "7"
                                },
                                {
                                    "row": "5",
                                    "col": "4",
                                    "value": "8"
                                },
                                {
                                    "row": "6",
                                    "col": "1",
                                    "value": "1"
                                },
                                {
                                    "row": "6",
                                    "col": "1",
                                    "value": "7"
                                },
                                {
                                    "row": "6",
                                    "col": "2",
                                    "value": "3"
                                },
                                {
                                    "row": "6",
                                    "col": "2",
                                    "value": "7"
                                },
                                {
                                    "row": "6",
                                    "col": "3",
                                    "value": "1"
                                },
                                {
                                    "row": "6",
                                    "col": "3",
                                    "value": "3"
                                },
                                {
                                    "row": "7",
                                    "col": "1",
                                    "value": "2"
                                },
                                {
                                    "row": "7",
                                    "col": "1",
                                    "value": "8"
                                },
                                {
                                    "row": "7",
                                    "col": "2",
                                    "value": "2"
                                },
                                {
                                    "row": "7",
                                    "col": "2",
                                    "value": "8"
                                }
                            ]
                        },
                        "text/html": [
                            "<table>",
                            "<tr><th>row</th><th>col</th><th>value</th></tr>",
                            "<tr><td>1</td><td>1</td><td>1</td></tr>",
                            "<tr><td>1</td><td>1</td><td>2</td></tr>",
                            "<tr><td>1</td><td>1</td><td>4</td></tr>",
                            "<tr><td>1</td><td>1</td><td>5</td></tr>",
                            "<tr><td>1</td><td>1</td><td>7</td></tr>",
                            "<tr><td>1</td><td>1</td><td>8</td></tr>",
                            "<tr><td>1</td><td>2</td><td>2</td></tr>",
                            "<tr><td>1</td><td>2</td><td>4</td></tr>",
                            "<tr><td>1</td><td>2</td><td>7</td></tr>",
                            "<tr><td>1</td><td>2</td><td>8</td></tr>",
                            "<tr><td>1</td><td>2</td><td>9</td></tr>",
                            "<tr><td>1</td><td>3</td><td>1</td></tr>",
                            "<tr><td>1</td><td>3</td><td>2</td></tr>",
                            "<tr><td>1</td><td>3</td><td>5</td></tr>",
                            "<tr><td>1</td><td>3</td><td>8</td></tr>",
                            "<tr><td>1</td><td>3</td><td>9</td></tr>",
                            "<tr><td>1</td><td>4</td><td>1</td></tr>",
                            "<tr><td>1</td><td>4</td><td>7</td></tr>",
                            "<tr><td>1</td><td>4</td><td>8</td></tr>",
                            "<tr><td>1</td><td>4</td><td>9</td></tr>",
                            "<tr><td>1</td><td>5</td><td>5</td></tr>",
                            "<tr><td>1</td><td>5</td><td>7</td></tr>",
                            "<tr><td>1</td><td>5</td><td>8</td></tr>",
                            "<tr><td>1</td><td>6</td><td>2</td></tr>",
                            "<tr><td>1</td><td>6</td><td>4</td></tr>",
                            "<tr><td>1</td><td>7</td><td>4</td></tr>",
                            "<tr><td>1</td><td>7</td><td>7</td></tr>",
                            "<tr><td>2</td><td>1</td><td>2</td></tr>",
                            "<tr><td>2</td><td>1</td><td>4</td></tr>",
                            "<tr><td>2</td><td>1</td><td>5</td></tr>",
                            "<tr><td>2</td><td>1</td><td>6</td></tr>",
                            "<tr><td>2</td><td>1</td><td>7</td></tr>",
                            "<tr><td>2</td><td>2</td><td>2</td></tr>",
                            "<tr><td>2</td><td>2</td><td>3</td></tr>",
                            "<tr><td>2</td><td>2</td><td>4</td></tr>",
                            "<tr><td>2</td><td>2</td><td>6</td></tr>",
                            "<tr><td>2</td><td>2</td><td>7</td></tr>",
                            "<tr><td>2</td><td>2</td><td>9</td></tr>",
                            "<tr><td>2</td><td>3</td><td>2</td></tr>",
                            "<tr><td>2</td><td>3</td><td>3</td></tr>",
                            "<tr><td>2</td><td>3</td><td>5</td></tr>",
                            "<tr><td>2</td><td>3</td><td>9</td></tr>",
                            "<tr><td>2</td><td>4</td><td>6</td></tr>",
                            "<tr><td>2</td><td>4</td><td>7</td></tr>",
                            "<tr><td>2</td><td>4</td><td>9</td></tr>",
                            "<tr><td>2</td><td>5</td><td>3</td></tr>",
                            "<tr><td>2</td><td>5</td><td>5</td></tr>",
                            "<tr><td>2</td><td>5</td><td>7</td></tr>",
                            "<tr><td>2</td><td>6</td><td>2</td></tr>",
                            "<tr><td>2</td><td>6</td><td>4</td></tr>",
                            "<tr><td>2</td><td>6</td><td>6</td></tr>",
                            "<tr><td>2</td><td>7</td><td>4</td></tr>",
                            "<tr><td>2</td><td>7</td><td>7</td></tr>",
                            "<tr><td>3</td><td>1</td><td>1</td></tr>",
                            "<tr><td>3</td><td>1</td><td>4</td></tr>",
                            "<tr><td>3</td><td>1</td><td>6</td></tr>",
                            "<tr><td>3</td><td>1</td><td>7</td></tr>",
                            "<tr><td>3</td><td>1</td><td>8</td></tr>",
                            "<tr><td>3</td><td>2</td><td>3</td></tr>",
                            "<tr><td>3</td><td>2</td><td>4</td></tr>",
                            "<tr><td>3</td><td>2</td><td>6</td></tr>",
                            "<tr><td>3</td><td>2</td><td>7</td></tr>",
                            "<tr><td>3</td><td>2</td><td>8</td></tr>",
                            "<tr><td>3</td><td>3</td><td>1</td></tr>",
                            "<tr><td>3</td><td>3</td><td>3</td></tr>",
                            "<tr><td>3</td><td>3</td><td>8</td></tr>",
                            "<tr><td>3</td><td>4</td><td>1</td></tr>",
                            "<tr><td>3</td><td>4</td><td>6</td></tr>",
                            "<tr><td>3</td><td>4</td><td>7</td></tr>",
                            "<tr><td>3</td><td>4</td><td>8</td></tr>",
                            "<tr><td>3</td><td>5</td><td>3</td></tr>",
                            "<tr><td>3</td><td>5</td><td>7</td></tr>",
                            "<tr><td>3</td><td>5</td><td>8</td></tr>",
                            "<tr><td>3</td><td>6</td><td>4</td></tr>",
                            "<tr><td>3</td><td>6</td><td>6</td></tr>",
                            "<tr><td>4</td><td>1</td><td>2</td></tr>",
                            "<tr><td>4</td><td>1</td><td>4</td></tr>",
                            "<tr><td>4</td><td>1</td><td>6</td></tr>",
                            "<tr><td>4</td><td>1</td><td>8</td></tr>",
                            "<tr><td>4</td><td>2</td><td>2</td></tr>",
                            "<tr><td>4</td><td>2</td><td>4</td></tr>",
                            "<tr><td>4</td><td>2</td><td>6</td></tr>",
                            "<tr><td>4</td><td>2</td><td>8</td></tr>",
                            "<tr><td>4</td><td>2</td><td>9</td></tr>",
                            "<tr><td>4</td><td>3</td><td>2</td></tr>",
                            "<tr><td>4</td><td>3</td><td>8</td></tr>",
                            "<tr><td>4</td><td>3</td><td>9</td></tr>",
                            "<tr><td>4</td><td>4</td><td>6</td></tr>",
                            "<tr><td>4</td><td>4</td><td>8</td></tr>",
                            "<tr><td>4</td><td>5</td><td>8</td></tr>",
                            "<tr><td>5</td><td>1</td><td>5</td></tr>",
                            "<tr><td>5</td><td>1</td><td>6</td></tr>",
                            "<tr><td>5</td><td>1</td><td>7</td></tr>",
                            "<tr><td>5</td><td>1</td><td>8</td></tr>",
                            "<tr><td>5</td><td>2</td><td>6</td></tr>",
                            "<tr><td>5</td><td>2</td><td>7</td></tr>",
                            "<tr><td>5</td><td>2</td><td>8</td></tr>",
                            "<tr><td>5</td><td>3</td><td>5</td></tr>",
                            "<tr><td>5</td><td>3</td><td>8</td></tr>",
                            "<tr><td>5</td><td>4</td><td>6</td></tr>",
                            "<tr><td>5</td><td>4</td><td>7</td></tr>",
                            "<tr><td>5</td><td>4</td><td>8</td></tr>",
                            "<tr><td>6</td><td>1</td><td>1</td></tr>",
                            "<tr><td>6</td><td>1</td><td>7</td></tr>",
                            "<tr><td>6</td><td>2</td><td>3</td></tr>",
                            "<tr><td>6</td><td>2</td><td>7</td></tr>",
                            "<tr><td>6</td><td>3</td><td>1</td></tr>",
                            "<tr><td>6</td><td>3</td><td>3</td></tr>",
                            "<tr><td>7</td><td>1</td><td>2</td></tr>",
                            "<tr><td>7</td><td>1</td><td>8</td></tr>",
                            "<tr><td>7</td><td>2</td><td>2</td></tr>",
                            "<tr><td>7</td><td>2</td><td>8</td></tr>",
                            "</table>"
                        ]
                    }
                }
            ],
            "execution_count": 47
        },
        {
            "cell_type": "code",
            "source": [
                "-- This is the only possible value according to the query - line 91\r\n",
                "\r\n",
                "UPDATE sudoku\r\n",
                "SET\r\n",
                "  value = 8\r\n",
                "WHERE row = 4\r\n",
                "  AND col = 5;\r\n",
                "\r\n",
                "-- New solution\r\n",
                "SELECT\r\n",
                "    row,\r\n",
                "    MAX(CASE WHEN col = 1 THEN value END) AS column1,\r\n",
                "    MAX(CASE WHEN col = 2 THEN value END) AS column2,\r\n",
                "    MAX(CASE WHEN col = 3 THEN value END) AS column3,\r\n",
                "    MAX(CASE WHEN col = 4 THEN value END) AS column4,\r\n",
                "    MAX(CASE WHEN col = 5 THEN value END) AS column5,\r\n",
                "    MAX(CASE WHEN col = 6 THEN value END) AS column6,\r\n",
                "    MAX(CASE WHEN col = 7 THEN value END) AS column7,\r\n",
                "    MAX(CASE WHEN col = 8 THEN value END) AS column8,\r\n",
                "    MAX(CASE WHEN col = 9 THEN value END) AS column9\r\n",
                "FROM sudoku\r\n",
                "GROUP BY row\r\n",
                "ORDER BY row;\r\n",
                "\r\n",
                "-- All combinations\r\n",
                "\r\n",
                "SELECT s.row, s.col, n.value\r\n",
                "FROM sudoku s\r\n",
                "CROSS JOIN (VALUES (1), (2), (3), (4), (5), (6), (7), (8), (9)) n(value)\r\n",
                "WHERE s.value IS NULL\r\n",
                "    AND NOT EXISTS (\r\n",
                "        -- Check if the value is already in the same row\r\n",
                "        SELECT 1\r\n",
                "        FROM sudoku fs\r\n",
                "        WHERE fs.row = s.row AND fs.value = n.value\r\n",
                "    )\r\n",
                "    AND NOT EXISTS (\r\n",
                "        -- Check if the value is already in the same column\r\n",
                "        SELECT 1\r\n",
                "        FROM sudoku fs\r\n",
                "        WHERE fs.col = s.col AND fs.value = n.value\r\n",
                "    )\r\n",
                "    AND NOT EXISTS (\r\n",
                "        -- Check if the value is already in the same 3x3 block\r\n",
                "        SELECT 1\r\n",
                "        FROM sudoku fs\r\n",
                "        WHERE (fs.row - 1) / 3 = (s.row - 1) / 3\r\n",
                "          AND (fs.col - 1) / 3 = (s.col - 1) / 3\r\n",
                "          AND fs.value = n.value\r\n",
                "    );"
            ],
            "metadata": {
                "language": "sql",
                "azdata_cell_guid": "05ead525-67a8-44d7-aaca-4095464696b7",
                "tags": []
            },
            "outputs": [
                {
                    "output_type": "display_data",
                    "data": {
                        "text/html": "(1 row affected)"
                    },
                    "metadata": {}
                },
                {
                    "output_type": "display_data",
                    "data": {
                        "text/html": "Warning: Null value is eliminated by an aggregate or other SET operation."
                    },
                    "metadata": {}
                },
                {
                    "output_type": "display_data",
                    "data": {
                        "text/html": "(9 rows affected)"
                    },
                    "metadata": {}
                },
                {
                    "output_type": "display_data",
                    "data": {
                        "text/html": "(104 rows affected)"
                    },
                    "metadata": {}
                },
                {
                    "output_type": "display_data",
                    "data": {
                        "text/html": "Total execution time: 00:00:00.682"
                    },
                    "metadata": {}
                },
                {
                    "output_type": "execute_result",
                    "metadata": {},
                    "execution_count": 48,
                    "data": {
                        "application/vnd.dataresource+json": {
                            "schema": {
                                "fields": [
                                    {
                                        "name": "row"
                                    },
                                    {
                                        "name": "column1"
                                    },
                                    {
                                        "name": "column2"
                                    },
                                    {
                                        "name": "column3"
                                    },
                                    {
                                        "name": "column4"
                                    },
                                    {
                                        "name": "column5"
                                    },
                                    {
                                        "name": "column6"
                                    },
                                    {
                                        "name": "column7"
                                    },
                                    {
                                        "name": "column8"
                                    },
                                    {
                                        "name": "column9"
                                    }
                                ]
                            },
                            "data": [
                                {
                                    "row": "1",
                                    "column1": "NULL",
                                    "column2": "NULL",
                                    "column3": "NULL",
                                    "column4": "NULL",
                                    "column5": "NULL",
                                    "column6": "NULL",
                                    "column7": "NULL",
                                    "column8": "6",
                                    "column9": "3"
                                },
                                {
                                    "row": "2",
                                    "column1": "NULL",
                                    "column2": "NULL",
                                    "column3": "NULL",
                                    "column4": "NULL",
                                    "column5": "NULL",
                                    "column6": "NULL",
                                    "column7": "NULL",
                                    "column8": "1",
                                    "column9": "8"
                                },
                                {
                                    "row": "3",
                                    "column1": "NULL",
                                    "column2": "NULL",
                                    "column3": "NULL",
                                    "column4": "NULL",
                                    "column5": "NULL",
                                    "column6": "NULL",
                                    "column7": "9",
                                    "column8": "5",
                                    "column9": "2"
                                },
                                {
                                    "row": "4",
                                    "column1": "NULL",
                                    "column2": "NULL",
                                    "column3": "NULL",
                                    "column4": "NULL",
                                    "column5": "8",
                                    "column6": "5",
                                    "column7": "3",
                                    "column8": "7",
                                    "column9": "1"
                                },
                                {
                                    "row": "5",
                                    "column1": "NULL",
                                    "column2": "NULL",
                                    "column3": "NULL",
                                    "column4": "NULL",
                                    "column5": "1",
                                    "column6": "3",
                                    "column7": "2",
                                    "column8": "9",
                                    "column9": "4"
                                },
                                {
                                    "row": "6",
                                    "column1": "NULL",
                                    "column2": "NULL",
                                    "column3": "NULL",
                                    "column4": "4",
                                    "column5": "2",
                                    "column6": "9",
                                    "column7": "5",
                                    "column8": "8",
                                    "column9": "6"
                                },
                                {
                                    "row": "7",
                                    "column1": "NULL",
                                    "column2": "NULL",
                                    "column3": "6",
                                    "column4": "5",
                                    "column5": "4",
                                    "column6": "7",
                                    "column7": "1",
                                    "column8": "3",
                                    "column9": "9"
                                },
                                {
                                    "row": "8",
                                    "column1": "3",
                                    "column2": "1",
                                    "column3": "7",
                                    "column4": "2",
                                    "column5": "9",
                                    "column6": "8",
                                    "column7": "6",
                                    "column8": "4",
                                    "column9": "5"
                                },
                                {
                                    "row": "9",
                                    "column1": "9",
                                    "column2": "5",
                                    "column3": "4",
                                    "column4": "3",
                                    "column5": "6",
                                    "column6": "1",
                                    "column7": "8",
                                    "column8": "2",
                                    "column9": "7"
                                }
                            ]
                        },
                        "text/html": [
                            "<table>",
                            "<tr><th>row</th><th>column1</th><th>column2</th><th>column3</th><th>column4</th><th>column5</th><th>column6</th><th>column7</th><th>column8</th><th>column9</th></tr>",
                            "<tr><td>1</td><td>NULL</td><td>NULL</td><td>NULL</td><td>NULL</td><td>NULL</td><td>NULL</td><td>NULL</td><td>6</td><td>3</td></tr>",
                            "<tr><td>2</td><td>NULL</td><td>NULL</td><td>NULL</td><td>NULL</td><td>NULL</td><td>NULL</td><td>NULL</td><td>1</td><td>8</td></tr>",
                            "<tr><td>3</td><td>NULL</td><td>NULL</td><td>NULL</td><td>NULL</td><td>NULL</td><td>NULL</td><td>9</td><td>5</td><td>2</td></tr>",
                            "<tr><td>4</td><td>NULL</td><td>NULL</td><td>NULL</td><td>NULL</td><td>8</td><td>5</td><td>3</td><td>7</td><td>1</td></tr>",
                            "<tr><td>5</td><td>NULL</td><td>NULL</td><td>NULL</td><td>NULL</td><td>1</td><td>3</td><td>2</td><td>9</td><td>4</td></tr>",
                            "<tr><td>6</td><td>NULL</td><td>NULL</td><td>NULL</td><td>4</td><td>2</td><td>9</td><td>5</td><td>8</td><td>6</td></tr>",
                            "<tr><td>7</td><td>NULL</td><td>NULL</td><td>6</td><td>5</td><td>4</td><td>7</td><td>1</td><td>3</td><td>9</td></tr>",
                            "<tr><td>8</td><td>3</td><td>1</td><td>7</td><td>2</td><td>9</td><td>8</td><td>6</td><td>4</td><td>5</td></tr>",
                            "<tr><td>9</td><td>9</td><td>5</td><td>4</td><td>3</td><td>6</td><td>1</td><td>8</td><td>2</td><td>7</td></tr>",
                            "</table>"
                        ]
                    }
                },
                {
                    "output_type": "execute_result",
                    "metadata": {},
                    "execution_count": 48,
                    "data": {
                        "application/vnd.dataresource+json": {
                            "schema": {
                                "fields": [
                                    {
                                        "name": "row"
                                    },
                                    {
                                        "name": "col"
                                    },
                                    {
                                        "name": "value"
                                    }
                                ]
                            },
                            "data": [
                                {
                                    "row": "1",
                                    "col": "1",
                                    "value": "1"
                                },
                                {
                                    "row": "1",
                                    "col": "1",
                                    "value": "2"
                                },
                                {
                                    "row": "1",
                                    "col": "1",
                                    "value": "4"
                                },
                                {
                                    "row": "1",
                                    "col": "1",
                                    "value": "5"
                                },
                                {
                                    "row": "1",
                                    "col": "1",
                                    "value": "7"
                                },
                                {
                                    "row": "1",
                                    "col": "1",
                                    "value": "8"
                                },
                                {
                                    "row": "1",
                                    "col": "2",
                                    "value": "2"
                                },
                                {
                                    "row": "1",
                                    "col": "2",
                                    "value": "4"
                                },
                                {
                                    "row": "1",
                                    "col": "2",
                                    "value": "7"
                                },
                                {
                                    "row": "1",
                                    "col": "2",
                                    "value": "8"
                                },
                                {
                                    "row": "1",
                                    "col": "2",
                                    "value": "9"
                                },
                                {
                                    "row": "1",
                                    "col": "3",
                                    "value": "1"
                                },
                                {
                                    "row": "1",
                                    "col": "3",
                                    "value": "2"
                                },
                                {
                                    "row": "1",
                                    "col": "3",
                                    "value": "5"
                                },
                                {
                                    "row": "1",
                                    "col": "3",
                                    "value": "8"
                                },
                                {
                                    "row": "1",
                                    "col": "3",
                                    "value": "9"
                                },
                                {
                                    "row": "1",
                                    "col": "4",
                                    "value": "1"
                                },
                                {
                                    "row": "1",
                                    "col": "4",
                                    "value": "7"
                                },
                                {
                                    "row": "1",
                                    "col": "4",
                                    "value": "8"
                                },
                                {
                                    "row": "1",
                                    "col": "4",
                                    "value": "9"
                                },
                                {
                                    "row": "1",
                                    "col": "5",
                                    "value": "5"
                                },
                                {
                                    "row": "1",
                                    "col": "5",
                                    "value": "7"
                                },
                                {
                                    "row": "1",
                                    "col": "6",
                                    "value": "2"
                                },
                                {
                                    "row": "1",
                                    "col": "6",
                                    "value": "4"
                                },
                                {
                                    "row": "1",
                                    "col": "7",
                                    "value": "4"
                                },
                                {
                                    "row": "1",
                                    "col": "7",
                                    "value": "7"
                                },
                                {
                                    "row": "2",
                                    "col": "1",
                                    "value": "2"
                                },
                                {
                                    "row": "2",
                                    "col": "1",
                                    "value": "4"
                                },
                                {
                                    "row": "2",
                                    "col": "1",
                                    "value": "5"
                                },
                                {
                                    "row": "2",
                                    "col": "1",
                                    "value": "6"
                                },
                                {
                                    "row": "2",
                                    "col": "1",
                                    "value": "7"
                                },
                                {
                                    "row": "2",
                                    "col": "2",
                                    "value": "2"
                                },
                                {
                                    "row": "2",
                                    "col": "2",
                                    "value": "3"
                                },
                                {
                                    "row": "2",
                                    "col": "2",
                                    "value": "4"
                                },
                                {
                                    "row": "2",
                                    "col": "2",
                                    "value": "6"
                                },
                                {
                                    "row": "2",
                                    "col": "2",
                                    "value": "7"
                                },
                                {
                                    "row": "2",
                                    "col": "2",
                                    "value": "9"
                                },
                                {
                                    "row": "2",
                                    "col": "3",
                                    "value": "2"
                                },
                                {
                                    "row": "2",
                                    "col": "3",
                                    "value": "3"
                                },
                                {
                                    "row": "2",
                                    "col": "3",
                                    "value": "5"
                                },
                                {
                                    "row": "2",
                                    "col": "3",
                                    "value": "9"
                                },
                                {
                                    "row": "2",
                                    "col": "4",
                                    "value": "6"
                                },
                                {
                                    "row": "2",
                                    "col": "4",
                                    "value": "7"
                                },
                                {
                                    "row": "2",
                                    "col": "4",
                                    "value": "9"
                                },
                                {
                                    "row": "2",
                                    "col": "5",
                                    "value": "3"
                                },
                                {
                                    "row": "2",
                                    "col": "5",
                                    "value": "5"
                                },
                                {
                                    "row": "2",
                                    "col": "5",
                                    "value": "7"
                                },
                                {
                                    "row": "2",
                                    "col": "6",
                                    "value": "2"
                                },
                                {
                                    "row": "2",
                                    "col": "6",
                                    "value": "4"
                                },
                                {
                                    "row": "2",
                                    "col": "6",
                                    "value": "6"
                                },
                                {
                                    "row": "2",
                                    "col": "7",
                                    "value": "4"
                                },
                                {
                                    "row": "2",
                                    "col": "7",
                                    "value": "7"
                                },
                                {
                                    "row": "3",
                                    "col": "1",
                                    "value": "1"
                                },
                                {
                                    "row": "3",
                                    "col": "1",
                                    "value": "4"
                                },
                                {
                                    "row": "3",
                                    "col": "1",
                                    "value": "6"
                                },
                                {
                                    "row": "3",
                                    "col": "1",
                                    "value": "7"
                                },
                                {
                                    "row": "3",
                                    "col": "1",
                                    "value": "8"
                                },
                                {
                                    "row": "3",
                                    "col": "2",
                                    "value": "3"
                                },
                                {
                                    "row": "3",
                                    "col": "2",
                                    "value": "4"
                                },
                                {
                                    "row": "3",
                                    "col": "2",
                                    "value": "6"
                                },
                                {
                                    "row": "3",
                                    "col": "2",
                                    "value": "7"
                                },
                                {
                                    "row": "3",
                                    "col": "2",
                                    "value": "8"
                                },
                                {
                                    "row": "3",
                                    "col": "3",
                                    "value": "1"
                                },
                                {
                                    "row": "3",
                                    "col": "3",
                                    "value": "3"
                                },
                                {
                                    "row": "3",
                                    "col": "3",
                                    "value": "8"
                                },
                                {
                                    "row": "3",
                                    "col": "4",
                                    "value": "1"
                                },
                                {
                                    "row": "3",
                                    "col": "4",
                                    "value": "6"
                                },
                                {
                                    "row": "3",
                                    "col": "4",
                                    "value": "7"
                                },
                                {
                                    "row": "3",
                                    "col": "4",
                                    "value": "8"
                                },
                                {
                                    "row": "3",
                                    "col": "5",
                                    "value": "3"
                                },
                                {
                                    "row": "3",
                                    "col": "5",
                                    "value": "7"
                                },
                                {
                                    "row": "3",
                                    "col": "6",
                                    "value": "4"
                                },
                                {
                                    "row": "3",
                                    "col": "6",
                                    "value": "6"
                                },
                                {
                                    "row": "4",
                                    "col": "1",
                                    "value": "2"
                                },
                                {
                                    "row": "4",
                                    "col": "1",
                                    "value": "4"
                                },
                                {
                                    "row": "4",
                                    "col": "1",
                                    "value": "6"
                                },
                                {
                                    "row": "4",
                                    "col": "2",
                                    "value": "2"
                                },
                                {
                                    "row": "4",
                                    "col": "2",
                                    "value": "4"
                                },
                                {
                                    "row": "4",
                                    "col": "2",
                                    "value": "6"
                                },
                                {
                                    "row": "4",
                                    "col": "2",
                                    "value": "9"
                                },
                                {
                                    "row": "4",
                                    "col": "3",
                                    "value": "2"
                                },
                                {
                                    "row": "4",
                                    "col": "3",
                                    "value": "9"
                                },
                                {
                                    "row": "4",
                                    "col": "4",
                                    "value": "6"
                                },
                                {
                                    "row": "5",
                                    "col": "1",
                                    "value": "5"
                                },
                                {
                                    "row": "5",
                                    "col": "1",
                                    "value": "6"
                                },
                                {
                                    "row": "5",
                                    "col": "1",
                                    "value": "7"
                                },
                                {
                                    "row": "5",
                                    "col": "1",
                                    "value": "8"
                                },
                                {
                                    "row": "5",
                                    "col": "2",
                                    "value": "6"
                                },
                                {
                                    "row": "5",
                                    "col": "2",
                                    "value": "7"
                                },
                                {
                                    "row": "5",
                                    "col": "2",
                                    "value": "8"
                                },
                                {
                                    "row": "5",
                                    "col": "3",
                                    "value": "5"
                                },
                                {
                                    "row": "5",
                                    "col": "3",
                                    "value": "8"
                                },
                                {
                                    "row": "5",
                                    "col": "4",
                                    "value": "6"
                                },
                                {
                                    "row": "5",
                                    "col": "4",
                                    "value": "7"
                                },
                                {
                                    "row": "6",
                                    "col": "1",
                                    "value": "1"
                                },
                                {
                                    "row": "6",
                                    "col": "1",
                                    "value": "7"
                                },
                                {
                                    "row": "6",
                                    "col": "2",
                                    "value": "3"
                                },
                                {
                                    "row": "6",
                                    "col": "2",
                                    "value": "7"
                                },
                                {
                                    "row": "6",
                                    "col": "3",
                                    "value": "1"
                                },
                                {
                                    "row": "6",
                                    "col": "3",
                                    "value": "3"
                                },
                                {
                                    "row": "7",
                                    "col": "1",
                                    "value": "2"
                                },
                                {
                                    "row": "7",
                                    "col": "1",
                                    "value": "8"
                                },
                                {
                                    "row": "7",
                                    "col": "2",
                                    "value": "2"
                                },
                                {
                                    "row": "7",
                                    "col": "2",
                                    "value": "8"
                                }
                            ]
                        },
                        "text/html": [
                            "<table>",
                            "<tr><th>row</th><th>col</th><th>value</th></tr>",
                            "<tr><td>1</td><td>1</td><td>1</td></tr>",
                            "<tr><td>1</td><td>1</td><td>2</td></tr>",
                            "<tr><td>1</td><td>1</td><td>4</td></tr>",
                            "<tr><td>1</td><td>1</td><td>5</td></tr>",
                            "<tr><td>1</td><td>1</td><td>7</td></tr>",
                            "<tr><td>1</td><td>1</td><td>8</td></tr>",
                            "<tr><td>1</td><td>2</td><td>2</td></tr>",
                            "<tr><td>1</td><td>2</td><td>4</td></tr>",
                            "<tr><td>1</td><td>2</td><td>7</td></tr>",
                            "<tr><td>1</td><td>2</td><td>8</td></tr>",
                            "<tr><td>1</td><td>2</td><td>9</td></tr>",
                            "<tr><td>1</td><td>3</td><td>1</td></tr>",
                            "<tr><td>1</td><td>3</td><td>2</td></tr>",
                            "<tr><td>1</td><td>3</td><td>5</td></tr>",
                            "<tr><td>1</td><td>3</td><td>8</td></tr>",
                            "<tr><td>1</td><td>3</td><td>9</td></tr>",
                            "<tr><td>1</td><td>4</td><td>1</td></tr>",
                            "<tr><td>1</td><td>4</td><td>7</td></tr>",
                            "<tr><td>1</td><td>4</td><td>8</td></tr>",
                            "<tr><td>1</td><td>4</td><td>9</td></tr>",
                            "<tr><td>1</td><td>5</td><td>5</td></tr>",
                            "<tr><td>1</td><td>5</td><td>7</td></tr>",
                            "<tr><td>1</td><td>6</td><td>2</td></tr>",
                            "<tr><td>1</td><td>6</td><td>4</td></tr>",
                            "<tr><td>1</td><td>7</td><td>4</td></tr>",
                            "<tr><td>1</td><td>7</td><td>7</td></tr>",
                            "<tr><td>2</td><td>1</td><td>2</td></tr>",
                            "<tr><td>2</td><td>1</td><td>4</td></tr>",
                            "<tr><td>2</td><td>1</td><td>5</td></tr>",
                            "<tr><td>2</td><td>1</td><td>6</td></tr>",
                            "<tr><td>2</td><td>1</td><td>7</td></tr>",
                            "<tr><td>2</td><td>2</td><td>2</td></tr>",
                            "<tr><td>2</td><td>2</td><td>3</td></tr>",
                            "<tr><td>2</td><td>2</td><td>4</td></tr>",
                            "<tr><td>2</td><td>2</td><td>6</td></tr>",
                            "<tr><td>2</td><td>2</td><td>7</td></tr>",
                            "<tr><td>2</td><td>2</td><td>9</td></tr>",
                            "<tr><td>2</td><td>3</td><td>2</td></tr>",
                            "<tr><td>2</td><td>3</td><td>3</td></tr>",
                            "<tr><td>2</td><td>3</td><td>5</td></tr>",
                            "<tr><td>2</td><td>3</td><td>9</td></tr>",
                            "<tr><td>2</td><td>4</td><td>6</td></tr>",
                            "<tr><td>2</td><td>4</td><td>7</td></tr>",
                            "<tr><td>2</td><td>4</td><td>9</td></tr>",
                            "<tr><td>2</td><td>5</td><td>3</td></tr>",
                            "<tr><td>2</td><td>5</td><td>5</td></tr>",
                            "<tr><td>2</td><td>5</td><td>7</td></tr>",
                            "<tr><td>2</td><td>6</td><td>2</td></tr>",
                            "<tr><td>2</td><td>6</td><td>4</td></tr>",
                            "<tr><td>2</td><td>6</td><td>6</td></tr>",
                            "<tr><td>2</td><td>7</td><td>4</td></tr>",
                            "<tr><td>2</td><td>7</td><td>7</td></tr>",
                            "<tr><td>3</td><td>1</td><td>1</td></tr>",
                            "<tr><td>3</td><td>1</td><td>4</td></tr>",
                            "<tr><td>3</td><td>1</td><td>6</td></tr>",
                            "<tr><td>3</td><td>1</td><td>7</td></tr>",
                            "<tr><td>3</td><td>1</td><td>8</td></tr>",
                            "<tr><td>3</td><td>2</td><td>3</td></tr>",
                            "<tr><td>3</td><td>2</td><td>4</td></tr>",
                            "<tr><td>3</td><td>2</td><td>6</td></tr>",
                            "<tr><td>3</td><td>2</td><td>7</td></tr>",
                            "<tr><td>3</td><td>2</td><td>8</td></tr>",
                            "<tr><td>3</td><td>3</td><td>1</td></tr>",
                            "<tr><td>3</td><td>3</td><td>3</td></tr>",
                            "<tr><td>3</td><td>3</td><td>8</td></tr>",
                            "<tr><td>3</td><td>4</td><td>1</td></tr>",
                            "<tr><td>3</td><td>4</td><td>6</td></tr>",
                            "<tr><td>3</td><td>4</td><td>7</td></tr>",
                            "<tr><td>3</td><td>4</td><td>8</td></tr>",
                            "<tr><td>3</td><td>5</td><td>3</td></tr>",
                            "<tr><td>3</td><td>5</td><td>7</td></tr>",
                            "<tr><td>3</td><td>6</td><td>4</td></tr>",
                            "<tr><td>3</td><td>6</td><td>6</td></tr>",
                            "<tr><td>4</td><td>1</td><td>2</td></tr>",
                            "<tr><td>4</td><td>1</td><td>4</td></tr>",
                            "<tr><td>4</td><td>1</td><td>6</td></tr>",
                            "<tr><td>4</td><td>2</td><td>2</td></tr>",
                            "<tr><td>4</td><td>2</td><td>4</td></tr>",
                            "<tr><td>4</td><td>2</td><td>6</td></tr>",
                            "<tr><td>4</td><td>2</td><td>9</td></tr>",
                            "<tr><td>4</td><td>3</td><td>2</td></tr>",
                            "<tr><td>4</td><td>3</td><td>9</td></tr>",
                            "<tr><td>4</td><td>4</td><td>6</td></tr>",
                            "<tr><td>5</td><td>1</td><td>5</td></tr>",
                            "<tr><td>5</td><td>1</td><td>6</td></tr>",
                            "<tr><td>5</td><td>1</td><td>7</td></tr>",
                            "<tr><td>5</td><td>1</td><td>8</td></tr>",
                            "<tr><td>5</td><td>2</td><td>6</td></tr>",
                            "<tr><td>5</td><td>2</td><td>7</td></tr>",
                            "<tr><td>5</td><td>2</td><td>8</td></tr>",
                            "<tr><td>5</td><td>3</td><td>5</td></tr>",
                            "<tr><td>5</td><td>3</td><td>8</td></tr>",
                            "<tr><td>5</td><td>4</td><td>6</td></tr>",
                            "<tr><td>5</td><td>4</td><td>7</td></tr>",
                            "<tr><td>6</td><td>1</td><td>1</td></tr>",
                            "<tr><td>6</td><td>1</td><td>7</td></tr>",
                            "<tr><td>6</td><td>2</td><td>3</td></tr>",
                            "<tr><td>6</td><td>2</td><td>7</td></tr>",
                            "<tr><td>6</td><td>3</td><td>1</td></tr>",
                            "<tr><td>6</td><td>3</td><td>3</td></tr>",
                            "<tr><td>7</td><td>1</td><td>2</td></tr>",
                            "<tr><td>7</td><td>1</td><td>8</td></tr>",
                            "<tr><td>7</td><td>2</td><td>2</td></tr>",
                            "<tr><td>7</td><td>2</td><td>8</td></tr>",
                            "</table>"
                        ]
                    }
                }
            ],
            "execution_count": 48
        },
        {
            "cell_type": "code",
            "source": [
                "-- Try my luck - lines 25, 26, 103,\r\n",
                "\r\n",
                "UPDATE sudoku\r\n",
                "SET\r\n",
                "  value = 4\r\n",
                "WHERE row = 1\r\n",
                "  AND col = 7;\r\n",
                "\r\n",
                "UPDATE sudoku\r\n",
                "SET\r\n",
                "  value = 7\r\n",
                "WHERE row = 2\r\n",
                "  AND col = 7;\r\n",
                "\r\n",
                "UPDATE sudoku\r\n",
                "SET\r\n",
                "  value = 2\r\n",
                "WHERE row = 7\r\n",
                "  AND col = 1;\r\n",
                "\r\n",
                "UPDATE sudoku\r\n",
                "SET\r\n",
                "  value = 8\r\n",
                "WHERE row = 7\r\n",
                "  AND col = 2;\r\n",
                "\r\n",
                "-- New solution\r\n",
                "SELECT\r\n",
                "    row,\r\n",
                "    MAX(CASE WHEN col = 1 THEN value END) AS column1,\r\n",
                "    MAX(CASE WHEN col = 2 THEN value END) AS column2,\r\n",
                "    MAX(CASE WHEN col = 3 THEN value END) AS column3,\r\n",
                "    MAX(CASE WHEN col = 4 THEN value END) AS column4,\r\n",
                "    MAX(CASE WHEN col = 5 THEN value END) AS column5,\r\n",
                "    MAX(CASE WHEN col = 6 THEN value END) AS column6,\r\n",
                "    MAX(CASE WHEN col = 7 THEN value END) AS column7,\r\n",
                "    MAX(CASE WHEN col = 8 THEN value END) AS column8,\r\n",
                "    MAX(CASE WHEN col = 9 THEN value END) AS column9\r\n",
                "FROM sudoku\r\n",
                "GROUP BY row\r\n",
                "ORDER BY row;\r\n",
                "\r\n",
                "-- All combinations\r\n",
                "\r\n",
                "SELECT s.row, s.col, n.value\r\n",
                "FROM sudoku s\r\n",
                "CROSS JOIN (VALUES (1), (2), (3), (4), (5), (6), (7), (8), (9)) n(value)\r\n",
                "WHERE s.value IS NULL\r\n",
                "    AND NOT EXISTS (\r\n",
                "        -- Check if the value is already in the same row\r\n",
                "        SELECT 1\r\n",
                "        FROM sudoku fs\r\n",
                "        WHERE fs.row = s.row AND fs.value = n.value\r\n",
                "    )\r\n",
                "    AND NOT EXISTS (\r\n",
                "        -- Check if the value is already in the same column\r\n",
                "        SELECT 1\r\n",
                "        FROM sudoku fs\r\n",
                "        WHERE fs.col = s.col AND fs.value = n.value\r\n",
                "    )\r\n",
                "    AND NOT EXISTS (\r\n",
                "        -- Check if the value is already in the same 3x3 block\r\n",
                "        SELECT 1\r\n",
                "        FROM sudoku fs\r\n",
                "        WHERE (fs.row - 1) / 3 = (s.row - 1) / 3\r\n",
                "          AND (fs.col - 1) / 3 = (s.col - 1) / 3\r\n",
                "          AND fs.value = n.value\r\n",
                "    );"
            ],
            "metadata": {
                "language": "sql",
                "azdata_cell_guid": "ff7114d8-b2c3-4957-bc12-7e3250e825ca",
                "tags": []
            },
            "outputs": [
                {
                    "output_type": "display_data",
                    "data": {
                        "text/html": "(1 row affected)"
                    },
                    "metadata": {}
                },
                {
                    "output_type": "display_data",
                    "data": {
                        "text/html": "(1 row affected)"
                    },
                    "metadata": {}
                },
                {
                    "output_type": "display_data",
                    "data": {
                        "text/html": "(1 row affected)"
                    },
                    "metadata": {}
                },
                {
                    "output_type": "display_data",
                    "data": {
                        "text/html": "(1 row affected)"
                    },
                    "metadata": {}
                },
                {
                    "output_type": "display_data",
                    "data": {
                        "text/html": "Warning: Null value is eliminated by an aggregate or other SET operation."
                    },
                    "metadata": {}
                },
                {
                    "output_type": "display_data",
                    "data": {
                        "text/html": "(9 rows affected)"
                    },
                    "metadata": {}
                },
                {
                    "output_type": "display_data",
                    "data": {
                        "text/html": "(83 rows affected)"
                    },
                    "metadata": {}
                },
                {
                    "output_type": "display_data",
                    "data": {
                        "text/html": "Total execution time: 00:00:00.239"
                    },
                    "metadata": {}
                },
                {
                    "output_type": "execute_result",
                    "metadata": {},
                    "execution_count": 49,
                    "data": {
                        "application/vnd.dataresource+json": {
                            "schema": {
                                "fields": [
                                    {
                                        "name": "row"
                                    },
                                    {
                                        "name": "column1"
                                    },
                                    {
                                        "name": "column2"
                                    },
                                    {
                                        "name": "column3"
                                    },
                                    {
                                        "name": "column4"
                                    },
                                    {
                                        "name": "column5"
                                    },
                                    {
                                        "name": "column6"
                                    },
                                    {
                                        "name": "column7"
                                    },
                                    {
                                        "name": "column8"
                                    },
                                    {
                                        "name": "column9"
                                    }
                                ]
                            },
                            "data": [
                                {
                                    "row": "1",
                                    "column1": "NULL",
                                    "column2": "NULL",
                                    "column3": "NULL",
                                    "column4": "NULL",
                                    "column5": "NULL",
                                    "column6": "NULL",
                                    "column7": "4",
                                    "column8": "6",
                                    "column9": "3"
                                },
                                {
                                    "row": "2",
                                    "column1": "NULL",
                                    "column2": "NULL",
                                    "column3": "NULL",
                                    "column4": "NULL",
                                    "column5": "NULL",
                                    "column6": "NULL",
                                    "column7": "7",
                                    "column8": "1",
                                    "column9": "8"
                                },
                                {
                                    "row": "3",
                                    "column1": "NULL",
                                    "column2": "NULL",
                                    "column3": "NULL",
                                    "column4": "NULL",
                                    "column5": "NULL",
                                    "column6": "NULL",
                                    "column7": "9",
                                    "column8": "5",
                                    "column9": "2"
                                },
                                {
                                    "row": "4",
                                    "column1": "NULL",
                                    "column2": "NULL",
                                    "column3": "NULL",
                                    "column4": "NULL",
                                    "column5": "8",
                                    "column6": "5",
                                    "column7": "3",
                                    "column8": "7",
                                    "column9": "1"
                                },
                                {
                                    "row": "5",
                                    "column1": "NULL",
                                    "column2": "NULL",
                                    "column3": "NULL",
                                    "column4": "NULL",
                                    "column5": "1",
                                    "column6": "3",
                                    "column7": "2",
                                    "column8": "9",
                                    "column9": "4"
                                },
                                {
                                    "row": "6",
                                    "column1": "NULL",
                                    "column2": "NULL",
                                    "column3": "NULL",
                                    "column4": "4",
                                    "column5": "2",
                                    "column6": "9",
                                    "column7": "5",
                                    "column8": "8",
                                    "column9": "6"
                                },
                                {
                                    "row": "7",
                                    "column1": "2",
                                    "column2": "8",
                                    "column3": "6",
                                    "column4": "5",
                                    "column5": "4",
                                    "column6": "7",
                                    "column7": "1",
                                    "column8": "3",
                                    "column9": "9"
                                },
                                {
                                    "row": "8",
                                    "column1": "3",
                                    "column2": "1",
                                    "column3": "7",
                                    "column4": "2",
                                    "column5": "9",
                                    "column6": "8",
                                    "column7": "6",
                                    "column8": "4",
                                    "column9": "5"
                                },
                                {
                                    "row": "9",
                                    "column1": "9",
                                    "column2": "5",
                                    "column3": "4",
                                    "column4": "3",
                                    "column5": "6",
                                    "column6": "1",
                                    "column7": "8",
                                    "column8": "2",
                                    "column9": "7"
                                }
                            ]
                        },
                        "text/html": [
                            "<table>",
                            "<tr><th>row</th><th>column1</th><th>column2</th><th>column3</th><th>column4</th><th>column5</th><th>column6</th><th>column7</th><th>column8</th><th>column9</th></tr>",
                            "<tr><td>1</td><td>NULL</td><td>NULL</td><td>NULL</td><td>NULL</td><td>NULL</td><td>NULL</td><td>4</td><td>6</td><td>3</td></tr>",
                            "<tr><td>2</td><td>NULL</td><td>NULL</td><td>NULL</td><td>NULL</td><td>NULL</td><td>NULL</td><td>7</td><td>1</td><td>8</td></tr>",
                            "<tr><td>3</td><td>NULL</td><td>NULL</td><td>NULL</td><td>NULL</td><td>NULL</td><td>NULL</td><td>9</td><td>5</td><td>2</td></tr>",
                            "<tr><td>4</td><td>NULL</td><td>NULL</td><td>NULL</td><td>NULL</td><td>8</td><td>5</td><td>3</td><td>7</td><td>1</td></tr>",
                            "<tr><td>5</td><td>NULL</td><td>NULL</td><td>NULL</td><td>NULL</td><td>1</td><td>3</td><td>2</td><td>9</td><td>4</td></tr>",
                            "<tr><td>6</td><td>NULL</td><td>NULL</td><td>NULL</td><td>4</td><td>2</td><td>9</td><td>5</td><td>8</td><td>6</td></tr>",
                            "<tr><td>7</td><td>2</td><td>8</td><td>6</td><td>5</td><td>4</td><td>7</td><td>1</td><td>3</td><td>9</td></tr>",
                            "<tr><td>8</td><td>3</td><td>1</td><td>7</td><td>2</td><td>9</td><td>8</td><td>6</td><td>4</td><td>5</td></tr>",
                            "<tr><td>9</td><td>9</td><td>5</td><td>4</td><td>3</td><td>6</td><td>1</td><td>8</td><td>2</td><td>7</td></tr>",
                            "</table>"
                        ]
                    }
                },
                {
                    "output_type": "execute_result",
                    "metadata": {},
                    "execution_count": 49,
                    "data": {
                        "application/vnd.dataresource+json": {
                            "schema": {
                                "fields": [
                                    {
                                        "name": "row"
                                    },
                                    {
                                        "name": "col"
                                    },
                                    {
                                        "name": "value"
                                    }
                                ]
                            },
                            "data": [
                                {
                                    "row": "1",
                                    "col": "1",
                                    "value": "1"
                                },
                                {
                                    "row": "1",
                                    "col": "1",
                                    "value": "5"
                                },
                                {
                                    "row": "1",
                                    "col": "1",
                                    "value": "7"
                                },
                                {
                                    "row": "1",
                                    "col": "1",
                                    "value": "8"
                                },
                                {
                                    "row": "1",
                                    "col": "2",
                                    "value": "2"
                                },
                                {
                                    "row": "1",
                                    "col": "2",
                                    "value": "7"
                                },
                                {
                                    "row": "1",
                                    "col": "2",
                                    "value": "9"
                                },
                                {
                                    "row": "1",
                                    "col": "3",
                                    "value": "1"
                                },
                                {
                                    "row": "1",
                                    "col": "3",
                                    "value": "2"
                                },
                                {
                                    "row": "1",
                                    "col": "3",
                                    "value": "5"
                                },
                                {
                                    "row": "1",
                                    "col": "3",
                                    "value": "8"
                                },
                                {
                                    "row": "1",
                                    "col": "3",
                                    "value": "9"
                                },
                                {
                                    "row": "1",
                                    "col": "4",
                                    "value": "1"
                                },
                                {
                                    "row": "1",
                                    "col": "4",
                                    "value": "7"
                                },
                                {
                                    "row": "1",
                                    "col": "4",
                                    "value": "8"
                                },
                                {
                                    "row": "1",
                                    "col": "4",
                                    "value": "9"
                                },
                                {
                                    "row": "1",
                                    "col": "5",
                                    "value": "5"
                                },
                                {
                                    "row": "1",
                                    "col": "5",
                                    "value": "7"
                                },
                                {
                                    "row": "1",
                                    "col": "6",
                                    "value": "2"
                                },
                                {
                                    "row": "2",
                                    "col": "1",
                                    "value": "4"
                                },
                                {
                                    "row": "2",
                                    "col": "1",
                                    "value": "5"
                                },
                                {
                                    "row": "2",
                                    "col": "1",
                                    "value": "6"
                                },
                                {
                                    "row": "2",
                                    "col": "2",
                                    "value": "2"
                                },
                                {
                                    "row": "2",
                                    "col": "2",
                                    "value": "3"
                                },
                                {
                                    "row": "2",
                                    "col": "2",
                                    "value": "4"
                                },
                                {
                                    "row": "2",
                                    "col": "2",
                                    "value": "6"
                                },
                                {
                                    "row": "2",
                                    "col": "2",
                                    "value": "9"
                                },
                                {
                                    "row": "2",
                                    "col": "3",
                                    "value": "2"
                                },
                                {
                                    "row": "2",
                                    "col": "3",
                                    "value": "3"
                                },
                                {
                                    "row": "2",
                                    "col": "3",
                                    "value": "5"
                                },
                                {
                                    "row": "2",
                                    "col": "3",
                                    "value": "9"
                                },
                                {
                                    "row": "2",
                                    "col": "4",
                                    "value": "6"
                                },
                                {
                                    "row": "2",
                                    "col": "4",
                                    "value": "9"
                                },
                                {
                                    "row": "2",
                                    "col": "5",
                                    "value": "3"
                                },
                                {
                                    "row": "2",
                                    "col": "5",
                                    "value": "5"
                                },
                                {
                                    "row": "2",
                                    "col": "6",
                                    "value": "2"
                                },
                                {
                                    "row": "2",
                                    "col": "6",
                                    "value": "4"
                                },
                                {
                                    "row": "2",
                                    "col": "6",
                                    "value": "6"
                                },
                                {
                                    "row": "3",
                                    "col": "1",
                                    "value": "1"
                                },
                                {
                                    "row": "3",
                                    "col": "1",
                                    "value": "4"
                                },
                                {
                                    "row": "3",
                                    "col": "1",
                                    "value": "6"
                                },
                                {
                                    "row": "3",
                                    "col": "1",
                                    "value": "7"
                                },
                                {
                                    "row": "3",
                                    "col": "1",
                                    "value": "8"
                                },
                                {
                                    "row": "3",
                                    "col": "2",
                                    "value": "3"
                                },
                                {
                                    "row": "3",
                                    "col": "2",
                                    "value": "4"
                                },
                                {
                                    "row": "3",
                                    "col": "2",
                                    "value": "6"
                                },
                                {
                                    "row": "3",
                                    "col": "2",
                                    "value": "7"
                                },
                                {
                                    "row": "3",
                                    "col": "3",
                                    "value": "1"
                                },
                                {
                                    "row": "3",
                                    "col": "3",
                                    "value": "3"
                                },
                                {
                                    "row": "3",
                                    "col": "3",
                                    "value": "8"
                                },
                                {
                                    "row": "3",
                                    "col": "4",
                                    "value": "1"
                                },
                                {
                                    "row": "3",
                                    "col": "4",
                                    "value": "6"
                                },
                                {
                                    "row": "3",
                                    "col": "4",
                                    "value": "7"
                                },
                                {
                                    "row": "3",
                                    "col": "4",
                                    "value": "8"
                                },
                                {
                                    "row": "3",
                                    "col": "5",
                                    "value": "3"
                                },
                                {
                                    "row": "3",
                                    "col": "5",
                                    "value": "7"
                                },
                                {
                                    "row": "3",
                                    "col": "6",
                                    "value": "4"
                                },
                                {
                                    "row": "3",
                                    "col": "6",
                                    "value": "6"
                                },
                                {
                                    "row": "4",
                                    "col": "1",
                                    "value": "4"
                                },
                                {
                                    "row": "4",
                                    "col": "1",
                                    "value": "6"
                                },
                                {
                                    "row": "4",
                                    "col": "2",
                                    "value": "2"
                                },
                                {
                                    "row": "4",
                                    "col": "2",
                                    "value": "4"
                                },
                                {
                                    "row": "4",
                                    "col": "2",
                                    "value": "6"
                                },
                                {
                                    "row": "4",
                                    "col": "2",
                                    "value": "9"
                                },
                                {
                                    "row": "4",
                                    "col": "3",
                                    "value": "2"
                                },
                                {
                                    "row": "4",
                                    "col": "3",
                                    "value": "9"
                                },
                                {
                                    "row": "4",
                                    "col": "4",
                                    "value": "6"
                                },
                                {
                                    "row": "5",
                                    "col": "1",
                                    "value": "5"
                                },
                                {
                                    "row": "5",
                                    "col": "1",
                                    "value": "6"
                                },
                                {
                                    "row": "5",
                                    "col": "1",
                                    "value": "7"
                                },
                                {
                                    "row": "5",
                                    "col": "1",
                                    "value": "8"
                                },
                                {
                                    "row": "5",
                                    "col": "2",
                                    "value": "6"
                                },
                                {
                                    "row": "5",
                                    "col": "2",
                                    "value": "7"
                                },
                                {
                                    "row": "5",
                                    "col": "3",
                                    "value": "5"
                                },
                                {
                                    "row": "5",
                                    "col": "3",
                                    "value": "8"
                                },
                                {
                                    "row": "5",
                                    "col": "4",
                                    "value": "6"
                                },
                                {
                                    "row": "5",
                                    "col": "4",
                                    "value": "7"
                                },
                                {
                                    "row": "6",
                                    "col": "1",
                                    "value": "1"
                                },
                                {
                                    "row": "6",
                                    "col": "1",
                                    "value": "7"
                                },
                                {
                                    "row": "6",
                                    "col": "2",
                                    "value": "3"
                                },
                                {
                                    "row": "6",
                                    "col": "2",
                                    "value": "7"
                                },
                                {
                                    "row": "6",
                                    "col": "3",
                                    "value": "1"
                                },
                                {
                                    "row": "6",
                                    "col": "3",
                                    "value": "3"
                                }
                            ]
                        },
                        "text/html": [
                            "<table>",
                            "<tr><th>row</th><th>col</th><th>value</th></tr>",
                            "<tr><td>1</td><td>1</td><td>1</td></tr>",
                            "<tr><td>1</td><td>1</td><td>5</td></tr>",
                            "<tr><td>1</td><td>1</td><td>7</td></tr>",
                            "<tr><td>1</td><td>1</td><td>8</td></tr>",
                            "<tr><td>1</td><td>2</td><td>2</td></tr>",
                            "<tr><td>1</td><td>2</td><td>7</td></tr>",
                            "<tr><td>1</td><td>2</td><td>9</td></tr>",
                            "<tr><td>1</td><td>3</td><td>1</td></tr>",
                            "<tr><td>1</td><td>3</td><td>2</td></tr>",
                            "<tr><td>1</td><td>3</td><td>5</td></tr>",
                            "<tr><td>1</td><td>3</td><td>8</td></tr>",
                            "<tr><td>1</td><td>3</td><td>9</td></tr>",
                            "<tr><td>1</td><td>4</td><td>1</td></tr>",
                            "<tr><td>1</td><td>4</td><td>7</td></tr>",
                            "<tr><td>1</td><td>4</td><td>8</td></tr>",
                            "<tr><td>1</td><td>4</td><td>9</td></tr>",
                            "<tr><td>1</td><td>5</td><td>5</td></tr>",
                            "<tr><td>1</td><td>5</td><td>7</td></tr>",
                            "<tr><td>1</td><td>6</td><td>2</td></tr>",
                            "<tr><td>2</td><td>1</td><td>4</td></tr>",
                            "<tr><td>2</td><td>1</td><td>5</td></tr>",
                            "<tr><td>2</td><td>1</td><td>6</td></tr>",
                            "<tr><td>2</td><td>2</td><td>2</td></tr>",
                            "<tr><td>2</td><td>2</td><td>3</td></tr>",
                            "<tr><td>2</td><td>2</td><td>4</td></tr>",
                            "<tr><td>2</td><td>2</td><td>6</td></tr>",
                            "<tr><td>2</td><td>2</td><td>9</td></tr>",
                            "<tr><td>2</td><td>3</td><td>2</td></tr>",
                            "<tr><td>2</td><td>3</td><td>3</td></tr>",
                            "<tr><td>2</td><td>3</td><td>5</td></tr>",
                            "<tr><td>2</td><td>3</td><td>9</td></tr>",
                            "<tr><td>2</td><td>4</td><td>6</td></tr>",
                            "<tr><td>2</td><td>4</td><td>9</td></tr>",
                            "<tr><td>2</td><td>5</td><td>3</td></tr>",
                            "<tr><td>2</td><td>5</td><td>5</td></tr>",
                            "<tr><td>2</td><td>6</td><td>2</td></tr>",
                            "<tr><td>2</td><td>6</td><td>4</td></tr>",
                            "<tr><td>2</td><td>6</td><td>6</td></tr>",
                            "<tr><td>3</td><td>1</td><td>1</td></tr>",
                            "<tr><td>3</td><td>1</td><td>4</td></tr>",
                            "<tr><td>3</td><td>1</td><td>6</td></tr>",
                            "<tr><td>3</td><td>1</td><td>7</td></tr>",
                            "<tr><td>3</td><td>1</td><td>8</td></tr>",
                            "<tr><td>3</td><td>2</td><td>3</td></tr>",
                            "<tr><td>3</td><td>2</td><td>4</td></tr>",
                            "<tr><td>3</td><td>2</td><td>6</td></tr>",
                            "<tr><td>3</td><td>2</td><td>7</td></tr>",
                            "<tr><td>3</td><td>3</td><td>1</td></tr>",
                            "<tr><td>3</td><td>3</td><td>3</td></tr>",
                            "<tr><td>3</td><td>3</td><td>8</td></tr>",
                            "<tr><td>3</td><td>4</td><td>1</td></tr>",
                            "<tr><td>3</td><td>4</td><td>6</td></tr>",
                            "<tr><td>3</td><td>4</td><td>7</td></tr>",
                            "<tr><td>3</td><td>4</td><td>8</td></tr>",
                            "<tr><td>3</td><td>5</td><td>3</td></tr>",
                            "<tr><td>3</td><td>5</td><td>7</td></tr>",
                            "<tr><td>3</td><td>6</td><td>4</td></tr>",
                            "<tr><td>3</td><td>6</td><td>6</td></tr>",
                            "<tr><td>4</td><td>1</td><td>4</td></tr>",
                            "<tr><td>4</td><td>1</td><td>6</td></tr>",
                            "<tr><td>4</td><td>2</td><td>2</td></tr>",
                            "<tr><td>4</td><td>2</td><td>4</td></tr>",
                            "<tr><td>4</td><td>2</td><td>6</td></tr>",
                            "<tr><td>4</td><td>2</td><td>9</td></tr>",
                            "<tr><td>4</td><td>3</td><td>2</td></tr>",
                            "<tr><td>4</td><td>3</td><td>9</td></tr>",
                            "<tr><td>4</td><td>4</td><td>6</td></tr>",
                            "<tr><td>5</td><td>1</td><td>5</td></tr>",
                            "<tr><td>5</td><td>1</td><td>6</td></tr>",
                            "<tr><td>5</td><td>1</td><td>7</td></tr>",
                            "<tr><td>5</td><td>1</td><td>8</td></tr>",
                            "<tr><td>5</td><td>2</td><td>6</td></tr>",
                            "<tr><td>5</td><td>2</td><td>7</td></tr>",
                            "<tr><td>5</td><td>3</td><td>5</td></tr>",
                            "<tr><td>5</td><td>3</td><td>8</td></tr>",
                            "<tr><td>5</td><td>4</td><td>6</td></tr>",
                            "<tr><td>5</td><td>4</td><td>7</td></tr>",
                            "<tr><td>6</td><td>1</td><td>1</td></tr>",
                            "<tr><td>6</td><td>1</td><td>7</td></tr>",
                            "<tr><td>6</td><td>2</td><td>3</td></tr>",
                            "<tr><td>6</td><td>2</td><td>7</td></tr>",
                            "<tr><td>6</td><td>3</td><td>1</td></tr>",
                            "<tr><td>6</td><td>3</td><td>3</td></tr>",
                            "</table>"
                        ]
                    }
                }
            ],
            "execution_count": 49
        },
        {
            "cell_type": "code",
            "source": [
                "-- Try my luck - lines 80, 83, 85, 19, 37, 58\r\n",
                "\r\n",
                "UPDATE sudoku\r\n",
                "SET\r\n",
                "  value = 1\r\n",
                "WHERE row = 6\r\n",
                "  AND col = 1;\r\n",
                "\r\n",
                "UPDATE sudoku\r\n",
                "SET\r\n",
                "  value = 7\r\n",
                "WHERE row = 6\r\n",
                "  AND col = 2;\r\n",
                "\r\n",
                "UPDATE sudoku\r\n",
                "SET\r\n",
                "  value = 3\r\n",
                "WHERE row = 6\r\n",
                "  AND col = 3;\r\n",
                "\r\n",
                "UPDATE sudoku\r\n",
                "SET\r\n",
                "  value = 2\r\n",
                "WHERE row = 1\r\n",
                "  AND col = 6;\r\n",
                "\r\n",
                "UPDATE sudoku\r\n",
                "SET\r\n",
                "  value = 4\r\n",
                "WHERE row = 2\r\n",
                "  AND col = 6;\r\n",
                "\r\n",
                "UPDATE sudoku\r\n",
                "SET\r\n",
                "  value = 6\r\n",
                "WHERE row = 3\r\n",
                "  AND col = 6;\r\n",
                "\r\n",
                "-- New solution\r\n",
                "SELECT\r\n",
                "    row,\r\n",
                "    MAX(CASE WHEN col = 1 THEN value END) AS column1,\r\n",
                "    MAX(CASE WHEN col = 2 THEN value END) AS column2,\r\n",
                "    MAX(CASE WHEN col = 3 THEN value END) AS column3,\r\n",
                "    MAX(CASE WHEN col = 4 THEN value END) AS column4,\r\n",
                "    MAX(CASE WHEN col = 5 THEN value END) AS column5,\r\n",
                "    MAX(CASE WHEN col = 6 THEN value END) AS column6,\r\n",
                "    MAX(CASE WHEN col = 7 THEN value END) AS column7,\r\n",
                "    MAX(CASE WHEN col = 8 THEN value END) AS column8,\r\n",
                "    MAX(CASE WHEN col = 9 THEN value END) AS column9\r\n",
                "FROM sudoku\r\n",
                "GROUP BY row\r\n",
                "ORDER BY row;\r\n",
                "\r\n",
                "-- All combinations\r\n",
                "\r\n",
                "SELECT s.row, s.col, n.value\r\n",
                "FROM sudoku s\r\n",
                "CROSS JOIN (VALUES (1), (2), (3), (4), (5), (6), (7), (8), (9)) n(value)\r\n",
                "WHERE s.value IS NULL\r\n",
                "    AND NOT EXISTS (\r\n",
                "        -- Check if the value is already in the same row\r\n",
                "        SELECT 1\r\n",
                "        FROM sudoku fs\r\n",
                "        WHERE fs.row = s.row AND fs.value = n.value\r\n",
                "    )\r\n",
                "    AND NOT EXISTS (\r\n",
                "        -- Check if the value is already in the same column\r\n",
                "        SELECT 1\r\n",
                "        FROM sudoku fs\r\n",
                "        WHERE fs.col = s.col AND fs.value = n.value\r\n",
                "    )\r\n",
                "      AND NOT EXISTS (\r\n",
                "          -- Check if the value is already in the same 3x3 block\r\n",
                "          SELECT 1\r\n",
                "          FROM sudoku fs\r\n",
                "          WHERE (fs.row - 1) / 3 = (s.row - 1) / 3\r\n",
                "            AND (fs.col - 1) / 3 = (s.col - 1) / 3\r\n",
                "            AND fs.value = n.value\r\n",
                "      );"
            ],
            "metadata": {
                "language": "sql",
                "azdata_cell_guid": "adfc95bd-a493-41ad-acef-4772cad469bc",
                "tags": []
            },
            "outputs": [
                {
                    "output_type": "display_data",
                    "data": {
                        "text/html": "(1 row affected)"
                    },
                    "metadata": {}
                },
                {
                    "output_type": "display_data",
                    "data": {
                        "text/html": "(1 row affected)"
                    },
                    "metadata": {}
                },
                {
                    "output_type": "display_data",
                    "data": {
                        "text/html": "(1 row affected)"
                    },
                    "metadata": {}
                },
                {
                    "output_type": "display_data",
                    "data": {
                        "text/html": "(1 row affected)"
                    },
                    "metadata": {}
                },
                {
                    "output_type": "display_data",
                    "data": {
                        "text/html": "(1 row affected)"
                    },
                    "metadata": {}
                },
                {
                    "output_type": "display_data",
                    "data": {
                        "text/html": "(1 row affected)"
                    },
                    "metadata": {}
                },
                {
                    "output_type": "display_data",
                    "data": {
                        "text/html": "Warning: Null value is eliminated by an aggregate or other SET operation."
                    },
                    "metadata": {}
                },
                {
                    "output_type": "display_data",
                    "data": {
                        "text/html": "(9 rows affected)"
                    },
                    "metadata": {}
                },
                {
                    "output_type": "display_data",
                    "data": {
                        "text/html": "(55 rows affected)"
                    },
                    "metadata": {}
                },
                {
                    "output_type": "display_data",
                    "data": {
                        "text/html": "Total execution time: 00:00:00.318"
                    },
                    "metadata": {}
                },
                {
                    "output_type": "execute_result",
                    "metadata": {},
                    "execution_count": 50,
                    "data": {
                        "application/vnd.dataresource+json": {
                            "schema": {
                                "fields": [
                                    {
                                        "name": "row"
                                    },
                                    {
                                        "name": "column1"
                                    },
                                    {
                                        "name": "column2"
                                    },
                                    {
                                        "name": "column3"
                                    },
                                    {
                                        "name": "column4"
                                    },
                                    {
                                        "name": "column5"
                                    },
                                    {
                                        "name": "column6"
                                    },
                                    {
                                        "name": "column7"
                                    },
                                    {
                                        "name": "column8"
                                    },
                                    {
                                        "name": "column9"
                                    }
                                ]
                            },
                            "data": [
                                {
                                    "row": "1",
                                    "column1": "NULL",
                                    "column2": "NULL",
                                    "column3": "NULL",
                                    "column4": "NULL",
                                    "column5": "NULL",
                                    "column6": "2",
                                    "column7": "4",
                                    "column8": "6",
                                    "column9": "3"
                                },
                                {
                                    "row": "2",
                                    "column1": "NULL",
                                    "column2": "NULL",
                                    "column3": "NULL",
                                    "column4": "NULL",
                                    "column5": "NULL",
                                    "column6": "4",
                                    "column7": "7",
                                    "column8": "1",
                                    "column9": "8"
                                },
                                {
                                    "row": "3",
                                    "column1": "NULL",
                                    "column2": "NULL",
                                    "column3": "NULL",
                                    "column4": "NULL",
                                    "column5": "NULL",
                                    "column6": "6",
                                    "column7": "9",
                                    "column8": "5",
                                    "column9": "2"
                                },
                                {
                                    "row": "4",
                                    "column1": "NULL",
                                    "column2": "NULL",
                                    "column3": "NULL",
                                    "column4": "NULL",
                                    "column5": "8",
                                    "column6": "5",
                                    "column7": "3",
                                    "column8": "7",
                                    "column9": "1"
                                },
                                {
                                    "row": "5",
                                    "column1": "NULL",
                                    "column2": "NULL",
                                    "column3": "NULL",
                                    "column4": "NULL",
                                    "column5": "1",
                                    "column6": "3",
                                    "column7": "2",
                                    "column8": "9",
                                    "column9": "4"
                                },
                                {
                                    "row": "6",
                                    "column1": "1",
                                    "column2": "7",
                                    "column3": "3",
                                    "column4": "4",
                                    "column5": "2",
                                    "column6": "9",
                                    "column7": "5",
                                    "column8": "8",
                                    "column9": "6"
                                },
                                {
                                    "row": "7",
                                    "column1": "2",
                                    "column2": "8",
                                    "column3": "6",
                                    "column4": "5",
                                    "column5": "4",
                                    "column6": "7",
                                    "column7": "1",
                                    "column8": "3",
                                    "column9": "9"
                                },
                                {
                                    "row": "8",
                                    "column1": "3",
                                    "column2": "1",
                                    "column3": "7",
                                    "column4": "2",
                                    "column5": "9",
                                    "column6": "8",
                                    "column7": "6",
                                    "column8": "4",
                                    "column9": "5"
                                },
                                {
                                    "row": "9",
                                    "column1": "9",
                                    "column2": "5",
                                    "column3": "4",
                                    "column4": "3",
                                    "column5": "6",
                                    "column6": "1",
                                    "column7": "8",
                                    "column8": "2",
                                    "column9": "7"
                                }
                            ]
                        },
                        "text/html": [
                            "<table>",
                            "<tr><th>row</th><th>column1</th><th>column2</th><th>column3</th><th>column4</th><th>column5</th><th>column6</th><th>column7</th><th>column8</th><th>column9</th></tr>",
                            "<tr><td>1</td><td>NULL</td><td>NULL</td><td>NULL</td><td>NULL</td><td>NULL</td><td>2</td><td>4</td><td>6</td><td>3</td></tr>",
                            "<tr><td>2</td><td>NULL</td><td>NULL</td><td>NULL</td><td>NULL</td><td>NULL</td><td>4</td><td>7</td><td>1</td><td>8</td></tr>",
                            "<tr><td>3</td><td>NULL</td><td>NULL</td><td>NULL</td><td>NULL</td><td>NULL</td><td>6</td><td>9</td><td>5</td><td>2</td></tr>",
                            "<tr><td>4</td><td>NULL</td><td>NULL</td><td>NULL</td><td>NULL</td><td>8</td><td>5</td><td>3</td><td>7</td><td>1</td></tr>",
                            "<tr><td>5</td><td>NULL</td><td>NULL</td><td>NULL</td><td>NULL</td><td>1</td><td>3</td><td>2</td><td>9</td><td>4</td></tr>",
                            "<tr><td>6</td><td>1</td><td>7</td><td>3</td><td>4</td><td>2</td><td>9</td><td>5</td><td>8</td><td>6</td></tr>",
                            "<tr><td>7</td><td>2</td><td>8</td><td>6</td><td>5</td><td>4</td><td>7</td><td>1</td><td>3</td><td>9</td></tr>",
                            "<tr><td>8</td><td>3</td><td>1</td><td>7</td><td>2</td><td>9</td><td>8</td><td>6</td><td>4</td><td>5</td></tr>",
                            "<tr><td>9</td><td>9</td><td>5</td><td>4</td><td>3</td><td>6</td><td>1</td><td>8</td><td>2</td><td>7</td></tr>",
                            "</table>"
                        ]
                    }
                },
                {
                    "output_type": "execute_result",
                    "metadata": {},
                    "execution_count": 50,
                    "data": {
                        "application/vnd.dataresource+json": {
                            "schema": {
                                "fields": [
                                    {
                                        "name": "row"
                                    },
                                    {
                                        "name": "col"
                                    },
                                    {
                                        "name": "value"
                                    }
                                ]
                            },
                            "data": [
                                {
                                    "row": "1",
                                    "col": "1",
                                    "value": "5"
                                },
                                {
                                    "row": "1",
                                    "col": "1",
                                    "value": "7"
                                },
                                {
                                    "row": "1",
                                    "col": "1",
                                    "value": "8"
                                },
                                {
                                    "row": "1",
                                    "col": "2",
                                    "value": "9"
                                },
                                {
                                    "row": "1",
                                    "col": "3",
                                    "value": "1"
                                },
                                {
                                    "row": "1",
                                    "col": "3",
                                    "value": "5"
                                },
                                {
                                    "row": "1",
                                    "col": "3",
                                    "value": "8"
                                },
                                {
                                    "row": "1",
                                    "col": "3",
                                    "value": "9"
                                },
                                {
                                    "row": "1",
                                    "col": "4",
                                    "value": "1"
                                },
                                {
                                    "row": "1",
                                    "col": "4",
                                    "value": "7"
                                },
                                {
                                    "row": "1",
                                    "col": "4",
                                    "value": "8"
                                },
                                {
                                    "row": "1",
                                    "col": "4",
                                    "value": "9"
                                },
                                {
                                    "row": "1",
                                    "col": "5",
                                    "value": "5"
                                },
                                {
                                    "row": "1",
                                    "col": "5",
                                    "value": "7"
                                },
                                {
                                    "row": "2",
                                    "col": "1",
                                    "value": "5"
                                },
                                {
                                    "row": "2",
                                    "col": "1",
                                    "value": "6"
                                },
                                {
                                    "row": "2",
                                    "col": "2",
                                    "value": "2"
                                },
                                {
                                    "row": "2",
                                    "col": "2",
                                    "value": "3"
                                },
                                {
                                    "row": "2",
                                    "col": "2",
                                    "value": "6"
                                },
                                {
                                    "row": "2",
                                    "col": "2",
                                    "value": "9"
                                },
                                {
                                    "row": "2",
                                    "col": "3",
                                    "value": "2"
                                },
                                {
                                    "row": "2",
                                    "col": "3",
                                    "value": "5"
                                },
                                {
                                    "row": "2",
                                    "col": "3",
                                    "value": "9"
                                },
                                {
                                    "row": "2",
                                    "col": "4",
                                    "value": "9"
                                },
                                {
                                    "row": "2",
                                    "col": "5",
                                    "value": "3"
                                },
                                {
                                    "row": "2",
                                    "col": "5",
                                    "value": "5"
                                },
                                {
                                    "row": "3",
                                    "col": "1",
                                    "value": "4"
                                },
                                {
                                    "row": "3",
                                    "col": "1",
                                    "value": "7"
                                },
                                {
                                    "row": "3",
                                    "col": "1",
                                    "value": "8"
                                },
                                {
                                    "row": "3",
                                    "col": "2",
                                    "value": "3"
                                },
                                {
                                    "row": "3",
                                    "col": "2",
                                    "value": "4"
                                },
                                {
                                    "row": "3",
                                    "col": "3",
                                    "value": "1"
                                },
                                {
                                    "row": "3",
                                    "col": "3",
                                    "value": "8"
                                },
                                {
                                    "row": "3",
                                    "col": "4",
                                    "value": "1"
                                },
                                {
                                    "row": "3",
                                    "col": "4",
                                    "value": "7"
                                },
                                {
                                    "row": "3",
                                    "col": "4",
                                    "value": "8"
                                },
                                {
                                    "row": "3",
                                    "col": "5",
                                    "value": "3"
                                },
                                {
                                    "row": "3",
                                    "col": "5",
                                    "value": "7"
                                },
                                {
                                    "row": "4",
                                    "col": "1",
                                    "value": "4"
                                },
                                {
                                    "row": "4",
                                    "col": "1",
                                    "value": "6"
                                },
                                {
                                    "row": "4",
                                    "col": "2",
                                    "value": "2"
                                },
                                {
                                    "row": "4",
                                    "col": "2",
                                    "value": "4"
                                },
                                {
                                    "row": "4",
                                    "col": "2",
                                    "value": "6"
                                },
                                {
                                    "row": "4",
                                    "col": "2",
                                    "value": "9"
                                },
                                {
                                    "row": "4",
                                    "col": "3",
                                    "value": "2"
                                },
                                {
                                    "row": "4",
                                    "col": "3",
                                    "value": "9"
                                },
                                {
                                    "row": "4",
                                    "col": "4",
                                    "value": "6"
                                },
                                {
                                    "row": "5",
                                    "col": "1",
                                    "value": "5"
                                },
                                {
                                    "row": "5",
                                    "col": "1",
                                    "value": "6"
                                },
                                {
                                    "row": "5",
                                    "col": "1",
                                    "value": "8"
                                },
                                {
                                    "row": "5",
                                    "col": "2",
                                    "value": "6"
                                },
                                {
                                    "row": "5",
                                    "col": "3",
                                    "value": "5"
                                },
                                {
                                    "row": "5",
                                    "col": "3",
                                    "value": "8"
                                },
                                {
                                    "row": "5",
                                    "col": "4",
                                    "value": "6"
                                },
                                {
                                    "row": "5",
                                    "col": "4",
                                    "value": "7"
                                }
                            ]
                        },
                        "text/html": [
                            "<table>",
                            "<tr><th>row</th><th>col</th><th>value</th></tr>",
                            "<tr><td>1</td><td>1</td><td>5</td></tr>",
                            "<tr><td>1</td><td>1</td><td>7</td></tr>",
                            "<tr><td>1</td><td>1</td><td>8</td></tr>",
                            "<tr><td>1</td><td>2</td><td>9</td></tr>",
                            "<tr><td>1</td><td>3</td><td>1</td></tr>",
                            "<tr><td>1</td><td>3</td><td>5</td></tr>",
                            "<tr><td>1</td><td>3</td><td>8</td></tr>",
                            "<tr><td>1</td><td>3</td><td>9</td></tr>",
                            "<tr><td>1</td><td>4</td><td>1</td></tr>",
                            "<tr><td>1</td><td>4</td><td>7</td></tr>",
                            "<tr><td>1</td><td>4</td><td>8</td></tr>",
                            "<tr><td>1</td><td>4</td><td>9</td></tr>",
                            "<tr><td>1</td><td>5</td><td>5</td></tr>",
                            "<tr><td>1</td><td>5</td><td>7</td></tr>",
                            "<tr><td>2</td><td>1</td><td>5</td></tr>",
                            "<tr><td>2</td><td>1</td><td>6</td></tr>",
                            "<tr><td>2</td><td>2</td><td>2</td></tr>",
                            "<tr><td>2</td><td>2</td><td>3</td></tr>",
                            "<tr><td>2</td><td>2</td><td>6</td></tr>",
                            "<tr><td>2</td><td>2</td><td>9</td></tr>",
                            "<tr><td>2</td><td>3</td><td>2</td></tr>",
                            "<tr><td>2</td><td>3</td><td>5</td></tr>",
                            "<tr><td>2</td><td>3</td><td>9</td></tr>",
                            "<tr><td>2</td><td>4</td><td>9</td></tr>",
                            "<tr><td>2</td><td>5</td><td>3</td></tr>",
                            "<tr><td>2</td><td>5</td><td>5</td></tr>",
                            "<tr><td>3</td><td>1</td><td>4</td></tr>",
                            "<tr><td>3</td><td>1</td><td>7</td></tr>",
                            "<tr><td>3</td><td>1</td><td>8</td></tr>",
                            "<tr><td>3</td><td>2</td><td>3</td></tr>",
                            "<tr><td>3</td><td>2</td><td>4</td></tr>",
                            "<tr><td>3</td><td>3</td><td>1</td></tr>",
                            "<tr><td>3</td><td>3</td><td>8</td></tr>",
                            "<tr><td>3</td><td>4</td><td>1</td></tr>",
                            "<tr><td>3</td><td>4</td><td>7</td></tr>",
                            "<tr><td>3</td><td>4</td><td>8</td></tr>",
                            "<tr><td>3</td><td>5</td><td>3</td></tr>",
                            "<tr><td>3</td><td>5</td><td>7</td></tr>",
                            "<tr><td>4</td><td>1</td><td>4</td></tr>",
                            "<tr><td>4</td><td>1</td><td>6</td></tr>",
                            "<tr><td>4</td><td>2</td><td>2</td></tr>",
                            "<tr><td>4</td><td>2</td><td>4</td></tr>",
                            "<tr><td>4</td><td>2</td><td>6</td></tr>",
                            "<tr><td>4</td><td>2</td><td>9</td></tr>",
                            "<tr><td>4</td><td>3</td><td>2</td></tr>",
                            "<tr><td>4</td><td>3</td><td>9</td></tr>",
                            "<tr><td>4</td><td>4</td><td>6</td></tr>",
                            "<tr><td>5</td><td>1</td><td>5</td></tr>",
                            "<tr><td>5</td><td>1</td><td>6</td></tr>",
                            "<tr><td>5</td><td>1</td><td>8</td></tr>",
                            "<tr><td>5</td><td>2</td><td>6</td></tr>",
                            "<tr><td>5</td><td>3</td><td>5</td></tr>",
                            "<tr><td>5</td><td>3</td><td>8</td></tr>",
                            "<tr><td>5</td><td>4</td><td>6</td></tr>",
                            "<tr><td>5</td><td>4</td><td>7</td></tr>",
                            "</table>"
                        ]
                    }
                }
            ],
            "execution_count": 50
        },
        {
            "cell_type": "code",
            "source": [
                "-- Try my luck - lines 15, 28, 40\r\n",
                "\r\n",
                "UPDATE sudoku\r\n",
                "SET\r\n",
                "  value = 7\r\n",
                "WHERE row = 1\r\n",
                "  AND col = 5;\r\n",
                "\r\n",
                "UPDATE sudoku\r\n",
                "SET\r\n",
                "  value = 5\r\n",
                "WHERE row = 2\r\n",
                "  AND col = 5;\r\n",
                "\r\n",
                "UPDATE sudoku\r\n",
                "SET\r\n",
                "  value = 3\r\n",
                "WHERE row = 3\r\n",
                "  AND col = 5;\r\n",
                "\r\n",
                "-- New solution\r\n",
                "SELECT\r\n",
                "    row,\r\n",
                "    MAX(CASE WHEN col = 1 THEN value END) AS column1,\r\n",
                "    MAX(CASE WHEN col = 2 THEN value END) AS column2,\r\n",
                "    MAX(CASE WHEN col = 3 THEN value END) AS column3,\r\n",
                "    MAX(CASE WHEN col = 4 THEN value END) AS column4,\r\n",
                "    MAX(CASE WHEN col = 5 THEN value END) AS column5,\r\n",
                "    MAX(CASE WHEN col = 6 THEN value END) AS column6,\r\n",
                "    MAX(CASE WHEN col = 7 THEN value END) AS column7,\r\n",
                "    MAX(CASE WHEN col = 8 THEN value END) AS column8,\r\n",
                "    MAX(CASE WHEN col = 9 THEN value END) AS column9\r\n",
                "FROM sudoku\r\n",
                "GROUP BY row\r\n",
                "ORDER BY row;\r\n",
                "\r\n",
                "-- All combinations\r\n",
                "\r\n",
                "SELECT s.row, s.col, n.value\r\n",
                "FROM sudoku s\r\n",
                "CROSS JOIN (VALUES (1), (2), (3), (4), (5), (6), (7), (8), (9)) n(value)\r\n",
                "WHERE s.value IS NULL\r\n",
                "    AND NOT EXISTS (\r\n",
                "        -- Check if the value is already in the same row\r\n",
                "        SELECT 1\r\n",
                "        FROM sudoku fs\r\n",
                "        WHERE fs.row = s.row AND fs.value = n.value\r\n",
                "    )\r\n",
                "    AND NOT EXISTS (\r\n",
                "        -- Check if the value is already in the same column\r\n",
                "        SELECT 1\r\n",
                "        FROM sudoku fs\r\n",
                "        WHERE fs.col = s.col AND fs.value = n.value\r\n",
                "    )\r\n",
                "      AND NOT EXISTS (\r\n",
                "          -- Check if the value is already in the same 3x3 block\r\n",
                "          SELECT 1\r\n",
                "          FROM sudoku fs\r\n",
                "          WHERE (fs.row - 1) / 3 = (s.row - 1) / 3\r\n",
                "            AND (fs.col - 1) / 3 = (s.col - 1) / 3\r\n",
                "            AND fs.value = n.value\r\n",
                "      );"
            ],
            "metadata": {
                "language": "sql",
                "azdata_cell_guid": "ff3cdb09-3b64-48d8-84dd-11367cf4ecd9",
                "tags": []
            },
            "outputs": [
                {
                    "output_type": "display_data",
                    "data": {
                        "text/html": "(1 row affected)"
                    },
                    "metadata": {}
                },
                {
                    "output_type": "display_data",
                    "data": {
                        "text/html": "(1 row affected)"
                    },
                    "metadata": {}
                },
                {
                    "output_type": "display_data",
                    "data": {
                        "text/html": "(1 row affected)"
                    },
                    "metadata": {}
                },
                {
                    "output_type": "display_data",
                    "data": {
                        "text/html": "Warning: Null value is eliminated by an aggregate or other SET operation."
                    },
                    "metadata": {}
                },
                {
                    "output_type": "display_data",
                    "data": {
                        "text/html": "(9 rows affected)"
                    },
                    "metadata": {}
                },
                {
                    "output_type": "display_data",
                    "data": {
                        "text/html": "(43 rows affected)"
                    },
                    "metadata": {}
                },
                {
                    "output_type": "display_data",
                    "data": {
                        "text/html": "Total execution time: 00:00:00.493"
                    },
                    "metadata": {}
                },
                {
                    "output_type": "execute_result",
                    "metadata": {},
                    "execution_count": 51,
                    "data": {
                        "application/vnd.dataresource+json": {
                            "schema": {
                                "fields": [
                                    {
                                        "name": "row"
                                    },
                                    {
                                        "name": "column1"
                                    },
                                    {
                                        "name": "column2"
                                    },
                                    {
                                        "name": "column3"
                                    },
                                    {
                                        "name": "column4"
                                    },
                                    {
                                        "name": "column5"
                                    },
                                    {
                                        "name": "column6"
                                    },
                                    {
                                        "name": "column7"
                                    },
                                    {
                                        "name": "column8"
                                    },
                                    {
                                        "name": "column9"
                                    }
                                ]
                            },
                            "data": [
                                {
                                    "row": "1",
                                    "column1": "NULL",
                                    "column2": "NULL",
                                    "column3": "NULL",
                                    "column4": "NULL",
                                    "column5": "7",
                                    "column6": "2",
                                    "column7": "4",
                                    "column8": "6",
                                    "column9": "3"
                                },
                                {
                                    "row": "2",
                                    "column1": "NULL",
                                    "column2": "NULL",
                                    "column3": "NULL",
                                    "column4": "NULL",
                                    "column5": "5",
                                    "column6": "4",
                                    "column7": "7",
                                    "column8": "1",
                                    "column9": "8"
                                },
                                {
                                    "row": "3",
                                    "column1": "NULL",
                                    "column2": "NULL",
                                    "column3": "NULL",
                                    "column4": "NULL",
                                    "column5": "3",
                                    "column6": "6",
                                    "column7": "9",
                                    "column8": "5",
                                    "column9": "2"
                                },
                                {
                                    "row": "4",
                                    "column1": "NULL",
                                    "column2": "NULL",
                                    "column3": "NULL",
                                    "column4": "NULL",
                                    "column5": "8",
                                    "column6": "5",
                                    "column7": "3",
                                    "column8": "7",
                                    "column9": "1"
                                },
                                {
                                    "row": "5",
                                    "column1": "NULL",
                                    "column2": "NULL",
                                    "column3": "NULL",
                                    "column4": "NULL",
                                    "column5": "1",
                                    "column6": "3",
                                    "column7": "2",
                                    "column8": "9",
                                    "column9": "4"
                                },
                                {
                                    "row": "6",
                                    "column1": "1",
                                    "column2": "7",
                                    "column3": "3",
                                    "column4": "4",
                                    "column5": "2",
                                    "column6": "9",
                                    "column7": "5",
                                    "column8": "8",
                                    "column9": "6"
                                },
                                {
                                    "row": "7",
                                    "column1": "2",
                                    "column2": "8",
                                    "column3": "6",
                                    "column4": "5",
                                    "column5": "4",
                                    "column6": "7",
                                    "column7": "1",
                                    "column8": "3",
                                    "column9": "9"
                                },
                                {
                                    "row": "8",
                                    "column1": "3",
                                    "column2": "1",
                                    "column3": "7",
                                    "column4": "2",
                                    "column5": "9",
                                    "column6": "8",
                                    "column7": "6",
                                    "column8": "4",
                                    "column9": "5"
                                },
                                {
                                    "row": "9",
                                    "column1": "9",
                                    "column2": "5",
                                    "column3": "4",
                                    "column4": "3",
                                    "column5": "6",
                                    "column6": "1",
                                    "column7": "8",
                                    "column8": "2",
                                    "column9": "7"
                                }
                            ]
                        },
                        "text/html": [
                            "<table>",
                            "<tr><th>row</th><th>column1</th><th>column2</th><th>column3</th><th>column4</th><th>column5</th><th>column6</th><th>column7</th><th>column8</th><th>column9</th></tr>",
                            "<tr><td>1</td><td>NULL</td><td>NULL</td><td>NULL</td><td>NULL</td><td>7</td><td>2</td><td>4</td><td>6</td><td>3</td></tr>",
                            "<tr><td>2</td><td>NULL</td><td>NULL</td><td>NULL</td><td>NULL</td><td>5</td><td>4</td><td>7</td><td>1</td><td>8</td></tr>",
                            "<tr><td>3</td><td>NULL</td><td>NULL</td><td>NULL</td><td>NULL</td><td>3</td><td>6</td><td>9</td><td>5</td><td>2</td></tr>",
                            "<tr><td>4</td><td>NULL</td><td>NULL</td><td>NULL</td><td>NULL</td><td>8</td><td>5</td><td>3</td><td>7</td><td>1</td></tr>",
                            "<tr><td>5</td><td>NULL</td><td>NULL</td><td>NULL</td><td>NULL</td><td>1</td><td>3</td><td>2</td><td>9</td><td>4</td></tr>",
                            "<tr><td>6</td><td>1</td><td>7</td><td>3</td><td>4</td><td>2</td><td>9</td><td>5</td><td>8</td><td>6</td></tr>",
                            "<tr><td>7</td><td>2</td><td>8</td><td>6</td><td>5</td><td>4</td><td>7</td><td>1</td><td>3</td><td>9</td></tr>",
                            "<tr><td>8</td><td>3</td><td>1</td><td>7</td><td>2</td><td>9</td><td>8</td><td>6</td><td>4</td><td>5</td></tr>",
                            "<tr><td>9</td><td>9</td><td>5</td><td>4</td><td>3</td><td>6</td><td>1</td><td>8</td><td>2</td><td>7</td></tr>",
                            "</table>"
                        ]
                    }
                },
                {
                    "output_type": "execute_result",
                    "metadata": {},
                    "execution_count": 51,
                    "data": {
                        "application/vnd.dataresource+json": {
                            "schema": {
                                "fields": [
                                    {
                                        "name": "row"
                                    },
                                    {
                                        "name": "col"
                                    },
                                    {
                                        "name": "value"
                                    }
                                ]
                            },
                            "data": [
                                {
                                    "row": "1",
                                    "col": "1",
                                    "value": "5"
                                },
                                {
                                    "row": "1",
                                    "col": "1",
                                    "value": "8"
                                },
                                {
                                    "row": "1",
                                    "col": "2",
                                    "value": "9"
                                },
                                {
                                    "row": "1",
                                    "col": "3",
                                    "value": "1"
                                },
                                {
                                    "row": "1",
                                    "col": "3",
                                    "value": "5"
                                },
                                {
                                    "row": "1",
                                    "col": "3",
                                    "value": "8"
                                },
                                {
                                    "row": "1",
                                    "col": "3",
                                    "value": "9"
                                },
                                {
                                    "row": "1",
                                    "col": "4",
                                    "value": "1"
                                },
                                {
                                    "row": "1",
                                    "col": "4",
                                    "value": "8"
                                },
                                {
                                    "row": "1",
                                    "col": "4",
                                    "value": "9"
                                },
                                {
                                    "row": "2",
                                    "col": "1",
                                    "value": "6"
                                },
                                {
                                    "row": "2",
                                    "col": "2",
                                    "value": "2"
                                },
                                {
                                    "row": "2",
                                    "col": "2",
                                    "value": "3"
                                },
                                {
                                    "row": "2",
                                    "col": "2",
                                    "value": "6"
                                },
                                {
                                    "row": "2",
                                    "col": "2",
                                    "value": "9"
                                },
                                {
                                    "row": "2",
                                    "col": "3",
                                    "value": "2"
                                },
                                {
                                    "row": "2",
                                    "col": "3",
                                    "value": "9"
                                },
                                {
                                    "row": "2",
                                    "col": "4",
                                    "value": "9"
                                },
                                {
                                    "row": "3",
                                    "col": "1",
                                    "value": "4"
                                },
                                {
                                    "row": "3",
                                    "col": "1",
                                    "value": "7"
                                },
                                {
                                    "row": "3",
                                    "col": "1",
                                    "value": "8"
                                },
                                {
                                    "row": "3",
                                    "col": "2",
                                    "value": "4"
                                },
                                {
                                    "row": "3",
                                    "col": "3",
                                    "value": "1"
                                },
                                {
                                    "row": "3",
                                    "col": "3",
                                    "value": "8"
                                },
                                {
                                    "row": "3",
                                    "col": "4",
                                    "value": "1"
                                },
                                {
                                    "row": "3",
                                    "col": "4",
                                    "value": "8"
                                },
                                {
                                    "row": "4",
                                    "col": "1",
                                    "value": "4"
                                },
                                {
                                    "row": "4",
                                    "col": "1",
                                    "value": "6"
                                },
                                {
                                    "row": "4",
                                    "col": "2",
                                    "value": "2"
                                },
                                {
                                    "row": "4",
                                    "col": "2",
                                    "value": "4"
                                },
                                {
                                    "row": "4",
                                    "col": "2",
                                    "value": "6"
                                },
                                {
                                    "row": "4",
                                    "col": "2",
                                    "value": "9"
                                },
                                {
                                    "row": "4",
                                    "col": "3",
                                    "value": "2"
                                },
                                {
                                    "row": "4",
                                    "col": "3",
                                    "value": "9"
                                },
                                {
                                    "row": "4",
                                    "col": "4",
                                    "value": "6"
                                },
                                {
                                    "row": "5",
                                    "col": "1",
                                    "value": "5"
                                },
                                {
                                    "row": "5",
                                    "col": "1",
                                    "value": "6"
                                },
                                {
                                    "row": "5",
                                    "col": "1",
                                    "value": "8"
                                },
                                {
                                    "row": "5",
                                    "col": "2",
                                    "value": "6"
                                },
                                {
                                    "row": "5",
                                    "col": "3",
                                    "value": "5"
                                },
                                {
                                    "row": "5",
                                    "col": "3",
                                    "value": "8"
                                },
                                {
                                    "row": "5",
                                    "col": "4",
                                    "value": "6"
                                },
                                {
                                    "row": "5",
                                    "col": "4",
                                    "value": "7"
                                }
                            ]
                        },
                        "text/html": [
                            "<table>",
                            "<tr><th>row</th><th>col</th><th>value</th></tr>",
                            "<tr><td>1</td><td>1</td><td>5</td></tr>",
                            "<tr><td>1</td><td>1</td><td>8</td></tr>",
                            "<tr><td>1</td><td>2</td><td>9</td></tr>",
                            "<tr><td>1</td><td>3</td><td>1</td></tr>",
                            "<tr><td>1</td><td>3</td><td>5</td></tr>",
                            "<tr><td>1</td><td>3</td><td>8</td></tr>",
                            "<tr><td>1</td><td>3</td><td>9</td></tr>",
                            "<tr><td>1</td><td>4</td><td>1</td></tr>",
                            "<tr><td>1</td><td>4</td><td>8</td></tr>",
                            "<tr><td>1</td><td>4</td><td>9</td></tr>",
                            "<tr><td>2</td><td>1</td><td>6</td></tr>",
                            "<tr><td>2</td><td>2</td><td>2</td></tr>",
                            "<tr><td>2</td><td>2</td><td>3</td></tr>",
                            "<tr><td>2</td><td>2</td><td>6</td></tr>",
                            "<tr><td>2</td><td>2</td><td>9</td></tr>",
                            "<tr><td>2</td><td>3</td><td>2</td></tr>",
                            "<tr><td>2</td><td>3</td><td>9</td></tr>",
                            "<tr><td>2</td><td>4</td><td>9</td></tr>",
                            "<tr><td>3</td><td>1</td><td>4</td></tr>",
                            "<tr><td>3</td><td>1</td><td>7</td></tr>",
                            "<tr><td>3</td><td>1</td><td>8</td></tr>",
                            "<tr><td>3</td><td>2</td><td>4</td></tr>",
                            "<tr><td>3</td><td>3</td><td>1</td></tr>",
                            "<tr><td>3</td><td>3</td><td>8</td></tr>",
                            "<tr><td>3</td><td>4</td><td>1</td></tr>",
                            "<tr><td>3</td><td>4</td><td>8</td></tr>",
                            "<tr><td>4</td><td>1</td><td>4</td></tr>",
                            "<tr><td>4</td><td>1</td><td>6</td></tr>",
                            "<tr><td>4</td><td>2</td><td>2</td></tr>",
                            "<tr><td>4</td><td>2</td><td>4</td></tr>",
                            "<tr><td>4</td><td>2</td><td>6</td></tr>",
                            "<tr><td>4</td><td>2</td><td>9</td></tr>",
                            "<tr><td>4</td><td>3</td><td>2</td></tr>",
                            "<tr><td>4</td><td>3</td><td>9</td></tr>",
                            "<tr><td>4</td><td>4</td><td>6</td></tr>",
                            "<tr><td>5</td><td>1</td><td>5</td></tr>",
                            "<tr><td>5</td><td>1</td><td>6</td></tr>",
                            "<tr><td>5</td><td>1</td><td>8</td></tr>",
                            "<tr><td>5</td><td>2</td><td>6</td></tr>",
                            "<tr><td>5</td><td>3</td><td>5</td></tr>",
                            "<tr><td>5</td><td>3</td><td>8</td></tr>",
                            "<tr><td>5</td><td>4</td><td>6</td></tr>",
                            "<tr><td>5</td><td>4</td><td>7</td></tr>",
                            "</table>"
                        ]
                    }
                }
            ],
            "execution_count": 51
        },
        {
            "cell_type": "code",
            "source": [
                "-- Try my luck - lines 50, 45, 40, 43\r\n",
                "\r\n",
                "UPDATE sudoku\r\n",
                "SET\r\n",
                "  value = 8\r\n",
                "WHERE row = 5\r\n",
                "  AND col = 1;\r\n",
                "\r\n",
                "UPDATE sudoku\r\n",
                "SET\r\n",
                "  value = 5\r\n",
                "WHERE row = 5\r\n",
                "  AND col = 3;\r\n",
                "\r\n",
                "UPDATE sudoku\r\n",
                "SET\r\n",
                "  value = 6\r\n",
                "WHERE row = 5\r\n",
                "  AND col = 2;\r\n",
                "\r\n",
                "UPDATE sudoku\r\n",
                "SET\r\n",
                "  value = 7\r\n",
                "WHERE row = 5\r\n",
                "  AND col = 4;\r\n",
                "\r\n",
                "-- New solution\r\n",
                "SELECT\r\n",
                "    row,\r\n",
                "    MAX(CASE WHEN col = 1 THEN value END) AS column1,\r\n",
                "    MAX(CASE WHEN col = 2 THEN value END) AS column2,\r\n",
                "    MAX(CASE WHEN col = 3 THEN value END) AS column3,\r\n",
                "    MAX(CASE WHEN col = 4 THEN value END) AS column4,\r\n",
                "    MAX(CASE WHEN col = 5 THEN value END) AS column5,\r\n",
                "    MAX(CASE WHEN col = 6 THEN value END) AS column6,\r\n",
                "    MAX(CASE WHEN col = 7 THEN value END) AS column7,\r\n",
                "    MAX(CASE WHEN col = 8 THEN value END) AS column8,\r\n",
                "    MAX(CASE WHEN col = 9 THEN value END) AS column9\r\n",
                "FROM sudoku\r\n",
                "GROUP BY row\r\n",
                "ORDER BY row;\r\n",
                "\r\n",
                "-- All combinations\r\n",
                "\r\n",
                "SELECT s.row, s.col, n.value\r\n",
                "FROM sudoku s\r\n",
                "CROSS JOIN (VALUES (1), (2), (3), (4), (5), (6), (7), (8), (9)) n(value)\r\n",
                "WHERE s.value IS NULL\r\n",
                "    AND NOT EXISTS (\r\n",
                "        -- Check if the value is already in the same row\r\n",
                "        SELECT 1\r\n",
                "        FROM sudoku fs\r\n",
                "        WHERE fs.row = s.row AND fs.value = n.value\r\n",
                "    )\r\n",
                "    AND NOT EXISTS (\r\n",
                "        -- Check if the value is already in the same column\r\n",
                "        SELECT 1\r\n",
                "        FROM sudoku fs\r\n",
                "        WHERE fs.col = s.col AND fs.value = n.value\r\n",
                "    )\r\n",
                "      AND NOT EXISTS (\r\n",
                "          -- Check if the value is already in the same 3x3 block\r\n",
                "          SELECT 1\r\n",
                "          FROM sudoku fs\r\n",
                "          WHERE (fs.row - 1) / 3 = (s.row - 1) / 3\r\n",
                "            AND (fs.col - 1) / 3 = (s.col - 1) / 3\r\n",
                "            AND fs.value = n.value\r\n",
                "      );"
            ],
            "metadata": {
                "azdata_cell_guid": "8b03ddb3-a6b6-4577-9c15-6226dd1b89f7",
                "language": "sql",
                "tags": []
            },
            "outputs": [
                {
                    "output_type": "display_data",
                    "data": {
                        "text/html": "(1 row affected)"
                    },
                    "metadata": {}
                },
                {
                    "output_type": "display_data",
                    "data": {
                        "text/html": "(1 row affected)"
                    },
                    "metadata": {}
                },
                {
                    "output_type": "display_data",
                    "data": {
                        "text/html": "(1 row affected)"
                    },
                    "metadata": {}
                },
                {
                    "output_type": "display_data",
                    "data": {
                        "text/html": "(1 row affected)"
                    },
                    "metadata": {}
                },
                {
                    "output_type": "display_data",
                    "data": {
                        "text/html": "Warning: Null value is eliminated by an aggregate or other SET operation."
                    },
                    "metadata": {}
                },
                {
                    "output_type": "display_data",
                    "data": {
                        "text/html": "(9 rows affected)"
                    },
                    "metadata": {}
                },
                {
                    "output_type": "display_data",
                    "data": {
                        "text/html": "(29 rows affected)"
                    },
                    "metadata": {}
                },
                {
                    "output_type": "display_data",
                    "data": {
                        "text/html": "Total execution time: 00:00:00.346"
                    },
                    "metadata": {}
                },
                {
                    "output_type": "execute_result",
                    "metadata": {},
                    "execution_count": 52,
                    "data": {
                        "application/vnd.dataresource+json": {
                            "schema": {
                                "fields": [
                                    {
                                        "name": "row"
                                    },
                                    {
                                        "name": "column1"
                                    },
                                    {
                                        "name": "column2"
                                    },
                                    {
                                        "name": "column3"
                                    },
                                    {
                                        "name": "column4"
                                    },
                                    {
                                        "name": "column5"
                                    },
                                    {
                                        "name": "column6"
                                    },
                                    {
                                        "name": "column7"
                                    },
                                    {
                                        "name": "column8"
                                    },
                                    {
                                        "name": "column9"
                                    }
                                ]
                            },
                            "data": [
                                {
                                    "row": "1",
                                    "column1": "NULL",
                                    "column2": "NULL",
                                    "column3": "NULL",
                                    "column4": "NULL",
                                    "column5": "7",
                                    "column6": "2",
                                    "column7": "4",
                                    "column8": "6",
                                    "column9": "3"
                                },
                                {
                                    "row": "2",
                                    "column1": "NULL",
                                    "column2": "NULL",
                                    "column3": "NULL",
                                    "column4": "NULL",
                                    "column5": "5",
                                    "column6": "4",
                                    "column7": "7",
                                    "column8": "1",
                                    "column9": "8"
                                },
                                {
                                    "row": "3",
                                    "column1": "NULL",
                                    "column2": "NULL",
                                    "column3": "NULL",
                                    "column4": "NULL",
                                    "column5": "3",
                                    "column6": "6",
                                    "column7": "9",
                                    "column8": "5",
                                    "column9": "2"
                                },
                                {
                                    "row": "4",
                                    "column1": "NULL",
                                    "column2": "NULL",
                                    "column3": "NULL",
                                    "column4": "NULL",
                                    "column5": "8",
                                    "column6": "5",
                                    "column7": "3",
                                    "column8": "7",
                                    "column9": "1"
                                },
                                {
                                    "row": "5",
                                    "column1": "8",
                                    "column2": "6",
                                    "column3": "5",
                                    "column4": "7",
                                    "column5": "1",
                                    "column6": "3",
                                    "column7": "2",
                                    "column8": "9",
                                    "column9": "4"
                                },
                                {
                                    "row": "6",
                                    "column1": "1",
                                    "column2": "7",
                                    "column3": "3",
                                    "column4": "4",
                                    "column5": "2",
                                    "column6": "9",
                                    "column7": "5",
                                    "column8": "8",
                                    "column9": "6"
                                },
                                {
                                    "row": "7",
                                    "column1": "2",
                                    "column2": "8",
                                    "column3": "6",
                                    "column4": "5",
                                    "column5": "4",
                                    "column6": "7",
                                    "column7": "1",
                                    "column8": "3",
                                    "column9": "9"
                                },
                                {
                                    "row": "8",
                                    "column1": "3",
                                    "column2": "1",
                                    "column3": "7",
                                    "column4": "2",
                                    "column5": "9",
                                    "column6": "8",
                                    "column7": "6",
                                    "column8": "4",
                                    "column9": "5"
                                },
                                {
                                    "row": "9",
                                    "column1": "9",
                                    "column2": "5",
                                    "column3": "4",
                                    "column4": "3",
                                    "column5": "6",
                                    "column6": "1",
                                    "column7": "8",
                                    "column8": "2",
                                    "column9": "7"
                                }
                            ]
                        },
                        "text/html": [
                            "<table>",
                            "<tr><th>row</th><th>column1</th><th>column2</th><th>column3</th><th>column4</th><th>column5</th><th>column6</th><th>column7</th><th>column8</th><th>column9</th></tr>",
                            "<tr><td>1</td><td>NULL</td><td>NULL</td><td>NULL</td><td>NULL</td><td>7</td><td>2</td><td>4</td><td>6</td><td>3</td></tr>",
                            "<tr><td>2</td><td>NULL</td><td>NULL</td><td>NULL</td><td>NULL</td><td>5</td><td>4</td><td>7</td><td>1</td><td>8</td></tr>",
                            "<tr><td>3</td><td>NULL</td><td>NULL</td><td>NULL</td><td>NULL</td><td>3</td><td>6</td><td>9</td><td>5</td><td>2</td></tr>",
                            "<tr><td>4</td><td>NULL</td><td>NULL</td><td>NULL</td><td>NULL</td><td>8</td><td>5</td><td>3</td><td>7</td><td>1</td></tr>",
                            "<tr><td>5</td><td>8</td><td>6</td><td>5</td><td>7</td><td>1</td><td>3</td><td>2</td><td>9</td><td>4</td></tr>",
                            "<tr><td>6</td><td>1</td><td>7</td><td>3</td><td>4</td><td>2</td><td>9</td><td>5</td><td>8</td><td>6</td></tr>",
                            "<tr><td>7</td><td>2</td><td>8</td><td>6</td><td>5</td><td>4</td><td>7</td><td>1</td><td>3</td><td>9</td></tr>",
                            "<tr><td>8</td><td>3</td><td>1</td><td>7</td><td>2</td><td>9</td><td>8</td><td>6</td><td>4</td><td>5</td></tr>",
                            "<tr><td>9</td><td>9</td><td>5</td><td>4</td><td>3</td><td>6</td><td>1</td><td>8</td><td>2</td><td>7</td></tr>",
                            "</table>"
                        ]
                    }
                },
                {
                    "output_type": "execute_result",
                    "metadata": {},
                    "execution_count": 52,
                    "data": {
                        "application/vnd.dataresource+json": {
                            "schema": {
                                "fields": [
                                    {
                                        "name": "row"
                                    },
                                    {
                                        "name": "col"
                                    },
                                    {
                                        "name": "value"
                                    }
                                ]
                            },
                            "data": [
                                {
                                    "row": "1",
                                    "col": "1",
                                    "value": "5"
                                },
                                {
                                    "row": "1",
                                    "col": "2",
                                    "value": "9"
                                },
                                {
                                    "row": "1",
                                    "col": "3",
                                    "value": "1"
                                },
                                {
                                    "row": "1",
                                    "col": "3",
                                    "value": "8"
                                },
                                {
                                    "row": "1",
                                    "col": "3",
                                    "value": "9"
                                },
                                {
                                    "row": "1",
                                    "col": "4",
                                    "value": "1"
                                },
                                {
                                    "row": "1",
                                    "col": "4",
                                    "value": "8"
                                },
                                {
                                    "row": "1",
                                    "col": "4",
                                    "value": "9"
                                },
                                {
                                    "row": "2",
                                    "col": "1",
                                    "value": "6"
                                },
                                {
                                    "row": "2",
                                    "col": "2",
                                    "value": "2"
                                },
                                {
                                    "row": "2",
                                    "col": "2",
                                    "value": "3"
                                },
                                {
                                    "row": "2",
                                    "col": "2",
                                    "value": "9"
                                },
                                {
                                    "row": "2",
                                    "col": "3",
                                    "value": "2"
                                },
                                {
                                    "row": "2",
                                    "col": "3",
                                    "value": "9"
                                },
                                {
                                    "row": "2",
                                    "col": "4",
                                    "value": "9"
                                },
                                {
                                    "row": "3",
                                    "col": "1",
                                    "value": "4"
                                },
                                {
                                    "row": "3",
                                    "col": "1",
                                    "value": "7"
                                },
                                {
                                    "row": "3",
                                    "col": "2",
                                    "value": "4"
                                },
                                {
                                    "row": "3",
                                    "col": "3",
                                    "value": "1"
                                },
                                {
                                    "row": "3",
                                    "col": "3",
                                    "value": "8"
                                },
                                {
                                    "row": "3",
                                    "col": "4",
                                    "value": "1"
                                },
                                {
                                    "row": "3",
                                    "col": "4",
                                    "value": "8"
                                },
                                {
                                    "row": "4",
                                    "col": "1",
                                    "value": "4"
                                },
                                {
                                    "row": "4",
                                    "col": "2",
                                    "value": "2"
                                },
                                {
                                    "row": "4",
                                    "col": "2",
                                    "value": "4"
                                },
                                {
                                    "row": "4",
                                    "col": "2",
                                    "value": "9"
                                },
                                {
                                    "row": "4",
                                    "col": "3",
                                    "value": "2"
                                },
                                {
                                    "row": "4",
                                    "col": "3",
                                    "value": "9"
                                },
                                {
                                    "row": "4",
                                    "col": "4",
                                    "value": "6"
                                }
                            ]
                        },
                        "text/html": [
                            "<table>",
                            "<tr><th>row</th><th>col</th><th>value</th></tr>",
                            "<tr><td>1</td><td>1</td><td>5</td></tr>",
                            "<tr><td>1</td><td>2</td><td>9</td></tr>",
                            "<tr><td>1</td><td>3</td><td>1</td></tr>",
                            "<tr><td>1</td><td>3</td><td>8</td></tr>",
                            "<tr><td>1</td><td>3</td><td>9</td></tr>",
                            "<tr><td>1</td><td>4</td><td>1</td></tr>",
                            "<tr><td>1</td><td>4</td><td>8</td></tr>",
                            "<tr><td>1</td><td>4</td><td>9</td></tr>",
                            "<tr><td>2</td><td>1</td><td>6</td></tr>",
                            "<tr><td>2</td><td>2</td><td>2</td></tr>",
                            "<tr><td>2</td><td>2</td><td>3</td></tr>",
                            "<tr><td>2</td><td>2</td><td>9</td></tr>",
                            "<tr><td>2</td><td>3</td><td>2</td></tr>",
                            "<tr><td>2</td><td>3</td><td>9</td></tr>",
                            "<tr><td>2</td><td>4</td><td>9</td></tr>",
                            "<tr><td>3</td><td>1</td><td>4</td></tr>",
                            "<tr><td>3</td><td>1</td><td>7</td></tr>",
                            "<tr><td>3</td><td>2</td><td>4</td></tr>",
                            "<tr><td>3</td><td>3</td><td>1</td></tr>",
                            "<tr><td>3</td><td>3</td><td>8</td></tr>",
                            "<tr><td>3</td><td>4</td><td>1</td></tr>",
                            "<tr><td>3</td><td>4</td><td>8</td></tr>",
                            "<tr><td>4</td><td>1</td><td>4</td></tr>",
                            "<tr><td>4</td><td>2</td><td>2</td></tr>",
                            "<tr><td>4</td><td>2</td><td>4</td></tr>",
                            "<tr><td>4</td><td>2</td><td>9</td></tr>",
                            "<tr><td>4</td><td>3</td><td>2</td></tr>",
                            "<tr><td>4</td><td>3</td><td>9</td></tr>",
                            "<tr><td>4</td><td>4</td><td>6</td></tr>",
                            "</table>"
                        ]
                    }
                }
            ],
            "execution_count": 52
        },
        {
            "cell_type": "code",
            "source": [
                "-- Try my luck - lines 1, 2, 3, 7, 23\r\n",
                "\r\n",
                "UPDATE sudoku\r\n",
                "SET\r\n",
                "  value = 5\r\n",
                "WHERE row = 1\r\n",
                "  AND col = 1;\r\n",
                "\r\n",
                "UPDATE sudoku\r\n",
                "SET\r\n",
                "  value = 9\r\n",
                "WHERE row = 1\r\n",
                "  AND col = 2;\r\n",
                "\r\n",
                "UPDATE sudoku\r\n",
                "SET\r\n",
                "  value = 1\r\n",
                "WHERE row = 1\r\n",
                "  AND col = 3;\r\n",
                "\r\n",
                "UPDATE sudoku\r\n",
                "SET\r\n",
                "  value = 8\r\n",
                "WHERE row = 1\r\n",
                "  AND col = 4;\r\n",
                "\r\n",
                "UPDATE sudoku\r\n",
                "SET\r\n",
                "  value = 1\r\n",
                "WHERE row = 3\r\n",
                "  AND col = 4;\r\n",
                "\r\n",
                "-- New solution\r\n",
                "SELECT\r\n",
                "    row,\r\n",
                "    MAX(CASE WHEN col = 1 THEN value END) AS column1,\r\n",
                "    MAX(CASE WHEN col = 2 THEN value END) AS column2,\r\n",
                "    MAX(CASE WHEN col = 3 THEN value END) AS column3,\r\n",
                "    MAX(CASE WHEN col = 4 THEN value END) AS column4,\r\n",
                "    MAX(CASE WHEN col = 5 THEN value END) AS column5,\r\n",
                "    MAX(CASE WHEN col = 6 THEN value END) AS column6,\r\n",
                "    MAX(CASE WHEN col = 7 THEN value END) AS column7,\r\n",
                "    MAX(CASE WHEN col = 8 THEN value END) AS column8,\r\n",
                "    MAX(CASE WHEN col = 9 THEN value END) AS column9\r\n",
                "FROM sudoku\r\n",
                "GROUP BY row\r\n",
                "ORDER BY row;\r\n",
                "\r\n",
                "-- All combinations\r\n",
                "\r\n",
                "SELECT s.row, s.col, n.value\r\n",
                "FROM sudoku s\r\n",
                "CROSS JOIN (VALUES (1), (2), (3), (4), (5), (6), (7), (8), (9)) n(value)\r\n",
                "WHERE s.value IS NULL\r\n",
                "    AND NOT EXISTS (\r\n",
                "        -- Check if the value is already in the same row\r\n",
                "        SELECT 1\r\n",
                "        FROM sudoku fs\r\n",
                "        WHERE fs.row = s.row AND fs.value = n.value\r\n",
                "    )\r\n",
                "    AND NOT EXISTS (\r\n",
                "        -- Check if the value is already in the same column\r\n",
                "        SELECT 1\r\n",
                "        FROM sudoku fs\r\n",
                "        WHERE fs.col = s.col AND fs.value = n.value\r\n",
                "    )\r\n",
                "    AND NOT EXISTS (\r\n",
                "        -- Check if the value is already in the same 3x3 block\r\n",
                "        SELECT 1\r\n",
                "        FROM sudoku fs\r\n",
                "        WHERE (fs.row - 1) / 3 = (s.row - 1) / 3\r\n",
                "          AND (fs.col - 1) / 3 = (s.col - 1) / 3\r\n",
                "          AND fs.value = n.value\r\n",
                "    );"
            ],
            "metadata": {
                "language": "sql",
                "azdata_cell_guid": "de5c9c2a-bcdf-4bfa-af0b-7208687a123d",
                "tags": []
            },
            "outputs": [
                {
                    "output_type": "display_data",
                    "data": {
                        "text/html": "(1 row affected)"
                    },
                    "metadata": {}
                },
                {
                    "output_type": "display_data",
                    "data": {
                        "text/html": "(1 row affected)"
                    },
                    "metadata": {}
                },
                {
                    "output_type": "display_data",
                    "data": {
                        "text/html": "(1 row affected)"
                    },
                    "metadata": {}
                },
                {
                    "output_type": "display_data",
                    "data": {
                        "text/html": "(1 row affected)"
                    },
                    "metadata": {}
                },
                {
                    "output_type": "display_data",
                    "data": {
                        "text/html": "(1 row affected)"
                    },
                    "metadata": {}
                },
                {
                    "output_type": "display_data",
                    "data": {
                        "text/html": "Warning: Null value is eliminated by an aggregate or other SET operation."
                    },
                    "metadata": {}
                },
                {
                    "output_type": "display_data",
                    "data": {
                        "text/html": "(9 rows affected)"
                    },
                    "metadata": {}
                },
                {
                    "output_type": "display_data",
                    "data": {
                        "text/html": "(15 rows affected)"
                    },
                    "metadata": {}
                },
                {
                    "output_type": "display_data",
                    "data": {
                        "text/html": "Total execution time: 00:00:00.259"
                    },
                    "metadata": {}
                },
                {
                    "output_type": "execute_result",
                    "metadata": {},
                    "execution_count": 53,
                    "data": {
                        "application/vnd.dataresource+json": {
                            "schema": {
                                "fields": [
                                    {
                                        "name": "row"
                                    },
                                    {
                                        "name": "column1"
                                    },
                                    {
                                        "name": "column2"
                                    },
                                    {
                                        "name": "column3"
                                    },
                                    {
                                        "name": "column4"
                                    },
                                    {
                                        "name": "column5"
                                    },
                                    {
                                        "name": "column6"
                                    },
                                    {
                                        "name": "column7"
                                    },
                                    {
                                        "name": "column8"
                                    },
                                    {
                                        "name": "column9"
                                    }
                                ]
                            },
                            "data": [
                                {
                                    "row": "1",
                                    "column1": "5",
                                    "column2": "9",
                                    "column3": "1",
                                    "column4": "8",
                                    "column5": "7",
                                    "column6": "2",
                                    "column7": "4",
                                    "column8": "6",
                                    "column9": "3"
                                },
                                {
                                    "row": "2",
                                    "column1": "NULL",
                                    "column2": "NULL",
                                    "column3": "NULL",
                                    "column4": "NULL",
                                    "column5": "5",
                                    "column6": "4",
                                    "column7": "7",
                                    "column8": "1",
                                    "column9": "8"
                                },
                                {
                                    "row": "3",
                                    "column1": "NULL",
                                    "column2": "NULL",
                                    "column3": "NULL",
                                    "column4": "1",
                                    "column5": "3",
                                    "column6": "6",
                                    "column7": "9",
                                    "column8": "5",
                                    "column9": "2"
                                },
                                {
                                    "row": "4",
                                    "column1": "NULL",
                                    "column2": "NULL",
                                    "column3": "NULL",
                                    "column4": "NULL",
                                    "column5": "8",
                                    "column6": "5",
                                    "column7": "3",
                                    "column8": "7",
                                    "column9": "1"
                                },
                                {
                                    "row": "5",
                                    "column1": "8",
                                    "column2": "6",
                                    "column3": "5",
                                    "column4": "7",
                                    "column5": "1",
                                    "column6": "3",
                                    "column7": "2",
                                    "column8": "9",
                                    "column9": "4"
                                },
                                {
                                    "row": "6",
                                    "column1": "1",
                                    "column2": "7",
                                    "column3": "3",
                                    "column4": "4",
                                    "column5": "2",
                                    "column6": "9",
                                    "column7": "5",
                                    "column8": "8",
                                    "column9": "6"
                                },
                                {
                                    "row": "7",
                                    "column1": "2",
                                    "column2": "8",
                                    "column3": "6",
                                    "column4": "5",
                                    "column5": "4",
                                    "column6": "7",
                                    "column7": "1",
                                    "column8": "3",
                                    "column9": "9"
                                },
                                {
                                    "row": "8",
                                    "column1": "3",
                                    "column2": "1",
                                    "column3": "7",
                                    "column4": "2",
                                    "column5": "9",
                                    "column6": "8",
                                    "column7": "6",
                                    "column8": "4",
                                    "column9": "5"
                                },
                                {
                                    "row": "9",
                                    "column1": "9",
                                    "column2": "5",
                                    "column3": "4",
                                    "column4": "3",
                                    "column5": "6",
                                    "column6": "1",
                                    "column7": "8",
                                    "column8": "2",
                                    "column9": "7"
                                }
                            ]
                        },
                        "text/html": [
                            "<table>",
                            "<tr><th>row</th><th>column1</th><th>column2</th><th>column3</th><th>column4</th><th>column5</th><th>column6</th><th>column7</th><th>column8</th><th>column9</th></tr>",
                            "<tr><td>1</td><td>5</td><td>9</td><td>1</td><td>8</td><td>7</td><td>2</td><td>4</td><td>6</td><td>3</td></tr>",
                            "<tr><td>2</td><td>NULL</td><td>NULL</td><td>NULL</td><td>NULL</td><td>5</td><td>4</td><td>7</td><td>1</td><td>8</td></tr>",
                            "<tr><td>3</td><td>NULL</td><td>NULL</td><td>NULL</td><td>1</td><td>3</td><td>6</td><td>9</td><td>5</td><td>2</td></tr>",
                            "<tr><td>4</td><td>NULL</td><td>NULL</td><td>NULL</td><td>NULL</td><td>8</td><td>5</td><td>3</td><td>7</td><td>1</td></tr>",
                            "<tr><td>5</td><td>8</td><td>6</td><td>5</td><td>7</td><td>1</td><td>3</td><td>2</td><td>9</td><td>4</td></tr>",
                            "<tr><td>6</td><td>1</td><td>7</td><td>3</td><td>4</td><td>2</td><td>9</td><td>5</td><td>8</td><td>6</td></tr>",
                            "<tr><td>7</td><td>2</td><td>8</td><td>6</td><td>5</td><td>4</td><td>7</td><td>1</td><td>3</td><td>9</td></tr>",
                            "<tr><td>8</td><td>3</td><td>1</td><td>7</td><td>2</td><td>9</td><td>8</td><td>6</td><td>4</td><td>5</td></tr>",
                            "<tr><td>9</td><td>9</td><td>5</td><td>4</td><td>3</td><td>6</td><td>1</td><td>8</td><td>2</td><td>7</td></tr>",
                            "</table>"
                        ]
                    }
                },
                {
                    "output_type": "execute_result",
                    "metadata": {},
                    "execution_count": 53,
                    "data": {
                        "application/vnd.dataresource+json": {
                            "schema": {
                                "fields": [
                                    {
                                        "name": "row"
                                    },
                                    {
                                        "name": "col"
                                    },
                                    {
                                        "name": "value"
                                    }
                                ]
                            },
                            "data": [
                                {
                                    "row": "2",
                                    "col": "1",
                                    "value": "6"
                                },
                                {
                                    "row": "2",
                                    "col": "2",
                                    "value": "2"
                                },
                                {
                                    "row": "2",
                                    "col": "2",
                                    "value": "3"
                                },
                                {
                                    "row": "2",
                                    "col": "3",
                                    "value": "2"
                                },
                                {
                                    "row": "2",
                                    "col": "4",
                                    "value": "9"
                                },
                                {
                                    "row": "3",
                                    "col": "1",
                                    "value": "4"
                                },
                                {
                                    "row": "3",
                                    "col": "1",
                                    "value": "7"
                                },
                                {
                                    "row": "3",
                                    "col": "2",
                                    "value": "4"
                                },
                                {
                                    "row": "3",
                                    "col": "3",
                                    "value": "8"
                                },
                                {
                                    "row": "4",
                                    "col": "1",
                                    "value": "4"
                                },
                                {
                                    "row": "4",
                                    "col": "2",
                                    "value": "2"
                                },
                                {
                                    "row": "4",
                                    "col": "2",
                                    "value": "4"
                                },
                                {
                                    "row": "4",
                                    "col": "3",
                                    "value": "2"
                                },
                                {
                                    "row": "4",
                                    "col": "3",
                                    "value": "9"
                                },
                                {
                                    "row": "4",
                                    "col": "4",
                                    "value": "6"
                                }
                            ]
                        },
                        "text/html": [
                            "<table>",
                            "<tr><th>row</th><th>col</th><th>value</th></tr>",
                            "<tr><td>2</td><td>1</td><td>6</td></tr>",
                            "<tr><td>2</td><td>2</td><td>2</td></tr>",
                            "<tr><td>2</td><td>2</td><td>3</td></tr>",
                            "<tr><td>2</td><td>3</td><td>2</td></tr>",
                            "<tr><td>2</td><td>4</td><td>9</td></tr>",
                            "<tr><td>3</td><td>1</td><td>4</td></tr>",
                            "<tr><td>3</td><td>1</td><td>7</td></tr>",
                            "<tr><td>3</td><td>2</td><td>4</td></tr>",
                            "<tr><td>3</td><td>3</td><td>8</td></tr>",
                            "<tr><td>4</td><td>1</td><td>4</td></tr>",
                            "<tr><td>4</td><td>2</td><td>2</td></tr>",
                            "<tr><td>4</td><td>2</td><td>4</td></tr>",
                            "<tr><td>4</td><td>3</td><td>2</td></tr>",
                            "<tr><td>4</td><td>3</td><td>9</td></tr>",
                            "<tr><td>4</td><td>4</td><td>6</td></tr>",
                            "</table>"
                        ]
                    }
                }
            ],
            "execution_count": 53
        },
        {
            "cell_type": "code",
            "source": [
                "-- Try my luck - lines 1, 3, 7, 4, 19\r\n",
                "\r\n",
                "UPDATE sudoku\r\n",
                "SET\r\n",
                "  value = 6\r\n",
                "WHERE row = 2\r\n",
                "  AND col = 1;\r\n",
                "\r\n",
                "UPDATE sudoku\r\n",
                "SET\r\n",
                "  value = 3\r\n",
                "WHERE row = 2\r\n",
                "  AND col = 2;\r\n",
                "\r\n",
                "UPDATE sudoku\r\n",
                "SET\r\n",
                "  value = 9\r\n",
                "WHERE row = 2\r\n",
                "  AND col = 4;\r\n",
                "\r\n",
                "UPDATE sudoku\r\n",
                "SET\r\n",
                "  value = 2\r\n",
                "WHERE row = 2\r\n",
                "  AND col = 3;\r\n",
                "\r\n",
                "UPDATE sudoku\r\n",
                "SET\r\n",
                "  value = 6\r\n",
                "WHERE row = 4\r\n",
                "  AND col = 4;\r\n",
                "\r\n",
                "-- New solution\r\n",
                "SELECT\r\n",
                "    row,\r\n",
                "    MAX(CASE WHEN col = 1 THEN value END) AS column1,\r\n",
                "    MAX(CASE WHEN col = 2 THEN value END) AS column2,\r\n",
                "    MAX(CASE WHEN col = 3 THEN value END) AS column3,\r\n",
                "    MAX(CASE WHEN col = 4 THEN value END) AS column4,\r\n",
                "    MAX(CASE WHEN col = 5 THEN value END) AS column5,\r\n",
                "    MAX(CASE WHEN col = 6 THEN value END) AS column6,\r\n",
                "    MAX(CASE WHEN col = 7 THEN value END) AS column7,\r\n",
                "    MAX(CASE WHEN col = 8 THEN value END) AS column8,\r\n",
                "    MAX(CASE WHEN col = 9 THEN value END) AS column9\r\n",
                "FROM sudoku\r\n",
                "GROUP BY row\r\n",
                "ORDER BY row;\r\n",
                "\r\n",
                "-- All combinations\r\n",
                "\r\n",
                "SELECT s.row, s.col, n.value\r\n",
                "FROM sudoku s\r\n",
                "CROSS JOIN (VALUES (1), (2), (3), (4), (5), (6), (7), (8), (9)) n(value)\r\n",
                "WHERE s.value IS NULL\r\n",
                "    AND NOT EXISTS (\r\n",
                "        -- Check if the value is already in the same row\r\n",
                "        SELECT 1\r\n",
                "        FROM sudoku fs\r\n",
                "        WHERE fs.row = s.row AND fs.value = n.value\r\n",
                "    )\r\n",
                "    AND NOT EXISTS (\r\n",
                "        -- Check if the value is already in the same column\r\n",
                "        SELECT 1\r\n",
                "        FROM sudoku fs\r\n",
                "        WHERE fs.col = s.col AND fs.value = n.value\r\n",
                "    )\r\n",
                "    AND NOT EXISTS (\r\n",
                "        -- Check if the value is already in the same 3x3 block\r\n",
                "        SELECT 1\r\n",
                "        FROM sudoku fs\r\n",
                "        WHERE (fs.row - 1) / 3 = (s.row - 1) / 3\r\n",
                "          AND (fs.col - 1) / 3 = (s.col - 1) / 3\r\n",
                "          AND fs.value = n.value\r\n",
                "    )\r\n",
                "order by s.row, s.col, n.value;"
            ],
            "metadata": {
                "language": "sql",
                "azdata_cell_guid": "06f3fa32-b748-4b90-b0b1-6376fb29024d",
                "tags": []
            },
            "outputs": [
                {
                    "output_type": "display_data",
                    "data": {
                        "text/html": "(1 row affected)"
                    },
                    "metadata": {}
                },
                {
                    "output_type": "display_data",
                    "data": {
                        "text/html": "(1 row affected)"
                    },
                    "metadata": {}
                },
                {
                    "output_type": "display_data",
                    "data": {
                        "text/html": "(1 row affected)"
                    },
                    "metadata": {}
                },
                {
                    "output_type": "display_data",
                    "data": {
                        "text/html": "(1 row affected)"
                    },
                    "metadata": {}
                },
                {
                    "output_type": "display_data",
                    "data": {
                        "text/html": "(1 row affected)"
                    },
                    "metadata": {}
                },
                {
                    "output_type": "display_data",
                    "data": {
                        "text/html": "Warning: Null value is eliminated by an aggregate or other SET operation."
                    },
                    "metadata": {}
                },
                {
                    "output_type": "display_data",
                    "data": {
                        "text/html": "(9 rows affected)"
                    },
                    "metadata": {}
                },
                {
                    "output_type": "display_data",
                    "data": {
                        "text/html": "(8 rows affected)"
                    },
                    "metadata": {}
                },
                {
                    "output_type": "display_data",
                    "data": {
                        "text/html": "Total execution time: 00:00:00.624"
                    },
                    "metadata": {}
                },
                {
                    "output_type": "execute_result",
                    "metadata": {},
                    "execution_count": 54,
                    "data": {
                        "application/vnd.dataresource+json": {
                            "schema": {
                                "fields": [
                                    {
                                        "name": "row"
                                    },
                                    {
                                        "name": "column1"
                                    },
                                    {
                                        "name": "column2"
                                    },
                                    {
                                        "name": "column3"
                                    },
                                    {
                                        "name": "column4"
                                    },
                                    {
                                        "name": "column5"
                                    },
                                    {
                                        "name": "column6"
                                    },
                                    {
                                        "name": "column7"
                                    },
                                    {
                                        "name": "column8"
                                    },
                                    {
                                        "name": "column9"
                                    }
                                ]
                            },
                            "data": [
                                {
                                    "row": "1",
                                    "column1": "5",
                                    "column2": "9",
                                    "column3": "1",
                                    "column4": "8",
                                    "column5": "7",
                                    "column6": "2",
                                    "column7": "4",
                                    "column8": "6",
                                    "column9": "3"
                                },
                                {
                                    "row": "2",
                                    "column1": "6",
                                    "column2": "3",
                                    "column3": "2",
                                    "column4": "9",
                                    "column5": "5",
                                    "column6": "4",
                                    "column7": "7",
                                    "column8": "1",
                                    "column9": "8"
                                },
                                {
                                    "row": "3",
                                    "column1": "NULL",
                                    "column2": "NULL",
                                    "column3": "NULL",
                                    "column4": "1",
                                    "column5": "3",
                                    "column6": "6",
                                    "column7": "9",
                                    "column8": "5",
                                    "column9": "2"
                                },
                                {
                                    "row": "4",
                                    "column1": "NULL",
                                    "column2": "NULL",
                                    "column3": "NULL",
                                    "column4": "6",
                                    "column5": "8",
                                    "column6": "5",
                                    "column7": "3",
                                    "column8": "7",
                                    "column9": "1"
                                },
                                {
                                    "row": "5",
                                    "column1": "8",
                                    "column2": "6",
                                    "column3": "5",
                                    "column4": "7",
                                    "column5": "1",
                                    "column6": "3",
                                    "column7": "2",
                                    "column8": "9",
                                    "column9": "4"
                                },
                                {
                                    "row": "6",
                                    "column1": "1",
                                    "column2": "7",
                                    "column3": "3",
                                    "column4": "4",
                                    "column5": "2",
                                    "column6": "9",
                                    "column7": "5",
                                    "column8": "8",
                                    "column9": "6"
                                },
                                {
                                    "row": "7",
                                    "column1": "2",
                                    "column2": "8",
                                    "column3": "6",
                                    "column4": "5",
                                    "column5": "4",
                                    "column6": "7",
                                    "column7": "1",
                                    "column8": "3",
                                    "column9": "9"
                                },
                                {
                                    "row": "8",
                                    "column1": "3",
                                    "column2": "1",
                                    "column3": "7",
                                    "column4": "2",
                                    "column5": "9",
                                    "column6": "8",
                                    "column7": "6",
                                    "column8": "4",
                                    "column9": "5"
                                },
                                {
                                    "row": "9",
                                    "column1": "9",
                                    "column2": "5",
                                    "column3": "4",
                                    "column4": "3",
                                    "column5": "6",
                                    "column6": "1",
                                    "column7": "8",
                                    "column8": "2",
                                    "column9": "7"
                                }
                            ]
                        },
                        "text/html": [
                            "<table>",
                            "<tr><th>row</th><th>column1</th><th>column2</th><th>column3</th><th>column4</th><th>column5</th><th>column6</th><th>column7</th><th>column8</th><th>column9</th></tr>",
                            "<tr><td>1</td><td>5</td><td>9</td><td>1</td><td>8</td><td>7</td><td>2</td><td>4</td><td>6</td><td>3</td></tr>",
                            "<tr><td>2</td><td>6</td><td>3</td><td>2</td><td>9</td><td>5</td><td>4</td><td>7</td><td>1</td><td>8</td></tr>",
                            "<tr><td>3</td><td>NULL</td><td>NULL</td><td>NULL</td><td>1</td><td>3</td><td>6</td><td>9</td><td>5</td><td>2</td></tr>",
                            "<tr><td>4</td><td>NULL</td><td>NULL</td><td>NULL</td><td>6</td><td>8</td><td>5</td><td>3</td><td>7</td><td>1</td></tr>",
                            "<tr><td>5</td><td>8</td><td>6</td><td>5</td><td>7</td><td>1</td><td>3</td><td>2</td><td>9</td><td>4</td></tr>",
                            "<tr><td>6</td><td>1</td><td>7</td><td>3</td><td>4</td><td>2</td><td>9</td><td>5</td><td>8</td><td>6</td></tr>",
                            "<tr><td>7</td><td>2</td><td>8</td><td>6</td><td>5</td><td>4</td><td>7</td><td>1</td><td>3</td><td>9</td></tr>",
                            "<tr><td>8</td><td>3</td><td>1</td><td>7</td><td>2</td><td>9</td><td>8</td><td>6</td><td>4</td><td>5</td></tr>",
                            "<tr><td>9</td><td>9</td><td>5</td><td>4</td><td>3</td><td>6</td><td>1</td><td>8</td><td>2</td><td>7</td></tr>",
                            "</table>"
                        ]
                    }
                },
                {
                    "output_type": "execute_result",
                    "metadata": {},
                    "execution_count": 54,
                    "data": {
                        "application/vnd.dataresource+json": {
                            "schema": {
                                "fields": [
                                    {
                                        "name": "row"
                                    },
                                    {
                                        "name": "col"
                                    },
                                    {
                                        "name": "value"
                                    }
                                ]
                            },
                            "data": [
                                {
                                    "row": "3",
                                    "col": "1",
                                    "value": "4"
                                },
                                {
                                    "row": "3",
                                    "col": "1",
                                    "value": "7"
                                },
                                {
                                    "row": "3",
                                    "col": "2",
                                    "value": "4"
                                },
                                {
                                    "row": "3",
                                    "col": "3",
                                    "value": "8"
                                },
                                {
                                    "row": "4",
                                    "col": "1",
                                    "value": "4"
                                },
                                {
                                    "row": "4",
                                    "col": "2",
                                    "value": "2"
                                },
                                {
                                    "row": "4",
                                    "col": "2",
                                    "value": "4"
                                },
                                {
                                    "row": "4",
                                    "col": "3",
                                    "value": "9"
                                }
                            ]
                        },
                        "text/html": [
                            "<table>",
                            "<tr><th>row</th><th>col</th><th>value</th></tr>",
                            "<tr><td>3</td><td>1</td><td>4</td></tr>",
                            "<tr><td>3</td><td>1</td><td>7</td></tr>",
                            "<tr><td>3</td><td>2</td><td>4</td></tr>",
                            "<tr><td>3</td><td>3</td><td>8</td></tr>",
                            "<tr><td>4</td><td>1</td><td>4</td></tr>",
                            "<tr><td>4</td><td>2</td><td>2</td></tr>",
                            "<tr><td>4</td><td>2</td><td>4</td></tr>",
                            "<tr><td>4</td><td>3</td><td>9</td></tr>",
                            "</table>"
                        ]
                    }
                }
            ],
            "execution_count": 54
        },
        {
            "cell_type": "code",
            "source": [
                "-- Try my luck - lines 2, 3, 4, 5, 8\r\n",
                "\r\n",
                "UPDATE sudoku\r\n",
                "SET\r\n",
                "  value = 7\r\n",
                "WHERE row = 3\r\n",
                "  AND col = 1;\r\n",
                "\r\n",
                "UPDATE sudoku\r\n",
                "SET\r\n",
                "  value = 4\r\n",
                "WHERE row = 3\r\n",
                "  AND col = 2;\r\n",
                "\r\n",
                "UPDATE sudoku\r\n",
                "SET\r\n",
                "  value = 8\r\n",
                "WHERE row = 3\r\n",
                "  AND col = 3;\r\n",
                "\r\n",
                "UPDATE sudoku\r\n",
                "SET\r\n",
                "  value = null\r\n",
                "WHERE row = 4\r\n",
                "  AND col = 3;\r\n",
                "\r\n",
                "UPDATE sudoku\r\n",
                "SET\r\n",
                "  value = 4\r\n",
                "WHERE row = 4\r\n",
                "  AND col = 1;\r\n",
                "\r\n",
                "UPDATE sudoku\r\n",
                "SET\r\n",
                "  value = 9\r\n",
                "WHERE row = 4\r\n",
                "  AND col = 3;\r\n",
                "\r\n",
                "UPDATE sudoku\r\n",
                "SET\r\n",
                "  value = 2\r\n",
                "WHERE row = 4\r\n",
                "  AND col = 2;\r\n",
                "\r\n",
                "-- New solution\r\n",
                "SELECT\r\n",
                "    row,\r\n",
                "    MAX(CASE WHEN col = 1 THEN value END) AS column1,\r\n",
                "    MAX(CASE WHEN col = 2 THEN value END) AS column2,\r\n",
                "    MAX(CASE WHEN col = 3 THEN value END) AS column3,\r\n",
                "    MAX(CASE WHEN col = 4 THEN value END) AS column4,\r\n",
                "    MAX(CASE WHEN col = 5 THEN value END) AS column5,\r\n",
                "    MAX(CASE WHEN col = 6 THEN value END) AS column6,\r\n",
                "    MAX(CASE WHEN col = 7 THEN value END) AS column7,\r\n",
                "    MAX(CASE WHEN col = 8 THEN value END) AS column8,\r\n",
                "    MAX(CASE WHEN col = 9 THEN value END) AS column9\r\n",
                "FROM sudoku\r\n",
                "GROUP BY row\r\n",
                "ORDER BY row;\r\n",
                "\r\n",
                "-- All combinations\r\n",
                "\r\n",
                "SELECT s.row, s.col, n.value\r\n",
                "FROM sudoku s\r\n",
                "CROSS JOIN (VALUES (1), (2), (3), (4), (5), (6), (7), (8), (9)) n(value)\r\n",
                "WHERE s.value IS NULL\r\n",
                "    AND NOT EXISTS (\r\n",
                "        -- Check if the value is already in the same row\r\n",
                "        SELECT 1\r\n",
                "        FROM sudoku fs\r\n",
                "        WHERE fs.row = s.row AND fs.value = n.value\r\n",
                "    )\r\n",
                "    AND NOT EXISTS (\r\n",
                "        -- Check if the value is already in the same column\r\n",
                "        SELECT 1\r\n",
                "        FROM sudoku fs\r\n",
                "        WHERE fs.col = s.col AND fs.value = n.value\r\n",
                "    )\r\n",
                "    AND NOT EXISTS (\r\n",
                "        -- Check if the value is already in the same 3x3 block\r\n",
                "        SELECT 1\r\n",
                "        FROM sudoku fs\r\n",
                "        WHERE (fs.row - 1) / 3 = (s.row - 1) / 3\r\n",
                "          AND (fs.col - 1) / 3 = (s.col - 1) / 3\r\n",
                "          AND fs.value = n.value\r\n",
                "    )\r\n",
                "order by s.row, s.col, n.value;"
            ],
            "metadata": {
                "language": "sql",
                "azdata_cell_guid": "3aa560df-dce5-4421-a8f0-27c4996c7ca1",
                "tags": []
            },
            "outputs": [
                {
                    "output_type": "display_data",
                    "data": {
                        "text/html": "(1 row affected)"
                    },
                    "metadata": {}
                },
                {
                    "output_type": "display_data",
                    "data": {
                        "text/html": "(1 row affected)"
                    },
                    "metadata": {}
                },
                {
                    "output_type": "display_data",
                    "data": {
                        "text/html": "(1 row affected)"
                    },
                    "metadata": {}
                },
                {
                    "output_type": "display_data",
                    "data": {
                        "text/html": "(1 row affected)"
                    },
                    "metadata": {}
                },
                {
                    "output_type": "display_data",
                    "data": {
                        "text/html": "(1 row affected)"
                    },
                    "metadata": {}
                },
                {
                    "output_type": "display_data",
                    "data": {
                        "text/html": "(1 row affected)"
                    },
                    "metadata": {}
                },
                {
                    "output_type": "display_data",
                    "data": {
                        "text/html": "(1 row affected)"
                    },
                    "metadata": {}
                },
                {
                    "output_type": "display_data",
                    "data": {
                        "text/html": "Warning: Null value is eliminated by an aggregate or other SET operation."
                    },
                    "metadata": {}
                },
                {
                    "output_type": "display_data",
                    "data": {
                        "text/html": "(9 rows affected)"
                    },
                    "metadata": {}
                },
                {
                    "output_type": "display_data",
                    "data": {
                        "text/html": "(0 rows affected)"
                    },
                    "metadata": {}
                },
                {
                    "output_type": "display_data",
                    "data": {
                        "text/html": "Total execution time: 00:00:00.376"
                    },
                    "metadata": {}
                },
                {
                    "output_type": "execute_result",
                    "metadata": {},
                    "execution_count": 55,
                    "data": {
                        "application/vnd.dataresource+json": {
                            "schema": {
                                "fields": [
                                    {
                                        "name": "row"
                                    },
                                    {
                                        "name": "column1"
                                    },
                                    {
                                        "name": "column2"
                                    },
                                    {
                                        "name": "column3"
                                    },
                                    {
                                        "name": "column4"
                                    },
                                    {
                                        "name": "column5"
                                    },
                                    {
                                        "name": "column6"
                                    },
                                    {
                                        "name": "column7"
                                    },
                                    {
                                        "name": "column8"
                                    },
                                    {
                                        "name": "column9"
                                    }
                                ]
                            },
                            "data": [
                                {
                                    "row": "1",
                                    "column1": "5",
                                    "column2": "9",
                                    "column3": "1",
                                    "column4": "8",
                                    "column5": "7",
                                    "column6": "2",
                                    "column7": "4",
                                    "column8": "6",
                                    "column9": "3"
                                },
                                {
                                    "row": "2",
                                    "column1": "6",
                                    "column2": "3",
                                    "column3": "2",
                                    "column4": "9",
                                    "column5": "5",
                                    "column6": "4",
                                    "column7": "7",
                                    "column8": "1",
                                    "column9": "8"
                                },
                                {
                                    "row": "3",
                                    "column1": "7",
                                    "column2": "4",
                                    "column3": "8",
                                    "column4": "1",
                                    "column5": "3",
                                    "column6": "6",
                                    "column7": "9",
                                    "column8": "5",
                                    "column9": "2"
                                },
                                {
                                    "row": "4",
                                    "column1": "4",
                                    "column2": "2",
                                    "column3": "9",
                                    "column4": "6",
                                    "column5": "8",
                                    "column6": "5",
                                    "column7": "3",
                                    "column8": "7",
                                    "column9": "1"
                                },
                                {
                                    "row": "5",
                                    "column1": "8",
                                    "column2": "6",
                                    "column3": "5",
                                    "column4": "7",
                                    "column5": "1",
                                    "column6": "3",
                                    "column7": "2",
                                    "column8": "9",
                                    "column9": "4"
                                },
                                {
                                    "row": "6",
                                    "column1": "1",
                                    "column2": "7",
                                    "column3": "3",
                                    "column4": "4",
                                    "column5": "2",
                                    "column6": "9",
                                    "column7": "5",
                                    "column8": "8",
                                    "column9": "6"
                                },
                                {
                                    "row": "7",
                                    "column1": "2",
                                    "column2": "8",
                                    "column3": "6",
                                    "column4": "5",
                                    "column5": "4",
                                    "column6": "7",
                                    "column7": "1",
                                    "column8": "3",
                                    "column9": "9"
                                },
                                {
                                    "row": "8",
                                    "column1": "3",
                                    "column2": "1",
                                    "column3": "7",
                                    "column4": "2",
                                    "column5": "9",
                                    "column6": "8",
                                    "column7": "6",
                                    "column8": "4",
                                    "column9": "5"
                                },
                                {
                                    "row": "9",
                                    "column1": "9",
                                    "column2": "5",
                                    "column3": "4",
                                    "column4": "3",
                                    "column5": "6",
                                    "column6": "1",
                                    "column7": "8",
                                    "column8": "2",
                                    "column9": "7"
                                }
                            ]
                        },
                        "text/html": [
                            "<table>",
                            "<tr><th>row</th><th>column1</th><th>column2</th><th>column3</th><th>column4</th><th>column5</th><th>column6</th><th>column7</th><th>column8</th><th>column9</th></tr>",
                            "<tr><td>1</td><td>5</td><td>9</td><td>1</td><td>8</td><td>7</td><td>2</td><td>4</td><td>6</td><td>3</td></tr>",
                            "<tr><td>2</td><td>6</td><td>3</td><td>2</td><td>9</td><td>5</td><td>4</td><td>7</td><td>1</td><td>8</td></tr>",
                            "<tr><td>3</td><td>7</td><td>4</td><td>8</td><td>1</td><td>3</td><td>6</td><td>9</td><td>5</td><td>2</td></tr>",
                            "<tr><td>4</td><td>4</td><td>2</td><td>9</td><td>6</td><td>8</td><td>5</td><td>3</td><td>7</td><td>1</td></tr>",
                            "<tr><td>5</td><td>8</td><td>6</td><td>5</td><td>7</td><td>1</td><td>3</td><td>2</td><td>9</td><td>4</td></tr>",
                            "<tr><td>6</td><td>1</td><td>7</td><td>3</td><td>4</td><td>2</td><td>9</td><td>5</td><td>8</td><td>6</td></tr>",
                            "<tr><td>7</td><td>2</td><td>8</td><td>6</td><td>5</td><td>4</td><td>7</td><td>1</td><td>3</td><td>9</td></tr>",
                            "<tr><td>8</td><td>3</td><td>1</td><td>7</td><td>2</td><td>9</td><td>8</td><td>6</td><td>4</td><td>5</td></tr>",
                            "<tr><td>9</td><td>9</td><td>5</td><td>4</td><td>3</td><td>6</td><td>1</td><td>8</td><td>2</td><td>7</td></tr>",
                            "</table>"
                        ]
                    }
                },
                {
                    "output_type": "execute_result",
                    "metadata": {},
                    "execution_count": 55,
                    "data": {
                        "application/vnd.dataresource+json": {
                            "schema": {
                                "fields": [
                                    {
                                        "name": "row"
                                    },
                                    {
                                        "name": "col"
                                    },
                                    {
                                        "name": "value"
                                    }
                                ]
                            },
                            "data": []
                        },
                        "text/html": [
                            "<table>",
                            "<tr><th>row</th><th>col</th><th>value</th></tr>",
                            "</table>"
                        ]
                    }
                }
            ],
            "execution_count": 55
        }
    ]
}