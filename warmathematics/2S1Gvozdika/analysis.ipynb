{
    "metadata": {
        "kernelspec": {
            "name": "SQL",
            "display_name": "SQL",
            "language": "sql"
        },
        "language_info": {
            "name": "sql",
            "version": ""
        }
    },
    "nbformat_minor": 2,
    "nbformat": 4,
    "cells": [
        {
            "cell_type": "code",
            "source": [
                "DECLARE @target INT = 7000;\r\n",
                "DECLARE @flight_min_height INT = 500;\r\n",
                "\r\n",
                "SELECT TOP (1000) s21.[Id]\r\n",
                "      ,s21c.[charge_bg]\r\n",
                "      ,[trajectory_min_height]\r\n",
                "      ,[range]\r\n",
                "      ,[percent_range_max]\r\n",
                "      ,[range_max]\r\n",
                "  FROM [warmathematics].[dbo].[howitzer] s21\r\n",
                "  JOIN [warmathematics].[dbo].[howitzercharge] s21c on s21.charge = s21c.id\r\n",
                "  WHERE [range] <= @target\r\n",
                "  AND trajectory_min_height = @flight_min_height\r\n",
                "GO"
            ],
            "metadata": {
                "azdata_cell_guid": "061d1d24-d976-4cb7-a160-445568643945",
                "language": "sql"
            },
            "outputs": [
                {
                    "output_type": "display_data",
                    "data": {
                        "text/html": "(5 rows affected)"
                    },
                    "metadata": {}
                },
                {
                    "output_type": "display_data",
                    "data": {
                        "text/html": "Total execution time: 00:00:00.099"
                    },
                    "metadata": {}
                },
                {
                    "output_type": "execute_result",
                    "metadata": {},
                    "execution_count": 4,
                    "data": {
                        "application/vnd.dataresource+json": {
                            "schema": {
                                "fields": [
                                    {
                                        "name": "Id"
                                    },
                                    {
                                        "name": "charge_bg"
                                    },
                                    {
                                        "name": "trajectory_min_height"
                                    },
                                    {
                                        "name": "range"
                                    },
                                    {
                                        "name": "percent_range_max"
                                    },
                                    {
                                        "name": "range_max"
                                    }
                                ]
                            },
                            "data": [
                                {
                                    "0": "3",
                                    "1": "Намален",
                                    "2": "500",
                                    "3": "6900",
                                    "4": "53",
                                    "5": "12874"
                                },
                                {
                                    "0": "5",
                                    "1": "Първи",
                                    "2": "500",
                                    "3": "6400",
                                    "4": "56",
                                    "5": "11521"
                                },
                                {
                                    "0": "7",
                                    "1": "Втори",
                                    "2": "500",
                                    "3": "5800",
                                    "4": "57",
                                    "5": "10043"
                                },
                                {
                                    "0": "9",
                                    "1": "Трети",
                                    "2": "500",
                                    "3": "5400",
                                    "4": "64",
                                    "5": "8355"
                                },
                                {
                                    "0": "11",
                                    "1": "Четвърти",
                                    "2": "500",
                                    "3": "4700",
                                    "4": "74",
                                    "5": "6356"
                                }
                            ]
                        },
                        "text/html": [
                            "<table>",
                            "<tr><th>Id</th><th>charge_bg</th><th>trajectory_min_height</th><th>range</th><th>percent_range_max</th><th>range_max</th></tr>",
                            "<tr><td>3</td><td>Намален</td><td>500</td><td>6900</td><td>53</td><td>12874</td></tr>",
                            "<tr><td>5</td><td>Първи</td><td>500</td><td>6400</td><td>56</td><td>11521</td></tr>",
                            "<tr><td>7</td><td>Втори</td><td>500</td><td>5800</td><td>57</td><td>10043</td></tr>",
                            "<tr><td>9</td><td>Трети</td><td>500</td><td>5400</td><td>64</td><td>8355</td></tr>",
                            "<tr><td>11</td><td>Четвърти</td><td>500</td><td>4700</td><td>74</td><td>6356</td></tr>",
                            "</table>"
                        ]
                    }
                }
            ],
            "execution_count": 4
        }
    ]
}