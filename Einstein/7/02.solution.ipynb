{
    "metadata": {
        "kernelspec": {
            "name": "SQL",
            "display_name": "SQL",
            "language": "sql"
        },
        "language_info": {
            "name": "sql",
            "version": ""
        }
    },
    "nbformat_minor": 2,
    "nbformat": 4,
    "cells": [
        {
            "cell_type": "markdown",
            "source": [
                "To find all the combinations we use self cross joins.\n",
                "\n",
                "Adding <span style=\"font-family: Consolas, &quot;Courier New&quot;, monospace; font-size: 12px; white-space: pre; color: rgb(0, 0, 255);\">AND</span> <span style=\"color: rgb(33, 33, 33); font-family: Consolas, &quot;Courier New&quot;, monospace; font-size: 12px; white-space: pre;\">p1.[Piece] </span> <span style=\"font-family: Consolas, &quot;Courier New&quot;, monospace; font-size: 12px; white-space: pre; color: rgb(0, 0, 0);\">+</span> <span style=\"color: rgb(33, 33, 33); font-family: Consolas, &quot;Courier New&quot;, monospace; font-size: 12px; white-space: pre;\">p2.[Piece] </span> <span style=\"font-family: Consolas, &quot;Courier New&quot;, monospace; font-size: 12px; white-space: pre; color: rgb(0, 0, 0);\">+</span> <span style=\"color: rgb(33, 33, 33); font-family: Consolas, &quot;Courier New&quot;, monospace; font-size: 12px; white-space: pre;\">p3.[Piece] </span> <span style=\"font-family: Consolas, &quot;Courier New&quot;, monospace; font-size: 12px; white-space: pre; color: rgb(0, 0, 0);\">+</span> <span style=\"color: rgb(33, 33, 33); font-family: Consolas, &quot;Courier New&quot;, monospace; font-size: 12px; white-space: pre;\">p4.[Piece] </span> <span style=\"font-family: Consolas, &quot;Courier New&quot;, monospace; font-size: 12px; white-space: pre; color: rgb(0, 0, 0);\">=</span> <span style=\"font-family: Consolas, &quot;Courier New&quot;, monospace; font-size: 12px; white-space: pre; color: rgb(9, 136, 90);\">264 </span> will filter only the combinations that sum to 264."
            ],
            "metadata": {
                "language": "sql",
                "azdata_cell_guid": "2b7b11c6-c242-4020-a542-df87b40ec28c"
            },
            "attachments": {}
        },
        {
            "cell_type": "code",
            "source": [
                "USE TEMPDB;\r\n",
                "GO\r\n",
                "\r\n",
                "SElECT \r\n",
                "     p1.[Piece]\r\n",
                "    ,p2.[Piece]\r\n",
                "    ,p3.[Piece]\r\n",
                "    ,p4.[Piece]\r\n",
                "    ,p1.[Piece] + p2.[Piece] + p3.[Piece] + p4.[Piece] AS \"SUM\"\r\n",
                "FROM [dbo].[pieces] as p1\r\n",
                "CROSS JOIN [dbo].[pieces] as p2\r\n",
                "CROSS JOIN [dbo].[pieces] as p3\r\n",
                "CROSS JOIN [dbo].[pieces] as p4\r\n",
                "    WHERE p2.Piece > p1.Piece\r\n",
                "      AND p3.Piece > p2.Piece\r\n",
                "      AND p4.Piece > p3.Piece\r\n",
                "      AND p1.[Piece] + p2.[Piece] + p3.[Piece] + p4.[Piece] = 264\r\n",
                "    ORDER BY p1.[Piece], p2.[Piece], p3.[Piece], p4.[Piece];\r\n",
                "GO"
            ],
            "metadata": {
                "language": "sql",
                "azdata_cell_guid": "232dea60-2bec-403e-8771-bd824357d1e0"
            },
            "outputs": [
                {
                    "output_type": "display_data",
                    "data": {
                        "text/html": "Commands completed successfully."
                    },
                    "metadata": {}
                },
                {
                    "output_type": "display_data",
                    "data": {
                        "text/html": "(30 rows affected)"
                    },
                    "metadata": {}
                },
                {
                    "output_type": "display_data",
                    "data": {
                        "text/html": "Total execution time: 00:00:00.216"
                    },
                    "metadata": {}
                },
                {
                    "output_type": "execute_result",
                    "metadata": {},
                    "execution_count": 35,
                    "data": {
                        "application/vnd.dataresource+json": {
                            "schema": {
                                "fields": [
                                    {
                                        "name": "Piece"
                                    },
                                    {
                                        "name": "Piece"
                                    },
                                    {
                                        "name": "Piece"
                                    },
                                    {
                                        "name": "Piece"
                                    },
                                    {
                                        "name": "SUM"
                                    }
                                ]
                            },
                            "data": [
                                {
                                    "0": "11",
                                    "1": "66",
                                    "2": "88",
                                    "3": "99",
                                    "4": "264"
                                },
                                {
                                    "0": "11",
                                    "1": "66",
                                    "2": "89",
                                    "3": "98",
                                    "4": "264"
                                },
                                {
                                    "0": "11",
                                    "1": "66",
                                    "2": "91",
                                    "3": "96",
                                    "4": "264"
                                },
                                {
                                    "0": "11",
                                    "1": "68",
                                    "2": "86",
                                    "3": "99",
                                    "4": "264"
                                },
                                {
                                    "0": "11",
                                    "1": "68",
                                    "2": "89",
                                    "3": "96",
                                    "4": "264"
                                },
                                {
                                    "0": "11",
                                    "1": "69",
                                    "2": "86",
                                    "3": "98",
                                    "4": "264"
                                },
                                {
                                    "0": "11",
                                    "1": "69",
                                    "2": "88",
                                    "3": "96",
                                    "4": "264"
                                },
                                {
                                    "0": "16",
                                    "1": "61",
                                    "2": "88",
                                    "3": "99",
                                    "4": "264"
                                },
                                {
                                    "0": "16",
                                    "1": "61",
                                    "2": "89",
                                    "3": "98",
                                    "4": "264"
                                },
                                {
                                    "0": "16",
                                    "1": "61",
                                    "2": "91",
                                    "3": "96",
                                    "4": "264"
                                },
                                {
                                    "0": "16",
                                    "1": "66",
                                    "2": "86",
                                    "3": "96",
                                    "4": "264"
                                },
                                {
                                    "0": "16",
                                    "1": "68",
                                    "2": "81",
                                    "3": "99",
                                    "4": "264"
                                },
                                {
                                    "0": "16",
                                    "1": "68",
                                    "2": "89",
                                    "3": "91",
                                    "4": "264"
                                },
                                {
                                    "0": "16",
                                    "1": "69",
                                    "2": "81",
                                    "3": "98",
                                    "4": "264"
                                },
                                {
                                    "0": "16",
                                    "1": "69",
                                    "2": "88",
                                    "3": "91",
                                    "4": "264"
                                },
                                {
                                    "0": "18",
                                    "1": "61",
                                    "2": "86",
                                    "3": "99",
                                    "4": "264"
                                },
                                {
                                    "0": "18",
                                    "1": "61",
                                    "2": "89",
                                    "3": "96",
                                    "4": "264"
                                },
                                {
                                    "0": "18",
                                    "1": "66",
                                    "2": "81",
                                    "3": "99",
                                    "4": "264"
                                },
                                {
                                    "0": "18",
                                    "1": "66",
                                    "2": "89",
                                    "3": "91",
                                    "4": "264"
                                },
                                {
                                    "0": "18",
                                    "1": "69",
                                    "2": "81",
                                    "3": "96",
                                    "4": "264"
                                },
                                {
                                    "0": "18",
                                    "1": "69",
                                    "2": "86",
                                    "3": "91",
                                    "4": "264"
                                },
                                {
                                    "0": "18",
                                    "1": "69",
                                    "2": "88",
                                    "3": "89",
                                    "4": "264"
                                },
                                {
                                    "0": "19",
                                    "1": "61",
                                    "2": "86",
                                    "3": "98",
                                    "4": "264"
                                },
                                {
                                    "0": "19",
                                    "1": "61",
                                    "2": "88",
                                    "3": "96",
                                    "4": "264"
                                },
                                {
                                    "0": "19",
                                    "1": "66",
                                    "2": "81",
                                    "3": "98",
                                    "4": "264"
                                },
                                {
                                    "0": "19",
                                    "1": "66",
                                    "2": "88",
                                    "3": "91",
                                    "4": "264"
                                },
                                {
                                    "0": "19",
                                    "1": "68",
                                    "2": "81",
                                    "3": "96",
                                    "4": "264"
                                },
                                {
                                    "0": "19",
                                    "1": "68",
                                    "2": "86",
                                    "3": "91",
                                    "4": "264"
                                },
                                {
                                    "0": "19",
                                    "1": "68",
                                    "2": "88",
                                    "3": "89",
                                    "4": "264"
                                },
                                {
                                    "0": "61",
                                    "1": "66",
                                    "2": "68",
                                    "3": "69",
                                    "4": "264"
                                }
                            ]
                        },
                        "text/html": [
                            "<table>",
                            "<tr><th>Piece</th><th>Piece</th><th>Piece</th><th>Piece</th><th>SUM</th></tr>",
                            "<tr><td>11</td><td>66</td><td>88</td><td>99</td><td>264</td></tr>",
                            "<tr><td>11</td><td>66</td><td>89</td><td>98</td><td>264</td></tr>",
                            "<tr><td>11</td><td>66</td><td>91</td><td>96</td><td>264</td></tr>",
                            "<tr><td>11</td><td>68</td><td>86</td><td>99</td><td>264</td></tr>",
                            "<tr><td>11</td><td>68</td><td>89</td><td>96</td><td>264</td></tr>",
                            "<tr><td>11</td><td>69</td><td>86</td><td>98</td><td>264</td></tr>",
                            "<tr><td>11</td><td>69</td><td>88</td><td>96</td><td>264</td></tr>",
                            "<tr><td>16</td><td>61</td><td>88</td><td>99</td><td>264</td></tr>",
                            "<tr><td>16</td><td>61</td><td>89</td><td>98</td><td>264</td></tr>",
                            "<tr><td>16</td><td>61</td><td>91</td><td>96</td><td>264</td></tr>",
                            "<tr><td>16</td><td>66</td><td>86</td><td>96</td><td>264</td></tr>",
                            "<tr><td>16</td><td>68</td><td>81</td><td>99</td><td>264</td></tr>",
                            "<tr><td>16</td><td>68</td><td>89</td><td>91</td><td>264</td></tr>",
                            "<tr><td>16</td><td>69</td><td>81</td><td>98</td><td>264</td></tr>",
                            "<tr><td>16</td><td>69</td><td>88</td><td>91</td><td>264</td></tr>",
                            "<tr><td>18</td><td>61</td><td>86</td><td>99</td><td>264</td></tr>",
                            "<tr><td>18</td><td>61</td><td>89</td><td>96</td><td>264</td></tr>",
                            "<tr><td>18</td><td>66</td><td>81</td><td>99</td><td>264</td></tr>",
                            "<tr><td>18</td><td>66</td><td>89</td><td>91</td><td>264</td></tr>",
                            "<tr><td>18</td><td>69</td><td>81</td><td>96</td><td>264</td></tr>",
                            "<tr><td>18</td><td>69</td><td>86</td><td>91</td><td>264</td></tr>",
                            "<tr><td>18</td><td>69</td><td>88</td><td>89</td><td>264</td></tr>",
                            "<tr><td>19</td><td>61</td><td>86</td><td>98</td><td>264</td></tr>",
                            "<tr><td>19</td><td>61</td><td>88</td><td>96</td><td>264</td></tr>",
                            "<tr><td>19</td><td>66</td><td>81</td><td>98</td><td>264</td></tr>",
                            "<tr><td>19</td><td>66</td><td>88</td><td>91</td><td>264</td></tr>",
                            "<tr><td>19</td><td>68</td><td>81</td><td>96</td><td>264</td></tr>",
                            "<tr><td>19</td><td>68</td><td>86</td><td>91</td><td>264</td></tr>",
                            "<tr><td>19</td><td>68</td><td>88</td><td>89</td><td>264</td></tr>",
                            "<tr><td>61</td><td>66</td><td>68</td><td>69</td><td>264</td></tr>",
                            "</table>"
                        ]
                    }
                }
            ],
            "execution_count": 35
        },
        {
            "cell_type": "markdown",
            "source": [
                "Create a table to store the combinations that sum to 264"
            ],
            "metadata": {
                "language": "sql",
                "azdata_cell_guid": "9d3eba37-3c45-497e-89cf-c590ed315563"
            },
            "attachments": {}
        },
        {
            "cell_type": "code",
            "source": [
                "USE TEMPDB;\r\n",
                "GO\r\n",
                "\r\n",
                "IF OBJECT_ID('[dbo].[results]', 'U') IS NOT NULL\r\n",
                "DROP TABLE [dbo].[results]\r\n",
                "GO\r\n",
                "\r\n",
                "CREATE TABLE [dbo].[results]\r\n",
                "(\r\n",
                "    [Id] INT NOT NULL IDENTITY(1,1), -- Primary Key column\r\n",
                "    [Column1] INT NOT NULL,\r\n",
                "    [Column2] INT NOT NULL,\r\n",
                "    [Column3] INT NOT NULL,\r\n",
                "    [Column4] INT NOT NULL,\r\n",
                "    [LineId] INT\r\n",
                ");\r\n",
                "GO"
            ],
            "metadata": {
                "language": "sql",
                "azdata_cell_guid": "88a3912b-c3db-4e4c-96c7-43622639b319"
            },
            "outputs": [
                {
                    "output_type": "display_data",
                    "data": {
                        "text/html": "Commands completed successfully."
                    },
                    "metadata": {}
                },
                {
                    "output_type": "display_data",
                    "data": {
                        "text/html": "Commands completed successfully."
                    },
                    "metadata": {}
                },
                {
                    "output_type": "display_data",
                    "data": {
                        "text/html": "Commands completed successfully."
                    },
                    "metadata": {}
                },
                {
                    "output_type": "display_data",
                    "data": {
                        "text/html": "Total execution time: 00:00:00.244"
                    },
                    "metadata": {}
                }
            ],
            "execution_count": 36
        },
        {
            "cell_type": "markdown",
            "source": [
                "Insert the solutions into the results table.\n",
                "\n",
                "Lineid - a unique composite primary key is generated by summing pieces in a line. First piece is multiplied by <span style=\"--z-index-notebook-progress-bar: 5; --z-index-notebook-list-insertion-indicator: 10; --z-index-notebook-cell-editor-outline: 20; --z-index-notebook-scrollbar: 25; --z-index-notebook-cell-status: 26; --z-index-notebook-cell-drag-handle: 26; --z-index-notebook-folding-indicator: 26; --z-index-notebook-output: 27; --z-index-notebook-cell-bottom-toolbar-container: 28; --z-index-notebook-run-button-container: 29; --z-index-notebook-input-collapse-condicon: 29; --z-index-notebook-cell-output-toolbar: 30; --z-index-notebook-cell-toolbar: 36; color: rgb(9, 136, 90); font-family: Consolas, &quot;Courier New&quot;, monospace; font-size: 12px; white-space: pre;\">1000000 </span> to move the number at the first and second indexes. Second is multiplied by <span style=\"--z-index-notebook-progress-bar: 5; --z-index-notebook-list-insertion-indicator: 10; --z-index-notebook-cell-editor-outline: 20; --z-index-notebook-scrollbar: 25; --z-index-notebook-cell-status: 26; --z-index-notebook-cell-drag-handle: 26; --z-index-notebook-folding-indicator: 26; --z-index-notebook-output: 27; --z-index-notebook-cell-bottom-toolbar-container: 28; --z-index-notebook-run-button-container: 29; --z-index-notebook-input-collapse-condicon: 29; --z-index-notebook-cell-output-toolbar: 30; --z-index-notebook-cell-toolbar: 36; color: rgb(9, 136, 90); font-family: Consolas, &quot;Courier New&quot;, monospace; font-size: 12px; white-space: pre;\">10000</span> and third by <span style=\"--z-index-notebook-progress-bar: 5; --z-index-notebook-list-insertion-indicator: 10; --z-index-notebook-cell-editor-outline: 20; --z-index-notebook-scrollbar: 25; --z-index-notebook-cell-status: 26; --z-index-notebook-cell-drag-handle: 26; --z-index-notebook-folding-indicator: 26; --z-index-notebook-output: 27; --z-index-notebook-cell-bottom-toolbar-container: 28; --z-index-notebook-run-button-container: 29; --z-index-notebook-input-collapse-condicon: 29; --z-index-notebook-cell-output-toolbar: 30; --z-index-notebook-cell-toolbar: 36; color: rgb(9, 136, 90); font-family: Consolas, &quot;Courier New&quot;, monospace; font-size: 12px; white-space: pre;\">100.</span>"
            ],
            "metadata": {
                "language": "sql",
                "azdata_cell_guid": "8b5f070f-d4c0-40a1-990b-34dfd706c572"
            },
            "attachments": {}
        },
        {
            "cell_type": "code",
            "source": [
                "USE TEMPDB;\r\n",
                "GO\r\n",
                "\r\n",
                "INSERT INTO [dbo].[results] ([Column1],[Column2],[Column3],[Column4], [Lineid])\r\n",
                "SElECT \r\n",
                "     p1.[Piece]\r\n",
                "    ,p2.[Piece]\r\n",
                "    ,p3.[Piece]\r\n",
                "    ,p4.[Piece]\r\n",
                "    ,p1.[Piece]*1000000 + p2.[Piece]*10000 + p3.[Piece]* 100 + p4.[Piece] AS LineId\r\n",
                "FROM [dbo].[pieces] as p1\r\n",
                "CROSS JOIN [dbo].[pieces] as p2\r\n",
                "CROSS JOIN [dbo].[pieces] as p3\r\n",
                "CROSS JOIN [dbo].[pieces] as p4\r\n",
                "    WHERE p2.Piece > p1.Piece\r\n",
                "      AND p3.Piece > p2.Piece\r\n",
                "      AND p4.Piece > p3.Piece\r\n",
                "      AND p1.[Piece] + p2.[Piece] + p3.[Piece] + p4.[Piece] = 264\r\n",
                "    ORDER BY p1.[Piece], p2.[Piece], p3.[Piece], p4.[Piece];\r\n",
                "GO"
            ],
            "metadata": {
                "language": "sql",
                "azdata_cell_guid": "19a83e6d-1190-4298-8880-96ee18f15019"
            },
            "outputs": [
                {
                    "output_type": "display_data",
                    "data": {
                        "text/html": "Commands completed successfully."
                    },
                    "metadata": {}
                },
                {
                    "output_type": "display_data",
                    "data": {
                        "text/html": "(30 rows affected)"
                    },
                    "metadata": {}
                },
                {
                    "output_type": "display_data",
                    "data": {
                        "text/html": "Total execution time: 00:00:00.252"
                    },
                    "metadata": {}
                }
            ],
            "execution_count": 37
        },
        {
            "cell_type": "markdown",
            "source": [
                "Create a table holding the combinations which sum is 264.\n",
                "\n",
                "The table is in the format Solution ID, Piece."
            ],
            "metadata": {
                "azdata_cell_guid": "a89be943-a4fa-4bad-9c51-fd0025a2f0b2"
            },
            "attachments": {}
        },
        {
            "cell_type": "code",
            "source": [
                "IF OBJECT_ID('[dbo].[lines]', 'U') IS NOT NULL\r\n",
                "DROP TABLE [dbo].[lines]\r\n",
                "GO\r\n",
                "\r\n",
                "CREATE TABLE [dbo].[lines]\r\n",
                "(\r\n",
                "    [Id] INT NOT NULL, -- Primary Key column\r\n",
                "    [Piece] INT NOT NULL\r\n",
                ");\r\n",
                "GO\r\n",
                "\r\n",
                "INSERT INTO [dbo].[lines] ([Id], [Piece])\r\n",
                "SELECT \r\n",
                "     [Column1]*1000000 + [Column2] * 10000 + [Column3] * 100 + [Column4] AS ID\r\n",
                "    ,[Column1]\r\n",
                "FROM [dbo].[results]\r\n",
                "GO\r\n",
                "\r\n",
                "INSERT INTO [dbo].[lines] ([Id], [Piece])\r\n",
                "SELECT \r\n",
                "     [Column1]*1000000 + [Column2] * 10000 + [Column3] * 100 + [Column4] AS ID\r\n",
                "    ,[Column2]\r\n",
                "FROM [dbo].[results]\r\n",
                "GO\r\n",
                "\r\n",
                "INSERT INTO [dbo].[lines] ([Id], [Piece])\r\n",
                "SELECT \r\n",
                "     [Column1]*1000000 + [Column2] * 10000 + [Column3] * 100 + [Column4] AS ID\r\n",
                "    ,[Column3]\r\n",
                "FROM [dbo].[results]\r\n",
                "GO\r\n",
                "\r\n",
                "INSERT INTO [dbo].[lines] ([Id], [Piece])\r\n",
                "SELECT \r\n",
                "     [Column1]*1000000 + [Column2] * 10000 + [Column3] * 100 + [Column4] AS ID\r\n",
                "    ,[Column4]\r\n",
                "FROM [dbo].[results]\r\n",
                "GO\r\n",
                "\r\n",
                "select * from [dbo].[lines]"
            ],
            "metadata": {
                "azdata_cell_guid": "98cfd90b-4902-4fc5-95f0-81269dd777cb",
                "language": "sql",
                "tags": []
            },
            "outputs": [
                {
                    "output_type": "display_data",
                    "data": {
                        "text/html": "Commands completed successfully."
                    },
                    "metadata": {}
                },
                {
                    "output_type": "display_data",
                    "data": {
                        "text/html": "Commands completed successfully."
                    },
                    "metadata": {}
                },
                {
                    "output_type": "display_data",
                    "data": {
                        "text/html": "(30 rows affected)"
                    },
                    "metadata": {}
                },
                {
                    "output_type": "display_data",
                    "data": {
                        "text/html": "(30 rows affected)"
                    },
                    "metadata": {}
                },
                {
                    "output_type": "display_data",
                    "data": {
                        "text/html": "(30 rows affected)"
                    },
                    "metadata": {}
                },
                {
                    "output_type": "display_data",
                    "data": {
                        "text/html": "(30 rows affected)"
                    },
                    "metadata": {}
                },
                {
                    "output_type": "display_data",
                    "data": {
                        "text/html": "(120 rows affected)"
                    },
                    "metadata": {}
                },
                {
                    "output_type": "display_data",
                    "data": {
                        "text/html": "Total execution time: 00:00:00.649"
                    },
                    "metadata": {}
                },
                {
                    "output_type": "execute_result",
                    "metadata": {},
                    "execution_count": 38,
                    "data": {
                        "application/vnd.dataresource+json": {
                            "schema": {
                                "fields": [
                                    {
                                        "name": "Id"
                                    },
                                    {
                                        "name": "Piece"
                                    }
                                ]
                            },
                            "data": [
                                {
                                    "0": "11668899",
                                    "1": "11"
                                },
                                {
                                    "0": "11668998",
                                    "1": "11"
                                },
                                {
                                    "0": "11669196",
                                    "1": "11"
                                },
                                {
                                    "0": "11688699",
                                    "1": "11"
                                },
                                {
                                    "0": "11688996",
                                    "1": "11"
                                },
                                {
                                    "0": "11698698",
                                    "1": "11"
                                },
                                {
                                    "0": "11698896",
                                    "1": "11"
                                },
                                {
                                    "0": "16618899",
                                    "1": "16"
                                },
                                {
                                    "0": "16618998",
                                    "1": "16"
                                },
                                {
                                    "0": "16619196",
                                    "1": "16"
                                },
                                {
                                    "0": "16668696",
                                    "1": "16"
                                },
                                {
                                    "0": "16688199",
                                    "1": "16"
                                },
                                {
                                    "0": "16688991",
                                    "1": "16"
                                },
                                {
                                    "0": "16698198",
                                    "1": "16"
                                },
                                {
                                    "0": "16698891",
                                    "1": "16"
                                },
                                {
                                    "0": "18618699",
                                    "1": "18"
                                },
                                {
                                    "0": "18618996",
                                    "1": "18"
                                },
                                {
                                    "0": "18668199",
                                    "1": "18"
                                },
                                {
                                    "0": "18668991",
                                    "1": "18"
                                },
                                {
                                    "0": "18698196",
                                    "1": "18"
                                },
                                {
                                    "0": "18698691",
                                    "1": "18"
                                },
                                {
                                    "0": "18698889",
                                    "1": "18"
                                },
                                {
                                    "0": "19618698",
                                    "1": "19"
                                },
                                {
                                    "0": "19618896",
                                    "1": "19"
                                },
                                {
                                    "0": "19668198",
                                    "1": "19"
                                },
                                {
                                    "0": "19668891",
                                    "1": "19"
                                },
                                {
                                    "0": "19688196",
                                    "1": "19"
                                },
                                {
                                    "0": "19688691",
                                    "1": "19"
                                },
                                {
                                    "0": "19688889",
                                    "1": "19"
                                },
                                {
                                    "0": "61666869",
                                    "1": "61"
                                },
                                {
                                    "0": "11668899",
                                    "1": "66"
                                },
                                {
                                    "0": "11668998",
                                    "1": "66"
                                },
                                {
                                    "0": "11669196",
                                    "1": "66"
                                },
                                {
                                    "0": "11688699",
                                    "1": "68"
                                },
                                {
                                    "0": "11688996",
                                    "1": "68"
                                },
                                {
                                    "0": "11698698",
                                    "1": "69"
                                },
                                {
                                    "0": "11698896",
                                    "1": "69"
                                },
                                {
                                    "0": "16618899",
                                    "1": "61"
                                },
                                {
                                    "0": "16618998",
                                    "1": "61"
                                },
                                {
                                    "0": "16619196",
                                    "1": "61"
                                },
                                {
                                    "0": "16668696",
                                    "1": "66"
                                },
                                {
                                    "0": "16688199",
                                    "1": "68"
                                },
                                {
                                    "0": "16688991",
                                    "1": "68"
                                },
                                {
                                    "0": "16698198",
                                    "1": "69"
                                },
                                {
                                    "0": "16698891",
                                    "1": "69"
                                },
                                {
                                    "0": "18618699",
                                    "1": "61"
                                },
                                {
                                    "0": "18618996",
                                    "1": "61"
                                },
                                {
                                    "0": "18668199",
                                    "1": "66"
                                },
                                {
                                    "0": "18668991",
                                    "1": "66"
                                },
                                {
                                    "0": "18698196",
                                    "1": "69"
                                },
                                {
                                    "0": "18698691",
                                    "1": "69"
                                },
                                {
                                    "0": "18698889",
                                    "1": "69"
                                },
                                {
                                    "0": "19618698",
                                    "1": "61"
                                },
                                {
                                    "0": "19618896",
                                    "1": "61"
                                },
                                {
                                    "0": "19668198",
                                    "1": "66"
                                },
                                {
                                    "0": "19668891",
                                    "1": "66"
                                },
                                {
                                    "0": "19688196",
                                    "1": "68"
                                },
                                {
                                    "0": "19688691",
                                    "1": "68"
                                },
                                {
                                    "0": "19688889",
                                    "1": "68"
                                },
                                {
                                    "0": "61666869",
                                    "1": "66"
                                },
                                {
                                    "0": "11668899",
                                    "1": "88"
                                },
                                {
                                    "0": "11668998",
                                    "1": "89"
                                },
                                {
                                    "0": "11669196",
                                    "1": "91"
                                },
                                {
                                    "0": "11688699",
                                    "1": "86"
                                },
                                {
                                    "0": "11688996",
                                    "1": "89"
                                },
                                {
                                    "0": "11698698",
                                    "1": "86"
                                },
                                {
                                    "0": "11698896",
                                    "1": "88"
                                },
                                {
                                    "0": "16618899",
                                    "1": "88"
                                },
                                {
                                    "0": "16618998",
                                    "1": "89"
                                },
                                {
                                    "0": "16619196",
                                    "1": "91"
                                },
                                {
                                    "0": "16668696",
                                    "1": "86"
                                },
                                {
                                    "0": "16688199",
                                    "1": "81"
                                },
                                {
                                    "0": "16688991",
                                    "1": "89"
                                },
                                {
                                    "0": "16698198",
                                    "1": "81"
                                },
                                {
                                    "0": "16698891",
                                    "1": "88"
                                },
                                {
                                    "0": "18618699",
                                    "1": "86"
                                },
                                {
                                    "0": "18618996",
                                    "1": "89"
                                },
                                {
                                    "0": "18668199",
                                    "1": "81"
                                },
                                {
                                    "0": "18668991",
                                    "1": "89"
                                },
                                {
                                    "0": "18698196",
                                    "1": "81"
                                },
                                {
                                    "0": "18698691",
                                    "1": "86"
                                },
                                {
                                    "0": "18698889",
                                    "1": "88"
                                },
                                {
                                    "0": "19618698",
                                    "1": "86"
                                },
                                {
                                    "0": "19618896",
                                    "1": "88"
                                },
                                {
                                    "0": "19668198",
                                    "1": "81"
                                },
                                {
                                    "0": "19668891",
                                    "1": "88"
                                },
                                {
                                    "0": "19688196",
                                    "1": "81"
                                },
                                {
                                    "0": "19688691",
                                    "1": "86"
                                },
                                {
                                    "0": "19688889",
                                    "1": "88"
                                },
                                {
                                    "0": "61666869",
                                    "1": "68"
                                },
                                {
                                    "0": "11668899",
                                    "1": "99"
                                },
                                {
                                    "0": "11668998",
                                    "1": "98"
                                },
                                {
                                    "0": "11669196",
                                    "1": "96"
                                },
                                {
                                    "0": "11688699",
                                    "1": "99"
                                },
                                {
                                    "0": "11688996",
                                    "1": "96"
                                },
                                {
                                    "0": "11698698",
                                    "1": "98"
                                },
                                {
                                    "0": "11698896",
                                    "1": "96"
                                },
                                {
                                    "0": "16618899",
                                    "1": "99"
                                },
                                {
                                    "0": "16618998",
                                    "1": "98"
                                },
                                {
                                    "0": "16619196",
                                    "1": "96"
                                },
                                {
                                    "0": "16668696",
                                    "1": "96"
                                },
                                {
                                    "0": "16688199",
                                    "1": "99"
                                },
                                {
                                    "0": "16688991",
                                    "1": "91"
                                },
                                {
                                    "0": "16698198",
                                    "1": "98"
                                },
                                {
                                    "0": "16698891",
                                    "1": "91"
                                },
                                {
                                    "0": "18618699",
                                    "1": "99"
                                },
                                {
                                    "0": "18618996",
                                    "1": "96"
                                },
                                {
                                    "0": "18668199",
                                    "1": "99"
                                },
                                {
                                    "0": "18668991",
                                    "1": "91"
                                },
                                {
                                    "0": "18698196",
                                    "1": "96"
                                },
                                {
                                    "0": "18698691",
                                    "1": "91"
                                },
                                {
                                    "0": "18698889",
                                    "1": "89"
                                },
                                {
                                    "0": "19618698",
                                    "1": "98"
                                },
                                {
                                    "0": "19618896",
                                    "1": "96"
                                },
                                {
                                    "0": "19668198",
                                    "1": "98"
                                },
                                {
                                    "0": "19668891",
                                    "1": "91"
                                },
                                {
                                    "0": "19688196",
                                    "1": "96"
                                },
                                {
                                    "0": "19688691",
                                    "1": "91"
                                },
                                {
                                    "0": "19688889",
                                    "1": "89"
                                },
                                {
                                    "0": "61666869",
                                    "1": "69"
                                }
                            ]
                        },
                        "text/html": [
                            "<table>",
                            "<tr><th>Id</th><th>Piece</th></tr>",
                            "<tr><td>11668899</td><td>11</td></tr>",
                            "<tr><td>11668998</td><td>11</td></tr>",
                            "<tr><td>11669196</td><td>11</td></tr>",
                            "<tr><td>11688699</td><td>11</td></tr>",
                            "<tr><td>11688996</td><td>11</td></tr>",
                            "<tr><td>11698698</td><td>11</td></tr>",
                            "<tr><td>11698896</td><td>11</td></tr>",
                            "<tr><td>16618899</td><td>16</td></tr>",
                            "<tr><td>16618998</td><td>16</td></tr>",
                            "<tr><td>16619196</td><td>16</td></tr>",
                            "<tr><td>16668696</td><td>16</td></tr>",
                            "<tr><td>16688199</td><td>16</td></tr>",
                            "<tr><td>16688991</td><td>16</td></tr>",
                            "<tr><td>16698198</td><td>16</td></tr>",
                            "<tr><td>16698891</td><td>16</td></tr>",
                            "<tr><td>18618699</td><td>18</td></tr>",
                            "<tr><td>18618996</td><td>18</td></tr>",
                            "<tr><td>18668199</td><td>18</td></tr>",
                            "<tr><td>18668991</td><td>18</td></tr>",
                            "<tr><td>18698196</td><td>18</td></tr>",
                            "<tr><td>18698691</td><td>18</td></tr>",
                            "<tr><td>18698889</td><td>18</td></tr>",
                            "<tr><td>19618698</td><td>19</td></tr>",
                            "<tr><td>19618896</td><td>19</td></tr>",
                            "<tr><td>19668198</td><td>19</td></tr>",
                            "<tr><td>19668891</td><td>19</td></tr>",
                            "<tr><td>19688196</td><td>19</td></tr>",
                            "<tr><td>19688691</td><td>19</td></tr>",
                            "<tr><td>19688889</td><td>19</td></tr>",
                            "<tr><td>61666869</td><td>61</td></tr>",
                            "<tr><td>11668899</td><td>66</td></tr>",
                            "<tr><td>11668998</td><td>66</td></tr>",
                            "<tr><td>11669196</td><td>66</td></tr>",
                            "<tr><td>11688699</td><td>68</td></tr>",
                            "<tr><td>11688996</td><td>68</td></tr>",
                            "<tr><td>11698698</td><td>69</td></tr>",
                            "<tr><td>11698896</td><td>69</td></tr>",
                            "<tr><td>16618899</td><td>61</td></tr>",
                            "<tr><td>16618998</td><td>61</td></tr>",
                            "<tr><td>16619196</td><td>61</td></tr>",
                            "<tr><td>16668696</td><td>66</td></tr>",
                            "<tr><td>16688199</td><td>68</td></tr>",
                            "<tr><td>16688991</td><td>68</td></tr>",
                            "<tr><td>16698198</td><td>69</td></tr>",
                            "<tr><td>16698891</td><td>69</td></tr>",
                            "<tr><td>18618699</td><td>61</td></tr>",
                            "<tr><td>18618996</td><td>61</td></tr>",
                            "<tr><td>18668199</td><td>66</td></tr>",
                            "<tr><td>18668991</td><td>66</td></tr>",
                            "<tr><td>18698196</td><td>69</td></tr>",
                            "<tr><td>18698691</td><td>69</td></tr>",
                            "<tr><td>18698889</td><td>69</td></tr>",
                            "<tr><td>19618698</td><td>61</td></tr>",
                            "<tr><td>19618896</td><td>61</td></tr>",
                            "<tr><td>19668198</td><td>66</td></tr>",
                            "<tr><td>19668891</td><td>66</td></tr>",
                            "<tr><td>19688196</td><td>68</td></tr>",
                            "<tr><td>19688691</td><td>68</td></tr>",
                            "<tr><td>19688889</td><td>68</td></tr>",
                            "<tr><td>61666869</td><td>66</td></tr>",
                            "<tr><td>11668899</td><td>88</td></tr>",
                            "<tr><td>11668998</td><td>89</td></tr>",
                            "<tr><td>11669196</td><td>91</td></tr>",
                            "<tr><td>11688699</td><td>86</td></tr>",
                            "<tr><td>11688996</td><td>89</td></tr>",
                            "<tr><td>11698698</td><td>86</td></tr>",
                            "<tr><td>11698896</td><td>88</td></tr>",
                            "<tr><td>16618899</td><td>88</td></tr>",
                            "<tr><td>16618998</td><td>89</td></tr>",
                            "<tr><td>16619196</td><td>91</td></tr>",
                            "<tr><td>16668696</td><td>86</td></tr>",
                            "<tr><td>16688199</td><td>81</td></tr>",
                            "<tr><td>16688991</td><td>89</td></tr>",
                            "<tr><td>16698198</td><td>81</td></tr>",
                            "<tr><td>16698891</td><td>88</td></tr>",
                            "<tr><td>18618699</td><td>86</td></tr>",
                            "<tr><td>18618996</td><td>89</td></tr>",
                            "<tr><td>18668199</td><td>81</td></tr>",
                            "<tr><td>18668991</td><td>89</td></tr>",
                            "<tr><td>18698196</td><td>81</td></tr>",
                            "<tr><td>18698691</td><td>86</td></tr>",
                            "<tr><td>18698889</td><td>88</td></tr>",
                            "<tr><td>19618698</td><td>86</td></tr>",
                            "<tr><td>19618896</td><td>88</td></tr>",
                            "<tr><td>19668198</td><td>81</td></tr>",
                            "<tr><td>19668891</td><td>88</td></tr>",
                            "<tr><td>19688196</td><td>81</td></tr>",
                            "<tr><td>19688691</td><td>86</td></tr>",
                            "<tr><td>19688889</td><td>88</td></tr>",
                            "<tr><td>61666869</td><td>68</td></tr>",
                            "<tr><td>11668899</td><td>99</td></tr>",
                            "<tr><td>11668998</td><td>98</td></tr>",
                            "<tr><td>11669196</td><td>96</td></tr>",
                            "<tr><td>11688699</td><td>99</td></tr>",
                            "<tr><td>11688996</td><td>96</td></tr>",
                            "<tr><td>11698698</td><td>98</td></tr>",
                            "<tr><td>11698896</td><td>96</td></tr>",
                            "<tr><td>16618899</td><td>99</td></tr>",
                            "<tr><td>16618998</td><td>98</td></tr>",
                            "<tr><td>16619196</td><td>96</td></tr>",
                            "<tr><td>16668696</td><td>96</td></tr>",
                            "<tr><td>16688199</td><td>99</td></tr>",
                            "<tr><td>16688991</td><td>91</td></tr>",
                            "<tr><td>16698198</td><td>98</td></tr>",
                            "<tr><td>16698891</td><td>91</td></tr>",
                            "<tr><td>18618699</td><td>99</td></tr>",
                            "<tr><td>18618996</td><td>96</td></tr>",
                            "<tr><td>18668199</td><td>99</td></tr>",
                            "<tr><td>18668991</td><td>91</td></tr>",
                            "<tr><td>18698196</td><td>96</td></tr>",
                            "<tr><td>18698691</td><td>91</td></tr>",
                            "<tr><td>18698889</td><td>89</td></tr>",
                            "<tr><td>19618698</td><td>98</td></tr>",
                            "<tr><td>19618896</td><td>96</td></tr>",
                            "<tr><td>19668198</td><td>98</td></tr>",
                            "<tr><td>19668891</td><td>91</td></tr>",
                            "<tr><td>19688196</td><td>96</td></tr>",
                            "<tr><td>19688691</td><td>91</td></tr>",
                            "<tr><td>19688889</td><td>89</td></tr>",
                            "<tr><td>61666869</td><td>69</td></tr>",
                            "</table>"
                        ]
                    }
                }
            ],
            "execution_count": 38
        },
        {
            "cell_type": "markdown",
            "source": [
                "Create a view that shows the inverted solutions"
            ],
            "metadata": {
                "language": "sql",
                "azdata_cell_guid": "1d85a739-ca04-418e-ad2d-4b4674c0be64"
            },
            "attachments": {}
        },
        {
            "cell_type": "code",
            "source": [
                "USE tempdb;\r\n",
                "GO\r\n",
                "\r\n",
                "CREATE OR ALTER VIEW V_INVERTED_LINES AS\r\n",
                "SElECT \r\n",
                "    [Id],\r\n",
                "    SUM(pi.Inverted) as solution_sum\r\n",
                "FROM [dbo].[lines] ln\r\n",
                "JOIN [dbo].[pieces] pi on pi.Piece = ln.Piece\r\n",
                "GROUP BY  [Id]\r\n",
                "HAVING SUM(pi.Inverted)=264\r\n",
                "GO\r\n",
                "\r\n",
                "SElECT * FROM V_INVERTED_LINES\r\n",
                "ORDER BY Id"
            ],
            "metadata": {
                "language": "sql",
                "azdata_cell_guid": "a180fc16-2830-421f-954a-9b3e1359fe18"
            },
            "outputs": [
                {
                    "output_type": "display_data",
                    "data": {
                        "text/html": "Commands completed successfully."
                    },
                    "metadata": {}
                },
                {
                    "output_type": "display_data",
                    "data": {
                        "text/html": "Commands completed successfully."
                    },
                    "metadata": {}
                },
                {
                    "output_type": "display_data",
                    "data": {
                        "text/html": "(24 rows affected)"
                    },
                    "metadata": {}
                },
                {
                    "output_type": "display_data",
                    "data": {
                        "text/html": "Total execution time: 00:00:00.241"
                    },
                    "metadata": {}
                },
                {
                    "output_type": "execute_result",
                    "metadata": {},
                    "execution_count": 39,
                    "data": {
                        "application/vnd.dataresource+json": {
                            "schema": {
                                "fields": [
                                    {
                                        "name": "Id"
                                    },
                                    {
                                        "name": "solution_sum"
                                    }
                                ]
                            },
                            "data": [
                                {
                                    "0": "11668899",
                                    "1": "264"
                                },
                                {
                                    "0": "11668998",
                                    "1": "264"
                                },
                                {
                                    "0": "11688699",
                                    "1": "264"
                                },
                                {
                                    "0": "11688996",
                                    "1": "264"
                                },
                                {
                                    "0": "11698698",
                                    "1": "264"
                                },
                                {
                                    "0": "11698896",
                                    "1": "264"
                                },
                                {
                                    "0": "16618899",
                                    "1": "264"
                                },
                                {
                                    "0": "16618998",
                                    "1": "264"
                                },
                                {
                                    "0": "16688199",
                                    "1": "264"
                                },
                                {
                                    "0": "16688991",
                                    "1": "264"
                                },
                                {
                                    "0": "16698198",
                                    "1": "264"
                                },
                                {
                                    "0": "16698891",
                                    "1": "264"
                                },
                                {
                                    "0": "18618699",
                                    "1": "264"
                                },
                                {
                                    "0": "18618996",
                                    "1": "264"
                                },
                                {
                                    "0": "18668199",
                                    "1": "264"
                                },
                                {
                                    "0": "18668991",
                                    "1": "264"
                                },
                                {
                                    "0": "18698196",
                                    "1": "264"
                                },
                                {
                                    "0": "18698691",
                                    "1": "264"
                                },
                                {
                                    "0": "19618698",
                                    "1": "264"
                                },
                                {
                                    "0": "19618896",
                                    "1": "264"
                                },
                                {
                                    "0": "19668198",
                                    "1": "264"
                                },
                                {
                                    "0": "19668891",
                                    "1": "264"
                                },
                                {
                                    "0": "19688196",
                                    "1": "264"
                                },
                                {
                                    "0": "19688691",
                                    "1": "264"
                                }
                            ]
                        },
                        "text/html": [
                            "<table>",
                            "<tr><th>Id</th><th>solution_sum</th></tr>",
                            "<tr><td>11668899</td><td>264</td></tr>",
                            "<tr><td>11668998</td><td>264</td></tr>",
                            "<tr><td>11688699</td><td>264</td></tr>",
                            "<tr><td>11688996</td><td>264</td></tr>",
                            "<tr><td>11698698</td><td>264</td></tr>",
                            "<tr><td>11698896</td><td>264</td></tr>",
                            "<tr><td>16618899</td><td>264</td></tr>",
                            "<tr><td>16618998</td><td>264</td></tr>",
                            "<tr><td>16688199</td><td>264</td></tr>",
                            "<tr><td>16688991</td><td>264</td></tr>",
                            "<tr><td>16698198</td><td>264</td></tr>",
                            "<tr><td>16698891</td><td>264</td></tr>",
                            "<tr><td>18618699</td><td>264</td></tr>",
                            "<tr><td>18618996</td><td>264</td></tr>",
                            "<tr><td>18668199</td><td>264</td></tr>",
                            "<tr><td>18668991</td><td>264</td></tr>",
                            "<tr><td>18698196</td><td>264</td></tr>",
                            "<tr><td>18698691</td><td>264</td></tr>",
                            "<tr><td>19618698</td><td>264</td></tr>",
                            "<tr><td>19618896</td><td>264</td></tr>",
                            "<tr><td>19668198</td><td>264</td></tr>",
                            "<tr><td>19668891</td><td>264</td></tr>",
                            "<tr><td>19688196</td><td>264</td></tr>",
                            "<tr><td>19688691</td><td>264</td></tr>",
                            "</table>"
                        ]
                    }
                }
            ],
            "execution_count": 39
        },
        {
            "cell_type": "markdown",
            "source": [
                "Select all lines that, when inverted also equal 264."
            ],
            "metadata": {
                "language": "sql",
                "azdata_cell_guid": "5db1d2c1-228c-4b52-8e5f-1b3bb1b4e610"
            },
            "attachments": {}
        },
        {
            "cell_type": "code",
            "source": [
                "WITH Lines_CTE (column1, column2, column3, column4)\r\n",
                "AS\r\n",
                "(\r\n",
                "SELECT\r\n",
                "      column1.[Id], column2.Id, column3.Id, column4.Id \r\n",
                "  FROM [dbo].[V_INVERTED_LINES] as column1\r\n",
                "  JOIN [dbo].[lines] as ln ON ln.[Id] = column1.[Id]\r\n",
                "  CROSS JOIN [dbo].[V_INVERTED_LINES] AS column2\r\n",
                "  CROSS JOIN [dbo].[V_INVERTED_LINES] AS column3\r\n",
                "  CROSS JOIN [dbo].[V_INVERTED_LINES] AS column4 \r\n",
                "    WHERE column1.[Id] = 11668998\r\n",
                "      AND column2.[Id] NOT IN (column1.Id, column3.Id, column4.Id)\r\n",
                "      AND column3.[Id] NOT IN (column1.Id, column2.Id, column4.Id)\r\n",
                "      AND column4.[Id] NOT IN (column1.Id, column2.Id, column3.Id)\r\n",
                "      AND column2.[Id] > column1.[Id]\r\n",
                "      AND column3.[Id] > column2.[Id]\r\n",
                "      AND column4.[Id] > column3.[Id]\r\n",
                "),\r\n",
                "solutionsCTE AS\r\n",
                "(\r\n",
                "  SELECT *\r\n",
                "  FROM Lines_CTE\r\n",
                "  WHERE column2 NOT IN (\r\n",
                "    SELECT [Id] FROM [dbo].[lines] WHERE [Piece] IN (\r\n",
                "    SELECT [Piece] FROM [dbo].[lines] WHERE [Id] IN (column1, column3, column4))\r\n",
                "    )\r\n",
                "  AND column3 NOT IN  (\r\n",
                "    SELECT [Id] FROM [dbo].[lines] WHERE [Piece] IN (\r\n",
                "    SELECT [Piece] FROM [dbo].[lines] WHERE [Id] IN (column1, column2, column4 ))\r\n",
                "    ) \r\n",
                "  AND column4 NOT IN  (\r\n",
                "    SELECT [Id] FROM [dbo].[lines] WHERE [Piece] IN (\r\n",
                "    SELECT [Piece] FROM [dbo].[lines] WHERE [Id] IN (column1, column2, column3 ))\r\n",
                "    )\r\n",
                ")\r\n",
                "SELECT \r\n",
                "    DISTINCT * \r\n",
                "  FROM solutionsCTE\r\n",
                "  ORDER BY column1, column2, column3, column4;"
            ],
            "metadata": {
                "language": "sql",
                "azdata_cell_guid": "8d3c00e1-8ed3-4ab7-99c4-26a9a1bcbc6b"
            },
            "outputs": [
                {
                    "output_type": "display_data",
                    "data": {
                        "text/html": "(4 rows affected)"
                    },
                    "metadata": {}
                },
                {
                    "output_type": "display_data",
                    "data": {
                        "text/html": "Total execution time: 00:00:00.431"
                    },
                    "metadata": {}
                },
                {
                    "output_type": "execute_result",
                    "metadata": {},
                    "execution_count": 57,
                    "data": {
                        "application/vnd.dataresource+json": {
                            "schema": {
                                "fields": [
                                    {
                                        "name": "column1"
                                    },
                                    {
                                        "name": "column2"
                                    },
                                    {
                                        "name": "column3"
                                    },
                                    {
                                        "name": "column4"
                                    }
                                ]
                            },
                            "data": [
                                {
                                    "0": "11668998",
                                    "1": "16618899",
                                    "2": "18698196",
                                    "3": "19688691"
                                },
                                {
                                    "0": "11668998",
                                    "1": "16618899",
                                    "2": "18698691",
                                    "3": "19688196"
                                },
                                {
                                    "0": "11668998",
                                    "1": "16688199",
                                    "2": "18698691",
                                    "3": "19618896"
                                },
                                {
                                    "0": "11668998",
                                    "1": "16698891",
                                    "2": "18618699",
                                    "3": "19688196"
                                }
                            ]
                        },
                        "text/html": [
                            "<table>",
                            "<tr><th>column1</th><th>column2</th><th>column3</th><th>column4</th></tr>",
                            "<tr><td>11668998</td><td>16618899</td><td>18698196</td><td>19688691</td></tr>",
                            "<tr><td>11668998</td><td>16618899</td><td>18698691</td><td>19688196</td></tr>",
                            "<tr><td>11668998</td><td>16688199</td><td>18698691</td><td>19618896</td></tr>",
                            "<tr><td>11668998</td><td>16698891</td><td>18618699</td><td>19688196</td></tr>",
                            "</table>"
                        ]
                    }
                }
            ],
            "execution_count": 57
        },
        {
            "cell_type": "code",
            "source": [
                "use tempdb;\r\n",
                "\r\n",
                "SELECT * from [tempdb].[dbo].[V_INVERTED_LINES]\r\n",
                "where [Id] in (11668899, 16618998, 18698196, 19688691)\r\n",
                "GO\r\n",
                "\r\n",
                "SELECT * from [tempdb].[dbo].[V_INVERTED_LINES]\r\n",
                "where [Id] in (11668899, 16618998, 18698691, 19688196)\r\n",
                "GO\r\n",
                "\r\n",
                "SELECT * from [tempdb].[dbo].[V_INVERTED_LINES]\r\n",
                "where [Id] in (11668899, 16688991, 18698196, 19618698)\r\n",
                "GO\r\n",
                "\r\n",
                "SELECT * from [tempdb].[dbo].[V_INVERTED_LINES]\r\n",
                "where [Id] in (11668899, 16698198, 18618996, 19688691)\r\n",
                "GO\r\n",
                "\r\n",
                "SELECT * from [tempdb].[dbo].[V_INVERTED_LINES]\r\n",
                "where [Id] in (11668998, 16618899, 18698196, 19688691)\r\n",
                "GO\r\n",
                ""
            ],
            "metadata": {
                "language": "sql",
                "azdata_cell_guid": "c7825eb5-c58a-4803-a9ad-bd0d57b22539",
                "tags": []
            },
            "outputs": [
                {
                    "output_type": "display_data",
                    "data": {
                        "text/html": "(4 rows affected)"
                    },
                    "metadata": {}
                },
                {
                    "output_type": "display_data",
                    "data": {
                        "text/html": "(4 rows affected)"
                    },
                    "metadata": {}
                },
                {
                    "output_type": "display_data",
                    "data": {
                        "text/html": "(4 rows affected)"
                    },
                    "metadata": {}
                },
                {
                    "output_type": "display_data",
                    "data": {
                        "text/html": "(4 rows affected)"
                    },
                    "metadata": {}
                },
                {
                    "output_type": "display_data",
                    "data": {
                        "text/html": "(4 rows affected)"
                    },
                    "metadata": {}
                },
                {
                    "output_type": "display_data",
                    "data": {
                        "text/html": "Total execution time: 00:00:00.364"
                    },
                    "metadata": {}
                },
                {
                    "output_type": "execute_result",
                    "metadata": {},
                    "execution_count": 58,
                    "data": {
                        "application/vnd.dataresource+json": {
                            "schema": {
                                "fields": [
                                    {
                                        "name": "Id"
                                    },
                                    {
                                        "name": "solution_sum"
                                    }
                                ]
                            },
                            "data": [
                                {
                                    "0": "11668899",
                                    "1": "264"
                                },
                                {
                                    "0": "16618998",
                                    "1": "264"
                                },
                                {
                                    "0": "18698196",
                                    "1": "264"
                                },
                                {
                                    "0": "19688691",
                                    "1": "264"
                                }
                            ]
                        },
                        "text/html": [
                            "<table>",
                            "<tr><th>Id</th><th>solution_sum</th></tr>",
                            "<tr><td>11668899</td><td>264</td></tr>",
                            "<tr><td>16618998</td><td>264</td></tr>",
                            "<tr><td>18698196</td><td>264</td></tr>",
                            "<tr><td>19688691</td><td>264</td></tr>",
                            "</table>"
                        ]
                    }
                },
                {
                    "output_type": "execute_result",
                    "metadata": {},
                    "execution_count": 58,
                    "data": {
                        "application/vnd.dataresource+json": {
                            "schema": {
                                "fields": [
                                    {
                                        "name": "Id"
                                    },
                                    {
                                        "name": "solution_sum"
                                    }
                                ]
                            },
                            "data": [
                                {
                                    "0": "11668899",
                                    "1": "264"
                                },
                                {
                                    "0": "16618998",
                                    "1": "264"
                                },
                                {
                                    "0": "18698691",
                                    "1": "264"
                                },
                                {
                                    "0": "19688196",
                                    "1": "264"
                                }
                            ]
                        },
                        "text/html": [
                            "<table>",
                            "<tr><th>Id</th><th>solution_sum</th></tr>",
                            "<tr><td>11668899</td><td>264</td></tr>",
                            "<tr><td>16618998</td><td>264</td></tr>",
                            "<tr><td>18698691</td><td>264</td></tr>",
                            "<tr><td>19688196</td><td>264</td></tr>",
                            "</table>"
                        ]
                    }
                },
                {
                    "output_type": "execute_result",
                    "metadata": {},
                    "execution_count": 58,
                    "data": {
                        "application/vnd.dataresource+json": {
                            "schema": {
                                "fields": [
                                    {
                                        "name": "Id"
                                    },
                                    {
                                        "name": "solution_sum"
                                    }
                                ]
                            },
                            "data": [
                                {
                                    "0": "11668899",
                                    "1": "264"
                                },
                                {
                                    "0": "16688991",
                                    "1": "264"
                                },
                                {
                                    "0": "18698196",
                                    "1": "264"
                                },
                                {
                                    "0": "19618698",
                                    "1": "264"
                                }
                            ]
                        },
                        "text/html": [
                            "<table>",
                            "<tr><th>Id</th><th>solution_sum</th></tr>",
                            "<tr><td>11668899</td><td>264</td></tr>",
                            "<tr><td>16688991</td><td>264</td></tr>",
                            "<tr><td>18698196</td><td>264</td></tr>",
                            "<tr><td>19618698</td><td>264</td></tr>",
                            "</table>"
                        ]
                    }
                },
                {
                    "output_type": "execute_result",
                    "metadata": {},
                    "execution_count": 58,
                    "data": {
                        "application/vnd.dataresource+json": {
                            "schema": {
                                "fields": [
                                    {
                                        "name": "Id"
                                    },
                                    {
                                        "name": "solution_sum"
                                    }
                                ]
                            },
                            "data": [
                                {
                                    "0": "11668899",
                                    "1": "264"
                                },
                                {
                                    "0": "16698198",
                                    "1": "264"
                                },
                                {
                                    "0": "18618996",
                                    "1": "264"
                                },
                                {
                                    "0": "19688691",
                                    "1": "264"
                                }
                            ]
                        },
                        "text/html": [
                            "<table>",
                            "<tr><th>Id</th><th>solution_sum</th></tr>",
                            "<tr><td>11668899</td><td>264</td></tr>",
                            "<tr><td>16698198</td><td>264</td></tr>",
                            "<tr><td>18618996</td><td>264</td></tr>",
                            "<tr><td>19688691</td><td>264</td></tr>",
                            "</table>"
                        ]
                    }
                },
                {
                    "output_type": "execute_result",
                    "metadata": {},
                    "execution_count": 58,
                    "data": {
                        "application/vnd.dataresource+json": {
                            "schema": {
                                "fields": [
                                    {
                                        "name": "Id"
                                    },
                                    {
                                        "name": "solution_sum"
                                    }
                                ]
                            },
                            "data": [
                                {
                                    "0": "11668998",
                                    "1": "264"
                                },
                                {
                                    "0": "16618899",
                                    "1": "264"
                                },
                                {
                                    "0": "18698196",
                                    "1": "264"
                                },
                                {
                                    "0": "19688691",
                                    "1": "264"
                                }
                            ]
                        },
                        "text/html": [
                            "<table>",
                            "<tr><th>Id</th><th>solution_sum</th></tr>",
                            "<tr><td>11668998</td><td>264</td></tr>",
                            "<tr><td>16618899</td><td>264</td></tr>",
                            "<tr><td>18698196</td><td>264</td></tr>",
                            "<tr><td>19688691</td><td>264</td></tr>",
                            "</table>"
                        ]
                    }
                }
            ],
            "execution_count": 58
        },
        {
            "cell_type": "code",
            "source": [
                "-- Get a list of tables and views in the current database\r\n",
                "SELECT table_catalog [database], table_schema [schema], table_name [name], table_type [type]\r\n",
                "FROM INFORMATION_SCHEMA.TABLES\r\n",
                "GO"
            ],
            "metadata": {
                "azdata_cell_guid": "cc17da83-61f3-408d-a42a-279436d73879",
                "language": "sql",
                "tags": []
            },
            "outputs": [
                {
                    "output_type": "display_data",
                    "data": {
                        "text/html": "(5 rows affected)"
                    },
                    "metadata": {}
                },
                {
                    "output_type": "display_data",
                    "data": {
                        "text/html": "Total execution time: 00:00:00.200"
                    },
                    "metadata": {}
                },
                {
                    "output_type": "execute_result",
                    "metadata": {},
                    "execution_count": 42,
                    "data": {
                        "application/vnd.dataresource+json": {
                            "schema": {
                                "fields": [
                                    {
                                        "name": "database"
                                    },
                                    {
                                        "name": "schema"
                                    },
                                    {
                                        "name": "name"
                                    },
                                    {
                                        "name": "type"
                                    }
                                ]
                            },
                            "data": [
                                {
                                    "0": "tempdb",
                                    "1": "dbo",
                                    "2": "#AF1583DE",
                                    "3": "BASE TABLE"
                                },
                                {
                                    "0": "tempdb",
                                    "1": "dbo",
                                    "2": "V_INVERTED_LINES",
                                    "3": "VIEW"
                                },
                                {
                                    "0": "tempdb",
                                    "1": "dbo",
                                    "2": "pieces",
                                    "3": "BASE TABLE"
                                },
                                {
                                    "0": "tempdb",
                                    "1": "dbo",
                                    "2": "results",
                                    "3": "BASE TABLE"
                                },
                                {
                                    "0": "tempdb",
                                    "1": "dbo",
                                    "2": "lines",
                                    "3": "BASE TABLE"
                                }
                            ]
                        },
                        "text/html": [
                            "<table>",
                            "<tr><th>database</th><th>schema</th><th>name</th><th>type</th></tr>",
                            "<tr><td>tempdb</td><td>dbo</td><td>#AF1583DE</td><td>BASE TABLE</td></tr>",
                            "<tr><td>tempdb</td><td>dbo</td><td>V_INVERTED_LINES</td><td>VIEW</td></tr>",
                            "<tr><td>tempdb</td><td>dbo</td><td>pieces</td><td>BASE TABLE</td></tr>",
                            "<tr><td>tempdb</td><td>dbo</td><td>results</td><td>BASE TABLE</td></tr>",
                            "<tr><td>tempdb</td><td>dbo</td><td>lines</td><td>BASE TABLE</td></tr>",
                            "</table>"
                        ]
                    }
                }
            ],
            "execution_count": 42
        },
        {
            "cell_type": "markdown",
            "source": [
                "Cleaup"
            ],
            "metadata": {
                "language": "sql",
                "azdata_cell_guid": "cdbdefef-9c51-4804-9a2b-efc7b19e5e5c"
            },
            "attachments": {}
        },
        {
            "cell_type": "markdown",
            "source": [
                "IF EXISTS (SELECT \\* FROM sys.objects WHERE object\\_id = OBJECT\\_ID(N'\\[dbo\\].\\[results\\]') AND type in (N'U')) DROP TABLE \\[dbo\\].\\[results\\] GO\n",
                "\n",
                "IF EXISTS (SELECT \\* FROM sys.objects WHERE object\\_id = OBJECT\\_ID(N'\\[dbo\\].\\[pieces\\]') AND type in (N'U')) DROP TABLE \\[dbo\\].\\[pieces\\] GO\n",
                "\n",
                "IF EXISTS (SELECT \\* FROM sys.objects WHERE object\\_id = OBJECT\\_ID(N'\\[dbo\\].\\[sets\\]') AND type in (N'U')) DROP TABLE \\[dbo\\].\\[sets\\] GO\n",
                "\n",
                "IF EXISTS (SELECT \\* FROM sys.objects WHERE object\\_id = OBJECT\\_ID(N'\\[dbo\\].\\[lines\\]') AND type in (N'U')) DROP TABLE \\[dbo\\].\\[lines\\] GO\n",
                "\n",
                "IF EXISTS (SELECT \\* FROM sys.objects WHERE object\\_id = OBJECT\\_ID(N'\\[dbo\\].\\[log\\]') AND type in (N'U')) DROP TABLE \\[dbo\\].\\[log\\] GO"
            ],
            "metadata": {
                "language": "",
                "azdata_cell_guid": "3f709690-d6d6-4eb2-8ef8-1d31f1cca6c3",
                "tags": []
            },
            "attachments": {}
        }
    ]
}