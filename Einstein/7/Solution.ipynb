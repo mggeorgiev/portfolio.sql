{
    "metadata": {
        "kernelspec": {
            "name": "SQL",
            "display_name": "SQL",
            "language": "sql"
        },
        "language_info": {
            "name": "sql",
            "version": ""
        }
    },
    "nbformat_minor": 2,
    "nbformat": 4,
    "cells": [
        {
            "cell_type": "markdown",
            "source": [
                "Description\n",
                "\n",
                "Create&nbsp;a&nbsp;new&nbsp;table&nbsp;called&nbsp;'[pieces]'&nbsp;in&nbsp;schema&nbsp;'[dbo]'\n",
                "\n",
                "Drop&nbsp;the&nbsp;table&nbsp;if&nbsp;it&nbsp;already&nbsp;exists\n",
                "\n",
                "Create&nbsp;the&nbsp;table&nbsp;in&nbsp;the&nbsp;specified&nbsp;schema\n",
                "\n",
                "Insert the data\n",
                "\n",
                "<span style=\"color: #008000;\"><br></span>"
            ],
            "metadata": {
                "azdata_cell_guid": "9a9d21a8-f5c0-4dc9-bcb4-98b658278b18"
            },
            "attachments": {}
        },
        {
            "cell_type": "code",
            "source": [
                "USE TEMPDB;\r\n",
                "GO\r\n",
                "\r\n",
                "\r\n",
                "IF OBJECT_ID('[dbo].[pieces]', 'U') IS NOT NULL\r\n",
                "DROP TABLE [dbo].[pieces]\r\n",
                "GO\r\n",
                "\r\n",
                "CREATE TABLE [dbo].[pieces]\r\n",
                "(\r\n",
                "    [Piece] INT NOT NULL, -- Primary Key column\r\n",
                ");\r\n",
                "GO\r\n",
                "\r\n",
                "INSERT INTO [dbo].[pieces] VALUES\r\n",
                " (11)\r\n",
                ",(16)\r\n",
                ",(18)\r\n",
                ",(19)\r\n",
                ",(61)\r\n",
                ",(66)\r\n",
                ",(68)\r\n",
                ",(69)\r\n",
                ",(81)\r\n",
                ",(86)\r\n",
                ",(88)\r\n",
                ",(89)\r\n",
                ",(91)\r\n",
                ",(96)\r\n",
                ",(98)\r\n",
                ",(99)\r\n",
                ";\r\n",
                "GO\r\n",
                "\r\n",
                "IF OBJECT_ID('[dbo].[results]', 'U') IS NOT NULL\r\n",
                "DROP TABLE [dbo].[results]\r\n",
                "GO\r\n",
                "\r\n",
                "CREATE TABLE [dbo].[results]\r\n",
                "(\r\n",
                "    [Id] INT NOT NULL IDENTITY(1,1), -- Primary Key column\r\n",
                "    [Column1] INT NOT NULL,\r\n",
                "    [Column2] INT NOT NULL,\r\n",
                "    [Column3] INT NOT NULL,\r\n",
                "    [Column4] INT NOT NULL,\r\n",
                "    [Solution] BIT\r\n",
                ");\r\n",
                "GO\r\n",
                "\r\n",
                "IF OBJECT_ID('[dbo].[sets]', 'U') IS NOT NULL\r\n",
                "DROP TABLE [dbo].[sets]\r\n",
                "GO\r\n",
                "\r\n",
                "CREATE TABLE [dbo].[sets]\r\n",
                "(\r\n",
                "    [Id] INT NOT NULL IDENTITY(1,1), -- Primary Key column\r\n",
                "    [Piece1] INT NOT NULL,\r\n",
                "    [Piece2] INT NOT NULL,\r\n",
                ");\r\n",
                "GO\r\n",
                "\r\n",
                "INSERT INTO [dbo].[sets] ([Piece1],[Piece2] ) VALUES\r\n",
                " (16, 91)\r\n",
                ",(18, 81)\r\n",
                ",(19, 61)\r\n",
                ",(61, 19)\r\n",
                ",(66, 99)\r\n",
                ",(68, 89)\r\n",
                ",(81, 18)\r\n",
                ",(86, 98)\r\n",
                ",(89, 68)\r\n",
                ",(91, 16)\r\n",
                ",(98, 86)\r\n",
                ",(99, 66)\r\n",
                ";\r\n",
                "GO"
            ],
            "metadata": {
                "azdata_cell_guid": "357699ea-530d-4a78-9ed4-6fac5b08c0af",
                "language": "sql",
                "tags": []
            },
            "outputs": [
                {
                    "output_type": "display_data",
                    "data": {
                        "text/html": "Commands completed successfully."
                    },
                    "metadata": {}
                },
                {
                    "output_type": "display_data",
                    "data": {
                        "text/html": "Commands completed successfully."
                    },
                    "metadata": {}
                },
                {
                    "output_type": "display_data",
                    "data": {
                        "text/html": "Commands completed successfully."
                    },
                    "metadata": {}
                },
                {
                    "output_type": "display_data",
                    "data": {
                        "text/html": "(16 rows affected)"
                    },
                    "metadata": {}
                },
                {
                    "output_type": "display_data",
                    "data": {
                        "text/html": "Commands completed successfully."
                    },
                    "metadata": {}
                },
                {
                    "output_type": "display_data",
                    "data": {
                        "text/html": "Commands completed successfully."
                    },
                    "metadata": {}
                },
                {
                    "output_type": "display_data",
                    "data": {
                        "text/html": "Commands completed successfully."
                    },
                    "metadata": {}
                },
                {
                    "output_type": "display_data",
                    "data": {
                        "text/html": "Commands completed successfully."
                    },
                    "metadata": {}
                },
                {
                    "output_type": "display_data",
                    "data": {
                        "text/html": "(12 rows affected)"
                    },
                    "metadata": {}
                },
                {
                    "output_type": "display_data",
                    "data": {
                        "text/html": "Total execution time: 00:00:00.579"
                    },
                    "metadata": {}
                }
            ],
            "execution_count": 62
        },
        {
            "cell_type": "markdown",
            "source": [
                "Show all the pieces"
            ],
            "metadata": {
                "language": "sql",
                "azdata_cell_guid": "428c18da-9333-44e7-8517-2a20c08fc4ef"
            },
            "attachments": {}
        },
        {
            "cell_type": "code",
            "source": [
                "USE TEMPDB;\r\n",
                "GO\r\n",
                "SELECT * FROM [dbo].[pieces]\r\n",
                "ORDER BY [Piece];\r\n",
                "GO"
            ],
            "metadata": {
                "language": "sql",
                "azdata_cell_guid": "fd0e5210-0977-4a87-9064-3305511d302a"
            },
            "outputs": [
                {
                    "output_type": "display_data",
                    "data": {
                        "text/html": "Commands completed successfully."
                    },
                    "metadata": {}
                },
                {
                    "output_type": "display_data",
                    "data": {
                        "text/html": "(16 rows affected)"
                    },
                    "metadata": {}
                },
                {
                    "output_type": "display_data",
                    "data": {
                        "text/html": "Total execution time: 00:00:00.135"
                    },
                    "metadata": {}
                },
                {
                    "output_type": "execute_result",
                    "metadata": {},
                    "execution_count": 33,
                    "data": {
                        "application/vnd.dataresource+json": {
                            "schema": {
                                "fields": [
                                    {
                                        "name": "Piece"
                                    }
                                ]
                            },
                            "data": [
                                {
                                    "0": "11"
                                },
                                {
                                    "0": "16"
                                },
                                {
                                    "0": "18"
                                },
                                {
                                    "0": "19"
                                },
                                {
                                    "0": "61"
                                },
                                {
                                    "0": "66"
                                },
                                {
                                    "0": "68"
                                },
                                {
                                    "0": "69"
                                },
                                {
                                    "0": "81"
                                },
                                {
                                    "0": "86"
                                },
                                {
                                    "0": "88"
                                },
                                {
                                    "0": "89"
                                },
                                {
                                    "0": "91"
                                },
                                {
                                    "0": "96"
                                },
                                {
                                    "0": "98"
                                },
                                {
                                    "0": "99"
                                }
                            ]
                        },
                        "text/html": [
                            "<table>",
                            "<tr><th>Piece</th></tr>",
                            "<tr><td>11</td></tr>",
                            "<tr><td>16</td></tr>",
                            "<tr><td>18</td></tr>",
                            "<tr><td>19</td></tr>",
                            "<tr><td>61</td></tr>",
                            "<tr><td>66</td></tr>",
                            "<tr><td>68</td></tr>",
                            "<tr><td>69</td></tr>",
                            "<tr><td>81</td></tr>",
                            "<tr><td>86</td></tr>",
                            "<tr><td>88</td></tr>",
                            "<tr><td>89</td></tr>",
                            "<tr><td>91</td></tr>",
                            "<tr><td>96</td></tr>",
                            "<tr><td>98</td></tr>",
                            "<tr><td>99</td></tr>",
                            "</table>"
                        ]
                    }
                }
            ],
            "execution_count": 33
        },
        {
            "cell_type": "markdown",
            "source": [
                "Show the number of pieces and their count"
            ],
            "metadata": {
                "language": "sql",
                "azdata_cell_guid": "8194360e-d2ef-4b69-a8e4-f298bbd7a5db"
            },
            "attachments": {}
        },
        {
            "cell_type": "code",
            "source": [
                "USE TEMPDB;\r\n",
                "GO\r\n",
                "SELECT \r\n",
                "    [Piece]\r\n",
                "    ,COUNT(*) as \"count\"\r\n",
                "FROM [dbo].[pieces]\r\n",
                "GROUP BY [Piece]\r\n",
                "ORDER BY [Piece];\r\n",
                "GO"
            ],
            "metadata": {
                "language": "sql",
                "azdata_cell_guid": "27b606d7-f5f2-44ef-878d-c181f8354c5b"
            },
            "outputs": [
                {
                    "output_type": "display_data",
                    "data": {
                        "text/html": "Commands completed successfully."
                    },
                    "metadata": {}
                },
                {
                    "output_type": "display_data",
                    "data": {
                        "text/html": "(16 rows affected)"
                    },
                    "metadata": {}
                },
                {
                    "output_type": "display_data",
                    "data": {
                        "text/html": "Total execution time: 00:00:00.136"
                    },
                    "metadata": {}
                },
                {
                    "output_type": "execute_result",
                    "metadata": {},
                    "execution_count": 34,
                    "data": {
                        "application/vnd.dataresource+json": {
                            "schema": {
                                "fields": [
                                    {
                                        "name": "Piece"
                                    },
                                    {
                                        "name": "count"
                                    }
                                ]
                            },
                            "data": [
                                {
                                    "0": "11",
                                    "1": "1"
                                },
                                {
                                    "0": "16",
                                    "1": "1"
                                },
                                {
                                    "0": "18",
                                    "1": "1"
                                },
                                {
                                    "0": "19",
                                    "1": "1"
                                },
                                {
                                    "0": "61",
                                    "1": "1"
                                },
                                {
                                    "0": "66",
                                    "1": "1"
                                },
                                {
                                    "0": "68",
                                    "1": "1"
                                },
                                {
                                    "0": "69",
                                    "1": "1"
                                },
                                {
                                    "0": "81",
                                    "1": "1"
                                },
                                {
                                    "0": "86",
                                    "1": "1"
                                },
                                {
                                    "0": "88",
                                    "1": "1"
                                },
                                {
                                    "0": "89",
                                    "1": "1"
                                },
                                {
                                    "0": "91",
                                    "1": "1"
                                },
                                {
                                    "0": "96",
                                    "1": "1"
                                },
                                {
                                    "0": "98",
                                    "1": "1"
                                },
                                {
                                    "0": "99",
                                    "1": "1"
                                }
                            ]
                        },
                        "text/html": [
                            "<table>",
                            "<tr><th>Piece</th><th>count</th></tr>",
                            "<tr><td>11</td><td>1</td></tr>",
                            "<tr><td>16</td><td>1</td></tr>",
                            "<tr><td>18</td><td>1</td></tr>",
                            "<tr><td>19</td><td>1</td></tr>",
                            "<tr><td>61</td><td>1</td></tr>",
                            "<tr><td>66</td><td>1</td></tr>",
                            "<tr><td>68</td><td>1</td></tr>",
                            "<tr><td>69</td><td>1</td></tr>",
                            "<tr><td>81</td><td>1</td></tr>",
                            "<tr><td>86</td><td>1</td></tr>",
                            "<tr><td>88</td><td>1</td></tr>",
                            "<tr><td>89</td><td>1</td></tr>",
                            "<tr><td>91</td><td>1</td></tr>",
                            "<tr><td>96</td><td>1</td></tr>",
                            "<tr><td>98</td><td>1</td></tr>",
                            "<tr><td>99</td><td>1</td></tr>",
                            "</table>"
                        ]
                    }
                }
            ],
            "execution_count": 34
        },
        {
            "cell_type": "markdown",
            "source": [
                "Create the unique combinations that sum to 264"
            ],
            "metadata": {
                "language": "sql",
                "azdata_cell_guid": "ba5fceeb-2c79-48d6-b841-59ebfb2d86ee"
            },
            "attachments": {}
        },
        {
            "cell_type": "code",
            "source": [
                "USE TEMPDB;\r\n",
                "GO\r\n",
                "\r\n",
                "INSERT INTO [dbo].[results] ([Column1],[Column2],[Column3],[Column4])\r\n",
                "VALUES\r\n",
                "(11,66,88,99),\r\n",
                "(11,66,91,96),\r\n",
                "(11,66,89,98),\r\n",
                "(11,68,86,99),\r\n",
                "(11,68,96,89),\r\n",
                "(11,69,86,98),\r\n",
                "(11,69,88,96),\r\n",
                "(16,61,88,99),\r\n",
                "(16,61,91,96),\r\n",
                "(16,61,89,98),\r\n",
                "(16,66,86,96),\r\n",
                "(16,68,81,99),\r\n",
                "(16,68,91,89),\r\n",
                "(16,69,81,98),\r\n",
                "(16,69,88,91),\r\n",
                "(18,61,86,99),\r\n",
                "(18,61,96,89),\r\n",
                "(18,66,81,99),\r\n",
                "(18,66,91,89),\r\n",
                "(18,69,81,96),\r\n",
                "(18,69,86,91),\r\n",
                "(18,69,88,89),\r\n",
                "(19,61,86,98),\r\n",
                "(19,61,88,96),\r\n",
                "(19,66,81,98),\r\n",
                "(19,66,88,91),\r\n",
                "(19,68,81,96),\r\n",
                "(19,68,86,91),\r\n",
                "(19,68,88,89),\r\n",
                "(61,66,68,69);\r\n",
                "GO"
            ],
            "metadata": {
                "language": "sql",
                "azdata_cell_guid": "bc49567a-9c01-49b1-a8e8-f5ac5004327a"
            },
            "outputs": [
                {
                    "output_type": "display_data",
                    "data": {
                        "text/html": "Commands completed successfully."
                    },
                    "metadata": {}
                },
                {
                    "output_type": "display_data",
                    "data": {
                        "text/html": "(30 rows affected)"
                    },
                    "metadata": {}
                },
                {
                    "output_type": "display_data",
                    "data": {
                        "text/html": "Total execution time: 00:00:00.133"
                    },
                    "metadata": {}
                }
            ],
            "execution_count": 63
        },
        {
            "cell_type": "code",
            "source": [
                "USE TEMPDB;\r\n",
                "GO\r\n",
                "\r\n",
                "DECLARE @target as INT = 18;\r\n",
                "declare @listOfIDs table (id int);\r\n",
                "insert @listOfIDs(id) values(11), (16), (66), (91),(96);\r\n",
                "\r\n",
                "SELECT \r\n",
                "    Id\r\n",
                "    ,([Column1]+[Column2]+[Column3]+[Column4]) AS \"Result\"\r\n",
                "    ,[Column1]\r\n",
                "    ,[Column2]\r\n",
                "    ,[Column3]\r\n",
                "    ,[Column4]\r\n",
                "    ,[Solution]\r\n",
                "FROM [dbo].[results] \r\n",
                "WHERE (\r\n",
                "           [Column1]=@target\r\n",
                "        OR [Column2]=@target\r\n",
                "        OR [Column3]=@target\r\n",
                "        OR [Column4]=@target\r\n",
                "       ) \r\n",
                "       AND \r\n",
                "       (\r\n",
                "            [Column1] not in (select * from @listOfIDs)\r\n",
                "        AND [Column2] not in (select * from @listOfIDs)\r\n",
                "        AND [Column3] not in (select * from @listOfIDs)\r\n",
                "        AND [Column4] not in (select * from @listOfIDs)\r\n",
                "       )\r\n",
                "ORDER BY [Column1]\r\n",
                "        ,[Column2]\r\n",
                "        ,[Column3]\r\n",
                "        ,[Column4];\r\n",
                "GO"
            ],
            "metadata": {
                "language": "",
                "azdata_cell_guid": "4b432f79-3656-4889-bc23-08b641d81670",
                "tags": []
            },
            "outputs": [
                {
                    "output_type": "display_data",
                    "data": {
                        "text/html": "Commands completed successfully."
                    },
                    "metadata": {}
                },
                {
                    "output_type": "display_data",
                    "data": {
                        "text/html": "(5 rows affected)"
                    },
                    "metadata": {}
                },
                {
                    "output_type": "display_data",
                    "data": {
                        "text/html": "(2 rows affected)"
                    },
                    "metadata": {}
                },
                {
                    "output_type": "display_data",
                    "data": {
                        "text/html": "Total execution time: 00:00:00.292"
                    },
                    "metadata": {}
                },
                {
                    "output_type": "execute_result",
                    "metadata": {},
                    "execution_count": 66,
                    "data": {
                        "application/vnd.dataresource+json": {
                            "schema": {
                                "fields": [
                                    {
                                        "name": "Id"
                                    },
                                    {
                                        "name": "Result"
                                    },
                                    {
                                        "name": "Column1"
                                    },
                                    {
                                        "name": "Column2"
                                    },
                                    {
                                        "name": "Column3"
                                    },
                                    {
                                        "name": "Column4"
                                    },
                                    {
                                        "name": "Solution"
                                    }
                                ]
                            },
                            "data": [
                                {
                                    "0": "16",
                                    "1": "264",
                                    "2": "18",
                                    "3": "61",
                                    "4": "86",
                                    "5": "99",
                                    "6": "NULL"
                                },
                                {
                                    "0": "22",
                                    "1": "264",
                                    "2": "18",
                                    "3": "69",
                                    "4": "88",
                                    "5": "89",
                                    "6": "NULL"
                                }
                            ]
                        },
                        "text/html": [
                            "<table>",
                            "<tr><th>Id</th><th>Result</th><th>Column1</th><th>Column2</th><th>Column3</th><th>Column4</th><th>Solution</th></tr>",
                            "<tr><td>16</td><td>264</td><td>18</td><td>61</td><td>86</td><td>99</td><td>NULL</td></tr>",
                            "<tr><td>22</td><td>264</td><td>18</td><td>69</td><td>88</td><td>89</td><td>NULL</td></tr>",
                            "</table>"
                        ]
                    }
                }
            ],
            "execution_count": 66
        },
        {
            "cell_type": "code",
            "source": [
                "UPDATE [dbo].[results]\r\n",
                "SET [Solution]=0\r\n",
                "WHERE [Column1]=11 \r\n",
                "  AND [Column2]=66\r\n",
                "  AND [Column3]=91\r\n",
                "  AND [Column4]=96;\r\n",
                "GO\r\n",
                "\r\n",
                "UPDATE [dbo].[results]\r\n",
                "SET [Solution]=1\r\n",
                "WHERE [Column1]=11 \r\n",
                "  AND [Column2]=66\r\n",
                "  AND [Column3]=89\r\n",
                "  AND [Column4]=98;\r\n",
                "GO\r\n",
                "\r\n",
                "UPDATE [dbo].[results]\r\n",
                "SET [Solution]=1\r\n",
                "WHERE [Column1]=19 \r\n",
                "  AND [Column2]=66\r\n",
                "  AND [Column3]=88\r\n",
                "  AND [Column4]=91;\r\n",
                "GO\r\n",
                "\r\n",
                "UPDATE [dbo].[results]\r\n",
                "SET [Solution]=1\r\n",
                "WHERE [Column1]=18 \r\n",
                "  AND [Column2]=69\r\n",
                "  AND [Column3]=86\r\n",
                "  AND [Column4]=91;\r\n",
                "GO\r\n",
                "\r\n",
                "UPDATE [dbo].[results]\r\n",
                "SET [Solution]=1\r\n",
                "WHERE [Column1]=19 \r\n",
                "  AND [Column2]=68\r\n",
                "  AND [Column3]=81\r\n",
                "  AND [Column4]=96;\r\n",
                "GO\r\n",
                "\r\n",
                "UPDATE [dbo].[results]\r\n",
                "SET [Solution]=1\r\n",
                "WHERE [Column1]=11 \r\n",
                "  AND [Column2]=69\r\n",
                "  AND [Column3]=88\r\n",
                "  AND [Column4]=96;\r\n",
                "GO"
            ],
            "metadata": {
                "language": "sql",
                "azdata_cell_guid": "45e02272-fe74-47ee-a8a2-5bf3da4972f5"
            },
            "outputs": [
                {
                    "output_type": "display_data",
                    "data": {
                        "text/html": "(1 row affected)"
                    },
                    "metadata": {}
                },
                {
                    "output_type": "display_data",
                    "data": {
                        "text/html": "(1 row affected)"
                    },
                    "metadata": {}
                },
                {
                    "output_type": "display_data",
                    "data": {
                        "text/html": "(1 row affected)"
                    },
                    "metadata": {}
                },
                {
                    "output_type": "display_data",
                    "data": {
                        "text/html": "(1 row affected)"
                    },
                    "metadata": {}
                },
                {
                    "output_type": "display_data",
                    "data": {
                        "text/html": "(1 row affected)"
                    },
                    "metadata": {}
                },
                {
                    "output_type": "display_data",
                    "data": {
                        "text/html": "(1 row affected)"
                    },
                    "metadata": {}
                },
                {
                    "output_type": "display_data",
                    "data": {
                        "text/html": "Total execution time: 00:00:00.353"
                    },
                    "metadata": {}
                }
            ],
            "execution_count": 90
        },
        {
            "cell_type": "code",
            "source": [
                "USE TEMPDB;\r\n",
                "GO\r\n",
                "\r\n",
                "SELECT \r\n",
                "    Id\r\n",
                "    ,([Column1]+[Column2]+[Column3]+[Column4]) AS \"Result\"\r\n",
                "    ,[Column1]\r\n",
                "    ,[Column2]\r\n",
                "    ,[Column3]\r\n",
                "    ,[Column4]\r\n",
                "    ,[Solution]\r\n",
                "FROM [dbo].[results]\r\n",
                "WHERE [Solution] is null or [Solution] = 1\r\n",
                "ORDER BY [Column1]\r\n",
                "        ,[Column2]\r\n",
                "        ,[Column3]\r\n",
                "        ,[Column4];"
            ],
            "metadata": {
                "language": "sql",
                "azdata_cell_guid": "85f664fa-7a7a-4638-b2ac-c96d02d9d4d2"
            },
            "outputs": [
                {
                    "output_type": "display_data",
                    "data": {
                        "text/html": "Commands completed successfully."
                    },
                    "metadata": {}
                },
                {
                    "output_type": "display_data",
                    "data": {
                        "text/html": "(29 rows affected)"
                    },
                    "metadata": {}
                },
                {
                    "output_type": "display_data",
                    "data": {
                        "text/html": "Total execution time: 00:00:00.131"
                    },
                    "metadata": {}
                },
                {
                    "output_type": "execute_result",
                    "metadata": {},
                    "execution_count": 91,
                    "data": {
                        "application/vnd.dataresource+json": {
                            "schema": {
                                "fields": [
                                    {
                                        "name": "Id"
                                    },
                                    {
                                        "name": "Result"
                                    },
                                    {
                                        "name": "Column1"
                                    },
                                    {
                                        "name": "Column2"
                                    },
                                    {
                                        "name": "Column3"
                                    },
                                    {
                                        "name": "Column4"
                                    },
                                    {
                                        "name": "Solution"
                                    }
                                ]
                            },
                            "data": [
                                {
                                    "0": "1",
                                    "1": "264",
                                    "2": "11",
                                    "3": "66",
                                    "4": "88",
                                    "5": "99",
                                    "6": "NULL"
                                },
                                {
                                    "0": "3",
                                    "1": "264",
                                    "2": "11",
                                    "3": "66",
                                    "4": "89",
                                    "5": "98",
                                    "6": "1"
                                },
                                {
                                    "0": "4",
                                    "1": "264",
                                    "2": "11",
                                    "3": "68",
                                    "4": "86",
                                    "5": "99",
                                    "6": "NULL"
                                },
                                {
                                    "0": "5",
                                    "1": "264",
                                    "2": "11",
                                    "3": "68",
                                    "4": "96",
                                    "5": "89",
                                    "6": "NULL"
                                },
                                {
                                    "0": "6",
                                    "1": "264",
                                    "2": "11",
                                    "3": "69",
                                    "4": "86",
                                    "5": "98",
                                    "6": "NULL"
                                },
                                {
                                    "0": "7",
                                    "1": "264",
                                    "2": "11",
                                    "3": "69",
                                    "4": "88",
                                    "5": "96",
                                    "6": "1"
                                },
                                {
                                    "0": "8",
                                    "1": "264",
                                    "2": "16",
                                    "3": "61",
                                    "4": "88",
                                    "5": "99",
                                    "6": "NULL"
                                },
                                {
                                    "0": "10",
                                    "1": "264",
                                    "2": "16",
                                    "3": "61",
                                    "4": "89",
                                    "5": "98",
                                    "6": "NULL"
                                },
                                {
                                    "0": "9",
                                    "1": "264",
                                    "2": "16",
                                    "3": "61",
                                    "4": "91",
                                    "5": "96",
                                    "6": "NULL"
                                },
                                {
                                    "0": "11",
                                    "1": "264",
                                    "2": "16",
                                    "3": "66",
                                    "4": "86",
                                    "5": "96",
                                    "6": "NULL"
                                },
                                {
                                    "0": "12",
                                    "1": "264",
                                    "2": "16",
                                    "3": "68",
                                    "4": "81",
                                    "5": "99",
                                    "6": "NULL"
                                },
                                {
                                    "0": "13",
                                    "1": "264",
                                    "2": "16",
                                    "3": "68",
                                    "4": "91",
                                    "5": "89",
                                    "6": "NULL"
                                },
                                {
                                    "0": "14",
                                    "1": "264",
                                    "2": "16",
                                    "3": "69",
                                    "4": "81",
                                    "5": "98",
                                    "6": "NULL"
                                },
                                {
                                    "0": "15",
                                    "1": "264",
                                    "2": "16",
                                    "3": "69",
                                    "4": "88",
                                    "5": "91",
                                    "6": "NULL"
                                },
                                {
                                    "0": "16",
                                    "1": "264",
                                    "2": "18",
                                    "3": "61",
                                    "4": "86",
                                    "5": "99",
                                    "6": "NULL"
                                },
                                {
                                    "0": "17",
                                    "1": "264",
                                    "2": "18",
                                    "3": "61",
                                    "4": "96",
                                    "5": "89",
                                    "6": "NULL"
                                },
                                {
                                    "0": "18",
                                    "1": "264",
                                    "2": "18",
                                    "3": "66",
                                    "4": "81",
                                    "5": "99",
                                    "6": "NULL"
                                },
                                {
                                    "0": "19",
                                    "1": "264",
                                    "2": "18",
                                    "3": "66",
                                    "4": "91",
                                    "5": "89",
                                    "6": "NULL"
                                },
                                {
                                    "0": "20",
                                    "1": "264",
                                    "2": "18",
                                    "3": "69",
                                    "4": "81",
                                    "5": "96",
                                    "6": "NULL"
                                },
                                {
                                    "0": "21",
                                    "1": "264",
                                    "2": "18",
                                    "3": "69",
                                    "4": "86",
                                    "5": "91",
                                    "6": "1"
                                },
                                {
                                    "0": "22",
                                    "1": "264",
                                    "2": "18",
                                    "3": "69",
                                    "4": "88",
                                    "5": "89",
                                    "6": "NULL"
                                },
                                {
                                    "0": "23",
                                    "1": "264",
                                    "2": "19",
                                    "3": "61",
                                    "4": "86",
                                    "5": "98",
                                    "6": "NULL"
                                },
                                {
                                    "0": "24",
                                    "1": "264",
                                    "2": "19",
                                    "3": "61",
                                    "4": "88",
                                    "5": "96",
                                    "6": "NULL"
                                },
                                {
                                    "0": "25",
                                    "1": "264",
                                    "2": "19",
                                    "3": "66",
                                    "4": "81",
                                    "5": "98",
                                    "6": "NULL"
                                },
                                {
                                    "0": "26",
                                    "1": "264",
                                    "2": "19",
                                    "3": "66",
                                    "4": "88",
                                    "5": "91",
                                    "6": "1"
                                },
                                {
                                    "0": "27",
                                    "1": "264",
                                    "2": "19",
                                    "3": "68",
                                    "4": "81",
                                    "5": "96",
                                    "6": "1"
                                },
                                {
                                    "0": "28",
                                    "1": "264",
                                    "2": "19",
                                    "3": "68",
                                    "4": "86",
                                    "5": "91",
                                    "6": "NULL"
                                },
                                {
                                    "0": "29",
                                    "1": "264",
                                    "2": "19",
                                    "3": "68",
                                    "4": "88",
                                    "5": "89",
                                    "6": "NULL"
                                },
                                {
                                    "0": "30",
                                    "1": "264",
                                    "2": "61",
                                    "3": "66",
                                    "4": "68",
                                    "5": "69",
                                    "6": "NULL"
                                }
                            ]
                        },
                        "text/html": [
                            "<table>",
                            "<tr><th>Id</th><th>Result</th><th>Column1</th><th>Column2</th><th>Column3</th><th>Column4</th><th>Solution</th></tr>",
                            "<tr><td>1</td><td>264</td><td>11</td><td>66</td><td>88</td><td>99</td><td>NULL</td></tr>",
                            "<tr><td>3</td><td>264</td><td>11</td><td>66</td><td>89</td><td>98</td><td>1</td></tr>",
                            "<tr><td>4</td><td>264</td><td>11</td><td>68</td><td>86</td><td>99</td><td>NULL</td></tr>",
                            "<tr><td>5</td><td>264</td><td>11</td><td>68</td><td>96</td><td>89</td><td>NULL</td></tr>",
                            "<tr><td>6</td><td>264</td><td>11</td><td>69</td><td>86</td><td>98</td><td>NULL</td></tr>",
                            "<tr><td>7</td><td>264</td><td>11</td><td>69</td><td>88</td><td>96</td><td>1</td></tr>",
                            "<tr><td>8</td><td>264</td><td>16</td><td>61</td><td>88</td><td>99</td><td>NULL</td></tr>",
                            "<tr><td>10</td><td>264</td><td>16</td><td>61</td><td>89</td><td>98</td><td>NULL</td></tr>",
                            "<tr><td>9</td><td>264</td><td>16</td><td>61</td><td>91</td><td>96</td><td>NULL</td></tr>",
                            "<tr><td>11</td><td>264</td><td>16</td><td>66</td><td>86</td><td>96</td><td>NULL</td></tr>",
                            "<tr><td>12</td><td>264</td><td>16</td><td>68</td><td>81</td><td>99</td><td>NULL</td></tr>",
                            "<tr><td>13</td><td>264</td><td>16</td><td>68</td><td>91</td><td>89</td><td>NULL</td></tr>",
                            "<tr><td>14</td><td>264</td><td>16</td><td>69</td><td>81</td><td>98</td><td>NULL</td></tr>",
                            "<tr><td>15</td><td>264</td><td>16</td><td>69</td><td>88</td><td>91</td><td>NULL</td></tr>",
                            "<tr><td>16</td><td>264</td><td>18</td><td>61</td><td>86</td><td>99</td><td>NULL</td></tr>",
                            "<tr><td>17</td><td>264</td><td>18</td><td>61</td><td>96</td><td>89</td><td>NULL</td></tr>",
                            "<tr><td>18</td><td>264</td><td>18</td><td>66</td><td>81</td><td>99</td><td>NULL</td></tr>",
                            "<tr><td>19</td><td>264</td><td>18</td><td>66</td><td>91</td><td>89</td><td>NULL</td></tr>",
                            "<tr><td>20</td><td>264</td><td>18</td><td>69</td><td>81</td><td>96</td><td>NULL</td></tr>",
                            "<tr><td>21</td><td>264</td><td>18</td><td>69</td><td>86</td><td>91</td><td>1</td></tr>",
                            "<tr><td>22</td><td>264</td><td>18</td><td>69</td><td>88</td><td>89</td><td>NULL</td></tr>",
                            "<tr><td>23</td><td>264</td><td>19</td><td>61</td><td>86</td><td>98</td><td>NULL</td></tr>",
                            "<tr><td>24</td><td>264</td><td>19</td><td>61</td><td>88</td><td>96</td><td>NULL</td></tr>",
                            "<tr><td>25</td><td>264</td><td>19</td><td>66</td><td>81</td><td>98</td><td>NULL</td></tr>",
                            "<tr><td>26</td><td>264</td><td>19</td><td>66</td><td>88</td><td>91</td><td>1</td></tr>",
                            "<tr><td>27</td><td>264</td><td>19</td><td>68</td><td>81</td><td>96</td><td>1</td></tr>",
                            "<tr><td>28</td><td>264</td><td>19</td><td>68</td><td>86</td><td>91</td><td>NULL</td></tr>",
                            "<tr><td>29</td><td>264</td><td>19</td><td>68</td><td>88</td><td>89</td><td>NULL</td></tr>",
                            "<tr><td>30</td><td>264</td><td>61</td><td>66</td><td>68</td><td>69</td><td>NULL</td></tr>",
                            "</table>"
                        ]
                    }
                }
            ],
            "execution_count": 91
        },
        {
            "cell_type": "code",
            "source": [
                "USE TEMPDB;\r\n",
                "GO\r\n",
                "\r\n",
                "DECLARE @target as INT = 98;\r\n",
                "declare @listOfIDs table (id int);\r\n",
                "insert @listOfIDs(id) values (11), (16), (69),(88),(96);\r\n",
                "\r\n",
                "SELECT * FROM\r\n",
                "(\r\n",
                "SELECT \r\n",
                "    Id\r\n",
                "    ,([Column1]+[Column2]+[Column3]+[Column4]) AS \"Result\"\r\n",
                "    ,[Column1]\r\n",
                "    ,[Column2]\r\n",
                "    ,[Column3]\r\n",
                "    ,[Column4]\r\n",
                "FROM [dbo].[results]\r\n",
                ") as t\r\n",
                "WHERE (\r\n",
                "            [Column1]=@target\r\n",
                "        OR [Column2]=@target\r\n",
                "        OR [Column3]=@target\r\n",
                "        OR [Column4]=@target\r\n",
                "       )\r\n",
                "   and\r\n",
                "        (\r\n",
                "            [Column1] NOT in (select * from @listOfIDs where id <> @target)\r\n",
                "        AND [Column2] NOT in (select * from @listOfIDs where id <> @target)\r\n",
                "        AND [Column3] NOT in (select * from @listOfIDs where id <> @target)\r\n",
                "        AND [Column4] NOT in (select * from @listOfIDs where id <> @target)\r\n",
                "        )\r\n",
                "   ;\r\n",
                "GO"
            ],
            "metadata": {
                "language": "sql",
                "azdata_cell_guid": "7c52b5f0-b543-4a95-b0fa-b698dc614ad6",
                "tags": []
            },
            "outputs": [
                {
                    "output_type": "display_data",
                    "data": {
                        "text/html": "Commands completed successfully."
                    },
                    "metadata": {}
                },
                {
                    "output_type": "display_data",
                    "data": {
                        "text/html": "(5 rows affected)"
                    },
                    "metadata": {}
                },
                {
                    "output_type": "display_data",
                    "data": {
                        "text/html": "(2 rows affected)"
                    },
                    "metadata": {}
                },
                {
                    "output_type": "display_data",
                    "data": {
                        "text/html": "Total execution time: 00:00:00.163"
                    },
                    "metadata": {}
                },
                {
                    "output_type": "execute_result",
                    "metadata": {},
                    "execution_count": 93,
                    "data": {
                        "application/vnd.dataresource+json": {
                            "schema": {
                                "fields": [
                                    {
                                        "name": "Id"
                                    },
                                    {
                                        "name": "Result"
                                    },
                                    {
                                        "name": "Column1"
                                    },
                                    {
                                        "name": "Column2"
                                    },
                                    {
                                        "name": "Column3"
                                    },
                                    {
                                        "name": "Column4"
                                    }
                                ]
                            },
                            "data": [
                                {
                                    "0": "23",
                                    "1": "264",
                                    "2": "19",
                                    "3": "61",
                                    "4": "86",
                                    "5": "98"
                                },
                                {
                                    "0": "25",
                                    "1": "264",
                                    "2": "19",
                                    "3": "66",
                                    "4": "81",
                                    "5": "98"
                                }
                            ]
                        },
                        "text/html": [
                            "<table>",
                            "<tr><th>Id</th><th>Result</th><th>Column1</th><th>Column2</th><th>Column3</th><th>Column4</th></tr>",
                            "<tr><td>23</td><td>264</td><td>19</td><td>61</td><td>86</td><td>98</td></tr>",
                            "<tr><td>25</td><td>264</td><td>19</td><td>66</td><td>81</td><td>98</td></tr>",
                            "</table>"
                        ]
                    }
                }
            ],
            "execution_count": 93
        },
        {
            "cell_type": "markdown",
            "source": [
                "After the horizontal soulution find the verical one.\n",
                "\n",
                "  \n",
                "\n",
                "11, 69, 88, 96 is one possible line."
            ],
            "metadata": {
                "language": "sql",
                "azdata_cell_guid": "cc4b2cef-6af9-4178-9dce-2fae443f169c"
            },
            "attachments": {}
        },
        {
            "cell_type": "code",
            "source": [
                "USE TEMPDB;\r\n",
                "GO\r\n",
                "\r\n",
                "DECLARE @target as INT = 18;\r\n",
                "declare @listOfIDs table (id int);\r\n",
                "insert @listOfIDs(id) values(11); --, (69),(88),(96);\r\n",
                "\r\n",
                "SELECT * FROM\r\n",
                "(\r\n",
                "SELECT \r\n",
                "    Id\r\n",
                "    ,([Column1]+[Column2]+[Column3]+[Column4]) AS \"Result\"\r\n",
                "    ,[Column1]\r\n",
                "    ,[Column2]\r\n",
                "    ,[Column3]\r\n",
                "    ,[Column4]\r\n",
                "FROM [dbo].[results]\r\n",
                ") as t\r\n",
                "WHERE (\r\n",
                "            [Column1]=@target\r\n",
                "        OR [Column2]=@target\r\n",
                "        OR [Column3]=@target\r\n",
                "        OR [Column4]=@target\r\n",
                "       )\r\n",
                "   and\r\n",
                "        (\r\n",
                "            [Column1] NOT in (select * from @listOfIDs)\r\n",
                "        AND [Column2] NOT in (select * from @listOfIDs)\r\n",
                "        AND [Column3] NOT in (select * from @listOfIDs)\r\n",
                "        AND [Column4] NOT in (select * from @listOfIDs)\r\n",
                "        )\r\n",
                "   ORDER BY\r\n",
                "     [Column4]\r\n",
                "    ,[Column3]\r\n",
                "    ,[Column2]\r\n",
                "    ,[Column1];\r\n",
                "GO"
            ],
            "metadata": {
                "language": "sql",
                "azdata_cell_guid": "4b853a92-6b25-462a-bece-280d8db8ba7c",
                "tags": []
            },
            "outputs": [
                {
                    "output_type": "display_data",
                    "data": {
                        "text/html": "Commands completed successfully."
                    },
                    "metadata": {}
                },
                {
                    "output_type": "display_data",
                    "data": {
                        "text/html": "(1 row affected)"
                    },
                    "metadata": {}
                },
                {
                    "output_type": "display_data",
                    "data": {
                        "text/html": "(7 rows affected)"
                    },
                    "metadata": {}
                },
                {
                    "output_type": "display_data",
                    "data": {
                        "text/html": "Total execution time: 00:00:00.606"
                    },
                    "metadata": {}
                },
                {
                    "output_type": "execute_result",
                    "metadata": {},
                    "execution_count": 46,
                    "data": {
                        "application/vnd.dataresource+json": {
                            "schema": {
                                "fields": [
                                    {
                                        "name": "Id"
                                    },
                                    {
                                        "name": "Result"
                                    },
                                    {
                                        "name": "Column1"
                                    },
                                    {
                                        "name": "Column2"
                                    },
                                    {
                                        "name": "Column3"
                                    },
                                    {
                                        "name": "Column4"
                                    }
                                ]
                            },
                            "data": [
                                {
                                    "0": "22",
                                    "1": "264",
                                    "2": "18",
                                    "3": "69",
                                    "4": "88",
                                    "5": "89"
                                },
                                {
                                    "0": "19",
                                    "1": "264",
                                    "2": "18",
                                    "3": "66",
                                    "4": "91",
                                    "5": "89"
                                },
                                {
                                    "0": "17",
                                    "1": "264",
                                    "2": "18",
                                    "3": "61",
                                    "4": "96",
                                    "5": "89"
                                },
                                {
                                    "0": "21",
                                    "1": "264",
                                    "2": "18",
                                    "3": "69",
                                    "4": "86",
                                    "5": "91"
                                },
                                {
                                    "0": "20",
                                    "1": "264",
                                    "2": "18",
                                    "3": "69",
                                    "4": "81",
                                    "5": "96"
                                },
                                {
                                    "0": "18",
                                    "1": "264",
                                    "2": "18",
                                    "3": "66",
                                    "4": "81",
                                    "5": "99"
                                },
                                {
                                    "0": "16",
                                    "1": "264",
                                    "2": "18",
                                    "3": "61",
                                    "4": "86",
                                    "5": "99"
                                }
                            ]
                        },
                        "text/html": [
                            "<table>",
                            "<tr><th>Id</th><th>Result</th><th>Column1</th><th>Column2</th><th>Column3</th><th>Column4</th></tr>",
                            "<tr><td>22</td><td>264</td><td>18</td><td>69</td><td>88</td><td>89</td></tr>",
                            "<tr><td>19</td><td>264</td><td>18</td><td>66</td><td>91</td><td>89</td></tr>",
                            "<tr><td>17</td><td>264</td><td>18</td><td>61</td><td>96</td><td>89</td></tr>",
                            "<tr><td>21</td><td>264</td><td>18</td><td>69</td><td>86</td><td>91</td></tr>",
                            "<tr><td>20</td><td>264</td><td>18</td><td>69</td><td>81</td><td>96</td></tr>",
                            "<tr><td>18</td><td>264</td><td>18</td><td>66</td><td>81</td><td>99</td></tr>",
                            "<tr><td>16</td><td>264</td><td>18</td><td>61</td><td>86</td><td>99</td></tr>",
                            "</table>"
                        ]
                    }
                }
            ],
            "execution_count": 46
        },
        {
            "cell_type": "markdown",
            "source": [
                "We need to find all input sets combinations"
            ],
            "metadata": {
                "language": "sql",
                "azdata_cell_guid": "5ee165df-2d63-4a68-9a9d-4a61fbc2aa9e"
            },
            "attachments": {}
        },
        {
            "cell_type": "code",
            "source": [
                "USE TEMPDB;\r\n",
                "GO\r\n",
                "\r\n",
                "DECLARE @piece1 as int = 16;\r\n",
                "\r\n",
                "SELECT \r\n",
                "    [Piece] \r\n",
                "FROM \r\n",
                "    [dbo].[pieces]\r\n",
                "WHERE\r\n",
                "    [Piece] <> @piece1\r\n",
                "UNION ALL\r\n",
                "SELECT [Piece2] FROM [dbo].[sets] WHERE [Piece1] = @piece1\r\n",
                "ORDER BY [Piece];\r\n",
                ""
            ],
            "metadata": {
                "language": "sql",
                "azdata_cell_guid": "85e5b0ca-ca87-43c9-a78a-47dbaca68cb5"
            },
            "outputs": [
                {
                    "output_type": "display_data",
                    "data": {
                        "text/html": "Commands completed successfully."
                    },
                    "metadata": {}
                },
                {
                    "output_type": "display_data",
                    "data": {
                        "text/html": "(16 rows affected)"
                    },
                    "metadata": {}
                },
                {
                    "output_type": "display_data",
                    "data": {
                        "text/html": "Total execution time: 00:00:00.146"
                    },
                    "metadata": {}
                },
                {
                    "output_type": "execute_result",
                    "metadata": {},
                    "execution_count": 28,
                    "data": {
                        "application/vnd.dataresource+json": {
                            "schema": {
                                "fields": [
                                    {
                                        "name": "Piece"
                                    }
                                ]
                            },
                            "data": [
                                {
                                    "0": "11"
                                },
                                {
                                    "0": "18"
                                },
                                {
                                    "0": "19"
                                },
                                {
                                    "0": "61"
                                },
                                {
                                    "0": "66"
                                },
                                {
                                    "0": "68"
                                },
                                {
                                    "0": "69"
                                },
                                {
                                    "0": "81"
                                },
                                {
                                    "0": "86"
                                },
                                {
                                    "0": "88"
                                },
                                {
                                    "0": "89"
                                },
                                {
                                    "0": "91"
                                },
                                {
                                    "0": "91"
                                },
                                {
                                    "0": "96"
                                },
                                {
                                    "0": "98"
                                },
                                {
                                    "0": "99"
                                }
                            ]
                        },
                        "text/html": [
                            "<table>",
                            "<tr><th>Piece</th></tr>",
                            "<tr><td>11</td></tr>",
                            "<tr><td>18</td></tr>",
                            "<tr><td>19</td></tr>",
                            "<tr><td>61</td></tr>",
                            "<tr><td>66</td></tr>",
                            "<tr><td>68</td></tr>",
                            "<tr><td>69</td></tr>",
                            "<tr><td>81</td></tr>",
                            "<tr><td>86</td></tr>",
                            "<tr><td>88</td></tr>",
                            "<tr><td>89</td></tr>",
                            "<tr><td>91</td></tr>",
                            "<tr><td>91</td></tr>",
                            "<tr><td>96</td></tr>",
                            "<tr><td>98</td></tr>",
                            "<tr><td>99</td></tr>",
                            "</table>"
                        ]
                    }
                }
            ],
            "execution_count": 28
        },
        {
            "cell_type": "code",
            "source": [
                "USE TEMPDB;\r\n",
                "GO\r\n",
                "SELECT * FROM [dbo].[sets];\r\n",
                "GO\r\n",
                "SELECT [Piece2] FROM [dbo].[sets] WHERE [Piece1] = 16;\r\n",
                "GO"
            ],
            "metadata": {
                "language": "sql",
                "azdata_cell_guid": "ad8d2ab1-6d02-48f8-847e-52a589551811"
            },
            "outputs": [
                {
                    "output_type": "display_data",
                    "data": {
                        "text/html": "Commands completed successfully."
                    },
                    "metadata": {}
                },
                {
                    "output_type": "display_data",
                    "data": {
                        "text/html": "(12 rows affected)"
                    },
                    "metadata": {}
                },
                {
                    "output_type": "display_data",
                    "data": {
                        "text/html": "(1 row affected)"
                    },
                    "metadata": {}
                },
                {
                    "output_type": "display_data",
                    "data": {
                        "text/html": "Total execution time: 00:00:00.196"
                    },
                    "metadata": {}
                },
                {
                    "output_type": "execute_result",
                    "metadata": {},
                    "execution_count": 31,
                    "data": {
                        "application/vnd.dataresource+json": {
                            "schema": {
                                "fields": [
                                    {
                                        "name": "Id"
                                    },
                                    {
                                        "name": "Piece1"
                                    },
                                    {
                                        "name": "Piece2"
                                    }
                                ]
                            },
                            "data": [
                                {
                                    "0": "1",
                                    "1": "16",
                                    "2": "91"
                                },
                                {
                                    "0": "2",
                                    "1": "18",
                                    "2": "81"
                                },
                                {
                                    "0": "3",
                                    "1": "19",
                                    "2": "61"
                                },
                                {
                                    "0": "4",
                                    "1": "61",
                                    "2": "19"
                                },
                                {
                                    "0": "5",
                                    "1": "66",
                                    "2": "99"
                                },
                                {
                                    "0": "6",
                                    "1": "68",
                                    "2": "89"
                                },
                                {
                                    "0": "7",
                                    "1": "81",
                                    "2": "18"
                                },
                                {
                                    "0": "8",
                                    "1": "86",
                                    "2": "98"
                                },
                                {
                                    "0": "9",
                                    "1": "89",
                                    "2": "68"
                                },
                                {
                                    "0": "10",
                                    "1": "91",
                                    "2": "16"
                                },
                                {
                                    "0": "11",
                                    "1": "98",
                                    "2": "86"
                                },
                                {
                                    "0": "12",
                                    "1": "99",
                                    "2": "66"
                                }
                            ]
                        },
                        "text/html": [
                            "<table>",
                            "<tr><th>Id</th><th>Piece1</th><th>Piece2</th></tr>",
                            "<tr><td>1</td><td>16</td><td>91</td></tr>",
                            "<tr><td>2</td><td>18</td><td>81</td></tr>",
                            "<tr><td>3</td><td>19</td><td>61</td></tr>",
                            "<tr><td>4</td><td>61</td><td>19</td></tr>",
                            "<tr><td>5</td><td>66</td><td>99</td></tr>",
                            "<tr><td>6</td><td>68</td><td>89</td></tr>",
                            "<tr><td>7</td><td>81</td><td>18</td></tr>",
                            "<tr><td>8</td><td>86</td><td>98</td></tr>",
                            "<tr><td>9</td><td>89</td><td>68</td></tr>",
                            "<tr><td>10</td><td>91</td><td>16</td></tr>",
                            "<tr><td>11</td><td>98</td><td>86</td></tr>",
                            "<tr><td>12</td><td>99</td><td>66</td></tr>",
                            "</table>"
                        ]
                    }
                },
                {
                    "output_type": "execute_result",
                    "metadata": {},
                    "execution_count": 31,
                    "data": {
                        "application/vnd.dataresource+json": {
                            "schema": {
                                "fields": [
                                    {
                                        "name": "Piece2"
                                    }
                                ]
                            },
                            "data": [
                                {
                                    "0": "91"
                                }
                            ]
                        },
                        "text/html": [
                            "<table>",
                            "<tr><th>Piece2</th></tr>",
                            "<tr><td>91</td></tr>",
                            "</table>"
                        ]
                    }
                }
            ],
            "execution_count": 31
        },
        {
            "cell_type": "markdown",
            "source": [
                "Cleaup"
            ],
            "metadata": {
                "language": "sql",
                "azdata_cell_guid": "cdbdefef-9c51-4804-9a2b-efc7b19e5e5c"
            },
            "attachments": {}
        },
        {
            "cell_type": "markdown",
            "source": [
                "IF  EXISTS (SELECT * FROM sys.objects WHERE object_id = OBJECT_ID(N'[dbo].[results]') AND type in (N'U'))\r\n",
                "DROP TABLE [dbo].[results]\r\n",
                "GO\r\n",
                "\r\n",
                "IF  EXISTS (SELECT * FROM sys.objects WHERE object_id = OBJECT_ID(N'[dbo].[pieces]') AND type in (N'U'))\r\n",
                "DROP TABLE [dbo].[pieces]\r\n",
                "GO"
            ],
            "metadata": {
                "language": "",
                "azdata_cell_guid": "3f709690-d6d6-4eb2-8ef8-1d31f1cca6c3",
                "tags": []
            }
        }
    ]
}