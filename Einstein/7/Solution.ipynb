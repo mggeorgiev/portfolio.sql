{
    "metadata": {
        "kernelspec": {
            "name": "SQL",
            "display_name": "SQL",
            "language": "sql"
        },
        "language_info": {
            "name": "sql",
            "version": ""
        }
    },
    "nbformat_minor": 2,
    "nbformat": 4,
    "cells": [
        {
            "cell_type": "markdown",
            "source": [
                "Show all lines that contain 11 and equal 264."
            ],
            "metadata": {
                "language": "sql",
                "azdata_cell_guid": "244949bd-d4d6-4455-9e37-543ba27b51ad"
            },
            "attachments": {}
        },
        {
            "cell_type": "code",
            "source": [
                "USE tempdb;\r\n",
                "GO\r\n",
                "SELECT * FROM [dbo].[lines] WHERE [Piece] = 11 ORDER BY [Id];"
            ],
            "metadata": {
                "language": "sql",
                "azdata_cell_guid": "133e1735-fa38-4d96-a667-cb0cb7d265d4",
                "tags": []
            },
            "outputs": [
                {
                    "output_type": "display_data",
                    "data": {
                        "text/html": "Commands completed successfully."
                    },
                    "metadata": {}
                },
                {
                    "output_type": "display_data",
                    "data": {
                        "text/html": "(7 rows affected)"
                    },
                    "metadata": {}
                },
                {
                    "output_type": "display_data",
                    "data": {
                        "text/html": "Total execution time: 00:00:00.311"
                    },
                    "metadata": {}
                },
                {
                    "output_type": "execute_result",
                    "execution_count": 2,
                    "data": {
                        "application/vnd.dataresource+json": {
                            "schema": {
                                "fields": [
                                    {
                                        "name": "Id"
                                    },
                                    {
                                        "name": "Piece"
                                    }
                                ]
                            },
                            "data": [
                                {
                                    "0": "11668899",
                                    "1": "11"
                                },
                                {
                                    "0": "11668998",
                                    "1": "11"
                                },
                                {
                                    "0": "11669196",
                                    "1": "11"
                                },
                                {
                                    "0": "11688699",
                                    "1": "11"
                                },
                                {
                                    "0": "11689689",
                                    "1": "11"
                                },
                                {
                                    "0": "11698698",
                                    "1": "11"
                                },
                                {
                                    "0": "11698896",
                                    "1": "11"
                                }
                            ]
                        },
                        "text/html": "<table><tr><th>Id</th><th>Piece</th></tr><tr><td>11668899</td><td>11</td></tr><tr><td>11668998</td><td>11</td></tr><tr><td>11669196</td><td>11</td></tr><tr><td>11688699</td><td>11</td></tr><tr><td>11689689</td><td>11</td></tr><tr><td>11698698</td><td>11</td></tr><tr><td>11698896</td><td>11</td></tr></table>"
                    },
                    "metadata": {}
                }
            ],
            "execution_count": 2
        },
        {
            "cell_type": "markdown",
            "source": [
                "Show all lines that contain 11 and equal 264 also when inverted."
            ],
            "metadata": {
                "language": "sql",
                "azdata_cell_guid": "e4aab3bd-2f69-41da-b491-cd0aa6bed51f"
            },
            "attachments": {}
        },
        {
            "cell_type": "code",
            "source": [
                "USE tempdb;\r\n",
                "GO\r\n",
                "SELECT\r\n",
                "    [dbo].[V_INVERTED_LINES].[Id] \r\n",
                "FROM [dbo].[V_INVERTED_LINES]\r\n",
                "JOIN [dbo].[lines] ON [dbo].[lines].[Id] = [dbo].[V_INVERTED_LINES].[Id]\r\n",
                "WHERE [Piece] = 11;"
            ],
            "metadata": {
                "azdata_cell_guid": "583e6ce7-706b-49b7-b324-65eea16dda31",
                "language": "sql"
            },
            "outputs": [
                {
                    "output_type": "display_data",
                    "data": {
                        "text/html": "Commands completed successfully."
                    },
                    "metadata": {}
                },
                {
                    "output_type": "display_data",
                    "data": {
                        "text/html": "(6 rows affected)"
                    },
                    "metadata": {}
                },
                {
                    "output_type": "display_data",
                    "data": {
                        "text/html": "Total execution time: 00:00:00.153"
                    },
                    "metadata": {}
                },
                {
                    "output_type": "execute_result",
                    "execution_count": 1,
                    "data": {
                        "application/vnd.dataresource+json": {
                            "schema": {
                                "fields": [
                                    {
                                        "name": "Id"
                                    }
                                ]
                            },
                            "data": [
                                {
                                    "0": "11668899"
                                },
                                {
                                    "0": "11668998"
                                },
                                {
                                    "0": "11688699"
                                },
                                {
                                    "0": "11689689"
                                },
                                {
                                    "0": "11698698"
                                },
                                {
                                    "0": "11698896"
                                }
                            ]
                        },
                        "text/html": "<table><tr><th>Id</th></tr><tr><td>11668899</td></tr><tr><td>11668998</td></tr><tr><td>11688699</td></tr><tr><td>11689689</td></tr><tr><td>11698698</td></tr><tr><td>11698896</td></tr></table>"
                    },
                    "metadata": {}
                }
            ],
            "execution_count": 1
        },
        {
            "cell_type": "markdown",
            "source": [
                "The <span style=\"color: rgb(33, 33, 33); font-family: Consolas, &quot;Courier New&quot;, monospace; font-size: 12px; white-space: pre;\"><b>@target</b> variable is used to filter solutions containing a number;</span>\n",
                "\n",
                "**@listOfIDs** is a table variable stores the pices/numbers used to compose the lines;"
            ],
            "metadata": {
                "language": "sql",
                "azdata_cell_guid": "13a7f5ce-217f-4769-ac76-4753dfd7db36"
            },
            "attachments": {}
        },
        {
            "cell_type": "code",
            "source": [
                "USE tempdb;\r\n",
                "GO\r\n",
                "\r\n",
                "DECLARE @target as INT = 16;\r\n",
                "DECLARE @listOfIDs TABLE (id int);\r\n",
                "INSERT @listOfIDs(id) SELECT [Piece] FROM [dbo].[lines] WHERE [Id] IN (11668998);\r\n",
                "\r\n",
                "IF @target = 11\r\n",
                "    SELECT * FROM [dbo].[lines] WHERE [Piece] = 11 ORDER BY [Id];\r\n",
                "\r\n",
                "SELECT * FROM @listOfIDs;\r\n",
                "\r\n",
                "SELECT DISTINCT [Piece] FROM [dbo].[lines] WHERE [Piece] NOT IN (SELECT * FROM @listOfIDs);\r\n",
                "\r\n",
                "SELECT * FROM [dbo].[results]\r\n",
                "WHERE [LineId] in (\r\n",
                "                SELECT [Id] FROM [dbo].[lines]\r\n",
                "                WHERE [Piece] = @target\r\n",
                "                AND [Id] NOT IN (\r\n",
                "                                SELECT [Id] FROM [dbo].[lines]\r\n",
                "                                WHERE [Piece] IN (SELECT * FROM @listOfIDs)\r\n",
                "                                )\r\n",
                "                )\r\n",
                "ORDER BY [Id], [Column1], [Column2], [Column3], [Column4];\r\n",
                "\r\n",
                "SELECT [dbo].[V_INVERTED_LINES].[Id] FROM [dbo].[V_INVERTED_LINES]\r\n",
                "JOIN [dbo].[lines] ON [dbo].[lines].[Id] = [dbo].[V_INVERTED_LINES].[Id]\r\n",
                "WHERE [Piece] = @target\r\n",
                "AND [dbo].[V_INVERTED_LINES].[Id] NOT IN (\r\n",
                "                SELECT [dbo].[V_INVERTED_LINES].[Id] FROM [dbo].[V_INVERTED_LINES]\r\n",
                "                JOIN [dbo].[lines] ON [dbo].[lines].[Id] = [dbo].[V_INVERTED_LINES].[Id]\r\n",
                "                WHERE [Piece] IN (SELECT * FROM @listOfIDs));"
            ],
            "metadata": {
                "azdata_cell_guid": "e3723064-ae4f-47e4-b09d-c93aed4c44c1",
                "language": "sql",
                "tags": []
            },
            "outputs": [],
            "execution_count": null
        },
        {
            "cell_type": "markdown",
            "source": [
                "Find solutions from the combinations.\n",
                "\n",
                "Select a number ex.: 11.\n",
                "\n",
                "Find the combinations that contain 11. Select one combination and then find a solution for line 2, 3. There are either 0 or 1 solutions for line 4."
            ],
            "metadata": {
                "language": "sql",
                "azdata_cell_guid": "428c18da-9333-44e7-8517-2a20c08fc4ef"
            },
            "attachments": {}
        },
        {
            "cell_type": "code",
            "source": [
                "USE tempdb;\r\n",
                "GO\r\n",
                "\r\n",
                "DECLARE @target as INT = 19;\r\n",
                "DECLARE @listOfIDs TABLE (id int);\r\n",
                "INSERT @listOfIDs(id) SELECT [Piece] FROM [dbo].[lines] WHERE [Id] IN (11668899, 16689189, 18698196);\r\n",
                "\r\n",
                "SELECT * FROM @listOfIDs;\r\n",
                "\r\n",
                "\r\n",
                "SELECT DISTINCT [Piece] FROM [dbo].[lines] WHERE [Piece] NOT IN (SELECT * FROM @listOfIDs);\r\n",
                "\r\n",
                "\r\n",
                "SELECT [dbo].[V_INVERTED_LINES].[Id] FROM [dbo].[V_INVERTED_LINES]\r\n",
                "JOIN [dbo].[lines] ON [dbo].[lines].[Id] = [dbo].[V_INVERTED_LINES].[Id]\r\n",
                "WHERE [Piece] = @target\r\n",
                "AND [dbo].[V_INVERTED_LINES].[Id] NOT IN (\r\n",
                "                SELECT [dbo].[V_INVERTED_LINES].[Id] FROM [dbo].[V_INVERTED_LINES]\r\n",
                "                JOIN [dbo].[lines] ON [dbo].[lines].[Id] = [dbo].[V_INVERTED_LINES].[Id]\r\n",
                "                WHERE [Piece] IN (SELECT * FROM @listOfIDs));\r\n",
                "\r\n",
                "SELECT * FROM [dbo].[results]\r\n",
                "WHERE [LineId] in (\r\n",
                "                SELECT [dbo].[V_INVERTED_LINES].[Id] FROM [dbo].[V_INVERTED_LINES]\r\n",
                "                JOIN [dbo].[lines] ON [dbo].[lines].[Id] = [dbo].[V_INVERTED_LINES].[Id]\r\n",
                "                WHERE [Piece] = @target\r\n",
                "                AND [dbo].[V_INVERTED_LINES].[Id] NOT IN (\r\n",
                "                                SELECT [dbo].[V_INVERTED_LINES].[Id] FROM [dbo].[V_INVERTED_LINES]\r\n",
                "                                JOIN [dbo].[lines] ON [dbo].[lines].[Id] = [dbo].[V_INVERTED_LINES].[Id]\r\n",
                "                                WHERE [Piece] IN (SELECT * FROM @listOfIDs)\r\n",
                "                                )\r\n",
                "                )\r\n",
                "ORDER BY [Id], [Column1], [Column2], [Column3], [Column4];\r\n",
                "GO"
            ],
            "metadata": {
                "language": "sql",
                "azdata_cell_guid": "3aeef9b1-611e-4b20-9530-a3daccc2d8e4",
                "tags": []
            },
            "outputs": [],
            "execution_count": null
        },
        {
            "cell_type": "code",
            "source": [
                "USE TEMPDB;\r\n",
                "GO\r\n",
                "\r\n",
                "IF OBJECT_ID('[dbo].[solutions]', 'U') IS NOT NULL\r\n",
                "DROP TABLE [dbo].[solutions]\r\n",
                "GO\r\n",
                "\r\n",
                "CREATE TABLE [dbo].[solutions]\r\n",
                "(\r\n",
                "    [Id] int not null IDENTITY(1,1), -- Primary Key column\r\n",
                "    [SolutionId] INT NOT NULL, \r\n",
                "    [LineId] INT NOT NULL\r\n",
                ");\r\n",
                "GO\r\n",
                "\r\n",
                "insert into [dbo].[solutions] ([SolutionId],[LineId] ) values (10, 11668899);\r\n",
                "GO\r\n",
                "insert into [dbo].[solutions] ([SolutionId],[LineId] ) values (10, 16689189);\r\n",
                "GO\r\n",
                "insert into [dbo].[solutions] ([SolutionId],[LineId] ) values (10, 18698196);\r\n",
                "GO\r\n",
                "insert into [dbo].[solutions] ([SolutionId],[LineId] ) values (10, 19618698);\r\n",
                "GO\r\n",
                "\r\n",
                "insert into [dbo].[solutions] ([SolutionId],[LineId] ) values (11, 11668899);\r\n",
                "GO\r\n",
                "insert into [dbo].[solutions] ([SolutionId],[LineId] ) values (11, 16698198);\r\n",
                "GO\r\n",
                "insert into [dbo].[solutions] ([SolutionId],[LineId] ) values (11, 19688691);\r\n",
                "GO\r\n",
                "\r\n",
                "insert into [dbo].[solutions] ([SolutionId],[LineId] ) values (20, 11668998);\r\n",
                "GO\r\n",
                "insert into [dbo].[solutions] ([SolutionId],[LineId] ) values (20, 16698198);\r\n",
                "GO\r\n",
                "insert into [dbo].[solutions] ([SolutionId],[LineId] ) values (20, 18698196);\r\n",
                "GO\r\n",
                "\r\n",
                "insert into [dbo].[solutions] ([SolutionId],[LineId] ) values (30, 11688699);\r\n",
                "GO\r\n",
                "\r\n",
                "insert into [dbo].[solutions] ([SolutionId],[LineId] ) values (40, 11689689);\r\n",
                "GO\r\n",
                "\r\n",
                "insert into [dbo].[solutions] ([SolutionId],[LineId] ) values (50, 11698698);\r\n",
                "GO\r\n",
                "\r\n",
                "insert into [dbo].[solutions] ([SolutionId],[LineId] ) values (60, 11698896);\r\n",
                "GO\r\n",
                "\r\n",
                "select * from [dbo].[solutions]"
            ],
            "metadata": {
                "language": "sql",
                "azdata_cell_guid": "ece9cf88-9187-4ef6-88a9-262b480ebd1f"
            },
            "outputs": [
                {
                    "output_type": "display_data",
                    "data": {
                        "text/html": "Commands completed successfully."
                    },
                    "metadata": {}
                },
                {
                    "output_type": "display_data",
                    "data": {
                        "text/html": "Commands completed successfully."
                    },
                    "metadata": {}
                },
                {
                    "output_type": "display_data",
                    "data": {
                        "text/html": "Commands completed successfully."
                    },
                    "metadata": {}
                },
                {
                    "output_type": "display_data",
                    "data": {
                        "text/html": "(1 row affected)"
                    },
                    "metadata": {}
                },
                {
                    "output_type": "display_data",
                    "data": {
                        "text/html": "(1 row affected)"
                    },
                    "metadata": {}
                },
                {
                    "output_type": "display_data",
                    "data": {
                        "text/html": "(1 row affected)"
                    },
                    "metadata": {}
                },
                {
                    "output_type": "display_data",
                    "data": {
                        "text/html": "(1 row affected)"
                    },
                    "metadata": {}
                },
                {
                    "output_type": "display_data",
                    "data": {
                        "text/html": "(1 row affected)"
                    },
                    "metadata": {}
                },
                {
                    "output_type": "display_data",
                    "data": {
                        "text/html": "(1 row affected)"
                    },
                    "metadata": {}
                },
                {
                    "output_type": "display_data",
                    "data": {
                        "text/html": "(1 row affected)"
                    },
                    "metadata": {}
                },
                {
                    "output_type": "display_data",
                    "data": {
                        "text/html": "(1 row affected)"
                    },
                    "metadata": {}
                },
                {
                    "output_type": "display_data",
                    "data": {
                        "text/html": "(1 row affected)"
                    },
                    "metadata": {}
                },
                {
                    "output_type": "display_data",
                    "data": {
                        "text/html": "(1 row affected)"
                    },
                    "metadata": {}
                },
                {
                    "output_type": "display_data",
                    "data": {
                        "text/html": "(1 row affected)"
                    },
                    "metadata": {}
                },
                {
                    "output_type": "display_data",
                    "data": {
                        "text/html": "(1 row affected)"
                    },
                    "metadata": {}
                },
                {
                    "output_type": "display_data",
                    "data": {
                        "text/html": "(1 row affected)"
                    },
                    "metadata": {}
                },
                {
                    "output_type": "display_data",
                    "data": {
                        "text/html": "(1 row affected)"
                    },
                    "metadata": {}
                },
                {
                    "output_type": "display_data",
                    "data": {
                        "text/html": "(14 rows affected)"
                    },
                    "metadata": {}
                },
                {
                    "output_type": "display_data",
                    "data": {
                        "text/html": "Total execution time: 00:00:01.381"
                    },
                    "metadata": {}
                },
                {
                    "output_type": "execute_result",
                    "execution_count": 4,
                    "data": {
                        "application/vnd.dataresource+json": {
                            "schema": {
                                "fields": [
                                    {
                                        "name": "Id"
                                    },
                                    {
                                        "name": "SolutionId"
                                    },
                                    {
                                        "name": "LineId"
                                    }
                                ]
                            },
                            "data": [
                                {
                                    "0": "1",
                                    "1": "10",
                                    "2": "11668899"
                                },
                                {
                                    "0": "2",
                                    "1": "10",
                                    "2": "16689189"
                                },
                                {
                                    "0": "3",
                                    "1": "10",
                                    "2": "18698196"
                                },
                                {
                                    "0": "4",
                                    "1": "10",
                                    "2": "19618698"
                                },
                                {
                                    "0": "5",
                                    "1": "11",
                                    "2": "11668899"
                                },
                                {
                                    "0": "6",
                                    "1": "11",
                                    "2": "16698198"
                                },
                                {
                                    "0": "7",
                                    "1": "11",
                                    "2": "19688691"
                                },
                                {
                                    "0": "8",
                                    "1": "20",
                                    "2": "11668998"
                                },
                                {
                                    "0": "9",
                                    "1": "20",
                                    "2": "16698198"
                                },
                                {
                                    "0": "10",
                                    "1": "20",
                                    "2": "18698196"
                                },
                                {
                                    "0": "11",
                                    "1": "30",
                                    "2": "11688699"
                                },
                                {
                                    "0": "12",
                                    "1": "40",
                                    "2": "11689689"
                                },
                                {
                                    "0": "13",
                                    "1": "50",
                                    "2": "11698698"
                                },
                                {
                                    "0": "14",
                                    "1": "60",
                                    "2": "11698896"
                                }
                            ]
                        },
                        "text/html": "<table><tr><th>Id</th><th>SolutionId</th><th>LineId</th></tr><tr><td>1</td><td>10</td><td>11668899</td></tr><tr><td>2</td><td>10</td><td>16689189</td></tr><tr><td>3</td><td>10</td><td>18698196</td></tr><tr><td>4</td><td>10</td><td>19618698</td></tr><tr><td>5</td><td>11</td><td>11668899</td></tr><tr><td>6</td><td>11</td><td>16698198</td></tr><tr><td>7</td><td>11</td><td>19688691</td></tr><tr><td>8</td><td>20</td><td>11668998</td></tr><tr><td>9</td><td>20</td><td>16698198</td></tr><tr><td>10</td><td>20</td><td>18698196</td></tr><tr><td>11</td><td>30</td><td>11688699</td></tr><tr><td>12</td><td>40</td><td>11689689</td></tr><tr><td>13</td><td>50</td><td>11698698</td></tr><tr><td>14</td><td>60</td><td>11698896</td></tr></table>"
                    },
                    "metadata": {}
                }
            ],
            "execution_count": 4
        },
        {
            "cell_type": "code",
            "source": [
                "USE tempdb;\r\n",
                "GO\r\n",
                "\r\n",
                "DECLARE @target as INT = 19;\r\n",
                "DECLARE @listOfIDs TABLE (id int);\r\n",
                "INSERT @listOfIDs(id) VALUES (11);\r\n",
                "\r\n",
                "SELECT * FROM [dbo].[results]\r\n",
                "WHERE [Id] in (\r\n",
                "                SELECT [SolutionId] FROM [dbo].[results2]\r\n",
                "                WHERE [Column] = @target\r\n",
                "\t\t\t\tAND [SolutionId] NOT IN (\r\n",
                "                                        SELECT [SolutionId] FROM [dbo].[results2]\r\n",
                "                                        WHERE [Column] IN (SELECT * FROM @listOfIDs)\t\t\t\t\r\n",
                "\t\t\t\t                        )\r\n",
                "\t\t\t\t)\r\n",
                "ORDER BY [Id], [Column1], [Column2], [Column3], [Column4]"
            ],
            "metadata": {
                "language": "sql",
                "azdata_cell_guid": "9bfc4f13-67f1-4c60-bccd-75ae29f8af11"
            },
            "outputs": [
                {
                    "output_type": "display_data",
                    "data": {
                        "text/html": "Commands completed successfully."
                    },
                    "metadata": {}
                },
                {
                    "output_type": "display_data",
                    "data": {
                        "text/html": "(1 row affected)"
                    },
                    "metadata": {}
                },
                {
                    "output_type": "display_data",
                    "data": {
                        "text/html": "(7 rows affected)"
                    },
                    "metadata": {}
                },
                {
                    "output_type": "display_data",
                    "data": {
                        "text/html": "Total execution time: 00:00:01.073"
                    },
                    "metadata": {}
                },
                {
                    "output_type": "execute_result",
                    "execution_count": 23,
                    "data": {
                        "application/vnd.dataresource+json": {
                            "schema": {
                                "fields": [
                                    {
                                        "name": "Id"
                                    },
                                    {
                                        "name": "Column1"
                                    },
                                    {
                                        "name": "Column2"
                                    },
                                    {
                                        "name": "Column3"
                                    },
                                    {
                                        "name": "Column4"
                                    },
                                    {
                                        "name": "LineId"
                                    },
                                    {
                                        "name": "Solution"
                                    }
                                ]
                            },
                            "data": [
                                {
                                    "0": "23",
                                    "1": "19",
                                    "2": "61",
                                    "3": "86",
                                    "4": "98",
                                    "5": "19618698",
                                    "6": "NULL"
                                },
                                {
                                    "0": "24",
                                    "1": "19",
                                    "2": "61",
                                    "3": "88",
                                    "4": "96",
                                    "5": "19618896",
                                    "6": "NULL"
                                },
                                {
                                    "0": "25",
                                    "1": "19",
                                    "2": "66",
                                    "3": "81",
                                    "4": "98",
                                    "5": "19668198",
                                    "6": "NULL"
                                },
                                {
                                    "0": "26",
                                    "1": "19",
                                    "2": "66",
                                    "3": "88",
                                    "4": "91",
                                    "5": "19668891",
                                    "6": "NULL"
                                },
                                {
                                    "0": "27",
                                    "1": "19",
                                    "2": "68",
                                    "3": "81",
                                    "4": "96",
                                    "5": "19688196",
                                    "6": "NULL"
                                },
                                {
                                    "0": "28",
                                    "1": "19",
                                    "2": "68",
                                    "3": "86",
                                    "4": "91",
                                    "5": "19688691",
                                    "6": "NULL"
                                },
                                {
                                    "0": "29",
                                    "1": "19",
                                    "2": "68",
                                    "3": "88",
                                    "4": "89",
                                    "5": "19688889",
                                    "6": "NULL"
                                }
                            ]
                        },
                        "text/html": "<table><tr><th>Id</th><th>Column1</th><th>Column2</th><th>Column3</th><th>Column4</th><th>LineId</th><th>Solution</th></tr><tr><td>23</td><td>19</td><td>61</td><td>86</td><td>98</td><td>19618698</td><td>NULL</td></tr><tr><td>24</td><td>19</td><td>61</td><td>88</td><td>96</td><td>19618896</td><td>NULL</td></tr><tr><td>25</td><td>19</td><td>66</td><td>81</td><td>98</td><td>19668198</td><td>NULL</td></tr><tr><td>26</td><td>19</td><td>66</td><td>88</td><td>91</td><td>19668891</td><td>NULL</td></tr><tr><td>27</td><td>19</td><td>68</td><td>81</td><td>96</td><td>19688196</td><td>NULL</td></tr><tr><td>28</td><td>19</td><td>68</td><td>86</td><td>91</td><td>19688691</td><td>NULL</td></tr><tr><td>29</td><td>19</td><td>68</td><td>88</td><td>89</td><td>19688889</td><td>NULL</td></tr></table>"
                    },
                    "metadata": {}
                }
            ],
            "execution_count": 23
        },
        {
            "cell_type": "markdown",
            "source": [
                "Mark the horizontal solutions"
            ],
            "metadata": {
                "language": "sql",
                "azdata_cell_guid": "8c8ece1a-629c-4d3e-ae9c-3cd4800d063d"
            },
            "attachments": {}
        },
        {
            "cell_type": "code",
            "source": [
                "UPDATE [dbo].[results]\r\n",
                "SET [Solution]=1\r\n",
                "WHERE [Id] = 3\r\n",
                "\r\n",
                "UPDATE [dbo].[results]\r\n",
                "SET [Solution]=1\r\n",
                "WHERE [Id] = 26\r\n",
                "\r\n",
                "UPDATE [dbo].[results]\r\n",
                "SET [Solution]=1\r\n",
                "WHERE [Id] = 21\r\n",
                "\r\n",
                "UPDATE [dbo].[results]\r\n",
                "SET [Solution]=1\r\n",
                "WHERE [Id] = 27"
            ],
            "metadata": {
                "language": "sql",
                "azdata_cell_guid": "bec872bf-d981-469e-abed-cccc9446c126"
            },
            "outputs": [],
            "execution_count": null
        }
    ]
}