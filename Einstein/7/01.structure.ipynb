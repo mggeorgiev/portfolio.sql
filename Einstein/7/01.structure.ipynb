{
    "metadata": {
        "kernelspec": {
            "name": "SQL",
            "display_name": "SQL",
            "language": "sql"
        },
        "language_info": {
            "name": "sql",
            "version": ""
        }
    },
    "nbformat_minor": 2,
    "nbformat": 4,
    "cells": [
        {
            "cell_type": "markdown",
            "source": [
                "Description\n",
                "\n",
                "Create a new table called '\\[pieces\\]' in schema '\\[dbo\\]'. Drop the table if it already exists.\n",
                "\n",
                "Insert the data - set of numbers 'normal' and 'inverted', ordered ascending by 'normal'."
            ],
            "metadata": {
                "azdata_cell_guid": "9a9d21a8-f5c0-4dc9-bcb4-98b658278b18"
            },
            "attachments": {}
        },
        {
            "cell_type": "code",
            "source": [
                "USE TEMPDB;\r\n",
                "GO\r\n",
                "\r\n",
                "IF OBJECT_ID('[dbo].[pieces]', 'U') IS NOT NULL\r\n",
                "DROP TABLE [dbo].[pieces]\r\n",
                "GO\r\n",
                "\r\n",
                "CREATE TABLE [dbo].[pieces]\r\n",
                "(\r\n",
                "    [Piece] INT NOT NULL, -- Primary Key column\r\n",
                "    [Inverted] INT NOT NULL\r\n",
                ");\r\n",
                "GO\r\n",
                "\r\n",
                "INSERT INTO [dbo].[pieces] ([Piece], [Inverted]) VALUES\r\n",
                " (11,11)\r\n",
                ",(16,91)\r\n",
                ",(18,81)\r\n",
                ",(19,61)\r\n",
                ",(61,19)\r\n",
                ",(66,99)\r\n",
                ",(68,89)\r\n",
                ",(69,69)\r\n",
                ",(81,18)\r\n",
                ",(86,98)\r\n",
                ",(88,88)\r\n",
                ",(89,68)\r\n",
                ",(91,16)\r\n",
                ",(96,96)\r\n",
                ",(98,86)\r\n",
                ",(99,66)\r\n",
                ";\r\n",
                "GO"
            ],
            "metadata": {
                "azdata_cell_guid": "357699ea-530d-4a78-9ed4-6fac5b08c0af",
                "language": "sql",
                "tags": []
            },
            "outputs": [
                {
                    "output_type": "display_data",
                    "data": {
                        "text/html": "Commands completed successfully."
                    },
                    "metadata": {}
                },
                {
                    "output_type": "display_data",
                    "data": {
                        "text/html": "Commands completed successfully."
                    },
                    "metadata": {}
                },
                {
                    "output_type": "display_data",
                    "data": {
                        "text/html": "Commands completed successfully."
                    },
                    "metadata": {}
                },
                {
                    "output_type": "display_data",
                    "data": {
                        "text/html": "(16 rows affected)"
                    },
                    "metadata": {}
                },
                {
                    "output_type": "display_data",
                    "data": {
                        "text/html": "Total execution time: 00:00:00.273"
                    },
                    "metadata": {}
                }
            ],
            "execution_count": 1
        },
        {
            "cell_type": "markdown",
            "source": [
                "Show all the pieces."
            ],
            "metadata": {
                "language": "sql",
                "azdata_cell_guid": "428c18da-9333-44e7-8517-2a20c08fc4ef"
            },
            "attachments": {}
        },
        {
            "cell_type": "code",
            "source": [
                "USE TEMPDB;\r\n",
                "GO\r\n",
                "SELECT * FROM [dbo].[pieces]\r\n",
                "ORDER BY [Piece];\r\n",
                "GO"
            ],
            "metadata": {
                "language": "sql",
                "azdata_cell_guid": "fd0e5210-0977-4a87-9064-3305511d302a"
            },
            "outputs": [
                {
                    "output_type": "display_data",
                    "data": {
                        "text/html": "Commands completed successfully."
                    },
                    "metadata": {}
                },
                {
                    "output_type": "display_data",
                    "data": {
                        "text/html": "(16 rows affected)"
                    },
                    "metadata": {}
                },
                {
                    "output_type": "display_data",
                    "data": {
                        "text/html": "Total execution time: 00:00:00.212"
                    },
                    "metadata": {}
                },
                {
                    "output_type": "execute_result",
                    "execution_count": 2,
                    "data": {
                        "application/vnd.dataresource+json": {
                            "schema": {
                                "fields": [
                                    {
                                        "name": "Piece"
                                    },
                                    {
                                        "name": "Inverted"
                                    }
                                ]
                            },
                            "data": [
                                {
                                    "0": "11",
                                    "1": "11"
                                },
                                {
                                    "0": "16",
                                    "1": "91"
                                },
                                {
                                    "0": "18",
                                    "1": "81"
                                },
                                {
                                    "0": "19",
                                    "1": "61"
                                },
                                {
                                    "0": "61",
                                    "1": "19"
                                },
                                {
                                    "0": "66",
                                    "1": "99"
                                },
                                {
                                    "0": "68",
                                    "1": "89"
                                },
                                {
                                    "0": "69",
                                    "1": "69"
                                },
                                {
                                    "0": "81",
                                    "1": "18"
                                },
                                {
                                    "0": "86",
                                    "1": "98"
                                },
                                {
                                    "0": "88",
                                    "1": "88"
                                },
                                {
                                    "0": "89",
                                    "1": "68"
                                },
                                {
                                    "0": "91",
                                    "1": "16"
                                },
                                {
                                    "0": "96",
                                    "1": "96"
                                },
                                {
                                    "0": "98",
                                    "1": "86"
                                },
                                {
                                    "0": "99",
                                    "1": "66"
                                }
                            ]
                        },
                        "text/html": "<table><tr><th>Piece</th><th>Inverted</th></tr><tr><td>11</td><td>11</td></tr><tr><td>16</td><td>91</td></tr><tr><td>18</td><td>81</td></tr><tr><td>19</td><td>61</td></tr><tr><td>61</td><td>19</td></tr><tr><td>66</td><td>99</td></tr><tr><td>68</td><td>89</td></tr><tr><td>69</td><td>69</td></tr><tr><td>81</td><td>18</td></tr><tr><td>86</td><td>98</td></tr><tr><td>88</td><td>88</td></tr><tr><td>89</td><td>68</td></tr><tr><td>91</td><td>16</td></tr><tr><td>96</td><td>96</td></tr><tr><td>98</td><td>86</td></tr><tr><td>99</td><td>66</td></tr></table>"
                    },
                    "metadata": {}
                }
            ],
            "execution_count": 2
        },
        {
            "cell_type": "markdown",
            "source": [
                "Show the number of pieces and their count"
            ],
            "metadata": {
                "language": "sql",
                "azdata_cell_guid": "8194360e-d2ef-4b69-a8e4-f298bbd7a5db"
            },
            "attachments": {}
        },
        {
            "cell_type": "code",
            "source": [
                "USE TEMPDB;\r\n",
                "GO\r\n",
                "SELECT \r\n",
                "    [Piece]\r\n",
                "    ,COUNT(*) as \"count\"\r\n",
                "FROM [dbo].[pieces]\r\n",
                "GROUP BY [Piece]\r\n",
                "ORDER BY [Piece];\r\n",
                "GO"
            ],
            "metadata": {
                "language": "sql",
                "azdata_cell_guid": "27b606d7-f5f2-44ef-878d-c181f8354c5b"
            },
            "outputs": [
                {
                    "output_type": "display_data",
                    "data": {
                        "text/html": "Commands completed successfully."
                    },
                    "metadata": {}
                },
                {
                    "output_type": "display_data",
                    "data": {
                        "text/html": "(16 rows affected)"
                    },
                    "metadata": {}
                },
                {
                    "output_type": "display_data",
                    "data": {
                        "text/html": "Total execution time: 00:00:00.164"
                    },
                    "metadata": {}
                },
                {
                    "output_type": "execute_result",
                    "execution_count": 3,
                    "data": {
                        "application/vnd.dataresource+json": {
                            "schema": {
                                "fields": [
                                    {
                                        "name": "Piece"
                                    },
                                    {
                                        "name": "count"
                                    }
                                ]
                            },
                            "data": [
                                {
                                    "0": "11",
                                    "1": "1"
                                },
                                {
                                    "0": "16",
                                    "1": "1"
                                },
                                {
                                    "0": "18",
                                    "1": "1"
                                },
                                {
                                    "0": "19",
                                    "1": "1"
                                },
                                {
                                    "0": "61",
                                    "1": "1"
                                },
                                {
                                    "0": "66",
                                    "1": "1"
                                },
                                {
                                    "0": "68",
                                    "1": "1"
                                },
                                {
                                    "0": "69",
                                    "1": "1"
                                },
                                {
                                    "0": "81",
                                    "1": "1"
                                },
                                {
                                    "0": "86",
                                    "1": "1"
                                },
                                {
                                    "0": "88",
                                    "1": "1"
                                },
                                {
                                    "0": "89",
                                    "1": "1"
                                },
                                {
                                    "0": "91",
                                    "1": "1"
                                },
                                {
                                    "0": "96",
                                    "1": "1"
                                },
                                {
                                    "0": "98",
                                    "1": "1"
                                },
                                {
                                    "0": "99",
                                    "1": "1"
                                }
                            ]
                        },
                        "text/html": "<table><tr><th>Piece</th><th>count</th></tr><tr><td>11</td><td>1</td></tr><tr><td>16</td><td>1</td></tr><tr><td>18</td><td>1</td></tr><tr><td>19</td><td>1</td></tr><tr><td>61</td><td>1</td></tr><tr><td>66</td><td>1</td></tr><tr><td>68</td><td>1</td></tr><tr><td>69</td><td>1</td></tr><tr><td>81</td><td>1</td></tr><tr><td>86</td><td>1</td></tr><tr><td>88</td><td>1</td></tr><tr><td>89</td><td>1</td></tr><tr><td>91</td><td>1</td></tr><tr><td>96</td><td>1</td></tr><tr><td>98</td><td>1</td></tr><tr><td>99</td><td>1</td></tr></table>"
                    },
                    "metadata": {}
                }
            ],
            "execution_count": 3
        },
        {
            "cell_type": "markdown",
            "source": [
                "Create a table to store the combinations that sum to 264"
            ],
            "metadata": {
                "language": "sql",
                "azdata_cell_guid": "9d3eba37-3c45-497e-89cf-c590ed315563"
            },
            "attachments": {}
        },
        {
            "cell_type": "code",
            "source": [
                "USE TEMPDB;\r\n",
                "GO\r\n",
                "\r\n",
                "IF OBJECT_ID('[dbo].[results]', 'U') IS NOT NULL\r\n",
                "DROP TABLE [dbo].[results]\r\n",
                "GO\r\n",
                "\r\n",
                "CREATE TABLE [dbo].[results]\r\n",
                "(\r\n",
                "    [Id] INT NOT NULL IDENTITY(1,1), -- Primary Key column\r\n",
                "    [Column1] INT NOT NULL,\r\n",
                "    [Column2] INT NOT NULL,\r\n",
                "    [Column3] INT NOT NULL,\r\n",
                "    [Column4] INT NOT NULL,\r\n",
                "    [LineId] INT\r\n",
                ");\r\n",
                "GO"
            ],
            "metadata": {
                "language": "sql",
                "azdata_cell_guid": "88a3912b-c3db-4e4c-96c7-43622639b319"
            },
            "outputs": [
                {
                    "output_type": "display_data",
                    "data": {
                        "text/html": "Commands completed successfully."
                    },
                    "metadata": {}
                },
                {
                    "output_type": "display_data",
                    "data": {
                        "text/html": "Commands completed successfully."
                    },
                    "metadata": {}
                },
                {
                    "output_type": "display_data",
                    "data": {
                        "text/html": "Commands completed successfully."
                    },
                    "metadata": {}
                },
                {
                    "output_type": "display_data",
                    "data": {
                        "text/html": "Total execution time: 00:00:00.249"
                    },
                    "metadata": {}
                }
            ],
            "execution_count": 4
        },
        {
            "cell_type": "code",
            "source": [
                "-- Get a list of tables and views in the current database\r\n",
                "SELECT table_catalog [database], table_schema [schema], table_name [name], table_type [type]\r\n",
                "FROM INFORMATION_SCHEMA.TABLES\r\n",
                "GO"
            ],
            "metadata": {
                "azdata_cell_guid": "cc17da83-61f3-408d-a42a-279436d73879",
                "language": "sql",
                "tags": []
            },
            "outputs": [
                {
                    "output_type": "display_data",
                    "data": {
                        "text/html": "(3 rows affected)"
                    },
                    "metadata": {}
                },
                {
                    "output_type": "display_data",
                    "data": {
                        "text/html": "Total execution time: 00:00:00.725"
                    },
                    "metadata": {}
                },
                {
                    "output_type": "execute_result",
                    "execution_count": 5,
                    "data": {
                        "application/vnd.dataresource+json": {
                            "schema": {
                                "fields": [
                                    {
                                        "name": "database"
                                    },
                                    {
                                        "name": "schema"
                                    },
                                    {
                                        "name": "name"
                                    },
                                    {
                                        "name": "type"
                                    }
                                ]
                            },
                            "data": [
                                {
                                    "0": "tempdb",
                                    "1": "dbo",
                                    "2": "#SVer_______________________________________________________________________________________________________________00000001DFFC",
                                    "3": "BASE TABLE"
                                },
                                {
                                    "0": "tempdb",
                                    "1": "dbo",
                                    "2": "pieces",
                                    "3": "BASE TABLE"
                                },
                                {
                                    "0": "tempdb",
                                    "1": "dbo",
                                    "2": "results",
                                    "3": "BASE TABLE"
                                }
                            ]
                        },
                        "text/html": "<table><tr><th>database</th><th>schema</th><th>name</th><th>type</th></tr><tr><td>tempdb</td><td>dbo</td><td>#SVer_______________________________________________________________________________________________________________00000001DFFC</td><td>BASE TABLE</td></tr><tr><td>tempdb</td><td>dbo</td><td>pieces</td><td>BASE TABLE</td></tr><tr><td>tempdb</td><td>dbo</td><td>results</td><td>BASE TABLE</td></tr></table>"
                    },
                    "metadata": {}
                }
            ],
            "execution_count": 5
        },
        {
            "cell_type": "markdown",
            "source": [
                "Cleaup"
            ],
            "metadata": {
                "language": "sql",
                "azdata_cell_guid": "cdbdefef-9c51-4804-9a2b-efc7b19e5e5c"
            },
            "attachments": {}
        },
        {
            "cell_type": "markdown",
            "source": [
                "IF EXISTS (SELECT \\* FROM sys.objects WHERE object\\_id = OBJECT\\_ID(N'\\[dbo\\].\\[results\\]') AND type in (N'U')) DROP TABLE \\[dbo\\].\\[results\\] GO\n",
                "\n",
                "IF EXISTS (SELECT \\* FROM sys.objects WHERE object\\_id = OBJECT\\_ID(N'\\[dbo\\].\\[pieces\\]') AND type in (N'U')) DROP TABLE \\[dbo\\].\\[pieces\\] GO\n",
                "\n",
                "IF EXISTS (SELECT \\* FROM sys.objects WHERE object\\_id = OBJECT\\_ID(N'\\[dbo\\].\\[sets\\]') AND type in (N'U')) DROP TABLE \\[dbo\\].\\[sets\\] GO\n",
                "\n",
                "IF EXISTS (SELECT \\* FROM sys.objects WHERE object\\_id = OBJECT\\_ID(N'\\[dbo\\].\\[lines\\]') AND type in (N'U')) DROP TABLE \\[dbo\\].\\[lines\\] GO\n",
                "\n",
                "IF EXISTS (SELECT \\* FROM sys.objects WHERE object\\_id = OBJECT\\_ID(N'\\[dbo\\].\\[log\\]') AND type in (N'U')) DROP TABLE \\[dbo\\].\\[log\\] GO"
            ],
            "metadata": {
                "language": "",
                "azdata_cell_guid": "3f709690-d6d6-4eb2-8ef8-1d31f1cca6c3",
                "tags": []
            },
            "attachments": {}
        }
    ]
}