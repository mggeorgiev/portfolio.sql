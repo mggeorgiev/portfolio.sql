{
    "metadata": {
        "kernelspec": {
            "name": "SQL",
            "display_name": "SQL",
            "language": "sql"
        },
        "language_info": {
            "name": "sql",
            "version": ""
        }
    },
    "nbformat_minor": 2,
    "nbformat": 4,
    "cells": [
        {
            "cell_type": "markdown",
            "source": [
                "To find all the combinations we use self cross joins.\n",
                "\n",
                "Adding <span style=\"font-family: Consolas, &quot;Courier New&quot;, monospace; font-size: 12px; white-space: pre; color: rgb(0, 0, 255);\">AND</span> <span style=\"color: rgb(33, 33, 33); font-family: Consolas, &quot;Courier New&quot;, monospace; font-size: 12px; white-space: pre;\">p1.[Piece] </span> <span style=\"font-family: Consolas, &quot;Courier New&quot;, monospace; font-size: 12px; white-space: pre; color: rgb(0, 0, 0);\">+</span> <span style=\"color: rgb(33, 33, 33); font-family: Consolas, &quot;Courier New&quot;, monospace; font-size: 12px; white-space: pre;\">p2.[Piece] </span> <span style=\"font-family: Consolas, &quot;Courier New&quot;, monospace; font-size: 12px; white-space: pre; color: rgb(0, 0, 0);\">+</span> <span style=\"color: rgb(33, 33, 33); font-family: Consolas, &quot;Courier New&quot;, monospace; font-size: 12px; white-space: pre;\">p3.[Piece] </span> <span style=\"font-family: Consolas, &quot;Courier New&quot;, monospace; font-size: 12px; white-space: pre; color: rgb(0, 0, 0);\">+</span> <span style=\"color: rgb(33, 33, 33); font-family: Consolas, &quot;Courier New&quot;, monospace; font-size: 12px; white-space: pre;\">p4.[Piece] </span> <span style=\"font-family: Consolas, &quot;Courier New&quot;, monospace; font-size: 12px; white-space: pre; color: rgb(0, 0, 0);\">=</span> <span style=\"font-family: Consolas, &quot;Courier New&quot;, monospace; font-size: 12px; white-space: pre; color: rgb(9, 136, 90);\">264 </span> will filter only the combinations that sum to 264."
            ],
            "metadata": {
                "language": "sql",
                "azdata_cell_guid": "2b7b11c6-c242-4020-a542-df87b40ec28c"
            },
            "attachments": {}
        },
        {
            "cell_type": "code",
            "source": [
                "USE TEMPDB;\r\n",
                "GO\r\n",
                "\r\n",
                "SElECT \r\n",
                "     p1.[Piece]\r\n",
                "    ,p2.[Piece]\r\n",
                "    ,p3.[Piece]\r\n",
                "    ,p4.[Piece]\r\n",
                "    ,p1.[Piece] + p2.[Piece] + p3.[Piece] + p4.[Piece] AS \"SUM\"\r\n",
                "FROM [dbo].[pieces] as p1\r\n",
                "CROSS JOIN [dbo].[pieces] as p2\r\n",
                "CROSS JOIN [dbo].[pieces] as p3\r\n",
                "CROSS JOIN [dbo].[pieces] as p4\r\n",
                "    WHERE p2.Piece > p1.Piece\r\n",
                "      AND p3.Piece > p2.Piece\r\n",
                "      AND p4.Piece > p3.Piece\r\n",
                "      AND p1.[Piece] + p2.[Piece] + p3.[Piece] + p4.[Piece] = 264\r\n",
                "    ORDER BY p1.[Piece], p2.[Piece], p3.[Piece], p4.[Piece];\r\n",
                "GO"
            ],
            "metadata": {
                "language": "sql",
                "azdata_cell_guid": "232dea60-2bec-403e-8771-bd824357d1e0"
            },
            "outputs": [
                {
                    "output_type": "display_data",
                    "data": {
                        "text/html": "Commands completed successfully."
                    },
                    "metadata": {}
                },
                {
                    "output_type": "display_data",
                    "data": {
                        "text/html": "(30 rows affected)"
                    },
                    "metadata": {}
                },
                {
                    "output_type": "display_data",
                    "data": {
                        "text/html": "Total execution time: 00:00:00.340"
                    },
                    "metadata": {}
                },
                {
                    "output_type": "execute_result",
                    "execution_count": 1,
                    "data": {
                        "application/vnd.dataresource+json": {
                            "schema": {
                                "fields": [
                                    {
                                        "name": "Piece"
                                    },
                                    {
                                        "name": "Piece"
                                    },
                                    {
                                        "name": "Piece"
                                    },
                                    {
                                        "name": "Piece"
                                    },
                                    {
                                        "name": "SUM"
                                    }
                                ]
                            },
                            "data": [
                                {
                                    "0": "11",
                                    "1": "66",
                                    "2": "88",
                                    "3": "99",
                                    "4": "264"
                                },
                                {
                                    "0": "11",
                                    "1": "66",
                                    "2": "89",
                                    "3": "98",
                                    "4": "264"
                                },
                                {
                                    "0": "11",
                                    "1": "66",
                                    "2": "91",
                                    "3": "96",
                                    "4": "264"
                                },
                                {
                                    "0": "11",
                                    "1": "68",
                                    "2": "86",
                                    "3": "99",
                                    "4": "264"
                                },
                                {
                                    "0": "11",
                                    "1": "68",
                                    "2": "89",
                                    "3": "96",
                                    "4": "264"
                                },
                                {
                                    "0": "11",
                                    "1": "69",
                                    "2": "86",
                                    "3": "98",
                                    "4": "264"
                                },
                                {
                                    "0": "11",
                                    "1": "69",
                                    "2": "88",
                                    "3": "96",
                                    "4": "264"
                                },
                                {
                                    "0": "16",
                                    "1": "61",
                                    "2": "88",
                                    "3": "99",
                                    "4": "264"
                                },
                                {
                                    "0": "16",
                                    "1": "61",
                                    "2": "89",
                                    "3": "98",
                                    "4": "264"
                                },
                                {
                                    "0": "16",
                                    "1": "61",
                                    "2": "91",
                                    "3": "96",
                                    "4": "264"
                                },
                                {
                                    "0": "16",
                                    "1": "66",
                                    "2": "86",
                                    "3": "96",
                                    "4": "264"
                                },
                                {
                                    "0": "16",
                                    "1": "68",
                                    "2": "81",
                                    "3": "99",
                                    "4": "264"
                                },
                                {
                                    "0": "16",
                                    "1": "68",
                                    "2": "89",
                                    "3": "91",
                                    "4": "264"
                                },
                                {
                                    "0": "16",
                                    "1": "69",
                                    "2": "81",
                                    "3": "98",
                                    "4": "264"
                                },
                                {
                                    "0": "16",
                                    "1": "69",
                                    "2": "88",
                                    "3": "91",
                                    "4": "264"
                                },
                                {
                                    "0": "18",
                                    "1": "61",
                                    "2": "86",
                                    "3": "99",
                                    "4": "264"
                                },
                                {
                                    "0": "18",
                                    "1": "61",
                                    "2": "89",
                                    "3": "96",
                                    "4": "264"
                                },
                                {
                                    "0": "18",
                                    "1": "66",
                                    "2": "81",
                                    "3": "99",
                                    "4": "264"
                                },
                                {
                                    "0": "18",
                                    "1": "66",
                                    "2": "89",
                                    "3": "91",
                                    "4": "264"
                                },
                                {
                                    "0": "18",
                                    "1": "69",
                                    "2": "81",
                                    "3": "96",
                                    "4": "264"
                                },
                                {
                                    "0": "18",
                                    "1": "69",
                                    "2": "86",
                                    "3": "91",
                                    "4": "264"
                                },
                                {
                                    "0": "18",
                                    "1": "69",
                                    "2": "88",
                                    "3": "89",
                                    "4": "264"
                                },
                                {
                                    "0": "19",
                                    "1": "61",
                                    "2": "86",
                                    "3": "98",
                                    "4": "264"
                                },
                                {
                                    "0": "19",
                                    "1": "61",
                                    "2": "88",
                                    "3": "96",
                                    "4": "264"
                                },
                                {
                                    "0": "19",
                                    "1": "66",
                                    "2": "81",
                                    "3": "98",
                                    "4": "264"
                                },
                                {
                                    "0": "19",
                                    "1": "66",
                                    "2": "88",
                                    "3": "91",
                                    "4": "264"
                                },
                                {
                                    "0": "19",
                                    "1": "68",
                                    "2": "81",
                                    "3": "96",
                                    "4": "264"
                                },
                                {
                                    "0": "19",
                                    "1": "68",
                                    "2": "86",
                                    "3": "91",
                                    "4": "264"
                                },
                                {
                                    "0": "19",
                                    "1": "68",
                                    "2": "88",
                                    "3": "89",
                                    "4": "264"
                                },
                                {
                                    "0": "61",
                                    "1": "66",
                                    "2": "68",
                                    "3": "69",
                                    "4": "264"
                                }
                            ]
                        },
                        "text/html": "<table><tr><th>Piece</th><th>Piece</th><th>Piece</th><th>Piece</th><th>SUM</th></tr><tr><td>11</td><td>66</td><td>88</td><td>99</td><td>264</td></tr><tr><td>11</td><td>66</td><td>89</td><td>98</td><td>264</td></tr><tr><td>11</td><td>66</td><td>91</td><td>96</td><td>264</td></tr><tr><td>11</td><td>68</td><td>86</td><td>99</td><td>264</td></tr><tr><td>11</td><td>68</td><td>89</td><td>96</td><td>264</td></tr><tr><td>11</td><td>69</td><td>86</td><td>98</td><td>264</td></tr><tr><td>11</td><td>69</td><td>88</td><td>96</td><td>264</td></tr><tr><td>16</td><td>61</td><td>88</td><td>99</td><td>264</td></tr><tr><td>16</td><td>61</td><td>89</td><td>98</td><td>264</td></tr><tr><td>16</td><td>61</td><td>91</td><td>96</td><td>264</td></tr><tr><td>16</td><td>66</td><td>86</td><td>96</td><td>264</td></tr><tr><td>16</td><td>68</td><td>81</td><td>99</td><td>264</td></tr><tr><td>16</td><td>68</td><td>89</td><td>91</td><td>264</td></tr><tr><td>16</td><td>69</td><td>81</td><td>98</td><td>264</td></tr><tr><td>16</td><td>69</td><td>88</td><td>91</td><td>264</td></tr><tr><td>18</td><td>61</td><td>86</td><td>99</td><td>264</td></tr><tr><td>18</td><td>61</td><td>89</td><td>96</td><td>264</td></tr><tr><td>18</td><td>66</td><td>81</td><td>99</td><td>264</td></tr><tr><td>18</td><td>66</td><td>89</td><td>91</td><td>264</td></tr><tr><td>18</td><td>69</td><td>81</td><td>96</td><td>264</td></tr><tr><td>18</td><td>69</td><td>86</td><td>91</td><td>264</td></tr><tr><td>18</td><td>69</td><td>88</td><td>89</td><td>264</td></tr><tr><td>19</td><td>61</td><td>86</td><td>98</td><td>264</td></tr><tr><td>19</td><td>61</td><td>88</td><td>96</td><td>264</td></tr><tr><td>19</td><td>66</td><td>81</td><td>98</td><td>264</td></tr><tr><td>19</td><td>66</td><td>88</td><td>91</td><td>264</td></tr><tr><td>19</td><td>68</td><td>81</td><td>96</td><td>264</td></tr><tr><td>19</td><td>68</td><td>86</td><td>91</td><td>264</td></tr><tr><td>19</td><td>68</td><td>88</td><td>89</td><td>264</td></tr><tr><td>61</td><td>66</td><td>68</td><td>69</td><td>264</td></tr></table>"
                    },
                    "metadata": {}
                }
            ],
            "execution_count": 1
        },
        {
            "cell_type": "markdown",
            "source": [
                "Create a table to store the combinations that sum to 264"
            ],
            "metadata": {
                "language": "sql",
                "azdata_cell_guid": "9d3eba37-3c45-497e-89cf-c590ed315563"
            },
            "attachments": {}
        },
        {
            "cell_type": "code",
            "source": [
                "USE TEMPDB;\r\n",
                "GO\r\n",
                "\r\n",
                "IF OBJECT_ID('[dbo].[results]', 'U') IS NOT NULL\r\n",
                "DROP TABLE [dbo].[results]\r\n",
                "GO\r\n",
                "\r\n",
                "CREATE TABLE [dbo].[results]\r\n",
                "(\r\n",
                "    [Id] INT NOT NULL IDENTITY(1,1), -- Primary Key column\r\n",
                "    [Column1] INT NOT NULL,\r\n",
                "    [Column2] INT NOT NULL,\r\n",
                "    [Column3] INT NOT NULL,\r\n",
                "    [Column4] INT NOT NULL,\r\n",
                "    [LineId] INT,\r\n",
                "    [Solution] BIT\r\n",
                ");\r\n",
                "GO"
            ],
            "metadata": {
                "language": "sql",
                "azdata_cell_guid": "88a3912b-c3db-4e4c-96c7-43622639b319"
            },
            "outputs": [
                {
                    "output_type": "display_data",
                    "data": {
                        "text/html": "Commands completed successfully."
                    },
                    "metadata": {}
                },
                {
                    "output_type": "display_data",
                    "data": {
                        "text/html": "Commands completed successfully."
                    },
                    "metadata": {}
                },
                {
                    "output_type": "display_data",
                    "data": {
                        "text/html": "Commands completed successfully."
                    },
                    "metadata": {}
                },
                {
                    "output_type": "display_data",
                    "data": {
                        "text/html": "Total execution time: 00:00:00.249"
                    },
                    "metadata": {}
                }
            ],
            "execution_count": 2
        },
        {
            "cell_type": "markdown",
            "source": [
                "Insert the solutions into the results table.\n",
                "\n",
                "Lineid - a unique composite primary key is generated by summing pieces in a line. First piece is multiplied by <span style=\"--z-index-notebook-progress-bar: 5; --z-index-notebook-list-insertion-indicator: 10; --z-index-notebook-cell-editor-outline: 20; --z-index-notebook-scrollbar: 25; --z-index-notebook-cell-status: 26; --z-index-notebook-cell-drag-handle: 26; --z-index-notebook-folding-indicator: 26; --z-index-notebook-output: 27; --z-index-notebook-cell-bottom-toolbar-container: 28; --z-index-notebook-run-button-container: 29; --z-index-notebook-input-collapse-condicon: 29; --z-index-notebook-cell-output-toolbar: 30; --z-index-notebook-cell-toolbar: 36; color: rgb(9, 136, 90); font-family: Consolas, &quot;Courier New&quot;, monospace; font-size: 12px; white-space: pre;\">1000000 </span> to move the number at the first and second indexes. Second is multiplied by <span style=\"--z-index-notebook-progress-bar: 5; --z-index-notebook-list-insertion-indicator: 10; --z-index-notebook-cell-editor-outline: 20; --z-index-notebook-scrollbar: 25; --z-index-notebook-cell-status: 26; --z-index-notebook-cell-drag-handle: 26; --z-index-notebook-folding-indicator: 26; --z-index-notebook-output: 27; --z-index-notebook-cell-bottom-toolbar-container: 28; --z-index-notebook-run-button-container: 29; --z-index-notebook-input-collapse-condicon: 29; --z-index-notebook-cell-output-toolbar: 30; --z-index-notebook-cell-toolbar: 36; color: rgb(9, 136, 90); font-family: Consolas, &quot;Courier New&quot;, monospace; font-size: 12px; white-space: pre;\">10000</span> and third by <span style=\"--z-index-notebook-progress-bar: 5; --z-index-notebook-list-insertion-indicator: 10; --z-index-notebook-cell-editor-outline: 20; --z-index-notebook-scrollbar: 25; --z-index-notebook-cell-status: 26; --z-index-notebook-cell-drag-handle: 26; --z-index-notebook-folding-indicator: 26; --z-index-notebook-output: 27; --z-index-notebook-cell-bottom-toolbar-container: 28; --z-index-notebook-run-button-container: 29; --z-index-notebook-input-collapse-condicon: 29; --z-index-notebook-cell-output-toolbar: 30; --z-index-notebook-cell-toolbar: 36; color: rgb(9, 136, 90); font-family: Consolas, &quot;Courier New&quot;, monospace; font-size: 12px; white-space: pre;\">100.</span>"
            ],
            "metadata": {
                "language": "sql",
                "azdata_cell_guid": "8b5f070f-d4c0-40a1-990b-34dfd706c572"
            },
            "attachments": {}
        },
        {
            "cell_type": "code",
            "source": [
                "USE TEMPDB;\r\n",
                "GO\r\n",
                "\r\n",
                "INSERT INTO [dbo].[results] ([Column1],[Column2],[Column3],[Column4], [Lineid])\r\n",
                "SElECT \r\n",
                "     p1.[Piece]\r\n",
                "    ,p2.[Piece]\r\n",
                "    ,p3.[Piece]\r\n",
                "    ,p4.[Piece]\r\n",
                "    ,p1.[Piece]*1000000 + p2.[Piece]*10000 + p3.[Piece]* 100 + p4.[Piece] AS LineId\r\n",
                "FROM [dbo].[pieces] as p1\r\n",
                "CROSS JOIN [dbo].[pieces] as p2\r\n",
                "CROSS JOIN [dbo].[pieces] as p3\r\n",
                "CROSS JOIN [dbo].[pieces] as p4\r\n",
                "    WHERE p2.Piece > p1.Piece\r\n",
                "      AND p3.Piece > p2.Piece\r\n",
                "      AND p4.Piece > p3.Piece\r\n",
                "      AND p1.[Piece] + p2.[Piece] + p3.[Piece] + p4.[Piece] = 264\r\n",
                "    ORDER BY p1.[Piece], p2.[Piece], p3.[Piece], p4.[Piece];\r\n",
                "GO"
            ],
            "metadata": {
                "language": "sql",
                "azdata_cell_guid": "19a83e6d-1190-4298-8880-96ee18f15019"
            },
            "outputs": [
                {
                    "output_type": "display_data",
                    "data": {
                        "text/html": "Commands completed successfully."
                    },
                    "metadata": {}
                },
                {
                    "output_type": "display_data",
                    "data": {
                        "text/html": "(30 rows affected)"
                    },
                    "metadata": {}
                },
                {
                    "output_type": "display_data",
                    "data": {
                        "text/html": "Total execution time: 00:00:00.488"
                    },
                    "metadata": {}
                }
            ],
            "execution_count": 3
        },
        {
            "cell_type": "markdown",
            "source": [
                "Create a table holding the combinations which sum is 264.\n",
                "\n",
                "The table is in the format Solution ID, Piece."
            ],
            "metadata": {
                "azdata_cell_guid": "a89be943-a4fa-4bad-9c51-fd0025a2f0b2"
            },
            "attachments": {}
        },
        {
            "cell_type": "code",
            "source": [
                "IF OBJECT_ID('[dbo].[lines]', 'U') IS NOT NULL\r\n",
                "DROP TABLE [dbo].[lines]\r\n",
                "GO\r\n",
                "\r\n",
                "CREATE TABLE [dbo].[lines]\r\n",
                "(\r\n",
                "    [Id] INT NOT NULL, -- Primary Key column\r\n",
                "    [Piece] INT NOT NULL\r\n",
                ");\r\n",
                "GO\r\n",
                "\r\n",
                "INSERT INTO [dbo].[lines] ([Id], [Piece])\r\n",
                "SELECT \r\n",
                "     [Column1]*1000000 + [Column2] * 10000 + [Column3] * 100 + [Column4] AS ID\r\n",
                "    ,[Column1]\r\n",
                "FROM [dbo].[results]\r\n",
                "GO\r\n",
                "\r\n",
                "INSERT INTO [dbo].[lines] ([Id], [Piece])\r\n",
                "SELECT \r\n",
                "     [Column1]*1000000 + [Column2] * 10000 + [Column3] * 100 + [Column4] AS ID\r\n",
                "    ,[Column2]\r\n",
                "FROM [dbo].[results]\r\n",
                "GO\r\n",
                "\r\n",
                "INSERT INTO [dbo].[lines] ([Id], [Piece])\r\n",
                "SELECT \r\n",
                "     [Column1]*1000000 + [Column2] * 10000 + [Column3] * 100 + [Column4] AS ID\r\n",
                "    ,[Column3]\r\n",
                "FROM [dbo].[results]\r\n",
                "GO\r\n",
                "\r\n",
                "INSERT INTO [dbo].[lines] ([Id], [Piece])\r\n",
                "SELECT \r\n",
                "     [Column1]*1000000 + [Column2] * 10000 + [Column3] * 100 + [Column4] AS ID\r\n",
                "    ,[Column4]\r\n",
                "FROM [dbo].[results]\r\n",
                "GO\r\n",
                "\r\n",
                "select * from [dbo].[lines]"
            ],
            "metadata": {
                "azdata_cell_guid": "98cfd90b-4902-4fc5-95f0-81269dd777cb",
                "language": "sql",
                "tags": []
            },
            "outputs": [
                {
                    "output_type": "display_data",
                    "data": {
                        "text/html": "Commands completed successfully."
                    },
                    "metadata": {}
                },
                {
                    "output_type": "display_data",
                    "data": {
                        "text/html": "Commands completed successfully."
                    },
                    "metadata": {}
                },
                {
                    "output_type": "display_data",
                    "data": {
                        "text/html": "(30 rows affected)"
                    },
                    "metadata": {}
                },
                {
                    "output_type": "display_data",
                    "data": {
                        "text/html": "(30 rows affected)"
                    },
                    "metadata": {}
                },
                {
                    "output_type": "display_data",
                    "data": {
                        "text/html": "(30 rows affected)"
                    },
                    "metadata": {}
                },
                {
                    "output_type": "display_data",
                    "data": {
                        "text/html": "(30 rows affected)"
                    },
                    "metadata": {}
                },
                {
                    "output_type": "display_data",
                    "data": {
                        "text/html": "(120 rows affected)"
                    },
                    "metadata": {}
                },
                {
                    "output_type": "display_data",
                    "data": {
                        "text/html": "Total execution time: 00:00:00.648"
                    },
                    "metadata": {}
                },
                {
                    "output_type": "execute_result",
                    "execution_count": 4,
                    "data": {
                        "application/vnd.dataresource+json": {
                            "schema": {
                                "fields": [
                                    {
                                        "name": "Id"
                                    },
                                    {
                                        "name": "Piece"
                                    }
                                ]
                            },
                            "data": [
                                {
                                    "0": "11668899",
                                    "1": "11"
                                },
                                {
                                    "0": "11668998",
                                    "1": "11"
                                },
                                {
                                    "0": "11669196",
                                    "1": "11"
                                },
                                {
                                    "0": "11688699",
                                    "1": "11"
                                },
                                {
                                    "0": "11688996",
                                    "1": "11"
                                },
                                {
                                    "0": "11698698",
                                    "1": "11"
                                },
                                {
                                    "0": "11698896",
                                    "1": "11"
                                },
                                {
                                    "0": "16618899",
                                    "1": "16"
                                },
                                {
                                    "0": "16618998",
                                    "1": "16"
                                },
                                {
                                    "0": "16619196",
                                    "1": "16"
                                },
                                {
                                    "0": "16668696",
                                    "1": "16"
                                },
                                {
                                    "0": "16688199",
                                    "1": "16"
                                },
                                {
                                    "0": "16688991",
                                    "1": "16"
                                },
                                {
                                    "0": "16698198",
                                    "1": "16"
                                },
                                {
                                    "0": "16698891",
                                    "1": "16"
                                },
                                {
                                    "0": "18618699",
                                    "1": "18"
                                },
                                {
                                    "0": "18618996",
                                    "1": "18"
                                },
                                {
                                    "0": "18668199",
                                    "1": "18"
                                },
                                {
                                    "0": "18668991",
                                    "1": "18"
                                },
                                {
                                    "0": "18698196",
                                    "1": "18"
                                },
                                {
                                    "0": "18698691",
                                    "1": "18"
                                },
                                {
                                    "0": "18698889",
                                    "1": "18"
                                },
                                {
                                    "0": "19618698",
                                    "1": "19"
                                },
                                {
                                    "0": "19618896",
                                    "1": "19"
                                },
                                {
                                    "0": "19668198",
                                    "1": "19"
                                },
                                {
                                    "0": "19668891",
                                    "1": "19"
                                },
                                {
                                    "0": "19688196",
                                    "1": "19"
                                },
                                {
                                    "0": "19688691",
                                    "1": "19"
                                },
                                {
                                    "0": "19688889",
                                    "1": "19"
                                },
                                {
                                    "0": "61666869",
                                    "1": "61"
                                },
                                {
                                    "0": "11668899",
                                    "1": "66"
                                },
                                {
                                    "0": "11668998",
                                    "1": "66"
                                },
                                {
                                    "0": "11669196",
                                    "1": "66"
                                },
                                {
                                    "0": "11688699",
                                    "1": "68"
                                },
                                {
                                    "0": "11688996",
                                    "1": "68"
                                },
                                {
                                    "0": "11698698",
                                    "1": "69"
                                },
                                {
                                    "0": "11698896",
                                    "1": "69"
                                },
                                {
                                    "0": "16618899",
                                    "1": "61"
                                },
                                {
                                    "0": "16618998",
                                    "1": "61"
                                },
                                {
                                    "0": "16619196",
                                    "1": "61"
                                },
                                {
                                    "0": "16668696",
                                    "1": "66"
                                },
                                {
                                    "0": "16688199",
                                    "1": "68"
                                },
                                {
                                    "0": "16688991",
                                    "1": "68"
                                },
                                {
                                    "0": "16698198",
                                    "1": "69"
                                },
                                {
                                    "0": "16698891",
                                    "1": "69"
                                },
                                {
                                    "0": "18618699",
                                    "1": "61"
                                },
                                {
                                    "0": "18618996",
                                    "1": "61"
                                },
                                {
                                    "0": "18668199",
                                    "1": "66"
                                },
                                {
                                    "0": "18668991",
                                    "1": "66"
                                },
                                {
                                    "0": "18698196",
                                    "1": "69"
                                },
                                {
                                    "0": "18698691",
                                    "1": "69"
                                },
                                {
                                    "0": "18698889",
                                    "1": "69"
                                },
                                {
                                    "0": "19618698",
                                    "1": "61"
                                },
                                {
                                    "0": "19618896",
                                    "1": "61"
                                },
                                {
                                    "0": "19668198",
                                    "1": "66"
                                },
                                {
                                    "0": "19668891",
                                    "1": "66"
                                },
                                {
                                    "0": "19688196",
                                    "1": "68"
                                },
                                {
                                    "0": "19688691",
                                    "1": "68"
                                },
                                {
                                    "0": "19688889",
                                    "1": "68"
                                },
                                {
                                    "0": "61666869",
                                    "1": "66"
                                },
                                {
                                    "0": "11668899",
                                    "1": "88"
                                },
                                {
                                    "0": "11668998",
                                    "1": "89"
                                },
                                {
                                    "0": "11669196",
                                    "1": "91"
                                },
                                {
                                    "0": "11688699",
                                    "1": "86"
                                },
                                {
                                    "0": "11688996",
                                    "1": "89"
                                },
                                {
                                    "0": "11698698",
                                    "1": "86"
                                },
                                {
                                    "0": "11698896",
                                    "1": "88"
                                },
                                {
                                    "0": "16618899",
                                    "1": "88"
                                },
                                {
                                    "0": "16618998",
                                    "1": "89"
                                },
                                {
                                    "0": "16619196",
                                    "1": "91"
                                },
                                {
                                    "0": "16668696",
                                    "1": "86"
                                },
                                {
                                    "0": "16688199",
                                    "1": "81"
                                },
                                {
                                    "0": "16688991",
                                    "1": "89"
                                },
                                {
                                    "0": "16698198",
                                    "1": "81"
                                },
                                {
                                    "0": "16698891",
                                    "1": "88"
                                },
                                {
                                    "0": "18618699",
                                    "1": "86"
                                },
                                {
                                    "0": "18618996",
                                    "1": "89"
                                },
                                {
                                    "0": "18668199",
                                    "1": "81"
                                },
                                {
                                    "0": "18668991",
                                    "1": "89"
                                },
                                {
                                    "0": "18698196",
                                    "1": "81"
                                },
                                {
                                    "0": "18698691",
                                    "1": "86"
                                },
                                {
                                    "0": "18698889",
                                    "1": "88"
                                },
                                {
                                    "0": "19618698",
                                    "1": "86"
                                },
                                {
                                    "0": "19618896",
                                    "1": "88"
                                },
                                {
                                    "0": "19668198",
                                    "1": "81"
                                },
                                {
                                    "0": "19668891",
                                    "1": "88"
                                },
                                {
                                    "0": "19688196",
                                    "1": "81"
                                },
                                {
                                    "0": "19688691",
                                    "1": "86"
                                },
                                {
                                    "0": "19688889",
                                    "1": "88"
                                },
                                {
                                    "0": "61666869",
                                    "1": "68"
                                },
                                {
                                    "0": "11668899",
                                    "1": "99"
                                },
                                {
                                    "0": "11668998",
                                    "1": "98"
                                },
                                {
                                    "0": "11669196",
                                    "1": "96"
                                },
                                {
                                    "0": "11688699",
                                    "1": "99"
                                },
                                {
                                    "0": "11688996",
                                    "1": "96"
                                },
                                {
                                    "0": "11698698",
                                    "1": "98"
                                },
                                {
                                    "0": "11698896",
                                    "1": "96"
                                },
                                {
                                    "0": "16618899",
                                    "1": "99"
                                },
                                {
                                    "0": "16618998",
                                    "1": "98"
                                },
                                {
                                    "0": "16619196",
                                    "1": "96"
                                },
                                {
                                    "0": "16668696",
                                    "1": "96"
                                },
                                {
                                    "0": "16688199",
                                    "1": "99"
                                },
                                {
                                    "0": "16688991",
                                    "1": "91"
                                },
                                {
                                    "0": "16698198",
                                    "1": "98"
                                },
                                {
                                    "0": "16698891",
                                    "1": "91"
                                },
                                {
                                    "0": "18618699",
                                    "1": "99"
                                },
                                {
                                    "0": "18618996",
                                    "1": "96"
                                },
                                {
                                    "0": "18668199",
                                    "1": "99"
                                },
                                {
                                    "0": "18668991",
                                    "1": "91"
                                },
                                {
                                    "0": "18698196",
                                    "1": "96"
                                },
                                {
                                    "0": "18698691",
                                    "1": "91"
                                },
                                {
                                    "0": "18698889",
                                    "1": "89"
                                },
                                {
                                    "0": "19618698",
                                    "1": "98"
                                },
                                {
                                    "0": "19618896",
                                    "1": "96"
                                },
                                {
                                    "0": "19668198",
                                    "1": "98"
                                },
                                {
                                    "0": "19668891",
                                    "1": "91"
                                },
                                {
                                    "0": "19688196",
                                    "1": "96"
                                },
                                {
                                    "0": "19688691",
                                    "1": "91"
                                },
                                {
                                    "0": "19688889",
                                    "1": "89"
                                },
                                {
                                    "0": "61666869",
                                    "1": "69"
                                }
                            ]
                        },
                        "text/html": "<table><tr><th>Id</th><th>Piece</th></tr><tr><td>11668899</td><td>11</td></tr><tr><td>11668998</td><td>11</td></tr><tr><td>11669196</td><td>11</td></tr><tr><td>11688699</td><td>11</td></tr><tr><td>11688996</td><td>11</td></tr><tr><td>11698698</td><td>11</td></tr><tr><td>11698896</td><td>11</td></tr><tr><td>16618899</td><td>16</td></tr><tr><td>16618998</td><td>16</td></tr><tr><td>16619196</td><td>16</td></tr><tr><td>16668696</td><td>16</td></tr><tr><td>16688199</td><td>16</td></tr><tr><td>16688991</td><td>16</td></tr><tr><td>16698198</td><td>16</td></tr><tr><td>16698891</td><td>16</td></tr><tr><td>18618699</td><td>18</td></tr><tr><td>18618996</td><td>18</td></tr><tr><td>18668199</td><td>18</td></tr><tr><td>18668991</td><td>18</td></tr><tr><td>18698196</td><td>18</td></tr><tr><td>18698691</td><td>18</td></tr><tr><td>18698889</td><td>18</td></tr><tr><td>19618698</td><td>19</td></tr><tr><td>19618896</td><td>19</td></tr><tr><td>19668198</td><td>19</td></tr><tr><td>19668891</td><td>19</td></tr><tr><td>19688196</td><td>19</td></tr><tr><td>19688691</td><td>19</td></tr><tr><td>19688889</td><td>19</td></tr><tr><td>61666869</td><td>61</td></tr><tr><td>11668899</td><td>66</td></tr><tr><td>11668998</td><td>66</td></tr><tr><td>11669196</td><td>66</td></tr><tr><td>11688699</td><td>68</td></tr><tr><td>11688996</td><td>68</td></tr><tr><td>11698698</td><td>69</td></tr><tr><td>11698896</td><td>69</td></tr><tr><td>16618899</td><td>61</td></tr><tr><td>16618998</td><td>61</td></tr><tr><td>16619196</td><td>61</td></tr><tr><td>16668696</td><td>66</td></tr><tr><td>16688199</td><td>68</td></tr><tr><td>16688991</td><td>68</td></tr><tr><td>16698198</td><td>69</td></tr><tr><td>16698891</td><td>69</td></tr><tr><td>18618699</td><td>61</td></tr><tr><td>18618996</td><td>61</td></tr><tr><td>18668199</td><td>66</td></tr><tr><td>18668991</td><td>66</td></tr><tr><td>18698196</td><td>69</td></tr><tr><td>18698691</td><td>69</td></tr><tr><td>18698889</td><td>69</td></tr><tr><td>19618698</td><td>61</td></tr><tr><td>19618896</td><td>61</td></tr><tr><td>19668198</td><td>66</td></tr><tr><td>19668891</td><td>66</td></tr><tr><td>19688196</td><td>68</td></tr><tr><td>19688691</td><td>68</td></tr><tr><td>19688889</td><td>68</td></tr><tr><td>61666869</td><td>66</td></tr><tr><td>11668899</td><td>88</td></tr><tr><td>11668998</td><td>89</td></tr><tr><td>11669196</td><td>91</td></tr><tr><td>11688699</td><td>86</td></tr><tr><td>11688996</td><td>89</td></tr><tr><td>11698698</td><td>86</td></tr><tr><td>11698896</td><td>88</td></tr><tr><td>16618899</td><td>88</td></tr><tr><td>16618998</td><td>89</td></tr><tr><td>16619196</td><td>91</td></tr><tr><td>16668696</td><td>86</td></tr><tr><td>16688199</td><td>81</td></tr><tr><td>16688991</td><td>89</td></tr><tr><td>16698198</td><td>81</td></tr><tr><td>16698891</td><td>88</td></tr><tr><td>18618699</td><td>86</td></tr><tr><td>18618996</td><td>89</td></tr><tr><td>18668199</td><td>81</td></tr><tr><td>18668991</td><td>89</td></tr><tr><td>18698196</td><td>81</td></tr><tr><td>18698691</td><td>86</td></tr><tr><td>18698889</td><td>88</td></tr><tr><td>19618698</td><td>86</td></tr><tr><td>19618896</td><td>88</td></tr><tr><td>19668198</td><td>81</td></tr><tr><td>19668891</td><td>88</td></tr><tr><td>19688196</td><td>81</td></tr><tr><td>19688691</td><td>86</td></tr><tr><td>19688889</td><td>88</td></tr><tr><td>61666869</td><td>68</td></tr><tr><td>11668899</td><td>99</td></tr><tr><td>11668998</td><td>98</td></tr><tr><td>11669196</td><td>96</td></tr><tr><td>11688699</td><td>99</td></tr><tr><td>11688996</td><td>96</td></tr><tr><td>11698698</td><td>98</td></tr><tr><td>11698896</td><td>96</td></tr><tr><td>16618899</td><td>99</td></tr><tr><td>16618998</td><td>98</td></tr><tr><td>16619196</td><td>96</td></tr><tr><td>16668696</td><td>96</td></tr><tr><td>16688199</td><td>99</td></tr><tr><td>16688991</td><td>91</td></tr><tr><td>16698198</td><td>98</td></tr><tr><td>16698891</td><td>91</td></tr><tr><td>18618699</td><td>99</td></tr><tr><td>18618996</td><td>96</td></tr><tr><td>18668199</td><td>99</td></tr><tr><td>18668991</td><td>91</td></tr><tr><td>18698196</td><td>96</td></tr><tr><td>18698691</td><td>91</td></tr><tr><td>18698889</td><td>89</td></tr><tr><td>19618698</td><td>98</td></tr><tr><td>19618896</td><td>96</td></tr><tr><td>19668198</td><td>98</td></tr><tr><td>19668891</td><td>91</td></tr><tr><td>19688196</td><td>96</td></tr><tr><td>19688691</td><td>91</td></tr><tr><td>19688889</td><td>89</td></tr><tr><td>61666869</td><td>69</td></tr></table>"
                    },
                    "metadata": {}
                }
            ],
            "execution_count": 4
        },
        {
            "cell_type": "markdown",
            "source": [
                "Create a view that shows the inverted solutions"
            ],
            "metadata": {
                "language": "sql",
                "azdata_cell_guid": "1d85a739-ca04-418e-ad2d-4b4674c0be64"
            },
            "attachments": {}
        },
        {
            "cell_type": "code",
            "source": [
                "CREATE OR ALTER VIEW V_INVERTED_LINES AS\r\n",
                "SElECT \r\n",
                "    [Id],\r\n",
                "    SUM(pi.Inverted) as solution_sum\r\n",
                "FROM [dbo].[lines] ln\r\n",
                "JOIN [dbo].[pieces] pi on pi.Piece = ln.Piece\r\n",
                "GROUP BY  [Id]\r\n",
                "HAVING SUM(pi.Inverted)=264\r\n",
                "GO\r\n",
                "\r\n",
                "SElECT * FROM V_INVERTED_LINES\r\n",
                "ORDER BY Id"
            ],
            "metadata": {
                "language": "sql",
                "azdata_cell_guid": "a180fc16-2830-421f-954a-9b3e1359fe18"
            },
            "outputs": [
                {
                    "output_type": "display_data",
                    "data": {
                        "text/html": "Commands completed successfully."
                    },
                    "metadata": {}
                },
                {
                    "output_type": "display_data",
                    "data": {
                        "text/html": "(18 rows affected)"
                    },
                    "metadata": {}
                },
                {
                    "output_type": "display_data",
                    "data": {
                        "text/html": "Total execution time: 00:00:00.379"
                    },
                    "metadata": {}
                },
                {
                    "output_type": "execute_result",
                    "execution_count": 5,
                    "data": {
                        "application/vnd.dataresource+json": {
                            "schema": {
                                "fields": [
                                    {
                                        "name": "Id"
                                    },
                                    {
                                        "name": "solution_sum"
                                    }
                                ]
                            },
                            "data": [
                                {
                                    "0": "11668899",
                                    "1": "264"
                                },
                                {
                                    "0": "11668998",
                                    "1": "264"
                                },
                                {
                                    "0": "11688699",
                                    "1": "264"
                                },
                                {
                                    "0": "11688996",
                                    "1": "264"
                                },
                                {
                                    "0": "11698698",
                                    "1": "264"
                                },
                                {
                                    "0": "11698896",
                                    "1": "264"
                                },
                                {
                                    "0": "16688199",
                                    "1": "264"
                                },
                                {
                                    "0": "16688991",
                                    "1": "264"
                                },
                                {
                                    "0": "16698198",
                                    "1": "264"
                                },
                                {
                                    "0": "16698891",
                                    "1": "264"
                                },
                                {
                                    "0": "18668199",
                                    "1": "264"
                                },
                                {
                                    "0": "18668991",
                                    "1": "264"
                                },
                                {
                                    "0": "18698196",
                                    "1": "264"
                                },
                                {
                                    "0": "18698691",
                                    "1": "264"
                                },
                                {
                                    "0": "19668198",
                                    "1": "264"
                                },
                                {
                                    "0": "19668891",
                                    "1": "264"
                                },
                                {
                                    "0": "19688196",
                                    "1": "264"
                                },
                                {
                                    "0": "19688691",
                                    "1": "264"
                                }
                            ]
                        },
                        "text/html": "<table><tr><th>Id</th><th>solution_sum</th></tr><tr><td>11668899</td><td>264</td></tr><tr><td>11668998</td><td>264</td></tr><tr><td>11688699</td><td>264</td></tr><tr><td>11688996</td><td>264</td></tr><tr><td>11698698</td><td>264</td></tr><tr><td>11698896</td><td>264</td></tr><tr><td>16688199</td><td>264</td></tr><tr><td>16688991</td><td>264</td></tr><tr><td>16698198</td><td>264</td></tr><tr><td>16698891</td><td>264</td></tr><tr><td>18668199</td><td>264</td></tr><tr><td>18668991</td><td>264</td></tr><tr><td>18698196</td><td>264</td></tr><tr><td>18698691</td><td>264</td></tr><tr><td>19668198</td><td>264</td></tr><tr><td>19668891</td><td>264</td></tr><tr><td>19688196</td><td>264</td></tr><tr><td>19688691</td><td>264</td></tr></table>"
                    },
                    "metadata": {}
                }
            ],
            "execution_count": 5
        },
        {
            "cell_type": "markdown",
            "source": [
                "The table structure does not facilitate quering:"
            ],
            "metadata": {
                "language": "sql",
                "azdata_cell_guid": "a0041382-e48f-41af-a4a6-c2ffd583a484"
            },
            "attachments": {}
        },
        {
            "cell_type": "code",
            "source": [
                "USE TEMPDB;\r\n",
                "GO\r\n",
                "\r\n",
                "DECLARE @target as INT = 18;\r\n",
                "declare @listOfIDs table (id int);\r\n",
                "insert @listOfIDs(id) values(11), (16), (66), (91),(96);\r\n",
                "\r\n",
                "SELECT \r\n",
                "    Id\r\n",
                "    ,([Column1]+[Column2]+[Column3]+[Column4]) AS \"Result\"\r\n",
                "    ,[Column1]\r\n",
                "    ,[Column2]\r\n",
                "    ,[Column3]\r\n",
                "    ,[Column4]\r\n",
                "FROM [dbo].[results] \r\n",
                "WHERE (\r\n",
                "           [Column1]=@target\r\n",
                "        OR [Column2]=@target\r\n",
                "        OR [Column3]=@target\r\n",
                "        OR [Column4]=@target\r\n",
                "       ) \r\n",
                "       AND \r\n",
                "       (\r\n",
                "            [Column1] not in (select * from @listOfIDs)\r\n",
                "        AND [Column2] not in (select * from @listOfIDs)\r\n",
                "        AND [Column3] not in (select * from @listOfIDs)\r\n",
                "        AND [Column4] not in (select * from @listOfIDs)\r\n",
                "       )\r\n",
                "ORDER BY [Column1]\r\n",
                "        ,[Column2]\r\n",
                "        ,[Column3]\r\n",
                "        ,[Column4];\r\n",
                "GO"
            ],
            "metadata": {
                "language": "sql",
                "azdata_cell_guid": "4b432f79-3656-4889-bc23-08b641d81670",
                "tags": []
            },
            "outputs": [
                {
                    "output_type": "display_data",
                    "data": {
                        "text/html": "Commands completed successfully."
                    },
                    "metadata": {}
                },
                {
                    "output_type": "display_data",
                    "data": {
                        "text/html": "(5 rows affected)"
                    },
                    "metadata": {}
                },
                {
                    "output_type": "display_data",
                    "data": {
                        "text/html": "(2 rows affected)"
                    },
                    "metadata": {}
                },
                {
                    "output_type": "display_data",
                    "data": {
                        "text/html": "Total execution time: 00:00:00.320"
                    },
                    "metadata": {}
                },
                {
                    "output_type": "execute_result",
                    "execution_count": 7,
                    "data": {
                        "application/vnd.dataresource+json": {
                            "schema": {
                                "fields": [
                                    {
                                        "name": "Id"
                                    },
                                    {
                                        "name": "Result"
                                    },
                                    {
                                        "name": "Column1"
                                    },
                                    {
                                        "name": "Column2"
                                    },
                                    {
                                        "name": "Column3"
                                    },
                                    {
                                        "name": "Column4"
                                    }
                                ]
                            },
                            "data": [
                                {
                                    "0": "16",
                                    "1": "264",
                                    "2": "18",
                                    "3": "61",
                                    "4": "86",
                                    "5": "99"
                                },
                                {
                                    "0": "22",
                                    "1": "264",
                                    "2": "18",
                                    "3": "69",
                                    "4": "88",
                                    "5": "89"
                                }
                            ]
                        },
                        "text/html": "<table><tr><th>Id</th><th>Result</th><th>Column1</th><th>Column2</th><th>Column3</th><th>Column4</th></tr><tr><td>16</td><td>264</td><td>18</td><td>61</td><td>86</td><td>99</td></tr><tr><td>22</td><td>264</td><td>18</td><td>69</td><td>88</td><td>89</td></tr></table>"
                    },
                    "metadata": {}
                }
            ],
            "execution_count": 7
        },
        {
            "cell_type": "markdown",
            "source": [
                "This table alows much simpler quering:"
            ],
            "metadata": {
                "azdata_cell_guid": "92ca6916-3fb1-4ea2-bb90-a6942fae409b"
            },
            "attachments": {}
        },
        {
            "cell_type": "code",
            "source": [
                "USE tempdb;\r\n",
                "Go\r\n",
                "\r\n",
                "DECLARE @target as INT = 19;\r\n",
                "declare @listOfIDs table (id int);\r\n",
                "insert @listOfIDs(id) values (11);\r\n",
                "\r\n",
                "SELECT * FROM [dbo].[results]\r\n",
                "WHERE [Id] in (\r\n",
                "                SELECT [SolutionId] FROM [dbo].[results2]\r\n",
                "                WHERE [Column] = @target\r\n",
                "\t\t\t\tAND [SolutionId] NOT IN (\r\n",
                "                                        SELECT [SolutionId] FROM [dbo].[results2]\r\n",
                "                                        WHERE [Column] IN (SELECT * FROM @listOfIDs)\t\t\t\t\r\n",
                "\t\t\t\t                        )\r\n",
                "\t\t\t\t)\r\n",
                "ORDER BY [Id], [Column1], [Column2], [Column3], [Column4]"
            ],
            "metadata": {
                "azdata_cell_guid": "7028e193-c771-4afe-b4a4-832d382ede65",
                "language": "sql"
            },
            "outputs": [
                {
                    "output_type": "display_data",
                    "data": {
                        "text/html": "Commands completed successfully."
                    },
                    "metadata": {}
                },
                {
                    "output_type": "display_data",
                    "data": {
                        "text/html": "(1 row affected)"
                    },
                    "metadata": {}
                },
                {
                    "output_type": "display_data",
                    "data": {
                        "text/html": "(7 rows affected)"
                    },
                    "metadata": {}
                },
                {
                    "output_type": "display_data",
                    "data": {
                        "text/html": "Total execution time: 00:00:00.273"
                    },
                    "metadata": {}
                },
                {
                    "output_type": "execute_result",
                    "execution_count": 8,
                    "data": {
                        "application/vnd.dataresource+json": {
                            "schema": {
                                "fields": [
                                    {
                                        "name": "Id"
                                    },
                                    {
                                        "name": "Column1"
                                    },
                                    {
                                        "name": "Column2"
                                    },
                                    {
                                        "name": "Column3"
                                    },
                                    {
                                        "name": "Column4"
                                    },
                                    {
                                        "name": "LineId"
                                    },
                                    {
                                        "name": "Solution"
                                    }
                                ]
                            },
                            "data": [
                                {
                                    "0": "23",
                                    "1": "19",
                                    "2": "61",
                                    "3": "86",
                                    "4": "98",
                                    "5": "19618698",
                                    "6": "NULL"
                                },
                                {
                                    "0": "24",
                                    "1": "19",
                                    "2": "61",
                                    "3": "88",
                                    "4": "96",
                                    "5": "19618896",
                                    "6": "NULL"
                                },
                                {
                                    "0": "25",
                                    "1": "19",
                                    "2": "66",
                                    "3": "81",
                                    "4": "98",
                                    "5": "19668198",
                                    "6": "NULL"
                                },
                                {
                                    "0": "26",
                                    "1": "19",
                                    "2": "66",
                                    "3": "88",
                                    "4": "91",
                                    "5": "19668891",
                                    "6": "NULL"
                                },
                                {
                                    "0": "27",
                                    "1": "19",
                                    "2": "68",
                                    "3": "81",
                                    "4": "96",
                                    "5": "19688196",
                                    "6": "NULL"
                                },
                                {
                                    "0": "28",
                                    "1": "19",
                                    "2": "68",
                                    "3": "86",
                                    "4": "91",
                                    "5": "19688691",
                                    "6": "NULL"
                                },
                                {
                                    "0": "29",
                                    "1": "19",
                                    "2": "68",
                                    "3": "88",
                                    "4": "89",
                                    "5": "19688889",
                                    "6": "NULL"
                                }
                            ]
                        },
                        "text/html": "<table><tr><th>Id</th><th>Column1</th><th>Column2</th><th>Column3</th><th>Column4</th><th>LineId</th><th>Solution</th></tr><tr><td>23</td><td>19</td><td>61</td><td>86</td><td>98</td><td>19618698</td><td>NULL</td></tr><tr><td>24</td><td>19</td><td>61</td><td>88</td><td>96</td><td>19618896</td><td>NULL</td></tr><tr><td>25</td><td>19</td><td>66</td><td>81</td><td>98</td><td>19668198</td><td>NULL</td></tr><tr><td>26</td><td>19</td><td>66</td><td>88</td><td>91</td><td>19668891</td><td>NULL</td></tr><tr><td>27</td><td>19</td><td>68</td><td>81</td><td>96</td><td>19688196</td><td>NULL</td></tr><tr><td>28</td><td>19</td><td>68</td><td>86</td><td>91</td><td>19688691</td><td>NULL</td></tr><tr><td>29</td><td>19</td><td>68</td><td>88</td><td>89</td><td>19688889</td><td>NULL</td></tr></table>"
                    },
                    "metadata": {}
                }
            ],
            "execution_count": 8
        },
        {
            "cell_type": "code",
            "source": [
                "UPDATE [dbo].[results]\r\n",
                "SET [Solution]=1\r\n",
                "WHERE [Id] = 3\r\n",
                "\r\n",
                "UPDATE [dbo].[results]\r\n",
                "SET [Solution]=1\r\n",
                "WHERE [Id] = 26\r\n",
                "\r\n",
                "UPDATE [dbo].[results]\r\n",
                "SET [Solution]=1\r\n",
                "WHERE [Id] = 21\r\n",
                "\r\n",
                "UPDATE [dbo].[results]\r\n",
                "SET [Solution]=1\r\n",
                "WHERE [Id] = 27"
            ],
            "metadata": {
                "language": "sql",
                "azdata_cell_guid": "45e02272-fe74-47ee-a8a2-5bf3da4972f5"
            },
            "outputs": [
                {
                    "output_type": "display_data",
                    "data": {
                        "text/html": "(1 row affected)"
                    },
                    "metadata": {}
                },
                {
                    "output_type": "display_data",
                    "data": {
                        "text/html": "(1 row affected)"
                    },
                    "metadata": {}
                },
                {
                    "output_type": "display_data",
                    "data": {
                        "text/html": "(1 row affected)"
                    },
                    "metadata": {}
                },
                {
                    "output_type": "display_data",
                    "data": {
                        "text/html": "(1 row affected)"
                    },
                    "metadata": {}
                },
                {
                    "output_type": "display_data",
                    "data": {
                        "text/html": "Total execution time: 00:00:00.122"
                    },
                    "metadata": {}
                }
            ],
            "execution_count": 19
        },
        {
            "cell_type": "code",
            "source": [
                "USE TEMPDB;\r\n",
                "GO\r\n",
                "\r\n",
                "SELECT \r\n",
                "    Id\r\n",
                "    ,([Column1]+[Column2]+[Column3]+[Column4]) AS \"Result\"\r\n",
                "    ,[Column1]\r\n",
                "    ,[Column2]\r\n",
                "    ,[Column3]\r\n",
                "    ,[Column4]\r\n",
                "    ,[Solution]\r\n",
                "FROM [dbo].[results]\r\n",
                "WHERE [Solution] is null or [Solution] = 1\r\n",
                "ORDER BY [Column1]\r\n",
                "        ,[Column2]\r\n",
                "        ,[Column3]\r\n",
                "        ,[Column4];"
            ],
            "metadata": {
                "language": "sql",
                "azdata_cell_guid": "85f664fa-7a7a-4638-b2ac-c96d02d9d4d2"
            },
            "outputs": [
                {
                    "output_type": "display_data",
                    "data": {
                        "text/html": "Commands completed successfully."
                    },
                    "metadata": {}
                },
                {
                    "output_type": "display_data",
                    "data": {
                        "text/html": "(30 rows affected)"
                    },
                    "metadata": {}
                },
                {
                    "output_type": "display_data",
                    "data": {
                        "text/html": "Total execution time: 00:00:00.234"
                    },
                    "metadata": {}
                },
                {
                    "output_type": "execute_result",
                    "execution_count": 9,
                    "data": {
                        "application/vnd.dataresource+json": {
                            "schema": {
                                "fields": [
                                    {
                                        "name": "Id"
                                    },
                                    {
                                        "name": "Result"
                                    },
                                    {
                                        "name": "Column1"
                                    },
                                    {
                                        "name": "Column2"
                                    },
                                    {
                                        "name": "Column3"
                                    },
                                    {
                                        "name": "Column4"
                                    },
                                    {
                                        "name": "Solution"
                                    }
                                ]
                            },
                            "data": [
                                {
                                    "0": "1",
                                    "1": "264",
                                    "2": "11",
                                    "3": "66",
                                    "4": "88",
                                    "5": "99",
                                    "6": "NULL"
                                },
                                {
                                    "0": "2",
                                    "1": "264",
                                    "2": "11",
                                    "3": "66",
                                    "4": "89",
                                    "5": "98",
                                    "6": "NULL"
                                },
                                {
                                    "0": "3",
                                    "1": "264",
                                    "2": "11",
                                    "3": "66",
                                    "4": "91",
                                    "5": "96",
                                    "6": "NULL"
                                },
                                {
                                    "0": "4",
                                    "1": "264",
                                    "2": "11",
                                    "3": "68",
                                    "4": "86",
                                    "5": "99",
                                    "6": "NULL"
                                },
                                {
                                    "0": "5",
                                    "1": "264",
                                    "2": "11",
                                    "3": "68",
                                    "4": "89",
                                    "5": "96",
                                    "6": "NULL"
                                },
                                {
                                    "0": "6",
                                    "1": "264",
                                    "2": "11",
                                    "3": "69",
                                    "4": "86",
                                    "5": "98",
                                    "6": "NULL"
                                },
                                {
                                    "0": "7",
                                    "1": "264",
                                    "2": "11",
                                    "3": "69",
                                    "4": "88",
                                    "5": "96",
                                    "6": "NULL"
                                },
                                {
                                    "0": "8",
                                    "1": "264",
                                    "2": "16",
                                    "3": "61",
                                    "4": "88",
                                    "5": "99",
                                    "6": "NULL"
                                },
                                {
                                    "0": "9",
                                    "1": "264",
                                    "2": "16",
                                    "3": "61",
                                    "4": "89",
                                    "5": "98",
                                    "6": "NULL"
                                },
                                {
                                    "0": "10",
                                    "1": "264",
                                    "2": "16",
                                    "3": "61",
                                    "4": "91",
                                    "5": "96",
                                    "6": "NULL"
                                },
                                {
                                    "0": "11",
                                    "1": "264",
                                    "2": "16",
                                    "3": "66",
                                    "4": "86",
                                    "5": "96",
                                    "6": "NULL"
                                },
                                {
                                    "0": "12",
                                    "1": "264",
                                    "2": "16",
                                    "3": "68",
                                    "4": "81",
                                    "5": "99",
                                    "6": "NULL"
                                },
                                {
                                    "0": "13",
                                    "1": "264",
                                    "2": "16",
                                    "3": "68",
                                    "4": "89",
                                    "5": "91",
                                    "6": "NULL"
                                },
                                {
                                    "0": "14",
                                    "1": "264",
                                    "2": "16",
                                    "3": "69",
                                    "4": "81",
                                    "5": "98",
                                    "6": "NULL"
                                },
                                {
                                    "0": "15",
                                    "1": "264",
                                    "2": "16",
                                    "3": "69",
                                    "4": "88",
                                    "5": "91",
                                    "6": "NULL"
                                },
                                {
                                    "0": "16",
                                    "1": "264",
                                    "2": "18",
                                    "3": "61",
                                    "4": "86",
                                    "5": "99",
                                    "6": "NULL"
                                },
                                {
                                    "0": "17",
                                    "1": "264",
                                    "2": "18",
                                    "3": "61",
                                    "4": "89",
                                    "5": "96",
                                    "6": "NULL"
                                },
                                {
                                    "0": "18",
                                    "1": "264",
                                    "2": "18",
                                    "3": "66",
                                    "4": "81",
                                    "5": "99",
                                    "6": "NULL"
                                },
                                {
                                    "0": "19",
                                    "1": "264",
                                    "2": "18",
                                    "3": "66",
                                    "4": "89",
                                    "5": "91",
                                    "6": "NULL"
                                },
                                {
                                    "0": "20",
                                    "1": "264",
                                    "2": "18",
                                    "3": "69",
                                    "4": "81",
                                    "5": "96",
                                    "6": "NULL"
                                },
                                {
                                    "0": "21",
                                    "1": "264",
                                    "2": "18",
                                    "3": "69",
                                    "4": "86",
                                    "5": "91",
                                    "6": "NULL"
                                },
                                {
                                    "0": "22",
                                    "1": "264",
                                    "2": "18",
                                    "3": "69",
                                    "4": "88",
                                    "5": "89",
                                    "6": "NULL"
                                },
                                {
                                    "0": "23",
                                    "1": "264",
                                    "2": "19",
                                    "3": "61",
                                    "4": "86",
                                    "5": "98",
                                    "6": "NULL"
                                },
                                {
                                    "0": "24",
                                    "1": "264",
                                    "2": "19",
                                    "3": "61",
                                    "4": "88",
                                    "5": "96",
                                    "6": "NULL"
                                },
                                {
                                    "0": "25",
                                    "1": "264",
                                    "2": "19",
                                    "3": "66",
                                    "4": "81",
                                    "5": "98",
                                    "6": "NULL"
                                },
                                {
                                    "0": "26",
                                    "1": "264",
                                    "2": "19",
                                    "3": "66",
                                    "4": "88",
                                    "5": "91",
                                    "6": "NULL"
                                },
                                {
                                    "0": "27",
                                    "1": "264",
                                    "2": "19",
                                    "3": "68",
                                    "4": "81",
                                    "5": "96",
                                    "6": "NULL"
                                },
                                {
                                    "0": "28",
                                    "1": "264",
                                    "2": "19",
                                    "3": "68",
                                    "4": "86",
                                    "5": "91",
                                    "6": "NULL"
                                },
                                {
                                    "0": "29",
                                    "1": "264",
                                    "2": "19",
                                    "3": "68",
                                    "4": "88",
                                    "5": "89",
                                    "6": "NULL"
                                },
                                {
                                    "0": "30",
                                    "1": "264",
                                    "2": "61",
                                    "3": "66",
                                    "4": "68",
                                    "5": "69",
                                    "6": "NULL"
                                }
                            ]
                        },
                        "text/html": "<table><tr><th>Id</th><th>Result</th><th>Column1</th><th>Column2</th><th>Column3</th><th>Column4</th><th>Solution</th></tr><tr><td>1</td><td>264</td><td>11</td><td>66</td><td>88</td><td>99</td><td>NULL</td></tr><tr><td>2</td><td>264</td><td>11</td><td>66</td><td>89</td><td>98</td><td>NULL</td></tr><tr><td>3</td><td>264</td><td>11</td><td>66</td><td>91</td><td>96</td><td>NULL</td></tr><tr><td>4</td><td>264</td><td>11</td><td>68</td><td>86</td><td>99</td><td>NULL</td></tr><tr><td>5</td><td>264</td><td>11</td><td>68</td><td>89</td><td>96</td><td>NULL</td></tr><tr><td>6</td><td>264</td><td>11</td><td>69</td><td>86</td><td>98</td><td>NULL</td></tr><tr><td>7</td><td>264</td><td>11</td><td>69</td><td>88</td><td>96</td><td>NULL</td></tr><tr><td>8</td><td>264</td><td>16</td><td>61</td><td>88</td><td>99</td><td>NULL</td></tr><tr><td>9</td><td>264</td><td>16</td><td>61</td><td>89</td><td>98</td><td>NULL</td></tr><tr><td>10</td><td>264</td><td>16</td><td>61</td><td>91</td><td>96</td><td>NULL</td></tr><tr><td>11</td><td>264</td><td>16</td><td>66</td><td>86</td><td>96</td><td>NULL</td></tr><tr><td>12</td><td>264</td><td>16</td><td>68</td><td>81</td><td>99</td><td>NULL</td></tr><tr><td>13</td><td>264</td><td>16</td><td>68</td><td>89</td><td>91</td><td>NULL</td></tr><tr><td>14</td><td>264</td><td>16</td><td>69</td><td>81</td><td>98</td><td>NULL</td></tr><tr><td>15</td><td>264</td><td>16</td><td>69</td><td>88</td><td>91</td><td>NULL</td></tr><tr><td>16</td><td>264</td><td>18</td><td>61</td><td>86</td><td>99</td><td>NULL</td></tr><tr><td>17</td><td>264</td><td>18</td><td>61</td><td>89</td><td>96</td><td>NULL</td></tr><tr><td>18</td><td>264</td><td>18</td><td>66</td><td>81</td><td>99</td><td>NULL</td></tr><tr><td>19</td><td>264</td><td>18</td><td>66</td><td>89</td><td>91</td><td>NULL</td></tr><tr><td>20</td><td>264</td><td>18</td><td>69</td><td>81</td><td>96</td><td>NULL</td></tr><tr><td>21</td><td>264</td><td>18</td><td>69</td><td>86</td><td>91</td><td>NULL</td></tr><tr><td>22</td><td>264</td><td>18</td><td>69</td><td>88</td><td>89</td><td>NULL</td></tr><tr><td>23</td><td>264</td><td>19</td><td>61</td><td>86</td><td>98</td><td>NULL</td></tr><tr><td>24</td><td>264</td><td>19</td><td>61</td><td>88</td><td>96</td><td>NULL</td></tr><tr><td>25</td><td>264</td><td>19</td><td>66</td><td>81</td><td>98</td><td>NULL</td></tr><tr><td>26</td><td>264</td><td>19</td><td>66</td><td>88</td><td>91</td><td>NULL</td></tr><tr><td>27</td><td>264</td><td>19</td><td>68</td><td>81</td><td>96</td><td>NULL</td></tr><tr><td>28</td><td>264</td><td>19</td><td>68</td><td>86</td><td>91</td><td>NULL</td></tr><tr><td>29</td><td>264</td><td>19</td><td>68</td><td>88</td><td>89</td><td>NULL</td></tr><tr><td>30</td><td>264</td><td>61</td><td>66</td><td>68</td><td>69</td><td>NULL</td></tr></table>"
                    },
                    "metadata": {}
                }
            ],
            "execution_count": 9
        },
        {
            "cell_type": "code",
            "source": [
                "USE TEMPDB;\r\n",
                "GO\r\n",
                "\r\n",
                "DECLARE @target as INT = 98;\r\n",
                "declare @listOfIDs table (id int);\r\n",
                "insert @listOfIDs(id) values (11), (16), (69),(88),(96);\r\n",
                "\r\n",
                "SELECT * FROM\r\n",
                "(\r\n",
                "SELECT \r\n",
                "    Id\r\n",
                "    ,([Column1]+[Column2]+[Column3]+[Column4]) AS \"Result\"\r\n",
                "    ,[Column1]\r\n",
                "    ,[Column2]\r\n",
                "    ,[Column3]\r\n",
                "    ,[Column4]\r\n",
                "FROM [dbo].[results]\r\n",
                ") as t\r\n",
                "WHERE (\r\n",
                "           [Column1]=@target\r\n",
                "        OR [Column2]=@target\r\n",
                "        OR [Column3]=@target\r\n",
                "        OR [Column4]=@target\r\n",
                "       )\r\n",
                "   and\r\n",
                "        (\r\n",
                "            [Column1] NOT in (select * from @listOfIDs where id <> @target)\r\n",
                "        AND [Column2] NOT in (select * from @listOfIDs where id <> @target)\r\n",
                "        AND [Column3] NOT in (select * from @listOfIDs where id <> @target)\r\n",
                "        AND [Column4] NOT in (select * from @listOfIDs where id <> @target)\r\n",
                "        )\r\n",
                "   ;\r\n",
                "GO"
            ],
            "metadata": {
                "language": "sql",
                "azdata_cell_guid": "7c52b5f0-b543-4a95-b0fa-b698dc614ad6",
                "tags": []
            },
            "outputs": [
                {
                    "output_type": "display_data",
                    "data": {
                        "text/html": "Commands completed successfully."
                    },
                    "metadata": {}
                },
                {
                    "output_type": "display_data",
                    "data": {
                        "text/html": "(5 rows affected)"
                    },
                    "metadata": {}
                },
                {
                    "output_type": "display_data",
                    "data": {
                        "text/html": "(2 rows affected)"
                    },
                    "metadata": {}
                },
                {
                    "output_type": "display_data",
                    "data": {
                        "text/html": "Total execution time: 00:00:00.299"
                    },
                    "metadata": {}
                },
                {
                    "output_type": "execute_result",
                    "execution_count": 21,
                    "data": {
                        "application/vnd.dataresource+json": {
                            "schema": {
                                "fields": [
                                    {
                                        "name": "Id"
                                    },
                                    {
                                        "name": "Result"
                                    },
                                    {
                                        "name": "Column1"
                                    },
                                    {
                                        "name": "Column2"
                                    },
                                    {
                                        "name": "Column3"
                                    },
                                    {
                                        "name": "Column4"
                                    }
                                ]
                            },
                            "data": [
                                {
                                    "0": "23",
                                    "1": "264",
                                    "2": "19",
                                    "3": "61",
                                    "4": "86",
                                    "5": "98"
                                },
                                {
                                    "0": "25",
                                    "1": "264",
                                    "2": "19",
                                    "3": "66",
                                    "4": "81",
                                    "5": "98"
                                }
                            ]
                        },
                        "text/html": "<table><tr><th>Id</th><th>Result</th><th>Column1</th><th>Column2</th><th>Column3</th><th>Column4</th></tr><tr><td>23</td><td>264</td><td>19</td><td>61</td><td>86</td><td>98</td></tr><tr><td>25</td><td>264</td><td>19</td><td>66</td><td>81</td><td>98</td></tr></table>"
                    },
                    "metadata": {}
                }
            ],
            "execution_count": 21
        },
        {
            "cell_type": "markdown",
            "source": [
                "After the horizontal soulution find the verical one.\n",
                "\n",
                "  \n",
                "\n",
                "11, 69, 88, 96 is one possible line."
            ],
            "metadata": {
                "language": "sql",
                "azdata_cell_guid": "cc4b2cef-6af9-4178-9dce-2fae443f169c"
            },
            "attachments": {}
        },
        {
            "cell_type": "code",
            "source": [
                "USE TEMPDB;\r\n",
                "GO\r\n",
                "\r\n",
                "DECLARE @target as INT = 18;\r\n",
                "declare @listOfIDs table (id int);\r\n",
                "insert @listOfIDs(id) values(11); --, (69),(88),(96);\r\n",
                "\r\n",
                "SELECT * FROM\r\n",
                "(\r\n",
                "SELECT \r\n",
                "    Id\r\n",
                "    ,([Column1]+[Column2]+[Column3]+[Column4]) AS \"Result\"\r\n",
                "    ,[Column1]\r\n",
                "    ,[Column2]\r\n",
                "    ,[Column3]\r\n",
                "    ,[Column4]\r\n",
                "FROM [dbo].[results]\r\n",
                ") as t\r\n",
                "WHERE (\r\n",
                "            [Column1]=@target\r\n",
                "        OR [Column2]=@target\r\n",
                "        OR [Column3]=@target\r\n",
                "        OR [Column4]=@target\r\n",
                "       )\r\n",
                "   and\r\n",
                "        (\r\n",
                "            [Column1] NOT in (select * from @listOfIDs)\r\n",
                "        AND [Column2] NOT in (select * from @listOfIDs)\r\n",
                "        AND [Column3] NOT in (select * from @listOfIDs)\r\n",
                "        AND [Column4] NOT in (select * from @listOfIDs)\r\n",
                "        )\r\n",
                "   ORDER BY\r\n",
                "     [Column4]\r\n",
                "    ,[Column3]\r\n",
                "    ,[Column2]\r\n",
                "    ,[Column1];\r\n",
                "GO"
            ],
            "metadata": {
                "language": "sql",
                "azdata_cell_guid": "4b853a92-6b25-462a-bece-280d8db8ba7c",
                "tags": []
            },
            "outputs": [
                {
                    "output_type": "display_data",
                    "data": {
                        "text/html": "Commands completed successfully."
                    },
                    "metadata": {}
                },
                {
                    "output_type": "display_data",
                    "data": {
                        "text/html": "(1 row affected)"
                    },
                    "metadata": {}
                },
                {
                    "output_type": "display_data",
                    "data": {
                        "text/html": "(7 rows affected)"
                    },
                    "metadata": {}
                },
                {
                    "output_type": "display_data",
                    "data": {
                        "text/html": "Total execution time: 00:00:00.549"
                    },
                    "metadata": {}
                },
                {
                    "output_type": "execute_result",
                    "execution_count": 22,
                    "data": {
                        "application/vnd.dataresource+json": {
                            "schema": {
                                "fields": [
                                    {
                                        "name": "Id"
                                    },
                                    {
                                        "name": "Result"
                                    },
                                    {
                                        "name": "Column1"
                                    },
                                    {
                                        "name": "Column2"
                                    },
                                    {
                                        "name": "Column3"
                                    },
                                    {
                                        "name": "Column4"
                                    }
                                ]
                            },
                            "data": [
                                {
                                    "0": "22",
                                    "1": "264",
                                    "2": "18",
                                    "3": "69",
                                    "4": "88",
                                    "5": "89"
                                },
                                {
                                    "0": "19",
                                    "1": "264",
                                    "2": "18",
                                    "3": "66",
                                    "4": "91",
                                    "5": "89"
                                },
                                {
                                    "0": "17",
                                    "1": "264",
                                    "2": "18",
                                    "3": "61",
                                    "4": "96",
                                    "5": "89"
                                },
                                {
                                    "0": "21",
                                    "1": "264",
                                    "2": "18",
                                    "3": "69",
                                    "4": "86",
                                    "5": "91"
                                },
                                {
                                    "0": "20",
                                    "1": "264",
                                    "2": "18",
                                    "3": "69",
                                    "4": "81",
                                    "5": "96"
                                },
                                {
                                    "0": "18",
                                    "1": "264",
                                    "2": "18",
                                    "3": "66",
                                    "4": "81",
                                    "5": "99"
                                },
                                {
                                    "0": "16",
                                    "1": "264",
                                    "2": "18",
                                    "3": "61",
                                    "4": "86",
                                    "5": "99"
                                }
                            ]
                        },
                        "text/html": "<table><tr><th>Id</th><th>Result</th><th>Column1</th><th>Column2</th><th>Column3</th><th>Column4</th></tr><tr><td>22</td><td>264</td><td>18</td><td>69</td><td>88</td><td>89</td></tr><tr><td>19</td><td>264</td><td>18</td><td>66</td><td>91</td><td>89</td></tr><tr><td>17</td><td>264</td><td>18</td><td>61</td><td>96</td><td>89</td></tr><tr><td>21</td><td>264</td><td>18</td><td>69</td><td>86</td><td>91</td></tr><tr><td>20</td><td>264</td><td>18</td><td>69</td><td>81</td><td>96</td></tr><tr><td>18</td><td>264</td><td>18</td><td>66</td><td>81</td><td>99</td></tr><tr><td>16</td><td>264</td><td>18</td><td>61</td><td>86</td><td>99</td></tr></table>"
                    },
                    "metadata": {}
                }
            ],
            "execution_count": 22
        },
        {
            "cell_type": "markdown",
            "source": [
                "We need to find all input sets combinations"
            ],
            "metadata": {
                "language": "sql",
                "azdata_cell_guid": "5ee165df-2d63-4a68-9a9d-4a61fbc2aa9e"
            },
            "attachments": {}
        },
        {
            "cell_type": "code",
            "source": [
                "USE TEMPDB;\r\n",
                "GO\r\n",
                "\r\n",
                "DECLARE @piece1 as int = 16;\r\n",
                "\r\n",
                "SELECT \r\n",
                "    [Piece] \r\n",
                "FROM \r\n",
                "    [dbo].[pieces]\r\n",
                "WHERE\r\n",
                "    [Piece] <> @piece1\r\n",
                "UNION ALL\r\n",
                "SELECT [Piece2] FROM [dbo].[sets] WHERE [Piece1] = @piece1\r\n",
                "ORDER BY [Piece];\r\n",
                ""
            ],
            "metadata": {
                "language": "sql",
                "azdata_cell_guid": "85e5b0ca-ca87-43c9-a78a-47dbaca68cb5"
            },
            "outputs": [
                {
                    "output_type": "display_data",
                    "data": {
                        "text/html": "Commands completed successfully."
                    },
                    "metadata": {}
                },
                {
                    "output_type": "display_data",
                    "data": {
                        "text/html": "(16 rows affected)"
                    },
                    "metadata": {}
                },
                {
                    "output_type": "display_data",
                    "data": {
                        "text/html": "Total execution time: 00:00:00.233"
                    },
                    "metadata": {}
                },
                {
                    "output_type": "execute_result",
                    "execution_count": 23,
                    "data": {
                        "application/vnd.dataresource+json": {
                            "schema": {
                                "fields": [
                                    {
                                        "name": "Piece"
                                    }
                                ]
                            },
                            "data": [
                                {
                                    "0": "11"
                                },
                                {
                                    "0": "18"
                                },
                                {
                                    "0": "19"
                                },
                                {
                                    "0": "61"
                                },
                                {
                                    "0": "66"
                                },
                                {
                                    "0": "68"
                                },
                                {
                                    "0": "69"
                                },
                                {
                                    "0": "81"
                                },
                                {
                                    "0": "86"
                                },
                                {
                                    "0": "88"
                                },
                                {
                                    "0": "89"
                                },
                                {
                                    "0": "91"
                                },
                                {
                                    "0": "91"
                                },
                                {
                                    "0": "96"
                                },
                                {
                                    "0": "98"
                                },
                                {
                                    "0": "99"
                                }
                            ]
                        },
                        "text/html": "<table><tr><th>Piece</th></tr><tr><td>11</td></tr><tr><td>18</td></tr><tr><td>19</td></tr><tr><td>61</td></tr><tr><td>66</td></tr><tr><td>68</td></tr><tr><td>69</td></tr><tr><td>81</td></tr><tr><td>86</td></tr><tr><td>88</td></tr><tr><td>89</td></tr><tr><td>91</td></tr><tr><td>91</td></tr><tr><td>96</td></tr><tr><td>98</td></tr><tr><td>99</td></tr></table>"
                    },
                    "metadata": {}
                }
            ],
            "execution_count": 23
        },
        {
            "cell_type": "code",
            "source": [
                "USE TEMPDB;\r\n",
                "GO\r\n",
                "SELECT * FROM [dbo].[sets];\r\n",
                "GO\r\n",
                "SELECT [Piece2] FROM [dbo].[sets] WHERE [Piece1] = 16;\r\n",
                "GO"
            ],
            "metadata": {
                "language": "sql",
                "azdata_cell_guid": "ad8d2ab1-6d02-48f8-847e-52a589551811"
            },
            "outputs": [
                {
                    "output_type": "display_data",
                    "data": {
                        "text/html": "Commands completed successfully."
                    },
                    "metadata": {}
                },
                {
                    "output_type": "display_data",
                    "data": {
                        "text/html": "(12 rows affected)"
                    },
                    "metadata": {}
                },
                {
                    "output_type": "display_data",
                    "data": {
                        "text/html": "(1 row affected)"
                    },
                    "metadata": {}
                },
                {
                    "output_type": "display_data",
                    "data": {
                        "text/html": "Total execution time: 00:00:00.277"
                    },
                    "metadata": {}
                },
                {
                    "output_type": "execute_result",
                    "execution_count": 24,
                    "data": {
                        "application/vnd.dataresource+json": {
                            "schema": {
                                "fields": [
                                    {
                                        "name": "Id"
                                    },
                                    {
                                        "name": "Piece1"
                                    },
                                    {
                                        "name": "Piece2"
                                    }
                                ]
                            },
                            "data": [
                                {
                                    "0": "1",
                                    "1": "16",
                                    "2": "91"
                                },
                                {
                                    "0": "2",
                                    "1": "18",
                                    "2": "81"
                                },
                                {
                                    "0": "3",
                                    "1": "19",
                                    "2": "61"
                                },
                                {
                                    "0": "4",
                                    "1": "61",
                                    "2": "19"
                                },
                                {
                                    "0": "5",
                                    "1": "66",
                                    "2": "99"
                                },
                                {
                                    "0": "6",
                                    "1": "68",
                                    "2": "89"
                                },
                                {
                                    "0": "7",
                                    "1": "81",
                                    "2": "18"
                                },
                                {
                                    "0": "8",
                                    "1": "86",
                                    "2": "98"
                                },
                                {
                                    "0": "9",
                                    "1": "89",
                                    "2": "68"
                                },
                                {
                                    "0": "10",
                                    "1": "91",
                                    "2": "16"
                                },
                                {
                                    "0": "11",
                                    "1": "98",
                                    "2": "86"
                                },
                                {
                                    "0": "12",
                                    "1": "99",
                                    "2": "66"
                                }
                            ]
                        },
                        "text/html": "<table><tr><th>Id</th><th>Piece1</th><th>Piece2</th></tr><tr><td>1</td><td>16</td><td>91</td></tr><tr><td>2</td><td>18</td><td>81</td></tr><tr><td>3</td><td>19</td><td>61</td></tr><tr><td>4</td><td>61</td><td>19</td></tr><tr><td>5</td><td>66</td><td>99</td></tr><tr><td>6</td><td>68</td><td>89</td></tr><tr><td>7</td><td>81</td><td>18</td></tr><tr><td>8</td><td>86</td><td>98</td></tr><tr><td>9</td><td>89</td><td>68</td></tr><tr><td>10</td><td>91</td><td>16</td></tr><tr><td>11</td><td>98</td><td>86</td></tr><tr><td>12</td><td>99</td><td>66</td></tr></table>"
                    },
                    "metadata": {}
                },
                {
                    "output_type": "execute_result",
                    "execution_count": 24,
                    "data": {
                        "application/vnd.dataresource+json": {
                            "schema": {
                                "fields": [
                                    {
                                        "name": "Piece2"
                                    }
                                ]
                            },
                            "data": [
                                {
                                    "0": "91"
                                }
                            ]
                        },
                        "text/html": "<table><tr><th>Piece2</th></tr><tr><td>91</td></tr></table>"
                    },
                    "metadata": {}
                }
            ],
            "execution_count": 24
        },
        {
            "cell_type": "markdown",
            "source": [
                "Create a log to store the attempts."
            ],
            "metadata": {
                "language": "sql",
                "azdata_cell_guid": "4d1c8e70-e7e2-4d57-aaac-c887a4fcdcfe"
            },
            "attachments": {}
        },
        {
            "cell_type": "code",
            "source": [
                "IF OBJECT_ID('[dbo].[log]', 'U') IS NOT NULL\r\n",
                "DROP TABLE [dbo].[log]\r\n",
                "GO\r\n",
                "\r\n",
                "CREATE TABLE [dbo].[log]\r\n",
                "(\r\n",
                "    [Id] INT NOT NULL IDENTITY(1,1), -- Primary Key column\r\n",
                "    [LineId] INT NOT NULL,\r\n",
                "    [TryId] INT NOT NULL,\r\n",
                "    [Result] BIT\r\n",
                ");\r\n",
                "GO"
            ],
            "metadata": {
                "language": "sql",
                "azdata_cell_guid": "0da76894-706c-411c-b2e8-c1a8996bc8cd",
                "tags": [
                    "hide_input"
                ]
            },
            "outputs": [
                {
                    "output_type": "display_data",
                    "data": {
                        "text/html": "Commands completed successfully."
                    },
                    "metadata": {}
                },
                {
                    "output_type": "display_data",
                    "data": {
                        "text/html": "Commands completed successfully."
                    },
                    "metadata": {}
                },
                {
                    "output_type": "display_data",
                    "data": {
                        "text/html": "Total execution time: 00:00:00.271"
                    },
                    "metadata": {}
                }
            ],
            "execution_count": 25
        },
        {
            "cell_type": "markdown",
            "source": [
                "Create log for line solutions."
            ],
            "metadata": {
                "language": "sql",
                "azdata_cell_guid": "c3ae78f0-8396-4261-a0b6-76e7471e0f3b"
            },
            "attachments": {}
        },
        {
            "cell_type": "code",
            "source": [
                "USE TEMPDB;\r\n",
                "GO\r\n",
                "\r\n",
                "IF OBJECT_ID('[dbo].[solutions]', 'U') IS NOT NULL\r\n",
                "DROP TABLE [dbo].[solutions]\r\n",
                "GO\r\n",
                "\r\n",
                "CREATE TABLE [dbo].[solutions]\r\n",
                "(\r\n",
                "    [Id] int not null IDENTITY(1,1), -- Primary Key column\r\n",
                "    [SolutionId] INT NOT NULL, \r\n",
                "    [LineId] INT NOT NULL\r\n",
                ");\r\n",
                "GO"
            ],
            "metadata": {
                "language": "sql",
                "azdata_cell_guid": "72226ed6-7c5d-4898-97a2-ec0bbdcd9bae",
                "tags": []
            },
            "outputs": [
                {
                    "output_type": "display_data",
                    "data": {
                        "text/html": "Commands completed successfully."
                    },
                    "metadata": {}
                },
                {
                    "output_type": "display_data",
                    "data": {
                        "text/html": "Commands completed successfully."
                    },
                    "metadata": {}
                },
                {
                    "output_type": "display_data",
                    "data": {
                        "text/html": "Commands completed successfully."
                    },
                    "metadata": {}
                },
                {
                    "output_type": "display_data",
                    "data": {
                        "text/html": "Total execution time: 00:00:00.252"
                    },
                    "metadata": {}
                }
            ],
            "execution_count": 26
        },
        {
            "cell_type": "code",
            "source": [
                "-- Get a list of tables and views in the current database\r\n",
                "SELECT table_catalog [database], table_schema [schema], table_name [name], table_type [type]\r\n",
                "FROM INFORMATION_SCHEMA.TABLES\r\n",
                "GO"
            ],
            "metadata": {
                "azdata_cell_guid": "cc17da83-61f3-408d-a42a-279436d73879",
                "language": "sql",
                "tags": [
                    "hide_input"
                ]
            },
            "outputs": [
                {
                    "output_type": "display_data",
                    "data": {
                        "text/html": "(50 rows affected)"
                    },
                    "metadata": {}
                },
                {
                    "output_type": "display_data",
                    "data": {
                        "text/html": "Total execution time: 00:00:00.926"
                    },
                    "metadata": {}
                },
                {
                    "output_type": "execute_result",
                    "execution_count": 27,
                    "data": {
                        "application/vnd.dataresource+json": {
                            "schema": {
                                "fields": [
                                    {
                                        "name": "database"
                                    },
                                    {
                                        "name": "schema"
                                    },
                                    {
                                        "name": "name"
                                    },
                                    {
                                        "name": "type"
                                    }
                                ]
                            },
                            "data": [
                                {
                                    "0": "tempdb",
                                    "1": "dbo",
                                    "2": "#MasterFiles________________________________________________________________________________________________________00000000E7C2",
                                    "3": "BASE TABLE"
                                },
                                {
                                    "0": "tempdb",
                                    "1": "dbo",
                                    "2": "#TempdbOperationalStats_____________________________________________________________________________________________00000000E7C4",
                                    "3": "BASE TABLE"
                                },
                                {
                                    "0": "tempdb",
                                    "1": "dbo",
                                    "2": "#SVer_______________________________________________________________________________________________________________00000000E7FC",
                                    "3": "BASE TABLE"
                                },
                                {
                                    "0": "tempdb",
                                    "1": "dbo",
                                    "2": "#only_query_hashes__________________________________________________________________________________________________00000000E7DD",
                                    "3": "BASE TABLE"
                                },
                                {
                                    "0": "tempdb",
                                    "1": "dbo",
                                    "2": "#SVer_______________________________________________________________________________________________________________00000000E7FD",
                                    "3": "BASE TABLE"
                                },
                                {
                                    "0": "tempdb",
                                    "1": "dbo",
                                    "2": "#ignore_query_hashes________________________________________________________________________________________________00000000E7DE",
                                    "3": "BASE TABLE"
                                },
                                {
                                    "0": "tempdb",
                                    "1": "dbo",
                                    "2": "#SVer_______________________________________________________________________________________________________________00000000E7FE",
                                    "3": "BASE TABLE"
                                },
                                {
                                    "0": "tempdb",
                                    "1": "dbo",
                                    "2": "#only_sql_handles___________________________________________________________________________________________________00000000E7DF",
                                    "3": "BASE TABLE"
                                },
                                {
                                    "0": "tempdb",
                                    "1": "dbo",
                                    "2": "#ignore_sql_handles_________________________________________________________________________________________________00000000E7E0",
                                    "3": "BASE TABLE"
                                },
                                {
                                    "0": "tempdb",
                                    "1": "dbo",
                                    "2": "#UpdatedStats_______________________________________________________________________________________________________00000000E7C7",
                                    "3": "BASE TABLE"
                                },
                                {
                                    "0": "tempdb",
                                    "1": "dbo",
                                    "2": "#p__________________________________________________________________________________________________________________00000000E7E1",
                                    "3": "BASE TABLE"
                                },
                                {
                                    "0": "tempdb",
                                    "1": "dbo",
                                    "2": "#checkversion_______________________________________________________________________________________________________00000000E7E2",
                                    "3": "BASE TABLE"
                                },
                                {
                                    "0": "tempdb",
                                    "1": "dbo",
                                    "2": "#configuration______________________________________________________________________________________________________00000000E7E3",
                                    "3": "BASE TABLE"
                                },
                                {
                                    "0": "tempdb",
                                    "1": "dbo",
                                    "2": "#plan_creation______________________________________________________________________________________________________00000000E7E4",
                                    "3": "BASE TABLE"
                                },
                                {
                                    "0": "tempdb",
                                    "1": "dbo",
                                    "2": "#est_rows___________________________________________________________________________________________________________00000000E7E5",
                                    "3": "BASE TABLE"
                                },
                                {
                                    "0": "tempdb",
                                    "1": "dbo",
                                    "2": "#plan_cost__________________________________________________________________________________________________________00000000E7E6",
                                    "3": "BASE TABLE"
                                },
                                {
                                    "0": "tempdb",
                                    "1": "dbo",
                                    "2": "#proc_costs_________________________________________________________________________________________________________00000000E7E7",
                                    "3": "BASE TABLE"
                                },
                                {
                                    "0": "tempdb",
                                    "1": "dbo",
                                    "2": "#stats_agg__________________________________________________________________________________________________________00000000E7E8",
                                    "3": "BASE TABLE"
                                },
                                {
                                    "0": "tempdb",
                                    "1": "dbo",
                                    "2": "#B076DBE9",
                                    "3": "BASE TABLE"
                                },
                                {
                                    "0": "tempdb",
                                    "1": "dbo",
                                    "2": "#trace_flags________________________________________________________________________________________________________00000000E7E9",
                                    "3": "BASE TABLE"
                                },
                                {
                                    "0": "tempdb",
                                    "1": "dbo",
                                    "2": "#stored_proc_info___________________________________________________________________________________________________00000000E7EA",
                                    "3": "BASE TABLE"
                                },
                                {
                                    "0": "tempdb",
                                    "1": "dbo",
                                    "2": "#variable_info______________________________________________________________________________________________________00000000E7EB",
                                    "3": "BASE TABLE"
                                },
                                {
                                    "0": "tempdb",
                                    "1": "dbo",
                                    "2": "#conversion_info____________________________________________________________________________________________________00000000E7EC",
                                    "3": "BASE TABLE"
                                },
                                {
                                    "0": "tempdb",
                                    "1": "dbo",
                                    "2": "#BlitzFirstResults__________________________________________________________________________________________________00000000E7BA",
                                    "3": "BASE TABLE"
                                },
                                {
                                    "0": "tempdb",
                                    "1": "dbo",
                                    "2": "#missing_index_xml__________________________________________________________________________________________________00000000E7ED",
                                    "3": "BASE TABLE"
                                },
                                {
                                    "0": "tempdb",
                                    "1": "dbo",
                                    "2": "#missing_index_schema_______________________________________________________________________________________________00000000E7EE",
                                    "3": "BASE TABLE"
                                },
                                {
                                    "0": "tempdb",
                                    "1": "dbo",
                                    "2": "#WaitStats__________________________________________________________________________________________________________00000000E7BB",
                                    "3": "BASE TABLE"
                                },
                                {
                                    "0": "tempdb",
                                    "1": "dbo",
                                    "2": "#B5E13C06",
                                    "3": "BASE TABLE"
                                },
                                {
                                    "0": "tempdb",
                                    "1": "dbo",
                                    "2": "#missing_index_usage________________________________________________________________________________________________00000000E7EF",
                                    "3": "BASE TABLE"
                                },
                                {
                                    "0": "tempdb",
                                    "1": "dbo",
                                    "2": "#FileStats__________________________________________________________________________________________________________00000000E7BC",
                                    "3": "BASE TABLE"
                                },
                                {
                                    "0": "tempdb",
                                    "1": "dbo",
                                    "2": "#checkversion_allsort_______________________________________________________________________________________________00000000E7D3",
                                    "3": "BASE TABLE"
                                },
                                {
                                    "0": "tempdb",
                                    "1": "dbo",
                                    "2": "#missing_index_detail_______________________________________________________________________________________________00000000E7F0",
                                    "3": "BASE TABLE"
                                },
                                {
                                    "0": "tempdb",
                                    "1": "dbo",
                                    "2": "#bou_allsort________________________________________________________________________________________________________00000000E7D4",
                                    "3": "BASE TABLE"
                                },
                                {
                                    "0": "tempdb",
                                    "1": "dbo",
                                    "2": "#missing_index_pretty_______________________________________________________________________________________________00000000E7F1",
                                    "3": "BASE TABLE"
                                },
                                {
                                    "0": "tempdb",
                                    "1": "dbo",
                                    "2": "#QueryStats_________________________________________________________________________________________________________00000000E7BD",
                                    "3": "BASE TABLE"
                                },
                                {
                                    "0": "tempdb",
                                    "1": "dbo",
                                    "2": "#index_spool_ugly___________________________________________________________________________________________________00000000E7F2",
                                    "3": "BASE TABLE"
                                },
                                {
                                    "0": "tempdb",
                                    "1": "dbo",
                                    "2": "#PerfmonStats_______________________________________________________________________________________________________00000000E7BE",
                                    "3": "BASE TABLE"
                                },
                                {
                                    "0": "tempdb",
                                    "1": "dbo",
                                    "2": "#PerfmonCounters____________________________________________________________________________________________________00000000E7BF",
                                    "3": "BASE TABLE"
                                },
                                {
                                    "0": "tempdb",
                                    "1": "dbo",
                                    "2": "#FilterPlansByDatabase______________________________________________________________________________________________00000000E7C0",
                                    "3": "BASE TABLE"
                                },
                                {
                                    "0": "tempdb",
                                    "1": "dbo",
                                    "2": "V_INVERTED_LINES",
                                    "3": "VIEW"
                                },
                                {
                                    "0": "tempdb",
                                    "1": "dbo",
                                    "2": "##WaitCategories",
                                    "3": "BASE TABLE"
                                },
                                {
                                    "0": "tempdb",
                                    "1": "dbo",
                                    "2": "pieces",
                                    "3": "BASE TABLE"
                                },
                                {
                                    "0": "tempdb",
                                    "1": "dbo",
                                    "2": "results",
                                    "3": "BASE TABLE"
                                },
                                {
                                    "0": "tempdb",
                                    "1": "dbo",
                                    "2": "lines",
                                    "3": "BASE TABLE"
                                },
                                {
                                    "0": "tempdb",
                                    "1": "dbo",
                                    "2": "##BlitzCacheResults",
                                    "3": "BASE TABLE"
                                },
                                {
                                    "0": "tempdb",
                                    "1": "dbo",
                                    "2": "##BlitzCacheProcs",
                                    "3": "BASE TABLE"
                                },
                                {
                                    "0": "tempdb",
                                    "1": "dbo",
                                    "2": "results2",
                                    "3": "BASE TABLE"
                                },
                                {
                                    "0": "tempdb",
                                    "1": "dbo",
                                    "2": "log",
                                    "3": "BASE TABLE"
                                },
                                {
                                    "0": "tempdb",
                                    "1": "dbo",
                                    "2": "solutions",
                                    "3": "BASE TABLE"
                                },
                                {
                                    "0": "tempdb",
                                    "1": "dbo",
                                    "2": "sets",
                                    "3": "BASE TABLE"
                                }
                            ]
                        },
                        "text/html": "<table><tr><th>database</th><th>schema</th><th>name</th><th>type</th></tr><tr><td>tempdb</td><td>dbo</td><td>#MasterFiles________________________________________________________________________________________________________00000000E7C2</td><td>BASE TABLE</td></tr><tr><td>tempdb</td><td>dbo</td><td>#TempdbOperationalStats_____________________________________________________________________________________________00000000E7C4</td><td>BASE TABLE</td></tr><tr><td>tempdb</td><td>dbo</td><td>#SVer_______________________________________________________________________________________________________________00000000E7FC</td><td>BASE TABLE</td></tr><tr><td>tempdb</td><td>dbo</td><td>#only_query_hashes__________________________________________________________________________________________________00000000E7DD</td><td>BASE TABLE</td></tr><tr><td>tempdb</td><td>dbo</td><td>#SVer_______________________________________________________________________________________________________________00000000E7FD</td><td>BASE TABLE</td></tr><tr><td>tempdb</td><td>dbo</td><td>#ignore_query_hashes________________________________________________________________________________________________00000000E7DE</td><td>BASE TABLE</td></tr><tr><td>tempdb</td><td>dbo</td><td>#SVer_______________________________________________________________________________________________________________00000000E7FE</td><td>BASE TABLE</td></tr><tr><td>tempdb</td><td>dbo</td><td>#only_sql_handles___________________________________________________________________________________________________00000000E7DF</td><td>BASE TABLE</td></tr><tr><td>tempdb</td><td>dbo</td><td>#ignore_sql_handles_________________________________________________________________________________________________00000000E7E0</td><td>BASE TABLE</td></tr><tr><td>tempdb</td><td>dbo</td><td>#UpdatedStats_______________________________________________________________________________________________________00000000E7C7</td><td>BASE TABLE</td></tr><tr><td>tempdb</td><td>dbo</td><td>#p__________________________________________________________________________________________________________________00000000E7E1</td><td>BASE TABLE</td></tr><tr><td>tempdb</td><td>dbo</td><td>#checkversion_______________________________________________________________________________________________________00000000E7E2</td><td>BASE TABLE</td></tr><tr><td>tempdb</td><td>dbo</td><td>#configuration______________________________________________________________________________________________________00000000E7E3</td><td>BASE TABLE</td></tr><tr><td>tempdb</td><td>dbo</td><td>#plan_creation______________________________________________________________________________________________________00000000E7E4</td><td>BASE TABLE</td></tr><tr><td>tempdb</td><td>dbo</td><td>#est_rows___________________________________________________________________________________________________________00000000E7E5</td><td>BASE TABLE</td></tr><tr><td>tempdb</td><td>dbo</td><td>#plan_cost__________________________________________________________________________________________________________00000000E7E6</td><td>BASE TABLE</td></tr><tr><td>tempdb</td><td>dbo</td><td>#proc_costs_________________________________________________________________________________________________________00000000E7E7</td><td>BASE TABLE</td></tr><tr><td>tempdb</td><td>dbo</td><td>#stats_agg__________________________________________________________________________________________________________00000000E7E8</td><td>BASE TABLE</td></tr><tr><td>tempdb</td><td>dbo</td><td>#B076DBE9</td><td>BASE TABLE</td></tr><tr><td>tempdb</td><td>dbo</td><td>#trace_flags________________________________________________________________________________________________________00000000E7E9</td><td>BASE TABLE</td></tr><tr><td>tempdb</td><td>dbo</td><td>#stored_proc_info___________________________________________________________________________________________________00000000E7EA</td><td>BASE TABLE</td></tr><tr><td>tempdb</td><td>dbo</td><td>#variable_info______________________________________________________________________________________________________00000000E7EB</td><td>BASE TABLE</td></tr><tr><td>tempdb</td><td>dbo</td><td>#conversion_info____________________________________________________________________________________________________00000000E7EC</td><td>BASE TABLE</td></tr><tr><td>tempdb</td><td>dbo</td><td>#BlitzFirstResults__________________________________________________________________________________________________00000000E7BA</td><td>BASE TABLE</td></tr><tr><td>tempdb</td><td>dbo</td><td>#missing_index_xml__________________________________________________________________________________________________00000000E7ED</td><td>BASE TABLE</td></tr><tr><td>tempdb</td><td>dbo</td><td>#missing_index_schema_______________________________________________________________________________________________00000000E7EE</td><td>BASE TABLE</td></tr><tr><td>tempdb</td><td>dbo</td><td>#WaitStats__________________________________________________________________________________________________________00000000E7BB</td><td>BASE TABLE</td></tr><tr><td>tempdb</td><td>dbo</td><td>#B5E13C06</td><td>BASE TABLE</td></tr><tr><td>tempdb</td><td>dbo</td><td>#missing_index_usage________________________________________________________________________________________________00000000E7EF</td><td>BASE TABLE</td></tr><tr><td>tempdb</td><td>dbo</td><td>#FileStats__________________________________________________________________________________________________________00000000E7BC</td><td>BASE TABLE</td></tr><tr><td>tempdb</td><td>dbo</td><td>#checkversion_allsort_______________________________________________________________________________________________00000000E7D3</td><td>BASE TABLE</td></tr><tr><td>tempdb</td><td>dbo</td><td>#missing_index_detail_______________________________________________________________________________________________00000000E7F0</td><td>BASE TABLE</td></tr><tr><td>tempdb</td><td>dbo</td><td>#bou_allsort________________________________________________________________________________________________________00000000E7D4</td><td>BASE TABLE</td></tr><tr><td>tempdb</td><td>dbo</td><td>#missing_index_pretty_______________________________________________________________________________________________00000000E7F1</td><td>BASE TABLE</td></tr><tr><td>tempdb</td><td>dbo</td><td>#QueryStats_________________________________________________________________________________________________________00000000E7BD</td><td>BASE TABLE</td></tr><tr><td>tempdb</td><td>dbo</td><td>#index_spool_ugly___________________________________________________________________________________________________00000000E7F2</td><td>BASE TABLE</td></tr><tr><td>tempdb</td><td>dbo</td><td>#PerfmonStats_______________________________________________________________________________________________________00000000E7BE</td><td>BASE TABLE</td></tr><tr><td>tempdb</td><td>dbo</td><td>#PerfmonCounters____________________________________________________________________________________________________00000000E7BF</td><td>BASE TABLE</td></tr><tr><td>tempdb</td><td>dbo</td><td>#FilterPlansByDatabase______________________________________________________________________________________________00000000E7C0</td><td>BASE TABLE</td></tr><tr><td>tempdb</td><td>dbo</td><td>V_INVERTED_LINES</td><td>VIEW</td></tr><tr><td>tempdb</td><td>dbo</td><td>##WaitCategories</td><td>BASE TABLE</td></tr><tr><td>tempdb</td><td>dbo</td><td>pieces</td><td>BASE TABLE</td></tr><tr><td>tempdb</td><td>dbo</td><td>results</td><td>BASE TABLE</td></tr><tr><td>tempdb</td><td>dbo</td><td>lines</td><td>BASE TABLE</td></tr><tr><td>tempdb</td><td>dbo</td><td>##BlitzCacheResults</td><td>BASE TABLE</td></tr><tr><td>tempdb</td><td>dbo</td><td>##BlitzCacheProcs</td><td>BASE TABLE</td></tr><tr><td>tempdb</td><td>dbo</td><td>results2</td><td>BASE TABLE</td></tr><tr><td>tempdb</td><td>dbo</td><td>log</td><td>BASE TABLE</td></tr><tr><td>tempdb</td><td>dbo</td><td>solutions</td><td>BASE TABLE</td></tr><tr><td>tempdb</td><td>dbo</td><td>sets</td><td>BASE TABLE</td></tr></table>"
                    },
                    "metadata": {}
                }
            ],
            "execution_count": 27
        },
        {
            "cell_type": "markdown",
            "source": [
                "Cleaup"
            ],
            "metadata": {
                "language": "sql",
                "azdata_cell_guid": "cdbdefef-9c51-4804-9a2b-efc7b19e5e5c"
            },
            "attachments": {}
        },
        {
            "cell_type": "markdown",
            "source": [
                "IF EXISTS (SELECT \\* FROM sys.objects WHERE object\\_id = OBJECT\\_ID(N'\\[dbo\\].\\[results\\]') AND type in (N'U')) DROP TABLE \\[dbo\\].\\[results\\] GO\n",
                "\n",
                "IF EXISTS (SELECT \\* FROM sys.objects WHERE object\\_id = OBJECT\\_ID(N'\\[dbo\\].\\[pieces\\]') AND type in (N'U')) DROP TABLE \\[dbo\\].\\[pieces\\] GO\n",
                "\n",
                "IF EXISTS (SELECT \\* FROM sys.objects WHERE object\\_id = OBJECT\\_ID(N'\\[dbo\\].\\[sets\\]') AND type in (N'U')) DROP TABLE \\[dbo\\].\\[sets\\] GO\n",
                "\n",
                "IF EXISTS (SELECT \\* FROM sys.objects WHERE object\\_id = OBJECT\\_ID(N'\\[dbo\\].\\[lines\\]') AND type in (N'U')) DROP TABLE \\[dbo\\].\\[lines\\] GO\n",
                "\n",
                "IF EXISTS (SELECT \\* FROM sys.objects WHERE object\\_id = OBJECT\\_ID(N'\\[dbo\\].\\[log\\]') AND type in (N'U')) DROP TABLE \\[dbo\\].\\[log\\] GO"
            ],
            "metadata": {
                "language": "",
                "azdata_cell_guid": "3f709690-d6d6-4eb2-8ef8-1d31f1cca6c3",
                "tags": []
            },
            "attachments": {}
        }
    ]
}