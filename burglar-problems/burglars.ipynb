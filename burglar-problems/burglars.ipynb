{
    "metadata": {
        "kernelspec": {
            "name": "SQL",
            "display_name": "SQL",
            "language": "sql"
        },
        "language_info": {
            "name": "sql",
            "version": ""
        }
    },
    "nbformat_minor": 2,
    "nbformat": 4,
    "cells": [
        {
            "cell_type": "markdown",
            "source": [
                "<span style=\"color: rgb(99, 100, 102); font-family: Roboto, sans-serif; background-color: rgb(255, 255, 255);\">A burglar sees 8 items, of different worths and weights. He wants to take the items of greatest total value whose total weight is not more than the maximum&nbsp;</span>  _WTMAX_  <span style=\"color: rgb(99, 100, 102); font-family: Roboto, sans-serif; background-color: rgb(255, 255, 255);\">&nbsp;he can carry.</span>\n",
                "\n",
                "[Source](https:\\www.fico.com\\fico-xpress-optimization\\docs\\dms2020-01\\mosel\\UG\\dhtml\\moselugA2_sec_secA2burglar.html)<span style=\"background-color: rgb(255, 255, 255);\"><br></span>"
            ],
            "metadata": {
                "azdata_cell_guid": "258e38c4-62d3-4e5e-b897-9acbb8e5edd6"
            },
            "attachments": {}
        },
        {
            "cell_type": "markdown",
            "source": [
                "See the first 1000 rows"
            ],
            "metadata": {
                "azdata_cell_guid": "172de4ca-8cbd-4de9-b2d0-b99f04063e15"
            },
            "attachments": {}
        },
        {
            "cell_type": "code",
            "source": [
                "SELECT TOP (1000) [Id]\r\n",
                "      ,[value]\r\n",
                "      ,[weight]\r\n",
                "  FROM [portfolio].[burglars].[items]"
            ],
            "metadata": {
                "azdata_cell_guid": "349eeac0-bc35-4759-9289-7aef7d371fc4",
                "language": "sql"
            },
            "outputs": [
                {
                    "output_type": "display_data",
                    "data": {
                        "text/html": "(8 rows affected)"
                    },
                    "metadata": {}
                },
                {
                    "output_type": "display_data",
                    "data": {
                        "text/html": "Total execution time: 00:00:00.005"
                    },
                    "metadata": {}
                },
                {
                    "output_type": "execute_result",
                    "execution_count": 3,
                    "data": {
                        "application/vnd.dataresource+json": {
                            "schema": {
                                "fields": [
                                    {
                                        "name": "Id"
                                    },
                                    {
                                        "name": "value"
                                    },
                                    {
                                        "name": "weight"
                                    }
                                ]
                            },
                            "data": [
                                {
                                    "Id": "1",
                                    "value": "15",
                                    "weight": "2"
                                },
                                {
                                    "Id": "2",
                                    "value": "100",
                                    "weight": "20"
                                },
                                {
                                    "Id": "3",
                                    "value": "90",
                                    "weight": "20"
                                },
                                {
                                    "Id": "4",
                                    "value": "60",
                                    "weight": "30"
                                },
                                {
                                    "Id": "5",
                                    "value": "40",
                                    "weight": "40"
                                },
                                {
                                    "Id": "6",
                                    "value": "15",
                                    "weight": "30"
                                },
                                {
                                    "Id": "7",
                                    "value": "10",
                                    "weight": "60"
                                },
                                {
                                    "Id": "8",
                                    "value": "1",
                                    "weight": "10"
                                }
                            ]
                        },
                        "text/html": "<table><tr><th>Id</th><th>value</th><th>weight</th></tr><tr><td>1</td><td>15</td><td>2</td></tr><tr><td>2</td><td>100</td><td>20</td></tr><tr><td>3</td><td>90</td><td>20</td></tr><tr><td>4</td><td>60</td><td>30</td></tr><tr><td>5</td><td>40</td><td>40</td></tr><tr><td>6</td><td>15</td><td>30</td></tr><tr><td>7</td><td>10</td><td>60</td></tr><tr><td>8</td><td>1</td><td>10</td></tr></table>"
                    },
                    "metadata": {}
                }
            ],
            "execution_count": 3
        },
        {
            "cell_type": "markdown",
            "source": [
                "Select the conditions"
            ],
            "metadata": {
                "language": "sql",
                "azdata_cell_guid": "f6ac9363-13f8-453c-a4fc-9080745b5cc9"
            },
            "attachments": {}
        },
        {
            "cell_type": "code",
            "source": [
                "  SELECT TOP (1000) [Id]\r\n",
                "      ,[wtmax ]\r\n",
                "      ,[itemsnumber]\r\n",
                "  FROM [portfolio].[burglars].[conditions]"
            ],
            "metadata": {
                "language": "sql",
                "azdata_cell_guid": "52ecf935-ae02-42e6-a009-31beb0316dad"
            },
            "outputs": [
                {
                    "output_type": "display_data",
                    "data": {
                        "text/html": "(1 row affected)"
                    },
                    "metadata": {}
                },
                {
                    "output_type": "display_data",
                    "data": {
                        "text/html": "Total execution time: 00:00:00.004"
                    },
                    "metadata": {}
                },
                {
                    "output_type": "execute_result",
                    "execution_count": 4,
                    "data": {
                        "application/vnd.dataresource+json": {
                            "schema": {
                                "fields": [
                                    {
                                        "name": "Id"
                                    },
                                    {
                                        "name": "wtmax "
                                    },
                                    {
                                        "name": "itemsnumber"
                                    }
                                ]
                            },
                            "data": [
                                {
                                    "Id": "1",
                                    "wtmax ": "102",
                                    "itemsnumber": "8"
                                }
                            ]
                        },
                        "text/html": "<table><tr><th>Id</th><th>wtmax </th><th>itemsnumber</th></tr><tr><td>1</td><td>102</td><td>8</td></tr></table>"
                    },
                    "metadata": {}
                }
            ],
            "execution_count": 4
        },
        {
            "cell_type": "markdown",
            "source": [
                "Select all the rows having weight less than the maximum weight"
            ],
            "metadata": {
                "language": "sql",
                "azdata_cell_guid": "4bf27da4-0048-4aa1-be10-4b389d288a91"
            },
            "attachments": {}
        },
        {
            "cell_type": "code",
            "source": [
                "SELECT TOP (1000) [Id]\r\n",
                "      ,[value]\r\n",
                "      ,[weight]\r\n",
                "  FROM [portfolio].[burglars].[items]\r\n",
                "  WHERE [weight] <  (SELECT TOP (1000) [wtmax ] FROM [portfolio].[burglars].[conditions])\r\n",
                "  ORDER BY [weight] DESC"
            ],
            "metadata": {
                "language": "sql",
                "azdata_cell_guid": "443f5c79-c0b8-43fd-8b54-025ebadb1571"
            },
            "outputs": [
                {
                    "output_type": "display_data",
                    "data": {
                        "text/html": "(8 rows affected)"
                    },
                    "metadata": {}
                },
                {
                    "output_type": "display_data",
                    "data": {
                        "text/html": "Total execution time: 00:00:00.020"
                    },
                    "metadata": {}
                },
                {
                    "output_type": "execute_result",
                    "execution_count": 7,
                    "data": {
                        "application/vnd.dataresource+json": {
                            "schema": {
                                "fields": [
                                    {
                                        "name": "Id"
                                    },
                                    {
                                        "name": "value"
                                    },
                                    {
                                        "name": "weight"
                                    }
                                ]
                            },
                            "data": [
                                {
                                    "Id": "7",
                                    "value": "10",
                                    "weight": "60"
                                },
                                {
                                    "Id": "5",
                                    "value": "40",
                                    "weight": "40"
                                },
                                {
                                    "Id": "6",
                                    "value": "15",
                                    "weight": "30"
                                },
                                {
                                    "Id": "4",
                                    "value": "60",
                                    "weight": "30"
                                },
                                {
                                    "Id": "2",
                                    "value": "100",
                                    "weight": "20"
                                },
                                {
                                    "Id": "3",
                                    "value": "90",
                                    "weight": "20"
                                },
                                {
                                    "Id": "8",
                                    "value": "1",
                                    "weight": "10"
                                },
                                {
                                    "Id": "1",
                                    "value": "15",
                                    "weight": "2"
                                }
                            ]
                        },
                        "text/html": "<table><tr><th>Id</th><th>value</th><th>weight</th></tr><tr><td>7</td><td>10</td><td>60</td></tr><tr><td>5</td><td>40</td><td>40</td></tr><tr><td>6</td><td>15</td><td>30</td></tr><tr><td>4</td><td>60</td><td>30</td></tr><tr><td>2</td><td>100</td><td>20</td></tr><tr><td>3</td><td>90</td><td>20</td></tr><tr><td>8</td><td>1</td><td>10</td></tr><tr><td>1</td><td>15</td><td>2</td></tr></table>"
                    },
                    "metadata": {}
                }
            ],
            "execution_count": 7
        },
        {
            "cell_type": "code",
            "source": [
                "SELECT [Id]\r\n",
                "      ,[value]\r\n",
                "      ,[weight]\r\n",
                "FROM [portfolio].[burglars].[items] i\r\n",
                "WHERE (SELECT SUM([weight]) FROM [portfolio].[burglars].[items] WHERE [Id] <= i.[Id]) <= (SELECT TOP (1000) [wtmax ] FROM [portfolio].[burglars].[conditions]);"
            ],
            "metadata": {
                "language": "sql",
                "azdata_cell_guid": "43a97855-6d73-495b-90c8-b87ca54a485a"
            },
            "outputs": [
                {
                    "output_type": "display_data",
                    "data": {
                        "text/html": "(4 rows affected)"
                    },
                    "metadata": {}
                },
                {
                    "output_type": "display_data",
                    "data": {
                        "text/html": "Total execution time: 00:00:00.024"
                    },
                    "metadata": {}
                },
                {
                    "output_type": "execute_result",
                    "execution_count": 9,
                    "data": {
                        "application/vnd.dataresource+json": {
                            "schema": {
                                "fields": [
                                    {
                                        "name": "Id"
                                    },
                                    {
                                        "name": "value"
                                    },
                                    {
                                        "name": "weight"
                                    }
                                ]
                            },
                            "data": [
                                {
                                    "Id": "1",
                                    "value": "15",
                                    "weight": "2"
                                },
                                {
                                    "Id": "2",
                                    "value": "100",
                                    "weight": "20"
                                },
                                {
                                    "Id": "3",
                                    "value": "90",
                                    "weight": "20"
                                },
                                {
                                    "Id": "4",
                                    "value": "60",
                                    "weight": "30"
                                }
                            ]
                        },
                        "text/html": "<table><tr><th>Id</th><th>value</th><th>weight</th></tr><tr><td>1</td><td>15</td><td>2</td></tr><tr><td>2</td><td>100</td><td>20</td></tr><tr><td>3</td><td>90</td><td>20</td></tr><tr><td>4</td><td>60</td><td>30</td></tr></table>"
                    },
                    "metadata": {}
                }
            ],
            "execution_count": 9
        },
        {
            "cell_type": "code",
            "source": [
                "WITH RecursiveCTE AS (\r\n",
                "    SELECT\r\n",
                "        CAST([Id] AS VARCHAR(MAX)) AS Combination,\r\n",
                "        [value] AS TotalValue,\r\n",
                "        [weight] AS TotalWeight\r\n",
                "    FROM\r\n",
                "        [portfolio].[burglars].[items]\r\n",
                "    UNION ALL\r\n",
                "    SELECT\r\n",
                "        rc.Combination + ',' + CAST(i.Id AS VARCHAR(MAX)),\r\n",
                "        rc.TotalValue + i.[value],\r\n",
                "        rc.TotalWeight + i.[weight]\r\n",
                "    FROM\r\n",
                "        RecursiveCTE rc\r\n",
                "    JOIN\r\n",
                "        [portfolio].[burglars].[items] i ON i.Id > CAST(SUBSTRING(rc.Combination, LEN(rc.Combination) - CHARINDEX(',', REVERSE(rc.Combination)) + 2, LEN(rc.Combination)) AS INT)\r\n",
                "    WHERE\r\n",
                "        rc.TotalWeight + i.[weight] <= (SELECT [wtmax] FROM [portfolio].[burglars].[conditions])\r\n",
                ")\r\n",
                "SELECT\r\n",
                "    Combination,\r\n",
                "    TotalValue,\r\n",
                "    TotalWeight\r\n",
                "FROM\r\n",
                "    RecursiveCTE\r\n",
                "WHERE\r\n",
                "    TotalWeight <= (SELECT [wtmax ] FROM [portfolio].[burglars].[conditions])\r\n",
                "ORDER BY\r\n",
                "    TotalValue DESC, TotalWeight;"
            ],
            "metadata": {
                "language": "sql",
                "azdata_cell_guid": "2b0d1d42-eb24-49d3-9a6a-f8288f6c235c"
            },
            "outputs": [
                {
                    "output_type": "display_data",
                    "data": {
                        "text/html": "(610 rows affected)"
                    },
                    "metadata": {}
                },
                {
                    "output_type": "display_data",
                    "data": {
                        "text/html": "Total execution time: 00:00:00.104"
                    },
                    "metadata": {}
                },
                {
                    "output_type": "execute_result",
                    "metadata": {},
                    "execution_count": 5,
                    "data": {
                        "application/vnd.dataresource+json": {
                            "schema": {
                                "fields": [
                                    {
                                        "name": "Combination"
                                    },
                                    {
                                        "name": "TotalValue"
                                    },
                                    {
                                        "name": "TotalWeight"
                                    }
                                ]
                            },
                            "data": [
                                {
                                    "Combination": "2,1,2,3,4,8",
                                    "TotalValue": "366",
                                    "TotalWeight": "102"
                                },
                                {
                                    "Combination": "2,1,2,3,4",
                                    "TotalValue": "365",
                                    "TotalWeight": "92"
                                },
                                {
                                    "Combination": "3,1,2,3,4,8",
                                    "TotalValue": "356",
                                    "TotalWeight": "102"
                                },
                                {
                                    "Combination": "3,1,2,3,4",
                                    "TotalValue": "355",
                                    "TotalWeight": "92"
                                },
                                {
                                    "Combination": "2,2,3,4,8",
                                    "TotalValue": "351",
                                    "TotalWeight": "100"
                                },
                                {
                                    "Combination": "2,2,3,4",
                                    "TotalValue": "350",
                                    "TotalWeight": "90"
                                },
                                {
                                    "Combination": "2,1,2,3,5",
                                    "TotalValue": "345",
                                    "TotalWeight": "102"
                                },
                                {
                                    "Combination": "3,2,3,4,8",
                                    "TotalValue": "341",
                                    "TotalWeight": "100"
                                },
                                {
                                    "Combination": "3,2,3,4",
                                    "TotalValue": "340",
                                    "TotalWeight": "90"
                                },
                                {
                                    "Combination": "3,1,2,3,5",
                                    "TotalValue": "335",
                                    "TotalWeight": "102"
                                },
                                {
                                    "Combination": "2,2,3,5",
                                    "TotalValue": "330",
                                    "TotalWeight": "100"
                                },
                                {
                                    "Combination": "4,1,2,3,4",
                                    "TotalValue": "325",
                                    "TotalWeight": "102"
                                },
                                {
                                    "Combination": "2,1,2,3,6,8",
                                    "TotalValue": "321",
                                    "TotalWeight": "102"
                                },
                                {
                                    "Combination": "2,1,2,3,6",
                                    "TotalValue": "320",
                                    "TotalWeight": "92"
                                },
                                {
                                    "Combination": "3,2,3,5",
                                    "TotalValue": "320",
                                    "TotalWeight": "100"
                                },
                                {
                                    "Combination": "3,1,2,3,6,8",
                                    "TotalValue": "311",
                                    "TotalWeight": "102"
                                },
                                {
                                    "Combination": "3,1,2,3,6",
                                    "TotalValue": "310",
                                    "TotalWeight": "92"
                                },
                                {
                                    "Combination": "4,2,3,4",
                                    "TotalValue": "310",
                                    "TotalWeight": "100"
                                },
                                {
                                    "Combination": "2,1,2,3,8",
                                    "TotalValue": "306",
                                    "TotalWeight": "72"
                                },
                                {
                                    "Combination": "2,2,3,6,8",
                                    "TotalValue": "306",
                                    "TotalWeight": "100"
                                },
                                {
                                    "Combination": "2,1,2,3",
                                    "TotalValue": "305",
                                    "TotalWeight": "62"
                                },
                                {
                                    "Combination": "2,2,3,6",
                                    "TotalValue": "305",
                                    "TotalWeight": "90"
                                },
                                {
                                    "Combination": "3,1,2,3,8",
                                    "TotalValue": "296",
                                    "TotalWeight": "72"
                                },
                                {
                                    "Combination": "3,2,3,6,8",
                                    "TotalValue": "296",
                                    "TotalWeight": "100"
                                },
                                {
                                    "Combination": "3,1,2,3",
                                    "TotalValue": "295",
                                    "TotalWeight": "62"
                                },
                                {
                                    "Combination": "3,2,3,6",
                                    "TotalValue": "295",
                                    "TotalWeight": "90"
                                },
                                {
                                    "Combination": "2,2,3,8",
                                    "TotalValue": "291",
                                    "TotalWeight": "70"
                                },
                                {
                                    "Combination": "2,2,3",
                                    "TotalValue": "290",
                                    "TotalWeight": "60"
                                },
                                {
                                    "Combination": "2,1,2,4,6",
                                    "TotalValue": "290",
                                    "TotalWeight": "102"
                                },
                                {
                                    "Combination": "3,2,3,8",
                                    "TotalValue": "281",
                                    "TotalWeight": "70"
                                },
                                {
                                    "Combination": "1,1,2,3,4,8",
                                    "TotalValue": "281",
                                    "TotalWeight": "84"
                                },
                                {
                                    "Combination": "3,2,3",
                                    "TotalValue": "280",
                                    "TotalWeight": "60"
                                },
                                {
                                    "Combination": "1,1,2,3,4",
                                    "TotalValue": "280",
                                    "TotalWeight": "74"
                                },
                                {
                                    "Combination": "4,1,2,3,6",
                                    "TotalValue": "280",
                                    "TotalWeight": "102"
                                },
                                {
                                    "Combination": "3,1,2,4,6",
                                    "TotalValue": "280",
                                    "TotalWeight": "102"
                                },
                                {
                                    "Combination": "2,1,3,4,6",
                                    "TotalValue": "280",
                                    "TotalWeight": "102"
                                },
                                {
                                    "Combination": "1,2,3,4,6",
                                    "TotalValue": "280",
                                    "TotalWeight": "102"
                                },
                                {
                                    "Combination": "6,1,2,3,4",
                                    "TotalValue": "280",
                                    "TotalWeight": "102"
                                },
                                {
                                    "Combination": "2,1,2,4,8",
                                    "TotalValue": "276",
                                    "TotalWeight": "82"
                                },
                                {
                                    "Combination": "2,1,2,4",
                                    "TotalValue": "275",
                                    "TotalWeight": "72"
                                },
                                {
                                    "Combination": "2,2,4,6",
                                    "TotalValue": "275",
                                    "TotalWeight": "100"
                                },
                                {
                                    "Combination": "3,1,3,4,6",
                                    "TotalValue": "270",
                                    "TotalWeight": "102"
                                },
                                {
                                    "Combination": "8,1,2,3,4,8",
                                    "TotalValue": "267",
                                    "TotalWeight": "92"
                                },
                                {
                                    "Combination": "8,1,2,3,4",
                                    "TotalValue": "266",
                                    "TotalWeight": "82"
                                },
                                {
                                    "Combination": "3,1,2,4,8",
                                    "TotalValue": "266",
                                    "TotalWeight": "82"
                                },
                                {
                                    "Combination": "4,1,2,3,8",
                                    "TotalValue": "266",
                                    "TotalWeight": "82"
                                },
                                {
                                    "Combination": "2,1,3,4,8",
                                    "TotalValue": "266",
                                    "TotalWeight": "82"
                                },
                                {
                                    "Combination": "1,2,3,4,8",
                                    "TotalValue": "266",
                                    "TotalWeight": "82"
                                },
                                {
                                    "Combination": "1,2,3,4",
                                    "TotalValue": "265",
                                    "TotalWeight": "72"
                                },
                                {
                                    "Combination": "2,1,3,4",
                                    "TotalValue": "265",
                                    "TotalWeight": "72"
                                },
                                {
                                    "Combination": "4,1,2,3",
                                    "TotalValue": "265",
                                    "TotalWeight": "72"
                                },
                                {
                                    "Combination": "3,1,2,4",
                                    "TotalValue": "265",
                                    "TotalWeight": "72"
                                },
                                {
                                    "Combination": "2,3,4,6",
                                    "TotalValue": "265",
                                    "TotalWeight": "100"
                                },
                                {
                                    "Combination": "3,2,4,6",
                                    "TotalValue": "265",
                                    "TotalWeight": "100"
                                },
                                {
                                    "Combination": "6,2,3,4",
                                    "TotalValue": "265",
                                    "TotalWeight": "100"
                                },
                                {
                                    "Combination": "4,2,3,6",
                                    "TotalValue": "265",
                                    "TotalWeight": "100"
                                },
                                {
                                    "Combination": "2,2,4,8",
                                    "TotalValue": "261",
                                    "TotalWeight": "80"
                                },
                                {
                                    "Combination": "1,1,2,3,5,8",
                                    "TotalValue": "261",
                                    "TotalWeight": "94"
                                },
                                {
                                    "Combination": "2,2,4",
                                    "TotalValue": "260",
                                    "TotalWeight": "70"
                                },
                                {
                                    "Combination": "1,1,2,3,5",
                                    "TotalValue": "260",
                                    "TotalWeight": "84"
                                },
                                {
                                    "Combination": "3,1,3,4,8",
                                    "TotalValue": "256",
                                    "TotalWeight": "82"
                                },
                                {
                                    "Combination": "2,1,2,5,8",
                                    "TotalValue": "256",
                                    "TotalWeight": "92"
                                },
                                {
                                    "Combination": "3,1,3,4",
                                    "TotalValue": "255",
                                    "TotalWeight": "72"
                                },
                                {
                                    "Combination": "2,1,2,5",
                                    "TotalValue": "255",
                                    "TotalWeight": "82"
                                },
                                {
                                    "Combination": "3,3,4,6",
                                    "TotalValue": "255",
                                    "TotalWeight": "100"
                                },
                                {
                                    "Combination": "8,2,3,4,8",
                                    "TotalValue": "252",
                                    "TotalWeight": "90"
                                },
                                {
                                    "Combination": "8,2,3,4",
                                    "TotalValue": "251",
                                    "TotalWeight": "80"
                                },
                                {
                                    "Combination": "4,2,3,8",
                                    "TotalValue": "251",
                                    "TotalWeight": "80"
                                },
                                {
                                    "Combination": "3,2,4,8",
                                    "TotalValue": "251",
                                    "TotalWeight": "80"
                                },
                                {
                                    "Combination": "2,3,4,8",
                                    "TotalValue": "251",
                                    "TotalWeight": "80"
                                },
                                {
                                    "Combination": "2,3,4",
                                    "TotalValue": "250",
                                    "TotalWeight": "70"
                                },
                                {
                                    "Combination": "3,2,4",
                                    "TotalValue": "250",
                                    "TotalWeight": "70"
                                },
                                {
                                    "Combination": "4,2,3",
                                    "TotalValue": "250",
                                    "TotalWeight": "70"
                                },
                                {
                                    "Combination": "8,1,2,3,5,8",
                                    "TotalValue": "247",
                                    "TotalWeight": "102"
                                },
                                {
                                    "Combination": "8,1,2,3,5",
                                    "TotalValue": "246",
                                    "TotalWeight": "92"
                                },
                                {
                                    "Combination": "5,1,2,3,8",
                                    "TotalValue": "246",
                                    "TotalWeight": "92"
                                },
                                {
                                    "Combination": "3,1,2,5,8",
                                    "TotalValue": "246",
                                    "TotalWeight": "92"
                                },
                                {
                                    "Combination": "2,1,3,5,8",
                                    "TotalValue": "246",
                                    "TotalWeight": "92"
                                },
                                {
                                    "Combination": "1,2,3,5,8",
                                    "TotalValue": "246",
                                    "TotalWeight": "92"
                                },
                                {
                                    "Combination": "1,2,3,5",
                                    "TotalValue": "245",
                                    "TotalWeight": "82"
                                },
                                {
                                    "Combination": "2,1,3,5",
                                    "TotalValue": "245",
                                    "TotalWeight": "82"
                                },
                                {
                                    "Combination": "3,1,2,5",
                                    "TotalValue": "245",
                                    "TotalWeight": "82"
                                },
                                {
                                    "Combination": "5,1,2,3",
                                    "TotalValue": "245",
                                    "TotalWeight": "82"
                                },
                                {
                                    "Combination": "3,3,4,8",
                                    "TotalValue": "241",
                                    "TotalWeight": "80"
                                },
                                {
                                    "Combination": "2,2,5,8",
                                    "TotalValue": "241",
                                    "TotalWeight": "90"
                                },
                                {
                                    "Combination": "3,3,4",
                                    "TotalValue": "240",
                                    "TotalWeight": "70"
                                },
                                {
                                    "Combination": "2,2,5",
                                    "TotalValue": "240",
                                    "TotalWeight": "80"
                                },
                                {
                                    "Combination": "1,1,2,3,6,8",
                                    "TotalValue": "236",
                                    "TotalWeight": "84"
                                },
                                {
                                    "Combination": "3,1,3,5,8",
                                    "TotalValue": "236",
                                    "TotalWeight": "92"
                                },
                                {
                                    "Combination": "4,1,2,4,8",
                                    "TotalValue": "236",
                                    "TotalWeight": "92"
                                },
                                {
                                    "Combination": "1,1,2,3,6",
                                    "TotalValue": "235",
                                    "TotalWeight": "74"
                                },
                                {
                                    "Combination": "4,1,2,4",
                                    "TotalValue": "235",
                                    "TotalWeight": "82"
                                },
                                {
                                    "Combination": "3,1,3,5",
                                    "TotalValue": "235",
                                    "TotalWeight": "82"
                                },
                                {
                                    "Combination": "6,1,2,3,6",
                                    "TotalValue": "235",
                                    "TotalWeight": "102"
                                },
                                {
                                    "Combination": "8,2,3,5,8",
                                    "TotalValue": "232",
                                    "TotalWeight": "100"
                                },
                                {
                                    "Combination": "2,1,2,6,8",
                                    "TotalValue": "231",
                                    "TotalWeight": "82"
                                },
                                {
                                    "Combination": "3,2,5,8",
                                    "TotalValue": "231",
                                    "TotalWeight": "90"
                                },
                                {
                                    "Combination": "2,3,5,8",
                                    "TotalValue": "231",
                                    "TotalWeight": "90"
                                },
                                {
                                    "Combination": "8,2,3,5",
                                    "TotalValue": "231",
                                    "TotalWeight": "90"
                                },
                                {
                                    "Combination": "5,2,3,8",
                                    "TotalValue": "231",
                                    "TotalWeight": "90"
                                },
                                {
                                    "Combination": "2,1,2,6",
                                    "TotalValue": "230",
                                    "TotalWeight": "72"
                                },
                                {
                                    "Combination": "2,3,5",
                                    "TotalValue": "230",
                                    "TotalWeight": "80"
                                },
                                {
                                    "Combination": "3,2,5",
                                    "TotalValue": "230",
                                    "TotalWeight": "80"
                                },
                                {
                                    "Combination": "5,2,3",
                                    "TotalValue": "230",
                                    "TotalWeight": "80"
                                },
                                {
                                    "Combination": "1,1,2,4,5",
                                    "TotalValue": "230",
                                    "TotalWeight": "94"
                                },
                                {
                                    "Combination": "4,1,3,4,8",
                                    "TotalValue": "226",
                                    "TotalWeight": "92"
                                },
                                {
                                    "Combination": "4,1,3,4",
                                    "TotalValue": "225",
                                    "TotalWeight": "82"
                                },
                                {
                                    "Combination": "2,1,2,7",
                                    "TotalValue": "225",
                                    "TotalWeight": "102"
                                },
                                {
                                    "Combination": "8,1,2,3,6,8",
                                    "TotalValue": "222",
                                    "TotalWeight": "92"
                                },
                                {
                                    "Combination": "1,1,2,3,8",
                                    "TotalValue": "221",
                                    "TotalWeight": "54"
                                },
                                {
                                    "Combination": "8,1,2,3,6",
                                    "TotalValue": "221",
                                    "TotalWeight": "82"
                                },
                                {
                                    "Combination": "6,1,2,3,8",
                                    "TotalValue": "221",
                                    "TotalWeight": "82"
                                },
                                {
                                    "Combination": "2,1,3,6,8",
                                    "TotalValue": "221",
                                    "TotalWeight": "82"
                                },
                                {
                                    "Combination": "1,2,3,6,8",
                                    "TotalValue": "221",
                                    "TotalWeight": "82"
                                },
                                {
                                    "Combination": "3,1,2,6,8",
                                    "TotalValue": "221",
                                    "TotalWeight": "82"
                                },
                                {
                                    "Combination": "3,3,5,8",
                                    "TotalValue": "221",
                                    "TotalWeight": "90"
                                },
                                {
                                    "Combination": "4,2,4,8",
                                    "TotalValue": "221",
                                    "TotalWeight": "90"
                                },
                                {
                                    "Combination": "1,1,2,3",
                                    "TotalValue": "220",
                                    "TotalWeight": "44"
                                },
                                {
                                    "Combination": "1,2,3,6",
                                    "TotalValue": "220",
                                    "TotalWeight": "72"
                                },
                                {
                                    "Combination": "2,1,3,6",
                                    "TotalValue": "220",
                                    "TotalWeight": "72"
                                },
                                {
                                    "Combination": "3,1,2,6",
                                    "TotalValue": "220",
                                    "TotalWeight": "72"
                                },
                                {
                                    "Combination": "6,1,2,3",
                                    "TotalValue": "220",
                                    "TotalWeight": "72"
                                },
                                {
                                    "Combination": "4,2,4",
                                    "TotalValue": "220",
                                    "TotalWeight": "80"
                                },
                                {
                                    "Combination": "3,3,5",
                                    "TotalValue": "220",
                                    "TotalWeight": "80"
                                },
                                {
                                    "Combination": "1,1,3,4,5",
                                    "TotalValue": "220",
                                    "TotalWeight": "94"
                                },
                                {
                                    "Combination": "6,2,3,6",
                                    "TotalValue": "220",
                                    "TotalWeight": "100"
                                },
                                {
                                    "Combination": "2,1,2,8",
                                    "TotalValue": "216",
                                    "TotalWeight": "52"
                                },
                                {
                                    "Combination": "2,2,6,8",
                                    "TotalValue": "216",
                                    "TotalWeight": "80"
                                },
                                {
                                    "Combination": "4,1,2,5,8",
                                    "TotalValue": "216",
                                    "TotalWeight": "102"
                                },
                                {
                                    "Combination": "2,1,4,5,8",
                                    "TotalValue": "216",
                                    "TotalWeight": "102"
                                },
                                {
                                    "Combination": "1,2,4,5,8",
                                    "TotalValue": "216",
                                    "TotalWeight": "102"
                                },
                                {
                                    "Combination": "5,1,2,4,8",
                                    "TotalValue": "216",
                                    "TotalWeight": "102"
                                },
                                {
                                    "Combination": "8,1,2,4,5",
                                    "TotalValue": "216",
                                    "TotalWeight": "102"
                                },
                                {
                                    "Combination": "2,1,2",
                                    "TotalValue": "215",
                                    "TotalWeight": "42"
                                },
                                {
                                    "Combination": "2,2,6",
                                    "TotalValue": "215",
                                    "TotalWeight": "70"
                                },
                                {
                                    "Combination": "4,1,2,5",
                                    "TotalValue": "215",
                                    "TotalWeight": "92"
                                },
                                {
                                    "Combination": "2,1,4,5",
                                    "TotalValue": "215",
                                    "TotalWeight": "92"
                                },
                                {
                                    "Combination": "1,2,4,5",
                                    "TotalValue": "215",
                                    "TotalWeight": "92"
                                },
                                {
                                    "Combination": "5,1,2,4",
                                    "TotalValue": "215",
                                    "TotalWeight": "92"
                                },
                                {
                                    "Combination": "7,1,2,3",
                                    "TotalValue": "215",
                                    "TotalWeight": "102"
                                },
                                {
                                    "Combination": "1,2,3,7",
                                    "TotalValue": "215",
                                    "TotalWeight": "102"
                                },
                                {
                                    "Combination": "2,1,3,7",
                                    "TotalValue": "215",
                                    "TotalWeight": "102"
                                },
                                {
                                    "Combination": "3,1,2,7",
                                    "TotalValue": "215",
                                    "TotalWeight": "102"
                                },
                                {
                                    "Combination": "3,1,3,6,8",
                                    "TotalValue": "211",
                                    "TotalWeight": "82"
                                },
                                {
                                    "Combination": "4,3,4,8",
                                    "TotalValue": "211",
                                    "TotalWeight": "90"
                                },
                                {
                                    "Combination": "3,1,3,6",
                                    "TotalValue": "210",
                                    "TotalWeight": "72"
                                },
                                {
                                    "Combination": "4,3,4",
                                    "TotalValue": "210",
                                    "TotalWeight": "80"
                                },
                                {
                                    "Combination": "2,2,7",
                                    "TotalValue": "210",
                                    "TotalWeight": "100"
                                },
                                {
                                    "Combination": "8,1,2,3,8",
                                    "TotalValue": "207",
                                    "TotalWeight": "62"
                                },
                                {
                                    "Combination": "8,2,3,6,8",
                                    "TotalValue": "207",
                                    "TotalWeight": "90"
                                },
                                {
                                    "Combination": "8,1,2,3",
                                    "TotalValue": "206",
                                    "TotalWeight": "52"
                                },
                                {
                                    "Combination": "3,1,2,8",
                                    "TotalValue": "206",
                                    "TotalWeight": "52"
                                },
                                {
                                    "Combination": "2,1,3,8",
                                    "TotalValue": "206",
                                    "TotalWeight": "52"
                                },
                                {
                                    "Combination": "1,2,3,8",
                                    "TotalValue": "206",
                                    "TotalWeight": "52"
                                },
                                {
                                    "Combination": "2,3,6,8",
                                    "TotalValue": "206",
                                    "TotalWeight": "80"
                                },
                                {
                                    "Combination": "3,2,6,8",
                                    "TotalValue": "206",
                                    "TotalWeight": "80"
                                },
                                {
                                    "Combination": "8,2,3,6",
                                    "TotalValue": "206",
                                    "TotalWeight": "80"
                                },
                                {
                                    "Combination": "6,2,3,8",
                                    "TotalValue": "206",
                                    "TotalWeight": "80"
                                },
                                {
                                    "Combination": "1,1,2,4,6,8",
                                    "TotalValue": "206",
                                    "TotalWeight": "94"
                                },
                                {
                                    "Combination": "5,1,3,4,8",
                                    "TotalValue": "206",
                                    "TotalWeight": "102"
                                },
                                {
                                    "Combination": "8,1,3,4,5",
                                    "TotalValue": "206",
                                    "TotalWeight": "102"
                                },
                                {
                                    "Combination": "4,1,3,5,8",
                                    "TotalValue": "206",
                                    "TotalWeight": "102"
                                },
                                {
                                    "Combination": "3,1,4,5,8",
                                    "TotalValue": "206",
                                    "TotalWeight": "102"
                                },
                                {
                                    "Combination": "1,3,4,5,8",
                                    "TotalValue": "206",
                                    "TotalWeight": "102"
                                },
                                {
                                    "Combination": "1,2,3",
                                    "TotalValue": "205",
                                    "TotalWeight": "42"
                                },
                                {
                                    "Combination": "2,1,3",
                                    "TotalValue": "205",
                                    "TotalWeight": "42"
                                },
                                {
                                    "Combination": "3,1,2",
                                    "TotalValue": "205",
                                    "TotalWeight": "42"
                                },
                                {
                                    "Combination": "3,2,6",
                                    "TotalValue": "205",
                                    "TotalWeight": "70"
                                },
                                {
                                    "Combination": "2,3,6",
                                    "TotalValue": "205",
                                    "TotalWeight": "70"
                                },
                                {
                                    "Combination": "6,2,3",
                                    "TotalValue": "205",
                                    "TotalWeight": "70"
                                },
                                {
                                    "Combination": "1,1,2,4,6",
                                    "TotalValue": "205",
                                    "TotalWeight": "84"
                                },
                                {
                                    "Combination": "5,1,3,4",
                                    "TotalValue": "205",
                                    "TotalWeight": "92"
                                },
                                {
                                    "Combination": "3,1,4,5",
                                    "TotalValue": "205",
                                    "TotalWeight": "92"
                                },
                                {
                                    "Combination": "4,1,3,5",
                                    "TotalValue": "205",
                                    "TotalWeight": "92"
                                },
                                {
                                    "Combination": "1,3,4,5",
                                    "TotalValue": "205",
                                    "TotalWeight": "92"
                                },
                                {
                                    "Combination": "3,1,3,7",
                                    "TotalValue": "205",
                                    "TotalWeight": "102"
                                },
                                {
                                    "Combination": "2,2,8",
                                    "TotalValue": "201",
                                    "TotalWeight": "50"
                                },
                                {
                                    "Combination": "2,4,5,8",
                                    "TotalValue": "201",
                                    "TotalWeight": "100"
                                },
                                {
                                    "Combination": "5,2,4,8",
                                    "TotalValue": "201",
                                    "TotalWeight": "100"
                                },
                                {
                                    "Combination": "4,2,5,8",
                                    "TotalValue": "201",
                                    "TotalWeight": "100"
                                },
                                {
                                    "Combination": "8,2,4,5",
                                    "TotalValue": "201",
                                    "TotalWeight": "100"
                                },
                                {
                                    "Combination": "2,2",
                                    "TotalValue": "200",
                                    "TotalWeight": "40"
                                },
                                {
                                    "Combination": "2,4,5",
                                    "TotalValue": "200",
                                    "TotalWeight": "90"
                                },
                                {
                                    "Combination": "4,2,5",
                                    "TotalValue": "200",
                                    "TotalWeight": "90"
                                },
                                {
                                    "Combination": "5,2,4",
                                    "TotalValue": "200",
                                    "TotalWeight": "90"
                                },
                                {
                                    "Combination": "7,2,3",
                                    "TotalValue": "200",
                                    "TotalWeight": "100"
                                },
                                {
                                    "Combination": "2,3,7",
                                    "TotalValue": "200",
                                    "TotalWeight": "100"
                                },
                                {
                                    "Combination": "3,2,7",
                                    "TotalValue": "200",
                                    "TotalWeight": "100"
                                },
                                {
                                    "Combination": "3,1,3,8",
                                    "TotalValue": "196",
                                    "TotalWeight": "52"
                                },
                                {
                                    "Combination": "3,3,6,8",
                                    "TotalValue": "196",
                                    "TotalWeight": "80"
                                },
                                {
                                    "Combination": "1,1,3,4,6,8",
                                    "TotalValue": "196",
                                    "TotalWeight": "94"
                                },
                                {
                                    "Combination": "3,1,3",
                                    "TotalValue": "195",
                                    "TotalWeight": "42"
                                },
                                {
                                    "Combination": "3,3,6",
                                    "TotalValue": "195",
                                    "TotalWeight": "70"
                                },
                                {
                                    "Combination": "1,1,3,4,6",
                                    "TotalValue": "195",
                                    "TotalWeight": "84"
                                },
                                {
                                    "Combination": "5,1,2,5",
                                    "TotalValue": "195",
                                    "TotalWeight": "102"
                                },
                                {
                                    "Combination": "8,2,3,8",
                                    "TotalValue": "192",
                                    "TotalWeight": "60"
                                },
                                {
                                    "Combination": "8,1,2,4,6,8",
                                    "TotalValue": "192",
                                    "TotalWeight": "102"
                                },
                                {
                                    "Combination": "8,2,3",
                                    "TotalValue": "191",
                                    "TotalWeight": "50"
                                },
                                {
                                    "Combination": "3,2,8",
                                    "TotalValue": "191",
                                    "TotalWeight": "50"
                                },
                                {
                                    "Combination": "2,3,8",
                                    "TotalValue": "191",
                                    "TotalWeight": "50"
                                },
                                {
                                    "Combination": "1,1,2,4,8",
                                    "TotalValue": "191",
                                    "TotalWeight": "64"
                                },
                                {
                                    "Combination": "4,1,2,6,8",
                                    "TotalValue": "191",
                                    "TotalWeight": "92"
                                },
                                {
                                    "Combination": "1,2,4,6,8",
                                    "TotalValue": "191",
                                    "TotalWeight": "92"
                                },
                                {
                                    "Combination": "2,1,4,6,8",
                                    "TotalValue": "191",
                                    "TotalWeight": "92"
                                },
                                {
                                    "Combination": "8,1,2,4,6",
                                    "TotalValue": "191",
                                    "TotalWeight": "92"
                                },
                                {
                                    "Combination": "6,1,2,4,8",
                                    "TotalValue": "191",
                                    "TotalWeight": "92"
                                },
                                {
                                    "Combination": "5,3,4,8",
                                    "TotalValue": "191",
                                    "TotalWeight": "100"
                                },
                                {
                                    "Combination": "4,3,5,8",
                                    "TotalValue": "191",
                                    "TotalWeight": "100"
                                },
                                {
                                    "Combination": "8,3,4,5",
                                    "TotalValue": "191",
                                    "TotalWeight": "100"
                                },
                                {
                                    "Combination": "3,4,5,8",
                                    "TotalValue": "191",
                                    "TotalWeight": "100"
                                },
                                {
                                    "Combination": "3,2",
                                    "TotalValue": "190",
                                    "TotalWeight": "40"
                                },
                                {
                                    "Combination": "2,3",
                                    "TotalValue": "190",
                                    "TotalWeight": "40"
                                },
                                {
                                    "Combination": "1,1,2,4",
                                    "TotalValue": "190",
                                    "TotalWeight": "54"
                                },
                                {
                                    "Combination": "1,2,4,6",
                                    "TotalValue": "190",
                                    "TotalWeight": "82"
                                },
                                {
                                    "Combination": "2,1,4,6",
                                    "TotalValue": "190",
                                    "TotalWeight": "82"
                                },
                                {
                                    "Combination": "4,1,2,6",
                                    "TotalValue": "190",
                                    "TotalWeight": "82"
                                },
                                {
                                    "Combination": "6,1,2,4",
                                    "TotalValue": "190",
                                    "TotalWeight": "82"
                                },
                                {
                                    "Combination": "5,3,4",
                                    "TotalValue": "190",
                                    "TotalWeight": "90"
                                },
                                {
                                    "Combination": "4,3,5",
                                    "TotalValue": "190",
                                    "TotalWeight": "90"
                                },
                                {
                                    "Combination": "3,4,5",
                                    "TotalValue": "190",
                                    "TotalWeight": "90"
                                },
                                {
                                    "Combination": "3,3,7",
                                    "TotalValue": "190",
                                    "TotalWeight": "100"
                                },
                                {
                                    "Combination": "1,1,2,5,6",
                                    "TotalValue": "185",
                                    "TotalWeight": "94"
                                },
                                {
                                    "Combination": "5,1,3,5",
                                    "TotalValue": "185",
                                    "TotalWeight": "102"
                                },
                                {
                                    "Combination": "8,1,3,4,6,8",
                                    "TotalValue": "182",
                                    "TotalWeight": "102"
                                },
                                {
                                    "Combination": "3,3,8",
                                    "TotalValue": "181",
                                    "TotalWeight": "50"
                                },
                                {
                                    "Combination": "1,1,3,4,8",
                                    "TotalValue": "181",
                                    "TotalWeight": "64"
                                },
                                {
                                    "Combination": "1,3,4,6,8",
                                    "TotalValue": "181",
                                    "TotalWeight": "92"
                                },
                                {
                                    "Combination": "4,1,3,6,8",
                                    "TotalValue": "181",
                                    "TotalWeight": "92"
                                },
                                {
                                    "Combination": "3,1,4,6,8",
                                    "TotalValue": "181",
                                    "TotalWeight": "92"
                                },
                                {
                                    "Combination": "8,1,3,4,6",
                                    "TotalValue": "181",
                                    "TotalWeight": "92"
                                },
                                {
                                    "Combination": "6,1,3,4,8",
                                    "TotalValue": "181",
                                    "TotalWeight": "92"
                                },
                                {
                                    "Combination": "3,3",
                                    "TotalValue": "180",
                                    "TotalWeight": "40"
                                },
                                {
                                    "Combination": "1,1,3,4",
                                    "TotalValue": "180",
                                    "TotalWeight": "54"
                                },
                                {
                                    "Combination": "1,3,4,6",
                                    "TotalValue": "180",
                                    "TotalWeight": "82"
                                },
                                {
                                    "Combination": "4,1,3,6",
                                    "TotalValue": "180",
                                    "TotalWeight": "82"
                                },
                                {
                                    "Combination": "3,1,4,6",
                                    "TotalValue": "180",
                                    "TotalWeight": "82"
                                },
                                {
                                    "Combination": "6,1,3,4",
                                    "TotalValue": "180",
                                    "TotalWeight": "82"
                                },
                                {
                                    "Combination": "5,2,5",
                                    "TotalValue": "180",
                                    "TotalWeight": "100"
                                },
                                {
                                    "Combination": "8,1,2,4,8",
                                    "TotalValue": "177",
                                    "TotalWeight": "72"
                                },
                                {
                                    "Combination": "8,2,4,6,8",
                                    "TotalValue": "177",
                                    "TotalWeight": "100"
                                },
                                {
                                    "Combination": "8,1,2,4",
                                    "TotalValue": "176",
                                    "TotalWeight": "62"
                                },
                                {
                                    "Combination": "4,1,2,8",
                                    "TotalValue": "176",
                                    "TotalWeight": "62"
                                },
                                {
                                    "Combination": "1,2,4,8",
                                    "TotalValue": "176",
                                    "TotalWeight": "62"
                                },
                                {
                                    "Combination": "2,1,4,8",
                                    "TotalValue": "176",
                                    "TotalWeight": "62"
                                },
                                {
                                    "Combination": "2,4,6,8",
                                    "TotalValue": "176",
                                    "TotalWeight": "90"
                                },
                                {
                                    "Combination": "8,2,4,6",
                                    "TotalValue": "176",
                                    "TotalWeight": "90"
                                },
                                {
                                    "Combination": "6,2,4,8",
                                    "TotalValue": "176",
                                    "TotalWeight": "90"
                                },
                                {
                                    "Combination": "4,2,6,8",
                                    "TotalValue": "176",
                                    "TotalWeight": "90"
                                },
                                {
                                    "Combination": "4,1,2",
                                    "TotalValue": "175",
                                    "TotalWeight": "52"
                                },
                                {
                                    "Combination": "2,1,4",
                                    "TotalValue": "175",
                                    "TotalWeight": "52"
                                },
                                {
                                    "Combination": "1,2,4",
                                    "TotalValue": "175",
                                    "TotalWeight": "52"
                                },
                                {
                                    "Combination": "2,4,6",
                                    "TotalValue": "175",
                                    "TotalWeight": "80"
                                },
                                {
                                    "Combination": "4,2,6",
                                    "TotalValue": "175",
                                    "TotalWeight": "80"
                                },
                                {
                                    "Combination": "6,2,4",
                                    "TotalValue": "175",
                                    "TotalWeight": "80"
                                },
                                {
                                    "Combination": "1,1,3,5,6",
                                    "TotalValue": "175",
                                    "TotalWeight": "94"
                                },
                                {
                                    "Combination": "4,1,4,5",
                                    "TotalValue": "175",
                                    "TotalWeight": "102"
                                },
                                {
                                    "Combination": "1,1,2,5,8",
                                    "TotalValue": "171",
                                    "TotalWeight": "74"
                                },
                                {
                                    "Combination": "1,2,5,6,8",
                                    "TotalValue": "171",
                                    "TotalWeight": "102"
                                },
                                {
                                    "Combination": "2,1,5,6,8",
                                    "TotalValue": "171",
                                    "TotalWeight": "102"
                                },
                                {
                                    "Combination": "6,1,2,5,8",
                                    "TotalValue": "171",
                                    "TotalWeight": "102"
                                },
                                {
                                    "Combination": "5,1,2,6,8",
                                    "TotalValue": "171",
                                    "TotalWeight": "102"
                                },
                                {
                                    "Combination": "8,1,2,5,6",
                                    "TotalValue": "171",
                                    "TotalWeight": "102"
                                },
                                {
                                    "Combination": "1,1,2,5",
                                    "TotalValue": "170",
                                    "TotalWeight": "64"
                                },
                                {
                                    "Combination": "1,2,5,6",
                                    "TotalValue": "170",
                                    "TotalWeight": "92"
                                },
                                {
                                    "Combination": "2,1,5,6",
                                    "TotalValue": "170",
                                    "TotalWeight": "92"
                                },
                                {
                                    "Combination": "5,1,2,6",
                                    "TotalValue": "170",
                                    "TotalWeight": "92"
                                },
                                {
                                    "Combination": "6,1,2,5",
                                    "TotalValue": "170",
                                    "TotalWeight": "92"
                                },
                                {
                                    "Combination": "5,3,5",
                                    "TotalValue": "170",
                                    "TotalWeight": "100"
                                },
                                {
                                    "Combination": "8,1,3,4,8",
                                    "TotalValue": "167",
                                    "TotalWeight": "72"
                                },
                                {
                                    "Combination": "8,3,4,6,8",
                                    "TotalValue": "167",
                                    "TotalWeight": "100"
                                },
                                {
                                    "Combination": "8,1,3,4",
                                    "TotalValue": "166",
                                    "TotalWeight": "62"
                                },
                                {
                                    "Combination": "1,3,4,8",
                                    "TotalValue": "166",
                                    "TotalWeight": "62"
                                },
                                {
                                    "Combination": "4,1,3,8",
                                    "TotalValue": "166",
                                    "TotalWeight": "62"
                                },
                                {
                                    "Combination": "3,1,4,8",
                                    "TotalValue": "166",
                                    "TotalWeight": "62"
                                },
                                {
                                    "Combination": "3,4,6,8",
                                    "TotalValue": "166",
                                    "TotalWeight": "90"
                                },
                                {
                                    "Combination": "8,3,4,6",
                                    "TotalValue": "166",
                                    "TotalWeight": "90"
                                },
                                {
                                    "Combination": "6,3,4,8",
                                    "TotalValue": "166",
                                    "TotalWeight": "90"
                                },
                                {
                                    "Combination": "4,3,6,8",
                                    "TotalValue": "166",
                                    "TotalWeight": "90"
                                },
                                {
                                    "Combination": "4,1,3",
                                    "TotalValue": "165",
                                    "TotalWeight": "52"
                                },
                                {
                                    "Combination": "3,1,4",
                                    "TotalValue": "165",
                                    "TotalWeight": "52"
                                },
                                {
                                    "Combination": "1,3,4",
                                    "TotalValue": "165",
                                    "TotalWeight": "52"
                                },
                                {
                                    "Combination": "3,4,6",
                                    "TotalValue": "165",
                                    "TotalWeight": "80"
                                },
                                {
                                    "Combination": "4,3,6",
                                    "TotalValue": "165",
                                    "TotalWeight": "80"
                                },
                                {
                                    "Combination": "6,3,4",
                                    "TotalValue": "165",
                                    "TotalWeight": "80"
                                },
                                {
                                    "Combination": "8,2,4,8",
                                    "TotalValue": "162",
                                    "TotalWeight": "70"
                                },
                                {
                                    "Combination": "8,2,4",
                                    "TotalValue": "161",
                                    "TotalWeight": "60"
                                },
                                {
                                    "Combination": "4,2,8",
                                    "TotalValue": "161",
                                    "TotalWeight": "60"
                                },
                                {
                                    "Combination": "2,4,8",
                                    "TotalValue": "161",
                                    "TotalWeight": "60"
                                },
                                {
                                    "Combination": "1,1,3,5,8",
                                    "TotalValue": "161",
                                    "TotalWeight": "74"
                                },
                                {
                                    "Combination": "1,3,5,6,8",
                                    "TotalValue": "161",
                                    "TotalWeight": "102"
                                },
                                {
                                    "Combination": "3,1,5,6,8",
                                    "TotalValue": "161",
                                    "TotalWeight": "102"
                                },
                                {
                                    "Combination": "5,1,3,6,8",
                                    "TotalValue": "161",
                                    "TotalWeight": "102"
                                },
                                {
                                    "Combination": "6,1,3,5,8",
                                    "TotalValue": "161",
                                    "TotalWeight": "102"
                                },
                                {
                                    "Combination": "8,1,3,5,6",
                                    "TotalValue": "161",
                                    "TotalWeight": "102"
                                },
                                {
                                    "Combination": "4,2",
                                    "TotalValue": "160",
                                    "TotalWeight": "50"
                                },
                                {
                                    "Combination": "2,4",
                                    "TotalValue": "160",
                                    "TotalWeight": "50"
                                },
                                {
                                    "Combination": "1,1,3,5",
                                    "TotalValue": "160",
                                    "TotalWeight": "64"
                                },
                                {
                                    "Combination": "1,3,5,6",
                                    "TotalValue": "160",
                                    "TotalWeight": "92"
                                },
                                {
                                    "Combination": "3,1,5,6",
                                    "TotalValue": "160",
                                    "TotalWeight": "92"
                                },
                                {
                                    "Combination": "5,1,3,6",
                                    "TotalValue": "160",
                                    "TotalWeight": "92"
                                },
                                {
                                    "Combination": "6,1,3,5",
                                    "TotalValue": "160",
                                    "TotalWeight": "92"
                                },
                                {
                                    "Combination": "4,4,5",
                                    "TotalValue": "160",
                                    "TotalWeight": "100"
                                },
                                {
                                    "Combination": "8,1,2,5,8",
                                    "TotalValue": "157",
                                    "TotalWeight": "82"
                                },
                                {
                                    "Combination": "8,1,2,5",
                                    "TotalValue": "156",
                                    "TotalWeight": "72"
                                },
                                {
                                    "Combination": "5,1,2,8",
                                    "TotalValue": "156",
                                    "TotalWeight": "72"
                                },
                                {
                                    "Combination": "1,2,5,8",
                                    "TotalValue": "156",
                                    "TotalWeight": "72"
                                },
                                {
                                    "Combination": "2,1,5,8",
                                    "TotalValue": "156",
                                    "TotalWeight": "72"
                                },
                                {
                                    "Combination": "2,5,6,8",
                                    "TotalValue": "156",
                                    "TotalWeight": "100"
                                },
                                {
                                    "Combination": "5,2,6,8",
                                    "TotalValue": "156",
                                    "TotalWeight": "100"
                                },
                                {
                                    "Combination": "6,2,5,8",
                                    "TotalValue": "156",
                                    "TotalWeight": "100"
                                },
                                {
                                    "Combination": "8,2,5,6",
                                    "TotalValue": "156",
                                    "TotalWeight": "100"
                                },
                                {
                                    "Combination": "5,1,2",
                                    "TotalValue": "155",
                                    "TotalWeight": "62"
                                },
                                {
                                    "Combination": "2,1,5",
                                    "TotalValue": "155",
                                    "TotalWeight": "62"
                                },
                                {
                                    "Combination": "1,2,5",
                                    "TotalValue": "155",
                                    "TotalWeight": "62"
                                },
                                {
                                    "Combination": "2,5,6",
                                    "TotalValue": "155",
                                    "TotalWeight": "90"
                                },
                                {
                                    "Combination": "6,2,5",
                                    "TotalValue": "155",
                                    "TotalWeight": "90"
                                },
                                {
                                    "Combination": "5,2,6",
                                    "TotalValue": "155",
                                    "TotalWeight": "90"
                                },
                                {
                                    "Combination": "8,3,4,8",
                                    "TotalValue": "152",
                                    "TotalWeight": "70"
                                },
                                {
                                    "Combination": "8,3,4",
                                    "TotalValue": "151",
                                    "TotalWeight": "60"
                                },
                                {
                                    "Combination": "4,3,8",
                                    "TotalValue": "151",
                                    "TotalWeight": "60"
                                },
                                {
                                    "Combination": "3,4,8",
                                    "TotalValue": "151",
                                    "TotalWeight": "60"
                                },
                                {
                                    "Combination": "4,1,4,6,8",
                                    "TotalValue": "151",
                                    "TotalWeight": "102"
                                },
                                {
                                    "Combination": "3,4",
                                    "TotalValue": "150",
                                    "TotalWeight": "50"
                                },
                                {
                                    "Combination": "4,3",
                                    "TotalValue": "150",
                                    "TotalWeight": "50"
                                },
                                {
                                    "Combination": "4,1,4,6",
                                    "TotalValue": "150",
                                    "TotalWeight": "92"
                                },
                                {
                                    "Combination": "8,1,3,5,8",
                                    "TotalValue": "147",
                                    "TotalWeight": "82"
                                },
                                {
                                    "Combination": "1,1,2,6,8",
                                    "TotalValue": "146",
                                    "TotalWeight": "64"
                                },
                                {
                                    "Combination": "8,1,3,5",
                                    "TotalValue": "146",
                                    "TotalWeight": "72"
                                },
                                {
                                    "Combination": "5,1,3,8",
                                    "TotalValue": "146",
                                    "TotalWeight": "72"
                                },
                                {
                                    "Combination": "3,1,5,8",
                                    "TotalValue": "146",
                                    "TotalWeight": "72"
                                },
                                {
                                    "Combination": "1,3,5,8",
                                    "TotalValue": "146",
                                    "TotalWeight": "72"
                                },
                                {
                                    "Combination": "6,1,2,6,8",
                                    "TotalValue": "146",
                                    "TotalWeight": "92"
                                },
                                {
                                    "Combination": "6,3,5,8",
                                    "TotalValue": "146",
                                    "TotalWeight": "100"
                                },
                                {
                                    "Combination": "5,3,6,8",
                                    "TotalValue": "146",
                                    "TotalWeight": "100"
                                },
                                {
                                    "Combination": "8,3,5,6",
                                    "TotalValue": "146",
                                    "TotalWeight": "100"
                                },
                                {
                                    "Combination": "3,5,6,8",
                                    "TotalValue": "146",
                                    "TotalWeight": "100"
                                },
                                {
                                    "Combination": "1,1,2,6",
                                    "TotalValue": "145",
                                    "TotalWeight": "54"
                                },
                                {
                                    "Combination": "1,3,5",
                                    "TotalValue": "145",
                                    "TotalWeight": "62"
                                },
                                {
                                    "Combination": "3,1,5",
                                    "TotalValue": "145",
                                    "TotalWeight": "62"
                                },
                                {
                                    "Combination": "5,1,3",
                                    "TotalValue": "145",
                                    "TotalWeight": "62"
                                },
                                {
                                    "Combination": "6,1,2,6",
                                    "TotalValue": "145",
                                    "TotalWeight": "82"
                                },
                                {
                                    "Combination": "5,3,6",
                                    "TotalValue": "145",
                                    "TotalWeight": "90"
                                },
                                {
                                    "Combination": "6,3,5",
                                    "TotalValue": "145",
                                    "TotalWeight": "90"
                                },
                                {
                                    "Combination": "3,5,6",
                                    "TotalValue": "145",
                                    "TotalWeight": "90"
                                },
                                {
                                    "Combination": "8,2,5,8",
                                    "TotalValue": "142",
                                    "TotalWeight": "80"
                                },
                                {
                                    "Combination": "8,2,5",
                                    "TotalValue": "141",
                                    "TotalWeight": "70"
                                },
                                {
                                    "Combination": "5,2,8",
                                    "TotalValue": "141",
                                    "TotalWeight": "70"
                                },
                                {
                                    "Combination": "2,5,8",
                                    "TotalValue": "141",
                                    "TotalWeight": "70"
                                },
                                {
                                    "Combination": "1,1,2,7,8",
                                    "TotalValue": "141",
                                    "TotalWeight": "94"
                                },
                                {
                                    "Combination": "2,5",
                                    "TotalValue": "140",
                                    "TotalWeight": "60"
                                },
                                {
                                    "Combination": "5,2",
                                    "TotalValue": "140",
                                    "TotalWeight": "60"
                                },
                                {
                                    "Combination": "1,1,2,7",
                                    "TotalValue": "140",
                                    "TotalWeight": "84"
                                },
                                {
                                    "Combination": "1,1,3,6,8",
                                    "TotalValue": "136",
                                    "TotalWeight": "64"
                                },
                                {
                                    "Combination": "4,1,4,8",
                                    "TotalValue": "136",
                                    "TotalWeight": "72"
                                },
                                {
                                    "Combination": "6,1,3,6,8",
                                    "TotalValue": "136",
                                    "TotalWeight": "92"
                                },
                                {
                                    "Combination": "4,4,6,8",
                                    "TotalValue": "136",
                                    "TotalWeight": "100"
                                },
                                {
                                    "Combination": "1,1,3,6",
                                    "TotalValue": "135",
                                    "TotalWeight": "54"
                                },
                                {
                                    "Combination": "4,1,4",
                                    "TotalValue": "135",
                                    "TotalWeight": "62"
                                },
                                {
                                    "Combination": "6,1,3,6",
                                    "TotalValue": "135",
                                    "TotalWeight": "82"
                                },
                                {
                                    "Combination": "4,4,6",
                                    "TotalValue": "135",
                                    "TotalWeight": "90"
                                },
                                {
                                    "Combination": "8,1,2,6,8",
                                    "TotalValue": "132",
                                    "TotalWeight": "72"
                                },
                                {
                                    "Combination": "8,3,5,8",
                                    "TotalValue": "132",
                                    "TotalWeight": "80"
                                },
                                {
                                    "Combination": "1,1,2,8",
                                    "TotalValue": "131",
                                    "TotalWeight": "34"
                                },
                                {
                                    "Combination": "1,2,6,8",
                                    "TotalValue": "131",
                                    "TotalWeight": "62"
                                },
                                {
                                    "Combination": "2,1,6,8",
                                    "TotalValue": "131",
                                    "TotalWeight": "62"
                                },
                                {
                                    "Combination": "8,1,2,6",
                                    "TotalValue": "131",
                                    "TotalWeight": "62"
                                },
                                {
                                    "Combination": "6,1,2,8",
                                    "TotalValue": "131",
                                    "TotalWeight": "62"
                                },
                                {
                                    "Combination": "5,3,8",
                                    "TotalValue": "131",
                                    "TotalWeight": "70"
                                },
                                {
                                    "Combination": "8,3,5",
                                    "TotalValue": "131",
                                    "TotalWeight": "70"
                                },
                                {
                                    "Combination": "3,5,8",
                                    "TotalValue": "131",
                                    "TotalWeight": "70"
                                },
                                {
                                    "Combination": "1,1,4,5,8",
                                    "TotalValue": "131",
                                    "TotalWeight": "84"
                                },
                                {
                                    "Combination": "6,2,6,8",
                                    "TotalValue": "131",
                                    "TotalWeight": "90"
                                },
                                {
                                    "Combination": "1,1,3,7,8",
                                    "TotalValue": "131",
                                    "TotalWeight": "94"
                                },
                                {
                                    "Combination": "1,1,2",
                                    "TotalValue": "130",
                                    "TotalWeight": "24"
                                },
                                {
                                    "Combination": "1,2,6",
                                    "TotalValue": "130",
                                    "TotalWeight": "52"
                                },
                                {
                                    "Combination": "2,1,6",
                                    "TotalValue": "130",
                                    "TotalWeight": "52"
                                },
                                {
                                    "Combination": "6,1,2",
                                    "TotalValue": "130",
                                    "TotalWeight": "52"
                                },
                                {
                                    "Combination": "5,3",
                                    "TotalValue": "130",
                                    "TotalWeight": "60"
                                },
                                {
                                    "Combination": "3,5",
                                    "TotalValue": "130",
                                    "TotalWeight": "60"
                                },
                                {
                                    "Combination": "1,1,4,5",
                                    "TotalValue": "130",
                                    "TotalWeight": "74"
                                },
                                {
                                    "Combination": "6,2,6",
                                    "TotalValue": "130",
                                    "TotalWeight": "80"
                                },
                                {
                                    "Combination": "1,1,3,7",
                                    "TotalValue": "130",
                                    "TotalWeight": "84"
                                },
                                {
                                    "Combination": "1,4,5,6",
                                    "TotalValue": "130",
                                    "TotalWeight": "102"
                                },
                                {
                                    "Combination": "4,1,5,6",
                                    "TotalValue": "130",
                                    "TotalWeight": "102"
                                },
                                {
                                    "Combination": "6,1,4,5",
                                    "TotalValue": "130",
                                    "TotalWeight": "102"
                                },
                                {
                                    "Combination": "5,1,4,6",
                                    "TotalValue": "130",
                                    "TotalWeight": "102"
                                },
                                {
                                    "Combination": "8,1,2,7,8",
                                    "TotalValue": "127",
                                    "TotalWeight": "102"
                                },
                                {
                                    "Combination": "8,1,2,7",
                                    "TotalValue": "126",
                                    "TotalWeight": "92"
                                },
                                {
                                    "Combination": "7,1,2,8",
                                    "TotalValue": "126",
                                    "TotalWeight": "92"
                                },
                                {
                                    "Combination": "1,2,7,8",
                                    "TotalValue": "126",
                                    "TotalWeight": "92"
                                },
                                {
                                    "Combination": "2,1,7,8",
                                    "TotalValue": "126",
                                    "TotalWeight": "92"
                                },
                                {
                                    "Combination": "2,1,7",
                                    "TotalValue": "125",
                                    "TotalWeight": "82"
                                },
                                {
                                    "Combination": "1,2,7",
                                    "TotalValue": "125",
                                    "TotalWeight": "82"
                                },
                                {
                                    "Combination": "7,1,2",
                                    "TotalValue": "125",
                                    "TotalWeight": "82"
                                },
                                {
                                    "Combination": "8,1,3,6,8",
                                    "TotalValue": "122",
                                    "TotalWeight": "72"
                                },
                                {
                                    "Combination": "1,1,3,8",
                                    "TotalValue": "121",
                                    "TotalWeight": "34"
                                },
                                {
                                    "Combination": "1,3,6,8",
                                    "TotalValue": "121",
                                    "TotalWeight": "62"
                                },
                                {
                                    "Combination": "3,1,6,8",
                                    "TotalValue": "121",
                                    "TotalWeight": "62"
                                },
                                {
                                    "Combination": "8,1,3,6",
                                    "TotalValue": "121",
                                    "TotalWeight": "62"
                                },
                                {
                                    "Combination": "6,1,3,8",
                                    "TotalValue": "121",
                                    "TotalWeight": "62"
                                },
                                {
                                    "Combination": "4,4,8",
                                    "TotalValue": "121",
                                    "TotalWeight": "70"
                                },
                                {
                                    "Combination": "6,3,6,8",
                                    "TotalValue": "121",
                                    "TotalWeight": "90"
                                },
                                {
                                    "Combination": "1,1,3",
                                    "TotalValue": "120",
                                    "TotalWeight": "24"
                                },
                                {
                                    "Combination": "1,3,6",
                                    "TotalValue": "120",
                                    "TotalWeight": "52"
                                },
                                {
                                    "Combination": "3,1,6",
                                    "TotalValue": "120",
                                    "TotalWeight": "52"
                                },
                                {
                                    "Combination": "6,1,3",
                                    "TotalValue": "120",
                                    "TotalWeight": "52"
                                },
                                {
                                    "Combination": "4,4",
                                    "TotalValue": "120",
                                    "TotalWeight": "60"
                                },
                                {
                                    "Combination": "6,3,6",
                                    "TotalValue": "120",
                                    "TotalWeight": "80"
                                },
                                {
                                    "Combination": "8,1,2,8",
                                    "TotalValue": "117",
                                    "TotalWeight": "42"
                                },
                                {
                                    "Combination": "8,2,6,8",
                                    "TotalValue": "117",
                                    "TotalWeight": "70"
                                },
                                {
                                    "Combination": "8,1,4,5,8",
                                    "TotalValue": "117",
                                    "TotalWeight": "92"
                                },
                                {
                                    "Combination": "8,1,3,7,8",
                                    "TotalValue": "117",
                                    "TotalWeight": "102"
                                },
                                {
                                    "Combination": "8,1,2",
                                    "TotalValue": "116",
                                    "TotalWeight": "32"
                                },
                                {
                                    "Combination": "2,1,8",
                                    "TotalValue": "116",
                                    "TotalWeight": "32"
                                },
                                {
                                    "Combination": "1,2,8",
                                    "TotalValue": "116",
                                    "TotalWeight": "32"
                                },
                                {
                                    "Combination": "2,6,8",
                                    "TotalValue": "116",
                                    "TotalWeight": "60"
                                },
                                {
                                    "Combination": "8,2,6",
                                    "TotalValue": "116",
                                    "TotalWeight": "60"
                                },
                                {
                                    "Combination": "6,2,8",
                                    "TotalValue": "116",
                                    "TotalWeight": "60"
                                },
                                {
                                    "Combination": "5,1,4,8",
                                    "TotalValue": "116",
                                    "TotalWeight": "82"
                                },
                                {
                                    "Combination": "8,1,4,5",
                                    "TotalValue": "116",
                                    "TotalWeight": "82"
                                },
                                {
                                    "Combination": "4,1,5,8",
                                    "TotalValue": "116",
                                    "TotalWeight": "82"
                                },
                                {
                                    "Combination": "1,4,5,8",
                                    "TotalValue": "116",
                                    "TotalWeight": "82"
                                },
                                {
                                    "Combination": "1,3,7,8",
                                    "TotalValue": "116",
                                    "TotalWeight": "92"
                                },
                                {
                                    "Combination": "3,1,7,8",
                                    "TotalValue": "116",
                                    "TotalWeight": "92"
                                },
                                {
                                    "Combination": "8,1,3,7",
                                    "TotalValue": "116",
                                    "TotalWeight": "92"
                                },
                                {
                                    "Combination": "7,1,3,8",
                                    "TotalValue": "116",
                                    "TotalWeight": "92"
                                },
                                {
                                    "Combination": "2,1",
                                    "TotalValue": "115",
                                    "TotalWeight": "22"
                                },
                                {
                                    "Combination": "1,2",
                                    "TotalValue": "115",
                                    "TotalWeight": "22"
                                },
                                {
                                    "Combination": "2,6",
                                    "TotalValue": "115",
                                    "TotalWeight": "50"
                                },
                                {
                                    "Combination": "6,2",
                                    "TotalValue": "115",
                                    "TotalWeight": "50"
                                },
                                {
                                    "Combination": "5,1,4",
                                    "TotalValue": "115",
                                    "TotalWeight": "72"
                                },
                                {
                                    "Combination": "4,1,5",
                                    "TotalValue": "115",
                                    "TotalWeight": "72"
                                },
                                {
                                    "Combination": "1,4,5",
                                    "TotalValue": "115",
                                    "TotalWeight": "72"
                                },
                                {
                                    "Combination": "1,3,7",
                                    "TotalValue": "115",
                                    "TotalWeight": "82"
                                },
                                {
                                    "Combination": "3,1,7",
                                    "TotalValue": "115",
                                    "TotalWeight": "82"
                                },
                                {
                                    "Combination": "7,1,3",
                                    "TotalValue": "115",
                                    "TotalWeight": "82"
                                },
                                {
                                    "Combination": "6,4,5",
                                    "TotalValue": "115",
                                    "TotalWeight": "100"
                                },
                                {
                                    "Combination": "4,5,6",
                                    "TotalValue": "115",
                                    "TotalWeight": "100"
                                },
                                {
                                    "Combination": "5,4,6",
                                    "TotalValue": "115",
                                    "TotalWeight": "100"
                                },
                                {
                                    "Combination": "8,2,7,8",
                                    "TotalValue": "112",
                                    "TotalWeight": "100"
                                },
                                {
                                    "Combination": "8,2,7",
                                    "TotalValue": "111",
                                    "TotalWeight": "90"
                                },
                                {
                                    "Combination": "7,2,8",
                                    "TotalValue": "111",
                                    "TotalWeight": "90"
                                },
                                {
                                    "Combination": "2,7,8",
                                    "TotalValue": "111",
                                    "TotalWeight": "90"
                                },
                                {
                                    "Combination": "2,7",
                                    "TotalValue": "110",
                                    "TotalWeight": "80"
                                },
                                {
                                    "Combination": "7,2",
                                    "TotalValue": "110",
                                    "TotalWeight": "80"
                                },
                                {
                                    "Combination": "8,1,3,8",
                                    "TotalValue": "107",
                                    "TotalWeight": "42"
                                },
                                {
                                    "Combination": "8,3,6,8",
                                    "TotalValue": "107",
                                    "TotalWeight": "70"
                                },
                                {
                                    "Combination": "8,1,3",
                                    "TotalValue": "106",
                                    "TotalWeight": "32"
                                },
                                {
                                    "Combination": "3,1,8",
                                    "TotalValue": "106",
                                    "TotalWeight": "32"
                                },
                                {
                                    "Combination": "1,3,8",
                                    "TotalValue": "106",
                                    "TotalWeight": "32"
                                },
                                {
                                    "Combination": "3,6,8",
                                    "TotalValue": "106",
                                    "TotalWeight": "60"
                                },
                                {
                                    "Combination": "8,3,6",
                                    "TotalValue": "106",
                                    "TotalWeight": "60"
                                },
                                {
                                    "Combination": "6,3,8",
                                    "TotalValue": "106",
                                    "TotalWeight": "60"
                                },
                                {
                                    "Combination": "1,1,4,6,8",
                                    "TotalValue": "106",
                                    "TotalWeight": "74"
                                },
                                {
                                    "Combination": "6,1,4,6,8",
                                    "TotalValue": "106",
                                    "TotalWeight": "102"
                                },
                                {
                                    "Combination": "1,3",
                                    "TotalValue": "105",
                                    "TotalWeight": "22"
                                },
                                {
                                    "Combination": "3,1",
                                    "TotalValue": "105",
                                    "TotalWeight": "22"
                                },
                                {
                                    "Combination": "3,6",
                                    "TotalValue": "105",
                                    "TotalWeight": "50"
                                },
                                {
                                    "Combination": "6,3",
                                    "TotalValue": "105",
                                    "TotalWeight": "50"
                                },
                                {
                                    "Combination": "1,1,4,6",
                                    "TotalValue": "105",
                                    "TotalWeight": "64"
                                },
                                {
                                    "Combination": "6,1,4,6",
                                    "TotalValue": "105",
                                    "TotalWeight": "92"
                                },
                                {
                                    "Combination": "8,2,8",
                                    "TotalValue": "102",
                                    "TotalWeight": "40"
                                },
                                {
                                    "Combination": "8,4,5,8",
                                    "TotalValue": "102",
                                    "TotalWeight": "90"
                                },
                                {
                                    "Combination": "8,3,7,8",
                                    "TotalValue": "102",
                                    "TotalWeight": "100"
                                },
                                {
                                    "Combination": "8,2",
                                    "TotalValue": "101",
                                    "TotalWeight": "30"
                                },
                                {
                                    "Combination": "2,8",
                                    "TotalValue": "101",
                                    "TotalWeight": "30"
                                },
                                {
                                    "Combination": "8,4,5",
                                    "TotalValue": "101",
                                    "TotalWeight": "80"
                                },
                                {
                                    "Combination": "5,4,8",
                                    "TotalValue": "101",
                                    "TotalWeight": "80"
                                },
                                {
                                    "Combination": "4,5,8",
                                    "TotalValue": "101",
                                    "TotalWeight": "80"
                                },
                                {
                                    "Combination": "8,3,7",
                                    "TotalValue": "101",
                                    "TotalWeight": "90"
                                },
                                {
                                    "Combination": "7,3,8",
                                    "TotalValue": "101",
                                    "TotalWeight": "90"
                                },
                                {
                                    "Combination": "3,7,8",
                                    "TotalValue": "101",
                                    "TotalWeight": "90"
                                },
                                {
                                    "Combination": "2",
                                    "TotalValue": "100",
                                    "TotalWeight": "20"
                                },
                                {
                                    "Combination": "4,5",
                                    "TotalValue": "100",
                                    "TotalWeight": "70"
                                },
                                {
                                    "Combination": "5,4",
                                    "TotalValue": "100",
                                    "TotalWeight": "70"
                                },
                                {
                                    "Combination": "7,3",
                                    "TotalValue": "100",
                                    "TotalWeight": "80"
                                },
                                {
                                    "Combination": "3,7",
                                    "TotalValue": "100",
                                    "TotalWeight": "80"
                                },
                                {
                                    "Combination": "1,1,4,7",
                                    "TotalValue": "100",
                                    "TotalWeight": "94"
                                },
                                {
                                    "Combination": "5,1,5,8",
                                    "TotalValue": "96",
                                    "TotalWeight": "92"
                                },
                                {
                                    "Combination": "5,1,5",
                                    "TotalValue": "95",
                                    "TotalWeight": "82"
                                },
                                {
                                    "Combination": "8,3,8",
                                    "TotalValue": "92",
                                    "TotalWeight": "40"
                                },
                                {
                                    "Combination": "8,1,4,6,8",
                                    "TotalValue": "92",
                                    "TotalWeight": "82"
                                },
                                {
                                    "Combination": "8,3",
                                    "TotalValue": "91",
                                    "TotalWeight": "30"
                                },
                                {
                                    "Combination": "3,8",
                                    "TotalValue": "91",
                                    "TotalWeight": "30"
                                },
                                {
                                    "Combination": "1,1,4,8",
                                    "TotalValue": "91",
                                    "TotalWeight": "44"
                                },
                                {
                                    "Combination": "1,4,6,8",
                                    "TotalValue": "91",
                                    "TotalWeight": "72"
                                },
                                {
                                    "Combination": "4,1,6,8",
                                    "TotalValue": "91",
                                    "TotalWeight": "72"
                                },
                                {
                                    "Combination": "8,1,4,6",
                                    "TotalValue": "91",
                                    "TotalWeight": "72"
                                },
                                {
                                    "Combination": "6,1,4,8",
                                    "TotalValue": "91",
                                    "TotalWeight": "72"
                                },
                                {
                                    "Combination": "6,4,6,8",
                                    "TotalValue": "91",
                                    "TotalWeight": "100"
                                },
                                {
                                    "Combination": "3",
                                    "TotalValue": "90",
                                    "TotalWeight": "20"
                                },
                                {
                                    "Combination": "1,1,4",
                                    "TotalValue": "90",
                                    "TotalWeight": "34"
                                },
                                {
                                    "Combination": "1,4,6",
                                    "TotalValue": "90",
                                    "TotalWeight": "62"
                                },
                                {
                                    "Combination": "6,1,4",
                                    "TotalValue": "90",
                                    "TotalWeight": "62"
                                },
                                {
                                    "Combination": "4,1,6",
                                    "TotalValue": "90",
                                    "TotalWeight": "62"
                                },
                                {
                                    "Combination": "6,4,6",
                                    "TotalValue": "90",
                                    "TotalWeight": "90"
                                },
                                {
                                    "Combination": "1,1,5,6,8",
                                    "TotalValue": "86",
                                    "TotalWeight": "84"
                                },
                                {
                                    "Combination": "1,4,7,8",
                                    "TotalValue": "86",
                                    "TotalWeight": "102"
                                },
                                {
                                    "Combination": "7,1,4,8",
                                    "TotalValue": "86",
                                    "TotalWeight": "102"
                                },
                                {
                                    "Combination": "8,1,4,7",
                                    "TotalValue": "86",
                                    "TotalWeight": "102"
                                },
                                {
                                    "Combination": "4,1,7,8",
                                    "TotalValue": "86",
                                    "TotalWeight": "102"
                                },
                                {
                                    "Combination": "1,1,5,6",
                                    "TotalValue": "85",
                                    "TotalWeight": "74"
                                },
                                {
                                    "Combination": "1,4,7",
                                    "TotalValue": "85",
                                    "TotalWeight": "92"
                                },
                                {
                                    "Combination": "4,1,7",
                                    "TotalValue": "85",
                                    "TotalWeight": "92"
                                },
                                {
                                    "Combination": "7,1,4",
                                    "TotalValue": "85",
                                    "TotalWeight": "92"
                                },
                                {
                                    "Combination": "6,1,5,6",
                                    "TotalValue": "85",
                                    "TotalWeight": "102"
                                },
                                {
                                    "Combination": "5,5,8",
                                    "TotalValue": "81",
                                    "TotalWeight": "90"
                                },
                                {
                                    "Combination": "5,5",
                                    "TotalValue": "80",
                                    "TotalWeight": "80"
                                },
                                {
                                    "Combination": "8,1,4,8",
                                    "TotalValue": "77",
                                    "TotalWeight": "52"
                                },
                                {
                                    "Combination": "8,4,6,8",
                                    "TotalValue": "77",
                                    "TotalWeight": "80"
                                },
                                {
                                    "Combination": "8,1,4",
                                    "TotalValue": "76",
                                    "TotalWeight": "42"
                                },
                                {
                                    "Combination": "4,1,8",
                                    "TotalValue": "76",
                                    "TotalWeight": "42"
                                },
                                {
                                    "Combination": "1,4,8",
                                    "TotalValue": "76",
                                    "TotalWeight": "42"
                                },
                                {
                                    "Combination": "4,6,8",
                                    "TotalValue": "76",
                                    "TotalWeight": "70"
                                },
                                {
                                    "Combination": "8,4,6",
                                    "TotalValue": "76",
                                    "TotalWeight": "70"
                                },
                                {
                                    "Combination": "6,4,8",
                                    "TotalValue": "76",
                                    "TotalWeight": "70"
                                },
                                {
                                    "Combination": "4,1",
                                    "TotalValue": "75",
                                    "TotalWeight": "32"
                                },
                                {
                                    "Combination": "1,4",
                                    "TotalValue": "75",
                                    "TotalWeight": "32"
                                },
                                {
                                    "Combination": "4,6",
                                    "TotalValue": "75",
                                    "TotalWeight": "60"
                                },
                                {
                                    "Combination": "6,4",
                                    "TotalValue": "75",
                                    "TotalWeight": "60"
                                },
                                {
                                    "Combination": "8,1,5,6,8",
                                    "TotalValue": "72",
                                    "TotalWeight": "92"
                                },
                                {
                                    "Combination": "1,1,5,8",
                                    "TotalValue": "71",
                                    "TotalWeight": "54"
                                },
                                {
                                    "Combination": "1,5,6,8",
                                    "TotalValue": "71",
                                    "TotalWeight": "82"
                                },
                                {
                                    "Combination": "8,1,5,6",
                                    "TotalValue": "71",
                                    "TotalWeight": "82"
                                },
                                {
                                    "Combination": "5,1,6,8",
                                    "TotalValue": "71",
                                    "TotalWeight": "82"
                                },
                                {
                                    "Combination": "6,1,5,8",
                                    "TotalValue": "71",
                                    "TotalWeight": "82"
                                },
                                {
                                    "Combination": "4,7,8",
                                    "TotalValue": "71",
                                    "TotalWeight": "100"
                                },
                                {
                                    "Combination": "8,4,7",
                                    "TotalValue": "71",
                                    "TotalWeight": "100"
                                },
                                {
                                    "Combination": "7,4,8",
                                    "TotalValue": "71",
                                    "TotalWeight": "100"
                                },
                                {
                                    "Combination": "1,1,5",
                                    "TotalValue": "70",
                                    "TotalWeight": "44"
                                },
                                {
                                    "Combination": "1,5,6",
                                    "TotalValue": "70",
                                    "TotalWeight": "72"
                                },
                                {
                                    "Combination": "5,1,6",
                                    "TotalValue": "70",
                                    "TotalWeight": "72"
                                },
                                {
                                    "Combination": "6,1,5",
                                    "TotalValue": "70",
                                    "TotalWeight": "72"
                                },
                                {
                                    "Combination": "4,7",
                                    "TotalValue": "70",
                                    "TotalWeight": "90"
                                },
                                {
                                    "Combination": "7,4",
                                    "TotalValue": "70",
                                    "TotalWeight": "90"
                                },
                                {
                                    "Combination": "6,5,6",
                                    "TotalValue": "70",
                                    "TotalWeight": "100"
                                },
                                {
                                    "Combination": "7,1,5",
                                    "TotalValue": "65",
                                    "TotalWeight": "102"
                                },
                                {
                                    "Combination": "5,1,7",
                                    "TotalValue": "65",
                                    "TotalWeight": "102"
                                },
                                {
                                    "Combination": "1,5,7",
                                    "TotalValue": "65",
                                    "TotalWeight": "102"
                                },
                                {
                                    "Combination": "8,4,8",
                                    "TotalValue": "62",
                                    "TotalWeight": "50"
                                },
                                {
                                    "Combination": "8,4",
                                    "TotalValue": "61",
                                    "TotalWeight": "40"
                                },
                                {
                                    "Combination": "4,8",
                                    "TotalValue": "61",
                                    "TotalWeight": "40"
                                },
                                {
                                    "Combination": "4",
                                    "TotalValue": "60",
                                    "TotalWeight": "30"
                                },
                                {
                                    "Combination": "8,1,5,8",
                                    "TotalValue": "57",
                                    "TotalWeight": "62"
                                },
                                {
                                    "Combination": "8,5,6,8",
                                    "TotalValue": "57",
                                    "TotalWeight": "90"
                                },
                                {
                                    "Combination": "8,1,5",
                                    "TotalValue": "56",
                                    "TotalWeight": "52"
                                },
                                {
                                    "Combination": "5,1,8",
                                    "TotalValue": "56",
                                    "TotalWeight": "52"
                                },
                                {
                                    "Combination": "1,5,8",
                                    "TotalValue": "56",
                                    "TotalWeight": "52"
                                },
                                {
                                    "Combination": "5,6,8",
                                    "TotalValue": "56",
                                    "TotalWeight": "80"
                                },
                                {
                                    "Combination": "8,5,6",
                                    "TotalValue": "56",
                                    "TotalWeight": "80"
                                },
                                {
                                    "Combination": "6,5,8",
                                    "TotalValue": "56",
                                    "TotalWeight": "80"
                                },
                                {
                                    "Combination": "5,1",
                                    "TotalValue": "55",
                                    "TotalWeight": "42"
                                },
                                {
                                    "Combination": "1,5",
                                    "TotalValue": "55",
                                    "TotalWeight": "42"
                                },
                                {
                                    "Combination": "5,6",
                                    "TotalValue": "55",
                                    "TotalWeight": "70"
                                },
                                {
                                    "Combination": "6,5",
                                    "TotalValue": "55",
                                    "TotalWeight": "70"
                                },
                                {
                                    "Combination": "1,1,6,7",
                                    "TotalValue": "55",
                                    "TotalWeight": "94"
                                },
                                {
                                    "Combination": "7,5",
                                    "TotalValue": "50",
                                    "TotalWeight": "100"
                                },
                                {
                                    "Combination": "5,7",
                                    "TotalValue": "50",
                                    "TotalWeight": "100"
                                },
                                {
                                    "Combination": "1,1,6,8",
                                    "TotalValue": "46",
                                    "TotalWeight": "44"
                                },
                                {
                                    "Combination": "6,1,6,8",
                                    "TotalValue": "46",
                                    "TotalWeight": "72"
                                },
                                {
                                    "Combination": "1,1,6",
                                    "TotalValue": "45",
                                    "TotalWeight": "34"
                                },
                                {
                                    "Combination": "6,1,6",
                                    "TotalValue": "45",
                                    "TotalWeight": "62"
                                },
                                {
                                    "Combination": "8,5,8",
                                    "TotalValue": "42",
                                    "TotalWeight": "60"
                                },
                                {
                                    "Combination": "8,5",
                                    "TotalValue": "41",
                                    "TotalWeight": "50"
                                },
                                {
                                    "Combination": "5,8",
                                    "TotalValue": "41",
                                    "TotalWeight": "50"
                                },
                                {
                                    "Combination": "1,1,7,8",
                                    "TotalValue": "41",
                                    "TotalWeight": "74"
                                },
                                {
                                    "Combination": "1,6,7,8",
                                    "TotalValue": "41",
                                    "TotalWeight": "102"
                                },
                                {
                                    "Combination": "6,1,7,8",
                                    "TotalValue": "41",
                                    "TotalWeight": "102"
                                },
                                {
                                    "Combination": "8,1,6,7",
                                    "TotalValue": "41",
                                    "TotalWeight": "102"
                                },
                                {
                                    "Combination": "7,1,6,8",
                                    "TotalValue": "41",
                                    "TotalWeight": "102"
                                },
                                {
                                    "Combination": "5",
                                    "TotalValue": "40",
                                    "TotalWeight": "40"
                                },
                                {
                                    "Combination": "1,1,7",
                                    "TotalValue": "40",
                                    "TotalWeight": "64"
                                },
                                {
                                    "Combination": "1,6,7",
                                    "TotalValue": "40",
                                    "TotalWeight": "92"
                                },
                                {
                                    "Combination": "7,1,6",
                                    "TotalValue": "40",
                                    "TotalWeight": "92"
                                },
                                {
                                    "Combination": "6,1,7",
                                    "TotalValue": "40",
                                    "TotalWeight": "92"
                                },
                                {
                                    "Combination": "8,1,6,8",
                                    "TotalValue": "32",
                                    "TotalWeight": "52"
                                },
                                {
                                    "Combination": "1,1,8",
                                    "TotalValue": "31",
                                    "TotalWeight": "14"
                                },
                                {
                                    "Combination": "1,6,8",
                                    "TotalValue": "31",
                                    "TotalWeight": "42"
                                },
                                {
                                    "Combination": "8,1,6",
                                    "TotalValue": "31",
                                    "TotalWeight": "42"
                                },
                                {
                                    "Combination": "6,1,8",
                                    "TotalValue": "31",
                                    "TotalWeight": "42"
                                },
                                {
                                    "Combination": "6,6,8",
                                    "TotalValue": "31",
                                    "TotalWeight": "70"
                                },
                                {
                                    "Combination": "1,1",
                                    "TotalValue": "30",
                                    "TotalWeight": "4"
                                },
                                {
                                    "Combination": "1,6",
                                    "TotalValue": "30",
                                    "TotalWeight": "32"
                                },
                                {
                                    "Combination": "6,1",
                                    "TotalValue": "30",
                                    "TotalWeight": "32"
                                },
                                {
                                    "Combination": "6,6",
                                    "TotalValue": "30",
                                    "TotalWeight": "60"
                                },
                                {
                                    "Combination": "8,1,7,8",
                                    "TotalValue": "27",
                                    "TotalWeight": "82"
                                },
                                {
                                    "Combination": "8,1,7",
                                    "TotalValue": "26",
                                    "TotalWeight": "72"
                                },
                                {
                                    "Combination": "7,1,8",
                                    "TotalValue": "26",
                                    "TotalWeight": "72"
                                },
                                {
                                    "Combination": "1,7,8",
                                    "TotalValue": "26",
                                    "TotalWeight": "72"
                                },
                                {
                                    "Combination": "7,6,8",
                                    "TotalValue": "26",
                                    "TotalWeight": "100"
                                },
                                {
                                    "Combination": "6,7,8",
                                    "TotalValue": "26",
                                    "TotalWeight": "100"
                                },
                                {
                                    "Combination": "8,6,7",
                                    "TotalValue": "26",
                                    "TotalWeight": "100"
                                },
                                {
                                    "Combination": "7,1",
                                    "TotalValue": "25",
                                    "TotalWeight": "62"
                                },
                                {
                                    "Combination": "1,7",
                                    "TotalValue": "25",
                                    "TotalWeight": "62"
                                },
                                {
                                    "Combination": "7,6",
                                    "TotalValue": "25",
                                    "TotalWeight": "90"
                                },
                                {
                                    "Combination": "6,7",
                                    "TotalValue": "25",
                                    "TotalWeight": "90"
                                },
                                {
                                    "Combination": "8,1,8",
                                    "TotalValue": "17",
                                    "TotalWeight": "22"
                                },
                                {
                                    "Combination": "8,6,8",
                                    "TotalValue": "17",
                                    "TotalWeight": "50"
                                },
                                {
                                    "Combination": "8,1",
                                    "TotalValue": "16",
                                    "TotalWeight": "12"
                                },
                                {
                                    "Combination": "1,8",
                                    "TotalValue": "16",
                                    "TotalWeight": "12"
                                },
                                {
                                    "Combination": "8,6",
                                    "TotalValue": "16",
                                    "TotalWeight": "40"
                                },
                                {
                                    "Combination": "6,8",
                                    "TotalValue": "16",
                                    "TotalWeight": "40"
                                },
                                {
                                    "Combination": "1",
                                    "TotalValue": "15",
                                    "TotalWeight": "2"
                                },
                                {
                                    "Combination": "6",
                                    "TotalValue": "15",
                                    "TotalWeight": "30"
                                },
                                {
                                    "Combination": "8,7,8",
                                    "TotalValue": "12",
                                    "TotalWeight": "80"
                                },
                                {
                                    "Combination": "8,7",
                                    "TotalValue": "11",
                                    "TotalWeight": "70"
                                },
                                {
                                    "Combination": "7,8",
                                    "TotalValue": "11",
                                    "TotalWeight": "70"
                                },
                                {
                                    "Combination": "7",
                                    "TotalValue": "10",
                                    "TotalWeight": "60"
                                },
                                {
                                    "Combination": "8,8",
                                    "TotalValue": "2",
                                    "TotalWeight": "20"
                                },
                                {
                                    "Combination": "8",
                                    "TotalValue": "1",
                                    "TotalWeight": "10"
                                }
                            ]
                        },
                        "text/html": [
                            "<table>",
                            "<tr><th>Combination</th><th>TotalValue</th><th>TotalWeight</th></tr>",
                            "<tr><td>2,1,2,3,4,8</td><td>366</td><td>102</td></tr>",
                            "<tr><td>2,1,2,3,4</td><td>365</td><td>92</td></tr>",
                            "<tr><td>3,1,2,3,4,8</td><td>356</td><td>102</td></tr>",
                            "<tr><td>3,1,2,3,4</td><td>355</td><td>92</td></tr>",
                            "<tr><td>2,2,3,4,8</td><td>351</td><td>100</td></tr>",
                            "<tr><td>2,2,3,4</td><td>350</td><td>90</td></tr>",
                            "<tr><td>2,1,2,3,5</td><td>345</td><td>102</td></tr>",
                            "<tr><td>3,2,3,4,8</td><td>341</td><td>100</td></tr>",
                            "<tr><td>3,2,3,4</td><td>340</td><td>90</td></tr>",
                            "<tr><td>3,1,2,3,5</td><td>335</td><td>102</td></tr>",
                            "<tr><td>2,2,3,5</td><td>330</td><td>100</td></tr>",
                            "<tr><td>4,1,2,3,4</td><td>325</td><td>102</td></tr>",
                            "<tr><td>2,1,2,3,6,8</td><td>321</td><td>102</td></tr>",
                            "<tr><td>2,1,2,3,6</td><td>320</td><td>92</td></tr>",
                            "<tr><td>3,2,3,5</td><td>320</td><td>100</td></tr>",
                            "<tr><td>3,1,2,3,6,8</td><td>311</td><td>102</td></tr>",
                            "<tr><td>3,1,2,3,6</td><td>310</td><td>92</td></tr>",
                            "<tr><td>4,2,3,4</td><td>310</td><td>100</td></tr>",
                            "<tr><td>2,1,2,3,8</td><td>306</td><td>72</td></tr>",
                            "<tr><td>2,2,3,6,8</td><td>306</td><td>100</td></tr>",
                            "<tr><td>2,1,2,3</td><td>305</td><td>62</td></tr>",
                            "<tr><td>2,2,3,6</td><td>305</td><td>90</td></tr>",
                            "<tr><td>3,1,2,3,8</td><td>296</td><td>72</td></tr>",
                            "<tr><td>3,2,3,6,8</td><td>296</td><td>100</td></tr>",
                            "<tr><td>3,1,2,3</td><td>295</td><td>62</td></tr>",
                            "<tr><td>3,2,3,6</td><td>295</td><td>90</td></tr>",
                            "<tr><td>2,2,3,8</td><td>291</td><td>70</td></tr>",
                            "<tr><td>2,2,3</td><td>290</td><td>60</td></tr>",
                            "<tr><td>2,1,2,4,6</td><td>290</td><td>102</td></tr>",
                            "<tr><td>3,2,3,8</td><td>281</td><td>70</td></tr>",
                            "<tr><td>1,1,2,3,4,8</td><td>281</td><td>84</td></tr>",
                            "<tr><td>3,2,3</td><td>280</td><td>60</td></tr>",
                            "<tr><td>1,1,2,3,4</td><td>280</td><td>74</td></tr>",
                            "<tr><td>4,1,2,3,6</td><td>280</td><td>102</td></tr>",
                            "<tr><td>3,1,2,4,6</td><td>280</td><td>102</td></tr>",
                            "<tr><td>2,1,3,4,6</td><td>280</td><td>102</td></tr>",
                            "<tr><td>1,2,3,4,6</td><td>280</td><td>102</td></tr>",
                            "<tr><td>6,1,2,3,4</td><td>280</td><td>102</td></tr>",
                            "<tr><td>2,1,2,4,8</td><td>276</td><td>82</td></tr>",
                            "<tr><td>2,1,2,4</td><td>275</td><td>72</td></tr>",
                            "<tr><td>2,2,4,6</td><td>275</td><td>100</td></tr>",
                            "<tr><td>3,1,3,4,6</td><td>270</td><td>102</td></tr>",
                            "<tr><td>8,1,2,3,4,8</td><td>267</td><td>92</td></tr>",
                            "<tr><td>8,1,2,3,4</td><td>266</td><td>82</td></tr>",
                            "<tr><td>3,1,2,4,8</td><td>266</td><td>82</td></tr>",
                            "<tr><td>4,1,2,3,8</td><td>266</td><td>82</td></tr>",
                            "<tr><td>2,1,3,4,8</td><td>266</td><td>82</td></tr>",
                            "<tr><td>1,2,3,4,8</td><td>266</td><td>82</td></tr>",
                            "<tr><td>1,2,3,4</td><td>265</td><td>72</td></tr>",
                            "<tr><td>2,1,3,4</td><td>265</td><td>72</td></tr>",
                            "<tr><td>4,1,2,3</td><td>265</td><td>72</td></tr>",
                            "<tr><td>3,1,2,4</td><td>265</td><td>72</td></tr>",
                            "<tr><td>2,3,4,6</td><td>265</td><td>100</td></tr>",
                            "<tr><td>3,2,4,6</td><td>265</td><td>100</td></tr>",
                            "<tr><td>6,2,3,4</td><td>265</td><td>100</td></tr>",
                            "<tr><td>4,2,3,6</td><td>265</td><td>100</td></tr>",
                            "<tr><td>2,2,4,8</td><td>261</td><td>80</td></tr>",
                            "<tr><td>1,1,2,3,5,8</td><td>261</td><td>94</td></tr>",
                            "<tr><td>2,2,4</td><td>260</td><td>70</td></tr>",
                            "<tr><td>1,1,2,3,5</td><td>260</td><td>84</td></tr>",
                            "<tr><td>3,1,3,4,8</td><td>256</td><td>82</td></tr>",
                            "<tr><td>2,1,2,5,8</td><td>256</td><td>92</td></tr>",
                            "<tr><td>3,1,3,4</td><td>255</td><td>72</td></tr>",
                            "<tr><td>2,1,2,5</td><td>255</td><td>82</td></tr>",
                            "<tr><td>3,3,4,6</td><td>255</td><td>100</td></tr>",
                            "<tr><td>8,2,3,4,8</td><td>252</td><td>90</td></tr>",
                            "<tr><td>8,2,3,4</td><td>251</td><td>80</td></tr>",
                            "<tr><td>4,2,3,8</td><td>251</td><td>80</td></tr>",
                            "<tr><td>3,2,4,8</td><td>251</td><td>80</td></tr>",
                            "<tr><td>2,3,4,8</td><td>251</td><td>80</td></tr>",
                            "<tr><td>2,3,4</td><td>250</td><td>70</td></tr>",
                            "<tr><td>3,2,4</td><td>250</td><td>70</td></tr>",
                            "<tr><td>4,2,3</td><td>250</td><td>70</td></tr>",
                            "<tr><td>8,1,2,3,5,8</td><td>247</td><td>102</td></tr>",
                            "<tr><td>8,1,2,3,5</td><td>246</td><td>92</td></tr>",
                            "<tr><td>5,1,2,3,8</td><td>246</td><td>92</td></tr>",
                            "<tr><td>3,1,2,5,8</td><td>246</td><td>92</td></tr>",
                            "<tr><td>2,1,3,5,8</td><td>246</td><td>92</td></tr>",
                            "<tr><td>1,2,3,5,8</td><td>246</td><td>92</td></tr>",
                            "<tr><td>1,2,3,5</td><td>245</td><td>82</td></tr>",
                            "<tr><td>2,1,3,5</td><td>245</td><td>82</td></tr>",
                            "<tr><td>3,1,2,5</td><td>245</td><td>82</td></tr>",
                            "<tr><td>5,1,2,3</td><td>245</td><td>82</td></tr>",
                            "<tr><td>3,3,4,8</td><td>241</td><td>80</td></tr>",
                            "<tr><td>2,2,5,8</td><td>241</td><td>90</td></tr>",
                            "<tr><td>3,3,4</td><td>240</td><td>70</td></tr>",
                            "<tr><td>2,2,5</td><td>240</td><td>80</td></tr>",
                            "<tr><td>1,1,2,3,6,8</td><td>236</td><td>84</td></tr>",
                            "<tr><td>3,1,3,5,8</td><td>236</td><td>92</td></tr>",
                            "<tr><td>4,1,2,4,8</td><td>236</td><td>92</td></tr>",
                            "<tr><td>1,1,2,3,6</td><td>235</td><td>74</td></tr>",
                            "<tr><td>4,1,2,4</td><td>235</td><td>82</td></tr>",
                            "<tr><td>3,1,3,5</td><td>235</td><td>82</td></tr>",
                            "<tr><td>6,1,2,3,6</td><td>235</td><td>102</td></tr>",
                            "<tr><td>8,2,3,5,8</td><td>232</td><td>100</td></tr>",
                            "<tr><td>2,1,2,6,8</td><td>231</td><td>82</td></tr>",
                            "<tr><td>3,2,5,8</td><td>231</td><td>90</td></tr>",
                            "<tr><td>2,3,5,8</td><td>231</td><td>90</td></tr>",
                            "<tr><td>8,2,3,5</td><td>231</td><td>90</td></tr>",
                            "<tr><td>5,2,3,8</td><td>231</td><td>90</td></tr>",
                            "<tr><td>2,1,2,6</td><td>230</td><td>72</td></tr>",
                            "<tr><td>2,3,5</td><td>230</td><td>80</td></tr>",
                            "<tr><td>3,2,5</td><td>230</td><td>80</td></tr>",
                            "<tr><td>5,2,3</td><td>230</td><td>80</td></tr>",
                            "<tr><td>1,1,2,4,5</td><td>230</td><td>94</td></tr>",
                            "<tr><td>4,1,3,4,8</td><td>226</td><td>92</td></tr>",
                            "<tr><td>4,1,3,4</td><td>225</td><td>82</td></tr>",
                            "<tr><td>2,1,2,7</td><td>225</td><td>102</td></tr>",
                            "<tr><td>8,1,2,3,6,8</td><td>222</td><td>92</td></tr>",
                            "<tr><td>1,1,2,3,8</td><td>221</td><td>54</td></tr>",
                            "<tr><td>8,1,2,3,6</td><td>221</td><td>82</td></tr>",
                            "<tr><td>6,1,2,3,8</td><td>221</td><td>82</td></tr>",
                            "<tr><td>2,1,3,6,8</td><td>221</td><td>82</td></tr>",
                            "<tr><td>1,2,3,6,8</td><td>221</td><td>82</td></tr>",
                            "<tr><td>3,1,2,6,8</td><td>221</td><td>82</td></tr>",
                            "<tr><td>3,3,5,8</td><td>221</td><td>90</td></tr>",
                            "<tr><td>4,2,4,8</td><td>221</td><td>90</td></tr>",
                            "<tr><td>1,1,2,3</td><td>220</td><td>44</td></tr>",
                            "<tr><td>1,2,3,6</td><td>220</td><td>72</td></tr>",
                            "<tr><td>2,1,3,6</td><td>220</td><td>72</td></tr>",
                            "<tr><td>3,1,2,6</td><td>220</td><td>72</td></tr>",
                            "<tr><td>6,1,2,3</td><td>220</td><td>72</td></tr>",
                            "<tr><td>4,2,4</td><td>220</td><td>80</td></tr>",
                            "<tr><td>3,3,5</td><td>220</td><td>80</td></tr>",
                            "<tr><td>1,1,3,4,5</td><td>220</td><td>94</td></tr>",
                            "<tr><td>6,2,3,6</td><td>220</td><td>100</td></tr>",
                            "<tr><td>2,1,2,8</td><td>216</td><td>52</td></tr>",
                            "<tr><td>2,2,6,8</td><td>216</td><td>80</td></tr>",
                            "<tr><td>4,1,2,5,8</td><td>216</td><td>102</td></tr>",
                            "<tr><td>2,1,4,5,8</td><td>216</td><td>102</td></tr>",
                            "<tr><td>1,2,4,5,8</td><td>216</td><td>102</td></tr>",
                            "<tr><td>5,1,2,4,8</td><td>216</td><td>102</td></tr>",
                            "<tr><td>8,1,2,4,5</td><td>216</td><td>102</td></tr>",
                            "<tr><td>2,1,2</td><td>215</td><td>42</td></tr>",
                            "<tr><td>2,2,6</td><td>215</td><td>70</td></tr>",
                            "<tr><td>4,1,2,5</td><td>215</td><td>92</td></tr>",
                            "<tr><td>2,1,4,5</td><td>215</td><td>92</td></tr>",
                            "<tr><td>1,2,4,5</td><td>215</td><td>92</td></tr>",
                            "<tr><td>5,1,2,4</td><td>215</td><td>92</td></tr>",
                            "<tr><td>7,1,2,3</td><td>215</td><td>102</td></tr>",
                            "<tr><td>1,2,3,7</td><td>215</td><td>102</td></tr>",
                            "<tr><td>2,1,3,7</td><td>215</td><td>102</td></tr>",
                            "<tr><td>3,1,2,7</td><td>215</td><td>102</td></tr>",
                            "<tr><td>3,1,3,6,8</td><td>211</td><td>82</td></tr>",
                            "<tr><td>4,3,4,8</td><td>211</td><td>90</td></tr>",
                            "<tr><td>3,1,3,6</td><td>210</td><td>72</td></tr>",
                            "<tr><td>4,3,4</td><td>210</td><td>80</td></tr>",
                            "<tr><td>2,2,7</td><td>210</td><td>100</td></tr>",
                            "<tr><td>8,1,2,3,8</td><td>207</td><td>62</td></tr>",
                            "<tr><td>8,2,3,6,8</td><td>207</td><td>90</td></tr>",
                            "<tr><td>8,1,2,3</td><td>206</td><td>52</td></tr>",
                            "<tr><td>3,1,2,8</td><td>206</td><td>52</td></tr>",
                            "<tr><td>2,1,3,8</td><td>206</td><td>52</td></tr>",
                            "<tr><td>1,2,3,8</td><td>206</td><td>52</td></tr>",
                            "<tr><td>2,3,6,8</td><td>206</td><td>80</td></tr>",
                            "<tr><td>3,2,6,8</td><td>206</td><td>80</td></tr>",
                            "<tr><td>8,2,3,6</td><td>206</td><td>80</td></tr>",
                            "<tr><td>6,2,3,8</td><td>206</td><td>80</td></tr>",
                            "<tr><td>1,1,2,4,6,8</td><td>206</td><td>94</td></tr>",
                            "<tr><td>5,1,3,4,8</td><td>206</td><td>102</td></tr>",
                            "<tr><td>8,1,3,4,5</td><td>206</td><td>102</td></tr>",
                            "<tr><td>4,1,3,5,8</td><td>206</td><td>102</td></tr>",
                            "<tr><td>3,1,4,5,8</td><td>206</td><td>102</td></tr>",
                            "<tr><td>1,3,4,5,8</td><td>206</td><td>102</td></tr>",
                            "<tr><td>1,2,3</td><td>205</td><td>42</td></tr>",
                            "<tr><td>2,1,3</td><td>205</td><td>42</td></tr>",
                            "<tr><td>3,1,2</td><td>205</td><td>42</td></tr>",
                            "<tr><td>3,2,6</td><td>205</td><td>70</td></tr>",
                            "<tr><td>2,3,6</td><td>205</td><td>70</td></tr>",
                            "<tr><td>6,2,3</td><td>205</td><td>70</td></tr>",
                            "<tr><td>1,1,2,4,6</td><td>205</td><td>84</td></tr>",
                            "<tr><td>5,1,3,4</td><td>205</td><td>92</td></tr>",
                            "<tr><td>3,1,4,5</td><td>205</td><td>92</td></tr>",
                            "<tr><td>4,1,3,5</td><td>205</td><td>92</td></tr>",
                            "<tr><td>1,3,4,5</td><td>205</td><td>92</td></tr>",
                            "<tr><td>3,1,3,7</td><td>205</td><td>102</td></tr>",
                            "<tr><td>2,2,8</td><td>201</td><td>50</td></tr>",
                            "<tr><td>2,4,5,8</td><td>201</td><td>100</td></tr>",
                            "<tr><td>5,2,4,8</td><td>201</td><td>100</td></tr>",
                            "<tr><td>4,2,5,8</td><td>201</td><td>100</td></tr>",
                            "<tr><td>8,2,4,5</td><td>201</td><td>100</td></tr>",
                            "<tr><td>2,2</td><td>200</td><td>40</td></tr>",
                            "<tr><td>2,4,5</td><td>200</td><td>90</td></tr>",
                            "<tr><td>4,2,5</td><td>200</td><td>90</td></tr>",
                            "<tr><td>5,2,4</td><td>200</td><td>90</td></tr>",
                            "<tr><td>7,2,3</td><td>200</td><td>100</td></tr>",
                            "<tr><td>2,3,7</td><td>200</td><td>100</td></tr>",
                            "<tr><td>3,2,7</td><td>200</td><td>100</td></tr>",
                            "<tr><td>3,1,3,8</td><td>196</td><td>52</td></tr>",
                            "<tr><td>3,3,6,8</td><td>196</td><td>80</td></tr>",
                            "<tr><td>1,1,3,4,6,8</td><td>196</td><td>94</td></tr>",
                            "<tr><td>3,1,3</td><td>195</td><td>42</td></tr>",
                            "<tr><td>3,3,6</td><td>195</td><td>70</td></tr>",
                            "<tr><td>1,1,3,4,6</td><td>195</td><td>84</td></tr>",
                            "<tr><td>5,1,2,5</td><td>195</td><td>102</td></tr>",
                            "<tr><td>8,2,3,8</td><td>192</td><td>60</td></tr>",
                            "<tr><td>8,1,2,4,6,8</td><td>192</td><td>102</td></tr>",
                            "<tr><td>8,2,3</td><td>191</td><td>50</td></tr>",
                            "<tr><td>3,2,8</td><td>191</td><td>50</td></tr>",
                            "<tr><td>2,3,8</td><td>191</td><td>50</td></tr>",
                            "<tr><td>1,1,2,4,8</td><td>191</td><td>64</td></tr>",
                            "<tr><td>4,1,2,6,8</td><td>191</td><td>92</td></tr>",
                            "<tr><td>1,2,4,6,8</td><td>191</td><td>92</td></tr>",
                            "<tr><td>2,1,4,6,8</td><td>191</td><td>92</td></tr>",
                            "<tr><td>8,1,2,4,6</td><td>191</td><td>92</td></tr>",
                            "<tr><td>6,1,2,4,8</td><td>191</td><td>92</td></tr>",
                            "<tr><td>5,3,4,8</td><td>191</td><td>100</td></tr>",
                            "<tr><td>4,3,5,8</td><td>191</td><td>100</td></tr>",
                            "<tr><td>8,3,4,5</td><td>191</td><td>100</td></tr>",
                            "<tr><td>3,4,5,8</td><td>191</td><td>100</td></tr>",
                            "<tr><td>3,2</td><td>190</td><td>40</td></tr>",
                            "<tr><td>2,3</td><td>190</td><td>40</td></tr>",
                            "<tr><td>1,1,2,4</td><td>190</td><td>54</td></tr>",
                            "<tr><td>1,2,4,6</td><td>190</td><td>82</td></tr>",
                            "<tr><td>2,1,4,6</td><td>190</td><td>82</td></tr>",
                            "<tr><td>4,1,2,6</td><td>190</td><td>82</td></tr>",
                            "<tr><td>6,1,2,4</td><td>190</td><td>82</td></tr>",
                            "<tr><td>5,3,4</td><td>190</td><td>90</td></tr>",
                            "<tr><td>4,3,5</td><td>190</td><td>90</td></tr>",
                            "<tr><td>3,4,5</td><td>190</td><td>90</td></tr>",
                            "<tr><td>3,3,7</td><td>190</td><td>100</td></tr>",
                            "<tr><td>1,1,2,5,6</td><td>185</td><td>94</td></tr>",
                            "<tr><td>5,1,3,5</td><td>185</td><td>102</td></tr>",
                            "<tr><td>8,1,3,4,6,8</td><td>182</td><td>102</td></tr>",
                            "<tr><td>3,3,8</td><td>181</td><td>50</td></tr>",
                            "<tr><td>1,1,3,4,8</td><td>181</td><td>64</td></tr>",
                            "<tr><td>1,3,4,6,8</td><td>181</td><td>92</td></tr>",
                            "<tr><td>4,1,3,6,8</td><td>181</td><td>92</td></tr>",
                            "<tr><td>3,1,4,6,8</td><td>181</td><td>92</td></tr>",
                            "<tr><td>8,1,3,4,6</td><td>181</td><td>92</td></tr>",
                            "<tr><td>6,1,3,4,8</td><td>181</td><td>92</td></tr>",
                            "<tr><td>3,3</td><td>180</td><td>40</td></tr>",
                            "<tr><td>1,1,3,4</td><td>180</td><td>54</td></tr>",
                            "<tr><td>1,3,4,6</td><td>180</td><td>82</td></tr>",
                            "<tr><td>4,1,3,6</td><td>180</td><td>82</td></tr>",
                            "<tr><td>3,1,4,6</td><td>180</td><td>82</td></tr>",
                            "<tr><td>6,1,3,4</td><td>180</td><td>82</td></tr>",
                            "<tr><td>5,2,5</td><td>180</td><td>100</td></tr>",
                            "<tr><td>8,1,2,4,8</td><td>177</td><td>72</td></tr>",
                            "<tr><td>8,2,4,6,8</td><td>177</td><td>100</td></tr>",
                            "<tr><td>8,1,2,4</td><td>176</td><td>62</td></tr>",
                            "<tr><td>4,1,2,8</td><td>176</td><td>62</td></tr>",
                            "<tr><td>1,2,4,8</td><td>176</td><td>62</td></tr>",
                            "<tr><td>2,1,4,8</td><td>176</td><td>62</td></tr>",
                            "<tr><td>2,4,6,8</td><td>176</td><td>90</td></tr>",
                            "<tr><td>8,2,4,6</td><td>176</td><td>90</td></tr>",
                            "<tr><td>6,2,4,8</td><td>176</td><td>90</td></tr>",
                            "<tr><td>4,2,6,8</td><td>176</td><td>90</td></tr>",
                            "<tr><td>4,1,2</td><td>175</td><td>52</td></tr>",
                            "<tr><td>2,1,4</td><td>175</td><td>52</td></tr>",
                            "<tr><td>1,2,4</td><td>175</td><td>52</td></tr>",
                            "<tr><td>2,4,6</td><td>175</td><td>80</td></tr>",
                            "<tr><td>4,2,6</td><td>175</td><td>80</td></tr>",
                            "<tr><td>6,2,4</td><td>175</td><td>80</td></tr>",
                            "<tr><td>1,1,3,5,6</td><td>175</td><td>94</td></tr>",
                            "<tr><td>4,1,4,5</td><td>175</td><td>102</td></tr>",
                            "<tr><td>1,1,2,5,8</td><td>171</td><td>74</td></tr>",
                            "<tr><td>1,2,5,6,8</td><td>171</td><td>102</td></tr>",
                            "<tr><td>2,1,5,6,8</td><td>171</td><td>102</td></tr>",
                            "<tr><td>6,1,2,5,8</td><td>171</td><td>102</td></tr>",
                            "<tr><td>5,1,2,6,8</td><td>171</td><td>102</td></tr>",
                            "<tr><td>8,1,2,5,6</td><td>171</td><td>102</td></tr>",
                            "<tr><td>1,1,2,5</td><td>170</td><td>64</td></tr>",
                            "<tr><td>1,2,5,6</td><td>170</td><td>92</td></tr>",
                            "<tr><td>2,1,5,6</td><td>170</td><td>92</td></tr>",
                            "<tr><td>5,1,2,6</td><td>170</td><td>92</td></tr>",
                            "<tr><td>6,1,2,5</td><td>170</td><td>92</td></tr>",
                            "<tr><td>5,3,5</td><td>170</td><td>100</td></tr>",
                            "<tr><td>8,1,3,4,8</td><td>167</td><td>72</td></tr>",
                            "<tr><td>8,3,4,6,8</td><td>167</td><td>100</td></tr>",
                            "<tr><td>8,1,3,4</td><td>166</td><td>62</td></tr>",
                            "<tr><td>1,3,4,8</td><td>166</td><td>62</td></tr>",
                            "<tr><td>4,1,3,8</td><td>166</td><td>62</td></tr>",
                            "<tr><td>3,1,4,8</td><td>166</td><td>62</td></tr>",
                            "<tr><td>3,4,6,8</td><td>166</td><td>90</td></tr>",
                            "<tr><td>8,3,4,6</td><td>166</td><td>90</td></tr>",
                            "<tr><td>6,3,4,8</td><td>166</td><td>90</td></tr>",
                            "<tr><td>4,3,6,8</td><td>166</td><td>90</td></tr>",
                            "<tr><td>4,1,3</td><td>165</td><td>52</td></tr>",
                            "<tr><td>3,1,4</td><td>165</td><td>52</td></tr>",
                            "<tr><td>1,3,4</td><td>165</td><td>52</td></tr>",
                            "<tr><td>3,4,6</td><td>165</td><td>80</td></tr>",
                            "<tr><td>4,3,6</td><td>165</td><td>80</td></tr>",
                            "<tr><td>6,3,4</td><td>165</td><td>80</td></tr>",
                            "<tr><td>8,2,4,8</td><td>162</td><td>70</td></tr>",
                            "<tr><td>8,2,4</td><td>161</td><td>60</td></tr>",
                            "<tr><td>4,2,8</td><td>161</td><td>60</td></tr>",
                            "<tr><td>2,4,8</td><td>161</td><td>60</td></tr>",
                            "<tr><td>1,1,3,5,8</td><td>161</td><td>74</td></tr>",
                            "<tr><td>1,3,5,6,8</td><td>161</td><td>102</td></tr>",
                            "<tr><td>3,1,5,6,8</td><td>161</td><td>102</td></tr>",
                            "<tr><td>5,1,3,6,8</td><td>161</td><td>102</td></tr>",
                            "<tr><td>6,1,3,5,8</td><td>161</td><td>102</td></tr>",
                            "<tr><td>8,1,3,5,6</td><td>161</td><td>102</td></tr>",
                            "<tr><td>4,2</td><td>160</td><td>50</td></tr>",
                            "<tr><td>2,4</td><td>160</td><td>50</td></tr>",
                            "<tr><td>1,1,3,5</td><td>160</td><td>64</td></tr>",
                            "<tr><td>1,3,5,6</td><td>160</td><td>92</td></tr>",
                            "<tr><td>3,1,5,6</td><td>160</td><td>92</td></tr>",
                            "<tr><td>5,1,3,6</td><td>160</td><td>92</td></tr>",
                            "<tr><td>6,1,3,5</td><td>160</td><td>92</td></tr>",
                            "<tr><td>4,4,5</td><td>160</td><td>100</td></tr>",
                            "<tr><td>8,1,2,5,8</td><td>157</td><td>82</td></tr>",
                            "<tr><td>8,1,2,5</td><td>156</td><td>72</td></tr>",
                            "<tr><td>5,1,2,8</td><td>156</td><td>72</td></tr>",
                            "<tr><td>1,2,5,8</td><td>156</td><td>72</td></tr>",
                            "<tr><td>2,1,5,8</td><td>156</td><td>72</td></tr>",
                            "<tr><td>2,5,6,8</td><td>156</td><td>100</td></tr>",
                            "<tr><td>5,2,6,8</td><td>156</td><td>100</td></tr>",
                            "<tr><td>6,2,5,8</td><td>156</td><td>100</td></tr>",
                            "<tr><td>8,2,5,6</td><td>156</td><td>100</td></tr>",
                            "<tr><td>5,1,2</td><td>155</td><td>62</td></tr>",
                            "<tr><td>2,1,5</td><td>155</td><td>62</td></tr>",
                            "<tr><td>1,2,5</td><td>155</td><td>62</td></tr>",
                            "<tr><td>2,5,6</td><td>155</td><td>90</td></tr>",
                            "<tr><td>6,2,5</td><td>155</td><td>90</td></tr>",
                            "<tr><td>5,2,6</td><td>155</td><td>90</td></tr>",
                            "<tr><td>8,3,4,8</td><td>152</td><td>70</td></tr>",
                            "<tr><td>8,3,4</td><td>151</td><td>60</td></tr>",
                            "<tr><td>4,3,8</td><td>151</td><td>60</td></tr>",
                            "<tr><td>3,4,8</td><td>151</td><td>60</td></tr>",
                            "<tr><td>4,1,4,6,8</td><td>151</td><td>102</td></tr>",
                            "<tr><td>3,4</td><td>150</td><td>50</td></tr>",
                            "<tr><td>4,3</td><td>150</td><td>50</td></tr>",
                            "<tr><td>4,1,4,6</td><td>150</td><td>92</td></tr>",
                            "<tr><td>8,1,3,5,8</td><td>147</td><td>82</td></tr>",
                            "<tr><td>1,1,2,6,8</td><td>146</td><td>64</td></tr>",
                            "<tr><td>8,1,3,5</td><td>146</td><td>72</td></tr>",
                            "<tr><td>5,1,3,8</td><td>146</td><td>72</td></tr>",
                            "<tr><td>3,1,5,8</td><td>146</td><td>72</td></tr>",
                            "<tr><td>1,3,5,8</td><td>146</td><td>72</td></tr>",
                            "<tr><td>6,1,2,6,8</td><td>146</td><td>92</td></tr>",
                            "<tr><td>6,3,5,8</td><td>146</td><td>100</td></tr>",
                            "<tr><td>5,3,6,8</td><td>146</td><td>100</td></tr>",
                            "<tr><td>8,3,5,6</td><td>146</td><td>100</td></tr>",
                            "<tr><td>3,5,6,8</td><td>146</td><td>100</td></tr>",
                            "<tr><td>1,1,2,6</td><td>145</td><td>54</td></tr>",
                            "<tr><td>1,3,5</td><td>145</td><td>62</td></tr>",
                            "<tr><td>3,1,5</td><td>145</td><td>62</td></tr>",
                            "<tr><td>5,1,3</td><td>145</td><td>62</td></tr>",
                            "<tr><td>6,1,2,6</td><td>145</td><td>82</td></tr>",
                            "<tr><td>5,3,6</td><td>145</td><td>90</td></tr>",
                            "<tr><td>6,3,5</td><td>145</td><td>90</td></tr>",
                            "<tr><td>3,5,6</td><td>145</td><td>90</td></tr>",
                            "<tr><td>8,2,5,8</td><td>142</td><td>80</td></tr>",
                            "<tr><td>8,2,5</td><td>141</td><td>70</td></tr>",
                            "<tr><td>5,2,8</td><td>141</td><td>70</td></tr>",
                            "<tr><td>2,5,8</td><td>141</td><td>70</td></tr>",
                            "<tr><td>1,1,2,7,8</td><td>141</td><td>94</td></tr>",
                            "<tr><td>2,5</td><td>140</td><td>60</td></tr>",
                            "<tr><td>5,2</td><td>140</td><td>60</td></tr>",
                            "<tr><td>1,1,2,7</td><td>140</td><td>84</td></tr>",
                            "<tr><td>1,1,3,6,8</td><td>136</td><td>64</td></tr>",
                            "<tr><td>4,1,4,8</td><td>136</td><td>72</td></tr>",
                            "<tr><td>6,1,3,6,8</td><td>136</td><td>92</td></tr>",
                            "<tr><td>4,4,6,8</td><td>136</td><td>100</td></tr>",
                            "<tr><td>1,1,3,6</td><td>135</td><td>54</td></tr>",
                            "<tr><td>4,1,4</td><td>135</td><td>62</td></tr>",
                            "<tr><td>6,1,3,6</td><td>135</td><td>82</td></tr>",
                            "<tr><td>4,4,6</td><td>135</td><td>90</td></tr>",
                            "<tr><td>8,1,2,6,8</td><td>132</td><td>72</td></tr>",
                            "<tr><td>8,3,5,8</td><td>132</td><td>80</td></tr>",
                            "<tr><td>1,1,2,8</td><td>131</td><td>34</td></tr>",
                            "<tr><td>1,2,6,8</td><td>131</td><td>62</td></tr>",
                            "<tr><td>2,1,6,8</td><td>131</td><td>62</td></tr>",
                            "<tr><td>8,1,2,6</td><td>131</td><td>62</td></tr>",
                            "<tr><td>6,1,2,8</td><td>131</td><td>62</td></tr>",
                            "<tr><td>5,3,8</td><td>131</td><td>70</td></tr>",
                            "<tr><td>8,3,5</td><td>131</td><td>70</td></tr>",
                            "<tr><td>3,5,8</td><td>131</td><td>70</td></tr>",
                            "<tr><td>1,1,4,5,8</td><td>131</td><td>84</td></tr>",
                            "<tr><td>6,2,6,8</td><td>131</td><td>90</td></tr>",
                            "<tr><td>1,1,3,7,8</td><td>131</td><td>94</td></tr>",
                            "<tr><td>1,1,2</td><td>130</td><td>24</td></tr>",
                            "<tr><td>1,2,6</td><td>130</td><td>52</td></tr>",
                            "<tr><td>2,1,6</td><td>130</td><td>52</td></tr>",
                            "<tr><td>6,1,2</td><td>130</td><td>52</td></tr>",
                            "<tr><td>5,3</td><td>130</td><td>60</td></tr>",
                            "<tr><td>3,5</td><td>130</td><td>60</td></tr>",
                            "<tr><td>1,1,4,5</td><td>130</td><td>74</td></tr>",
                            "<tr><td>6,2,6</td><td>130</td><td>80</td></tr>",
                            "<tr><td>1,1,3,7</td><td>130</td><td>84</td></tr>",
                            "<tr><td>1,4,5,6</td><td>130</td><td>102</td></tr>",
                            "<tr><td>4,1,5,6</td><td>130</td><td>102</td></tr>",
                            "<tr><td>6,1,4,5</td><td>130</td><td>102</td></tr>",
                            "<tr><td>5,1,4,6</td><td>130</td><td>102</td></tr>",
                            "<tr><td>8,1,2,7,8</td><td>127</td><td>102</td></tr>",
                            "<tr><td>8,1,2,7</td><td>126</td><td>92</td></tr>",
                            "<tr><td>7,1,2,8</td><td>126</td><td>92</td></tr>",
                            "<tr><td>1,2,7,8</td><td>126</td><td>92</td></tr>",
                            "<tr><td>2,1,7,8</td><td>126</td><td>92</td></tr>",
                            "<tr><td>2,1,7</td><td>125</td><td>82</td></tr>",
                            "<tr><td>1,2,7</td><td>125</td><td>82</td></tr>",
                            "<tr><td>7,1,2</td><td>125</td><td>82</td></tr>",
                            "<tr><td>8,1,3,6,8</td><td>122</td><td>72</td></tr>",
                            "<tr><td>1,1,3,8</td><td>121</td><td>34</td></tr>",
                            "<tr><td>1,3,6,8</td><td>121</td><td>62</td></tr>",
                            "<tr><td>3,1,6,8</td><td>121</td><td>62</td></tr>",
                            "<tr><td>8,1,3,6</td><td>121</td><td>62</td></tr>",
                            "<tr><td>6,1,3,8</td><td>121</td><td>62</td></tr>",
                            "<tr><td>4,4,8</td><td>121</td><td>70</td></tr>",
                            "<tr><td>6,3,6,8</td><td>121</td><td>90</td></tr>",
                            "<tr><td>1,1,3</td><td>120</td><td>24</td></tr>",
                            "<tr><td>1,3,6</td><td>120</td><td>52</td></tr>",
                            "<tr><td>3,1,6</td><td>120</td><td>52</td></tr>",
                            "<tr><td>6,1,3</td><td>120</td><td>52</td></tr>",
                            "<tr><td>4,4</td><td>120</td><td>60</td></tr>",
                            "<tr><td>6,3,6</td><td>120</td><td>80</td></tr>",
                            "<tr><td>8,1,2,8</td><td>117</td><td>42</td></tr>",
                            "<tr><td>8,2,6,8</td><td>117</td><td>70</td></tr>",
                            "<tr><td>8,1,4,5,8</td><td>117</td><td>92</td></tr>",
                            "<tr><td>8,1,3,7,8</td><td>117</td><td>102</td></tr>",
                            "<tr><td>8,1,2</td><td>116</td><td>32</td></tr>",
                            "<tr><td>2,1,8</td><td>116</td><td>32</td></tr>",
                            "<tr><td>1,2,8</td><td>116</td><td>32</td></tr>",
                            "<tr><td>2,6,8</td><td>116</td><td>60</td></tr>",
                            "<tr><td>8,2,6</td><td>116</td><td>60</td></tr>",
                            "<tr><td>6,2,8</td><td>116</td><td>60</td></tr>",
                            "<tr><td>5,1,4,8</td><td>116</td><td>82</td></tr>",
                            "<tr><td>8,1,4,5</td><td>116</td><td>82</td></tr>",
                            "<tr><td>4,1,5,8</td><td>116</td><td>82</td></tr>",
                            "<tr><td>1,4,5,8</td><td>116</td><td>82</td></tr>",
                            "<tr><td>1,3,7,8</td><td>116</td><td>92</td></tr>",
                            "<tr><td>3,1,7,8</td><td>116</td><td>92</td></tr>",
                            "<tr><td>8,1,3,7</td><td>116</td><td>92</td></tr>",
                            "<tr><td>7,1,3,8</td><td>116</td><td>92</td></tr>",
                            "<tr><td>2,1</td><td>115</td><td>22</td></tr>",
                            "<tr><td>1,2</td><td>115</td><td>22</td></tr>",
                            "<tr><td>2,6</td><td>115</td><td>50</td></tr>",
                            "<tr><td>6,2</td><td>115</td><td>50</td></tr>",
                            "<tr><td>5,1,4</td><td>115</td><td>72</td></tr>",
                            "<tr><td>4,1,5</td><td>115</td><td>72</td></tr>",
                            "<tr><td>1,4,5</td><td>115</td><td>72</td></tr>",
                            "<tr><td>1,3,7</td><td>115</td><td>82</td></tr>",
                            "<tr><td>3,1,7</td><td>115</td><td>82</td></tr>",
                            "<tr><td>7,1,3</td><td>115</td><td>82</td></tr>",
                            "<tr><td>6,4,5</td><td>115</td><td>100</td></tr>",
                            "<tr><td>4,5,6</td><td>115</td><td>100</td></tr>",
                            "<tr><td>5,4,6</td><td>115</td><td>100</td></tr>",
                            "<tr><td>8,2,7,8</td><td>112</td><td>100</td></tr>",
                            "<tr><td>8,2,7</td><td>111</td><td>90</td></tr>",
                            "<tr><td>7,2,8</td><td>111</td><td>90</td></tr>",
                            "<tr><td>2,7,8</td><td>111</td><td>90</td></tr>",
                            "<tr><td>2,7</td><td>110</td><td>80</td></tr>",
                            "<tr><td>7,2</td><td>110</td><td>80</td></tr>",
                            "<tr><td>8,1,3,8</td><td>107</td><td>42</td></tr>",
                            "<tr><td>8,3,6,8</td><td>107</td><td>70</td></tr>",
                            "<tr><td>8,1,3</td><td>106</td><td>32</td></tr>",
                            "<tr><td>3,1,8</td><td>106</td><td>32</td></tr>",
                            "<tr><td>1,3,8</td><td>106</td><td>32</td></tr>",
                            "<tr><td>3,6,8</td><td>106</td><td>60</td></tr>",
                            "<tr><td>8,3,6</td><td>106</td><td>60</td></tr>",
                            "<tr><td>6,3,8</td><td>106</td><td>60</td></tr>",
                            "<tr><td>1,1,4,6,8</td><td>106</td><td>74</td></tr>",
                            "<tr><td>6,1,4,6,8</td><td>106</td><td>102</td></tr>",
                            "<tr><td>1,3</td><td>105</td><td>22</td></tr>",
                            "<tr><td>3,1</td><td>105</td><td>22</td></tr>",
                            "<tr><td>3,6</td><td>105</td><td>50</td></tr>",
                            "<tr><td>6,3</td><td>105</td><td>50</td></tr>",
                            "<tr><td>1,1,4,6</td><td>105</td><td>64</td></tr>",
                            "<tr><td>6,1,4,6</td><td>105</td><td>92</td></tr>",
                            "<tr><td>8,2,8</td><td>102</td><td>40</td></tr>",
                            "<tr><td>8,4,5,8</td><td>102</td><td>90</td></tr>",
                            "<tr><td>8,3,7,8</td><td>102</td><td>100</td></tr>",
                            "<tr><td>8,2</td><td>101</td><td>30</td></tr>",
                            "<tr><td>2,8</td><td>101</td><td>30</td></tr>",
                            "<tr><td>8,4,5</td><td>101</td><td>80</td></tr>",
                            "<tr><td>5,4,8</td><td>101</td><td>80</td></tr>",
                            "<tr><td>4,5,8</td><td>101</td><td>80</td></tr>",
                            "<tr><td>8,3,7</td><td>101</td><td>90</td></tr>",
                            "<tr><td>7,3,8</td><td>101</td><td>90</td></tr>",
                            "<tr><td>3,7,8</td><td>101</td><td>90</td></tr>",
                            "<tr><td>2</td><td>100</td><td>20</td></tr>",
                            "<tr><td>4,5</td><td>100</td><td>70</td></tr>",
                            "<tr><td>5,4</td><td>100</td><td>70</td></tr>",
                            "<tr><td>7,3</td><td>100</td><td>80</td></tr>",
                            "<tr><td>3,7</td><td>100</td><td>80</td></tr>",
                            "<tr><td>1,1,4,7</td><td>100</td><td>94</td></tr>",
                            "<tr><td>5,1,5,8</td><td>96</td><td>92</td></tr>",
                            "<tr><td>5,1,5</td><td>95</td><td>82</td></tr>",
                            "<tr><td>8,3,8</td><td>92</td><td>40</td></tr>",
                            "<tr><td>8,1,4,6,8</td><td>92</td><td>82</td></tr>",
                            "<tr><td>8,3</td><td>91</td><td>30</td></tr>",
                            "<tr><td>3,8</td><td>91</td><td>30</td></tr>",
                            "<tr><td>1,1,4,8</td><td>91</td><td>44</td></tr>",
                            "<tr><td>1,4,6,8</td><td>91</td><td>72</td></tr>",
                            "<tr><td>4,1,6,8</td><td>91</td><td>72</td></tr>",
                            "<tr><td>8,1,4,6</td><td>91</td><td>72</td></tr>",
                            "<tr><td>6,1,4,8</td><td>91</td><td>72</td></tr>",
                            "<tr><td>6,4,6,8</td><td>91</td><td>100</td></tr>",
                            "<tr><td>3</td><td>90</td><td>20</td></tr>",
                            "<tr><td>1,1,4</td><td>90</td><td>34</td></tr>",
                            "<tr><td>1,4,6</td><td>90</td><td>62</td></tr>",
                            "<tr><td>6,1,4</td><td>90</td><td>62</td></tr>",
                            "<tr><td>4,1,6</td><td>90</td><td>62</td></tr>",
                            "<tr><td>6,4,6</td><td>90</td><td>90</td></tr>",
                            "<tr><td>1,1,5,6,8</td><td>86</td><td>84</td></tr>",
                            "<tr><td>1,4,7,8</td><td>86</td><td>102</td></tr>",
                            "<tr><td>7,1,4,8</td><td>86</td><td>102</td></tr>",
                            "<tr><td>8,1,4,7</td><td>86</td><td>102</td></tr>",
                            "<tr><td>4,1,7,8</td><td>86</td><td>102</td></tr>",
                            "<tr><td>1,1,5,6</td><td>85</td><td>74</td></tr>",
                            "<tr><td>1,4,7</td><td>85</td><td>92</td></tr>",
                            "<tr><td>4,1,7</td><td>85</td><td>92</td></tr>",
                            "<tr><td>7,1,4</td><td>85</td><td>92</td></tr>",
                            "<tr><td>6,1,5,6</td><td>85</td><td>102</td></tr>",
                            "<tr><td>5,5,8</td><td>81</td><td>90</td></tr>",
                            "<tr><td>5,5</td><td>80</td><td>80</td></tr>",
                            "<tr><td>8,1,4,8</td><td>77</td><td>52</td></tr>",
                            "<tr><td>8,4,6,8</td><td>77</td><td>80</td></tr>",
                            "<tr><td>8,1,4</td><td>76</td><td>42</td></tr>",
                            "<tr><td>4,1,8</td><td>76</td><td>42</td></tr>",
                            "<tr><td>1,4,8</td><td>76</td><td>42</td></tr>",
                            "<tr><td>4,6,8</td><td>76</td><td>70</td></tr>",
                            "<tr><td>8,4,6</td><td>76</td><td>70</td></tr>",
                            "<tr><td>6,4,8</td><td>76</td><td>70</td></tr>",
                            "<tr><td>4,1</td><td>75</td><td>32</td></tr>",
                            "<tr><td>1,4</td><td>75</td><td>32</td></tr>",
                            "<tr><td>4,6</td><td>75</td><td>60</td></tr>",
                            "<tr><td>6,4</td><td>75</td><td>60</td></tr>",
                            "<tr><td>8,1,5,6,8</td><td>72</td><td>92</td></tr>",
                            "<tr><td>1,1,5,8</td><td>71</td><td>54</td></tr>",
                            "<tr><td>1,5,6,8</td><td>71</td><td>82</td></tr>",
                            "<tr><td>8,1,5,6</td><td>71</td><td>82</td></tr>",
                            "<tr><td>5,1,6,8</td><td>71</td><td>82</td></tr>",
                            "<tr><td>6,1,5,8</td><td>71</td><td>82</td></tr>",
                            "<tr><td>4,7,8</td><td>71</td><td>100</td></tr>",
                            "<tr><td>8,4,7</td><td>71</td><td>100</td></tr>",
                            "<tr><td>7,4,8</td><td>71</td><td>100</td></tr>",
                            "<tr><td>1,1,5</td><td>70</td><td>44</td></tr>",
                            "<tr><td>1,5,6</td><td>70</td><td>72</td></tr>",
                            "<tr><td>5,1,6</td><td>70</td><td>72</td></tr>",
                            "<tr><td>6,1,5</td><td>70</td><td>72</td></tr>",
                            "<tr><td>4,7</td><td>70</td><td>90</td></tr>",
                            "<tr><td>7,4</td><td>70</td><td>90</td></tr>",
                            "<tr><td>6,5,6</td><td>70</td><td>100</td></tr>",
                            "<tr><td>7,1,5</td><td>65</td><td>102</td></tr>",
                            "<tr><td>5,1,7</td><td>65</td><td>102</td></tr>",
                            "<tr><td>1,5,7</td><td>65</td><td>102</td></tr>",
                            "<tr><td>8,4,8</td><td>62</td><td>50</td></tr>",
                            "<tr><td>8,4</td><td>61</td><td>40</td></tr>",
                            "<tr><td>4,8</td><td>61</td><td>40</td></tr>",
                            "<tr><td>4</td><td>60</td><td>30</td></tr>",
                            "<tr><td>8,1,5,8</td><td>57</td><td>62</td></tr>",
                            "<tr><td>8,5,6,8</td><td>57</td><td>90</td></tr>",
                            "<tr><td>8,1,5</td><td>56</td><td>52</td></tr>",
                            "<tr><td>5,1,8</td><td>56</td><td>52</td></tr>",
                            "<tr><td>1,5,8</td><td>56</td><td>52</td></tr>",
                            "<tr><td>5,6,8</td><td>56</td><td>80</td></tr>",
                            "<tr><td>8,5,6</td><td>56</td><td>80</td></tr>",
                            "<tr><td>6,5,8</td><td>56</td><td>80</td></tr>",
                            "<tr><td>5,1</td><td>55</td><td>42</td></tr>",
                            "<tr><td>1,5</td><td>55</td><td>42</td></tr>",
                            "<tr><td>5,6</td><td>55</td><td>70</td></tr>",
                            "<tr><td>6,5</td><td>55</td><td>70</td></tr>",
                            "<tr><td>1,1,6,7</td><td>55</td><td>94</td></tr>",
                            "<tr><td>7,5</td><td>50</td><td>100</td></tr>",
                            "<tr><td>5,7</td><td>50</td><td>100</td></tr>",
                            "<tr><td>1,1,6,8</td><td>46</td><td>44</td></tr>",
                            "<tr><td>6,1,6,8</td><td>46</td><td>72</td></tr>",
                            "<tr><td>1,1,6</td><td>45</td><td>34</td></tr>",
                            "<tr><td>6,1,6</td><td>45</td><td>62</td></tr>",
                            "<tr><td>8,5,8</td><td>42</td><td>60</td></tr>",
                            "<tr><td>8,5</td><td>41</td><td>50</td></tr>",
                            "<tr><td>5,8</td><td>41</td><td>50</td></tr>",
                            "<tr><td>1,1,7,8</td><td>41</td><td>74</td></tr>",
                            "<tr><td>1,6,7,8</td><td>41</td><td>102</td></tr>",
                            "<tr><td>6,1,7,8</td><td>41</td><td>102</td></tr>",
                            "<tr><td>8,1,6,7</td><td>41</td><td>102</td></tr>",
                            "<tr><td>7,1,6,8</td><td>41</td><td>102</td></tr>",
                            "<tr><td>5</td><td>40</td><td>40</td></tr>",
                            "<tr><td>1,1,7</td><td>40</td><td>64</td></tr>",
                            "<tr><td>1,6,7</td><td>40</td><td>92</td></tr>",
                            "<tr><td>7,1,6</td><td>40</td><td>92</td></tr>",
                            "<tr><td>6,1,7</td><td>40</td><td>92</td></tr>",
                            "<tr><td>8,1,6,8</td><td>32</td><td>52</td></tr>",
                            "<tr><td>1,1,8</td><td>31</td><td>14</td></tr>",
                            "<tr><td>1,6,8</td><td>31</td><td>42</td></tr>",
                            "<tr><td>8,1,6</td><td>31</td><td>42</td></tr>",
                            "<tr><td>6,1,8</td><td>31</td><td>42</td></tr>",
                            "<tr><td>6,6,8</td><td>31</td><td>70</td></tr>",
                            "<tr><td>1,1</td><td>30</td><td>4</td></tr>",
                            "<tr><td>1,6</td><td>30</td><td>32</td></tr>",
                            "<tr><td>6,1</td><td>30</td><td>32</td></tr>",
                            "<tr><td>6,6</td><td>30</td><td>60</td></tr>",
                            "<tr><td>8,1,7,8</td><td>27</td><td>82</td></tr>",
                            "<tr><td>8,1,7</td><td>26</td><td>72</td></tr>",
                            "<tr><td>7,1,8</td><td>26</td><td>72</td></tr>",
                            "<tr><td>1,7,8</td><td>26</td><td>72</td></tr>",
                            "<tr><td>7,6,8</td><td>26</td><td>100</td></tr>",
                            "<tr><td>6,7,8</td><td>26</td><td>100</td></tr>",
                            "<tr><td>8,6,7</td><td>26</td><td>100</td></tr>",
                            "<tr><td>7,1</td><td>25</td><td>62</td></tr>",
                            "<tr><td>1,7</td><td>25</td><td>62</td></tr>",
                            "<tr><td>7,6</td><td>25</td><td>90</td></tr>",
                            "<tr><td>6,7</td><td>25</td><td>90</td></tr>",
                            "<tr><td>8,1,8</td><td>17</td><td>22</td></tr>",
                            "<tr><td>8,6,8</td><td>17</td><td>50</td></tr>",
                            "<tr><td>8,1</td><td>16</td><td>12</td></tr>",
                            "<tr><td>1,8</td><td>16</td><td>12</td></tr>",
                            "<tr><td>8,6</td><td>16</td><td>40</td></tr>",
                            "<tr><td>6,8</td><td>16</td><td>40</td></tr>",
                            "<tr><td>1</td><td>15</td><td>2</td></tr>",
                            "<tr><td>6</td><td>15</td><td>30</td></tr>",
                            "<tr><td>8,7,8</td><td>12</td><td>80</td></tr>",
                            "<tr><td>8,7</td><td>11</td><td>70</td></tr>",
                            "<tr><td>7,8</td><td>11</td><td>70</td></tr>",
                            "<tr><td>7</td><td>10</td><td>60</td></tr>",
                            "<tr><td>8,8</td><td>2</td><td>20</td></tr>",
                            "<tr><td>8</td><td>1</td><td>10</td></tr>",
                            "</table>"
                        ]
                    }
                }
            ],
            "execution_count": 5
        },
        {
            "cell_type": "markdown",
            "source": [
                "In the results there are repetitions in the combinations."
            ],
            "metadata": {
                "language": "sql",
                "azdata_cell_guid": "62f8e10d-9a61-4188-b081-2c9295e2a824"
            },
            "attachments": {}
        },
        {
            "cell_type": "code",
            "source": [
                "WITH RecursiveCTE AS (\r\n",
                "    SELECT\r\n",
                "        CAST([Id] AS VARCHAR(MAX)) AS Combination,\r\n",
                "        [value] AS TotalValue,\r\n",
                "        [weight] AS TotalWeight\r\n",
                "    FROM\r\n",
                "        [portfolio].[burglars].[items]\r\n",
                "    UNION ALL\r\n",
                "    SELECT\r\n",
                "        rc.Combination + ',' + CAST(i.Id AS VARCHAR(MAX)),\r\n",
                "        rc.TotalValue + i.[value],\r\n",
                "        rc.TotalWeight + i.[weight]\r\n",
                "    FROM\r\n",
                "        RecursiveCTE rc\r\n",
                "    JOIN\r\n",
                "        [portfolio].[burglars].[items] i ON i.Id > CAST(SUBSTRING(rc.Combination, LEN(rc.Combination) - CHARINDEX(',', REVERSE(rc.Combination)) + 2, LEN(rc.Combination)) AS INT)\r\n",
                "    WHERE\r\n",
                "        rc.TotalWeight + i.[weight] <= (SELECT [wtmax] FROM [portfolio].[burglars].[conditions])\r\n",
                "    AND NOT EXISTS (\r\n",
                "            SELECT 1\r\n",
                "            FROM [portfolio].[burglars].[items] ni\r\n",
                "            WHERE ni.Id = i.Id\r\n",
                "            AND ',' + rc.Combination + ',' LIKE '%,' + CAST(ni.Id AS VARCHAR(MAX)) + ',%'\r\n",
                "        )\r\n",
                ")\r\n",
                "SELECT\r\n",
                "    Combination,\r\n",
                "    TotalValue,\r\n",
                "    TotalWeight\r\n",
                "FROM\r\n",
                "    RecursiveCTE\r\n",
                "WHERE\r\n",
                "    TotalWeight <= (SELECT [wtmax ] FROM [portfolio].[burglars].[conditions])\r\n",
                "ORDER BY\r\n",
                "    TotalValue DESC, TotalWeight;"
            ],
            "metadata": {
                "language": "sql",
                "azdata_cell_guid": "6e599495-5094-42d2-b761-87ca251658df"
            },
            "outputs": [
                {
                    "output_type": "display_data",
                    "data": {
                        "text/html": "(392 rows affected)"
                    },
                    "metadata": {}
                },
                {
                    "output_type": "display_data",
                    "data": {
                        "text/html": "Total execution time: 00:00:00.290"
                    },
                    "metadata": {}
                },
                {
                    "output_type": "execute_result",
                    "metadata": {},
                    "execution_count": 6,
                    "data": {
                        "application/vnd.dataresource+json": {
                            "schema": {
                                "fields": [
                                    {
                                        "name": "Combination"
                                    },
                                    {
                                        "name": "TotalValue"
                                    },
                                    {
                                        "name": "TotalWeight"
                                    }
                                ]
                            },
                            "data": [
                                {
                                    "Combination": "6,1,2,3,4",
                                    "TotalValue": "280",
                                    "TotalWeight": "102"
                                },
                                {
                                    "Combination": "4,1,2,3,6",
                                    "TotalValue": "280",
                                    "TotalWeight": "102"
                                },
                                {
                                    "Combination": "3,1,2,4,6",
                                    "TotalValue": "280",
                                    "TotalWeight": "102"
                                },
                                {
                                    "Combination": "2,1,3,4,6",
                                    "TotalValue": "280",
                                    "TotalWeight": "102"
                                },
                                {
                                    "Combination": "1,2,3,4,6",
                                    "TotalValue": "280",
                                    "TotalWeight": "102"
                                },
                                {
                                    "Combination": "1,2,3,4,8",
                                    "TotalValue": "266",
                                    "TotalWeight": "82"
                                },
                                {
                                    "Combination": "2,1,3,4,8",
                                    "TotalValue": "266",
                                    "TotalWeight": "82"
                                },
                                {
                                    "Combination": "3,1,2,4,8",
                                    "TotalValue": "266",
                                    "TotalWeight": "82"
                                },
                                {
                                    "Combination": "4,1,2,3,8",
                                    "TotalValue": "266",
                                    "TotalWeight": "82"
                                },
                                {
                                    "Combination": "8,1,2,3,4",
                                    "TotalValue": "266",
                                    "TotalWeight": "82"
                                },
                                {
                                    "Combination": "3,1,2,4",
                                    "TotalValue": "265",
                                    "TotalWeight": "72"
                                },
                                {
                                    "Combination": "4,1,2,3",
                                    "TotalValue": "265",
                                    "TotalWeight": "72"
                                },
                                {
                                    "Combination": "2,1,3,4",
                                    "TotalValue": "265",
                                    "TotalWeight": "72"
                                },
                                {
                                    "Combination": "1,2,3,4",
                                    "TotalValue": "265",
                                    "TotalWeight": "72"
                                },
                                {
                                    "Combination": "2,3,4,6",
                                    "TotalValue": "265",
                                    "TotalWeight": "100"
                                },
                                {
                                    "Combination": "4,2,3,6",
                                    "TotalValue": "265",
                                    "TotalWeight": "100"
                                },
                                {
                                    "Combination": "3,2,4,6",
                                    "TotalValue": "265",
                                    "TotalWeight": "100"
                                },
                                {
                                    "Combination": "6,2,3,4",
                                    "TotalValue": "265",
                                    "TotalWeight": "100"
                                },
                                {
                                    "Combination": "8,2,3,4",
                                    "TotalValue": "251",
                                    "TotalWeight": "80"
                                },
                                {
                                    "Combination": "3,2,4,8",
                                    "TotalValue": "251",
                                    "TotalWeight": "80"
                                },
                                {
                                    "Combination": "4,2,3,8",
                                    "TotalValue": "251",
                                    "TotalWeight": "80"
                                },
                                {
                                    "Combination": "2,3,4,8",
                                    "TotalValue": "251",
                                    "TotalWeight": "80"
                                },
                                {
                                    "Combination": "4,2,3",
                                    "TotalValue": "250",
                                    "TotalWeight": "70"
                                },
                                {
                                    "Combination": "3,2,4",
                                    "TotalValue": "250",
                                    "TotalWeight": "70"
                                },
                                {
                                    "Combination": "2,3,4",
                                    "TotalValue": "250",
                                    "TotalWeight": "70"
                                },
                                {
                                    "Combination": "3,1,2,5,8",
                                    "TotalValue": "246",
                                    "TotalWeight": "92"
                                },
                                {
                                    "Combination": "5,1,2,3,8",
                                    "TotalValue": "246",
                                    "TotalWeight": "92"
                                },
                                {
                                    "Combination": "8,1,2,3,5",
                                    "TotalValue": "246",
                                    "TotalWeight": "92"
                                },
                                {
                                    "Combination": "2,1,3,5,8",
                                    "TotalValue": "246",
                                    "TotalWeight": "92"
                                },
                                {
                                    "Combination": "1,2,3,5,8",
                                    "TotalValue": "246",
                                    "TotalWeight": "92"
                                },
                                {
                                    "Combination": "1,2,3,5",
                                    "TotalValue": "245",
                                    "TotalWeight": "82"
                                },
                                {
                                    "Combination": "2,1,3,5",
                                    "TotalValue": "245",
                                    "TotalWeight": "82"
                                },
                                {
                                    "Combination": "5,1,2,3",
                                    "TotalValue": "245",
                                    "TotalWeight": "82"
                                },
                                {
                                    "Combination": "3,1,2,5",
                                    "TotalValue": "245",
                                    "TotalWeight": "82"
                                },
                                {
                                    "Combination": "3,2,5,8",
                                    "TotalValue": "231",
                                    "TotalWeight": "90"
                                },
                                {
                                    "Combination": "5,2,3,8",
                                    "TotalValue": "231",
                                    "TotalWeight": "90"
                                },
                                {
                                    "Combination": "8,2,3,5",
                                    "TotalValue": "231",
                                    "TotalWeight": "90"
                                },
                                {
                                    "Combination": "2,3,5,8",
                                    "TotalValue": "231",
                                    "TotalWeight": "90"
                                },
                                {
                                    "Combination": "5,2,3",
                                    "TotalValue": "230",
                                    "TotalWeight": "80"
                                },
                                {
                                    "Combination": "3,2,5",
                                    "TotalValue": "230",
                                    "TotalWeight": "80"
                                },
                                {
                                    "Combination": "2,3,5",
                                    "TotalValue": "230",
                                    "TotalWeight": "80"
                                },
                                {
                                    "Combination": "3,1,2,6,8",
                                    "TotalValue": "221",
                                    "TotalWeight": "82"
                                },
                                {
                                    "Combination": "8,1,2,3,6",
                                    "TotalValue": "221",
                                    "TotalWeight": "82"
                                },
                                {
                                    "Combination": "6,1,2,3,8",
                                    "TotalValue": "221",
                                    "TotalWeight": "82"
                                },
                                {
                                    "Combination": "2,1,3,6,8",
                                    "TotalValue": "221",
                                    "TotalWeight": "82"
                                },
                                {
                                    "Combination": "1,2,3,6,8",
                                    "TotalValue": "221",
                                    "TotalWeight": "82"
                                },
                                {
                                    "Combination": "1,2,3,6",
                                    "TotalValue": "220",
                                    "TotalWeight": "72"
                                },
                                {
                                    "Combination": "2,1,3,6",
                                    "TotalValue": "220",
                                    "TotalWeight": "72"
                                },
                                {
                                    "Combination": "6,1,2,3",
                                    "TotalValue": "220",
                                    "TotalWeight": "72"
                                },
                                {
                                    "Combination": "3,1,2,6",
                                    "TotalValue": "220",
                                    "TotalWeight": "72"
                                },
                                {
                                    "Combination": "4,1,2,5,8",
                                    "TotalValue": "216",
                                    "TotalWeight": "102"
                                },
                                {
                                    "Combination": "5,1,2,4,8",
                                    "TotalValue": "216",
                                    "TotalWeight": "102"
                                },
                                {
                                    "Combination": "8,1,2,4,5",
                                    "TotalValue": "216",
                                    "TotalWeight": "102"
                                },
                                {
                                    "Combination": "2,1,4,5,8",
                                    "TotalValue": "216",
                                    "TotalWeight": "102"
                                },
                                {
                                    "Combination": "1,2,4,5,8",
                                    "TotalValue": "216",
                                    "TotalWeight": "102"
                                },
                                {
                                    "Combination": "1,2,4,5",
                                    "TotalValue": "215",
                                    "TotalWeight": "92"
                                },
                                {
                                    "Combination": "2,1,4,5",
                                    "TotalValue": "215",
                                    "TotalWeight": "92"
                                },
                                {
                                    "Combination": "5,1,2,4",
                                    "TotalValue": "215",
                                    "TotalWeight": "92"
                                },
                                {
                                    "Combination": "4,1,2,5",
                                    "TotalValue": "215",
                                    "TotalWeight": "92"
                                },
                                {
                                    "Combination": "3,1,2,7",
                                    "TotalValue": "215",
                                    "TotalWeight": "102"
                                },
                                {
                                    "Combination": "7,1,2,3",
                                    "TotalValue": "215",
                                    "TotalWeight": "102"
                                },
                                {
                                    "Combination": "2,1,3,7",
                                    "TotalValue": "215",
                                    "TotalWeight": "102"
                                },
                                {
                                    "Combination": "1,2,3,7",
                                    "TotalValue": "215",
                                    "TotalWeight": "102"
                                },
                                {
                                    "Combination": "1,2,3,8",
                                    "TotalValue": "206",
                                    "TotalWeight": "52"
                                },
                                {
                                    "Combination": "2,1,3,8",
                                    "TotalValue": "206",
                                    "TotalWeight": "52"
                                },
                                {
                                    "Combination": "8,1,2,3",
                                    "TotalValue": "206",
                                    "TotalWeight": "52"
                                },
                                {
                                    "Combination": "3,1,2,8",
                                    "TotalValue": "206",
                                    "TotalWeight": "52"
                                },
                                {
                                    "Combination": "3,2,6,8",
                                    "TotalValue": "206",
                                    "TotalWeight": "80"
                                },
                                {
                                    "Combination": "8,2,3,6",
                                    "TotalValue": "206",
                                    "TotalWeight": "80"
                                },
                                {
                                    "Combination": "6,2,3,8",
                                    "TotalValue": "206",
                                    "TotalWeight": "80"
                                },
                                {
                                    "Combination": "2,3,6,8",
                                    "TotalValue": "206",
                                    "TotalWeight": "80"
                                },
                                {
                                    "Combination": "1,3,4,5,8",
                                    "TotalValue": "206",
                                    "TotalWeight": "102"
                                },
                                {
                                    "Combination": "8,1,3,4,5",
                                    "TotalValue": "206",
                                    "TotalWeight": "102"
                                },
                                {
                                    "Combination": "3,1,4,5,8",
                                    "TotalValue": "206",
                                    "TotalWeight": "102"
                                },
                                {
                                    "Combination": "4,1,3,5,8",
                                    "TotalValue": "206",
                                    "TotalWeight": "102"
                                },
                                {
                                    "Combination": "5,1,3,4,8",
                                    "TotalValue": "206",
                                    "TotalWeight": "102"
                                },
                                {
                                    "Combination": "3,1,2",
                                    "TotalValue": "205",
                                    "TotalWeight": "42"
                                },
                                {
                                    "Combination": "1,2,3",
                                    "TotalValue": "205",
                                    "TotalWeight": "42"
                                },
                                {
                                    "Combination": "2,1,3",
                                    "TotalValue": "205",
                                    "TotalWeight": "42"
                                },
                                {
                                    "Combination": "3,2,6",
                                    "TotalValue": "205",
                                    "TotalWeight": "70"
                                },
                                {
                                    "Combination": "2,3,6",
                                    "TotalValue": "205",
                                    "TotalWeight": "70"
                                },
                                {
                                    "Combination": "6,2,3",
                                    "TotalValue": "205",
                                    "TotalWeight": "70"
                                },
                                {
                                    "Combination": "3,1,4,5",
                                    "TotalValue": "205",
                                    "TotalWeight": "92"
                                },
                                {
                                    "Combination": "5,1,3,4",
                                    "TotalValue": "205",
                                    "TotalWeight": "92"
                                },
                                {
                                    "Combination": "4,1,3,5",
                                    "TotalValue": "205",
                                    "TotalWeight": "92"
                                },
                                {
                                    "Combination": "1,3,4,5",
                                    "TotalValue": "205",
                                    "TotalWeight": "92"
                                },
                                {
                                    "Combination": "2,4,5,8",
                                    "TotalValue": "201",
                                    "TotalWeight": "100"
                                },
                                {
                                    "Combination": "4,2,5,8",
                                    "TotalValue": "201",
                                    "TotalWeight": "100"
                                },
                                {
                                    "Combination": "5,2,4,8",
                                    "TotalValue": "201",
                                    "TotalWeight": "100"
                                },
                                {
                                    "Combination": "8,2,4,5",
                                    "TotalValue": "201",
                                    "TotalWeight": "100"
                                },
                                {
                                    "Combination": "5,2,4",
                                    "TotalValue": "200",
                                    "TotalWeight": "90"
                                },
                                {
                                    "Combination": "4,2,5",
                                    "TotalValue": "200",
                                    "TotalWeight": "90"
                                },
                                {
                                    "Combination": "2,4,5",
                                    "TotalValue": "200",
                                    "TotalWeight": "90"
                                },
                                {
                                    "Combination": "2,3,7",
                                    "TotalValue": "200",
                                    "TotalWeight": "100"
                                },
                                {
                                    "Combination": "3,2,7",
                                    "TotalValue": "200",
                                    "TotalWeight": "100"
                                },
                                {
                                    "Combination": "7,2,3",
                                    "TotalValue": "200",
                                    "TotalWeight": "100"
                                },
                                {
                                    "Combination": "8,2,3",
                                    "TotalValue": "191",
                                    "TotalWeight": "50"
                                },
                                {
                                    "Combination": "3,2,8",
                                    "TotalValue": "191",
                                    "TotalWeight": "50"
                                },
                                {
                                    "Combination": "2,3,8",
                                    "TotalValue": "191",
                                    "TotalWeight": "50"
                                },
                                {
                                    "Combination": "4,1,2,6,8",
                                    "TotalValue": "191",
                                    "TotalWeight": "92"
                                },
                                {
                                    "Combination": "8,1,2,4,6",
                                    "TotalValue": "191",
                                    "TotalWeight": "92"
                                },
                                {
                                    "Combination": "6,1,2,4,8",
                                    "TotalValue": "191",
                                    "TotalWeight": "92"
                                },
                                {
                                    "Combination": "2,1,4,6,8",
                                    "TotalValue": "191",
                                    "TotalWeight": "92"
                                },
                                {
                                    "Combination": "1,2,4,6,8",
                                    "TotalValue": "191",
                                    "TotalWeight": "92"
                                },
                                {
                                    "Combination": "8,3,4,5",
                                    "TotalValue": "191",
                                    "TotalWeight": "100"
                                },
                                {
                                    "Combination": "3,4,5,8",
                                    "TotalValue": "191",
                                    "TotalWeight": "100"
                                },
                                {
                                    "Combination": "4,3,5,8",
                                    "TotalValue": "191",
                                    "TotalWeight": "100"
                                },
                                {
                                    "Combination": "5,3,4,8",
                                    "TotalValue": "191",
                                    "TotalWeight": "100"
                                },
                                {
                                    "Combination": "3,2",
                                    "TotalValue": "190",
                                    "TotalWeight": "40"
                                },
                                {
                                    "Combination": "2,3",
                                    "TotalValue": "190",
                                    "TotalWeight": "40"
                                },
                                {
                                    "Combination": "4,1,2,6",
                                    "TotalValue": "190",
                                    "TotalWeight": "82"
                                },
                                {
                                    "Combination": "6,1,2,4",
                                    "TotalValue": "190",
                                    "TotalWeight": "82"
                                },
                                {
                                    "Combination": "1,2,4,6",
                                    "TotalValue": "190",
                                    "TotalWeight": "82"
                                },
                                {
                                    "Combination": "2,1,4,6",
                                    "TotalValue": "190",
                                    "TotalWeight": "82"
                                },
                                {
                                    "Combination": "5,3,4",
                                    "TotalValue": "190",
                                    "TotalWeight": "90"
                                },
                                {
                                    "Combination": "4,3,5",
                                    "TotalValue": "190",
                                    "TotalWeight": "90"
                                },
                                {
                                    "Combination": "3,4,5",
                                    "TotalValue": "190",
                                    "TotalWeight": "90"
                                },
                                {
                                    "Combination": "3,1,4,6,8",
                                    "TotalValue": "181",
                                    "TotalWeight": "92"
                                },
                                {
                                    "Combination": "4,1,3,6,8",
                                    "TotalValue": "181",
                                    "TotalWeight": "92"
                                },
                                {
                                    "Combination": "6,1,3,4,8",
                                    "TotalValue": "181",
                                    "TotalWeight": "92"
                                },
                                {
                                    "Combination": "8,1,3,4,6",
                                    "TotalValue": "181",
                                    "TotalWeight": "92"
                                },
                                {
                                    "Combination": "1,3,4,6,8",
                                    "TotalValue": "181",
                                    "TotalWeight": "92"
                                },
                                {
                                    "Combination": "1,3,4,6",
                                    "TotalValue": "180",
                                    "TotalWeight": "82"
                                },
                                {
                                    "Combination": "6,1,3,4",
                                    "TotalValue": "180",
                                    "TotalWeight": "82"
                                },
                                {
                                    "Combination": "4,1,3,6",
                                    "TotalValue": "180",
                                    "TotalWeight": "82"
                                },
                                {
                                    "Combination": "3,1,4,6",
                                    "TotalValue": "180",
                                    "TotalWeight": "82"
                                },
                                {
                                    "Combination": "4,1,2,8",
                                    "TotalValue": "176",
                                    "TotalWeight": "62"
                                },
                                {
                                    "Combination": "8,1,2,4",
                                    "TotalValue": "176",
                                    "TotalWeight": "62"
                                },
                                {
                                    "Combination": "2,1,4,8",
                                    "TotalValue": "176",
                                    "TotalWeight": "62"
                                },
                                {
                                    "Combination": "1,2,4,8",
                                    "TotalValue": "176",
                                    "TotalWeight": "62"
                                },
                                {
                                    "Combination": "8,2,4,6",
                                    "TotalValue": "176",
                                    "TotalWeight": "90"
                                },
                                {
                                    "Combination": "6,2,4,8",
                                    "TotalValue": "176",
                                    "TotalWeight": "90"
                                },
                                {
                                    "Combination": "4,2,6,8",
                                    "TotalValue": "176",
                                    "TotalWeight": "90"
                                },
                                {
                                    "Combination": "2,4,6,8",
                                    "TotalValue": "176",
                                    "TotalWeight": "90"
                                },
                                {
                                    "Combination": "4,1,2",
                                    "TotalValue": "175",
                                    "TotalWeight": "52"
                                },
                                {
                                    "Combination": "2,1,4",
                                    "TotalValue": "175",
                                    "TotalWeight": "52"
                                },
                                {
                                    "Combination": "1,2,4",
                                    "TotalValue": "175",
                                    "TotalWeight": "52"
                                },
                                {
                                    "Combination": "4,2,6",
                                    "TotalValue": "175",
                                    "TotalWeight": "80"
                                },
                                {
                                    "Combination": "2,4,6",
                                    "TotalValue": "175",
                                    "TotalWeight": "80"
                                },
                                {
                                    "Combination": "6,2,4",
                                    "TotalValue": "175",
                                    "TotalWeight": "80"
                                },
                                {
                                    "Combination": "6,1,2,5,8",
                                    "TotalValue": "171",
                                    "TotalWeight": "102"
                                },
                                {
                                    "Combination": "8,1,2,5,6",
                                    "TotalValue": "171",
                                    "TotalWeight": "102"
                                },
                                {
                                    "Combination": "5,1,2,6,8",
                                    "TotalValue": "171",
                                    "TotalWeight": "102"
                                },
                                {
                                    "Combination": "2,1,5,6,8",
                                    "TotalValue": "171",
                                    "TotalWeight": "102"
                                },
                                {
                                    "Combination": "1,2,5,6,8",
                                    "TotalValue": "171",
                                    "TotalWeight": "102"
                                },
                                {
                                    "Combination": "1,2,5,6",
                                    "TotalValue": "170",
                                    "TotalWeight": "92"
                                },
                                {
                                    "Combination": "2,1,5,6",
                                    "TotalValue": "170",
                                    "TotalWeight": "92"
                                },
                                {
                                    "Combination": "5,1,2,6",
                                    "TotalValue": "170",
                                    "TotalWeight": "92"
                                },
                                {
                                    "Combination": "6,1,2,5",
                                    "TotalValue": "170",
                                    "TotalWeight": "92"
                                },
                                {
                                    "Combination": "8,1,3,4",
                                    "TotalValue": "166",
                                    "TotalWeight": "62"
                                },
                                {
                                    "Combination": "4,1,3,8",
                                    "TotalValue": "166",
                                    "TotalWeight": "62"
                                },
                                {
                                    "Combination": "3,1,4,8",
                                    "TotalValue": "166",
                                    "TotalWeight": "62"
                                },
                                {
                                    "Combination": "1,3,4,8",
                                    "TotalValue": "166",
                                    "TotalWeight": "62"
                                },
                                {
                                    "Combination": "3,4,6,8",
                                    "TotalValue": "166",
                                    "TotalWeight": "90"
                                },
                                {
                                    "Combination": "4,3,6,8",
                                    "TotalValue": "166",
                                    "TotalWeight": "90"
                                },
                                {
                                    "Combination": "8,3,4,6",
                                    "TotalValue": "166",
                                    "TotalWeight": "90"
                                },
                                {
                                    "Combination": "6,3,4,8",
                                    "TotalValue": "166",
                                    "TotalWeight": "90"
                                },
                                {
                                    "Combination": "4,1,3",
                                    "TotalValue": "165",
                                    "TotalWeight": "52"
                                },
                                {
                                    "Combination": "3,1,4",
                                    "TotalValue": "165",
                                    "TotalWeight": "52"
                                },
                                {
                                    "Combination": "1,3,4",
                                    "TotalValue": "165",
                                    "TotalWeight": "52"
                                },
                                {
                                    "Combination": "3,4,6",
                                    "TotalValue": "165",
                                    "TotalWeight": "80"
                                },
                                {
                                    "Combination": "4,3,6",
                                    "TotalValue": "165",
                                    "TotalWeight": "80"
                                },
                                {
                                    "Combination": "6,3,4",
                                    "TotalValue": "165",
                                    "TotalWeight": "80"
                                },
                                {
                                    "Combination": "8,2,4",
                                    "TotalValue": "161",
                                    "TotalWeight": "60"
                                },
                                {
                                    "Combination": "4,2,8",
                                    "TotalValue": "161",
                                    "TotalWeight": "60"
                                },
                                {
                                    "Combination": "2,4,8",
                                    "TotalValue": "161",
                                    "TotalWeight": "60"
                                },
                                {
                                    "Combination": "3,1,5,6,8",
                                    "TotalValue": "161",
                                    "TotalWeight": "102"
                                },
                                {
                                    "Combination": "5,1,3,6,8",
                                    "TotalValue": "161",
                                    "TotalWeight": "102"
                                },
                                {
                                    "Combination": "8,1,3,5,6",
                                    "TotalValue": "161",
                                    "TotalWeight": "102"
                                },
                                {
                                    "Combination": "6,1,3,5,8",
                                    "TotalValue": "161",
                                    "TotalWeight": "102"
                                },
                                {
                                    "Combination": "1,3,5,6,8",
                                    "TotalValue": "161",
                                    "TotalWeight": "102"
                                },
                                {
                                    "Combination": "4,2",
                                    "TotalValue": "160",
                                    "TotalWeight": "50"
                                },
                                {
                                    "Combination": "2,4",
                                    "TotalValue": "160",
                                    "TotalWeight": "50"
                                },
                                {
                                    "Combination": "3,1,5,6",
                                    "TotalValue": "160",
                                    "TotalWeight": "92"
                                },
                                {
                                    "Combination": "5,1,3,6",
                                    "TotalValue": "160",
                                    "TotalWeight": "92"
                                },
                                {
                                    "Combination": "6,1,3,5",
                                    "TotalValue": "160",
                                    "TotalWeight": "92"
                                },
                                {
                                    "Combination": "1,3,5,6",
                                    "TotalValue": "160",
                                    "TotalWeight": "92"
                                },
                                {
                                    "Combination": "2,1,5,8",
                                    "TotalValue": "156",
                                    "TotalWeight": "72"
                                },
                                {
                                    "Combination": "1,2,5,8",
                                    "TotalValue": "156",
                                    "TotalWeight": "72"
                                },
                                {
                                    "Combination": "8,1,2,5",
                                    "TotalValue": "156",
                                    "TotalWeight": "72"
                                },
                                {
                                    "Combination": "5,1,2,8",
                                    "TotalValue": "156",
                                    "TotalWeight": "72"
                                },
                                {
                                    "Combination": "5,2,6,8",
                                    "TotalValue": "156",
                                    "TotalWeight": "100"
                                },
                                {
                                    "Combination": "2,5,6,8",
                                    "TotalValue": "156",
                                    "TotalWeight": "100"
                                },
                                {
                                    "Combination": "8,2,5,6",
                                    "TotalValue": "156",
                                    "TotalWeight": "100"
                                },
                                {
                                    "Combination": "6,2,5,8",
                                    "TotalValue": "156",
                                    "TotalWeight": "100"
                                },
                                {
                                    "Combination": "5,1,2",
                                    "TotalValue": "155",
                                    "TotalWeight": "62"
                                },
                                {
                                    "Combination": "2,1,5",
                                    "TotalValue": "155",
                                    "TotalWeight": "62"
                                },
                                {
                                    "Combination": "1,2,5",
                                    "TotalValue": "155",
                                    "TotalWeight": "62"
                                },
                                {
                                    "Combination": "5,2,6",
                                    "TotalValue": "155",
                                    "TotalWeight": "90"
                                },
                                {
                                    "Combination": "2,5,6",
                                    "TotalValue": "155",
                                    "TotalWeight": "90"
                                },
                                {
                                    "Combination": "6,2,5",
                                    "TotalValue": "155",
                                    "TotalWeight": "90"
                                },
                                {
                                    "Combination": "8,3,4",
                                    "TotalValue": "151",
                                    "TotalWeight": "60"
                                },
                                {
                                    "Combination": "3,4,8",
                                    "TotalValue": "151",
                                    "TotalWeight": "60"
                                },
                                {
                                    "Combination": "4,3,8",
                                    "TotalValue": "151",
                                    "TotalWeight": "60"
                                },
                                {
                                    "Combination": "4,3",
                                    "TotalValue": "150",
                                    "TotalWeight": "50"
                                },
                                {
                                    "Combination": "3,4",
                                    "TotalValue": "150",
                                    "TotalWeight": "50"
                                },
                                {
                                    "Combination": "3,1,5,8",
                                    "TotalValue": "146",
                                    "TotalWeight": "72"
                                },
                                {
                                    "Combination": "5,1,3,8",
                                    "TotalValue": "146",
                                    "TotalWeight": "72"
                                },
                                {
                                    "Combination": "8,1,3,5",
                                    "TotalValue": "146",
                                    "TotalWeight": "72"
                                },
                                {
                                    "Combination": "1,3,5,8",
                                    "TotalValue": "146",
                                    "TotalWeight": "72"
                                },
                                {
                                    "Combination": "8,3,5,6",
                                    "TotalValue": "146",
                                    "TotalWeight": "100"
                                },
                                {
                                    "Combination": "5,3,6,8",
                                    "TotalValue": "146",
                                    "TotalWeight": "100"
                                },
                                {
                                    "Combination": "6,3,5,8",
                                    "TotalValue": "146",
                                    "TotalWeight": "100"
                                },
                                {
                                    "Combination": "3,5,6,8",
                                    "TotalValue": "146",
                                    "TotalWeight": "100"
                                },
                                {
                                    "Combination": "3,1,5",
                                    "TotalValue": "145",
                                    "TotalWeight": "62"
                                },
                                {
                                    "Combination": "5,1,3",
                                    "TotalValue": "145",
                                    "TotalWeight": "62"
                                },
                                {
                                    "Combination": "1,3,5",
                                    "TotalValue": "145",
                                    "TotalWeight": "62"
                                },
                                {
                                    "Combination": "3,5,6",
                                    "TotalValue": "145",
                                    "TotalWeight": "90"
                                },
                                {
                                    "Combination": "6,3,5",
                                    "TotalValue": "145",
                                    "TotalWeight": "90"
                                },
                                {
                                    "Combination": "5,3,6",
                                    "TotalValue": "145",
                                    "TotalWeight": "90"
                                },
                                {
                                    "Combination": "8,2,5",
                                    "TotalValue": "141",
                                    "TotalWeight": "70"
                                },
                                {
                                    "Combination": "2,5,8",
                                    "TotalValue": "141",
                                    "TotalWeight": "70"
                                },
                                {
                                    "Combination": "5,2,8",
                                    "TotalValue": "141",
                                    "TotalWeight": "70"
                                },
                                {
                                    "Combination": "2,5",
                                    "TotalValue": "140",
                                    "TotalWeight": "60"
                                },
                                {
                                    "Combination": "5,2",
                                    "TotalValue": "140",
                                    "TotalWeight": "60"
                                },
                                {
                                    "Combination": "6,1,2,8",
                                    "TotalValue": "131",
                                    "TotalWeight": "62"
                                },
                                {
                                    "Combination": "8,1,2,6",
                                    "TotalValue": "131",
                                    "TotalWeight": "62"
                                },
                                {
                                    "Combination": "2,1,6,8",
                                    "TotalValue": "131",
                                    "TotalWeight": "62"
                                },
                                {
                                    "Combination": "1,2,6,8",
                                    "TotalValue": "131",
                                    "TotalWeight": "62"
                                },
                                {
                                    "Combination": "8,3,5",
                                    "TotalValue": "131",
                                    "TotalWeight": "70"
                                },
                                {
                                    "Combination": "5,3,8",
                                    "TotalValue": "131",
                                    "TotalWeight": "70"
                                },
                                {
                                    "Combination": "3,5,8",
                                    "TotalValue": "131",
                                    "TotalWeight": "70"
                                },
                                {
                                    "Combination": "6,1,2",
                                    "TotalValue": "130",
                                    "TotalWeight": "52"
                                },
                                {
                                    "Combination": "2,1,6",
                                    "TotalValue": "130",
                                    "TotalWeight": "52"
                                },
                                {
                                    "Combination": "1,2,6",
                                    "TotalValue": "130",
                                    "TotalWeight": "52"
                                },
                                {
                                    "Combination": "5,3",
                                    "TotalValue": "130",
                                    "TotalWeight": "60"
                                },
                                {
                                    "Combination": "3,5",
                                    "TotalValue": "130",
                                    "TotalWeight": "60"
                                },
                                {
                                    "Combination": "5,1,4,6",
                                    "TotalValue": "130",
                                    "TotalWeight": "102"
                                },
                                {
                                    "Combination": "4,1,5,6",
                                    "TotalValue": "130",
                                    "TotalWeight": "102"
                                },
                                {
                                    "Combination": "6,1,4,5",
                                    "TotalValue": "130",
                                    "TotalWeight": "102"
                                },
                                {
                                    "Combination": "1,4,5,6",
                                    "TotalValue": "130",
                                    "TotalWeight": "102"
                                },
                                {
                                    "Combination": "2,1,7,8",
                                    "TotalValue": "126",
                                    "TotalWeight": "92"
                                },
                                {
                                    "Combination": "1,2,7,8",
                                    "TotalValue": "126",
                                    "TotalWeight": "92"
                                },
                                {
                                    "Combination": "7,1,2,8",
                                    "TotalValue": "126",
                                    "TotalWeight": "92"
                                },
                                {
                                    "Combination": "8,1,2,7",
                                    "TotalValue": "126",
                                    "TotalWeight": "92"
                                },
                                {
                                    "Combination": "7,1,2",
                                    "TotalValue": "125",
                                    "TotalWeight": "82"
                                },
                                {
                                    "Combination": "2,1,7",
                                    "TotalValue": "125",
                                    "TotalWeight": "82"
                                },
                                {
                                    "Combination": "1,2,7",
                                    "TotalValue": "125",
                                    "TotalWeight": "82"
                                },
                                {
                                    "Combination": "1,3,6,8",
                                    "TotalValue": "121",
                                    "TotalWeight": "62"
                                },
                                {
                                    "Combination": "6,1,3,8",
                                    "TotalValue": "121",
                                    "TotalWeight": "62"
                                },
                                {
                                    "Combination": "8,1,3,6",
                                    "TotalValue": "121",
                                    "TotalWeight": "62"
                                },
                                {
                                    "Combination": "3,1,6,8",
                                    "TotalValue": "121",
                                    "TotalWeight": "62"
                                },
                                {
                                    "Combination": "3,1,6",
                                    "TotalValue": "120",
                                    "TotalWeight": "52"
                                },
                                {
                                    "Combination": "6,1,3",
                                    "TotalValue": "120",
                                    "TotalWeight": "52"
                                },
                                {
                                    "Combination": "1,3,6",
                                    "TotalValue": "120",
                                    "TotalWeight": "52"
                                },
                                {
                                    "Combination": "1,2,8",
                                    "TotalValue": "116",
                                    "TotalWeight": "32"
                                },
                                {
                                    "Combination": "2,1,8",
                                    "TotalValue": "116",
                                    "TotalWeight": "32"
                                },
                                {
                                    "Combination": "8,1,2",
                                    "TotalValue": "116",
                                    "TotalWeight": "32"
                                },
                                {
                                    "Combination": "8,2,6",
                                    "TotalValue": "116",
                                    "TotalWeight": "60"
                                },
                                {
                                    "Combination": "6,2,8",
                                    "TotalValue": "116",
                                    "TotalWeight": "60"
                                },
                                {
                                    "Combination": "2,6,8",
                                    "TotalValue": "116",
                                    "TotalWeight": "60"
                                },
                                {
                                    "Combination": "4,1,5,8",
                                    "TotalValue": "116",
                                    "TotalWeight": "82"
                                },
                                {
                                    "Combination": "5,1,4,8",
                                    "TotalValue": "116",
                                    "TotalWeight": "82"
                                },
                                {
                                    "Combination": "8,1,4,5",
                                    "TotalValue": "116",
                                    "TotalWeight": "82"
                                },
                                {
                                    "Combination": "1,4,5,8",
                                    "TotalValue": "116",
                                    "TotalWeight": "82"
                                },
                                {
                                    "Combination": "1,3,7,8",
                                    "TotalValue": "116",
                                    "TotalWeight": "92"
                                },
                                {
                                    "Combination": "8,1,3,7",
                                    "TotalValue": "116",
                                    "TotalWeight": "92"
                                },
                                {
                                    "Combination": "7,1,3,8",
                                    "TotalValue": "116",
                                    "TotalWeight": "92"
                                },
                                {
                                    "Combination": "3,1,7,8",
                                    "TotalValue": "116",
                                    "TotalWeight": "92"
                                },
                                {
                                    "Combination": "2,1",
                                    "TotalValue": "115",
                                    "TotalWeight": "22"
                                },
                                {
                                    "Combination": "1,2",
                                    "TotalValue": "115",
                                    "TotalWeight": "22"
                                },
                                {
                                    "Combination": "2,6",
                                    "TotalValue": "115",
                                    "TotalWeight": "50"
                                },
                                {
                                    "Combination": "6,2",
                                    "TotalValue": "115",
                                    "TotalWeight": "50"
                                },
                                {
                                    "Combination": "5,1,4",
                                    "TotalValue": "115",
                                    "TotalWeight": "72"
                                },
                                {
                                    "Combination": "4,1,5",
                                    "TotalValue": "115",
                                    "TotalWeight": "72"
                                },
                                {
                                    "Combination": "1,4,5",
                                    "TotalValue": "115",
                                    "TotalWeight": "72"
                                },
                                {
                                    "Combination": "1,3,7",
                                    "TotalValue": "115",
                                    "TotalWeight": "82"
                                },
                                {
                                    "Combination": "3,1,7",
                                    "TotalValue": "115",
                                    "TotalWeight": "82"
                                },
                                {
                                    "Combination": "7,1,3",
                                    "TotalValue": "115",
                                    "TotalWeight": "82"
                                },
                                {
                                    "Combination": "6,4,5",
                                    "TotalValue": "115",
                                    "TotalWeight": "100"
                                },
                                {
                                    "Combination": "5,4,6",
                                    "TotalValue": "115",
                                    "TotalWeight": "100"
                                },
                                {
                                    "Combination": "4,5,6",
                                    "TotalValue": "115",
                                    "TotalWeight": "100"
                                },
                                {
                                    "Combination": "2,7,8",
                                    "TotalValue": "111",
                                    "TotalWeight": "90"
                                },
                                {
                                    "Combination": "7,2,8",
                                    "TotalValue": "111",
                                    "TotalWeight": "90"
                                },
                                {
                                    "Combination": "8,2,7",
                                    "TotalValue": "111",
                                    "TotalWeight": "90"
                                },
                                {
                                    "Combination": "7,2",
                                    "TotalValue": "110",
                                    "TotalWeight": "80"
                                },
                                {
                                    "Combination": "2,7",
                                    "TotalValue": "110",
                                    "TotalWeight": "80"
                                },
                                {
                                    "Combination": "3,1,8",
                                    "TotalValue": "106",
                                    "TotalWeight": "32"
                                },
                                {
                                    "Combination": "8,1,3",
                                    "TotalValue": "106",
                                    "TotalWeight": "32"
                                },
                                {
                                    "Combination": "1,3,8",
                                    "TotalValue": "106",
                                    "TotalWeight": "32"
                                },
                                {
                                    "Combination": "8,3,6",
                                    "TotalValue": "106",
                                    "TotalWeight": "60"
                                },
                                {
                                    "Combination": "6,3,8",
                                    "TotalValue": "106",
                                    "TotalWeight": "60"
                                },
                                {
                                    "Combination": "3,6,8",
                                    "TotalValue": "106",
                                    "TotalWeight": "60"
                                },
                                {
                                    "Combination": "3,1",
                                    "TotalValue": "105",
                                    "TotalWeight": "22"
                                },
                                {
                                    "Combination": "1,3",
                                    "TotalValue": "105",
                                    "TotalWeight": "22"
                                },
                                {
                                    "Combination": "3,6",
                                    "TotalValue": "105",
                                    "TotalWeight": "50"
                                },
                                {
                                    "Combination": "6,3",
                                    "TotalValue": "105",
                                    "TotalWeight": "50"
                                },
                                {
                                    "Combination": "8,2",
                                    "TotalValue": "101",
                                    "TotalWeight": "30"
                                },
                                {
                                    "Combination": "2,8",
                                    "TotalValue": "101",
                                    "TotalWeight": "30"
                                },
                                {
                                    "Combination": "4,5,8",
                                    "TotalValue": "101",
                                    "TotalWeight": "80"
                                },
                                {
                                    "Combination": "8,4,5",
                                    "TotalValue": "101",
                                    "TotalWeight": "80"
                                },
                                {
                                    "Combination": "5,4,8",
                                    "TotalValue": "101",
                                    "TotalWeight": "80"
                                },
                                {
                                    "Combination": "7,3,8",
                                    "TotalValue": "101",
                                    "TotalWeight": "90"
                                },
                                {
                                    "Combination": "8,3,7",
                                    "TotalValue": "101",
                                    "TotalWeight": "90"
                                },
                                {
                                    "Combination": "3,7,8",
                                    "TotalValue": "101",
                                    "TotalWeight": "90"
                                },
                                {
                                    "Combination": "2",
                                    "TotalValue": "100",
                                    "TotalWeight": "20"
                                },
                                {
                                    "Combination": "5,4",
                                    "TotalValue": "100",
                                    "TotalWeight": "70"
                                },
                                {
                                    "Combination": "4,5",
                                    "TotalValue": "100",
                                    "TotalWeight": "70"
                                },
                                {
                                    "Combination": "3,7",
                                    "TotalValue": "100",
                                    "TotalWeight": "80"
                                },
                                {
                                    "Combination": "7,3",
                                    "TotalValue": "100",
                                    "TotalWeight": "80"
                                },
                                {
                                    "Combination": "8,3",
                                    "TotalValue": "91",
                                    "TotalWeight": "30"
                                },
                                {
                                    "Combination": "3,8",
                                    "TotalValue": "91",
                                    "TotalWeight": "30"
                                },
                                {
                                    "Combination": "4,1,6,8",
                                    "TotalValue": "91",
                                    "TotalWeight": "72"
                                },
                                {
                                    "Combination": "8,1,4,6",
                                    "TotalValue": "91",
                                    "TotalWeight": "72"
                                },
                                {
                                    "Combination": "6,1,4,8",
                                    "TotalValue": "91",
                                    "TotalWeight": "72"
                                },
                                {
                                    "Combination": "1,4,6,8",
                                    "TotalValue": "91",
                                    "TotalWeight": "72"
                                },
                                {
                                    "Combination": "3",
                                    "TotalValue": "90",
                                    "TotalWeight": "20"
                                },
                                {
                                    "Combination": "6,1,4",
                                    "TotalValue": "90",
                                    "TotalWeight": "62"
                                },
                                {
                                    "Combination": "4,1,6",
                                    "TotalValue": "90",
                                    "TotalWeight": "62"
                                },
                                {
                                    "Combination": "1,4,6",
                                    "TotalValue": "90",
                                    "TotalWeight": "62"
                                },
                                {
                                    "Combination": "1,4,7,8",
                                    "TotalValue": "86",
                                    "TotalWeight": "102"
                                },
                                {
                                    "Combination": "4,1,7,8",
                                    "TotalValue": "86",
                                    "TotalWeight": "102"
                                },
                                {
                                    "Combination": "7,1,4,8",
                                    "TotalValue": "86",
                                    "TotalWeight": "102"
                                },
                                {
                                    "Combination": "8,1,4,7",
                                    "TotalValue": "86",
                                    "TotalWeight": "102"
                                },
                                {
                                    "Combination": "7,1,4",
                                    "TotalValue": "85",
                                    "TotalWeight": "92"
                                },
                                {
                                    "Combination": "4,1,7",
                                    "TotalValue": "85",
                                    "TotalWeight": "92"
                                },
                                {
                                    "Combination": "1,4,7",
                                    "TotalValue": "85",
                                    "TotalWeight": "92"
                                },
                                {
                                    "Combination": "1,4,8",
                                    "TotalValue": "76",
                                    "TotalWeight": "42"
                                },
                                {
                                    "Combination": "4,1,8",
                                    "TotalValue": "76",
                                    "TotalWeight": "42"
                                },
                                {
                                    "Combination": "8,1,4",
                                    "TotalValue": "76",
                                    "TotalWeight": "42"
                                },
                                {
                                    "Combination": "8,4,6",
                                    "TotalValue": "76",
                                    "TotalWeight": "70"
                                },
                                {
                                    "Combination": "6,4,8",
                                    "TotalValue": "76",
                                    "TotalWeight": "70"
                                },
                                {
                                    "Combination": "4,6,8",
                                    "TotalValue": "76",
                                    "TotalWeight": "70"
                                },
                                {
                                    "Combination": "4,1",
                                    "TotalValue": "75",
                                    "TotalWeight": "32"
                                },
                                {
                                    "Combination": "1,4",
                                    "TotalValue": "75",
                                    "TotalWeight": "32"
                                },
                                {
                                    "Combination": "4,6",
                                    "TotalValue": "75",
                                    "TotalWeight": "60"
                                },
                                {
                                    "Combination": "6,4",
                                    "TotalValue": "75",
                                    "TotalWeight": "60"
                                },
                                {
                                    "Combination": "6,1,5,8",
                                    "TotalValue": "71",
                                    "TotalWeight": "82"
                                },
                                {
                                    "Combination": "8,1,5,6",
                                    "TotalValue": "71",
                                    "TotalWeight": "82"
                                },
                                {
                                    "Combination": "5,1,6,8",
                                    "TotalValue": "71",
                                    "TotalWeight": "82"
                                },
                                {
                                    "Combination": "1,5,6,8",
                                    "TotalValue": "71",
                                    "TotalWeight": "82"
                                },
                                {
                                    "Combination": "4,7,8",
                                    "TotalValue": "71",
                                    "TotalWeight": "100"
                                },
                                {
                                    "Combination": "7,4,8",
                                    "TotalValue": "71",
                                    "TotalWeight": "100"
                                },
                                {
                                    "Combination": "8,4,7",
                                    "TotalValue": "71",
                                    "TotalWeight": "100"
                                },
                                {
                                    "Combination": "6,1,5",
                                    "TotalValue": "70",
                                    "TotalWeight": "72"
                                },
                                {
                                    "Combination": "5,1,6",
                                    "TotalValue": "70",
                                    "TotalWeight": "72"
                                },
                                {
                                    "Combination": "1,5,6",
                                    "TotalValue": "70",
                                    "TotalWeight": "72"
                                },
                                {
                                    "Combination": "4,7",
                                    "TotalValue": "70",
                                    "TotalWeight": "90"
                                },
                                {
                                    "Combination": "7,4",
                                    "TotalValue": "70",
                                    "TotalWeight": "90"
                                },
                                {
                                    "Combination": "7,1,5",
                                    "TotalValue": "65",
                                    "TotalWeight": "102"
                                },
                                {
                                    "Combination": "5,1,7",
                                    "TotalValue": "65",
                                    "TotalWeight": "102"
                                },
                                {
                                    "Combination": "1,5,7",
                                    "TotalValue": "65",
                                    "TotalWeight": "102"
                                },
                                {
                                    "Combination": "4,8",
                                    "TotalValue": "61",
                                    "TotalWeight": "40"
                                },
                                {
                                    "Combination": "8,4",
                                    "TotalValue": "61",
                                    "TotalWeight": "40"
                                },
                                {
                                    "Combination": "4",
                                    "TotalValue": "60",
                                    "TotalWeight": "30"
                                },
                                {
                                    "Combination": "8,1,5",
                                    "TotalValue": "56",
                                    "TotalWeight": "52"
                                },
                                {
                                    "Combination": "5,1,8",
                                    "TotalValue": "56",
                                    "TotalWeight": "52"
                                },
                                {
                                    "Combination": "1,5,8",
                                    "TotalValue": "56",
                                    "TotalWeight": "52"
                                },
                                {
                                    "Combination": "8,5,6",
                                    "TotalValue": "56",
                                    "TotalWeight": "80"
                                },
                                {
                                    "Combination": "6,5,8",
                                    "TotalValue": "56",
                                    "TotalWeight": "80"
                                },
                                {
                                    "Combination": "5,6,8",
                                    "TotalValue": "56",
                                    "TotalWeight": "80"
                                },
                                {
                                    "Combination": "5,1",
                                    "TotalValue": "55",
                                    "TotalWeight": "42"
                                },
                                {
                                    "Combination": "1,5",
                                    "TotalValue": "55",
                                    "TotalWeight": "42"
                                },
                                {
                                    "Combination": "5,6",
                                    "TotalValue": "55",
                                    "TotalWeight": "70"
                                },
                                {
                                    "Combination": "6,5",
                                    "TotalValue": "55",
                                    "TotalWeight": "70"
                                },
                                {
                                    "Combination": "5,7",
                                    "TotalValue": "50",
                                    "TotalWeight": "100"
                                },
                                {
                                    "Combination": "7,5",
                                    "TotalValue": "50",
                                    "TotalWeight": "100"
                                },
                                {
                                    "Combination": "8,5",
                                    "TotalValue": "41",
                                    "TotalWeight": "50"
                                },
                                {
                                    "Combination": "5,8",
                                    "TotalValue": "41",
                                    "TotalWeight": "50"
                                },
                                {
                                    "Combination": "6,1,7,8",
                                    "TotalValue": "41",
                                    "TotalWeight": "102"
                                },
                                {
                                    "Combination": "7,1,6,8",
                                    "TotalValue": "41",
                                    "TotalWeight": "102"
                                },
                                {
                                    "Combination": "8,1,6,7",
                                    "TotalValue": "41",
                                    "TotalWeight": "102"
                                },
                                {
                                    "Combination": "1,6,7,8",
                                    "TotalValue": "41",
                                    "TotalWeight": "102"
                                },
                                {
                                    "Combination": "5",
                                    "TotalValue": "40",
                                    "TotalWeight": "40"
                                },
                                {
                                    "Combination": "7,1,6",
                                    "TotalValue": "40",
                                    "TotalWeight": "92"
                                },
                                {
                                    "Combination": "6,1,7",
                                    "TotalValue": "40",
                                    "TotalWeight": "92"
                                },
                                {
                                    "Combination": "1,6,7",
                                    "TotalValue": "40",
                                    "TotalWeight": "92"
                                },
                                {
                                    "Combination": "1,6,8",
                                    "TotalValue": "31",
                                    "TotalWeight": "42"
                                },
                                {
                                    "Combination": "6,1,8",
                                    "TotalValue": "31",
                                    "TotalWeight": "42"
                                },
                                {
                                    "Combination": "8,1,6",
                                    "TotalValue": "31",
                                    "TotalWeight": "42"
                                },
                                {
                                    "Combination": "6,1",
                                    "TotalValue": "30",
                                    "TotalWeight": "32"
                                },
                                {
                                    "Combination": "1,6",
                                    "TotalValue": "30",
                                    "TotalWeight": "32"
                                },
                                {
                                    "Combination": "1,7,8",
                                    "TotalValue": "26",
                                    "TotalWeight": "72"
                                },
                                {
                                    "Combination": "7,1,8",
                                    "TotalValue": "26",
                                    "TotalWeight": "72"
                                },
                                {
                                    "Combination": "8,1,7",
                                    "TotalValue": "26",
                                    "TotalWeight": "72"
                                },
                                {
                                    "Combination": "8,6,7",
                                    "TotalValue": "26",
                                    "TotalWeight": "100"
                                },
                                {
                                    "Combination": "7,6,8",
                                    "TotalValue": "26",
                                    "TotalWeight": "100"
                                },
                                {
                                    "Combination": "6,7,8",
                                    "TotalValue": "26",
                                    "TotalWeight": "100"
                                },
                                {
                                    "Combination": "7,1",
                                    "TotalValue": "25",
                                    "TotalWeight": "62"
                                },
                                {
                                    "Combination": "1,7",
                                    "TotalValue": "25",
                                    "TotalWeight": "62"
                                },
                                {
                                    "Combination": "7,6",
                                    "TotalValue": "25",
                                    "TotalWeight": "90"
                                },
                                {
                                    "Combination": "6,7",
                                    "TotalValue": "25",
                                    "TotalWeight": "90"
                                },
                                {
                                    "Combination": "8,1",
                                    "TotalValue": "16",
                                    "TotalWeight": "12"
                                },
                                {
                                    "Combination": "1,8",
                                    "TotalValue": "16",
                                    "TotalWeight": "12"
                                },
                                {
                                    "Combination": "8,6",
                                    "TotalValue": "16",
                                    "TotalWeight": "40"
                                },
                                {
                                    "Combination": "6,8",
                                    "TotalValue": "16",
                                    "TotalWeight": "40"
                                },
                                {
                                    "Combination": "1",
                                    "TotalValue": "15",
                                    "TotalWeight": "2"
                                },
                                {
                                    "Combination": "6",
                                    "TotalValue": "15",
                                    "TotalWeight": "30"
                                },
                                {
                                    "Combination": "8,7",
                                    "TotalValue": "11",
                                    "TotalWeight": "70"
                                },
                                {
                                    "Combination": "7,8",
                                    "TotalValue": "11",
                                    "TotalWeight": "70"
                                },
                                {
                                    "Combination": "7",
                                    "TotalValue": "10",
                                    "TotalWeight": "60"
                                },
                                {
                                    "Combination": "8",
                                    "TotalValue": "1",
                                    "TotalWeight": "10"
                                }
                            ]
                        },
                        "text/html": [
                            "<table>",
                            "<tr><th>Combination</th><th>TotalValue</th><th>TotalWeight</th></tr>",
                            "<tr><td>6,1,2,3,4</td><td>280</td><td>102</td></tr>",
                            "<tr><td>4,1,2,3,6</td><td>280</td><td>102</td></tr>",
                            "<tr><td>3,1,2,4,6</td><td>280</td><td>102</td></tr>",
                            "<tr><td>2,1,3,4,6</td><td>280</td><td>102</td></tr>",
                            "<tr><td>1,2,3,4,6</td><td>280</td><td>102</td></tr>",
                            "<tr><td>1,2,3,4,8</td><td>266</td><td>82</td></tr>",
                            "<tr><td>2,1,3,4,8</td><td>266</td><td>82</td></tr>",
                            "<tr><td>3,1,2,4,8</td><td>266</td><td>82</td></tr>",
                            "<tr><td>4,1,2,3,8</td><td>266</td><td>82</td></tr>",
                            "<tr><td>8,1,2,3,4</td><td>266</td><td>82</td></tr>",
                            "<tr><td>3,1,2,4</td><td>265</td><td>72</td></tr>",
                            "<tr><td>4,1,2,3</td><td>265</td><td>72</td></tr>",
                            "<tr><td>2,1,3,4</td><td>265</td><td>72</td></tr>",
                            "<tr><td>1,2,3,4</td><td>265</td><td>72</td></tr>",
                            "<tr><td>2,3,4,6</td><td>265</td><td>100</td></tr>",
                            "<tr><td>4,2,3,6</td><td>265</td><td>100</td></tr>",
                            "<tr><td>3,2,4,6</td><td>265</td><td>100</td></tr>",
                            "<tr><td>6,2,3,4</td><td>265</td><td>100</td></tr>",
                            "<tr><td>8,2,3,4</td><td>251</td><td>80</td></tr>",
                            "<tr><td>3,2,4,8</td><td>251</td><td>80</td></tr>",
                            "<tr><td>4,2,3,8</td><td>251</td><td>80</td></tr>",
                            "<tr><td>2,3,4,8</td><td>251</td><td>80</td></tr>",
                            "<tr><td>4,2,3</td><td>250</td><td>70</td></tr>",
                            "<tr><td>3,2,4</td><td>250</td><td>70</td></tr>",
                            "<tr><td>2,3,4</td><td>250</td><td>70</td></tr>",
                            "<tr><td>3,1,2,5,8</td><td>246</td><td>92</td></tr>",
                            "<tr><td>5,1,2,3,8</td><td>246</td><td>92</td></tr>",
                            "<tr><td>8,1,2,3,5</td><td>246</td><td>92</td></tr>",
                            "<tr><td>2,1,3,5,8</td><td>246</td><td>92</td></tr>",
                            "<tr><td>1,2,3,5,8</td><td>246</td><td>92</td></tr>",
                            "<tr><td>1,2,3,5</td><td>245</td><td>82</td></tr>",
                            "<tr><td>2,1,3,5</td><td>245</td><td>82</td></tr>",
                            "<tr><td>5,1,2,3</td><td>245</td><td>82</td></tr>",
                            "<tr><td>3,1,2,5</td><td>245</td><td>82</td></tr>",
                            "<tr><td>3,2,5,8</td><td>231</td><td>90</td></tr>",
                            "<tr><td>5,2,3,8</td><td>231</td><td>90</td></tr>",
                            "<tr><td>8,2,3,5</td><td>231</td><td>90</td></tr>",
                            "<tr><td>2,3,5,8</td><td>231</td><td>90</td></tr>",
                            "<tr><td>5,2,3</td><td>230</td><td>80</td></tr>",
                            "<tr><td>3,2,5</td><td>230</td><td>80</td></tr>",
                            "<tr><td>2,3,5</td><td>230</td><td>80</td></tr>",
                            "<tr><td>3,1,2,6,8</td><td>221</td><td>82</td></tr>",
                            "<tr><td>8,1,2,3,6</td><td>221</td><td>82</td></tr>",
                            "<tr><td>6,1,2,3,8</td><td>221</td><td>82</td></tr>",
                            "<tr><td>2,1,3,6,8</td><td>221</td><td>82</td></tr>",
                            "<tr><td>1,2,3,6,8</td><td>221</td><td>82</td></tr>",
                            "<tr><td>1,2,3,6</td><td>220</td><td>72</td></tr>",
                            "<tr><td>2,1,3,6</td><td>220</td><td>72</td></tr>",
                            "<tr><td>6,1,2,3</td><td>220</td><td>72</td></tr>",
                            "<tr><td>3,1,2,6</td><td>220</td><td>72</td></tr>",
                            "<tr><td>4,1,2,5,8</td><td>216</td><td>102</td></tr>",
                            "<tr><td>5,1,2,4,8</td><td>216</td><td>102</td></tr>",
                            "<tr><td>8,1,2,4,5</td><td>216</td><td>102</td></tr>",
                            "<tr><td>2,1,4,5,8</td><td>216</td><td>102</td></tr>",
                            "<tr><td>1,2,4,5,8</td><td>216</td><td>102</td></tr>",
                            "<tr><td>1,2,4,5</td><td>215</td><td>92</td></tr>",
                            "<tr><td>2,1,4,5</td><td>215</td><td>92</td></tr>",
                            "<tr><td>5,1,2,4</td><td>215</td><td>92</td></tr>",
                            "<tr><td>4,1,2,5</td><td>215</td><td>92</td></tr>",
                            "<tr><td>3,1,2,7</td><td>215</td><td>102</td></tr>",
                            "<tr><td>7,1,2,3</td><td>215</td><td>102</td></tr>",
                            "<tr><td>2,1,3,7</td><td>215</td><td>102</td></tr>",
                            "<tr><td>1,2,3,7</td><td>215</td><td>102</td></tr>",
                            "<tr><td>1,2,3,8</td><td>206</td><td>52</td></tr>",
                            "<tr><td>2,1,3,8</td><td>206</td><td>52</td></tr>",
                            "<tr><td>8,1,2,3</td><td>206</td><td>52</td></tr>",
                            "<tr><td>3,1,2,8</td><td>206</td><td>52</td></tr>",
                            "<tr><td>3,2,6,8</td><td>206</td><td>80</td></tr>",
                            "<tr><td>8,2,3,6</td><td>206</td><td>80</td></tr>",
                            "<tr><td>6,2,3,8</td><td>206</td><td>80</td></tr>",
                            "<tr><td>2,3,6,8</td><td>206</td><td>80</td></tr>",
                            "<tr><td>1,3,4,5,8</td><td>206</td><td>102</td></tr>",
                            "<tr><td>8,1,3,4,5</td><td>206</td><td>102</td></tr>",
                            "<tr><td>3,1,4,5,8</td><td>206</td><td>102</td></tr>",
                            "<tr><td>4,1,3,5,8</td><td>206</td><td>102</td></tr>",
                            "<tr><td>5,1,3,4,8</td><td>206</td><td>102</td></tr>",
                            "<tr><td>3,1,2</td><td>205</td><td>42</td></tr>",
                            "<tr><td>1,2,3</td><td>205</td><td>42</td></tr>",
                            "<tr><td>2,1,3</td><td>205</td><td>42</td></tr>",
                            "<tr><td>3,2,6</td><td>205</td><td>70</td></tr>",
                            "<tr><td>2,3,6</td><td>205</td><td>70</td></tr>",
                            "<tr><td>6,2,3</td><td>205</td><td>70</td></tr>",
                            "<tr><td>3,1,4,5</td><td>205</td><td>92</td></tr>",
                            "<tr><td>5,1,3,4</td><td>205</td><td>92</td></tr>",
                            "<tr><td>4,1,3,5</td><td>205</td><td>92</td></tr>",
                            "<tr><td>1,3,4,5</td><td>205</td><td>92</td></tr>",
                            "<tr><td>2,4,5,8</td><td>201</td><td>100</td></tr>",
                            "<tr><td>4,2,5,8</td><td>201</td><td>100</td></tr>",
                            "<tr><td>5,2,4,8</td><td>201</td><td>100</td></tr>",
                            "<tr><td>8,2,4,5</td><td>201</td><td>100</td></tr>",
                            "<tr><td>5,2,4</td><td>200</td><td>90</td></tr>",
                            "<tr><td>4,2,5</td><td>200</td><td>90</td></tr>",
                            "<tr><td>2,4,5</td><td>200</td><td>90</td></tr>",
                            "<tr><td>2,3,7</td><td>200</td><td>100</td></tr>",
                            "<tr><td>3,2,7</td><td>200</td><td>100</td></tr>",
                            "<tr><td>7,2,3</td><td>200</td><td>100</td></tr>",
                            "<tr><td>8,2,3</td><td>191</td><td>50</td></tr>",
                            "<tr><td>3,2,8</td><td>191</td><td>50</td></tr>",
                            "<tr><td>2,3,8</td><td>191</td><td>50</td></tr>",
                            "<tr><td>4,1,2,6,8</td><td>191</td><td>92</td></tr>",
                            "<tr><td>8,1,2,4,6</td><td>191</td><td>92</td></tr>",
                            "<tr><td>6,1,2,4,8</td><td>191</td><td>92</td></tr>",
                            "<tr><td>2,1,4,6,8</td><td>191</td><td>92</td></tr>",
                            "<tr><td>1,2,4,6,8</td><td>191</td><td>92</td></tr>",
                            "<tr><td>8,3,4,5</td><td>191</td><td>100</td></tr>",
                            "<tr><td>3,4,5,8</td><td>191</td><td>100</td></tr>",
                            "<tr><td>4,3,5,8</td><td>191</td><td>100</td></tr>",
                            "<tr><td>5,3,4,8</td><td>191</td><td>100</td></tr>",
                            "<tr><td>3,2</td><td>190</td><td>40</td></tr>",
                            "<tr><td>2,3</td><td>190</td><td>40</td></tr>",
                            "<tr><td>4,1,2,6</td><td>190</td><td>82</td></tr>",
                            "<tr><td>6,1,2,4</td><td>190</td><td>82</td></tr>",
                            "<tr><td>1,2,4,6</td><td>190</td><td>82</td></tr>",
                            "<tr><td>2,1,4,6</td><td>190</td><td>82</td></tr>",
                            "<tr><td>5,3,4</td><td>190</td><td>90</td></tr>",
                            "<tr><td>4,3,5</td><td>190</td><td>90</td></tr>",
                            "<tr><td>3,4,5</td><td>190</td><td>90</td></tr>",
                            "<tr><td>3,1,4,6,8</td><td>181</td><td>92</td></tr>",
                            "<tr><td>4,1,3,6,8</td><td>181</td><td>92</td></tr>",
                            "<tr><td>6,1,3,4,8</td><td>181</td><td>92</td></tr>",
                            "<tr><td>8,1,3,4,6</td><td>181</td><td>92</td></tr>",
                            "<tr><td>1,3,4,6,8</td><td>181</td><td>92</td></tr>",
                            "<tr><td>1,3,4,6</td><td>180</td><td>82</td></tr>",
                            "<tr><td>6,1,3,4</td><td>180</td><td>82</td></tr>",
                            "<tr><td>4,1,3,6</td><td>180</td><td>82</td></tr>",
                            "<tr><td>3,1,4,6</td><td>180</td><td>82</td></tr>",
                            "<tr><td>4,1,2,8</td><td>176</td><td>62</td></tr>",
                            "<tr><td>8,1,2,4</td><td>176</td><td>62</td></tr>",
                            "<tr><td>2,1,4,8</td><td>176</td><td>62</td></tr>",
                            "<tr><td>1,2,4,8</td><td>176</td><td>62</td></tr>",
                            "<tr><td>8,2,4,6</td><td>176</td><td>90</td></tr>",
                            "<tr><td>6,2,4,8</td><td>176</td><td>90</td></tr>",
                            "<tr><td>4,2,6,8</td><td>176</td><td>90</td></tr>",
                            "<tr><td>2,4,6,8</td><td>176</td><td>90</td></tr>",
                            "<tr><td>4,1,2</td><td>175</td><td>52</td></tr>",
                            "<tr><td>2,1,4</td><td>175</td><td>52</td></tr>",
                            "<tr><td>1,2,4</td><td>175</td><td>52</td></tr>",
                            "<tr><td>4,2,6</td><td>175</td><td>80</td></tr>",
                            "<tr><td>2,4,6</td><td>175</td><td>80</td></tr>",
                            "<tr><td>6,2,4</td><td>175</td><td>80</td></tr>",
                            "<tr><td>6,1,2,5,8</td><td>171</td><td>102</td></tr>",
                            "<tr><td>8,1,2,5,6</td><td>171</td><td>102</td></tr>",
                            "<tr><td>5,1,2,6,8</td><td>171</td><td>102</td></tr>",
                            "<tr><td>2,1,5,6,8</td><td>171</td><td>102</td></tr>",
                            "<tr><td>1,2,5,6,8</td><td>171</td><td>102</td></tr>",
                            "<tr><td>1,2,5,6</td><td>170</td><td>92</td></tr>",
                            "<tr><td>2,1,5,6</td><td>170</td><td>92</td></tr>",
                            "<tr><td>5,1,2,6</td><td>170</td><td>92</td></tr>",
                            "<tr><td>6,1,2,5</td><td>170</td><td>92</td></tr>",
                            "<tr><td>8,1,3,4</td><td>166</td><td>62</td></tr>",
                            "<tr><td>4,1,3,8</td><td>166</td><td>62</td></tr>",
                            "<tr><td>3,1,4,8</td><td>166</td><td>62</td></tr>",
                            "<tr><td>1,3,4,8</td><td>166</td><td>62</td></tr>",
                            "<tr><td>3,4,6,8</td><td>166</td><td>90</td></tr>",
                            "<tr><td>4,3,6,8</td><td>166</td><td>90</td></tr>",
                            "<tr><td>8,3,4,6</td><td>166</td><td>90</td></tr>",
                            "<tr><td>6,3,4,8</td><td>166</td><td>90</td></tr>",
                            "<tr><td>4,1,3</td><td>165</td><td>52</td></tr>",
                            "<tr><td>3,1,4</td><td>165</td><td>52</td></tr>",
                            "<tr><td>1,3,4</td><td>165</td><td>52</td></tr>",
                            "<tr><td>3,4,6</td><td>165</td><td>80</td></tr>",
                            "<tr><td>4,3,6</td><td>165</td><td>80</td></tr>",
                            "<tr><td>6,3,4</td><td>165</td><td>80</td></tr>",
                            "<tr><td>8,2,4</td><td>161</td><td>60</td></tr>",
                            "<tr><td>4,2,8</td><td>161</td><td>60</td></tr>",
                            "<tr><td>2,4,8</td><td>161</td><td>60</td></tr>",
                            "<tr><td>3,1,5,6,8</td><td>161</td><td>102</td></tr>",
                            "<tr><td>5,1,3,6,8</td><td>161</td><td>102</td></tr>",
                            "<tr><td>8,1,3,5,6</td><td>161</td><td>102</td></tr>",
                            "<tr><td>6,1,3,5,8</td><td>161</td><td>102</td></tr>",
                            "<tr><td>1,3,5,6,8</td><td>161</td><td>102</td></tr>",
                            "<tr><td>4,2</td><td>160</td><td>50</td></tr>",
                            "<tr><td>2,4</td><td>160</td><td>50</td></tr>",
                            "<tr><td>3,1,5,6</td><td>160</td><td>92</td></tr>",
                            "<tr><td>5,1,3,6</td><td>160</td><td>92</td></tr>",
                            "<tr><td>6,1,3,5</td><td>160</td><td>92</td></tr>",
                            "<tr><td>1,3,5,6</td><td>160</td><td>92</td></tr>",
                            "<tr><td>2,1,5,8</td><td>156</td><td>72</td></tr>",
                            "<tr><td>1,2,5,8</td><td>156</td><td>72</td></tr>",
                            "<tr><td>8,1,2,5</td><td>156</td><td>72</td></tr>",
                            "<tr><td>5,1,2,8</td><td>156</td><td>72</td></tr>",
                            "<tr><td>5,2,6,8</td><td>156</td><td>100</td></tr>",
                            "<tr><td>2,5,6,8</td><td>156</td><td>100</td></tr>",
                            "<tr><td>8,2,5,6</td><td>156</td><td>100</td></tr>",
                            "<tr><td>6,2,5,8</td><td>156</td><td>100</td></tr>",
                            "<tr><td>5,1,2</td><td>155</td><td>62</td></tr>",
                            "<tr><td>2,1,5</td><td>155</td><td>62</td></tr>",
                            "<tr><td>1,2,5</td><td>155</td><td>62</td></tr>",
                            "<tr><td>5,2,6</td><td>155</td><td>90</td></tr>",
                            "<tr><td>2,5,6</td><td>155</td><td>90</td></tr>",
                            "<tr><td>6,2,5</td><td>155</td><td>90</td></tr>",
                            "<tr><td>8,3,4</td><td>151</td><td>60</td></tr>",
                            "<tr><td>3,4,8</td><td>151</td><td>60</td></tr>",
                            "<tr><td>4,3,8</td><td>151</td><td>60</td></tr>",
                            "<tr><td>4,3</td><td>150</td><td>50</td></tr>",
                            "<tr><td>3,4</td><td>150</td><td>50</td></tr>",
                            "<tr><td>3,1,5,8</td><td>146</td><td>72</td></tr>",
                            "<tr><td>5,1,3,8</td><td>146</td><td>72</td></tr>",
                            "<tr><td>8,1,3,5</td><td>146</td><td>72</td></tr>",
                            "<tr><td>1,3,5,8</td><td>146</td><td>72</td></tr>",
                            "<tr><td>8,3,5,6</td><td>146</td><td>100</td></tr>",
                            "<tr><td>5,3,6,8</td><td>146</td><td>100</td></tr>",
                            "<tr><td>6,3,5,8</td><td>146</td><td>100</td></tr>",
                            "<tr><td>3,5,6,8</td><td>146</td><td>100</td></tr>",
                            "<tr><td>3,1,5</td><td>145</td><td>62</td></tr>",
                            "<tr><td>5,1,3</td><td>145</td><td>62</td></tr>",
                            "<tr><td>1,3,5</td><td>145</td><td>62</td></tr>",
                            "<tr><td>3,5,6</td><td>145</td><td>90</td></tr>",
                            "<tr><td>6,3,5</td><td>145</td><td>90</td></tr>",
                            "<tr><td>5,3,6</td><td>145</td><td>90</td></tr>",
                            "<tr><td>8,2,5</td><td>141</td><td>70</td></tr>",
                            "<tr><td>2,5,8</td><td>141</td><td>70</td></tr>",
                            "<tr><td>5,2,8</td><td>141</td><td>70</td></tr>",
                            "<tr><td>2,5</td><td>140</td><td>60</td></tr>",
                            "<tr><td>5,2</td><td>140</td><td>60</td></tr>",
                            "<tr><td>6,1,2,8</td><td>131</td><td>62</td></tr>",
                            "<tr><td>8,1,2,6</td><td>131</td><td>62</td></tr>",
                            "<tr><td>2,1,6,8</td><td>131</td><td>62</td></tr>",
                            "<tr><td>1,2,6,8</td><td>131</td><td>62</td></tr>",
                            "<tr><td>8,3,5</td><td>131</td><td>70</td></tr>",
                            "<tr><td>5,3,8</td><td>131</td><td>70</td></tr>",
                            "<tr><td>3,5,8</td><td>131</td><td>70</td></tr>",
                            "<tr><td>6,1,2</td><td>130</td><td>52</td></tr>",
                            "<tr><td>2,1,6</td><td>130</td><td>52</td></tr>",
                            "<tr><td>1,2,6</td><td>130</td><td>52</td></tr>",
                            "<tr><td>5,3</td><td>130</td><td>60</td></tr>",
                            "<tr><td>3,5</td><td>130</td><td>60</td></tr>",
                            "<tr><td>5,1,4,6</td><td>130</td><td>102</td></tr>",
                            "<tr><td>4,1,5,6</td><td>130</td><td>102</td></tr>",
                            "<tr><td>6,1,4,5</td><td>130</td><td>102</td></tr>",
                            "<tr><td>1,4,5,6</td><td>130</td><td>102</td></tr>",
                            "<tr><td>2,1,7,8</td><td>126</td><td>92</td></tr>",
                            "<tr><td>1,2,7,8</td><td>126</td><td>92</td></tr>",
                            "<tr><td>7,1,2,8</td><td>126</td><td>92</td></tr>",
                            "<tr><td>8,1,2,7</td><td>126</td><td>92</td></tr>",
                            "<tr><td>7,1,2</td><td>125</td><td>82</td></tr>",
                            "<tr><td>2,1,7</td><td>125</td><td>82</td></tr>",
                            "<tr><td>1,2,7</td><td>125</td><td>82</td></tr>",
                            "<tr><td>1,3,6,8</td><td>121</td><td>62</td></tr>",
                            "<tr><td>6,1,3,8</td><td>121</td><td>62</td></tr>",
                            "<tr><td>8,1,3,6</td><td>121</td><td>62</td></tr>",
                            "<tr><td>3,1,6,8</td><td>121</td><td>62</td></tr>",
                            "<tr><td>3,1,6</td><td>120</td><td>52</td></tr>",
                            "<tr><td>6,1,3</td><td>120</td><td>52</td></tr>",
                            "<tr><td>1,3,6</td><td>120</td><td>52</td></tr>",
                            "<tr><td>1,2,8</td><td>116</td><td>32</td></tr>",
                            "<tr><td>2,1,8</td><td>116</td><td>32</td></tr>",
                            "<tr><td>8,1,2</td><td>116</td><td>32</td></tr>",
                            "<tr><td>8,2,6</td><td>116</td><td>60</td></tr>",
                            "<tr><td>6,2,8</td><td>116</td><td>60</td></tr>",
                            "<tr><td>2,6,8</td><td>116</td><td>60</td></tr>",
                            "<tr><td>4,1,5,8</td><td>116</td><td>82</td></tr>",
                            "<tr><td>5,1,4,8</td><td>116</td><td>82</td></tr>",
                            "<tr><td>8,1,4,5</td><td>116</td><td>82</td></tr>",
                            "<tr><td>1,4,5,8</td><td>116</td><td>82</td></tr>",
                            "<tr><td>1,3,7,8</td><td>116</td><td>92</td></tr>",
                            "<tr><td>8,1,3,7</td><td>116</td><td>92</td></tr>",
                            "<tr><td>7,1,3,8</td><td>116</td><td>92</td></tr>",
                            "<tr><td>3,1,7,8</td><td>116</td><td>92</td></tr>",
                            "<tr><td>2,1</td><td>115</td><td>22</td></tr>",
                            "<tr><td>1,2</td><td>115</td><td>22</td></tr>",
                            "<tr><td>2,6</td><td>115</td><td>50</td></tr>",
                            "<tr><td>6,2</td><td>115</td><td>50</td></tr>",
                            "<tr><td>5,1,4</td><td>115</td><td>72</td></tr>",
                            "<tr><td>4,1,5</td><td>115</td><td>72</td></tr>",
                            "<tr><td>1,4,5</td><td>115</td><td>72</td></tr>",
                            "<tr><td>1,3,7</td><td>115</td><td>82</td></tr>",
                            "<tr><td>3,1,7</td><td>115</td><td>82</td></tr>",
                            "<tr><td>7,1,3</td><td>115</td><td>82</td></tr>",
                            "<tr><td>6,4,5</td><td>115</td><td>100</td></tr>",
                            "<tr><td>5,4,6</td><td>115</td><td>100</td></tr>",
                            "<tr><td>4,5,6</td><td>115</td><td>100</td></tr>",
                            "<tr><td>2,7,8</td><td>111</td><td>90</td></tr>",
                            "<tr><td>7,2,8</td><td>111</td><td>90</td></tr>",
                            "<tr><td>8,2,7</td><td>111</td><td>90</td></tr>",
                            "<tr><td>7,2</td><td>110</td><td>80</td></tr>",
                            "<tr><td>2,7</td><td>110</td><td>80</td></tr>",
                            "<tr><td>3,1,8</td><td>106</td><td>32</td></tr>",
                            "<tr><td>8,1,3</td><td>106</td><td>32</td></tr>",
                            "<tr><td>1,3,8</td><td>106</td><td>32</td></tr>",
                            "<tr><td>8,3,6</td><td>106</td><td>60</td></tr>",
                            "<tr><td>6,3,8</td><td>106</td><td>60</td></tr>",
                            "<tr><td>3,6,8</td><td>106</td><td>60</td></tr>",
                            "<tr><td>3,1</td><td>105</td><td>22</td></tr>",
                            "<tr><td>1,3</td><td>105</td><td>22</td></tr>",
                            "<tr><td>3,6</td><td>105</td><td>50</td></tr>",
                            "<tr><td>6,3</td><td>105</td><td>50</td></tr>",
                            "<tr><td>8,2</td><td>101</td><td>30</td></tr>",
                            "<tr><td>2,8</td><td>101</td><td>30</td></tr>",
                            "<tr><td>4,5,8</td><td>101</td><td>80</td></tr>",
                            "<tr><td>8,4,5</td><td>101</td><td>80</td></tr>",
                            "<tr><td>5,4,8</td><td>101</td><td>80</td></tr>",
                            "<tr><td>7,3,8</td><td>101</td><td>90</td></tr>",
                            "<tr><td>8,3,7</td><td>101</td><td>90</td></tr>",
                            "<tr><td>3,7,8</td><td>101</td><td>90</td></tr>",
                            "<tr><td>2</td><td>100</td><td>20</td></tr>",
                            "<tr><td>5,4</td><td>100</td><td>70</td></tr>",
                            "<tr><td>4,5</td><td>100</td><td>70</td></tr>",
                            "<tr><td>3,7</td><td>100</td><td>80</td></tr>",
                            "<tr><td>7,3</td><td>100</td><td>80</td></tr>",
                            "<tr><td>8,3</td><td>91</td><td>30</td></tr>",
                            "<tr><td>3,8</td><td>91</td><td>30</td></tr>",
                            "<tr><td>4,1,6,8</td><td>91</td><td>72</td></tr>",
                            "<tr><td>8,1,4,6</td><td>91</td><td>72</td></tr>",
                            "<tr><td>6,1,4,8</td><td>91</td><td>72</td></tr>",
                            "<tr><td>1,4,6,8</td><td>91</td><td>72</td></tr>",
                            "<tr><td>3</td><td>90</td><td>20</td></tr>",
                            "<tr><td>6,1,4</td><td>90</td><td>62</td></tr>",
                            "<tr><td>4,1,6</td><td>90</td><td>62</td></tr>",
                            "<tr><td>1,4,6</td><td>90</td><td>62</td></tr>",
                            "<tr><td>1,4,7,8</td><td>86</td><td>102</td></tr>",
                            "<tr><td>4,1,7,8</td><td>86</td><td>102</td></tr>",
                            "<tr><td>7,1,4,8</td><td>86</td><td>102</td></tr>",
                            "<tr><td>8,1,4,7</td><td>86</td><td>102</td></tr>",
                            "<tr><td>7,1,4</td><td>85</td><td>92</td></tr>",
                            "<tr><td>4,1,7</td><td>85</td><td>92</td></tr>",
                            "<tr><td>1,4,7</td><td>85</td><td>92</td></tr>",
                            "<tr><td>1,4,8</td><td>76</td><td>42</td></tr>",
                            "<tr><td>4,1,8</td><td>76</td><td>42</td></tr>",
                            "<tr><td>8,1,4</td><td>76</td><td>42</td></tr>",
                            "<tr><td>8,4,6</td><td>76</td><td>70</td></tr>",
                            "<tr><td>6,4,8</td><td>76</td><td>70</td></tr>",
                            "<tr><td>4,6,8</td><td>76</td><td>70</td></tr>",
                            "<tr><td>4,1</td><td>75</td><td>32</td></tr>",
                            "<tr><td>1,4</td><td>75</td><td>32</td></tr>",
                            "<tr><td>4,6</td><td>75</td><td>60</td></tr>",
                            "<tr><td>6,4</td><td>75</td><td>60</td></tr>",
                            "<tr><td>6,1,5,8</td><td>71</td><td>82</td></tr>",
                            "<tr><td>8,1,5,6</td><td>71</td><td>82</td></tr>",
                            "<tr><td>5,1,6,8</td><td>71</td><td>82</td></tr>",
                            "<tr><td>1,5,6,8</td><td>71</td><td>82</td></tr>",
                            "<tr><td>4,7,8</td><td>71</td><td>100</td></tr>",
                            "<tr><td>7,4,8</td><td>71</td><td>100</td></tr>",
                            "<tr><td>8,4,7</td><td>71</td><td>100</td></tr>",
                            "<tr><td>6,1,5</td><td>70</td><td>72</td></tr>",
                            "<tr><td>5,1,6</td><td>70</td><td>72</td></tr>",
                            "<tr><td>1,5,6</td><td>70</td><td>72</td></tr>",
                            "<tr><td>4,7</td><td>70</td><td>90</td></tr>",
                            "<tr><td>7,4</td><td>70</td><td>90</td></tr>",
                            "<tr><td>7,1,5</td><td>65</td><td>102</td></tr>",
                            "<tr><td>5,1,7</td><td>65</td><td>102</td></tr>",
                            "<tr><td>1,5,7</td><td>65</td><td>102</td></tr>",
                            "<tr><td>4,8</td><td>61</td><td>40</td></tr>",
                            "<tr><td>8,4</td><td>61</td><td>40</td></tr>",
                            "<tr><td>4</td><td>60</td><td>30</td></tr>",
                            "<tr><td>8,1,5</td><td>56</td><td>52</td></tr>",
                            "<tr><td>5,1,8</td><td>56</td><td>52</td></tr>",
                            "<tr><td>1,5,8</td><td>56</td><td>52</td></tr>",
                            "<tr><td>8,5,6</td><td>56</td><td>80</td></tr>",
                            "<tr><td>6,5,8</td><td>56</td><td>80</td></tr>",
                            "<tr><td>5,6,8</td><td>56</td><td>80</td></tr>",
                            "<tr><td>5,1</td><td>55</td><td>42</td></tr>",
                            "<tr><td>1,5</td><td>55</td><td>42</td></tr>",
                            "<tr><td>5,6</td><td>55</td><td>70</td></tr>",
                            "<tr><td>6,5</td><td>55</td><td>70</td></tr>",
                            "<tr><td>5,7</td><td>50</td><td>100</td></tr>",
                            "<tr><td>7,5</td><td>50</td><td>100</td></tr>",
                            "<tr><td>8,5</td><td>41</td><td>50</td></tr>",
                            "<tr><td>5,8</td><td>41</td><td>50</td></tr>",
                            "<tr><td>6,1,7,8</td><td>41</td><td>102</td></tr>",
                            "<tr><td>7,1,6,8</td><td>41</td><td>102</td></tr>",
                            "<tr><td>8,1,6,7</td><td>41</td><td>102</td></tr>",
                            "<tr><td>1,6,7,8</td><td>41</td><td>102</td></tr>",
                            "<tr><td>5</td><td>40</td><td>40</td></tr>",
                            "<tr><td>7,1,6</td><td>40</td><td>92</td></tr>",
                            "<tr><td>6,1,7</td><td>40</td><td>92</td></tr>",
                            "<tr><td>1,6,7</td><td>40</td><td>92</td></tr>",
                            "<tr><td>1,6,8</td><td>31</td><td>42</td></tr>",
                            "<tr><td>6,1,8</td><td>31</td><td>42</td></tr>",
                            "<tr><td>8,1,6</td><td>31</td><td>42</td></tr>",
                            "<tr><td>6,1</td><td>30</td><td>32</td></tr>",
                            "<tr><td>1,6</td><td>30</td><td>32</td></tr>",
                            "<tr><td>1,7,8</td><td>26</td><td>72</td></tr>",
                            "<tr><td>7,1,8</td><td>26</td><td>72</td></tr>",
                            "<tr><td>8,1,7</td><td>26</td><td>72</td></tr>",
                            "<tr><td>8,6,7</td><td>26</td><td>100</td></tr>",
                            "<tr><td>7,6,8</td><td>26</td><td>100</td></tr>",
                            "<tr><td>6,7,8</td><td>26</td><td>100</td></tr>",
                            "<tr><td>7,1</td><td>25</td><td>62</td></tr>",
                            "<tr><td>1,7</td><td>25</td><td>62</td></tr>",
                            "<tr><td>7,6</td><td>25</td><td>90</td></tr>",
                            "<tr><td>6,7</td><td>25</td><td>90</td></tr>",
                            "<tr><td>8,1</td><td>16</td><td>12</td></tr>",
                            "<tr><td>1,8</td><td>16</td><td>12</td></tr>",
                            "<tr><td>8,6</td><td>16</td><td>40</td></tr>",
                            "<tr><td>6,8</td><td>16</td><td>40</td></tr>",
                            "<tr><td>1</td><td>15</td><td>2</td></tr>",
                            "<tr><td>6</td><td>15</td><td>30</td></tr>",
                            "<tr><td>8,7</td><td>11</td><td>70</td></tr>",
                            "<tr><td>7,8</td><td>11</td><td>70</td></tr>",
                            "<tr><td>7</td><td>10</td><td>60</td></tr>",
                            "<tr><td>8</td><td>1</td><td>10</td></tr>",
                            "</table>"
                        ]
                    }
                }
            ],
            "execution_count": 6
        }
    ]
}