{
    "metadata": {
        "kernelspec": {
            "name": "SQL",
            "display_name": "SQL",
            "language": "sql"
        },
        "language_info": {
            "name": "sql",
            "version": ""
        }
    },
    "nbformat_minor": 2,
    "nbformat": 4,
    "cells": [
        {
            "cell_type": "markdown",
            "source": [
                "<span style=\"color: rgb(55, 65, 81); font-family: Söhne, ui-sans-serif, system-ui, -apple-system, &quot;Segoe UI&quot;, Roboto, Ubuntu, Cantarell, &quot;Noto Sans&quot;, sans-serif, &quot;Helvetica Neue&quot;, Arial, &quot;Apple Color Emoji&quot;, &quot;Segoe UI Emoji&quot;, &quot;Segoe UI Symbol&quot;, &quot;Noto Color Emoji&quot;; font-size: 16px; white-space: pre-wrap; background-color: rgb(247, 247, 248);\">Assuming a random starting saldo, what combination of products can be consumed from the limited available stock at the cantine and vending machines, using banknotes of 5, 10, 20, and 50 units loaded onto a payment card, to bring the saldo down to 0?</span>"
            ],
            "metadata": {
                "language": "sql",
                "azdata_cell_guid": "26ebacbf-30e0-4ff1-ac12-fe6e5e558ef3"
            },
            "attachments": {}
        },
        {
            "cell_type": "code",
            "source": [
                "-- Create a new database called 'portfolio'\r\n",
                "-- Connect to the 'master' database to run this snippet\r\n",
                "USE master\r\n",
                "GO\r\n",
                "-- Create the new database if it does not exist already\r\n",
                "IF NOT EXISTS (\r\n",
                "    SELECT [name]\r\n",
                "        FROM sys.databases\r\n",
                "        WHERE [name] = N'portfolio'\r\n",
                ")\r\n",
                "CREATE DATABASE portfolio\r\n",
                "GO\r\n",
                "\r\n",
                "USE portfolio;\r\n",
                "GO\r\n",
                "\r\n",
                "IF NOT EXISTS ( SELECT  *\r\n",
                "                FROM    sys.schemas\r\n",
                "                WHERE   name = N'cantine' )\r\n",
                "    EXEC('CREATE SCHEMA [cantine]');\r\n",
                "GO\r\n",
                "\r\n",
                "-- Create a new table called '[items]' in schema '[cantine]'\r\n",
                "-- Drop the table if it already exists\r\n",
                "IF OBJECT_ID('[cantine].[items]', 'U') IS NOT NULL\r\n",
                "DROP TABLE [cantine].[items]\r\n",
                "GO\r\n",
                "-- Create the table in the specified schema\r\n",
                "CREATE TABLE [cantine].[items]\r\n",
                "(\r\n",
                "    [Id] INT Identity(1,1), -- Primary Key column\r\n",
                "    [name] NVARCHAR(50) NOT NULL,\r\n",
                "    [unitPrice] NUMERIC(5,2),\r\n",
                "    [type] NVARCHAR(50) NOT NULL\r\n",
                "    -- Specify more columns here\r\n",
                ");\r\n",
                "GO\r\n",
                "\r\n",
                "-- Create a new table called '[banknotes]' in schema '[cantine]'\r\n",
                "-- Drop the table if it already exists\r\n",
                "IF OBJECT_ID('[cantine].[banknotes]', 'U') IS NOT NULL\r\n",
                "DROP TABLE [cantine].[banknotes]\r\n",
                "GO\r\n",
                "-- Create the table in the specified schema\r\n",
                "CREATE TABLE [cantine].[banknotes]\r\n",
                "(\r\n",
                "    [Id] INT identity(1,1), -- Primary Key column\r\n",
                "    [banknote] INT NOT NULL\r\n",
                ");\r\n",
                "GO\r\n",
                "\r\n",
                "INSERT INTO [cantine].[banknotes] ([banknote]) VALUES (5);\r\n",
                "INSERT INTO [cantine].[banknotes] ([banknote]) VALUES (10);\r\n",
                "INSERT INTO [cantine].[banknotes] ([banknote]) VALUES (20);\r\n",
                "INSERT INTO [cantine].[banknotes] ([banknote]) VALUES (50);\r\n",
                "GO\r\n",
                "\r\n",
                "-- Create a new table called '[consumption]' in schema '[cantine]'\r\n",
                "-- Drop the table if it already exists\r\n",
                "IF OBJECT_ID('[cantine].[consumption]', 'U') IS NOT NULL\r\n",
                "DROP TABLE [cantine].[consumption]\r\n",
                "GO\r\n",
                "-- Create the table in the specified schema\r\n",
                "CREATE TABLE [cantine].[consumption]\r\n",
                "(\r\n",
                "    [Id] INT Identity(1,1), -- Primary Key column\r\n",
                "    [itemId] INT NOT NULL\r\n",
                ");\r\n",
                "GO\r\n",
                "\r\n",
                "IF OBJECT_ID('[cantine].[canteen_status]', 'U') IS NOT NULL\r\n",
                "DROP TABLE [cantine].[canteen_status]\r\n",
                "\r\n",
                "CREATE TABLE [portfolio].[cantine].[canteen_status] (\r\n",
                "\t[Id] INT IDENTITY(1,1),\r\n",
                "    [Date] varchar(50) COLLATE SQL_Latin1_General_CP1_CI_AS NULL,\r\n",
                "\t[Time] varchar(50) COLLATE SQL_Latin1_General_CP1_CI_AS NULL,\r\n",
                "\tProduct varchar(50) COLLATE SQL_Latin1_General_CP1_CI_AS NULL,\r\n",
                "\tAmount int NULL,\r\n",
                "\tPrice varchar(50) COLLATE SQL_Latin1_General_CP1_CI_AS NULL,\r\n",
                "\tSaldo varchar(50) COLLATE SQL_Latin1_General_CP1_CI_AS NULL\r\n",
                ");\r\n",
                ""
            ],
            "metadata": {
                "azdata_cell_guid": "1b4b8d61-1bc6-46fb-bfbd-2ae77925558b",
                "language": "sql",
                "tags": [
                    "hide_input"
                ]
            },
            "outputs": [
                {
                    "output_type": "display_data",
                    "data": {
                        "text/html": "Commands completed successfully."
                    },
                    "metadata": {}
                },
                {
                    "output_type": "display_data",
                    "data": {
                        "text/html": "Commands completed successfully."
                    },
                    "metadata": {}
                },
                {
                    "output_type": "display_data",
                    "data": {
                        "text/html": "Commands completed successfully."
                    },
                    "metadata": {}
                },
                {
                    "output_type": "display_data",
                    "data": {
                        "text/html": "Commands completed successfully."
                    },
                    "metadata": {}
                },
                {
                    "output_type": "display_data",
                    "data": {
                        "text/html": "Commands completed successfully."
                    },
                    "metadata": {}
                },
                {
                    "output_type": "display_data",
                    "data": {
                        "text/html": "Commands completed successfully."
                    },
                    "metadata": {}
                },
                {
                    "output_type": "display_data",
                    "data": {
                        "text/html": "Commands completed successfully."
                    },
                    "metadata": {}
                },
                {
                    "output_type": "display_data",
                    "data": {
                        "text/html": "Commands completed successfully."
                    },
                    "metadata": {}
                },
                {
                    "output_type": "display_data",
                    "data": {
                        "text/html": "(1 row affected)"
                    },
                    "metadata": {}
                },
                {
                    "output_type": "display_data",
                    "data": {
                        "text/html": "(1 row affected)"
                    },
                    "metadata": {}
                },
                {
                    "output_type": "display_data",
                    "data": {
                        "text/html": "(1 row affected)"
                    },
                    "metadata": {}
                },
                {
                    "output_type": "display_data",
                    "data": {
                        "text/html": "(1 row affected)"
                    },
                    "metadata": {}
                },
                {
                    "output_type": "display_data",
                    "data": {
                        "text/html": "Commands completed successfully."
                    },
                    "metadata": {}
                },
                {
                    "output_type": "display_data",
                    "data": {
                        "text/html": "Commands completed successfully."
                    },
                    "metadata": {}
                },
                {
                    "output_type": "display_data",
                    "data": {
                        "text/html": "Commands completed successfully."
                    },
                    "metadata": {}
                },
                {
                    "output_type": "display_data",
                    "data": {
                        "text/html": "Total execution time: 00:00:00.747"
                    },
                    "metadata": {}
                }
            ],
            "execution_count": 12
        },
        {
            "cell_type": "code",
            "source": [
                "/*Insert consumption*/\r\n",
                "\r\n",
                "USE portfolio;\r\n",
                "GO\r\n",
                "\r\n",
                "INSERT INTO portfolio.cantine.canteen_status ([Date],[Time],Product,Amount,Price,Saldo) VALUES\r\n",
                "\t (N'21-11-2022',N'12:00:36',N'1 - MENU DU JOUR',1,N'7,43',N'33,20'),\r\n",
                "\t (N'21-11-2022',N'12:00:36',N'113 - VIVA 1/4 FREE',1,N'0,00',N'33,20'),\r\n",
                "\t (N'22-11-2022',N'09:07:00',N'311 - DM Sandwich Maison - 1.80€',1,N'1,80',N'31,40'),\r\n",
                "\t (N'22-11-2022',N'09:07:18',N'311 - DM Sandwich Maison - 1.80€',1,N'1,80',N'29,60'),\r\n",
                "\t (N'22-11-2022',N'10:35:40',N'301 - Dallmayr Sweet 1 - 0.70€',1,N'0,70',N'28,90'),\r\n",
                "\t (N'22-11-2022',N'12:00:22',N'1 - MENU DU JOUR',1,N'7,43',N'21,47'),\r\n",
                "\t (N'22-11-2022',N'12:00:22',N'107 - ROSPORT 1/4',1,N'0,53',N'20,94'),\r\n",
                "\t (N'24-11-2022',N'12:05:22',N'1 - MENU DU JOUR',1,N'7,43',N'13,51'),\r\n",
                "\t (N'24-11-2022',N'12:05:22',N'113 - VIVA 1/4 FREE',1,N'0,00',N'13,51'),\r\n",
                "\t (N'24-11-2022',N'16:34:58',N'212 - DM - COCA COLA ZERO 33cl 0.62€',1,N'0,62',N'12,89'),\r\n",
                "\t (N'24-11-2022',N'16:35:08',N'209 - DM - MM ORANGE 33cl 0.86€',1,N'0,86',N'12,03'),\r\n",
                "\t (N'28-11-2022',N'08:10:04',N'305 - Dallmayr Sweet 5 - 0.90€',1,N'0,90',N'11,13'),\r\n",
                "\t (N'28-11-2022',N'08:09:46',N'312 - DM Traingles - 2.50€',1,N'2,50',N'8,63'),\r\n",
                "\t (N'28-11-2022',N'12:31:44',N'1 - MENU DU JOUR',1,N'7,43',N'1,20'),\r\n",
                "\t (N'28-11-2022',N'12:31:44',N'107 - ROSPORT 1/4',1,N'0,53',N'0,67'),\r\n",
                "\t (N'28-11-2022',N'16:05:42',N'212 - DM - COCA COLA ZERO 33cl 0.62€',1,N'0,62',N'50,05'),\r\n",
                "\t (N'28-11-2022',N'16:05:52',N'209 - DM - MM ORANGE 33cl 0.86€',1,N'0,86',N'49,19'),\r\n",
                "\t (N'05-12-2022',N'11:56:24',N'1 - MENU DU JOUR',1,N'7,43',N'41,76'),\r\n",
                "\t (N'05-12-2022',N'11:56:24',N'113 - VIVA 1/4 FREE',1,N'0,00',N'41,76'),\r\n",
                "\t (N'05-12-2022',N'17:33:12',N'302 - Dallmayr Sweet 2 - 0.75€',1,N'0,75',N'41,01'),\r\n",
                "\t (N'05-12-2022',N'08:51:58',N'311 - DM Sandwich Maison - 1.80€',1,N'1,80',N'25,54'),\r\n",
                "\t (N'06-12-2022',N'09:35:54',N'304 - Dallmayr Sweet 4 - 0.85€',1,N'0,85',N'40,16'),\r\n",
                "\t (N'06-12-2022',N'11:59:54',N'6 - MENU ACTION',1,N'10,57',N'29,59'),\r\n",
                "\t (N'06-12-2022',N'11:59:54',N'107 - ROSPORT 1/4',1,N'0,53',N'29,06'),\r\n",
                "\t (N'06-12-2022',N'16:22:46',N'209 - DM - MM ORANGE 33cl 0.86€',1,N'0,86',N'28,20'),\r\n",
                "\t (N'06-12-2022',N'16:22:58',N'209 - DM - MM ORANGE 33cl 0.86€',1,N'0,86',N'27,34'),\r\n",
                "\t (N'06-12-2022',N'08:52:48',N'311 - DM Sandwich Maison - 1.80€',1,N'1,80',N'23,74'),\r\n",
                "\t (N'08-12-2022',N'11:57:28',N'2 - MENU DU CHEF',1,N'9,86',N'13,88'),\r\n",
                "\t (N'08-12-2022',N'11:57:28',N'113 - VIVA 1/4 FREE',1,N'0,00',N'13,88'),\r\n",
                "\t (N'12-12-2022',N'12:38:32',N'311 - DM Sandwich Maison - 1.80€',1,N'1,80',N'12,08'),\r\n",
                "\t (N'12-12-2022',N'12:39:04',N'311 - DM Sandwich Maison - 1.80€',1,N'1,80',N'10,28'),\r\n",
                "\t (N'12-12-2022',N'14:38:34',N'212 - DM - COCA COLA ZERO 33cl 0.62€',1,N'0,62',N'9,66'),\r\n",
                "\t (N'12-12-2022',N'14:38:40',N'212 - DM - COCA COLA ZERO 33cl 0.62€',1,N'0,62',N'9,04'),\r\n",
                "\t (N'13-12-2022',N'12:04:54',N'5 - MENU DE NOEL',1,N'12,93',N'-3,89'),\r\n",
                "\t (N'13-12-2022',N'12:04:54',N'107 - ROSPORT 1/4',1,N'0,53',N'-4,42'),\r\n",
                "\t (N'19-12-2022',N'12:02:04',N'1 - MENU DU JOUR',1,N'7,43',N'48,15'),\r\n",
                "\t (N'19-12-2022',N'12:02:04',N'113 - VIVA 1/4 FREE',1,N'0,00',N'48,15'),\r\n",
                "\t (N'19-12-2022',N'12:25:26',N'209 - DM - MM ORANGE 33cl 0.86€',1,N'0,86',N'47,29'),\r\n",
                "\t (N'19-12-2022',N'16:30:04',N'303 - Dallmayr Sweet 3 - 0.80€',1,N'0,80',N'46,49'),\r\n",
                "\t (N'19-12-2022',N'16:30:22',N'301 - Dallmayr Sweet 1 - 0.70€',1,N'0,70',N'45,79'),\r\n",
                "\t (N'02-01-2023',N'12:11:42',N'1 - MENU DU JOUR',1,N'7,43',N'38,36'),\r\n",
                "\t (N'02-01-2023',N'12:11:42',N'107 - ROSPORT 1/4',1,N'0,53',N'37,83'),\r\n",
                "\t (N'03-01-2023',N'12:07:16',N'1 - MENU DU JOUR',1,N'7,43',N'30,40'),\r\n",
                "\t (N'03-01-2023',N'12:07:16',N'107 - ROSPORT 1/4',1,N'0,53',N'29,87'),\r\n",
                "\t (N'04-01-2023',N'12:06:26',N'1 - MENU DU JOUR',1,N'7,43',N'22,44'),\r\n",
                "\t (N'04-01-2023',N'12:06:26',N'113 - VIVA 1/4 FREE',1,N'0,00',N'22,44'),\r\n",
                "\t (N'05-01-2023',N'08:38:12',N'311 - DM Sandwich Maison - 1.80€',1,N'1,80',N'20,64'),\r\n",
                "\t (N'05-01-2023',N'11:56:54',N'1 - MENU DU JOUR',1,N'7,43',N'13,21'),\r\n",
                "\t (N'05-01-2023',N'11:56:54',N'107 - ROSPORT 1/4',1,N'0,53',N'12,68'),\r\n",
                "\t (N'06-01-2023',N'11:56:38',N'3 - MENU CLIN D''OEIL',1,N'11,53',N'1,15'),\r\n",
                "\t (N'06-01-2023',N'11:56:38',N'107 - ROSPORT 1/4',1,N'0,53',N'0,62'),\r\n",
                "\t (N'09-01-2023',N'09:21:10',N'311 - DM Sandwich Maison - 1.80€',1,N'1,80',N'48,82'),\r\n",
                "\t (N'09-01-2023',N'12:07:40',N'1 - MENU DU JOUR',1,N'7,43',N'41,39'),\r\n",
                "\t (N'09-01-2023',N'12:07:40',N'113 - VIVA 1/4 FREE',1,N'0,00',N'41,39'),\r\n",
                "\t (N'10-01-2023',N'11:56:56',N'3 - MENU CLIN D''OEIL',1,N'11,53',N'29,86'),\r\n",
                "\t (N'10-01-2023',N'11:56:56',N'113 - VIVA 1/4 FREE',1,N'0,00',N'29,86'),\r\n",
                "\t (N'11-01-2023',N'11:55:34',N'1 - MENU DU JOUR',1,N'7,43',N'22,43'),\r\n",
                "\t (N'11-01-2023',N'11:55:34',N'113 - VIVA 1/4 FREE',1,N'0,00',N'22,43'),\r\n",
                "\t (N'11-01-2023',N'15:24:20',N'212 - DM - COCA COLA ZERO 33cl 0.62€',1,N'0,62',N'21,81'),\r\n",
                "\t (N'11-01-2023',N'15:24:34',N'212 - DM - COCA COLA ZERO 33cl 0.62€',1,N'0,62',N'21,19'),\r\n",
                "\t (N'12-01-2023',N'12:04:16',N'1 - MENU DU JOUR',1,N'7,43',N'13,76'),\r\n",
                "\t (N'12-01-2023',N'12:04:16',N'113 - VIVA 1/4 FREE',1,N'0,00',N'13,76'),\r\n",
                "\t (N'12-01-2023',N'15:06:18',N'209 - DM - MM ORANGE 33cl 0.86€',1,N'0,86',N'12,90'),\r\n",
                "\t (N'13-01-2023',N'12:03:12',N'6 - MENU ACTION',1,N'10,57',N'2,33'),\r\n",
                "\t (N'13-01-2023',N'12:03:12',N'106 - COCA ZERO 1/4',1,N'0,53',N'1,80'),\r\n",
                "\t (N'16-01-2023',N'13:15:50',N'311 - DM Sandwich Maison - 1.80€',1,N'1,80',N'0,00'),\r\n",
                "\t (N'19-01-2023',N'12:31:00',N'1 - MENU DU JOUR',1,N'7,43',N'12,57'),\r\n",
                "\t (N'19-01-2023',N'12:31:00',N'113 - VIVA 1/4 FREE',1,N'0,00',N'12,57'),\r\n",
                "\t (N'20-01-2023',N'13:17:58',N'212 - DM - COCA COLA ZERO 33cl 0.62€',1,N'0,62',N'11,95'),\r\n",
                "\t (N'20-01-2023',N'13:18:10',N'209 - DM - MM ORANGE 33cl 0.86€',1,N'0,86',N'11,09'),\r\n",
                "\t (N'20-01-2023',N'12:06:52',N'311 - DM Sandwich Maison - 1.80€',1,N'1,80',N'9,29'),\r\n",
                "\t (N'23-01-2023',N'12:06:52',N'1 - MENU DU JOUR',1,N'7,43',N'1,86'),\r\n",
                "\t (N'23-01-2023',N'12:06:52',N'113 - VIVA 1/4 FREE',1,N'0,00',N'1,86'),\r\n",
                "\t (N'24-01-2023',N'12:14:04',N'1 - MENU DU JOUR',1,N'7,43',N'44,43'),\r\n",
                "\t (N'24-01-2023',N'12:14:04',N'113 - VIVA 1/4 FREE',1,N'0,00', N'44,43'),\r\n",
                "\t (N'25-01-2023',N'12:00:46',N'1 - MENU DU JOUR',1,N'7,43',N'37,00'),\r\n",
                "\t (N'25-01-2023',N'12:00:46',N'107 - ROSPORT 1/4',1,N'0,53', N'36,47'),\r\n",
                "\t (N'25-01-2023',N'12:03:46',N'1 - MENU DU JOUR',1,N'7,43', N'29,04'),\r\n",
                "\t (N'26-01-2023',N'12:16:08',N'1 - MENU DU JOUR',2,N'7,43',N'14,18'),\r\n",
                "\t (N'26-01-2023',N'12:16:08',N'113 - VIVA 1/4 FREE',2,N'0,00', N'14,18'),\r\n",
                "\t (N'27-01-2023',N'12:19:26',N'3 - MENU CLIN D''OEIL',1,N'11,53', N'2,65'),\r\n",
                "\t (N'27-01-2023',N'12:19:26',N'113 - VIVA 1/4 FREE',1,N'0,00', N'2,65'),\r\n",
                "\t (N'30-01-2023',N'12:38:00',N'1 - MENU DU JOUR',1,N'7,43', N'45,22'),\r\n",
                "\t (N'30-01-2023',N'12:38:00',N'113 - VIVA 1/4 FREE',1,N'7,43', N'45,22'),\r\n",
                "\t (N'31-01-2023',N'12:37:46',N'1 - MENU DU JOUR',1,N'7,43', N'37,79'),\r\n",
                "\t (N'31-01-2023',N'12:37:46',N'113 - VIVA 1/4 FREE',1,N'7,43', N'37,79'),\r\n",
                "\t (N'01-02-2023',N'12:01:18',N'1 - MENU DU JOUR',1,N'7,43', N'30,36'),\r\n",
                "\t (N'01-02-2023',N'12:01:18',N'113 - VIVA 1/4 FREE',1,N'7,43', N'30,36'),\r\n",
                "\t (N'02-02-2023',N'11:57:46',N'998 - Donnation ABC Canteen (CR 450)',1,N'3,00', N'27,36'),\r\n",
                "\t (N'02-02-2023',N'12:03:58',N'1 - MENU DU JOUR',1,N'7,43', N'19,93'),\r\n",
                "\t (N'02-02-2023',N'12:03:58',N'113 - VIVA 1/4 FREE',1,N'7,43', N'19,93'),\r\n",
                "\t (N'03-02-2023',N'10:32:32',N'212 - DM - COCA COLA ZERO 33cl 0.62€',1,N'0,62', N'19,31'),\r\n",
                "\t (N'03-02-2023',N'10:32:48',N'1206 - DM - PERRIER 33cl 0.73€',1,N'0,73', N'18,58'),\r\n",
                "\t (N'03-02-2023',N'10:32:58',N'212 - DM - COCA COLA ZERO 33cl 0.62€',1,N'0,62', N'17,96'),\r\n",
                "\t (N'03-02-2023',N'10:33:06',N'206 - DM - PERRIER 33cl 0.73€',1,N'0,73', N'17,23'),\r\n",
                "\t (N'03-02-2023',N'10:33:30',N'206 - DM - PERRIER 33cl 0.73€',1,N'0,73', N'16,50'),\r\n",
                "\t (N'03-02-2023',N'10:33:38',N'206 - DM - PERRIER 33cl 0.73€',1,N'0,73', N'15,77'),\r\n",
                "\t (N'03-02-2023',N'10:34:00',N'206 - DM - PERRIER 33cl 0.73€',1,N'0,73', N'15,04'),\r\n",
                "\t (N'03-02-2023',N'11:59:30',N'1 - MENU DU JOUR',1,N'7,43', N'7,61'),\r\n",
                "\t (N'03-02-2023',N'11:59:30',N'113 - VIVA 1/4 FREE',1,N'7,43', N'7,61'),\r\n",
                "\t (N'06-02-2023',N'09:41:12',N'209 - DM - MM ORANGE 33cl 0.86€',1,N'0,86', N'6,75'),\r\n",
                "\t (N'06-02-2023',N'09:41:24',N'206 - DM - PERRIER 33cl 0.73€',1,N'0,73', N'6,02'),\r\n",
                "\t (N'06-02-2023',N'09:41:36',N'206 - DM - PERRIER 33cl 0.73€',1,N'0,73', N'5,29'),\r\n",
                "\t (N'06-02-2023',N'12:00:38',N'311 - DM Sandwich Maison - 1.80€',1,N'1,80', N'3,49'),\r\n",
                "\t (N'06-02-2023',N'12:02:46',N'311 - DM Sandwich Maison - 1.80€',1,N'1,80', N'1,69'),\r\n",
                "\t (N'06-02-2023',N'18:13:34',N'301 - Dallmayr Sweet 1 - 0.70€',1,N'0,70', N'0,99'),\r\n",
                "\t (N'07-02-2023',N'09:32:48',N'209 - DM - MM ORANGE 33cl 0.86€',1,N'0,86', N'0,13'),\r\n",
                "\t (N'13-02-2023',N'12:03:16',N'1 - MENU DU JOUR',1,N'7,43', N'35,27'),\r\n",
                "\t (N'13-02-2023',N'12:03:16',N'113 - VIVA 1/4 FREE',1,N'0,00', N'35,27'),\r\n",
                "\t (N'13-02-2023',N'12:03:16',N'3 - MENU CLIN D''OEIL',1,N'11,53', N'23,74'),\r\n",
                "\t (N'13-02-2023',N'12:03:16',N'107 - ROSPORT 1/4',1,N'0,53', N'23,74'),\r\n",
                "\t (N'13-02-2023',N'14:16:32',N'212 - DM - COCA COLA ZERO 33cl 0.62€',1,N'0,62', N'22,59'),\r\n",
                "\t (N'15-02-2023',N'12:00:08',N'3 - MENU CLIN D''OEIL',1,N'11,53', N'61,06'),\r\n",
                "\t (N'15-02-2023',N'12:00:08',N'113 - VIVA 1/4 FREE',1,N'0,00', N'61,06'),\r\n",
                "\t (N'15-02-2023',N'12:02:20',N'1 - MENU DU JOUR',1,N'7,43', N'53,63'),\r\n",
                "\t (N'15-02-2023',N'12:02:20',N'113 - VIVA 1/4 FREE',1,N'0,00', N'53,63'),\r\n",
                "\t (N'16-02-2023',N'08:55:46',N'212 - DM - COCA COLA ZERO 33cl 0.62€',1,N'0,62', N'53,01'),\t \r\n",
                "\t (N'16-02-2023',N'08:55:52',N'206 - DM - PERRIER 33cl 0.73€',1,N'0,73', N'52,28'),\r\n",
                "\t (N'16-02-2023',N'08:55:56',N'212 - DM - COCA COLA ZERO 33cl 0.62€',1,N'0,62', N'51,66'),\t \r\n",
                "\t (N'16-02-2023',N'11:56:20',N'1 - MENU DU JOUR',1,N'7,43', N'44,23'),\r\n",
                "\t (N'16-02-2023',N'11:56:20',N'113 - VIVA 1/4 FRE',1,N'0,00', N'44,23')\r\n",
                "\t ;\r\n",
                ""
            ],
            "metadata": {
                "language": "sql",
                "azdata_cell_guid": "c7aa3b81-e529-4878-bb8d-7e52fd91f301",
                "tags": [
                    "hide_input"
                ]
            },
            "outputs": [
                {
                    "output_type": "display_data",
                    "data": {
                        "text/html": "Commands completed successfully."
                    },
                    "metadata": {}
                },
                {
                    "output_type": "display_data",
                    "data": {
                        "text/html": "(121 rows affected)"
                    },
                    "metadata": {}
                },
                {
                    "output_type": "display_data",
                    "data": {
                        "text/html": "Total execution time: 00:00:00.205"
                    },
                    "metadata": {}
                }
            ],
            "execution_count": 13
        },
        {
            "cell_type": "code",
            "source": [
                "/*Insert card rechardes*/\r\n",
                "INSERT INTO [portfolio].[cantine].[card_charges] ([Charge_date],[Amount]) VALUES\r\n",
                "\t (CONVERT(date, '21-11-2022', 103), 33.2),\r\n",
                "\t (CONVERT(date, '28-11-2022', 103), 50.0),\r\n",
                "\t (CONVERT(date, '19-12-2022', 103), 50.0),\r\n",
                "\t (CONVERT(date, '09-01-2023', 103), 50.0),\r\n",
                "\t (CONVERT(date, '19-01-2023', 103), 20.0),\r\n",
                "\t (CONVERT(date, '24-01-2023', 103), 50.0),\r\n",
                "\t (CONVERT(date, '29-01-2023', 103), 50.0),\r\n",
                "\t (CONVERT(date, '07-02-2023', 103), 50.0),\r\n",
                "\t (CONVERT(date, '15-02-2023', 103), 50.0);\r\n",
                "GO"
            ],
            "metadata": {
                "language": "sql",
                "azdata_cell_guid": "591725fa-1584-41bb-9eb3-4fea453b6394",
                "tags": [
                    "hide_input"
                ]
            },
            "outputs": [
                {
                    "output_type": "display_data",
                    "data": {
                        "text/html": "(9 rows affected)"
                    },
                    "metadata": {}
                },
                {
                    "output_type": "display_data",
                    "data": {
                        "text/html": "Total execution time: 00:00:00.082"
                    },
                    "metadata": {}
                }
            ],
            "execution_count": 14
        },
        {
            "cell_type": "code",
            "source": [
                "USE portfolio;\r\n",
                "GO\r\n",
                "\r\n",
                "INSERT INTO [portfolio].[cantine].[items] ([name], [unitPrice], [type])\r\n",
                "SELECT \r\n",
                "    DISTINCT [Product], CAST(REPLACE([Price],',','.') AS NUMERIC(5,2)), 'external'\r\n",
                "FROM [portfolio].[cantine].[canteen_status]\r\n",
                "WHERE [Product] NOT IN (SELECT [name] FROM [portfolio].[cantine].[items])\r\n",
                "ORDER BY [Product];\r\n",
                "\r\n",
                "-- Create a new table called '[consumption]' in schema '[cantine]'\r\n",
                "-- Drop the table if it already exists\r\n",
                "IF OBJECT_ID('[portfolio].[cantine].[consumption_log]', 'U') IS NOT NULL\r\n",
                "DROP TABLE [portfolio].[cantine].[consumption_log]\r\n",
                "GO\r\n",
                "-- Create the table in the specified schema\r\n",
                "CREATE TABLE [portfolio].[cantine].[consumption_log]\r\n",
                "(\r\n",
                "    [Id] INT Identity(1,1), -- Primary Key column\r\n",
                "\t[ConsumptionDate] DATE,\r\n",
                "\t[ConsumptionTime] TIME,\r\n",
                "\t[Product] varchar(50) COLLATE SQL_Latin1_General_CP1_CI_AS NULL, \r\n",
                "\t[Price] NUMERIC(5,2),\r\n",
                "\t[Saldo] NUMERIC(5,2)\r\n",
                ");\r\n",
                "GO\r\n",
                "\r\n",
                "INSERT INTO [portfolio].[cantine].[consumption_log] ([ConsumptionDate], [ConsumptionTime], [Product], [Price], [Saldo] )\r\n",
                "\tSELECT\r\n",
                "\t\tCONVERT(date, [Date], 103) as ConsumptionDate\r\n",
                "\t\t,CONVERT(time, [Time], 103) as ConsumptionTime\r\n",
                "        ,[Product]\r\n",
                "        ,CAST(REPLACE([Price],',','.') AS NUMERIC(5,2)) as Price\r\n",
                "\t\t,CAST(REPLACE([Saldo],',','.') AS NUMERIC(5,2)) as Saldo\r\n",
                "    FROM [portfolio].[cantine].[canteen_status];\r\n",
                "GO\r\n",
                "\r\n",
                "\r\n",
                "-- Create a new table called '[card_charges]' in schema '[dbo]'\r\n",
                "-- Drop the table if it already exists\r\n",
                "IF OBJECT_ID('[cantine].[card_charges]', 'U') IS NOT NULL\r\n",
                "DROP TABLE [cantine].[card_charges]\r\n",
                "GO\r\n",
                "-- Create the table in the specified schema\r\n",
                "CREATE TABLE [cantine].[card_charges]\r\n",
                "(\r\n",
                "\t[Id] INT Identity(1,1), -- Primary Key column\r\n",
                "\t[Charge_date] DATE,\r\n",
                "\t[Amount] NUMERIC(5,2)\r\n",
                "\t-- Specify more columns here\r\n",
                ");\r\n",
                "GO\r\n",
                ""
            ],
            "metadata": {
                "language": "sql",
                "azdata_cell_guid": "a0ab7c42-4e8a-43f5-a7dc-2d59cc2752ba",
                "tags": [
                    "hide_input"
                ]
            },
            "outputs": [
                {
                    "output_type": "display_data",
                    "data": {
                        "text/html": "Commands completed successfully."
                    },
                    "metadata": {}
                },
                {
                    "output_type": "display_data",
                    "data": {
                        "text/html": "(22 rows affected)"
                    },
                    "metadata": {}
                },
                {
                    "output_type": "display_data",
                    "data": {
                        "text/html": "Commands completed successfully."
                    },
                    "metadata": {}
                },
                {
                    "output_type": "display_data",
                    "data": {
                        "text/html": "(121 rows affected)"
                    },
                    "metadata": {}
                },
                {
                    "output_type": "display_data",
                    "data": {
                        "text/html": "Commands completed successfully."
                    },
                    "metadata": {}
                },
                {
                    "output_type": "display_data",
                    "data": {
                        "text/html": "Commands completed successfully."
                    },
                    "metadata": {}
                },
                {
                    "output_type": "display_data",
                    "data": {
                        "text/html": "Total execution time: 00:00:00.419"
                    },
                    "metadata": {}
                }
            ],
            "execution_count": 15
        },
        {
            "cell_type": "code",
            "source": [
                "/*List Items*/\r\n",
                "SELECT \r\n",
                "    [Id]\r\n",
                "    ,[name]\r\n",
                "    ,[unitPrice]\r\n",
                "    ,[type]\r\n",
                "FROM [portfolio].[cantine].[items];\r\n",
                "GO"
            ],
            "metadata": {
                "language": "sql",
                "azdata_cell_guid": "28c37d2e-33f7-4183-8cb2-8f98bc389542",
                "tags": [
                    "hide_input"
                ]
            },
            "outputs": [
                {
                    "output_type": "display_data",
                    "data": {
                        "text/html": "(22 rows affected)"
                    },
                    "metadata": {}
                },
                {
                    "output_type": "display_data",
                    "data": {
                        "text/html": "Total execution time: 00:00:00.066"
                    },
                    "metadata": {}
                },
                {
                    "output_type": "execute_result",
                    "metadata": {},
                    "execution_count": 16,
                    "data": {
                        "application/vnd.dataresource+json": {
                            "schema": {
                                "fields": [
                                    {
                                        "name": "Id"
                                    },
                                    {
                                        "name": "name"
                                    },
                                    {
                                        "name": "unitPrice"
                                    },
                                    {
                                        "name": "type"
                                    }
                                ]
                            },
                            "data": [
                                {
                                    "Id": "1",
                                    "name": "1 - MENU DU JOUR",
                                    "unitPrice": "7.43",
                                    "type": "external"
                                },
                                {
                                    "Id": "2",
                                    "name": "106 - COCA ZERO 1/4",
                                    "unitPrice": "0.53",
                                    "type": "external"
                                },
                                {
                                    "Id": "3",
                                    "name": "107 - ROSPORT 1/4",
                                    "unitPrice": "0.53",
                                    "type": "external"
                                },
                                {
                                    "Id": "4",
                                    "name": "113 - VIVA 1/4 FRE",
                                    "unitPrice": "0.00",
                                    "type": "external"
                                },
                                {
                                    "Id": "5",
                                    "name": "113 - VIVA 1/4 FREE",
                                    "unitPrice": "0.00",
                                    "type": "external"
                                },
                                {
                                    "Id": "6",
                                    "name": "113 - VIVA 1/4 FREE",
                                    "unitPrice": "7.43",
                                    "type": "external"
                                },
                                {
                                    "Id": "7",
                                    "name": "1206 - DM - PERRIER 33cl 0.73€",
                                    "unitPrice": "0.73",
                                    "type": "external"
                                },
                                {
                                    "Id": "8",
                                    "name": "2 - MENU DU CHEF",
                                    "unitPrice": "9.86",
                                    "type": "external"
                                },
                                {
                                    "Id": "9",
                                    "name": "206 - DM - PERRIER 33cl 0.73€",
                                    "unitPrice": "0.73",
                                    "type": "external"
                                },
                                {
                                    "Id": "10",
                                    "name": "209 - DM - MM ORANGE 33cl 0.86€",
                                    "unitPrice": "0.86",
                                    "type": "external"
                                },
                                {
                                    "Id": "11",
                                    "name": "212 - DM - COCA COLA ZERO 33cl 0.62€",
                                    "unitPrice": "0.62",
                                    "type": "external"
                                },
                                {
                                    "Id": "12",
                                    "name": "3 - MENU CLIN D'OEIL",
                                    "unitPrice": "11.53",
                                    "type": "external"
                                },
                                {
                                    "Id": "13",
                                    "name": "301 - Dallmayr Sweet 1 - 0.70€",
                                    "unitPrice": "0.70",
                                    "type": "external"
                                },
                                {
                                    "Id": "14",
                                    "name": "302 - Dallmayr Sweet 2 - 0.75€",
                                    "unitPrice": "0.75",
                                    "type": "external"
                                },
                                {
                                    "Id": "15",
                                    "name": "303 - Dallmayr Sweet 3 - 0.80€",
                                    "unitPrice": "0.80",
                                    "type": "external"
                                },
                                {
                                    "Id": "16",
                                    "name": "304 - Dallmayr Sweet 4 - 0.85€",
                                    "unitPrice": "0.85",
                                    "type": "external"
                                },
                                {
                                    "Id": "17",
                                    "name": "305 - Dallmayr Sweet 5 - 0.90€",
                                    "unitPrice": "0.90",
                                    "type": "external"
                                },
                                {
                                    "Id": "18",
                                    "name": "311 - DM Sandwich Maison - 1.80€",
                                    "unitPrice": "1.80",
                                    "type": "external"
                                },
                                {
                                    "Id": "19",
                                    "name": "312 - DM Traingles - 2.50€",
                                    "unitPrice": "2.50",
                                    "type": "external"
                                },
                                {
                                    "Id": "20",
                                    "name": "5 - MENU DE NOEL",
                                    "unitPrice": "12.93",
                                    "type": "external"
                                },
                                {
                                    "Id": "21",
                                    "name": "6 - MENU ACTION",
                                    "unitPrice": "10.57",
                                    "type": "external"
                                },
                                {
                                    "Id": "22",
                                    "name": "998 - Donnation ABC Canteen (CR 450)",
                                    "unitPrice": "3.00",
                                    "type": "external"
                                }
                            ]
                        },
                        "text/html": [
                            "<table>",
                            "<tr><th>Id</th><th>name</th><th>unitPrice</th><th>type</th></tr>",
                            "<tr><td>1</td><td>1 - MENU DU JOUR</td><td>7.43</td><td>external</td></tr>",
                            "<tr><td>2</td><td>106 - COCA ZERO 1/4</td><td>0.53</td><td>external</td></tr>",
                            "<tr><td>3</td><td>107 - ROSPORT 1/4</td><td>0.53</td><td>external</td></tr>",
                            "<tr><td>4</td><td>113 - VIVA 1/4 FRE</td><td>0.00</td><td>external</td></tr>",
                            "<tr><td>5</td><td>113 - VIVA 1/4 FREE</td><td>0.00</td><td>external</td></tr>",
                            "<tr><td>6</td><td>113 - VIVA 1/4 FREE</td><td>7.43</td><td>external</td></tr>",
                            "<tr><td>7</td><td>1206 - DM - PERRIER 33cl 0.73€</td><td>0.73</td><td>external</td></tr>",
                            "<tr><td>8</td><td>2 - MENU DU CHEF</td><td>9.86</td><td>external</td></tr>",
                            "<tr><td>9</td><td>206 - DM - PERRIER 33cl 0.73€</td><td>0.73</td><td>external</td></tr>",
                            "<tr><td>10</td><td>209 - DM - MM ORANGE 33cl 0.86€</td><td>0.86</td><td>external</td></tr>",
                            "<tr><td>11</td><td>212 - DM - COCA COLA ZERO 33cl 0.62€</td><td>0.62</td><td>external</td></tr>",
                            "<tr><td>12</td><td>3 - MENU CLIN D'OEIL</td><td>11.53</td><td>external</td></tr>",
                            "<tr><td>13</td><td>301 - Dallmayr Sweet 1 - 0.70€</td><td>0.70</td><td>external</td></tr>",
                            "<tr><td>14</td><td>302 - Dallmayr Sweet 2 - 0.75€</td><td>0.75</td><td>external</td></tr>",
                            "<tr><td>15</td><td>303 - Dallmayr Sweet 3 - 0.80€</td><td>0.80</td><td>external</td></tr>",
                            "<tr><td>16</td><td>304 - Dallmayr Sweet 4 - 0.85€</td><td>0.85</td><td>external</td></tr>",
                            "<tr><td>17</td><td>305 - Dallmayr Sweet 5 - 0.90€</td><td>0.90</td><td>external</td></tr>",
                            "<tr><td>18</td><td>311 - DM Sandwich Maison - 1.80€</td><td>1.80</td><td>external</td></tr>",
                            "<tr><td>19</td><td>312 - DM Traingles - 2.50€</td><td>2.50</td><td>external</td></tr>",
                            "<tr><td>20</td><td>5 - MENU DE NOEL</td><td>12.93</td><td>external</td></tr>",
                            "<tr><td>21</td><td>6 - MENU ACTION</td><td>10.57</td><td>external</td></tr>",
                            "<tr><td>22</td><td>998 - Donnation ABC Canteen (CR 450)</td><td>3.00</td><td>external</td></tr>",
                            "</table>"
                        ]
                    }
                }
            ],
            "execution_count": 16
        },
        {
            "cell_type": "code",
            "source": [
                "/*Calculate the integer and modulo price of a product.*/\r\n",
                "SELECT \r\n",
                "    [Id], [name], [unitPrice], [type]\r\n",
                "    ,CAST((unitPrice) AS INT) AS intUnitPrice\r\n",
                "    ,[unitPrice] % CASE\r\n",
                "                    WHEN CAST((unitPrice) AS INT) >0 THEN CAST((unitPrice) AS INT)\r\n",
                "                    ELSE 1\r\n",
                "                   END\r\n",
                "                   AS Modulo\r\n",
                "FROM [portfolio].[cantine].[items];\r\n",
                "GO"
            ],
            "metadata": {
                "language": "sql",
                "azdata_cell_guid": "39e7368a-b5be-4dfb-87c0-f6fe6a3089a7",
                "tags": [
                    "hide_input"
                ]
            },
            "outputs": [
                {
                    "output_type": "display_data",
                    "data": {
                        "text/html": "(22 rows affected)"
                    },
                    "metadata": {}
                },
                {
                    "output_type": "display_data",
                    "data": {
                        "text/html": "Total execution time: 00:00:00.074"
                    },
                    "metadata": {}
                },
                {
                    "output_type": "execute_result",
                    "metadata": {},
                    "execution_count": 17,
                    "data": {
                        "application/vnd.dataresource+json": {
                            "schema": {
                                "fields": [
                                    {
                                        "name": "Id"
                                    },
                                    {
                                        "name": "name"
                                    },
                                    {
                                        "name": "unitPrice"
                                    },
                                    {
                                        "name": "type"
                                    },
                                    {
                                        "name": "intUnitPrice"
                                    },
                                    {
                                        "name": "Modulo"
                                    }
                                ]
                            },
                            "data": [
                                {
                                    "Id": "1",
                                    "name": "1 - MENU DU JOUR",
                                    "unitPrice": "7.43",
                                    "type": "external",
                                    "intUnitPrice": "7",
                                    "Modulo": "0.43"
                                },
                                {
                                    "Id": "2",
                                    "name": "106 - COCA ZERO 1/4",
                                    "unitPrice": "0.53",
                                    "type": "external",
                                    "intUnitPrice": "0",
                                    "Modulo": "0.53"
                                },
                                {
                                    "Id": "3",
                                    "name": "107 - ROSPORT 1/4",
                                    "unitPrice": "0.53",
                                    "type": "external",
                                    "intUnitPrice": "0",
                                    "Modulo": "0.53"
                                },
                                {
                                    "Id": "4",
                                    "name": "113 - VIVA 1/4 FRE",
                                    "unitPrice": "0.00",
                                    "type": "external",
                                    "intUnitPrice": "0",
                                    "Modulo": "0.00"
                                },
                                {
                                    "Id": "5",
                                    "name": "113 - VIVA 1/4 FREE",
                                    "unitPrice": "0.00",
                                    "type": "external",
                                    "intUnitPrice": "0",
                                    "Modulo": "0.00"
                                },
                                {
                                    "Id": "6",
                                    "name": "113 - VIVA 1/4 FREE",
                                    "unitPrice": "7.43",
                                    "type": "external",
                                    "intUnitPrice": "7",
                                    "Modulo": "0.43"
                                },
                                {
                                    "Id": "7",
                                    "name": "1206 - DM - PERRIER 33cl 0.73€",
                                    "unitPrice": "0.73",
                                    "type": "external",
                                    "intUnitPrice": "0",
                                    "Modulo": "0.73"
                                },
                                {
                                    "Id": "8",
                                    "name": "2 - MENU DU CHEF",
                                    "unitPrice": "9.86",
                                    "type": "external",
                                    "intUnitPrice": "9",
                                    "Modulo": "0.86"
                                },
                                {
                                    "Id": "9",
                                    "name": "206 - DM - PERRIER 33cl 0.73€",
                                    "unitPrice": "0.73",
                                    "type": "external",
                                    "intUnitPrice": "0",
                                    "Modulo": "0.73"
                                },
                                {
                                    "Id": "10",
                                    "name": "209 - DM - MM ORANGE 33cl 0.86€",
                                    "unitPrice": "0.86",
                                    "type": "external",
                                    "intUnitPrice": "0",
                                    "Modulo": "0.86"
                                },
                                {
                                    "Id": "11",
                                    "name": "212 - DM - COCA COLA ZERO 33cl 0.62€",
                                    "unitPrice": "0.62",
                                    "type": "external",
                                    "intUnitPrice": "0",
                                    "Modulo": "0.62"
                                },
                                {
                                    "Id": "12",
                                    "name": "3 - MENU CLIN D'OEIL",
                                    "unitPrice": "11.53",
                                    "type": "external",
                                    "intUnitPrice": "11",
                                    "Modulo": "0.53"
                                },
                                {
                                    "Id": "13",
                                    "name": "301 - Dallmayr Sweet 1 - 0.70€",
                                    "unitPrice": "0.70",
                                    "type": "external",
                                    "intUnitPrice": "0",
                                    "Modulo": "0.70"
                                },
                                {
                                    "Id": "14",
                                    "name": "302 - Dallmayr Sweet 2 - 0.75€",
                                    "unitPrice": "0.75",
                                    "type": "external",
                                    "intUnitPrice": "0",
                                    "Modulo": "0.75"
                                },
                                {
                                    "Id": "15",
                                    "name": "303 - Dallmayr Sweet 3 - 0.80€",
                                    "unitPrice": "0.80",
                                    "type": "external",
                                    "intUnitPrice": "0",
                                    "Modulo": "0.80"
                                },
                                {
                                    "Id": "16",
                                    "name": "304 - Dallmayr Sweet 4 - 0.85€",
                                    "unitPrice": "0.85",
                                    "type": "external",
                                    "intUnitPrice": "0",
                                    "Modulo": "0.85"
                                },
                                {
                                    "Id": "17",
                                    "name": "305 - Dallmayr Sweet 5 - 0.90€",
                                    "unitPrice": "0.90",
                                    "type": "external",
                                    "intUnitPrice": "0",
                                    "Modulo": "0.90"
                                },
                                {
                                    "Id": "18",
                                    "name": "311 - DM Sandwich Maison - 1.80€",
                                    "unitPrice": "1.80",
                                    "type": "external",
                                    "intUnitPrice": "1",
                                    "Modulo": "0.80"
                                },
                                {
                                    "Id": "19",
                                    "name": "312 - DM Traingles - 2.50€",
                                    "unitPrice": "2.50",
                                    "type": "external",
                                    "intUnitPrice": "2",
                                    "Modulo": "0.50"
                                },
                                {
                                    "Id": "20",
                                    "name": "5 - MENU DE NOEL",
                                    "unitPrice": "12.93",
                                    "type": "external",
                                    "intUnitPrice": "12",
                                    "Modulo": "0.93"
                                },
                                {
                                    "Id": "21",
                                    "name": "6 - MENU ACTION",
                                    "unitPrice": "10.57",
                                    "type": "external",
                                    "intUnitPrice": "10",
                                    "Modulo": "0.57"
                                },
                                {
                                    "Id": "22",
                                    "name": "998 - Donnation ABC Canteen (CR 450)",
                                    "unitPrice": "3.00",
                                    "type": "external",
                                    "intUnitPrice": "3",
                                    "Modulo": "0.00"
                                }
                            ]
                        },
                        "text/html": [
                            "<table>",
                            "<tr><th>Id</th><th>name</th><th>unitPrice</th><th>type</th><th>intUnitPrice</th><th>Modulo</th></tr>",
                            "<tr><td>1</td><td>1 - MENU DU JOUR</td><td>7.43</td><td>external</td><td>7</td><td>0.43</td></tr>",
                            "<tr><td>2</td><td>106 - COCA ZERO 1/4</td><td>0.53</td><td>external</td><td>0</td><td>0.53</td></tr>",
                            "<tr><td>3</td><td>107 - ROSPORT 1/4</td><td>0.53</td><td>external</td><td>0</td><td>0.53</td></tr>",
                            "<tr><td>4</td><td>113 - VIVA 1/4 FRE</td><td>0.00</td><td>external</td><td>0</td><td>0.00</td></tr>",
                            "<tr><td>5</td><td>113 - VIVA 1/4 FREE</td><td>0.00</td><td>external</td><td>0</td><td>0.00</td></tr>",
                            "<tr><td>6</td><td>113 - VIVA 1/4 FREE</td><td>7.43</td><td>external</td><td>7</td><td>0.43</td></tr>",
                            "<tr><td>7</td><td>1206 - DM - PERRIER 33cl 0.73€</td><td>0.73</td><td>external</td><td>0</td><td>0.73</td></tr>",
                            "<tr><td>8</td><td>2 - MENU DU CHEF</td><td>9.86</td><td>external</td><td>9</td><td>0.86</td></tr>",
                            "<tr><td>9</td><td>206 - DM - PERRIER 33cl 0.73€</td><td>0.73</td><td>external</td><td>0</td><td>0.73</td></tr>",
                            "<tr><td>10</td><td>209 - DM - MM ORANGE 33cl 0.86€</td><td>0.86</td><td>external</td><td>0</td><td>0.86</td></tr>",
                            "<tr><td>11</td><td>212 - DM - COCA COLA ZERO 33cl 0.62€</td><td>0.62</td><td>external</td><td>0</td><td>0.62</td></tr>",
                            "<tr><td>12</td><td>3 - MENU CLIN D'OEIL</td><td>11.53</td><td>external</td><td>11</td><td>0.53</td></tr>",
                            "<tr><td>13</td><td>301 - Dallmayr Sweet 1 - 0.70€</td><td>0.70</td><td>external</td><td>0</td><td>0.70</td></tr>",
                            "<tr><td>14</td><td>302 - Dallmayr Sweet 2 - 0.75€</td><td>0.75</td><td>external</td><td>0</td><td>0.75</td></tr>",
                            "<tr><td>15</td><td>303 - Dallmayr Sweet 3 - 0.80€</td><td>0.80</td><td>external</td><td>0</td><td>0.80</td></tr>",
                            "<tr><td>16</td><td>304 - Dallmayr Sweet 4 - 0.85€</td><td>0.85</td><td>external</td><td>0</td><td>0.85</td></tr>",
                            "<tr><td>17</td><td>305 - Dallmayr Sweet 5 - 0.90€</td><td>0.90</td><td>external</td><td>0</td><td>0.90</td></tr>",
                            "<tr><td>18</td><td>311 - DM Sandwich Maison - 1.80€</td><td>1.80</td><td>external</td><td>1</td><td>0.80</td></tr>",
                            "<tr><td>19</td><td>312 - DM Traingles - 2.50€</td><td>2.50</td><td>external</td><td>2</td><td>0.50</td></tr>",
                            "<tr><td>20</td><td>5 - MENU DE NOEL</td><td>12.93</td><td>external</td><td>12</td><td>0.93</td></tr>",
                            "<tr><td>21</td><td>6 - MENU ACTION</td><td>10.57</td><td>external</td><td>10</td><td>0.57</td></tr>",
                            "<tr><td>22</td><td>998 - Donnation ABC Canteen (CR 450)</td><td>3.00</td><td>external</td><td>3</td><td>0.00</td></tr>",
                            "</table>"
                        ]
                    }
                }
            ],
            "execution_count": 17
        },
        {
            "cell_type": "code",
            "source": [
                "/*Calculate items 'combo' prices*/\r\n",
                "DECLARE @MyCounter INT;\r\n",
                "SET @MyCounter = 10;\r\n",
                "\r\n",
                "WITH RecursivePrices (ctn, name_one, name_two, price_one, price_two, combo_price, combo_price_multiplied) AS\r\n",
                "(\r\n",
                "    SELECT\r\n",
                "        @MyCounter as ctn\r\n",
                "        ,t2.name as name_one\r\n",
                "        ,t1.name as name_two\r\n",
                "        ,t1.unitPrice as price_one\r\n",
                "        ,t2.unitPrice as price_two\r\n",
                "        ,(t1.unitPrice + t2.unitPrice) as combo_price\r\n",
                "        ,(t1.unitPrice + t2.unitPrice)*@MyCounter as combo_price_multiplied\r\n",
                "    FROM\r\n",
                "        [portfolio].[cantine].[items] t1\r\n",
                "    CROSS JOIN [portfolio].[cantine].[items] t2\r\n",
                ")\r\n",
                "SELECT ctn, name_one, name_two, price_one, price_two, combo_price, combo_price_multiplied FROM RecursivePrices\r\n",
                "WHERE (combo_price_multiplied % 0.2 = 0) \r\n",
                "  AND price_one <> '0.00'\r\n",
                "  AND price_two <> '0.00'\r\n",
                "ORDER BY combo_price DESC;\r\n",
                "GO"
            ],
            "metadata": {
                "azdata_cell_guid": "7af3dfa4-b56d-46e8-9a37-a1a141187833",
                "language": "sql",
                "tags": [
                    "hide_input"
                ]
            },
            "outputs": [
                {
                    "output_type": "display_data",
                    "data": {
                        "text/html": "(202 rows affected)"
                    },
                    "metadata": {}
                },
                {
                    "output_type": "display_data",
                    "data": {
                        "text/html": "Total execution time: 00:00:00.148"
                    },
                    "metadata": {}
                },
                {
                    "output_type": "execute_result",
                    "metadata": {},
                    "execution_count": 18,
                    "data": {
                        "application/vnd.dataresource+json": {
                            "schema": {
                                "fields": [
                                    {
                                        "name": "ctn"
                                    },
                                    {
                                        "name": "name_one"
                                    },
                                    {
                                        "name": "name_two"
                                    },
                                    {
                                        "name": "price_one"
                                    },
                                    {
                                        "name": "price_two"
                                    },
                                    {
                                        "name": "combo_price"
                                    },
                                    {
                                        "name": "combo_price_multiplied"
                                    }
                                ]
                            },
                            "data": [
                                {
                                    "ctn": "10",
                                    "name_one": "5 - MENU DE NOEL",
                                    "name_two": "5 - MENU DE NOEL",
                                    "price_one": "12.93",
                                    "price_two": "12.93",
                                    "combo_price": "25.86",
                                    "combo_price_multiplied": "258.60"
                                },
                                {
                                    "ctn": "10",
                                    "name_one": "5 - MENU DE NOEL",
                                    "name_two": "3 - MENU CLIN D'OEIL",
                                    "price_one": "11.53",
                                    "price_two": "12.93",
                                    "combo_price": "24.46",
                                    "combo_price_multiplied": "244.60"
                                },
                                {
                                    "ctn": "10",
                                    "name_one": "3 - MENU CLIN D'OEIL",
                                    "name_two": "5 - MENU DE NOEL",
                                    "price_one": "12.93",
                                    "price_two": "11.53",
                                    "combo_price": "24.46",
                                    "combo_price_multiplied": "244.60"
                                },
                                {
                                    "ctn": "10",
                                    "name_one": "5 - MENU DE NOEL",
                                    "name_two": "6 - MENU ACTION",
                                    "price_one": "10.57",
                                    "price_two": "12.93",
                                    "combo_price": "23.50",
                                    "combo_price_multiplied": "235.00"
                                },
                                {
                                    "ctn": "10",
                                    "name_one": "6 - MENU ACTION",
                                    "name_two": "5 - MENU DE NOEL",
                                    "price_one": "12.93",
                                    "price_two": "10.57",
                                    "combo_price": "23.50",
                                    "combo_price_multiplied": "235.00"
                                },
                                {
                                    "ctn": "10",
                                    "name_one": "3 - MENU CLIN D'OEIL",
                                    "name_two": "3 - MENU CLIN D'OEIL",
                                    "price_one": "11.53",
                                    "price_two": "11.53",
                                    "combo_price": "23.06",
                                    "combo_price_multiplied": "230.60"
                                },
                                {
                                    "ctn": "10",
                                    "name_one": "3 - MENU CLIN D'OEIL",
                                    "name_two": "6 - MENU ACTION",
                                    "price_one": "10.57",
                                    "price_two": "11.53",
                                    "combo_price": "22.10",
                                    "combo_price_multiplied": "221.00"
                                },
                                {
                                    "ctn": "10",
                                    "name_one": "6 - MENU ACTION",
                                    "name_two": "3 - MENU CLIN D'OEIL",
                                    "price_one": "11.53",
                                    "price_two": "10.57",
                                    "combo_price": "22.10",
                                    "combo_price_multiplied": "221.00"
                                },
                                {
                                    "ctn": "10",
                                    "name_one": "6 - MENU ACTION",
                                    "name_two": "6 - MENU ACTION",
                                    "price_one": "10.57",
                                    "price_two": "10.57",
                                    "combo_price": "21.14",
                                    "combo_price_multiplied": "211.40"
                                },
                                {
                                    "ctn": "10",
                                    "name_one": "5 - MENU DE NOEL",
                                    "name_two": "113 - VIVA 1/4 FREE",
                                    "price_one": "7.43",
                                    "price_two": "12.93",
                                    "combo_price": "20.36",
                                    "combo_price_multiplied": "203.60"
                                },
                                {
                                    "ctn": "10",
                                    "name_one": "5 - MENU DE NOEL",
                                    "name_two": "1 - MENU DU JOUR",
                                    "price_one": "7.43",
                                    "price_two": "12.93",
                                    "combo_price": "20.36",
                                    "combo_price_multiplied": "203.60"
                                },
                                {
                                    "ctn": "10",
                                    "name_one": "1 - MENU DU JOUR",
                                    "name_two": "5 - MENU DE NOEL",
                                    "price_one": "12.93",
                                    "price_two": "7.43",
                                    "combo_price": "20.36",
                                    "combo_price_multiplied": "203.60"
                                },
                                {
                                    "ctn": "10",
                                    "name_one": "113 - VIVA 1/4 FREE",
                                    "name_two": "5 - MENU DE NOEL",
                                    "price_one": "12.93",
                                    "price_two": "7.43",
                                    "combo_price": "20.36",
                                    "combo_price_multiplied": "203.60"
                                },
                                {
                                    "ctn": "10",
                                    "name_one": "2 - MENU DU CHEF",
                                    "name_two": "2 - MENU DU CHEF",
                                    "price_one": "9.86",
                                    "price_two": "9.86",
                                    "combo_price": "19.72",
                                    "combo_price_multiplied": "197.20"
                                },
                                {
                                    "ctn": "10",
                                    "name_one": "1 - MENU DU JOUR",
                                    "name_two": "3 - MENU CLIN D'OEIL",
                                    "price_one": "11.53",
                                    "price_two": "7.43",
                                    "combo_price": "18.96",
                                    "combo_price_multiplied": "189.60"
                                },
                                {
                                    "ctn": "10",
                                    "name_one": "113 - VIVA 1/4 FREE",
                                    "name_two": "3 - MENU CLIN D'OEIL",
                                    "price_one": "11.53",
                                    "price_two": "7.43",
                                    "combo_price": "18.96",
                                    "combo_price_multiplied": "189.60"
                                },
                                {
                                    "ctn": "10",
                                    "name_one": "3 - MENU CLIN D'OEIL",
                                    "name_two": "113 - VIVA 1/4 FREE",
                                    "price_one": "7.43",
                                    "price_two": "11.53",
                                    "combo_price": "18.96",
                                    "combo_price_multiplied": "189.60"
                                },
                                {
                                    "ctn": "10",
                                    "name_one": "3 - MENU CLIN D'OEIL",
                                    "name_two": "1 - MENU DU JOUR",
                                    "price_one": "7.43",
                                    "price_two": "11.53",
                                    "combo_price": "18.96",
                                    "combo_price_multiplied": "189.60"
                                },
                                {
                                    "ctn": "10",
                                    "name_one": "1 - MENU DU JOUR",
                                    "name_two": "6 - MENU ACTION",
                                    "price_one": "10.57",
                                    "price_two": "7.43",
                                    "combo_price": "18.00",
                                    "combo_price_multiplied": "180.00"
                                },
                                {
                                    "ctn": "10",
                                    "name_one": "113 - VIVA 1/4 FREE",
                                    "name_two": "6 - MENU ACTION",
                                    "price_one": "10.57",
                                    "price_two": "7.43",
                                    "combo_price": "18.00",
                                    "combo_price_multiplied": "180.00"
                                },
                                {
                                    "ctn": "10",
                                    "name_one": "6 - MENU ACTION",
                                    "name_two": "113 - VIVA 1/4 FREE",
                                    "price_one": "7.43",
                                    "price_two": "10.57",
                                    "combo_price": "18.00",
                                    "combo_price_multiplied": "180.00"
                                },
                                {
                                    "ctn": "10",
                                    "name_one": "6 - MENU ACTION",
                                    "name_two": "1 - MENU DU JOUR",
                                    "price_one": "7.43",
                                    "price_two": "10.57",
                                    "combo_price": "18.00",
                                    "combo_price_multiplied": "180.00"
                                },
                                {
                                    "ctn": "10",
                                    "name_one": "1 - MENU DU JOUR",
                                    "name_two": "1 - MENU DU JOUR",
                                    "price_one": "7.43",
                                    "price_two": "7.43",
                                    "combo_price": "14.86",
                                    "combo_price_multiplied": "148.60"
                                },
                                {
                                    "ctn": "10",
                                    "name_one": "1 - MENU DU JOUR",
                                    "name_two": "113 - VIVA 1/4 FREE",
                                    "price_one": "7.43",
                                    "price_two": "7.43",
                                    "combo_price": "14.86",
                                    "combo_price_multiplied": "148.60"
                                },
                                {
                                    "ctn": "10",
                                    "name_one": "113 - VIVA 1/4 FREE",
                                    "name_two": "113 - VIVA 1/4 FREE",
                                    "price_one": "7.43",
                                    "price_two": "7.43",
                                    "combo_price": "14.86",
                                    "combo_price_multiplied": "148.60"
                                },
                                {
                                    "ctn": "10",
                                    "name_one": "113 - VIVA 1/4 FREE",
                                    "name_two": "1 - MENU DU JOUR",
                                    "price_one": "7.43",
                                    "price_two": "7.43",
                                    "combo_price": "14.86",
                                    "combo_price_multiplied": "148.60"
                                },
                                {
                                    "ctn": "10",
                                    "name_one": "304 - Dallmayr Sweet 4 - 0.85€",
                                    "name_two": "5 - MENU DE NOEL",
                                    "price_one": "12.93",
                                    "price_two": "0.85",
                                    "combo_price": "13.78",
                                    "combo_price_multiplied": "137.80"
                                },
                                {
                                    "ctn": "10",
                                    "name_one": "5 - MENU DE NOEL",
                                    "name_two": "304 - Dallmayr Sweet 4 - 0.85€",
                                    "price_one": "0.85",
                                    "price_two": "12.93",
                                    "combo_price": "13.78",
                                    "combo_price_multiplied": "137.80"
                                },
                                {
                                    "ctn": "10",
                                    "name_one": "5 - MENU DE NOEL",
                                    "name_two": "302 - Dallmayr Sweet 2 - 0.75€",
                                    "price_one": "0.75",
                                    "price_two": "12.93",
                                    "combo_price": "13.68",
                                    "combo_price_multiplied": "136.80"
                                },
                                {
                                    "ctn": "10",
                                    "name_one": "302 - Dallmayr Sweet 2 - 0.75€",
                                    "name_two": "5 - MENU DE NOEL",
                                    "price_one": "12.93",
                                    "price_two": "0.75",
                                    "combo_price": "13.68",
                                    "combo_price_multiplied": "136.80"
                                },
                                {
                                    "ctn": "10",
                                    "name_one": "1206 - DM - PERRIER 33cl 0.73€",
                                    "name_two": "5 - MENU DE NOEL",
                                    "price_one": "12.93",
                                    "price_two": "0.73",
                                    "combo_price": "13.66",
                                    "combo_price_multiplied": "136.60"
                                },
                                {
                                    "ctn": "10",
                                    "name_one": "206 - DM - PERRIER 33cl 0.73€",
                                    "name_two": "5 - MENU DE NOEL",
                                    "price_one": "12.93",
                                    "price_two": "0.73",
                                    "combo_price": "13.66",
                                    "combo_price_multiplied": "136.60"
                                },
                                {
                                    "ctn": "10",
                                    "name_one": "5 - MENU DE NOEL",
                                    "name_two": "1206 - DM - PERRIER 33cl 0.73€",
                                    "price_one": "0.73",
                                    "price_two": "12.93",
                                    "combo_price": "13.66",
                                    "combo_price_multiplied": "136.60"
                                },
                                {
                                    "ctn": "10",
                                    "name_one": "5 - MENU DE NOEL",
                                    "name_two": "206 - DM - PERRIER 33cl 0.73€",
                                    "price_one": "0.73",
                                    "price_two": "12.93",
                                    "combo_price": "13.66",
                                    "combo_price_multiplied": "136.60"
                                },
                                {
                                    "ctn": "10",
                                    "name_one": "5 - MENU DE NOEL",
                                    "name_two": "106 - COCA ZERO 1/4",
                                    "price_one": "0.53",
                                    "price_two": "12.93",
                                    "combo_price": "13.46",
                                    "combo_price_multiplied": "134.60"
                                },
                                {
                                    "ctn": "10",
                                    "name_one": "5 - MENU DE NOEL",
                                    "name_two": "107 - ROSPORT 1/4",
                                    "price_one": "0.53",
                                    "price_two": "12.93",
                                    "combo_price": "13.46",
                                    "combo_price_multiplied": "134.60"
                                },
                                {
                                    "ctn": "10",
                                    "name_one": "107 - ROSPORT 1/4",
                                    "name_two": "5 - MENU DE NOEL",
                                    "price_one": "12.93",
                                    "price_two": "0.53",
                                    "combo_price": "13.46",
                                    "combo_price_multiplied": "134.60"
                                },
                                {
                                    "ctn": "10",
                                    "name_one": "106 - COCA ZERO 1/4",
                                    "name_two": "5 - MENU DE NOEL",
                                    "price_one": "12.93",
                                    "price_two": "0.53",
                                    "combo_price": "13.46",
                                    "combo_price_multiplied": "134.60"
                                },
                                {
                                    "ctn": "10",
                                    "name_one": "2 - MENU DU CHEF",
                                    "name_two": "998 - Donnation ABC Canteen (CR 450)",
                                    "price_one": "3.00",
                                    "price_two": "9.86",
                                    "combo_price": "12.86",
                                    "combo_price_multiplied": "128.60"
                                },
                                {
                                    "ctn": "10",
                                    "name_one": "998 - Donnation ABC Canteen (CR 450)",
                                    "name_two": "2 - MENU DU CHEF",
                                    "price_one": "9.86",
                                    "price_two": "3.00",
                                    "combo_price": "12.86",
                                    "combo_price_multiplied": "128.60"
                                },
                                {
                                    "ctn": "10",
                                    "name_one": "304 - Dallmayr Sweet 4 - 0.85€",
                                    "name_two": "3 - MENU CLIN D'OEIL",
                                    "price_one": "11.53",
                                    "price_two": "0.85",
                                    "combo_price": "12.38",
                                    "combo_price_multiplied": "123.80"
                                },
                                {
                                    "ctn": "10",
                                    "name_one": "3 - MENU CLIN D'OEIL",
                                    "name_two": "304 - Dallmayr Sweet 4 - 0.85€",
                                    "price_one": "0.85",
                                    "price_two": "11.53",
                                    "combo_price": "12.38",
                                    "combo_price_multiplied": "123.80"
                                },
                                {
                                    "ctn": "10",
                                    "name_one": "2 - MENU DU CHEF",
                                    "name_two": "312 - DM Traingles - 2.50€",
                                    "price_one": "2.50",
                                    "price_two": "9.86",
                                    "combo_price": "12.36",
                                    "combo_price_multiplied": "123.60"
                                },
                                {
                                    "ctn": "10",
                                    "name_one": "312 - DM Traingles - 2.50€",
                                    "name_two": "2 - MENU DU CHEF",
                                    "price_one": "9.86",
                                    "price_two": "2.50",
                                    "combo_price": "12.36",
                                    "combo_price_multiplied": "123.60"
                                },
                                {
                                    "ctn": "10",
                                    "name_one": "3 - MENU CLIN D'OEIL",
                                    "name_two": "302 - Dallmayr Sweet 2 - 0.75€",
                                    "price_one": "0.75",
                                    "price_two": "11.53",
                                    "combo_price": "12.28",
                                    "combo_price_multiplied": "122.80"
                                },
                                {
                                    "ctn": "10",
                                    "name_one": "302 - Dallmayr Sweet 2 - 0.75€",
                                    "name_two": "3 - MENU CLIN D'OEIL",
                                    "price_one": "11.53",
                                    "price_two": "0.75",
                                    "combo_price": "12.28",
                                    "combo_price_multiplied": "122.80"
                                },
                                {
                                    "ctn": "10",
                                    "name_one": "3 - MENU CLIN D'OEIL",
                                    "name_two": "1206 - DM - PERRIER 33cl 0.73€",
                                    "price_one": "0.73",
                                    "price_two": "11.53",
                                    "combo_price": "12.26",
                                    "combo_price_multiplied": "122.60"
                                },
                                {
                                    "ctn": "10",
                                    "name_one": "3 - MENU CLIN D'OEIL",
                                    "name_two": "206 - DM - PERRIER 33cl 0.73€",
                                    "price_one": "0.73",
                                    "price_two": "11.53",
                                    "combo_price": "12.26",
                                    "combo_price_multiplied": "122.60"
                                },
                                {
                                    "ctn": "10",
                                    "name_one": "206 - DM - PERRIER 33cl 0.73€",
                                    "name_two": "3 - MENU CLIN D'OEIL",
                                    "price_one": "11.53",
                                    "price_two": "0.73",
                                    "combo_price": "12.26",
                                    "combo_price_multiplied": "122.60"
                                },
                                {
                                    "ctn": "10",
                                    "name_one": "1206 - DM - PERRIER 33cl 0.73€",
                                    "name_two": "3 - MENU CLIN D'OEIL",
                                    "price_one": "11.53",
                                    "price_two": "0.73",
                                    "combo_price": "12.26",
                                    "combo_price_multiplied": "122.60"
                                },
                                {
                                    "ctn": "10",
                                    "name_one": "107 - ROSPORT 1/4",
                                    "name_two": "3 - MENU CLIN D'OEIL",
                                    "price_one": "11.53",
                                    "price_two": "0.53",
                                    "combo_price": "12.06",
                                    "combo_price_multiplied": "120.60"
                                },
                                {
                                    "ctn": "10",
                                    "name_one": "106 - COCA ZERO 1/4",
                                    "name_two": "3 - MENU CLIN D'OEIL",
                                    "price_one": "11.53",
                                    "price_two": "0.53",
                                    "combo_price": "12.06",
                                    "combo_price_multiplied": "120.60"
                                },
                                {
                                    "ctn": "10",
                                    "name_one": "3 - MENU CLIN D'OEIL",
                                    "name_two": "106 - COCA ZERO 1/4",
                                    "price_one": "0.53",
                                    "price_two": "11.53",
                                    "combo_price": "12.06",
                                    "combo_price_multiplied": "120.60"
                                },
                                {
                                    "ctn": "10",
                                    "name_one": "3 - MENU CLIN D'OEIL",
                                    "name_two": "107 - ROSPORT 1/4",
                                    "price_one": "0.53",
                                    "price_two": "11.53",
                                    "combo_price": "12.06",
                                    "combo_price_multiplied": "120.60"
                                },
                                {
                                    "ctn": "10",
                                    "name_one": "2 - MENU DU CHEF",
                                    "name_two": "311 - DM Sandwich Maison - 1.80€",
                                    "price_one": "1.80",
                                    "price_two": "9.86",
                                    "combo_price": "11.66",
                                    "combo_price_multiplied": "116.60"
                                },
                                {
                                    "ctn": "10",
                                    "name_one": "311 - DM Sandwich Maison - 1.80€",
                                    "name_two": "2 - MENU DU CHEF",
                                    "price_one": "9.86",
                                    "price_two": "1.80",
                                    "combo_price": "11.66",
                                    "combo_price_multiplied": "116.60"
                                },
                                {
                                    "ctn": "10",
                                    "name_one": "6 - MENU ACTION",
                                    "name_two": "304 - Dallmayr Sweet 4 - 0.85€",
                                    "price_one": "0.85",
                                    "price_two": "10.57",
                                    "combo_price": "11.42",
                                    "combo_price_multiplied": "114.20"
                                },
                                {
                                    "ctn": "10",
                                    "name_one": "304 - Dallmayr Sweet 4 - 0.85€",
                                    "name_two": "6 - MENU ACTION",
                                    "price_one": "10.57",
                                    "price_two": "0.85",
                                    "combo_price": "11.42",
                                    "combo_price_multiplied": "114.20"
                                },
                                {
                                    "ctn": "10",
                                    "name_one": "302 - Dallmayr Sweet 2 - 0.75€",
                                    "name_two": "6 - MENU ACTION",
                                    "price_one": "10.57",
                                    "price_two": "0.75",
                                    "combo_price": "11.32",
                                    "combo_price_multiplied": "113.20"
                                },
                                {
                                    "ctn": "10",
                                    "name_one": "6 - MENU ACTION",
                                    "name_two": "302 - Dallmayr Sweet 2 - 0.75€",
                                    "price_one": "0.75",
                                    "price_two": "10.57",
                                    "combo_price": "11.32",
                                    "combo_price_multiplied": "113.20"
                                },
                                {
                                    "ctn": "10",
                                    "name_one": "6 - MENU ACTION",
                                    "name_two": "1206 - DM - PERRIER 33cl 0.73€",
                                    "price_one": "0.73",
                                    "price_two": "10.57",
                                    "combo_price": "11.30",
                                    "combo_price_multiplied": "113.00"
                                },
                                {
                                    "ctn": "10",
                                    "name_one": "6 - MENU ACTION",
                                    "name_two": "206 - DM - PERRIER 33cl 0.73€",
                                    "price_one": "0.73",
                                    "price_two": "10.57",
                                    "combo_price": "11.30",
                                    "combo_price_multiplied": "113.00"
                                },
                                {
                                    "ctn": "10",
                                    "name_one": "206 - DM - PERRIER 33cl 0.73€",
                                    "name_two": "6 - MENU ACTION",
                                    "price_one": "10.57",
                                    "price_two": "0.73",
                                    "combo_price": "11.30",
                                    "combo_price_multiplied": "113.00"
                                },
                                {
                                    "ctn": "10",
                                    "name_one": "1206 - DM - PERRIER 33cl 0.73€",
                                    "name_two": "6 - MENU ACTION",
                                    "price_one": "10.57",
                                    "price_two": "0.73",
                                    "combo_price": "11.30",
                                    "combo_price_multiplied": "113.00"
                                },
                                {
                                    "ctn": "10",
                                    "name_one": "106 - COCA ZERO 1/4",
                                    "name_two": "6 - MENU ACTION",
                                    "price_one": "10.57",
                                    "price_two": "0.53",
                                    "combo_price": "11.10",
                                    "combo_price_multiplied": "111.00"
                                },
                                {
                                    "ctn": "10",
                                    "name_one": "107 - ROSPORT 1/4",
                                    "name_two": "6 - MENU ACTION",
                                    "price_one": "10.57",
                                    "price_two": "0.53",
                                    "combo_price": "11.10",
                                    "combo_price_multiplied": "111.00"
                                },
                                {
                                    "ctn": "10",
                                    "name_one": "6 - MENU ACTION",
                                    "name_two": "106 - COCA ZERO 1/4",
                                    "price_one": "0.53",
                                    "price_two": "10.57",
                                    "combo_price": "11.10",
                                    "combo_price_multiplied": "111.00"
                                },
                                {
                                    "ctn": "10",
                                    "name_one": "6 - MENU ACTION",
                                    "name_two": "107 - ROSPORT 1/4",
                                    "price_one": "0.53",
                                    "price_two": "10.57",
                                    "combo_price": "11.10",
                                    "combo_price_multiplied": "111.00"
                                },
                                {
                                    "ctn": "10",
                                    "name_one": "2 - MENU DU CHEF",
                                    "name_two": "305 - Dallmayr Sweet 5 - 0.90€",
                                    "price_one": "0.90",
                                    "price_two": "9.86",
                                    "combo_price": "10.76",
                                    "combo_price_multiplied": "107.60"
                                },
                                {
                                    "ctn": "10",
                                    "name_one": "305 - Dallmayr Sweet 5 - 0.90€",
                                    "name_two": "2 - MENU DU CHEF",
                                    "price_one": "9.86",
                                    "price_two": "0.90",
                                    "combo_price": "10.76",
                                    "combo_price_multiplied": "107.60"
                                },
                                {
                                    "ctn": "10",
                                    "name_one": "209 - DM - MM ORANGE 33cl 0.86€",
                                    "name_two": "2 - MENU DU CHEF",
                                    "price_one": "9.86",
                                    "price_two": "0.86",
                                    "combo_price": "10.72",
                                    "combo_price_multiplied": "107.20"
                                },
                                {
                                    "ctn": "10",
                                    "name_one": "2 - MENU DU CHEF",
                                    "name_two": "209 - DM - MM ORANGE 33cl 0.86€",
                                    "price_one": "0.86",
                                    "price_two": "9.86",
                                    "combo_price": "10.72",
                                    "combo_price_multiplied": "107.20"
                                },
                                {
                                    "ctn": "10",
                                    "name_one": "2 - MENU DU CHEF",
                                    "name_two": "303 - Dallmayr Sweet 3 - 0.80€",
                                    "price_one": "0.80",
                                    "price_two": "9.86",
                                    "combo_price": "10.66",
                                    "combo_price_multiplied": "106.60"
                                },
                                {
                                    "ctn": "10",
                                    "name_one": "303 - Dallmayr Sweet 3 - 0.80€",
                                    "name_two": "2 - MENU DU CHEF",
                                    "price_one": "9.86",
                                    "price_two": "0.80",
                                    "combo_price": "10.66",
                                    "combo_price_multiplied": "106.60"
                                },
                                {
                                    "ctn": "10",
                                    "name_one": "301 - Dallmayr Sweet 1 - 0.70€",
                                    "name_two": "2 - MENU DU CHEF",
                                    "price_one": "9.86",
                                    "price_two": "0.70",
                                    "combo_price": "10.56",
                                    "combo_price_multiplied": "105.60"
                                },
                                {
                                    "ctn": "10",
                                    "name_one": "2 - MENU DU CHEF",
                                    "name_two": "301 - Dallmayr Sweet 1 - 0.70€",
                                    "price_one": "0.70",
                                    "price_two": "9.86",
                                    "combo_price": "10.56",
                                    "combo_price_multiplied": "105.60"
                                },
                                {
                                    "ctn": "10",
                                    "name_one": "2 - MENU DU CHEF",
                                    "name_two": "212 - DM - COCA COLA ZERO 33cl 0.62€",
                                    "price_one": "0.62",
                                    "price_two": "9.86",
                                    "combo_price": "10.48",
                                    "combo_price_multiplied": "104.80"
                                },
                                {
                                    "ctn": "10",
                                    "name_one": "212 - DM - COCA COLA ZERO 33cl 0.62€",
                                    "name_two": "2 - MENU DU CHEF",
                                    "price_one": "9.86",
                                    "price_two": "0.62",
                                    "combo_price": "10.48",
                                    "combo_price_multiplied": "104.80"
                                },
                                {
                                    "ctn": "10",
                                    "name_one": "304 - Dallmayr Sweet 4 - 0.85€",
                                    "name_two": "1 - MENU DU JOUR",
                                    "price_one": "7.43",
                                    "price_two": "0.85",
                                    "combo_price": "8.28",
                                    "combo_price_multiplied": "82.80"
                                },
                                {
                                    "ctn": "10",
                                    "name_one": "304 - Dallmayr Sweet 4 - 0.85€",
                                    "name_two": "113 - VIVA 1/4 FREE",
                                    "price_one": "7.43",
                                    "price_two": "0.85",
                                    "combo_price": "8.28",
                                    "combo_price_multiplied": "82.80"
                                },
                                {
                                    "ctn": "10",
                                    "name_one": "113 - VIVA 1/4 FREE",
                                    "name_two": "304 - Dallmayr Sweet 4 - 0.85€",
                                    "price_one": "0.85",
                                    "price_two": "7.43",
                                    "combo_price": "8.28",
                                    "combo_price_multiplied": "82.80"
                                },
                                {
                                    "ctn": "10",
                                    "name_one": "1 - MENU DU JOUR",
                                    "name_two": "304 - Dallmayr Sweet 4 - 0.85€",
                                    "price_one": "0.85",
                                    "price_two": "7.43",
                                    "combo_price": "8.28",
                                    "combo_price_multiplied": "82.80"
                                },
                                {
                                    "ctn": "10",
                                    "name_one": "1 - MENU DU JOUR",
                                    "name_two": "302 - Dallmayr Sweet 2 - 0.75€",
                                    "price_one": "0.75",
                                    "price_two": "7.43",
                                    "combo_price": "8.18",
                                    "combo_price_multiplied": "81.80"
                                },
                                {
                                    "ctn": "10",
                                    "name_one": "113 - VIVA 1/4 FREE",
                                    "name_two": "302 - Dallmayr Sweet 2 - 0.75€",
                                    "price_one": "0.75",
                                    "price_two": "7.43",
                                    "combo_price": "8.18",
                                    "combo_price_multiplied": "81.80"
                                },
                                {
                                    "ctn": "10",
                                    "name_one": "302 - Dallmayr Sweet 2 - 0.75€",
                                    "name_two": "1 - MENU DU JOUR",
                                    "price_one": "7.43",
                                    "price_two": "0.75",
                                    "combo_price": "8.18",
                                    "combo_price_multiplied": "81.80"
                                },
                                {
                                    "ctn": "10",
                                    "name_one": "302 - Dallmayr Sweet 2 - 0.75€",
                                    "name_two": "113 - VIVA 1/4 FREE",
                                    "price_one": "7.43",
                                    "price_two": "0.75",
                                    "combo_price": "8.18",
                                    "combo_price_multiplied": "81.80"
                                },
                                {
                                    "ctn": "10",
                                    "name_one": "113 - VIVA 1/4 FREE",
                                    "name_two": "1206 - DM - PERRIER 33cl 0.73€",
                                    "price_one": "0.73",
                                    "price_two": "7.43",
                                    "combo_price": "8.16",
                                    "combo_price_multiplied": "81.60"
                                },
                                {
                                    "ctn": "10",
                                    "name_one": "113 - VIVA 1/4 FREE",
                                    "name_two": "206 - DM - PERRIER 33cl 0.73€",
                                    "price_one": "0.73",
                                    "price_two": "7.43",
                                    "combo_price": "8.16",
                                    "combo_price_multiplied": "81.60"
                                },
                                {
                                    "ctn": "10",
                                    "name_one": "1 - MENU DU JOUR",
                                    "name_two": "1206 - DM - PERRIER 33cl 0.73€",
                                    "price_one": "0.73",
                                    "price_two": "7.43",
                                    "combo_price": "8.16",
                                    "combo_price_multiplied": "81.60"
                                },
                                {
                                    "ctn": "10",
                                    "name_one": "1 - MENU DU JOUR",
                                    "name_two": "206 - DM - PERRIER 33cl 0.73€",
                                    "price_one": "0.73",
                                    "price_two": "7.43",
                                    "combo_price": "8.16",
                                    "combo_price_multiplied": "81.60"
                                },
                                {
                                    "ctn": "10",
                                    "name_one": "1206 - DM - PERRIER 33cl 0.73€",
                                    "name_two": "113 - VIVA 1/4 FREE",
                                    "price_one": "7.43",
                                    "price_two": "0.73",
                                    "combo_price": "8.16",
                                    "combo_price_multiplied": "81.60"
                                },
                                {
                                    "ctn": "10",
                                    "name_one": "1206 - DM - PERRIER 33cl 0.73€",
                                    "name_two": "1 - MENU DU JOUR",
                                    "price_one": "7.43",
                                    "price_two": "0.73",
                                    "combo_price": "8.16",
                                    "combo_price_multiplied": "81.60"
                                },
                                {
                                    "ctn": "10",
                                    "name_one": "206 - DM - PERRIER 33cl 0.73€",
                                    "name_two": "1 - MENU DU JOUR",
                                    "price_one": "7.43",
                                    "price_two": "0.73",
                                    "combo_price": "8.16",
                                    "combo_price_multiplied": "81.60"
                                },
                                {
                                    "ctn": "10",
                                    "name_one": "206 - DM - PERRIER 33cl 0.73€",
                                    "name_two": "113 - VIVA 1/4 FREE",
                                    "price_one": "7.43",
                                    "price_two": "0.73",
                                    "combo_price": "8.16",
                                    "combo_price_multiplied": "81.60"
                                },
                                {
                                    "ctn": "10",
                                    "name_one": "1 - MENU DU JOUR",
                                    "name_two": "106 - COCA ZERO 1/4",
                                    "price_one": "0.53",
                                    "price_two": "7.43",
                                    "combo_price": "7.96",
                                    "combo_price_multiplied": "79.60"
                                },
                                {
                                    "ctn": "10",
                                    "name_one": "1 - MENU DU JOUR",
                                    "name_two": "107 - ROSPORT 1/4",
                                    "price_one": "0.53",
                                    "price_two": "7.43",
                                    "combo_price": "7.96",
                                    "combo_price_multiplied": "79.60"
                                },
                                {
                                    "ctn": "10",
                                    "name_one": "106 - COCA ZERO 1/4",
                                    "name_two": "1 - MENU DU JOUR",
                                    "price_one": "7.43",
                                    "price_two": "0.53",
                                    "combo_price": "7.96",
                                    "combo_price_multiplied": "79.60"
                                },
                                {
                                    "ctn": "10",
                                    "name_one": "106 - COCA ZERO 1/4",
                                    "name_two": "113 - VIVA 1/4 FREE",
                                    "price_one": "7.43",
                                    "price_two": "0.53",
                                    "combo_price": "7.96",
                                    "combo_price_multiplied": "79.60"
                                },
                                {
                                    "ctn": "10",
                                    "name_one": "113 - VIVA 1/4 FREE",
                                    "name_two": "106 - COCA ZERO 1/4",
                                    "price_one": "0.53",
                                    "price_two": "7.43",
                                    "combo_price": "7.96",
                                    "combo_price_multiplied": "79.60"
                                },
                                {
                                    "ctn": "10",
                                    "name_one": "113 - VIVA 1/4 FREE",
                                    "name_two": "107 - ROSPORT 1/4",
                                    "price_one": "0.53",
                                    "price_two": "7.43",
                                    "combo_price": "7.96",
                                    "combo_price_multiplied": "79.60"
                                },
                                {
                                    "ctn": "10",
                                    "name_one": "107 - ROSPORT 1/4",
                                    "name_two": "1 - MENU DU JOUR",
                                    "price_one": "7.43",
                                    "price_two": "0.53",
                                    "combo_price": "7.96",
                                    "combo_price_multiplied": "79.60"
                                },
                                {
                                    "ctn": "10",
                                    "name_one": "107 - ROSPORT 1/4",
                                    "name_two": "113 - VIVA 1/4 FREE",
                                    "price_one": "7.43",
                                    "price_two": "0.53",
                                    "combo_price": "7.96",
                                    "combo_price_multiplied": "79.60"
                                },
                                {
                                    "ctn": "10",
                                    "name_one": "998 - Donnation ABC Canteen (CR 450)",
                                    "name_two": "998 - Donnation ABC Canteen (CR 450)",
                                    "price_one": "3.00",
                                    "price_two": "3.00",
                                    "combo_price": "6.00",
                                    "combo_price_multiplied": "60.00"
                                },
                                {
                                    "ctn": "10",
                                    "name_one": "998 - Donnation ABC Canteen (CR 450)",
                                    "name_two": "312 - DM Traingles - 2.50€",
                                    "price_one": "2.50",
                                    "price_two": "3.00",
                                    "combo_price": "5.50",
                                    "combo_price_multiplied": "55.00"
                                },
                                {
                                    "ctn": "10",
                                    "name_one": "312 - DM Traingles - 2.50€",
                                    "name_two": "998 - Donnation ABC Canteen (CR 450)",
                                    "price_one": "3.00",
                                    "price_two": "2.50",
                                    "combo_price": "5.50",
                                    "combo_price_multiplied": "55.00"
                                },
                                {
                                    "ctn": "10",
                                    "name_one": "312 - DM Traingles - 2.50€",
                                    "name_two": "312 - DM Traingles - 2.50€",
                                    "price_one": "2.50",
                                    "price_two": "2.50",
                                    "combo_price": "5.00",
                                    "combo_price_multiplied": "50.00"
                                },
                                {
                                    "ctn": "10",
                                    "name_one": "311 - DM Sandwich Maison - 1.80€",
                                    "name_two": "998 - Donnation ABC Canteen (CR 450)",
                                    "price_one": "3.00",
                                    "price_two": "1.80",
                                    "combo_price": "4.80",
                                    "combo_price_multiplied": "48.00"
                                },
                                {
                                    "ctn": "10",
                                    "name_one": "998 - Donnation ABC Canteen (CR 450)",
                                    "name_two": "311 - DM Sandwich Maison - 1.80€",
                                    "price_one": "1.80",
                                    "price_two": "3.00",
                                    "combo_price": "4.80",
                                    "combo_price_multiplied": "48.00"
                                },
                                {
                                    "ctn": "10",
                                    "name_one": "311 - DM Sandwich Maison - 1.80€",
                                    "name_two": "312 - DM Traingles - 2.50€",
                                    "price_one": "2.50",
                                    "price_two": "1.80",
                                    "combo_price": "4.30",
                                    "combo_price_multiplied": "43.00"
                                },
                                {
                                    "ctn": "10",
                                    "name_one": "312 - DM Traingles - 2.50€",
                                    "name_two": "311 - DM Sandwich Maison - 1.80€",
                                    "price_one": "1.80",
                                    "price_two": "2.50",
                                    "combo_price": "4.30",
                                    "combo_price_multiplied": "43.00"
                                },
                                {
                                    "ctn": "10",
                                    "name_one": "305 - Dallmayr Sweet 5 - 0.90€",
                                    "name_two": "998 - Donnation ABC Canteen (CR 450)",
                                    "price_one": "3.00",
                                    "price_two": "0.90",
                                    "combo_price": "3.90",
                                    "combo_price_multiplied": "39.00"
                                },
                                {
                                    "ctn": "10",
                                    "name_one": "998 - Donnation ABC Canteen (CR 450)",
                                    "name_two": "305 - Dallmayr Sweet 5 - 0.90€",
                                    "price_one": "0.90",
                                    "price_two": "3.00",
                                    "combo_price": "3.90",
                                    "combo_price_multiplied": "39.00"
                                },
                                {
                                    "ctn": "10",
                                    "name_one": "998 - Donnation ABC Canteen (CR 450)",
                                    "name_two": "209 - DM - MM ORANGE 33cl 0.86€",
                                    "price_one": "0.86",
                                    "price_two": "3.00",
                                    "combo_price": "3.86",
                                    "combo_price_multiplied": "38.60"
                                },
                                {
                                    "ctn": "10",
                                    "name_one": "209 - DM - MM ORANGE 33cl 0.86€",
                                    "name_two": "998 - Donnation ABC Canteen (CR 450)",
                                    "price_one": "3.00",
                                    "price_two": "0.86",
                                    "combo_price": "3.86",
                                    "combo_price_multiplied": "38.60"
                                },
                                {
                                    "ctn": "10",
                                    "name_one": "303 - Dallmayr Sweet 3 - 0.80€",
                                    "name_two": "998 - Donnation ABC Canteen (CR 450)",
                                    "price_one": "3.00",
                                    "price_two": "0.80",
                                    "combo_price": "3.80",
                                    "combo_price_multiplied": "38.00"
                                },
                                {
                                    "ctn": "10",
                                    "name_one": "998 - Donnation ABC Canteen (CR 450)",
                                    "name_two": "303 - Dallmayr Sweet 3 - 0.80€",
                                    "price_one": "0.80",
                                    "price_two": "3.00",
                                    "combo_price": "3.80",
                                    "combo_price_multiplied": "38.00"
                                },
                                {
                                    "ctn": "10",
                                    "name_one": "998 - Donnation ABC Canteen (CR 450)",
                                    "name_two": "301 - Dallmayr Sweet 1 - 0.70€",
                                    "price_one": "0.70",
                                    "price_two": "3.00",
                                    "combo_price": "3.70",
                                    "combo_price_multiplied": "37.00"
                                },
                                {
                                    "ctn": "10",
                                    "name_one": "301 - Dallmayr Sweet 1 - 0.70€",
                                    "name_two": "998 - Donnation ABC Canteen (CR 450)",
                                    "price_one": "3.00",
                                    "price_two": "0.70",
                                    "combo_price": "3.70",
                                    "combo_price_multiplied": "37.00"
                                },
                                {
                                    "ctn": "10",
                                    "name_one": "212 - DM - COCA COLA ZERO 33cl 0.62€",
                                    "name_two": "998 - Donnation ABC Canteen (CR 450)",
                                    "price_one": "3.00",
                                    "price_two": "0.62",
                                    "combo_price": "3.62",
                                    "combo_price_multiplied": "36.20"
                                },
                                {
                                    "ctn": "10",
                                    "name_one": "998 - Donnation ABC Canteen (CR 450)",
                                    "name_two": "212 - DM - COCA COLA ZERO 33cl 0.62€",
                                    "price_one": "0.62",
                                    "price_two": "3.00",
                                    "combo_price": "3.62",
                                    "combo_price_multiplied": "36.20"
                                },
                                {
                                    "ctn": "10",
                                    "name_one": "311 - DM Sandwich Maison - 1.80€",
                                    "name_two": "311 - DM Sandwich Maison - 1.80€",
                                    "price_one": "1.80",
                                    "price_two": "1.80",
                                    "combo_price": "3.60",
                                    "combo_price_multiplied": "36.00"
                                },
                                {
                                    "ctn": "10",
                                    "name_one": "305 - Dallmayr Sweet 5 - 0.90€",
                                    "name_two": "312 - DM Traingles - 2.50€",
                                    "price_one": "2.50",
                                    "price_two": "0.90",
                                    "combo_price": "3.40",
                                    "combo_price_multiplied": "34.00"
                                },
                                {
                                    "ctn": "10",
                                    "name_one": "312 - DM Traingles - 2.50€",
                                    "name_two": "305 - Dallmayr Sweet 5 - 0.90€",
                                    "price_one": "0.90",
                                    "price_two": "2.50",
                                    "combo_price": "3.40",
                                    "combo_price_multiplied": "34.00"
                                },
                                {
                                    "ctn": "10",
                                    "name_one": "312 - DM Traingles - 2.50€",
                                    "name_two": "209 - DM - MM ORANGE 33cl 0.86€",
                                    "price_one": "0.86",
                                    "price_two": "2.50",
                                    "combo_price": "3.36",
                                    "combo_price_multiplied": "33.60"
                                },
                                {
                                    "ctn": "10",
                                    "name_one": "209 - DM - MM ORANGE 33cl 0.86€",
                                    "name_two": "312 - DM Traingles - 2.50€",
                                    "price_one": "2.50",
                                    "price_two": "0.86",
                                    "combo_price": "3.36",
                                    "combo_price_multiplied": "33.60"
                                },
                                {
                                    "ctn": "10",
                                    "name_one": "303 - Dallmayr Sweet 3 - 0.80€",
                                    "name_two": "312 - DM Traingles - 2.50€",
                                    "price_one": "2.50",
                                    "price_two": "0.80",
                                    "combo_price": "3.30",
                                    "combo_price_multiplied": "33.00"
                                },
                                {
                                    "ctn": "10",
                                    "name_one": "312 - DM Traingles - 2.50€",
                                    "name_two": "303 - Dallmayr Sweet 3 - 0.80€",
                                    "price_one": "0.80",
                                    "price_two": "2.50",
                                    "combo_price": "3.30",
                                    "combo_price_multiplied": "33.00"
                                },
                                {
                                    "ctn": "10",
                                    "name_one": "312 - DM Traingles - 2.50€",
                                    "name_two": "301 - Dallmayr Sweet 1 - 0.70€",
                                    "price_one": "0.70",
                                    "price_two": "2.50",
                                    "combo_price": "3.20",
                                    "combo_price_multiplied": "32.00"
                                },
                                {
                                    "ctn": "10",
                                    "name_one": "301 - Dallmayr Sweet 1 - 0.70€",
                                    "name_two": "312 - DM Traingles - 2.50€",
                                    "price_one": "2.50",
                                    "price_two": "0.70",
                                    "combo_price": "3.20",
                                    "combo_price_multiplied": "32.00"
                                },
                                {
                                    "ctn": "10",
                                    "name_one": "212 - DM - COCA COLA ZERO 33cl 0.62€",
                                    "name_two": "312 - DM Traingles - 2.50€",
                                    "price_one": "2.50",
                                    "price_two": "0.62",
                                    "combo_price": "3.12",
                                    "combo_price_multiplied": "31.20"
                                },
                                {
                                    "ctn": "10",
                                    "name_one": "312 - DM Traingles - 2.50€",
                                    "name_two": "212 - DM - COCA COLA ZERO 33cl 0.62€",
                                    "price_one": "0.62",
                                    "price_two": "2.50",
                                    "combo_price": "3.12",
                                    "combo_price_multiplied": "31.20"
                                },
                                {
                                    "ctn": "10",
                                    "name_one": "311 - DM Sandwich Maison - 1.80€",
                                    "name_two": "305 - Dallmayr Sweet 5 - 0.90€",
                                    "price_one": "0.90",
                                    "price_two": "1.80",
                                    "combo_price": "2.70",
                                    "combo_price_multiplied": "27.00"
                                },
                                {
                                    "ctn": "10",
                                    "name_one": "305 - Dallmayr Sweet 5 - 0.90€",
                                    "name_two": "311 - DM Sandwich Maison - 1.80€",
                                    "price_one": "1.80",
                                    "price_two": "0.90",
                                    "combo_price": "2.70",
                                    "combo_price_multiplied": "27.00"
                                },
                                {
                                    "ctn": "10",
                                    "name_one": "209 - DM - MM ORANGE 33cl 0.86€",
                                    "name_two": "311 - DM Sandwich Maison - 1.80€",
                                    "price_one": "1.80",
                                    "price_two": "0.86",
                                    "combo_price": "2.66",
                                    "combo_price_multiplied": "26.60"
                                },
                                {
                                    "ctn": "10",
                                    "name_one": "311 - DM Sandwich Maison - 1.80€",
                                    "name_two": "209 - DM - MM ORANGE 33cl 0.86€",
                                    "price_one": "0.86",
                                    "price_two": "1.80",
                                    "combo_price": "2.66",
                                    "combo_price_multiplied": "26.60"
                                },
                                {
                                    "ctn": "10",
                                    "name_one": "311 - DM Sandwich Maison - 1.80€",
                                    "name_two": "303 - Dallmayr Sweet 3 - 0.80€",
                                    "price_one": "0.80",
                                    "price_two": "1.80",
                                    "combo_price": "2.60",
                                    "combo_price_multiplied": "26.00"
                                },
                                {
                                    "ctn": "10",
                                    "name_one": "303 - Dallmayr Sweet 3 - 0.80€",
                                    "name_two": "311 - DM Sandwich Maison - 1.80€",
                                    "price_one": "1.80",
                                    "price_two": "0.80",
                                    "combo_price": "2.60",
                                    "combo_price_multiplied": "26.00"
                                },
                                {
                                    "ctn": "10",
                                    "name_one": "301 - Dallmayr Sweet 1 - 0.70€",
                                    "name_two": "311 - DM Sandwich Maison - 1.80€",
                                    "price_one": "1.80",
                                    "price_two": "0.70",
                                    "combo_price": "2.50",
                                    "combo_price_multiplied": "25.00"
                                },
                                {
                                    "ctn": "10",
                                    "name_one": "311 - DM Sandwich Maison - 1.80€",
                                    "name_two": "301 - Dallmayr Sweet 1 - 0.70€",
                                    "price_one": "0.70",
                                    "price_two": "1.80",
                                    "combo_price": "2.50",
                                    "combo_price_multiplied": "25.00"
                                },
                                {
                                    "ctn": "10",
                                    "name_one": "311 - DM Sandwich Maison - 1.80€",
                                    "name_two": "212 - DM - COCA COLA ZERO 33cl 0.62€",
                                    "price_one": "0.62",
                                    "price_two": "1.80",
                                    "combo_price": "2.42",
                                    "combo_price_multiplied": "24.20"
                                },
                                {
                                    "ctn": "10",
                                    "name_one": "212 - DM - COCA COLA ZERO 33cl 0.62€",
                                    "name_two": "311 - DM Sandwich Maison - 1.80€",
                                    "price_one": "1.80",
                                    "price_two": "0.62",
                                    "combo_price": "2.42",
                                    "combo_price_multiplied": "24.20"
                                },
                                {
                                    "ctn": "10",
                                    "name_one": "305 - Dallmayr Sweet 5 - 0.90€",
                                    "name_two": "305 - Dallmayr Sweet 5 - 0.90€",
                                    "price_one": "0.90",
                                    "price_two": "0.90",
                                    "combo_price": "1.80",
                                    "combo_price_multiplied": "18.00"
                                },
                                {
                                    "ctn": "10",
                                    "name_one": "305 - Dallmayr Sweet 5 - 0.90€",
                                    "name_two": "209 - DM - MM ORANGE 33cl 0.86€",
                                    "price_one": "0.86",
                                    "price_two": "0.90",
                                    "combo_price": "1.76",
                                    "combo_price_multiplied": "17.60"
                                },
                                {
                                    "ctn": "10",
                                    "name_one": "209 - DM - MM ORANGE 33cl 0.86€",
                                    "name_two": "305 - Dallmayr Sweet 5 - 0.90€",
                                    "price_one": "0.90",
                                    "price_two": "0.86",
                                    "combo_price": "1.76",
                                    "combo_price_multiplied": "17.60"
                                },
                                {
                                    "ctn": "10",
                                    "name_one": "209 - DM - MM ORANGE 33cl 0.86€",
                                    "name_two": "209 - DM - MM ORANGE 33cl 0.86€",
                                    "price_one": "0.86",
                                    "price_two": "0.86",
                                    "combo_price": "1.72",
                                    "combo_price_multiplied": "17.20"
                                },
                                {
                                    "ctn": "10",
                                    "name_one": "305 - Dallmayr Sweet 5 - 0.90€",
                                    "name_two": "303 - Dallmayr Sweet 3 - 0.80€",
                                    "price_one": "0.80",
                                    "price_two": "0.90",
                                    "combo_price": "1.70",
                                    "combo_price_multiplied": "17.00"
                                },
                                {
                                    "ctn": "10",
                                    "name_one": "304 - Dallmayr Sweet 4 - 0.85€",
                                    "name_two": "304 - Dallmayr Sweet 4 - 0.85€",
                                    "price_one": "0.85",
                                    "price_two": "0.85",
                                    "combo_price": "1.70",
                                    "combo_price_multiplied": "17.00"
                                },
                                {
                                    "ctn": "10",
                                    "name_one": "303 - Dallmayr Sweet 3 - 0.80€",
                                    "name_two": "305 - Dallmayr Sweet 5 - 0.90€",
                                    "price_one": "0.90",
                                    "price_two": "0.80",
                                    "combo_price": "1.70",
                                    "combo_price_multiplied": "17.00"
                                },
                                {
                                    "ctn": "10",
                                    "name_one": "303 - Dallmayr Sweet 3 - 0.80€",
                                    "name_two": "209 - DM - MM ORANGE 33cl 0.86€",
                                    "price_one": "0.86",
                                    "price_two": "0.80",
                                    "combo_price": "1.66",
                                    "combo_price_multiplied": "16.60"
                                },
                                {
                                    "ctn": "10",
                                    "name_one": "209 - DM - MM ORANGE 33cl 0.86€",
                                    "name_two": "303 - Dallmayr Sweet 3 - 0.80€",
                                    "price_one": "0.80",
                                    "price_two": "0.86",
                                    "combo_price": "1.66",
                                    "combo_price_multiplied": "16.60"
                                },
                                {
                                    "ctn": "10",
                                    "name_one": "301 - Dallmayr Sweet 1 - 0.70€",
                                    "name_two": "305 - Dallmayr Sweet 5 - 0.90€",
                                    "price_one": "0.90",
                                    "price_two": "0.70",
                                    "combo_price": "1.60",
                                    "combo_price_multiplied": "16.00"
                                },
                                {
                                    "ctn": "10",
                                    "name_one": "303 - Dallmayr Sweet 3 - 0.80€",
                                    "name_two": "303 - Dallmayr Sweet 3 - 0.80€",
                                    "price_one": "0.80",
                                    "price_two": "0.80",
                                    "combo_price": "1.60",
                                    "combo_price_multiplied": "16.00"
                                },
                                {
                                    "ctn": "10",
                                    "name_one": "302 - Dallmayr Sweet 2 - 0.75€",
                                    "name_two": "304 - Dallmayr Sweet 4 - 0.85€",
                                    "price_one": "0.85",
                                    "price_two": "0.75",
                                    "combo_price": "1.60",
                                    "combo_price_multiplied": "16.00"
                                },
                                {
                                    "ctn": "10",
                                    "name_one": "304 - Dallmayr Sweet 4 - 0.85€",
                                    "name_two": "302 - Dallmayr Sweet 2 - 0.75€",
                                    "price_one": "0.75",
                                    "price_two": "0.85",
                                    "combo_price": "1.60",
                                    "combo_price_multiplied": "16.00"
                                },
                                {
                                    "ctn": "10",
                                    "name_one": "305 - Dallmayr Sweet 5 - 0.90€",
                                    "name_two": "301 - Dallmayr Sweet 1 - 0.70€",
                                    "price_one": "0.70",
                                    "price_two": "0.90",
                                    "combo_price": "1.60",
                                    "combo_price_multiplied": "16.00"
                                },
                                {
                                    "ctn": "10",
                                    "name_one": "304 - Dallmayr Sweet 4 - 0.85€",
                                    "name_two": "1206 - DM - PERRIER 33cl 0.73€",
                                    "price_one": "0.73",
                                    "price_two": "0.85",
                                    "combo_price": "1.58",
                                    "combo_price_multiplied": "15.80"
                                },
                                {
                                    "ctn": "10",
                                    "name_one": "304 - Dallmayr Sweet 4 - 0.85€",
                                    "name_two": "206 - DM - PERRIER 33cl 0.73€",
                                    "price_one": "0.73",
                                    "price_two": "0.85",
                                    "combo_price": "1.58",
                                    "combo_price_multiplied": "15.80"
                                },
                                {
                                    "ctn": "10",
                                    "name_one": "206 - DM - PERRIER 33cl 0.73€",
                                    "name_two": "304 - Dallmayr Sweet 4 - 0.85€",
                                    "price_one": "0.85",
                                    "price_two": "0.73",
                                    "combo_price": "1.58",
                                    "combo_price_multiplied": "15.80"
                                },
                                {
                                    "ctn": "10",
                                    "name_one": "1206 - DM - PERRIER 33cl 0.73€",
                                    "name_two": "304 - Dallmayr Sweet 4 - 0.85€",
                                    "price_one": "0.85",
                                    "price_two": "0.73",
                                    "combo_price": "1.58",
                                    "combo_price_multiplied": "15.80"
                                },
                                {
                                    "ctn": "10",
                                    "name_one": "209 - DM - MM ORANGE 33cl 0.86€",
                                    "name_two": "301 - Dallmayr Sweet 1 - 0.70€",
                                    "price_one": "0.70",
                                    "price_two": "0.86",
                                    "combo_price": "1.56",
                                    "combo_price_multiplied": "15.60"
                                },
                                {
                                    "ctn": "10",
                                    "name_one": "301 - Dallmayr Sweet 1 - 0.70€",
                                    "name_two": "209 - DM - MM ORANGE 33cl 0.86€",
                                    "price_one": "0.86",
                                    "price_two": "0.70",
                                    "combo_price": "1.56",
                                    "combo_price_multiplied": "15.60"
                                },
                                {
                                    "ctn": "10",
                                    "name_one": "212 - DM - COCA COLA ZERO 33cl 0.62€",
                                    "name_two": "305 - Dallmayr Sweet 5 - 0.90€",
                                    "price_one": "0.90",
                                    "price_two": "0.62",
                                    "combo_price": "1.52",
                                    "combo_price_multiplied": "15.20"
                                },
                                {
                                    "ctn": "10",
                                    "name_one": "305 - Dallmayr Sweet 5 - 0.90€",
                                    "name_two": "212 - DM - COCA COLA ZERO 33cl 0.62€",
                                    "price_one": "0.62",
                                    "price_two": "0.90",
                                    "combo_price": "1.52",
                                    "combo_price_multiplied": "15.20"
                                },
                                {
                                    "ctn": "10",
                                    "name_one": "303 - Dallmayr Sweet 3 - 0.80€",
                                    "name_two": "301 - Dallmayr Sweet 1 - 0.70€",
                                    "price_one": "0.70",
                                    "price_two": "0.80",
                                    "combo_price": "1.50",
                                    "combo_price_multiplied": "15.00"
                                },
                                {
                                    "ctn": "10",
                                    "name_one": "302 - Dallmayr Sweet 2 - 0.75€",
                                    "name_two": "302 - Dallmayr Sweet 2 - 0.75€",
                                    "price_one": "0.75",
                                    "price_two": "0.75",
                                    "combo_price": "1.50",
                                    "combo_price_multiplied": "15.00"
                                },
                                {
                                    "ctn": "10",
                                    "name_one": "301 - Dallmayr Sweet 1 - 0.70€",
                                    "name_two": "303 - Dallmayr Sweet 3 - 0.80€",
                                    "price_one": "0.80",
                                    "price_two": "0.70",
                                    "combo_price": "1.50",
                                    "combo_price_multiplied": "15.00"
                                },
                                {
                                    "ctn": "10",
                                    "name_one": "212 - DM - COCA COLA ZERO 33cl 0.62€",
                                    "name_two": "209 - DM - MM ORANGE 33cl 0.86€",
                                    "price_one": "0.86",
                                    "price_two": "0.62",
                                    "combo_price": "1.48",
                                    "combo_price_multiplied": "14.80"
                                },
                                {
                                    "ctn": "10",
                                    "name_one": "302 - Dallmayr Sweet 2 - 0.75€",
                                    "name_two": "1206 - DM - PERRIER 33cl 0.73€",
                                    "price_one": "0.73",
                                    "price_two": "0.75",
                                    "combo_price": "1.48",
                                    "combo_price_multiplied": "14.80"
                                },
                                {
                                    "ctn": "10",
                                    "name_one": "302 - Dallmayr Sweet 2 - 0.75€",
                                    "name_two": "206 - DM - PERRIER 33cl 0.73€",
                                    "price_one": "0.73",
                                    "price_two": "0.75",
                                    "combo_price": "1.48",
                                    "combo_price_multiplied": "14.80"
                                },
                                {
                                    "ctn": "10",
                                    "name_one": "1206 - DM - PERRIER 33cl 0.73€",
                                    "name_two": "302 - Dallmayr Sweet 2 - 0.75€",
                                    "price_one": "0.75",
                                    "price_two": "0.73",
                                    "combo_price": "1.48",
                                    "combo_price_multiplied": "14.80"
                                },
                                {
                                    "ctn": "10",
                                    "name_one": "209 - DM - MM ORANGE 33cl 0.86€",
                                    "name_two": "212 - DM - COCA COLA ZERO 33cl 0.62€",
                                    "price_one": "0.62",
                                    "price_two": "0.86",
                                    "combo_price": "1.48",
                                    "combo_price_multiplied": "14.80"
                                },
                                {
                                    "ctn": "10",
                                    "name_one": "206 - DM - PERRIER 33cl 0.73€",
                                    "name_two": "302 - Dallmayr Sweet 2 - 0.75€",
                                    "price_one": "0.75",
                                    "price_two": "0.73",
                                    "combo_price": "1.48",
                                    "combo_price_multiplied": "14.80"
                                },
                                {
                                    "ctn": "10",
                                    "name_one": "206 - DM - PERRIER 33cl 0.73€",
                                    "name_two": "1206 - DM - PERRIER 33cl 0.73€",
                                    "price_one": "0.73",
                                    "price_two": "0.73",
                                    "combo_price": "1.46",
                                    "combo_price_multiplied": "14.60"
                                },
                                {
                                    "ctn": "10",
                                    "name_one": "206 - DM - PERRIER 33cl 0.73€",
                                    "name_two": "206 - DM - PERRIER 33cl 0.73€",
                                    "price_one": "0.73",
                                    "price_two": "0.73",
                                    "combo_price": "1.46",
                                    "combo_price_multiplied": "14.60"
                                },
                                {
                                    "ctn": "10",
                                    "name_one": "1206 - DM - PERRIER 33cl 0.73€",
                                    "name_two": "1206 - DM - PERRIER 33cl 0.73€",
                                    "price_one": "0.73",
                                    "price_two": "0.73",
                                    "combo_price": "1.46",
                                    "combo_price_multiplied": "14.60"
                                },
                                {
                                    "ctn": "10",
                                    "name_one": "1206 - DM - PERRIER 33cl 0.73€",
                                    "name_two": "206 - DM - PERRIER 33cl 0.73€",
                                    "price_one": "0.73",
                                    "price_two": "0.73",
                                    "combo_price": "1.46",
                                    "combo_price_multiplied": "14.60"
                                },
                                {
                                    "ctn": "10",
                                    "name_one": "303 - Dallmayr Sweet 3 - 0.80€",
                                    "name_two": "212 - DM - COCA COLA ZERO 33cl 0.62€",
                                    "price_one": "0.62",
                                    "price_two": "0.80",
                                    "combo_price": "1.42",
                                    "combo_price_multiplied": "14.20"
                                },
                                {
                                    "ctn": "10",
                                    "name_one": "212 - DM - COCA COLA ZERO 33cl 0.62€",
                                    "name_two": "303 - Dallmayr Sweet 3 - 0.80€",
                                    "price_one": "0.80",
                                    "price_two": "0.62",
                                    "combo_price": "1.42",
                                    "combo_price_multiplied": "14.20"
                                },
                                {
                                    "ctn": "10",
                                    "name_one": "301 - Dallmayr Sweet 1 - 0.70€",
                                    "name_two": "301 - Dallmayr Sweet 1 - 0.70€",
                                    "price_one": "0.70",
                                    "price_two": "0.70",
                                    "combo_price": "1.40",
                                    "combo_price_multiplied": "14.00"
                                },
                                {
                                    "ctn": "10",
                                    "name_one": "304 - Dallmayr Sweet 4 - 0.85€",
                                    "name_two": "106 - COCA ZERO 1/4",
                                    "price_one": "0.53",
                                    "price_two": "0.85",
                                    "combo_price": "1.38",
                                    "combo_price_multiplied": "13.80"
                                },
                                {
                                    "ctn": "10",
                                    "name_one": "304 - Dallmayr Sweet 4 - 0.85€",
                                    "name_two": "107 - ROSPORT 1/4",
                                    "price_one": "0.53",
                                    "price_two": "0.85",
                                    "combo_price": "1.38",
                                    "combo_price_multiplied": "13.80"
                                },
                                {
                                    "ctn": "10",
                                    "name_one": "107 - ROSPORT 1/4",
                                    "name_two": "304 - Dallmayr Sweet 4 - 0.85€",
                                    "price_one": "0.85",
                                    "price_two": "0.53",
                                    "combo_price": "1.38",
                                    "combo_price_multiplied": "13.80"
                                },
                                {
                                    "ctn": "10",
                                    "name_one": "106 - COCA ZERO 1/4",
                                    "name_two": "304 - Dallmayr Sweet 4 - 0.85€",
                                    "price_one": "0.85",
                                    "price_two": "0.53",
                                    "combo_price": "1.38",
                                    "combo_price_multiplied": "13.80"
                                },
                                {
                                    "ctn": "10",
                                    "name_one": "301 - Dallmayr Sweet 1 - 0.70€",
                                    "name_two": "212 - DM - COCA COLA ZERO 33cl 0.62€",
                                    "price_one": "0.62",
                                    "price_two": "0.70",
                                    "combo_price": "1.32",
                                    "combo_price_multiplied": "13.20"
                                },
                                {
                                    "ctn": "10",
                                    "name_one": "212 - DM - COCA COLA ZERO 33cl 0.62€",
                                    "name_two": "301 - Dallmayr Sweet 1 - 0.70€",
                                    "price_one": "0.70",
                                    "price_two": "0.62",
                                    "combo_price": "1.32",
                                    "combo_price_multiplied": "13.20"
                                },
                                {
                                    "ctn": "10",
                                    "name_one": "302 - Dallmayr Sweet 2 - 0.75€",
                                    "name_two": "106 - COCA ZERO 1/4",
                                    "price_one": "0.53",
                                    "price_two": "0.75",
                                    "combo_price": "1.28",
                                    "combo_price_multiplied": "12.80"
                                },
                                {
                                    "ctn": "10",
                                    "name_one": "302 - Dallmayr Sweet 2 - 0.75€",
                                    "name_two": "107 - ROSPORT 1/4",
                                    "price_one": "0.53",
                                    "price_two": "0.75",
                                    "combo_price": "1.28",
                                    "combo_price_multiplied": "12.80"
                                },
                                {
                                    "ctn": "10",
                                    "name_one": "106 - COCA ZERO 1/4",
                                    "name_two": "302 - Dallmayr Sweet 2 - 0.75€",
                                    "price_one": "0.75",
                                    "price_two": "0.53",
                                    "combo_price": "1.28",
                                    "combo_price_multiplied": "12.80"
                                },
                                {
                                    "ctn": "10",
                                    "name_one": "107 - ROSPORT 1/4",
                                    "name_two": "302 - Dallmayr Sweet 2 - 0.75€",
                                    "price_one": "0.75",
                                    "price_two": "0.53",
                                    "combo_price": "1.28",
                                    "combo_price_multiplied": "12.80"
                                },
                                {
                                    "ctn": "10",
                                    "name_one": "107 - ROSPORT 1/4",
                                    "name_two": "1206 - DM - PERRIER 33cl 0.73€",
                                    "price_one": "0.73",
                                    "price_two": "0.53",
                                    "combo_price": "1.26",
                                    "combo_price_multiplied": "12.60"
                                },
                                {
                                    "ctn": "10",
                                    "name_one": "107 - ROSPORT 1/4",
                                    "name_two": "206 - DM - PERRIER 33cl 0.73€",
                                    "price_one": "0.73",
                                    "price_two": "0.53",
                                    "combo_price": "1.26",
                                    "combo_price_multiplied": "12.60"
                                },
                                {
                                    "ctn": "10",
                                    "name_one": "106 - COCA ZERO 1/4",
                                    "name_two": "1206 - DM - PERRIER 33cl 0.73€",
                                    "price_one": "0.73",
                                    "price_two": "0.53",
                                    "combo_price": "1.26",
                                    "combo_price_multiplied": "12.60"
                                },
                                {
                                    "ctn": "10",
                                    "name_one": "106 - COCA ZERO 1/4",
                                    "name_two": "206 - DM - PERRIER 33cl 0.73€",
                                    "price_one": "0.73",
                                    "price_two": "0.53",
                                    "combo_price": "1.26",
                                    "combo_price_multiplied": "12.60"
                                },
                                {
                                    "ctn": "10",
                                    "name_one": "1206 - DM - PERRIER 33cl 0.73€",
                                    "name_two": "106 - COCA ZERO 1/4",
                                    "price_one": "0.53",
                                    "price_two": "0.73",
                                    "combo_price": "1.26",
                                    "combo_price_multiplied": "12.60"
                                },
                                {
                                    "ctn": "10",
                                    "name_one": "1206 - DM - PERRIER 33cl 0.73€",
                                    "name_two": "107 - ROSPORT 1/4",
                                    "price_one": "0.53",
                                    "price_two": "0.73",
                                    "combo_price": "1.26",
                                    "combo_price_multiplied": "12.60"
                                },
                                {
                                    "ctn": "10",
                                    "name_one": "206 - DM - PERRIER 33cl 0.73€",
                                    "name_two": "106 - COCA ZERO 1/4",
                                    "price_one": "0.53",
                                    "price_two": "0.73",
                                    "combo_price": "1.26",
                                    "combo_price_multiplied": "12.60"
                                },
                                {
                                    "ctn": "10",
                                    "name_one": "206 - DM - PERRIER 33cl 0.73€",
                                    "name_two": "107 - ROSPORT 1/4",
                                    "price_one": "0.53",
                                    "price_two": "0.73",
                                    "combo_price": "1.26",
                                    "combo_price_multiplied": "12.60"
                                },
                                {
                                    "ctn": "10",
                                    "name_one": "212 - DM - COCA COLA ZERO 33cl 0.62€",
                                    "name_two": "212 - DM - COCA COLA ZERO 33cl 0.62€",
                                    "price_one": "0.62",
                                    "price_two": "0.62",
                                    "combo_price": "1.24",
                                    "combo_price_multiplied": "12.40"
                                },
                                {
                                    "ctn": "10",
                                    "name_one": "106 - COCA ZERO 1/4",
                                    "name_two": "106 - COCA ZERO 1/4",
                                    "price_one": "0.53",
                                    "price_two": "0.53",
                                    "combo_price": "1.06",
                                    "combo_price_multiplied": "10.60"
                                },
                                {
                                    "ctn": "10",
                                    "name_one": "106 - COCA ZERO 1/4",
                                    "name_two": "107 - ROSPORT 1/4",
                                    "price_one": "0.53",
                                    "price_two": "0.53",
                                    "combo_price": "1.06",
                                    "combo_price_multiplied": "10.60"
                                },
                                {
                                    "ctn": "10",
                                    "name_one": "107 - ROSPORT 1/4",
                                    "name_two": "106 - COCA ZERO 1/4",
                                    "price_one": "0.53",
                                    "price_two": "0.53",
                                    "combo_price": "1.06",
                                    "combo_price_multiplied": "10.60"
                                },
                                {
                                    "ctn": "10",
                                    "name_one": "107 - ROSPORT 1/4",
                                    "name_two": "107 - ROSPORT 1/4",
                                    "price_one": "0.53",
                                    "price_two": "0.53",
                                    "combo_price": "1.06",
                                    "combo_price_multiplied": "10.60"
                                }
                            ]
                        },
                        "text/html": [
                            "<table>",
                            "<tr><th>ctn</th><th>name_one</th><th>name_two</th><th>price_one</th><th>price_two</th><th>combo_price</th><th>combo_price_multiplied</th></tr>",
                            "<tr><td>10</td><td>5 - MENU DE NOEL</td><td>5 - MENU DE NOEL</td><td>12.93</td><td>12.93</td><td>25.86</td><td>258.60</td></tr>",
                            "<tr><td>10</td><td>5 - MENU DE NOEL</td><td>3 - MENU CLIN D'OEIL</td><td>11.53</td><td>12.93</td><td>24.46</td><td>244.60</td></tr>",
                            "<tr><td>10</td><td>3 - MENU CLIN D'OEIL</td><td>5 - MENU DE NOEL</td><td>12.93</td><td>11.53</td><td>24.46</td><td>244.60</td></tr>",
                            "<tr><td>10</td><td>5 - MENU DE NOEL</td><td>6 - MENU ACTION</td><td>10.57</td><td>12.93</td><td>23.50</td><td>235.00</td></tr>",
                            "<tr><td>10</td><td>6 - MENU ACTION</td><td>5 - MENU DE NOEL</td><td>12.93</td><td>10.57</td><td>23.50</td><td>235.00</td></tr>",
                            "<tr><td>10</td><td>3 - MENU CLIN D'OEIL</td><td>3 - MENU CLIN D'OEIL</td><td>11.53</td><td>11.53</td><td>23.06</td><td>230.60</td></tr>",
                            "<tr><td>10</td><td>3 - MENU CLIN D'OEIL</td><td>6 - MENU ACTION</td><td>10.57</td><td>11.53</td><td>22.10</td><td>221.00</td></tr>",
                            "<tr><td>10</td><td>6 - MENU ACTION</td><td>3 - MENU CLIN D'OEIL</td><td>11.53</td><td>10.57</td><td>22.10</td><td>221.00</td></tr>",
                            "<tr><td>10</td><td>6 - MENU ACTION</td><td>6 - MENU ACTION</td><td>10.57</td><td>10.57</td><td>21.14</td><td>211.40</td></tr>",
                            "<tr><td>10</td><td>5 - MENU DE NOEL</td><td>113 - VIVA 1/4 FREE</td><td>7.43</td><td>12.93</td><td>20.36</td><td>203.60</td></tr>",
                            "<tr><td>10</td><td>5 - MENU DE NOEL</td><td>1 - MENU DU JOUR</td><td>7.43</td><td>12.93</td><td>20.36</td><td>203.60</td></tr>",
                            "<tr><td>10</td><td>1 - MENU DU JOUR</td><td>5 - MENU DE NOEL</td><td>12.93</td><td>7.43</td><td>20.36</td><td>203.60</td></tr>",
                            "<tr><td>10</td><td>113 - VIVA 1/4 FREE</td><td>5 - MENU DE NOEL</td><td>12.93</td><td>7.43</td><td>20.36</td><td>203.60</td></tr>",
                            "<tr><td>10</td><td>2 - MENU DU CHEF</td><td>2 - MENU DU CHEF</td><td>9.86</td><td>9.86</td><td>19.72</td><td>197.20</td></tr>",
                            "<tr><td>10</td><td>1 - MENU DU JOUR</td><td>3 - MENU CLIN D'OEIL</td><td>11.53</td><td>7.43</td><td>18.96</td><td>189.60</td></tr>",
                            "<tr><td>10</td><td>113 - VIVA 1/4 FREE</td><td>3 - MENU CLIN D'OEIL</td><td>11.53</td><td>7.43</td><td>18.96</td><td>189.60</td></tr>",
                            "<tr><td>10</td><td>3 - MENU CLIN D'OEIL</td><td>113 - VIVA 1/4 FREE</td><td>7.43</td><td>11.53</td><td>18.96</td><td>189.60</td></tr>",
                            "<tr><td>10</td><td>3 - MENU CLIN D'OEIL</td><td>1 - MENU DU JOUR</td><td>7.43</td><td>11.53</td><td>18.96</td><td>189.60</td></tr>",
                            "<tr><td>10</td><td>1 - MENU DU JOUR</td><td>6 - MENU ACTION</td><td>10.57</td><td>7.43</td><td>18.00</td><td>180.00</td></tr>",
                            "<tr><td>10</td><td>113 - VIVA 1/4 FREE</td><td>6 - MENU ACTION</td><td>10.57</td><td>7.43</td><td>18.00</td><td>180.00</td></tr>",
                            "<tr><td>10</td><td>6 - MENU ACTION</td><td>113 - VIVA 1/4 FREE</td><td>7.43</td><td>10.57</td><td>18.00</td><td>180.00</td></tr>",
                            "<tr><td>10</td><td>6 - MENU ACTION</td><td>1 - MENU DU JOUR</td><td>7.43</td><td>10.57</td><td>18.00</td><td>180.00</td></tr>",
                            "<tr><td>10</td><td>1 - MENU DU JOUR</td><td>1 - MENU DU JOUR</td><td>7.43</td><td>7.43</td><td>14.86</td><td>148.60</td></tr>",
                            "<tr><td>10</td><td>1 - MENU DU JOUR</td><td>113 - VIVA 1/4 FREE</td><td>7.43</td><td>7.43</td><td>14.86</td><td>148.60</td></tr>",
                            "<tr><td>10</td><td>113 - VIVA 1/4 FREE</td><td>113 - VIVA 1/4 FREE</td><td>7.43</td><td>7.43</td><td>14.86</td><td>148.60</td></tr>",
                            "<tr><td>10</td><td>113 - VIVA 1/4 FREE</td><td>1 - MENU DU JOUR</td><td>7.43</td><td>7.43</td><td>14.86</td><td>148.60</td></tr>",
                            "<tr><td>10</td><td>304 - Dallmayr Sweet 4 - 0.85€</td><td>5 - MENU DE NOEL</td><td>12.93</td><td>0.85</td><td>13.78</td><td>137.80</td></tr>",
                            "<tr><td>10</td><td>5 - MENU DE NOEL</td><td>304 - Dallmayr Sweet 4 - 0.85€</td><td>0.85</td><td>12.93</td><td>13.78</td><td>137.80</td></tr>",
                            "<tr><td>10</td><td>5 - MENU DE NOEL</td><td>302 - Dallmayr Sweet 2 - 0.75€</td><td>0.75</td><td>12.93</td><td>13.68</td><td>136.80</td></tr>",
                            "<tr><td>10</td><td>302 - Dallmayr Sweet 2 - 0.75€</td><td>5 - MENU DE NOEL</td><td>12.93</td><td>0.75</td><td>13.68</td><td>136.80</td></tr>",
                            "<tr><td>10</td><td>1206 - DM - PERRIER 33cl 0.73€</td><td>5 - MENU DE NOEL</td><td>12.93</td><td>0.73</td><td>13.66</td><td>136.60</td></tr>",
                            "<tr><td>10</td><td>206 - DM - PERRIER 33cl 0.73€</td><td>5 - MENU DE NOEL</td><td>12.93</td><td>0.73</td><td>13.66</td><td>136.60</td></tr>",
                            "<tr><td>10</td><td>5 - MENU DE NOEL</td><td>1206 - DM - PERRIER 33cl 0.73€</td><td>0.73</td><td>12.93</td><td>13.66</td><td>136.60</td></tr>",
                            "<tr><td>10</td><td>5 - MENU DE NOEL</td><td>206 - DM - PERRIER 33cl 0.73€</td><td>0.73</td><td>12.93</td><td>13.66</td><td>136.60</td></tr>",
                            "<tr><td>10</td><td>5 - MENU DE NOEL</td><td>106 - COCA ZERO 1/4</td><td>0.53</td><td>12.93</td><td>13.46</td><td>134.60</td></tr>",
                            "<tr><td>10</td><td>5 - MENU DE NOEL</td><td>107 - ROSPORT 1/4</td><td>0.53</td><td>12.93</td><td>13.46</td><td>134.60</td></tr>",
                            "<tr><td>10</td><td>107 - ROSPORT 1/4</td><td>5 - MENU DE NOEL</td><td>12.93</td><td>0.53</td><td>13.46</td><td>134.60</td></tr>",
                            "<tr><td>10</td><td>106 - COCA ZERO 1/4</td><td>5 - MENU DE NOEL</td><td>12.93</td><td>0.53</td><td>13.46</td><td>134.60</td></tr>",
                            "<tr><td>10</td><td>2 - MENU DU CHEF</td><td>998 - Donnation ABC Canteen (CR 450)</td><td>3.00</td><td>9.86</td><td>12.86</td><td>128.60</td></tr>",
                            "<tr><td>10</td><td>998 - Donnation ABC Canteen (CR 450)</td><td>2 - MENU DU CHEF</td><td>9.86</td><td>3.00</td><td>12.86</td><td>128.60</td></tr>",
                            "<tr><td>10</td><td>304 - Dallmayr Sweet 4 - 0.85€</td><td>3 - MENU CLIN D'OEIL</td><td>11.53</td><td>0.85</td><td>12.38</td><td>123.80</td></tr>",
                            "<tr><td>10</td><td>3 - MENU CLIN D'OEIL</td><td>304 - Dallmayr Sweet 4 - 0.85€</td><td>0.85</td><td>11.53</td><td>12.38</td><td>123.80</td></tr>",
                            "<tr><td>10</td><td>2 - MENU DU CHEF</td><td>312 - DM Traingles - 2.50€</td><td>2.50</td><td>9.86</td><td>12.36</td><td>123.60</td></tr>",
                            "<tr><td>10</td><td>312 - DM Traingles - 2.50€</td><td>2 - MENU DU CHEF</td><td>9.86</td><td>2.50</td><td>12.36</td><td>123.60</td></tr>",
                            "<tr><td>10</td><td>3 - MENU CLIN D'OEIL</td><td>302 - Dallmayr Sweet 2 - 0.75€</td><td>0.75</td><td>11.53</td><td>12.28</td><td>122.80</td></tr>",
                            "<tr><td>10</td><td>302 - Dallmayr Sweet 2 - 0.75€</td><td>3 - MENU CLIN D'OEIL</td><td>11.53</td><td>0.75</td><td>12.28</td><td>122.80</td></tr>",
                            "<tr><td>10</td><td>3 - MENU CLIN D'OEIL</td><td>1206 - DM - PERRIER 33cl 0.73€</td><td>0.73</td><td>11.53</td><td>12.26</td><td>122.60</td></tr>",
                            "<tr><td>10</td><td>3 - MENU CLIN D'OEIL</td><td>206 - DM - PERRIER 33cl 0.73€</td><td>0.73</td><td>11.53</td><td>12.26</td><td>122.60</td></tr>",
                            "<tr><td>10</td><td>206 - DM - PERRIER 33cl 0.73€</td><td>3 - MENU CLIN D'OEIL</td><td>11.53</td><td>0.73</td><td>12.26</td><td>122.60</td></tr>",
                            "<tr><td>10</td><td>1206 - DM - PERRIER 33cl 0.73€</td><td>3 - MENU CLIN D'OEIL</td><td>11.53</td><td>0.73</td><td>12.26</td><td>122.60</td></tr>",
                            "<tr><td>10</td><td>107 - ROSPORT 1/4</td><td>3 - MENU CLIN D'OEIL</td><td>11.53</td><td>0.53</td><td>12.06</td><td>120.60</td></tr>",
                            "<tr><td>10</td><td>106 - COCA ZERO 1/4</td><td>3 - MENU CLIN D'OEIL</td><td>11.53</td><td>0.53</td><td>12.06</td><td>120.60</td></tr>",
                            "<tr><td>10</td><td>3 - MENU CLIN D'OEIL</td><td>106 - COCA ZERO 1/4</td><td>0.53</td><td>11.53</td><td>12.06</td><td>120.60</td></tr>",
                            "<tr><td>10</td><td>3 - MENU CLIN D'OEIL</td><td>107 - ROSPORT 1/4</td><td>0.53</td><td>11.53</td><td>12.06</td><td>120.60</td></tr>",
                            "<tr><td>10</td><td>2 - MENU DU CHEF</td><td>311 - DM Sandwich Maison - 1.80€</td><td>1.80</td><td>9.86</td><td>11.66</td><td>116.60</td></tr>",
                            "<tr><td>10</td><td>311 - DM Sandwich Maison - 1.80€</td><td>2 - MENU DU CHEF</td><td>9.86</td><td>1.80</td><td>11.66</td><td>116.60</td></tr>",
                            "<tr><td>10</td><td>6 - MENU ACTION</td><td>304 - Dallmayr Sweet 4 - 0.85€</td><td>0.85</td><td>10.57</td><td>11.42</td><td>114.20</td></tr>",
                            "<tr><td>10</td><td>304 - Dallmayr Sweet 4 - 0.85€</td><td>6 - MENU ACTION</td><td>10.57</td><td>0.85</td><td>11.42</td><td>114.20</td></tr>",
                            "<tr><td>10</td><td>302 - Dallmayr Sweet 2 - 0.75€</td><td>6 - MENU ACTION</td><td>10.57</td><td>0.75</td><td>11.32</td><td>113.20</td></tr>",
                            "<tr><td>10</td><td>6 - MENU ACTION</td><td>302 - Dallmayr Sweet 2 - 0.75€</td><td>0.75</td><td>10.57</td><td>11.32</td><td>113.20</td></tr>",
                            "<tr><td>10</td><td>6 - MENU ACTION</td><td>1206 - DM - PERRIER 33cl 0.73€</td><td>0.73</td><td>10.57</td><td>11.30</td><td>113.00</td></tr>",
                            "<tr><td>10</td><td>6 - MENU ACTION</td><td>206 - DM - PERRIER 33cl 0.73€</td><td>0.73</td><td>10.57</td><td>11.30</td><td>113.00</td></tr>",
                            "<tr><td>10</td><td>206 - DM - PERRIER 33cl 0.73€</td><td>6 - MENU ACTION</td><td>10.57</td><td>0.73</td><td>11.30</td><td>113.00</td></tr>",
                            "<tr><td>10</td><td>1206 - DM - PERRIER 33cl 0.73€</td><td>6 - MENU ACTION</td><td>10.57</td><td>0.73</td><td>11.30</td><td>113.00</td></tr>",
                            "<tr><td>10</td><td>106 - COCA ZERO 1/4</td><td>6 - MENU ACTION</td><td>10.57</td><td>0.53</td><td>11.10</td><td>111.00</td></tr>",
                            "<tr><td>10</td><td>107 - ROSPORT 1/4</td><td>6 - MENU ACTION</td><td>10.57</td><td>0.53</td><td>11.10</td><td>111.00</td></tr>",
                            "<tr><td>10</td><td>6 - MENU ACTION</td><td>106 - COCA ZERO 1/4</td><td>0.53</td><td>10.57</td><td>11.10</td><td>111.00</td></tr>",
                            "<tr><td>10</td><td>6 - MENU ACTION</td><td>107 - ROSPORT 1/4</td><td>0.53</td><td>10.57</td><td>11.10</td><td>111.00</td></tr>",
                            "<tr><td>10</td><td>2 - MENU DU CHEF</td><td>305 - Dallmayr Sweet 5 - 0.90€</td><td>0.90</td><td>9.86</td><td>10.76</td><td>107.60</td></tr>",
                            "<tr><td>10</td><td>305 - Dallmayr Sweet 5 - 0.90€</td><td>2 - MENU DU CHEF</td><td>9.86</td><td>0.90</td><td>10.76</td><td>107.60</td></tr>",
                            "<tr><td>10</td><td>209 - DM - MM ORANGE 33cl 0.86€</td><td>2 - MENU DU CHEF</td><td>9.86</td><td>0.86</td><td>10.72</td><td>107.20</td></tr>",
                            "<tr><td>10</td><td>2 - MENU DU CHEF</td><td>209 - DM - MM ORANGE 33cl 0.86€</td><td>0.86</td><td>9.86</td><td>10.72</td><td>107.20</td></tr>",
                            "<tr><td>10</td><td>2 - MENU DU CHEF</td><td>303 - Dallmayr Sweet 3 - 0.80€</td><td>0.80</td><td>9.86</td><td>10.66</td><td>106.60</td></tr>",
                            "<tr><td>10</td><td>303 - Dallmayr Sweet 3 - 0.80€</td><td>2 - MENU DU CHEF</td><td>9.86</td><td>0.80</td><td>10.66</td><td>106.60</td></tr>",
                            "<tr><td>10</td><td>301 - Dallmayr Sweet 1 - 0.70€</td><td>2 - MENU DU CHEF</td><td>9.86</td><td>0.70</td><td>10.56</td><td>105.60</td></tr>",
                            "<tr><td>10</td><td>2 - MENU DU CHEF</td><td>301 - Dallmayr Sweet 1 - 0.70€</td><td>0.70</td><td>9.86</td><td>10.56</td><td>105.60</td></tr>",
                            "<tr><td>10</td><td>2 - MENU DU CHEF</td><td>212 - DM - COCA COLA ZERO 33cl 0.62€</td><td>0.62</td><td>9.86</td><td>10.48</td><td>104.80</td></tr>",
                            "<tr><td>10</td><td>212 - DM - COCA COLA ZERO 33cl 0.62€</td><td>2 - MENU DU CHEF</td><td>9.86</td><td>0.62</td><td>10.48</td><td>104.80</td></tr>",
                            "<tr><td>10</td><td>304 - Dallmayr Sweet 4 - 0.85€</td><td>1 - MENU DU JOUR</td><td>7.43</td><td>0.85</td><td>8.28</td><td>82.80</td></tr>",
                            "<tr><td>10</td><td>304 - Dallmayr Sweet 4 - 0.85€</td><td>113 - VIVA 1/4 FREE</td><td>7.43</td><td>0.85</td><td>8.28</td><td>82.80</td></tr>",
                            "<tr><td>10</td><td>113 - VIVA 1/4 FREE</td><td>304 - Dallmayr Sweet 4 - 0.85€</td><td>0.85</td><td>7.43</td><td>8.28</td><td>82.80</td></tr>",
                            "<tr><td>10</td><td>1 - MENU DU JOUR</td><td>304 - Dallmayr Sweet 4 - 0.85€</td><td>0.85</td><td>7.43</td><td>8.28</td><td>82.80</td></tr>",
                            "<tr><td>10</td><td>1 - MENU DU JOUR</td><td>302 - Dallmayr Sweet 2 - 0.75€</td><td>0.75</td><td>7.43</td><td>8.18</td><td>81.80</td></tr>",
                            "<tr><td>10</td><td>113 - VIVA 1/4 FREE</td><td>302 - Dallmayr Sweet 2 - 0.75€</td><td>0.75</td><td>7.43</td><td>8.18</td><td>81.80</td></tr>",
                            "<tr><td>10</td><td>302 - Dallmayr Sweet 2 - 0.75€</td><td>1 - MENU DU JOUR</td><td>7.43</td><td>0.75</td><td>8.18</td><td>81.80</td></tr>",
                            "<tr><td>10</td><td>302 - Dallmayr Sweet 2 - 0.75€</td><td>113 - VIVA 1/4 FREE</td><td>7.43</td><td>0.75</td><td>8.18</td><td>81.80</td></tr>",
                            "<tr><td>10</td><td>113 - VIVA 1/4 FREE</td><td>1206 - DM - PERRIER 33cl 0.73€</td><td>0.73</td><td>7.43</td><td>8.16</td><td>81.60</td></tr>",
                            "<tr><td>10</td><td>113 - VIVA 1/4 FREE</td><td>206 - DM - PERRIER 33cl 0.73€</td><td>0.73</td><td>7.43</td><td>8.16</td><td>81.60</td></tr>",
                            "<tr><td>10</td><td>1 - MENU DU JOUR</td><td>1206 - DM - PERRIER 33cl 0.73€</td><td>0.73</td><td>7.43</td><td>8.16</td><td>81.60</td></tr>",
                            "<tr><td>10</td><td>1 - MENU DU JOUR</td><td>206 - DM - PERRIER 33cl 0.73€</td><td>0.73</td><td>7.43</td><td>8.16</td><td>81.60</td></tr>",
                            "<tr><td>10</td><td>1206 - DM - PERRIER 33cl 0.73€</td><td>113 - VIVA 1/4 FREE</td><td>7.43</td><td>0.73</td><td>8.16</td><td>81.60</td></tr>",
                            "<tr><td>10</td><td>1206 - DM - PERRIER 33cl 0.73€</td><td>1 - MENU DU JOUR</td><td>7.43</td><td>0.73</td><td>8.16</td><td>81.60</td></tr>",
                            "<tr><td>10</td><td>206 - DM - PERRIER 33cl 0.73€</td><td>1 - MENU DU JOUR</td><td>7.43</td><td>0.73</td><td>8.16</td><td>81.60</td></tr>",
                            "<tr><td>10</td><td>206 - DM - PERRIER 33cl 0.73€</td><td>113 - VIVA 1/4 FREE</td><td>7.43</td><td>0.73</td><td>8.16</td><td>81.60</td></tr>",
                            "<tr><td>10</td><td>1 - MENU DU JOUR</td><td>106 - COCA ZERO 1/4</td><td>0.53</td><td>7.43</td><td>7.96</td><td>79.60</td></tr>",
                            "<tr><td>10</td><td>1 - MENU DU JOUR</td><td>107 - ROSPORT 1/4</td><td>0.53</td><td>7.43</td><td>7.96</td><td>79.60</td></tr>",
                            "<tr><td>10</td><td>106 - COCA ZERO 1/4</td><td>1 - MENU DU JOUR</td><td>7.43</td><td>0.53</td><td>7.96</td><td>79.60</td></tr>",
                            "<tr><td>10</td><td>106 - COCA ZERO 1/4</td><td>113 - VIVA 1/4 FREE</td><td>7.43</td><td>0.53</td><td>7.96</td><td>79.60</td></tr>",
                            "<tr><td>10</td><td>113 - VIVA 1/4 FREE</td><td>106 - COCA ZERO 1/4</td><td>0.53</td><td>7.43</td><td>7.96</td><td>79.60</td></tr>",
                            "<tr><td>10</td><td>113 - VIVA 1/4 FREE</td><td>107 - ROSPORT 1/4</td><td>0.53</td><td>7.43</td><td>7.96</td><td>79.60</td></tr>",
                            "<tr><td>10</td><td>107 - ROSPORT 1/4</td><td>1 - MENU DU JOUR</td><td>7.43</td><td>0.53</td><td>7.96</td><td>79.60</td></tr>",
                            "<tr><td>10</td><td>107 - ROSPORT 1/4</td><td>113 - VIVA 1/4 FREE</td><td>7.43</td><td>0.53</td><td>7.96</td><td>79.60</td></tr>",
                            "<tr><td>10</td><td>998 - Donnation ABC Canteen (CR 450)</td><td>998 - Donnation ABC Canteen (CR 450)</td><td>3.00</td><td>3.00</td><td>6.00</td><td>60.00</td></tr>",
                            "<tr><td>10</td><td>998 - Donnation ABC Canteen (CR 450)</td><td>312 - DM Traingles - 2.50€</td><td>2.50</td><td>3.00</td><td>5.50</td><td>55.00</td></tr>",
                            "<tr><td>10</td><td>312 - DM Traingles - 2.50€</td><td>998 - Donnation ABC Canteen (CR 450)</td><td>3.00</td><td>2.50</td><td>5.50</td><td>55.00</td></tr>",
                            "<tr><td>10</td><td>312 - DM Traingles - 2.50€</td><td>312 - DM Traingles - 2.50€</td><td>2.50</td><td>2.50</td><td>5.00</td><td>50.00</td></tr>",
                            "<tr><td>10</td><td>311 - DM Sandwich Maison - 1.80€</td><td>998 - Donnation ABC Canteen (CR 450)</td><td>3.00</td><td>1.80</td><td>4.80</td><td>48.00</td></tr>",
                            "<tr><td>10</td><td>998 - Donnation ABC Canteen (CR 450)</td><td>311 - DM Sandwich Maison - 1.80€</td><td>1.80</td><td>3.00</td><td>4.80</td><td>48.00</td></tr>",
                            "<tr><td>10</td><td>311 - DM Sandwich Maison - 1.80€</td><td>312 - DM Traingles - 2.50€</td><td>2.50</td><td>1.80</td><td>4.30</td><td>43.00</td></tr>",
                            "<tr><td>10</td><td>312 - DM Traingles - 2.50€</td><td>311 - DM Sandwich Maison - 1.80€</td><td>1.80</td><td>2.50</td><td>4.30</td><td>43.00</td></tr>",
                            "<tr><td>10</td><td>305 - Dallmayr Sweet 5 - 0.90€</td><td>998 - Donnation ABC Canteen (CR 450)</td><td>3.00</td><td>0.90</td><td>3.90</td><td>39.00</td></tr>",
                            "<tr><td>10</td><td>998 - Donnation ABC Canteen (CR 450)</td><td>305 - Dallmayr Sweet 5 - 0.90€</td><td>0.90</td><td>3.00</td><td>3.90</td><td>39.00</td></tr>",
                            "<tr><td>10</td><td>998 - Donnation ABC Canteen (CR 450)</td><td>209 - DM - MM ORANGE 33cl 0.86€</td><td>0.86</td><td>3.00</td><td>3.86</td><td>38.60</td></tr>",
                            "<tr><td>10</td><td>209 - DM - MM ORANGE 33cl 0.86€</td><td>998 - Donnation ABC Canteen (CR 450)</td><td>3.00</td><td>0.86</td><td>3.86</td><td>38.60</td></tr>",
                            "<tr><td>10</td><td>303 - Dallmayr Sweet 3 - 0.80€</td><td>998 - Donnation ABC Canteen (CR 450)</td><td>3.00</td><td>0.80</td><td>3.80</td><td>38.00</td></tr>",
                            "<tr><td>10</td><td>998 - Donnation ABC Canteen (CR 450)</td><td>303 - Dallmayr Sweet 3 - 0.80€</td><td>0.80</td><td>3.00</td><td>3.80</td><td>38.00</td></tr>",
                            "<tr><td>10</td><td>998 - Donnation ABC Canteen (CR 450)</td><td>301 - Dallmayr Sweet 1 - 0.70€</td><td>0.70</td><td>3.00</td><td>3.70</td><td>37.00</td></tr>",
                            "<tr><td>10</td><td>301 - Dallmayr Sweet 1 - 0.70€</td><td>998 - Donnation ABC Canteen (CR 450)</td><td>3.00</td><td>0.70</td><td>3.70</td><td>37.00</td></tr>",
                            "<tr><td>10</td><td>212 - DM - COCA COLA ZERO 33cl 0.62€</td><td>998 - Donnation ABC Canteen (CR 450)</td><td>3.00</td><td>0.62</td><td>3.62</td><td>36.20</td></tr>",
                            "<tr><td>10</td><td>998 - Donnation ABC Canteen (CR 450)</td><td>212 - DM - COCA COLA ZERO 33cl 0.62€</td><td>0.62</td><td>3.00</td><td>3.62</td><td>36.20</td></tr>",
                            "<tr><td>10</td><td>311 - DM Sandwich Maison - 1.80€</td><td>311 - DM Sandwich Maison - 1.80€</td><td>1.80</td><td>1.80</td><td>3.60</td><td>36.00</td></tr>",
                            "<tr><td>10</td><td>305 - Dallmayr Sweet 5 - 0.90€</td><td>312 - DM Traingles - 2.50€</td><td>2.50</td><td>0.90</td><td>3.40</td><td>34.00</td></tr>",
                            "<tr><td>10</td><td>312 - DM Traingles - 2.50€</td><td>305 - Dallmayr Sweet 5 - 0.90€</td><td>0.90</td><td>2.50</td><td>3.40</td><td>34.00</td></tr>",
                            "<tr><td>10</td><td>312 - DM Traingles - 2.50€</td><td>209 - DM - MM ORANGE 33cl 0.86€</td><td>0.86</td><td>2.50</td><td>3.36</td><td>33.60</td></tr>",
                            "<tr><td>10</td><td>209 - DM - MM ORANGE 33cl 0.86€</td><td>312 - DM Traingles - 2.50€</td><td>2.50</td><td>0.86</td><td>3.36</td><td>33.60</td></tr>",
                            "<tr><td>10</td><td>303 - Dallmayr Sweet 3 - 0.80€</td><td>312 - DM Traingles - 2.50€</td><td>2.50</td><td>0.80</td><td>3.30</td><td>33.00</td></tr>",
                            "<tr><td>10</td><td>312 - DM Traingles - 2.50€</td><td>303 - Dallmayr Sweet 3 - 0.80€</td><td>0.80</td><td>2.50</td><td>3.30</td><td>33.00</td></tr>",
                            "<tr><td>10</td><td>312 - DM Traingles - 2.50€</td><td>301 - Dallmayr Sweet 1 - 0.70€</td><td>0.70</td><td>2.50</td><td>3.20</td><td>32.00</td></tr>",
                            "<tr><td>10</td><td>301 - Dallmayr Sweet 1 - 0.70€</td><td>312 - DM Traingles - 2.50€</td><td>2.50</td><td>0.70</td><td>3.20</td><td>32.00</td></tr>",
                            "<tr><td>10</td><td>212 - DM - COCA COLA ZERO 33cl 0.62€</td><td>312 - DM Traingles - 2.50€</td><td>2.50</td><td>0.62</td><td>3.12</td><td>31.20</td></tr>",
                            "<tr><td>10</td><td>312 - DM Traingles - 2.50€</td><td>212 - DM - COCA COLA ZERO 33cl 0.62€</td><td>0.62</td><td>2.50</td><td>3.12</td><td>31.20</td></tr>",
                            "<tr><td>10</td><td>311 - DM Sandwich Maison - 1.80€</td><td>305 - Dallmayr Sweet 5 - 0.90€</td><td>0.90</td><td>1.80</td><td>2.70</td><td>27.00</td></tr>",
                            "<tr><td>10</td><td>305 - Dallmayr Sweet 5 - 0.90€</td><td>311 - DM Sandwich Maison - 1.80€</td><td>1.80</td><td>0.90</td><td>2.70</td><td>27.00</td></tr>",
                            "<tr><td>10</td><td>209 - DM - MM ORANGE 33cl 0.86€</td><td>311 - DM Sandwich Maison - 1.80€</td><td>1.80</td><td>0.86</td><td>2.66</td><td>26.60</td></tr>",
                            "<tr><td>10</td><td>311 - DM Sandwich Maison - 1.80€</td><td>209 - DM - MM ORANGE 33cl 0.86€</td><td>0.86</td><td>1.80</td><td>2.66</td><td>26.60</td></tr>",
                            "<tr><td>10</td><td>311 - DM Sandwich Maison - 1.80€</td><td>303 - Dallmayr Sweet 3 - 0.80€</td><td>0.80</td><td>1.80</td><td>2.60</td><td>26.00</td></tr>",
                            "<tr><td>10</td><td>303 - Dallmayr Sweet 3 - 0.80€</td><td>311 - DM Sandwich Maison - 1.80€</td><td>1.80</td><td>0.80</td><td>2.60</td><td>26.00</td></tr>",
                            "<tr><td>10</td><td>301 - Dallmayr Sweet 1 - 0.70€</td><td>311 - DM Sandwich Maison - 1.80€</td><td>1.80</td><td>0.70</td><td>2.50</td><td>25.00</td></tr>",
                            "<tr><td>10</td><td>311 - DM Sandwich Maison - 1.80€</td><td>301 - Dallmayr Sweet 1 - 0.70€</td><td>0.70</td><td>1.80</td><td>2.50</td><td>25.00</td></tr>",
                            "<tr><td>10</td><td>311 - DM Sandwich Maison - 1.80€</td><td>212 - DM - COCA COLA ZERO 33cl 0.62€</td><td>0.62</td><td>1.80</td><td>2.42</td><td>24.20</td></tr>",
                            "<tr><td>10</td><td>212 - DM - COCA COLA ZERO 33cl 0.62€</td><td>311 - DM Sandwich Maison - 1.80€</td><td>1.80</td><td>0.62</td><td>2.42</td><td>24.20</td></tr>",
                            "<tr><td>10</td><td>305 - Dallmayr Sweet 5 - 0.90€</td><td>305 - Dallmayr Sweet 5 - 0.90€</td><td>0.90</td><td>0.90</td><td>1.80</td><td>18.00</td></tr>",
                            "<tr><td>10</td><td>305 - Dallmayr Sweet 5 - 0.90€</td><td>209 - DM - MM ORANGE 33cl 0.86€</td><td>0.86</td><td>0.90</td><td>1.76</td><td>17.60</td></tr>",
                            "<tr><td>10</td><td>209 - DM - MM ORANGE 33cl 0.86€</td><td>305 - Dallmayr Sweet 5 - 0.90€</td><td>0.90</td><td>0.86</td><td>1.76</td><td>17.60</td></tr>",
                            "<tr><td>10</td><td>209 - DM - MM ORANGE 33cl 0.86€</td><td>209 - DM - MM ORANGE 33cl 0.86€</td><td>0.86</td><td>0.86</td><td>1.72</td><td>17.20</td></tr>",
                            "<tr><td>10</td><td>305 - Dallmayr Sweet 5 - 0.90€</td><td>303 - Dallmayr Sweet 3 - 0.80€</td><td>0.80</td><td>0.90</td><td>1.70</td><td>17.00</td></tr>",
                            "<tr><td>10</td><td>304 - Dallmayr Sweet 4 - 0.85€</td><td>304 - Dallmayr Sweet 4 - 0.85€</td><td>0.85</td><td>0.85</td><td>1.70</td><td>17.00</td></tr>",
                            "<tr><td>10</td><td>303 - Dallmayr Sweet 3 - 0.80€</td><td>305 - Dallmayr Sweet 5 - 0.90€</td><td>0.90</td><td>0.80</td><td>1.70</td><td>17.00</td></tr>",
                            "<tr><td>10</td><td>303 - Dallmayr Sweet 3 - 0.80€</td><td>209 - DM - MM ORANGE 33cl 0.86€</td><td>0.86</td><td>0.80</td><td>1.66</td><td>16.60</td></tr>",
                            "<tr><td>10</td><td>209 - DM - MM ORANGE 33cl 0.86€</td><td>303 - Dallmayr Sweet 3 - 0.80€</td><td>0.80</td><td>0.86</td><td>1.66</td><td>16.60</td></tr>",
                            "<tr><td>10</td><td>301 - Dallmayr Sweet 1 - 0.70€</td><td>305 - Dallmayr Sweet 5 - 0.90€</td><td>0.90</td><td>0.70</td><td>1.60</td><td>16.00</td></tr>",
                            "<tr><td>10</td><td>303 - Dallmayr Sweet 3 - 0.80€</td><td>303 - Dallmayr Sweet 3 - 0.80€</td><td>0.80</td><td>0.80</td><td>1.60</td><td>16.00</td></tr>",
                            "<tr><td>10</td><td>302 - Dallmayr Sweet 2 - 0.75€</td><td>304 - Dallmayr Sweet 4 - 0.85€</td><td>0.85</td><td>0.75</td><td>1.60</td><td>16.00</td></tr>",
                            "<tr><td>10</td><td>304 - Dallmayr Sweet 4 - 0.85€</td><td>302 - Dallmayr Sweet 2 - 0.75€</td><td>0.75</td><td>0.85</td><td>1.60</td><td>16.00</td></tr>",
                            "<tr><td>10</td><td>305 - Dallmayr Sweet 5 - 0.90€</td><td>301 - Dallmayr Sweet 1 - 0.70€</td><td>0.70</td><td>0.90</td><td>1.60</td><td>16.00</td></tr>",
                            "<tr><td>10</td><td>304 - Dallmayr Sweet 4 - 0.85€</td><td>1206 - DM - PERRIER 33cl 0.73€</td><td>0.73</td><td>0.85</td><td>1.58</td><td>15.80</td></tr>",
                            "<tr><td>10</td><td>304 - Dallmayr Sweet 4 - 0.85€</td><td>206 - DM - PERRIER 33cl 0.73€</td><td>0.73</td><td>0.85</td><td>1.58</td><td>15.80</td></tr>",
                            "<tr><td>10</td><td>206 - DM - PERRIER 33cl 0.73€</td><td>304 - Dallmayr Sweet 4 - 0.85€</td><td>0.85</td><td>0.73</td><td>1.58</td><td>15.80</td></tr>",
                            "<tr><td>10</td><td>1206 - DM - PERRIER 33cl 0.73€</td><td>304 - Dallmayr Sweet 4 - 0.85€</td><td>0.85</td><td>0.73</td><td>1.58</td><td>15.80</td></tr>",
                            "<tr><td>10</td><td>209 - DM - MM ORANGE 33cl 0.86€</td><td>301 - Dallmayr Sweet 1 - 0.70€</td><td>0.70</td><td>0.86</td><td>1.56</td><td>15.60</td></tr>",
                            "<tr><td>10</td><td>301 - Dallmayr Sweet 1 - 0.70€</td><td>209 - DM - MM ORANGE 33cl 0.86€</td><td>0.86</td><td>0.70</td><td>1.56</td><td>15.60</td></tr>",
                            "<tr><td>10</td><td>212 - DM - COCA COLA ZERO 33cl 0.62€</td><td>305 - Dallmayr Sweet 5 - 0.90€</td><td>0.90</td><td>0.62</td><td>1.52</td><td>15.20</td></tr>",
                            "<tr><td>10</td><td>305 - Dallmayr Sweet 5 - 0.90€</td><td>212 - DM - COCA COLA ZERO 33cl 0.62€</td><td>0.62</td><td>0.90</td><td>1.52</td><td>15.20</td></tr>",
                            "<tr><td>10</td><td>303 - Dallmayr Sweet 3 - 0.80€</td><td>301 - Dallmayr Sweet 1 - 0.70€</td><td>0.70</td><td>0.80</td><td>1.50</td><td>15.00</td></tr>",
                            "<tr><td>10</td><td>302 - Dallmayr Sweet 2 - 0.75€</td><td>302 - Dallmayr Sweet 2 - 0.75€</td><td>0.75</td><td>0.75</td><td>1.50</td><td>15.00</td></tr>",
                            "<tr><td>10</td><td>301 - Dallmayr Sweet 1 - 0.70€</td><td>303 - Dallmayr Sweet 3 - 0.80€</td><td>0.80</td><td>0.70</td><td>1.50</td><td>15.00</td></tr>",
                            "<tr><td>10</td><td>212 - DM - COCA COLA ZERO 33cl 0.62€</td><td>209 - DM - MM ORANGE 33cl 0.86€</td><td>0.86</td><td>0.62</td><td>1.48</td><td>14.80</td></tr>",
                            "<tr><td>10</td><td>302 - Dallmayr Sweet 2 - 0.75€</td><td>1206 - DM - PERRIER 33cl 0.73€</td><td>0.73</td><td>0.75</td><td>1.48</td><td>14.80</td></tr>",
                            "<tr><td>10</td><td>302 - Dallmayr Sweet 2 - 0.75€</td><td>206 - DM - PERRIER 33cl 0.73€</td><td>0.73</td><td>0.75</td><td>1.48</td><td>14.80</td></tr>",
                            "<tr><td>10</td><td>1206 - DM - PERRIER 33cl 0.73€</td><td>302 - Dallmayr Sweet 2 - 0.75€</td><td>0.75</td><td>0.73</td><td>1.48</td><td>14.80</td></tr>",
                            "<tr><td>10</td><td>209 - DM - MM ORANGE 33cl 0.86€</td><td>212 - DM - COCA COLA ZERO 33cl 0.62€</td><td>0.62</td><td>0.86</td><td>1.48</td><td>14.80</td></tr>",
                            "<tr><td>10</td><td>206 - DM - PERRIER 33cl 0.73€</td><td>302 - Dallmayr Sweet 2 - 0.75€</td><td>0.75</td><td>0.73</td><td>1.48</td><td>14.80</td></tr>",
                            "<tr><td>10</td><td>206 - DM - PERRIER 33cl 0.73€</td><td>1206 - DM - PERRIER 33cl 0.73€</td><td>0.73</td><td>0.73</td><td>1.46</td><td>14.60</td></tr>",
                            "<tr><td>10</td><td>206 - DM - PERRIER 33cl 0.73€</td><td>206 - DM - PERRIER 33cl 0.73€</td><td>0.73</td><td>0.73</td><td>1.46</td><td>14.60</td></tr>",
                            "<tr><td>10</td><td>1206 - DM - PERRIER 33cl 0.73€</td><td>1206 - DM - PERRIER 33cl 0.73€</td><td>0.73</td><td>0.73</td><td>1.46</td><td>14.60</td></tr>",
                            "<tr><td>10</td><td>1206 - DM - PERRIER 33cl 0.73€</td><td>206 - DM - PERRIER 33cl 0.73€</td><td>0.73</td><td>0.73</td><td>1.46</td><td>14.60</td></tr>",
                            "<tr><td>10</td><td>303 - Dallmayr Sweet 3 - 0.80€</td><td>212 - DM - COCA COLA ZERO 33cl 0.62€</td><td>0.62</td><td>0.80</td><td>1.42</td><td>14.20</td></tr>",
                            "<tr><td>10</td><td>212 - DM - COCA COLA ZERO 33cl 0.62€</td><td>303 - Dallmayr Sweet 3 - 0.80€</td><td>0.80</td><td>0.62</td><td>1.42</td><td>14.20</td></tr>",
                            "<tr><td>10</td><td>301 - Dallmayr Sweet 1 - 0.70€</td><td>301 - Dallmayr Sweet 1 - 0.70€</td><td>0.70</td><td>0.70</td><td>1.40</td><td>14.00</td></tr>",
                            "<tr><td>10</td><td>304 - Dallmayr Sweet 4 - 0.85€</td><td>106 - COCA ZERO 1/4</td><td>0.53</td><td>0.85</td><td>1.38</td><td>13.80</td></tr>",
                            "<tr><td>10</td><td>304 - Dallmayr Sweet 4 - 0.85€</td><td>107 - ROSPORT 1/4</td><td>0.53</td><td>0.85</td><td>1.38</td><td>13.80</td></tr>",
                            "<tr><td>10</td><td>107 - ROSPORT 1/4</td><td>304 - Dallmayr Sweet 4 - 0.85€</td><td>0.85</td><td>0.53</td><td>1.38</td><td>13.80</td></tr>",
                            "<tr><td>10</td><td>106 - COCA ZERO 1/4</td><td>304 - Dallmayr Sweet 4 - 0.85€</td><td>0.85</td><td>0.53</td><td>1.38</td><td>13.80</td></tr>",
                            "<tr><td>10</td><td>301 - Dallmayr Sweet 1 - 0.70€</td><td>212 - DM - COCA COLA ZERO 33cl 0.62€</td><td>0.62</td><td>0.70</td><td>1.32</td><td>13.20</td></tr>",
                            "<tr><td>10</td><td>212 - DM - COCA COLA ZERO 33cl 0.62€</td><td>301 - Dallmayr Sweet 1 - 0.70€</td><td>0.70</td><td>0.62</td><td>1.32</td><td>13.20</td></tr>",
                            "<tr><td>10</td><td>302 - Dallmayr Sweet 2 - 0.75€</td><td>106 - COCA ZERO 1/4</td><td>0.53</td><td>0.75</td><td>1.28</td><td>12.80</td></tr>",
                            "<tr><td>10</td><td>302 - Dallmayr Sweet 2 - 0.75€</td><td>107 - ROSPORT 1/4</td><td>0.53</td><td>0.75</td><td>1.28</td><td>12.80</td></tr>",
                            "<tr><td>10</td><td>106 - COCA ZERO 1/4</td><td>302 - Dallmayr Sweet 2 - 0.75€</td><td>0.75</td><td>0.53</td><td>1.28</td><td>12.80</td></tr>",
                            "<tr><td>10</td><td>107 - ROSPORT 1/4</td><td>302 - Dallmayr Sweet 2 - 0.75€</td><td>0.75</td><td>0.53</td><td>1.28</td><td>12.80</td></tr>",
                            "<tr><td>10</td><td>107 - ROSPORT 1/4</td><td>1206 - DM - PERRIER 33cl 0.73€</td><td>0.73</td><td>0.53</td><td>1.26</td><td>12.60</td></tr>",
                            "<tr><td>10</td><td>107 - ROSPORT 1/4</td><td>206 - DM - PERRIER 33cl 0.73€</td><td>0.73</td><td>0.53</td><td>1.26</td><td>12.60</td></tr>",
                            "<tr><td>10</td><td>106 - COCA ZERO 1/4</td><td>1206 - DM - PERRIER 33cl 0.73€</td><td>0.73</td><td>0.53</td><td>1.26</td><td>12.60</td></tr>",
                            "<tr><td>10</td><td>106 - COCA ZERO 1/4</td><td>206 - DM - PERRIER 33cl 0.73€</td><td>0.73</td><td>0.53</td><td>1.26</td><td>12.60</td></tr>",
                            "<tr><td>10</td><td>1206 - DM - PERRIER 33cl 0.73€</td><td>106 - COCA ZERO 1/4</td><td>0.53</td><td>0.73</td><td>1.26</td><td>12.60</td></tr>",
                            "<tr><td>10</td><td>1206 - DM - PERRIER 33cl 0.73€</td><td>107 - ROSPORT 1/4</td><td>0.53</td><td>0.73</td><td>1.26</td><td>12.60</td></tr>",
                            "<tr><td>10</td><td>206 - DM - PERRIER 33cl 0.73€</td><td>106 - COCA ZERO 1/4</td><td>0.53</td><td>0.73</td><td>1.26</td><td>12.60</td></tr>",
                            "<tr><td>10</td><td>206 - DM - PERRIER 33cl 0.73€</td><td>107 - ROSPORT 1/4</td><td>0.53</td><td>0.73</td><td>1.26</td><td>12.60</td></tr>",
                            "<tr><td>10</td><td>212 - DM - COCA COLA ZERO 33cl 0.62€</td><td>212 - DM - COCA COLA ZERO 33cl 0.62€</td><td>0.62</td><td>0.62</td><td>1.24</td><td>12.40</td></tr>",
                            "<tr><td>10</td><td>106 - COCA ZERO 1/4</td><td>106 - COCA ZERO 1/4</td><td>0.53</td><td>0.53</td><td>1.06</td><td>10.60</td></tr>",
                            "<tr><td>10</td><td>106 - COCA ZERO 1/4</td><td>107 - ROSPORT 1/4</td><td>0.53</td><td>0.53</td><td>1.06</td><td>10.60</td></tr>",
                            "<tr><td>10</td><td>107 - ROSPORT 1/4</td><td>106 - COCA ZERO 1/4</td><td>0.53</td><td>0.53</td><td>1.06</td><td>10.60</td></tr>",
                            "<tr><td>10</td><td>107 - ROSPORT 1/4</td><td>107 - ROSPORT 1/4</td><td>0.53</td><td>0.53</td><td>1.06</td><td>10.60</td></tr>",
                            "</table>"
                        ]
                    }
                }
            ],
            "execution_count": 18
        },
        {
            "cell_type": "code",
            "source": [
                "/*Calculate items 'combo' prices*/\r\n",
                "\r\n",
                "WITH item_cte AS (\r\n",
                "    SELECT\r\n",
                "        CAST([Id] as varchar(255)) as OrderSequence,\r\n",
                "        [unitPrice] as [combo_price]\r\n",
                "    FROM\r\n",
                "        [portfolio].[cantine].[items]\r\n",
                "        WHERE [unitPrice] <= 42.9\r\n",
                "    UNION ALL\r\n",
                "    SELECT\r\n",
                "        CAST(CAST(ic.[Id] as varchar(255)) + ', ' + icte.OrderSequence AS varchar(255)) as OrderSequence,\r\n",
                "        CAST(ic.[unitPrice]+ icte.combo_price as NUMERIC(5,2)) as [combo_price] --(ic.[unitPrice] + icte.combo_price) as [combo_price]\r\n",
                "    FROM\r\n",
                "        [portfolio].[cantine].[items] ic\r\n",
                "        CROSS JOIN item_cte icte\r\n",
                "        --JOIN item_cte icte ON ic.[Id] = CAST(LEFT(icte.OrderSequence, CHARINDEX(',', icte.OrderSequence + ',')-1) as int)\r\n",
                "        WHERE combo_price <= 42.9\r\n",
                ")\r\n",
                "SELECT OrderSequence, combo_price\r\n",
                "FROM item_cte\r\n",
                "OPTION (MAXRECURSION 15); -- this is to prevent maximum recursion level exceeded error, set to 0 to allow unlimited recursion levels"
            ],
            "metadata": {
                "language": "sql",
                "azdata_cell_guid": "dd1dc856-cf1b-47cb-8d8e-af96791958a2"
            },
            "outputs": [
                {
                    "output_type": "display_data",
                    "data": {
                        "text/html": "Total execution time: 00:00:00.136"
                    },
                    "metadata": {}
                },
                {
                    "output_type": "execute_result",
                    "metadata": {},
                    "execution_count": 19,
                    "data": {
                        "application/vnd.dataresource+json": {
                            "schema": {
                                "fields": [
                                    {
                                        "name": "OrderSequence"
                                    },
                                    {
                                        "name": "combo_price"
                                    }
                                ]
                            },
                            "data": [
                                {
                                    "OrderSequence": "1",
                                    "combo_price": "7.43"
                                },
                                {
                                    "OrderSequence": "2",
                                    "combo_price": "0.53"
                                },
                                {
                                    "OrderSequence": "3",
                                    "combo_price": "0.53"
                                },
                                {
                                    "OrderSequence": "4",
                                    "combo_price": "0.00"
                                },
                                {
                                    "OrderSequence": "5",
                                    "combo_price": "0.00"
                                },
                                {
                                    "OrderSequence": "6",
                                    "combo_price": "7.43"
                                },
                                {
                                    "OrderSequence": "7",
                                    "combo_price": "0.73"
                                },
                                {
                                    "OrderSequence": "8",
                                    "combo_price": "9.86"
                                },
                                {
                                    "OrderSequence": "9",
                                    "combo_price": "0.73"
                                },
                                {
                                    "OrderSequence": "10",
                                    "combo_price": "0.86"
                                },
                                {
                                    "OrderSequence": "11",
                                    "combo_price": "0.62"
                                },
                                {
                                    "OrderSequence": "12",
                                    "combo_price": "11.53"
                                },
                                {
                                    "OrderSequence": "13",
                                    "combo_price": "0.70"
                                },
                                {
                                    "OrderSequence": "14",
                                    "combo_price": "0.75"
                                },
                                {
                                    "OrderSequence": "15",
                                    "combo_price": "0.80"
                                },
                                {
                                    "OrderSequence": "16",
                                    "combo_price": "0.85"
                                },
                                {
                                    "OrderSequence": "17",
                                    "combo_price": "0.90"
                                },
                                {
                                    "OrderSequence": "18",
                                    "combo_price": "1.80"
                                },
                                {
                                    "OrderSequence": "19",
                                    "combo_price": "2.50"
                                },
                                {
                                    "OrderSequence": "20",
                                    "combo_price": "12.93"
                                },
                                {
                                    "OrderSequence": "21",
                                    "combo_price": "10.57"
                                },
                                {
                                    "OrderSequence": "22",
                                    "combo_price": "3.00"
                                },
                                {
                                    "OrderSequence": "1, 22",
                                    "combo_price": "10.43"
                                },
                                {
                                    "OrderSequence": "2, 22",
                                    "combo_price": "3.53"
                                },
                                {
                                    "OrderSequence": "3, 22",
                                    "combo_price": "3.53"
                                },
                                {
                                    "OrderSequence": "4, 22",
                                    "combo_price": "3.00"
                                },
                                {
                                    "OrderSequence": "5, 22",
                                    "combo_price": "3.00"
                                },
                                {
                                    "OrderSequence": "6, 22",
                                    "combo_price": "10.43"
                                },
                                {
                                    "OrderSequence": "7, 22",
                                    "combo_price": "3.73"
                                },
                                {
                                    "OrderSequence": "8, 22",
                                    "combo_price": "12.86"
                                },
                                {
                                    "OrderSequence": "9, 22",
                                    "combo_price": "3.73"
                                },
                                {
                                    "OrderSequence": "10, 22",
                                    "combo_price": "3.86"
                                },
                                {
                                    "OrderSequence": "11, 22",
                                    "combo_price": "3.62"
                                },
                                {
                                    "OrderSequence": "12, 22",
                                    "combo_price": "14.53"
                                },
                                {
                                    "OrderSequence": "13, 22",
                                    "combo_price": "3.70"
                                },
                                {
                                    "OrderSequence": "14, 22",
                                    "combo_price": "3.75"
                                },
                                {
                                    "OrderSequence": "15, 22",
                                    "combo_price": "3.80"
                                },
                                {
                                    "OrderSequence": "16, 22",
                                    "combo_price": "3.85"
                                },
                                {
                                    "OrderSequence": "17, 22",
                                    "combo_price": "3.90"
                                },
                                {
                                    "OrderSequence": "18, 22",
                                    "combo_price": "4.80"
                                },
                                {
                                    "OrderSequence": "19, 22",
                                    "combo_price": "5.50"
                                },
                                {
                                    "OrderSequence": "20, 22",
                                    "combo_price": "15.93"
                                },
                                {
                                    "OrderSequence": "21, 22",
                                    "combo_price": "13.57"
                                },
                                {
                                    "OrderSequence": "22, 22",
                                    "combo_price": "6.00"
                                },
                                {
                                    "OrderSequence": "1, 22, 22",
                                    "combo_price": "13.43"
                                },
                                {
                                    "OrderSequence": "2, 22, 22",
                                    "combo_price": "6.53"
                                },
                                {
                                    "OrderSequence": "3, 22, 22",
                                    "combo_price": "6.53"
                                },
                                {
                                    "OrderSequence": "4, 22, 22",
                                    "combo_price": "6.00"
                                },
                                {
                                    "OrderSequence": "5, 22, 22",
                                    "combo_price": "6.00"
                                },
                                {
                                    "OrderSequence": "6, 22, 22",
                                    "combo_price": "13.43"
                                },
                                {
                                    "OrderSequence": "7, 22, 22",
                                    "combo_price": "6.73"
                                },
                                {
                                    "OrderSequence": "8, 22, 22",
                                    "combo_price": "15.86"
                                },
                                {
                                    "OrderSequence": "9, 22, 22",
                                    "combo_price": "6.73"
                                },
                                {
                                    "OrderSequence": "10, 22, 22",
                                    "combo_price": "6.86"
                                },
                                {
                                    "OrderSequence": "11, 22, 22",
                                    "combo_price": "6.62"
                                },
                                {
                                    "OrderSequence": "12, 22, 22",
                                    "combo_price": "17.53"
                                },
                                {
                                    "OrderSequence": "13, 22, 22",
                                    "combo_price": "6.70"
                                },
                                {
                                    "OrderSequence": "14, 22, 22",
                                    "combo_price": "6.75"
                                },
                                {
                                    "OrderSequence": "15, 22, 22",
                                    "combo_price": "6.80"
                                },
                                {
                                    "OrderSequence": "16, 22, 22",
                                    "combo_price": "6.85"
                                },
                                {
                                    "OrderSequence": "17, 22, 22",
                                    "combo_price": "6.90"
                                },
                                {
                                    "OrderSequence": "18, 22, 22",
                                    "combo_price": "7.80"
                                },
                                {
                                    "OrderSequence": "19, 22, 22",
                                    "combo_price": "8.50"
                                },
                                {
                                    "OrderSequence": "20, 22, 22",
                                    "combo_price": "18.93"
                                },
                                {
                                    "OrderSequence": "21, 22, 22",
                                    "combo_price": "16.57"
                                },
                                {
                                    "OrderSequence": "22, 22, 22",
                                    "combo_price": "9.00"
                                },
                                {
                                    "OrderSequence": "1, 22, 22, 22",
                                    "combo_price": "16.43"
                                },
                                {
                                    "OrderSequence": "2, 22, 22, 22",
                                    "combo_price": "9.53"
                                },
                                {
                                    "OrderSequence": "3, 22, 22, 22",
                                    "combo_price": "9.53"
                                },
                                {
                                    "OrderSequence": "4, 22, 22, 22",
                                    "combo_price": "9.00"
                                },
                                {
                                    "OrderSequence": "5, 22, 22, 22",
                                    "combo_price": "9.00"
                                },
                                {
                                    "OrderSequence": "6, 22, 22, 22",
                                    "combo_price": "16.43"
                                },
                                {
                                    "OrderSequence": "7, 22, 22, 22",
                                    "combo_price": "9.73"
                                },
                                {
                                    "OrderSequence": "8, 22, 22, 22",
                                    "combo_price": "18.86"
                                },
                                {
                                    "OrderSequence": "9, 22, 22, 22",
                                    "combo_price": "9.73"
                                },
                                {
                                    "OrderSequence": "10, 22, 22, 22",
                                    "combo_price": "9.86"
                                },
                                {
                                    "OrderSequence": "11, 22, 22, 22",
                                    "combo_price": "9.62"
                                },
                                {
                                    "OrderSequence": "12, 22, 22, 22",
                                    "combo_price": "20.53"
                                },
                                {
                                    "OrderSequence": "13, 22, 22, 22",
                                    "combo_price": "9.70"
                                },
                                {
                                    "OrderSequence": "14, 22, 22, 22",
                                    "combo_price": "9.75"
                                },
                                {
                                    "OrderSequence": "15, 22, 22, 22",
                                    "combo_price": "9.80"
                                },
                                {
                                    "OrderSequence": "16, 22, 22, 22",
                                    "combo_price": "9.85"
                                },
                                {
                                    "OrderSequence": "17, 22, 22, 22",
                                    "combo_price": "9.90"
                                },
                                {
                                    "OrderSequence": "18, 22, 22, 22",
                                    "combo_price": "10.80"
                                },
                                {
                                    "OrderSequence": "19, 22, 22, 22",
                                    "combo_price": "11.50"
                                },
                                {
                                    "OrderSequence": "20, 22, 22, 22",
                                    "combo_price": "21.93"
                                },
                                {
                                    "OrderSequence": "21, 22, 22, 22",
                                    "combo_price": "19.57"
                                },
                                {
                                    "OrderSequence": "22, 22, 22, 22",
                                    "combo_price": "12.00"
                                },
                                {
                                    "OrderSequence": "1, 22, 22, 22, 22",
                                    "combo_price": "19.43"
                                },
                                {
                                    "OrderSequence": "2, 22, 22, 22, 22",
                                    "combo_price": "12.53"
                                },
                                {
                                    "OrderSequence": "3, 22, 22, 22, 22",
                                    "combo_price": "12.53"
                                },
                                {
                                    "OrderSequence": "4, 22, 22, 22, 22",
                                    "combo_price": "12.00"
                                },
                                {
                                    "OrderSequence": "5, 22, 22, 22, 22",
                                    "combo_price": "12.00"
                                },
                                {
                                    "OrderSequence": "6, 22, 22, 22, 22",
                                    "combo_price": "19.43"
                                },
                                {
                                    "OrderSequence": "7, 22, 22, 22, 22",
                                    "combo_price": "12.73"
                                },
                                {
                                    "OrderSequence": "8, 22, 22, 22, 22",
                                    "combo_price": "21.86"
                                },
                                {
                                    "OrderSequence": "9, 22, 22, 22, 22",
                                    "combo_price": "12.73"
                                },
                                {
                                    "OrderSequence": "10, 22, 22, 22, 22",
                                    "combo_price": "12.86"
                                },
                                {
                                    "OrderSequence": "11, 22, 22, 22, 22",
                                    "combo_price": "12.62"
                                },
                                {
                                    "OrderSequence": "12, 22, 22, 22, 22",
                                    "combo_price": "23.53"
                                },
                                {
                                    "OrderSequence": "13, 22, 22, 22, 22",
                                    "combo_price": "12.70"
                                },
                                {
                                    "OrderSequence": "14, 22, 22, 22, 22",
                                    "combo_price": "12.75"
                                },
                                {
                                    "OrderSequence": "15, 22, 22, 22, 22",
                                    "combo_price": "12.80"
                                },
                                {
                                    "OrderSequence": "16, 22, 22, 22, 22",
                                    "combo_price": "12.85"
                                },
                                {
                                    "OrderSequence": "17, 22, 22, 22, 22",
                                    "combo_price": "12.90"
                                },
                                {
                                    "OrderSequence": "18, 22, 22, 22, 22",
                                    "combo_price": "13.80"
                                },
                                {
                                    "OrderSequence": "19, 22, 22, 22, 22",
                                    "combo_price": "14.50"
                                },
                                {
                                    "OrderSequence": "20, 22, 22, 22, 22",
                                    "combo_price": "24.93"
                                },
                                {
                                    "OrderSequence": "21, 22, 22, 22, 22",
                                    "combo_price": "22.57"
                                },
                                {
                                    "OrderSequence": "22, 22, 22, 22, 22",
                                    "combo_price": "15.00"
                                },
                                {
                                    "OrderSequence": "1, 22, 22, 22, 22, 22",
                                    "combo_price": "22.43"
                                },
                                {
                                    "OrderSequence": "2, 22, 22, 22, 22, 22",
                                    "combo_price": "15.53"
                                },
                                {
                                    "OrderSequence": "3, 22, 22, 22, 22, 22",
                                    "combo_price": "15.53"
                                },
                                {
                                    "OrderSequence": "4, 22, 22, 22, 22, 22",
                                    "combo_price": "15.00"
                                },
                                {
                                    "OrderSequence": "5, 22, 22, 22, 22, 22",
                                    "combo_price": "15.00"
                                },
                                {
                                    "OrderSequence": "6, 22, 22, 22, 22, 22",
                                    "combo_price": "22.43"
                                },
                                {
                                    "OrderSequence": "7, 22, 22, 22, 22, 22",
                                    "combo_price": "15.73"
                                },
                                {
                                    "OrderSequence": "8, 22, 22, 22, 22, 22",
                                    "combo_price": "24.86"
                                },
                                {
                                    "OrderSequence": "9, 22, 22, 22, 22, 22",
                                    "combo_price": "15.73"
                                },
                                {
                                    "OrderSequence": "10, 22, 22, 22, 22, 22",
                                    "combo_price": "15.86"
                                },
                                {
                                    "OrderSequence": "11, 22, 22, 22, 22, 22",
                                    "combo_price": "15.62"
                                },
                                {
                                    "OrderSequence": "12, 22, 22, 22, 22, 22",
                                    "combo_price": "26.53"
                                },
                                {
                                    "OrderSequence": "13, 22, 22, 22, 22, 22",
                                    "combo_price": "15.70"
                                },
                                {
                                    "OrderSequence": "14, 22, 22, 22, 22, 22",
                                    "combo_price": "15.75"
                                },
                                {
                                    "OrderSequence": "15, 22, 22, 22, 22, 22",
                                    "combo_price": "15.80"
                                },
                                {
                                    "OrderSequence": "16, 22, 22, 22, 22, 22",
                                    "combo_price": "15.85"
                                },
                                {
                                    "OrderSequence": "17, 22, 22, 22, 22, 22",
                                    "combo_price": "15.90"
                                },
                                {
                                    "OrderSequence": "18, 22, 22, 22, 22, 22",
                                    "combo_price": "16.80"
                                },
                                {
                                    "OrderSequence": "19, 22, 22, 22, 22, 22",
                                    "combo_price": "17.50"
                                },
                                {
                                    "OrderSequence": "20, 22, 22, 22, 22, 22",
                                    "combo_price": "27.93"
                                },
                                {
                                    "OrderSequence": "21, 22, 22, 22, 22, 22",
                                    "combo_price": "25.57"
                                },
                                {
                                    "OrderSequence": "22, 22, 22, 22, 22, 22",
                                    "combo_price": "18.00"
                                },
                                {
                                    "OrderSequence": "1, 22, 22, 22, 22, 22, 22",
                                    "combo_price": "25.43"
                                },
                                {
                                    "OrderSequence": "2, 22, 22, 22, 22, 22, 22",
                                    "combo_price": "18.53"
                                },
                                {
                                    "OrderSequence": "3, 22, 22, 22, 22, 22, 22",
                                    "combo_price": "18.53"
                                },
                                {
                                    "OrderSequence": "4, 22, 22, 22, 22, 22, 22",
                                    "combo_price": "18.00"
                                },
                                {
                                    "OrderSequence": "5, 22, 22, 22, 22, 22, 22",
                                    "combo_price": "18.00"
                                },
                                {
                                    "OrderSequence": "6, 22, 22, 22, 22, 22, 22",
                                    "combo_price": "25.43"
                                },
                                {
                                    "OrderSequence": "7, 22, 22, 22, 22, 22, 22",
                                    "combo_price": "18.73"
                                },
                                {
                                    "OrderSequence": "8, 22, 22, 22, 22, 22, 22",
                                    "combo_price": "27.86"
                                },
                                {
                                    "OrderSequence": "9, 22, 22, 22, 22, 22, 22",
                                    "combo_price": "18.73"
                                },
                                {
                                    "OrderSequence": "10, 22, 22, 22, 22, 22, 22",
                                    "combo_price": "18.86"
                                },
                                {
                                    "OrderSequence": "11, 22, 22, 22, 22, 22, 22",
                                    "combo_price": "18.62"
                                },
                                {
                                    "OrderSequence": "12, 22, 22, 22, 22, 22, 22",
                                    "combo_price": "29.53"
                                },
                                {
                                    "OrderSequence": "13, 22, 22, 22, 22, 22, 22",
                                    "combo_price": "18.70"
                                },
                                {
                                    "OrderSequence": "14, 22, 22, 22, 22, 22, 22",
                                    "combo_price": "18.75"
                                },
                                {
                                    "OrderSequence": "15, 22, 22, 22, 22, 22, 22",
                                    "combo_price": "18.80"
                                },
                                {
                                    "OrderSequence": "16, 22, 22, 22, 22, 22, 22",
                                    "combo_price": "18.85"
                                },
                                {
                                    "OrderSequence": "17, 22, 22, 22, 22, 22, 22",
                                    "combo_price": "18.90"
                                },
                                {
                                    "OrderSequence": "18, 22, 22, 22, 22, 22, 22",
                                    "combo_price": "19.80"
                                },
                                {
                                    "OrderSequence": "19, 22, 22, 22, 22, 22, 22",
                                    "combo_price": "20.50"
                                },
                                {
                                    "OrderSequence": "20, 22, 22, 22, 22, 22, 22",
                                    "combo_price": "30.93"
                                },
                                {
                                    "OrderSequence": "21, 22, 22, 22, 22, 22, 22",
                                    "combo_price": "28.57"
                                },
                                {
                                    "OrderSequence": "22, 22, 22, 22, 22, 22, 22",
                                    "combo_price": "21.00"
                                },
                                {
                                    "OrderSequence": "1, 22, 22, 22, 22, 22, 22, 22",
                                    "combo_price": "28.43"
                                },
                                {
                                    "OrderSequence": "2, 22, 22, 22, 22, 22, 22, 22",
                                    "combo_price": "21.53"
                                },
                                {
                                    "OrderSequence": "3, 22, 22, 22, 22, 22, 22, 22",
                                    "combo_price": "21.53"
                                },
                                {
                                    "OrderSequence": "4, 22, 22, 22, 22, 22, 22, 22",
                                    "combo_price": "21.00"
                                },
                                {
                                    "OrderSequence": "5, 22, 22, 22, 22, 22, 22, 22",
                                    "combo_price": "21.00"
                                },
                                {
                                    "OrderSequence": "6, 22, 22, 22, 22, 22, 22, 22",
                                    "combo_price": "28.43"
                                },
                                {
                                    "OrderSequence": "7, 22, 22, 22, 22, 22, 22, 22",
                                    "combo_price": "21.73"
                                },
                                {
                                    "OrderSequence": "8, 22, 22, 22, 22, 22, 22, 22",
                                    "combo_price": "30.86"
                                },
                                {
                                    "OrderSequence": "9, 22, 22, 22, 22, 22, 22, 22",
                                    "combo_price": "21.73"
                                },
                                {
                                    "OrderSequence": "10, 22, 22, 22, 22, 22, 22, 22",
                                    "combo_price": "21.86"
                                },
                                {
                                    "OrderSequence": "11, 22, 22, 22, 22, 22, 22, 22",
                                    "combo_price": "21.62"
                                },
                                {
                                    "OrderSequence": "12, 22, 22, 22, 22, 22, 22, 22",
                                    "combo_price": "32.53"
                                },
                                {
                                    "OrderSequence": "13, 22, 22, 22, 22, 22, 22, 22",
                                    "combo_price": "21.70"
                                },
                                {
                                    "OrderSequence": "14, 22, 22, 22, 22, 22, 22, 22",
                                    "combo_price": "21.75"
                                },
                                {
                                    "OrderSequence": "15, 22, 22, 22, 22, 22, 22, 22",
                                    "combo_price": "21.80"
                                },
                                {
                                    "OrderSequence": "16, 22, 22, 22, 22, 22, 22, 22",
                                    "combo_price": "21.85"
                                },
                                {
                                    "OrderSequence": "17, 22, 22, 22, 22, 22, 22, 22",
                                    "combo_price": "21.90"
                                },
                                {
                                    "OrderSequence": "18, 22, 22, 22, 22, 22, 22, 22",
                                    "combo_price": "22.80"
                                },
                                {
                                    "OrderSequence": "19, 22, 22, 22, 22, 22, 22, 22",
                                    "combo_price": "23.50"
                                },
                                {
                                    "OrderSequence": "20, 22, 22, 22, 22, 22, 22, 22",
                                    "combo_price": "33.93"
                                },
                                {
                                    "OrderSequence": "21, 22, 22, 22, 22, 22, 22, 22",
                                    "combo_price": "31.57"
                                },
                                {
                                    "OrderSequence": "22, 22, 22, 22, 22, 22, 22, 22",
                                    "combo_price": "24.00"
                                },
                                {
                                    "OrderSequence": "1, 22, 22, 22, 22, 22, 22, 22, 22",
                                    "combo_price": "31.43"
                                },
                                {
                                    "OrderSequence": "2, 22, 22, 22, 22, 22, 22, 22, 22",
                                    "combo_price": "24.53"
                                },
                                {
                                    "OrderSequence": "3, 22, 22, 22, 22, 22, 22, 22, 22",
                                    "combo_price": "24.53"
                                },
                                {
                                    "OrderSequence": "4, 22, 22, 22, 22, 22, 22, 22, 22",
                                    "combo_price": "24.00"
                                },
                                {
                                    "OrderSequence": "5, 22, 22, 22, 22, 22, 22, 22, 22",
                                    "combo_price": "24.00"
                                },
                                {
                                    "OrderSequence": "6, 22, 22, 22, 22, 22, 22, 22, 22",
                                    "combo_price": "31.43"
                                },
                                {
                                    "OrderSequence": "7, 22, 22, 22, 22, 22, 22, 22, 22",
                                    "combo_price": "24.73"
                                },
                                {
                                    "OrderSequence": "8, 22, 22, 22, 22, 22, 22, 22, 22",
                                    "combo_price": "33.86"
                                },
                                {
                                    "OrderSequence": "9, 22, 22, 22, 22, 22, 22, 22, 22",
                                    "combo_price": "24.73"
                                },
                                {
                                    "OrderSequence": "10, 22, 22, 22, 22, 22, 22, 22, 22",
                                    "combo_price": "24.86"
                                },
                                {
                                    "OrderSequence": "11, 22, 22, 22, 22, 22, 22, 22, 22",
                                    "combo_price": "24.62"
                                },
                                {
                                    "OrderSequence": "12, 22, 22, 22, 22, 22, 22, 22, 22",
                                    "combo_price": "35.53"
                                },
                                {
                                    "OrderSequence": "13, 22, 22, 22, 22, 22, 22, 22, 22",
                                    "combo_price": "24.70"
                                },
                                {
                                    "OrderSequence": "14, 22, 22, 22, 22, 22, 22, 22, 22",
                                    "combo_price": "24.75"
                                },
                                {
                                    "OrderSequence": "15, 22, 22, 22, 22, 22, 22, 22, 22",
                                    "combo_price": "24.80"
                                },
                                {
                                    "OrderSequence": "16, 22, 22, 22, 22, 22, 22, 22, 22",
                                    "combo_price": "24.85"
                                },
                                {
                                    "OrderSequence": "17, 22, 22, 22, 22, 22, 22, 22, 22",
                                    "combo_price": "24.90"
                                },
                                {
                                    "OrderSequence": "18, 22, 22, 22, 22, 22, 22, 22, 22",
                                    "combo_price": "25.80"
                                },
                                {
                                    "OrderSequence": "19, 22, 22, 22, 22, 22, 22, 22, 22",
                                    "combo_price": "26.50"
                                },
                                {
                                    "OrderSequence": "20, 22, 22, 22, 22, 22, 22, 22, 22",
                                    "combo_price": "36.93"
                                },
                                {
                                    "OrderSequence": "21, 22, 22, 22, 22, 22, 22, 22, 22",
                                    "combo_price": "34.57"
                                },
                                {
                                    "OrderSequence": "22, 22, 22, 22, 22, 22, 22, 22, 22",
                                    "combo_price": "27.00"
                                },
                                {
                                    "OrderSequence": "1, 22, 22, 22, 22, 22, 22, 22, 22, 22",
                                    "combo_price": "34.43"
                                },
                                {
                                    "OrderSequence": "2, 22, 22, 22, 22, 22, 22, 22, 22, 22",
                                    "combo_price": "27.53"
                                },
                                {
                                    "OrderSequence": "3, 22, 22, 22, 22, 22, 22, 22, 22, 22",
                                    "combo_price": "27.53"
                                },
                                {
                                    "OrderSequence": "4, 22, 22, 22, 22, 22, 22, 22, 22, 22",
                                    "combo_price": "27.00"
                                },
                                {
                                    "OrderSequence": "5, 22, 22, 22, 22, 22, 22, 22, 22, 22",
                                    "combo_price": "27.00"
                                },
                                {
                                    "OrderSequence": "6, 22, 22, 22, 22, 22, 22, 22, 22, 22",
                                    "combo_price": "34.43"
                                },
                                {
                                    "OrderSequence": "7, 22, 22, 22, 22, 22, 22, 22, 22, 22",
                                    "combo_price": "27.73"
                                },
                                {
                                    "OrderSequence": "8, 22, 22, 22, 22, 22, 22, 22, 22, 22",
                                    "combo_price": "36.86"
                                },
                                {
                                    "OrderSequence": "9, 22, 22, 22, 22, 22, 22, 22, 22, 22",
                                    "combo_price": "27.73"
                                },
                                {
                                    "OrderSequence": "10, 22, 22, 22, 22, 22, 22, 22, 22, 22",
                                    "combo_price": "27.86"
                                },
                                {
                                    "OrderSequence": "11, 22, 22, 22, 22, 22, 22, 22, 22, 22",
                                    "combo_price": "27.62"
                                },
                                {
                                    "OrderSequence": "12, 22, 22, 22, 22, 22, 22, 22, 22, 22",
                                    "combo_price": "38.53"
                                },
                                {
                                    "OrderSequence": "13, 22, 22, 22, 22, 22, 22, 22, 22, 22",
                                    "combo_price": "27.70"
                                },
                                {
                                    "OrderSequence": "14, 22, 22, 22, 22, 22, 22, 22, 22, 22",
                                    "combo_price": "27.75"
                                },
                                {
                                    "OrderSequence": "15, 22, 22, 22, 22, 22, 22, 22, 22, 22",
                                    "combo_price": "27.80"
                                },
                                {
                                    "OrderSequence": "16, 22, 22, 22, 22, 22, 22, 22, 22, 22",
                                    "combo_price": "27.85"
                                },
                                {
                                    "OrderSequence": "17, 22, 22, 22, 22, 22, 22, 22, 22, 22",
                                    "combo_price": "27.90"
                                },
                                {
                                    "OrderSequence": "18, 22, 22, 22, 22, 22, 22, 22, 22, 22",
                                    "combo_price": "28.80"
                                },
                                {
                                    "OrderSequence": "19, 22, 22, 22, 22, 22, 22, 22, 22, 22",
                                    "combo_price": "29.50"
                                },
                                {
                                    "OrderSequence": "20, 22, 22, 22, 22, 22, 22, 22, 22, 22",
                                    "combo_price": "39.93"
                                },
                                {
                                    "OrderSequence": "21, 22, 22, 22, 22, 22, 22, 22, 22, 22",
                                    "combo_price": "37.57"
                                },
                                {
                                    "OrderSequence": "22, 22, 22, 22, 22, 22, 22, 22, 22, 22",
                                    "combo_price": "30.00"
                                },
                                {
                                    "OrderSequence": "1, 22, 22, 22, 22, 22, 22, 22, 22, 22, 22",
                                    "combo_price": "37.43"
                                },
                                {
                                    "OrderSequence": "2, 22, 22, 22, 22, 22, 22, 22, 22, 22, 22",
                                    "combo_price": "30.53"
                                },
                                {
                                    "OrderSequence": "3, 22, 22, 22, 22, 22, 22, 22, 22, 22, 22",
                                    "combo_price": "30.53"
                                },
                                {
                                    "OrderSequence": "4, 22, 22, 22, 22, 22, 22, 22, 22, 22, 22",
                                    "combo_price": "30.00"
                                },
                                {
                                    "OrderSequence": "5, 22, 22, 22, 22, 22, 22, 22, 22, 22, 22",
                                    "combo_price": "30.00"
                                },
                                {
                                    "OrderSequence": "6, 22, 22, 22, 22, 22, 22, 22, 22, 22, 22",
                                    "combo_price": "37.43"
                                },
                                {
                                    "OrderSequence": "7, 22, 22, 22, 22, 22, 22, 22, 22, 22, 22",
                                    "combo_price": "30.73"
                                },
                                {
                                    "OrderSequence": "8, 22, 22, 22, 22, 22, 22, 22, 22, 22, 22",
                                    "combo_price": "39.86"
                                },
                                {
                                    "OrderSequence": "9, 22, 22, 22, 22, 22, 22, 22, 22, 22, 22",
                                    "combo_price": "30.73"
                                },
                                {
                                    "OrderSequence": "10, 22, 22, 22, 22, 22, 22, 22, 22, 22, 22",
                                    "combo_price": "30.86"
                                },
                                {
                                    "OrderSequence": "11, 22, 22, 22, 22, 22, 22, 22, 22, 22, 22",
                                    "combo_price": "30.62"
                                },
                                {
                                    "OrderSequence": "12, 22, 22, 22, 22, 22, 22, 22, 22, 22, 22",
                                    "combo_price": "41.53"
                                },
                                {
                                    "OrderSequence": "13, 22, 22, 22, 22, 22, 22, 22, 22, 22, 22",
                                    "combo_price": "30.70"
                                },
                                {
                                    "OrderSequence": "14, 22, 22, 22, 22, 22, 22, 22, 22, 22, 22",
                                    "combo_price": "30.75"
                                },
                                {
                                    "OrderSequence": "15, 22, 22, 22, 22, 22, 22, 22, 22, 22, 22",
                                    "combo_price": "30.80"
                                },
                                {
                                    "OrderSequence": "16, 22, 22, 22, 22, 22, 22, 22, 22, 22, 22",
                                    "combo_price": "30.85"
                                },
                                {
                                    "OrderSequence": "17, 22, 22, 22, 22, 22, 22, 22, 22, 22, 22",
                                    "combo_price": "30.90"
                                },
                                {
                                    "OrderSequence": "18, 22, 22, 22, 22, 22, 22, 22, 22, 22, 22",
                                    "combo_price": "31.80"
                                },
                                {
                                    "OrderSequence": "19, 22, 22, 22, 22, 22, 22, 22, 22, 22, 22",
                                    "combo_price": "32.50"
                                },
                                {
                                    "OrderSequence": "20, 22, 22, 22, 22, 22, 22, 22, 22, 22, 22",
                                    "combo_price": "42.93"
                                },
                                {
                                    "OrderSequence": "21, 22, 22, 22, 22, 22, 22, 22, 22, 22, 22",
                                    "combo_price": "40.57"
                                },
                                {
                                    "OrderSequence": "22, 22, 22, 22, 22, 22, 22, 22, 22, 22, 22",
                                    "combo_price": "33.00"
                                },
                                {
                                    "OrderSequence": "1, 22, 22, 22, 22, 22, 22, 22, 22, 22, 22, 22",
                                    "combo_price": "40.43"
                                },
                                {
                                    "OrderSequence": "2, 22, 22, 22, 22, 22, 22, 22, 22, 22, 22, 22",
                                    "combo_price": "33.53"
                                },
                                {
                                    "OrderSequence": "3, 22, 22, 22, 22, 22, 22, 22, 22, 22, 22, 22",
                                    "combo_price": "33.53"
                                },
                                {
                                    "OrderSequence": "4, 22, 22, 22, 22, 22, 22, 22, 22, 22, 22, 22",
                                    "combo_price": "33.00"
                                },
                                {
                                    "OrderSequence": "5, 22, 22, 22, 22, 22, 22, 22, 22, 22, 22, 22",
                                    "combo_price": "33.00"
                                },
                                {
                                    "OrderSequence": "6, 22, 22, 22, 22, 22, 22, 22, 22, 22, 22, 22",
                                    "combo_price": "40.43"
                                },
                                {
                                    "OrderSequence": "7, 22, 22, 22, 22, 22, 22, 22, 22, 22, 22, 22",
                                    "combo_price": "33.73"
                                },
                                {
                                    "OrderSequence": "8, 22, 22, 22, 22, 22, 22, 22, 22, 22, 22, 22",
                                    "combo_price": "42.86"
                                },
                                {
                                    "OrderSequence": "9, 22, 22, 22, 22, 22, 22, 22, 22, 22, 22, 22",
                                    "combo_price": "33.73"
                                },
                                {
                                    "OrderSequence": "10, 22, 22, 22, 22, 22, 22, 22, 22, 22, 22, 22",
                                    "combo_price": "33.86"
                                },
                                {
                                    "OrderSequence": "11, 22, 22, 22, 22, 22, 22, 22, 22, 22, 22, 22",
                                    "combo_price": "33.62"
                                },
                                {
                                    "OrderSequence": "12, 22, 22, 22, 22, 22, 22, 22, 22, 22, 22, 22",
                                    "combo_price": "44.53"
                                },
                                {
                                    "OrderSequence": "13, 22, 22, 22, 22, 22, 22, 22, 22, 22, 22, 22",
                                    "combo_price": "33.70"
                                },
                                {
                                    "OrderSequence": "14, 22, 22, 22, 22, 22, 22, 22, 22, 22, 22, 22",
                                    "combo_price": "33.75"
                                },
                                {
                                    "OrderSequence": "15, 22, 22, 22, 22, 22, 22, 22, 22, 22, 22, 22",
                                    "combo_price": "33.80"
                                },
                                {
                                    "OrderSequence": "16, 22, 22, 22, 22, 22, 22, 22, 22, 22, 22, 22",
                                    "combo_price": "33.85"
                                },
                                {
                                    "OrderSequence": "17, 22, 22, 22, 22, 22, 22, 22, 22, 22, 22, 22",
                                    "combo_price": "33.90"
                                },
                                {
                                    "OrderSequence": "18, 22, 22, 22, 22, 22, 22, 22, 22, 22, 22, 22",
                                    "combo_price": "34.80"
                                },
                                {
                                    "OrderSequence": "19, 22, 22, 22, 22, 22, 22, 22, 22, 22, 22, 22",
                                    "combo_price": "35.50"
                                },
                                {
                                    "OrderSequence": "20, 22, 22, 22, 22, 22, 22, 22, 22, 22, 22, 22",
                                    "combo_price": "45.93"
                                },
                                {
                                    "OrderSequence": "21, 22, 22, 22, 22, 22, 22, 22, 22, 22, 22, 22",
                                    "combo_price": "43.57"
                                },
                                {
                                    "OrderSequence": "22, 22, 22, 22, 22, 22, 22, 22, 22, 22, 22, 22",
                                    "combo_price": "36.00"
                                },
                                {
                                    "OrderSequence": "1, 22, 22, 22, 22, 22, 22, 22, 22, 22, 22, 22, 22",
                                    "combo_price": "43.43"
                                },
                                {
                                    "OrderSequence": "2, 22, 22, 22, 22, 22, 22, 22, 22, 22, 22, 22, 22",
                                    "combo_price": "36.53"
                                },
                                {
                                    "OrderSequence": "3, 22, 22, 22, 22, 22, 22, 22, 22, 22, 22, 22, 22",
                                    "combo_price": "36.53"
                                },
                                {
                                    "OrderSequence": "4, 22, 22, 22, 22, 22, 22, 22, 22, 22, 22, 22, 22",
                                    "combo_price": "36.00"
                                },
                                {
                                    "OrderSequence": "5, 22, 22, 22, 22, 22, 22, 22, 22, 22, 22, 22, 22",
                                    "combo_price": "36.00"
                                },
                                {
                                    "OrderSequence": "6, 22, 22, 22, 22, 22, 22, 22, 22, 22, 22, 22, 22",
                                    "combo_price": "43.43"
                                },
                                {
                                    "OrderSequence": "7, 22, 22, 22, 22, 22, 22, 22, 22, 22, 22, 22, 22",
                                    "combo_price": "36.73"
                                },
                                {
                                    "OrderSequence": "8, 22, 22, 22, 22, 22, 22, 22, 22, 22, 22, 22, 22",
                                    "combo_price": "45.86"
                                },
                                {
                                    "OrderSequence": "9, 22, 22, 22, 22, 22, 22, 22, 22, 22, 22, 22, 22",
                                    "combo_price": "36.73"
                                },
                                {
                                    "OrderSequence": "10, 22, 22, 22, 22, 22, 22, 22, 22, 22, 22, 22, 22",
                                    "combo_price": "36.86"
                                },
                                {
                                    "OrderSequence": "11, 22, 22, 22, 22, 22, 22, 22, 22, 22, 22, 22, 22",
                                    "combo_price": "36.62"
                                },
                                {
                                    "OrderSequence": "12, 22, 22, 22, 22, 22, 22, 22, 22, 22, 22, 22, 22",
                                    "combo_price": "47.53"
                                },
                                {
                                    "OrderSequence": "13, 22, 22, 22, 22, 22, 22, 22, 22, 22, 22, 22, 22",
                                    "combo_price": "36.70"
                                },
                                {
                                    "OrderSequence": "14, 22, 22, 22, 22, 22, 22, 22, 22, 22, 22, 22, 22",
                                    "combo_price": "36.75"
                                },
                                {
                                    "OrderSequence": "15, 22, 22, 22, 22, 22, 22, 22, 22, 22, 22, 22, 22",
                                    "combo_price": "36.80"
                                },
                                {
                                    "OrderSequence": "16, 22, 22, 22, 22, 22, 22, 22, 22, 22, 22, 22, 22",
                                    "combo_price": "36.85"
                                },
                                {
                                    "OrderSequence": "17, 22, 22, 22, 22, 22, 22, 22, 22, 22, 22, 22, 22",
                                    "combo_price": "36.90"
                                },
                                {
                                    "OrderSequence": "18, 22, 22, 22, 22, 22, 22, 22, 22, 22, 22, 22, 22",
                                    "combo_price": "37.80"
                                },
                                {
                                    "OrderSequence": "19, 22, 22, 22, 22, 22, 22, 22, 22, 22, 22, 22, 22",
                                    "combo_price": "38.50"
                                },
                                {
                                    "OrderSequence": "20, 22, 22, 22, 22, 22, 22, 22, 22, 22, 22, 22, 22",
                                    "combo_price": "48.93"
                                },
                                {
                                    "OrderSequence": "21, 22, 22, 22, 22, 22, 22, 22, 22, 22, 22, 22, 22",
                                    "combo_price": "46.57"
                                },
                                {
                                    "OrderSequence": "22, 22, 22, 22, 22, 22, 22, 22, 22, 22, 22, 22, 22",
                                    "combo_price": "39.00"
                                },
                                {
                                    "OrderSequence": "1, 22, 22, 22, 22, 22, 22, 22, 22, 22, 22, 22, 22, 22",
                                    "combo_price": "46.43"
                                },
                                {
                                    "OrderSequence": "2, 22, 22, 22, 22, 22, 22, 22, 22, 22, 22, 22, 22, 22",
                                    "combo_price": "39.53"
                                },
                                {
                                    "OrderSequence": "3, 22, 22, 22, 22, 22, 22, 22, 22, 22, 22, 22, 22, 22",
                                    "combo_price": "39.53"
                                },
                                {
                                    "OrderSequence": "4, 22, 22, 22, 22, 22, 22, 22, 22, 22, 22, 22, 22, 22",
                                    "combo_price": "39.00"
                                },
                                {
                                    "OrderSequence": "5, 22, 22, 22, 22, 22, 22, 22, 22, 22, 22, 22, 22, 22",
                                    "combo_price": "39.00"
                                },
                                {
                                    "OrderSequence": "6, 22, 22, 22, 22, 22, 22, 22, 22, 22, 22, 22, 22, 22",
                                    "combo_price": "46.43"
                                },
                                {
                                    "OrderSequence": "7, 22, 22, 22, 22, 22, 22, 22, 22, 22, 22, 22, 22, 22",
                                    "combo_price": "39.73"
                                },
                                {
                                    "OrderSequence": "8, 22, 22, 22, 22, 22, 22, 22, 22, 22, 22, 22, 22, 22",
                                    "combo_price": "48.86"
                                },
                                {
                                    "OrderSequence": "9, 22, 22, 22, 22, 22, 22, 22, 22, 22, 22, 22, 22, 22",
                                    "combo_price": "39.73"
                                },
                                {
                                    "OrderSequence": "10, 22, 22, 22, 22, 22, 22, 22, 22, 22, 22, 22, 22, 22",
                                    "combo_price": "39.86"
                                },
                                {
                                    "OrderSequence": "11, 22, 22, 22, 22, 22, 22, 22, 22, 22, 22, 22, 22, 22",
                                    "combo_price": "39.62"
                                },
                                {
                                    "OrderSequence": "12, 22, 22, 22, 22, 22, 22, 22, 22, 22, 22, 22, 22, 22",
                                    "combo_price": "50.53"
                                },
                                {
                                    "OrderSequence": "13, 22, 22, 22, 22, 22, 22, 22, 22, 22, 22, 22, 22, 22",
                                    "combo_price": "39.70"
                                },
                                {
                                    "OrderSequence": "14, 22, 22, 22, 22, 22, 22, 22, 22, 22, 22, 22, 22, 22",
                                    "combo_price": "39.75"
                                },
                                {
                                    "OrderSequence": "15, 22, 22, 22, 22, 22, 22, 22, 22, 22, 22, 22, 22, 22",
                                    "combo_price": "39.80"
                                },
                                {
                                    "OrderSequence": "16, 22, 22, 22, 22, 22, 22, 22, 22, 22, 22, 22, 22, 22",
                                    "combo_price": "39.85"
                                },
                                {
                                    "OrderSequence": "17, 22, 22, 22, 22, 22, 22, 22, 22, 22, 22, 22, 22, 22",
                                    "combo_price": "39.90"
                                },
                                {
                                    "OrderSequence": "18, 22, 22, 22, 22, 22, 22, 22, 22, 22, 22, 22, 22, 22",
                                    "combo_price": "40.80"
                                },
                                {
                                    "OrderSequence": "19, 22, 22, 22, 22, 22, 22, 22, 22, 22, 22, 22, 22, 22",
                                    "combo_price": "41.50"
                                },
                                {
                                    "OrderSequence": "20, 22, 22, 22, 22, 22, 22, 22, 22, 22, 22, 22, 22, 22",
                                    "combo_price": "51.93"
                                },
                                {
                                    "OrderSequence": "21, 22, 22, 22, 22, 22, 22, 22, 22, 22, 22, 22, 22, 22",
                                    "combo_price": "49.57"
                                },
                                {
                                    "OrderSequence": "22, 22, 22, 22, 22, 22, 22, 22, 22, 22, 22, 22, 22, 22",
                                    "combo_price": "42.00"
                                },
                                {
                                    "OrderSequence": "1, 22, 22, 22, 22, 22, 22, 22, 22, 22, 22, 22, 22, 22, 22",
                                    "combo_price": "49.43"
                                },
                                {
                                    "OrderSequence": "2, 22, 22, 22, 22, 22, 22, 22, 22, 22, 22, 22, 22, 22, 22",
                                    "combo_price": "42.53"
                                },
                                {
                                    "OrderSequence": "3, 22, 22, 22, 22, 22, 22, 22, 22, 22, 22, 22, 22, 22, 22",
                                    "combo_price": "42.53"
                                },
                                {
                                    "OrderSequence": "4, 22, 22, 22, 22, 22, 22, 22, 22, 22, 22, 22, 22, 22, 22",
                                    "combo_price": "42.00"
                                },
                                {
                                    "OrderSequence": "5, 22, 22, 22, 22, 22, 22, 22, 22, 22, 22, 22, 22, 22, 22",
                                    "combo_price": "42.00"
                                },
                                {
                                    "OrderSequence": "6, 22, 22, 22, 22, 22, 22, 22, 22, 22, 22, 22, 22, 22, 22",
                                    "combo_price": "49.43"
                                },
                                {
                                    "OrderSequence": "7, 22, 22, 22, 22, 22, 22, 22, 22, 22, 22, 22, 22, 22, 22",
                                    "combo_price": "42.73"
                                },
                                {
                                    "OrderSequence": "8, 22, 22, 22, 22, 22, 22, 22, 22, 22, 22, 22, 22, 22, 22",
                                    "combo_price": "51.86"
                                },
                                {
                                    "OrderSequence": "9, 22, 22, 22, 22, 22, 22, 22, 22, 22, 22, 22, 22, 22, 22",
                                    "combo_price": "42.73"
                                },
                                {
                                    "OrderSequence": "10, 22, 22, 22, 22, 22, 22, 22, 22, 22, 22, 22, 22, 22, 22",
                                    "combo_price": "42.86"
                                },
                                {
                                    "OrderSequence": "11, 22, 22, 22, 22, 22, 22, 22, 22, 22, 22, 22, 22, 22, 22",
                                    "combo_price": "42.62"
                                },
                                {
                                    "OrderSequence": "12, 22, 22, 22, 22, 22, 22, 22, 22, 22, 22, 22, 22, 22, 22",
                                    "combo_price": "53.53"
                                },
                                {
                                    "OrderSequence": "13, 22, 22, 22, 22, 22, 22, 22, 22, 22, 22, 22, 22, 22, 22",
                                    "combo_price": "42.70"
                                },
                                {
                                    "OrderSequence": "14, 22, 22, 22, 22, 22, 22, 22, 22, 22, 22, 22, 22, 22, 22",
                                    "combo_price": "42.75"
                                },
                                {
                                    "OrderSequence": "15, 22, 22, 22, 22, 22, 22, 22, 22, 22, 22, 22, 22, 22, 22",
                                    "combo_price": "42.80"
                                },
                                {
                                    "OrderSequence": "16, 22, 22, 22, 22, 22, 22, 22, 22, 22, 22, 22, 22, 22, 22",
                                    "combo_price": "42.85"
                                },
                                {
                                    "OrderSequence": "17, 22, 22, 22, 22, 22, 22, 22, 22, 22, 22, 22, 22, 22, 22",
                                    "combo_price": "42.90"
                                },
                                {
                                    "OrderSequence": "18, 22, 22, 22, 22, 22, 22, 22, 22, 22, 22, 22, 22, 22, 22",
                                    "combo_price": "43.80"
                                },
                                {
                                    "OrderSequence": "19, 22, 22, 22, 22, 22, 22, 22, 22, 22, 22, 22, 22, 22, 22",
                                    "combo_price": "44.50"
                                },
                                {
                                    "OrderSequence": "20, 22, 22, 22, 22, 22, 22, 22, 22, 22, 22, 22, 22, 22, 22",
                                    "combo_price": "54.93"
                                },
                                {
                                    "OrderSequence": "21, 22, 22, 22, 22, 22, 22, 22, 22, 22, 22, 22, 22, 22, 22",
                                    "combo_price": "52.57"
                                },
                                {
                                    "OrderSequence": "22, 22, 22, 22, 22, 22, 22, 22, 22, 22, 22, 22, 22, 22, 22",
                                    "combo_price": "45.00"
                                },
                                {
                                    "OrderSequence": "1, 17, 22, 22, 22, 22, 22, 22, 22, 22, 22, 22, 22, 22, 22, 22",
                                    "combo_price": "50.33"
                                },
                                {
                                    "OrderSequence": "2, 17, 22, 22, 22, 22, 22, 22, 22, 22, 22, 22, 22, 22, 22, 22",
                                    "combo_price": "43.43"
                                },
                                {
                                    "OrderSequence": "3, 17, 22, 22, 22, 22, 22, 22, 22, 22, 22, 22, 22, 22, 22, 22",
                                    "combo_price": "43.43"
                                },
                                {
                                    "OrderSequence": "4, 17, 22, 22, 22, 22, 22, 22, 22, 22, 22, 22, 22, 22, 22, 22",
                                    "combo_price": "42.90"
                                },
                                {
                                    "OrderSequence": "5, 17, 22, 22, 22, 22, 22, 22, 22, 22, 22, 22, 22, 22, 22, 22",
                                    "combo_price": "42.90"
                                },
                                {
                                    "OrderSequence": "6, 17, 22, 22, 22, 22, 22, 22, 22, 22, 22, 22, 22, 22, 22, 22",
                                    "combo_price": "50.33"
                                },
                                {
                                    "OrderSequence": "7, 17, 22, 22, 22, 22, 22, 22, 22, 22, 22, 22, 22, 22, 22, 22",
                                    "combo_price": "43.63"
                                },
                                {
                                    "OrderSequence": "8, 17, 22, 22, 22, 22, 22, 22, 22, 22, 22, 22, 22, 22, 22, 22",
                                    "combo_price": "52.76"
                                },
                                {
                                    "OrderSequence": "9, 17, 22, 22, 22, 22, 22, 22, 22, 22, 22, 22, 22, 22, 22, 22",
                                    "combo_price": "43.63"
                                },
                                {
                                    "OrderSequence": "10, 17, 22, 22, 22, 22, 22, 22, 22, 22, 22, 22, 22, 22, 22, 22",
                                    "combo_price": "43.76"
                                },
                                {
                                    "OrderSequence": "11, 17, 22, 22, 22, 22, 22, 22, 22, 22, 22, 22, 22, 22, 22, 22",
                                    "combo_price": "43.52"
                                },
                                {
                                    "OrderSequence": "12, 17, 22, 22, 22, 22, 22, 22, 22, 22, 22, 22, 22, 22, 22, 22",
                                    "combo_price": "54.43"
                                },
                                {
                                    "OrderSequence": "13, 17, 22, 22, 22, 22, 22, 22, 22, 22, 22, 22, 22, 22, 22, 22",
                                    "combo_price": "43.60"
                                },
                                {
                                    "OrderSequence": "14, 17, 22, 22, 22, 22, 22, 22, 22, 22, 22, 22, 22, 22, 22, 22",
                                    "combo_price": "43.65"
                                },
                                {
                                    "OrderSequence": "15, 17, 22, 22, 22, 22, 22, 22, 22, 22, 22, 22, 22, 22, 22, 22",
                                    "combo_price": "43.70"
                                },
                                {
                                    "OrderSequence": "16, 17, 22, 22, 22, 22, 22, 22, 22, 22, 22, 22, 22, 22, 22, 22",
                                    "combo_price": "43.75"
                                },
                                {
                                    "OrderSequence": "17, 17, 22, 22, 22, 22, 22, 22, 22, 22, 22, 22, 22, 22, 22, 22",
                                    "combo_price": "43.80"
                                },
                                {
                                    "OrderSequence": "18, 17, 22, 22, 22, 22, 22, 22, 22, 22, 22, 22, 22, 22, 22, 22",
                                    "combo_price": "44.70"
                                },
                                {
                                    "OrderSequence": "19, 17, 22, 22, 22, 22, 22, 22, 22, 22, 22, 22, 22, 22, 22, 22",
                                    "combo_price": "45.40"
                                },
                                {
                                    "OrderSequence": "20, 17, 22, 22, 22, 22, 22, 22, 22, 22, 22, 22, 22, 22, 22, 22",
                                    "combo_price": "55.83"
                                },
                                {
                                    "OrderSequence": "21, 17, 22, 22, 22, 22, 22, 22, 22, 22, 22, 22, 22, 22, 22, 22",
                                    "combo_price": "53.47"
                                },
                                {
                                    "OrderSequence": "22, 17, 22, 22, 22, 22, 22, 22, 22, 22, 22, 22, 22, 22, 22, 22",
                                    "combo_price": "45.90"
                                }
                            ]
                        },
                        "text/html": [
                            "<table>",
                            "<tr><th>OrderSequence</th><th>combo_price</th></tr>",
                            "<tr><td>1</td><td>7.43</td></tr>",
                            "<tr><td>2</td><td>0.53</td></tr>",
                            "<tr><td>3</td><td>0.53</td></tr>",
                            "<tr><td>4</td><td>0.00</td></tr>",
                            "<tr><td>5</td><td>0.00</td></tr>",
                            "<tr><td>6</td><td>7.43</td></tr>",
                            "<tr><td>7</td><td>0.73</td></tr>",
                            "<tr><td>8</td><td>9.86</td></tr>",
                            "<tr><td>9</td><td>0.73</td></tr>",
                            "<tr><td>10</td><td>0.86</td></tr>",
                            "<tr><td>11</td><td>0.62</td></tr>",
                            "<tr><td>12</td><td>11.53</td></tr>",
                            "<tr><td>13</td><td>0.70</td></tr>",
                            "<tr><td>14</td><td>0.75</td></tr>",
                            "<tr><td>15</td><td>0.80</td></tr>",
                            "<tr><td>16</td><td>0.85</td></tr>",
                            "<tr><td>17</td><td>0.90</td></tr>",
                            "<tr><td>18</td><td>1.80</td></tr>",
                            "<tr><td>19</td><td>2.50</td></tr>",
                            "<tr><td>20</td><td>12.93</td></tr>",
                            "<tr><td>21</td><td>10.57</td></tr>",
                            "<tr><td>22</td><td>3.00</td></tr>",
                            "<tr><td>1, 22</td><td>10.43</td></tr>",
                            "<tr><td>2, 22</td><td>3.53</td></tr>",
                            "<tr><td>3, 22</td><td>3.53</td></tr>",
                            "<tr><td>4, 22</td><td>3.00</td></tr>",
                            "<tr><td>5, 22</td><td>3.00</td></tr>",
                            "<tr><td>6, 22</td><td>10.43</td></tr>",
                            "<tr><td>7, 22</td><td>3.73</td></tr>",
                            "<tr><td>8, 22</td><td>12.86</td></tr>",
                            "<tr><td>9, 22</td><td>3.73</td></tr>",
                            "<tr><td>10, 22</td><td>3.86</td></tr>",
                            "<tr><td>11, 22</td><td>3.62</td></tr>",
                            "<tr><td>12, 22</td><td>14.53</td></tr>",
                            "<tr><td>13, 22</td><td>3.70</td></tr>",
                            "<tr><td>14, 22</td><td>3.75</td></tr>",
                            "<tr><td>15, 22</td><td>3.80</td></tr>",
                            "<tr><td>16, 22</td><td>3.85</td></tr>",
                            "<tr><td>17, 22</td><td>3.90</td></tr>",
                            "<tr><td>18, 22</td><td>4.80</td></tr>",
                            "<tr><td>19, 22</td><td>5.50</td></tr>",
                            "<tr><td>20, 22</td><td>15.93</td></tr>",
                            "<tr><td>21, 22</td><td>13.57</td></tr>",
                            "<tr><td>22, 22</td><td>6.00</td></tr>",
                            "<tr><td>1, 22, 22</td><td>13.43</td></tr>",
                            "<tr><td>2, 22, 22</td><td>6.53</td></tr>",
                            "<tr><td>3, 22, 22</td><td>6.53</td></tr>",
                            "<tr><td>4, 22, 22</td><td>6.00</td></tr>",
                            "<tr><td>5, 22, 22</td><td>6.00</td></tr>",
                            "<tr><td>6, 22, 22</td><td>13.43</td></tr>",
                            "<tr><td>7, 22, 22</td><td>6.73</td></tr>",
                            "<tr><td>8, 22, 22</td><td>15.86</td></tr>",
                            "<tr><td>9, 22, 22</td><td>6.73</td></tr>",
                            "<tr><td>10, 22, 22</td><td>6.86</td></tr>",
                            "<tr><td>11, 22, 22</td><td>6.62</td></tr>",
                            "<tr><td>12, 22, 22</td><td>17.53</td></tr>",
                            "<tr><td>13, 22, 22</td><td>6.70</td></tr>",
                            "<tr><td>14, 22, 22</td><td>6.75</td></tr>",
                            "<tr><td>15, 22, 22</td><td>6.80</td></tr>",
                            "<tr><td>16, 22, 22</td><td>6.85</td></tr>",
                            "<tr><td>17, 22, 22</td><td>6.90</td></tr>",
                            "<tr><td>18, 22, 22</td><td>7.80</td></tr>",
                            "<tr><td>19, 22, 22</td><td>8.50</td></tr>",
                            "<tr><td>20, 22, 22</td><td>18.93</td></tr>",
                            "<tr><td>21, 22, 22</td><td>16.57</td></tr>",
                            "<tr><td>22, 22, 22</td><td>9.00</td></tr>",
                            "<tr><td>1, 22, 22, 22</td><td>16.43</td></tr>",
                            "<tr><td>2, 22, 22, 22</td><td>9.53</td></tr>",
                            "<tr><td>3, 22, 22, 22</td><td>9.53</td></tr>",
                            "<tr><td>4, 22, 22, 22</td><td>9.00</td></tr>",
                            "<tr><td>5, 22, 22, 22</td><td>9.00</td></tr>",
                            "<tr><td>6, 22, 22, 22</td><td>16.43</td></tr>",
                            "<tr><td>7, 22, 22, 22</td><td>9.73</td></tr>",
                            "<tr><td>8, 22, 22, 22</td><td>18.86</td></tr>",
                            "<tr><td>9, 22, 22, 22</td><td>9.73</td></tr>",
                            "<tr><td>10, 22, 22, 22</td><td>9.86</td></tr>",
                            "<tr><td>11, 22, 22, 22</td><td>9.62</td></tr>",
                            "<tr><td>12, 22, 22, 22</td><td>20.53</td></tr>",
                            "<tr><td>13, 22, 22, 22</td><td>9.70</td></tr>",
                            "<tr><td>14, 22, 22, 22</td><td>9.75</td></tr>",
                            "<tr><td>15, 22, 22, 22</td><td>9.80</td></tr>",
                            "<tr><td>16, 22, 22, 22</td><td>9.85</td></tr>",
                            "<tr><td>17, 22, 22, 22</td><td>9.90</td></tr>",
                            "<tr><td>18, 22, 22, 22</td><td>10.80</td></tr>",
                            "<tr><td>19, 22, 22, 22</td><td>11.50</td></tr>",
                            "<tr><td>20, 22, 22, 22</td><td>21.93</td></tr>",
                            "<tr><td>21, 22, 22, 22</td><td>19.57</td></tr>",
                            "<tr><td>22, 22, 22, 22</td><td>12.00</td></tr>",
                            "<tr><td>1, 22, 22, 22, 22</td><td>19.43</td></tr>",
                            "<tr><td>2, 22, 22, 22, 22</td><td>12.53</td></tr>",
                            "<tr><td>3, 22, 22, 22, 22</td><td>12.53</td></tr>",
                            "<tr><td>4, 22, 22, 22, 22</td><td>12.00</td></tr>",
                            "<tr><td>5, 22, 22, 22, 22</td><td>12.00</td></tr>",
                            "<tr><td>6, 22, 22, 22, 22</td><td>19.43</td></tr>",
                            "<tr><td>7, 22, 22, 22, 22</td><td>12.73</td></tr>",
                            "<tr><td>8, 22, 22, 22, 22</td><td>21.86</td></tr>",
                            "<tr><td>9, 22, 22, 22, 22</td><td>12.73</td></tr>",
                            "<tr><td>10, 22, 22, 22, 22</td><td>12.86</td></tr>",
                            "<tr><td>11, 22, 22, 22, 22</td><td>12.62</td></tr>",
                            "<tr><td>12, 22, 22, 22, 22</td><td>23.53</td></tr>",
                            "<tr><td>13, 22, 22, 22, 22</td><td>12.70</td></tr>",
                            "<tr><td>14, 22, 22, 22, 22</td><td>12.75</td></tr>",
                            "<tr><td>15, 22, 22, 22, 22</td><td>12.80</td></tr>",
                            "<tr><td>16, 22, 22, 22, 22</td><td>12.85</td></tr>",
                            "<tr><td>17, 22, 22, 22, 22</td><td>12.90</td></tr>",
                            "<tr><td>18, 22, 22, 22, 22</td><td>13.80</td></tr>",
                            "<tr><td>19, 22, 22, 22, 22</td><td>14.50</td></tr>",
                            "<tr><td>20, 22, 22, 22, 22</td><td>24.93</td></tr>",
                            "<tr><td>21, 22, 22, 22, 22</td><td>22.57</td></tr>",
                            "<tr><td>22, 22, 22, 22, 22</td><td>15.00</td></tr>",
                            "<tr><td>1, 22, 22, 22, 22, 22</td><td>22.43</td></tr>",
                            "<tr><td>2, 22, 22, 22, 22, 22</td><td>15.53</td></tr>",
                            "<tr><td>3, 22, 22, 22, 22, 22</td><td>15.53</td></tr>",
                            "<tr><td>4, 22, 22, 22, 22, 22</td><td>15.00</td></tr>",
                            "<tr><td>5, 22, 22, 22, 22, 22</td><td>15.00</td></tr>",
                            "<tr><td>6, 22, 22, 22, 22, 22</td><td>22.43</td></tr>",
                            "<tr><td>7, 22, 22, 22, 22, 22</td><td>15.73</td></tr>",
                            "<tr><td>8, 22, 22, 22, 22, 22</td><td>24.86</td></tr>",
                            "<tr><td>9, 22, 22, 22, 22, 22</td><td>15.73</td></tr>",
                            "<tr><td>10, 22, 22, 22, 22, 22</td><td>15.86</td></tr>",
                            "<tr><td>11, 22, 22, 22, 22, 22</td><td>15.62</td></tr>",
                            "<tr><td>12, 22, 22, 22, 22, 22</td><td>26.53</td></tr>",
                            "<tr><td>13, 22, 22, 22, 22, 22</td><td>15.70</td></tr>",
                            "<tr><td>14, 22, 22, 22, 22, 22</td><td>15.75</td></tr>",
                            "<tr><td>15, 22, 22, 22, 22, 22</td><td>15.80</td></tr>",
                            "<tr><td>16, 22, 22, 22, 22, 22</td><td>15.85</td></tr>",
                            "<tr><td>17, 22, 22, 22, 22, 22</td><td>15.90</td></tr>",
                            "<tr><td>18, 22, 22, 22, 22, 22</td><td>16.80</td></tr>",
                            "<tr><td>19, 22, 22, 22, 22, 22</td><td>17.50</td></tr>",
                            "<tr><td>20, 22, 22, 22, 22, 22</td><td>27.93</td></tr>",
                            "<tr><td>21, 22, 22, 22, 22, 22</td><td>25.57</td></tr>",
                            "<tr><td>22, 22, 22, 22, 22, 22</td><td>18.00</td></tr>",
                            "<tr><td>1, 22, 22, 22, 22, 22, 22</td><td>25.43</td></tr>",
                            "<tr><td>2, 22, 22, 22, 22, 22, 22</td><td>18.53</td></tr>",
                            "<tr><td>3, 22, 22, 22, 22, 22, 22</td><td>18.53</td></tr>",
                            "<tr><td>4, 22, 22, 22, 22, 22, 22</td><td>18.00</td></tr>",
                            "<tr><td>5, 22, 22, 22, 22, 22, 22</td><td>18.00</td></tr>",
                            "<tr><td>6, 22, 22, 22, 22, 22, 22</td><td>25.43</td></tr>",
                            "<tr><td>7, 22, 22, 22, 22, 22, 22</td><td>18.73</td></tr>",
                            "<tr><td>8, 22, 22, 22, 22, 22, 22</td><td>27.86</td></tr>",
                            "<tr><td>9, 22, 22, 22, 22, 22, 22</td><td>18.73</td></tr>",
                            "<tr><td>10, 22, 22, 22, 22, 22, 22</td><td>18.86</td></tr>",
                            "<tr><td>11, 22, 22, 22, 22, 22, 22</td><td>18.62</td></tr>",
                            "<tr><td>12, 22, 22, 22, 22, 22, 22</td><td>29.53</td></tr>",
                            "<tr><td>13, 22, 22, 22, 22, 22, 22</td><td>18.70</td></tr>",
                            "<tr><td>14, 22, 22, 22, 22, 22, 22</td><td>18.75</td></tr>",
                            "<tr><td>15, 22, 22, 22, 22, 22, 22</td><td>18.80</td></tr>",
                            "<tr><td>16, 22, 22, 22, 22, 22, 22</td><td>18.85</td></tr>",
                            "<tr><td>17, 22, 22, 22, 22, 22, 22</td><td>18.90</td></tr>",
                            "<tr><td>18, 22, 22, 22, 22, 22, 22</td><td>19.80</td></tr>",
                            "<tr><td>19, 22, 22, 22, 22, 22, 22</td><td>20.50</td></tr>",
                            "<tr><td>20, 22, 22, 22, 22, 22, 22</td><td>30.93</td></tr>",
                            "<tr><td>21, 22, 22, 22, 22, 22, 22</td><td>28.57</td></tr>",
                            "<tr><td>22, 22, 22, 22, 22, 22, 22</td><td>21.00</td></tr>",
                            "<tr><td>1, 22, 22, 22, 22, 22, 22, 22</td><td>28.43</td></tr>",
                            "<tr><td>2, 22, 22, 22, 22, 22, 22, 22</td><td>21.53</td></tr>",
                            "<tr><td>3, 22, 22, 22, 22, 22, 22, 22</td><td>21.53</td></tr>",
                            "<tr><td>4, 22, 22, 22, 22, 22, 22, 22</td><td>21.00</td></tr>",
                            "<tr><td>5, 22, 22, 22, 22, 22, 22, 22</td><td>21.00</td></tr>",
                            "<tr><td>6, 22, 22, 22, 22, 22, 22, 22</td><td>28.43</td></tr>",
                            "<tr><td>7, 22, 22, 22, 22, 22, 22, 22</td><td>21.73</td></tr>",
                            "<tr><td>8, 22, 22, 22, 22, 22, 22, 22</td><td>30.86</td></tr>",
                            "<tr><td>9, 22, 22, 22, 22, 22, 22, 22</td><td>21.73</td></tr>",
                            "<tr><td>10, 22, 22, 22, 22, 22, 22, 22</td><td>21.86</td></tr>",
                            "<tr><td>11, 22, 22, 22, 22, 22, 22, 22</td><td>21.62</td></tr>",
                            "<tr><td>12, 22, 22, 22, 22, 22, 22, 22</td><td>32.53</td></tr>",
                            "<tr><td>13, 22, 22, 22, 22, 22, 22, 22</td><td>21.70</td></tr>",
                            "<tr><td>14, 22, 22, 22, 22, 22, 22, 22</td><td>21.75</td></tr>",
                            "<tr><td>15, 22, 22, 22, 22, 22, 22, 22</td><td>21.80</td></tr>",
                            "<tr><td>16, 22, 22, 22, 22, 22, 22, 22</td><td>21.85</td></tr>",
                            "<tr><td>17, 22, 22, 22, 22, 22, 22, 22</td><td>21.90</td></tr>",
                            "<tr><td>18, 22, 22, 22, 22, 22, 22, 22</td><td>22.80</td></tr>",
                            "<tr><td>19, 22, 22, 22, 22, 22, 22, 22</td><td>23.50</td></tr>",
                            "<tr><td>20, 22, 22, 22, 22, 22, 22, 22</td><td>33.93</td></tr>",
                            "<tr><td>21, 22, 22, 22, 22, 22, 22, 22</td><td>31.57</td></tr>",
                            "<tr><td>22, 22, 22, 22, 22, 22, 22, 22</td><td>24.00</td></tr>",
                            "<tr><td>1, 22, 22, 22, 22, 22, 22, 22, 22</td><td>31.43</td></tr>",
                            "<tr><td>2, 22, 22, 22, 22, 22, 22, 22, 22</td><td>24.53</td></tr>",
                            "<tr><td>3, 22, 22, 22, 22, 22, 22, 22, 22</td><td>24.53</td></tr>",
                            "<tr><td>4, 22, 22, 22, 22, 22, 22, 22, 22</td><td>24.00</td></tr>",
                            "<tr><td>5, 22, 22, 22, 22, 22, 22, 22, 22</td><td>24.00</td></tr>",
                            "<tr><td>6, 22, 22, 22, 22, 22, 22, 22, 22</td><td>31.43</td></tr>",
                            "<tr><td>7, 22, 22, 22, 22, 22, 22, 22, 22</td><td>24.73</td></tr>",
                            "<tr><td>8, 22, 22, 22, 22, 22, 22, 22, 22</td><td>33.86</td></tr>",
                            "<tr><td>9, 22, 22, 22, 22, 22, 22, 22, 22</td><td>24.73</td></tr>",
                            "<tr><td>10, 22, 22, 22, 22, 22, 22, 22, 22</td><td>24.86</td></tr>",
                            "<tr><td>11, 22, 22, 22, 22, 22, 22, 22, 22</td><td>24.62</td></tr>",
                            "<tr><td>12, 22, 22, 22, 22, 22, 22, 22, 22</td><td>35.53</td></tr>",
                            "<tr><td>13, 22, 22, 22, 22, 22, 22, 22, 22</td><td>24.70</td></tr>",
                            "<tr><td>14, 22, 22, 22, 22, 22, 22, 22, 22</td><td>24.75</td></tr>",
                            "<tr><td>15, 22, 22, 22, 22, 22, 22, 22, 22</td><td>24.80</td></tr>",
                            "<tr><td>16, 22, 22, 22, 22, 22, 22, 22, 22</td><td>24.85</td></tr>",
                            "<tr><td>17, 22, 22, 22, 22, 22, 22, 22, 22</td><td>24.90</td></tr>",
                            "<tr><td>18, 22, 22, 22, 22, 22, 22, 22, 22</td><td>25.80</td></tr>",
                            "<tr><td>19, 22, 22, 22, 22, 22, 22, 22, 22</td><td>26.50</td></tr>",
                            "<tr><td>20, 22, 22, 22, 22, 22, 22, 22, 22</td><td>36.93</td></tr>",
                            "<tr><td>21, 22, 22, 22, 22, 22, 22, 22, 22</td><td>34.57</td></tr>",
                            "<tr><td>22, 22, 22, 22, 22, 22, 22, 22, 22</td><td>27.00</td></tr>",
                            "<tr><td>1, 22, 22, 22, 22, 22, 22, 22, 22, 22</td><td>34.43</td></tr>",
                            "<tr><td>2, 22, 22, 22, 22, 22, 22, 22, 22, 22</td><td>27.53</td></tr>",
                            "<tr><td>3, 22, 22, 22, 22, 22, 22, 22, 22, 22</td><td>27.53</td></tr>",
                            "<tr><td>4, 22, 22, 22, 22, 22, 22, 22, 22, 22</td><td>27.00</td></tr>",
                            "<tr><td>5, 22, 22, 22, 22, 22, 22, 22, 22, 22</td><td>27.00</td></tr>",
                            "<tr><td>6, 22, 22, 22, 22, 22, 22, 22, 22, 22</td><td>34.43</td></tr>",
                            "<tr><td>7, 22, 22, 22, 22, 22, 22, 22, 22, 22</td><td>27.73</td></tr>",
                            "<tr><td>8, 22, 22, 22, 22, 22, 22, 22, 22, 22</td><td>36.86</td></tr>",
                            "<tr><td>9, 22, 22, 22, 22, 22, 22, 22, 22, 22</td><td>27.73</td></tr>",
                            "<tr><td>10, 22, 22, 22, 22, 22, 22, 22, 22, 22</td><td>27.86</td></tr>",
                            "<tr><td>11, 22, 22, 22, 22, 22, 22, 22, 22, 22</td><td>27.62</td></tr>",
                            "<tr><td>12, 22, 22, 22, 22, 22, 22, 22, 22, 22</td><td>38.53</td></tr>",
                            "<tr><td>13, 22, 22, 22, 22, 22, 22, 22, 22, 22</td><td>27.70</td></tr>",
                            "<tr><td>14, 22, 22, 22, 22, 22, 22, 22, 22, 22</td><td>27.75</td></tr>",
                            "<tr><td>15, 22, 22, 22, 22, 22, 22, 22, 22, 22</td><td>27.80</td></tr>",
                            "<tr><td>16, 22, 22, 22, 22, 22, 22, 22, 22, 22</td><td>27.85</td></tr>",
                            "<tr><td>17, 22, 22, 22, 22, 22, 22, 22, 22, 22</td><td>27.90</td></tr>",
                            "<tr><td>18, 22, 22, 22, 22, 22, 22, 22, 22, 22</td><td>28.80</td></tr>",
                            "<tr><td>19, 22, 22, 22, 22, 22, 22, 22, 22, 22</td><td>29.50</td></tr>",
                            "<tr><td>20, 22, 22, 22, 22, 22, 22, 22, 22, 22</td><td>39.93</td></tr>",
                            "<tr><td>21, 22, 22, 22, 22, 22, 22, 22, 22, 22</td><td>37.57</td></tr>",
                            "<tr><td>22, 22, 22, 22, 22, 22, 22, 22, 22, 22</td><td>30.00</td></tr>",
                            "<tr><td>1, 22, 22, 22, 22, 22, 22, 22, 22, 22, 22</td><td>37.43</td></tr>",
                            "<tr><td>2, 22, 22, 22, 22, 22, 22, 22, 22, 22, 22</td><td>30.53</td></tr>",
                            "<tr><td>3, 22, 22, 22, 22, 22, 22, 22, 22, 22, 22</td><td>30.53</td></tr>",
                            "<tr><td>4, 22, 22, 22, 22, 22, 22, 22, 22, 22, 22</td><td>30.00</td></tr>",
                            "<tr><td>5, 22, 22, 22, 22, 22, 22, 22, 22, 22, 22</td><td>30.00</td></tr>",
                            "<tr><td>6, 22, 22, 22, 22, 22, 22, 22, 22, 22, 22</td><td>37.43</td></tr>",
                            "<tr><td>7, 22, 22, 22, 22, 22, 22, 22, 22, 22, 22</td><td>30.73</td></tr>",
                            "<tr><td>8, 22, 22, 22, 22, 22, 22, 22, 22, 22, 22</td><td>39.86</td></tr>",
                            "<tr><td>9, 22, 22, 22, 22, 22, 22, 22, 22, 22, 22</td><td>30.73</td></tr>",
                            "<tr><td>10, 22, 22, 22, 22, 22, 22, 22, 22, 22, 22</td><td>30.86</td></tr>",
                            "<tr><td>11, 22, 22, 22, 22, 22, 22, 22, 22, 22, 22</td><td>30.62</td></tr>",
                            "<tr><td>12, 22, 22, 22, 22, 22, 22, 22, 22, 22, 22</td><td>41.53</td></tr>",
                            "<tr><td>13, 22, 22, 22, 22, 22, 22, 22, 22, 22, 22</td><td>30.70</td></tr>",
                            "<tr><td>14, 22, 22, 22, 22, 22, 22, 22, 22, 22, 22</td><td>30.75</td></tr>",
                            "<tr><td>15, 22, 22, 22, 22, 22, 22, 22, 22, 22, 22</td><td>30.80</td></tr>",
                            "<tr><td>16, 22, 22, 22, 22, 22, 22, 22, 22, 22, 22</td><td>30.85</td></tr>",
                            "<tr><td>17, 22, 22, 22, 22, 22, 22, 22, 22, 22, 22</td><td>30.90</td></tr>",
                            "<tr><td>18, 22, 22, 22, 22, 22, 22, 22, 22, 22, 22</td><td>31.80</td></tr>",
                            "<tr><td>19, 22, 22, 22, 22, 22, 22, 22, 22, 22, 22</td><td>32.50</td></tr>",
                            "<tr><td>20, 22, 22, 22, 22, 22, 22, 22, 22, 22, 22</td><td>42.93</td></tr>",
                            "<tr><td>21, 22, 22, 22, 22, 22, 22, 22, 22, 22, 22</td><td>40.57</td></tr>",
                            "<tr><td>22, 22, 22, 22, 22, 22, 22, 22, 22, 22, 22</td><td>33.00</td></tr>",
                            "<tr><td>1, 22, 22, 22, 22, 22, 22, 22, 22, 22, 22, 22</td><td>40.43</td></tr>",
                            "<tr><td>2, 22, 22, 22, 22, 22, 22, 22, 22, 22, 22, 22</td><td>33.53</td></tr>",
                            "<tr><td>3, 22, 22, 22, 22, 22, 22, 22, 22, 22, 22, 22</td><td>33.53</td></tr>",
                            "<tr><td>4, 22, 22, 22, 22, 22, 22, 22, 22, 22, 22, 22</td><td>33.00</td></tr>",
                            "<tr><td>5, 22, 22, 22, 22, 22, 22, 22, 22, 22, 22, 22</td><td>33.00</td></tr>",
                            "<tr><td>6, 22, 22, 22, 22, 22, 22, 22, 22, 22, 22, 22</td><td>40.43</td></tr>",
                            "<tr><td>7, 22, 22, 22, 22, 22, 22, 22, 22, 22, 22, 22</td><td>33.73</td></tr>",
                            "<tr><td>8, 22, 22, 22, 22, 22, 22, 22, 22, 22, 22, 22</td><td>42.86</td></tr>",
                            "<tr><td>9, 22, 22, 22, 22, 22, 22, 22, 22, 22, 22, 22</td><td>33.73</td></tr>",
                            "<tr><td>10, 22, 22, 22, 22, 22, 22, 22, 22, 22, 22, 22</td><td>33.86</td></tr>",
                            "<tr><td>11, 22, 22, 22, 22, 22, 22, 22, 22, 22, 22, 22</td><td>33.62</td></tr>",
                            "<tr><td>12, 22, 22, 22, 22, 22, 22, 22, 22, 22, 22, 22</td><td>44.53</td></tr>",
                            "<tr><td>13, 22, 22, 22, 22, 22, 22, 22, 22, 22, 22, 22</td><td>33.70</td></tr>",
                            "<tr><td>14, 22, 22, 22, 22, 22, 22, 22, 22, 22, 22, 22</td><td>33.75</td></tr>",
                            "<tr><td>15, 22, 22, 22, 22, 22, 22, 22, 22, 22, 22, 22</td><td>33.80</td></tr>",
                            "<tr><td>16, 22, 22, 22, 22, 22, 22, 22, 22, 22, 22, 22</td><td>33.85</td></tr>",
                            "<tr><td>17, 22, 22, 22, 22, 22, 22, 22, 22, 22, 22, 22</td><td>33.90</td></tr>",
                            "<tr><td>18, 22, 22, 22, 22, 22, 22, 22, 22, 22, 22, 22</td><td>34.80</td></tr>",
                            "<tr><td>19, 22, 22, 22, 22, 22, 22, 22, 22, 22, 22, 22</td><td>35.50</td></tr>",
                            "<tr><td>20, 22, 22, 22, 22, 22, 22, 22, 22, 22, 22, 22</td><td>45.93</td></tr>",
                            "<tr><td>21, 22, 22, 22, 22, 22, 22, 22, 22, 22, 22, 22</td><td>43.57</td></tr>",
                            "<tr><td>22, 22, 22, 22, 22, 22, 22, 22, 22, 22, 22, 22</td><td>36.00</td></tr>",
                            "<tr><td>1, 22, 22, 22, 22, 22, 22, 22, 22, 22, 22, 22, 22</td><td>43.43</td></tr>",
                            "<tr><td>2, 22, 22, 22, 22, 22, 22, 22, 22, 22, 22, 22, 22</td><td>36.53</td></tr>",
                            "<tr><td>3, 22, 22, 22, 22, 22, 22, 22, 22, 22, 22, 22, 22</td><td>36.53</td></tr>",
                            "<tr><td>4, 22, 22, 22, 22, 22, 22, 22, 22, 22, 22, 22, 22</td><td>36.00</td></tr>",
                            "<tr><td>5, 22, 22, 22, 22, 22, 22, 22, 22, 22, 22, 22, 22</td><td>36.00</td></tr>",
                            "<tr><td>6, 22, 22, 22, 22, 22, 22, 22, 22, 22, 22, 22, 22</td><td>43.43</td></tr>",
                            "<tr><td>7, 22, 22, 22, 22, 22, 22, 22, 22, 22, 22, 22, 22</td><td>36.73</td></tr>",
                            "<tr><td>8, 22, 22, 22, 22, 22, 22, 22, 22, 22, 22, 22, 22</td><td>45.86</td></tr>",
                            "<tr><td>9, 22, 22, 22, 22, 22, 22, 22, 22, 22, 22, 22, 22</td><td>36.73</td></tr>",
                            "<tr><td>10, 22, 22, 22, 22, 22, 22, 22, 22, 22, 22, 22, 22</td><td>36.86</td></tr>",
                            "<tr><td>11, 22, 22, 22, 22, 22, 22, 22, 22, 22, 22, 22, 22</td><td>36.62</td></tr>",
                            "<tr><td>12, 22, 22, 22, 22, 22, 22, 22, 22, 22, 22, 22, 22</td><td>47.53</td></tr>",
                            "<tr><td>13, 22, 22, 22, 22, 22, 22, 22, 22, 22, 22, 22, 22</td><td>36.70</td></tr>",
                            "<tr><td>14, 22, 22, 22, 22, 22, 22, 22, 22, 22, 22, 22, 22</td><td>36.75</td></tr>",
                            "<tr><td>15, 22, 22, 22, 22, 22, 22, 22, 22, 22, 22, 22, 22</td><td>36.80</td></tr>",
                            "<tr><td>16, 22, 22, 22, 22, 22, 22, 22, 22, 22, 22, 22, 22</td><td>36.85</td></tr>",
                            "<tr><td>17, 22, 22, 22, 22, 22, 22, 22, 22, 22, 22, 22, 22</td><td>36.90</td></tr>",
                            "<tr><td>18, 22, 22, 22, 22, 22, 22, 22, 22, 22, 22, 22, 22</td><td>37.80</td></tr>",
                            "<tr><td>19, 22, 22, 22, 22, 22, 22, 22, 22, 22, 22, 22, 22</td><td>38.50</td></tr>",
                            "<tr><td>20, 22, 22, 22, 22, 22, 22, 22, 22, 22, 22, 22, 22</td><td>48.93</td></tr>",
                            "<tr><td>21, 22, 22, 22, 22, 22, 22, 22, 22, 22, 22, 22, 22</td><td>46.57</td></tr>",
                            "<tr><td>22, 22, 22, 22, 22, 22, 22, 22, 22, 22, 22, 22, 22</td><td>39.00</td></tr>",
                            "<tr><td>1, 22, 22, 22, 22, 22, 22, 22, 22, 22, 22, 22, 22, 22</td><td>46.43</td></tr>",
                            "<tr><td>2, 22, 22, 22, 22, 22, 22, 22, 22, 22, 22, 22, 22, 22</td><td>39.53</td></tr>",
                            "<tr><td>3, 22, 22, 22, 22, 22, 22, 22, 22, 22, 22, 22, 22, 22</td><td>39.53</td></tr>",
                            "<tr><td>4, 22, 22, 22, 22, 22, 22, 22, 22, 22, 22, 22, 22, 22</td><td>39.00</td></tr>",
                            "<tr><td>5, 22, 22, 22, 22, 22, 22, 22, 22, 22, 22, 22, 22, 22</td><td>39.00</td></tr>",
                            "<tr><td>6, 22, 22, 22, 22, 22, 22, 22, 22, 22, 22, 22, 22, 22</td><td>46.43</td></tr>",
                            "<tr><td>7, 22, 22, 22, 22, 22, 22, 22, 22, 22, 22, 22, 22, 22</td><td>39.73</td></tr>",
                            "<tr><td>8, 22, 22, 22, 22, 22, 22, 22, 22, 22, 22, 22, 22, 22</td><td>48.86</td></tr>",
                            "<tr><td>9, 22, 22, 22, 22, 22, 22, 22, 22, 22, 22, 22, 22, 22</td><td>39.73</td></tr>",
                            "<tr><td>10, 22, 22, 22, 22, 22, 22, 22, 22, 22, 22, 22, 22, 22</td><td>39.86</td></tr>",
                            "<tr><td>11, 22, 22, 22, 22, 22, 22, 22, 22, 22, 22, 22, 22, 22</td><td>39.62</td></tr>",
                            "<tr><td>12, 22, 22, 22, 22, 22, 22, 22, 22, 22, 22, 22, 22, 22</td><td>50.53</td></tr>",
                            "<tr><td>13, 22, 22, 22, 22, 22, 22, 22, 22, 22, 22, 22, 22, 22</td><td>39.70</td></tr>",
                            "<tr><td>14, 22, 22, 22, 22, 22, 22, 22, 22, 22, 22, 22, 22, 22</td><td>39.75</td></tr>",
                            "<tr><td>15, 22, 22, 22, 22, 22, 22, 22, 22, 22, 22, 22, 22, 22</td><td>39.80</td></tr>",
                            "<tr><td>16, 22, 22, 22, 22, 22, 22, 22, 22, 22, 22, 22, 22, 22</td><td>39.85</td></tr>",
                            "<tr><td>17, 22, 22, 22, 22, 22, 22, 22, 22, 22, 22, 22, 22, 22</td><td>39.90</td></tr>",
                            "<tr><td>18, 22, 22, 22, 22, 22, 22, 22, 22, 22, 22, 22, 22, 22</td><td>40.80</td></tr>",
                            "<tr><td>19, 22, 22, 22, 22, 22, 22, 22, 22, 22, 22, 22, 22, 22</td><td>41.50</td></tr>",
                            "<tr><td>20, 22, 22, 22, 22, 22, 22, 22, 22, 22, 22, 22, 22, 22</td><td>51.93</td></tr>",
                            "<tr><td>21, 22, 22, 22, 22, 22, 22, 22, 22, 22, 22, 22, 22, 22</td><td>49.57</td></tr>",
                            "<tr><td>22, 22, 22, 22, 22, 22, 22, 22, 22, 22, 22, 22, 22, 22</td><td>42.00</td></tr>",
                            "<tr><td>1, 22, 22, 22, 22, 22, 22, 22, 22, 22, 22, 22, 22, 22, 22</td><td>49.43</td></tr>",
                            "<tr><td>2, 22, 22, 22, 22, 22, 22, 22, 22, 22, 22, 22, 22, 22, 22</td><td>42.53</td></tr>",
                            "<tr><td>3, 22, 22, 22, 22, 22, 22, 22, 22, 22, 22, 22, 22, 22, 22</td><td>42.53</td></tr>",
                            "<tr><td>4, 22, 22, 22, 22, 22, 22, 22, 22, 22, 22, 22, 22, 22, 22</td><td>42.00</td></tr>",
                            "<tr><td>5, 22, 22, 22, 22, 22, 22, 22, 22, 22, 22, 22, 22, 22, 22</td><td>42.00</td></tr>",
                            "<tr><td>6, 22, 22, 22, 22, 22, 22, 22, 22, 22, 22, 22, 22, 22, 22</td><td>49.43</td></tr>",
                            "<tr><td>7, 22, 22, 22, 22, 22, 22, 22, 22, 22, 22, 22, 22, 22, 22</td><td>42.73</td></tr>",
                            "<tr><td>8, 22, 22, 22, 22, 22, 22, 22, 22, 22, 22, 22, 22, 22, 22</td><td>51.86</td></tr>",
                            "<tr><td>9, 22, 22, 22, 22, 22, 22, 22, 22, 22, 22, 22, 22, 22, 22</td><td>42.73</td></tr>",
                            "<tr><td>10, 22, 22, 22, 22, 22, 22, 22, 22, 22, 22, 22, 22, 22, 22</td><td>42.86</td></tr>",
                            "<tr><td>11, 22, 22, 22, 22, 22, 22, 22, 22, 22, 22, 22, 22, 22, 22</td><td>42.62</td></tr>",
                            "<tr><td>12, 22, 22, 22, 22, 22, 22, 22, 22, 22, 22, 22, 22, 22, 22</td><td>53.53</td></tr>",
                            "<tr><td>13, 22, 22, 22, 22, 22, 22, 22, 22, 22, 22, 22, 22, 22, 22</td><td>42.70</td></tr>",
                            "<tr><td>14, 22, 22, 22, 22, 22, 22, 22, 22, 22, 22, 22, 22, 22, 22</td><td>42.75</td></tr>",
                            "<tr><td>15, 22, 22, 22, 22, 22, 22, 22, 22, 22, 22, 22, 22, 22, 22</td><td>42.80</td></tr>",
                            "<tr><td>16, 22, 22, 22, 22, 22, 22, 22, 22, 22, 22, 22, 22, 22, 22</td><td>42.85</td></tr>",
                            "<tr><td>17, 22, 22, 22, 22, 22, 22, 22, 22, 22, 22, 22, 22, 22, 22</td><td>42.90</td></tr>",
                            "<tr><td>18, 22, 22, 22, 22, 22, 22, 22, 22, 22, 22, 22, 22, 22, 22</td><td>43.80</td></tr>",
                            "<tr><td>19, 22, 22, 22, 22, 22, 22, 22, 22, 22, 22, 22, 22, 22, 22</td><td>44.50</td></tr>",
                            "<tr><td>20, 22, 22, 22, 22, 22, 22, 22, 22, 22, 22, 22, 22, 22, 22</td><td>54.93</td></tr>",
                            "<tr><td>21, 22, 22, 22, 22, 22, 22, 22, 22, 22, 22, 22, 22, 22, 22</td><td>52.57</td></tr>",
                            "<tr><td>22, 22, 22, 22, 22, 22, 22, 22, 22, 22, 22, 22, 22, 22, 22</td><td>45.00</td></tr>",
                            "<tr><td>1, 17, 22, 22, 22, 22, 22, 22, 22, 22, 22, 22, 22, 22, 22, 22</td><td>50.33</td></tr>",
                            "<tr><td>2, 17, 22, 22, 22, 22, 22, 22, 22, 22, 22, 22, 22, 22, 22, 22</td><td>43.43</td></tr>",
                            "<tr><td>3, 17, 22, 22, 22, 22, 22, 22, 22, 22, 22, 22, 22, 22, 22, 22</td><td>43.43</td></tr>",
                            "<tr><td>4, 17, 22, 22, 22, 22, 22, 22, 22, 22, 22, 22, 22, 22, 22, 22</td><td>42.90</td></tr>",
                            "<tr><td>5, 17, 22, 22, 22, 22, 22, 22, 22, 22, 22, 22, 22, 22, 22, 22</td><td>42.90</td></tr>",
                            "<tr><td>6, 17, 22, 22, 22, 22, 22, 22, 22, 22, 22, 22, 22, 22, 22, 22</td><td>50.33</td></tr>",
                            "<tr><td>7, 17, 22, 22, 22, 22, 22, 22, 22, 22, 22, 22, 22, 22, 22, 22</td><td>43.63</td></tr>",
                            "<tr><td>8, 17, 22, 22, 22, 22, 22, 22, 22, 22, 22, 22, 22, 22, 22, 22</td><td>52.76</td></tr>",
                            "<tr><td>9, 17, 22, 22, 22, 22, 22, 22, 22, 22, 22, 22, 22, 22, 22, 22</td><td>43.63</td></tr>",
                            "<tr><td>10, 17, 22, 22, 22, 22, 22, 22, 22, 22, 22, 22, 22, 22, 22, 22</td><td>43.76</td></tr>",
                            "<tr><td>11, 17, 22, 22, 22, 22, 22, 22, 22, 22, 22, 22, 22, 22, 22, 22</td><td>43.52</td></tr>",
                            "<tr><td>12, 17, 22, 22, 22, 22, 22, 22, 22, 22, 22, 22, 22, 22, 22, 22</td><td>54.43</td></tr>",
                            "<tr><td>13, 17, 22, 22, 22, 22, 22, 22, 22, 22, 22, 22, 22, 22, 22, 22</td><td>43.60</td></tr>",
                            "<tr><td>14, 17, 22, 22, 22, 22, 22, 22, 22, 22, 22, 22, 22, 22, 22, 22</td><td>43.65</td></tr>",
                            "<tr><td>15, 17, 22, 22, 22, 22, 22, 22, 22, 22, 22, 22, 22, 22, 22, 22</td><td>43.70</td></tr>",
                            "<tr><td>16, 17, 22, 22, 22, 22, 22, 22, 22, 22, 22, 22, 22, 22, 22, 22</td><td>43.75</td></tr>",
                            "<tr><td>17, 17, 22, 22, 22, 22, 22, 22, 22, 22, 22, 22, 22, 22, 22, 22</td><td>43.80</td></tr>",
                            "<tr><td>18, 17, 22, 22, 22, 22, 22, 22, 22, 22, 22, 22, 22, 22, 22, 22</td><td>44.70</td></tr>",
                            "<tr><td>19, 17, 22, 22, 22, 22, 22, 22, 22, 22, 22, 22, 22, 22, 22, 22</td><td>45.40</td></tr>",
                            "<tr><td>20, 17, 22, 22, 22, 22, 22, 22, 22, 22, 22, 22, 22, 22, 22, 22</td><td>55.83</td></tr>",
                            "<tr><td>21, 17, 22, 22, 22, 22, 22, 22, 22, 22, 22, 22, 22, 22, 22, 22</td><td>53.47</td></tr>",
                            "<tr><td>22, 17, 22, 22, 22, 22, 22, 22, 22, 22, 22, 22, 22, 22, 22, 22</td><td>45.90</td></tr>",
                            "</table>"
                        ]
                    }
                },
                {
                    "output_type": "error",
                    "evalue": "Msg 530, Level 16, State 1, Line 3\r\nThe statement terminated. The maximum recursion 15 has been exhausted before statement completion.",
                    "ename": "",
                    "traceback": []
                }
            ],
            "execution_count": 19
        },
        {
            "cell_type": "code",
            "source": [
                "WITH item_cte AS (\r\n",
                "    SELECT\r\n",
                "        CAST([Id] as varchar(255)) as OrderSequence,\r\n",
                "        [unitPrice] as [combo_price],\r\n",
                "        1 as [level]\r\n",
                "    FROM\r\n",
                "        [portfolio].[cantine].[items]\r\n",
                "    WHERE [Id] = 1 -- base case\r\n",
                "    UNION ALL\r\n",
                "    SELECT\r\n",
                "        CAST(ic.[Id] as varchar(255)) + ', ' + icte.OrderSequence as OrderSequence,\r\n",
                "        ic.[unitPrice] + icte.combo_price as [combo_price],\r\n",
                "        icte.[level] + 1 as [level]\r\n",
                "    FROM\r\n",
                "        [portfolio].[cantine].[items] ic\r\n",
                "        JOIN item_cte icte ON ic.[Id] > CAST(LEFT(icte.OrderSequence, CHARINDEX(',', icte.OrderSequence + ',')-1) as int)\r\n",
                ")\r\n",
                "SELECT OrderSequence, combo_price\r\n",
                "FROM item_cte\r\n",
                "WHERE [level] = (SELECT COUNT(*) FROM [cantine].[items])\r\n",
                "OPTION (MAXRECURSION 5);"
            ],
            "metadata": {
                "azdata_cell_guid": "2b92c22e-5226-4f8e-8e65-06b0b62576a7",
                "language": "sql"
            },
            "outputs": [
                {
                    "output_type": "error",
                    "evalue": "Msg 240, Level 16, State 1, Line 1\r\nTypes don't match between the anchor and the recursive part in column \"OrderSequence\" of recursive query \"item_cte\".",
                    "ename": "",
                    "traceback": []
                },
                {
                    "output_type": "error",
                    "evalue": "Msg 240, Level 16, State 1, Line 1\r\nTypes don't match between the anchor and the recursive part in column \"combo_price\" of recursive query \"item_cte\".",
                    "ename": "",
                    "traceback": []
                },
                {
                    "output_type": "display_data",
                    "data": {
                        "text/html": "Total execution time: 00:00:00.787"
                    },
                    "metadata": {}
                }
            ],
            "execution_count": 21
        }
    ]
}