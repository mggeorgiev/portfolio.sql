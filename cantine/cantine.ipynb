{
    "metadata": {
        "kernelspec": {
            "name": "SQL",
            "display_name": "SQL",
            "language": "sql"
        },
        "language_info": {
            "name": "sql",
            "version": ""
        }
    },
    "nbformat_minor": 2,
    "nbformat": 4,
    "cells": [
        {
            "cell_type": "code",
            "source": [
                "-- Create a new database called 'portfolio'\r\n",
                "-- Connect to the 'master' database to run this snippet\r\n",
                "USE master\r\n",
                "GO\r\n",
                "-- Create the new database if it does not exist already\r\n",
                "IF NOT EXISTS (\r\n",
                "    SELECT [name]\r\n",
                "        FROM sys.databases\r\n",
                "        WHERE [name] = N'portfolio'\r\n",
                ")\r\n",
                "CREATE DATABASE portfolio\r\n",
                "GO\r\n",
                "\r\n",
                "USE portfolio;\r\n",
                "GO\r\n",
                "\r\n",
                "IF NOT EXISTS ( SELECT  *\r\n",
                "                FROM    sys.schemas\r\n",
                "                WHERE   name = N'cantine' )\r\n",
                "    EXEC('CREATE SCHEMA [cantine]');\r\n",
                "GO\r\n",
                "\r\n",
                "-- Create a new table called '[items]' in schema '[cantine]'\r\n",
                "-- Drop the table if it already exists\r\n",
                "IF OBJECT_ID('[cantine].[items]', 'U') IS NOT NULL\r\n",
                "DROP TABLE [cantine].[items]\r\n",
                "GO\r\n",
                "-- Create the table in the specified schema\r\n",
                "CREATE TABLE [cantine].[items]\r\n",
                "(\r\n",
                "    [Id] INT Identity(1,1), -- Primary Key column\r\n",
                "    [name] NVARCHAR(50) NOT NULL,\r\n",
                "    [unitPrice] NUMERIC(5,2),\r\n",
                "    [type] NVARCHAR(50) NOT NULL\r\n",
                "    -- Specify more columns here\r\n",
                ");\r\n",
                "GO\r\n",
                "\r\n",
                "-- Create a new table called '[banknotes]' in schema '[cantine]'\r\n",
                "-- Drop the table if it already exists\r\n",
                "IF OBJECT_ID('[cantine].[banknotes]', 'U') IS NOT NULL\r\n",
                "DROP TABLE [cantine].[banknotes]\r\n",
                "GO\r\n",
                "-- Create the table in the specified schema\r\n",
                "CREATE TABLE [cantine].[banknotes]\r\n",
                "(\r\n",
                "    [Id] INT identity(1,1), -- Primary Key column\r\n",
                "    [banknote] INT NOT NULL\r\n",
                ");\r\n",
                "GO\r\n",
                "\r\n",
                "INSERT INTO [cantine].[banknotes] ([banknote]) VALUES (5);\r\n",
                "INSERT INTO [cantine].[banknotes] ([banknote]) VALUES (10);\r\n",
                "INSERT INTO [cantine].[banknotes] ([banknote]) VALUES (20);\r\n",
                "INSERT INTO [cantine].[banknotes] ([banknote]) VALUES (50);\r\n",
                "GO\r\n",
                "\r\n",
                "-- Create a new table called '[consumption]' in schema '[cantine]'\r\n",
                "-- Drop the table if it already exists\r\n",
                "IF OBJECT_ID('[cantine].[consumption]', 'U') IS NOT NULL\r\n",
                "DROP TABLE [cantine].[consumption]\r\n",
                "GO\r\n",
                "-- Create the table in the specified schema\r\n",
                "CREATE TABLE [cantine].[consumption]\r\n",
                "(\r\n",
                "    [Id] INT Identity(1,1), -- Primary Key column\r\n",
                "    [itemId] INT NOT NULL\r\n",
                ");\r\n",
                "GO\r\n",
                "\r\n",
                "IF OBJECT_ID('[cantine].[canteen_status]', 'U') IS NOT NULL\r\n",
                "DROP TABLE [cantine].[canteen_status]\r\n",
                "\r\n",
                "CREATE TABLE [portfolio].[cantine].[canteen_status] (\r\n",
                "\t[Id] INT IDENTITY(1,1),\r\n",
                "    [Date] varchar(50) COLLATE SQL_Latin1_General_CP1_CI_AS NULL,\r\n",
                "\t[Time] varchar(50) COLLATE SQL_Latin1_General_CP1_CI_AS NULL,\r\n",
                "\tProduct varchar(50) COLLATE SQL_Latin1_General_CP1_CI_AS NULL,\r\n",
                "\tAmount int NULL,\r\n",
                "\tPrice varchar(50) COLLATE SQL_Latin1_General_CP1_CI_AS NULL,\r\n",
                "\tSaldo varchar(50) COLLATE SQL_Latin1_General_CP1_CI_AS NULL\r\n",
                ");\r\n",
                ""
            ],
            "metadata": {
                "azdata_cell_guid": "1b4b8d61-1bc6-46fb-bfbd-2ae77925558b",
                "language": "sql",
                "tags": [
                    "hide_input"
                ]
            },
            "outputs": [
                {
                    "output_type": "display_data",
                    "data": {
                        "text/html": "Commands completed successfully."
                    },
                    "metadata": {}
                },
                {
                    "output_type": "display_data",
                    "data": {
                        "text/html": "Commands completed successfully."
                    },
                    "metadata": {}
                },
                {
                    "output_type": "display_data",
                    "data": {
                        "text/html": "Commands completed successfully."
                    },
                    "metadata": {}
                },
                {
                    "output_type": "display_data",
                    "data": {
                        "text/html": "Commands completed successfully."
                    },
                    "metadata": {}
                },
                {
                    "output_type": "display_data",
                    "data": {
                        "text/html": "Commands completed successfully."
                    },
                    "metadata": {}
                },
                {
                    "output_type": "display_data",
                    "data": {
                        "text/html": "Commands completed successfully."
                    },
                    "metadata": {}
                },
                {
                    "output_type": "display_data",
                    "data": {
                        "text/html": "Commands completed successfully."
                    },
                    "metadata": {}
                },
                {
                    "output_type": "display_data",
                    "data": {
                        "text/html": "Commands completed successfully."
                    },
                    "metadata": {}
                },
                {
                    "output_type": "display_data",
                    "data": {
                        "text/html": "(1 row affected)"
                    },
                    "metadata": {}
                },
                {
                    "output_type": "display_data",
                    "data": {
                        "text/html": "(1 row affected)"
                    },
                    "metadata": {}
                },
                {
                    "output_type": "display_data",
                    "data": {
                        "text/html": "(1 row affected)"
                    },
                    "metadata": {}
                },
                {
                    "output_type": "display_data",
                    "data": {
                        "text/html": "(1 row affected)"
                    },
                    "metadata": {}
                },
                {
                    "output_type": "display_data",
                    "data": {
                        "text/html": "Commands completed successfully."
                    },
                    "metadata": {}
                },
                {
                    "output_type": "display_data",
                    "data": {
                        "text/html": "Commands completed successfully."
                    },
                    "metadata": {}
                },
                {
                    "output_type": "display_data",
                    "data": {
                        "text/html": "Commands completed successfully."
                    },
                    "metadata": {}
                },
                {
                    "output_type": "display_data",
                    "data": {
                        "text/html": "Total execution time: 00:00:00.961"
                    },
                    "metadata": {}
                }
            ],
            "execution_count": 16
        },
        {
            "cell_type": "code",
            "source": [
                "/*Insert consumption*/\r\n",
                "\r\n",
                "USE portfolio;\r\n",
                "GO\r\n",
                "\r\n",
                "INSERT INTO portfolio.cantine.canteen_status ([Date],[Time],Product,Amount,Price,Saldo) VALUES\r\n",
                "\t (N'21-11-2022',N'12:00:36',N'1 - MENU DU JOUR',1,N'7,43',N'33,20'),\r\n",
                "\t (N'21-11-2022',N'12:00:36',N'113 - VIVA 1/4 FREE',1,N'0,00',N'33,20'),\r\n",
                "\t (N'22-11-2022',N'09:07:00',N'311 - DM Sandwich Maison - 1.80€',1,N'1,80',N'31,40'),\r\n",
                "\t (N'22-11-2022',N'09:07:18',N'311 - DM Sandwich Maison - 1.80€',1,N'1,80',N'29,60'),\r\n",
                "\t (N'22-11-2022',N'10:35:40',N'301 - Dallmayr Sweet 1 - 0.70€',1,N'0,70',N'28,90'),\r\n",
                "\t (N'22-11-2022',N'12:00:22',N'1 - MENU DU JOUR',1,N'7,43',N'21,47'),\r\n",
                "\t (N'22-11-2022',N'12:00:22',N'107 - ROSPORT 1/4',1,N'0,53',N'20,94'),\r\n",
                "\t (N'24-11-2022',N'12:05:22',N'1 - MENU DU JOUR',1,N'7,43',N'13,51'),\r\n",
                "\t (N'24-11-2022',N'12:05:22',N'113 - VIVA 1/4 FREE',1,N'0,00',N'13,51'),\r\n",
                "\t (N'24-11-2022',N'16:34:58',N'212 - DM - COCA COLA ZERO 33cl 0.62€',1,N'0,62',N'12,89'),\r\n",
                "\t (N'24-11-2022',N'16:35:08',N'209 - DM - MM ORANGE 33cl 0.86€',1,N'0,86',N'12,03'),\r\n",
                "\t (N'28-11-2022',N'08:10:04',N'305 - Dallmayr Sweet 5 - 0.90€',1,N'0,90',N'11,13'),\r\n",
                "\t (N'28-11-2022',N'08:09:46',N'312 - DM Traingles - 2.50€',1,N'2,50',N'8,63'),\r\n",
                "\t (N'28-11-2022',N'12:31:44',N'1 - MENU DU JOUR',1,N'7,43',N'1,20'),\r\n",
                "\t (N'28-11-2022',N'12:31:44',N'107 - ROSPORT 1/4',1,N'0,53',N'0,67'),\r\n",
                "\t (N'28-11-2022',N'16:05:42',N'212 - DM - COCA COLA ZERO 33cl 0.62€',1,N'0,62',N'50,05'),\r\n",
                "\t (N'28-11-2022',N'16:05:52',N'209 - DM - MM ORANGE 33cl 0.86€',1,N'0,86',N'49,19'),\r\n",
                "\t (N'05-12-2022',N'11:56:24',N'1 - MENU DU JOUR',1,N'7,43',N'41,76'),\r\n",
                "\t (N'05-12-2022',N'11:56:24',N'113 - VIVA 1/4 FREE',1,N'0,00',N'41,76'),\r\n",
                "\t (N'05-12-2022',N'17:33:12',N'302 - Dallmayr Sweet 2 - 0.75€',1,N'0,75',N'41,01'),\r\n",
                "\t (N'05-12-2022',N'08:51:58',N'311 - DM Sandwich Maison - 1.80€',1,N'1,80',N'25,54'),\r\n",
                "\t (N'06-12-2022',N'09:35:54',N'304 - Dallmayr Sweet 4 - 0.85€',1,N'0,85',N'40,16'),\r\n",
                "\t (N'06-12-2022',N'11:59:54',N'6 - MENU ACTION',1,N'10,57',N'29,59'),\r\n",
                "\t (N'06-12-2022',N'11:59:54',N'107 - ROSPORT 1/4',1,N'0,53',N'29,06'),\r\n",
                "\t (N'06-12-2022',N'16:22:46',N'209 - DM - MM ORANGE 33cl 0.86€',1,N'0,86',N'28,20'),\r\n",
                "\t (N'06-12-2022',N'16:22:58',N'209 - DM - MM ORANGE 33cl 0.86€',1,N'0,86',N'27,34'),\r\n",
                "\t (N'06-12-2022',N'08:52:48',N'311 - DM Sandwich Maison - 1.80€',1,N'1,80',N'23,74'),\r\n",
                "\t (N'08-12-2022',N'11:57:28',N'2 - MENU DU CHEF',1,N'9,86',N'13,88'),\r\n",
                "\t (N'08-12-2022',N'11:57:28',N'113 - VIVA 1/4 FREE',1,N'0,00',N'13,88'),\r\n",
                "\t (N'12-12-2022',N'12:38:32',N'311 - DM Sandwich Maison - 1.80€',1,N'1,80',N'12,08'),\r\n",
                "\t (N'12-12-2022',N'12:39:04',N'311 - DM Sandwich Maison - 1.80€',1,N'1,80',N'10,28'),\r\n",
                "\t (N'12-12-2022',N'14:38:34',N'212 - DM - COCA COLA ZERO 33cl 0.62€',1,N'0,62',N'9,66'),\r\n",
                "\t (N'12-12-2022',N'14:38:40',N'212 - DM - COCA COLA ZERO 33cl 0.62€',1,N'0,62',N'9,04'),\r\n",
                "\t (N'13-12-2022',N'12:04:54',N'5 - MENU DE NOEL',1,N'12,93',N'-3,89'),\r\n",
                "\t (N'13-12-2022',N'12:04:54',N'107 - ROSPORT 1/4',1,N'0,53',N'-4,42'),\r\n",
                "\t (N'19-12-2022',N'12:02:04',N'1 - MENU DU JOUR',1,N'7,43',N'48,15'),\r\n",
                "\t (N'19-12-2022',N'12:02:04',N'113 - VIVA 1/4 FREE',1,N'0,00',N'48,15'),\r\n",
                "\t (N'19-12-2022',N'12:25:26',N'209 - DM - MM ORANGE 33cl 0.86€',1,N'0,86',N'47,29'),\r\n",
                "\t (N'19-12-2022',N'16:30:04',N'303 - Dallmayr Sweet 3 - 0.80€',1,N'0,80',N'46,49'),\r\n",
                "\t (N'19-12-2022',N'16:30:22',N'301 - Dallmayr Sweet 1 - 0.70€',1,N'0,70',N'45,79'),\r\n",
                "\t (N'02-01-2023',N'12:11:42',N'1 - MENU DU JOUR',1,N'7,43',N'38,36'),\r\n",
                "\t (N'02-01-2023',N'12:11:42',N'107 - ROSPORT 1/4',1,N'0,53',N'37,83'),\r\n",
                "\t (N'03-01-2023',N'12:07:16',N'1 - MENU DU JOUR',1,N'7,43',N'30,40'),\r\n",
                "\t (N'03-01-2023',N'12:07:16',N'107 - ROSPORT 1/4',1,N'0,53',N'29,87'),\r\n",
                "\t (N'04-01-2023',N'12:06:26',N'1 - MENU DU JOUR',1,N'7,43',N'22,44'),\r\n",
                "\t (N'04-01-2023',N'12:06:26',N'113 - VIVA 1/4 FREE',1,N'0,00',N'22,44'),\r\n",
                "\t (N'05-01-2023',N'08:38:12',N'311 - DM Sandwich Maison - 1.80€',1,N'1,80',N'20,64'),\r\n",
                "\t (N'05-01-2023',N'11:56:54',N'1 - MENU DU JOUR',1,N'7,43',N'13,21'),\r\n",
                "\t (N'05-01-2023',N'11:56:54',N'107 - ROSPORT 1/4',1,N'0,53',N'12,68'),\r\n",
                "\t (N'06-01-2023',N'11:56:38',N'3 - MENU CLIN D''OEIL',1,N'11,53',N'1,15'),\r\n",
                "\t (N'06-01-2023',N'11:56:38',N'107 - ROSPORT 1/4',1,N'0,53',N'0,62'),\r\n",
                "\t (N'09-01-2023',N'09:21:10',N'311 - DM Sandwich Maison - 1.80€',1,N'1,80',N'48,82'),\r\n",
                "\t (N'09-01-2023',N'12:07:40',N'1 - MENU DU JOUR',1,N'7,43',N'41,39'),\r\n",
                "\t (N'09-01-2023',N'12:07:40',N'113 - VIVA 1/4 FREE',1,N'0,00',N'41,39'),\r\n",
                "\t (N'10-01-2023',N'11:56:56',N'3 - MENU CLIN D''OEIL',1,N'11,53',N'29,86'),\r\n",
                "\t (N'10-01-2023',N'11:56:56',N'113 - VIVA 1/4 FREE',1,N'0,00',N'29,86'),\r\n",
                "\t (N'11-01-2023',N'11:55:34',N'1 - MENU DU JOUR',1,N'7,43',N'22,43'),\r\n",
                "\t (N'11-01-2023',N'11:55:34',N'113 - VIVA 1/4 FREE',1,N'0,00',N'22,43'),\r\n",
                "\t (N'11-01-2023',N'15:24:20',N'212 - DM - COCA COLA ZERO 33cl 0.62€',1,N'0,62',N'21,81'),\r\n",
                "\t (N'11-01-2023',N'15:24:34',N'212 - DM - COCA COLA ZERO 33cl 0.62€',1,N'0,62',N'21,19'),\r\n",
                "\t (N'12-01-2023',N'12:04:16',N'1 - MENU DU JOUR',1,N'7,43',N'13,76'),\r\n",
                "\t (N'12-01-2023',N'12:04:16',N'113 - VIVA 1/4 FREE',1,N'0,00',N'13,76'),\r\n",
                "\t (N'12-01-2023',N'15:06:18',N'209 - DM - MM ORANGE 33cl 0.86€',1,N'0,86',N'12,90'),\r\n",
                "\t (N'13-01-2023',N'12:03:12',N'6 - MENU ACTION',1,N'10,57',N'2,33'),\r\n",
                "\t (N'13-01-2023',N'12:03:12',N'106 - COCA ZERO 1/4',1,N'0,53',N'1,80'),\r\n",
                "\t (N'16-01-2023',N'13:15:50',N'311 - DM Sandwich Maison - 1.80€',1,N'1,80',N'0,00'),\r\n",
                "\t (N'19-01-2023',N'12:31:00',N'1 - MENU DU JOUR',1,N'7,43',N'12,57'),\r\n",
                "\t (N'19-01-2023',N'12:31:00',N'113 - VIVA 1/4 FREE',1,N'0,00',N'12,57'),\r\n",
                "\t (N'20-01-2023',N'13:17:58',N'212 - DM - COCA COLA ZERO 33cl 0.62€',1,N'0,62',N'11,95'),\r\n",
                "\t (N'20-01-2023',N'13:18:10',N'209 - DM - MM ORANGE 33cl 0.86€',1,N'0,86',N'11,09'),\r\n",
                "\t (N'20-01-2023',N'12:06:52',N'311 - DM Sandwich Maison - 1.80€',1,N'1,80',N'9,29'),\r\n",
                "\t (N'23-01-2023',N'12:06:52',N'1 - MENU DU JOUR',1,N'7,43',N'1,86'),\r\n",
                "\t (N'23-01-2023',N'12:06:52',N'113 - VIVA 1/4 FREE',1,N'0,00',N'1,86'),\r\n",
                "\t (N'24-01-2023',N'12:14:04',N'1 - MENU DU JOUR',1,N'7,43',N'44,43'),\r\n",
                "\t (N'24-01-2023',N'12:14:04',N'113 - VIVA 1/4 FREE',1,N'0,00', N'44,43'),\r\n",
                "\t (N'25-01-2023',N'12:00:46',N'1 - MENU DU JOUR',1,N'7,43',N'37,00'),\r\n",
                "\t (N'25-01-2023',N'12:00:46',N'107 - ROSPORT 1/4',1,N'0,53', N'36,47'),\r\n",
                "\t (N'25-01-2023',N'12:03:46',N'1 - MENU DU JOUR',1,N'7,43', N'29,04'),\r\n",
                "\t (N'26-01-2023',N'12:16:08',N'1 - MENU DU JOUR',2,N'7,43',N'14,18'),\r\n",
                "\t (N'26-01-2023',N'12:16:08',N'113 - VIVA 1/4 FREE',2,N'0,00', N'14,18'),\r\n",
                "\t (N'27-01-2023',N'12:19:26',N'3 - MENU CLIN D''OEIL',1,N'11,53', N'2,65'),\r\n",
                "\t (N'27-01-2023',N'12:19:26',N'113 - VIVA 1/4 FREE',1,N'0,00', N'2,65'),\r\n",
                "\t (N'30-01-2023',N'12:38:00',N'1 - MENU DU JOUR',1,N'7,43', N'45,22'),\r\n",
                "\t (N'30-01-2023',N'12:38:00',N'113 - VIVA 1/4 FREE',1,N'7,43', N'45,22'),\r\n",
                "\t (N'31-01-2023',N'12:37:46',N'1 - MENU DU JOUR',1,N'7,43', N'37,79'),\r\n",
                "\t (N'31-01-2023',N'12:37:46',N'113 - VIVA 1/4 FREE',1,N'7,43', N'37,79'),\r\n",
                "\t (N'01-02-2023',N'12:01:18',N'1 - MENU DU JOUR',1,N'7,43', N'30,36'),\r\n",
                "\t (N'01-02-2023',N'12:01:18',N'113 - VIVA 1/4 FREE',1,N'7,43', N'30,36'),\r\n",
                "\t (N'02-02-2023',N'11:57:46',N'998 - Donnation ABC Canteen (CR 450)',1,N'3,00', N'27,36'),\r\n",
                "\t (N'02-02-2023',N'12:03:58',N'1 - MENU DU JOUR',1,N'7,43', N'19,93'),\r\n",
                "\t (N'02-02-2023',N'12:03:58',N'113 - VIVA 1/4 FREE',1,N'7,43', N'19,93'),\r\n",
                "\t (N'03-02-2023',N'10:32:32',N'212 - DM - COCA COLA ZERO 33cl 0.62€',1,N'0,62', N'19,31'),\r\n",
                "\t (N'03-02-2023',N'10:32:48',N'1206 - DM - PERRIER 33cl 0.73€',1,N'0,73', N'18,58'),\r\n",
                "\t (N'03-02-2023',N'10:32:58',N'212 - DM - COCA COLA ZERO 33cl 0.62€',1,N'0,62', N'17,96'),\r\n",
                "\t (N'03-02-2023',N'10:33:06',N'206 - DM - PERRIER 33cl 0.73€',1,N'0,73', N'17,23'),\r\n",
                "\t (N'03-02-2023',N'10:33:30',N'206 - DM - PERRIER 33cl 0.73€',1,N'0,73', N'16,50'),\r\n",
                "\t (N'03-02-2023',N'10:33:38',N'206 - DM - PERRIER 33cl 0.73€',1,N'0,73', N'15,77'),\r\n",
                "\t (N'03-02-2023',N'10:34:00',N'206 - DM - PERRIER 33cl 0.73€',1,N'0,73', N'15,04'),\r\n",
                "\t (N'03-02-2023',N'11:59:30',N'1 - MENU DU JOUR',1,N'7,43', N'7,61'),\r\n",
                "\t (N'03-02-2023',N'11:59:30',N'113 - VIVA 1/4 FREE',1,N'7,43', N'7,61'),\r\n",
                "\t (N'06-02-2023',N'09:41:12',N'209 - DM - MM ORANGE 33cl 0.86€',1,N'0,86', N'6,75'),\r\n",
                "\t (N'06-02-2023',N'09:41:24',N'206 - DM - PERRIER 33cl 0.73€',1,N'0,73', N'6,02'),\r\n",
                "\t (N'06-02-2023',N'09:41:36',N'206 - DM - PERRIER 33cl 0.73€',1,N'0,73', N'5,29'),\r\n",
                "\t (N'06-02-2023',N'12:00:38',N'311 - DM Sandwich Maison - 1.80€',1,N'1,80', N'3,49'),\r\n",
                "\t (N'06-02-2023',N'12:02:46',N'311 - DM Sandwich Maison - 1.80€',1,N'1,80', N'1,69'),\r\n",
                "\t (N'06-02-2023',N'18:13:34',N'301 - Dallmayr Sweet 1 - 0.70€',1,N'0,70', N'0,99'),\r\n",
                "\t (N'07-02-2023',N'09:32:48',N'209 - DM - MM ORANGE 33cl 0.86€',1,N'0,86', N'0,13');\r\n",
                "INSERT INTO portfolio.cantine.canteen_status ([Date],[Time],Product,Amount,Price,Saldo) VALUES (N'07-02-2023',N'12:02:14',N'1 - MENU DU JOUR',1,N'7,43', N'42,70');\r\n",
                "INSERT INTO portfolio.cantine.canteen_status ([Date],[Time],Product,Amount,Price,Saldo) VALUES (N'07-02-2023',N'12:02:14',N'113 - VIVA 1/4 FREE',1,N'0,00', N'42,70');\r\n",
                ""
            ],
            "metadata": {
                "language": "sql",
                "azdata_cell_guid": "c7aa3b81-e529-4878-bb8d-7e52fd91f301",
                "tags": [
                    "hide_input"
                ]
            },
            "outputs": [
                {
                    "output_type": "display_data",
                    "data": {
                        "text/html": "Commands completed successfully."
                    },
                    "metadata": {}
                },
                {
                    "output_type": "display_data",
                    "data": {
                        "text/html": "(107 rows affected)"
                    },
                    "metadata": {}
                },
                {
                    "output_type": "display_data",
                    "data": {
                        "text/html": "(1 row affected)"
                    },
                    "metadata": {}
                },
                {
                    "output_type": "display_data",
                    "data": {
                        "text/html": "(1 row affected)"
                    },
                    "metadata": {}
                },
                {
                    "output_type": "display_data",
                    "data": {
                        "text/html": "Total execution time: 00:00:00.161"
                    },
                    "metadata": {}
                }
            ],
            "execution_count": 21
        },
        {
            "cell_type": "code",
            "source": [
                "/*Insert card rechardes*/\r\n",
                "INSERT INTO [portfolio].[cantine].[card_charges] ([Charge_date],[Amount]) VALUES\r\n",
                "\t (CONVERT(date, '21-11-2022', 103), 33.2),\r\n",
                "\t (CONVERT(date, '28-11-2022', 103), 50.0),\r\n",
                "\t (CONVERT(date, '19-12-2022', 103), 50.0),\r\n",
                "\t (CONVERT(date, '09-01-2023', 103), 50.0),\r\n",
                "\t (CONVERT(date, '19-01-2023', 103), 20.0),\r\n",
                "\t (CONVERT(date, '24-01-2023', 103), 50.0),\r\n",
                "\t (CONVERT(date, '29-01-2023', 103), 50.0),\r\n",
                "\t (CONVERT(date, '07-02-2023', 103), 50.0);\r\n",
                "GO"
            ],
            "metadata": {
                "language": "sql",
                "azdata_cell_guid": "591725fa-1584-41bb-9eb3-4fea453b6394",
                "tags": [
                    "hide_input"
                ]
            },
            "outputs": [],
            "execution_count": null
        },
        {
            "cell_type": "code",
            "source": [
                "USE portfolio;\r\n",
                "GO\r\n",
                "\r\n",
                "INSERT INTO [portfolio].[cantine].[items] ([name], [unitPrice], [type])\r\n",
                "SELECT \r\n",
                "    DISTINCT [Product], CAST(REPLACE([Price],',','.') AS NUMERIC(5,2)), 'external'\r\n",
                "FROM [portfolio].[cantine].[canteen_status]\r\n",
                "WHERE [Product] NOT IN (SELECT [name] FROM [portfolio].[cantine].[items])\r\n",
                "ORDER BY [Product];\r\n",
                "\r\n",
                "-- Create a new table called '[consumption]' in schema '[cantine]'\r\n",
                "-- Drop the table if it already exists\r\n",
                "IF OBJECT_ID('[portfolio].[cantine].[consumption_log]', 'U') IS NOT NULL\r\n",
                "DROP TABLE [portfolio].[cantine].[consumption_log]\r\n",
                "GO\r\n",
                "-- Create the table in the specified schema\r\n",
                "CREATE TABLE [portfolio].[cantine].[consumption_log]\r\n",
                "(\r\n",
                "    [Id] INT Identity(1,1), -- Primary Key column\r\n",
                "\t[ConsumptionDate] DATE,\r\n",
                "\t[ConsumptionTime] TIME,\r\n",
                "\t[Product] varchar(50) COLLATE SQL_Latin1_General_CP1_CI_AS NULL, \r\n",
                "\t[Price] NUMERIC(5,2),\r\n",
                "\t[Saldo] NUMERIC(5,2)\r\n",
                ");\r\n",
                "GO\r\n",
                "\r\n",
                "INSERT INTO [portfolio].[cantine].[consumption_log] ([ConsumptionDate], [ConsumptionTime], [Product], [Price], [Saldo] )\r\n",
                "\tSELECT\r\n",
                "\t\tCONVERT(date, [Date], 103) as ConsumptionDate\r\n",
                "\t\t,CONVERT(time, [Time], 103) as ConsumptionTime\r\n",
                "        ,[Product]\r\n",
                "        ,CAST(REPLACE([Price],',','.') AS NUMERIC(5,2)) as Price\r\n",
                "\t\t,CAST(REPLACE([Saldo],',','.') AS NUMERIC(5,2)) as Saldo\r\n",
                "    FROM [portfolio].[cantine].[canteen_status];\r\n",
                "GO\r\n",
                "\r\n",
                "\r\n",
                "-- Create a new table called '[card_charges]' in schema '[dbo]'\r\n",
                "-- Drop the table if it already exists\r\n",
                "IF OBJECT_ID('[cantine].[card_charges]', 'U') IS NOT NULL\r\n",
                "DROP TABLE [cantine].[card_charges]\r\n",
                "GO\r\n",
                "-- Create the table in the specified schema\r\n",
                "CREATE TABLE [cantine].[card_charges]\r\n",
                "(\r\n",
                "\t[Id] INT Identity(1,1), -- Primary Key column\r\n",
                "\t[Charge_date] DATE,\r\n",
                "\t[Amount] NUMERIC(5,2)\r\n",
                "\t-- Specify more columns here\r\n",
                ");\r\n",
                "GO\r\n",
                ""
            ],
            "metadata": {
                "language": "sql",
                "azdata_cell_guid": "a0ab7c42-4e8a-43f5-a7dc-2d59cc2752ba",
                "tags": []
            },
            "outputs": [
                {
                    "output_type": "display_data",
                    "data": {
                        "text/html": "Commands completed successfully."
                    },
                    "metadata": {}
                },
                {
                    "output_type": "display_data",
                    "data": {
                        "text/html": "(21 rows affected)"
                    },
                    "metadata": {}
                },
                {
                    "output_type": "display_data",
                    "data": {
                        "text/html": "Commands completed successfully."
                    },
                    "metadata": {}
                },
                {
                    "output_type": "display_data",
                    "data": {
                        "text/html": "(109 rows affected)"
                    },
                    "metadata": {}
                },
                {
                    "output_type": "display_data",
                    "data": {
                        "text/html": "Commands completed successfully."
                    },
                    "metadata": {}
                },
                {
                    "output_type": "display_data",
                    "data": {
                        "text/html": "Commands completed successfully."
                    },
                    "metadata": {}
                },
                {
                    "output_type": "display_data",
                    "data": {
                        "text/html": "Total execution time: 00:00:00.718"
                    },
                    "metadata": {}
                }
            ],
            "execution_count": 20
        },
        {
            "cell_type": "code",
            "source": [
                "/*List Items*/\r\n",
                "SELECT \r\n",
                "    [Id]\r\n",
                "    ,[name]\r\n",
                "    ,[unitPrice]\r\n",
                "    ,[type]\r\n",
                "FROM [portfolio].[cantine].[items];\r\n",
                "GO"
            ],
            "metadata": {
                "language": "sql",
                "azdata_cell_guid": "28c37d2e-33f7-4183-8cb2-8f98bc389542",
                "tags": []
            },
            "outputs": [
                {
                    "output_type": "display_data",
                    "data": {
                        "text/html": "(21 rows affected)"
                    },
                    "metadata": {}
                },
                {
                    "output_type": "display_data",
                    "data": {
                        "text/html": "Total execution time: 00:00:00.070"
                    },
                    "metadata": {}
                },
                {
                    "output_type": "execute_result",
                    "metadata": {},
                    "execution_count": 22,
                    "data": {
                        "application/vnd.dataresource+json": {
                            "schema": {
                                "fields": [
                                    {
                                        "name": "Id"
                                    },
                                    {
                                        "name": "name"
                                    },
                                    {
                                        "name": "unitPrice"
                                    },
                                    {
                                        "name": "type"
                                    }
                                ]
                            },
                            "data": [
                                {
                                    "0": "1",
                                    "1": "1 - MENU DU JOUR",
                                    "2": "7.43",
                                    "3": "external"
                                },
                                {
                                    "0": "2",
                                    "1": "106 - COCA ZERO 1/4",
                                    "2": "0.53",
                                    "3": "external"
                                },
                                {
                                    "0": "3",
                                    "1": "107 - ROSPORT 1/4",
                                    "2": "0.53",
                                    "3": "external"
                                },
                                {
                                    "0": "4",
                                    "1": "113 - VIVA 1/4 FREE",
                                    "2": "0.00",
                                    "3": "external"
                                },
                                {
                                    "0": "5",
                                    "1": "113 - VIVA 1/4 FREE",
                                    "2": "7.43",
                                    "3": "external"
                                },
                                {
                                    "0": "6",
                                    "1": "1206 - DM - PERRIER 33cl 0.73€",
                                    "2": "0.73",
                                    "3": "external"
                                },
                                {
                                    "0": "7",
                                    "1": "2 - MENU DU CHEF",
                                    "2": "9.86",
                                    "3": "external"
                                },
                                {
                                    "0": "8",
                                    "1": "206 - DM - PERRIER 33cl 0.73€",
                                    "2": "0.73",
                                    "3": "external"
                                },
                                {
                                    "0": "9",
                                    "1": "209 - DM - MM ORANGE 33cl 0.86€",
                                    "2": "0.86",
                                    "3": "external"
                                },
                                {
                                    "0": "10",
                                    "1": "212 - DM - COCA COLA ZERO 33cl 0.62€",
                                    "2": "0.62",
                                    "3": "external"
                                },
                                {
                                    "0": "11",
                                    "1": "3 - MENU CLIN D'OEIL",
                                    "2": "11.53",
                                    "3": "external"
                                },
                                {
                                    "0": "12",
                                    "1": "301 - Dallmayr Sweet 1 - 0.70€",
                                    "2": "0.70",
                                    "3": "external"
                                },
                                {
                                    "0": "13",
                                    "1": "302 - Dallmayr Sweet 2 - 0.75€",
                                    "2": "0.75",
                                    "3": "external"
                                },
                                {
                                    "0": "14",
                                    "1": "303 - Dallmayr Sweet 3 - 0.80€",
                                    "2": "0.80",
                                    "3": "external"
                                },
                                {
                                    "0": "15",
                                    "1": "304 - Dallmayr Sweet 4 - 0.85€",
                                    "2": "0.85",
                                    "3": "external"
                                },
                                {
                                    "0": "16",
                                    "1": "305 - Dallmayr Sweet 5 - 0.90€",
                                    "2": "0.90",
                                    "3": "external"
                                },
                                {
                                    "0": "17",
                                    "1": "311 - DM Sandwich Maison - 1.80€",
                                    "2": "1.80",
                                    "3": "external"
                                },
                                {
                                    "0": "18",
                                    "1": "312 - DM Traingles - 2.50€",
                                    "2": "2.50",
                                    "3": "external"
                                },
                                {
                                    "0": "19",
                                    "1": "5 - MENU DE NOEL",
                                    "2": "12.93",
                                    "3": "external"
                                },
                                {
                                    "0": "20",
                                    "1": "6 - MENU ACTION",
                                    "2": "10.57",
                                    "3": "external"
                                },
                                {
                                    "0": "21",
                                    "1": "998 - Donnation ABC Canteen (CR 450)",
                                    "2": "3.00",
                                    "3": "external"
                                }
                            ]
                        },
                        "text/html": [
                            "<table>",
                            "<tr><th>Id</th><th>name</th><th>unitPrice</th><th>type</th></tr>",
                            "<tr><td>1</td><td>1 - MENU DU JOUR</td><td>7.43</td><td>external</td></tr>",
                            "<tr><td>2</td><td>106 - COCA ZERO 1/4</td><td>0.53</td><td>external</td></tr>",
                            "<tr><td>3</td><td>107 - ROSPORT 1/4</td><td>0.53</td><td>external</td></tr>",
                            "<tr><td>4</td><td>113 - VIVA 1/4 FREE</td><td>0.00</td><td>external</td></tr>",
                            "<tr><td>5</td><td>113 - VIVA 1/4 FREE</td><td>7.43</td><td>external</td></tr>",
                            "<tr><td>6</td><td>1206 - DM - PERRIER 33cl 0.73€</td><td>0.73</td><td>external</td></tr>",
                            "<tr><td>7</td><td>2 - MENU DU CHEF</td><td>9.86</td><td>external</td></tr>",
                            "<tr><td>8</td><td>206 - DM - PERRIER 33cl 0.73€</td><td>0.73</td><td>external</td></tr>",
                            "<tr><td>9</td><td>209 - DM - MM ORANGE 33cl 0.86€</td><td>0.86</td><td>external</td></tr>",
                            "<tr><td>10</td><td>212 - DM - COCA COLA ZERO 33cl 0.62€</td><td>0.62</td><td>external</td></tr>",
                            "<tr><td>11</td><td>3 - MENU CLIN D'OEIL</td><td>11.53</td><td>external</td></tr>",
                            "<tr><td>12</td><td>301 - Dallmayr Sweet 1 - 0.70€</td><td>0.70</td><td>external</td></tr>",
                            "<tr><td>13</td><td>302 - Dallmayr Sweet 2 - 0.75€</td><td>0.75</td><td>external</td></tr>",
                            "<tr><td>14</td><td>303 - Dallmayr Sweet 3 - 0.80€</td><td>0.80</td><td>external</td></tr>",
                            "<tr><td>15</td><td>304 - Dallmayr Sweet 4 - 0.85€</td><td>0.85</td><td>external</td></tr>",
                            "<tr><td>16</td><td>305 - Dallmayr Sweet 5 - 0.90€</td><td>0.90</td><td>external</td></tr>",
                            "<tr><td>17</td><td>311 - DM Sandwich Maison - 1.80€</td><td>1.80</td><td>external</td></tr>",
                            "<tr><td>18</td><td>312 - DM Traingles - 2.50€</td><td>2.50</td><td>external</td></tr>",
                            "<tr><td>19</td><td>5 - MENU DE NOEL</td><td>12.93</td><td>external</td></tr>",
                            "<tr><td>20</td><td>6 - MENU ACTION</td><td>10.57</td><td>external</td></tr>",
                            "<tr><td>21</td><td>998 - Donnation ABC Canteen (CR 450)</td><td>3.00</td><td>external</td></tr>",
                            "</table>"
                        ]
                    }
                }
            ],
            "execution_count": 22
        },
        {
            "cell_type": "code",
            "source": [
                "/*Calculate the integer and modulo price of a product.*/\r\n",
                "SELECT \r\n",
                "    [Id], [name], [unitPrice], [type]\r\n",
                "    ,CAST((unitPrice) AS INT) AS intUnitPrice\r\n",
                "    ,[unitPrice] % CASE\r\n",
                "                    WHEN CAST((unitPrice) AS INT) >0 THEN CAST((unitPrice) AS INT)\r\n",
                "                    ELSE 1\r\n",
                "                   END\r\n",
                "                   AS Modulo\r\n",
                "FROM [portfolio].[cantine].[items];\r\n",
                "GO"
            ],
            "metadata": {
                "language": "sql",
                "azdata_cell_guid": "39e7368a-b5be-4dfb-87c0-f6fe6a3089a7"
            },
            "outputs": [
                {
                    "output_type": "display_data",
                    "data": {
                        "text/html": "(21 rows affected)"
                    },
                    "metadata": {}
                },
                {
                    "output_type": "display_data",
                    "data": {
                        "text/html": "Total execution time: 00:00:00.076"
                    },
                    "metadata": {}
                },
                {
                    "output_type": "execute_result",
                    "metadata": {},
                    "execution_count": 23,
                    "data": {
                        "application/vnd.dataresource+json": {
                            "schema": {
                                "fields": [
                                    {
                                        "name": "Id"
                                    },
                                    {
                                        "name": "name"
                                    },
                                    {
                                        "name": "unitPrice"
                                    },
                                    {
                                        "name": "type"
                                    },
                                    {
                                        "name": "intUnitPrice"
                                    },
                                    {
                                        "name": "Modulo"
                                    }
                                ]
                            },
                            "data": [
                                {
                                    "0": "1",
                                    "1": "1 - MENU DU JOUR",
                                    "2": "7.43",
                                    "3": "external",
                                    "4": "7",
                                    "5": "0.43"
                                },
                                {
                                    "0": "2",
                                    "1": "106 - COCA ZERO 1/4",
                                    "2": "0.53",
                                    "3": "external",
                                    "4": "0",
                                    "5": "0.53"
                                },
                                {
                                    "0": "3",
                                    "1": "107 - ROSPORT 1/4",
                                    "2": "0.53",
                                    "3": "external",
                                    "4": "0",
                                    "5": "0.53"
                                },
                                {
                                    "0": "4",
                                    "1": "113 - VIVA 1/4 FREE",
                                    "2": "0.00",
                                    "3": "external",
                                    "4": "0",
                                    "5": "0.00"
                                },
                                {
                                    "0": "5",
                                    "1": "113 - VIVA 1/4 FREE",
                                    "2": "7.43",
                                    "3": "external",
                                    "4": "7",
                                    "5": "0.43"
                                },
                                {
                                    "0": "6",
                                    "1": "1206 - DM - PERRIER 33cl 0.73€",
                                    "2": "0.73",
                                    "3": "external",
                                    "4": "0",
                                    "5": "0.73"
                                },
                                {
                                    "0": "7",
                                    "1": "2 - MENU DU CHEF",
                                    "2": "9.86",
                                    "3": "external",
                                    "4": "9",
                                    "5": "0.86"
                                },
                                {
                                    "0": "8",
                                    "1": "206 - DM - PERRIER 33cl 0.73€",
                                    "2": "0.73",
                                    "3": "external",
                                    "4": "0",
                                    "5": "0.73"
                                },
                                {
                                    "0": "9",
                                    "1": "209 - DM - MM ORANGE 33cl 0.86€",
                                    "2": "0.86",
                                    "3": "external",
                                    "4": "0",
                                    "5": "0.86"
                                },
                                {
                                    "0": "10",
                                    "1": "212 - DM - COCA COLA ZERO 33cl 0.62€",
                                    "2": "0.62",
                                    "3": "external",
                                    "4": "0",
                                    "5": "0.62"
                                },
                                {
                                    "0": "11",
                                    "1": "3 - MENU CLIN D'OEIL",
                                    "2": "11.53",
                                    "3": "external",
                                    "4": "11",
                                    "5": "0.53"
                                },
                                {
                                    "0": "12",
                                    "1": "301 - Dallmayr Sweet 1 - 0.70€",
                                    "2": "0.70",
                                    "3": "external",
                                    "4": "0",
                                    "5": "0.70"
                                },
                                {
                                    "0": "13",
                                    "1": "302 - Dallmayr Sweet 2 - 0.75€",
                                    "2": "0.75",
                                    "3": "external",
                                    "4": "0",
                                    "5": "0.75"
                                },
                                {
                                    "0": "14",
                                    "1": "303 - Dallmayr Sweet 3 - 0.80€",
                                    "2": "0.80",
                                    "3": "external",
                                    "4": "0",
                                    "5": "0.80"
                                },
                                {
                                    "0": "15",
                                    "1": "304 - Dallmayr Sweet 4 - 0.85€",
                                    "2": "0.85",
                                    "3": "external",
                                    "4": "0",
                                    "5": "0.85"
                                },
                                {
                                    "0": "16",
                                    "1": "305 - Dallmayr Sweet 5 - 0.90€",
                                    "2": "0.90",
                                    "3": "external",
                                    "4": "0",
                                    "5": "0.90"
                                },
                                {
                                    "0": "17",
                                    "1": "311 - DM Sandwich Maison - 1.80€",
                                    "2": "1.80",
                                    "3": "external",
                                    "4": "1",
                                    "5": "0.80"
                                },
                                {
                                    "0": "18",
                                    "1": "312 - DM Traingles - 2.50€",
                                    "2": "2.50",
                                    "3": "external",
                                    "4": "2",
                                    "5": "0.50"
                                },
                                {
                                    "0": "19",
                                    "1": "5 - MENU DE NOEL",
                                    "2": "12.93",
                                    "3": "external",
                                    "4": "12",
                                    "5": "0.93"
                                },
                                {
                                    "0": "20",
                                    "1": "6 - MENU ACTION",
                                    "2": "10.57",
                                    "3": "external",
                                    "4": "10",
                                    "5": "0.57"
                                },
                                {
                                    "0": "21",
                                    "1": "998 - Donnation ABC Canteen (CR 450)",
                                    "2": "3.00",
                                    "3": "external",
                                    "4": "3",
                                    "5": "0.00"
                                }
                            ]
                        },
                        "text/html": [
                            "<table>",
                            "<tr><th>Id</th><th>name</th><th>unitPrice</th><th>type</th><th>intUnitPrice</th><th>Modulo</th></tr>",
                            "<tr><td>1</td><td>1 - MENU DU JOUR</td><td>7.43</td><td>external</td><td>7</td><td>0.43</td></tr>",
                            "<tr><td>2</td><td>106 - COCA ZERO 1/4</td><td>0.53</td><td>external</td><td>0</td><td>0.53</td></tr>",
                            "<tr><td>3</td><td>107 - ROSPORT 1/4</td><td>0.53</td><td>external</td><td>0</td><td>0.53</td></tr>",
                            "<tr><td>4</td><td>113 - VIVA 1/4 FREE</td><td>0.00</td><td>external</td><td>0</td><td>0.00</td></tr>",
                            "<tr><td>5</td><td>113 - VIVA 1/4 FREE</td><td>7.43</td><td>external</td><td>7</td><td>0.43</td></tr>",
                            "<tr><td>6</td><td>1206 - DM - PERRIER 33cl 0.73€</td><td>0.73</td><td>external</td><td>0</td><td>0.73</td></tr>",
                            "<tr><td>7</td><td>2 - MENU DU CHEF</td><td>9.86</td><td>external</td><td>9</td><td>0.86</td></tr>",
                            "<tr><td>8</td><td>206 - DM - PERRIER 33cl 0.73€</td><td>0.73</td><td>external</td><td>0</td><td>0.73</td></tr>",
                            "<tr><td>9</td><td>209 - DM - MM ORANGE 33cl 0.86€</td><td>0.86</td><td>external</td><td>0</td><td>0.86</td></tr>",
                            "<tr><td>10</td><td>212 - DM - COCA COLA ZERO 33cl 0.62€</td><td>0.62</td><td>external</td><td>0</td><td>0.62</td></tr>",
                            "<tr><td>11</td><td>3 - MENU CLIN D'OEIL</td><td>11.53</td><td>external</td><td>11</td><td>0.53</td></tr>",
                            "<tr><td>12</td><td>301 - Dallmayr Sweet 1 - 0.70€</td><td>0.70</td><td>external</td><td>0</td><td>0.70</td></tr>",
                            "<tr><td>13</td><td>302 - Dallmayr Sweet 2 - 0.75€</td><td>0.75</td><td>external</td><td>0</td><td>0.75</td></tr>",
                            "<tr><td>14</td><td>303 - Dallmayr Sweet 3 - 0.80€</td><td>0.80</td><td>external</td><td>0</td><td>0.80</td></tr>",
                            "<tr><td>15</td><td>304 - Dallmayr Sweet 4 - 0.85€</td><td>0.85</td><td>external</td><td>0</td><td>0.85</td></tr>",
                            "<tr><td>16</td><td>305 - Dallmayr Sweet 5 - 0.90€</td><td>0.90</td><td>external</td><td>0</td><td>0.90</td></tr>",
                            "<tr><td>17</td><td>311 - DM Sandwich Maison - 1.80€</td><td>1.80</td><td>external</td><td>1</td><td>0.80</td></tr>",
                            "<tr><td>18</td><td>312 - DM Traingles - 2.50€</td><td>2.50</td><td>external</td><td>2</td><td>0.50</td></tr>",
                            "<tr><td>19</td><td>5 - MENU DE NOEL</td><td>12.93</td><td>external</td><td>12</td><td>0.93</td></tr>",
                            "<tr><td>20</td><td>6 - MENU ACTION</td><td>10.57</td><td>external</td><td>10</td><td>0.57</td></tr>",
                            "<tr><td>21</td><td>998 - Donnation ABC Canteen (CR 450)</td><td>3.00</td><td>external</td><td>3</td><td>0.00</td></tr>",
                            "</table>"
                        ]
                    }
                }
            ],
            "execution_count": 23
        },
        {
            "cell_type": "code",
            "source": [
                "/*Calculate items 'combo' prices*/\r\n",
                "DECLARE @MyCounter INT;\r\n",
                "SET @MyCounter = 10;\r\n",
                "\r\n",
                "WITH RecursivePrices (ctn, name_one, name_two, price_one, price_two, combo_price, combo_price_multiplied) AS\r\n",
                "(\r\n",
                "    SELECT\r\n",
                "        @MyCounter as ctn\r\n",
                "        ,t2.name as name_one\r\n",
                "        ,t1.name as name_two\r\n",
                "        ,t1.unitPrice as price_one\r\n",
                "        ,t2.unitPrice as price_two\r\n",
                "        ,(t1.unitPrice + t2.unitPrice) as combo_price\r\n",
                "        ,(t1.unitPrice + t2.unitPrice)*@MyCounter as combo_price_multiplied\r\n",
                "    FROM\r\n",
                "        [portfolio].[cantine].[items] t1\r\n",
                "    CROSS JOIN [portfolio].[cantine].[items] t2\r\n",
                ")\r\n",
                "SELECT ctn, name_one, name_two, price_one, price_two, combo_price, combo_price_multiplied FROM RecursivePrices\r\n",
                "WHERE (combo_price_multiplied % 0.2 = 0) \r\n",
                "  AND price_one <> '0.00'\r\n",
                "  AND price_two <> '0.00'\r\n",
                "ORDER BY combo_price DESC;\r\n",
                "GO"
            ],
            "metadata": {
                "azdata_cell_guid": "7af3dfa4-b56d-46e8-9a37-a1a141187833",
                "language": "sql",
                "tags": [
                    "hide_input"
                ]
            },
            "outputs": [
                {
                    "output_type": "display_data",
                    "data": {
                        "text/html": "(202 rows affected)"
                    },
                    "metadata": {}
                },
                {
                    "output_type": "display_data",
                    "data": {
                        "text/html": "Total execution time: 00:00:00.378"
                    },
                    "metadata": {}
                },
                {
                    "output_type": "execute_result",
                    "metadata": {},
                    "execution_count": 24,
                    "data": {
                        "application/vnd.dataresource+json": {
                            "schema": {
                                "fields": [
                                    {
                                        "name": "ctn"
                                    },
                                    {
                                        "name": "name_one"
                                    },
                                    {
                                        "name": "name_two"
                                    },
                                    {
                                        "name": "price_one"
                                    },
                                    {
                                        "name": "price_two"
                                    },
                                    {
                                        "name": "combo_price"
                                    },
                                    {
                                        "name": "combo_price_multiplied"
                                    }
                                ]
                            },
                            "data": [
                                {
                                    "0": "10",
                                    "1": "5 - MENU DE NOEL",
                                    "2": "5 - MENU DE NOEL",
                                    "3": "12.93",
                                    "4": "12.93",
                                    "5": "25.86",
                                    "6": "258.60"
                                },
                                {
                                    "0": "10",
                                    "1": "5 - MENU DE NOEL",
                                    "2": "3 - MENU CLIN D'OEIL",
                                    "3": "11.53",
                                    "4": "12.93",
                                    "5": "24.46",
                                    "6": "244.60"
                                },
                                {
                                    "0": "10",
                                    "1": "3 - MENU CLIN D'OEIL",
                                    "2": "5 - MENU DE NOEL",
                                    "3": "12.93",
                                    "4": "11.53",
                                    "5": "24.46",
                                    "6": "244.60"
                                },
                                {
                                    "0": "10",
                                    "1": "5 - MENU DE NOEL",
                                    "2": "6 - MENU ACTION",
                                    "3": "10.57",
                                    "4": "12.93",
                                    "5": "23.50",
                                    "6": "235.00"
                                },
                                {
                                    "0": "10",
                                    "1": "6 - MENU ACTION",
                                    "2": "5 - MENU DE NOEL",
                                    "3": "12.93",
                                    "4": "10.57",
                                    "5": "23.50",
                                    "6": "235.00"
                                },
                                {
                                    "0": "10",
                                    "1": "3 - MENU CLIN D'OEIL",
                                    "2": "3 - MENU CLIN D'OEIL",
                                    "3": "11.53",
                                    "4": "11.53",
                                    "5": "23.06",
                                    "6": "230.60"
                                },
                                {
                                    "0": "10",
                                    "1": "3 - MENU CLIN D'OEIL",
                                    "2": "6 - MENU ACTION",
                                    "3": "10.57",
                                    "4": "11.53",
                                    "5": "22.10",
                                    "6": "221.00"
                                },
                                {
                                    "0": "10",
                                    "1": "6 - MENU ACTION",
                                    "2": "3 - MENU CLIN D'OEIL",
                                    "3": "11.53",
                                    "4": "10.57",
                                    "5": "22.10",
                                    "6": "221.00"
                                },
                                {
                                    "0": "10",
                                    "1": "6 - MENU ACTION",
                                    "2": "6 - MENU ACTION",
                                    "3": "10.57",
                                    "4": "10.57",
                                    "5": "21.14",
                                    "6": "211.40"
                                },
                                {
                                    "0": "10",
                                    "1": "5 - MENU DE NOEL",
                                    "2": "113 - VIVA 1/4 FREE",
                                    "3": "7.43",
                                    "4": "12.93",
                                    "5": "20.36",
                                    "6": "203.60"
                                },
                                {
                                    "0": "10",
                                    "1": "5 - MENU DE NOEL",
                                    "2": "1 - MENU DU JOUR",
                                    "3": "7.43",
                                    "4": "12.93",
                                    "5": "20.36",
                                    "6": "203.60"
                                },
                                {
                                    "0": "10",
                                    "1": "1 - MENU DU JOUR",
                                    "2": "5 - MENU DE NOEL",
                                    "3": "12.93",
                                    "4": "7.43",
                                    "5": "20.36",
                                    "6": "203.60"
                                },
                                {
                                    "0": "10",
                                    "1": "113 - VIVA 1/4 FREE",
                                    "2": "5 - MENU DE NOEL",
                                    "3": "12.93",
                                    "4": "7.43",
                                    "5": "20.36",
                                    "6": "203.60"
                                },
                                {
                                    "0": "10",
                                    "1": "2 - MENU DU CHEF",
                                    "2": "2 - MENU DU CHEF",
                                    "3": "9.86",
                                    "4": "9.86",
                                    "5": "19.72",
                                    "6": "197.20"
                                },
                                {
                                    "0": "10",
                                    "1": "1 - MENU DU JOUR",
                                    "2": "3 - MENU CLIN D'OEIL",
                                    "3": "11.53",
                                    "4": "7.43",
                                    "5": "18.96",
                                    "6": "189.60"
                                },
                                {
                                    "0": "10",
                                    "1": "113 - VIVA 1/4 FREE",
                                    "2": "3 - MENU CLIN D'OEIL",
                                    "3": "11.53",
                                    "4": "7.43",
                                    "5": "18.96",
                                    "6": "189.60"
                                },
                                {
                                    "0": "10",
                                    "1": "3 - MENU CLIN D'OEIL",
                                    "2": "113 - VIVA 1/4 FREE",
                                    "3": "7.43",
                                    "4": "11.53",
                                    "5": "18.96",
                                    "6": "189.60"
                                },
                                {
                                    "0": "10",
                                    "1": "3 - MENU CLIN D'OEIL",
                                    "2": "1 - MENU DU JOUR",
                                    "3": "7.43",
                                    "4": "11.53",
                                    "5": "18.96",
                                    "6": "189.60"
                                },
                                {
                                    "0": "10",
                                    "1": "1 - MENU DU JOUR",
                                    "2": "6 - MENU ACTION",
                                    "3": "10.57",
                                    "4": "7.43",
                                    "5": "18.00",
                                    "6": "180.00"
                                },
                                {
                                    "0": "10",
                                    "1": "113 - VIVA 1/4 FREE",
                                    "2": "6 - MENU ACTION",
                                    "3": "10.57",
                                    "4": "7.43",
                                    "5": "18.00",
                                    "6": "180.00"
                                },
                                {
                                    "0": "10",
                                    "1": "6 - MENU ACTION",
                                    "2": "113 - VIVA 1/4 FREE",
                                    "3": "7.43",
                                    "4": "10.57",
                                    "5": "18.00",
                                    "6": "180.00"
                                },
                                {
                                    "0": "10",
                                    "1": "6 - MENU ACTION",
                                    "2": "1 - MENU DU JOUR",
                                    "3": "7.43",
                                    "4": "10.57",
                                    "5": "18.00",
                                    "6": "180.00"
                                },
                                {
                                    "0": "10",
                                    "1": "1 - MENU DU JOUR",
                                    "2": "1 - MENU DU JOUR",
                                    "3": "7.43",
                                    "4": "7.43",
                                    "5": "14.86",
                                    "6": "148.60"
                                },
                                {
                                    "0": "10",
                                    "1": "1 - MENU DU JOUR",
                                    "2": "113 - VIVA 1/4 FREE",
                                    "3": "7.43",
                                    "4": "7.43",
                                    "5": "14.86",
                                    "6": "148.60"
                                },
                                {
                                    "0": "10",
                                    "1": "113 - VIVA 1/4 FREE",
                                    "2": "113 - VIVA 1/4 FREE",
                                    "3": "7.43",
                                    "4": "7.43",
                                    "5": "14.86",
                                    "6": "148.60"
                                },
                                {
                                    "0": "10",
                                    "1": "113 - VIVA 1/4 FREE",
                                    "2": "1 - MENU DU JOUR",
                                    "3": "7.43",
                                    "4": "7.43",
                                    "5": "14.86",
                                    "6": "148.60"
                                },
                                {
                                    "0": "10",
                                    "1": "304 - Dallmayr Sweet 4 - 0.85€",
                                    "2": "5 - MENU DE NOEL",
                                    "3": "12.93",
                                    "4": "0.85",
                                    "5": "13.78",
                                    "6": "137.80"
                                },
                                {
                                    "0": "10",
                                    "1": "5 - MENU DE NOEL",
                                    "2": "304 - Dallmayr Sweet 4 - 0.85€",
                                    "3": "0.85",
                                    "4": "12.93",
                                    "5": "13.78",
                                    "6": "137.80"
                                },
                                {
                                    "0": "10",
                                    "1": "5 - MENU DE NOEL",
                                    "2": "302 - Dallmayr Sweet 2 - 0.75€",
                                    "3": "0.75",
                                    "4": "12.93",
                                    "5": "13.68",
                                    "6": "136.80"
                                },
                                {
                                    "0": "10",
                                    "1": "302 - Dallmayr Sweet 2 - 0.75€",
                                    "2": "5 - MENU DE NOEL",
                                    "3": "12.93",
                                    "4": "0.75",
                                    "5": "13.68",
                                    "6": "136.80"
                                },
                                {
                                    "0": "10",
                                    "1": "1206 - DM - PERRIER 33cl 0.73€",
                                    "2": "5 - MENU DE NOEL",
                                    "3": "12.93",
                                    "4": "0.73",
                                    "5": "13.66",
                                    "6": "136.60"
                                },
                                {
                                    "0": "10",
                                    "1": "206 - DM - PERRIER 33cl 0.73€",
                                    "2": "5 - MENU DE NOEL",
                                    "3": "12.93",
                                    "4": "0.73",
                                    "5": "13.66",
                                    "6": "136.60"
                                },
                                {
                                    "0": "10",
                                    "1": "5 - MENU DE NOEL",
                                    "2": "1206 - DM - PERRIER 33cl 0.73€",
                                    "3": "0.73",
                                    "4": "12.93",
                                    "5": "13.66",
                                    "6": "136.60"
                                },
                                {
                                    "0": "10",
                                    "1": "5 - MENU DE NOEL",
                                    "2": "206 - DM - PERRIER 33cl 0.73€",
                                    "3": "0.73",
                                    "4": "12.93",
                                    "5": "13.66",
                                    "6": "136.60"
                                },
                                {
                                    "0": "10",
                                    "1": "5 - MENU DE NOEL",
                                    "2": "106 - COCA ZERO 1/4",
                                    "3": "0.53",
                                    "4": "12.93",
                                    "5": "13.46",
                                    "6": "134.60"
                                },
                                {
                                    "0": "10",
                                    "1": "5 - MENU DE NOEL",
                                    "2": "107 - ROSPORT 1/4",
                                    "3": "0.53",
                                    "4": "12.93",
                                    "5": "13.46",
                                    "6": "134.60"
                                },
                                {
                                    "0": "10",
                                    "1": "107 - ROSPORT 1/4",
                                    "2": "5 - MENU DE NOEL",
                                    "3": "12.93",
                                    "4": "0.53",
                                    "5": "13.46",
                                    "6": "134.60"
                                },
                                {
                                    "0": "10",
                                    "1": "106 - COCA ZERO 1/4",
                                    "2": "5 - MENU DE NOEL",
                                    "3": "12.93",
                                    "4": "0.53",
                                    "5": "13.46",
                                    "6": "134.60"
                                },
                                {
                                    "0": "10",
                                    "1": "2 - MENU DU CHEF",
                                    "2": "998 - Donnation ABC Canteen (CR 450)",
                                    "3": "3.00",
                                    "4": "9.86",
                                    "5": "12.86",
                                    "6": "128.60"
                                },
                                {
                                    "0": "10",
                                    "1": "998 - Donnation ABC Canteen (CR 450)",
                                    "2": "2 - MENU DU CHEF",
                                    "3": "9.86",
                                    "4": "3.00",
                                    "5": "12.86",
                                    "6": "128.60"
                                },
                                {
                                    "0": "10",
                                    "1": "304 - Dallmayr Sweet 4 - 0.85€",
                                    "2": "3 - MENU CLIN D'OEIL",
                                    "3": "11.53",
                                    "4": "0.85",
                                    "5": "12.38",
                                    "6": "123.80"
                                },
                                {
                                    "0": "10",
                                    "1": "3 - MENU CLIN D'OEIL",
                                    "2": "304 - Dallmayr Sweet 4 - 0.85€",
                                    "3": "0.85",
                                    "4": "11.53",
                                    "5": "12.38",
                                    "6": "123.80"
                                },
                                {
                                    "0": "10",
                                    "1": "2 - MENU DU CHEF",
                                    "2": "312 - DM Traingles - 2.50€",
                                    "3": "2.50",
                                    "4": "9.86",
                                    "5": "12.36",
                                    "6": "123.60"
                                },
                                {
                                    "0": "10",
                                    "1": "312 - DM Traingles - 2.50€",
                                    "2": "2 - MENU DU CHEF",
                                    "3": "9.86",
                                    "4": "2.50",
                                    "5": "12.36",
                                    "6": "123.60"
                                },
                                {
                                    "0": "10",
                                    "1": "3 - MENU CLIN D'OEIL",
                                    "2": "302 - Dallmayr Sweet 2 - 0.75€",
                                    "3": "0.75",
                                    "4": "11.53",
                                    "5": "12.28",
                                    "6": "122.80"
                                },
                                {
                                    "0": "10",
                                    "1": "302 - Dallmayr Sweet 2 - 0.75€",
                                    "2": "3 - MENU CLIN D'OEIL",
                                    "3": "11.53",
                                    "4": "0.75",
                                    "5": "12.28",
                                    "6": "122.80"
                                },
                                {
                                    "0": "10",
                                    "1": "3 - MENU CLIN D'OEIL",
                                    "2": "1206 - DM - PERRIER 33cl 0.73€",
                                    "3": "0.73",
                                    "4": "11.53",
                                    "5": "12.26",
                                    "6": "122.60"
                                },
                                {
                                    "0": "10",
                                    "1": "3 - MENU CLIN D'OEIL",
                                    "2": "206 - DM - PERRIER 33cl 0.73€",
                                    "3": "0.73",
                                    "4": "11.53",
                                    "5": "12.26",
                                    "6": "122.60"
                                },
                                {
                                    "0": "10",
                                    "1": "206 - DM - PERRIER 33cl 0.73€",
                                    "2": "3 - MENU CLIN D'OEIL",
                                    "3": "11.53",
                                    "4": "0.73",
                                    "5": "12.26",
                                    "6": "122.60"
                                },
                                {
                                    "0": "10",
                                    "1": "1206 - DM - PERRIER 33cl 0.73€",
                                    "2": "3 - MENU CLIN D'OEIL",
                                    "3": "11.53",
                                    "4": "0.73",
                                    "5": "12.26",
                                    "6": "122.60"
                                },
                                {
                                    "0": "10",
                                    "1": "107 - ROSPORT 1/4",
                                    "2": "3 - MENU CLIN D'OEIL",
                                    "3": "11.53",
                                    "4": "0.53",
                                    "5": "12.06",
                                    "6": "120.60"
                                },
                                {
                                    "0": "10",
                                    "1": "106 - COCA ZERO 1/4",
                                    "2": "3 - MENU CLIN D'OEIL",
                                    "3": "11.53",
                                    "4": "0.53",
                                    "5": "12.06",
                                    "6": "120.60"
                                },
                                {
                                    "0": "10",
                                    "1": "3 - MENU CLIN D'OEIL",
                                    "2": "106 - COCA ZERO 1/4",
                                    "3": "0.53",
                                    "4": "11.53",
                                    "5": "12.06",
                                    "6": "120.60"
                                },
                                {
                                    "0": "10",
                                    "1": "3 - MENU CLIN D'OEIL",
                                    "2": "107 - ROSPORT 1/4",
                                    "3": "0.53",
                                    "4": "11.53",
                                    "5": "12.06",
                                    "6": "120.60"
                                },
                                {
                                    "0": "10",
                                    "1": "2 - MENU DU CHEF",
                                    "2": "311 - DM Sandwich Maison - 1.80€",
                                    "3": "1.80",
                                    "4": "9.86",
                                    "5": "11.66",
                                    "6": "116.60"
                                },
                                {
                                    "0": "10",
                                    "1": "311 - DM Sandwich Maison - 1.80€",
                                    "2": "2 - MENU DU CHEF",
                                    "3": "9.86",
                                    "4": "1.80",
                                    "5": "11.66",
                                    "6": "116.60"
                                },
                                {
                                    "0": "10",
                                    "1": "6 - MENU ACTION",
                                    "2": "304 - Dallmayr Sweet 4 - 0.85€",
                                    "3": "0.85",
                                    "4": "10.57",
                                    "5": "11.42",
                                    "6": "114.20"
                                },
                                {
                                    "0": "10",
                                    "1": "304 - Dallmayr Sweet 4 - 0.85€",
                                    "2": "6 - MENU ACTION",
                                    "3": "10.57",
                                    "4": "0.85",
                                    "5": "11.42",
                                    "6": "114.20"
                                },
                                {
                                    "0": "10",
                                    "1": "302 - Dallmayr Sweet 2 - 0.75€",
                                    "2": "6 - MENU ACTION",
                                    "3": "10.57",
                                    "4": "0.75",
                                    "5": "11.32",
                                    "6": "113.20"
                                },
                                {
                                    "0": "10",
                                    "1": "6 - MENU ACTION",
                                    "2": "302 - Dallmayr Sweet 2 - 0.75€",
                                    "3": "0.75",
                                    "4": "10.57",
                                    "5": "11.32",
                                    "6": "113.20"
                                },
                                {
                                    "0": "10",
                                    "1": "6 - MENU ACTION",
                                    "2": "1206 - DM - PERRIER 33cl 0.73€",
                                    "3": "0.73",
                                    "4": "10.57",
                                    "5": "11.30",
                                    "6": "113.00"
                                },
                                {
                                    "0": "10",
                                    "1": "6 - MENU ACTION",
                                    "2": "206 - DM - PERRIER 33cl 0.73€",
                                    "3": "0.73",
                                    "4": "10.57",
                                    "5": "11.30",
                                    "6": "113.00"
                                },
                                {
                                    "0": "10",
                                    "1": "206 - DM - PERRIER 33cl 0.73€",
                                    "2": "6 - MENU ACTION",
                                    "3": "10.57",
                                    "4": "0.73",
                                    "5": "11.30",
                                    "6": "113.00"
                                },
                                {
                                    "0": "10",
                                    "1": "1206 - DM - PERRIER 33cl 0.73€",
                                    "2": "6 - MENU ACTION",
                                    "3": "10.57",
                                    "4": "0.73",
                                    "5": "11.30",
                                    "6": "113.00"
                                },
                                {
                                    "0": "10",
                                    "1": "106 - COCA ZERO 1/4",
                                    "2": "6 - MENU ACTION",
                                    "3": "10.57",
                                    "4": "0.53",
                                    "5": "11.10",
                                    "6": "111.00"
                                },
                                {
                                    "0": "10",
                                    "1": "107 - ROSPORT 1/4",
                                    "2": "6 - MENU ACTION",
                                    "3": "10.57",
                                    "4": "0.53",
                                    "5": "11.10",
                                    "6": "111.00"
                                },
                                {
                                    "0": "10",
                                    "1": "6 - MENU ACTION",
                                    "2": "106 - COCA ZERO 1/4",
                                    "3": "0.53",
                                    "4": "10.57",
                                    "5": "11.10",
                                    "6": "111.00"
                                },
                                {
                                    "0": "10",
                                    "1": "6 - MENU ACTION",
                                    "2": "107 - ROSPORT 1/4",
                                    "3": "0.53",
                                    "4": "10.57",
                                    "5": "11.10",
                                    "6": "111.00"
                                },
                                {
                                    "0": "10",
                                    "1": "2 - MENU DU CHEF",
                                    "2": "305 - Dallmayr Sweet 5 - 0.90€",
                                    "3": "0.90",
                                    "4": "9.86",
                                    "5": "10.76",
                                    "6": "107.60"
                                },
                                {
                                    "0": "10",
                                    "1": "305 - Dallmayr Sweet 5 - 0.90€",
                                    "2": "2 - MENU DU CHEF",
                                    "3": "9.86",
                                    "4": "0.90",
                                    "5": "10.76",
                                    "6": "107.60"
                                },
                                {
                                    "0": "10",
                                    "1": "209 - DM - MM ORANGE 33cl 0.86€",
                                    "2": "2 - MENU DU CHEF",
                                    "3": "9.86",
                                    "4": "0.86",
                                    "5": "10.72",
                                    "6": "107.20"
                                },
                                {
                                    "0": "10",
                                    "1": "2 - MENU DU CHEF",
                                    "2": "209 - DM - MM ORANGE 33cl 0.86€",
                                    "3": "0.86",
                                    "4": "9.86",
                                    "5": "10.72",
                                    "6": "107.20"
                                },
                                {
                                    "0": "10",
                                    "1": "2 - MENU DU CHEF",
                                    "2": "303 - Dallmayr Sweet 3 - 0.80€",
                                    "3": "0.80",
                                    "4": "9.86",
                                    "5": "10.66",
                                    "6": "106.60"
                                },
                                {
                                    "0": "10",
                                    "1": "303 - Dallmayr Sweet 3 - 0.80€",
                                    "2": "2 - MENU DU CHEF",
                                    "3": "9.86",
                                    "4": "0.80",
                                    "5": "10.66",
                                    "6": "106.60"
                                },
                                {
                                    "0": "10",
                                    "1": "301 - Dallmayr Sweet 1 - 0.70€",
                                    "2": "2 - MENU DU CHEF",
                                    "3": "9.86",
                                    "4": "0.70",
                                    "5": "10.56",
                                    "6": "105.60"
                                },
                                {
                                    "0": "10",
                                    "1": "2 - MENU DU CHEF",
                                    "2": "301 - Dallmayr Sweet 1 - 0.70€",
                                    "3": "0.70",
                                    "4": "9.86",
                                    "5": "10.56",
                                    "6": "105.60"
                                },
                                {
                                    "0": "10",
                                    "1": "2 - MENU DU CHEF",
                                    "2": "212 - DM - COCA COLA ZERO 33cl 0.62€",
                                    "3": "0.62",
                                    "4": "9.86",
                                    "5": "10.48",
                                    "6": "104.80"
                                },
                                {
                                    "0": "10",
                                    "1": "212 - DM - COCA COLA ZERO 33cl 0.62€",
                                    "2": "2 - MENU DU CHEF",
                                    "3": "9.86",
                                    "4": "0.62",
                                    "5": "10.48",
                                    "6": "104.80"
                                },
                                {
                                    "0": "10",
                                    "1": "304 - Dallmayr Sweet 4 - 0.85€",
                                    "2": "1 - MENU DU JOUR",
                                    "3": "7.43",
                                    "4": "0.85",
                                    "5": "8.28",
                                    "6": "82.80"
                                },
                                {
                                    "0": "10",
                                    "1": "304 - Dallmayr Sweet 4 - 0.85€",
                                    "2": "113 - VIVA 1/4 FREE",
                                    "3": "7.43",
                                    "4": "0.85",
                                    "5": "8.28",
                                    "6": "82.80"
                                },
                                {
                                    "0": "10",
                                    "1": "113 - VIVA 1/4 FREE",
                                    "2": "304 - Dallmayr Sweet 4 - 0.85€",
                                    "3": "0.85",
                                    "4": "7.43",
                                    "5": "8.28",
                                    "6": "82.80"
                                },
                                {
                                    "0": "10",
                                    "1": "1 - MENU DU JOUR",
                                    "2": "304 - Dallmayr Sweet 4 - 0.85€",
                                    "3": "0.85",
                                    "4": "7.43",
                                    "5": "8.28",
                                    "6": "82.80"
                                },
                                {
                                    "0": "10",
                                    "1": "1 - MENU DU JOUR",
                                    "2": "302 - Dallmayr Sweet 2 - 0.75€",
                                    "3": "0.75",
                                    "4": "7.43",
                                    "5": "8.18",
                                    "6": "81.80"
                                },
                                {
                                    "0": "10",
                                    "1": "113 - VIVA 1/4 FREE",
                                    "2": "302 - Dallmayr Sweet 2 - 0.75€",
                                    "3": "0.75",
                                    "4": "7.43",
                                    "5": "8.18",
                                    "6": "81.80"
                                },
                                {
                                    "0": "10",
                                    "1": "302 - Dallmayr Sweet 2 - 0.75€",
                                    "2": "1 - MENU DU JOUR",
                                    "3": "7.43",
                                    "4": "0.75",
                                    "5": "8.18",
                                    "6": "81.80"
                                },
                                {
                                    "0": "10",
                                    "1": "302 - Dallmayr Sweet 2 - 0.75€",
                                    "2": "113 - VIVA 1/4 FREE",
                                    "3": "7.43",
                                    "4": "0.75",
                                    "5": "8.18",
                                    "6": "81.80"
                                },
                                {
                                    "0": "10",
                                    "1": "113 - VIVA 1/4 FREE",
                                    "2": "1206 - DM - PERRIER 33cl 0.73€",
                                    "3": "0.73",
                                    "4": "7.43",
                                    "5": "8.16",
                                    "6": "81.60"
                                },
                                {
                                    "0": "10",
                                    "1": "113 - VIVA 1/4 FREE",
                                    "2": "206 - DM - PERRIER 33cl 0.73€",
                                    "3": "0.73",
                                    "4": "7.43",
                                    "5": "8.16",
                                    "6": "81.60"
                                },
                                {
                                    "0": "10",
                                    "1": "1 - MENU DU JOUR",
                                    "2": "1206 - DM - PERRIER 33cl 0.73€",
                                    "3": "0.73",
                                    "4": "7.43",
                                    "5": "8.16",
                                    "6": "81.60"
                                },
                                {
                                    "0": "10",
                                    "1": "1 - MENU DU JOUR",
                                    "2": "206 - DM - PERRIER 33cl 0.73€",
                                    "3": "0.73",
                                    "4": "7.43",
                                    "5": "8.16",
                                    "6": "81.60"
                                },
                                {
                                    "0": "10",
                                    "1": "1206 - DM - PERRIER 33cl 0.73€",
                                    "2": "113 - VIVA 1/4 FREE",
                                    "3": "7.43",
                                    "4": "0.73",
                                    "5": "8.16",
                                    "6": "81.60"
                                },
                                {
                                    "0": "10",
                                    "1": "1206 - DM - PERRIER 33cl 0.73€",
                                    "2": "1 - MENU DU JOUR",
                                    "3": "7.43",
                                    "4": "0.73",
                                    "5": "8.16",
                                    "6": "81.60"
                                },
                                {
                                    "0": "10",
                                    "1": "206 - DM - PERRIER 33cl 0.73€",
                                    "2": "1 - MENU DU JOUR",
                                    "3": "7.43",
                                    "4": "0.73",
                                    "5": "8.16",
                                    "6": "81.60"
                                },
                                {
                                    "0": "10",
                                    "1": "206 - DM - PERRIER 33cl 0.73€",
                                    "2": "113 - VIVA 1/4 FREE",
                                    "3": "7.43",
                                    "4": "0.73",
                                    "5": "8.16",
                                    "6": "81.60"
                                },
                                {
                                    "0": "10",
                                    "1": "1 - MENU DU JOUR",
                                    "2": "106 - COCA ZERO 1/4",
                                    "3": "0.53",
                                    "4": "7.43",
                                    "5": "7.96",
                                    "6": "79.60"
                                },
                                {
                                    "0": "10",
                                    "1": "1 - MENU DU JOUR",
                                    "2": "107 - ROSPORT 1/4",
                                    "3": "0.53",
                                    "4": "7.43",
                                    "5": "7.96",
                                    "6": "79.60"
                                },
                                {
                                    "0": "10",
                                    "1": "106 - COCA ZERO 1/4",
                                    "2": "1 - MENU DU JOUR",
                                    "3": "7.43",
                                    "4": "0.53",
                                    "5": "7.96",
                                    "6": "79.60"
                                },
                                {
                                    "0": "10",
                                    "1": "106 - COCA ZERO 1/4",
                                    "2": "113 - VIVA 1/4 FREE",
                                    "3": "7.43",
                                    "4": "0.53",
                                    "5": "7.96",
                                    "6": "79.60"
                                },
                                {
                                    "0": "10",
                                    "1": "113 - VIVA 1/4 FREE",
                                    "2": "106 - COCA ZERO 1/4",
                                    "3": "0.53",
                                    "4": "7.43",
                                    "5": "7.96",
                                    "6": "79.60"
                                },
                                {
                                    "0": "10",
                                    "1": "113 - VIVA 1/4 FREE",
                                    "2": "107 - ROSPORT 1/4",
                                    "3": "0.53",
                                    "4": "7.43",
                                    "5": "7.96",
                                    "6": "79.60"
                                },
                                {
                                    "0": "10",
                                    "1": "107 - ROSPORT 1/4",
                                    "2": "1 - MENU DU JOUR",
                                    "3": "7.43",
                                    "4": "0.53",
                                    "5": "7.96",
                                    "6": "79.60"
                                },
                                {
                                    "0": "10",
                                    "1": "107 - ROSPORT 1/4",
                                    "2": "113 - VIVA 1/4 FREE",
                                    "3": "7.43",
                                    "4": "0.53",
                                    "5": "7.96",
                                    "6": "79.60"
                                },
                                {
                                    "0": "10",
                                    "1": "998 - Donnation ABC Canteen (CR 450)",
                                    "2": "998 - Donnation ABC Canteen (CR 450)",
                                    "3": "3.00",
                                    "4": "3.00",
                                    "5": "6.00",
                                    "6": "60.00"
                                },
                                {
                                    "0": "10",
                                    "1": "998 - Donnation ABC Canteen (CR 450)",
                                    "2": "312 - DM Traingles - 2.50€",
                                    "3": "2.50",
                                    "4": "3.00",
                                    "5": "5.50",
                                    "6": "55.00"
                                },
                                {
                                    "0": "10",
                                    "1": "312 - DM Traingles - 2.50€",
                                    "2": "998 - Donnation ABC Canteen (CR 450)",
                                    "3": "3.00",
                                    "4": "2.50",
                                    "5": "5.50",
                                    "6": "55.00"
                                },
                                {
                                    "0": "10",
                                    "1": "312 - DM Traingles - 2.50€",
                                    "2": "312 - DM Traingles - 2.50€",
                                    "3": "2.50",
                                    "4": "2.50",
                                    "5": "5.00",
                                    "6": "50.00"
                                },
                                {
                                    "0": "10",
                                    "1": "311 - DM Sandwich Maison - 1.80€",
                                    "2": "998 - Donnation ABC Canteen (CR 450)",
                                    "3": "3.00",
                                    "4": "1.80",
                                    "5": "4.80",
                                    "6": "48.00"
                                },
                                {
                                    "0": "10",
                                    "1": "998 - Donnation ABC Canteen (CR 450)",
                                    "2": "311 - DM Sandwich Maison - 1.80€",
                                    "3": "1.80",
                                    "4": "3.00",
                                    "5": "4.80",
                                    "6": "48.00"
                                },
                                {
                                    "0": "10",
                                    "1": "311 - DM Sandwich Maison - 1.80€",
                                    "2": "312 - DM Traingles - 2.50€",
                                    "3": "2.50",
                                    "4": "1.80",
                                    "5": "4.30",
                                    "6": "43.00"
                                },
                                {
                                    "0": "10",
                                    "1": "312 - DM Traingles - 2.50€",
                                    "2": "311 - DM Sandwich Maison - 1.80€",
                                    "3": "1.80",
                                    "4": "2.50",
                                    "5": "4.30",
                                    "6": "43.00"
                                },
                                {
                                    "0": "10",
                                    "1": "305 - Dallmayr Sweet 5 - 0.90€",
                                    "2": "998 - Donnation ABC Canteen (CR 450)",
                                    "3": "3.00",
                                    "4": "0.90",
                                    "5": "3.90",
                                    "6": "39.00"
                                },
                                {
                                    "0": "10",
                                    "1": "998 - Donnation ABC Canteen (CR 450)",
                                    "2": "305 - Dallmayr Sweet 5 - 0.90€",
                                    "3": "0.90",
                                    "4": "3.00",
                                    "5": "3.90",
                                    "6": "39.00"
                                },
                                {
                                    "0": "10",
                                    "1": "998 - Donnation ABC Canteen (CR 450)",
                                    "2": "209 - DM - MM ORANGE 33cl 0.86€",
                                    "3": "0.86",
                                    "4": "3.00",
                                    "5": "3.86",
                                    "6": "38.60"
                                },
                                {
                                    "0": "10",
                                    "1": "209 - DM - MM ORANGE 33cl 0.86€",
                                    "2": "998 - Donnation ABC Canteen (CR 450)",
                                    "3": "3.00",
                                    "4": "0.86",
                                    "5": "3.86",
                                    "6": "38.60"
                                },
                                {
                                    "0": "10",
                                    "1": "303 - Dallmayr Sweet 3 - 0.80€",
                                    "2": "998 - Donnation ABC Canteen (CR 450)",
                                    "3": "3.00",
                                    "4": "0.80",
                                    "5": "3.80",
                                    "6": "38.00"
                                },
                                {
                                    "0": "10",
                                    "1": "998 - Donnation ABC Canteen (CR 450)",
                                    "2": "303 - Dallmayr Sweet 3 - 0.80€",
                                    "3": "0.80",
                                    "4": "3.00",
                                    "5": "3.80",
                                    "6": "38.00"
                                },
                                {
                                    "0": "10",
                                    "1": "998 - Donnation ABC Canteen (CR 450)",
                                    "2": "301 - Dallmayr Sweet 1 - 0.70€",
                                    "3": "0.70",
                                    "4": "3.00",
                                    "5": "3.70",
                                    "6": "37.00"
                                },
                                {
                                    "0": "10",
                                    "1": "301 - Dallmayr Sweet 1 - 0.70€",
                                    "2": "998 - Donnation ABC Canteen (CR 450)",
                                    "3": "3.00",
                                    "4": "0.70",
                                    "5": "3.70",
                                    "6": "37.00"
                                },
                                {
                                    "0": "10",
                                    "1": "212 - DM - COCA COLA ZERO 33cl 0.62€",
                                    "2": "998 - Donnation ABC Canteen (CR 450)",
                                    "3": "3.00",
                                    "4": "0.62",
                                    "5": "3.62",
                                    "6": "36.20"
                                },
                                {
                                    "0": "10",
                                    "1": "998 - Donnation ABC Canteen (CR 450)",
                                    "2": "212 - DM - COCA COLA ZERO 33cl 0.62€",
                                    "3": "0.62",
                                    "4": "3.00",
                                    "5": "3.62",
                                    "6": "36.20"
                                },
                                {
                                    "0": "10",
                                    "1": "311 - DM Sandwich Maison - 1.80€",
                                    "2": "311 - DM Sandwich Maison - 1.80€",
                                    "3": "1.80",
                                    "4": "1.80",
                                    "5": "3.60",
                                    "6": "36.00"
                                },
                                {
                                    "0": "10",
                                    "1": "305 - Dallmayr Sweet 5 - 0.90€",
                                    "2": "312 - DM Traingles - 2.50€",
                                    "3": "2.50",
                                    "4": "0.90",
                                    "5": "3.40",
                                    "6": "34.00"
                                },
                                {
                                    "0": "10",
                                    "1": "312 - DM Traingles - 2.50€",
                                    "2": "305 - Dallmayr Sweet 5 - 0.90€",
                                    "3": "0.90",
                                    "4": "2.50",
                                    "5": "3.40",
                                    "6": "34.00"
                                },
                                {
                                    "0": "10",
                                    "1": "312 - DM Traingles - 2.50€",
                                    "2": "209 - DM - MM ORANGE 33cl 0.86€",
                                    "3": "0.86",
                                    "4": "2.50",
                                    "5": "3.36",
                                    "6": "33.60"
                                },
                                {
                                    "0": "10",
                                    "1": "209 - DM - MM ORANGE 33cl 0.86€",
                                    "2": "312 - DM Traingles - 2.50€",
                                    "3": "2.50",
                                    "4": "0.86",
                                    "5": "3.36",
                                    "6": "33.60"
                                },
                                {
                                    "0": "10",
                                    "1": "303 - Dallmayr Sweet 3 - 0.80€",
                                    "2": "312 - DM Traingles - 2.50€",
                                    "3": "2.50",
                                    "4": "0.80",
                                    "5": "3.30",
                                    "6": "33.00"
                                },
                                {
                                    "0": "10",
                                    "1": "312 - DM Traingles - 2.50€",
                                    "2": "303 - Dallmayr Sweet 3 - 0.80€",
                                    "3": "0.80",
                                    "4": "2.50",
                                    "5": "3.30",
                                    "6": "33.00"
                                },
                                {
                                    "0": "10",
                                    "1": "312 - DM Traingles - 2.50€",
                                    "2": "301 - Dallmayr Sweet 1 - 0.70€",
                                    "3": "0.70",
                                    "4": "2.50",
                                    "5": "3.20",
                                    "6": "32.00"
                                },
                                {
                                    "0": "10",
                                    "1": "301 - Dallmayr Sweet 1 - 0.70€",
                                    "2": "312 - DM Traingles - 2.50€",
                                    "3": "2.50",
                                    "4": "0.70",
                                    "5": "3.20",
                                    "6": "32.00"
                                },
                                {
                                    "0": "10",
                                    "1": "212 - DM - COCA COLA ZERO 33cl 0.62€",
                                    "2": "312 - DM Traingles - 2.50€",
                                    "3": "2.50",
                                    "4": "0.62",
                                    "5": "3.12",
                                    "6": "31.20"
                                },
                                {
                                    "0": "10",
                                    "1": "312 - DM Traingles - 2.50€",
                                    "2": "212 - DM - COCA COLA ZERO 33cl 0.62€",
                                    "3": "0.62",
                                    "4": "2.50",
                                    "5": "3.12",
                                    "6": "31.20"
                                },
                                {
                                    "0": "10",
                                    "1": "311 - DM Sandwich Maison - 1.80€",
                                    "2": "305 - Dallmayr Sweet 5 - 0.90€",
                                    "3": "0.90",
                                    "4": "1.80",
                                    "5": "2.70",
                                    "6": "27.00"
                                },
                                {
                                    "0": "10",
                                    "1": "305 - Dallmayr Sweet 5 - 0.90€",
                                    "2": "311 - DM Sandwich Maison - 1.80€",
                                    "3": "1.80",
                                    "4": "0.90",
                                    "5": "2.70",
                                    "6": "27.00"
                                },
                                {
                                    "0": "10",
                                    "1": "209 - DM - MM ORANGE 33cl 0.86€",
                                    "2": "311 - DM Sandwich Maison - 1.80€",
                                    "3": "1.80",
                                    "4": "0.86",
                                    "5": "2.66",
                                    "6": "26.60"
                                },
                                {
                                    "0": "10",
                                    "1": "311 - DM Sandwich Maison - 1.80€",
                                    "2": "209 - DM - MM ORANGE 33cl 0.86€",
                                    "3": "0.86",
                                    "4": "1.80",
                                    "5": "2.66",
                                    "6": "26.60"
                                },
                                {
                                    "0": "10",
                                    "1": "311 - DM Sandwich Maison - 1.80€",
                                    "2": "303 - Dallmayr Sweet 3 - 0.80€",
                                    "3": "0.80",
                                    "4": "1.80",
                                    "5": "2.60",
                                    "6": "26.00"
                                },
                                {
                                    "0": "10",
                                    "1": "303 - Dallmayr Sweet 3 - 0.80€",
                                    "2": "311 - DM Sandwich Maison - 1.80€",
                                    "3": "1.80",
                                    "4": "0.80",
                                    "5": "2.60",
                                    "6": "26.00"
                                },
                                {
                                    "0": "10",
                                    "1": "301 - Dallmayr Sweet 1 - 0.70€",
                                    "2": "311 - DM Sandwich Maison - 1.80€",
                                    "3": "1.80",
                                    "4": "0.70",
                                    "5": "2.50",
                                    "6": "25.00"
                                },
                                {
                                    "0": "10",
                                    "1": "311 - DM Sandwich Maison - 1.80€",
                                    "2": "301 - Dallmayr Sweet 1 - 0.70€",
                                    "3": "0.70",
                                    "4": "1.80",
                                    "5": "2.50",
                                    "6": "25.00"
                                },
                                {
                                    "0": "10",
                                    "1": "311 - DM Sandwich Maison - 1.80€",
                                    "2": "212 - DM - COCA COLA ZERO 33cl 0.62€",
                                    "3": "0.62",
                                    "4": "1.80",
                                    "5": "2.42",
                                    "6": "24.20"
                                },
                                {
                                    "0": "10",
                                    "1": "212 - DM - COCA COLA ZERO 33cl 0.62€",
                                    "2": "311 - DM Sandwich Maison - 1.80€",
                                    "3": "1.80",
                                    "4": "0.62",
                                    "5": "2.42",
                                    "6": "24.20"
                                },
                                {
                                    "0": "10",
                                    "1": "305 - Dallmayr Sweet 5 - 0.90€",
                                    "2": "305 - Dallmayr Sweet 5 - 0.90€",
                                    "3": "0.90",
                                    "4": "0.90",
                                    "5": "1.80",
                                    "6": "18.00"
                                },
                                {
                                    "0": "10",
                                    "1": "305 - Dallmayr Sweet 5 - 0.90€",
                                    "2": "209 - DM - MM ORANGE 33cl 0.86€",
                                    "3": "0.86",
                                    "4": "0.90",
                                    "5": "1.76",
                                    "6": "17.60"
                                },
                                {
                                    "0": "10",
                                    "1": "209 - DM - MM ORANGE 33cl 0.86€",
                                    "2": "305 - Dallmayr Sweet 5 - 0.90€",
                                    "3": "0.90",
                                    "4": "0.86",
                                    "5": "1.76",
                                    "6": "17.60"
                                },
                                {
                                    "0": "10",
                                    "1": "209 - DM - MM ORANGE 33cl 0.86€",
                                    "2": "209 - DM - MM ORANGE 33cl 0.86€",
                                    "3": "0.86",
                                    "4": "0.86",
                                    "5": "1.72",
                                    "6": "17.20"
                                },
                                {
                                    "0": "10",
                                    "1": "305 - Dallmayr Sweet 5 - 0.90€",
                                    "2": "303 - Dallmayr Sweet 3 - 0.80€",
                                    "3": "0.80",
                                    "4": "0.90",
                                    "5": "1.70",
                                    "6": "17.00"
                                },
                                {
                                    "0": "10",
                                    "1": "304 - Dallmayr Sweet 4 - 0.85€",
                                    "2": "304 - Dallmayr Sweet 4 - 0.85€",
                                    "3": "0.85",
                                    "4": "0.85",
                                    "5": "1.70",
                                    "6": "17.00"
                                },
                                {
                                    "0": "10",
                                    "1": "303 - Dallmayr Sweet 3 - 0.80€",
                                    "2": "305 - Dallmayr Sweet 5 - 0.90€",
                                    "3": "0.90",
                                    "4": "0.80",
                                    "5": "1.70",
                                    "6": "17.00"
                                },
                                {
                                    "0": "10",
                                    "1": "303 - Dallmayr Sweet 3 - 0.80€",
                                    "2": "209 - DM - MM ORANGE 33cl 0.86€",
                                    "3": "0.86",
                                    "4": "0.80",
                                    "5": "1.66",
                                    "6": "16.60"
                                },
                                {
                                    "0": "10",
                                    "1": "209 - DM - MM ORANGE 33cl 0.86€",
                                    "2": "303 - Dallmayr Sweet 3 - 0.80€",
                                    "3": "0.80",
                                    "4": "0.86",
                                    "5": "1.66",
                                    "6": "16.60"
                                },
                                {
                                    "0": "10",
                                    "1": "301 - Dallmayr Sweet 1 - 0.70€",
                                    "2": "305 - Dallmayr Sweet 5 - 0.90€",
                                    "3": "0.90",
                                    "4": "0.70",
                                    "5": "1.60",
                                    "6": "16.00"
                                },
                                {
                                    "0": "10",
                                    "1": "303 - Dallmayr Sweet 3 - 0.80€",
                                    "2": "303 - Dallmayr Sweet 3 - 0.80€",
                                    "3": "0.80",
                                    "4": "0.80",
                                    "5": "1.60",
                                    "6": "16.00"
                                },
                                {
                                    "0": "10",
                                    "1": "302 - Dallmayr Sweet 2 - 0.75€",
                                    "2": "304 - Dallmayr Sweet 4 - 0.85€",
                                    "3": "0.85",
                                    "4": "0.75",
                                    "5": "1.60",
                                    "6": "16.00"
                                },
                                {
                                    "0": "10",
                                    "1": "304 - Dallmayr Sweet 4 - 0.85€",
                                    "2": "302 - Dallmayr Sweet 2 - 0.75€",
                                    "3": "0.75",
                                    "4": "0.85",
                                    "5": "1.60",
                                    "6": "16.00"
                                },
                                {
                                    "0": "10",
                                    "1": "305 - Dallmayr Sweet 5 - 0.90€",
                                    "2": "301 - Dallmayr Sweet 1 - 0.70€",
                                    "3": "0.70",
                                    "4": "0.90",
                                    "5": "1.60",
                                    "6": "16.00"
                                },
                                {
                                    "0": "10",
                                    "1": "304 - Dallmayr Sweet 4 - 0.85€",
                                    "2": "1206 - DM - PERRIER 33cl 0.73€",
                                    "3": "0.73",
                                    "4": "0.85",
                                    "5": "1.58",
                                    "6": "15.80"
                                },
                                {
                                    "0": "10",
                                    "1": "304 - Dallmayr Sweet 4 - 0.85€",
                                    "2": "206 - DM - PERRIER 33cl 0.73€",
                                    "3": "0.73",
                                    "4": "0.85",
                                    "5": "1.58",
                                    "6": "15.80"
                                },
                                {
                                    "0": "10",
                                    "1": "206 - DM - PERRIER 33cl 0.73€",
                                    "2": "304 - Dallmayr Sweet 4 - 0.85€",
                                    "3": "0.85",
                                    "4": "0.73",
                                    "5": "1.58",
                                    "6": "15.80"
                                },
                                {
                                    "0": "10",
                                    "1": "1206 - DM - PERRIER 33cl 0.73€",
                                    "2": "304 - Dallmayr Sweet 4 - 0.85€",
                                    "3": "0.85",
                                    "4": "0.73",
                                    "5": "1.58",
                                    "6": "15.80"
                                },
                                {
                                    "0": "10",
                                    "1": "209 - DM - MM ORANGE 33cl 0.86€",
                                    "2": "301 - Dallmayr Sweet 1 - 0.70€",
                                    "3": "0.70",
                                    "4": "0.86",
                                    "5": "1.56",
                                    "6": "15.60"
                                },
                                {
                                    "0": "10",
                                    "1": "301 - Dallmayr Sweet 1 - 0.70€",
                                    "2": "209 - DM - MM ORANGE 33cl 0.86€",
                                    "3": "0.86",
                                    "4": "0.70",
                                    "5": "1.56",
                                    "6": "15.60"
                                },
                                {
                                    "0": "10",
                                    "1": "212 - DM - COCA COLA ZERO 33cl 0.62€",
                                    "2": "305 - Dallmayr Sweet 5 - 0.90€",
                                    "3": "0.90",
                                    "4": "0.62",
                                    "5": "1.52",
                                    "6": "15.20"
                                },
                                {
                                    "0": "10",
                                    "1": "305 - Dallmayr Sweet 5 - 0.90€",
                                    "2": "212 - DM - COCA COLA ZERO 33cl 0.62€",
                                    "3": "0.62",
                                    "4": "0.90",
                                    "5": "1.52",
                                    "6": "15.20"
                                },
                                {
                                    "0": "10",
                                    "1": "303 - Dallmayr Sweet 3 - 0.80€",
                                    "2": "301 - Dallmayr Sweet 1 - 0.70€",
                                    "3": "0.70",
                                    "4": "0.80",
                                    "5": "1.50",
                                    "6": "15.00"
                                },
                                {
                                    "0": "10",
                                    "1": "302 - Dallmayr Sweet 2 - 0.75€",
                                    "2": "302 - Dallmayr Sweet 2 - 0.75€",
                                    "3": "0.75",
                                    "4": "0.75",
                                    "5": "1.50",
                                    "6": "15.00"
                                },
                                {
                                    "0": "10",
                                    "1": "301 - Dallmayr Sweet 1 - 0.70€",
                                    "2": "303 - Dallmayr Sweet 3 - 0.80€",
                                    "3": "0.80",
                                    "4": "0.70",
                                    "5": "1.50",
                                    "6": "15.00"
                                },
                                {
                                    "0": "10",
                                    "1": "212 - DM - COCA COLA ZERO 33cl 0.62€",
                                    "2": "209 - DM - MM ORANGE 33cl 0.86€",
                                    "3": "0.86",
                                    "4": "0.62",
                                    "5": "1.48",
                                    "6": "14.80"
                                },
                                {
                                    "0": "10",
                                    "1": "302 - Dallmayr Sweet 2 - 0.75€",
                                    "2": "1206 - DM - PERRIER 33cl 0.73€",
                                    "3": "0.73",
                                    "4": "0.75",
                                    "5": "1.48",
                                    "6": "14.80"
                                },
                                {
                                    "0": "10",
                                    "1": "302 - Dallmayr Sweet 2 - 0.75€",
                                    "2": "206 - DM - PERRIER 33cl 0.73€",
                                    "3": "0.73",
                                    "4": "0.75",
                                    "5": "1.48",
                                    "6": "14.80"
                                },
                                {
                                    "0": "10",
                                    "1": "1206 - DM - PERRIER 33cl 0.73€",
                                    "2": "302 - Dallmayr Sweet 2 - 0.75€",
                                    "3": "0.75",
                                    "4": "0.73",
                                    "5": "1.48",
                                    "6": "14.80"
                                },
                                {
                                    "0": "10",
                                    "1": "209 - DM - MM ORANGE 33cl 0.86€",
                                    "2": "212 - DM - COCA COLA ZERO 33cl 0.62€",
                                    "3": "0.62",
                                    "4": "0.86",
                                    "5": "1.48",
                                    "6": "14.80"
                                },
                                {
                                    "0": "10",
                                    "1": "206 - DM - PERRIER 33cl 0.73€",
                                    "2": "302 - Dallmayr Sweet 2 - 0.75€",
                                    "3": "0.75",
                                    "4": "0.73",
                                    "5": "1.48",
                                    "6": "14.80"
                                },
                                {
                                    "0": "10",
                                    "1": "206 - DM - PERRIER 33cl 0.73€",
                                    "2": "1206 - DM - PERRIER 33cl 0.73€",
                                    "3": "0.73",
                                    "4": "0.73",
                                    "5": "1.46",
                                    "6": "14.60"
                                },
                                {
                                    "0": "10",
                                    "1": "206 - DM - PERRIER 33cl 0.73€",
                                    "2": "206 - DM - PERRIER 33cl 0.73€",
                                    "3": "0.73",
                                    "4": "0.73",
                                    "5": "1.46",
                                    "6": "14.60"
                                },
                                {
                                    "0": "10",
                                    "1": "1206 - DM - PERRIER 33cl 0.73€",
                                    "2": "1206 - DM - PERRIER 33cl 0.73€",
                                    "3": "0.73",
                                    "4": "0.73",
                                    "5": "1.46",
                                    "6": "14.60"
                                },
                                {
                                    "0": "10",
                                    "1": "1206 - DM - PERRIER 33cl 0.73€",
                                    "2": "206 - DM - PERRIER 33cl 0.73€",
                                    "3": "0.73",
                                    "4": "0.73",
                                    "5": "1.46",
                                    "6": "14.60"
                                },
                                {
                                    "0": "10",
                                    "1": "303 - Dallmayr Sweet 3 - 0.80€",
                                    "2": "212 - DM - COCA COLA ZERO 33cl 0.62€",
                                    "3": "0.62",
                                    "4": "0.80",
                                    "5": "1.42",
                                    "6": "14.20"
                                },
                                {
                                    "0": "10",
                                    "1": "212 - DM - COCA COLA ZERO 33cl 0.62€",
                                    "2": "303 - Dallmayr Sweet 3 - 0.80€",
                                    "3": "0.80",
                                    "4": "0.62",
                                    "5": "1.42",
                                    "6": "14.20"
                                },
                                {
                                    "0": "10",
                                    "1": "301 - Dallmayr Sweet 1 - 0.70€",
                                    "2": "301 - Dallmayr Sweet 1 - 0.70€",
                                    "3": "0.70",
                                    "4": "0.70",
                                    "5": "1.40",
                                    "6": "14.00"
                                },
                                {
                                    "0": "10",
                                    "1": "304 - Dallmayr Sweet 4 - 0.85€",
                                    "2": "106 - COCA ZERO 1/4",
                                    "3": "0.53",
                                    "4": "0.85",
                                    "5": "1.38",
                                    "6": "13.80"
                                },
                                {
                                    "0": "10",
                                    "1": "304 - Dallmayr Sweet 4 - 0.85€",
                                    "2": "107 - ROSPORT 1/4",
                                    "3": "0.53",
                                    "4": "0.85",
                                    "5": "1.38",
                                    "6": "13.80"
                                },
                                {
                                    "0": "10",
                                    "1": "107 - ROSPORT 1/4",
                                    "2": "304 - Dallmayr Sweet 4 - 0.85€",
                                    "3": "0.85",
                                    "4": "0.53",
                                    "5": "1.38",
                                    "6": "13.80"
                                },
                                {
                                    "0": "10",
                                    "1": "106 - COCA ZERO 1/4",
                                    "2": "304 - Dallmayr Sweet 4 - 0.85€",
                                    "3": "0.85",
                                    "4": "0.53",
                                    "5": "1.38",
                                    "6": "13.80"
                                },
                                {
                                    "0": "10",
                                    "1": "301 - Dallmayr Sweet 1 - 0.70€",
                                    "2": "212 - DM - COCA COLA ZERO 33cl 0.62€",
                                    "3": "0.62",
                                    "4": "0.70",
                                    "5": "1.32",
                                    "6": "13.20"
                                },
                                {
                                    "0": "10",
                                    "1": "212 - DM - COCA COLA ZERO 33cl 0.62€",
                                    "2": "301 - Dallmayr Sweet 1 - 0.70€",
                                    "3": "0.70",
                                    "4": "0.62",
                                    "5": "1.32",
                                    "6": "13.20"
                                },
                                {
                                    "0": "10",
                                    "1": "302 - Dallmayr Sweet 2 - 0.75€",
                                    "2": "106 - COCA ZERO 1/4",
                                    "3": "0.53",
                                    "4": "0.75",
                                    "5": "1.28",
                                    "6": "12.80"
                                },
                                {
                                    "0": "10",
                                    "1": "302 - Dallmayr Sweet 2 - 0.75€",
                                    "2": "107 - ROSPORT 1/4",
                                    "3": "0.53",
                                    "4": "0.75",
                                    "5": "1.28",
                                    "6": "12.80"
                                },
                                {
                                    "0": "10",
                                    "1": "106 - COCA ZERO 1/4",
                                    "2": "302 - Dallmayr Sweet 2 - 0.75€",
                                    "3": "0.75",
                                    "4": "0.53",
                                    "5": "1.28",
                                    "6": "12.80"
                                },
                                {
                                    "0": "10",
                                    "1": "107 - ROSPORT 1/4",
                                    "2": "302 - Dallmayr Sweet 2 - 0.75€",
                                    "3": "0.75",
                                    "4": "0.53",
                                    "5": "1.28",
                                    "6": "12.80"
                                },
                                {
                                    "0": "10",
                                    "1": "107 - ROSPORT 1/4",
                                    "2": "1206 - DM - PERRIER 33cl 0.73€",
                                    "3": "0.73",
                                    "4": "0.53",
                                    "5": "1.26",
                                    "6": "12.60"
                                },
                                {
                                    "0": "10",
                                    "1": "107 - ROSPORT 1/4",
                                    "2": "206 - DM - PERRIER 33cl 0.73€",
                                    "3": "0.73",
                                    "4": "0.53",
                                    "5": "1.26",
                                    "6": "12.60"
                                },
                                {
                                    "0": "10",
                                    "1": "106 - COCA ZERO 1/4",
                                    "2": "1206 - DM - PERRIER 33cl 0.73€",
                                    "3": "0.73",
                                    "4": "0.53",
                                    "5": "1.26",
                                    "6": "12.60"
                                },
                                {
                                    "0": "10",
                                    "1": "106 - COCA ZERO 1/4",
                                    "2": "206 - DM - PERRIER 33cl 0.73€",
                                    "3": "0.73",
                                    "4": "0.53",
                                    "5": "1.26",
                                    "6": "12.60"
                                },
                                {
                                    "0": "10",
                                    "1": "1206 - DM - PERRIER 33cl 0.73€",
                                    "2": "106 - COCA ZERO 1/4",
                                    "3": "0.53",
                                    "4": "0.73",
                                    "5": "1.26",
                                    "6": "12.60"
                                },
                                {
                                    "0": "10",
                                    "1": "1206 - DM - PERRIER 33cl 0.73€",
                                    "2": "107 - ROSPORT 1/4",
                                    "3": "0.53",
                                    "4": "0.73",
                                    "5": "1.26",
                                    "6": "12.60"
                                },
                                {
                                    "0": "10",
                                    "1": "206 - DM - PERRIER 33cl 0.73€",
                                    "2": "106 - COCA ZERO 1/4",
                                    "3": "0.53",
                                    "4": "0.73",
                                    "5": "1.26",
                                    "6": "12.60"
                                },
                                {
                                    "0": "10",
                                    "1": "206 - DM - PERRIER 33cl 0.73€",
                                    "2": "107 - ROSPORT 1/4",
                                    "3": "0.53",
                                    "4": "0.73",
                                    "5": "1.26",
                                    "6": "12.60"
                                },
                                {
                                    "0": "10",
                                    "1": "212 - DM - COCA COLA ZERO 33cl 0.62€",
                                    "2": "212 - DM - COCA COLA ZERO 33cl 0.62€",
                                    "3": "0.62",
                                    "4": "0.62",
                                    "5": "1.24",
                                    "6": "12.40"
                                },
                                {
                                    "0": "10",
                                    "1": "106 - COCA ZERO 1/4",
                                    "2": "106 - COCA ZERO 1/4",
                                    "3": "0.53",
                                    "4": "0.53",
                                    "5": "1.06",
                                    "6": "10.60"
                                },
                                {
                                    "0": "10",
                                    "1": "106 - COCA ZERO 1/4",
                                    "2": "107 - ROSPORT 1/4",
                                    "3": "0.53",
                                    "4": "0.53",
                                    "5": "1.06",
                                    "6": "10.60"
                                },
                                {
                                    "0": "10",
                                    "1": "107 - ROSPORT 1/4",
                                    "2": "106 - COCA ZERO 1/4",
                                    "3": "0.53",
                                    "4": "0.53",
                                    "5": "1.06",
                                    "6": "10.60"
                                },
                                {
                                    "0": "10",
                                    "1": "107 - ROSPORT 1/4",
                                    "2": "107 - ROSPORT 1/4",
                                    "3": "0.53",
                                    "4": "0.53",
                                    "5": "1.06",
                                    "6": "10.60"
                                }
                            ]
                        },
                        "text/html": [
                            "<table>",
                            "<tr><th>ctn</th><th>name_one</th><th>name_two</th><th>price_one</th><th>price_two</th><th>combo_price</th><th>combo_price_multiplied</th></tr>",
                            "<tr><td>10</td><td>5 - MENU DE NOEL</td><td>5 - MENU DE NOEL</td><td>12.93</td><td>12.93</td><td>25.86</td><td>258.60</td></tr>",
                            "<tr><td>10</td><td>5 - MENU DE NOEL</td><td>3 - MENU CLIN D'OEIL</td><td>11.53</td><td>12.93</td><td>24.46</td><td>244.60</td></tr>",
                            "<tr><td>10</td><td>3 - MENU CLIN D'OEIL</td><td>5 - MENU DE NOEL</td><td>12.93</td><td>11.53</td><td>24.46</td><td>244.60</td></tr>",
                            "<tr><td>10</td><td>5 - MENU DE NOEL</td><td>6 - MENU ACTION</td><td>10.57</td><td>12.93</td><td>23.50</td><td>235.00</td></tr>",
                            "<tr><td>10</td><td>6 - MENU ACTION</td><td>5 - MENU DE NOEL</td><td>12.93</td><td>10.57</td><td>23.50</td><td>235.00</td></tr>",
                            "<tr><td>10</td><td>3 - MENU CLIN D'OEIL</td><td>3 - MENU CLIN D'OEIL</td><td>11.53</td><td>11.53</td><td>23.06</td><td>230.60</td></tr>",
                            "<tr><td>10</td><td>3 - MENU CLIN D'OEIL</td><td>6 - MENU ACTION</td><td>10.57</td><td>11.53</td><td>22.10</td><td>221.00</td></tr>",
                            "<tr><td>10</td><td>6 - MENU ACTION</td><td>3 - MENU CLIN D'OEIL</td><td>11.53</td><td>10.57</td><td>22.10</td><td>221.00</td></tr>",
                            "<tr><td>10</td><td>6 - MENU ACTION</td><td>6 - MENU ACTION</td><td>10.57</td><td>10.57</td><td>21.14</td><td>211.40</td></tr>",
                            "<tr><td>10</td><td>5 - MENU DE NOEL</td><td>113 - VIVA 1/4 FREE</td><td>7.43</td><td>12.93</td><td>20.36</td><td>203.60</td></tr>",
                            "<tr><td>10</td><td>5 - MENU DE NOEL</td><td>1 - MENU DU JOUR</td><td>7.43</td><td>12.93</td><td>20.36</td><td>203.60</td></tr>",
                            "<tr><td>10</td><td>1 - MENU DU JOUR</td><td>5 - MENU DE NOEL</td><td>12.93</td><td>7.43</td><td>20.36</td><td>203.60</td></tr>",
                            "<tr><td>10</td><td>113 - VIVA 1/4 FREE</td><td>5 - MENU DE NOEL</td><td>12.93</td><td>7.43</td><td>20.36</td><td>203.60</td></tr>",
                            "<tr><td>10</td><td>2 - MENU DU CHEF</td><td>2 - MENU DU CHEF</td><td>9.86</td><td>9.86</td><td>19.72</td><td>197.20</td></tr>",
                            "<tr><td>10</td><td>1 - MENU DU JOUR</td><td>3 - MENU CLIN D'OEIL</td><td>11.53</td><td>7.43</td><td>18.96</td><td>189.60</td></tr>",
                            "<tr><td>10</td><td>113 - VIVA 1/4 FREE</td><td>3 - MENU CLIN D'OEIL</td><td>11.53</td><td>7.43</td><td>18.96</td><td>189.60</td></tr>",
                            "<tr><td>10</td><td>3 - MENU CLIN D'OEIL</td><td>113 - VIVA 1/4 FREE</td><td>7.43</td><td>11.53</td><td>18.96</td><td>189.60</td></tr>",
                            "<tr><td>10</td><td>3 - MENU CLIN D'OEIL</td><td>1 - MENU DU JOUR</td><td>7.43</td><td>11.53</td><td>18.96</td><td>189.60</td></tr>",
                            "<tr><td>10</td><td>1 - MENU DU JOUR</td><td>6 - MENU ACTION</td><td>10.57</td><td>7.43</td><td>18.00</td><td>180.00</td></tr>",
                            "<tr><td>10</td><td>113 - VIVA 1/4 FREE</td><td>6 - MENU ACTION</td><td>10.57</td><td>7.43</td><td>18.00</td><td>180.00</td></tr>",
                            "<tr><td>10</td><td>6 - MENU ACTION</td><td>113 - VIVA 1/4 FREE</td><td>7.43</td><td>10.57</td><td>18.00</td><td>180.00</td></tr>",
                            "<tr><td>10</td><td>6 - MENU ACTION</td><td>1 - MENU DU JOUR</td><td>7.43</td><td>10.57</td><td>18.00</td><td>180.00</td></tr>",
                            "<tr><td>10</td><td>1 - MENU DU JOUR</td><td>1 - MENU DU JOUR</td><td>7.43</td><td>7.43</td><td>14.86</td><td>148.60</td></tr>",
                            "<tr><td>10</td><td>1 - MENU DU JOUR</td><td>113 - VIVA 1/4 FREE</td><td>7.43</td><td>7.43</td><td>14.86</td><td>148.60</td></tr>",
                            "<tr><td>10</td><td>113 - VIVA 1/4 FREE</td><td>113 - VIVA 1/4 FREE</td><td>7.43</td><td>7.43</td><td>14.86</td><td>148.60</td></tr>",
                            "<tr><td>10</td><td>113 - VIVA 1/4 FREE</td><td>1 - MENU DU JOUR</td><td>7.43</td><td>7.43</td><td>14.86</td><td>148.60</td></tr>",
                            "<tr><td>10</td><td>304 - Dallmayr Sweet 4 - 0.85€</td><td>5 - MENU DE NOEL</td><td>12.93</td><td>0.85</td><td>13.78</td><td>137.80</td></tr>",
                            "<tr><td>10</td><td>5 - MENU DE NOEL</td><td>304 - Dallmayr Sweet 4 - 0.85€</td><td>0.85</td><td>12.93</td><td>13.78</td><td>137.80</td></tr>",
                            "<tr><td>10</td><td>5 - MENU DE NOEL</td><td>302 - Dallmayr Sweet 2 - 0.75€</td><td>0.75</td><td>12.93</td><td>13.68</td><td>136.80</td></tr>",
                            "<tr><td>10</td><td>302 - Dallmayr Sweet 2 - 0.75€</td><td>5 - MENU DE NOEL</td><td>12.93</td><td>0.75</td><td>13.68</td><td>136.80</td></tr>",
                            "<tr><td>10</td><td>1206 - DM - PERRIER 33cl 0.73€</td><td>5 - MENU DE NOEL</td><td>12.93</td><td>0.73</td><td>13.66</td><td>136.60</td></tr>",
                            "<tr><td>10</td><td>206 - DM - PERRIER 33cl 0.73€</td><td>5 - MENU DE NOEL</td><td>12.93</td><td>0.73</td><td>13.66</td><td>136.60</td></tr>",
                            "<tr><td>10</td><td>5 - MENU DE NOEL</td><td>1206 - DM - PERRIER 33cl 0.73€</td><td>0.73</td><td>12.93</td><td>13.66</td><td>136.60</td></tr>",
                            "<tr><td>10</td><td>5 - MENU DE NOEL</td><td>206 - DM - PERRIER 33cl 0.73€</td><td>0.73</td><td>12.93</td><td>13.66</td><td>136.60</td></tr>",
                            "<tr><td>10</td><td>5 - MENU DE NOEL</td><td>106 - COCA ZERO 1/4</td><td>0.53</td><td>12.93</td><td>13.46</td><td>134.60</td></tr>",
                            "<tr><td>10</td><td>5 - MENU DE NOEL</td><td>107 - ROSPORT 1/4</td><td>0.53</td><td>12.93</td><td>13.46</td><td>134.60</td></tr>",
                            "<tr><td>10</td><td>107 - ROSPORT 1/4</td><td>5 - MENU DE NOEL</td><td>12.93</td><td>0.53</td><td>13.46</td><td>134.60</td></tr>",
                            "<tr><td>10</td><td>106 - COCA ZERO 1/4</td><td>5 - MENU DE NOEL</td><td>12.93</td><td>0.53</td><td>13.46</td><td>134.60</td></tr>",
                            "<tr><td>10</td><td>2 - MENU DU CHEF</td><td>998 - Donnation ABC Canteen (CR 450)</td><td>3.00</td><td>9.86</td><td>12.86</td><td>128.60</td></tr>",
                            "<tr><td>10</td><td>998 - Donnation ABC Canteen (CR 450)</td><td>2 - MENU DU CHEF</td><td>9.86</td><td>3.00</td><td>12.86</td><td>128.60</td></tr>",
                            "<tr><td>10</td><td>304 - Dallmayr Sweet 4 - 0.85€</td><td>3 - MENU CLIN D'OEIL</td><td>11.53</td><td>0.85</td><td>12.38</td><td>123.80</td></tr>",
                            "<tr><td>10</td><td>3 - MENU CLIN D'OEIL</td><td>304 - Dallmayr Sweet 4 - 0.85€</td><td>0.85</td><td>11.53</td><td>12.38</td><td>123.80</td></tr>",
                            "<tr><td>10</td><td>2 - MENU DU CHEF</td><td>312 - DM Traingles - 2.50€</td><td>2.50</td><td>9.86</td><td>12.36</td><td>123.60</td></tr>",
                            "<tr><td>10</td><td>312 - DM Traingles - 2.50€</td><td>2 - MENU DU CHEF</td><td>9.86</td><td>2.50</td><td>12.36</td><td>123.60</td></tr>",
                            "<tr><td>10</td><td>3 - MENU CLIN D'OEIL</td><td>302 - Dallmayr Sweet 2 - 0.75€</td><td>0.75</td><td>11.53</td><td>12.28</td><td>122.80</td></tr>",
                            "<tr><td>10</td><td>302 - Dallmayr Sweet 2 - 0.75€</td><td>3 - MENU CLIN D'OEIL</td><td>11.53</td><td>0.75</td><td>12.28</td><td>122.80</td></tr>",
                            "<tr><td>10</td><td>3 - MENU CLIN D'OEIL</td><td>1206 - DM - PERRIER 33cl 0.73€</td><td>0.73</td><td>11.53</td><td>12.26</td><td>122.60</td></tr>",
                            "<tr><td>10</td><td>3 - MENU CLIN D'OEIL</td><td>206 - DM - PERRIER 33cl 0.73€</td><td>0.73</td><td>11.53</td><td>12.26</td><td>122.60</td></tr>",
                            "<tr><td>10</td><td>206 - DM - PERRIER 33cl 0.73€</td><td>3 - MENU CLIN D'OEIL</td><td>11.53</td><td>0.73</td><td>12.26</td><td>122.60</td></tr>",
                            "<tr><td>10</td><td>1206 - DM - PERRIER 33cl 0.73€</td><td>3 - MENU CLIN D'OEIL</td><td>11.53</td><td>0.73</td><td>12.26</td><td>122.60</td></tr>",
                            "<tr><td>10</td><td>107 - ROSPORT 1/4</td><td>3 - MENU CLIN D'OEIL</td><td>11.53</td><td>0.53</td><td>12.06</td><td>120.60</td></tr>",
                            "<tr><td>10</td><td>106 - COCA ZERO 1/4</td><td>3 - MENU CLIN D'OEIL</td><td>11.53</td><td>0.53</td><td>12.06</td><td>120.60</td></tr>",
                            "<tr><td>10</td><td>3 - MENU CLIN D'OEIL</td><td>106 - COCA ZERO 1/4</td><td>0.53</td><td>11.53</td><td>12.06</td><td>120.60</td></tr>",
                            "<tr><td>10</td><td>3 - MENU CLIN D'OEIL</td><td>107 - ROSPORT 1/4</td><td>0.53</td><td>11.53</td><td>12.06</td><td>120.60</td></tr>",
                            "<tr><td>10</td><td>2 - MENU DU CHEF</td><td>311 - DM Sandwich Maison - 1.80€</td><td>1.80</td><td>9.86</td><td>11.66</td><td>116.60</td></tr>",
                            "<tr><td>10</td><td>311 - DM Sandwich Maison - 1.80€</td><td>2 - MENU DU CHEF</td><td>9.86</td><td>1.80</td><td>11.66</td><td>116.60</td></tr>",
                            "<tr><td>10</td><td>6 - MENU ACTION</td><td>304 - Dallmayr Sweet 4 - 0.85€</td><td>0.85</td><td>10.57</td><td>11.42</td><td>114.20</td></tr>",
                            "<tr><td>10</td><td>304 - Dallmayr Sweet 4 - 0.85€</td><td>6 - MENU ACTION</td><td>10.57</td><td>0.85</td><td>11.42</td><td>114.20</td></tr>",
                            "<tr><td>10</td><td>302 - Dallmayr Sweet 2 - 0.75€</td><td>6 - MENU ACTION</td><td>10.57</td><td>0.75</td><td>11.32</td><td>113.20</td></tr>",
                            "<tr><td>10</td><td>6 - MENU ACTION</td><td>302 - Dallmayr Sweet 2 - 0.75€</td><td>0.75</td><td>10.57</td><td>11.32</td><td>113.20</td></tr>",
                            "<tr><td>10</td><td>6 - MENU ACTION</td><td>1206 - DM - PERRIER 33cl 0.73€</td><td>0.73</td><td>10.57</td><td>11.30</td><td>113.00</td></tr>",
                            "<tr><td>10</td><td>6 - MENU ACTION</td><td>206 - DM - PERRIER 33cl 0.73€</td><td>0.73</td><td>10.57</td><td>11.30</td><td>113.00</td></tr>",
                            "<tr><td>10</td><td>206 - DM - PERRIER 33cl 0.73€</td><td>6 - MENU ACTION</td><td>10.57</td><td>0.73</td><td>11.30</td><td>113.00</td></tr>",
                            "<tr><td>10</td><td>1206 - DM - PERRIER 33cl 0.73€</td><td>6 - MENU ACTION</td><td>10.57</td><td>0.73</td><td>11.30</td><td>113.00</td></tr>",
                            "<tr><td>10</td><td>106 - COCA ZERO 1/4</td><td>6 - MENU ACTION</td><td>10.57</td><td>0.53</td><td>11.10</td><td>111.00</td></tr>",
                            "<tr><td>10</td><td>107 - ROSPORT 1/4</td><td>6 - MENU ACTION</td><td>10.57</td><td>0.53</td><td>11.10</td><td>111.00</td></tr>",
                            "<tr><td>10</td><td>6 - MENU ACTION</td><td>106 - COCA ZERO 1/4</td><td>0.53</td><td>10.57</td><td>11.10</td><td>111.00</td></tr>",
                            "<tr><td>10</td><td>6 - MENU ACTION</td><td>107 - ROSPORT 1/4</td><td>0.53</td><td>10.57</td><td>11.10</td><td>111.00</td></tr>",
                            "<tr><td>10</td><td>2 - MENU DU CHEF</td><td>305 - Dallmayr Sweet 5 - 0.90€</td><td>0.90</td><td>9.86</td><td>10.76</td><td>107.60</td></tr>",
                            "<tr><td>10</td><td>305 - Dallmayr Sweet 5 - 0.90€</td><td>2 - MENU DU CHEF</td><td>9.86</td><td>0.90</td><td>10.76</td><td>107.60</td></tr>",
                            "<tr><td>10</td><td>209 - DM - MM ORANGE 33cl 0.86€</td><td>2 - MENU DU CHEF</td><td>9.86</td><td>0.86</td><td>10.72</td><td>107.20</td></tr>",
                            "<tr><td>10</td><td>2 - MENU DU CHEF</td><td>209 - DM - MM ORANGE 33cl 0.86€</td><td>0.86</td><td>9.86</td><td>10.72</td><td>107.20</td></tr>",
                            "<tr><td>10</td><td>2 - MENU DU CHEF</td><td>303 - Dallmayr Sweet 3 - 0.80€</td><td>0.80</td><td>9.86</td><td>10.66</td><td>106.60</td></tr>",
                            "<tr><td>10</td><td>303 - Dallmayr Sweet 3 - 0.80€</td><td>2 - MENU DU CHEF</td><td>9.86</td><td>0.80</td><td>10.66</td><td>106.60</td></tr>",
                            "<tr><td>10</td><td>301 - Dallmayr Sweet 1 - 0.70€</td><td>2 - MENU DU CHEF</td><td>9.86</td><td>0.70</td><td>10.56</td><td>105.60</td></tr>",
                            "<tr><td>10</td><td>2 - MENU DU CHEF</td><td>301 - Dallmayr Sweet 1 - 0.70€</td><td>0.70</td><td>9.86</td><td>10.56</td><td>105.60</td></tr>",
                            "<tr><td>10</td><td>2 - MENU DU CHEF</td><td>212 - DM - COCA COLA ZERO 33cl 0.62€</td><td>0.62</td><td>9.86</td><td>10.48</td><td>104.80</td></tr>",
                            "<tr><td>10</td><td>212 - DM - COCA COLA ZERO 33cl 0.62€</td><td>2 - MENU DU CHEF</td><td>9.86</td><td>0.62</td><td>10.48</td><td>104.80</td></tr>",
                            "<tr><td>10</td><td>304 - Dallmayr Sweet 4 - 0.85€</td><td>1 - MENU DU JOUR</td><td>7.43</td><td>0.85</td><td>8.28</td><td>82.80</td></tr>",
                            "<tr><td>10</td><td>304 - Dallmayr Sweet 4 - 0.85€</td><td>113 - VIVA 1/4 FREE</td><td>7.43</td><td>0.85</td><td>8.28</td><td>82.80</td></tr>",
                            "<tr><td>10</td><td>113 - VIVA 1/4 FREE</td><td>304 - Dallmayr Sweet 4 - 0.85€</td><td>0.85</td><td>7.43</td><td>8.28</td><td>82.80</td></tr>",
                            "<tr><td>10</td><td>1 - MENU DU JOUR</td><td>304 - Dallmayr Sweet 4 - 0.85€</td><td>0.85</td><td>7.43</td><td>8.28</td><td>82.80</td></tr>",
                            "<tr><td>10</td><td>1 - MENU DU JOUR</td><td>302 - Dallmayr Sweet 2 - 0.75€</td><td>0.75</td><td>7.43</td><td>8.18</td><td>81.80</td></tr>",
                            "<tr><td>10</td><td>113 - VIVA 1/4 FREE</td><td>302 - Dallmayr Sweet 2 - 0.75€</td><td>0.75</td><td>7.43</td><td>8.18</td><td>81.80</td></tr>",
                            "<tr><td>10</td><td>302 - Dallmayr Sweet 2 - 0.75€</td><td>1 - MENU DU JOUR</td><td>7.43</td><td>0.75</td><td>8.18</td><td>81.80</td></tr>",
                            "<tr><td>10</td><td>302 - Dallmayr Sweet 2 - 0.75€</td><td>113 - VIVA 1/4 FREE</td><td>7.43</td><td>0.75</td><td>8.18</td><td>81.80</td></tr>",
                            "<tr><td>10</td><td>113 - VIVA 1/4 FREE</td><td>1206 - DM - PERRIER 33cl 0.73€</td><td>0.73</td><td>7.43</td><td>8.16</td><td>81.60</td></tr>",
                            "<tr><td>10</td><td>113 - VIVA 1/4 FREE</td><td>206 - DM - PERRIER 33cl 0.73€</td><td>0.73</td><td>7.43</td><td>8.16</td><td>81.60</td></tr>",
                            "<tr><td>10</td><td>1 - MENU DU JOUR</td><td>1206 - DM - PERRIER 33cl 0.73€</td><td>0.73</td><td>7.43</td><td>8.16</td><td>81.60</td></tr>",
                            "<tr><td>10</td><td>1 - MENU DU JOUR</td><td>206 - DM - PERRIER 33cl 0.73€</td><td>0.73</td><td>7.43</td><td>8.16</td><td>81.60</td></tr>",
                            "<tr><td>10</td><td>1206 - DM - PERRIER 33cl 0.73€</td><td>113 - VIVA 1/4 FREE</td><td>7.43</td><td>0.73</td><td>8.16</td><td>81.60</td></tr>",
                            "<tr><td>10</td><td>1206 - DM - PERRIER 33cl 0.73€</td><td>1 - MENU DU JOUR</td><td>7.43</td><td>0.73</td><td>8.16</td><td>81.60</td></tr>",
                            "<tr><td>10</td><td>206 - DM - PERRIER 33cl 0.73€</td><td>1 - MENU DU JOUR</td><td>7.43</td><td>0.73</td><td>8.16</td><td>81.60</td></tr>",
                            "<tr><td>10</td><td>206 - DM - PERRIER 33cl 0.73€</td><td>113 - VIVA 1/4 FREE</td><td>7.43</td><td>0.73</td><td>8.16</td><td>81.60</td></tr>",
                            "<tr><td>10</td><td>1 - MENU DU JOUR</td><td>106 - COCA ZERO 1/4</td><td>0.53</td><td>7.43</td><td>7.96</td><td>79.60</td></tr>",
                            "<tr><td>10</td><td>1 - MENU DU JOUR</td><td>107 - ROSPORT 1/4</td><td>0.53</td><td>7.43</td><td>7.96</td><td>79.60</td></tr>",
                            "<tr><td>10</td><td>106 - COCA ZERO 1/4</td><td>1 - MENU DU JOUR</td><td>7.43</td><td>0.53</td><td>7.96</td><td>79.60</td></tr>",
                            "<tr><td>10</td><td>106 - COCA ZERO 1/4</td><td>113 - VIVA 1/4 FREE</td><td>7.43</td><td>0.53</td><td>7.96</td><td>79.60</td></tr>",
                            "<tr><td>10</td><td>113 - VIVA 1/4 FREE</td><td>106 - COCA ZERO 1/4</td><td>0.53</td><td>7.43</td><td>7.96</td><td>79.60</td></tr>",
                            "<tr><td>10</td><td>113 - VIVA 1/4 FREE</td><td>107 - ROSPORT 1/4</td><td>0.53</td><td>7.43</td><td>7.96</td><td>79.60</td></tr>",
                            "<tr><td>10</td><td>107 - ROSPORT 1/4</td><td>1 - MENU DU JOUR</td><td>7.43</td><td>0.53</td><td>7.96</td><td>79.60</td></tr>",
                            "<tr><td>10</td><td>107 - ROSPORT 1/4</td><td>113 - VIVA 1/4 FREE</td><td>7.43</td><td>0.53</td><td>7.96</td><td>79.60</td></tr>",
                            "<tr><td>10</td><td>998 - Donnation ABC Canteen (CR 450)</td><td>998 - Donnation ABC Canteen (CR 450)</td><td>3.00</td><td>3.00</td><td>6.00</td><td>60.00</td></tr>",
                            "<tr><td>10</td><td>998 - Donnation ABC Canteen (CR 450)</td><td>312 - DM Traingles - 2.50€</td><td>2.50</td><td>3.00</td><td>5.50</td><td>55.00</td></tr>",
                            "<tr><td>10</td><td>312 - DM Traingles - 2.50€</td><td>998 - Donnation ABC Canteen (CR 450)</td><td>3.00</td><td>2.50</td><td>5.50</td><td>55.00</td></tr>",
                            "<tr><td>10</td><td>312 - DM Traingles - 2.50€</td><td>312 - DM Traingles - 2.50€</td><td>2.50</td><td>2.50</td><td>5.00</td><td>50.00</td></tr>",
                            "<tr><td>10</td><td>311 - DM Sandwich Maison - 1.80€</td><td>998 - Donnation ABC Canteen (CR 450)</td><td>3.00</td><td>1.80</td><td>4.80</td><td>48.00</td></tr>",
                            "<tr><td>10</td><td>998 - Donnation ABC Canteen (CR 450)</td><td>311 - DM Sandwich Maison - 1.80€</td><td>1.80</td><td>3.00</td><td>4.80</td><td>48.00</td></tr>",
                            "<tr><td>10</td><td>311 - DM Sandwich Maison - 1.80€</td><td>312 - DM Traingles - 2.50€</td><td>2.50</td><td>1.80</td><td>4.30</td><td>43.00</td></tr>",
                            "<tr><td>10</td><td>312 - DM Traingles - 2.50€</td><td>311 - DM Sandwich Maison - 1.80€</td><td>1.80</td><td>2.50</td><td>4.30</td><td>43.00</td></tr>",
                            "<tr><td>10</td><td>305 - Dallmayr Sweet 5 - 0.90€</td><td>998 - Donnation ABC Canteen (CR 450)</td><td>3.00</td><td>0.90</td><td>3.90</td><td>39.00</td></tr>",
                            "<tr><td>10</td><td>998 - Donnation ABC Canteen (CR 450)</td><td>305 - Dallmayr Sweet 5 - 0.90€</td><td>0.90</td><td>3.00</td><td>3.90</td><td>39.00</td></tr>",
                            "<tr><td>10</td><td>998 - Donnation ABC Canteen (CR 450)</td><td>209 - DM - MM ORANGE 33cl 0.86€</td><td>0.86</td><td>3.00</td><td>3.86</td><td>38.60</td></tr>",
                            "<tr><td>10</td><td>209 - DM - MM ORANGE 33cl 0.86€</td><td>998 - Donnation ABC Canteen (CR 450)</td><td>3.00</td><td>0.86</td><td>3.86</td><td>38.60</td></tr>",
                            "<tr><td>10</td><td>303 - Dallmayr Sweet 3 - 0.80€</td><td>998 - Donnation ABC Canteen (CR 450)</td><td>3.00</td><td>0.80</td><td>3.80</td><td>38.00</td></tr>",
                            "<tr><td>10</td><td>998 - Donnation ABC Canteen (CR 450)</td><td>303 - Dallmayr Sweet 3 - 0.80€</td><td>0.80</td><td>3.00</td><td>3.80</td><td>38.00</td></tr>",
                            "<tr><td>10</td><td>998 - Donnation ABC Canteen (CR 450)</td><td>301 - Dallmayr Sweet 1 - 0.70€</td><td>0.70</td><td>3.00</td><td>3.70</td><td>37.00</td></tr>",
                            "<tr><td>10</td><td>301 - Dallmayr Sweet 1 - 0.70€</td><td>998 - Donnation ABC Canteen (CR 450)</td><td>3.00</td><td>0.70</td><td>3.70</td><td>37.00</td></tr>",
                            "<tr><td>10</td><td>212 - DM - COCA COLA ZERO 33cl 0.62€</td><td>998 - Donnation ABC Canteen (CR 450)</td><td>3.00</td><td>0.62</td><td>3.62</td><td>36.20</td></tr>",
                            "<tr><td>10</td><td>998 - Donnation ABC Canteen (CR 450)</td><td>212 - DM - COCA COLA ZERO 33cl 0.62€</td><td>0.62</td><td>3.00</td><td>3.62</td><td>36.20</td></tr>",
                            "<tr><td>10</td><td>311 - DM Sandwich Maison - 1.80€</td><td>311 - DM Sandwich Maison - 1.80€</td><td>1.80</td><td>1.80</td><td>3.60</td><td>36.00</td></tr>",
                            "<tr><td>10</td><td>305 - Dallmayr Sweet 5 - 0.90€</td><td>312 - DM Traingles - 2.50€</td><td>2.50</td><td>0.90</td><td>3.40</td><td>34.00</td></tr>",
                            "<tr><td>10</td><td>312 - DM Traingles - 2.50€</td><td>305 - Dallmayr Sweet 5 - 0.90€</td><td>0.90</td><td>2.50</td><td>3.40</td><td>34.00</td></tr>",
                            "<tr><td>10</td><td>312 - DM Traingles - 2.50€</td><td>209 - DM - MM ORANGE 33cl 0.86€</td><td>0.86</td><td>2.50</td><td>3.36</td><td>33.60</td></tr>",
                            "<tr><td>10</td><td>209 - DM - MM ORANGE 33cl 0.86€</td><td>312 - DM Traingles - 2.50€</td><td>2.50</td><td>0.86</td><td>3.36</td><td>33.60</td></tr>",
                            "<tr><td>10</td><td>303 - Dallmayr Sweet 3 - 0.80€</td><td>312 - DM Traingles - 2.50€</td><td>2.50</td><td>0.80</td><td>3.30</td><td>33.00</td></tr>",
                            "<tr><td>10</td><td>312 - DM Traingles - 2.50€</td><td>303 - Dallmayr Sweet 3 - 0.80€</td><td>0.80</td><td>2.50</td><td>3.30</td><td>33.00</td></tr>",
                            "<tr><td>10</td><td>312 - DM Traingles - 2.50€</td><td>301 - Dallmayr Sweet 1 - 0.70€</td><td>0.70</td><td>2.50</td><td>3.20</td><td>32.00</td></tr>",
                            "<tr><td>10</td><td>301 - Dallmayr Sweet 1 - 0.70€</td><td>312 - DM Traingles - 2.50€</td><td>2.50</td><td>0.70</td><td>3.20</td><td>32.00</td></tr>",
                            "<tr><td>10</td><td>212 - DM - COCA COLA ZERO 33cl 0.62€</td><td>312 - DM Traingles - 2.50€</td><td>2.50</td><td>0.62</td><td>3.12</td><td>31.20</td></tr>",
                            "<tr><td>10</td><td>312 - DM Traingles - 2.50€</td><td>212 - DM - COCA COLA ZERO 33cl 0.62€</td><td>0.62</td><td>2.50</td><td>3.12</td><td>31.20</td></tr>",
                            "<tr><td>10</td><td>311 - DM Sandwich Maison - 1.80€</td><td>305 - Dallmayr Sweet 5 - 0.90€</td><td>0.90</td><td>1.80</td><td>2.70</td><td>27.00</td></tr>",
                            "<tr><td>10</td><td>305 - Dallmayr Sweet 5 - 0.90€</td><td>311 - DM Sandwich Maison - 1.80€</td><td>1.80</td><td>0.90</td><td>2.70</td><td>27.00</td></tr>",
                            "<tr><td>10</td><td>209 - DM - MM ORANGE 33cl 0.86€</td><td>311 - DM Sandwich Maison - 1.80€</td><td>1.80</td><td>0.86</td><td>2.66</td><td>26.60</td></tr>",
                            "<tr><td>10</td><td>311 - DM Sandwich Maison - 1.80€</td><td>209 - DM - MM ORANGE 33cl 0.86€</td><td>0.86</td><td>1.80</td><td>2.66</td><td>26.60</td></tr>",
                            "<tr><td>10</td><td>311 - DM Sandwich Maison - 1.80€</td><td>303 - Dallmayr Sweet 3 - 0.80€</td><td>0.80</td><td>1.80</td><td>2.60</td><td>26.00</td></tr>",
                            "<tr><td>10</td><td>303 - Dallmayr Sweet 3 - 0.80€</td><td>311 - DM Sandwich Maison - 1.80€</td><td>1.80</td><td>0.80</td><td>2.60</td><td>26.00</td></tr>",
                            "<tr><td>10</td><td>301 - Dallmayr Sweet 1 - 0.70€</td><td>311 - DM Sandwich Maison - 1.80€</td><td>1.80</td><td>0.70</td><td>2.50</td><td>25.00</td></tr>",
                            "<tr><td>10</td><td>311 - DM Sandwich Maison - 1.80€</td><td>301 - Dallmayr Sweet 1 - 0.70€</td><td>0.70</td><td>1.80</td><td>2.50</td><td>25.00</td></tr>",
                            "<tr><td>10</td><td>311 - DM Sandwich Maison - 1.80€</td><td>212 - DM - COCA COLA ZERO 33cl 0.62€</td><td>0.62</td><td>1.80</td><td>2.42</td><td>24.20</td></tr>",
                            "<tr><td>10</td><td>212 - DM - COCA COLA ZERO 33cl 0.62€</td><td>311 - DM Sandwich Maison - 1.80€</td><td>1.80</td><td>0.62</td><td>2.42</td><td>24.20</td></tr>",
                            "<tr><td>10</td><td>305 - Dallmayr Sweet 5 - 0.90€</td><td>305 - Dallmayr Sweet 5 - 0.90€</td><td>0.90</td><td>0.90</td><td>1.80</td><td>18.00</td></tr>",
                            "<tr><td>10</td><td>305 - Dallmayr Sweet 5 - 0.90€</td><td>209 - DM - MM ORANGE 33cl 0.86€</td><td>0.86</td><td>0.90</td><td>1.76</td><td>17.60</td></tr>",
                            "<tr><td>10</td><td>209 - DM - MM ORANGE 33cl 0.86€</td><td>305 - Dallmayr Sweet 5 - 0.90€</td><td>0.90</td><td>0.86</td><td>1.76</td><td>17.60</td></tr>",
                            "<tr><td>10</td><td>209 - DM - MM ORANGE 33cl 0.86€</td><td>209 - DM - MM ORANGE 33cl 0.86€</td><td>0.86</td><td>0.86</td><td>1.72</td><td>17.20</td></tr>",
                            "<tr><td>10</td><td>305 - Dallmayr Sweet 5 - 0.90€</td><td>303 - Dallmayr Sweet 3 - 0.80€</td><td>0.80</td><td>0.90</td><td>1.70</td><td>17.00</td></tr>",
                            "<tr><td>10</td><td>304 - Dallmayr Sweet 4 - 0.85€</td><td>304 - Dallmayr Sweet 4 - 0.85€</td><td>0.85</td><td>0.85</td><td>1.70</td><td>17.00</td></tr>",
                            "<tr><td>10</td><td>303 - Dallmayr Sweet 3 - 0.80€</td><td>305 - Dallmayr Sweet 5 - 0.90€</td><td>0.90</td><td>0.80</td><td>1.70</td><td>17.00</td></tr>",
                            "<tr><td>10</td><td>303 - Dallmayr Sweet 3 - 0.80€</td><td>209 - DM - MM ORANGE 33cl 0.86€</td><td>0.86</td><td>0.80</td><td>1.66</td><td>16.60</td></tr>",
                            "<tr><td>10</td><td>209 - DM - MM ORANGE 33cl 0.86€</td><td>303 - Dallmayr Sweet 3 - 0.80€</td><td>0.80</td><td>0.86</td><td>1.66</td><td>16.60</td></tr>",
                            "<tr><td>10</td><td>301 - Dallmayr Sweet 1 - 0.70€</td><td>305 - Dallmayr Sweet 5 - 0.90€</td><td>0.90</td><td>0.70</td><td>1.60</td><td>16.00</td></tr>",
                            "<tr><td>10</td><td>303 - Dallmayr Sweet 3 - 0.80€</td><td>303 - Dallmayr Sweet 3 - 0.80€</td><td>0.80</td><td>0.80</td><td>1.60</td><td>16.00</td></tr>",
                            "<tr><td>10</td><td>302 - Dallmayr Sweet 2 - 0.75€</td><td>304 - Dallmayr Sweet 4 - 0.85€</td><td>0.85</td><td>0.75</td><td>1.60</td><td>16.00</td></tr>",
                            "<tr><td>10</td><td>304 - Dallmayr Sweet 4 - 0.85€</td><td>302 - Dallmayr Sweet 2 - 0.75€</td><td>0.75</td><td>0.85</td><td>1.60</td><td>16.00</td></tr>",
                            "<tr><td>10</td><td>305 - Dallmayr Sweet 5 - 0.90€</td><td>301 - Dallmayr Sweet 1 - 0.70€</td><td>0.70</td><td>0.90</td><td>1.60</td><td>16.00</td></tr>",
                            "<tr><td>10</td><td>304 - Dallmayr Sweet 4 - 0.85€</td><td>1206 - DM - PERRIER 33cl 0.73€</td><td>0.73</td><td>0.85</td><td>1.58</td><td>15.80</td></tr>",
                            "<tr><td>10</td><td>304 - Dallmayr Sweet 4 - 0.85€</td><td>206 - DM - PERRIER 33cl 0.73€</td><td>0.73</td><td>0.85</td><td>1.58</td><td>15.80</td></tr>",
                            "<tr><td>10</td><td>206 - DM - PERRIER 33cl 0.73€</td><td>304 - Dallmayr Sweet 4 - 0.85€</td><td>0.85</td><td>0.73</td><td>1.58</td><td>15.80</td></tr>",
                            "<tr><td>10</td><td>1206 - DM - PERRIER 33cl 0.73€</td><td>304 - Dallmayr Sweet 4 - 0.85€</td><td>0.85</td><td>0.73</td><td>1.58</td><td>15.80</td></tr>",
                            "<tr><td>10</td><td>209 - DM - MM ORANGE 33cl 0.86€</td><td>301 - Dallmayr Sweet 1 - 0.70€</td><td>0.70</td><td>0.86</td><td>1.56</td><td>15.60</td></tr>",
                            "<tr><td>10</td><td>301 - Dallmayr Sweet 1 - 0.70€</td><td>209 - DM - MM ORANGE 33cl 0.86€</td><td>0.86</td><td>0.70</td><td>1.56</td><td>15.60</td></tr>",
                            "<tr><td>10</td><td>212 - DM - COCA COLA ZERO 33cl 0.62€</td><td>305 - Dallmayr Sweet 5 - 0.90€</td><td>0.90</td><td>0.62</td><td>1.52</td><td>15.20</td></tr>",
                            "<tr><td>10</td><td>305 - Dallmayr Sweet 5 - 0.90€</td><td>212 - DM - COCA COLA ZERO 33cl 0.62€</td><td>0.62</td><td>0.90</td><td>1.52</td><td>15.20</td></tr>",
                            "<tr><td>10</td><td>303 - Dallmayr Sweet 3 - 0.80€</td><td>301 - Dallmayr Sweet 1 - 0.70€</td><td>0.70</td><td>0.80</td><td>1.50</td><td>15.00</td></tr>",
                            "<tr><td>10</td><td>302 - Dallmayr Sweet 2 - 0.75€</td><td>302 - Dallmayr Sweet 2 - 0.75€</td><td>0.75</td><td>0.75</td><td>1.50</td><td>15.00</td></tr>",
                            "<tr><td>10</td><td>301 - Dallmayr Sweet 1 - 0.70€</td><td>303 - Dallmayr Sweet 3 - 0.80€</td><td>0.80</td><td>0.70</td><td>1.50</td><td>15.00</td></tr>",
                            "<tr><td>10</td><td>212 - DM - COCA COLA ZERO 33cl 0.62€</td><td>209 - DM - MM ORANGE 33cl 0.86€</td><td>0.86</td><td>0.62</td><td>1.48</td><td>14.80</td></tr>",
                            "<tr><td>10</td><td>302 - Dallmayr Sweet 2 - 0.75€</td><td>1206 - DM - PERRIER 33cl 0.73€</td><td>0.73</td><td>0.75</td><td>1.48</td><td>14.80</td></tr>",
                            "<tr><td>10</td><td>302 - Dallmayr Sweet 2 - 0.75€</td><td>206 - DM - PERRIER 33cl 0.73€</td><td>0.73</td><td>0.75</td><td>1.48</td><td>14.80</td></tr>",
                            "<tr><td>10</td><td>1206 - DM - PERRIER 33cl 0.73€</td><td>302 - Dallmayr Sweet 2 - 0.75€</td><td>0.75</td><td>0.73</td><td>1.48</td><td>14.80</td></tr>",
                            "<tr><td>10</td><td>209 - DM - MM ORANGE 33cl 0.86€</td><td>212 - DM - COCA COLA ZERO 33cl 0.62€</td><td>0.62</td><td>0.86</td><td>1.48</td><td>14.80</td></tr>",
                            "<tr><td>10</td><td>206 - DM - PERRIER 33cl 0.73€</td><td>302 - Dallmayr Sweet 2 - 0.75€</td><td>0.75</td><td>0.73</td><td>1.48</td><td>14.80</td></tr>",
                            "<tr><td>10</td><td>206 - DM - PERRIER 33cl 0.73€</td><td>1206 - DM - PERRIER 33cl 0.73€</td><td>0.73</td><td>0.73</td><td>1.46</td><td>14.60</td></tr>",
                            "<tr><td>10</td><td>206 - DM - PERRIER 33cl 0.73€</td><td>206 - DM - PERRIER 33cl 0.73€</td><td>0.73</td><td>0.73</td><td>1.46</td><td>14.60</td></tr>",
                            "<tr><td>10</td><td>1206 - DM - PERRIER 33cl 0.73€</td><td>1206 - DM - PERRIER 33cl 0.73€</td><td>0.73</td><td>0.73</td><td>1.46</td><td>14.60</td></tr>",
                            "<tr><td>10</td><td>1206 - DM - PERRIER 33cl 0.73€</td><td>206 - DM - PERRIER 33cl 0.73€</td><td>0.73</td><td>0.73</td><td>1.46</td><td>14.60</td></tr>",
                            "<tr><td>10</td><td>303 - Dallmayr Sweet 3 - 0.80€</td><td>212 - DM - COCA COLA ZERO 33cl 0.62€</td><td>0.62</td><td>0.80</td><td>1.42</td><td>14.20</td></tr>",
                            "<tr><td>10</td><td>212 - DM - COCA COLA ZERO 33cl 0.62€</td><td>303 - Dallmayr Sweet 3 - 0.80€</td><td>0.80</td><td>0.62</td><td>1.42</td><td>14.20</td></tr>",
                            "<tr><td>10</td><td>301 - Dallmayr Sweet 1 - 0.70€</td><td>301 - Dallmayr Sweet 1 - 0.70€</td><td>0.70</td><td>0.70</td><td>1.40</td><td>14.00</td></tr>",
                            "<tr><td>10</td><td>304 - Dallmayr Sweet 4 - 0.85€</td><td>106 - COCA ZERO 1/4</td><td>0.53</td><td>0.85</td><td>1.38</td><td>13.80</td></tr>",
                            "<tr><td>10</td><td>304 - Dallmayr Sweet 4 - 0.85€</td><td>107 - ROSPORT 1/4</td><td>0.53</td><td>0.85</td><td>1.38</td><td>13.80</td></tr>",
                            "<tr><td>10</td><td>107 - ROSPORT 1/4</td><td>304 - Dallmayr Sweet 4 - 0.85€</td><td>0.85</td><td>0.53</td><td>1.38</td><td>13.80</td></tr>",
                            "<tr><td>10</td><td>106 - COCA ZERO 1/4</td><td>304 - Dallmayr Sweet 4 - 0.85€</td><td>0.85</td><td>0.53</td><td>1.38</td><td>13.80</td></tr>",
                            "<tr><td>10</td><td>301 - Dallmayr Sweet 1 - 0.70€</td><td>212 - DM - COCA COLA ZERO 33cl 0.62€</td><td>0.62</td><td>0.70</td><td>1.32</td><td>13.20</td></tr>",
                            "<tr><td>10</td><td>212 - DM - COCA COLA ZERO 33cl 0.62€</td><td>301 - Dallmayr Sweet 1 - 0.70€</td><td>0.70</td><td>0.62</td><td>1.32</td><td>13.20</td></tr>",
                            "<tr><td>10</td><td>302 - Dallmayr Sweet 2 - 0.75€</td><td>106 - COCA ZERO 1/4</td><td>0.53</td><td>0.75</td><td>1.28</td><td>12.80</td></tr>",
                            "<tr><td>10</td><td>302 - Dallmayr Sweet 2 - 0.75€</td><td>107 - ROSPORT 1/4</td><td>0.53</td><td>0.75</td><td>1.28</td><td>12.80</td></tr>",
                            "<tr><td>10</td><td>106 - COCA ZERO 1/4</td><td>302 - Dallmayr Sweet 2 - 0.75€</td><td>0.75</td><td>0.53</td><td>1.28</td><td>12.80</td></tr>",
                            "<tr><td>10</td><td>107 - ROSPORT 1/4</td><td>302 - Dallmayr Sweet 2 - 0.75€</td><td>0.75</td><td>0.53</td><td>1.28</td><td>12.80</td></tr>",
                            "<tr><td>10</td><td>107 - ROSPORT 1/4</td><td>1206 - DM - PERRIER 33cl 0.73€</td><td>0.73</td><td>0.53</td><td>1.26</td><td>12.60</td></tr>",
                            "<tr><td>10</td><td>107 - ROSPORT 1/4</td><td>206 - DM - PERRIER 33cl 0.73€</td><td>0.73</td><td>0.53</td><td>1.26</td><td>12.60</td></tr>",
                            "<tr><td>10</td><td>106 - COCA ZERO 1/4</td><td>1206 - DM - PERRIER 33cl 0.73€</td><td>0.73</td><td>0.53</td><td>1.26</td><td>12.60</td></tr>",
                            "<tr><td>10</td><td>106 - COCA ZERO 1/4</td><td>206 - DM - PERRIER 33cl 0.73€</td><td>0.73</td><td>0.53</td><td>1.26</td><td>12.60</td></tr>",
                            "<tr><td>10</td><td>1206 - DM - PERRIER 33cl 0.73€</td><td>106 - COCA ZERO 1/4</td><td>0.53</td><td>0.73</td><td>1.26</td><td>12.60</td></tr>",
                            "<tr><td>10</td><td>1206 - DM - PERRIER 33cl 0.73€</td><td>107 - ROSPORT 1/4</td><td>0.53</td><td>0.73</td><td>1.26</td><td>12.60</td></tr>",
                            "<tr><td>10</td><td>206 - DM - PERRIER 33cl 0.73€</td><td>106 - COCA ZERO 1/4</td><td>0.53</td><td>0.73</td><td>1.26</td><td>12.60</td></tr>",
                            "<tr><td>10</td><td>206 - DM - PERRIER 33cl 0.73€</td><td>107 - ROSPORT 1/4</td><td>0.53</td><td>0.73</td><td>1.26</td><td>12.60</td></tr>",
                            "<tr><td>10</td><td>212 - DM - COCA COLA ZERO 33cl 0.62€</td><td>212 - DM - COCA COLA ZERO 33cl 0.62€</td><td>0.62</td><td>0.62</td><td>1.24</td><td>12.40</td></tr>",
                            "<tr><td>10</td><td>106 - COCA ZERO 1/4</td><td>106 - COCA ZERO 1/4</td><td>0.53</td><td>0.53</td><td>1.06</td><td>10.60</td></tr>",
                            "<tr><td>10</td><td>106 - COCA ZERO 1/4</td><td>107 - ROSPORT 1/4</td><td>0.53</td><td>0.53</td><td>1.06</td><td>10.60</td></tr>",
                            "<tr><td>10</td><td>107 - ROSPORT 1/4</td><td>106 - COCA ZERO 1/4</td><td>0.53</td><td>0.53</td><td>1.06</td><td>10.60</td></tr>",
                            "<tr><td>10</td><td>107 - ROSPORT 1/4</td><td>107 - ROSPORT 1/4</td><td>0.53</td><td>0.53</td><td>1.06</td><td>10.60</td></tr>",
                            "</table>"
                        ]
                    }
                }
            ],
            "execution_count": 24
        }
    ]
}