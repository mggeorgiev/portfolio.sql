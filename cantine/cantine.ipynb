{
    "metadata": {
        "kernelspec": {
            "name": "SQL",
            "display_name": "SQL",
            "language": "sql"
        },
        "language_info": {
            "name": "sql",
            "version": ""
        }
    },
    "nbformat_minor": 2,
    "nbformat": 4,
    "cells": [
        {
            "cell_type": "code",
            "source": [
                "USE TEMPDB;\r\n",
                "GO\r\n",
                "\r\n",
                "-- Create a new table called '[items]' in schema '[dbo]'\r\n",
                "-- Drop the table if it already exists\r\n",
                "IF OBJECT_ID('[dbo].[items]', 'U') IS NOT NULL\r\n",
                "DROP TABLE [dbo].[items]\r\n",
                "GO\r\n",
                "-- Create the table in the specified schema\r\n",
                "CREATE TABLE [dbo].[items]\r\n",
                "(\r\n",
                "    [Id] INT Identity(1,1), -- Primary Key column\r\n",
                "    [name] NVARCHAR(50) NOT NULL,\r\n",
                "    [unitPrice] NUMERIC(5,2),\r\n",
                "    [type] NVARCHAR(50) NOT NULL\r\n",
                "    -- Specify more columns here\r\n",
                ");\r\n",
                "GO\r\n",
                "\r\n",
                "-- Create a new table called '[banknotes]' in schema '[dbo]'\r\n",
                "-- Drop the table if it already exists\r\n",
                "IF OBJECT_ID('[dbo].[banknotes]', 'U') IS NOT NULL\r\n",
                "DROP TABLE [dbo].[banknotes]\r\n",
                "GO\r\n",
                "-- Create the table in the specified schema\r\n",
                "CREATE TABLE [dbo].[banknotes]\r\n",
                "(\r\n",
                "    [Id] INT identity(1,1), -- Primary Key column\r\n",
                "    [banknote] INT NOT NULL\r\n",
                ");\r\n",
                "GO"
            ],
            "metadata": {
                "azdata_cell_guid": "1b4b8d61-1bc6-46fb-bfbd-2ae77925558b",
                "language": "sql",
                "tags": []
            },
            "outputs": [
                {
                    "output_type": "display_data",
                    "data": {
                        "text/html": "Commands completed successfully."
                    },
                    "metadata": {}
                },
                {
                    "output_type": "display_data",
                    "data": {
                        "text/html": "Commands completed successfully."
                    },
                    "metadata": {}
                },
                {
                    "output_type": "display_data",
                    "data": {
                        "text/html": "Commands completed successfully."
                    },
                    "metadata": {}
                },
                {
                    "output_type": "display_data",
                    "data": {
                        "text/html": "Commands completed successfully."
                    },
                    "metadata": {}
                },
                {
                    "output_type": "display_data",
                    "data": {
                        "text/html": "Commands completed successfully."
                    },
                    "metadata": {}
                },
                {
                    "output_type": "display_data",
                    "data": {
                        "text/html": "Total execution time: 00:00:00.419"
                    },
                    "metadata": {}
                }
            ],
            "execution_count": 25
        },
        {
            "cell_type": "code",
            "source": [
                "USE tempdb;\r\n",
                "GO\r\n",
                "\r\n",
                "INSERT INTO [dbo].[banknotes] ([banknote]) VALUES (5);\r\n",
                "INSERT INTO [dbo].[banknotes] ([banknote]) VALUES (10);\r\n",
                "INSERT INTO [dbo].[banknotes] ([banknote]) VALUES (20);\r\n",
                "INSERT INTO [dbo].[banknotes] ([banknote]) VALUES (50);\r\n",
                "GO\r\n",
                "\r\n",
                "INSERT INTO [dbo].[items] ([name], [unitPrice], [type]) VALUES ('Menu du jour', 7.43,'external');\r\n",
                "INSERT INTO [dbo].[items] ([name], [unitPrice], [type]) VALUES ('Menu du chef', 9.86,'external');\r\n",
                "INSERT INTO [dbo].[items] ([name], [unitPrice], [type]) VALUES ('Menu clin d''oeil', 11.53,'external');\r\n",
                "INSERT INTO [dbo].[items] ([name], [unitPrice], [type]) VALUES ('Menu gourmet', 15.73,'external');\r\n",
                "INSERT INTO [dbo].[items] ([name], [unitPrice], [type]) VALUES ('Menu de Noel', 12.93,'external');\r\n",
                "INSERT INTO [dbo].[items] ([name], [unitPrice], [type]) VALUES ('Menu Action', 10.57,'external');\r\n",
                "INSERT INTO [dbo].[items] ([name], [unitPrice], [type]) VALUES ('Suplement', 1.09,'external');\r\n",
                "INSERT INTO [dbo].[items] ([name], [unitPrice], [type]) VALUES ('Viennoiserie', 0.92,'external');\r\n",
                "INSERT INTO [dbo].[items] ([name], [unitPrice], [type]) VALUES ('Sandwich', 1.8,'external');\r\n",
                "GO\r\n",
                "\r\n",
                "select * from [dbo].[items];\r\n",
                "\r\n",
                "SELECT \r\n",
                "    [Id], [name], [unitPrice], [type]\r\n",
                "    ,CAST((unitPrice) AS INT) AS intUnitPrice\r\n",
                "    ,[unitPrice] % CAST((unitPrice) AS INT) AS Modulo\r\n",
                "FROM [dbo].[items];\r\n",
                "GO"
            ],
            "metadata": {
                "language": "sql",
                "azdata_cell_guid": "b8e91019-410c-4fc5-a1d0-be91c36df81c"
            },
            "outputs": [
{
    "output_type": "display_data",
    "data": {
        "text/html": "Commands completed successfully."
    },
    "metadata": {}
}, {
    "output_type": "display_data",
    "data": {
        "text/html": "(1 row affected)"
    },
    "metadata": {}
}, {
    "output_type": "display_data",
    "data": {
        "text/html": "(1 row affected)"
    },
    "metadata": {}
}, {
    "output_type": "display_data",
    "data": {
        "text/html": "(1 row affected)"
    },
    "metadata": {}
}, {
    "output_type": "display_data",
    "data": {
        "text/html": "(1 row affected)"
    },
    "metadata": {}
}, {
    "output_type": "display_data",
    "data": {
        "text/html": "(1 row affected)"
    },
    "metadata": {}
}, {
    "output_type": "display_data",
    "data": {
        "text/html": "(1 row affected)"
    },
    "metadata": {}
}, {
    "output_type": "display_data",
    "data": {
        "text/html": "(1 row affected)"
    },
    "metadata": {}
}, {
    "output_type": "display_data",
    "data": {
        "text/html": "(1 row affected)"
    },
    "metadata": {}
}, {
    "output_type": "display_data",
    "data": {
        "text/html": "(1 row affected)"
    },
    "metadata": {}
}, {
    "output_type": "display_data",
    "data": {
        "text/html": "(1 row affected)"
    },
    "metadata": {}
}, {
    "output_type": "display_data",
    "data": {
        "text/html": "(1 row affected)"
    },
    "metadata": {}
}, {
    "output_type": "display_data",
    "data": {
        "text/html": "(1 row affected)"
    },
    "metadata": {}
}, {
    "output_type": "display_data",
    "data": {
        "text/html": "(1 row affected)"
    },
    "metadata": {}
}, {
    "output_type": "display_data",
    "data": {
        "text/html": "(9 rows affected)"
    },
    "metadata": {}
}, {
    "output_type": "display_data",
    "data": {
        "text/html": "Total execution time: 00:00:00.409"
    },
    "metadata": {}
}, {
    "output_type": "execute_result",
    "metadata": {},
    "execution_count": 26,
    "data": {
        "application/vnd.dataresource+json": {
            "schema": {
                "fields": [
                    {
                        "name": "Id"
                    },
                    {
                        "name": "name"
                    },
                    {
                        "name": "unitPrice"
                    },
                    {
                        "name": "type"
                    }
                ]
            },
            "data": [
                {
                    "0": "1",
                    "1": "Menu du jour",
                    "2": "7.43",
                    "3": "external"
                },
                {
                    "0": "2",
                    "1": "Menu du chef",
                    "2": "9.86",
                    "3": "external"
                },
                {
                    "0": "3",
                    "1": "Menu clin d'oeil",
                    "2": "11.53",
                    "3": "external"
                },
                {
                    "0": "4",
                    "1": "Menu gourmet",
                    "2": "15.73",
                    "3": "external"
                },
                {
                    "0": "5",
                    "1": "Menu de Noel",
                    "2": "12.93",
                    "3": "external"
                },
                {
                    "0": "6",
                    "1": "Menu Action",
                    "2": "10.57",
                    "3": "external"
                },
                {
                    "0": "7",
                    "1": "Suplement",
                    "2": "1.09",
                    "3": "external"
                },
                {
                    "0": "8",
                    "1": "Viennoiserie",
                    "2": "0.92",
                    "3": "external"
                },
                {
                    "0": "9",
                    "1": "Sandwich",
                    "2": "1.80",
                    "3": "external"
                }
            ]
        },
        "text/html": [
            "<table>",
            "<tr><th>Id</th><th>name</th><th>unitPrice</th><th>type</th></tr>",
            "<tr><td>1</td><td>Menu du jour</td><td>7.43</td><td>external</td></tr>",
            "<tr><td>2</td><td>Menu du chef</td><td>9.86</td><td>external</td></tr>",
            "<tr><td>3</td><td>Menu clin d'oeil</td><td>11.53</td><td>external</td></tr>",
            "<tr><td>4</td><td>Menu gourmet</td><td>15.73</td><td>external</td></tr>",
            "<tr><td>5</td><td>Menu de Noel</td><td>12.93</td><td>external</td></tr>",
            "<tr><td>6</td><td>Menu Action</td><td>10.57</td><td>external</td></tr>",
            "<tr><td>7</td><td>Suplement</td><td>1.09</td><td>external</td></tr>",
            "<tr><td>8</td><td>Viennoiserie</td><td>0.92</td><td>external</td></tr>",
            "<tr><td>9</td><td>Sandwich</td><td>1.80</td><td>external</td></tr>",
            "</table>"
        ]
    }
}, {
    "output_type": "execute_result",
    "metadata": {},
    "execution_count": 26,
    "data": {
        "application/vnd.dataresource+json": {
            "schema": {
                "fields": [
                    {
                        "name": "Id"
                    },
                    {
                        "name": "name"
                    },
                    {
                        "name": "unitPrice"
                    },
                    {
                        "name": "type"
                    },
                    {
                        "name": "intUnitPrice"
                    },
                    {
                        "name": "Modulo"
                    }
                ]
            },
            "data": [
                {
                    "0": "1",
                    "1": "Menu du jour",
                    "2": "7.43",
                    "3": "external",
                    "4": "7",
                    "5": "0.43"
                },
                {
                    "0": "2",
                    "1": "Menu du chef",
                    "2": "9.86",
                    "3": "external",
                    "4": "9",
                    "5": "0.86"
                },
                {
                    "0": "3",
                    "1": "Menu clin d'oeil",
                    "2": "11.53",
                    "3": "external",
                    "4": "11",
                    "5": "0.53"
                },
                {
                    "0": "4",
                    "1": "Menu gourmet",
                    "2": "15.73",
                    "3": "external",
                    "4": "15",
                    "5": "0.73"
                },
                {
                    "0": "5",
                    "1": "Menu de Noel",
                    "2": "12.93",
                    "3": "external",
                    "4": "12",
                    "5": "0.93"
                },
                {
                    "0": "6",
                    "1": "Menu Action",
                    "2": "10.57",
                    "3": "external",
                    "4": "10",
                    "5": "0.57"
                },
                {
                    "0": "7",
                    "1": "Suplement",
                    "2": "1.09",
                    "3": "external",
                    "4": "1",
                    "5": "0.09"
                }
            ]
        },
        "text/html": [
            "<table>",
            "<tr><th>Id</th><th>name</th><th>unitPrice</th><th>type</th><th>intUnitPrice</th><th>Modulo</th></tr>",
            "<tr><td>1</td><td>Menu du jour</td><td>7.43</td><td>external</td><td>7</td><td>0.43</td></tr>",
            "<tr><td>2</td><td>Menu du chef</td><td>9.86</td><td>external</td><td>9</td><td>0.86</td></tr>",
            "<tr><td>3</td><td>Menu clin d'oeil</td><td>11.53</td><td>external</td><td>11</td><td>0.53</td></tr>",
            "<tr><td>4</td><td>Menu gourmet</td><td>15.73</td><td>external</td><td>15</td><td>0.73</td></tr>",
            "<tr><td>5</td><td>Menu de Noel</td><td>12.93</td><td>external</td><td>12</td><td>0.93</td></tr>",
            "<tr><td>6</td><td>Menu Action</td><td>10.57</td><td>external</td><td>10</td><td>0.57</td></tr>",
            "<tr><td>7</td><td>Suplement</td><td>1.09</td><td>external</td><td>1</td><td>0.09</td></tr>",
            "</table>"
        ]
    }
}, {
    "output_type": "error",
    "evalue": "Msg 8134, Level 16, State 1, Line 23\r\nDivide by zero error encountered.",
    "ename": "",
    "traceback": []
}
],
            "execution_count": 26
        },
        {
            "cell_type": "code",
            "source": [
                "use tempdb;\r\n",
                "GO\r\n",
                "\r\n",
                "SELECT\r\n",
                "    t2.name\r\n",
                "    ,t1.name\r\n",
                "    ,t1.unitPrice + t2.unitPrice as combo_price\r\n",
                "    ,2*(t1.unitPrice + t2.unitPrice) as combo_price2\r\n",
                "    ,3*(t1.unitPrice + t2.unitPrice) as combo_price3\r\n",
                "    ,4*(t1.unitPrice + t2.unitPrice) as combo_price4\r\n",
                "FROM\r\n",
                "    [dbo].[items] t1\r\n",
                "CROSS JOIN [dbo].[items] t2 \r\n",
                "ORDER BY t2.name, t1.name, combo_price;\r\n",
                "GO\r\n",
                "\r\n",
                "-- SELECT\r\n",
                "--     t2.name, t1.name, t1.price + t2.price as price\r\n",
                "-- FROM\r\n",
                "--     [dbo].[items] t1\r\n",
                "-- CROSS JOIN [dbo].[items] t2 ;"
            ],
            "metadata": {
                "language": "sql",
                "azdata_cell_guid": "48c3c35a-87fe-4b16-aa1e-fc18c49c80a0"
            },
            "outputs": [
                {
                    "output_type": "display_data",
                    "data": {
                        "text/html": "Commands completed successfully."
                    },
                    "metadata": {}
                },
                {
                    "output_type": "display_data",
                    "data": {
                        "text/html": "(729 rows affected)"
                    },
                    "metadata": {}
                },
                {
                    "output_type": "display_data",
                    "data": {
                        "text/html": "Commands completed successfully."
                    },
                    "metadata": {}
                },
                {
                    "output_type": "display_data",
                    "data": {
                        "text/html": "Total execution time: 00:00:00.309"
                    },
                    "metadata": {}
                },
                {
                    "output_type": "execute_result",
                    "metadata": {},
                    "execution_count": 19,
                    "data": {
                        "application/vnd.dataresource+json": {
                            "schema": {
                                "fields": [
                                    {
                                        "name": "name"
                                    },
                                    {
                                        "name": "name"
                                    },
                                    {
                                        "name": "combo_price"
                                    },
                                    {
                                        "name": "combo_price2"
                                    },
                                    {
                                        "name": "combo_price3"
                                    },
                                    {
                                        "name": "combo_price4"
                                    }
                                ]
                            },
                            "data": [
                                {
                                    "0": "Menu Action",
                                    "1": "Menu Action",
                                    "2": "21.14",
                                    "3": "42.28",
                                    "4": "63.42",
                                    "5": "84.56"
                                },
                                {
                                    "0": "Menu Action",
                                    "1": "Menu Action",
                                    "2": "21.14",
                                    "3": "42.28",
                                    "4": "63.42",
                                    "5": "84.56"
                                },
                                {
                                    "0": "Menu Action",
                                    "1": "Menu Action",
                                    "2": "21.14",
                                    "3": "42.28",
                                    "4": "63.42",
                                    "5": "84.56"
                                },
                                {
                                    "0": "Menu Action",
                                    "1": "Menu Action",
                                    "2": "21.14",
                                    "3": "42.28",
                                    "4": "63.42",
                                    "5": "84.56"
                                },
                                {
                                    "0": "Menu Action",
                                    "1": "Menu Action",
                                    "2": "21.14",
                                    "3": "42.28",
                                    "4": "63.42",
                                    "5": "84.56"
                                },
                                {
                                    "0": "Menu Action",
                                    "1": "Menu Action",
                                    "2": "21.14",
                                    "3": "42.28",
                                    "4": "63.42",
                                    "5": "84.56"
                                },
                                {
                                    "0": "Menu Action",
                                    "1": "Menu Action",
                                    "2": "21.14",
                                    "3": "42.28",
                                    "4": "63.42",
                                    "5": "84.56"
                                },
                                {
                                    "0": "Menu Action",
                                    "1": "Menu Action",
                                    "2": "21.14",
                                    "3": "42.28",
                                    "4": "63.42",
                                    "5": "84.56"
                                },
                                {
                                    "0": "Menu Action",
                                    "1": "Menu Action",
                                    "2": "21.14",
                                    "3": "42.28",
                                    "4": "63.42",
                                    "5": "84.56"
                                },
                                {
                                    "0": "Menu Action",
                                    "1": "Menu clin d'oeil",
                                    "2": "22.10",
                                    "3": "44.20",
                                    "4": "66.30",
                                    "5": "88.40"
                                },
                                {
                                    "0": "Menu Action",
                                    "1": "Menu clin d'oeil",
                                    "2": "22.10",
                                    "3": "44.20",
                                    "4": "66.30",
                                    "5": "88.40"
                                },
                                {
                                    "0": "Menu Action",
                                    "1": "Menu clin d'oeil",
                                    "2": "22.10",
                                    "3": "44.20",
                                    "4": "66.30",
                                    "5": "88.40"
                                },
                                {
                                    "0": "Menu Action",
                                    "1": "Menu clin d'oeil",
                                    "2": "22.10",
                                    "3": "44.20",
                                    "4": "66.30",
                                    "5": "88.40"
                                },
                                {
                                    "0": "Menu Action",
                                    "1": "Menu clin d'oeil",
                                    "2": "22.10",
                                    "3": "44.20",
                                    "4": "66.30",
                                    "5": "88.40"
                                },
                                {
                                    "0": "Menu Action",
                                    "1": "Menu clin d'oeil",
                                    "2": "22.10",
                                    "3": "44.20",
                                    "4": "66.30",
                                    "5": "88.40"
                                },
                                {
                                    "0": "Menu Action",
                                    "1": "Menu clin d'oeil",
                                    "2": "22.10",
                                    "3": "44.20",
                                    "4": "66.30",
                                    "5": "88.40"
                                },
                                {
                                    "0": "Menu Action",
                                    "1": "Menu clin d'oeil",
                                    "2": "22.10",
                                    "3": "44.20",
                                    "4": "66.30",
                                    "5": "88.40"
                                },
                                {
                                    "0": "Menu Action",
                                    "1": "Menu clin d'oeil",
                                    "2": "22.10",
                                    "3": "44.20",
                                    "4": "66.30",
                                    "5": "88.40"
                                },
                                {
                                    "0": "Menu Action",
                                    "1": "Menu de Noel",
                                    "2": "23.50",
                                    "3": "47.00",
                                    "4": "70.50",
                                    "5": "94.00"
                                },
                                {
                                    "0": "Menu Action",
                                    "1": "Menu de Noel",
                                    "2": "23.50",
                                    "3": "47.00",
                                    "4": "70.50",
                                    "5": "94.00"
                                },
                                {
                                    "0": "Menu Action",
                                    "1": "Menu de Noel",
                                    "2": "23.50",
                                    "3": "47.00",
                                    "4": "70.50",
                                    "5": "94.00"
                                },
                                {
                                    "0": "Menu Action",
                                    "1": "Menu de Noel",
                                    "2": "23.50",
                                    "3": "47.00",
                                    "4": "70.50",
                                    "5": "94.00"
                                },
                                {
                                    "0": "Menu Action",
                                    "1": "Menu de Noel",
                                    "2": "23.50",
                                    "3": "47.00",
                                    "4": "70.50",
                                    "5": "94.00"
                                },
                                {
                                    "0": "Menu Action",
                                    "1": "Menu de Noel",
                                    "2": "23.50",
                                    "3": "47.00",
                                    "4": "70.50",
                                    "5": "94.00"
                                },
                                {
                                    "0": "Menu Action",
                                    "1": "Menu de Noel",
                                    "2": "23.50",
                                    "3": "47.00",
                                    "4": "70.50",
                                    "5": "94.00"
                                },
                                {
                                    "0": "Menu Action",
                                    "1": "Menu de Noel",
                                    "2": "23.50",
                                    "3": "47.00",
                                    "4": "70.50",
                                    "5": "94.00"
                                },
                                {
                                    "0": "Menu Action",
                                    "1": "Menu de Noel",
                                    "2": "23.50",
                                    "3": "47.00",
                                    "4": "70.50",
                                    "5": "94.00"
                                },
                                {
                                    "0": "Menu Action",
                                    "1": "Menu du chef",
                                    "2": "20.43",
                                    "3": "40.86",
                                    "4": "61.29",
                                    "5": "81.72"
                                },
                                {
                                    "0": "Menu Action",
                                    "1": "Menu du chef",
                                    "2": "20.43",
                                    "3": "40.86",
                                    "4": "61.29",
                                    "5": "81.72"
                                },
                                {
                                    "0": "Menu Action",
                                    "1": "Menu du chef",
                                    "2": "20.43",
                                    "3": "40.86",
                                    "4": "61.29",
                                    "5": "81.72"
                                },
                                {
                                    "0": "Menu Action",
                                    "1": "Menu du chef",
                                    "2": "20.43",
                                    "3": "40.86",
                                    "4": "61.29",
                                    "5": "81.72"
                                },
                                {
                                    "0": "Menu Action",
                                    "1": "Menu du chef",
                                    "2": "20.43",
                                    "3": "40.86",
                                    "4": "61.29",
                                    "5": "81.72"
                                },
                                {
                                    "0": "Menu Action",
                                    "1": "Menu du chef",
                                    "2": "20.43",
                                    "3": "40.86",
                                    "4": "61.29",
                                    "5": "81.72"
                                },
                                {
                                    "0": "Menu Action",
                                    "1": "Menu du chef",
                                    "2": "20.43",
                                    "3": "40.86",
                                    "4": "61.29",
                                    "5": "81.72"
                                },
                                {
                                    "0": "Menu Action",
                                    "1": "Menu du chef",
                                    "2": "20.43",
                                    "3": "40.86",
                                    "4": "61.29",
                                    "5": "81.72"
                                },
                                {
                                    "0": "Menu Action",
                                    "1": "Menu du chef",
                                    "2": "20.43",
                                    "3": "40.86",
                                    "4": "61.29",
                                    "5": "81.72"
                                },
                                {
                                    "0": "Menu Action",
                                    "1": "Menu du jour",
                                    "2": "18.00",
                                    "3": "36.00",
                                    "4": "54.00",
                                    "5": "72.00"
                                },
                                {
                                    "0": "Menu Action",
                                    "1": "Menu du jour",
                                    "2": "18.00",
                                    "3": "36.00",
                                    "4": "54.00",
                                    "5": "72.00"
                                },
                                {
                                    "0": "Menu Action",
                                    "1": "Menu du jour",
                                    "2": "18.00",
                                    "3": "36.00",
                                    "4": "54.00",
                                    "5": "72.00"
                                },
                                {
                                    "0": "Menu Action",
                                    "1": "Menu du jour",
                                    "2": "18.00",
                                    "3": "36.00",
                                    "4": "54.00",
                                    "5": "72.00"
                                },
                                {
                                    "0": "Menu Action",
                                    "1": "Menu du jour",
                                    "2": "18.00",
                                    "3": "36.00",
                                    "4": "54.00",
                                    "5": "72.00"
                                },
                                {
                                    "0": "Menu Action",
                                    "1": "Menu du jour",
                                    "2": "18.00",
                                    "3": "36.00",
                                    "4": "54.00",
                                    "5": "72.00"
                                },
                                {
                                    "0": "Menu Action",
                                    "1": "Menu du jour",
                                    "2": "18.00",
                                    "3": "36.00",
                                    "4": "54.00",
                                    "5": "72.00"
                                },
                                {
                                    "0": "Menu Action",
                                    "1": "Menu du jour",
                                    "2": "18.00",
                                    "3": "36.00",
                                    "4": "54.00",
                                    "5": "72.00"
                                },
                                {
                                    "0": "Menu Action",
                                    "1": "Menu du jour",
                                    "2": "18.00",
                                    "3": "36.00",
                                    "4": "54.00",
                                    "5": "72.00"
                                },
                                {
                                    "0": "Menu Action",
                                    "1": "Menu gourmet",
                                    "2": "26.30",
                                    "3": "52.60",
                                    "4": "78.90",
                                    "5": "105.20"
                                },
                                {
                                    "0": "Menu Action",
                                    "1": "Menu gourmet",
                                    "2": "26.30",
                                    "3": "52.60",
                                    "4": "78.90",
                                    "5": "105.20"
                                },
                                {
                                    "0": "Menu Action",
                                    "1": "Menu gourmet",
                                    "2": "26.30",
                                    "3": "52.60",
                                    "4": "78.90",
                                    "5": "105.20"
                                },
                                {
                                    "0": "Menu Action",
                                    "1": "Menu gourmet",
                                    "2": "26.30",
                                    "3": "52.60",
                                    "4": "78.90",
                                    "5": "105.20"
                                },
                                {
                                    "0": "Menu Action",
                                    "1": "Menu gourmet",
                                    "2": "26.30",
                                    "3": "52.60",
                                    "4": "78.90",
                                    "5": "105.20"
                                },
                                {
                                    "0": "Menu Action",
                                    "1": "Menu gourmet",
                                    "2": "26.30",
                                    "3": "52.60",
                                    "4": "78.90",
                                    "5": "105.20"
                                },
                                {
                                    "0": "Menu Action",
                                    "1": "Menu gourmet",
                                    "2": "26.30",
                                    "3": "52.60",
                                    "4": "78.90",
                                    "5": "105.20"
                                },
                                {
                                    "0": "Menu Action",
                                    "1": "Menu gourmet",
                                    "2": "26.30",
                                    "3": "52.60",
                                    "4": "78.90",
                                    "5": "105.20"
                                },
                                {
                                    "0": "Menu Action",
                                    "1": "Menu gourmet",
                                    "2": "26.30",
                                    "3": "52.60",
                                    "4": "78.90",
                                    "5": "105.20"
                                },
                                {
                                    "0": "Menu Action",
                                    "1": "Sandwich",
                                    "2": "12.37",
                                    "3": "24.74",
                                    "4": "37.11",
                                    "5": "49.48"
                                },
                                {
                                    "0": "Menu Action",
                                    "1": "Sandwich",
                                    "2": "12.37",
                                    "3": "24.74",
                                    "4": "37.11",
                                    "5": "49.48"
                                },
                                {
                                    "0": "Menu Action",
                                    "1": "Sandwich",
                                    "2": "12.37",
                                    "3": "24.74",
                                    "4": "37.11",
                                    "5": "49.48"
                                },
                                {
                                    "0": "Menu Action",
                                    "1": "Sandwich",
                                    "2": "12.37",
                                    "3": "24.74",
                                    "4": "37.11",
                                    "5": "49.48"
                                },
                                {
                                    "0": "Menu Action",
                                    "1": "Sandwich",
                                    "2": "12.37",
                                    "3": "24.74",
                                    "4": "37.11",
                                    "5": "49.48"
                                },
                                {
                                    "0": "Menu Action",
                                    "1": "Sandwich",
                                    "2": "12.37",
                                    "3": "24.74",
                                    "4": "37.11",
                                    "5": "49.48"
                                },
                                {
                                    "0": "Menu Action",
                                    "1": "Sandwich",
                                    "2": "12.37",
                                    "3": "24.74",
                                    "4": "37.11",
                                    "5": "49.48"
                                },
                                {
                                    "0": "Menu Action",
                                    "1": "Sandwich",
                                    "2": "12.37",
                                    "3": "24.74",
                                    "4": "37.11",
                                    "5": "49.48"
                                },
                                {
                                    "0": "Menu Action",
                                    "1": "Sandwich",
                                    "2": "12.37",
                                    "3": "24.74",
                                    "4": "37.11",
                                    "5": "49.48"
                                },
                                {
                                    "0": "Menu Action",
                                    "1": "Suplement",
                                    "2": "11.66",
                                    "3": "23.32",
                                    "4": "34.98",
                                    "5": "46.64"
                                },
                                {
                                    "0": "Menu Action",
                                    "1": "Suplement",
                                    "2": "11.66",
                                    "3": "23.32",
                                    "4": "34.98",
                                    "5": "46.64"
                                },
                                {
                                    "0": "Menu Action",
                                    "1": "Suplement",
                                    "2": "11.66",
                                    "3": "23.32",
                                    "4": "34.98",
                                    "5": "46.64"
                                },
                                {
                                    "0": "Menu Action",
                                    "1": "Suplement",
                                    "2": "11.66",
                                    "3": "23.32",
                                    "4": "34.98",
                                    "5": "46.64"
                                },
                                {
                                    "0": "Menu Action",
                                    "1": "Suplement",
                                    "2": "11.66",
                                    "3": "23.32",
                                    "4": "34.98",
                                    "5": "46.64"
                                },
                                {
                                    "0": "Menu Action",
                                    "1": "Suplement",
                                    "2": "11.66",
                                    "3": "23.32",
                                    "4": "34.98",
                                    "5": "46.64"
                                },
                                {
                                    "0": "Menu Action",
                                    "1": "Suplement",
                                    "2": "11.66",
                                    "3": "23.32",
                                    "4": "34.98",
                                    "5": "46.64"
                                },
                                {
                                    "0": "Menu Action",
                                    "1": "Suplement",
                                    "2": "11.66",
                                    "3": "23.32",
                                    "4": "34.98",
                                    "5": "46.64"
                                },
                                {
                                    "0": "Menu Action",
                                    "1": "Suplement",
                                    "2": "11.66",
                                    "3": "23.32",
                                    "4": "34.98",
                                    "5": "46.64"
                                },
                                {
                                    "0": "Menu Action",
                                    "1": "Viennoiserie",
                                    "2": "11.49",
                                    "3": "22.98",
                                    "4": "34.47",
                                    "5": "45.96"
                                },
                                {
                                    "0": "Menu Action",
                                    "1": "Viennoiserie",
                                    "2": "11.49",
                                    "3": "22.98",
                                    "4": "34.47",
                                    "5": "45.96"
                                },
                                {
                                    "0": "Menu Action",
                                    "1": "Viennoiserie",
                                    "2": "11.49",
                                    "3": "22.98",
                                    "4": "34.47",
                                    "5": "45.96"
                                },
                                {
                                    "0": "Menu Action",
                                    "1": "Viennoiserie",
                                    "2": "11.49",
                                    "3": "22.98",
                                    "4": "34.47",
                                    "5": "45.96"
                                },
                                {
                                    "0": "Menu Action",
                                    "1": "Viennoiserie",
                                    "2": "11.49",
                                    "3": "22.98",
                                    "4": "34.47",
                                    "5": "45.96"
                                },
                                {
                                    "0": "Menu Action",
                                    "1": "Viennoiserie",
                                    "2": "11.49",
                                    "3": "22.98",
                                    "4": "34.47",
                                    "5": "45.96"
                                },
                                {
                                    "0": "Menu Action",
                                    "1": "Viennoiserie",
                                    "2": "11.49",
                                    "3": "22.98",
                                    "4": "34.47",
                                    "5": "45.96"
                                },
                                {
                                    "0": "Menu Action",
                                    "1": "Viennoiserie",
                                    "2": "11.49",
                                    "3": "22.98",
                                    "4": "34.47",
                                    "5": "45.96"
                                },
                                {
                                    "0": "Menu Action",
                                    "1": "Viennoiserie",
                                    "2": "11.49",
                                    "3": "22.98",
                                    "4": "34.47",
                                    "5": "45.96"
                                },
                                {
                                    "0": "Menu clin d'oeil",
                                    "1": "Menu Action",
                                    "2": "22.10",
                                    "3": "44.20",
                                    "4": "66.30",
                                    "5": "88.40"
                                },
                                {
                                    "0": "Menu clin d'oeil",
                                    "1": "Menu Action",
                                    "2": "22.10",
                                    "3": "44.20",
                                    "4": "66.30",
                                    "5": "88.40"
                                },
                                {
                                    "0": "Menu clin d'oeil",
                                    "1": "Menu Action",
                                    "2": "22.10",
                                    "3": "44.20",
                                    "4": "66.30",
                                    "5": "88.40"
                                },
                                {
                                    "0": "Menu clin d'oeil",
                                    "1": "Menu Action",
                                    "2": "22.10",
                                    "3": "44.20",
                                    "4": "66.30",
                                    "5": "88.40"
                                },
                                {
                                    "0": "Menu clin d'oeil",
                                    "1": "Menu Action",
                                    "2": "22.10",
                                    "3": "44.20",
                                    "4": "66.30",
                                    "5": "88.40"
                                },
                                {
                                    "0": "Menu clin d'oeil",
                                    "1": "Menu Action",
                                    "2": "22.10",
                                    "3": "44.20",
                                    "4": "66.30",
                                    "5": "88.40"
                                },
                                {
                                    "0": "Menu clin d'oeil",
                                    "1": "Menu Action",
                                    "2": "22.10",
                                    "3": "44.20",
                                    "4": "66.30",
                                    "5": "88.40"
                                },
                                {
                                    "0": "Menu clin d'oeil",
                                    "1": "Menu Action",
                                    "2": "22.10",
                                    "3": "44.20",
                                    "4": "66.30",
                                    "5": "88.40"
                                },
                                {
                                    "0": "Menu clin d'oeil",
                                    "1": "Menu Action",
                                    "2": "22.10",
                                    "3": "44.20",
                                    "4": "66.30",
                                    "5": "88.40"
                                },
                                {
                                    "0": "Menu clin d'oeil",
                                    "1": "Menu clin d'oeil",
                                    "2": "23.06",
                                    "3": "46.12",
                                    "4": "69.18",
                                    "5": "92.24"
                                },
                                {
                                    "0": "Menu clin d'oeil",
                                    "1": "Menu clin d'oeil",
                                    "2": "23.06",
                                    "3": "46.12",
                                    "4": "69.18",
                                    "5": "92.24"
                                },
                                {
                                    "0": "Menu clin d'oeil",
                                    "1": "Menu clin d'oeil",
                                    "2": "23.06",
                                    "3": "46.12",
                                    "4": "69.18",
                                    "5": "92.24"
                                },
                                {
                                    "0": "Menu clin d'oeil",
                                    "1": "Menu clin d'oeil",
                                    "2": "23.06",
                                    "3": "46.12",
                                    "4": "69.18",
                                    "5": "92.24"
                                },
                                {
                                    "0": "Menu clin d'oeil",
                                    "1": "Menu clin d'oeil",
                                    "2": "23.06",
                                    "3": "46.12",
                                    "4": "69.18",
                                    "5": "92.24"
                                },
                                {
                                    "0": "Menu clin d'oeil",
                                    "1": "Menu clin d'oeil",
                                    "2": "23.06",
                                    "3": "46.12",
                                    "4": "69.18",
                                    "5": "92.24"
                                },
                                {
                                    "0": "Menu clin d'oeil",
                                    "1": "Menu clin d'oeil",
                                    "2": "23.06",
                                    "3": "46.12",
                                    "4": "69.18",
                                    "5": "92.24"
                                },
                                {
                                    "0": "Menu clin d'oeil",
                                    "1": "Menu clin d'oeil",
                                    "2": "23.06",
                                    "3": "46.12",
                                    "4": "69.18",
                                    "5": "92.24"
                                },
                                {
                                    "0": "Menu clin d'oeil",
                                    "1": "Menu clin d'oeil",
                                    "2": "23.06",
                                    "3": "46.12",
                                    "4": "69.18",
                                    "5": "92.24"
                                },
                                {
                                    "0": "Menu clin d'oeil",
                                    "1": "Menu de Noel",
                                    "2": "24.46",
                                    "3": "48.92",
                                    "4": "73.38",
                                    "5": "97.84"
                                },
                                {
                                    "0": "Menu clin d'oeil",
                                    "1": "Menu de Noel",
                                    "2": "24.46",
                                    "3": "48.92",
                                    "4": "73.38",
                                    "5": "97.84"
                                },
                                {
                                    "0": "Menu clin d'oeil",
                                    "1": "Menu de Noel",
                                    "2": "24.46",
                                    "3": "48.92",
                                    "4": "73.38",
                                    "5": "97.84"
                                },
                                {
                                    "0": "Menu clin d'oeil",
                                    "1": "Menu de Noel",
                                    "2": "24.46",
                                    "3": "48.92",
                                    "4": "73.38",
                                    "5": "97.84"
                                },
                                {
                                    "0": "Menu clin d'oeil",
                                    "1": "Menu de Noel",
                                    "2": "24.46",
                                    "3": "48.92",
                                    "4": "73.38",
                                    "5": "97.84"
                                },
                                {
                                    "0": "Menu clin d'oeil",
                                    "1": "Menu de Noel",
                                    "2": "24.46",
                                    "3": "48.92",
                                    "4": "73.38",
                                    "5": "97.84"
                                },
                                {
                                    "0": "Menu clin d'oeil",
                                    "1": "Menu de Noel",
                                    "2": "24.46",
                                    "3": "48.92",
                                    "4": "73.38",
                                    "5": "97.84"
                                },
                                {
                                    "0": "Menu clin d'oeil",
                                    "1": "Menu de Noel",
                                    "2": "24.46",
                                    "3": "48.92",
                                    "4": "73.38",
                                    "5": "97.84"
                                },
                                {
                                    "0": "Menu clin d'oeil",
                                    "1": "Menu de Noel",
                                    "2": "24.46",
                                    "3": "48.92",
                                    "4": "73.38",
                                    "5": "97.84"
                                },
                                {
                                    "0": "Menu clin d'oeil",
                                    "1": "Menu du chef",
                                    "2": "21.39",
                                    "3": "42.78",
                                    "4": "64.17",
                                    "5": "85.56"
                                },
                                {
                                    "0": "Menu clin d'oeil",
                                    "1": "Menu du chef",
                                    "2": "21.39",
                                    "3": "42.78",
                                    "4": "64.17",
                                    "5": "85.56"
                                },
                                {
                                    "0": "Menu clin d'oeil",
                                    "1": "Menu du chef",
                                    "2": "21.39",
                                    "3": "42.78",
                                    "4": "64.17",
                                    "5": "85.56"
                                },
                                {
                                    "0": "Menu clin d'oeil",
                                    "1": "Menu du chef",
                                    "2": "21.39",
                                    "3": "42.78",
                                    "4": "64.17",
                                    "5": "85.56"
                                },
                                {
                                    "0": "Menu clin d'oeil",
                                    "1": "Menu du chef",
                                    "2": "21.39",
                                    "3": "42.78",
                                    "4": "64.17",
                                    "5": "85.56"
                                },
                                {
                                    "0": "Menu clin d'oeil",
                                    "1": "Menu du chef",
                                    "2": "21.39",
                                    "3": "42.78",
                                    "4": "64.17",
                                    "5": "85.56"
                                },
                                {
                                    "0": "Menu clin d'oeil",
                                    "1": "Menu du chef",
                                    "2": "21.39",
                                    "3": "42.78",
                                    "4": "64.17",
                                    "5": "85.56"
                                },
                                {
                                    "0": "Menu clin d'oeil",
                                    "1": "Menu du chef",
                                    "2": "21.39",
                                    "3": "42.78",
                                    "4": "64.17",
                                    "5": "85.56"
                                },
                                {
                                    "0": "Menu clin d'oeil",
                                    "1": "Menu du chef",
                                    "2": "21.39",
                                    "3": "42.78",
                                    "4": "64.17",
                                    "5": "85.56"
                                },
                                {
                                    "0": "Menu clin d'oeil",
                                    "1": "Menu du jour",
                                    "2": "18.96",
                                    "3": "37.92",
                                    "4": "56.88",
                                    "5": "75.84"
                                },
                                {
                                    "0": "Menu clin d'oeil",
                                    "1": "Menu du jour",
                                    "2": "18.96",
                                    "3": "37.92",
                                    "4": "56.88",
                                    "5": "75.84"
                                },
                                {
                                    "0": "Menu clin d'oeil",
                                    "1": "Menu du jour",
                                    "2": "18.96",
                                    "3": "37.92",
                                    "4": "56.88",
                                    "5": "75.84"
                                },
                                {
                                    "0": "Menu clin d'oeil",
                                    "1": "Menu du jour",
                                    "2": "18.96",
                                    "3": "37.92",
                                    "4": "56.88",
                                    "5": "75.84"
                                },
                                {
                                    "0": "Menu clin d'oeil",
                                    "1": "Menu du jour",
                                    "2": "18.96",
                                    "3": "37.92",
                                    "4": "56.88",
                                    "5": "75.84"
                                },
                                {
                                    "0": "Menu clin d'oeil",
                                    "1": "Menu du jour",
                                    "2": "18.96",
                                    "3": "37.92",
                                    "4": "56.88",
                                    "5": "75.84"
                                },
                                {
                                    "0": "Menu clin d'oeil",
                                    "1": "Menu du jour",
                                    "2": "18.96",
                                    "3": "37.92",
                                    "4": "56.88",
                                    "5": "75.84"
                                },
                                {
                                    "0": "Menu clin d'oeil",
                                    "1": "Menu du jour",
                                    "2": "18.96",
                                    "3": "37.92",
                                    "4": "56.88",
                                    "5": "75.84"
                                },
                                {
                                    "0": "Menu clin d'oeil",
                                    "1": "Menu du jour",
                                    "2": "18.96",
                                    "3": "37.92",
                                    "4": "56.88",
                                    "5": "75.84"
                                },
                                {
                                    "0": "Menu clin d'oeil",
                                    "1": "Menu gourmet",
                                    "2": "27.26",
                                    "3": "54.52",
                                    "4": "81.78",
                                    "5": "109.04"
                                },
                                {
                                    "0": "Menu clin d'oeil",
                                    "1": "Menu gourmet",
                                    "2": "27.26",
                                    "3": "54.52",
                                    "4": "81.78",
                                    "5": "109.04"
                                },
                                {
                                    "0": "Menu clin d'oeil",
                                    "1": "Menu gourmet",
                                    "2": "27.26",
                                    "3": "54.52",
                                    "4": "81.78",
                                    "5": "109.04"
                                },
                                {
                                    "0": "Menu clin d'oeil",
                                    "1": "Menu gourmet",
                                    "2": "27.26",
                                    "3": "54.52",
                                    "4": "81.78",
                                    "5": "109.04"
                                },
                                {
                                    "0": "Menu clin d'oeil",
                                    "1": "Menu gourmet",
                                    "2": "27.26",
                                    "3": "54.52",
                                    "4": "81.78",
                                    "5": "109.04"
                                },
                                {
                                    "0": "Menu clin d'oeil",
                                    "1": "Menu gourmet",
                                    "2": "27.26",
                                    "3": "54.52",
                                    "4": "81.78",
                                    "5": "109.04"
                                },
                                {
                                    "0": "Menu clin d'oeil",
                                    "1": "Menu gourmet",
                                    "2": "27.26",
                                    "3": "54.52",
                                    "4": "81.78",
                                    "5": "109.04"
                                },
                                {
                                    "0": "Menu clin d'oeil",
                                    "1": "Menu gourmet",
                                    "2": "27.26",
                                    "3": "54.52",
                                    "4": "81.78",
                                    "5": "109.04"
                                },
                                {
                                    "0": "Menu clin d'oeil",
                                    "1": "Menu gourmet",
                                    "2": "27.26",
                                    "3": "54.52",
                                    "4": "81.78",
                                    "5": "109.04"
                                },
                                {
                                    "0": "Menu clin d'oeil",
                                    "1": "Sandwich",
                                    "2": "13.33",
                                    "3": "26.66",
                                    "4": "39.99",
                                    "5": "53.32"
                                },
                                {
                                    "0": "Menu clin d'oeil",
                                    "1": "Sandwich",
                                    "2": "13.33",
                                    "3": "26.66",
                                    "4": "39.99",
                                    "5": "53.32"
                                },
                                {
                                    "0": "Menu clin d'oeil",
                                    "1": "Sandwich",
                                    "2": "13.33",
                                    "3": "26.66",
                                    "4": "39.99",
                                    "5": "53.32"
                                },
                                {
                                    "0": "Menu clin d'oeil",
                                    "1": "Sandwich",
                                    "2": "13.33",
                                    "3": "26.66",
                                    "4": "39.99",
                                    "5": "53.32"
                                },
                                {
                                    "0": "Menu clin d'oeil",
                                    "1": "Sandwich",
                                    "2": "13.33",
                                    "3": "26.66",
                                    "4": "39.99",
                                    "5": "53.32"
                                },
                                {
                                    "0": "Menu clin d'oeil",
                                    "1": "Sandwich",
                                    "2": "13.33",
                                    "3": "26.66",
                                    "4": "39.99",
                                    "5": "53.32"
                                },
                                {
                                    "0": "Menu clin d'oeil",
                                    "1": "Sandwich",
                                    "2": "13.33",
                                    "3": "26.66",
                                    "4": "39.99",
                                    "5": "53.32"
                                },
                                {
                                    "0": "Menu clin d'oeil",
                                    "1": "Sandwich",
                                    "2": "13.33",
                                    "3": "26.66",
                                    "4": "39.99",
                                    "5": "53.32"
                                },
                                {
                                    "0": "Menu clin d'oeil",
                                    "1": "Sandwich",
                                    "2": "13.33",
                                    "3": "26.66",
                                    "4": "39.99",
                                    "5": "53.32"
                                },
                                {
                                    "0": "Menu clin d'oeil",
                                    "1": "Suplement",
                                    "2": "12.62",
                                    "3": "25.24",
                                    "4": "37.86",
                                    "5": "50.48"
                                },
                                {
                                    "0": "Menu clin d'oeil",
                                    "1": "Suplement",
                                    "2": "12.62",
                                    "3": "25.24",
                                    "4": "37.86",
                                    "5": "50.48"
                                },
                                {
                                    "0": "Menu clin d'oeil",
                                    "1": "Suplement",
                                    "2": "12.62",
                                    "3": "25.24",
                                    "4": "37.86",
                                    "5": "50.48"
                                },
                                {
                                    "0": "Menu clin d'oeil",
                                    "1": "Suplement",
                                    "2": "12.62",
                                    "3": "25.24",
                                    "4": "37.86",
                                    "5": "50.48"
                                },
                                {
                                    "0": "Menu clin d'oeil",
                                    "1": "Suplement",
                                    "2": "12.62",
                                    "3": "25.24",
                                    "4": "37.86",
                                    "5": "50.48"
                                },
                                {
                                    "0": "Menu clin d'oeil",
                                    "1": "Suplement",
                                    "2": "12.62",
                                    "3": "25.24",
                                    "4": "37.86",
                                    "5": "50.48"
                                },
                                {
                                    "0": "Menu clin d'oeil",
                                    "1": "Suplement",
                                    "2": "12.62",
                                    "3": "25.24",
                                    "4": "37.86",
                                    "5": "50.48"
                                },
                                {
                                    "0": "Menu clin d'oeil",
                                    "1": "Suplement",
                                    "2": "12.62",
                                    "3": "25.24",
                                    "4": "37.86",
                                    "5": "50.48"
                                },
                                {
                                    "0": "Menu clin d'oeil",
                                    "1": "Suplement",
                                    "2": "12.62",
                                    "3": "25.24",
                                    "4": "37.86",
                                    "5": "50.48"
                                },
                                {
                                    "0": "Menu clin d'oeil",
                                    "1": "Viennoiserie",
                                    "2": "12.45",
                                    "3": "24.90",
                                    "4": "37.35",
                                    "5": "49.80"
                                },
                                {
                                    "0": "Menu clin d'oeil",
                                    "1": "Viennoiserie",
                                    "2": "12.45",
                                    "3": "24.90",
                                    "4": "37.35",
                                    "5": "49.80"
                                },
                                {
                                    "0": "Menu clin d'oeil",
                                    "1": "Viennoiserie",
                                    "2": "12.45",
                                    "3": "24.90",
                                    "4": "37.35",
                                    "5": "49.80"
                                },
                                {
                                    "0": "Menu clin d'oeil",
                                    "1": "Viennoiserie",
                                    "2": "12.45",
                                    "3": "24.90",
                                    "4": "37.35",
                                    "5": "49.80"
                                },
                                {
                                    "0": "Menu clin d'oeil",
                                    "1": "Viennoiserie",
                                    "2": "12.45",
                                    "3": "24.90",
                                    "4": "37.35",
                                    "5": "49.80"
                                },
                                {
                                    "0": "Menu clin d'oeil",
                                    "1": "Viennoiserie",
                                    "2": "12.45",
                                    "3": "24.90",
                                    "4": "37.35",
                                    "5": "49.80"
                                },
                                {
                                    "0": "Menu clin d'oeil",
                                    "1": "Viennoiserie",
                                    "2": "12.45",
                                    "3": "24.90",
                                    "4": "37.35",
                                    "5": "49.80"
                                },
                                {
                                    "0": "Menu clin d'oeil",
                                    "1": "Viennoiserie",
                                    "2": "12.45",
                                    "3": "24.90",
                                    "4": "37.35",
                                    "5": "49.80"
                                },
                                {
                                    "0": "Menu clin d'oeil",
                                    "1": "Viennoiserie",
                                    "2": "12.45",
                                    "3": "24.90",
                                    "4": "37.35",
                                    "5": "49.80"
                                },
                                {
                                    "0": "Menu de Noel",
                                    "1": "Menu Action",
                                    "2": "23.50",
                                    "3": "47.00",
                                    "4": "70.50",
                                    "5": "94.00"
                                },
                                {
                                    "0": "Menu de Noel",
                                    "1": "Menu Action",
                                    "2": "23.50",
                                    "3": "47.00",
                                    "4": "70.50",
                                    "5": "94.00"
                                },
                                {
                                    "0": "Menu de Noel",
                                    "1": "Menu Action",
                                    "2": "23.50",
                                    "3": "47.00",
                                    "4": "70.50",
                                    "5": "94.00"
                                },
                                {
                                    "0": "Menu de Noel",
                                    "1": "Menu Action",
                                    "2": "23.50",
                                    "3": "47.00",
                                    "4": "70.50",
                                    "5": "94.00"
                                },
                                {
                                    "0": "Menu de Noel",
                                    "1": "Menu Action",
                                    "2": "23.50",
                                    "3": "47.00",
                                    "4": "70.50",
                                    "5": "94.00"
                                },
                                {
                                    "0": "Menu de Noel",
                                    "1": "Menu Action",
                                    "2": "23.50",
                                    "3": "47.00",
                                    "4": "70.50",
                                    "5": "94.00"
                                },
                                {
                                    "0": "Menu de Noel",
                                    "1": "Menu Action",
                                    "2": "23.50",
                                    "3": "47.00",
                                    "4": "70.50",
                                    "5": "94.00"
                                },
                                {
                                    "0": "Menu de Noel",
                                    "1": "Menu Action",
                                    "2": "23.50",
                                    "3": "47.00",
                                    "4": "70.50",
                                    "5": "94.00"
                                },
                                {
                                    "0": "Menu de Noel",
                                    "1": "Menu Action",
                                    "2": "23.50",
                                    "3": "47.00",
                                    "4": "70.50",
                                    "5": "94.00"
                                },
                                {
                                    "0": "Menu de Noel",
                                    "1": "Menu clin d'oeil",
                                    "2": "24.46",
                                    "3": "48.92",
                                    "4": "73.38",
                                    "5": "97.84"
                                },
                                {
                                    "0": "Menu de Noel",
                                    "1": "Menu clin d'oeil",
                                    "2": "24.46",
                                    "3": "48.92",
                                    "4": "73.38",
                                    "5": "97.84"
                                },
                                {
                                    "0": "Menu de Noel",
                                    "1": "Menu clin d'oeil",
                                    "2": "24.46",
                                    "3": "48.92",
                                    "4": "73.38",
                                    "5": "97.84"
                                },
                                {
                                    "0": "Menu de Noel",
                                    "1": "Menu clin d'oeil",
                                    "2": "24.46",
                                    "3": "48.92",
                                    "4": "73.38",
                                    "5": "97.84"
                                },
                                {
                                    "0": "Menu de Noel",
                                    "1": "Menu clin d'oeil",
                                    "2": "24.46",
                                    "3": "48.92",
                                    "4": "73.38",
                                    "5": "97.84"
                                },
                                {
                                    "0": "Menu de Noel",
                                    "1": "Menu clin d'oeil",
                                    "2": "24.46",
                                    "3": "48.92",
                                    "4": "73.38",
                                    "5": "97.84"
                                },
                                {
                                    "0": "Menu de Noel",
                                    "1": "Menu clin d'oeil",
                                    "2": "24.46",
                                    "3": "48.92",
                                    "4": "73.38",
                                    "5": "97.84"
                                },
                                {
                                    "0": "Menu de Noel",
                                    "1": "Menu clin d'oeil",
                                    "2": "24.46",
                                    "3": "48.92",
                                    "4": "73.38",
                                    "5": "97.84"
                                },
                                {
                                    "0": "Menu de Noel",
                                    "1": "Menu clin d'oeil",
                                    "2": "24.46",
                                    "3": "48.92",
                                    "4": "73.38",
                                    "5": "97.84"
                                },
                                {
                                    "0": "Menu de Noel",
                                    "1": "Menu de Noel",
                                    "2": "25.86",
                                    "3": "51.72",
                                    "4": "77.58",
                                    "5": "103.44"
                                },
                                {
                                    "0": "Menu de Noel",
                                    "1": "Menu de Noel",
                                    "2": "25.86",
                                    "3": "51.72",
                                    "4": "77.58",
                                    "5": "103.44"
                                },
                                {
                                    "0": "Menu de Noel",
                                    "1": "Menu de Noel",
                                    "2": "25.86",
                                    "3": "51.72",
                                    "4": "77.58",
                                    "5": "103.44"
                                },
                                {
                                    "0": "Menu de Noel",
                                    "1": "Menu de Noel",
                                    "2": "25.86",
                                    "3": "51.72",
                                    "4": "77.58",
                                    "5": "103.44"
                                },
                                {
                                    "0": "Menu de Noel",
                                    "1": "Menu de Noel",
                                    "2": "25.86",
                                    "3": "51.72",
                                    "4": "77.58",
                                    "5": "103.44"
                                },
                                {
                                    "0": "Menu de Noel",
                                    "1": "Menu de Noel",
                                    "2": "25.86",
                                    "3": "51.72",
                                    "4": "77.58",
                                    "5": "103.44"
                                },
                                {
                                    "0": "Menu de Noel",
                                    "1": "Menu de Noel",
                                    "2": "25.86",
                                    "3": "51.72",
                                    "4": "77.58",
                                    "5": "103.44"
                                },
                                {
                                    "0": "Menu de Noel",
                                    "1": "Menu de Noel",
                                    "2": "25.86",
                                    "3": "51.72",
                                    "4": "77.58",
                                    "5": "103.44"
                                },
                                {
                                    "0": "Menu de Noel",
                                    "1": "Menu de Noel",
                                    "2": "25.86",
                                    "3": "51.72",
                                    "4": "77.58",
                                    "5": "103.44"
                                },
                                {
                                    "0": "Menu de Noel",
                                    "1": "Menu du chef",
                                    "2": "22.79",
                                    "3": "45.58",
                                    "4": "68.37",
                                    "5": "91.16"
                                },
                                {
                                    "0": "Menu de Noel",
                                    "1": "Menu du chef",
                                    "2": "22.79",
                                    "3": "45.58",
                                    "4": "68.37",
                                    "5": "91.16"
                                },
                                {
                                    "0": "Menu de Noel",
                                    "1": "Menu du chef",
                                    "2": "22.79",
                                    "3": "45.58",
                                    "4": "68.37",
                                    "5": "91.16"
                                },
                                {
                                    "0": "Menu de Noel",
                                    "1": "Menu du chef",
                                    "2": "22.79",
                                    "3": "45.58",
                                    "4": "68.37",
                                    "5": "91.16"
                                },
                                {
                                    "0": "Menu de Noel",
                                    "1": "Menu du chef",
                                    "2": "22.79",
                                    "3": "45.58",
                                    "4": "68.37",
                                    "5": "91.16"
                                },
                                {
                                    "0": "Menu de Noel",
                                    "1": "Menu du chef",
                                    "2": "22.79",
                                    "3": "45.58",
                                    "4": "68.37",
                                    "5": "91.16"
                                },
                                {
                                    "0": "Menu de Noel",
                                    "1": "Menu du chef",
                                    "2": "22.79",
                                    "3": "45.58",
                                    "4": "68.37",
                                    "5": "91.16"
                                },
                                {
                                    "0": "Menu de Noel",
                                    "1": "Menu du chef",
                                    "2": "22.79",
                                    "3": "45.58",
                                    "4": "68.37",
                                    "5": "91.16"
                                },
                                {
                                    "0": "Menu de Noel",
                                    "1": "Menu du chef",
                                    "2": "22.79",
                                    "3": "45.58",
                                    "4": "68.37",
                                    "5": "91.16"
                                },
                                {
                                    "0": "Menu de Noel",
                                    "1": "Menu du jour",
                                    "2": "20.36",
                                    "3": "40.72",
                                    "4": "61.08",
                                    "5": "81.44"
                                },
                                {
                                    "0": "Menu de Noel",
                                    "1": "Menu du jour",
                                    "2": "20.36",
                                    "3": "40.72",
                                    "4": "61.08",
                                    "5": "81.44"
                                },
                                {
                                    "0": "Menu de Noel",
                                    "1": "Menu du jour",
                                    "2": "20.36",
                                    "3": "40.72",
                                    "4": "61.08",
                                    "5": "81.44"
                                },
                                {
                                    "0": "Menu de Noel",
                                    "1": "Menu du jour",
                                    "2": "20.36",
                                    "3": "40.72",
                                    "4": "61.08",
                                    "5": "81.44"
                                },
                                {
                                    "0": "Menu de Noel",
                                    "1": "Menu du jour",
                                    "2": "20.36",
                                    "3": "40.72",
                                    "4": "61.08",
                                    "5": "81.44"
                                },
                                {
                                    "0": "Menu de Noel",
                                    "1": "Menu du jour",
                                    "2": "20.36",
                                    "3": "40.72",
                                    "4": "61.08",
                                    "5": "81.44"
                                },
                                {
                                    "0": "Menu de Noel",
                                    "1": "Menu du jour",
                                    "2": "20.36",
                                    "3": "40.72",
                                    "4": "61.08",
                                    "5": "81.44"
                                },
                                {
                                    "0": "Menu de Noel",
                                    "1": "Menu du jour",
                                    "2": "20.36",
                                    "3": "40.72",
                                    "4": "61.08",
                                    "5": "81.44"
                                },
                                {
                                    "0": "Menu de Noel",
                                    "1": "Menu du jour",
                                    "2": "20.36",
                                    "3": "40.72",
                                    "4": "61.08",
                                    "5": "81.44"
                                },
                                {
                                    "0": "Menu de Noel",
                                    "1": "Menu gourmet",
                                    "2": "28.66",
                                    "3": "57.32",
                                    "4": "85.98",
                                    "5": "114.64"
                                },
                                {
                                    "0": "Menu de Noel",
                                    "1": "Menu gourmet",
                                    "2": "28.66",
                                    "3": "57.32",
                                    "4": "85.98",
                                    "5": "114.64"
                                },
                                {
                                    "0": "Menu de Noel",
                                    "1": "Menu gourmet",
                                    "2": "28.66",
                                    "3": "57.32",
                                    "4": "85.98",
                                    "5": "114.64"
                                },
                                {
                                    "0": "Menu de Noel",
                                    "1": "Menu gourmet",
                                    "2": "28.66",
                                    "3": "57.32",
                                    "4": "85.98",
                                    "5": "114.64"
                                },
                                {
                                    "0": "Menu de Noel",
                                    "1": "Menu gourmet",
                                    "2": "28.66",
                                    "3": "57.32",
                                    "4": "85.98",
                                    "5": "114.64"
                                },
                                {
                                    "0": "Menu de Noel",
                                    "1": "Menu gourmet",
                                    "2": "28.66",
                                    "3": "57.32",
                                    "4": "85.98",
                                    "5": "114.64"
                                },
                                {
                                    "0": "Menu de Noel",
                                    "1": "Menu gourmet",
                                    "2": "28.66",
                                    "3": "57.32",
                                    "4": "85.98",
                                    "5": "114.64"
                                },
                                {
                                    "0": "Menu de Noel",
                                    "1": "Menu gourmet",
                                    "2": "28.66",
                                    "3": "57.32",
                                    "4": "85.98",
                                    "5": "114.64"
                                },
                                {
                                    "0": "Menu de Noel",
                                    "1": "Menu gourmet",
                                    "2": "28.66",
                                    "3": "57.32",
                                    "4": "85.98",
                                    "5": "114.64"
                                },
                                {
                                    "0": "Menu de Noel",
                                    "1": "Sandwich",
                                    "2": "14.73",
                                    "3": "29.46",
                                    "4": "44.19",
                                    "5": "58.92"
                                },
                                {
                                    "0": "Menu de Noel",
                                    "1": "Sandwich",
                                    "2": "14.73",
                                    "3": "29.46",
                                    "4": "44.19",
                                    "5": "58.92"
                                },
                                {
                                    "0": "Menu de Noel",
                                    "1": "Sandwich",
                                    "2": "14.73",
                                    "3": "29.46",
                                    "4": "44.19",
                                    "5": "58.92"
                                },
                                {
                                    "0": "Menu de Noel",
                                    "1": "Sandwich",
                                    "2": "14.73",
                                    "3": "29.46",
                                    "4": "44.19",
                                    "5": "58.92"
                                },
                                {
                                    "0": "Menu de Noel",
                                    "1": "Sandwich",
                                    "2": "14.73",
                                    "3": "29.46",
                                    "4": "44.19",
                                    "5": "58.92"
                                },
                                {
                                    "0": "Menu de Noel",
                                    "1": "Sandwich",
                                    "2": "14.73",
                                    "3": "29.46",
                                    "4": "44.19",
                                    "5": "58.92"
                                },
                                {
                                    "0": "Menu de Noel",
                                    "1": "Sandwich",
                                    "2": "14.73",
                                    "3": "29.46",
                                    "4": "44.19",
                                    "5": "58.92"
                                },
                                {
                                    "0": "Menu de Noel",
                                    "1": "Sandwich",
                                    "2": "14.73",
                                    "3": "29.46",
                                    "4": "44.19",
                                    "5": "58.92"
                                },
                                {
                                    "0": "Menu de Noel",
                                    "1": "Sandwich",
                                    "2": "14.73",
                                    "3": "29.46",
                                    "4": "44.19",
                                    "5": "58.92"
                                },
                                {
                                    "0": "Menu de Noel",
                                    "1": "Suplement",
                                    "2": "14.02",
                                    "3": "28.04",
                                    "4": "42.06",
                                    "5": "56.08"
                                },
                                {
                                    "0": "Menu de Noel",
                                    "1": "Suplement",
                                    "2": "14.02",
                                    "3": "28.04",
                                    "4": "42.06",
                                    "5": "56.08"
                                },
                                {
                                    "0": "Menu de Noel",
                                    "1": "Suplement",
                                    "2": "14.02",
                                    "3": "28.04",
                                    "4": "42.06",
                                    "5": "56.08"
                                },
                                {
                                    "0": "Menu de Noel",
                                    "1": "Suplement",
                                    "2": "14.02",
                                    "3": "28.04",
                                    "4": "42.06",
                                    "5": "56.08"
                                },
                                {
                                    "0": "Menu de Noel",
                                    "1": "Suplement",
                                    "2": "14.02",
                                    "3": "28.04",
                                    "4": "42.06",
                                    "5": "56.08"
                                },
                                {
                                    "0": "Menu de Noel",
                                    "1": "Suplement",
                                    "2": "14.02",
                                    "3": "28.04",
                                    "4": "42.06",
                                    "5": "56.08"
                                },
                                {
                                    "0": "Menu de Noel",
                                    "1": "Suplement",
                                    "2": "14.02",
                                    "3": "28.04",
                                    "4": "42.06",
                                    "5": "56.08"
                                },
                                {
                                    "0": "Menu de Noel",
                                    "1": "Suplement",
                                    "2": "14.02",
                                    "3": "28.04",
                                    "4": "42.06",
                                    "5": "56.08"
                                },
                                {
                                    "0": "Menu de Noel",
                                    "1": "Suplement",
                                    "2": "14.02",
                                    "3": "28.04",
                                    "4": "42.06",
                                    "5": "56.08"
                                },
                                {
                                    "0": "Menu de Noel",
                                    "1": "Viennoiserie",
                                    "2": "13.85",
                                    "3": "27.70",
                                    "4": "41.55",
                                    "5": "55.40"
                                },
                                {
                                    "0": "Menu de Noel",
                                    "1": "Viennoiserie",
                                    "2": "13.85",
                                    "3": "27.70",
                                    "4": "41.55",
                                    "5": "55.40"
                                },
                                {
                                    "0": "Menu de Noel",
                                    "1": "Viennoiserie",
                                    "2": "13.85",
                                    "3": "27.70",
                                    "4": "41.55",
                                    "5": "55.40"
                                },
                                {
                                    "0": "Menu de Noel",
                                    "1": "Viennoiserie",
                                    "2": "13.85",
                                    "3": "27.70",
                                    "4": "41.55",
                                    "5": "55.40"
                                },
                                {
                                    "0": "Menu de Noel",
                                    "1": "Viennoiserie",
                                    "2": "13.85",
                                    "3": "27.70",
                                    "4": "41.55",
                                    "5": "55.40"
                                },
                                {
                                    "0": "Menu de Noel",
                                    "1": "Viennoiserie",
                                    "2": "13.85",
                                    "3": "27.70",
                                    "4": "41.55",
                                    "5": "55.40"
                                },
                                {
                                    "0": "Menu de Noel",
                                    "1": "Viennoiserie",
                                    "2": "13.85",
                                    "3": "27.70",
                                    "4": "41.55",
                                    "5": "55.40"
                                },
                                {
                                    "0": "Menu de Noel",
                                    "1": "Viennoiserie",
                                    "2": "13.85",
                                    "3": "27.70",
                                    "4": "41.55",
                                    "5": "55.40"
                                },
                                {
                                    "0": "Menu de Noel",
                                    "1": "Viennoiserie",
                                    "2": "13.85",
                                    "3": "27.70",
                                    "4": "41.55",
                                    "5": "55.40"
                                },
                                {
                                    "0": "Menu du chef",
                                    "1": "Menu Action",
                                    "2": "20.43",
                                    "3": "40.86",
                                    "4": "61.29",
                                    "5": "81.72"
                                },
                                {
                                    "0": "Menu du chef",
                                    "1": "Menu Action",
                                    "2": "20.43",
                                    "3": "40.86",
                                    "4": "61.29",
                                    "5": "81.72"
                                },
                                {
                                    "0": "Menu du chef",
                                    "1": "Menu Action",
                                    "2": "20.43",
                                    "3": "40.86",
                                    "4": "61.29",
                                    "5": "81.72"
                                },
                                {
                                    "0": "Menu du chef",
                                    "1": "Menu Action",
                                    "2": "20.43",
                                    "3": "40.86",
                                    "4": "61.29",
                                    "5": "81.72"
                                },
                                {
                                    "0": "Menu du chef",
                                    "1": "Menu Action",
                                    "2": "20.43",
                                    "3": "40.86",
                                    "4": "61.29",
                                    "5": "81.72"
                                },
                                {
                                    "0": "Menu du chef",
                                    "1": "Menu Action",
                                    "2": "20.43",
                                    "3": "40.86",
                                    "4": "61.29",
                                    "5": "81.72"
                                },
                                {
                                    "0": "Menu du chef",
                                    "1": "Menu Action",
                                    "2": "20.43",
                                    "3": "40.86",
                                    "4": "61.29",
                                    "5": "81.72"
                                },
                                {
                                    "0": "Menu du chef",
                                    "1": "Menu Action",
                                    "2": "20.43",
                                    "3": "40.86",
                                    "4": "61.29",
                                    "5": "81.72"
                                },
                                {
                                    "0": "Menu du chef",
                                    "1": "Menu Action",
                                    "2": "20.43",
                                    "3": "40.86",
                                    "4": "61.29",
                                    "5": "81.72"
                                },
                                {
                                    "0": "Menu du chef",
                                    "1": "Menu clin d'oeil",
                                    "2": "21.39",
                                    "3": "42.78",
                                    "4": "64.17",
                                    "5": "85.56"
                                },
                                {
                                    "0": "Menu du chef",
                                    "1": "Menu clin d'oeil",
                                    "2": "21.39",
                                    "3": "42.78",
                                    "4": "64.17",
                                    "5": "85.56"
                                },
                                {
                                    "0": "Menu du chef",
                                    "1": "Menu clin d'oeil",
                                    "2": "21.39",
                                    "3": "42.78",
                                    "4": "64.17",
                                    "5": "85.56"
                                },
                                {
                                    "0": "Menu du chef",
                                    "1": "Menu clin d'oeil",
                                    "2": "21.39",
                                    "3": "42.78",
                                    "4": "64.17",
                                    "5": "85.56"
                                },
                                {
                                    "0": "Menu du chef",
                                    "1": "Menu clin d'oeil",
                                    "2": "21.39",
                                    "3": "42.78",
                                    "4": "64.17",
                                    "5": "85.56"
                                },
                                {
                                    "0": "Menu du chef",
                                    "1": "Menu clin d'oeil",
                                    "2": "21.39",
                                    "3": "42.78",
                                    "4": "64.17",
                                    "5": "85.56"
                                },
                                {
                                    "0": "Menu du chef",
                                    "1": "Menu clin d'oeil",
                                    "2": "21.39",
                                    "3": "42.78",
                                    "4": "64.17",
                                    "5": "85.56"
                                },
                                {
                                    "0": "Menu du chef",
                                    "1": "Menu clin d'oeil",
                                    "2": "21.39",
                                    "3": "42.78",
                                    "4": "64.17",
                                    "5": "85.56"
                                },
                                {
                                    "0": "Menu du chef",
                                    "1": "Menu clin d'oeil",
                                    "2": "21.39",
                                    "3": "42.78",
                                    "4": "64.17",
                                    "5": "85.56"
                                },
                                {
                                    "0": "Menu du chef",
                                    "1": "Menu de Noel",
                                    "2": "22.79",
                                    "3": "45.58",
                                    "4": "68.37",
                                    "5": "91.16"
                                },
                                {
                                    "0": "Menu du chef",
                                    "1": "Menu de Noel",
                                    "2": "22.79",
                                    "3": "45.58",
                                    "4": "68.37",
                                    "5": "91.16"
                                },
                                {
                                    "0": "Menu du chef",
                                    "1": "Menu de Noel",
                                    "2": "22.79",
                                    "3": "45.58",
                                    "4": "68.37",
                                    "5": "91.16"
                                },
                                {
                                    "0": "Menu du chef",
                                    "1": "Menu de Noel",
                                    "2": "22.79",
                                    "3": "45.58",
                                    "4": "68.37",
                                    "5": "91.16"
                                },
                                {
                                    "0": "Menu du chef",
                                    "1": "Menu de Noel",
                                    "2": "22.79",
                                    "3": "45.58",
                                    "4": "68.37",
                                    "5": "91.16"
                                },
                                {
                                    "0": "Menu du chef",
                                    "1": "Menu de Noel",
                                    "2": "22.79",
                                    "3": "45.58",
                                    "4": "68.37",
                                    "5": "91.16"
                                },
                                {
                                    "0": "Menu du chef",
                                    "1": "Menu de Noel",
                                    "2": "22.79",
                                    "3": "45.58",
                                    "4": "68.37",
                                    "5": "91.16"
                                },
                                {
                                    "0": "Menu du chef",
                                    "1": "Menu de Noel",
                                    "2": "22.79",
                                    "3": "45.58",
                                    "4": "68.37",
                                    "5": "91.16"
                                },
                                {
                                    "0": "Menu du chef",
                                    "1": "Menu de Noel",
                                    "2": "22.79",
                                    "3": "45.58",
                                    "4": "68.37",
                                    "5": "91.16"
                                },
                                {
                                    "0": "Menu du chef",
                                    "1": "Menu du chef",
                                    "2": "19.72",
                                    "3": "39.44",
                                    "4": "59.16",
                                    "5": "78.88"
                                },
                                {
                                    "0": "Menu du chef",
                                    "1": "Menu du chef",
                                    "2": "19.72",
                                    "3": "39.44",
                                    "4": "59.16",
                                    "5": "78.88"
                                },
                                {
                                    "0": "Menu du chef",
                                    "1": "Menu du chef",
                                    "2": "19.72",
                                    "3": "39.44",
                                    "4": "59.16",
                                    "5": "78.88"
                                },
                                {
                                    "0": "Menu du chef",
                                    "1": "Menu du chef",
                                    "2": "19.72",
                                    "3": "39.44",
                                    "4": "59.16",
                                    "5": "78.88"
                                },
                                {
                                    "0": "Menu du chef",
                                    "1": "Menu du chef",
                                    "2": "19.72",
                                    "3": "39.44",
                                    "4": "59.16",
                                    "5": "78.88"
                                },
                                {
                                    "0": "Menu du chef",
                                    "1": "Menu du chef",
                                    "2": "19.72",
                                    "3": "39.44",
                                    "4": "59.16",
                                    "5": "78.88"
                                },
                                {
                                    "0": "Menu du chef",
                                    "1": "Menu du chef",
                                    "2": "19.72",
                                    "3": "39.44",
                                    "4": "59.16",
                                    "5": "78.88"
                                },
                                {
                                    "0": "Menu du chef",
                                    "1": "Menu du chef",
                                    "2": "19.72",
                                    "3": "39.44",
                                    "4": "59.16",
                                    "5": "78.88"
                                },
                                {
                                    "0": "Menu du chef",
                                    "1": "Menu du chef",
                                    "2": "19.72",
                                    "3": "39.44",
                                    "4": "59.16",
                                    "5": "78.88"
                                },
                                {
                                    "0": "Menu du chef",
                                    "1": "Menu du jour",
                                    "2": "17.29",
                                    "3": "34.58",
                                    "4": "51.87",
                                    "5": "69.16"
                                },
                                {
                                    "0": "Menu du chef",
                                    "1": "Menu du jour",
                                    "2": "17.29",
                                    "3": "34.58",
                                    "4": "51.87",
                                    "5": "69.16"
                                },
                                {
                                    "0": "Menu du chef",
                                    "1": "Menu du jour",
                                    "2": "17.29",
                                    "3": "34.58",
                                    "4": "51.87",
                                    "5": "69.16"
                                },
                                {
                                    "0": "Menu du chef",
                                    "1": "Menu du jour",
                                    "2": "17.29",
                                    "3": "34.58",
                                    "4": "51.87",
                                    "5": "69.16"
                                },
                                {
                                    "0": "Menu du chef",
                                    "1": "Menu du jour",
                                    "2": "17.29",
                                    "3": "34.58",
                                    "4": "51.87",
                                    "5": "69.16"
                                },
                                {
                                    "0": "Menu du chef",
                                    "1": "Menu du jour",
                                    "2": "17.29",
                                    "3": "34.58",
                                    "4": "51.87",
                                    "5": "69.16"
                                },
                                {
                                    "0": "Menu du chef",
                                    "1": "Menu du jour",
                                    "2": "17.29",
                                    "3": "34.58",
                                    "4": "51.87",
                                    "5": "69.16"
                                },
                                {
                                    "0": "Menu du chef",
                                    "1": "Menu du jour",
                                    "2": "17.29",
                                    "3": "34.58",
                                    "4": "51.87",
                                    "5": "69.16"
                                },
                                {
                                    "0": "Menu du chef",
                                    "1": "Menu du jour",
                                    "2": "17.29",
                                    "3": "34.58",
                                    "4": "51.87",
                                    "5": "69.16"
                                },
                                {
                                    "0": "Menu du chef",
                                    "1": "Menu gourmet",
                                    "2": "25.59",
                                    "3": "51.18",
                                    "4": "76.77",
                                    "5": "102.36"
                                },
                                {
                                    "0": "Menu du chef",
                                    "1": "Menu gourmet",
                                    "2": "25.59",
                                    "3": "51.18",
                                    "4": "76.77",
                                    "5": "102.36"
                                },
                                {
                                    "0": "Menu du chef",
                                    "1": "Menu gourmet",
                                    "2": "25.59",
                                    "3": "51.18",
                                    "4": "76.77",
                                    "5": "102.36"
                                },
                                {
                                    "0": "Menu du chef",
                                    "1": "Menu gourmet",
                                    "2": "25.59",
                                    "3": "51.18",
                                    "4": "76.77",
                                    "5": "102.36"
                                },
                                {
                                    "0": "Menu du chef",
                                    "1": "Menu gourmet",
                                    "2": "25.59",
                                    "3": "51.18",
                                    "4": "76.77",
                                    "5": "102.36"
                                },
                                {
                                    "0": "Menu du chef",
                                    "1": "Menu gourmet",
                                    "2": "25.59",
                                    "3": "51.18",
                                    "4": "76.77",
                                    "5": "102.36"
                                },
                                {
                                    "0": "Menu du chef",
                                    "1": "Menu gourmet",
                                    "2": "25.59",
                                    "3": "51.18",
                                    "4": "76.77",
                                    "5": "102.36"
                                },
                                {
                                    "0": "Menu du chef",
                                    "1": "Menu gourmet",
                                    "2": "25.59",
                                    "3": "51.18",
                                    "4": "76.77",
                                    "5": "102.36"
                                },
                                {
                                    "0": "Menu du chef",
                                    "1": "Menu gourmet",
                                    "2": "25.59",
                                    "3": "51.18",
                                    "4": "76.77",
                                    "5": "102.36"
                                },
                                {
                                    "0": "Menu du chef",
                                    "1": "Sandwich",
                                    "2": "11.66",
                                    "3": "23.32",
                                    "4": "34.98",
                                    "5": "46.64"
                                },
                                {
                                    "0": "Menu du chef",
                                    "1": "Sandwich",
                                    "2": "11.66",
                                    "3": "23.32",
                                    "4": "34.98",
                                    "5": "46.64"
                                },
                                {
                                    "0": "Menu du chef",
                                    "1": "Sandwich",
                                    "2": "11.66",
                                    "3": "23.32",
                                    "4": "34.98",
                                    "5": "46.64"
                                },
                                {
                                    "0": "Menu du chef",
                                    "1": "Sandwich",
                                    "2": "11.66",
                                    "3": "23.32",
                                    "4": "34.98",
                                    "5": "46.64"
                                },
                                {
                                    "0": "Menu du chef",
                                    "1": "Sandwich",
                                    "2": "11.66",
                                    "3": "23.32",
                                    "4": "34.98",
                                    "5": "46.64"
                                },
                                {
                                    "0": "Menu du chef",
                                    "1": "Sandwich",
                                    "2": "11.66",
                                    "3": "23.32",
                                    "4": "34.98",
                                    "5": "46.64"
                                },
                                {
                                    "0": "Menu du chef",
                                    "1": "Sandwich",
                                    "2": "11.66",
                                    "3": "23.32",
                                    "4": "34.98",
                                    "5": "46.64"
                                },
                                {
                                    "0": "Menu du chef",
                                    "1": "Sandwich",
                                    "2": "11.66",
                                    "3": "23.32",
                                    "4": "34.98",
                                    "5": "46.64"
                                },
                                {
                                    "0": "Menu du chef",
                                    "1": "Sandwich",
                                    "2": "11.66",
                                    "3": "23.32",
                                    "4": "34.98",
                                    "5": "46.64"
                                },
                                {
                                    "0": "Menu du chef",
                                    "1": "Suplement",
                                    "2": "10.95",
                                    "3": "21.90",
                                    "4": "32.85",
                                    "5": "43.80"
                                },
                                {
                                    "0": "Menu du chef",
                                    "1": "Suplement",
                                    "2": "10.95",
                                    "3": "21.90",
                                    "4": "32.85",
                                    "5": "43.80"
                                },
                                {
                                    "0": "Menu du chef",
                                    "1": "Suplement",
                                    "2": "10.95",
                                    "3": "21.90",
                                    "4": "32.85",
                                    "5": "43.80"
                                },
                                {
                                    "0": "Menu du chef",
                                    "1": "Suplement",
                                    "2": "10.95",
                                    "3": "21.90",
                                    "4": "32.85",
                                    "5": "43.80"
                                },
                                {
                                    "0": "Menu du chef",
                                    "1": "Suplement",
                                    "2": "10.95",
                                    "3": "21.90",
                                    "4": "32.85",
                                    "5": "43.80"
                                },
                                {
                                    "0": "Menu du chef",
                                    "1": "Suplement",
                                    "2": "10.95",
                                    "3": "21.90",
                                    "4": "32.85",
                                    "5": "43.80"
                                },
                                {
                                    "0": "Menu du chef",
                                    "1": "Suplement",
                                    "2": "10.95",
                                    "3": "21.90",
                                    "4": "32.85",
                                    "5": "43.80"
                                },
                                {
                                    "0": "Menu du chef",
                                    "1": "Suplement",
                                    "2": "10.95",
                                    "3": "21.90",
                                    "4": "32.85",
                                    "5": "43.80"
                                },
                                {
                                    "0": "Menu du chef",
                                    "1": "Suplement",
                                    "2": "10.95",
                                    "3": "21.90",
                                    "4": "32.85",
                                    "5": "43.80"
                                },
                                {
                                    "0": "Menu du chef",
                                    "1": "Viennoiserie",
                                    "2": "10.78",
                                    "3": "21.56",
                                    "4": "32.34",
                                    "5": "43.12"
                                },
                                {
                                    "0": "Menu du chef",
                                    "1": "Viennoiserie",
                                    "2": "10.78",
                                    "3": "21.56",
                                    "4": "32.34",
                                    "5": "43.12"
                                },
                                {
                                    "0": "Menu du chef",
                                    "1": "Viennoiserie",
                                    "2": "10.78",
                                    "3": "21.56",
                                    "4": "32.34",
                                    "5": "43.12"
                                },
                                {
                                    "0": "Menu du chef",
                                    "1": "Viennoiserie",
                                    "2": "10.78",
                                    "3": "21.56",
                                    "4": "32.34",
                                    "5": "43.12"
                                },
                                {
                                    "0": "Menu du chef",
                                    "1": "Viennoiserie",
                                    "2": "10.78",
                                    "3": "21.56",
                                    "4": "32.34",
                                    "5": "43.12"
                                },
                                {
                                    "0": "Menu du chef",
                                    "1": "Viennoiserie",
                                    "2": "10.78",
                                    "3": "21.56",
                                    "4": "32.34",
                                    "5": "43.12"
                                },
                                {
                                    "0": "Menu du chef",
                                    "1": "Viennoiserie",
                                    "2": "10.78",
                                    "3": "21.56",
                                    "4": "32.34",
                                    "5": "43.12"
                                },
                                {
                                    "0": "Menu du chef",
                                    "1": "Viennoiserie",
                                    "2": "10.78",
                                    "3": "21.56",
                                    "4": "32.34",
                                    "5": "43.12"
                                },
                                {
                                    "0": "Menu du chef",
                                    "1": "Viennoiserie",
                                    "2": "10.78",
                                    "3": "21.56",
                                    "4": "32.34",
                                    "5": "43.12"
                                },
                                {
                                    "0": "Menu du jour",
                                    "1": "Menu Action",
                                    "2": "18.00",
                                    "3": "36.00",
                                    "4": "54.00",
                                    "5": "72.00"
                                },
                                {
                                    "0": "Menu du jour",
                                    "1": "Menu Action",
                                    "2": "18.00",
                                    "3": "36.00",
                                    "4": "54.00",
                                    "5": "72.00"
                                },
                                {
                                    "0": "Menu du jour",
                                    "1": "Menu Action",
                                    "2": "18.00",
                                    "3": "36.00",
                                    "4": "54.00",
                                    "5": "72.00"
                                },
                                {
                                    "0": "Menu du jour",
                                    "1": "Menu Action",
                                    "2": "18.00",
                                    "3": "36.00",
                                    "4": "54.00",
                                    "5": "72.00"
                                },
                                {
                                    "0": "Menu du jour",
                                    "1": "Menu Action",
                                    "2": "18.00",
                                    "3": "36.00",
                                    "4": "54.00",
                                    "5": "72.00"
                                },
                                {
                                    "0": "Menu du jour",
                                    "1": "Menu Action",
                                    "2": "18.00",
                                    "3": "36.00",
                                    "4": "54.00",
                                    "5": "72.00"
                                },
                                {
                                    "0": "Menu du jour",
                                    "1": "Menu Action",
                                    "2": "18.00",
                                    "3": "36.00",
                                    "4": "54.00",
                                    "5": "72.00"
                                },
                                {
                                    "0": "Menu du jour",
                                    "1": "Menu Action",
                                    "2": "18.00",
                                    "3": "36.00",
                                    "4": "54.00",
                                    "5": "72.00"
                                },
                                {
                                    "0": "Menu du jour",
                                    "1": "Menu Action",
                                    "2": "18.00",
                                    "3": "36.00",
                                    "4": "54.00",
                                    "5": "72.00"
                                },
                                {
                                    "0": "Menu du jour",
                                    "1": "Menu clin d'oeil",
                                    "2": "18.96",
                                    "3": "37.92",
                                    "4": "56.88",
                                    "5": "75.84"
                                },
                                {
                                    "0": "Menu du jour",
                                    "1": "Menu clin d'oeil",
                                    "2": "18.96",
                                    "3": "37.92",
                                    "4": "56.88",
                                    "5": "75.84"
                                },
                                {
                                    "0": "Menu du jour",
                                    "1": "Menu clin d'oeil",
                                    "2": "18.96",
                                    "3": "37.92",
                                    "4": "56.88",
                                    "5": "75.84"
                                },
                                {
                                    "0": "Menu du jour",
                                    "1": "Menu clin d'oeil",
                                    "2": "18.96",
                                    "3": "37.92",
                                    "4": "56.88",
                                    "5": "75.84"
                                },
                                {
                                    "0": "Menu du jour",
                                    "1": "Menu clin d'oeil",
                                    "2": "18.96",
                                    "3": "37.92",
                                    "4": "56.88",
                                    "5": "75.84"
                                },
                                {
                                    "0": "Menu du jour",
                                    "1": "Menu clin d'oeil",
                                    "2": "18.96",
                                    "3": "37.92",
                                    "4": "56.88",
                                    "5": "75.84"
                                },
                                {
                                    "0": "Menu du jour",
                                    "1": "Menu clin d'oeil",
                                    "2": "18.96",
                                    "3": "37.92",
                                    "4": "56.88",
                                    "5": "75.84"
                                },
                                {
                                    "0": "Menu du jour",
                                    "1": "Menu clin d'oeil",
                                    "2": "18.96",
                                    "3": "37.92",
                                    "4": "56.88",
                                    "5": "75.84"
                                },
                                {
                                    "0": "Menu du jour",
                                    "1": "Menu clin d'oeil",
                                    "2": "18.96",
                                    "3": "37.92",
                                    "4": "56.88",
                                    "5": "75.84"
                                },
                                {
                                    "0": "Menu du jour",
                                    "1": "Menu de Noel",
                                    "2": "20.36",
                                    "3": "40.72",
                                    "4": "61.08",
                                    "5": "81.44"
                                },
                                {
                                    "0": "Menu du jour",
                                    "1": "Menu de Noel",
                                    "2": "20.36",
                                    "3": "40.72",
                                    "4": "61.08",
                                    "5": "81.44"
                                },
                                {
                                    "0": "Menu du jour",
                                    "1": "Menu de Noel",
                                    "2": "20.36",
                                    "3": "40.72",
                                    "4": "61.08",
                                    "5": "81.44"
                                },
                                {
                                    "0": "Menu du jour",
                                    "1": "Menu de Noel",
                                    "2": "20.36",
                                    "3": "40.72",
                                    "4": "61.08",
                                    "5": "81.44"
                                },
                                {
                                    "0": "Menu du jour",
                                    "1": "Menu de Noel",
                                    "2": "20.36",
                                    "3": "40.72",
                                    "4": "61.08",
                                    "5": "81.44"
                                },
                                {
                                    "0": "Menu du jour",
                                    "1": "Menu de Noel",
                                    "2": "20.36",
                                    "3": "40.72",
                                    "4": "61.08",
                                    "5": "81.44"
                                },
                                {
                                    "0": "Menu du jour",
                                    "1": "Menu de Noel",
                                    "2": "20.36",
                                    "3": "40.72",
                                    "4": "61.08",
                                    "5": "81.44"
                                },
                                {
                                    "0": "Menu du jour",
                                    "1": "Menu de Noel",
                                    "2": "20.36",
                                    "3": "40.72",
                                    "4": "61.08",
                                    "5": "81.44"
                                },
                                {
                                    "0": "Menu du jour",
                                    "1": "Menu de Noel",
                                    "2": "20.36",
                                    "3": "40.72",
                                    "4": "61.08",
                                    "5": "81.44"
                                },
                                {
                                    "0": "Menu du jour",
                                    "1": "Menu du chef",
                                    "2": "17.29",
                                    "3": "34.58",
                                    "4": "51.87",
                                    "5": "69.16"
                                },
                                {
                                    "0": "Menu du jour",
                                    "1": "Menu du chef",
                                    "2": "17.29",
                                    "3": "34.58",
                                    "4": "51.87",
                                    "5": "69.16"
                                },
                                {
                                    "0": "Menu du jour",
                                    "1": "Menu du chef",
                                    "2": "17.29",
                                    "3": "34.58",
                                    "4": "51.87",
                                    "5": "69.16"
                                },
                                {
                                    "0": "Menu du jour",
                                    "1": "Menu du chef",
                                    "2": "17.29",
                                    "3": "34.58",
                                    "4": "51.87",
                                    "5": "69.16"
                                },
                                {
                                    "0": "Menu du jour",
                                    "1": "Menu du chef",
                                    "2": "17.29",
                                    "3": "34.58",
                                    "4": "51.87",
                                    "5": "69.16"
                                },
                                {
                                    "0": "Menu du jour",
                                    "1": "Menu du chef",
                                    "2": "17.29",
                                    "3": "34.58",
                                    "4": "51.87",
                                    "5": "69.16"
                                },
                                {
                                    "0": "Menu du jour",
                                    "1": "Menu du chef",
                                    "2": "17.29",
                                    "3": "34.58",
                                    "4": "51.87",
                                    "5": "69.16"
                                },
                                {
                                    "0": "Menu du jour",
                                    "1": "Menu du chef",
                                    "2": "17.29",
                                    "3": "34.58",
                                    "4": "51.87",
                                    "5": "69.16"
                                },
                                {
                                    "0": "Menu du jour",
                                    "1": "Menu du chef",
                                    "2": "17.29",
                                    "3": "34.58",
                                    "4": "51.87",
                                    "5": "69.16"
                                },
                                {
                                    "0": "Menu du jour",
                                    "1": "Menu du jour",
                                    "2": "14.86",
                                    "3": "29.72",
                                    "4": "44.58",
                                    "5": "59.44"
                                },
                                {
                                    "0": "Menu du jour",
                                    "1": "Menu du jour",
                                    "2": "14.86",
                                    "3": "29.72",
                                    "4": "44.58",
                                    "5": "59.44"
                                },
                                {
                                    "0": "Menu du jour",
                                    "1": "Menu du jour",
                                    "2": "14.86",
                                    "3": "29.72",
                                    "4": "44.58",
                                    "5": "59.44"
                                },
                                {
                                    "0": "Menu du jour",
                                    "1": "Menu du jour",
                                    "2": "14.86",
                                    "3": "29.72",
                                    "4": "44.58",
                                    "5": "59.44"
                                },
                                {
                                    "0": "Menu du jour",
                                    "1": "Menu du jour",
                                    "2": "14.86",
                                    "3": "29.72",
                                    "4": "44.58",
                                    "5": "59.44"
                                },
                                {
                                    "0": "Menu du jour",
                                    "1": "Menu du jour",
                                    "2": "14.86",
                                    "3": "29.72",
                                    "4": "44.58",
                                    "5": "59.44"
                                },
                                {
                                    "0": "Menu du jour",
                                    "1": "Menu du jour",
                                    "2": "14.86",
                                    "3": "29.72",
                                    "4": "44.58",
                                    "5": "59.44"
                                },
                                {
                                    "0": "Menu du jour",
                                    "1": "Menu du jour",
                                    "2": "14.86",
                                    "3": "29.72",
                                    "4": "44.58",
                                    "5": "59.44"
                                },
                                {
                                    "0": "Menu du jour",
                                    "1": "Menu du jour",
                                    "2": "14.86",
                                    "3": "29.72",
                                    "4": "44.58",
                                    "5": "59.44"
                                },
                                {
                                    "0": "Menu du jour",
                                    "1": "Menu gourmet",
                                    "2": "23.16",
                                    "3": "46.32",
                                    "4": "69.48",
                                    "5": "92.64"
                                },
                                {
                                    "0": "Menu du jour",
                                    "1": "Menu gourmet",
                                    "2": "23.16",
                                    "3": "46.32",
                                    "4": "69.48",
                                    "5": "92.64"
                                },
                                {
                                    "0": "Menu du jour",
                                    "1": "Menu gourmet",
                                    "2": "23.16",
                                    "3": "46.32",
                                    "4": "69.48",
                                    "5": "92.64"
                                },
                                {
                                    "0": "Menu du jour",
                                    "1": "Menu gourmet",
                                    "2": "23.16",
                                    "3": "46.32",
                                    "4": "69.48",
                                    "5": "92.64"
                                },
                                {
                                    "0": "Menu du jour",
                                    "1": "Menu gourmet",
                                    "2": "23.16",
                                    "3": "46.32",
                                    "4": "69.48",
                                    "5": "92.64"
                                },
                                {
                                    "0": "Menu du jour",
                                    "1": "Menu gourmet",
                                    "2": "23.16",
                                    "3": "46.32",
                                    "4": "69.48",
                                    "5": "92.64"
                                },
                                {
                                    "0": "Menu du jour",
                                    "1": "Menu gourmet",
                                    "2": "23.16",
                                    "3": "46.32",
                                    "4": "69.48",
                                    "5": "92.64"
                                },
                                {
                                    "0": "Menu du jour",
                                    "1": "Menu gourmet",
                                    "2": "23.16",
                                    "3": "46.32",
                                    "4": "69.48",
                                    "5": "92.64"
                                },
                                {
                                    "0": "Menu du jour",
                                    "1": "Menu gourmet",
                                    "2": "23.16",
                                    "3": "46.32",
                                    "4": "69.48",
                                    "5": "92.64"
                                },
                                {
                                    "0": "Menu du jour",
                                    "1": "Sandwich",
                                    "2": "9.23",
                                    "3": "18.46",
                                    "4": "27.69",
                                    "5": "36.92"
                                },
                                {
                                    "0": "Menu du jour",
                                    "1": "Sandwich",
                                    "2": "9.23",
                                    "3": "18.46",
                                    "4": "27.69",
                                    "5": "36.92"
                                },
                                {
                                    "0": "Menu du jour",
                                    "1": "Sandwich",
                                    "2": "9.23",
                                    "3": "18.46",
                                    "4": "27.69",
                                    "5": "36.92"
                                },
                                {
                                    "0": "Menu du jour",
                                    "1": "Sandwich",
                                    "2": "9.23",
                                    "3": "18.46",
                                    "4": "27.69",
                                    "5": "36.92"
                                },
                                {
                                    "0": "Menu du jour",
                                    "1": "Sandwich",
                                    "2": "9.23",
                                    "3": "18.46",
                                    "4": "27.69",
                                    "5": "36.92"
                                },
                                {
                                    "0": "Menu du jour",
                                    "1": "Sandwich",
                                    "2": "9.23",
                                    "3": "18.46",
                                    "4": "27.69",
                                    "5": "36.92"
                                },
                                {
                                    "0": "Menu du jour",
                                    "1": "Sandwich",
                                    "2": "9.23",
                                    "3": "18.46",
                                    "4": "27.69",
                                    "5": "36.92"
                                },
                                {
                                    "0": "Menu du jour",
                                    "1": "Sandwich",
                                    "2": "9.23",
                                    "3": "18.46",
                                    "4": "27.69",
                                    "5": "36.92"
                                },
                                {
                                    "0": "Menu du jour",
                                    "1": "Sandwich",
                                    "2": "9.23",
                                    "3": "18.46",
                                    "4": "27.69",
                                    "5": "36.92"
                                },
                                {
                                    "0": "Menu du jour",
                                    "1": "Suplement",
                                    "2": "8.52",
                                    "3": "17.04",
                                    "4": "25.56",
                                    "5": "34.08"
                                },
                                {
                                    "0": "Menu du jour",
                                    "1": "Suplement",
                                    "2": "8.52",
                                    "3": "17.04",
                                    "4": "25.56",
                                    "5": "34.08"
                                },
                                {
                                    "0": "Menu du jour",
                                    "1": "Suplement",
                                    "2": "8.52",
                                    "3": "17.04",
                                    "4": "25.56",
                                    "5": "34.08"
                                },
                                {
                                    "0": "Menu du jour",
                                    "1": "Suplement",
                                    "2": "8.52",
                                    "3": "17.04",
                                    "4": "25.56",
                                    "5": "34.08"
                                },
                                {
                                    "0": "Menu du jour",
                                    "1": "Suplement",
                                    "2": "8.52",
                                    "3": "17.04",
                                    "4": "25.56",
                                    "5": "34.08"
                                },
                                {
                                    "0": "Menu du jour",
                                    "1": "Suplement",
                                    "2": "8.52",
                                    "3": "17.04",
                                    "4": "25.56",
                                    "5": "34.08"
                                },
                                {
                                    "0": "Menu du jour",
                                    "1": "Suplement",
                                    "2": "8.52",
                                    "3": "17.04",
                                    "4": "25.56",
                                    "5": "34.08"
                                },
                                {
                                    "0": "Menu du jour",
                                    "1": "Suplement",
                                    "2": "8.52",
                                    "3": "17.04",
                                    "4": "25.56",
                                    "5": "34.08"
                                },
                                {
                                    "0": "Menu du jour",
                                    "1": "Suplement",
                                    "2": "8.52",
                                    "3": "17.04",
                                    "4": "25.56",
                                    "5": "34.08"
                                },
                                {
                                    "0": "Menu du jour",
                                    "1": "Viennoiserie",
                                    "2": "8.35",
                                    "3": "16.70",
                                    "4": "25.05",
                                    "5": "33.40"
                                },
                                {
                                    "0": "Menu du jour",
                                    "1": "Viennoiserie",
                                    "2": "8.35",
                                    "3": "16.70",
                                    "4": "25.05",
                                    "5": "33.40"
                                },
                                {
                                    "0": "Menu du jour",
                                    "1": "Viennoiserie",
                                    "2": "8.35",
                                    "3": "16.70",
                                    "4": "25.05",
                                    "5": "33.40"
                                },
                                {
                                    "0": "Menu du jour",
                                    "1": "Viennoiserie",
                                    "2": "8.35",
                                    "3": "16.70",
                                    "4": "25.05",
                                    "5": "33.40"
                                },
                                {
                                    "0": "Menu du jour",
                                    "1": "Viennoiserie",
                                    "2": "8.35",
                                    "3": "16.70",
                                    "4": "25.05",
                                    "5": "33.40"
                                },
                                {
                                    "0": "Menu du jour",
                                    "1": "Viennoiserie",
                                    "2": "8.35",
                                    "3": "16.70",
                                    "4": "25.05",
                                    "5": "33.40"
                                },
                                {
                                    "0": "Menu du jour",
                                    "1": "Viennoiserie",
                                    "2": "8.35",
                                    "3": "16.70",
                                    "4": "25.05",
                                    "5": "33.40"
                                },
                                {
                                    "0": "Menu du jour",
                                    "1": "Viennoiserie",
                                    "2": "8.35",
                                    "3": "16.70",
                                    "4": "25.05",
                                    "5": "33.40"
                                },
                                {
                                    "0": "Menu du jour",
                                    "1": "Viennoiserie",
                                    "2": "8.35",
                                    "3": "16.70",
                                    "4": "25.05",
                                    "5": "33.40"
                                },
                                {
                                    "0": "Menu gourmet",
                                    "1": "Menu Action",
                                    "2": "26.30",
                                    "3": "52.60",
                                    "4": "78.90",
                                    "5": "105.20"
                                },
                                {
                                    "0": "Menu gourmet",
                                    "1": "Menu Action",
                                    "2": "26.30",
                                    "3": "52.60",
                                    "4": "78.90",
                                    "5": "105.20"
                                },
                                {
                                    "0": "Menu gourmet",
                                    "1": "Menu Action",
                                    "2": "26.30",
                                    "3": "52.60",
                                    "4": "78.90",
                                    "5": "105.20"
                                },
                                {
                                    "0": "Menu gourmet",
                                    "1": "Menu Action",
                                    "2": "26.30",
                                    "3": "52.60",
                                    "4": "78.90",
                                    "5": "105.20"
                                },
                                {
                                    "0": "Menu gourmet",
                                    "1": "Menu Action",
                                    "2": "26.30",
                                    "3": "52.60",
                                    "4": "78.90",
                                    "5": "105.20"
                                },
                                {
                                    "0": "Menu gourmet",
                                    "1": "Menu Action",
                                    "2": "26.30",
                                    "3": "52.60",
                                    "4": "78.90",
                                    "5": "105.20"
                                },
                                {
                                    "0": "Menu gourmet",
                                    "1": "Menu Action",
                                    "2": "26.30",
                                    "3": "52.60",
                                    "4": "78.90",
                                    "5": "105.20"
                                },
                                {
                                    "0": "Menu gourmet",
                                    "1": "Menu Action",
                                    "2": "26.30",
                                    "3": "52.60",
                                    "4": "78.90",
                                    "5": "105.20"
                                },
                                {
                                    "0": "Menu gourmet",
                                    "1": "Menu Action",
                                    "2": "26.30",
                                    "3": "52.60",
                                    "4": "78.90",
                                    "5": "105.20"
                                },
                                {
                                    "0": "Menu gourmet",
                                    "1": "Menu clin d'oeil",
                                    "2": "27.26",
                                    "3": "54.52",
                                    "4": "81.78",
                                    "5": "109.04"
                                },
                                {
                                    "0": "Menu gourmet",
                                    "1": "Menu clin d'oeil",
                                    "2": "27.26",
                                    "3": "54.52",
                                    "4": "81.78",
                                    "5": "109.04"
                                },
                                {
                                    "0": "Menu gourmet",
                                    "1": "Menu clin d'oeil",
                                    "2": "27.26",
                                    "3": "54.52",
                                    "4": "81.78",
                                    "5": "109.04"
                                },
                                {
                                    "0": "Menu gourmet",
                                    "1": "Menu clin d'oeil",
                                    "2": "27.26",
                                    "3": "54.52",
                                    "4": "81.78",
                                    "5": "109.04"
                                },
                                {
                                    "0": "Menu gourmet",
                                    "1": "Menu clin d'oeil",
                                    "2": "27.26",
                                    "3": "54.52",
                                    "4": "81.78",
                                    "5": "109.04"
                                },
                                {
                                    "0": "Menu gourmet",
                                    "1": "Menu clin d'oeil",
                                    "2": "27.26",
                                    "3": "54.52",
                                    "4": "81.78",
                                    "5": "109.04"
                                },
                                {
                                    "0": "Menu gourmet",
                                    "1": "Menu clin d'oeil",
                                    "2": "27.26",
                                    "3": "54.52",
                                    "4": "81.78",
                                    "5": "109.04"
                                },
                                {
                                    "0": "Menu gourmet",
                                    "1": "Menu clin d'oeil",
                                    "2": "27.26",
                                    "3": "54.52",
                                    "4": "81.78",
                                    "5": "109.04"
                                },
                                {
                                    "0": "Menu gourmet",
                                    "1": "Menu clin d'oeil",
                                    "2": "27.26",
                                    "3": "54.52",
                                    "4": "81.78",
                                    "5": "109.04"
                                },
                                {
                                    "0": "Menu gourmet",
                                    "1": "Menu de Noel",
                                    "2": "28.66",
                                    "3": "57.32",
                                    "4": "85.98",
                                    "5": "114.64"
                                },
                                {
                                    "0": "Menu gourmet",
                                    "1": "Menu de Noel",
                                    "2": "28.66",
                                    "3": "57.32",
                                    "4": "85.98",
                                    "5": "114.64"
                                },
                                {
                                    "0": "Menu gourmet",
                                    "1": "Menu de Noel",
                                    "2": "28.66",
                                    "3": "57.32",
                                    "4": "85.98",
                                    "5": "114.64"
                                },
                                {
                                    "0": "Menu gourmet",
                                    "1": "Menu de Noel",
                                    "2": "28.66",
                                    "3": "57.32",
                                    "4": "85.98",
                                    "5": "114.64"
                                },
                                {
                                    "0": "Menu gourmet",
                                    "1": "Menu de Noel",
                                    "2": "28.66",
                                    "3": "57.32",
                                    "4": "85.98",
                                    "5": "114.64"
                                },
                                {
                                    "0": "Menu gourmet",
                                    "1": "Menu de Noel",
                                    "2": "28.66",
                                    "3": "57.32",
                                    "4": "85.98",
                                    "5": "114.64"
                                },
                                {
                                    "0": "Menu gourmet",
                                    "1": "Menu de Noel",
                                    "2": "28.66",
                                    "3": "57.32",
                                    "4": "85.98",
                                    "5": "114.64"
                                },
                                {
                                    "0": "Menu gourmet",
                                    "1": "Menu de Noel",
                                    "2": "28.66",
                                    "3": "57.32",
                                    "4": "85.98",
                                    "5": "114.64"
                                },
                                {
                                    "0": "Menu gourmet",
                                    "1": "Menu de Noel",
                                    "2": "28.66",
                                    "3": "57.32",
                                    "4": "85.98",
                                    "5": "114.64"
                                },
                                {
                                    "0": "Menu gourmet",
                                    "1": "Menu du chef",
                                    "2": "25.59",
                                    "3": "51.18",
                                    "4": "76.77",
                                    "5": "102.36"
                                },
                                {
                                    "0": "Menu gourmet",
                                    "1": "Menu du chef",
                                    "2": "25.59",
                                    "3": "51.18",
                                    "4": "76.77",
                                    "5": "102.36"
                                },
                                {
                                    "0": "Menu gourmet",
                                    "1": "Menu du chef",
                                    "2": "25.59",
                                    "3": "51.18",
                                    "4": "76.77",
                                    "5": "102.36"
                                },
                                {
                                    "0": "Menu gourmet",
                                    "1": "Menu du chef",
                                    "2": "25.59",
                                    "3": "51.18",
                                    "4": "76.77",
                                    "5": "102.36"
                                },
                                {
                                    "0": "Menu gourmet",
                                    "1": "Menu du chef",
                                    "2": "25.59",
                                    "3": "51.18",
                                    "4": "76.77",
                                    "5": "102.36"
                                },
                                {
                                    "0": "Menu gourmet",
                                    "1": "Menu du chef",
                                    "2": "25.59",
                                    "3": "51.18",
                                    "4": "76.77",
                                    "5": "102.36"
                                },
                                {
                                    "0": "Menu gourmet",
                                    "1": "Menu du chef",
                                    "2": "25.59",
                                    "3": "51.18",
                                    "4": "76.77",
                                    "5": "102.36"
                                },
                                {
                                    "0": "Menu gourmet",
                                    "1": "Menu du chef",
                                    "2": "25.59",
                                    "3": "51.18",
                                    "4": "76.77",
                                    "5": "102.36"
                                },
                                {
                                    "0": "Menu gourmet",
                                    "1": "Menu du chef",
                                    "2": "25.59",
                                    "3": "51.18",
                                    "4": "76.77",
                                    "5": "102.36"
                                },
                                {
                                    "0": "Menu gourmet",
                                    "1": "Menu du jour",
                                    "2": "23.16",
                                    "3": "46.32",
                                    "4": "69.48",
                                    "5": "92.64"
                                },
                                {
                                    "0": "Menu gourmet",
                                    "1": "Menu du jour",
                                    "2": "23.16",
                                    "3": "46.32",
                                    "4": "69.48",
                                    "5": "92.64"
                                },
                                {
                                    "0": "Menu gourmet",
                                    "1": "Menu du jour",
                                    "2": "23.16",
                                    "3": "46.32",
                                    "4": "69.48",
                                    "5": "92.64"
                                },
                                {
                                    "0": "Menu gourmet",
                                    "1": "Menu du jour",
                                    "2": "23.16",
                                    "3": "46.32",
                                    "4": "69.48",
                                    "5": "92.64"
                                },
                                {
                                    "0": "Menu gourmet",
                                    "1": "Menu du jour",
                                    "2": "23.16",
                                    "3": "46.32",
                                    "4": "69.48",
                                    "5": "92.64"
                                },
                                {
                                    "0": "Menu gourmet",
                                    "1": "Menu du jour",
                                    "2": "23.16",
                                    "3": "46.32",
                                    "4": "69.48",
                                    "5": "92.64"
                                },
                                {
                                    "0": "Menu gourmet",
                                    "1": "Menu du jour",
                                    "2": "23.16",
                                    "3": "46.32",
                                    "4": "69.48",
                                    "5": "92.64"
                                },
                                {
                                    "0": "Menu gourmet",
                                    "1": "Menu du jour",
                                    "2": "23.16",
                                    "3": "46.32",
                                    "4": "69.48",
                                    "5": "92.64"
                                },
                                {
                                    "0": "Menu gourmet",
                                    "1": "Menu du jour",
                                    "2": "23.16",
                                    "3": "46.32",
                                    "4": "69.48",
                                    "5": "92.64"
                                },
                                {
                                    "0": "Menu gourmet",
                                    "1": "Menu gourmet",
                                    "2": "31.46",
                                    "3": "62.92",
                                    "4": "94.38",
                                    "5": "125.84"
                                },
                                {
                                    "0": "Menu gourmet",
                                    "1": "Menu gourmet",
                                    "2": "31.46",
                                    "3": "62.92",
                                    "4": "94.38",
                                    "5": "125.84"
                                },
                                {
                                    "0": "Menu gourmet",
                                    "1": "Menu gourmet",
                                    "2": "31.46",
                                    "3": "62.92",
                                    "4": "94.38",
                                    "5": "125.84"
                                },
                                {
                                    "0": "Menu gourmet",
                                    "1": "Menu gourmet",
                                    "2": "31.46",
                                    "3": "62.92",
                                    "4": "94.38",
                                    "5": "125.84"
                                },
                                {
                                    "0": "Menu gourmet",
                                    "1": "Menu gourmet",
                                    "2": "31.46",
                                    "3": "62.92",
                                    "4": "94.38",
                                    "5": "125.84"
                                },
                                {
                                    "0": "Menu gourmet",
                                    "1": "Menu gourmet",
                                    "2": "31.46",
                                    "3": "62.92",
                                    "4": "94.38",
                                    "5": "125.84"
                                },
                                {
                                    "0": "Menu gourmet",
                                    "1": "Menu gourmet",
                                    "2": "31.46",
                                    "3": "62.92",
                                    "4": "94.38",
                                    "5": "125.84"
                                },
                                {
                                    "0": "Menu gourmet",
                                    "1": "Menu gourmet",
                                    "2": "31.46",
                                    "3": "62.92",
                                    "4": "94.38",
                                    "5": "125.84"
                                },
                                {
                                    "0": "Menu gourmet",
                                    "1": "Menu gourmet",
                                    "2": "31.46",
                                    "3": "62.92",
                                    "4": "94.38",
                                    "5": "125.84"
                                },
                                {
                                    "0": "Menu gourmet",
                                    "1": "Sandwich",
                                    "2": "17.53",
                                    "3": "35.06",
                                    "4": "52.59",
                                    "5": "70.12"
                                },
                                {
                                    "0": "Menu gourmet",
                                    "1": "Sandwich",
                                    "2": "17.53",
                                    "3": "35.06",
                                    "4": "52.59",
                                    "5": "70.12"
                                },
                                {
                                    "0": "Menu gourmet",
                                    "1": "Sandwich",
                                    "2": "17.53",
                                    "3": "35.06",
                                    "4": "52.59",
                                    "5": "70.12"
                                },
                                {
                                    "0": "Menu gourmet",
                                    "1": "Sandwich",
                                    "2": "17.53",
                                    "3": "35.06",
                                    "4": "52.59",
                                    "5": "70.12"
                                },
                                {
                                    "0": "Menu gourmet",
                                    "1": "Sandwich",
                                    "2": "17.53",
                                    "3": "35.06",
                                    "4": "52.59",
                                    "5": "70.12"
                                },
                                {
                                    "0": "Menu gourmet",
                                    "1": "Sandwich",
                                    "2": "17.53",
                                    "3": "35.06",
                                    "4": "52.59",
                                    "5": "70.12"
                                },
                                {
                                    "0": "Menu gourmet",
                                    "1": "Sandwich",
                                    "2": "17.53",
                                    "3": "35.06",
                                    "4": "52.59",
                                    "5": "70.12"
                                },
                                {
                                    "0": "Menu gourmet",
                                    "1": "Sandwich",
                                    "2": "17.53",
                                    "3": "35.06",
                                    "4": "52.59",
                                    "5": "70.12"
                                },
                                {
                                    "0": "Menu gourmet",
                                    "1": "Sandwich",
                                    "2": "17.53",
                                    "3": "35.06",
                                    "4": "52.59",
                                    "5": "70.12"
                                },
                                {
                                    "0": "Menu gourmet",
                                    "1": "Suplement",
                                    "2": "16.82",
                                    "3": "33.64",
                                    "4": "50.46",
                                    "5": "67.28"
                                },
                                {
                                    "0": "Menu gourmet",
                                    "1": "Suplement",
                                    "2": "16.82",
                                    "3": "33.64",
                                    "4": "50.46",
                                    "5": "67.28"
                                },
                                {
                                    "0": "Menu gourmet",
                                    "1": "Suplement",
                                    "2": "16.82",
                                    "3": "33.64",
                                    "4": "50.46",
                                    "5": "67.28"
                                },
                                {
                                    "0": "Menu gourmet",
                                    "1": "Suplement",
                                    "2": "16.82",
                                    "3": "33.64",
                                    "4": "50.46",
                                    "5": "67.28"
                                },
                                {
                                    "0": "Menu gourmet",
                                    "1": "Suplement",
                                    "2": "16.82",
                                    "3": "33.64",
                                    "4": "50.46",
                                    "5": "67.28"
                                },
                                {
                                    "0": "Menu gourmet",
                                    "1": "Suplement",
                                    "2": "16.82",
                                    "3": "33.64",
                                    "4": "50.46",
                                    "5": "67.28"
                                },
                                {
                                    "0": "Menu gourmet",
                                    "1": "Suplement",
                                    "2": "16.82",
                                    "3": "33.64",
                                    "4": "50.46",
                                    "5": "67.28"
                                },
                                {
                                    "0": "Menu gourmet",
                                    "1": "Suplement",
                                    "2": "16.82",
                                    "3": "33.64",
                                    "4": "50.46",
                                    "5": "67.28"
                                },
                                {
                                    "0": "Menu gourmet",
                                    "1": "Suplement",
                                    "2": "16.82",
                                    "3": "33.64",
                                    "4": "50.46",
                                    "5": "67.28"
                                },
                                {
                                    "0": "Menu gourmet",
                                    "1": "Viennoiserie",
                                    "2": "16.65",
                                    "3": "33.30",
                                    "4": "49.95",
                                    "5": "66.60"
                                },
                                {
                                    "0": "Menu gourmet",
                                    "1": "Viennoiserie",
                                    "2": "16.65",
                                    "3": "33.30",
                                    "4": "49.95",
                                    "5": "66.60"
                                },
                                {
                                    "0": "Menu gourmet",
                                    "1": "Viennoiserie",
                                    "2": "16.65",
                                    "3": "33.30",
                                    "4": "49.95",
                                    "5": "66.60"
                                },
                                {
                                    "0": "Menu gourmet",
                                    "1": "Viennoiserie",
                                    "2": "16.65",
                                    "3": "33.30",
                                    "4": "49.95",
                                    "5": "66.60"
                                },
                                {
                                    "0": "Menu gourmet",
                                    "1": "Viennoiserie",
                                    "2": "16.65",
                                    "3": "33.30",
                                    "4": "49.95",
                                    "5": "66.60"
                                },
                                {
                                    "0": "Menu gourmet",
                                    "1": "Viennoiserie",
                                    "2": "16.65",
                                    "3": "33.30",
                                    "4": "49.95",
                                    "5": "66.60"
                                },
                                {
                                    "0": "Menu gourmet",
                                    "1": "Viennoiserie",
                                    "2": "16.65",
                                    "3": "33.30",
                                    "4": "49.95",
                                    "5": "66.60"
                                },
                                {
                                    "0": "Menu gourmet",
                                    "1": "Viennoiserie",
                                    "2": "16.65",
                                    "3": "33.30",
                                    "4": "49.95",
                                    "5": "66.60"
                                },
                                {
                                    "0": "Menu gourmet",
                                    "1": "Viennoiserie",
                                    "2": "16.65",
                                    "3": "33.30",
                                    "4": "49.95",
                                    "5": "66.60"
                                },
                                {
                                    "0": "Sandwich",
                                    "1": "Menu Action",
                                    "2": "12.37",
                                    "3": "24.74",
                                    "4": "37.11",
                                    "5": "49.48"
                                },
                                {
                                    "0": "Sandwich",
                                    "1": "Menu Action",
                                    "2": "12.37",
                                    "3": "24.74",
                                    "4": "37.11",
                                    "5": "49.48"
                                },
                                {
                                    "0": "Sandwich",
                                    "1": "Menu Action",
                                    "2": "12.37",
                                    "3": "24.74",
                                    "4": "37.11",
                                    "5": "49.48"
                                },
                                {
                                    "0": "Sandwich",
                                    "1": "Menu Action",
                                    "2": "12.37",
                                    "3": "24.74",
                                    "4": "37.11",
                                    "5": "49.48"
                                },
                                {
                                    "0": "Sandwich",
                                    "1": "Menu Action",
                                    "2": "12.37",
                                    "3": "24.74",
                                    "4": "37.11",
                                    "5": "49.48"
                                },
                                {
                                    "0": "Sandwich",
                                    "1": "Menu Action",
                                    "2": "12.37",
                                    "3": "24.74",
                                    "4": "37.11",
                                    "5": "49.48"
                                },
                                {
                                    "0": "Sandwich",
                                    "1": "Menu Action",
                                    "2": "12.37",
                                    "3": "24.74",
                                    "4": "37.11",
                                    "5": "49.48"
                                },
                                {
                                    "0": "Sandwich",
                                    "1": "Menu Action",
                                    "2": "12.37",
                                    "3": "24.74",
                                    "4": "37.11",
                                    "5": "49.48"
                                },
                                {
                                    "0": "Sandwich",
                                    "1": "Menu Action",
                                    "2": "12.37",
                                    "3": "24.74",
                                    "4": "37.11",
                                    "5": "49.48"
                                },
                                {
                                    "0": "Sandwich",
                                    "1": "Menu clin d'oeil",
                                    "2": "13.33",
                                    "3": "26.66",
                                    "4": "39.99",
                                    "5": "53.32"
                                },
                                {
                                    "0": "Sandwich",
                                    "1": "Menu clin d'oeil",
                                    "2": "13.33",
                                    "3": "26.66",
                                    "4": "39.99",
                                    "5": "53.32"
                                },
                                {
                                    "0": "Sandwich",
                                    "1": "Menu clin d'oeil",
                                    "2": "13.33",
                                    "3": "26.66",
                                    "4": "39.99",
                                    "5": "53.32"
                                },
                                {
                                    "0": "Sandwich",
                                    "1": "Menu clin d'oeil",
                                    "2": "13.33",
                                    "3": "26.66",
                                    "4": "39.99",
                                    "5": "53.32"
                                },
                                {
                                    "0": "Sandwich",
                                    "1": "Menu clin d'oeil",
                                    "2": "13.33",
                                    "3": "26.66",
                                    "4": "39.99",
                                    "5": "53.32"
                                },
                                {
                                    "0": "Sandwich",
                                    "1": "Menu clin d'oeil",
                                    "2": "13.33",
                                    "3": "26.66",
                                    "4": "39.99",
                                    "5": "53.32"
                                },
                                {
                                    "0": "Sandwich",
                                    "1": "Menu clin d'oeil",
                                    "2": "13.33",
                                    "3": "26.66",
                                    "4": "39.99",
                                    "5": "53.32"
                                },
                                {
                                    "0": "Sandwich",
                                    "1": "Menu clin d'oeil",
                                    "2": "13.33",
                                    "3": "26.66",
                                    "4": "39.99",
                                    "5": "53.32"
                                },
                                {
                                    "0": "Sandwich",
                                    "1": "Menu clin d'oeil",
                                    "2": "13.33",
                                    "3": "26.66",
                                    "4": "39.99",
                                    "5": "53.32"
                                },
                                {
                                    "0": "Sandwich",
                                    "1": "Menu de Noel",
                                    "2": "14.73",
                                    "3": "29.46",
                                    "4": "44.19",
                                    "5": "58.92"
                                },
                                {
                                    "0": "Sandwich",
                                    "1": "Menu de Noel",
                                    "2": "14.73",
                                    "3": "29.46",
                                    "4": "44.19",
                                    "5": "58.92"
                                },
                                {
                                    "0": "Sandwich",
                                    "1": "Menu de Noel",
                                    "2": "14.73",
                                    "3": "29.46",
                                    "4": "44.19",
                                    "5": "58.92"
                                },
                                {
                                    "0": "Sandwich",
                                    "1": "Menu de Noel",
                                    "2": "14.73",
                                    "3": "29.46",
                                    "4": "44.19",
                                    "5": "58.92"
                                },
                                {
                                    "0": "Sandwich",
                                    "1": "Menu de Noel",
                                    "2": "14.73",
                                    "3": "29.46",
                                    "4": "44.19",
                                    "5": "58.92"
                                },
                                {
                                    "0": "Sandwich",
                                    "1": "Menu de Noel",
                                    "2": "14.73",
                                    "3": "29.46",
                                    "4": "44.19",
                                    "5": "58.92"
                                },
                                {
                                    "0": "Sandwich",
                                    "1": "Menu de Noel",
                                    "2": "14.73",
                                    "3": "29.46",
                                    "4": "44.19",
                                    "5": "58.92"
                                },
                                {
                                    "0": "Sandwich",
                                    "1": "Menu de Noel",
                                    "2": "14.73",
                                    "3": "29.46",
                                    "4": "44.19",
                                    "5": "58.92"
                                },
                                {
                                    "0": "Sandwich",
                                    "1": "Menu de Noel",
                                    "2": "14.73",
                                    "3": "29.46",
                                    "4": "44.19",
                                    "5": "58.92"
                                },
                                {
                                    "0": "Sandwich",
                                    "1": "Menu du chef",
                                    "2": "11.66",
                                    "3": "23.32",
                                    "4": "34.98",
                                    "5": "46.64"
                                },
                                {
                                    "0": "Sandwich",
                                    "1": "Menu du chef",
                                    "2": "11.66",
                                    "3": "23.32",
                                    "4": "34.98",
                                    "5": "46.64"
                                },
                                {
                                    "0": "Sandwich",
                                    "1": "Menu du chef",
                                    "2": "11.66",
                                    "3": "23.32",
                                    "4": "34.98",
                                    "5": "46.64"
                                },
                                {
                                    "0": "Sandwich",
                                    "1": "Menu du chef",
                                    "2": "11.66",
                                    "3": "23.32",
                                    "4": "34.98",
                                    "5": "46.64"
                                },
                                {
                                    "0": "Sandwich",
                                    "1": "Menu du chef",
                                    "2": "11.66",
                                    "3": "23.32",
                                    "4": "34.98",
                                    "5": "46.64"
                                },
                                {
                                    "0": "Sandwich",
                                    "1": "Menu du chef",
                                    "2": "11.66",
                                    "3": "23.32",
                                    "4": "34.98",
                                    "5": "46.64"
                                },
                                {
                                    "0": "Sandwich",
                                    "1": "Menu du chef",
                                    "2": "11.66",
                                    "3": "23.32",
                                    "4": "34.98",
                                    "5": "46.64"
                                },
                                {
                                    "0": "Sandwich",
                                    "1": "Menu du chef",
                                    "2": "11.66",
                                    "3": "23.32",
                                    "4": "34.98",
                                    "5": "46.64"
                                },
                                {
                                    "0": "Sandwich",
                                    "1": "Menu du chef",
                                    "2": "11.66",
                                    "3": "23.32",
                                    "4": "34.98",
                                    "5": "46.64"
                                },
                                {
                                    "0": "Sandwich",
                                    "1": "Menu du jour",
                                    "2": "9.23",
                                    "3": "18.46",
                                    "4": "27.69",
                                    "5": "36.92"
                                },
                                {
                                    "0": "Sandwich",
                                    "1": "Menu du jour",
                                    "2": "9.23",
                                    "3": "18.46",
                                    "4": "27.69",
                                    "5": "36.92"
                                },
                                {
                                    "0": "Sandwich",
                                    "1": "Menu du jour",
                                    "2": "9.23",
                                    "3": "18.46",
                                    "4": "27.69",
                                    "5": "36.92"
                                },
                                {
                                    "0": "Sandwich",
                                    "1": "Menu du jour",
                                    "2": "9.23",
                                    "3": "18.46",
                                    "4": "27.69",
                                    "5": "36.92"
                                },
                                {
                                    "0": "Sandwich",
                                    "1": "Menu du jour",
                                    "2": "9.23",
                                    "3": "18.46",
                                    "4": "27.69",
                                    "5": "36.92"
                                },
                                {
                                    "0": "Sandwich",
                                    "1": "Menu du jour",
                                    "2": "9.23",
                                    "3": "18.46",
                                    "4": "27.69",
                                    "5": "36.92"
                                },
                                {
                                    "0": "Sandwich",
                                    "1": "Menu du jour",
                                    "2": "9.23",
                                    "3": "18.46",
                                    "4": "27.69",
                                    "5": "36.92"
                                },
                                {
                                    "0": "Sandwich",
                                    "1": "Menu du jour",
                                    "2": "9.23",
                                    "3": "18.46",
                                    "4": "27.69",
                                    "5": "36.92"
                                },
                                {
                                    "0": "Sandwich",
                                    "1": "Menu du jour",
                                    "2": "9.23",
                                    "3": "18.46",
                                    "4": "27.69",
                                    "5": "36.92"
                                },
                                {
                                    "0": "Sandwich",
                                    "1": "Menu gourmet",
                                    "2": "17.53",
                                    "3": "35.06",
                                    "4": "52.59",
                                    "5": "70.12"
                                },
                                {
                                    "0": "Sandwich",
                                    "1": "Menu gourmet",
                                    "2": "17.53",
                                    "3": "35.06",
                                    "4": "52.59",
                                    "5": "70.12"
                                },
                                {
                                    "0": "Sandwich",
                                    "1": "Menu gourmet",
                                    "2": "17.53",
                                    "3": "35.06",
                                    "4": "52.59",
                                    "5": "70.12"
                                },
                                {
                                    "0": "Sandwich",
                                    "1": "Menu gourmet",
                                    "2": "17.53",
                                    "3": "35.06",
                                    "4": "52.59",
                                    "5": "70.12"
                                },
                                {
                                    "0": "Sandwich",
                                    "1": "Menu gourmet",
                                    "2": "17.53",
                                    "3": "35.06",
                                    "4": "52.59",
                                    "5": "70.12"
                                },
                                {
                                    "0": "Sandwich",
                                    "1": "Menu gourmet",
                                    "2": "17.53",
                                    "3": "35.06",
                                    "4": "52.59",
                                    "5": "70.12"
                                },
                                {
                                    "0": "Sandwich",
                                    "1": "Menu gourmet",
                                    "2": "17.53",
                                    "3": "35.06",
                                    "4": "52.59",
                                    "5": "70.12"
                                },
                                {
                                    "0": "Sandwich",
                                    "1": "Menu gourmet",
                                    "2": "17.53",
                                    "3": "35.06",
                                    "4": "52.59",
                                    "5": "70.12"
                                },
                                {
                                    "0": "Sandwich",
                                    "1": "Menu gourmet",
                                    "2": "17.53",
                                    "3": "35.06",
                                    "4": "52.59",
                                    "5": "70.12"
                                },
                                {
                                    "0": "Sandwich",
                                    "1": "Sandwich",
                                    "2": "3.60",
                                    "3": "7.20",
                                    "4": "10.80",
                                    "5": "14.40"
                                },
                                {
                                    "0": "Sandwich",
                                    "1": "Sandwich",
                                    "2": "3.60",
                                    "3": "7.20",
                                    "4": "10.80",
                                    "5": "14.40"
                                },
                                {
                                    "0": "Sandwich",
                                    "1": "Sandwich",
                                    "2": "3.60",
                                    "3": "7.20",
                                    "4": "10.80",
                                    "5": "14.40"
                                },
                                {
                                    "0": "Sandwich",
                                    "1": "Sandwich",
                                    "2": "3.60",
                                    "3": "7.20",
                                    "4": "10.80",
                                    "5": "14.40"
                                },
                                {
                                    "0": "Sandwich",
                                    "1": "Sandwich",
                                    "2": "3.60",
                                    "3": "7.20",
                                    "4": "10.80",
                                    "5": "14.40"
                                },
                                {
                                    "0": "Sandwich",
                                    "1": "Sandwich",
                                    "2": "3.60",
                                    "3": "7.20",
                                    "4": "10.80",
                                    "5": "14.40"
                                },
                                {
                                    "0": "Sandwich",
                                    "1": "Sandwich",
                                    "2": "3.60",
                                    "3": "7.20",
                                    "4": "10.80",
                                    "5": "14.40"
                                },
                                {
                                    "0": "Sandwich",
                                    "1": "Sandwich",
                                    "2": "3.60",
                                    "3": "7.20",
                                    "4": "10.80",
                                    "5": "14.40"
                                },
                                {
                                    "0": "Sandwich",
                                    "1": "Sandwich",
                                    "2": "3.60",
                                    "3": "7.20",
                                    "4": "10.80",
                                    "5": "14.40"
                                },
                                {
                                    "0": "Sandwich",
                                    "1": "Suplement",
                                    "2": "2.89",
                                    "3": "5.78",
                                    "4": "8.67",
                                    "5": "11.56"
                                },
                                {
                                    "0": "Sandwich",
                                    "1": "Suplement",
                                    "2": "2.89",
                                    "3": "5.78",
                                    "4": "8.67",
                                    "5": "11.56"
                                },
                                {
                                    "0": "Sandwich",
                                    "1": "Suplement",
                                    "2": "2.89",
                                    "3": "5.78",
                                    "4": "8.67",
                                    "5": "11.56"
                                },
                                {
                                    "0": "Sandwich",
                                    "1": "Suplement",
                                    "2": "2.89",
                                    "3": "5.78",
                                    "4": "8.67",
                                    "5": "11.56"
                                },
                                {
                                    "0": "Sandwich",
                                    "1": "Suplement",
                                    "2": "2.89",
                                    "3": "5.78",
                                    "4": "8.67",
                                    "5": "11.56"
                                },
                                {
                                    "0": "Sandwich",
                                    "1": "Suplement",
                                    "2": "2.89",
                                    "3": "5.78",
                                    "4": "8.67",
                                    "5": "11.56"
                                },
                                {
                                    "0": "Sandwich",
                                    "1": "Suplement",
                                    "2": "2.89",
                                    "3": "5.78",
                                    "4": "8.67",
                                    "5": "11.56"
                                },
                                {
                                    "0": "Sandwich",
                                    "1": "Suplement",
                                    "2": "2.89",
                                    "3": "5.78",
                                    "4": "8.67",
                                    "5": "11.56"
                                },
                                {
                                    "0": "Sandwich",
                                    "1": "Suplement",
                                    "2": "2.89",
                                    "3": "5.78",
                                    "4": "8.67",
                                    "5": "11.56"
                                },
                                {
                                    "0": "Sandwich",
                                    "1": "Viennoiserie",
                                    "2": "2.72",
                                    "3": "5.44",
                                    "4": "8.16",
                                    "5": "10.88"
                                },
                                {
                                    "0": "Sandwich",
                                    "1": "Viennoiserie",
                                    "2": "2.72",
                                    "3": "5.44",
                                    "4": "8.16",
                                    "5": "10.88"
                                },
                                {
                                    "0": "Sandwich",
                                    "1": "Viennoiserie",
                                    "2": "2.72",
                                    "3": "5.44",
                                    "4": "8.16",
                                    "5": "10.88"
                                },
                                {
                                    "0": "Sandwich",
                                    "1": "Viennoiserie",
                                    "2": "2.72",
                                    "3": "5.44",
                                    "4": "8.16",
                                    "5": "10.88"
                                },
                                {
                                    "0": "Sandwich",
                                    "1": "Viennoiserie",
                                    "2": "2.72",
                                    "3": "5.44",
                                    "4": "8.16",
                                    "5": "10.88"
                                },
                                {
                                    "0": "Sandwich",
                                    "1": "Viennoiserie",
                                    "2": "2.72",
                                    "3": "5.44",
                                    "4": "8.16",
                                    "5": "10.88"
                                },
                                {
                                    "0": "Sandwich",
                                    "1": "Viennoiserie",
                                    "2": "2.72",
                                    "3": "5.44",
                                    "4": "8.16",
                                    "5": "10.88"
                                },
                                {
                                    "0": "Sandwich",
                                    "1": "Viennoiserie",
                                    "2": "2.72",
                                    "3": "5.44",
                                    "4": "8.16",
                                    "5": "10.88"
                                },
                                {
                                    "0": "Sandwich",
                                    "1": "Viennoiserie",
                                    "2": "2.72",
                                    "3": "5.44",
                                    "4": "8.16",
                                    "5": "10.88"
                                },
                                {
                                    "0": "Suplement",
                                    "1": "Menu Action",
                                    "2": "11.66",
                                    "3": "23.32",
                                    "4": "34.98",
                                    "5": "46.64"
                                },
                                {
                                    "0": "Suplement",
                                    "1": "Menu Action",
                                    "2": "11.66",
                                    "3": "23.32",
                                    "4": "34.98",
                                    "5": "46.64"
                                },
                                {
                                    "0": "Suplement",
                                    "1": "Menu Action",
                                    "2": "11.66",
                                    "3": "23.32",
                                    "4": "34.98",
                                    "5": "46.64"
                                },
                                {
                                    "0": "Suplement",
                                    "1": "Menu Action",
                                    "2": "11.66",
                                    "3": "23.32",
                                    "4": "34.98",
                                    "5": "46.64"
                                },
                                {
                                    "0": "Suplement",
                                    "1": "Menu Action",
                                    "2": "11.66",
                                    "3": "23.32",
                                    "4": "34.98",
                                    "5": "46.64"
                                },
                                {
                                    "0": "Suplement",
                                    "1": "Menu Action",
                                    "2": "11.66",
                                    "3": "23.32",
                                    "4": "34.98",
                                    "5": "46.64"
                                },
                                {
                                    "0": "Suplement",
                                    "1": "Menu Action",
                                    "2": "11.66",
                                    "3": "23.32",
                                    "4": "34.98",
                                    "5": "46.64"
                                },
                                {
                                    "0": "Suplement",
                                    "1": "Menu Action",
                                    "2": "11.66",
                                    "3": "23.32",
                                    "4": "34.98",
                                    "5": "46.64"
                                },
                                {
                                    "0": "Suplement",
                                    "1": "Menu Action",
                                    "2": "11.66",
                                    "3": "23.32",
                                    "4": "34.98",
                                    "5": "46.64"
                                },
                                {
                                    "0": "Suplement",
                                    "1": "Menu clin d'oeil",
                                    "2": "12.62",
                                    "3": "25.24",
                                    "4": "37.86",
                                    "5": "50.48"
                                },
                                {
                                    "0": "Suplement",
                                    "1": "Menu clin d'oeil",
                                    "2": "12.62",
                                    "3": "25.24",
                                    "4": "37.86",
                                    "5": "50.48"
                                },
                                {
                                    "0": "Suplement",
                                    "1": "Menu clin d'oeil",
                                    "2": "12.62",
                                    "3": "25.24",
                                    "4": "37.86",
                                    "5": "50.48"
                                },
                                {
                                    "0": "Suplement",
                                    "1": "Menu clin d'oeil",
                                    "2": "12.62",
                                    "3": "25.24",
                                    "4": "37.86",
                                    "5": "50.48"
                                },
                                {
                                    "0": "Suplement",
                                    "1": "Menu clin d'oeil",
                                    "2": "12.62",
                                    "3": "25.24",
                                    "4": "37.86",
                                    "5": "50.48"
                                },
                                {
                                    "0": "Suplement",
                                    "1": "Menu clin d'oeil",
                                    "2": "12.62",
                                    "3": "25.24",
                                    "4": "37.86",
                                    "5": "50.48"
                                },
                                {
                                    "0": "Suplement",
                                    "1": "Menu clin d'oeil",
                                    "2": "12.62",
                                    "3": "25.24",
                                    "4": "37.86",
                                    "5": "50.48"
                                },
                                {
                                    "0": "Suplement",
                                    "1": "Menu clin d'oeil",
                                    "2": "12.62",
                                    "3": "25.24",
                                    "4": "37.86",
                                    "5": "50.48"
                                },
                                {
                                    "0": "Suplement",
                                    "1": "Menu clin d'oeil",
                                    "2": "12.62",
                                    "3": "25.24",
                                    "4": "37.86",
                                    "5": "50.48"
                                },
                                {
                                    "0": "Suplement",
                                    "1": "Menu de Noel",
                                    "2": "14.02",
                                    "3": "28.04",
                                    "4": "42.06",
                                    "5": "56.08"
                                },
                                {
                                    "0": "Suplement",
                                    "1": "Menu de Noel",
                                    "2": "14.02",
                                    "3": "28.04",
                                    "4": "42.06",
                                    "5": "56.08"
                                },
                                {
                                    "0": "Suplement",
                                    "1": "Menu de Noel",
                                    "2": "14.02",
                                    "3": "28.04",
                                    "4": "42.06",
                                    "5": "56.08"
                                },
                                {
                                    "0": "Suplement",
                                    "1": "Menu de Noel",
                                    "2": "14.02",
                                    "3": "28.04",
                                    "4": "42.06",
                                    "5": "56.08"
                                },
                                {
                                    "0": "Suplement",
                                    "1": "Menu de Noel",
                                    "2": "14.02",
                                    "3": "28.04",
                                    "4": "42.06",
                                    "5": "56.08"
                                },
                                {
                                    "0": "Suplement",
                                    "1": "Menu de Noel",
                                    "2": "14.02",
                                    "3": "28.04",
                                    "4": "42.06",
                                    "5": "56.08"
                                },
                                {
                                    "0": "Suplement",
                                    "1": "Menu de Noel",
                                    "2": "14.02",
                                    "3": "28.04",
                                    "4": "42.06",
                                    "5": "56.08"
                                },
                                {
                                    "0": "Suplement",
                                    "1": "Menu de Noel",
                                    "2": "14.02",
                                    "3": "28.04",
                                    "4": "42.06",
                                    "5": "56.08"
                                },
                                {
                                    "0": "Suplement",
                                    "1": "Menu de Noel",
                                    "2": "14.02",
                                    "3": "28.04",
                                    "4": "42.06",
                                    "5": "56.08"
                                },
                                {
                                    "0": "Suplement",
                                    "1": "Menu du chef",
                                    "2": "10.95",
                                    "3": "21.90",
                                    "4": "32.85",
                                    "5": "43.80"
                                },
                                {
                                    "0": "Suplement",
                                    "1": "Menu du chef",
                                    "2": "10.95",
                                    "3": "21.90",
                                    "4": "32.85",
                                    "5": "43.80"
                                },
                                {
                                    "0": "Suplement",
                                    "1": "Menu du chef",
                                    "2": "10.95",
                                    "3": "21.90",
                                    "4": "32.85",
                                    "5": "43.80"
                                },
                                {
                                    "0": "Suplement",
                                    "1": "Menu du chef",
                                    "2": "10.95",
                                    "3": "21.90",
                                    "4": "32.85",
                                    "5": "43.80"
                                },
                                {
                                    "0": "Suplement",
                                    "1": "Menu du chef",
                                    "2": "10.95",
                                    "3": "21.90",
                                    "4": "32.85",
                                    "5": "43.80"
                                },
                                {
                                    "0": "Suplement",
                                    "1": "Menu du chef",
                                    "2": "10.95",
                                    "3": "21.90",
                                    "4": "32.85",
                                    "5": "43.80"
                                },
                                {
                                    "0": "Suplement",
                                    "1": "Menu du chef",
                                    "2": "10.95",
                                    "3": "21.90",
                                    "4": "32.85",
                                    "5": "43.80"
                                },
                                {
                                    "0": "Suplement",
                                    "1": "Menu du chef",
                                    "2": "10.95",
                                    "3": "21.90",
                                    "4": "32.85",
                                    "5": "43.80"
                                },
                                {
                                    "0": "Suplement",
                                    "1": "Menu du chef",
                                    "2": "10.95",
                                    "3": "21.90",
                                    "4": "32.85",
                                    "5": "43.80"
                                },
                                {
                                    "0": "Suplement",
                                    "1": "Menu du jour",
                                    "2": "8.52",
                                    "3": "17.04",
                                    "4": "25.56",
                                    "5": "34.08"
                                },
                                {
                                    "0": "Suplement",
                                    "1": "Menu du jour",
                                    "2": "8.52",
                                    "3": "17.04",
                                    "4": "25.56",
                                    "5": "34.08"
                                },
                                {
                                    "0": "Suplement",
                                    "1": "Menu du jour",
                                    "2": "8.52",
                                    "3": "17.04",
                                    "4": "25.56",
                                    "5": "34.08"
                                },
                                {
                                    "0": "Suplement",
                                    "1": "Menu du jour",
                                    "2": "8.52",
                                    "3": "17.04",
                                    "4": "25.56",
                                    "5": "34.08"
                                },
                                {
                                    "0": "Suplement",
                                    "1": "Menu du jour",
                                    "2": "8.52",
                                    "3": "17.04",
                                    "4": "25.56",
                                    "5": "34.08"
                                },
                                {
                                    "0": "Suplement",
                                    "1": "Menu du jour",
                                    "2": "8.52",
                                    "3": "17.04",
                                    "4": "25.56",
                                    "5": "34.08"
                                },
                                {
                                    "0": "Suplement",
                                    "1": "Menu du jour",
                                    "2": "8.52",
                                    "3": "17.04",
                                    "4": "25.56",
                                    "5": "34.08"
                                },
                                {
                                    "0": "Suplement",
                                    "1": "Menu du jour",
                                    "2": "8.52",
                                    "3": "17.04",
                                    "4": "25.56",
                                    "5": "34.08"
                                },
                                {
                                    "0": "Suplement",
                                    "1": "Menu du jour",
                                    "2": "8.52",
                                    "3": "17.04",
                                    "4": "25.56",
                                    "5": "34.08"
                                },
                                {
                                    "0": "Suplement",
                                    "1": "Menu gourmet",
                                    "2": "16.82",
                                    "3": "33.64",
                                    "4": "50.46",
                                    "5": "67.28"
                                },
                                {
                                    "0": "Suplement",
                                    "1": "Menu gourmet",
                                    "2": "16.82",
                                    "3": "33.64",
                                    "4": "50.46",
                                    "5": "67.28"
                                },
                                {
                                    "0": "Suplement",
                                    "1": "Menu gourmet",
                                    "2": "16.82",
                                    "3": "33.64",
                                    "4": "50.46",
                                    "5": "67.28"
                                },
                                {
                                    "0": "Suplement",
                                    "1": "Menu gourmet",
                                    "2": "16.82",
                                    "3": "33.64",
                                    "4": "50.46",
                                    "5": "67.28"
                                },
                                {
                                    "0": "Suplement",
                                    "1": "Menu gourmet",
                                    "2": "16.82",
                                    "3": "33.64",
                                    "4": "50.46",
                                    "5": "67.28"
                                },
                                {
                                    "0": "Suplement",
                                    "1": "Menu gourmet",
                                    "2": "16.82",
                                    "3": "33.64",
                                    "4": "50.46",
                                    "5": "67.28"
                                },
                                {
                                    "0": "Suplement",
                                    "1": "Menu gourmet",
                                    "2": "16.82",
                                    "3": "33.64",
                                    "4": "50.46",
                                    "5": "67.28"
                                },
                                {
                                    "0": "Suplement",
                                    "1": "Menu gourmet",
                                    "2": "16.82",
                                    "3": "33.64",
                                    "4": "50.46",
                                    "5": "67.28"
                                },
                                {
                                    "0": "Suplement",
                                    "1": "Menu gourmet",
                                    "2": "16.82",
                                    "3": "33.64",
                                    "4": "50.46",
                                    "5": "67.28"
                                },
                                {
                                    "0": "Suplement",
                                    "1": "Sandwich",
                                    "2": "2.89",
                                    "3": "5.78",
                                    "4": "8.67",
                                    "5": "11.56"
                                },
                                {
                                    "0": "Suplement",
                                    "1": "Sandwich",
                                    "2": "2.89",
                                    "3": "5.78",
                                    "4": "8.67",
                                    "5": "11.56"
                                },
                                {
                                    "0": "Suplement",
                                    "1": "Sandwich",
                                    "2": "2.89",
                                    "3": "5.78",
                                    "4": "8.67",
                                    "5": "11.56"
                                },
                                {
                                    "0": "Suplement",
                                    "1": "Sandwich",
                                    "2": "2.89",
                                    "3": "5.78",
                                    "4": "8.67",
                                    "5": "11.56"
                                },
                                {
                                    "0": "Suplement",
                                    "1": "Sandwich",
                                    "2": "2.89",
                                    "3": "5.78",
                                    "4": "8.67",
                                    "5": "11.56"
                                },
                                {
                                    "0": "Suplement",
                                    "1": "Sandwich",
                                    "2": "2.89",
                                    "3": "5.78",
                                    "4": "8.67",
                                    "5": "11.56"
                                },
                                {
                                    "0": "Suplement",
                                    "1": "Sandwich",
                                    "2": "2.89",
                                    "3": "5.78",
                                    "4": "8.67",
                                    "5": "11.56"
                                },
                                {
                                    "0": "Suplement",
                                    "1": "Sandwich",
                                    "2": "2.89",
                                    "3": "5.78",
                                    "4": "8.67",
                                    "5": "11.56"
                                },
                                {
                                    "0": "Suplement",
                                    "1": "Sandwich",
                                    "2": "2.89",
                                    "3": "5.78",
                                    "4": "8.67",
                                    "5": "11.56"
                                },
                                {
                                    "0": "Suplement",
                                    "1": "Suplement",
                                    "2": "2.18",
                                    "3": "4.36",
                                    "4": "6.54",
                                    "5": "8.72"
                                },
                                {
                                    "0": "Suplement",
                                    "1": "Suplement",
                                    "2": "2.18",
                                    "3": "4.36",
                                    "4": "6.54",
                                    "5": "8.72"
                                },
                                {
                                    "0": "Suplement",
                                    "1": "Suplement",
                                    "2": "2.18",
                                    "3": "4.36",
                                    "4": "6.54",
                                    "5": "8.72"
                                },
                                {
                                    "0": "Suplement",
                                    "1": "Suplement",
                                    "2": "2.18",
                                    "3": "4.36",
                                    "4": "6.54",
                                    "5": "8.72"
                                },
                                {
                                    "0": "Suplement",
                                    "1": "Suplement",
                                    "2": "2.18",
                                    "3": "4.36",
                                    "4": "6.54",
                                    "5": "8.72"
                                },
                                {
                                    "0": "Suplement",
                                    "1": "Suplement",
                                    "2": "2.18",
                                    "3": "4.36",
                                    "4": "6.54",
                                    "5": "8.72"
                                },
                                {
                                    "0": "Suplement",
                                    "1": "Suplement",
                                    "2": "2.18",
                                    "3": "4.36",
                                    "4": "6.54",
                                    "5": "8.72"
                                },
                                {
                                    "0": "Suplement",
                                    "1": "Suplement",
                                    "2": "2.18",
                                    "3": "4.36",
                                    "4": "6.54",
                                    "5": "8.72"
                                },
                                {
                                    "0": "Suplement",
                                    "1": "Suplement",
                                    "2": "2.18",
                                    "3": "4.36",
                                    "4": "6.54",
                                    "5": "8.72"
                                },
                                {
                                    "0": "Suplement",
                                    "1": "Viennoiserie",
                                    "2": "2.01",
                                    "3": "4.02",
                                    "4": "6.03",
                                    "5": "8.04"
                                },
                                {
                                    "0": "Suplement",
                                    "1": "Viennoiserie",
                                    "2": "2.01",
                                    "3": "4.02",
                                    "4": "6.03",
                                    "5": "8.04"
                                },
                                {
                                    "0": "Suplement",
                                    "1": "Viennoiserie",
                                    "2": "2.01",
                                    "3": "4.02",
                                    "4": "6.03",
                                    "5": "8.04"
                                },
                                {
                                    "0": "Suplement",
                                    "1": "Viennoiserie",
                                    "2": "2.01",
                                    "3": "4.02",
                                    "4": "6.03",
                                    "5": "8.04"
                                },
                                {
                                    "0": "Suplement",
                                    "1": "Viennoiserie",
                                    "2": "2.01",
                                    "3": "4.02",
                                    "4": "6.03",
                                    "5": "8.04"
                                },
                                {
                                    "0": "Suplement",
                                    "1": "Viennoiserie",
                                    "2": "2.01",
                                    "3": "4.02",
                                    "4": "6.03",
                                    "5": "8.04"
                                },
                                {
                                    "0": "Suplement",
                                    "1": "Viennoiserie",
                                    "2": "2.01",
                                    "3": "4.02",
                                    "4": "6.03",
                                    "5": "8.04"
                                },
                                {
                                    "0": "Suplement",
                                    "1": "Viennoiserie",
                                    "2": "2.01",
                                    "3": "4.02",
                                    "4": "6.03",
                                    "5": "8.04"
                                },
                                {
                                    "0": "Suplement",
                                    "1": "Viennoiserie",
                                    "2": "2.01",
                                    "3": "4.02",
                                    "4": "6.03",
                                    "5": "8.04"
                                },
                                {
                                    "0": "Viennoiserie",
                                    "1": "Menu Action",
                                    "2": "11.49",
                                    "3": "22.98",
                                    "4": "34.47",
                                    "5": "45.96"
                                },
                                {
                                    "0": "Viennoiserie",
                                    "1": "Menu Action",
                                    "2": "11.49",
                                    "3": "22.98",
                                    "4": "34.47",
                                    "5": "45.96"
                                },
                                {
                                    "0": "Viennoiserie",
                                    "1": "Menu Action",
                                    "2": "11.49",
                                    "3": "22.98",
                                    "4": "34.47",
                                    "5": "45.96"
                                },
                                {
                                    "0": "Viennoiserie",
                                    "1": "Menu Action",
                                    "2": "11.49",
                                    "3": "22.98",
                                    "4": "34.47",
                                    "5": "45.96"
                                },
                                {
                                    "0": "Viennoiserie",
                                    "1": "Menu Action",
                                    "2": "11.49",
                                    "3": "22.98",
                                    "4": "34.47",
                                    "5": "45.96"
                                },
                                {
                                    "0": "Viennoiserie",
                                    "1": "Menu Action",
                                    "2": "11.49",
                                    "3": "22.98",
                                    "4": "34.47",
                                    "5": "45.96"
                                },
                                {
                                    "0": "Viennoiserie",
                                    "1": "Menu Action",
                                    "2": "11.49",
                                    "3": "22.98",
                                    "4": "34.47",
                                    "5": "45.96"
                                },
                                {
                                    "0": "Viennoiserie",
                                    "1": "Menu Action",
                                    "2": "11.49",
                                    "3": "22.98",
                                    "4": "34.47",
                                    "5": "45.96"
                                },
                                {
                                    "0": "Viennoiserie",
                                    "1": "Menu Action",
                                    "2": "11.49",
                                    "3": "22.98",
                                    "4": "34.47",
                                    "5": "45.96"
                                },
                                {
                                    "0": "Viennoiserie",
                                    "1": "Menu clin d'oeil",
                                    "2": "12.45",
                                    "3": "24.90",
                                    "4": "37.35",
                                    "5": "49.80"
                                },
                                {
                                    "0": "Viennoiserie",
                                    "1": "Menu clin d'oeil",
                                    "2": "12.45",
                                    "3": "24.90",
                                    "4": "37.35",
                                    "5": "49.80"
                                },
                                {
                                    "0": "Viennoiserie",
                                    "1": "Menu clin d'oeil",
                                    "2": "12.45",
                                    "3": "24.90",
                                    "4": "37.35",
                                    "5": "49.80"
                                },
                                {
                                    "0": "Viennoiserie",
                                    "1": "Menu clin d'oeil",
                                    "2": "12.45",
                                    "3": "24.90",
                                    "4": "37.35",
                                    "5": "49.80"
                                },
                                {
                                    "0": "Viennoiserie",
                                    "1": "Menu clin d'oeil",
                                    "2": "12.45",
                                    "3": "24.90",
                                    "4": "37.35",
                                    "5": "49.80"
                                },
                                {
                                    "0": "Viennoiserie",
                                    "1": "Menu clin d'oeil",
                                    "2": "12.45",
                                    "3": "24.90",
                                    "4": "37.35",
                                    "5": "49.80"
                                },
                                {
                                    "0": "Viennoiserie",
                                    "1": "Menu clin d'oeil",
                                    "2": "12.45",
                                    "3": "24.90",
                                    "4": "37.35",
                                    "5": "49.80"
                                },
                                {
                                    "0": "Viennoiserie",
                                    "1": "Menu clin d'oeil",
                                    "2": "12.45",
                                    "3": "24.90",
                                    "4": "37.35",
                                    "5": "49.80"
                                },
                                {
                                    "0": "Viennoiserie",
                                    "1": "Menu clin d'oeil",
                                    "2": "12.45",
                                    "3": "24.90",
                                    "4": "37.35",
                                    "5": "49.80"
                                },
                                {
                                    "0": "Viennoiserie",
                                    "1": "Menu de Noel",
                                    "2": "13.85",
                                    "3": "27.70",
                                    "4": "41.55",
                                    "5": "55.40"
                                },
                                {
                                    "0": "Viennoiserie",
                                    "1": "Menu de Noel",
                                    "2": "13.85",
                                    "3": "27.70",
                                    "4": "41.55",
                                    "5": "55.40"
                                },
                                {
                                    "0": "Viennoiserie",
                                    "1": "Menu de Noel",
                                    "2": "13.85",
                                    "3": "27.70",
                                    "4": "41.55",
                                    "5": "55.40"
                                },
                                {
                                    "0": "Viennoiserie",
                                    "1": "Menu de Noel",
                                    "2": "13.85",
                                    "3": "27.70",
                                    "4": "41.55",
                                    "5": "55.40"
                                },
                                {
                                    "0": "Viennoiserie",
                                    "1": "Menu de Noel",
                                    "2": "13.85",
                                    "3": "27.70",
                                    "4": "41.55",
                                    "5": "55.40"
                                },
                                {
                                    "0": "Viennoiserie",
                                    "1": "Menu de Noel",
                                    "2": "13.85",
                                    "3": "27.70",
                                    "4": "41.55",
                                    "5": "55.40"
                                },
                                {
                                    "0": "Viennoiserie",
                                    "1": "Menu de Noel",
                                    "2": "13.85",
                                    "3": "27.70",
                                    "4": "41.55",
                                    "5": "55.40"
                                },
                                {
                                    "0": "Viennoiserie",
                                    "1": "Menu de Noel",
                                    "2": "13.85",
                                    "3": "27.70",
                                    "4": "41.55",
                                    "5": "55.40"
                                },
                                {
                                    "0": "Viennoiserie",
                                    "1": "Menu de Noel",
                                    "2": "13.85",
                                    "3": "27.70",
                                    "4": "41.55",
                                    "5": "55.40"
                                },
                                {
                                    "0": "Viennoiserie",
                                    "1": "Menu du chef",
                                    "2": "10.78",
                                    "3": "21.56",
                                    "4": "32.34",
                                    "5": "43.12"
                                },
                                {
                                    "0": "Viennoiserie",
                                    "1": "Menu du chef",
                                    "2": "10.78",
                                    "3": "21.56",
                                    "4": "32.34",
                                    "5": "43.12"
                                },
                                {
                                    "0": "Viennoiserie",
                                    "1": "Menu du chef",
                                    "2": "10.78",
                                    "3": "21.56",
                                    "4": "32.34",
                                    "5": "43.12"
                                },
                                {
                                    "0": "Viennoiserie",
                                    "1": "Menu du chef",
                                    "2": "10.78",
                                    "3": "21.56",
                                    "4": "32.34",
                                    "5": "43.12"
                                },
                                {
                                    "0": "Viennoiserie",
                                    "1": "Menu du chef",
                                    "2": "10.78",
                                    "3": "21.56",
                                    "4": "32.34",
                                    "5": "43.12"
                                },
                                {
                                    "0": "Viennoiserie",
                                    "1": "Menu du chef",
                                    "2": "10.78",
                                    "3": "21.56",
                                    "4": "32.34",
                                    "5": "43.12"
                                },
                                {
                                    "0": "Viennoiserie",
                                    "1": "Menu du chef",
                                    "2": "10.78",
                                    "3": "21.56",
                                    "4": "32.34",
                                    "5": "43.12"
                                },
                                {
                                    "0": "Viennoiserie",
                                    "1": "Menu du chef",
                                    "2": "10.78",
                                    "3": "21.56",
                                    "4": "32.34",
                                    "5": "43.12"
                                },
                                {
                                    "0": "Viennoiserie",
                                    "1": "Menu du chef",
                                    "2": "10.78",
                                    "3": "21.56",
                                    "4": "32.34",
                                    "5": "43.12"
                                },
                                {
                                    "0": "Viennoiserie",
                                    "1": "Menu du jour",
                                    "2": "8.35",
                                    "3": "16.70",
                                    "4": "25.05",
                                    "5": "33.40"
                                },
                                {
                                    "0": "Viennoiserie",
                                    "1": "Menu du jour",
                                    "2": "8.35",
                                    "3": "16.70",
                                    "4": "25.05",
                                    "5": "33.40"
                                },
                                {
                                    "0": "Viennoiserie",
                                    "1": "Menu du jour",
                                    "2": "8.35",
                                    "3": "16.70",
                                    "4": "25.05",
                                    "5": "33.40"
                                },
                                {
                                    "0": "Viennoiserie",
                                    "1": "Menu du jour",
                                    "2": "8.35",
                                    "3": "16.70",
                                    "4": "25.05",
                                    "5": "33.40"
                                },
                                {
                                    "0": "Viennoiserie",
                                    "1": "Menu du jour",
                                    "2": "8.35",
                                    "3": "16.70",
                                    "4": "25.05",
                                    "5": "33.40"
                                },
                                {
                                    "0": "Viennoiserie",
                                    "1": "Menu du jour",
                                    "2": "8.35",
                                    "3": "16.70",
                                    "4": "25.05",
                                    "5": "33.40"
                                },
                                {
                                    "0": "Viennoiserie",
                                    "1": "Menu du jour",
                                    "2": "8.35",
                                    "3": "16.70",
                                    "4": "25.05",
                                    "5": "33.40"
                                },
                                {
                                    "0": "Viennoiserie",
                                    "1": "Menu du jour",
                                    "2": "8.35",
                                    "3": "16.70",
                                    "4": "25.05",
                                    "5": "33.40"
                                },
                                {
                                    "0": "Viennoiserie",
                                    "1": "Menu du jour",
                                    "2": "8.35",
                                    "3": "16.70",
                                    "4": "25.05",
                                    "5": "33.40"
                                },
                                {
                                    "0": "Viennoiserie",
                                    "1": "Menu gourmet",
                                    "2": "16.65",
                                    "3": "33.30",
                                    "4": "49.95",
                                    "5": "66.60"
                                },
                                {
                                    "0": "Viennoiserie",
                                    "1": "Menu gourmet",
                                    "2": "16.65",
                                    "3": "33.30",
                                    "4": "49.95",
                                    "5": "66.60"
                                },
                                {
                                    "0": "Viennoiserie",
                                    "1": "Menu gourmet",
                                    "2": "16.65",
                                    "3": "33.30",
                                    "4": "49.95",
                                    "5": "66.60"
                                },
                                {
                                    "0": "Viennoiserie",
                                    "1": "Menu gourmet",
                                    "2": "16.65",
                                    "3": "33.30",
                                    "4": "49.95",
                                    "5": "66.60"
                                },
                                {
                                    "0": "Viennoiserie",
                                    "1": "Menu gourmet",
                                    "2": "16.65",
                                    "3": "33.30",
                                    "4": "49.95",
                                    "5": "66.60"
                                },
                                {
                                    "0": "Viennoiserie",
                                    "1": "Menu gourmet",
                                    "2": "16.65",
                                    "3": "33.30",
                                    "4": "49.95",
                                    "5": "66.60"
                                },
                                {
                                    "0": "Viennoiserie",
                                    "1": "Menu gourmet",
                                    "2": "16.65",
                                    "3": "33.30",
                                    "4": "49.95",
                                    "5": "66.60"
                                },
                                {
                                    "0": "Viennoiserie",
                                    "1": "Menu gourmet",
                                    "2": "16.65",
                                    "3": "33.30",
                                    "4": "49.95",
                                    "5": "66.60"
                                },
                                {
                                    "0": "Viennoiserie",
                                    "1": "Menu gourmet",
                                    "2": "16.65",
                                    "3": "33.30",
                                    "4": "49.95",
                                    "5": "66.60"
                                },
                                {
                                    "0": "Viennoiserie",
                                    "1": "Sandwich",
                                    "2": "2.72",
                                    "3": "5.44",
                                    "4": "8.16",
                                    "5": "10.88"
                                },
                                {
                                    "0": "Viennoiserie",
                                    "1": "Sandwich",
                                    "2": "2.72",
                                    "3": "5.44",
                                    "4": "8.16",
                                    "5": "10.88"
                                },
                                {
                                    "0": "Viennoiserie",
                                    "1": "Sandwich",
                                    "2": "2.72",
                                    "3": "5.44",
                                    "4": "8.16",
                                    "5": "10.88"
                                },
                                {
                                    "0": "Viennoiserie",
                                    "1": "Sandwich",
                                    "2": "2.72",
                                    "3": "5.44",
                                    "4": "8.16",
                                    "5": "10.88"
                                },
                                {
                                    "0": "Viennoiserie",
                                    "1": "Sandwich",
                                    "2": "2.72",
                                    "3": "5.44",
                                    "4": "8.16",
                                    "5": "10.88"
                                },
                                {
                                    "0": "Viennoiserie",
                                    "1": "Sandwich",
                                    "2": "2.72",
                                    "3": "5.44",
                                    "4": "8.16",
                                    "5": "10.88"
                                },
                                {
                                    "0": "Viennoiserie",
                                    "1": "Sandwich",
                                    "2": "2.72",
                                    "3": "5.44",
                                    "4": "8.16",
                                    "5": "10.88"
                                },
                                {
                                    "0": "Viennoiserie",
                                    "1": "Sandwich",
                                    "2": "2.72",
                                    "3": "5.44",
                                    "4": "8.16",
                                    "5": "10.88"
                                },
                                {
                                    "0": "Viennoiserie",
                                    "1": "Sandwich",
                                    "2": "2.72",
                                    "3": "5.44",
                                    "4": "8.16",
                                    "5": "10.88"
                                },
                                {
                                    "0": "Viennoiserie",
                                    "1": "Suplement",
                                    "2": "2.01",
                                    "3": "4.02",
                                    "4": "6.03",
                                    "5": "8.04"
                                },
                                {
                                    "0": "Viennoiserie",
                                    "1": "Suplement",
                                    "2": "2.01",
                                    "3": "4.02",
                                    "4": "6.03",
                                    "5": "8.04"
                                },
                                {
                                    "0": "Viennoiserie",
                                    "1": "Suplement",
                                    "2": "2.01",
                                    "3": "4.02",
                                    "4": "6.03",
                                    "5": "8.04"
                                },
                                {
                                    "0": "Viennoiserie",
                                    "1": "Suplement",
                                    "2": "2.01",
                                    "3": "4.02",
                                    "4": "6.03",
                                    "5": "8.04"
                                },
                                {
                                    "0": "Viennoiserie",
                                    "1": "Suplement",
                                    "2": "2.01",
                                    "3": "4.02",
                                    "4": "6.03",
                                    "5": "8.04"
                                },
                                {
                                    "0": "Viennoiserie",
                                    "1": "Suplement",
                                    "2": "2.01",
                                    "3": "4.02",
                                    "4": "6.03",
                                    "5": "8.04"
                                },
                                {
                                    "0": "Viennoiserie",
                                    "1": "Suplement",
                                    "2": "2.01",
                                    "3": "4.02",
                                    "4": "6.03",
                                    "5": "8.04"
                                },
                                {
                                    "0": "Viennoiserie",
                                    "1": "Suplement",
                                    "2": "2.01",
                                    "3": "4.02",
                                    "4": "6.03",
                                    "5": "8.04"
                                },
                                {
                                    "0": "Viennoiserie",
                                    "1": "Suplement",
                                    "2": "2.01",
                                    "3": "4.02",
                                    "4": "6.03",
                                    "5": "8.04"
                                },
                                {
                                    "0": "Viennoiserie",
                                    "1": "Viennoiserie",
                                    "2": "1.84",
                                    "3": "3.68",
                                    "4": "5.52",
                                    "5": "7.36"
                                },
                                {
                                    "0": "Viennoiserie",
                                    "1": "Viennoiserie",
                                    "2": "1.84",
                                    "3": "3.68",
                                    "4": "5.52",
                                    "5": "7.36"
                                },
                                {
                                    "0": "Viennoiserie",
                                    "1": "Viennoiserie",
                                    "2": "1.84",
                                    "3": "3.68",
                                    "4": "5.52",
                                    "5": "7.36"
                                },
                                {
                                    "0": "Viennoiserie",
                                    "1": "Viennoiserie",
                                    "2": "1.84",
                                    "3": "3.68",
                                    "4": "5.52",
                                    "5": "7.36"
                                },
                                {
                                    "0": "Viennoiserie",
                                    "1": "Viennoiserie",
                                    "2": "1.84",
                                    "3": "3.68",
                                    "4": "5.52",
                                    "5": "7.36"
                                },
                                {
                                    "0": "Viennoiserie",
                                    "1": "Viennoiserie",
                                    "2": "1.84",
                                    "3": "3.68",
                                    "4": "5.52",
                                    "5": "7.36"
                                },
                                {
                                    "0": "Viennoiserie",
                                    "1": "Viennoiserie",
                                    "2": "1.84",
                                    "3": "3.68",
                                    "4": "5.52",
                                    "5": "7.36"
                                },
                                {
                                    "0": "Viennoiserie",
                                    "1": "Viennoiserie",
                                    "2": "1.84",
                                    "3": "3.68",
                                    "4": "5.52",
                                    "5": "7.36"
                                },
                                {
                                    "0": "Viennoiserie",
                                    "1": "Viennoiserie",
                                    "2": "1.84",
                                    "3": "3.68",
                                    "4": "5.52",
                                    "5": "7.36"
                                }
                            ]
                        },
                        "text/html": [
                            "<table>",
                            "<tr><th>name</th><th>name</th><th>combo_price</th><th>combo_price2</th><th>combo_price3</th><th>combo_price4</th></tr>",
                            "<tr><td>Menu Action</td><td>Menu Action</td><td>21.14</td><td>42.28</td><td>63.42</td><td>84.56</td></tr>",
                            "<tr><td>Menu Action</td><td>Menu Action</td><td>21.14</td><td>42.28</td><td>63.42</td><td>84.56</td></tr>",
                            "<tr><td>Menu Action</td><td>Menu Action</td><td>21.14</td><td>42.28</td><td>63.42</td><td>84.56</td></tr>",
                            "<tr><td>Menu Action</td><td>Menu Action</td><td>21.14</td><td>42.28</td><td>63.42</td><td>84.56</td></tr>",
                            "<tr><td>Menu Action</td><td>Menu Action</td><td>21.14</td><td>42.28</td><td>63.42</td><td>84.56</td></tr>",
                            "<tr><td>Menu Action</td><td>Menu Action</td><td>21.14</td><td>42.28</td><td>63.42</td><td>84.56</td></tr>",
                            "<tr><td>Menu Action</td><td>Menu Action</td><td>21.14</td><td>42.28</td><td>63.42</td><td>84.56</td></tr>",
                            "<tr><td>Menu Action</td><td>Menu Action</td><td>21.14</td><td>42.28</td><td>63.42</td><td>84.56</td></tr>",
                            "<tr><td>Menu Action</td><td>Menu Action</td><td>21.14</td><td>42.28</td><td>63.42</td><td>84.56</td></tr>",
                            "<tr><td>Menu Action</td><td>Menu clin d'oeil</td><td>22.10</td><td>44.20</td><td>66.30</td><td>88.40</td></tr>",
                            "<tr><td>Menu Action</td><td>Menu clin d'oeil</td><td>22.10</td><td>44.20</td><td>66.30</td><td>88.40</td></tr>",
                            "<tr><td>Menu Action</td><td>Menu clin d'oeil</td><td>22.10</td><td>44.20</td><td>66.30</td><td>88.40</td></tr>",
                            "<tr><td>Menu Action</td><td>Menu clin d'oeil</td><td>22.10</td><td>44.20</td><td>66.30</td><td>88.40</td></tr>",
                            "<tr><td>Menu Action</td><td>Menu clin d'oeil</td><td>22.10</td><td>44.20</td><td>66.30</td><td>88.40</td></tr>",
                            "<tr><td>Menu Action</td><td>Menu clin d'oeil</td><td>22.10</td><td>44.20</td><td>66.30</td><td>88.40</td></tr>",
                            "<tr><td>Menu Action</td><td>Menu clin d'oeil</td><td>22.10</td><td>44.20</td><td>66.30</td><td>88.40</td></tr>",
                            "<tr><td>Menu Action</td><td>Menu clin d'oeil</td><td>22.10</td><td>44.20</td><td>66.30</td><td>88.40</td></tr>",
                            "<tr><td>Menu Action</td><td>Menu clin d'oeil</td><td>22.10</td><td>44.20</td><td>66.30</td><td>88.40</td></tr>",
                            "<tr><td>Menu Action</td><td>Menu de Noel</td><td>23.50</td><td>47.00</td><td>70.50</td><td>94.00</td></tr>",
                            "<tr><td>Menu Action</td><td>Menu de Noel</td><td>23.50</td><td>47.00</td><td>70.50</td><td>94.00</td></tr>",
                            "<tr><td>Menu Action</td><td>Menu de Noel</td><td>23.50</td><td>47.00</td><td>70.50</td><td>94.00</td></tr>",
                            "<tr><td>Menu Action</td><td>Menu de Noel</td><td>23.50</td><td>47.00</td><td>70.50</td><td>94.00</td></tr>",
                            "<tr><td>Menu Action</td><td>Menu de Noel</td><td>23.50</td><td>47.00</td><td>70.50</td><td>94.00</td></tr>",
                            "<tr><td>Menu Action</td><td>Menu de Noel</td><td>23.50</td><td>47.00</td><td>70.50</td><td>94.00</td></tr>",
                            "<tr><td>Menu Action</td><td>Menu de Noel</td><td>23.50</td><td>47.00</td><td>70.50</td><td>94.00</td></tr>",
                            "<tr><td>Menu Action</td><td>Menu de Noel</td><td>23.50</td><td>47.00</td><td>70.50</td><td>94.00</td></tr>",
                            "<tr><td>Menu Action</td><td>Menu de Noel</td><td>23.50</td><td>47.00</td><td>70.50</td><td>94.00</td></tr>",
                            "<tr><td>Menu Action</td><td>Menu du chef</td><td>20.43</td><td>40.86</td><td>61.29</td><td>81.72</td></tr>",
                            "<tr><td>Menu Action</td><td>Menu du chef</td><td>20.43</td><td>40.86</td><td>61.29</td><td>81.72</td></tr>",
                            "<tr><td>Menu Action</td><td>Menu du chef</td><td>20.43</td><td>40.86</td><td>61.29</td><td>81.72</td></tr>",
                            "<tr><td>Menu Action</td><td>Menu du chef</td><td>20.43</td><td>40.86</td><td>61.29</td><td>81.72</td></tr>",
                            "<tr><td>Menu Action</td><td>Menu du chef</td><td>20.43</td><td>40.86</td><td>61.29</td><td>81.72</td></tr>",
                            "<tr><td>Menu Action</td><td>Menu du chef</td><td>20.43</td><td>40.86</td><td>61.29</td><td>81.72</td></tr>",
                            "<tr><td>Menu Action</td><td>Menu du chef</td><td>20.43</td><td>40.86</td><td>61.29</td><td>81.72</td></tr>",
                            "<tr><td>Menu Action</td><td>Menu du chef</td><td>20.43</td><td>40.86</td><td>61.29</td><td>81.72</td></tr>",
                            "<tr><td>Menu Action</td><td>Menu du chef</td><td>20.43</td><td>40.86</td><td>61.29</td><td>81.72</td></tr>",
                            "<tr><td>Menu Action</td><td>Menu du jour</td><td>18.00</td><td>36.00</td><td>54.00</td><td>72.00</td></tr>",
                            "<tr><td>Menu Action</td><td>Menu du jour</td><td>18.00</td><td>36.00</td><td>54.00</td><td>72.00</td></tr>",
                            "<tr><td>Menu Action</td><td>Menu du jour</td><td>18.00</td><td>36.00</td><td>54.00</td><td>72.00</td></tr>",
                            "<tr><td>Menu Action</td><td>Menu du jour</td><td>18.00</td><td>36.00</td><td>54.00</td><td>72.00</td></tr>",
                            "<tr><td>Menu Action</td><td>Menu du jour</td><td>18.00</td><td>36.00</td><td>54.00</td><td>72.00</td></tr>",
                            "<tr><td>Menu Action</td><td>Menu du jour</td><td>18.00</td><td>36.00</td><td>54.00</td><td>72.00</td></tr>",
                            "<tr><td>Menu Action</td><td>Menu du jour</td><td>18.00</td><td>36.00</td><td>54.00</td><td>72.00</td></tr>",
                            "<tr><td>Menu Action</td><td>Menu du jour</td><td>18.00</td><td>36.00</td><td>54.00</td><td>72.00</td></tr>",
                            "<tr><td>Menu Action</td><td>Menu du jour</td><td>18.00</td><td>36.00</td><td>54.00</td><td>72.00</td></tr>",
                            "<tr><td>Menu Action</td><td>Menu gourmet</td><td>26.30</td><td>52.60</td><td>78.90</td><td>105.20</td></tr>",
                            "<tr><td>Menu Action</td><td>Menu gourmet</td><td>26.30</td><td>52.60</td><td>78.90</td><td>105.20</td></tr>",
                            "<tr><td>Menu Action</td><td>Menu gourmet</td><td>26.30</td><td>52.60</td><td>78.90</td><td>105.20</td></tr>",
                            "<tr><td>Menu Action</td><td>Menu gourmet</td><td>26.30</td><td>52.60</td><td>78.90</td><td>105.20</td></tr>",
                            "<tr><td>Menu Action</td><td>Menu gourmet</td><td>26.30</td><td>52.60</td><td>78.90</td><td>105.20</td></tr>",
                            "<tr><td>Menu Action</td><td>Menu gourmet</td><td>26.30</td><td>52.60</td><td>78.90</td><td>105.20</td></tr>",
                            "<tr><td>Menu Action</td><td>Menu gourmet</td><td>26.30</td><td>52.60</td><td>78.90</td><td>105.20</td></tr>",
                            "<tr><td>Menu Action</td><td>Menu gourmet</td><td>26.30</td><td>52.60</td><td>78.90</td><td>105.20</td></tr>",
                            "<tr><td>Menu Action</td><td>Menu gourmet</td><td>26.30</td><td>52.60</td><td>78.90</td><td>105.20</td></tr>",
                            "<tr><td>Menu Action</td><td>Sandwich</td><td>12.37</td><td>24.74</td><td>37.11</td><td>49.48</td></tr>",
                            "<tr><td>Menu Action</td><td>Sandwich</td><td>12.37</td><td>24.74</td><td>37.11</td><td>49.48</td></tr>",
                            "<tr><td>Menu Action</td><td>Sandwich</td><td>12.37</td><td>24.74</td><td>37.11</td><td>49.48</td></tr>",
                            "<tr><td>Menu Action</td><td>Sandwich</td><td>12.37</td><td>24.74</td><td>37.11</td><td>49.48</td></tr>",
                            "<tr><td>Menu Action</td><td>Sandwich</td><td>12.37</td><td>24.74</td><td>37.11</td><td>49.48</td></tr>",
                            "<tr><td>Menu Action</td><td>Sandwich</td><td>12.37</td><td>24.74</td><td>37.11</td><td>49.48</td></tr>",
                            "<tr><td>Menu Action</td><td>Sandwich</td><td>12.37</td><td>24.74</td><td>37.11</td><td>49.48</td></tr>",
                            "<tr><td>Menu Action</td><td>Sandwich</td><td>12.37</td><td>24.74</td><td>37.11</td><td>49.48</td></tr>",
                            "<tr><td>Menu Action</td><td>Sandwich</td><td>12.37</td><td>24.74</td><td>37.11</td><td>49.48</td></tr>",
                            "<tr><td>Menu Action</td><td>Suplement</td><td>11.66</td><td>23.32</td><td>34.98</td><td>46.64</td></tr>",
                            "<tr><td>Menu Action</td><td>Suplement</td><td>11.66</td><td>23.32</td><td>34.98</td><td>46.64</td></tr>",
                            "<tr><td>Menu Action</td><td>Suplement</td><td>11.66</td><td>23.32</td><td>34.98</td><td>46.64</td></tr>",
                            "<tr><td>Menu Action</td><td>Suplement</td><td>11.66</td><td>23.32</td><td>34.98</td><td>46.64</td></tr>",
                            "<tr><td>Menu Action</td><td>Suplement</td><td>11.66</td><td>23.32</td><td>34.98</td><td>46.64</td></tr>",
                            "<tr><td>Menu Action</td><td>Suplement</td><td>11.66</td><td>23.32</td><td>34.98</td><td>46.64</td></tr>",
                            "<tr><td>Menu Action</td><td>Suplement</td><td>11.66</td><td>23.32</td><td>34.98</td><td>46.64</td></tr>",
                            "<tr><td>Menu Action</td><td>Suplement</td><td>11.66</td><td>23.32</td><td>34.98</td><td>46.64</td></tr>",
                            "<tr><td>Menu Action</td><td>Suplement</td><td>11.66</td><td>23.32</td><td>34.98</td><td>46.64</td></tr>",
                            "<tr><td>Menu Action</td><td>Viennoiserie</td><td>11.49</td><td>22.98</td><td>34.47</td><td>45.96</td></tr>",
                            "<tr><td>Menu Action</td><td>Viennoiserie</td><td>11.49</td><td>22.98</td><td>34.47</td><td>45.96</td></tr>",
                            "<tr><td>Menu Action</td><td>Viennoiserie</td><td>11.49</td><td>22.98</td><td>34.47</td><td>45.96</td></tr>",
                            "<tr><td>Menu Action</td><td>Viennoiserie</td><td>11.49</td><td>22.98</td><td>34.47</td><td>45.96</td></tr>",
                            "<tr><td>Menu Action</td><td>Viennoiserie</td><td>11.49</td><td>22.98</td><td>34.47</td><td>45.96</td></tr>",
                            "<tr><td>Menu Action</td><td>Viennoiserie</td><td>11.49</td><td>22.98</td><td>34.47</td><td>45.96</td></tr>",
                            "<tr><td>Menu Action</td><td>Viennoiserie</td><td>11.49</td><td>22.98</td><td>34.47</td><td>45.96</td></tr>",
                            "<tr><td>Menu Action</td><td>Viennoiserie</td><td>11.49</td><td>22.98</td><td>34.47</td><td>45.96</td></tr>",
                            "<tr><td>Menu Action</td><td>Viennoiserie</td><td>11.49</td><td>22.98</td><td>34.47</td><td>45.96</td></tr>",
                            "<tr><td>Menu clin d'oeil</td><td>Menu Action</td><td>22.10</td><td>44.20</td><td>66.30</td><td>88.40</td></tr>",
                            "<tr><td>Menu clin d'oeil</td><td>Menu Action</td><td>22.10</td><td>44.20</td><td>66.30</td><td>88.40</td></tr>",
                            "<tr><td>Menu clin d'oeil</td><td>Menu Action</td><td>22.10</td><td>44.20</td><td>66.30</td><td>88.40</td></tr>",
                            "<tr><td>Menu clin d'oeil</td><td>Menu Action</td><td>22.10</td><td>44.20</td><td>66.30</td><td>88.40</td></tr>",
                            "<tr><td>Menu clin d'oeil</td><td>Menu Action</td><td>22.10</td><td>44.20</td><td>66.30</td><td>88.40</td></tr>",
                            "<tr><td>Menu clin d'oeil</td><td>Menu Action</td><td>22.10</td><td>44.20</td><td>66.30</td><td>88.40</td></tr>",
                            "<tr><td>Menu clin d'oeil</td><td>Menu Action</td><td>22.10</td><td>44.20</td><td>66.30</td><td>88.40</td></tr>",
                            "<tr><td>Menu clin d'oeil</td><td>Menu Action</td><td>22.10</td><td>44.20</td><td>66.30</td><td>88.40</td></tr>",
                            "<tr><td>Menu clin d'oeil</td><td>Menu Action</td><td>22.10</td><td>44.20</td><td>66.30</td><td>88.40</td></tr>",
                            "<tr><td>Menu clin d'oeil</td><td>Menu clin d'oeil</td><td>23.06</td><td>46.12</td><td>69.18</td><td>92.24</td></tr>",
                            "<tr><td>Menu clin d'oeil</td><td>Menu clin d'oeil</td><td>23.06</td><td>46.12</td><td>69.18</td><td>92.24</td></tr>",
                            "<tr><td>Menu clin d'oeil</td><td>Menu clin d'oeil</td><td>23.06</td><td>46.12</td><td>69.18</td><td>92.24</td></tr>",
                            "<tr><td>Menu clin d'oeil</td><td>Menu clin d'oeil</td><td>23.06</td><td>46.12</td><td>69.18</td><td>92.24</td></tr>",
                            "<tr><td>Menu clin d'oeil</td><td>Menu clin d'oeil</td><td>23.06</td><td>46.12</td><td>69.18</td><td>92.24</td></tr>",
                            "<tr><td>Menu clin d'oeil</td><td>Menu clin d'oeil</td><td>23.06</td><td>46.12</td><td>69.18</td><td>92.24</td></tr>",
                            "<tr><td>Menu clin d'oeil</td><td>Menu clin d'oeil</td><td>23.06</td><td>46.12</td><td>69.18</td><td>92.24</td></tr>",
                            "<tr><td>Menu clin d'oeil</td><td>Menu clin d'oeil</td><td>23.06</td><td>46.12</td><td>69.18</td><td>92.24</td></tr>",
                            "<tr><td>Menu clin d'oeil</td><td>Menu clin d'oeil</td><td>23.06</td><td>46.12</td><td>69.18</td><td>92.24</td></tr>",
                            "<tr><td>Menu clin d'oeil</td><td>Menu de Noel</td><td>24.46</td><td>48.92</td><td>73.38</td><td>97.84</td></tr>",
                            "<tr><td>Menu clin d'oeil</td><td>Menu de Noel</td><td>24.46</td><td>48.92</td><td>73.38</td><td>97.84</td></tr>",
                            "<tr><td>Menu clin d'oeil</td><td>Menu de Noel</td><td>24.46</td><td>48.92</td><td>73.38</td><td>97.84</td></tr>",
                            "<tr><td>Menu clin d'oeil</td><td>Menu de Noel</td><td>24.46</td><td>48.92</td><td>73.38</td><td>97.84</td></tr>",
                            "<tr><td>Menu clin d'oeil</td><td>Menu de Noel</td><td>24.46</td><td>48.92</td><td>73.38</td><td>97.84</td></tr>",
                            "<tr><td>Menu clin d'oeil</td><td>Menu de Noel</td><td>24.46</td><td>48.92</td><td>73.38</td><td>97.84</td></tr>",
                            "<tr><td>Menu clin d'oeil</td><td>Menu de Noel</td><td>24.46</td><td>48.92</td><td>73.38</td><td>97.84</td></tr>",
                            "<tr><td>Menu clin d'oeil</td><td>Menu de Noel</td><td>24.46</td><td>48.92</td><td>73.38</td><td>97.84</td></tr>",
                            "<tr><td>Menu clin d'oeil</td><td>Menu de Noel</td><td>24.46</td><td>48.92</td><td>73.38</td><td>97.84</td></tr>",
                            "<tr><td>Menu clin d'oeil</td><td>Menu du chef</td><td>21.39</td><td>42.78</td><td>64.17</td><td>85.56</td></tr>",
                            "<tr><td>Menu clin d'oeil</td><td>Menu du chef</td><td>21.39</td><td>42.78</td><td>64.17</td><td>85.56</td></tr>",
                            "<tr><td>Menu clin d'oeil</td><td>Menu du chef</td><td>21.39</td><td>42.78</td><td>64.17</td><td>85.56</td></tr>",
                            "<tr><td>Menu clin d'oeil</td><td>Menu du chef</td><td>21.39</td><td>42.78</td><td>64.17</td><td>85.56</td></tr>",
                            "<tr><td>Menu clin d'oeil</td><td>Menu du chef</td><td>21.39</td><td>42.78</td><td>64.17</td><td>85.56</td></tr>",
                            "<tr><td>Menu clin d'oeil</td><td>Menu du chef</td><td>21.39</td><td>42.78</td><td>64.17</td><td>85.56</td></tr>",
                            "<tr><td>Menu clin d'oeil</td><td>Menu du chef</td><td>21.39</td><td>42.78</td><td>64.17</td><td>85.56</td></tr>",
                            "<tr><td>Menu clin d'oeil</td><td>Menu du chef</td><td>21.39</td><td>42.78</td><td>64.17</td><td>85.56</td></tr>",
                            "<tr><td>Menu clin d'oeil</td><td>Menu du chef</td><td>21.39</td><td>42.78</td><td>64.17</td><td>85.56</td></tr>",
                            "<tr><td>Menu clin d'oeil</td><td>Menu du jour</td><td>18.96</td><td>37.92</td><td>56.88</td><td>75.84</td></tr>",
                            "<tr><td>Menu clin d'oeil</td><td>Menu du jour</td><td>18.96</td><td>37.92</td><td>56.88</td><td>75.84</td></tr>",
                            "<tr><td>Menu clin d'oeil</td><td>Menu du jour</td><td>18.96</td><td>37.92</td><td>56.88</td><td>75.84</td></tr>",
                            "<tr><td>Menu clin d'oeil</td><td>Menu du jour</td><td>18.96</td><td>37.92</td><td>56.88</td><td>75.84</td></tr>",
                            "<tr><td>Menu clin d'oeil</td><td>Menu du jour</td><td>18.96</td><td>37.92</td><td>56.88</td><td>75.84</td></tr>",
                            "<tr><td>Menu clin d'oeil</td><td>Menu du jour</td><td>18.96</td><td>37.92</td><td>56.88</td><td>75.84</td></tr>",
                            "<tr><td>Menu clin d'oeil</td><td>Menu du jour</td><td>18.96</td><td>37.92</td><td>56.88</td><td>75.84</td></tr>",
                            "<tr><td>Menu clin d'oeil</td><td>Menu du jour</td><td>18.96</td><td>37.92</td><td>56.88</td><td>75.84</td></tr>",
                            "<tr><td>Menu clin d'oeil</td><td>Menu du jour</td><td>18.96</td><td>37.92</td><td>56.88</td><td>75.84</td></tr>",
                            "<tr><td>Menu clin d'oeil</td><td>Menu gourmet</td><td>27.26</td><td>54.52</td><td>81.78</td><td>109.04</td></tr>",
                            "<tr><td>Menu clin d'oeil</td><td>Menu gourmet</td><td>27.26</td><td>54.52</td><td>81.78</td><td>109.04</td></tr>",
                            "<tr><td>Menu clin d'oeil</td><td>Menu gourmet</td><td>27.26</td><td>54.52</td><td>81.78</td><td>109.04</td></tr>",
                            "<tr><td>Menu clin d'oeil</td><td>Menu gourmet</td><td>27.26</td><td>54.52</td><td>81.78</td><td>109.04</td></tr>",
                            "<tr><td>Menu clin d'oeil</td><td>Menu gourmet</td><td>27.26</td><td>54.52</td><td>81.78</td><td>109.04</td></tr>",
                            "<tr><td>Menu clin d'oeil</td><td>Menu gourmet</td><td>27.26</td><td>54.52</td><td>81.78</td><td>109.04</td></tr>",
                            "<tr><td>Menu clin d'oeil</td><td>Menu gourmet</td><td>27.26</td><td>54.52</td><td>81.78</td><td>109.04</td></tr>",
                            "<tr><td>Menu clin d'oeil</td><td>Menu gourmet</td><td>27.26</td><td>54.52</td><td>81.78</td><td>109.04</td></tr>",
                            "<tr><td>Menu clin d'oeil</td><td>Menu gourmet</td><td>27.26</td><td>54.52</td><td>81.78</td><td>109.04</td></tr>",
                            "<tr><td>Menu clin d'oeil</td><td>Sandwich</td><td>13.33</td><td>26.66</td><td>39.99</td><td>53.32</td></tr>",
                            "<tr><td>Menu clin d'oeil</td><td>Sandwich</td><td>13.33</td><td>26.66</td><td>39.99</td><td>53.32</td></tr>",
                            "<tr><td>Menu clin d'oeil</td><td>Sandwich</td><td>13.33</td><td>26.66</td><td>39.99</td><td>53.32</td></tr>",
                            "<tr><td>Menu clin d'oeil</td><td>Sandwich</td><td>13.33</td><td>26.66</td><td>39.99</td><td>53.32</td></tr>",
                            "<tr><td>Menu clin d'oeil</td><td>Sandwich</td><td>13.33</td><td>26.66</td><td>39.99</td><td>53.32</td></tr>",
                            "<tr><td>Menu clin d'oeil</td><td>Sandwich</td><td>13.33</td><td>26.66</td><td>39.99</td><td>53.32</td></tr>",
                            "<tr><td>Menu clin d'oeil</td><td>Sandwich</td><td>13.33</td><td>26.66</td><td>39.99</td><td>53.32</td></tr>",
                            "<tr><td>Menu clin d'oeil</td><td>Sandwich</td><td>13.33</td><td>26.66</td><td>39.99</td><td>53.32</td></tr>",
                            "<tr><td>Menu clin d'oeil</td><td>Sandwich</td><td>13.33</td><td>26.66</td><td>39.99</td><td>53.32</td></tr>",
                            "<tr><td>Menu clin d'oeil</td><td>Suplement</td><td>12.62</td><td>25.24</td><td>37.86</td><td>50.48</td></tr>",
                            "<tr><td>Menu clin d'oeil</td><td>Suplement</td><td>12.62</td><td>25.24</td><td>37.86</td><td>50.48</td></tr>",
                            "<tr><td>Menu clin d'oeil</td><td>Suplement</td><td>12.62</td><td>25.24</td><td>37.86</td><td>50.48</td></tr>",
                            "<tr><td>Menu clin d'oeil</td><td>Suplement</td><td>12.62</td><td>25.24</td><td>37.86</td><td>50.48</td></tr>",
                            "<tr><td>Menu clin d'oeil</td><td>Suplement</td><td>12.62</td><td>25.24</td><td>37.86</td><td>50.48</td></tr>",
                            "<tr><td>Menu clin d'oeil</td><td>Suplement</td><td>12.62</td><td>25.24</td><td>37.86</td><td>50.48</td></tr>",
                            "<tr><td>Menu clin d'oeil</td><td>Suplement</td><td>12.62</td><td>25.24</td><td>37.86</td><td>50.48</td></tr>",
                            "<tr><td>Menu clin d'oeil</td><td>Suplement</td><td>12.62</td><td>25.24</td><td>37.86</td><td>50.48</td></tr>",
                            "<tr><td>Menu clin d'oeil</td><td>Suplement</td><td>12.62</td><td>25.24</td><td>37.86</td><td>50.48</td></tr>",
                            "<tr><td>Menu clin d'oeil</td><td>Viennoiserie</td><td>12.45</td><td>24.90</td><td>37.35</td><td>49.80</td></tr>",
                            "<tr><td>Menu clin d'oeil</td><td>Viennoiserie</td><td>12.45</td><td>24.90</td><td>37.35</td><td>49.80</td></tr>",
                            "<tr><td>Menu clin d'oeil</td><td>Viennoiserie</td><td>12.45</td><td>24.90</td><td>37.35</td><td>49.80</td></tr>",
                            "<tr><td>Menu clin d'oeil</td><td>Viennoiserie</td><td>12.45</td><td>24.90</td><td>37.35</td><td>49.80</td></tr>",
                            "<tr><td>Menu clin d'oeil</td><td>Viennoiserie</td><td>12.45</td><td>24.90</td><td>37.35</td><td>49.80</td></tr>",
                            "<tr><td>Menu clin d'oeil</td><td>Viennoiserie</td><td>12.45</td><td>24.90</td><td>37.35</td><td>49.80</td></tr>",
                            "<tr><td>Menu clin d'oeil</td><td>Viennoiserie</td><td>12.45</td><td>24.90</td><td>37.35</td><td>49.80</td></tr>",
                            "<tr><td>Menu clin d'oeil</td><td>Viennoiserie</td><td>12.45</td><td>24.90</td><td>37.35</td><td>49.80</td></tr>",
                            "<tr><td>Menu clin d'oeil</td><td>Viennoiserie</td><td>12.45</td><td>24.90</td><td>37.35</td><td>49.80</td></tr>",
                            "<tr><td>Menu de Noel</td><td>Menu Action</td><td>23.50</td><td>47.00</td><td>70.50</td><td>94.00</td></tr>",
                            "<tr><td>Menu de Noel</td><td>Menu Action</td><td>23.50</td><td>47.00</td><td>70.50</td><td>94.00</td></tr>",
                            "<tr><td>Menu de Noel</td><td>Menu Action</td><td>23.50</td><td>47.00</td><td>70.50</td><td>94.00</td></tr>",
                            "<tr><td>Menu de Noel</td><td>Menu Action</td><td>23.50</td><td>47.00</td><td>70.50</td><td>94.00</td></tr>",
                            "<tr><td>Menu de Noel</td><td>Menu Action</td><td>23.50</td><td>47.00</td><td>70.50</td><td>94.00</td></tr>",
                            "<tr><td>Menu de Noel</td><td>Menu Action</td><td>23.50</td><td>47.00</td><td>70.50</td><td>94.00</td></tr>",
                            "<tr><td>Menu de Noel</td><td>Menu Action</td><td>23.50</td><td>47.00</td><td>70.50</td><td>94.00</td></tr>",
                            "<tr><td>Menu de Noel</td><td>Menu Action</td><td>23.50</td><td>47.00</td><td>70.50</td><td>94.00</td></tr>",
                            "<tr><td>Menu de Noel</td><td>Menu Action</td><td>23.50</td><td>47.00</td><td>70.50</td><td>94.00</td></tr>",
                            "<tr><td>Menu de Noel</td><td>Menu clin d'oeil</td><td>24.46</td><td>48.92</td><td>73.38</td><td>97.84</td></tr>",
                            "<tr><td>Menu de Noel</td><td>Menu clin d'oeil</td><td>24.46</td><td>48.92</td><td>73.38</td><td>97.84</td></tr>",
                            "<tr><td>Menu de Noel</td><td>Menu clin d'oeil</td><td>24.46</td><td>48.92</td><td>73.38</td><td>97.84</td></tr>",
                            "<tr><td>Menu de Noel</td><td>Menu clin d'oeil</td><td>24.46</td><td>48.92</td><td>73.38</td><td>97.84</td></tr>",
                            "<tr><td>Menu de Noel</td><td>Menu clin d'oeil</td><td>24.46</td><td>48.92</td><td>73.38</td><td>97.84</td></tr>",
                            "<tr><td>Menu de Noel</td><td>Menu clin d'oeil</td><td>24.46</td><td>48.92</td><td>73.38</td><td>97.84</td></tr>",
                            "<tr><td>Menu de Noel</td><td>Menu clin d'oeil</td><td>24.46</td><td>48.92</td><td>73.38</td><td>97.84</td></tr>",
                            "<tr><td>Menu de Noel</td><td>Menu clin d'oeil</td><td>24.46</td><td>48.92</td><td>73.38</td><td>97.84</td></tr>",
                            "<tr><td>Menu de Noel</td><td>Menu clin d'oeil</td><td>24.46</td><td>48.92</td><td>73.38</td><td>97.84</td></tr>",
                            "<tr><td>Menu de Noel</td><td>Menu de Noel</td><td>25.86</td><td>51.72</td><td>77.58</td><td>103.44</td></tr>",
                            "<tr><td>Menu de Noel</td><td>Menu de Noel</td><td>25.86</td><td>51.72</td><td>77.58</td><td>103.44</td></tr>",
                            "<tr><td>Menu de Noel</td><td>Menu de Noel</td><td>25.86</td><td>51.72</td><td>77.58</td><td>103.44</td></tr>",
                            "<tr><td>Menu de Noel</td><td>Menu de Noel</td><td>25.86</td><td>51.72</td><td>77.58</td><td>103.44</td></tr>",
                            "<tr><td>Menu de Noel</td><td>Menu de Noel</td><td>25.86</td><td>51.72</td><td>77.58</td><td>103.44</td></tr>",
                            "<tr><td>Menu de Noel</td><td>Menu de Noel</td><td>25.86</td><td>51.72</td><td>77.58</td><td>103.44</td></tr>",
                            "<tr><td>Menu de Noel</td><td>Menu de Noel</td><td>25.86</td><td>51.72</td><td>77.58</td><td>103.44</td></tr>",
                            "<tr><td>Menu de Noel</td><td>Menu de Noel</td><td>25.86</td><td>51.72</td><td>77.58</td><td>103.44</td></tr>",
                            "<tr><td>Menu de Noel</td><td>Menu de Noel</td><td>25.86</td><td>51.72</td><td>77.58</td><td>103.44</td></tr>",
                            "<tr><td>Menu de Noel</td><td>Menu du chef</td><td>22.79</td><td>45.58</td><td>68.37</td><td>91.16</td></tr>",
                            "<tr><td>Menu de Noel</td><td>Menu du chef</td><td>22.79</td><td>45.58</td><td>68.37</td><td>91.16</td></tr>",
                            "<tr><td>Menu de Noel</td><td>Menu du chef</td><td>22.79</td><td>45.58</td><td>68.37</td><td>91.16</td></tr>",
                            "<tr><td>Menu de Noel</td><td>Menu du chef</td><td>22.79</td><td>45.58</td><td>68.37</td><td>91.16</td></tr>",
                            "<tr><td>Menu de Noel</td><td>Menu du chef</td><td>22.79</td><td>45.58</td><td>68.37</td><td>91.16</td></tr>",
                            "<tr><td>Menu de Noel</td><td>Menu du chef</td><td>22.79</td><td>45.58</td><td>68.37</td><td>91.16</td></tr>",
                            "<tr><td>Menu de Noel</td><td>Menu du chef</td><td>22.79</td><td>45.58</td><td>68.37</td><td>91.16</td></tr>",
                            "<tr><td>Menu de Noel</td><td>Menu du chef</td><td>22.79</td><td>45.58</td><td>68.37</td><td>91.16</td></tr>",
                            "<tr><td>Menu de Noel</td><td>Menu du chef</td><td>22.79</td><td>45.58</td><td>68.37</td><td>91.16</td></tr>",
                            "<tr><td>Menu de Noel</td><td>Menu du jour</td><td>20.36</td><td>40.72</td><td>61.08</td><td>81.44</td></tr>",
                            "<tr><td>Menu de Noel</td><td>Menu du jour</td><td>20.36</td><td>40.72</td><td>61.08</td><td>81.44</td></tr>",
                            "<tr><td>Menu de Noel</td><td>Menu du jour</td><td>20.36</td><td>40.72</td><td>61.08</td><td>81.44</td></tr>",
                            "<tr><td>Menu de Noel</td><td>Menu du jour</td><td>20.36</td><td>40.72</td><td>61.08</td><td>81.44</td></tr>",
                            "<tr><td>Menu de Noel</td><td>Menu du jour</td><td>20.36</td><td>40.72</td><td>61.08</td><td>81.44</td></tr>",
                            "<tr><td>Menu de Noel</td><td>Menu du jour</td><td>20.36</td><td>40.72</td><td>61.08</td><td>81.44</td></tr>",
                            "<tr><td>Menu de Noel</td><td>Menu du jour</td><td>20.36</td><td>40.72</td><td>61.08</td><td>81.44</td></tr>",
                            "<tr><td>Menu de Noel</td><td>Menu du jour</td><td>20.36</td><td>40.72</td><td>61.08</td><td>81.44</td></tr>",
                            "<tr><td>Menu de Noel</td><td>Menu du jour</td><td>20.36</td><td>40.72</td><td>61.08</td><td>81.44</td></tr>",
                            "<tr><td>Menu de Noel</td><td>Menu gourmet</td><td>28.66</td><td>57.32</td><td>85.98</td><td>114.64</td></tr>",
                            "<tr><td>Menu de Noel</td><td>Menu gourmet</td><td>28.66</td><td>57.32</td><td>85.98</td><td>114.64</td></tr>",
                            "<tr><td>Menu de Noel</td><td>Menu gourmet</td><td>28.66</td><td>57.32</td><td>85.98</td><td>114.64</td></tr>",
                            "<tr><td>Menu de Noel</td><td>Menu gourmet</td><td>28.66</td><td>57.32</td><td>85.98</td><td>114.64</td></tr>",
                            "<tr><td>Menu de Noel</td><td>Menu gourmet</td><td>28.66</td><td>57.32</td><td>85.98</td><td>114.64</td></tr>",
                            "<tr><td>Menu de Noel</td><td>Menu gourmet</td><td>28.66</td><td>57.32</td><td>85.98</td><td>114.64</td></tr>",
                            "<tr><td>Menu de Noel</td><td>Menu gourmet</td><td>28.66</td><td>57.32</td><td>85.98</td><td>114.64</td></tr>",
                            "<tr><td>Menu de Noel</td><td>Menu gourmet</td><td>28.66</td><td>57.32</td><td>85.98</td><td>114.64</td></tr>",
                            "<tr><td>Menu de Noel</td><td>Menu gourmet</td><td>28.66</td><td>57.32</td><td>85.98</td><td>114.64</td></tr>",
                            "<tr><td>Menu de Noel</td><td>Sandwich</td><td>14.73</td><td>29.46</td><td>44.19</td><td>58.92</td></tr>",
                            "<tr><td>Menu de Noel</td><td>Sandwich</td><td>14.73</td><td>29.46</td><td>44.19</td><td>58.92</td></tr>",
                            "<tr><td>Menu de Noel</td><td>Sandwich</td><td>14.73</td><td>29.46</td><td>44.19</td><td>58.92</td></tr>",
                            "<tr><td>Menu de Noel</td><td>Sandwich</td><td>14.73</td><td>29.46</td><td>44.19</td><td>58.92</td></tr>",
                            "<tr><td>Menu de Noel</td><td>Sandwich</td><td>14.73</td><td>29.46</td><td>44.19</td><td>58.92</td></tr>",
                            "<tr><td>Menu de Noel</td><td>Sandwich</td><td>14.73</td><td>29.46</td><td>44.19</td><td>58.92</td></tr>",
                            "<tr><td>Menu de Noel</td><td>Sandwich</td><td>14.73</td><td>29.46</td><td>44.19</td><td>58.92</td></tr>",
                            "<tr><td>Menu de Noel</td><td>Sandwich</td><td>14.73</td><td>29.46</td><td>44.19</td><td>58.92</td></tr>",
                            "<tr><td>Menu de Noel</td><td>Sandwich</td><td>14.73</td><td>29.46</td><td>44.19</td><td>58.92</td></tr>",
                            "<tr><td>Menu de Noel</td><td>Suplement</td><td>14.02</td><td>28.04</td><td>42.06</td><td>56.08</td></tr>",
                            "<tr><td>Menu de Noel</td><td>Suplement</td><td>14.02</td><td>28.04</td><td>42.06</td><td>56.08</td></tr>",
                            "<tr><td>Menu de Noel</td><td>Suplement</td><td>14.02</td><td>28.04</td><td>42.06</td><td>56.08</td></tr>",
                            "<tr><td>Menu de Noel</td><td>Suplement</td><td>14.02</td><td>28.04</td><td>42.06</td><td>56.08</td></tr>",
                            "<tr><td>Menu de Noel</td><td>Suplement</td><td>14.02</td><td>28.04</td><td>42.06</td><td>56.08</td></tr>",
                            "<tr><td>Menu de Noel</td><td>Suplement</td><td>14.02</td><td>28.04</td><td>42.06</td><td>56.08</td></tr>",
                            "<tr><td>Menu de Noel</td><td>Suplement</td><td>14.02</td><td>28.04</td><td>42.06</td><td>56.08</td></tr>",
                            "<tr><td>Menu de Noel</td><td>Suplement</td><td>14.02</td><td>28.04</td><td>42.06</td><td>56.08</td></tr>",
                            "<tr><td>Menu de Noel</td><td>Suplement</td><td>14.02</td><td>28.04</td><td>42.06</td><td>56.08</td></tr>",
                            "<tr><td>Menu de Noel</td><td>Viennoiserie</td><td>13.85</td><td>27.70</td><td>41.55</td><td>55.40</td></tr>",
                            "<tr><td>Menu de Noel</td><td>Viennoiserie</td><td>13.85</td><td>27.70</td><td>41.55</td><td>55.40</td></tr>",
                            "<tr><td>Menu de Noel</td><td>Viennoiserie</td><td>13.85</td><td>27.70</td><td>41.55</td><td>55.40</td></tr>",
                            "<tr><td>Menu de Noel</td><td>Viennoiserie</td><td>13.85</td><td>27.70</td><td>41.55</td><td>55.40</td></tr>",
                            "<tr><td>Menu de Noel</td><td>Viennoiserie</td><td>13.85</td><td>27.70</td><td>41.55</td><td>55.40</td></tr>",
                            "<tr><td>Menu de Noel</td><td>Viennoiserie</td><td>13.85</td><td>27.70</td><td>41.55</td><td>55.40</td></tr>",
                            "<tr><td>Menu de Noel</td><td>Viennoiserie</td><td>13.85</td><td>27.70</td><td>41.55</td><td>55.40</td></tr>",
                            "<tr><td>Menu de Noel</td><td>Viennoiserie</td><td>13.85</td><td>27.70</td><td>41.55</td><td>55.40</td></tr>",
                            "<tr><td>Menu de Noel</td><td>Viennoiserie</td><td>13.85</td><td>27.70</td><td>41.55</td><td>55.40</td></tr>",
                            "<tr><td>Menu du chef</td><td>Menu Action</td><td>20.43</td><td>40.86</td><td>61.29</td><td>81.72</td></tr>",
                            "<tr><td>Menu du chef</td><td>Menu Action</td><td>20.43</td><td>40.86</td><td>61.29</td><td>81.72</td></tr>",
                            "<tr><td>Menu du chef</td><td>Menu Action</td><td>20.43</td><td>40.86</td><td>61.29</td><td>81.72</td></tr>",
                            "<tr><td>Menu du chef</td><td>Menu Action</td><td>20.43</td><td>40.86</td><td>61.29</td><td>81.72</td></tr>",
                            "<tr><td>Menu du chef</td><td>Menu Action</td><td>20.43</td><td>40.86</td><td>61.29</td><td>81.72</td></tr>",
                            "<tr><td>Menu du chef</td><td>Menu Action</td><td>20.43</td><td>40.86</td><td>61.29</td><td>81.72</td></tr>",
                            "<tr><td>Menu du chef</td><td>Menu Action</td><td>20.43</td><td>40.86</td><td>61.29</td><td>81.72</td></tr>",
                            "<tr><td>Menu du chef</td><td>Menu Action</td><td>20.43</td><td>40.86</td><td>61.29</td><td>81.72</td></tr>",
                            "<tr><td>Menu du chef</td><td>Menu Action</td><td>20.43</td><td>40.86</td><td>61.29</td><td>81.72</td></tr>",
                            "<tr><td>Menu du chef</td><td>Menu clin d'oeil</td><td>21.39</td><td>42.78</td><td>64.17</td><td>85.56</td></tr>",
                            "<tr><td>Menu du chef</td><td>Menu clin d'oeil</td><td>21.39</td><td>42.78</td><td>64.17</td><td>85.56</td></tr>",
                            "<tr><td>Menu du chef</td><td>Menu clin d'oeil</td><td>21.39</td><td>42.78</td><td>64.17</td><td>85.56</td></tr>",
                            "<tr><td>Menu du chef</td><td>Menu clin d'oeil</td><td>21.39</td><td>42.78</td><td>64.17</td><td>85.56</td></tr>",
                            "<tr><td>Menu du chef</td><td>Menu clin d'oeil</td><td>21.39</td><td>42.78</td><td>64.17</td><td>85.56</td></tr>",
                            "<tr><td>Menu du chef</td><td>Menu clin d'oeil</td><td>21.39</td><td>42.78</td><td>64.17</td><td>85.56</td></tr>",
                            "<tr><td>Menu du chef</td><td>Menu clin d'oeil</td><td>21.39</td><td>42.78</td><td>64.17</td><td>85.56</td></tr>",
                            "<tr><td>Menu du chef</td><td>Menu clin d'oeil</td><td>21.39</td><td>42.78</td><td>64.17</td><td>85.56</td></tr>",
                            "<tr><td>Menu du chef</td><td>Menu clin d'oeil</td><td>21.39</td><td>42.78</td><td>64.17</td><td>85.56</td></tr>",
                            "<tr><td>Menu du chef</td><td>Menu de Noel</td><td>22.79</td><td>45.58</td><td>68.37</td><td>91.16</td></tr>",
                            "<tr><td>Menu du chef</td><td>Menu de Noel</td><td>22.79</td><td>45.58</td><td>68.37</td><td>91.16</td></tr>",
                            "<tr><td>Menu du chef</td><td>Menu de Noel</td><td>22.79</td><td>45.58</td><td>68.37</td><td>91.16</td></tr>",
                            "<tr><td>Menu du chef</td><td>Menu de Noel</td><td>22.79</td><td>45.58</td><td>68.37</td><td>91.16</td></tr>",
                            "<tr><td>Menu du chef</td><td>Menu de Noel</td><td>22.79</td><td>45.58</td><td>68.37</td><td>91.16</td></tr>",
                            "<tr><td>Menu du chef</td><td>Menu de Noel</td><td>22.79</td><td>45.58</td><td>68.37</td><td>91.16</td></tr>",
                            "<tr><td>Menu du chef</td><td>Menu de Noel</td><td>22.79</td><td>45.58</td><td>68.37</td><td>91.16</td></tr>",
                            "<tr><td>Menu du chef</td><td>Menu de Noel</td><td>22.79</td><td>45.58</td><td>68.37</td><td>91.16</td></tr>",
                            "<tr><td>Menu du chef</td><td>Menu de Noel</td><td>22.79</td><td>45.58</td><td>68.37</td><td>91.16</td></tr>",
                            "<tr><td>Menu du chef</td><td>Menu du chef</td><td>19.72</td><td>39.44</td><td>59.16</td><td>78.88</td></tr>",
                            "<tr><td>Menu du chef</td><td>Menu du chef</td><td>19.72</td><td>39.44</td><td>59.16</td><td>78.88</td></tr>",
                            "<tr><td>Menu du chef</td><td>Menu du chef</td><td>19.72</td><td>39.44</td><td>59.16</td><td>78.88</td></tr>",
                            "<tr><td>Menu du chef</td><td>Menu du chef</td><td>19.72</td><td>39.44</td><td>59.16</td><td>78.88</td></tr>",
                            "<tr><td>Menu du chef</td><td>Menu du chef</td><td>19.72</td><td>39.44</td><td>59.16</td><td>78.88</td></tr>",
                            "<tr><td>Menu du chef</td><td>Menu du chef</td><td>19.72</td><td>39.44</td><td>59.16</td><td>78.88</td></tr>",
                            "<tr><td>Menu du chef</td><td>Menu du chef</td><td>19.72</td><td>39.44</td><td>59.16</td><td>78.88</td></tr>",
                            "<tr><td>Menu du chef</td><td>Menu du chef</td><td>19.72</td><td>39.44</td><td>59.16</td><td>78.88</td></tr>",
                            "<tr><td>Menu du chef</td><td>Menu du chef</td><td>19.72</td><td>39.44</td><td>59.16</td><td>78.88</td></tr>",
                            "<tr><td>Menu du chef</td><td>Menu du jour</td><td>17.29</td><td>34.58</td><td>51.87</td><td>69.16</td></tr>",
                            "<tr><td>Menu du chef</td><td>Menu du jour</td><td>17.29</td><td>34.58</td><td>51.87</td><td>69.16</td></tr>",
                            "<tr><td>Menu du chef</td><td>Menu du jour</td><td>17.29</td><td>34.58</td><td>51.87</td><td>69.16</td></tr>",
                            "<tr><td>Menu du chef</td><td>Menu du jour</td><td>17.29</td><td>34.58</td><td>51.87</td><td>69.16</td></tr>",
                            "<tr><td>Menu du chef</td><td>Menu du jour</td><td>17.29</td><td>34.58</td><td>51.87</td><td>69.16</td></tr>",
                            "<tr><td>Menu du chef</td><td>Menu du jour</td><td>17.29</td><td>34.58</td><td>51.87</td><td>69.16</td></tr>",
                            "<tr><td>Menu du chef</td><td>Menu du jour</td><td>17.29</td><td>34.58</td><td>51.87</td><td>69.16</td></tr>",
                            "<tr><td>Menu du chef</td><td>Menu du jour</td><td>17.29</td><td>34.58</td><td>51.87</td><td>69.16</td></tr>",
                            "<tr><td>Menu du chef</td><td>Menu du jour</td><td>17.29</td><td>34.58</td><td>51.87</td><td>69.16</td></tr>",
                            "<tr><td>Menu du chef</td><td>Menu gourmet</td><td>25.59</td><td>51.18</td><td>76.77</td><td>102.36</td></tr>",
                            "<tr><td>Menu du chef</td><td>Menu gourmet</td><td>25.59</td><td>51.18</td><td>76.77</td><td>102.36</td></tr>",
                            "<tr><td>Menu du chef</td><td>Menu gourmet</td><td>25.59</td><td>51.18</td><td>76.77</td><td>102.36</td></tr>",
                            "<tr><td>Menu du chef</td><td>Menu gourmet</td><td>25.59</td><td>51.18</td><td>76.77</td><td>102.36</td></tr>",
                            "<tr><td>Menu du chef</td><td>Menu gourmet</td><td>25.59</td><td>51.18</td><td>76.77</td><td>102.36</td></tr>",
                            "<tr><td>Menu du chef</td><td>Menu gourmet</td><td>25.59</td><td>51.18</td><td>76.77</td><td>102.36</td></tr>",
                            "<tr><td>Menu du chef</td><td>Menu gourmet</td><td>25.59</td><td>51.18</td><td>76.77</td><td>102.36</td></tr>",
                            "<tr><td>Menu du chef</td><td>Menu gourmet</td><td>25.59</td><td>51.18</td><td>76.77</td><td>102.36</td></tr>",
                            "<tr><td>Menu du chef</td><td>Menu gourmet</td><td>25.59</td><td>51.18</td><td>76.77</td><td>102.36</td></tr>",
                            "<tr><td>Menu du chef</td><td>Sandwich</td><td>11.66</td><td>23.32</td><td>34.98</td><td>46.64</td></tr>",
                            "<tr><td>Menu du chef</td><td>Sandwich</td><td>11.66</td><td>23.32</td><td>34.98</td><td>46.64</td></tr>",
                            "<tr><td>Menu du chef</td><td>Sandwich</td><td>11.66</td><td>23.32</td><td>34.98</td><td>46.64</td></tr>",
                            "<tr><td>Menu du chef</td><td>Sandwich</td><td>11.66</td><td>23.32</td><td>34.98</td><td>46.64</td></tr>",
                            "<tr><td>Menu du chef</td><td>Sandwich</td><td>11.66</td><td>23.32</td><td>34.98</td><td>46.64</td></tr>",
                            "<tr><td>Menu du chef</td><td>Sandwich</td><td>11.66</td><td>23.32</td><td>34.98</td><td>46.64</td></tr>",
                            "<tr><td>Menu du chef</td><td>Sandwich</td><td>11.66</td><td>23.32</td><td>34.98</td><td>46.64</td></tr>",
                            "<tr><td>Menu du chef</td><td>Sandwich</td><td>11.66</td><td>23.32</td><td>34.98</td><td>46.64</td></tr>",
                            "<tr><td>Menu du chef</td><td>Sandwich</td><td>11.66</td><td>23.32</td><td>34.98</td><td>46.64</td></tr>",
                            "<tr><td>Menu du chef</td><td>Suplement</td><td>10.95</td><td>21.90</td><td>32.85</td><td>43.80</td></tr>",
                            "<tr><td>Menu du chef</td><td>Suplement</td><td>10.95</td><td>21.90</td><td>32.85</td><td>43.80</td></tr>",
                            "<tr><td>Menu du chef</td><td>Suplement</td><td>10.95</td><td>21.90</td><td>32.85</td><td>43.80</td></tr>",
                            "<tr><td>Menu du chef</td><td>Suplement</td><td>10.95</td><td>21.90</td><td>32.85</td><td>43.80</td></tr>",
                            "<tr><td>Menu du chef</td><td>Suplement</td><td>10.95</td><td>21.90</td><td>32.85</td><td>43.80</td></tr>",
                            "<tr><td>Menu du chef</td><td>Suplement</td><td>10.95</td><td>21.90</td><td>32.85</td><td>43.80</td></tr>",
                            "<tr><td>Menu du chef</td><td>Suplement</td><td>10.95</td><td>21.90</td><td>32.85</td><td>43.80</td></tr>",
                            "<tr><td>Menu du chef</td><td>Suplement</td><td>10.95</td><td>21.90</td><td>32.85</td><td>43.80</td></tr>",
                            "<tr><td>Menu du chef</td><td>Suplement</td><td>10.95</td><td>21.90</td><td>32.85</td><td>43.80</td></tr>",
                            "<tr><td>Menu du chef</td><td>Viennoiserie</td><td>10.78</td><td>21.56</td><td>32.34</td><td>43.12</td></tr>",
                            "<tr><td>Menu du chef</td><td>Viennoiserie</td><td>10.78</td><td>21.56</td><td>32.34</td><td>43.12</td></tr>",
                            "<tr><td>Menu du chef</td><td>Viennoiserie</td><td>10.78</td><td>21.56</td><td>32.34</td><td>43.12</td></tr>",
                            "<tr><td>Menu du chef</td><td>Viennoiserie</td><td>10.78</td><td>21.56</td><td>32.34</td><td>43.12</td></tr>",
                            "<tr><td>Menu du chef</td><td>Viennoiserie</td><td>10.78</td><td>21.56</td><td>32.34</td><td>43.12</td></tr>",
                            "<tr><td>Menu du chef</td><td>Viennoiserie</td><td>10.78</td><td>21.56</td><td>32.34</td><td>43.12</td></tr>",
                            "<tr><td>Menu du chef</td><td>Viennoiserie</td><td>10.78</td><td>21.56</td><td>32.34</td><td>43.12</td></tr>",
                            "<tr><td>Menu du chef</td><td>Viennoiserie</td><td>10.78</td><td>21.56</td><td>32.34</td><td>43.12</td></tr>",
                            "<tr><td>Menu du chef</td><td>Viennoiserie</td><td>10.78</td><td>21.56</td><td>32.34</td><td>43.12</td></tr>",
                            "<tr><td>Menu du jour</td><td>Menu Action</td><td>18.00</td><td>36.00</td><td>54.00</td><td>72.00</td></tr>",
                            "<tr><td>Menu du jour</td><td>Menu Action</td><td>18.00</td><td>36.00</td><td>54.00</td><td>72.00</td></tr>",
                            "<tr><td>Menu du jour</td><td>Menu Action</td><td>18.00</td><td>36.00</td><td>54.00</td><td>72.00</td></tr>",
                            "<tr><td>Menu du jour</td><td>Menu Action</td><td>18.00</td><td>36.00</td><td>54.00</td><td>72.00</td></tr>",
                            "<tr><td>Menu du jour</td><td>Menu Action</td><td>18.00</td><td>36.00</td><td>54.00</td><td>72.00</td></tr>",
                            "<tr><td>Menu du jour</td><td>Menu Action</td><td>18.00</td><td>36.00</td><td>54.00</td><td>72.00</td></tr>",
                            "<tr><td>Menu du jour</td><td>Menu Action</td><td>18.00</td><td>36.00</td><td>54.00</td><td>72.00</td></tr>",
                            "<tr><td>Menu du jour</td><td>Menu Action</td><td>18.00</td><td>36.00</td><td>54.00</td><td>72.00</td></tr>",
                            "<tr><td>Menu du jour</td><td>Menu Action</td><td>18.00</td><td>36.00</td><td>54.00</td><td>72.00</td></tr>",
                            "<tr><td>Menu du jour</td><td>Menu clin d'oeil</td><td>18.96</td><td>37.92</td><td>56.88</td><td>75.84</td></tr>",
                            "<tr><td>Menu du jour</td><td>Menu clin d'oeil</td><td>18.96</td><td>37.92</td><td>56.88</td><td>75.84</td></tr>",
                            "<tr><td>Menu du jour</td><td>Menu clin d'oeil</td><td>18.96</td><td>37.92</td><td>56.88</td><td>75.84</td></tr>",
                            "<tr><td>Menu du jour</td><td>Menu clin d'oeil</td><td>18.96</td><td>37.92</td><td>56.88</td><td>75.84</td></tr>",
                            "<tr><td>Menu du jour</td><td>Menu clin d'oeil</td><td>18.96</td><td>37.92</td><td>56.88</td><td>75.84</td></tr>",
                            "<tr><td>Menu du jour</td><td>Menu clin d'oeil</td><td>18.96</td><td>37.92</td><td>56.88</td><td>75.84</td></tr>",
                            "<tr><td>Menu du jour</td><td>Menu clin d'oeil</td><td>18.96</td><td>37.92</td><td>56.88</td><td>75.84</td></tr>",
                            "<tr><td>Menu du jour</td><td>Menu clin d'oeil</td><td>18.96</td><td>37.92</td><td>56.88</td><td>75.84</td></tr>",
                            "<tr><td>Menu du jour</td><td>Menu clin d'oeil</td><td>18.96</td><td>37.92</td><td>56.88</td><td>75.84</td></tr>",
                            "<tr><td>Menu du jour</td><td>Menu de Noel</td><td>20.36</td><td>40.72</td><td>61.08</td><td>81.44</td></tr>",
                            "<tr><td>Menu du jour</td><td>Menu de Noel</td><td>20.36</td><td>40.72</td><td>61.08</td><td>81.44</td></tr>",
                            "<tr><td>Menu du jour</td><td>Menu de Noel</td><td>20.36</td><td>40.72</td><td>61.08</td><td>81.44</td></tr>",
                            "<tr><td>Menu du jour</td><td>Menu de Noel</td><td>20.36</td><td>40.72</td><td>61.08</td><td>81.44</td></tr>",
                            "<tr><td>Menu du jour</td><td>Menu de Noel</td><td>20.36</td><td>40.72</td><td>61.08</td><td>81.44</td></tr>",
                            "<tr><td>Menu du jour</td><td>Menu de Noel</td><td>20.36</td><td>40.72</td><td>61.08</td><td>81.44</td></tr>",
                            "<tr><td>Menu du jour</td><td>Menu de Noel</td><td>20.36</td><td>40.72</td><td>61.08</td><td>81.44</td></tr>",
                            "<tr><td>Menu du jour</td><td>Menu de Noel</td><td>20.36</td><td>40.72</td><td>61.08</td><td>81.44</td></tr>",
                            "<tr><td>Menu du jour</td><td>Menu de Noel</td><td>20.36</td><td>40.72</td><td>61.08</td><td>81.44</td></tr>",
                            "<tr><td>Menu du jour</td><td>Menu du chef</td><td>17.29</td><td>34.58</td><td>51.87</td><td>69.16</td></tr>",
                            "<tr><td>Menu du jour</td><td>Menu du chef</td><td>17.29</td><td>34.58</td><td>51.87</td><td>69.16</td></tr>",
                            "<tr><td>Menu du jour</td><td>Menu du chef</td><td>17.29</td><td>34.58</td><td>51.87</td><td>69.16</td></tr>",
                            "<tr><td>Menu du jour</td><td>Menu du chef</td><td>17.29</td><td>34.58</td><td>51.87</td><td>69.16</td></tr>",
                            "<tr><td>Menu du jour</td><td>Menu du chef</td><td>17.29</td><td>34.58</td><td>51.87</td><td>69.16</td></tr>",
                            "<tr><td>Menu du jour</td><td>Menu du chef</td><td>17.29</td><td>34.58</td><td>51.87</td><td>69.16</td></tr>",
                            "<tr><td>Menu du jour</td><td>Menu du chef</td><td>17.29</td><td>34.58</td><td>51.87</td><td>69.16</td></tr>",
                            "<tr><td>Menu du jour</td><td>Menu du chef</td><td>17.29</td><td>34.58</td><td>51.87</td><td>69.16</td></tr>",
                            "<tr><td>Menu du jour</td><td>Menu du chef</td><td>17.29</td><td>34.58</td><td>51.87</td><td>69.16</td></tr>",
                            "<tr><td>Menu du jour</td><td>Menu du jour</td><td>14.86</td><td>29.72</td><td>44.58</td><td>59.44</td></tr>",
                            "<tr><td>Menu du jour</td><td>Menu du jour</td><td>14.86</td><td>29.72</td><td>44.58</td><td>59.44</td></tr>",
                            "<tr><td>Menu du jour</td><td>Menu du jour</td><td>14.86</td><td>29.72</td><td>44.58</td><td>59.44</td></tr>",
                            "<tr><td>Menu du jour</td><td>Menu du jour</td><td>14.86</td><td>29.72</td><td>44.58</td><td>59.44</td></tr>",
                            "<tr><td>Menu du jour</td><td>Menu du jour</td><td>14.86</td><td>29.72</td><td>44.58</td><td>59.44</td></tr>",
                            "<tr><td>Menu du jour</td><td>Menu du jour</td><td>14.86</td><td>29.72</td><td>44.58</td><td>59.44</td></tr>",
                            "<tr><td>Menu du jour</td><td>Menu du jour</td><td>14.86</td><td>29.72</td><td>44.58</td><td>59.44</td></tr>",
                            "<tr><td>Menu du jour</td><td>Menu du jour</td><td>14.86</td><td>29.72</td><td>44.58</td><td>59.44</td></tr>",
                            "<tr><td>Menu du jour</td><td>Menu du jour</td><td>14.86</td><td>29.72</td><td>44.58</td><td>59.44</td></tr>",
                            "<tr><td>Menu du jour</td><td>Menu gourmet</td><td>23.16</td><td>46.32</td><td>69.48</td><td>92.64</td></tr>",
                            "<tr><td>Menu du jour</td><td>Menu gourmet</td><td>23.16</td><td>46.32</td><td>69.48</td><td>92.64</td></tr>",
                            "<tr><td>Menu du jour</td><td>Menu gourmet</td><td>23.16</td><td>46.32</td><td>69.48</td><td>92.64</td></tr>",
                            "<tr><td>Menu du jour</td><td>Menu gourmet</td><td>23.16</td><td>46.32</td><td>69.48</td><td>92.64</td></tr>",
                            "<tr><td>Menu du jour</td><td>Menu gourmet</td><td>23.16</td><td>46.32</td><td>69.48</td><td>92.64</td></tr>",
                            "<tr><td>Menu du jour</td><td>Menu gourmet</td><td>23.16</td><td>46.32</td><td>69.48</td><td>92.64</td></tr>",
                            "<tr><td>Menu du jour</td><td>Menu gourmet</td><td>23.16</td><td>46.32</td><td>69.48</td><td>92.64</td></tr>",
                            "<tr><td>Menu du jour</td><td>Menu gourmet</td><td>23.16</td><td>46.32</td><td>69.48</td><td>92.64</td></tr>",
                            "<tr><td>Menu du jour</td><td>Menu gourmet</td><td>23.16</td><td>46.32</td><td>69.48</td><td>92.64</td></tr>",
                            "<tr><td>Menu du jour</td><td>Sandwich</td><td>9.23</td><td>18.46</td><td>27.69</td><td>36.92</td></tr>",
                            "<tr><td>Menu du jour</td><td>Sandwich</td><td>9.23</td><td>18.46</td><td>27.69</td><td>36.92</td></tr>",
                            "<tr><td>Menu du jour</td><td>Sandwich</td><td>9.23</td><td>18.46</td><td>27.69</td><td>36.92</td></tr>",
                            "<tr><td>Menu du jour</td><td>Sandwich</td><td>9.23</td><td>18.46</td><td>27.69</td><td>36.92</td></tr>",
                            "<tr><td>Menu du jour</td><td>Sandwich</td><td>9.23</td><td>18.46</td><td>27.69</td><td>36.92</td></tr>",
                            "<tr><td>Menu du jour</td><td>Sandwich</td><td>9.23</td><td>18.46</td><td>27.69</td><td>36.92</td></tr>",
                            "<tr><td>Menu du jour</td><td>Sandwich</td><td>9.23</td><td>18.46</td><td>27.69</td><td>36.92</td></tr>",
                            "<tr><td>Menu du jour</td><td>Sandwich</td><td>9.23</td><td>18.46</td><td>27.69</td><td>36.92</td></tr>",
                            "<tr><td>Menu du jour</td><td>Sandwich</td><td>9.23</td><td>18.46</td><td>27.69</td><td>36.92</td></tr>",
                            "<tr><td>Menu du jour</td><td>Suplement</td><td>8.52</td><td>17.04</td><td>25.56</td><td>34.08</td></tr>",
                            "<tr><td>Menu du jour</td><td>Suplement</td><td>8.52</td><td>17.04</td><td>25.56</td><td>34.08</td></tr>",
                            "<tr><td>Menu du jour</td><td>Suplement</td><td>8.52</td><td>17.04</td><td>25.56</td><td>34.08</td></tr>",
                            "<tr><td>Menu du jour</td><td>Suplement</td><td>8.52</td><td>17.04</td><td>25.56</td><td>34.08</td></tr>",
                            "<tr><td>Menu du jour</td><td>Suplement</td><td>8.52</td><td>17.04</td><td>25.56</td><td>34.08</td></tr>",
                            "<tr><td>Menu du jour</td><td>Suplement</td><td>8.52</td><td>17.04</td><td>25.56</td><td>34.08</td></tr>",
                            "<tr><td>Menu du jour</td><td>Suplement</td><td>8.52</td><td>17.04</td><td>25.56</td><td>34.08</td></tr>",
                            "<tr><td>Menu du jour</td><td>Suplement</td><td>8.52</td><td>17.04</td><td>25.56</td><td>34.08</td></tr>",
                            "<tr><td>Menu du jour</td><td>Suplement</td><td>8.52</td><td>17.04</td><td>25.56</td><td>34.08</td></tr>",
                            "<tr><td>Menu du jour</td><td>Viennoiserie</td><td>8.35</td><td>16.70</td><td>25.05</td><td>33.40</td></tr>",
                            "<tr><td>Menu du jour</td><td>Viennoiserie</td><td>8.35</td><td>16.70</td><td>25.05</td><td>33.40</td></tr>",
                            "<tr><td>Menu du jour</td><td>Viennoiserie</td><td>8.35</td><td>16.70</td><td>25.05</td><td>33.40</td></tr>",
                            "<tr><td>Menu du jour</td><td>Viennoiserie</td><td>8.35</td><td>16.70</td><td>25.05</td><td>33.40</td></tr>",
                            "<tr><td>Menu du jour</td><td>Viennoiserie</td><td>8.35</td><td>16.70</td><td>25.05</td><td>33.40</td></tr>",
                            "<tr><td>Menu du jour</td><td>Viennoiserie</td><td>8.35</td><td>16.70</td><td>25.05</td><td>33.40</td></tr>",
                            "<tr><td>Menu du jour</td><td>Viennoiserie</td><td>8.35</td><td>16.70</td><td>25.05</td><td>33.40</td></tr>",
                            "<tr><td>Menu du jour</td><td>Viennoiserie</td><td>8.35</td><td>16.70</td><td>25.05</td><td>33.40</td></tr>",
                            "<tr><td>Menu du jour</td><td>Viennoiserie</td><td>8.35</td><td>16.70</td><td>25.05</td><td>33.40</td></tr>",
                            "<tr><td>Menu gourmet</td><td>Menu Action</td><td>26.30</td><td>52.60</td><td>78.90</td><td>105.20</td></tr>",
                            "<tr><td>Menu gourmet</td><td>Menu Action</td><td>26.30</td><td>52.60</td><td>78.90</td><td>105.20</td></tr>",
                            "<tr><td>Menu gourmet</td><td>Menu Action</td><td>26.30</td><td>52.60</td><td>78.90</td><td>105.20</td></tr>",
                            "<tr><td>Menu gourmet</td><td>Menu Action</td><td>26.30</td><td>52.60</td><td>78.90</td><td>105.20</td></tr>",
                            "<tr><td>Menu gourmet</td><td>Menu Action</td><td>26.30</td><td>52.60</td><td>78.90</td><td>105.20</td></tr>",
                            "<tr><td>Menu gourmet</td><td>Menu Action</td><td>26.30</td><td>52.60</td><td>78.90</td><td>105.20</td></tr>",
                            "<tr><td>Menu gourmet</td><td>Menu Action</td><td>26.30</td><td>52.60</td><td>78.90</td><td>105.20</td></tr>",
                            "<tr><td>Menu gourmet</td><td>Menu Action</td><td>26.30</td><td>52.60</td><td>78.90</td><td>105.20</td></tr>",
                            "<tr><td>Menu gourmet</td><td>Menu Action</td><td>26.30</td><td>52.60</td><td>78.90</td><td>105.20</td></tr>",
                            "<tr><td>Menu gourmet</td><td>Menu clin d'oeil</td><td>27.26</td><td>54.52</td><td>81.78</td><td>109.04</td></tr>",
                            "<tr><td>Menu gourmet</td><td>Menu clin d'oeil</td><td>27.26</td><td>54.52</td><td>81.78</td><td>109.04</td></tr>",
                            "<tr><td>Menu gourmet</td><td>Menu clin d'oeil</td><td>27.26</td><td>54.52</td><td>81.78</td><td>109.04</td></tr>",
                            "<tr><td>Menu gourmet</td><td>Menu clin d'oeil</td><td>27.26</td><td>54.52</td><td>81.78</td><td>109.04</td></tr>",
                            "<tr><td>Menu gourmet</td><td>Menu clin d'oeil</td><td>27.26</td><td>54.52</td><td>81.78</td><td>109.04</td></tr>",
                            "<tr><td>Menu gourmet</td><td>Menu clin d'oeil</td><td>27.26</td><td>54.52</td><td>81.78</td><td>109.04</td></tr>",
                            "<tr><td>Menu gourmet</td><td>Menu clin d'oeil</td><td>27.26</td><td>54.52</td><td>81.78</td><td>109.04</td></tr>",
                            "<tr><td>Menu gourmet</td><td>Menu clin d'oeil</td><td>27.26</td><td>54.52</td><td>81.78</td><td>109.04</td></tr>",
                            "<tr><td>Menu gourmet</td><td>Menu clin d'oeil</td><td>27.26</td><td>54.52</td><td>81.78</td><td>109.04</td></tr>",
                            "<tr><td>Menu gourmet</td><td>Menu de Noel</td><td>28.66</td><td>57.32</td><td>85.98</td><td>114.64</td></tr>",
                            "<tr><td>Menu gourmet</td><td>Menu de Noel</td><td>28.66</td><td>57.32</td><td>85.98</td><td>114.64</td></tr>",
                            "<tr><td>Menu gourmet</td><td>Menu de Noel</td><td>28.66</td><td>57.32</td><td>85.98</td><td>114.64</td></tr>",
                            "<tr><td>Menu gourmet</td><td>Menu de Noel</td><td>28.66</td><td>57.32</td><td>85.98</td><td>114.64</td></tr>",
                            "<tr><td>Menu gourmet</td><td>Menu de Noel</td><td>28.66</td><td>57.32</td><td>85.98</td><td>114.64</td></tr>",
                            "<tr><td>Menu gourmet</td><td>Menu de Noel</td><td>28.66</td><td>57.32</td><td>85.98</td><td>114.64</td></tr>",
                            "<tr><td>Menu gourmet</td><td>Menu de Noel</td><td>28.66</td><td>57.32</td><td>85.98</td><td>114.64</td></tr>",
                            "<tr><td>Menu gourmet</td><td>Menu de Noel</td><td>28.66</td><td>57.32</td><td>85.98</td><td>114.64</td></tr>",
                            "<tr><td>Menu gourmet</td><td>Menu de Noel</td><td>28.66</td><td>57.32</td><td>85.98</td><td>114.64</td></tr>",
                            "<tr><td>Menu gourmet</td><td>Menu du chef</td><td>25.59</td><td>51.18</td><td>76.77</td><td>102.36</td></tr>",
                            "<tr><td>Menu gourmet</td><td>Menu du chef</td><td>25.59</td><td>51.18</td><td>76.77</td><td>102.36</td></tr>",
                            "<tr><td>Menu gourmet</td><td>Menu du chef</td><td>25.59</td><td>51.18</td><td>76.77</td><td>102.36</td></tr>",
                            "<tr><td>Menu gourmet</td><td>Menu du chef</td><td>25.59</td><td>51.18</td><td>76.77</td><td>102.36</td></tr>",
                            "<tr><td>Menu gourmet</td><td>Menu du chef</td><td>25.59</td><td>51.18</td><td>76.77</td><td>102.36</td></tr>",
                            "<tr><td>Menu gourmet</td><td>Menu du chef</td><td>25.59</td><td>51.18</td><td>76.77</td><td>102.36</td></tr>",
                            "<tr><td>Menu gourmet</td><td>Menu du chef</td><td>25.59</td><td>51.18</td><td>76.77</td><td>102.36</td></tr>",
                            "<tr><td>Menu gourmet</td><td>Menu du chef</td><td>25.59</td><td>51.18</td><td>76.77</td><td>102.36</td></tr>",
                            "<tr><td>Menu gourmet</td><td>Menu du chef</td><td>25.59</td><td>51.18</td><td>76.77</td><td>102.36</td></tr>",
                            "<tr><td>Menu gourmet</td><td>Menu du jour</td><td>23.16</td><td>46.32</td><td>69.48</td><td>92.64</td></tr>",
                            "<tr><td>Menu gourmet</td><td>Menu du jour</td><td>23.16</td><td>46.32</td><td>69.48</td><td>92.64</td></tr>",
                            "<tr><td>Menu gourmet</td><td>Menu du jour</td><td>23.16</td><td>46.32</td><td>69.48</td><td>92.64</td></tr>",
                            "<tr><td>Menu gourmet</td><td>Menu du jour</td><td>23.16</td><td>46.32</td><td>69.48</td><td>92.64</td></tr>",
                            "<tr><td>Menu gourmet</td><td>Menu du jour</td><td>23.16</td><td>46.32</td><td>69.48</td><td>92.64</td></tr>",
                            "<tr><td>Menu gourmet</td><td>Menu du jour</td><td>23.16</td><td>46.32</td><td>69.48</td><td>92.64</td></tr>",
                            "<tr><td>Menu gourmet</td><td>Menu du jour</td><td>23.16</td><td>46.32</td><td>69.48</td><td>92.64</td></tr>",
                            "<tr><td>Menu gourmet</td><td>Menu du jour</td><td>23.16</td><td>46.32</td><td>69.48</td><td>92.64</td></tr>",
                            "<tr><td>Menu gourmet</td><td>Menu du jour</td><td>23.16</td><td>46.32</td><td>69.48</td><td>92.64</td></tr>",
                            "<tr><td>Menu gourmet</td><td>Menu gourmet</td><td>31.46</td><td>62.92</td><td>94.38</td><td>125.84</td></tr>",
                            "<tr><td>Menu gourmet</td><td>Menu gourmet</td><td>31.46</td><td>62.92</td><td>94.38</td><td>125.84</td></tr>",
                            "<tr><td>Menu gourmet</td><td>Menu gourmet</td><td>31.46</td><td>62.92</td><td>94.38</td><td>125.84</td></tr>",
                            "<tr><td>Menu gourmet</td><td>Menu gourmet</td><td>31.46</td><td>62.92</td><td>94.38</td><td>125.84</td></tr>",
                            "<tr><td>Menu gourmet</td><td>Menu gourmet</td><td>31.46</td><td>62.92</td><td>94.38</td><td>125.84</td></tr>",
                            "<tr><td>Menu gourmet</td><td>Menu gourmet</td><td>31.46</td><td>62.92</td><td>94.38</td><td>125.84</td></tr>",
                            "<tr><td>Menu gourmet</td><td>Menu gourmet</td><td>31.46</td><td>62.92</td><td>94.38</td><td>125.84</td></tr>",
                            "<tr><td>Menu gourmet</td><td>Menu gourmet</td><td>31.46</td><td>62.92</td><td>94.38</td><td>125.84</td></tr>",
                            "<tr><td>Menu gourmet</td><td>Menu gourmet</td><td>31.46</td><td>62.92</td><td>94.38</td><td>125.84</td></tr>",
                            "<tr><td>Menu gourmet</td><td>Sandwich</td><td>17.53</td><td>35.06</td><td>52.59</td><td>70.12</td></tr>",
                            "<tr><td>Menu gourmet</td><td>Sandwich</td><td>17.53</td><td>35.06</td><td>52.59</td><td>70.12</td></tr>",
                            "<tr><td>Menu gourmet</td><td>Sandwich</td><td>17.53</td><td>35.06</td><td>52.59</td><td>70.12</td></tr>",
                            "<tr><td>Menu gourmet</td><td>Sandwich</td><td>17.53</td><td>35.06</td><td>52.59</td><td>70.12</td></tr>",
                            "<tr><td>Menu gourmet</td><td>Sandwich</td><td>17.53</td><td>35.06</td><td>52.59</td><td>70.12</td></tr>",
                            "<tr><td>Menu gourmet</td><td>Sandwich</td><td>17.53</td><td>35.06</td><td>52.59</td><td>70.12</td></tr>",
                            "<tr><td>Menu gourmet</td><td>Sandwich</td><td>17.53</td><td>35.06</td><td>52.59</td><td>70.12</td></tr>",
                            "<tr><td>Menu gourmet</td><td>Sandwich</td><td>17.53</td><td>35.06</td><td>52.59</td><td>70.12</td></tr>",
                            "<tr><td>Menu gourmet</td><td>Sandwich</td><td>17.53</td><td>35.06</td><td>52.59</td><td>70.12</td></tr>",
                            "<tr><td>Menu gourmet</td><td>Suplement</td><td>16.82</td><td>33.64</td><td>50.46</td><td>67.28</td></tr>",
                            "<tr><td>Menu gourmet</td><td>Suplement</td><td>16.82</td><td>33.64</td><td>50.46</td><td>67.28</td></tr>",
                            "<tr><td>Menu gourmet</td><td>Suplement</td><td>16.82</td><td>33.64</td><td>50.46</td><td>67.28</td></tr>",
                            "<tr><td>Menu gourmet</td><td>Suplement</td><td>16.82</td><td>33.64</td><td>50.46</td><td>67.28</td></tr>",
                            "<tr><td>Menu gourmet</td><td>Suplement</td><td>16.82</td><td>33.64</td><td>50.46</td><td>67.28</td></tr>",
                            "<tr><td>Menu gourmet</td><td>Suplement</td><td>16.82</td><td>33.64</td><td>50.46</td><td>67.28</td></tr>",
                            "<tr><td>Menu gourmet</td><td>Suplement</td><td>16.82</td><td>33.64</td><td>50.46</td><td>67.28</td></tr>",
                            "<tr><td>Menu gourmet</td><td>Suplement</td><td>16.82</td><td>33.64</td><td>50.46</td><td>67.28</td></tr>",
                            "<tr><td>Menu gourmet</td><td>Suplement</td><td>16.82</td><td>33.64</td><td>50.46</td><td>67.28</td></tr>",
                            "<tr><td>Menu gourmet</td><td>Viennoiserie</td><td>16.65</td><td>33.30</td><td>49.95</td><td>66.60</td></tr>",
                            "<tr><td>Menu gourmet</td><td>Viennoiserie</td><td>16.65</td><td>33.30</td><td>49.95</td><td>66.60</td></tr>",
                            "<tr><td>Menu gourmet</td><td>Viennoiserie</td><td>16.65</td><td>33.30</td><td>49.95</td><td>66.60</td></tr>",
                            "<tr><td>Menu gourmet</td><td>Viennoiserie</td><td>16.65</td><td>33.30</td><td>49.95</td><td>66.60</td></tr>",
                            "<tr><td>Menu gourmet</td><td>Viennoiserie</td><td>16.65</td><td>33.30</td><td>49.95</td><td>66.60</td></tr>",
                            "<tr><td>Menu gourmet</td><td>Viennoiserie</td><td>16.65</td><td>33.30</td><td>49.95</td><td>66.60</td></tr>",
                            "<tr><td>Menu gourmet</td><td>Viennoiserie</td><td>16.65</td><td>33.30</td><td>49.95</td><td>66.60</td></tr>",
                            "<tr><td>Menu gourmet</td><td>Viennoiserie</td><td>16.65</td><td>33.30</td><td>49.95</td><td>66.60</td></tr>",
                            "<tr><td>Menu gourmet</td><td>Viennoiserie</td><td>16.65</td><td>33.30</td><td>49.95</td><td>66.60</td></tr>",
                            "<tr><td>Sandwich</td><td>Menu Action</td><td>12.37</td><td>24.74</td><td>37.11</td><td>49.48</td></tr>",
                            "<tr><td>Sandwich</td><td>Menu Action</td><td>12.37</td><td>24.74</td><td>37.11</td><td>49.48</td></tr>",
                            "<tr><td>Sandwich</td><td>Menu Action</td><td>12.37</td><td>24.74</td><td>37.11</td><td>49.48</td></tr>",
                            "<tr><td>Sandwich</td><td>Menu Action</td><td>12.37</td><td>24.74</td><td>37.11</td><td>49.48</td></tr>",
                            "<tr><td>Sandwich</td><td>Menu Action</td><td>12.37</td><td>24.74</td><td>37.11</td><td>49.48</td></tr>",
                            "<tr><td>Sandwich</td><td>Menu Action</td><td>12.37</td><td>24.74</td><td>37.11</td><td>49.48</td></tr>",
                            "<tr><td>Sandwich</td><td>Menu Action</td><td>12.37</td><td>24.74</td><td>37.11</td><td>49.48</td></tr>",
                            "<tr><td>Sandwich</td><td>Menu Action</td><td>12.37</td><td>24.74</td><td>37.11</td><td>49.48</td></tr>",
                            "<tr><td>Sandwich</td><td>Menu Action</td><td>12.37</td><td>24.74</td><td>37.11</td><td>49.48</td></tr>",
                            "<tr><td>Sandwich</td><td>Menu clin d'oeil</td><td>13.33</td><td>26.66</td><td>39.99</td><td>53.32</td></tr>",
                            "<tr><td>Sandwich</td><td>Menu clin d'oeil</td><td>13.33</td><td>26.66</td><td>39.99</td><td>53.32</td></tr>",
                            "<tr><td>Sandwich</td><td>Menu clin d'oeil</td><td>13.33</td><td>26.66</td><td>39.99</td><td>53.32</td></tr>",
                            "<tr><td>Sandwich</td><td>Menu clin d'oeil</td><td>13.33</td><td>26.66</td><td>39.99</td><td>53.32</td></tr>",
                            "<tr><td>Sandwich</td><td>Menu clin d'oeil</td><td>13.33</td><td>26.66</td><td>39.99</td><td>53.32</td></tr>",
                            "<tr><td>Sandwich</td><td>Menu clin d'oeil</td><td>13.33</td><td>26.66</td><td>39.99</td><td>53.32</td></tr>",
                            "<tr><td>Sandwich</td><td>Menu clin d'oeil</td><td>13.33</td><td>26.66</td><td>39.99</td><td>53.32</td></tr>",
                            "<tr><td>Sandwich</td><td>Menu clin d'oeil</td><td>13.33</td><td>26.66</td><td>39.99</td><td>53.32</td></tr>",
                            "<tr><td>Sandwich</td><td>Menu clin d'oeil</td><td>13.33</td><td>26.66</td><td>39.99</td><td>53.32</td></tr>",
                            "<tr><td>Sandwich</td><td>Menu de Noel</td><td>14.73</td><td>29.46</td><td>44.19</td><td>58.92</td></tr>",
                            "<tr><td>Sandwich</td><td>Menu de Noel</td><td>14.73</td><td>29.46</td><td>44.19</td><td>58.92</td></tr>",
                            "<tr><td>Sandwich</td><td>Menu de Noel</td><td>14.73</td><td>29.46</td><td>44.19</td><td>58.92</td></tr>",
                            "<tr><td>Sandwich</td><td>Menu de Noel</td><td>14.73</td><td>29.46</td><td>44.19</td><td>58.92</td></tr>",
                            "<tr><td>Sandwich</td><td>Menu de Noel</td><td>14.73</td><td>29.46</td><td>44.19</td><td>58.92</td></tr>",
                            "<tr><td>Sandwich</td><td>Menu de Noel</td><td>14.73</td><td>29.46</td><td>44.19</td><td>58.92</td></tr>",
                            "<tr><td>Sandwich</td><td>Menu de Noel</td><td>14.73</td><td>29.46</td><td>44.19</td><td>58.92</td></tr>",
                            "<tr><td>Sandwich</td><td>Menu de Noel</td><td>14.73</td><td>29.46</td><td>44.19</td><td>58.92</td></tr>",
                            "<tr><td>Sandwich</td><td>Menu de Noel</td><td>14.73</td><td>29.46</td><td>44.19</td><td>58.92</td></tr>",
                            "<tr><td>Sandwich</td><td>Menu du chef</td><td>11.66</td><td>23.32</td><td>34.98</td><td>46.64</td></tr>",
                            "<tr><td>Sandwich</td><td>Menu du chef</td><td>11.66</td><td>23.32</td><td>34.98</td><td>46.64</td></tr>",
                            "<tr><td>Sandwich</td><td>Menu du chef</td><td>11.66</td><td>23.32</td><td>34.98</td><td>46.64</td></tr>",
                            "<tr><td>Sandwich</td><td>Menu du chef</td><td>11.66</td><td>23.32</td><td>34.98</td><td>46.64</td></tr>",
                            "<tr><td>Sandwich</td><td>Menu du chef</td><td>11.66</td><td>23.32</td><td>34.98</td><td>46.64</td></tr>",
                            "<tr><td>Sandwich</td><td>Menu du chef</td><td>11.66</td><td>23.32</td><td>34.98</td><td>46.64</td></tr>",
                            "<tr><td>Sandwich</td><td>Menu du chef</td><td>11.66</td><td>23.32</td><td>34.98</td><td>46.64</td></tr>",
                            "<tr><td>Sandwich</td><td>Menu du chef</td><td>11.66</td><td>23.32</td><td>34.98</td><td>46.64</td></tr>",
                            "<tr><td>Sandwich</td><td>Menu du chef</td><td>11.66</td><td>23.32</td><td>34.98</td><td>46.64</td></tr>",
                            "<tr><td>Sandwich</td><td>Menu du jour</td><td>9.23</td><td>18.46</td><td>27.69</td><td>36.92</td></tr>",
                            "<tr><td>Sandwich</td><td>Menu du jour</td><td>9.23</td><td>18.46</td><td>27.69</td><td>36.92</td></tr>",
                            "<tr><td>Sandwich</td><td>Menu du jour</td><td>9.23</td><td>18.46</td><td>27.69</td><td>36.92</td></tr>",
                            "<tr><td>Sandwich</td><td>Menu du jour</td><td>9.23</td><td>18.46</td><td>27.69</td><td>36.92</td></tr>",
                            "<tr><td>Sandwich</td><td>Menu du jour</td><td>9.23</td><td>18.46</td><td>27.69</td><td>36.92</td></tr>",
                            "<tr><td>Sandwich</td><td>Menu du jour</td><td>9.23</td><td>18.46</td><td>27.69</td><td>36.92</td></tr>",
                            "<tr><td>Sandwich</td><td>Menu du jour</td><td>9.23</td><td>18.46</td><td>27.69</td><td>36.92</td></tr>",
                            "<tr><td>Sandwich</td><td>Menu du jour</td><td>9.23</td><td>18.46</td><td>27.69</td><td>36.92</td></tr>",
                            "<tr><td>Sandwich</td><td>Menu du jour</td><td>9.23</td><td>18.46</td><td>27.69</td><td>36.92</td></tr>",
                            "<tr><td>Sandwich</td><td>Menu gourmet</td><td>17.53</td><td>35.06</td><td>52.59</td><td>70.12</td></tr>",
                            "<tr><td>Sandwich</td><td>Menu gourmet</td><td>17.53</td><td>35.06</td><td>52.59</td><td>70.12</td></tr>",
                            "<tr><td>Sandwich</td><td>Menu gourmet</td><td>17.53</td><td>35.06</td><td>52.59</td><td>70.12</td></tr>",
                            "<tr><td>Sandwich</td><td>Menu gourmet</td><td>17.53</td><td>35.06</td><td>52.59</td><td>70.12</td></tr>",
                            "<tr><td>Sandwich</td><td>Menu gourmet</td><td>17.53</td><td>35.06</td><td>52.59</td><td>70.12</td></tr>",
                            "<tr><td>Sandwich</td><td>Menu gourmet</td><td>17.53</td><td>35.06</td><td>52.59</td><td>70.12</td></tr>",
                            "<tr><td>Sandwich</td><td>Menu gourmet</td><td>17.53</td><td>35.06</td><td>52.59</td><td>70.12</td></tr>",
                            "<tr><td>Sandwich</td><td>Menu gourmet</td><td>17.53</td><td>35.06</td><td>52.59</td><td>70.12</td></tr>",
                            "<tr><td>Sandwich</td><td>Menu gourmet</td><td>17.53</td><td>35.06</td><td>52.59</td><td>70.12</td></tr>",
                            "<tr><td>Sandwich</td><td>Sandwich</td><td>3.60</td><td>7.20</td><td>10.80</td><td>14.40</td></tr>",
                            "<tr><td>Sandwich</td><td>Sandwich</td><td>3.60</td><td>7.20</td><td>10.80</td><td>14.40</td></tr>",
                            "<tr><td>Sandwich</td><td>Sandwich</td><td>3.60</td><td>7.20</td><td>10.80</td><td>14.40</td></tr>",
                            "<tr><td>Sandwich</td><td>Sandwich</td><td>3.60</td><td>7.20</td><td>10.80</td><td>14.40</td></tr>",
                            "<tr><td>Sandwich</td><td>Sandwich</td><td>3.60</td><td>7.20</td><td>10.80</td><td>14.40</td></tr>",
                            "<tr><td>Sandwich</td><td>Sandwich</td><td>3.60</td><td>7.20</td><td>10.80</td><td>14.40</td></tr>",
                            "<tr><td>Sandwich</td><td>Sandwich</td><td>3.60</td><td>7.20</td><td>10.80</td><td>14.40</td></tr>",
                            "<tr><td>Sandwich</td><td>Sandwich</td><td>3.60</td><td>7.20</td><td>10.80</td><td>14.40</td></tr>",
                            "<tr><td>Sandwich</td><td>Sandwich</td><td>3.60</td><td>7.20</td><td>10.80</td><td>14.40</td></tr>",
                            "<tr><td>Sandwich</td><td>Suplement</td><td>2.89</td><td>5.78</td><td>8.67</td><td>11.56</td></tr>",
                            "<tr><td>Sandwich</td><td>Suplement</td><td>2.89</td><td>5.78</td><td>8.67</td><td>11.56</td></tr>",
                            "<tr><td>Sandwich</td><td>Suplement</td><td>2.89</td><td>5.78</td><td>8.67</td><td>11.56</td></tr>",
                            "<tr><td>Sandwich</td><td>Suplement</td><td>2.89</td><td>5.78</td><td>8.67</td><td>11.56</td></tr>",
                            "<tr><td>Sandwich</td><td>Suplement</td><td>2.89</td><td>5.78</td><td>8.67</td><td>11.56</td></tr>",
                            "<tr><td>Sandwich</td><td>Suplement</td><td>2.89</td><td>5.78</td><td>8.67</td><td>11.56</td></tr>",
                            "<tr><td>Sandwich</td><td>Suplement</td><td>2.89</td><td>5.78</td><td>8.67</td><td>11.56</td></tr>",
                            "<tr><td>Sandwich</td><td>Suplement</td><td>2.89</td><td>5.78</td><td>8.67</td><td>11.56</td></tr>",
                            "<tr><td>Sandwich</td><td>Suplement</td><td>2.89</td><td>5.78</td><td>8.67</td><td>11.56</td></tr>",
                            "<tr><td>Sandwich</td><td>Viennoiserie</td><td>2.72</td><td>5.44</td><td>8.16</td><td>10.88</td></tr>",
                            "<tr><td>Sandwich</td><td>Viennoiserie</td><td>2.72</td><td>5.44</td><td>8.16</td><td>10.88</td></tr>",
                            "<tr><td>Sandwich</td><td>Viennoiserie</td><td>2.72</td><td>5.44</td><td>8.16</td><td>10.88</td></tr>",
                            "<tr><td>Sandwich</td><td>Viennoiserie</td><td>2.72</td><td>5.44</td><td>8.16</td><td>10.88</td></tr>",
                            "<tr><td>Sandwich</td><td>Viennoiserie</td><td>2.72</td><td>5.44</td><td>8.16</td><td>10.88</td></tr>",
                            "<tr><td>Sandwich</td><td>Viennoiserie</td><td>2.72</td><td>5.44</td><td>8.16</td><td>10.88</td></tr>",
                            "<tr><td>Sandwich</td><td>Viennoiserie</td><td>2.72</td><td>5.44</td><td>8.16</td><td>10.88</td></tr>",
                            "<tr><td>Sandwich</td><td>Viennoiserie</td><td>2.72</td><td>5.44</td><td>8.16</td><td>10.88</td></tr>",
                            "<tr><td>Sandwich</td><td>Viennoiserie</td><td>2.72</td><td>5.44</td><td>8.16</td><td>10.88</td></tr>",
                            "<tr><td>Suplement</td><td>Menu Action</td><td>11.66</td><td>23.32</td><td>34.98</td><td>46.64</td></tr>",
                            "<tr><td>Suplement</td><td>Menu Action</td><td>11.66</td><td>23.32</td><td>34.98</td><td>46.64</td></tr>",
                            "<tr><td>Suplement</td><td>Menu Action</td><td>11.66</td><td>23.32</td><td>34.98</td><td>46.64</td></tr>",
                            "<tr><td>Suplement</td><td>Menu Action</td><td>11.66</td><td>23.32</td><td>34.98</td><td>46.64</td></tr>",
                            "<tr><td>Suplement</td><td>Menu Action</td><td>11.66</td><td>23.32</td><td>34.98</td><td>46.64</td></tr>",
                            "<tr><td>Suplement</td><td>Menu Action</td><td>11.66</td><td>23.32</td><td>34.98</td><td>46.64</td></tr>",
                            "<tr><td>Suplement</td><td>Menu Action</td><td>11.66</td><td>23.32</td><td>34.98</td><td>46.64</td></tr>",
                            "<tr><td>Suplement</td><td>Menu Action</td><td>11.66</td><td>23.32</td><td>34.98</td><td>46.64</td></tr>",
                            "<tr><td>Suplement</td><td>Menu Action</td><td>11.66</td><td>23.32</td><td>34.98</td><td>46.64</td></tr>",
                            "<tr><td>Suplement</td><td>Menu clin d'oeil</td><td>12.62</td><td>25.24</td><td>37.86</td><td>50.48</td></tr>",
                            "<tr><td>Suplement</td><td>Menu clin d'oeil</td><td>12.62</td><td>25.24</td><td>37.86</td><td>50.48</td></tr>",
                            "<tr><td>Suplement</td><td>Menu clin d'oeil</td><td>12.62</td><td>25.24</td><td>37.86</td><td>50.48</td></tr>",
                            "<tr><td>Suplement</td><td>Menu clin d'oeil</td><td>12.62</td><td>25.24</td><td>37.86</td><td>50.48</td></tr>",
                            "<tr><td>Suplement</td><td>Menu clin d'oeil</td><td>12.62</td><td>25.24</td><td>37.86</td><td>50.48</td></tr>",
                            "<tr><td>Suplement</td><td>Menu clin d'oeil</td><td>12.62</td><td>25.24</td><td>37.86</td><td>50.48</td></tr>",
                            "<tr><td>Suplement</td><td>Menu clin d'oeil</td><td>12.62</td><td>25.24</td><td>37.86</td><td>50.48</td></tr>",
                            "<tr><td>Suplement</td><td>Menu clin d'oeil</td><td>12.62</td><td>25.24</td><td>37.86</td><td>50.48</td></tr>",
                            "<tr><td>Suplement</td><td>Menu clin d'oeil</td><td>12.62</td><td>25.24</td><td>37.86</td><td>50.48</td></tr>",
                            "<tr><td>Suplement</td><td>Menu de Noel</td><td>14.02</td><td>28.04</td><td>42.06</td><td>56.08</td></tr>",
                            "<tr><td>Suplement</td><td>Menu de Noel</td><td>14.02</td><td>28.04</td><td>42.06</td><td>56.08</td></tr>",
                            "<tr><td>Suplement</td><td>Menu de Noel</td><td>14.02</td><td>28.04</td><td>42.06</td><td>56.08</td></tr>",
                            "<tr><td>Suplement</td><td>Menu de Noel</td><td>14.02</td><td>28.04</td><td>42.06</td><td>56.08</td></tr>",
                            "<tr><td>Suplement</td><td>Menu de Noel</td><td>14.02</td><td>28.04</td><td>42.06</td><td>56.08</td></tr>",
                            "<tr><td>Suplement</td><td>Menu de Noel</td><td>14.02</td><td>28.04</td><td>42.06</td><td>56.08</td></tr>",
                            "<tr><td>Suplement</td><td>Menu de Noel</td><td>14.02</td><td>28.04</td><td>42.06</td><td>56.08</td></tr>",
                            "<tr><td>Suplement</td><td>Menu de Noel</td><td>14.02</td><td>28.04</td><td>42.06</td><td>56.08</td></tr>",
                            "<tr><td>Suplement</td><td>Menu de Noel</td><td>14.02</td><td>28.04</td><td>42.06</td><td>56.08</td></tr>",
                            "<tr><td>Suplement</td><td>Menu du chef</td><td>10.95</td><td>21.90</td><td>32.85</td><td>43.80</td></tr>",
                            "<tr><td>Suplement</td><td>Menu du chef</td><td>10.95</td><td>21.90</td><td>32.85</td><td>43.80</td></tr>",
                            "<tr><td>Suplement</td><td>Menu du chef</td><td>10.95</td><td>21.90</td><td>32.85</td><td>43.80</td></tr>",
                            "<tr><td>Suplement</td><td>Menu du chef</td><td>10.95</td><td>21.90</td><td>32.85</td><td>43.80</td></tr>",
                            "<tr><td>Suplement</td><td>Menu du chef</td><td>10.95</td><td>21.90</td><td>32.85</td><td>43.80</td></tr>",
                            "<tr><td>Suplement</td><td>Menu du chef</td><td>10.95</td><td>21.90</td><td>32.85</td><td>43.80</td></tr>",
                            "<tr><td>Suplement</td><td>Menu du chef</td><td>10.95</td><td>21.90</td><td>32.85</td><td>43.80</td></tr>",
                            "<tr><td>Suplement</td><td>Menu du chef</td><td>10.95</td><td>21.90</td><td>32.85</td><td>43.80</td></tr>",
                            "<tr><td>Suplement</td><td>Menu du chef</td><td>10.95</td><td>21.90</td><td>32.85</td><td>43.80</td></tr>",
                            "<tr><td>Suplement</td><td>Menu du jour</td><td>8.52</td><td>17.04</td><td>25.56</td><td>34.08</td></tr>",
                            "<tr><td>Suplement</td><td>Menu du jour</td><td>8.52</td><td>17.04</td><td>25.56</td><td>34.08</td></tr>",
                            "<tr><td>Suplement</td><td>Menu du jour</td><td>8.52</td><td>17.04</td><td>25.56</td><td>34.08</td></tr>",
                            "<tr><td>Suplement</td><td>Menu du jour</td><td>8.52</td><td>17.04</td><td>25.56</td><td>34.08</td></tr>",
                            "<tr><td>Suplement</td><td>Menu du jour</td><td>8.52</td><td>17.04</td><td>25.56</td><td>34.08</td></tr>",
                            "<tr><td>Suplement</td><td>Menu du jour</td><td>8.52</td><td>17.04</td><td>25.56</td><td>34.08</td></tr>",
                            "<tr><td>Suplement</td><td>Menu du jour</td><td>8.52</td><td>17.04</td><td>25.56</td><td>34.08</td></tr>",
                            "<tr><td>Suplement</td><td>Menu du jour</td><td>8.52</td><td>17.04</td><td>25.56</td><td>34.08</td></tr>",
                            "<tr><td>Suplement</td><td>Menu du jour</td><td>8.52</td><td>17.04</td><td>25.56</td><td>34.08</td></tr>",
                            "<tr><td>Suplement</td><td>Menu gourmet</td><td>16.82</td><td>33.64</td><td>50.46</td><td>67.28</td></tr>",
                            "<tr><td>Suplement</td><td>Menu gourmet</td><td>16.82</td><td>33.64</td><td>50.46</td><td>67.28</td></tr>",
                            "<tr><td>Suplement</td><td>Menu gourmet</td><td>16.82</td><td>33.64</td><td>50.46</td><td>67.28</td></tr>",
                            "<tr><td>Suplement</td><td>Menu gourmet</td><td>16.82</td><td>33.64</td><td>50.46</td><td>67.28</td></tr>",
                            "<tr><td>Suplement</td><td>Menu gourmet</td><td>16.82</td><td>33.64</td><td>50.46</td><td>67.28</td></tr>",
                            "<tr><td>Suplement</td><td>Menu gourmet</td><td>16.82</td><td>33.64</td><td>50.46</td><td>67.28</td></tr>",
                            "<tr><td>Suplement</td><td>Menu gourmet</td><td>16.82</td><td>33.64</td><td>50.46</td><td>67.28</td></tr>",
                            "<tr><td>Suplement</td><td>Menu gourmet</td><td>16.82</td><td>33.64</td><td>50.46</td><td>67.28</td></tr>",
                            "<tr><td>Suplement</td><td>Menu gourmet</td><td>16.82</td><td>33.64</td><td>50.46</td><td>67.28</td></tr>",
                            "<tr><td>Suplement</td><td>Sandwich</td><td>2.89</td><td>5.78</td><td>8.67</td><td>11.56</td></tr>",
                            "<tr><td>Suplement</td><td>Sandwich</td><td>2.89</td><td>5.78</td><td>8.67</td><td>11.56</td></tr>",
                            "<tr><td>Suplement</td><td>Sandwich</td><td>2.89</td><td>5.78</td><td>8.67</td><td>11.56</td></tr>",
                            "<tr><td>Suplement</td><td>Sandwich</td><td>2.89</td><td>5.78</td><td>8.67</td><td>11.56</td></tr>",
                            "<tr><td>Suplement</td><td>Sandwich</td><td>2.89</td><td>5.78</td><td>8.67</td><td>11.56</td></tr>",
                            "<tr><td>Suplement</td><td>Sandwich</td><td>2.89</td><td>5.78</td><td>8.67</td><td>11.56</td></tr>",
                            "<tr><td>Suplement</td><td>Sandwich</td><td>2.89</td><td>5.78</td><td>8.67</td><td>11.56</td></tr>",
                            "<tr><td>Suplement</td><td>Sandwich</td><td>2.89</td><td>5.78</td><td>8.67</td><td>11.56</td></tr>",
                            "<tr><td>Suplement</td><td>Sandwich</td><td>2.89</td><td>5.78</td><td>8.67</td><td>11.56</td></tr>",
                            "<tr><td>Suplement</td><td>Suplement</td><td>2.18</td><td>4.36</td><td>6.54</td><td>8.72</td></tr>",
                            "<tr><td>Suplement</td><td>Suplement</td><td>2.18</td><td>4.36</td><td>6.54</td><td>8.72</td></tr>",
                            "<tr><td>Suplement</td><td>Suplement</td><td>2.18</td><td>4.36</td><td>6.54</td><td>8.72</td></tr>",
                            "<tr><td>Suplement</td><td>Suplement</td><td>2.18</td><td>4.36</td><td>6.54</td><td>8.72</td></tr>",
                            "<tr><td>Suplement</td><td>Suplement</td><td>2.18</td><td>4.36</td><td>6.54</td><td>8.72</td></tr>",
                            "<tr><td>Suplement</td><td>Suplement</td><td>2.18</td><td>4.36</td><td>6.54</td><td>8.72</td></tr>",
                            "<tr><td>Suplement</td><td>Suplement</td><td>2.18</td><td>4.36</td><td>6.54</td><td>8.72</td></tr>",
                            "<tr><td>Suplement</td><td>Suplement</td><td>2.18</td><td>4.36</td><td>6.54</td><td>8.72</td></tr>",
                            "<tr><td>Suplement</td><td>Suplement</td><td>2.18</td><td>4.36</td><td>6.54</td><td>8.72</td></tr>",
                            "<tr><td>Suplement</td><td>Viennoiserie</td><td>2.01</td><td>4.02</td><td>6.03</td><td>8.04</td></tr>",
                            "<tr><td>Suplement</td><td>Viennoiserie</td><td>2.01</td><td>4.02</td><td>6.03</td><td>8.04</td></tr>",
                            "<tr><td>Suplement</td><td>Viennoiserie</td><td>2.01</td><td>4.02</td><td>6.03</td><td>8.04</td></tr>",
                            "<tr><td>Suplement</td><td>Viennoiserie</td><td>2.01</td><td>4.02</td><td>6.03</td><td>8.04</td></tr>",
                            "<tr><td>Suplement</td><td>Viennoiserie</td><td>2.01</td><td>4.02</td><td>6.03</td><td>8.04</td></tr>",
                            "<tr><td>Suplement</td><td>Viennoiserie</td><td>2.01</td><td>4.02</td><td>6.03</td><td>8.04</td></tr>",
                            "<tr><td>Suplement</td><td>Viennoiserie</td><td>2.01</td><td>4.02</td><td>6.03</td><td>8.04</td></tr>",
                            "<tr><td>Suplement</td><td>Viennoiserie</td><td>2.01</td><td>4.02</td><td>6.03</td><td>8.04</td></tr>",
                            "<tr><td>Suplement</td><td>Viennoiserie</td><td>2.01</td><td>4.02</td><td>6.03</td><td>8.04</td></tr>",
                            "<tr><td>Viennoiserie</td><td>Menu Action</td><td>11.49</td><td>22.98</td><td>34.47</td><td>45.96</td></tr>",
                            "<tr><td>Viennoiserie</td><td>Menu Action</td><td>11.49</td><td>22.98</td><td>34.47</td><td>45.96</td></tr>",
                            "<tr><td>Viennoiserie</td><td>Menu Action</td><td>11.49</td><td>22.98</td><td>34.47</td><td>45.96</td></tr>",
                            "<tr><td>Viennoiserie</td><td>Menu Action</td><td>11.49</td><td>22.98</td><td>34.47</td><td>45.96</td></tr>",
                            "<tr><td>Viennoiserie</td><td>Menu Action</td><td>11.49</td><td>22.98</td><td>34.47</td><td>45.96</td></tr>",
                            "<tr><td>Viennoiserie</td><td>Menu Action</td><td>11.49</td><td>22.98</td><td>34.47</td><td>45.96</td></tr>",
                            "<tr><td>Viennoiserie</td><td>Menu Action</td><td>11.49</td><td>22.98</td><td>34.47</td><td>45.96</td></tr>",
                            "<tr><td>Viennoiserie</td><td>Menu Action</td><td>11.49</td><td>22.98</td><td>34.47</td><td>45.96</td></tr>",
                            "<tr><td>Viennoiserie</td><td>Menu Action</td><td>11.49</td><td>22.98</td><td>34.47</td><td>45.96</td></tr>",
                            "<tr><td>Viennoiserie</td><td>Menu clin d'oeil</td><td>12.45</td><td>24.90</td><td>37.35</td><td>49.80</td></tr>",
                            "<tr><td>Viennoiserie</td><td>Menu clin d'oeil</td><td>12.45</td><td>24.90</td><td>37.35</td><td>49.80</td></tr>",
                            "<tr><td>Viennoiserie</td><td>Menu clin d'oeil</td><td>12.45</td><td>24.90</td><td>37.35</td><td>49.80</td></tr>",
                            "<tr><td>Viennoiserie</td><td>Menu clin d'oeil</td><td>12.45</td><td>24.90</td><td>37.35</td><td>49.80</td></tr>",
                            "<tr><td>Viennoiserie</td><td>Menu clin d'oeil</td><td>12.45</td><td>24.90</td><td>37.35</td><td>49.80</td></tr>",
                            "<tr><td>Viennoiserie</td><td>Menu clin d'oeil</td><td>12.45</td><td>24.90</td><td>37.35</td><td>49.80</td></tr>",
                            "<tr><td>Viennoiserie</td><td>Menu clin d'oeil</td><td>12.45</td><td>24.90</td><td>37.35</td><td>49.80</td></tr>",
                            "<tr><td>Viennoiserie</td><td>Menu clin d'oeil</td><td>12.45</td><td>24.90</td><td>37.35</td><td>49.80</td></tr>",
                            "<tr><td>Viennoiserie</td><td>Menu clin d'oeil</td><td>12.45</td><td>24.90</td><td>37.35</td><td>49.80</td></tr>",
                            "<tr><td>Viennoiserie</td><td>Menu de Noel</td><td>13.85</td><td>27.70</td><td>41.55</td><td>55.40</td></tr>",
                            "<tr><td>Viennoiserie</td><td>Menu de Noel</td><td>13.85</td><td>27.70</td><td>41.55</td><td>55.40</td></tr>",
                            "<tr><td>Viennoiserie</td><td>Menu de Noel</td><td>13.85</td><td>27.70</td><td>41.55</td><td>55.40</td></tr>",
                            "<tr><td>Viennoiserie</td><td>Menu de Noel</td><td>13.85</td><td>27.70</td><td>41.55</td><td>55.40</td></tr>",
                            "<tr><td>Viennoiserie</td><td>Menu de Noel</td><td>13.85</td><td>27.70</td><td>41.55</td><td>55.40</td></tr>",
                            "<tr><td>Viennoiserie</td><td>Menu de Noel</td><td>13.85</td><td>27.70</td><td>41.55</td><td>55.40</td></tr>",
                            "<tr><td>Viennoiserie</td><td>Menu de Noel</td><td>13.85</td><td>27.70</td><td>41.55</td><td>55.40</td></tr>",
                            "<tr><td>Viennoiserie</td><td>Menu de Noel</td><td>13.85</td><td>27.70</td><td>41.55</td><td>55.40</td></tr>",
                            "<tr><td>Viennoiserie</td><td>Menu de Noel</td><td>13.85</td><td>27.70</td><td>41.55</td><td>55.40</td></tr>",
                            "<tr><td>Viennoiserie</td><td>Menu du chef</td><td>10.78</td><td>21.56</td><td>32.34</td><td>43.12</td></tr>",
                            "<tr><td>Viennoiserie</td><td>Menu du chef</td><td>10.78</td><td>21.56</td><td>32.34</td><td>43.12</td></tr>",
                            "<tr><td>Viennoiserie</td><td>Menu du chef</td><td>10.78</td><td>21.56</td><td>32.34</td><td>43.12</td></tr>",
                            "<tr><td>Viennoiserie</td><td>Menu du chef</td><td>10.78</td><td>21.56</td><td>32.34</td><td>43.12</td></tr>",
                            "<tr><td>Viennoiserie</td><td>Menu du chef</td><td>10.78</td><td>21.56</td><td>32.34</td><td>43.12</td></tr>",
                            "<tr><td>Viennoiserie</td><td>Menu du chef</td><td>10.78</td><td>21.56</td><td>32.34</td><td>43.12</td></tr>",
                            "<tr><td>Viennoiserie</td><td>Menu du chef</td><td>10.78</td><td>21.56</td><td>32.34</td><td>43.12</td></tr>",
                            "<tr><td>Viennoiserie</td><td>Menu du chef</td><td>10.78</td><td>21.56</td><td>32.34</td><td>43.12</td></tr>",
                            "<tr><td>Viennoiserie</td><td>Menu du chef</td><td>10.78</td><td>21.56</td><td>32.34</td><td>43.12</td></tr>",
                            "<tr><td>Viennoiserie</td><td>Menu du jour</td><td>8.35</td><td>16.70</td><td>25.05</td><td>33.40</td></tr>",
                            "<tr><td>Viennoiserie</td><td>Menu du jour</td><td>8.35</td><td>16.70</td><td>25.05</td><td>33.40</td></tr>",
                            "<tr><td>Viennoiserie</td><td>Menu du jour</td><td>8.35</td><td>16.70</td><td>25.05</td><td>33.40</td></tr>",
                            "<tr><td>Viennoiserie</td><td>Menu du jour</td><td>8.35</td><td>16.70</td><td>25.05</td><td>33.40</td></tr>",
                            "<tr><td>Viennoiserie</td><td>Menu du jour</td><td>8.35</td><td>16.70</td><td>25.05</td><td>33.40</td></tr>",
                            "<tr><td>Viennoiserie</td><td>Menu du jour</td><td>8.35</td><td>16.70</td><td>25.05</td><td>33.40</td></tr>",
                            "<tr><td>Viennoiserie</td><td>Menu du jour</td><td>8.35</td><td>16.70</td><td>25.05</td><td>33.40</td></tr>",
                            "<tr><td>Viennoiserie</td><td>Menu du jour</td><td>8.35</td><td>16.70</td><td>25.05</td><td>33.40</td></tr>",
                            "<tr><td>Viennoiserie</td><td>Menu du jour</td><td>8.35</td><td>16.70</td><td>25.05</td><td>33.40</td></tr>",
                            "<tr><td>Viennoiserie</td><td>Menu gourmet</td><td>16.65</td><td>33.30</td><td>49.95</td><td>66.60</td></tr>",
                            "<tr><td>Viennoiserie</td><td>Menu gourmet</td><td>16.65</td><td>33.30</td><td>49.95</td><td>66.60</td></tr>",
                            "<tr><td>Viennoiserie</td><td>Menu gourmet</td><td>16.65</td><td>33.30</td><td>49.95</td><td>66.60</td></tr>",
                            "<tr><td>Viennoiserie</td><td>Menu gourmet</td><td>16.65</td><td>33.30</td><td>49.95</td><td>66.60</td></tr>",
                            "<tr><td>Viennoiserie</td><td>Menu gourmet</td><td>16.65</td><td>33.30</td><td>49.95</td><td>66.60</td></tr>",
                            "<tr><td>Viennoiserie</td><td>Menu gourmet</td><td>16.65</td><td>33.30</td><td>49.95</td><td>66.60</td></tr>",
                            "<tr><td>Viennoiserie</td><td>Menu gourmet</td><td>16.65</td><td>33.30</td><td>49.95</td><td>66.60</td></tr>",
                            "<tr><td>Viennoiserie</td><td>Menu gourmet</td><td>16.65</td><td>33.30</td><td>49.95</td><td>66.60</td></tr>",
                            "<tr><td>Viennoiserie</td><td>Menu gourmet</td><td>16.65</td><td>33.30</td><td>49.95</td><td>66.60</td></tr>",
                            "<tr><td>Viennoiserie</td><td>Sandwich</td><td>2.72</td><td>5.44</td><td>8.16</td><td>10.88</td></tr>",
                            "<tr><td>Viennoiserie</td><td>Sandwich</td><td>2.72</td><td>5.44</td><td>8.16</td><td>10.88</td></tr>",
                            "<tr><td>Viennoiserie</td><td>Sandwich</td><td>2.72</td><td>5.44</td><td>8.16</td><td>10.88</td></tr>",
                            "<tr><td>Viennoiserie</td><td>Sandwich</td><td>2.72</td><td>5.44</td><td>8.16</td><td>10.88</td></tr>",
                            "<tr><td>Viennoiserie</td><td>Sandwich</td><td>2.72</td><td>5.44</td><td>8.16</td><td>10.88</td></tr>",
                            "<tr><td>Viennoiserie</td><td>Sandwich</td><td>2.72</td><td>5.44</td><td>8.16</td><td>10.88</td></tr>",
                            "<tr><td>Viennoiserie</td><td>Sandwich</td><td>2.72</td><td>5.44</td><td>8.16</td><td>10.88</td></tr>",
                            "<tr><td>Viennoiserie</td><td>Sandwich</td><td>2.72</td><td>5.44</td><td>8.16</td><td>10.88</td></tr>",
                            "<tr><td>Viennoiserie</td><td>Sandwich</td><td>2.72</td><td>5.44</td><td>8.16</td><td>10.88</td></tr>",
                            "<tr><td>Viennoiserie</td><td>Suplement</td><td>2.01</td><td>4.02</td><td>6.03</td><td>8.04</td></tr>",
                            "<tr><td>Viennoiserie</td><td>Suplement</td><td>2.01</td><td>4.02</td><td>6.03</td><td>8.04</td></tr>",
                            "<tr><td>Viennoiserie</td><td>Suplement</td><td>2.01</td><td>4.02</td><td>6.03</td><td>8.04</td></tr>",
                            "<tr><td>Viennoiserie</td><td>Suplement</td><td>2.01</td><td>4.02</td><td>6.03</td><td>8.04</td></tr>",
                            "<tr><td>Viennoiserie</td><td>Suplement</td><td>2.01</td><td>4.02</td><td>6.03</td><td>8.04</td></tr>",
                            "<tr><td>Viennoiserie</td><td>Suplement</td><td>2.01</td><td>4.02</td><td>6.03</td><td>8.04</td></tr>",
                            "<tr><td>Viennoiserie</td><td>Suplement</td><td>2.01</td><td>4.02</td><td>6.03</td><td>8.04</td></tr>",
                            "<tr><td>Viennoiserie</td><td>Suplement</td><td>2.01</td><td>4.02</td><td>6.03</td><td>8.04</td></tr>",
                            "<tr><td>Viennoiserie</td><td>Suplement</td><td>2.01</td><td>4.02</td><td>6.03</td><td>8.04</td></tr>",
                            "<tr><td>Viennoiserie</td><td>Viennoiserie</td><td>1.84</td><td>3.68</td><td>5.52</td><td>7.36</td></tr>",
                            "<tr><td>Viennoiserie</td><td>Viennoiserie</td><td>1.84</td><td>3.68</td><td>5.52</td><td>7.36</td></tr>",
                            "<tr><td>Viennoiserie</td><td>Viennoiserie</td><td>1.84</td><td>3.68</td><td>5.52</td><td>7.36</td></tr>",
                            "<tr><td>Viennoiserie</td><td>Viennoiserie</td><td>1.84</td><td>3.68</td><td>5.52</td><td>7.36</td></tr>",
                            "<tr><td>Viennoiserie</td><td>Viennoiserie</td><td>1.84</td><td>3.68</td><td>5.52</td><td>7.36</td></tr>",
                            "<tr><td>Viennoiserie</td><td>Viennoiserie</td><td>1.84</td><td>3.68</td><td>5.52</td><td>7.36</td></tr>",
                            "<tr><td>Viennoiserie</td><td>Viennoiserie</td><td>1.84</td><td>3.68</td><td>5.52</td><td>7.36</td></tr>",
                            "<tr><td>Viennoiserie</td><td>Viennoiserie</td><td>1.84</td><td>3.68</td><td>5.52</td><td>7.36</td></tr>",
                            "<tr><td>Viennoiserie</td><td>Viennoiserie</td><td>1.84</td><td>3.68</td><td>5.52</td><td>7.36</td></tr>",
                            "</table>"
                        ]
                    }
                }
            ],
            "execution_count": 19
        }
    ]
}