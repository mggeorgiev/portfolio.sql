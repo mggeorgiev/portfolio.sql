{
    "metadata": {
        "kernelspec": {
            "name": "SQL",
            "display_name": "SQL",
            "language": "sql"
        },
        "language_info": {
            "name": "sql",
            "version": ""
        }
    },
    "nbformat_minor": 2,
    "nbformat": 4,
    "cells": [
        {
            "cell_type": "markdown",
            "source": [
                "Write a query that will show a participant's status - location, tribe at any given episode.\n",
                "\n",
                "Source [https://bg.wikipedia.org/wiki/%D0%98%D0%B3%D1%80%D0%B8\\_%D0%BD%D0%B0\\_%D0%B2%D0%BE%D0%BB%D1%8F%D1%82%D0%B0#%D0%A1%D0%B5%D0%B7%D0%BE%D0%BD%D0%B8](https:\\bg.wikipedia.org\\wiki\\%D0%98%D0%B3%D1%80%D0%B8_%D0%BD%D0%B0_%D0%B2%D0%BE%D0%BB%D1%8F%D1%82%D0%B0#%D0%A1%D0%B5%D0%B7%D0%BE%D0%BD%D0%B8)"
            ],
            "metadata": {
                "language": "sql",
                "azdata_cell_guid": "fc8a3a49-31e0-43c9-b72e-dc7d0e2a4db2"
            },
            "attachments": {}
        },
        {
            "cell_type": "code",
            "source": [
                "/*Всички сезони*/\r\n",
                "\r\n",
                "USE desafio;\r\n",
                "GO\r\n",
                "\r\n",
                "SELECT    *\r\n",
                "FROM      [dbo].[season]\r\n",
                "ORdER BY  [dbo].[season].[id];\r\n",
                "\r\n",
                "GO"
            ],
            "metadata": {
                "language": "sql",
                "azdata_cell_guid": "db59e0d2-8db7-4c49-a1d2-d1b7fd9e8f78"
            },
            "outputs": [
                {
                    "output_type": "display_data",
                    "data": {
                        "text/html": "Commands completed successfully."
                    },
                    "metadata": {}
                },
                {
                    "output_type": "display_data",
                    "data": {
                        "text/html": "(5 rows affected)"
                    },
                    "metadata": {}
                },
                {
                    "output_type": "display_data",
                    "data": {
                        "text/html": "Total execution time: 00:00:00.131"
                    },
                    "metadata": {}
                },
                {
                    "output_type": "execute_result",
                    "metadata": {},
                    "execution_count": 1,
                    "data": {
                        "application/vnd.dataresource+json": {
                            "schema": {
                                "fields": [
                                    {
                                        "name": "id"
                                    },
                                    {
                                        "name": "name"
                                    },
                                    {
                                        "name": "startDate"
                                    },
                                    {
                                        "name": "endDate"
                                    },
                                    {
                                        "name": "episodes"
                                    }
                                ]
                            },
                            "data": [
                                {
                                    "id": "1",
                                    "name": "1",
                                    "startDate": "2019-09-06 00:00:00.000",
                                    "endDate": "2019-12-06 00:00:00.000",
                                    "episodes": "66"
                                },
                                {
                                    "id": "2",
                                    "name": "2",
                                    "startDate": "2020-09-06 00:00:00.000",
                                    "endDate": "2020-12-04 00:00:00.000",
                                    "episodes": "66"
                                },
                                {
                                    "id": "3",
                                    "name": "3",
                                    "startDate": "2021-09-04 00:00:00.000",
                                    "endDate": "2021-12-03 00:00:00.000",
                                    "episodes": "67"
                                },
                                {
                                    "id": "4",
                                    "name": "4",
                                    "startDate": "2022-09-03 00:00:00.000",
                                    "endDate": "2022-11-29 00:00:00.000",
                                    "episodes": "63"
                                },
                                {
                                    "id": "5",
                                    "name": "5",
                                    "startDate": "2023-09-02 00:00:00.000",
                                    "endDate": "2023-12-04 00:00:00.000",
                                    "episodes": "20"
                                }
                            ]
                        },
                        "text/html": [
                            "<table>",
                            "<tr><th>id</th><th>name</th><th>startDate</th><th>endDate</th><th>episodes</th></tr>",
                            "<tr><td>1</td><td>1</td><td>2019-09-06 00:00:00.000</td><td>2019-12-06 00:00:00.000</td><td>66</td></tr>",
                            "<tr><td>2</td><td>2</td><td>2020-09-06 00:00:00.000</td><td>2020-12-04 00:00:00.000</td><td>66</td></tr>",
                            "<tr><td>3</td><td>3</td><td>2021-09-04 00:00:00.000</td><td>2021-12-03 00:00:00.000</td><td>67</td></tr>",
                            "<tr><td>4</td><td>4</td><td>2022-09-03 00:00:00.000</td><td>2022-11-29 00:00:00.000</td><td>63</td></tr>",
                            "<tr><td>5</td><td>5</td><td>2023-09-02 00:00:00.000</td><td>2023-12-04 00:00:00.000</td><td>20</td></tr>",
                            "</table>"
                        ]
                    }
                }
            ],
            "execution_count": 1
        },
        {
            "cell_type": "code",
            "source": [
                "SELECT    Id,\r\n",
                "          seasonId,\r\n",
                "          episode,\r\n",
                "          airDate\r\n",
                "FROM      desafio.dbo.episodes\r\n",
                "ORDER BY  seasonId,\r\n",
                "          episode;"
            ],
            "metadata": {
                "language": "sql",
                "azdata_cell_guid": "0a2d6395-3a9b-4c1c-8080-a67346c509a8"
            },
            "outputs": [
                {
                    "output_type": "display_data",
                    "data": {
                        "text/html": "(286 rows affected)"
                    },
                    "metadata": {}
                },
                {
                    "output_type": "display_data",
                    "data": {
                        "text/html": "Total execution time: 00:00:00.070"
                    },
                    "metadata": {}
                },
                {
                    "output_type": "execute_result",
                    "metadata": {},
                    "execution_count": 10,
                    "data": {
                        "application/vnd.dataresource+json": {
                            "schema": {
                                "fields": [
                                    {
                                        "name": "Id"
                                    },
                                    {
                                        "name": "seasonId"
                                    },
                                    {
                                        "name": "episode"
                                    },
                                    {
                                        "name": "airDate"
                                    }
                                ]
                            },
                            "data": [
                                {
                                    "Id": "1",
                                    "seasonId": "1",
                                    "episode": "1",
                                    "airDate": "NULL"
                                },
                                {
                                    "Id": "2",
                                    "seasonId": "1",
                                    "episode": "2",
                                    "airDate": "NULL"
                                },
                                {
                                    "Id": "3",
                                    "seasonId": "1",
                                    "episode": "3",
                                    "airDate": "NULL"
                                },
                                {
                                    "Id": "4",
                                    "seasonId": "1",
                                    "episode": "4",
                                    "airDate": "NULL"
                                },
                                {
                                    "Id": "5",
                                    "seasonId": "1",
                                    "episode": "5",
                                    "airDate": "NULL"
                                },
                                {
                                    "Id": "6",
                                    "seasonId": "1",
                                    "episode": "6",
                                    "airDate": "NULL"
                                },
                                {
                                    "Id": "7",
                                    "seasonId": "1",
                                    "episode": "7",
                                    "airDate": "NULL"
                                },
                                {
                                    "Id": "8",
                                    "seasonId": "1",
                                    "episode": "8",
                                    "airDate": "NULL"
                                },
                                {
                                    "Id": "9",
                                    "seasonId": "1",
                                    "episode": "9",
                                    "airDate": "NULL"
                                },
                                {
                                    "Id": "10",
                                    "seasonId": "1",
                                    "episode": "10",
                                    "airDate": "NULL"
                                },
                                {
                                    "Id": "11",
                                    "seasonId": "1",
                                    "episode": "11",
                                    "airDate": "NULL"
                                },
                                {
                                    "Id": "12",
                                    "seasonId": "1",
                                    "episode": "12",
                                    "airDate": "NULL"
                                },
                                {
                                    "Id": "13",
                                    "seasonId": "1",
                                    "episode": "13",
                                    "airDate": "NULL"
                                },
                                {
                                    "Id": "14",
                                    "seasonId": "1",
                                    "episode": "14",
                                    "airDate": "NULL"
                                },
                                {
                                    "Id": "15",
                                    "seasonId": "1",
                                    "episode": "15",
                                    "airDate": "NULL"
                                },
                                {
                                    "Id": "16",
                                    "seasonId": "1",
                                    "episode": "16",
                                    "airDate": "NULL"
                                },
                                {
                                    "Id": "17",
                                    "seasonId": "1",
                                    "episode": "17",
                                    "airDate": "NULL"
                                },
                                {
                                    "Id": "18",
                                    "seasonId": "1",
                                    "episode": "18",
                                    "airDate": "NULL"
                                },
                                {
                                    "Id": "19",
                                    "seasonId": "1",
                                    "episode": "19",
                                    "airDate": "NULL"
                                },
                                {
                                    "Id": "20",
                                    "seasonId": "1",
                                    "episode": "20",
                                    "airDate": "NULL"
                                },
                                {
                                    "Id": "21",
                                    "seasonId": "1",
                                    "episode": "21",
                                    "airDate": "NULL"
                                },
                                {
                                    "Id": "22",
                                    "seasonId": "1",
                                    "episode": "22",
                                    "airDate": "NULL"
                                },
                                {
                                    "Id": "23",
                                    "seasonId": "1",
                                    "episode": "23",
                                    "airDate": "NULL"
                                },
                                {
                                    "Id": "24",
                                    "seasonId": "1",
                                    "episode": "24",
                                    "airDate": "NULL"
                                },
                                {
                                    "Id": "25",
                                    "seasonId": "1",
                                    "episode": "25",
                                    "airDate": "NULL"
                                },
                                {
                                    "Id": "26",
                                    "seasonId": "1",
                                    "episode": "26",
                                    "airDate": "NULL"
                                },
                                {
                                    "Id": "27",
                                    "seasonId": "1",
                                    "episode": "27",
                                    "airDate": "NULL"
                                },
                                {
                                    "Id": "28",
                                    "seasonId": "1",
                                    "episode": "28",
                                    "airDate": "NULL"
                                },
                                {
                                    "Id": "29",
                                    "seasonId": "1",
                                    "episode": "29",
                                    "airDate": "NULL"
                                },
                                {
                                    "Id": "30",
                                    "seasonId": "1",
                                    "episode": "30",
                                    "airDate": "NULL"
                                },
                                {
                                    "Id": "31",
                                    "seasonId": "1",
                                    "episode": "31",
                                    "airDate": "NULL"
                                },
                                {
                                    "Id": "32",
                                    "seasonId": "1",
                                    "episode": "32",
                                    "airDate": "NULL"
                                },
                                {
                                    "Id": "33",
                                    "seasonId": "1",
                                    "episode": "33",
                                    "airDate": "NULL"
                                },
                                {
                                    "Id": "34",
                                    "seasonId": "1",
                                    "episode": "34",
                                    "airDate": "NULL"
                                },
                                {
                                    "Id": "35",
                                    "seasonId": "1",
                                    "episode": "35",
                                    "airDate": "NULL"
                                },
                                {
                                    "Id": "36",
                                    "seasonId": "1",
                                    "episode": "36",
                                    "airDate": "NULL"
                                },
                                {
                                    "Id": "37",
                                    "seasonId": "1",
                                    "episode": "37",
                                    "airDate": "NULL"
                                },
                                {
                                    "Id": "38",
                                    "seasonId": "1",
                                    "episode": "38",
                                    "airDate": "NULL"
                                },
                                {
                                    "Id": "39",
                                    "seasonId": "1",
                                    "episode": "39",
                                    "airDate": "NULL"
                                },
                                {
                                    "Id": "40",
                                    "seasonId": "1",
                                    "episode": "40",
                                    "airDate": "NULL"
                                },
                                {
                                    "Id": "41",
                                    "seasonId": "1",
                                    "episode": "41",
                                    "airDate": "NULL"
                                },
                                {
                                    "Id": "42",
                                    "seasonId": "1",
                                    "episode": "42",
                                    "airDate": "NULL"
                                },
                                {
                                    "Id": "43",
                                    "seasonId": "1",
                                    "episode": "43",
                                    "airDate": "NULL"
                                },
                                {
                                    "Id": "44",
                                    "seasonId": "1",
                                    "episode": "44",
                                    "airDate": "NULL"
                                },
                                {
                                    "Id": "45",
                                    "seasonId": "1",
                                    "episode": "45",
                                    "airDate": "NULL"
                                },
                                {
                                    "Id": "46",
                                    "seasonId": "1",
                                    "episode": "46",
                                    "airDate": "NULL"
                                },
                                {
                                    "Id": "47",
                                    "seasonId": "1",
                                    "episode": "47",
                                    "airDate": "NULL"
                                },
                                {
                                    "Id": "48",
                                    "seasonId": "1",
                                    "episode": "48",
                                    "airDate": "NULL"
                                },
                                {
                                    "Id": "49",
                                    "seasonId": "1",
                                    "episode": "49",
                                    "airDate": "NULL"
                                },
                                {
                                    "Id": "50",
                                    "seasonId": "1",
                                    "episode": "50",
                                    "airDate": "NULL"
                                },
                                {
                                    "Id": "51",
                                    "seasonId": "1",
                                    "episode": "51",
                                    "airDate": "NULL"
                                },
                                {
                                    "Id": "52",
                                    "seasonId": "1",
                                    "episode": "52",
                                    "airDate": "NULL"
                                },
                                {
                                    "Id": "53",
                                    "seasonId": "1",
                                    "episode": "53",
                                    "airDate": "NULL"
                                },
                                {
                                    "Id": "54",
                                    "seasonId": "1",
                                    "episode": "54",
                                    "airDate": "NULL"
                                },
                                {
                                    "Id": "55",
                                    "seasonId": "1",
                                    "episode": "55",
                                    "airDate": "NULL"
                                },
                                {
                                    "Id": "56",
                                    "seasonId": "1",
                                    "episode": "56",
                                    "airDate": "NULL"
                                },
                                {
                                    "Id": "57",
                                    "seasonId": "1",
                                    "episode": "57",
                                    "airDate": "NULL"
                                },
                                {
                                    "Id": "58",
                                    "seasonId": "1",
                                    "episode": "58",
                                    "airDate": "NULL"
                                },
                                {
                                    "Id": "59",
                                    "seasonId": "1",
                                    "episode": "59",
                                    "airDate": "NULL"
                                },
                                {
                                    "Id": "60",
                                    "seasonId": "1",
                                    "episode": "60",
                                    "airDate": "NULL"
                                },
                                {
                                    "Id": "61",
                                    "seasonId": "1",
                                    "episode": "61",
                                    "airDate": "NULL"
                                },
                                {
                                    "Id": "62",
                                    "seasonId": "1",
                                    "episode": "62",
                                    "airDate": "NULL"
                                },
                                {
                                    "Id": "63",
                                    "seasonId": "1",
                                    "episode": "63",
                                    "airDate": "NULL"
                                },
                                {
                                    "Id": "64",
                                    "seasonId": "1",
                                    "episode": "64",
                                    "airDate": "NULL"
                                },
                                {
                                    "Id": "65",
                                    "seasonId": "1",
                                    "episode": "65",
                                    "airDate": "NULL"
                                },
                                {
                                    "Id": "66",
                                    "seasonId": "1",
                                    "episode": "66",
                                    "airDate": "NULL"
                                },
                                {
                                    "Id": "67",
                                    "seasonId": "1",
                                    "episode": "67",
                                    "airDate": "NULL"
                                },
                                {
                                    "Id": "68",
                                    "seasonId": "2",
                                    "episode": "1",
                                    "airDate": "NULL"
                                },
                                {
                                    "Id": "69",
                                    "seasonId": "2",
                                    "episode": "2",
                                    "airDate": "NULL"
                                },
                                {
                                    "Id": "70",
                                    "seasonId": "2",
                                    "episode": "3",
                                    "airDate": "NULL"
                                },
                                {
                                    "Id": "71",
                                    "seasonId": "2",
                                    "episode": "4",
                                    "airDate": "NULL"
                                },
                                {
                                    "Id": "72",
                                    "seasonId": "2",
                                    "episode": "5",
                                    "airDate": "NULL"
                                },
                                {
                                    "Id": "73",
                                    "seasonId": "2",
                                    "episode": "6",
                                    "airDate": "NULL"
                                },
                                {
                                    "Id": "74",
                                    "seasonId": "2",
                                    "episode": "7",
                                    "airDate": "NULL"
                                },
                                {
                                    "Id": "75",
                                    "seasonId": "2",
                                    "episode": "8",
                                    "airDate": "NULL"
                                },
                                {
                                    "Id": "76",
                                    "seasonId": "2",
                                    "episode": "9",
                                    "airDate": "NULL"
                                },
                                {
                                    "Id": "77",
                                    "seasonId": "2",
                                    "episode": "10",
                                    "airDate": "NULL"
                                },
                                {
                                    "Id": "78",
                                    "seasonId": "2",
                                    "episode": "11",
                                    "airDate": "NULL"
                                },
                                {
                                    "Id": "79",
                                    "seasonId": "2",
                                    "episode": "12",
                                    "airDate": "NULL"
                                },
                                {
                                    "Id": "80",
                                    "seasonId": "2",
                                    "episode": "13",
                                    "airDate": "NULL"
                                },
                                {
                                    "Id": "81",
                                    "seasonId": "2",
                                    "episode": "14",
                                    "airDate": "NULL"
                                },
                                {
                                    "Id": "82",
                                    "seasonId": "2",
                                    "episode": "15",
                                    "airDate": "NULL"
                                },
                                {
                                    "Id": "83",
                                    "seasonId": "2",
                                    "episode": "16",
                                    "airDate": "NULL"
                                },
                                {
                                    "Id": "84",
                                    "seasonId": "2",
                                    "episode": "17",
                                    "airDate": "NULL"
                                },
                                {
                                    "Id": "85",
                                    "seasonId": "2",
                                    "episode": "18",
                                    "airDate": "NULL"
                                },
                                {
                                    "Id": "86",
                                    "seasonId": "2",
                                    "episode": "19",
                                    "airDate": "NULL"
                                },
                                {
                                    "Id": "87",
                                    "seasonId": "2",
                                    "episode": "20",
                                    "airDate": "NULL"
                                },
                                {
                                    "Id": "88",
                                    "seasonId": "2",
                                    "episode": "21",
                                    "airDate": "NULL"
                                },
                                {
                                    "Id": "89",
                                    "seasonId": "2",
                                    "episode": "22",
                                    "airDate": "NULL"
                                },
                                {
                                    "Id": "90",
                                    "seasonId": "2",
                                    "episode": "23",
                                    "airDate": "NULL"
                                },
                                {
                                    "Id": "91",
                                    "seasonId": "2",
                                    "episode": "24",
                                    "airDate": "NULL"
                                },
                                {
                                    "Id": "92",
                                    "seasonId": "2",
                                    "episode": "25",
                                    "airDate": "NULL"
                                },
                                {
                                    "Id": "93",
                                    "seasonId": "2",
                                    "episode": "26",
                                    "airDate": "NULL"
                                },
                                {
                                    "Id": "94",
                                    "seasonId": "2",
                                    "episode": "27",
                                    "airDate": "NULL"
                                },
                                {
                                    "Id": "95",
                                    "seasonId": "2",
                                    "episode": "28",
                                    "airDate": "NULL"
                                },
                                {
                                    "Id": "96",
                                    "seasonId": "2",
                                    "episode": "29",
                                    "airDate": "NULL"
                                },
                                {
                                    "Id": "97",
                                    "seasonId": "2",
                                    "episode": "30",
                                    "airDate": "NULL"
                                },
                                {
                                    "Id": "98",
                                    "seasonId": "2",
                                    "episode": "31",
                                    "airDate": "NULL"
                                },
                                {
                                    "Id": "99",
                                    "seasonId": "2",
                                    "episode": "32",
                                    "airDate": "NULL"
                                },
                                {
                                    "Id": "100",
                                    "seasonId": "2",
                                    "episode": "33",
                                    "airDate": "NULL"
                                },
                                {
                                    "Id": "101",
                                    "seasonId": "2",
                                    "episode": "34",
                                    "airDate": "NULL"
                                },
                                {
                                    "Id": "102",
                                    "seasonId": "2",
                                    "episode": "35",
                                    "airDate": "NULL"
                                },
                                {
                                    "Id": "103",
                                    "seasonId": "2",
                                    "episode": "36",
                                    "airDate": "NULL"
                                },
                                {
                                    "Id": "104",
                                    "seasonId": "2",
                                    "episode": "37",
                                    "airDate": "NULL"
                                },
                                {
                                    "Id": "105",
                                    "seasonId": "2",
                                    "episode": "38",
                                    "airDate": "NULL"
                                },
                                {
                                    "Id": "106",
                                    "seasonId": "2",
                                    "episode": "39",
                                    "airDate": "NULL"
                                },
                                {
                                    "Id": "107",
                                    "seasonId": "2",
                                    "episode": "40",
                                    "airDate": "NULL"
                                },
                                {
                                    "Id": "108",
                                    "seasonId": "2",
                                    "episode": "41",
                                    "airDate": "NULL"
                                },
                                {
                                    "Id": "109",
                                    "seasonId": "2",
                                    "episode": "42",
                                    "airDate": "NULL"
                                },
                                {
                                    "Id": "110",
                                    "seasonId": "2",
                                    "episode": "43",
                                    "airDate": "NULL"
                                },
                                {
                                    "Id": "111",
                                    "seasonId": "2",
                                    "episode": "44",
                                    "airDate": "NULL"
                                },
                                {
                                    "Id": "112",
                                    "seasonId": "2",
                                    "episode": "45",
                                    "airDate": "NULL"
                                },
                                {
                                    "Id": "113",
                                    "seasonId": "2",
                                    "episode": "46",
                                    "airDate": "NULL"
                                },
                                {
                                    "Id": "114",
                                    "seasonId": "2",
                                    "episode": "47",
                                    "airDate": "NULL"
                                },
                                {
                                    "Id": "115",
                                    "seasonId": "2",
                                    "episode": "48",
                                    "airDate": "NULL"
                                },
                                {
                                    "Id": "116",
                                    "seasonId": "2",
                                    "episode": "49",
                                    "airDate": "NULL"
                                },
                                {
                                    "Id": "117",
                                    "seasonId": "2",
                                    "episode": "50",
                                    "airDate": "NULL"
                                },
                                {
                                    "Id": "118",
                                    "seasonId": "2",
                                    "episode": "51",
                                    "airDate": "NULL"
                                },
                                {
                                    "Id": "119",
                                    "seasonId": "2",
                                    "episode": "52",
                                    "airDate": "NULL"
                                },
                                {
                                    "Id": "120",
                                    "seasonId": "2",
                                    "episode": "53",
                                    "airDate": "NULL"
                                },
                                {
                                    "Id": "121",
                                    "seasonId": "2",
                                    "episode": "54",
                                    "airDate": "NULL"
                                },
                                {
                                    "Id": "122",
                                    "seasonId": "2",
                                    "episode": "55",
                                    "airDate": "NULL"
                                },
                                {
                                    "Id": "123",
                                    "seasonId": "2",
                                    "episode": "56",
                                    "airDate": "NULL"
                                },
                                {
                                    "Id": "124",
                                    "seasonId": "2",
                                    "episode": "57",
                                    "airDate": "NULL"
                                },
                                {
                                    "Id": "125",
                                    "seasonId": "2",
                                    "episode": "58",
                                    "airDate": "NULL"
                                },
                                {
                                    "Id": "126",
                                    "seasonId": "2",
                                    "episode": "59",
                                    "airDate": "NULL"
                                },
                                {
                                    "Id": "127",
                                    "seasonId": "2",
                                    "episode": "60",
                                    "airDate": "NULL"
                                },
                                {
                                    "Id": "128",
                                    "seasonId": "2",
                                    "episode": "61",
                                    "airDate": "NULL"
                                },
                                {
                                    "Id": "129",
                                    "seasonId": "2",
                                    "episode": "62",
                                    "airDate": "NULL"
                                },
                                {
                                    "Id": "130",
                                    "seasonId": "2",
                                    "episode": "63",
                                    "airDate": "NULL"
                                },
                                {
                                    "Id": "131",
                                    "seasonId": "2",
                                    "episode": "64",
                                    "airDate": "NULL"
                                },
                                {
                                    "Id": "132",
                                    "seasonId": "2",
                                    "episode": "65",
                                    "airDate": "NULL"
                                },
                                {
                                    "Id": "133",
                                    "seasonId": "2",
                                    "episode": "66",
                                    "airDate": "NULL"
                                },
                                {
                                    "Id": "134",
                                    "seasonId": "2",
                                    "episode": "67",
                                    "airDate": "NULL"
                                },
                                {
                                    "Id": "135",
                                    "seasonId": "3",
                                    "episode": "1",
                                    "airDate": "NULL"
                                },
                                {
                                    "Id": "136",
                                    "seasonId": "3",
                                    "episode": "2",
                                    "airDate": "NULL"
                                },
                                {
                                    "Id": "137",
                                    "seasonId": "3",
                                    "episode": "3",
                                    "airDate": "NULL"
                                },
                                {
                                    "Id": "138",
                                    "seasonId": "3",
                                    "episode": "4",
                                    "airDate": "NULL"
                                },
                                {
                                    "Id": "139",
                                    "seasonId": "3",
                                    "episode": "5",
                                    "airDate": "NULL"
                                },
                                {
                                    "Id": "140",
                                    "seasonId": "3",
                                    "episode": "6",
                                    "airDate": "NULL"
                                },
                                {
                                    "Id": "141",
                                    "seasonId": "3",
                                    "episode": "7",
                                    "airDate": "NULL"
                                },
                                {
                                    "Id": "142",
                                    "seasonId": "3",
                                    "episode": "8",
                                    "airDate": "NULL"
                                },
                                {
                                    "Id": "143",
                                    "seasonId": "3",
                                    "episode": "9",
                                    "airDate": "NULL"
                                },
                                {
                                    "Id": "144",
                                    "seasonId": "3",
                                    "episode": "10",
                                    "airDate": "NULL"
                                },
                                {
                                    "Id": "145",
                                    "seasonId": "3",
                                    "episode": "11",
                                    "airDate": "NULL"
                                },
                                {
                                    "Id": "146",
                                    "seasonId": "3",
                                    "episode": "12",
                                    "airDate": "NULL"
                                },
                                {
                                    "Id": "147",
                                    "seasonId": "3",
                                    "episode": "13",
                                    "airDate": "NULL"
                                },
                                {
                                    "Id": "148",
                                    "seasonId": "3",
                                    "episode": "14",
                                    "airDate": "NULL"
                                },
                                {
                                    "Id": "149",
                                    "seasonId": "3",
                                    "episode": "15",
                                    "airDate": "NULL"
                                },
                                {
                                    "Id": "150",
                                    "seasonId": "3",
                                    "episode": "16",
                                    "airDate": "NULL"
                                },
                                {
                                    "Id": "151",
                                    "seasonId": "3",
                                    "episode": "17",
                                    "airDate": "NULL"
                                },
                                {
                                    "Id": "152",
                                    "seasonId": "3",
                                    "episode": "18",
                                    "airDate": "NULL"
                                },
                                {
                                    "Id": "153",
                                    "seasonId": "3",
                                    "episode": "19",
                                    "airDate": "NULL"
                                },
                                {
                                    "Id": "154",
                                    "seasonId": "3",
                                    "episode": "20",
                                    "airDate": "NULL"
                                },
                                {
                                    "Id": "155",
                                    "seasonId": "3",
                                    "episode": "21",
                                    "airDate": "NULL"
                                },
                                {
                                    "Id": "156",
                                    "seasonId": "3",
                                    "episode": "22",
                                    "airDate": "NULL"
                                },
                                {
                                    "Id": "157",
                                    "seasonId": "3",
                                    "episode": "23",
                                    "airDate": "NULL"
                                },
                                {
                                    "Id": "158",
                                    "seasonId": "3",
                                    "episode": "24",
                                    "airDate": "NULL"
                                },
                                {
                                    "Id": "159",
                                    "seasonId": "3",
                                    "episode": "25",
                                    "airDate": "NULL"
                                },
                                {
                                    "Id": "160",
                                    "seasonId": "3",
                                    "episode": "26",
                                    "airDate": "NULL"
                                },
                                {
                                    "Id": "161",
                                    "seasonId": "3",
                                    "episode": "27",
                                    "airDate": "NULL"
                                },
                                {
                                    "Id": "162",
                                    "seasonId": "3",
                                    "episode": "28",
                                    "airDate": "NULL"
                                },
                                {
                                    "Id": "163",
                                    "seasonId": "3",
                                    "episode": "29",
                                    "airDate": "NULL"
                                },
                                {
                                    "Id": "164",
                                    "seasonId": "3",
                                    "episode": "30",
                                    "airDate": "NULL"
                                },
                                {
                                    "Id": "165",
                                    "seasonId": "3",
                                    "episode": "31",
                                    "airDate": "NULL"
                                },
                                {
                                    "Id": "166",
                                    "seasonId": "3",
                                    "episode": "32",
                                    "airDate": "NULL"
                                },
                                {
                                    "Id": "167",
                                    "seasonId": "3",
                                    "episode": "33",
                                    "airDate": "NULL"
                                },
                                {
                                    "Id": "168",
                                    "seasonId": "3",
                                    "episode": "34",
                                    "airDate": "NULL"
                                },
                                {
                                    "Id": "169",
                                    "seasonId": "3",
                                    "episode": "35",
                                    "airDate": "NULL"
                                },
                                {
                                    "Id": "170",
                                    "seasonId": "3",
                                    "episode": "36",
                                    "airDate": "NULL"
                                },
                                {
                                    "Id": "171",
                                    "seasonId": "3",
                                    "episode": "37",
                                    "airDate": "NULL"
                                },
                                {
                                    "Id": "172",
                                    "seasonId": "3",
                                    "episode": "38",
                                    "airDate": "NULL"
                                },
                                {
                                    "Id": "173",
                                    "seasonId": "3",
                                    "episode": "39",
                                    "airDate": "NULL"
                                },
                                {
                                    "Id": "174",
                                    "seasonId": "3",
                                    "episode": "40",
                                    "airDate": "NULL"
                                },
                                {
                                    "Id": "175",
                                    "seasonId": "3",
                                    "episode": "41",
                                    "airDate": "NULL"
                                },
                                {
                                    "Id": "176",
                                    "seasonId": "3",
                                    "episode": "42",
                                    "airDate": "NULL"
                                },
                                {
                                    "Id": "177",
                                    "seasonId": "3",
                                    "episode": "43",
                                    "airDate": "NULL"
                                },
                                {
                                    "Id": "178",
                                    "seasonId": "3",
                                    "episode": "44",
                                    "airDate": "NULL"
                                },
                                {
                                    "Id": "179",
                                    "seasonId": "3",
                                    "episode": "45",
                                    "airDate": "NULL"
                                },
                                {
                                    "Id": "180",
                                    "seasonId": "3",
                                    "episode": "46",
                                    "airDate": "NULL"
                                },
                                {
                                    "Id": "181",
                                    "seasonId": "3",
                                    "episode": "47",
                                    "airDate": "NULL"
                                },
                                {
                                    "Id": "182",
                                    "seasonId": "3",
                                    "episode": "48",
                                    "airDate": "NULL"
                                },
                                {
                                    "Id": "183",
                                    "seasonId": "3",
                                    "episode": "49",
                                    "airDate": "NULL"
                                },
                                {
                                    "Id": "184",
                                    "seasonId": "3",
                                    "episode": "50",
                                    "airDate": "NULL"
                                },
                                {
                                    "Id": "185",
                                    "seasonId": "3",
                                    "episode": "51",
                                    "airDate": "NULL"
                                },
                                {
                                    "Id": "186",
                                    "seasonId": "3",
                                    "episode": "52",
                                    "airDate": "NULL"
                                },
                                {
                                    "Id": "187",
                                    "seasonId": "3",
                                    "episode": "53",
                                    "airDate": "NULL"
                                },
                                {
                                    "Id": "188",
                                    "seasonId": "3",
                                    "episode": "54",
                                    "airDate": "NULL"
                                },
                                {
                                    "Id": "189",
                                    "seasonId": "3",
                                    "episode": "55",
                                    "airDate": "NULL"
                                },
                                {
                                    "Id": "190",
                                    "seasonId": "3",
                                    "episode": "56",
                                    "airDate": "NULL"
                                },
                                {
                                    "Id": "191",
                                    "seasonId": "3",
                                    "episode": "57",
                                    "airDate": "NULL"
                                },
                                {
                                    "Id": "192",
                                    "seasonId": "3",
                                    "episode": "58",
                                    "airDate": "NULL"
                                },
                                {
                                    "Id": "193",
                                    "seasonId": "3",
                                    "episode": "59",
                                    "airDate": "NULL"
                                },
                                {
                                    "Id": "194",
                                    "seasonId": "3",
                                    "episode": "60",
                                    "airDate": "NULL"
                                },
                                {
                                    "Id": "195",
                                    "seasonId": "3",
                                    "episode": "61",
                                    "airDate": "NULL"
                                },
                                {
                                    "Id": "196",
                                    "seasonId": "3",
                                    "episode": "62",
                                    "airDate": "NULL"
                                },
                                {
                                    "Id": "197",
                                    "seasonId": "3",
                                    "episode": "63",
                                    "airDate": "NULL"
                                },
                                {
                                    "Id": "198",
                                    "seasonId": "3",
                                    "episode": "64",
                                    "airDate": "NULL"
                                },
                                {
                                    "Id": "199",
                                    "seasonId": "3",
                                    "episode": "65",
                                    "airDate": "NULL"
                                },
                                {
                                    "Id": "200",
                                    "seasonId": "3",
                                    "episode": "66",
                                    "airDate": "NULL"
                                },
                                {
                                    "Id": "201",
                                    "seasonId": "3",
                                    "episode": "67",
                                    "airDate": "NULL"
                                },
                                {
                                    "Id": "202",
                                    "seasonId": "3",
                                    "episode": "68",
                                    "airDate": "NULL"
                                },
                                {
                                    "Id": "203",
                                    "seasonId": "4",
                                    "episode": "1",
                                    "airDate": "NULL"
                                },
                                {
                                    "Id": "204",
                                    "seasonId": "4",
                                    "episode": "2",
                                    "airDate": "NULL"
                                },
                                {
                                    "Id": "205",
                                    "seasonId": "4",
                                    "episode": "3",
                                    "airDate": "NULL"
                                },
                                {
                                    "Id": "206",
                                    "seasonId": "4",
                                    "episode": "4",
                                    "airDate": "NULL"
                                },
                                {
                                    "Id": "207",
                                    "seasonId": "4",
                                    "episode": "5",
                                    "airDate": "NULL"
                                },
                                {
                                    "Id": "208",
                                    "seasonId": "4",
                                    "episode": "6",
                                    "airDate": "NULL"
                                },
                                {
                                    "Id": "209",
                                    "seasonId": "4",
                                    "episode": "7",
                                    "airDate": "NULL"
                                },
                                {
                                    "Id": "210",
                                    "seasonId": "4",
                                    "episode": "8",
                                    "airDate": "NULL"
                                },
                                {
                                    "Id": "211",
                                    "seasonId": "4",
                                    "episode": "9",
                                    "airDate": "NULL"
                                },
                                {
                                    "Id": "212",
                                    "seasonId": "4",
                                    "episode": "10",
                                    "airDate": "NULL"
                                },
                                {
                                    "Id": "213",
                                    "seasonId": "4",
                                    "episode": "11",
                                    "airDate": "NULL"
                                },
                                {
                                    "Id": "214",
                                    "seasonId": "4",
                                    "episode": "12",
                                    "airDate": "NULL"
                                },
                                {
                                    "Id": "215",
                                    "seasonId": "4",
                                    "episode": "13",
                                    "airDate": "NULL"
                                },
                                {
                                    "Id": "216",
                                    "seasonId": "4",
                                    "episode": "14",
                                    "airDate": "NULL"
                                },
                                {
                                    "Id": "217",
                                    "seasonId": "4",
                                    "episode": "15",
                                    "airDate": "NULL"
                                },
                                {
                                    "Id": "218",
                                    "seasonId": "4",
                                    "episode": "16",
                                    "airDate": "NULL"
                                },
                                {
                                    "Id": "219",
                                    "seasonId": "4",
                                    "episode": "17",
                                    "airDate": "NULL"
                                },
                                {
                                    "Id": "220",
                                    "seasonId": "4",
                                    "episode": "18",
                                    "airDate": "NULL"
                                },
                                {
                                    "Id": "221",
                                    "seasonId": "4",
                                    "episode": "19",
                                    "airDate": "NULL"
                                },
                                {
                                    "Id": "222",
                                    "seasonId": "4",
                                    "episode": "20",
                                    "airDate": "NULL"
                                },
                                {
                                    "Id": "223",
                                    "seasonId": "4",
                                    "episode": "21",
                                    "airDate": "NULL"
                                },
                                {
                                    "Id": "224",
                                    "seasonId": "4",
                                    "episode": "22",
                                    "airDate": "NULL"
                                },
                                {
                                    "Id": "225",
                                    "seasonId": "4",
                                    "episode": "23",
                                    "airDate": "NULL"
                                },
                                {
                                    "Id": "226",
                                    "seasonId": "4",
                                    "episode": "24",
                                    "airDate": "NULL"
                                },
                                {
                                    "Id": "227",
                                    "seasonId": "4",
                                    "episode": "25",
                                    "airDate": "NULL"
                                },
                                {
                                    "Id": "228",
                                    "seasonId": "4",
                                    "episode": "26",
                                    "airDate": "NULL"
                                },
                                {
                                    "Id": "229",
                                    "seasonId": "4",
                                    "episode": "27",
                                    "airDate": "NULL"
                                },
                                {
                                    "Id": "230",
                                    "seasonId": "4",
                                    "episode": "28",
                                    "airDate": "NULL"
                                },
                                {
                                    "Id": "231",
                                    "seasonId": "4",
                                    "episode": "29",
                                    "airDate": "NULL"
                                },
                                {
                                    "Id": "232",
                                    "seasonId": "4",
                                    "episode": "30",
                                    "airDate": "NULL"
                                },
                                {
                                    "Id": "233",
                                    "seasonId": "4",
                                    "episode": "31",
                                    "airDate": "NULL"
                                },
                                {
                                    "Id": "234",
                                    "seasonId": "4",
                                    "episode": "32",
                                    "airDate": "NULL"
                                },
                                {
                                    "Id": "235",
                                    "seasonId": "4",
                                    "episode": "33",
                                    "airDate": "NULL"
                                },
                                {
                                    "Id": "236",
                                    "seasonId": "4",
                                    "episode": "34",
                                    "airDate": "NULL"
                                },
                                {
                                    "Id": "237",
                                    "seasonId": "4",
                                    "episode": "35",
                                    "airDate": "NULL"
                                },
                                {
                                    "Id": "238",
                                    "seasonId": "4",
                                    "episode": "36",
                                    "airDate": "NULL"
                                },
                                {
                                    "Id": "239",
                                    "seasonId": "4",
                                    "episode": "37",
                                    "airDate": "NULL"
                                },
                                {
                                    "Id": "240",
                                    "seasonId": "4",
                                    "episode": "38",
                                    "airDate": "NULL"
                                },
                                {
                                    "Id": "241",
                                    "seasonId": "4",
                                    "episode": "39",
                                    "airDate": "NULL"
                                },
                                {
                                    "Id": "242",
                                    "seasonId": "4",
                                    "episode": "40",
                                    "airDate": "NULL"
                                },
                                {
                                    "Id": "243",
                                    "seasonId": "4",
                                    "episode": "41",
                                    "airDate": "NULL"
                                },
                                {
                                    "Id": "244",
                                    "seasonId": "4",
                                    "episode": "42",
                                    "airDate": "NULL"
                                },
                                {
                                    "Id": "245",
                                    "seasonId": "4",
                                    "episode": "43",
                                    "airDate": "NULL"
                                },
                                {
                                    "Id": "246",
                                    "seasonId": "4",
                                    "episode": "44",
                                    "airDate": "NULL"
                                },
                                {
                                    "Id": "247",
                                    "seasonId": "4",
                                    "episode": "45",
                                    "airDate": "NULL"
                                },
                                {
                                    "Id": "248",
                                    "seasonId": "4",
                                    "episode": "46",
                                    "airDate": "NULL"
                                },
                                {
                                    "Id": "249",
                                    "seasonId": "4",
                                    "episode": "47",
                                    "airDate": "NULL"
                                },
                                {
                                    "Id": "250",
                                    "seasonId": "4",
                                    "episode": "48",
                                    "airDate": "NULL"
                                },
                                {
                                    "Id": "251",
                                    "seasonId": "4",
                                    "episode": "49",
                                    "airDate": "NULL"
                                },
                                {
                                    "Id": "252",
                                    "seasonId": "4",
                                    "episode": "50",
                                    "airDate": "NULL"
                                },
                                {
                                    "Id": "253",
                                    "seasonId": "4",
                                    "episode": "51",
                                    "airDate": "NULL"
                                },
                                {
                                    "Id": "254",
                                    "seasonId": "4",
                                    "episode": "52",
                                    "airDate": "NULL"
                                },
                                {
                                    "Id": "255",
                                    "seasonId": "4",
                                    "episode": "53",
                                    "airDate": "NULL"
                                },
                                {
                                    "Id": "256",
                                    "seasonId": "4",
                                    "episode": "54",
                                    "airDate": "NULL"
                                },
                                {
                                    "Id": "257",
                                    "seasonId": "4",
                                    "episode": "55",
                                    "airDate": "NULL"
                                },
                                {
                                    "Id": "258",
                                    "seasonId": "4",
                                    "episode": "56",
                                    "airDate": "NULL"
                                },
                                {
                                    "Id": "259",
                                    "seasonId": "4",
                                    "episode": "57",
                                    "airDate": "NULL"
                                },
                                {
                                    "Id": "260",
                                    "seasonId": "4",
                                    "episode": "58",
                                    "airDate": "NULL"
                                },
                                {
                                    "Id": "261",
                                    "seasonId": "4",
                                    "episode": "59",
                                    "airDate": "NULL"
                                },
                                {
                                    "Id": "262",
                                    "seasonId": "4",
                                    "episode": "60",
                                    "airDate": "NULL"
                                },
                                {
                                    "Id": "263",
                                    "seasonId": "4",
                                    "episode": "61",
                                    "airDate": "NULL"
                                },
                                {
                                    "Id": "264",
                                    "seasonId": "4",
                                    "episode": "62",
                                    "airDate": "NULL"
                                },
                                {
                                    "Id": "265",
                                    "seasonId": "4",
                                    "episode": "63",
                                    "airDate": "NULL"
                                },
                                {
                                    "Id": "266",
                                    "seasonId": "4",
                                    "episode": "64",
                                    "airDate": "NULL"
                                },
                                {
                                    "Id": "267",
                                    "seasonId": "5",
                                    "episode": "1",
                                    "airDate": "2023-09-02"
                                },
                                {
                                    "Id": "268",
                                    "seasonId": "5",
                                    "episode": "2",
                                    "airDate": "2023-09-03"
                                },
                                {
                                    "Id": "269",
                                    "seasonId": "5",
                                    "episode": "3",
                                    "airDate": "2023-09-04"
                                },
                                {
                                    "Id": "270",
                                    "seasonId": "5",
                                    "episode": "4",
                                    "airDate": "2023-09-05"
                                },
                                {
                                    "Id": "271",
                                    "seasonId": "5",
                                    "episode": "5",
                                    "airDate": "2023-09-06"
                                },
                                {
                                    "Id": "272",
                                    "seasonId": "5",
                                    "episode": "6",
                                    "airDate": "2023-09-07"
                                },
                                {
                                    "Id": "273",
                                    "seasonId": "5",
                                    "episode": "7",
                                    "airDate": "2023-09-08"
                                },
                                {
                                    "Id": "274",
                                    "seasonId": "5",
                                    "episode": "8",
                                    "airDate": "2023-09-09"
                                },
                                {
                                    "Id": "275",
                                    "seasonId": "5",
                                    "episode": "9",
                                    "airDate": "2023-09-11"
                                },
                                {
                                    "Id": "276",
                                    "seasonId": "5",
                                    "episode": "10",
                                    "airDate": "2023-09-12"
                                },
                                {
                                    "Id": "277",
                                    "seasonId": "5",
                                    "episode": "11",
                                    "airDate": "2023-09-13"
                                },
                                {
                                    "Id": "278",
                                    "seasonId": "5",
                                    "episode": "12",
                                    "airDate": "2023-09-14"
                                },
                                {
                                    "Id": "279",
                                    "seasonId": "5",
                                    "episode": "13",
                                    "airDate": "2023-09-15"
                                },
                                {
                                    "Id": "280",
                                    "seasonId": "5",
                                    "episode": "14",
                                    "airDate": "2023-09-16"
                                },
                                {
                                    "Id": "281",
                                    "seasonId": "5",
                                    "episode": "15",
                                    "airDate": "2023-09-18"
                                },
                                {
                                    "Id": "282",
                                    "seasonId": "5",
                                    "episode": "16",
                                    "airDate": "2023-09-19"
                                },
                                {
                                    "Id": "283",
                                    "seasonId": "5",
                                    "episode": "17",
                                    "airDate": "2023-09-20"
                                },
                                {
                                    "Id": "284",
                                    "seasonId": "5",
                                    "episode": "18",
                                    "airDate": "2023-09-21"
                                },
                                {
                                    "Id": "285",
                                    "seasonId": "5",
                                    "episode": "19",
                                    "airDate": "2023-09-22"
                                },
                                {
                                    "Id": "286",
                                    "seasonId": "5",
                                    "episode": "20",
                                    "airDate": "2023-09-23"
                                }
                            ]
                        },
                        "text/html": [
                            "<table>",
                            "<tr><th>Id</th><th>seasonId</th><th>episode</th><th>airDate</th></tr>",
                            "<tr><td>1</td><td>1</td><td>1</td><td>NULL</td></tr>",
                            "<tr><td>2</td><td>1</td><td>2</td><td>NULL</td></tr>",
                            "<tr><td>3</td><td>1</td><td>3</td><td>NULL</td></tr>",
                            "<tr><td>4</td><td>1</td><td>4</td><td>NULL</td></tr>",
                            "<tr><td>5</td><td>1</td><td>5</td><td>NULL</td></tr>",
                            "<tr><td>6</td><td>1</td><td>6</td><td>NULL</td></tr>",
                            "<tr><td>7</td><td>1</td><td>7</td><td>NULL</td></tr>",
                            "<tr><td>8</td><td>1</td><td>8</td><td>NULL</td></tr>",
                            "<tr><td>9</td><td>1</td><td>9</td><td>NULL</td></tr>",
                            "<tr><td>10</td><td>1</td><td>10</td><td>NULL</td></tr>",
                            "<tr><td>11</td><td>1</td><td>11</td><td>NULL</td></tr>",
                            "<tr><td>12</td><td>1</td><td>12</td><td>NULL</td></tr>",
                            "<tr><td>13</td><td>1</td><td>13</td><td>NULL</td></tr>",
                            "<tr><td>14</td><td>1</td><td>14</td><td>NULL</td></tr>",
                            "<tr><td>15</td><td>1</td><td>15</td><td>NULL</td></tr>",
                            "<tr><td>16</td><td>1</td><td>16</td><td>NULL</td></tr>",
                            "<tr><td>17</td><td>1</td><td>17</td><td>NULL</td></tr>",
                            "<tr><td>18</td><td>1</td><td>18</td><td>NULL</td></tr>",
                            "<tr><td>19</td><td>1</td><td>19</td><td>NULL</td></tr>",
                            "<tr><td>20</td><td>1</td><td>20</td><td>NULL</td></tr>",
                            "<tr><td>21</td><td>1</td><td>21</td><td>NULL</td></tr>",
                            "<tr><td>22</td><td>1</td><td>22</td><td>NULL</td></tr>",
                            "<tr><td>23</td><td>1</td><td>23</td><td>NULL</td></tr>",
                            "<tr><td>24</td><td>1</td><td>24</td><td>NULL</td></tr>",
                            "<tr><td>25</td><td>1</td><td>25</td><td>NULL</td></tr>",
                            "<tr><td>26</td><td>1</td><td>26</td><td>NULL</td></tr>",
                            "<tr><td>27</td><td>1</td><td>27</td><td>NULL</td></tr>",
                            "<tr><td>28</td><td>1</td><td>28</td><td>NULL</td></tr>",
                            "<tr><td>29</td><td>1</td><td>29</td><td>NULL</td></tr>",
                            "<tr><td>30</td><td>1</td><td>30</td><td>NULL</td></tr>",
                            "<tr><td>31</td><td>1</td><td>31</td><td>NULL</td></tr>",
                            "<tr><td>32</td><td>1</td><td>32</td><td>NULL</td></tr>",
                            "<tr><td>33</td><td>1</td><td>33</td><td>NULL</td></tr>",
                            "<tr><td>34</td><td>1</td><td>34</td><td>NULL</td></tr>",
                            "<tr><td>35</td><td>1</td><td>35</td><td>NULL</td></tr>",
                            "<tr><td>36</td><td>1</td><td>36</td><td>NULL</td></tr>",
                            "<tr><td>37</td><td>1</td><td>37</td><td>NULL</td></tr>",
                            "<tr><td>38</td><td>1</td><td>38</td><td>NULL</td></tr>",
                            "<tr><td>39</td><td>1</td><td>39</td><td>NULL</td></tr>",
                            "<tr><td>40</td><td>1</td><td>40</td><td>NULL</td></tr>",
                            "<tr><td>41</td><td>1</td><td>41</td><td>NULL</td></tr>",
                            "<tr><td>42</td><td>1</td><td>42</td><td>NULL</td></tr>",
                            "<tr><td>43</td><td>1</td><td>43</td><td>NULL</td></tr>",
                            "<tr><td>44</td><td>1</td><td>44</td><td>NULL</td></tr>",
                            "<tr><td>45</td><td>1</td><td>45</td><td>NULL</td></tr>",
                            "<tr><td>46</td><td>1</td><td>46</td><td>NULL</td></tr>",
                            "<tr><td>47</td><td>1</td><td>47</td><td>NULL</td></tr>",
                            "<tr><td>48</td><td>1</td><td>48</td><td>NULL</td></tr>",
                            "<tr><td>49</td><td>1</td><td>49</td><td>NULL</td></tr>",
                            "<tr><td>50</td><td>1</td><td>50</td><td>NULL</td></tr>",
                            "<tr><td>51</td><td>1</td><td>51</td><td>NULL</td></tr>",
                            "<tr><td>52</td><td>1</td><td>52</td><td>NULL</td></tr>",
                            "<tr><td>53</td><td>1</td><td>53</td><td>NULL</td></tr>",
                            "<tr><td>54</td><td>1</td><td>54</td><td>NULL</td></tr>",
                            "<tr><td>55</td><td>1</td><td>55</td><td>NULL</td></tr>",
                            "<tr><td>56</td><td>1</td><td>56</td><td>NULL</td></tr>",
                            "<tr><td>57</td><td>1</td><td>57</td><td>NULL</td></tr>",
                            "<tr><td>58</td><td>1</td><td>58</td><td>NULL</td></tr>",
                            "<tr><td>59</td><td>1</td><td>59</td><td>NULL</td></tr>",
                            "<tr><td>60</td><td>1</td><td>60</td><td>NULL</td></tr>",
                            "<tr><td>61</td><td>1</td><td>61</td><td>NULL</td></tr>",
                            "<tr><td>62</td><td>1</td><td>62</td><td>NULL</td></tr>",
                            "<tr><td>63</td><td>1</td><td>63</td><td>NULL</td></tr>",
                            "<tr><td>64</td><td>1</td><td>64</td><td>NULL</td></tr>",
                            "<tr><td>65</td><td>1</td><td>65</td><td>NULL</td></tr>",
                            "<tr><td>66</td><td>1</td><td>66</td><td>NULL</td></tr>",
                            "<tr><td>67</td><td>1</td><td>67</td><td>NULL</td></tr>",
                            "<tr><td>68</td><td>2</td><td>1</td><td>NULL</td></tr>",
                            "<tr><td>69</td><td>2</td><td>2</td><td>NULL</td></tr>",
                            "<tr><td>70</td><td>2</td><td>3</td><td>NULL</td></tr>",
                            "<tr><td>71</td><td>2</td><td>4</td><td>NULL</td></tr>",
                            "<tr><td>72</td><td>2</td><td>5</td><td>NULL</td></tr>",
                            "<tr><td>73</td><td>2</td><td>6</td><td>NULL</td></tr>",
                            "<tr><td>74</td><td>2</td><td>7</td><td>NULL</td></tr>",
                            "<tr><td>75</td><td>2</td><td>8</td><td>NULL</td></tr>",
                            "<tr><td>76</td><td>2</td><td>9</td><td>NULL</td></tr>",
                            "<tr><td>77</td><td>2</td><td>10</td><td>NULL</td></tr>",
                            "<tr><td>78</td><td>2</td><td>11</td><td>NULL</td></tr>",
                            "<tr><td>79</td><td>2</td><td>12</td><td>NULL</td></tr>",
                            "<tr><td>80</td><td>2</td><td>13</td><td>NULL</td></tr>",
                            "<tr><td>81</td><td>2</td><td>14</td><td>NULL</td></tr>",
                            "<tr><td>82</td><td>2</td><td>15</td><td>NULL</td></tr>",
                            "<tr><td>83</td><td>2</td><td>16</td><td>NULL</td></tr>",
                            "<tr><td>84</td><td>2</td><td>17</td><td>NULL</td></tr>",
                            "<tr><td>85</td><td>2</td><td>18</td><td>NULL</td></tr>",
                            "<tr><td>86</td><td>2</td><td>19</td><td>NULL</td></tr>",
                            "<tr><td>87</td><td>2</td><td>20</td><td>NULL</td></tr>",
                            "<tr><td>88</td><td>2</td><td>21</td><td>NULL</td></tr>",
                            "<tr><td>89</td><td>2</td><td>22</td><td>NULL</td></tr>",
                            "<tr><td>90</td><td>2</td><td>23</td><td>NULL</td></tr>",
                            "<tr><td>91</td><td>2</td><td>24</td><td>NULL</td></tr>",
                            "<tr><td>92</td><td>2</td><td>25</td><td>NULL</td></tr>",
                            "<tr><td>93</td><td>2</td><td>26</td><td>NULL</td></tr>",
                            "<tr><td>94</td><td>2</td><td>27</td><td>NULL</td></tr>",
                            "<tr><td>95</td><td>2</td><td>28</td><td>NULL</td></tr>",
                            "<tr><td>96</td><td>2</td><td>29</td><td>NULL</td></tr>",
                            "<tr><td>97</td><td>2</td><td>30</td><td>NULL</td></tr>",
                            "<tr><td>98</td><td>2</td><td>31</td><td>NULL</td></tr>",
                            "<tr><td>99</td><td>2</td><td>32</td><td>NULL</td></tr>",
                            "<tr><td>100</td><td>2</td><td>33</td><td>NULL</td></tr>",
                            "<tr><td>101</td><td>2</td><td>34</td><td>NULL</td></tr>",
                            "<tr><td>102</td><td>2</td><td>35</td><td>NULL</td></tr>",
                            "<tr><td>103</td><td>2</td><td>36</td><td>NULL</td></tr>",
                            "<tr><td>104</td><td>2</td><td>37</td><td>NULL</td></tr>",
                            "<tr><td>105</td><td>2</td><td>38</td><td>NULL</td></tr>",
                            "<tr><td>106</td><td>2</td><td>39</td><td>NULL</td></tr>",
                            "<tr><td>107</td><td>2</td><td>40</td><td>NULL</td></tr>",
                            "<tr><td>108</td><td>2</td><td>41</td><td>NULL</td></tr>",
                            "<tr><td>109</td><td>2</td><td>42</td><td>NULL</td></tr>",
                            "<tr><td>110</td><td>2</td><td>43</td><td>NULL</td></tr>",
                            "<tr><td>111</td><td>2</td><td>44</td><td>NULL</td></tr>",
                            "<tr><td>112</td><td>2</td><td>45</td><td>NULL</td></tr>",
                            "<tr><td>113</td><td>2</td><td>46</td><td>NULL</td></tr>",
                            "<tr><td>114</td><td>2</td><td>47</td><td>NULL</td></tr>",
                            "<tr><td>115</td><td>2</td><td>48</td><td>NULL</td></tr>",
                            "<tr><td>116</td><td>2</td><td>49</td><td>NULL</td></tr>",
                            "<tr><td>117</td><td>2</td><td>50</td><td>NULL</td></tr>",
                            "<tr><td>118</td><td>2</td><td>51</td><td>NULL</td></tr>",
                            "<tr><td>119</td><td>2</td><td>52</td><td>NULL</td></tr>",
                            "<tr><td>120</td><td>2</td><td>53</td><td>NULL</td></tr>",
                            "<tr><td>121</td><td>2</td><td>54</td><td>NULL</td></tr>",
                            "<tr><td>122</td><td>2</td><td>55</td><td>NULL</td></tr>",
                            "<tr><td>123</td><td>2</td><td>56</td><td>NULL</td></tr>",
                            "<tr><td>124</td><td>2</td><td>57</td><td>NULL</td></tr>",
                            "<tr><td>125</td><td>2</td><td>58</td><td>NULL</td></tr>",
                            "<tr><td>126</td><td>2</td><td>59</td><td>NULL</td></tr>",
                            "<tr><td>127</td><td>2</td><td>60</td><td>NULL</td></tr>",
                            "<tr><td>128</td><td>2</td><td>61</td><td>NULL</td></tr>",
                            "<tr><td>129</td><td>2</td><td>62</td><td>NULL</td></tr>",
                            "<tr><td>130</td><td>2</td><td>63</td><td>NULL</td></tr>",
                            "<tr><td>131</td><td>2</td><td>64</td><td>NULL</td></tr>",
                            "<tr><td>132</td><td>2</td><td>65</td><td>NULL</td></tr>",
                            "<tr><td>133</td><td>2</td><td>66</td><td>NULL</td></tr>",
                            "<tr><td>134</td><td>2</td><td>67</td><td>NULL</td></tr>",
                            "<tr><td>135</td><td>3</td><td>1</td><td>NULL</td></tr>",
                            "<tr><td>136</td><td>3</td><td>2</td><td>NULL</td></tr>",
                            "<tr><td>137</td><td>3</td><td>3</td><td>NULL</td></tr>",
                            "<tr><td>138</td><td>3</td><td>4</td><td>NULL</td></tr>",
                            "<tr><td>139</td><td>3</td><td>5</td><td>NULL</td></tr>",
                            "<tr><td>140</td><td>3</td><td>6</td><td>NULL</td></tr>",
                            "<tr><td>141</td><td>3</td><td>7</td><td>NULL</td></tr>",
                            "<tr><td>142</td><td>3</td><td>8</td><td>NULL</td></tr>",
                            "<tr><td>143</td><td>3</td><td>9</td><td>NULL</td></tr>",
                            "<tr><td>144</td><td>3</td><td>10</td><td>NULL</td></tr>",
                            "<tr><td>145</td><td>3</td><td>11</td><td>NULL</td></tr>",
                            "<tr><td>146</td><td>3</td><td>12</td><td>NULL</td></tr>",
                            "<tr><td>147</td><td>3</td><td>13</td><td>NULL</td></tr>",
                            "<tr><td>148</td><td>3</td><td>14</td><td>NULL</td></tr>",
                            "<tr><td>149</td><td>3</td><td>15</td><td>NULL</td></tr>",
                            "<tr><td>150</td><td>3</td><td>16</td><td>NULL</td></tr>",
                            "<tr><td>151</td><td>3</td><td>17</td><td>NULL</td></tr>",
                            "<tr><td>152</td><td>3</td><td>18</td><td>NULL</td></tr>",
                            "<tr><td>153</td><td>3</td><td>19</td><td>NULL</td></tr>",
                            "<tr><td>154</td><td>3</td><td>20</td><td>NULL</td></tr>",
                            "<tr><td>155</td><td>3</td><td>21</td><td>NULL</td></tr>",
                            "<tr><td>156</td><td>3</td><td>22</td><td>NULL</td></tr>",
                            "<tr><td>157</td><td>3</td><td>23</td><td>NULL</td></tr>",
                            "<tr><td>158</td><td>3</td><td>24</td><td>NULL</td></tr>",
                            "<tr><td>159</td><td>3</td><td>25</td><td>NULL</td></tr>",
                            "<tr><td>160</td><td>3</td><td>26</td><td>NULL</td></tr>",
                            "<tr><td>161</td><td>3</td><td>27</td><td>NULL</td></tr>",
                            "<tr><td>162</td><td>3</td><td>28</td><td>NULL</td></tr>",
                            "<tr><td>163</td><td>3</td><td>29</td><td>NULL</td></tr>",
                            "<tr><td>164</td><td>3</td><td>30</td><td>NULL</td></tr>",
                            "<tr><td>165</td><td>3</td><td>31</td><td>NULL</td></tr>",
                            "<tr><td>166</td><td>3</td><td>32</td><td>NULL</td></tr>",
                            "<tr><td>167</td><td>3</td><td>33</td><td>NULL</td></tr>",
                            "<tr><td>168</td><td>3</td><td>34</td><td>NULL</td></tr>",
                            "<tr><td>169</td><td>3</td><td>35</td><td>NULL</td></tr>",
                            "<tr><td>170</td><td>3</td><td>36</td><td>NULL</td></tr>",
                            "<tr><td>171</td><td>3</td><td>37</td><td>NULL</td></tr>",
                            "<tr><td>172</td><td>3</td><td>38</td><td>NULL</td></tr>",
                            "<tr><td>173</td><td>3</td><td>39</td><td>NULL</td></tr>",
                            "<tr><td>174</td><td>3</td><td>40</td><td>NULL</td></tr>",
                            "<tr><td>175</td><td>3</td><td>41</td><td>NULL</td></tr>",
                            "<tr><td>176</td><td>3</td><td>42</td><td>NULL</td></tr>",
                            "<tr><td>177</td><td>3</td><td>43</td><td>NULL</td></tr>",
                            "<tr><td>178</td><td>3</td><td>44</td><td>NULL</td></tr>",
                            "<tr><td>179</td><td>3</td><td>45</td><td>NULL</td></tr>",
                            "<tr><td>180</td><td>3</td><td>46</td><td>NULL</td></tr>",
                            "<tr><td>181</td><td>3</td><td>47</td><td>NULL</td></tr>",
                            "<tr><td>182</td><td>3</td><td>48</td><td>NULL</td></tr>",
                            "<tr><td>183</td><td>3</td><td>49</td><td>NULL</td></tr>",
                            "<tr><td>184</td><td>3</td><td>50</td><td>NULL</td></tr>",
                            "<tr><td>185</td><td>3</td><td>51</td><td>NULL</td></tr>",
                            "<tr><td>186</td><td>3</td><td>52</td><td>NULL</td></tr>",
                            "<tr><td>187</td><td>3</td><td>53</td><td>NULL</td></tr>",
                            "<tr><td>188</td><td>3</td><td>54</td><td>NULL</td></tr>",
                            "<tr><td>189</td><td>3</td><td>55</td><td>NULL</td></tr>",
                            "<tr><td>190</td><td>3</td><td>56</td><td>NULL</td></tr>",
                            "<tr><td>191</td><td>3</td><td>57</td><td>NULL</td></tr>",
                            "<tr><td>192</td><td>3</td><td>58</td><td>NULL</td></tr>",
                            "<tr><td>193</td><td>3</td><td>59</td><td>NULL</td></tr>",
                            "<tr><td>194</td><td>3</td><td>60</td><td>NULL</td></tr>",
                            "<tr><td>195</td><td>3</td><td>61</td><td>NULL</td></tr>",
                            "<tr><td>196</td><td>3</td><td>62</td><td>NULL</td></tr>",
                            "<tr><td>197</td><td>3</td><td>63</td><td>NULL</td></tr>",
                            "<tr><td>198</td><td>3</td><td>64</td><td>NULL</td></tr>",
                            "<tr><td>199</td><td>3</td><td>65</td><td>NULL</td></tr>",
                            "<tr><td>200</td><td>3</td><td>66</td><td>NULL</td></tr>",
                            "<tr><td>201</td><td>3</td><td>67</td><td>NULL</td></tr>",
                            "<tr><td>202</td><td>3</td><td>68</td><td>NULL</td></tr>",
                            "<tr><td>203</td><td>4</td><td>1</td><td>NULL</td></tr>",
                            "<tr><td>204</td><td>4</td><td>2</td><td>NULL</td></tr>",
                            "<tr><td>205</td><td>4</td><td>3</td><td>NULL</td></tr>",
                            "<tr><td>206</td><td>4</td><td>4</td><td>NULL</td></tr>",
                            "<tr><td>207</td><td>4</td><td>5</td><td>NULL</td></tr>",
                            "<tr><td>208</td><td>4</td><td>6</td><td>NULL</td></tr>",
                            "<tr><td>209</td><td>4</td><td>7</td><td>NULL</td></tr>",
                            "<tr><td>210</td><td>4</td><td>8</td><td>NULL</td></tr>",
                            "<tr><td>211</td><td>4</td><td>9</td><td>NULL</td></tr>",
                            "<tr><td>212</td><td>4</td><td>10</td><td>NULL</td></tr>",
                            "<tr><td>213</td><td>4</td><td>11</td><td>NULL</td></tr>",
                            "<tr><td>214</td><td>4</td><td>12</td><td>NULL</td></tr>",
                            "<tr><td>215</td><td>4</td><td>13</td><td>NULL</td></tr>",
                            "<tr><td>216</td><td>4</td><td>14</td><td>NULL</td></tr>",
                            "<tr><td>217</td><td>4</td><td>15</td><td>NULL</td></tr>",
                            "<tr><td>218</td><td>4</td><td>16</td><td>NULL</td></tr>",
                            "<tr><td>219</td><td>4</td><td>17</td><td>NULL</td></tr>",
                            "<tr><td>220</td><td>4</td><td>18</td><td>NULL</td></tr>",
                            "<tr><td>221</td><td>4</td><td>19</td><td>NULL</td></tr>",
                            "<tr><td>222</td><td>4</td><td>20</td><td>NULL</td></tr>",
                            "<tr><td>223</td><td>4</td><td>21</td><td>NULL</td></tr>",
                            "<tr><td>224</td><td>4</td><td>22</td><td>NULL</td></tr>",
                            "<tr><td>225</td><td>4</td><td>23</td><td>NULL</td></tr>",
                            "<tr><td>226</td><td>4</td><td>24</td><td>NULL</td></tr>",
                            "<tr><td>227</td><td>4</td><td>25</td><td>NULL</td></tr>",
                            "<tr><td>228</td><td>4</td><td>26</td><td>NULL</td></tr>",
                            "<tr><td>229</td><td>4</td><td>27</td><td>NULL</td></tr>",
                            "<tr><td>230</td><td>4</td><td>28</td><td>NULL</td></tr>",
                            "<tr><td>231</td><td>4</td><td>29</td><td>NULL</td></tr>",
                            "<tr><td>232</td><td>4</td><td>30</td><td>NULL</td></tr>",
                            "<tr><td>233</td><td>4</td><td>31</td><td>NULL</td></tr>",
                            "<tr><td>234</td><td>4</td><td>32</td><td>NULL</td></tr>",
                            "<tr><td>235</td><td>4</td><td>33</td><td>NULL</td></tr>",
                            "<tr><td>236</td><td>4</td><td>34</td><td>NULL</td></tr>",
                            "<tr><td>237</td><td>4</td><td>35</td><td>NULL</td></tr>",
                            "<tr><td>238</td><td>4</td><td>36</td><td>NULL</td></tr>",
                            "<tr><td>239</td><td>4</td><td>37</td><td>NULL</td></tr>",
                            "<tr><td>240</td><td>4</td><td>38</td><td>NULL</td></tr>",
                            "<tr><td>241</td><td>4</td><td>39</td><td>NULL</td></tr>",
                            "<tr><td>242</td><td>4</td><td>40</td><td>NULL</td></tr>",
                            "<tr><td>243</td><td>4</td><td>41</td><td>NULL</td></tr>",
                            "<tr><td>244</td><td>4</td><td>42</td><td>NULL</td></tr>",
                            "<tr><td>245</td><td>4</td><td>43</td><td>NULL</td></tr>",
                            "<tr><td>246</td><td>4</td><td>44</td><td>NULL</td></tr>",
                            "<tr><td>247</td><td>4</td><td>45</td><td>NULL</td></tr>",
                            "<tr><td>248</td><td>4</td><td>46</td><td>NULL</td></tr>",
                            "<tr><td>249</td><td>4</td><td>47</td><td>NULL</td></tr>",
                            "<tr><td>250</td><td>4</td><td>48</td><td>NULL</td></tr>",
                            "<tr><td>251</td><td>4</td><td>49</td><td>NULL</td></tr>",
                            "<tr><td>252</td><td>4</td><td>50</td><td>NULL</td></tr>",
                            "<tr><td>253</td><td>4</td><td>51</td><td>NULL</td></tr>",
                            "<tr><td>254</td><td>4</td><td>52</td><td>NULL</td></tr>",
                            "<tr><td>255</td><td>4</td><td>53</td><td>NULL</td></tr>",
                            "<tr><td>256</td><td>4</td><td>54</td><td>NULL</td></tr>",
                            "<tr><td>257</td><td>4</td><td>55</td><td>NULL</td></tr>",
                            "<tr><td>258</td><td>4</td><td>56</td><td>NULL</td></tr>",
                            "<tr><td>259</td><td>4</td><td>57</td><td>NULL</td></tr>",
                            "<tr><td>260</td><td>4</td><td>58</td><td>NULL</td></tr>",
                            "<tr><td>261</td><td>4</td><td>59</td><td>NULL</td></tr>",
                            "<tr><td>262</td><td>4</td><td>60</td><td>NULL</td></tr>",
                            "<tr><td>263</td><td>4</td><td>61</td><td>NULL</td></tr>",
                            "<tr><td>264</td><td>4</td><td>62</td><td>NULL</td></tr>",
                            "<tr><td>265</td><td>4</td><td>63</td><td>NULL</td></tr>",
                            "<tr><td>266</td><td>4</td><td>64</td><td>NULL</td></tr>",
                            "<tr><td>267</td><td>5</td><td>1</td><td>2023-09-02</td></tr>",
                            "<tr><td>268</td><td>5</td><td>2</td><td>2023-09-03</td></tr>",
                            "<tr><td>269</td><td>5</td><td>3</td><td>2023-09-04</td></tr>",
                            "<tr><td>270</td><td>5</td><td>4</td><td>2023-09-05</td></tr>",
                            "<tr><td>271</td><td>5</td><td>5</td><td>2023-09-06</td></tr>",
                            "<tr><td>272</td><td>5</td><td>6</td><td>2023-09-07</td></tr>",
                            "<tr><td>273</td><td>5</td><td>7</td><td>2023-09-08</td></tr>",
                            "<tr><td>274</td><td>5</td><td>8</td><td>2023-09-09</td></tr>",
                            "<tr><td>275</td><td>5</td><td>9</td><td>2023-09-11</td></tr>",
                            "<tr><td>276</td><td>5</td><td>10</td><td>2023-09-12</td></tr>",
                            "<tr><td>277</td><td>5</td><td>11</td><td>2023-09-13</td></tr>",
                            "<tr><td>278</td><td>5</td><td>12</td><td>2023-09-14</td></tr>",
                            "<tr><td>279</td><td>5</td><td>13</td><td>2023-09-15</td></tr>",
                            "<tr><td>280</td><td>5</td><td>14</td><td>2023-09-16</td></tr>",
                            "<tr><td>281</td><td>5</td><td>15</td><td>2023-09-18</td></tr>",
                            "<tr><td>282</td><td>5</td><td>16</td><td>2023-09-19</td></tr>",
                            "<tr><td>283</td><td>5</td><td>17</td><td>2023-09-20</td></tr>",
                            "<tr><td>284</td><td>5</td><td>18</td><td>2023-09-21</td></tr>",
                            "<tr><td>285</td><td>5</td><td>19</td><td>2023-09-22</td></tr>",
                            "<tr><td>286</td><td>5</td><td>20</td><td>2023-09-23</td></tr>",
                            "</table>"
                        ]
                    }
                }
            ],
            "execution_count": 10
        },
        {
            "cell_type": "code",
            "source": [
                "/*Всички племена*/\r\n",
                "USE desafio;\r\n",
                "GO\r\n",
                "\r\n",
                "SELECT    *\r\n",
                "FROM      [dbo].[tribes]\r\n",
                "ORDER BY  [dbo].[tribes].[seasonId];\r\n",
                "\r\n",
                "GO"
            ],
            "metadata": {
                "language": "sql",
                "azdata_cell_guid": "ade3a730-de74-4a85-8c87-39c8fc73cc6b"
            },
            "outputs": [
                {
                    "output_type": "display_data",
                    "data": {
                        "text/html": "Commands completed successfully."
                    },
                    "metadata": {}
                },
                {
                    "output_type": "display_data",
                    "data": {
                        "text/html": "(21 rows affected)"
                    },
                    "metadata": {}
                },
                {
                    "output_type": "display_data",
                    "data": {
                        "text/html": "Total execution time: 00:00:00.138"
                    },
                    "metadata": {}
                },
                {
                    "output_type": "execute_result",
                    "metadata": {},
                    "execution_count": 2,
                    "data": {
                        "application/vnd.dataresource+json": {
                            "schema": {
                                "fields": [
                                    {
                                        "name": "id"
                                    },
                                    {
                                        "name": "name"
                                    },
                                    {
                                        "name": "seasonId"
                                    }
                                ]
                            },
                            "data": [
                                {
                                    "id": "1",
                                    "name": "Прабългари",
                                    "seasonId": "1"
                                },
                                {
                                    "id": "2",
                                    "name": "Траки",
                                    "seasonId": "1"
                                },
                                {
                                    "id": "3",
                                    "name": "Славяни",
                                    "seasonId": "1"
                                },
                                {
                                    "id": "4",
                                    "name": "Ловци",
                                    "seasonId": "2"
                                },
                                {
                                    "id": "5",
                                    "name": "Жътвари",
                                    "seasonId": "2"
                                },
                                {
                                    "id": "6",
                                    "name": "Рибари",
                                    "seasonId": "2"
                                },
                                {
                                    "id": "7",
                                    "name": "Бойци",
                                    "seasonId": "3"
                                },
                                {
                                    "id": "8",
                                    "name": "Приключенци",
                                    "seasonId": "3"
                                },
                                {
                                    "id": "9",
                                    "name": "Жълти",
                                    "seasonId": "3"
                                },
                                {
                                    "id": "10",
                                    "name": "Безстрашни",
                                    "seasonId": "4"
                                },
                                {
                                    "id": "11",
                                    "name": "Непобедими",
                                    "seasonId": "4"
                                },
                                {
                                    "id": "12",
                                    "name": "Супергерои",
                                    "seasonId": "4"
                                },
                                {
                                    "id": "13",
                                    "name": "Резерви",
                                    "seasonId": "4"
                                },
                                {
                                    "id": "14",
                                    "name": "Старейшини",
                                    "seasonId": "5"
                                },
                                {
                                    "id": "15",
                                    "name": "Гладиатори",
                                    "seasonId": "5"
                                },
                                {
                                    "id": "16",
                                    "name": "Амазонки",
                                    "seasonId": "5"
                                },
                                {
                                    "id": "17",
                                    "name": "Изгубени",
                                    "seasonId": "5"
                                },
                                {
                                    "id": "18",
                                    "name": "Двойки",
                                    "seasonId": "5"
                                },
                                {
                                    "id": "19",
                                    "name": "Момчета",
                                    "seasonId": "5"
                                },
                                {
                                    "id": "20",
                                    "name": "Момичета",
                                    "seasonId": "5"
                                },
                                {
                                    "id": "21",
                                    "name": "Финалисти",
                                    "seasonId": "5"
                                }
                            ]
                        },
                        "text/html": [
                            "<table>",
                            "<tr><th>id</th><th>name</th><th>seasonId</th></tr>",
                            "<tr><td>1</td><td>Прабългари</td><td>1</td></tr>",
                            "<tr><td>2</td><td>Траки</td><td>1</td></tr>",
                            "<tr><td>3</td><td>Славяни</td><td>1</td></tr>",
                            "<tr><td>4</td><td>Ловци</td><td>2</td></tr>",
                            "<tr><td>5</td><td>Жътвари</td><td>2</td></tr>",
                            "<tr><td>6</td><td>Рибари</td><td>2</td></tr>",
                            "<tr><td>7</td><td>Бойци</td><td>3</td></tr>",
                            "<tr><td>8</td><td>Приключенци</td><td>3</td></tr>",
                            "<tr><td>9</td><td>Жълти</td><td>3</td></tr>",
                            "<tr><td>10</td><td>Безстрашни</td><td>4</td></tr>",
                            "<tr><td>11</td><td>Непобедими</td><td>4</td></tr>",
                            "<tr><td>12</td><td>Супергерои</td><td>4</td></tr>",
                            "<tr><td>13</td><td>Резерви</td><td>4</td></tr>",
                            "<tr><td>14</td><td>Старейшини</td><td>5</td></tr>",
                            "<tr><td>15</td><td>Гладиатори</td><td>5</td></tr>",
                            "<tr><td>16</td><td>Амазонки</td><td>5</td></tr>",
                            "<tr><td>17</td><td>Изгубени</td><td>5</td></tr>",
                            "<tr><td>18</td><td>Двойки</td><td>5</td></tr>",
                            "<tr><td>19</td><td>Момчета</td><td>5</td></tr>",
                            "<tr><td>20</td><td>Момичета</td><td>5</td></tr>",
                            "<tr><td>21</td><td>Финалисти</td><td>5</td></tr>",
                            "</table>"
                        ]
                    }
                }
            ],
            "execution_count": 2
        },
        {
            "cell_type": "code",
            "source": [
                "/*Всички градове*/\r\n",
                "\r\n",
                "USE [desafio];\r\n",
                "GO\r\n",
                "\r\n",
                "SELECT    [id],\r\n",
                "          [name]\r\n",
                "FROM      [desafio].[dbo].[city]\r\n",
                "ORDER BY  [name];"
            ],
            "metadata": {
                "language": "sql",
                "azdata_cell_guid": "931d19dc-80ca-46fb-9bb0-8cd49a6f7dad"
            },
            "outputs": [
                {
                    "output_type": "display_data",
                    "data": {
                        "text/html": "Commands completed successfully."
                    },
                    "metadata": {}
                },
                {
                    "output_type": "display_data",
                    "data": {
                        "text/html": "(45 rows affected)"
                    },
                    "metadata": {}
                },
                {
                    "output_type": "display_data",
                    "data": {
                        "text/html": "Total execution time: 00:00:00.133"
                    },
                    "metadata": {}
                },
                {
                    "output_type": "execute_result",
                    "metadata": {},
                    "execution_count": 3,
                    "data": {
                        "application/vnd.dataresource+json": {
                            "schema": {
                                "fields": [
                                    {
                                        "name": "id"
                                    },
                                    {
                                        "name": "name"
                                    }
                                ]
                            },
                            "data": [
                                {
                                    "id": "28",
                                    "name": "Белград"
                                },
                                {
                                    "id": "14",
                                    "name": "Берлин"
                                },
                                {
                                    "id": "9",
                                    "name": "Благоевград"
                                },
                                {
                                    "id": "2",
                                    "name": "Ботевград"
                                },
                                {
                                    "id": "8",
                                    "name": "Бургас"
                                },
                                {
                                    "id": "3",
                                    "name": "Варна"
                                },
                                {
                                    "id": "18",
                                    "name": "Велико Търново"
                                },
                                {
                                    "id": "44",
                                    "name": "Враца"
                                },
                                {
                                    "id": "30",
                                    "name": "Добрич"
                                },
                                {
                                    "id": "25",
                                    "name": "Златоград"
                                },
                                {
                                    "id": "23",
                                    "name": "Йерусалим"
                                },
                                {
                                    "id": "10",
                                    "name": "Кавала"
                                },
                                {
                                    "id": "38",
                                    "name": "Казахстан"
                                },
                                {
                                    "id": "26",
                                    "name": "Карлово"
                                },
                                {
                                    "id": "17",
                                    "name": "Карнобат"
                                },
                                {
                                    "id": "40",
                                    "name": "Куклен"
                                },
                                {
                                    "id": "11",
                                    "name": "Кюстендил"
                                },
                                {
                                    "id": "29",
                                    "name": "Ловеч"
                                },
                                {
                                    "id": "34",
                                    "name": "Мездра"
                                },
                                {
                                    "id": "6",
                                    "name": "Монтана"
                                },
                                {
                                    "id": "12",
                                    "name": "Несебър"
                                },
                                {
                                    "id": "32",
                                    "name": "Оксфорд"
                                },
                                {
                                    "id": "33",
                                    "name": "Пазарджик"
                                },
                                {
                                    "id": "19",
                                    "name": "Панагюрище"
                                },
                                {
                                    "id": "4",
                                    "name": "Петрич"
                                },
                                {
                                    "id": "16",
                                    "name": "Плевен"
                                },
                                {
                                    "id": "31",
                                    "name": "Пловдив"
                                },
                                {
                                    "id": "37",
                                    "name": "Полша"
                                },
                                {
                                    "id": "45",
                                    "name": "Промени"
                                },
                                {
                                    "id": "13",
                                    "name": "Радомир"
                                },
                                {
                                    "id": "15",
                                    "name": "Разград"
                                },
                                {
                                    "id": "22",
                                    "name": "Русе"
                                },
                                {
                                    "id": "27",
                                    "name": "Самоков"
                                },
                                {
                                    "id": "42",
                                    "name": "Сандански"
                                },
                                {
                                    "id": "43",
                                    "name": "Симитли"
                                },
                                {
                                    "id": "21",
                                    "name": "Славяново"
                                },
                                {
                                    "id": "20",
                                    "name": "Сливен"
                                },
                                {
                                    "id": "1",
                                    "name": "София"
                                },
                                {
                                    "id": "35",
                                    "name": "Стара Загора"
                                },
                                {
                                    "id": "41",
                                    "name": "Стратфорд"
                                },
                                {
                                    "id": "5",
                                    "name": "Тополовград"
                                },
                                {
                                    "id": "24",
                                    "name": "Харманли"
                                },
                                {
                                    "id": "36",
                                    "name": "Хасково"
                                },
                                {
                                    "id": "39",
                                    "name": "Челопеч"
                                },
                                {
                                    "id": "7",
                                    "name": "Ямбол"
                                }
                            ]
                        },
                        "text/html": [
                            "<table>",
                            "<tr><th>id</th><th>name</th></tr>",
                            "<tr><td>28</td><td>Белград</td></tr>",
                            "<tr><td>14</td><td>Берлин</td></tr>",
                            "<tr><td>9</td><td>Благоевград</td></tr>",
                            "<tr><td>2</td><td>Ботевград</td></tr>",
                            "<tr><td>8</td><td>Бургас</td></tr>",
                            "<tr><td>3</td><td>Варна</td></tr>",
                            "<tr><td>18</td><td>Велико Търново</td></tr>",
                            "<tr><td>44</td><td>Враца</td></tr>",
                            "<tr><td>30</td><td>Добрич</td></tr>",
                            "<tr><td>25</td><td>Златоград</td></tr>",
                            "<tr><td>23</td><td>Йерусалим</td></tr>",
                            "<tr><td>10</td><td>Кавала</td></tr>",
                            "<tr><td>38</td><td>Казахстан</td></tr>",
                            "<tr><td>26</td><td>Карлово</td></tr>",
                            "<tr><td>17</td><td>Карнобат</td></tr>",
                            "<tr><td>40</td><td>Куклен</td></tr>",
                            "<tr><td>11</td><td>Кюстендил</td></tr>",
                            "<tr><td>29</td><td>Ловеч</td></tr>",
                            "<tr><td>34</td><td>Мездра</td></tr>",
                            "<tr><td>6</td><td>Монтана</td></tr>",
                            "<tr><td>12</td><td>Несебър</td></tr>",
                            "<tr><td>32</td><td>Оксфорд</td></tr>",
                            "<tr><td>33</td><td>Пазарджик</td></tr>",
                            "<tr><td>19</td><td>Панагюрище</td></tr>",
                            "<tr><td>4</td><td>Петрич</td></tr>",
                            "<tr><td>16</td><td>Плевен</td></tr>",
                            "<tr><td>31</td><td>Пловдив</td></tr>",
                            "<tr><td>37</td><td>Полша</td></tr>",
                            "<tr><td>45</td><td>Промени</td></tr>",
                            "<tr><td>13</td><td>Радомир</td></tr>",
                            "<tr><td>15</td><td>Разград</td></tr>",
                            "<tr><td>22</td><td>Русе</td></tr>",
                            "<tr><td>27</td><td>Самоков</td></tr>",
                            "<tr><td>42</td><td>Сандански</td></tr>",
                            "<tr><td>43</td><td>Симитли</td></tr>",
                            "<tr><td>21</td><td>Славяново</td></tr>",
                            "<tr><td>20</td><td>Сливен</td></tr>",
                            "<tr><td>1</td><td>София</td></tr>",
                            "<tr><td>35</td><td>Стара Загора</td></tr>",
                            "<tr><td>41</td><td>Стратфорд</td></tr>",
                            "<tr><td>5</td><td>Тополовград</td></tr>",
                            "<tr><td>24</td><td>Харманли</td></tr>",
                            "<tr><td>36</td><td>Хасково</td></tr>",
                            "<tr><td>39</td><td>Челопеч</td></tr>",
                            "<tr><td>7</td><td>Ямбол</td></tr>",
                            "</table>"
                        ]
                    }
                }
            ],
            "execution_count": 3
        },
        {
            "cell_type": "code",
            "source": [
                "/*Всички племена*/\r\n",
                "\r\n",
                "SELECT    [id],\r\n",
                "          [name],\r\n",
                "          [seasonId]\r\n",
                "FROM      [desafio].[dbo].[tribes]\r\n",
                "ORDER BY  [seasonId],\r\n",
                "          [name];"
            ],
            "metadata": {
                "language": "sql",
                "azdata_cell_guid": "047dd8c3-6fdc-4e2e-87b8-e76eabef9e58"
            },
            "outputs": [
                {
                    "output_type": "display_data",
                    "data": {
                        "text/html": "(21 rows affected)"
                    },
                    "metadata": {}
                },
                {
                    "output_type": "display_data",
                    "data": {
                        "text/html": "Total execution time: 00:00:00.069"
                    },
                    "metadata": {}
                },
                {
                    "output_type": "execute_result",
                    "metadata": {},
                    "execution_count": 4,
                    "data": {
                        "application/vnd.dataresource+json": {
                            "schema": {
                                "fields": [
                                    {
                                        "name": "id"
                                    },
                                    {
                                        "name": "name"
                                    },
                                    {
                                        "name": "seasonId"
                                    }
                                ]
                            },
                            "data": [
                                {
                                    "id": "1",
                                    "name": "Прабългари",
                                    "seasonId": "1"
                                },
                                {
                                    "id": "3",
                                    "name": "Славяни",
                                    "seasonId": "1"
                                },
                                {
                                    "id": "2",
                                    "name": "Траки",
                                    "seasonId": "1"
                                },
                                {
                                    "id": "5",
                                    "name": "Жътвари",
                                    "seasonId": "2"
                                },
                                {
                                    "id": "4",
                                    "name": "Ловци",
                                    "seasonId": "2"
                                },
                                {
                                    "id": "6",
                                    "name": "Рибари",
                                    "seasonId": "2"
                                },
                                {
                                    "id": "7",
                                    "name": "Бойци",
                                    "seasonId": "3"
                                },
                                {
                                    "id": "9",
                                    "name": "Жълти",
                                    "seasonId": "3"
                                },
                                {
                                    "id": "8",
                                    "name": "Приключенци",
                                    "seasonId": "3"
                                },
                                {
                                    "id": "10",
                                    "name": "Безстрашни",
                                    "seasonId": "4"
                                },
                                {
                                    "id": "11",
                                    "name": "Непобедими",
                                    "seasonId": "4"
                                },
                                {
                                    "id": "13",
                                    "name": "Резерви",
                                    "seasonId": "4"
                                },
                                {
                                    "id": "12",
                                    "name": "Супергерои",
                                    "seasonId": "4"
                                },
                                {
                                    "id": "16",
                                    "name": "Амазонки",
                                    "seasonId": "5"
                                },
                                {
                                    "id": "15",
                                    "name": "Гладиатори",
                                    "seasonId": "5"
                                },
                                {
                                    "id": "18",
                                    "name": "Двойки",
                                    "seasonId": "5"
                                },
                                {
                                    "id": "17",
                                    "name": "Изгубени",
                                    "seasonId": "5"
                                },
                                {
                                    "id": "20",
                                    "name": "Момичета",
                                    "seasonId": "5"
                                },
                                {
                                    "id": "19",
                                    "name": "Момчета",
                                    "seasonId": "5"
                                },
                                {
                                    "id": "14",
                                    "name": "Старейшини",
                                    "seasonId": "5"
                                },
                                {
                                    "id": "21",
                                    "name": "Финалисти",
                                    "seasonId": "5"
                                }
                            ]
                        },
                        "text/html": [
                            "<table>",
                            "<tr><th>id</th><th>name</th><th>seasonId</th></tr>",
                            "<tr><td>1</td><td>Прабългари</td><td>1</td></tr>",
                            "<tr><td>3</td><td>Славяни</td><td>1</td></tr>",
                            "<tr><td>2</td><td>Траки</td><td>1</td></tr>",
                            "<tr><td>5</td><td>Жътвари</td><td>2</td></tr>",
                            "<tr><td>4</td><td>Ловци</td><td>2</td></tr>",
                            "<tr><td>6</td><td>Рибари</td><td>2</td></tr>",
                            "<tr><td>7</td><td>Бойци</td><td>3</td></tr>",
                            "<tr><td>9</td><td>Жълти</td><td>3</td></tr>",
                            "<tr><td>8</td><td>Приключенци</td><td>3</td></tr>",
                            "<tr><td>10</td><td>Безстрашни</td><td>4</td></tr>",
                            "<tr><td>11</td><td>Непобедими</td><td>4</td></tr>",
                            "<tr><td>13</td><td>Резерви</td><td>4</td></tr>",
                            "<tr><td>12</td><td>Супергерои</td><td>4</td></tr>",
                            "<tr><td>16</td><td>Амазонки</td><td>5</td></tr>",
                            "<tr><td>15</td><td>Гладиатори</td><td>5</td></tr>",
                            "<tr><td>18</td><td>Двойки</td><td>5</td></tr>",
                            "<tr><td>17</td><td>Изгубени</td><td>5</td></tr>",
                            "<tr><td>20</td><td>Момичета</td><td>5</td></tr>",
                            "<tr><td>19</td><td>Момчета</td><td>5</td></tr>",
                            "<tr><td>14</td><td>Старейшини</td><td>5</td></tr>",
                            "<tr><td>21</td><td>Финалисти</td><td>5</td></tr>",
                            "</table>"
                        ]
                    }
                }
            ],
            "execution_count": 4
        },
        {
            "cell_type": "code",
            "source": [
                "/*Всички участинци по градове*/\r\n",
                "\r\n",
                "USE [desafio];\r\n",
                "GO\r\n",
                "\r\n",
                "SELECT    [dbo].[participant].[id]     AS \"#\",\r\n",
                "          [dbo].[participant].[name]   AS \"Име\",\r\n",
                "          [dbo].[participant].[sex]    AS \"Пол\",\r\n",
                "          [dbo].[participant].[age]    AS \"Възраст\",\r\n",
                "          [dbo].[participant].[cityId] AS \"Град\"\r\n",
                "FROM      [dbo].[participant]\r\n",
                "ORDER BY  [dbo].[participant].[name];\r\n",
                "\r\n",
                "GO"
            ],
            "metadata": {
                "language": "sql",
                "azdata_cell_guid": "e3f3a5a8-499f-4fff-91ca-4aa35c67e0a6"
            },
            "outputs": [
                {
                    "output_type": "display_data",
                    "data": {
                        "text/html": "Commands completed successfully."
                    },
                    "metadata": {}
                },
                {
                    "output_type": "display_data",
                    "data": {
                        "text/html": "(141 rows affected)"
                    },
                    "metadata": {}
                },
                {
                    "output_type": "display_data",
                    "data": {
                        "text/html": "Total execution time: 00:00:00.181"
                    },
                    "metadata": {}
                },
                {
                    "output_type": "execute_result",
                    "metadata": {},
                    "execution_count": 5,
                    "data": {
                        "application/vnd.dataresource+json": {
                            "schema": {
                                "fields": [
                                    {
                                        "name": "#"
                                    },
                                    {
                                        "name": "Име"
                                    },
                                    {
                                        "name": "Пол"
                                    },
                                    {
                                        "name": "Възраст"
                                    },
                                    {
                                        "name": "Град"
                                    }
                                ]
                            },
                            "data": [
                                {
                                    "#": "113",
                                    "Име": "Албена Ситнилска",
                                    "Пол": "f",
                                    "Възраст": "41",
                                    "Град": "45"
                                },
                                {
                                    "#": "109",
                                    "Име": "Алекса Ерски",
                                    "Пол": "m",
                                    "Възраст": "25",
                                    "Град": "28"
                                },
                                {
                                    "#": "96",
                                    "Име": "Александра Фейгин",
                                    "Пол": "f",
                                    "Възраст": "19",
                                    "Град": "23"
                                },
                                {
                                    "#": "35",
                                    "Име": "Александър Димитров",
                                    "Пол": "m",
                                    "Възраст": "32",
                                    "Град": "3"
                                },
                                {
                                    "#": "11",
                                    "Име": "Александър Кирилов",
                                    "Пол": "m",
                                    "Възраст": "32",
                                    "Град": "4"
                                },
                                {
                                    "#": "57",
                                    "Име": "Александър Цеков",
                                    "Пол": "m",
                                    "Възраст": "36",
                                    "Град": "1"
                                },
                                {
                                    "#": "9",
                                    "Име": "Амелия-Мира Маркова",
                                    "Пол": "f",
                                    "Възраст": "27",
                                    "Град": "1"
                                },
                                {
                                    "#": "79",
                                    "Име": "Андрей Гридин",
                                    "Пол": "m",
                                    "Възраст": "28",
                                    "Град": "38"
                                },
                                {
                                    "#": "1",
                                    "Име": "Анита Аризанова",
                                    "Пол": "f",
                                    "Възраст": "35",
                                    "Град": "1"
                                },
                                {
                                    "#": "21",
                                    "Име": "Анна-Мария Крайчева",
                                    "Пол": "f",
                                    "Възраст": "27",
                                    "Град": "7"
                                },
                                {
                                    "#": "86",
                                    "Име": "Аспарух Тотев",
                                    "Пол": "m",
                                    "Възраст": "23",
                                    "Град": "1"
                                },
                                {
                                    "#": "8",
                                    "Име": "Атанас Бръндев",
                                    "Пол": "m",
                                    "Възраст": "29",
                                    "Град": "9"
                                },
                                {
                                    "#": "114",
                                    "Име": "Благомир Мастагарков",
                                    "Пол": "m",
                                    "Възраст": "31",
                                    "Град": "31"
                                },
                                {
                                    "#": "73",
                                    "Име": "Борис Налбантов",
                                    "Пол": "m",
                                    "Възраст": "27",
                                    "Град": "1"
                                },
                                {
                                    "#": "49",
                                    "Име": "Борислав Лазаров",
                                    "Пол": "m",
                                    "Възраст": "27",
                                    "Град": "1"
                                },
                                {
                                    "#": "6",
                                    "Име": "Бояна Генова",
                                    "Пол": "m",
                                    "Възраст": "27",
                                    "Град": "8"
                                },
                                {
                                    "#": "47",
                                    "Име": "Вайс Сайфи",
                                    "Пол": "f",
                                    "Възраст": "28",
                                    "Град": "33"
                                },
                                {
                                    "#": "68",
                                    "Име": "Валентин Мичев",
                                    "Пол": "m",
                                    "Възраст": "24",
                                    "Град": "31"
                                },
                                {
                                    "#": "116",
                                    "Име": "Валентин Петров",
                                    "Пол": "m",
                                    "Възраст": "48",
                                    "Град": "36"
                                },
                                {
                                    "#": "89",
                                    "Име": "Валери Григоров",
                                    "Пол": "m",
                                    "Възраст": "23",
                                    "Град": "1"
                                },
                                {
                                    "#": "48",
                                    "Име": "Ваня Запрянова",
                                    "Пол": "f",
                                    "Възраст": "27",
                                    "Град": "17"
                                },
                                {
                                    "#": "115",
                                    "Име": "Васил Василев",
                                    "Пол": "m",
                                    "Възраст": "31",
                                    "Град": "1"
                                },
                                {
                                    "#": "84",
                                    "Име": "Велислава Ангелова",
                                    "Пол": "f",
                                    "Възраст": "29",
                                    "Град": "19"
                                },
                                {
                                    "#": "18",
                                    "Име": "Венцислава Панева",
                                    "Пол": "f",
                                    "Възраст": "34",
                                    "Град": "7"
                                },
                                {
                                    "#": "62",
                                    "Име": "Верислав Туджаров",
                                    "Пол": "m",
                                    "Възраст": "32",
                                    "Град": "1"
                                },
                                {
                                    "#": "22",
                                    "Име": "Веселин Панчев",
                                    "Пол": "m",
                                    "Възраст": "32",
                                    "Град": "7"
                                },
                                {
                                    "#": "87",
                                    "Име": "Веселина Ефремова",
                                    "Пол": "f",
                                    "Възраст": "42",
                                    "Град": "1"
                                },
                                {
                                    "#": "117",
                                    "Име": "Веселина Маринова",
                                    "Пол": "f",
                                    "Възраст": "29",
                                    "Град": "22"
                                },
                                {
                                    "#": "105",
                                    "Име": "Виктория Григорова",
                                    "Пол": "f",
                                    "Възраст": "32",
                                    "Град": "1"
                                },
                                {
                                    "#": "118",
                                    "Име": "Виктория Йорданова",
                                    "Пол": "f",
                                    "Възраст": "27",
                                    "Град": "3"
                                },
                                {
                                    "#": "55",
                                    "Име": "Виктория Петрова",
                                    "Пол": "f",
                                    "Възраст": "35",
                                    "Град": "22"
                                },
                                {
                                    "#": "112",
                                    "Име": "Виолета Стайкова",
                                    "Пол": "f",
                                    "Възраст": "47",
                                    "Град": "1"
                                },
                                {
                                    "#": "38",
                                    "Име": "Владислав Стоименов",
                                    "Пол": "m",
                                    "Възраст": "31",
                                    "Град": "11"
                                },
                                {
                                    "#": "58",
                                    "Име": "Габриела Димитрова",
                                    "Пол": "f",
                                    "Възраст": "21",
                                    "Град": "3"
                                },
                                {
                                    "#": "99",
                                    "Име": "Генчо Генчев",
                                    "Пол": "m",
                                    "Възраст": "33",
                                    "Град": "24"
                                },
                                {
                                    "#": "56",
                                    "Име": "Георги Братоев",
                                    "Пол": "m",
                                    "Възраст": "33",
                                    "Град": "1"
                                },
                                {
                                    "#": "5",
                                    "Име": "Георги Иванов",
                                    "Пол": "m",
                                    "Възраст": "28",
                                    "Град": "7"
                                },
                                {
                                    "#": "106",
                                    "Име": "Георги Петков „Гого“",
                                    "Пол": "m",
                                    "Възраст": "25",
                                    "Град": "20"
                                },
                                {
                                    "#": "72",
                                    "Име": "Георги Рабухчиев",
                                    "Пол": "m",
                                    "Възраст": "24",
                                    "Град": "35"
                                },
                                {
                                    "#": "107",
                                    "Име": "Георги Янев",
                                    "Пол": "m",
                                    "Възраст": "21",
                                    "Град": "1"
                                },
                                {
                                    "#": "10",
                                    "Име": "Георгиос Сърбинов",
                                    "Пол": "m",
                                    "Възраст": "32",
                                    "Град": "10"
                                },
                                {
                                    "#": "2",
                                    "Име": "Гичка Пътникова",
                                    "Пол": "f",
                                    "Възраст": "25",
                                    "Град": "4"
                                },
                                {
                                    "#": "119",
                                    "Име": "Даниел Димов",
                                    "Пол": "m",
                                    "Възраст": "34",
                                    "Град": "41"
                                },
                                {
                                    "#": "120",
                                    "Име": "Денислава Велкова",
                                    "Пол": "f",
                                    "Възраст": "24",
                                    "Град": "1"
                                },
                                {
                                    "#": "44",
                                    "Име": "Джералдин Тодорова",
                                    "Пол": "f",
                                    "Възраст": "18",
                                    "Град": "32"
                                },
                                {
                                    "#": "30",
                                    "Име": "Димитър Банчев",
                                    "Пол": "m",
                                    "Възраст": "33",
                                    "Град": "20"
                                },
                                {
                                    "#": "82",
                                    "Име": "Димитър Куков",
                                    "Пол": "m",
                                    "Възраст": "32",
                                    "Град": "1"
                                },
                                {
                                    "#": "98",
                                    "Име": "Димитър Лефтеров",
                                    "Пол": "m",
                                    "Възраст": "28",
                                    "Град": "18"
                                },
                                {
                                    "#": "71",
                                    "Име": "Димитър Морунов",
                                    "Пол": "m",
                                    "Възраст": "32",
                                    "Град": "27"
                                },
                                {
                                    "#": "24",
                                    "Име": "Добрин Николов",
                                    "Пол": "m",
                                    "Възраст": "27",
                                    "Град": "7"
                                },
                                {
                                    "#": "27",
                                    "Име": "Ева Карамфилова",
                                    "Пол": "f",
                                    "Възраст": "24",
                                    "Град": "3"
                                },
                                {
                                    "#": "103",
                                    "Име": "Евгения Джаферович",
                                    "Пол": "f",
                                    "Възраст": "32",
                                    "Град": "1"
                                },
                                {
                                    "#": "43",
                                    "Име": "Екатерина Лазарова",
                                    "Пол": "f",
                                    "Възраст": "29",
                                    "Град": "1"
                                },
                                {
                                    "#": "60",
                                    "Име": "Елена Боянова",
                                    "Пол": "f",
                                    "Възраст": "27",
                                    "Град": "31"
                                },
                                {
                                    "#": "26",
                                    "Име": "Елена Василева",
                                    "Пол": "f",
                                    "Възраст": "20",
                                    "Град": "2"
                                },
                                {
                                    "#": "15",
                                    "Име": "Елена Иванова",
                                    "Пол": "f",
                                    "Възраст": "32",
                                    "Град": "1"
                                },
                                {
                                    "#": "121",
                                    "Име": "Елена Петрова",
                                    "Пол": "f",
                                    "Възраст": "20",
                                    "Град": "36"
                                },
                                {
                                    "#": "74",
                                    "Име": "Елизабет Василева",
                                    "Пол": "f",
                                    "Възраст": "21",
                                    "Град": "1"
                                },
                                {
                                    "#": "85",
                                    "Име": "Елина Пашаланова",
                                    "Пол": "f",
                                    "Възраст": "30",
                                    "Град": "20"
                                },
                                {
                                    "#": "94",
                                    "Име": "Елица Янкова",
                                    "Пол": "f",
                                    "Възраст": "27",
                                    "Град": "3"
                                },
                                {
                                    "#": "53",
                                    "Име": "Елия Мицова",
                                    "Пол": "f",
                                    "Възраст": "28",
                                    "Град": "11"
                                },
                                {
                                    "#": "90",
                                    "Име": "Звезделина Георгиева",
                                    "Пол": "f",
                                    "Възраст": "30",
                                    "Град": "3"
                                },
                                {
                                    "#": "52",
                                    "Име": "Златозар Атанасов",
                                    "Пол": "m",
                                    "Възраст": "31",
                                    "Град": "31"
                                },
                                {
                                    "#": "100",
                                    "Име": "Зорница Стоилова",
                                    "Пол": "m",
                                    "Възраст": "21",
                                    "Град": "1"
                                },
                                {
                                    "#": "122",
                                    "Име": "Ива Георгиева",
                                    "Пол": "f",
                                    "Възраст": "20",
                                    "Град": "3"
                                },
                                {
                                    "#": "31",
                                    "Име": "Ивайло Тодоров",
                                    "Пол": "m",
                                    "Възраст": "25",
                                    "Град": "20"
                                },
                                {
                                    "#": "51",
                                    "Име": "Иван Булкин",
                                    "Пол": "m",
                                    "Възраст": "26",
                                    "Град": "31"
                                },
                                {
                                    "#": "83",
                                    "Име": "Иван Гайтанов",
                                    "Пол": "m",
                                    "Възраст": "20",
                                    "Град": "8"
                                },
                                {
                                    "#": "29",
                                    "Име": "Иван Драганов",
                                    "Пол": "m",
                                    "Възраст": "38",
                                    "Град": "1"
                                },
                                {
                                    "#": "81",
                                    "Име": "Иван Мирчев",
                                    "Пол": "m",
                                    "Възраст": "29",
                                    "Град": "9"
                                },
                                {
                                    "#": "123",
                                    "Име": "Иван Рълев",
                                    "Пол": "m",
                                    "Възраст": "25",
                                    "Град": "43"
                                },
                                {
                                    "#": "36",
                                    "Име": "Ивана Дилова",
                                    "Пол": "f",
                                    "Възраст": "21",
                                    "Град": "1"
                                },
                                {
                                    "#": "80",
                                    "Име": "Илина Георгиева",
                                    "Пол": "f",
                                    "Възраст": "30",
                                    "Град": "18"
                                },
                                {
                                    "#": "3",
                                    "Име": "Илиян Миланов",
                                    "Пол": "m",
                                    "Възраст": "27",
                                    "Град": "5"
                                },
                                {
                                    "#": "92",
                                    "Име": "Илиян Цветков",
                                    "Пол": "m",
                                    "Възраст": "20",
                                    "Град": "8"
                                },
                                {
                                    "#": "4",
                                    "Име": "Йоана Емилова",
                                    "Пол": "f",
                                    "Възраст": "20",
                                    "Град": "6"
                                },
                                {
                                    "#": "46",
                                    "Име": "Йоанна Лазарова",
                                    "Пол": "f",
                                    "Възраст": "22",
                                    "Град": "1"
                                },
                                {
                                    "#": "124",
                                    "Име": "Калоян Митов",
                                    "Пол": "m",
                                    "Възраст": "22",
                                    "Град": "1"
                                },
                                {
                                    "#": "63",
                                    "Име": "Калоян Проданов",
                                    "Пол": "m",
                                    "Възраст": "32",
                                    "Град": "30"
                                },
                                {
                                    "#": "91",
                                    "Име": "Касим Касимов",
                                    "Пол": "m",
                                    "Възраст": "21",
                                    "Град": "22"
                                },
                                {
                                    "#": "66",
                                    "Име": "Красима Кирова",
                                    "Пол": "f",
                                    "Възраст": "21",
                                    "Град": "3"
                                },
                                {
                                    "#": "125",
                                    "Име": "Красимир Дунев",
                                    "Пол": "m",
                                    "Възраст": "50",
                                    "Град": "31"
                                },
                                {
                                    "#": "67",
                                    "Име": "Кремена Русева",
                                    "Пол": "f",
                                    "Възраст": "40",
                                    "Град": "36"
                                },
                                {
                                    "#": "126",
                                    "Име": "Крум Апостолов",
                                    "Пол": "m",
                                    "Възраст": "25",
                                    "Град": "40"
                                },
                                {
                                    "#": "40",
                                    "Име": "Любомир Костов",
                                    "Пол": "m",
                                    "Възраст": "29",
                                    "Град": "4"
                                },
                                {
                                    "#": "69",
                                    "Име": "Мани Ву Нанг Тъ",
                                    "Пол": "f",
                                    "Възраст": "34",
                                    "Град": "8"
                                },
                                {
                                    "#": "102",
                                    "Име": "Мануела Тонева „Мани“",
                                    "Пол": "f",
                                    "Възраст": "25",
                                    "Град": "26"
                                },
                                {
                                    "#": "7",
                                    "Име": "Марешка Глущук",
                                    "Пол": "f",
                                    "Възраст": "23",
                                    "Град": "3"
                                },
                                {
                                    "#": "128",
                                    "Име": "Мария Оряшкова",
                                    "Пол": "f",
                                    "Възраст": "34",
                                    "Град": "39"
                                },
                                {
                                    "#": "14",
                                    "Име": "Март Лачев",
                                    "Пол": "m",
                                    "Възраст": "25",
                                    "Град": "1"
                                },
                                {
                                    "#": "64",
                                    "Име": "Мартин Монев",
                                    "Пол": "m",
                                    "Възраст": "32",
                                    "Град": "35"
                                },
                                {
                                    "#": "127",
                                    "Име": "Мартин Николов „Елвиса“",
                                    "Пол": "m",
                                    "Възраст": "38",
                                    "Град": "1"
                                },
                                {
                                    "#": "28",
                                    "Име": "Мая Тановска",
                                    "Пол": "f",
                                    "Възраст": "30",
                                    "Град": "1"
                                },
                                {
                                    "#": "50",
                                    "Име": "Милен Цветков",
                                    "Пол": "m",
                                    "Възраст": "31",
                                    "Град": "33"
                                },
                                {
                                    "#": "70",
                                    "Име": "Милена Мирева",
                                    "Пол": "f",
                                    "Възраст": "25",
                                    "Град": "1"
                                },
                                {
                                    "#": "97",
                                    "Име": "Мирела Илиева",
                                    "Пол": "f",
                                    "Възраст": "21",
                                    "Град": "3"
                                },
                                {
                                    "#": "101",
                                    "Име": "Мирослава Профирова",
                                    "Пол": "f",
                                    "Възраст": "35",
                                    "Град": "25"
                                },
                                {
                                    "#": "95",
                                    "Име": "Михаела Тодорова",
                                    "Пол": "f",
                                    "Възраст": "26",
                                    "Град": "1"
                                },
                                {
                                    "#": "129",
                                    "Име": "Михаил Кръстев",
                                    "Пол": "m",
                                    "Възраст": "20",
                                    "Град": "45"
                                },
                                {
                                    "#": "130",
                                    "Име": "Момчил Василев",
                                    "Пол": "m",
                                    "Възраст": "25",
                                    "Град": "1"
                                },
                                {
                                    "#": "131",
                                    "Име": "Моника Николаева",
                                    "Пол": "f",
                                    "Възраст": "35",
                                    "Град": "44"
                                },
                                {
                                    "#": "75",
                                    "Име": "Неделчо Богданов",
                                    "Пол": "m",
                                    "Възраст": "21",
                                    "Град": "12"
                                },
                                {
                                    "#": "134",
                                    "Име": "Никол Дунев",
                                    "Пол": "f",
                                    "Възраст": "24",
                                    "Град": "45"
                                },
                                {
                                    "#": "132",
                                    "Име": "Николай Костадинов",
                                    "Пол": "m",
                                    "Възраст": "32",
                                    "Град": "45"
                                },
                                {
                                    "#": "45",
                                    "Име": "Николай Лазаринов",
                                    "Пол": "m",
                                    "Възраст": "23",
                                    "Град": "31"
                                },
                                {
                                    "#": "133",
                                    "Име": "Николай Рълев",
                                    "Пол": "m",
                                    "Възраст": "19",
                                    "Град": "45"
                                },
                                {
                                    "#": "39",
                                    "Име": "Николай Стефанов",
                                    "Пол": "m",
                                    "Възраст": "25",
                                    "Град": "1"
                                },
                                {
                                    "#": "88",
                                    "Име": "Николай Чакалов",
                                    "Пол": "m",
                                    "Възраст": "26",
                                    "Град": "21"
                                },
                                {
                                    "#": "77",
                                    "Име": "Паулина Горанов",
                                    "Пол": "f",
                                    "Възраст": "24",
                                    "Град": "37"
                                },
                                {
                                    "#": "135",
                                    "Име": "Пеньо Гатевски „Гатьо“",
                                    "Пол": "m",
                                    "Възраст": "41",
                                    "Град": "31"
                                },
                                {
                                    "#": "25",
                                    "Име": "Пламен Диков",
                                    "Пол": "m",
                                    "Възраст": "21",
                                    "Град": "1"
                                },
                                {
                                    "#": "20",
                                    "Име": "Пламен Младенов",
                                    "Пол": "m",
                                    "Възраст": "31",
                                    "Град": "7"
                                },
                                {
                                    "#": "111",
                                    "Име": "Радосвета Симеонова",
                                    "Пол": "f",
                                    "Възраст": "29",
                                    "Град": "30"
                                },
                                {
                                    "#": "136",
                                    "Име": "Радостин Кръстев",
                                    "Пол": "m",
                                    "Възраст": "22",
                                    "Град": "42"
                                },
                                {
                                    "#": "19",
                                    "Име": "Радостина Бохорова",
                                    "Пол": "f",
                                    "Възраст": "39",
                                    "Град": "7"
                                },
                                {
                                    "#": "104",
                                    "Име": "Ралица Кашинова",
                                    "Пол": "f",
                                    "Възраст": "29",
                                    "Град": "27"
                                },
                                {
                                    "#": "13",
                                    "Име": "Роберта Стойнева",
                                    "Пол": "m",
                                    "Възраст": "23",
                                    "Град": "13"
                                },
                                {
                                    "#": "137",
                                    "Име": "Румен Радев",
                                    "Пол": "m",
                                    "Възраст": "26",
                                    "Град": "20"
                                },
                                {
                                    "#": "61",
                                    "Име": "Семира Ал Сарай",
                                    "Пол": "f",
                                    "Възраст": "24",
                                    "Град": "1"
                                },
                                {
                                    "#": "78",
                                    "Име": "Симеон Станкович",
                                    "Пол": "m",
                                    "Възраст": "25",
                                    "Град": "1"
                                },
                                {
                                    "#": "37",
                                    "Име": "Симона Станиславова",
                                    "Пол": "f",
                                    "Възраст": "28",
                                    "Град": "29"
                                },
                                {
                                    "#": "59",
                                    "Име": "Соня Милева",
                                    "Пол": "f",
                                    "Възраст": "43",
                                    "Град": "1"
                                },
                                {
                                    "#": "34",
                                    "Име": "Станимира Неделчева",
                                    "Пол": "f",
                                    "Възраст": "25",
                                    "Град": "8"
                                },
                                {
                                    "#": "54",
                                    "Име": "Станислава Петрова",
                                    "Пол": "f",
                                    "Възраст": "24",
                                    "Град": "8"
                                },
                                {
                                    "#": "16",
                                    "Име": "Стефания Иванова",
                                    "Пол": "f",
                                    "Възраст": "32",
                                    "Град": "1"
                                },
                                {
                                    "#": "12",
                                    "Име": "Стоян Вълчев",
                                    "Пол": "m",
                                    "Възраст": "23",
                                    "Град": "12"
                                },
                                {
                                    "#": "65",
                                    "Име": "Стоян Димитров",
                                    "Пол": "m",
                                    "Възраст": "51",
                                    "Град": "2"
                                },
                                {
                                    "#": "76",
                                    "Име": "Стратимир Георгиев",
                                    "Пол": "m",
                                    "Възраст": "28",
                                    "Град": "3"
                                },
                                {
                                    "#": "33",
                                    "Име": "Сюзън Георгиева",
                                    "Пол": "f",
                                    "Възраст": "20",
                                    "Град": "1"
                                },
                                {
                                    "#": "138",
                                    "Име": "Теодора Маринова",
                                    "Пол": "f",
                                    "Възраст": "29",
                                    "Град": "22"
                                },
                                {
                                    "#": "139",
                                    "Име": "Теодора Мудева",
                                    "Пол": "f",
                                    "Възраст": "22",
                                    "Град": "8"
                                },
                                {
                                    "#": "42",
                                    "Име": "Тодор Желязков",
                                    "Пол": "m",
                                    "Възраст": "33",
                                    "Град": "8"
                                },
                                {
                                    "#": "17",
                                    "Име": "Томас Нацидис",
                                    "Пол": "m",
                                    "Възраст": "25",
                                    "Град": "7"
                                },
                                {
                                    "#": "110",
                                    "Име": "Трифон Симеонов „Туньо“",
                                    "Пол": "m",
                                    "Възраст": "33",
                                    "Град": "33"
                                },
                                {
                                    "#": "108",
                                    "Име": "Филип Атанасов",
                                    "Пол": "m",
                                    "Възраст": "29",
                                    "Град": "1"
                                },
                                {
                                    "#": "32",
                                    "Име": "Христа Аспарухова",
                                    "Пол": "f",
                                    "Възраст": "35",
                                    "Град": "16"
                                },
                                {
                                    "#": "93",
                                    "Име": "Цветан Петров",
                                    "Пол": "m",
                                    "Възраст": "34",
                                    "Град": "1"
                                },
                                {
                                    "#": "140",
                                    "Име": "Цветелин Гешов",
                                    "Пол": "m",
                                    "Възраст": "25",
                                    "Град": "1"
                                },
                                {
                                    "#": "141",
                                    "Име": "Цвети Станева",
                                    "Пол": "f",
                                    "Възраст": "22",
                                    "Град": "1"
                                },
                                {
                                    "#": "41",
                                    "Име": "Чудомир Григоров",
                                    "Пол": "m",
                                    "Възраст": "31",
                                    "Град": "31"
                                },
                                {
                                    "#": "23",
                                    "Име": "Юлиян Златев",
                                    "Пол": "m",
                                    "Възраст": "30",
                                    "Град": "7"
                                }
                            ]
                        },
                        "text/html": [
                            "<table>",
                            "<tr><th>#</th><th>Име</th><th>Пол</th><th>Възраст</th><th>Град</th></tr>",
                            "<tr><td>113</td><td>Албена Ситнилска</td><td>f</td><td>41</td><td>45</td></tr>",
                            "<tr><td>109</td><td>Алекса Ерски</td><td>m</td><td>25</td><td>28</td></tr>",
                            "<tr><td>96</td><td>Александра Фейгин</td><td>f</td><td>19</td><td>23</td></tr>",
                            "<tr><td>35</td><td>Александър Димитров</td><td>m</td><td>32</td><td>3</td></tr>",
                            "<tr><td>11</td><td>Александър Кирилов</td><td>m</td><td>32</td><td>4</td></tr>",
                            "<tr><td>57</td><td>Александър Цеков</td><td>m</td><td>36</td><td>1</td></tr>",
                            "<tr><td>9</td><td>Амелия-Мира Маркова</td><td>f</td><td>27</td><td>1</td></tr>",
                            "<tr><td>79</td><td>Андрей Гридин</td><td>m</td><td>28</td><td>38</td></tr>",
                            "<tr><td>1</td><td>Анита Аризанова</td><td>f</td><td>35</td><td>1</td></tr>",
                            "<tr><td>21</td><td>Анна-Мария Крайчева</td><td>f</td><td>27</td><td>7</td></tr>",
                            "<tr><td>86</td><td>Аспарух Тотев</td><td>m</td><td>23</td><td>1</td></tr>",
                            "<tr><td>8</td><td>Атанас Бръндев</td><td>m</td><td>29</td><td>9</td></tr>",
                            "<tr><td>114</td><td>Благомир Мастагарков</td><td>m</td><td>31</td><td>31</td></tr>",
                            "<tr><td>73</td><td>Борис Налбантов</td><td>m</td><td>27</td><td>1</td></tr>",
                            "<tr><td>49</td><td>Борислав Лазаров</td><td>m</td><td>27</td><td>1</td></tr>",
                            "<tr><td>6</td><td>Бояна Генова</td><td>m</td><td>27</td><td>8</td></tr>",
                            "<tr><td>47</td><td>Вайс Сайфи</td><td>f</td><td>28</td><td>33</td></tr>",
                            "<tr><td>68</td><td>Валентин Мичев</td><td>m</td><td>24</td><td>31</td></tr>",
                            "<tr><td>116</td><td>Валентин Петров</td><td>m</td><td>48</td><td>36</td></tr>",
                            "<tr><td>89</td><td>Валери Григоров</td><td>m</td><td>23</td><td>1</td></tr>",
                            "<tr><td>48</td><td>Ваня Запрянова</td><td>f</td><td>27</td><td>17</td></tr>",
                            "<tr><td>115</td><td>Васил Василев</td><td>m</td><td>31</td><td>1</td></tr>",
                            "<tr><td>84</td><td>Велислава Ангелова</td><td>f</td><td>29</td><td>19</td></tr>",
                            "<tr><td>18</td><td>Венцислава Панева</td><td>f</td><td>34</td><td>7</td></tr>",
                            "<tr><td>62</td><td>Верислав Туджаров</td><td>m</td><td>32</td><td>1</td></tr>",
                            "<tr><td>22</td><td>Веселин Панчев</td><td>m</td><td>32</td><td>7</td></tr>",
                            "<tr><td>87</td><td>Веселина Ефремова</td><td>f</td><td>42</td><td>1</td></tr>",
                            "<tr><td>117</td><td>Веселина Маринова</td><td>f</td><td>29</td><td>22</td></tr>",
                            "<tr><td>105</td><td>Виктория Григорова</td><td>f</td><td>32</td><td>1</td></tr>",
                            "<tr><td>118</td><td>Виктория Йорданова</td><td>f</td><td>27</td><td>3</td></tr>",
                            "<tr><td>55</td><td>Виктория Петрова</td><td>f</td><td>35</td><td>22</td></tr>",
                            "<tr><td>112</td><td>Виолета Стайкова</td><td>f</td><td>47</td><td>1</td></tr>",
                            "<tr><td>38</td><td>Владислав Стоименов</td><td>m</td><td>31</td><td>11</td></tr>",
                            "<tr><td>58</td><td>Габриела Димитрова</td><td>f</td><td>21</td><td>3</td></tr>",
                            "<tr><td>99</td><td>Генчо Генчев</td><td>m</td><td>33</td><td>24</td></tr>",
                            "<tr><td>56</td><td>Георги Братоев</td><td>m</td><td>33</td><td>1</td></tr>",
                            "<tr><td>5</td><td>Георги Иванов</td><td>m</td><td>28</td><td>7</td></tr>",
                            "<tr><td>106</td><td>Георги Петков „Гого“</td><td>m</td><td>25</td><td>20</td></tr>",
                            "<tr><td>72</td><td>Георги Рабухчиев</td><td>m</td><td>24</td><td>35</td></tr>",
                            "<tr><td>107</td><td>Георги Янев</td><td>m</td><td>21</td><td>1</td></tr>",
                            "<tr><td>10</td><td>Георгиос Сърбинов</td><td>m</td><td>32</td><td>10</td></tr>",
                            "<tr><td>2</td><td>Гичка Пътникова</td><td>f</td><td>25</td><td>4</td></tr>",
                            "<tr><td>119</td><td>Даниел Димов</td><td>m</td><td>34</td><td>41</td></tr>",
                            "<tr><td>120</td><td>Денислава Велкова</td><td>f</td><td>24</td><td>1</td></tr>",
                            "<tr><td>44</td><td>Джералдин Тодорова</td><td>f</td><td>18</td><td>32</td></tr>",
                            "<tr><td>30</td><td>Димитър Банчев</td><td>m</td><td>33</td><td>20</td></tr>",
                            "<tr><td>82</td><td>Димитър Куков</td><td>m</td><td>32</td><td>1</td></tr>",
                            "<tr><td>98</td><td>Димитър Лефтеров</td><td>m</td><td>28</td><td>18</td></tr>",
                            "<tr><td>71</td><td>Димитър Морунов</td><td>m</td><td>32</td><td>27</td></tr>",
                            "<tr><td>24</td><td>Добрин Николов</td><td>m</td><td>27</td><td>7</td></tr>",
                            "<tr><td>27</td><td>Ева Карамфилова</td><td>f</td><td>24</td><td>3</td></tr>",
                            "<tr><td>103</td><td>Евгения Джаферович</td><td>f</td><td>32</td><td>1</td></tr>",
                            "<tr><td>43</td><td>Екатерина Лазарова</td><td>f</td><td>29</td><td>1</td></tr>",
                            "<tr><td>60</td><td>Елена Боянова</td><td>f</td><td>27</td><td>31</td></tr>",
                            "<tr><td>26</td><td>Елена Василева</td><td>f</td><td>20</td><td>2</td></tr>",
                            "<tr><td>15</td><td>Елена Иванова</td><td>f</td><td>32</td><td>1</td></tr>",
                            "<tr><td>121</td><td>Елена Петрова</td><td>f</td><td>20</td><td>36</td></tr>",
                            "<tr><td>74</td><td>Елизабет Василева</td><td>f</td><td>21</td><td>1</td></tr>",
                            "<tr><td>85</td><td>Елина Пашаланова</td><td>f</td><td>30</td><td>20</td></tr>",
                            "<tr><td>94</td><td>Елица Янкова</td><td>f</td><td>27</td><td>3</td></tr>",
                            "<tr><td>53</td><td>Елия Мицова</td><td>f</td><td>28</td><td>11</td></tr>",
                            "<tr><td>90</td><td>Звезделина Георгиева</td><td>f</td><td>30</td><td>3</td></tr>",
                            "<tr><td>52</td><td>Златозар Атанасов</td><td>m</td><td>31</td><td>31</td></tr>",
                            "<tr><td>100</td><td>Зорница Стоилова</td><td>m</td><td>21</td><td>1</td></tr>",
                            "<tr><td>122</td><td>Ива Георгиева</td><td>f</td><td>20</td><td>3</td></tr>",
                            "<tr><td>31</td><td>Ивайло Тодоров</td><td>m</td><td>25</td><td>20</td></tr>",
                            "<tr><td>51</td><td>Иван Булкин</td><td>m</td><td>26</td><td>31</td></tr>",
                            "<tr><td>83</td><td>Иван Гайтанов</td><td>m</td><td>20</td><td>8</td></tr>",
                            "<tr><td>29</td><td>Иван Драганов</td><td>m</td><td>38</td><td>1</td></tr>",
                            "<tr><td>81</td><td>Иван Мирчев</td><td>m</td><td>29</td><td>9</td></tr>",
                            "<tr><td>123</td><td>Иван Рълев</td><td>m</td><td>25</td><td>43</td></tr>",
                            "<tr><td>36</td><td>Ивана Дилова</td><td>f</td><td>21</td><td>1</td></tr>",
                            "<tr><td>80</td><td>Илина Георгиева</td><td>f</td><td>30</td><td>18</td></tr>",
                            "<tr><td>3</td><td>Илиян Миланов</td><td>m</td><td>27</td><td>5</td></tr>",
                            "<tr><td>92</td><td>Илиян Цветков</td><td>m</td><td>20</td><td>8</td></tr>",
                            "<tr><td>4</td><td>Йоана Емилова</td><td>f</td><td>20</td><td>6</td></tr>",
                            "<tr><td>46</td><td>Йоанна Лазарова</td><td>f</td><td>22</td><td>1</td></tr>",
                            "<tr><td>124</td><td>Калоян Митов</td><td>m</td><td>22</td><td>1</td></tr>",
                            "<tr><td>63</td><td>Калоян Проданов</td><td>m</td><td>32</td><td>30</td></tr>",
                            "<tr><td>91</td><td>Касим Касимов</td><td>m</td><td>21</td><td>22</td></tr>",
                            "<tr><td>66</td><td>Красима Кирова</td><td>f</td><td>21</td><td>3</td></tr>",
                            "<tr><td>125</td><td>Красимир Дунев</td><td>m</td><td>50</td><td>31</td></tr>",
                            "<tr><td>67</td><td>Кремена Русева</td><td>f</td><td>40</td><td>36</td></tr>",
                            "<tr><td>126</td><td>Крум Апостолов</td><td>m</td><td>25</td><td>40</td></tr>",
                            "<tr><td>40</td><td>Любомир Костов</td><td>m</td><td>29</td><td>4</td></tr>",
                            "<tr><td>69</td><td>Мани Ву Нанг Тъ</td><td>f</td><td>34</td><td>8</td></tr>",
                            "<tr><td>102</td><td>Мануела Тонева „Мани“</td><td>f</td><td>25</td><td>26</td></tr>",
                            "<tr><td>7</td><td>Марешка Глущук</td><td>f</td><td>23</td><td>3</td></tr>",
                            "<tr><td>128</td><td>Мария Оряшкова</td><td>f</td><td>34</td><td>39</td></tr>",
                            "<tr><td>14</td><td>Март Лачев</td><td>m</td><td>25</td><td>1</td></tr>",
                            "<tr><td>64</td><td>Мартин Монев</td><td>m</td><td>32</td><td>35</td></tr>",
                            "<tr><td>127</td><td>Мартин Николов „Елвиса“</td><td>m</td><td>38</td><td>1</td></tr>",
                            "<tr><td>28</td><td>Мая Тановска</td><td>f</td><td>30</td><td>1</td></tr>",
                            "<tr><td>50</td><td>Милен Цветков</td><td>m</td><td>31</td><td>33</td></tr>",
                            "<tr><td>70</td><td>Милена Мирева</td><td>f</td><td>25</td><td>1</td></tr>",
                            "<tr><td>97</td><td>Мирела Илиева</td><td>f</td><td>21</td><td>3</td></tr>",
                            "<tr><td>101</td><td>Мирослава Профирова</td><td>f</td><td>35</td><td>25</td></tr>",
                            "<tr><td>95</td><td>Михаела Тодорова</td><td>f</td><td>26</td><td>1</td></tr>",
                            "<tr><td>129</td><td>Михаил Кръстев</td><td>m</td><td>20</td><td>45</td></tr>",
                            "<tr><td>130</td><td>Момчил Василев</td><td>m</td><td>25</td><td>1</td></tr>",
                            "<tr><td>131</td><td>Моника Николаева</td><td>f</td><td>35</td><td>44</td></tr>",
                            "<tr><td>75</td><td>Неделчо Богданов</td><td>m</td><td>21</td><td>12</td></tr>",
                            "<tr><td>134</td><td>Никол Дунев</td><td>f</td><td>24</td><td>45</td></tr>",
                            "<tr><td>132</td><td>Николай Костадинов</td><td>m</td><td>32</td><td>45</td></tr>",
                            "<tr><td>45</td><td>Николай Лазаринов</td><td>m</td><td>23</td><td>31</td></tr>",
                            "<tr><td>133</td><td>Николай Рълев</td><td>m</td><td>19</td><td>45</td></tr>",
                            "<tr><td>39</td><td>Николай Стефанов</td><td>m</td><td>25</td><td>1</td></tr>",
                            "<tr><td>88</td><td>Николай Чакалов</td><td>m</td><td>26</td><td>21</td></tr>",
                            "<tr><td>77</td><td>Паулина Горанов</td><td>f</td><td>24</td><td>37</td></tr>",
                            "<tr><td>135</td><td>Пеньо Гатевски „Гатьо“</td><td>m</td><td>41</td><td>31</td></tr>",
                            "<tr><td>25</td><td>Пламен Диков</td><td>m</td><td>21</td><td>1</td></tr>",
                            "<tr><td>20</td><td>Пламен Младенов</td><td>m</td><td>31</td><td>7</td></tr>",
                            "<tr><td>111</td><td>Радосвета Симеонова</td><td>f</td><td>29</td><td>30</td></tr>",
                            "<tr><td>136</td><td>Радостин Кръстев</td><td>m</td><td>22</td><td>42</td></tr>",
                            "<tr><td>19</td><td>Радостина Бохорова</td><td>f</td><td>39</td><td>7</td></tr>",
                            "<tr><td>104</td><td>Ралица Кашинова</td><td>f</td><td>29</td><td>27</td></tr>",
                            "<tr><td>13</td><td>Роберта Стойнева</td><td>m</td><td>23</td><td>13</td></tr>",
                            "<tr><td>137</td><td>Румен Радев</td><td>m</td><td>26</td><td>20</td></tr>",
                            "<tr><td>61</td><td>Семира Ал Сарай</td><td>f</td><td>24</td><td>1</td></tr>",
                            "<tr><td>78</td><td>Симеон Станкович</td><td>m</td><td>25</td><td>1</td></tr>",
                            "<tr><td>37</td><td>Симона Станиславова</td><td>f</td><td>28</td><td>29</td></tr>",
                            "<tr><td>59</td><td>Соня Милева</td><td>f</td><td>43</td><td>1</td></tr>",
                            "<tr><td>34</td><td>Станимира Неделчева</td><td>f</td><td>25</td><td>8</td></tr>",
                            "<tr><td>54</td><td>Станислава Петрова</td><td>f</td><td>24</td><td>8</td></tr>",
                            "<tr><td>16</td><td>Стефания Иванова</td><td>f</td><td>32</td><td>1</td></tr>",
                            "<tr><td>12</td><td>Стоян Вълчев</td><td>m</td><td>23</td><td>12</td></tr>",
                            "<tr><td>65</td><td>Стоян Димитров</td><td>m</td><td>51</td><td>2</td></tr>",
                            "<tr><td>76</td><td>Стратимир Георгиев</td><td>m</td><td>28</td><td>3</td></tr>",
                            "<tr><td>33</td><td>Сюзън Георгиева</td><td>f</td><td>20</td><td>1</td></tr>",
                            "<tr><td>138</td><td>Теодора Маринова</td><td>f</td><td>29</td><td>22</td></tr>",
                            "<tr><td>139</td><td>Теодора Мудева</td><td>f</td><td>22</td><td>8</td></tr>",
                            "<tr><td>42</td><td>Тодор Желязков</td><td>m</td><td>33</td><td>8</td></tr>",
                            "<tr><td>17</td><td>Томас Нацидис</td><td>m</td><td>25</td><td>7</td></tr>",
                            "<tr><td>110</td><td>Трифон Симеонов „Туньо“</td><td>m</td><td>33</td><td>33</td></tr>",
                            "<tr><td>108</td><td>Филип Атанасов</td><td>m</td><td>29</td><td>1</td></tr>",
                            "<tr><td>32</td><td>Христа Аспарухова</td><td>f</td><td>35</td><td>16</td></tr>",
                            "<tr><td>93</td><td>Цветан Петров</td><td>m</td><td>34</td><td>1</td></tr>",
                            "<tr><td>140</td><td>Цветелин Гешов</td><td>m</td><td>25</td><td>1</td></tr>",
                            "<tr><td>141</td><td>Цвети Станева</td><td>f</td><td>22</td><td>1</td></tr>",
                            "<tr><td>41</td><td>Чудомир Григоров</td><td>m</td><td>31</td><td>31</td></tr>",
                            "<tr><td>23</td><td>Юлиян Златев</td><td>m</td><td>30</td><td>7</td></tr>",
                            "</table>"
                        ]
                    }
                }
            ],
            "execution_count": 5
        },
        {
            "cell_type": "code",
            "source": [
                "SELECT    id,\r\n",
                "          name\r\n",
                "FROM      desafio.dbo.teritory\r\n",
                "ORDER BY  name;"
            ],
            "metadata": {
                "language": "sql",
                "azdata_cell_guid": "8c206040-68a5-4c17-8c9f-f29a2d4fc452"
            },
            "outputs": [
                {
                    "output_type": "display_data",
                    "data": {
                        "text/html": "(10 rows affected)"
                    },
                    "metadata": {}
                },
                {
                    "output_type": "display_data",
                    "data": {
                        "text/html": "Total execution time: 00:00:00.092"
                    },
                    "metadata": {}
                },
                {
                    "output_type": "execute_result",
                    "metadata": {},
                    "execution_count": 9,
                    "data": {
                        "application/vnd.dataresource+json": {
                            "schema": {
                                "fields": [
                                    {
                                        "name": "id"
                                    },
                                    {
                                        "name": "name"
                                    }
                                ]
                            },
                            "data": [
                                {
                                    "id": "3",
                                    "name": "Дивата река"
                                },
                                {
                                    "id": "8",
                                    "name": "Дивата река"
                                },
                                {
                                    "id": "5",
                                    "name": "Плажа"
                                },
                                {
                                    "id": "10",
                                    "name": "Плажа"
                                },
                                {
                                    "id": "6",
                                    "name": "Резиденция"
                                },
                                {
                                    "id": "1",
                                    "name": "Резиденция"
                                },
                                {
                                    "id": "2",
                                    "name": "Стопанството"
                                },
                                {
                                    "id": "7",
                                    "name": "Стопанството"
                                },
                                {
                                    "id": "9",
                                    "name": "Чистилище"
                                },
                                {
                                    "id": "4",
                                    "name": "Чистилище"
                                }
                            ]
                        },
                        "text/html": [
                            "<table>",
                            "<tr><th>id</th><th>name</th></tr>",
                            "<tr><td>3</td><td>Дивата река</td></tr>",
                            "<tr><td>8</td><td>Дивата река</td></tr>",
                            "<tr><td>5</td><td>Плажа</td></tr>",
                            "<tr><td>10</td><td>Плажа</td></tr>",
                            "<tr><td>6</td><td>Резиденция</td></tr>",
                            "<tr><td>1</td><td>Резиденция</td></tr>",
                            "<tr><td>2</td><td>Стопанството</td></tr>",
                            "<tr><td>7</td><td>Стопанството</td></tr>",
                            "<tr><td>9</td><td>Чистилище</td></tr>",
                            "<tr><td>4</td><td>Чистилище</td></tr>",
                            "</table>"
                        ]
                    }
                }
            ],
            "execution_count": 9
        }
    ]
}