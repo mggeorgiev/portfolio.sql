{
    "metadata": {
        "kernelspec": {
            "name": "SQL",
            "display_name": "SQL",
            "language": "sql"
        },
        "language_info": {
            "name": "sql",
            "version": ""
        }
    },
    "nbformat_minor": 2,
    "nbformat": 4,
    "cells": [
        {
            "cell_type": "markdown",
            "source": [
                "Source https://bg.wikipedia.org/wiki/%D0%98%D0%B3%D1%80%D0%B8\\_%D0%BD%D0%B0\\_%D0%B2%D0%BE%D0%BB%D1%8F%D1%82%D0%B0#%D0%A1%D0%B5%D0%B7%D0%BE%D0%BD%D0%B8"
            ],
            "metadata": {
                "language": "sql",
                "azdata_cell_guid": "fc8a3a49-31e0-43c9-b72e-dc7d0e2a4db2"
            },
            "attachments": {}
        },
        {
            "cell_type": "code",
            "source": [
                "-- Create a new database called 'desafio'\r\n",
                "-- Connect to the 'master' database to run this snippet\r\n",
                "USE master\r\n",
                "GO\r\n",
                "-- Create the new database if it does not exist already\r\n",
                "IF NOT EXISTS (\r\n",
                "    SELECT [name]\r\n",
                "        FROM sys.databases\r\n",
                "        WHERE [name] = N'desafio'\r\n",
                ")\r\n",
                "CREATE DATABASE desafio\r\n",
                "GO\r\n",
                "\r\n",
                "USE [desafio];\r\n",
                "GO\r\n",
                "\r\n",
                "-- Create a new table called '[season]' in schema '[dbo]'\r\n",
                "-- Drop the table if it already exists\r\n",
                "IF OBJECT_ID('[dbo].[season]', 'U') IS NOT NULL\r\n",
                "DROP TABLE [dbo].[season]\r\n",
                "GO\r\n",
                "-- Create the table in the specified schema\r\n",
                "CREATE TABLE [dbo].[season]\r\n",
                "(\r\n",
                "    [id] INT NOT NULL PRIMARY KEY IDENTITY, -- Primary Key column\r\n",
                "    [name] int NOT NULL,\r\n",
                "    [startDate] DATETIME,\r\n",
                "    [endDate] DATETIME,\r\n",
                "    [episodes] INT\r\n",
                "    -- Specify more columns here\r\n",
                ");\r\n",
                "GO\r\n",
                "\r\n",
                "-- Create a new table called '[tribes]' in schema '[dbo]'\r\n",
                "-- Drop the table if it already exists\r\n",
                "IF OBJECT_ID('[dbo].[tribes]', 'U') IS NOT NULL\r\n",
                "DROP TABLE [dbo].[tribes]\r\n",
                "GO\r\n",
                "-- Create the table in the specified schema\r\n",
                "CREATE TABLE [dbo].[tribes]\r\n",
                "(\r\n",
                "    [id] INT NOT NULL PRIMARY KEY IDENTITY, -- Primary Key column\r\n",
                "    [name] NVARCHAR(50) NOT NULL,\r\n",
                "    [seasonId] INT NOT NULL\r\n",
                "    -- Specify more columns here\r\n",
                ");\r\n",
                "GO\r\n",
                "\r\n",
                "-- Create a new table called '[eventTribe]' in schema '[dbo]'\r\n",
                "-- Drop the table if it already exists\r\n",
                "IF OBJECT_ID('[dbo].[eventTribe]', 'U') IS NOT NULL\r\n",
                "DROP TABLE [dbo].[eventTribe]\r\n",
                "GO\r\n",
                "-- Create the table in the specified schema\r\n",
                "CREATE TABLE [dbo].[eventTribe]\r\n",
                "(\r\n",
                "    [id] INT NOT NULL PRIMARY KEY IDENTITY, -- Primary Key column\r\n",
                "    [participantId] INT NOT NULL,\r\n",
                "    [tribeId] INT NOT NULL,\r\n",
                "    [event] NVARCHAR(50) NOT NULL,\r\n",
                "    [episode] int\r\n",
                "    -- Specify more columns here\r\n",
                ");\r\n",
                "GO\r\n",
                "\r\n",
                "-- Create a new table called '[eventParticipant]' in schema '[dbo]'\r\n",
                "-- Drop the table if it already exists\r\n",
                "IF OBJECT_ID('[dbo].[eventParticipant]', 'U') IS NOT NULL\r\n",
                "DROP TABLE [dbo].[eventParticipant]\r\n",
                "GO\r\n",
                "-- Create the table in the specified schema\r\n",
                "CREATE TABLE [dbo].[eventParticipant]\r\n",
                "(\r\n",
                "    [id] INT NOT NULL PRIMARY KEY IDENTITY, -- Primary Key column\r\n",
                "    [participantId] INT NOT NULL,\r\n",
                "    [tribeId] INT NOT NULL,\r\n",
                "    [event] NVARCHAR(50) NOT NULL,\r\n",
                "    [episode] int\r\n",
                "    -- Specify more columns here\r\n",
                ");\r\n",
                "GO\r\n",
                "\r\n",
                "-- Create a new table called '[city]' in schema '[dbo]'\r\n",
                "-- Drop the table if it already exists\r\n",
                "IF OBJECT_ID('[dbo].[city]', 'U') IS NOT NULL\r\n",
                "DROP TABLE [dbo].[city]\r\n",
                "GO\r\n",
                "-- Create the table in the specified schema\r\n",
                "CREATE TABLE [dbo].[city]\r\n",
                "(\r\n",
                "    [id] INT NOT NULL PRIMARY KEY IDENTITY, -- Primary Key column\r\n",
                "    [name] NVARCHAR(50) NOT NULL,\r\n",
                "    CONSTRAINT AK_name UNIQUE(name)\r\n",
                ");\r\n",
                "GO\r\n",
                "\r\n",
                "-- Create a new table called '[participant]' in schema '[dbo]'\r\n",
                "-- Drop the table if it already exists\r\n",
                "IF OBJECT_ID('[dbo].[participant]', 'U') IS NOT NULL\r\n",
                "DROP TABLE [dbo].[participant]\r\n",
                "GO\r\n",
                "-- Create the table in the specified schema\r\n",
                "CREATE TABLE [dbo].[participant]\r\n",
                "(\r\n",
                "    [id] INT NOT NULL PRIMARY KEY IDENTITY, -- Primary Key column\r\n",
                "    [name] NVARCHAR(50) NOT NULL,\r\n",
                "    [sex] VARCHAR (1),\r\n",
                "    [age] INT,\r\n",
                "    [cityId] INT\r\n",
                "    -- Specify more columns here\r\n",
                ");\r\n",
                "GO"
            ],
            "metadata": {
                "azdata_cell_guid": "01ba4e0e-6542-4e08-a73e-9de7802b0809",
                "language": "sql"
            },
            "outputs": [
                {
                    "output_type": "display_data",
                    "data": {
                        "text/html": "Commands completed successfully."
                    },
                    "metadata": {}
                },
                {
                    "output_type": "display_data",
                    "data": {
                        "text/html": "Commands completed successfully."
                    },
                    "metadata": {}
                },
                {
                    "output_type": "display_data",
                    "data": {
                        "text/html": "Commands completed successfully."
                    },
                    "metadata": {}
                },
                {
                    "output_type": "display_data",
                    "data": {
                        "text/html": "Commands completed successfully."
                    },
                    "metadata": {}
                },
                {
                    "output_type": "display_data",
                    "data": {
                        "text/html": "Commands completed successfully."
                    },
                    "metadata": {}
                },
                {
                    "output_type": "display_data",
                    "data": {
                        "text/html": "Commands completed successfully."
                    },
                    "metadata": {}
                },
                {
                    "output_type": "display_data",
                    "data": {
                        "text/html": "Commands completed successfully."
                    },
                    "metadata": {}
                },
                {
                    "output_type": "display_data",
                    "data": {
                        "text/html": "Commands completed successfully."
                    },
                    "metadata": {}
                },
                {
                    "output_type": "display_data",
                    "data": {
                        "text/html": "Commands completed successfully."
                    },
                    "metadata": {}
                },
                {
                    "output_type": "display_data",
                    "data": {
                        "text/html": "Commands completed successfully."
                    },
                    "metadata": {}
                },
                {
                    "output_type": "display_data",
                    "data": {
                        "text/html": "Commands completed successfully."
                    },
                    "metadata": {}
                },
                {
                    "output_type": "display_data",
                    "data": {
                        "text/html": "Commands completed successfully."
                    },
                    "metadata": {}
                },
                {
                    "output_type": "display_data",
                    "data": {
                        "text/html": "Commands completed successfully."
                    },
                    "metadata": {}
                },
                {
                    "output_type": "display_data",
                    "data": {
                        "text/html": "Commands completed successfully."
                    },
                    "metadata": {}
                },
                {
                    "output_type": "display_data",
                    "data": {
                        "text/html": "Commands completed successfully."
                    },
                    "metadata": {}
                },
                {
                    "output_type": "display_data",
                    "data": {
                        "text/html": "Total execution time: 00:00:01.269"
                    },
                    "metadata": {}
                }
            ],
            "execution_count": 45
        },
        {
            "cell_type": "code",
            "source": [
                "INSERT INTO [dbo].[season] ([name], [startDate], [endDate],[episodes]) VALUES (1, '20190906 00:00:00 AM', '20191206 00:00:00 AM', 66);\r\n",
                "INSERT INTO [dbo].[season] ([name], [startDate], [endDate],[episodes]) VALUES (2, '20200906 00:00:00 AM', '20201204 00:00:00 AM', 66);\r\n",
                "INSERT INTO [dbo].[season] ([name], [startDate], [endDate],[episodes]) VALUES (3, '20210904 00:00:00 AM', '20211203 00:00:00 AM', 67);\r\n",
                "INSERT INTO [dbo].[season] ([name], [startDate], [endDate],[episodes]) VALUES (4, '20220903 00:00:00 AM', '20221129 00:00:00 AM', 63);\r\n",
                "INSERT INTO [dbo].[season] ([name], [startDate], [endDate],[episodes]) VALUES (5, '20230902 00:00:00 AM', '20231204 00:00:00 AM', 66);\r\n",
                "\r\n",
                "INSERT INTO [dbo].[tribes] ([name],[seasonId]) VALUES (N'Прабългари',1);\r\n",
                "INSERT INTO [dbo].[tribes] ([name],[seasonId]) VALUES (N'Траки',1);\r\n",
                "INSERT INTO [dbo].[tribes] ([name],[seasonId]) VALUES (N'Славяни',1);\r\n",
                "\r\n",
                "INSERT INTO [dbo].[tribes] ([name],[seasonId]) VALUES (N'Ловци',2);\r\n",
                "INSERT INTO [dbo].[tribes] ([name],[seasonId]) VALUES (N'Жътвари',2);\r\n",
                "INSERT INTO [dbo].[tribes] ([name],[seasonId]) VALUES (N'Рибари',2);\r\n",
                "\r\n",
                "INSERT INTO [dbo].[tribes] ([name],[seasonId]) VALUES (N'Бойци',3);\r\n",
                "INSERT INTO [dbo].[tribes] ([name],[seasonId]) VALUES (N'Приключенци',3);\r\n",
                "INSERT INTO [dbo].[tribes] ([name],[seasonId]) VALUES (N'Жълти',3);\r\n",
                "\r\n",
                "INSERT INTO [dbo].[tribes] ([name],[seasonId]) VALUES (N'Безстрашни',4);\r\n",
                "INSERT INTO [dbo].[tribes] ([name],[seasonId]) VALUES (N'Непобедими',4);\r\n",
                "INSERT INTO [dbo].[tribes] ([name],[seasonId]) VALUES (N'Супергерои',4);\r\n",
                "INSERT INTO [dbo].[tribes] ([name],[seasonId]) VALUES (N'Резерви',4);\r\n",
                "\r\n",
                "INSERT INTO [dbo].[tribes] ([name],[seasonId]) VALUES (N'Старейшини',5);\r\n",
                "INSERT INTO [dbo].[tribes] ([name],[seasonId]) VALUES (N'Гладиатори',5);\r\n",
                "INSERT INTO [dbo].[tribes] ([name],[seasonId]) VALUES (N'Амазонки',5);\r\n",
                "INSERT INTO [dbo].[tribes] ([name],[seasonId]) VALUES (N'Изгубени',5);\r\n",
                "\r\n",
                "INSERT INTO [dbo].[city] ([name]) VALUES (N'София');\r\n",
                "INSERT INTO [dbo].[city] ([name]) VALUES (N'Ботевград');\r\n",
                "INSERT INTO [dbo].[city] ([name]) VALUES (N'Варна');\r\n",
                "INSERT INTO [dbo].[city] ([name]) VALUES (N'Петрич');\r\n",
                "INSERT INTO [dbo].[city] ([name]) VALUES (N'Тополовград');\r\n",
                "INSERT INTO [dbo].[city] ([name]) VALUES (N'Монтана');\r\n",
                "INSERT INTO [dbo].[city] ([name]) VALUES (N'Ямбол');\r\n",
                "INSERT INTO [dbo].[city] ([name]) VALUES (N'Бургас');\r\n",
                "INSERT INTO [dbo].[city] ([name]) VALUES (N'Благоевград');\r\n",
                "INSERT INTO [dbo].[city] ([name]) VALUES (N'Кавала');\r\n",
                "INSERT INTO [dbo].[city] ([name]) VALUES (N'Кюстендил');\r\n",
                "INSERT INTO [dbo].[city] ([name]) VALUES (N'Несебър');\r\n",
                "INSERT INTO [dbo].[city] ([name]) VALUES (N'Радомир');\r\n",
                "INSERT INTO [dbo].[city] ([name]) VALUES (N'Берлин');\r\n",
                "INSERT INTO [dbo].[city] ([name]) VALUES (N'Разград');\r\n",
                "INSERT INTO [dbo].[city] ([name]) VALUES (N'Плевен');\r\n",
                "INSERT INTO [dbo].[city] ([name]) VALUES (N'Карнобат');\r\n",
                "INSERT INTO [dbo].[city] ([name]) VALUES (N'Велико Търново');\r\n",
                "INSERT INTO [dbo].[city] ([name]) VALUES (N'Панагюрище');\r\n",
                "INSERT INTO [dbo].[city] ([name]) VALUES (N'Сливен');\r\n",
                "INSERT INTO [dbo].[city] ([name]) VALUES (N'Славяново');\r\n",
                "INSERT INTO [dbo].[city] ([name]) VALUES (N'Русе');\r\n",
                "INSERT INTO [dbo].[city] ([name]) VALUES (N'Йерусалим');\r\n",
                "INSERT INTO [dbo].[city] ([name]) VALUES (N'Харманли');\r\n",
                "INSERT INTO [dbo].[city] ([name]) VALUES (N'Златоград');\r\n",
                "INSERT INTO [dbo].[city] ([name]) VALUES (N'Карлово');\r\n",
                "INSERT INTO [dbo].[city] ([name]) VALUES (N'Самоков');\r\n",
                "INSERT INTO [dbo].[city] ([name]) VALUES (N'Белград');\r\n",
                "INSERT INTO [dbo].[city] ([name]) VALUES (N'Ловеч');\r\n",
                "INSERT INTO [dbo].[city] ([name]) VALUES (N'Добрич');\r\n",
                "INSERT INTO [dbo].[city] ([name]) VALUES (N'Пловдив');\r\n",
                "INSERT INTO [dbo].[city] ([name]) VALUES (N'Оксфорд');\r\n",
                "INSERT INTO [dbo].[city] ([name]) VALUES (N'Пазарджик');\r\n",
                "INSERT INTO [dbo].[city] ([name]) VALUES (N'Мездра');\r\n",
                "INSERT INTO [dbo].[city] ([name]) VALUES (N'Стара Загора');\r\n",
                "INSERT INTO [dbo].[city] ([name]) VALUES (N'Хасково');\r\n",
                "INSERT INTO [dbo].[city] ([name]) VALUES (N'Полша');\r\n",
                "INSERT INTO [dbo].[city] ([name]) VALUES (N'Казахстан');"
            ],
            "metadata": {
                "language": "sql",
                "azdata_cell_guid": "aa91e373-234c-44b1-ad8a-a58066ed8592",
                "tags": []
            },
            "outputs": [
                {
                    "output_type": "display_data",
                    "data": {
                        "text/html": "(1 row affected)"
                    },
                    "metadata": {}
                },
                {
                    "output_type": "display_data",
                    "data": {
                        "text/html": "(1 row affected)"
                    },
                    "metadata": {}
                },
                {
                    "output_type": "display_data",
                    "data": {
                        "text/html": "(1 row affected)"
                    },
                    "metadata": {}
                },
                {
                    "output_type": "display_data",
                    "data": {
                        "text/html": "(1 row affected)"
                    },
                    "metadata": {}
                },
                {
                    "output_type": "display_data",
                    "data": {
                        "text/html": "(1 row affected)"
                    },
                    "metadata": {}
                },
                {
                    "output_type": "display_data",
                    "data": {
                        "text/html": "(1 row affected)"
                    },
                    "metadata": {}
                },
                {
                    "output_type": "display_data",
                    "data": {
                        "text/html": "(1 row affected)"
                    },
                    "metadata": {}
                },
                {
                    "output_type": "display_data",
                    "data": {
                        "text/html": "(1 row affected)"
                    },
                    "metadata": {}
                },
                {
                    "output_type": "display_data",
                    "data": {
                        "text/html": "(1 row affected)"
                    },
                    "metadata": {}
                },
                {
                    "output_type": "display_data",
                    "data": {
                        "text/html": "(1 row affected)"
                    },
                    "metadata": {}
                },
                {
                    "output_type": "display_data",
                    "data": {
                        "text/html": "(1 row affected)"
                    },
                    "metadata": {}
                },
                {
                    "output_type": "display_data",
                    "data": {
                        "text/html": "(1 row affected)"
                    },
                    "metadata": {}
                },
                {
                    "output_type": "display_data",
                    "data": {
                        "text/html": "(1 row affected)"
                    },
                    "metadata": {}
                },
                {
                    "output_type": "display_data",
                    "data": {
                        "text/html": "(1 row affected)"
                    },
                    "metadata": {}
                },
                {
                    "output_type": "display_data",
                    "data": {
                        "text/html": "(1 row affected)"
                    },
                    "metadata": {}
                },
                {
                    "output_type": "display_data",
                    "data": {
                        "text/html": "(1 row affected)"
                    },
                    "metadata": {}
                },
                {
                    "output_type": "display_data",
                    "data": {
                        "text/html": "(1 row affected)"
                    },
                    "metadata": {}
                },
                {
                    "output_type": "display_data",
                    "data": {
                        "text/html": "(1 row affected)"
                    },
                    "metadata": {}
                },
                {
                    "output_type": "display_data",
                    "data": {
                        "text/html": "(1 row affected)"
                    },
                    "metadata": {}
                },
                {
                    "output_type": "display_data",
                    "data": {
                        "text/html": "(1 row affected)"
                    },
                    "metadata": {}
                },
                {
                    "output_type": "display_data",
                    "data": {
                        "text/html": "(1 row affected)"
                    },
                    "metadata": {}
                },
                {
                    "output_type": "display_data",
                    "data": {
                        "text/html": "(1 row affected)"
                    },
                    "metadata": {}
                },
                {
                    "output_type": "display_data",
                    "data": {
                        "text/html": "(1 row affected)"
                    },
                    "metadata": {}
                },
                {
                    "output_type": "display_data",
                    "data": {
                        "text/html": "(1 row affected)"
                    },
                    "metadata": {}
                },
                {
                    "output_type": "display_data",
                    "data": {
                        "text/html": "(1 row affected)"
                    },
                    "metadata": {}
                },
                {
                    "output_type": "display_data",
                    "data": {
                        "text/html": "(1 row affected)"
                    },
                    "metadata": {}
                },
                {
                    "output_type": "display_data",
                    "data": {
                        "text/html": "(1 row affected)"
                    },
                    "metadata": {}
                },
                {
                    "output_type": "display_data",
                    "data": {
                        "text/html": "(1 row affected)"
                    },
                    "metadata": {}
                },
                {
                    "output_type": "display_data",
                    "data": {
                        "text/html": "(1 row affected)"
                    },
                    "metadata": {}
                },
                {
                    "output_type": "display_data",
                    "data": {
                        "text/html": "(1 row affected)"
                    },
                    "metadata": {}
                },
                {
                    "output_type": "display_data",
                    "data": {
                        "text/html": "(1 row affected)"
                    },
                    "metadata": {}
                },
                {
                    "output_type": "display_data",
                    "data": {
                        "text/html": "(1 row affected)"
                    },
                    "metadata": {}
                },
                {
                    "output_type": "display_data",
                    "data": {
                        "text/html": "(1 row affected)"
                    },
                    "metadata": {}
                },
                {
                    "output_type": "display_data",
                    "data": {
                        "text/html": "(1 row affected)"
                    },
                    "metadata": {}
                },
                {
                    "output_type": "display_data",
                    "data": {
                        "text/html": "(1 row affected)"
                    },
                    "metadata": {}
                },
                {
                    "output_type": "display_data",
                    "data": {
                        "text/html": "(1 row affected)"
                    },
                    "metadata": {}
                },
                {
                    "output_type": "display_data",
                    "data": {
                        "text/html": "(1 row affected)"
                    },
                    "metadata": {}
                },
                {
                    "output_type": "display_data",
                    "data": {
                        "text/html": "(1 row affected)"
                    },
                    "metadata": {}
                },
                {
                    "output_type": "display_data",
                    "data": {
                        "text/html": "(1 row affected)"
                    },
                    "metadata": {}
                },
                {
                    "output_type": "display_data",
                    "data": {
                        "text/html": "(1 row affected)"
                    },
                    "metadata": {}
                },
                {
                    "output_type": "display_data",
                    "data": {
                        "text/html": "(1 row affected)"
                    },
                    "metadata": {}
                },
                {
                    "output_type": "display_data",
                    "data": {
                        "text/html": "(1 row affected)"
                    },
                    "metadata": {}
                },
                {
                    "output_type": "display_data",
                    "data": {
                        "text/html": "(1 row affected)"
                    },
                    "metadata": {}
                },
                {
                    "output_type": "display_data",
                    "data": {
                        "text/html": "(1 row affected)"
                    },
                    "metadata": {}
                },
                {
                    "output_type": "display_data",
                    "data": {
                        "text/html": "(1 row affected)"
                    },
                    "metadata": {}
                },
                {
                    "output_type": "display_data",
                    "data": {
                        "text/html": "(1 row affected)"
                    },
                    "metadata": {}
                },
                {
                    "output_type": "display_data",
                    "data": {
                        "text/html": "(1 row affected)"
                    },
                    "metadata": {}
                },
                {
                    "output_type": "display_data",
                    "data": {
                        "text/html": "(1 row affected)"
                    },
                    "metadata": {}
                },
                {
                    "output_type": "display_data",
                    "data": {
                        "text/html": "(1 row affected)"
                    },
                    "metadata": {}
                },
                {
                    "output_type": "display_data",
                    "data": {
                        "text/html": "(1 row affected)"
                    },
                    "metadata": {}
                },
                {
                    "output_type": "display_data",
                    "data": {
                        "text/html": "(1 row affected)"
                    },
                    "metadata": {}
                },
                {
                    "output_type": "display_data",
                    "data": {
                        "text/html": "(1 row affected)"
                    },
                    "metadata": {}
                },
                {
                    "output_type": "display_data",
                    "data": {
                        "text/html": "(1 row affected)"
                    },
                    "metadata": {}
                },
                {
                    "output_type": "display_data",
                    "data": {
                        "text/html": "(1 row affected)"
                    },
                    "metadata": {}
                },
                {
                    "output_type": "display_data",
                    "data": {
                        "text/html": "(1 row affected)"
                    },
                    "metadata": {}
                },
                {
                    "output_type": "display_data",
                    "data": {
                        "text/html": "(1 row affected)"
                    },
                    "metadata": {}
                },
                {
                    "output_type": "display_data",
                    "data": {
                        "text/html": "(1 row affected)"
                    },
                    "metadata": {}
                },
                {
                    "output_type": "display_data",
                    "data": {
                        "text/html": "(1 row affected)"
                    },
                    "metadata": {}
                },
                {
                    "output_type": "display_data",
                    "data": {
                        "text/html": "(1 row affected)"
                    },
                    "metadata": {}
                },
                {
                    "output_type": "display_data",
                    "data": {
                        "text/html": "(1 row affected)"
                    },
                    "metadata": {}
                },
                {
                    "output_type": "display_data",
                    "data": {
                        "text/html": "Total execution time: 00:00:00.816"
                    },
                    "metadata": {}
                }
            ],
            "execution_count": 46
        },
        {
            "cell_type": "code",
            "source": [
                "/*Season 1*/\r\n",
                "\r\n",
                "INSERT INTO [dbo].[participant] ([name], [sex], [age], [cityId]) VALUES (N'Анита Аризанова', 'f', 35, 1);\r\n",
                "INSERT INTO [dbo].[participant] ([name], [sex], [age], [cityId]) VALUES (N'Гичка Пътникова', 'f', 25, 4);\r\n",
                "INSERT INTO [dbo].[participant] ([name], [sex], [age], [cityId]) VALUES (N'Илиян Миланов', 'm', 27, 5);\r\n",
                "INSERT INTO [dbo].[participant] ([name], [sex], [age], [cityId]) VALUES (N'Йоана Емилова', 'f', 20, 6);\r\n",
                "INSERT INTO [dbo].[participant] ([name], [sex], [age], [cityId]) VALUES (N'Георги Иванов', 'm', 28, 7);\r\n",
                "INSERT INTO [dbo].[participant] ([name], [sex], [age], [cityId]) VALUES (N'Бояна Генова', 'm', 27, 8);\r\n",
                "INSERT INTO [dbo].[participant] ([name], [sex], [age], [cityId]) VALUES (N'Марешка Глущук', 'f', 23, 3);\r\n",
                "INSERT INTO [dbo].[participant] ([name], [sex], [age], [cityId]) VALUES (N'Атанас Бръндев', 'm', 29, 9);\r\n",
                "INSERT INTO [dbo].[participant] ([name], [sex], [age], [cityId]) VALUES (N'Амелия-Мира Маркова', 'f', 27, 1);\r\n",
                "INSERT INTO [dbo].[participant] ([name], [sex], [age], [cityId]) VALUES (N'Георгиос Сърбинов', 'm', 32, 10);\r\n",
                "INSERT INTO [dbo].[participant] ([name], [sex], [age], [cityId]) VALUES (N'Александър Кирилов', 'm', 32, 4);\r\n",
                "INSERT INTO [dbo].[participant] ([name], [sex], [age], [cityId]) VALUES (N'Стоян Вълчев', 'm', 23, 12);\r\n",
                "INSERT INTO [dbo].[participant] ([name], [sex], [age], [cityId]) VALUES (N'Роберта Стойнева', 'm', 23, 13);\r\n",
                "INSERT INTO [dbo].[participant] ([name], [sex], [age], [cityId]) VALUES (N'Март Лачев', 'm', 25, 1);\r\n",
                "INSERT INTO [dbo].[participant] ([name], [sex], [age], [cityId]) VALUES (N'Елена Иванова', 'f', 32, 1);\r\n",
                "INSERT INTO [dbo].[participant] ([name], [sex], [age], [cityId]) VALUES (N'Стефания Иванова', 'f', 32, 1);\r\n",
                "INSERT INTO [dbo].[participant] ([name], [sex], [age], [cityId]) VALUES (N'Томас Нацидис', 'm', 25, 14);\r\n",
                "INSERT INTO [dbo].[participant] ([name], [sex], [age], [cityId]) VALUES (N'Венцислава Панева', 'f', 34, 3);\r\n",
                "INSERT INTO [dbo].[participant] ([name], [sex], [age], [cityId]) VALUES (N'Радостина Бохорова', 'f', 39, 9);\r\n",
                "INSERT INTO [dbo].[participant] ([name], [sex], [age], [cityId]) VALUES (N'Пламен Младенов', 'm', 31, 1);\r\n",
                "INSERT INTO [dbo].[participant] ([name], [sex], [age], [cityId]) VALUES (N'Анна-Мария Крайчева', 'f', 27, 1);\r\n",
                "INSERT INTO [dbo].[participant] ([name], [sex], [age], [cityId]) VALUES (N'Веселин Панчев', 'm', 32, 15);\r\n",
                "INSERT INTO [dbo].[participant] ([name], [sex], [age], [cityId]) VALUES (N'Юлиян Златев', 'm', 30, 2);\r\n",
                "INSERT INTO [dbo].[participant] ([name], [sex], [age], [cityId]) VALUES (N'Добрин Николов', 'm', 27, 17);\r\n",
                "\r\n",
                "INSERT INTO [dbo].[eventTribe] ([participantId], [tribeId], [event], [episode]) VALUES (1, 1, 'joins', 1);\r\n",
                "INSERT INTO [dbo].[eventTribe] ([participantId], [tribeId], [event], [episode]) VALUES (2, 1, 'joins', 1);\r\n",
                "INSERT INTO [dbo].[eventTribe] ([participantId], [tribeId], [event], [episode]) VALUES (5, 1, 'joins', 1);\r\n",
                "INSERT INTO [dbo].[eventTribe] ([participantId], [tribeId], [event], [episode]) VALUES (12, 1, 'joins', 1);\r\n",
                "INSERT INTO [dbo].[eventTribe] ([participantId], [tribeId], [event], [episode]) VALUES (13, 1, 'joins', 1);\r\n",
                "INSERT INTO [dbo].[eventTribe] ([participantId], [tribeId], [event], [episode]) VALUES (18, 1, 'joins', 1);\r\n",
                "INSERT INTO [dbo].[eventTribe] ([participantId], [tribeId], [event], [episode]) VALUES (20, 1, 'joins', 1);\r\n",
                "INSERT INTO [dbo].[eventTribe] ([participantId], [tribeId], [event], [episode]) VALUES (23, 1, 'joins', 1);\r\n",
                "\r\n",
                "INSERT INTO [dbo].[eventTribe] ([participantId], [tribeId], [event], [episode]) VALUES (11, 2, 'joins', 1);\r\n",
                "INSERT INTO [dbo].[eventTribe] ([participantId], [tribeId], [event], [episode]) VALUES (21, 2, 'joins', 1);\r\n",
                "INSERT INTO [dbo].[eventTribe] ([participantId], [tribeId], [event], [episode]) VALUES (8, 2, 'joins', 1);\r\n",
                "INSERT INTO [dbo].[eventTribe] ([participantId], [tribeId], [event], [episode]) VALUES (24, 2, 'joins', 1);\r\n",
                "INSERT INTO [dbo].[eventTribe] ([participantId], [tribeId], [event], [episode]) VALUES (15, 2, 'joins', 1);\r\n",
                "INSERT INTO [dbo].[eventTribe] ([participantId], [tribeId], [event], [episode]) VALUES (3, 2, 'joins', 1);\r\n",
                "INSERT INTO [dbo].[eventTribe] ([participantId], [tribeId], [event], [episode]) VALUES (19, 2, 'joins', 1);\r\n",
                "INSERT INTO [dbo].[eventTribe] ([participantId], [tribeId], [event], [episode]) VALUES (16, 2, 'joins', 1);\r\n",
                "\r\n",
                "INSERT INTO [dbo].[eventTribe] ([participantId], [tribeId], [event], [episode]) VALUES (9, 3, 'joins', 1);\r\n",
                "INSERT INTO [dbo].[eventTribe] ([participantId], [tribeId], [event], [episode]) VALUES (6, 3, 'joins', 1);\r\n",
                "INSERT INTO [dbo].[eventTribe] ([participantId], [tribeId], [event], [episode]) VALUES (22, 3, 'joins', 1);\r\n",
                "INSERT INTO [dbo].[eventTribe] ([participantId], [tribeId], [event], [episode]) VALUES (10, 3, 'joins', 1);\r\n",
                "INSERT INTO [dbo].[eventTribe] ([participantId], [tribeId], [event], [episode]) VALUES (4, 3, 'joins', 1);\r\n",
                "INSERT INTO [dbo].[eventTribe] ([participantId], [tribeId], [event], [episode]) VALUES (7, 3, 'joins', 1);\r\n",
                "INSERT INTO [dbo].[eventTribe] ([participantId], [tribeId], [event], [episode]) VALUES (14, 3, 'joins', 1);\r\n",
                "INSERT INTO [dbo].[eventTribe] ([participantId], [tribeId], [event], [episode]) VALUES (17, 3, 'joins', 1);\r\n",
                "\r\n",
                "/*Season 2*/\r\n",
                "\r\n",
                "INSERT INTO [dbo].[participant] ([name], [sex], [age], [cityId]) VALUES (N'Пламен Диков', 'm', 21, 1);\r\n",
                "INSERT INTO [dbo].[participant] ([name], [sex], [age], [cityId]) VALUES (N'Елена Василева', 'f', 20, 2);\r\n",
                "INSERT INTO [dbo].[participant] ([name], [sex], [age], [cityId]) VALUES (N'Ева Карамфилова', 'f', 24, 3);\r\n",
                "INSERT INTO [dbo].[participant] ([name], [sex], [age], [cityId]) VALUES (N'Мая Тановска', 'f', 30, 1);\r\n",
                "INSERT INTO [dbo].[participant] ([name], [sex], [age], [cityId]) VALUES (N'Иван Драганов', 'm', 38, 1);\r\n",
                "INSERT INTO [dbo].[participant] ([name], [sex], [age], [cityId]) VALUES (N'Димитър Банчев', 'm', 33, 20);\r\n",
                "INSERT INTO [dbo].[participant] ([name], [sex], [age], [cityId]) VALUES (N'Ивайло Тодоров', 'm', 25, 20);\r\n",
                "INSERT INTO [dbo].[participant] ([name], [sex], [age], [cityId]) VALUES (N'Христа Аспарухова', 'f', 35, 16);\r\n",
                "INSERT INTO [dbo].[participant] ([name], [sex], [age], [cityId]) VALUES (N'Сюзън Георгиева', 'f', 20, 1);\r\n",
                "INSERT INTO [dbo].[participant] ([name], [sex], [age], [cityId]) VALUES (N'Станимира Неделчева', 'f', 25, 8);\r\n",
                "\r\n",
                "INSERT INTO [dbo].[participant] ([name], [sex], [age], [cityId]) VALUES (N'Александър Димитров', 'm', 32, 3);\r\n",
                "INSERT INTO [dbo].[participant] ([name], [sex], [age], [cityId]) VALUES (N'Ивана Дилова', 'f', 21, 1);\r\n",
                "INSERT INTO [dbo].[participant] ([name], [sex], [age], [cityId]) VALUES (N'Симона Станиславова', 'f', 28, 29);\r\n",
                "INSERT INTO [dbo].[participant] ([name], [sex], [age], [cityId]) VALUES (N'Владислав Стоименов', 'm', 31, 11);\r\n",
                "INSERT INTO [dbo].[participant] ([name], [sex], [age], [cityId]) VALUES (N'Николай Стефанов', 'm', 25, 1);\r\n",
                "INSERT INTO [dbo].[participant] ([name], [sex], [age], [cityId]) VALUES (N'Любомир Костов', 'm', 29, 4);\r\n",
                "INSERT INTO [dbo].[participant] ([name], [sex], [age], [cityId]) VALUES (N'Чудомир Григоров', 'm', 31, 31);\r\n",
                "\r\n",
                "INSERT INTO [dbo].[participant] ([name], [sex], [age], [cityId]) VALUES (N'Тодор Желязков', 'm', 33, 8);\r\n",
                "INSERT INTO [dbo].[participant] ([name], [sex], [age], [cityId]) VALUES (N'Екатерина Лазарова', 'f', 29, 1);\r\n",
                "INSERT INTO [dbo].[participant] ([name], [sex], [age], [cityId]) VALUES (N'Джералдин Тодорова', 'f', 18, 32);\r\n",
                "INSERT INTO [dbo].[participant] ([name], [sex], [age], [cityId]) VALUES (N'Николай Лазаринов', 'm', 23, 31);\r\n",
                "INSERT INTO [dbo].[participant] ([name], [sex], [age], [cityId]) VALUES (N'Йоанна Лазарова', 'f', 22, 1);\r\n",
                "INSERT INTO [dbo].[participant] ([name], [sex], [age], [cityId]) VALUES (N'Вайс Сайфи', 'f', 28, 33);\r\n",
                "INSERT INTO [dbo].[participant] ([name], [sex], [age], [cityId]) VALUES (N'Ваня Запрянова', 'f', 27, 17);\r\n",
                "INSERT INTO [dbo].[participant] ([name], [sex], [age], [cityId]) VALUES (N'Борислав Лазаров', 'm', 27, 1);\r\n",
                "INSERT INTO [dbo].[participant] ([name], [sex], [age], [cityId]) VALUES (N'Милен Цветков', 'm', 31, 33);\r\n",
                "\r\n",
                "INSERT INTO [dbo].[eventTribe] ([participantId], [tribeId], [event], [episode]) VALUES (25, 4, 'joins', 1);\r\n",
                "INSERT INTO [dbo].[eventTribe] ([participantId], [tribeId], [event], [episode]) VALUES (26, 5, 'joins', 1);\r\n",
                "INSERT INTO [dbo].[eventTribe] ([participantId], [tribeId], [event], [episode]) VALUES (27, 4, 'joins', 1);\r\n",
                "INSERT INTO [dbo].[eventTribe] ([participantId], [tribeId], [event], [episode]) VALUES (28, 6, 'joins', 1);\r\n",
                "INSERT INTO [dbo].[eventTribe] ([participantId], [tribeId], [event], [episode]) VALUES (29, 6, 'joins', 1);\r\n",
                "INSERT INTO [dbo].[eventTribe] ([participantId], [tribeId], [event], [episode]) VALUES (30, 5, 'joins', 1);\r\n",
                "INSERT INTO [dbo].[eventTribe] ([participantId], [tribeId], [event], [episode]) VALUES (31, 6, 'joins', 1);\r\n",
                "INSERT INTO [dbo].[eventTribe] ([participantId], [tribeId], [event], [episode]) VALUES (32, 6, 'joins', 1);\r\n",
                "INSERT INTO [dbo].[eventTribe] ([participantId], [tribeId], [event], [episode]) VALUES (33, 5, 'joins', 1);\r\n",
                "INSERT INTO [dbo].[eventTribe] ([participantId], [tribeId], [event], [episode]) VALUES (34, 6, 'joins', 1);\r\n",
                "\r\n",
                "INSERT INTO [dbo].[eventTribe] ([participantId], [tribeId], [event], [episode]) VALUES (35, 6, 'joins', 1);\r\n",
                "INSERT INTO [dbo].[eventTribe] ([participantId], [tribeId], [event], [episode]) VALUES (36, 5, 'joins', 1);\r\n",
                "INSERT INTO [dbo].[eventTribe] ([participantId], [tribeId], [event], [episode]) VALUES (37, 4, 'joins', 1);\r\n",
                "INSERT INTO [dbo].[eventTribe] ([participantId], [tribeId], [event], [episode]) VALUES (38, 5, 'joins', 1);\r\n",
                "INSERT INTO [dbo].[eventTribe] ([participantId], [tribeId], [event], [episode]) VALUES (39, 4, 'joins', 1);\r\n",
                "INSERT INTO [dbo].[eventTribe] ([participantId], [tribeId], [event], [episode]) VALUES (40, 5, 'joins', 1);\r\n",
                "INSERT INTO [dbo].[eventTribe] ([participantId], [tribeId], [event], [episode]) VALUES (41, 6, 'joins', 1);\r\n",
                "\r\n",
                "INSERT INTO [dbo].[eventTribe] ([participantId], [tribeId], [event], [episode]) VALUES (42, 4, 'joins', 1);\r\n",
                "INSERT INTO [dbo].[eventTribe] ([participantId], [tribeId], [event], [episode]) VALUES (43, 6, 'joins', 1);\r\n",
                "INSERT INTO [dbo].[eventTribe] ([participantId], [tribeId], [event], [episode]) VALUES (44, 5, 'joins', 1);\r\n",
                "INSERT INTO [dbo].[eventTribe] ([participantId], [tribeId], [event], [episode]) VALUES (45, 4, 'joins', 1);\r\n",
                "INSERT INTO [dbo].[eventTribe] ([participantId], [tribeId], [event], [episode]) VALUES (46, 4, 'joins', 1);\r\n",
                "INSERT INTO [dbo].[eventTribe] ([participantId], [tribeId], [event], [episode]) VALUES (47, 5, 'joins', 1);\r\n",
                "INSERT INTO [dbo].[eventTribe] ([participantId], [tribeId], [event], [episode]) VALUES (48, 4, 'joins', 1);\r\n",
                "INSERT INTO [dbo].[eventTribe] ([participantId], [tribeId], [event], [episode]) VALUES (49, 4, 'joins', 1);\r\n",
                "INSERT INTO [dbo].[eventTribe] ([participantId], [tribeId], [event], [episode]) VALUES (50, 4, 'joins', 1);\r\n",
                "\r\n",
                "/*Season 3*/\r\n",
                "\r\n",
                "INSERT INTO [dbo].[participant] ([name], [sex], [age], [cityId]) SELECT N'Иван Булкин', 'm', 26, [id] FROM [dbo].[city] WHERE [dbo].[city].[name] = N'Пловдив';\r\n",
                "INSERT INTO [dbo].[participant] ([name], [sex], [age], [cityId]) SELECT N'Златозар Атанасов', 'm', 31, [id] FROM [dbo].[city] WHERE [dbo].[city].[name] = N'Пловдив';\r\n",
                "INSERT INTO [dbo].[participant] ([name], [sex], [age], [cityId]) SELECT N'Елия Мицова', 'f', 28, [id] FROM [dbo].[city] WHERE [dbo].[city].[name] = N'Кюстендил';\r\n",
                "INSERT INTO [dbo].[participant] ([name], [sex], [age], [cityId]) SELECT N'Станислава Петрова', 'f', 24, [id] FROM [dbo].[city] WHERE [dbo].[city].[name] = N'Бургас';\r\n",
                "INSERT INTO [dbo].[participant] ([name], [sex], [age], [cityId]) SELECT N'Виктория Петрова', 'f', 35, [id] FROM [dbo].[city] WHERE [dbo].[city].[name] = N'Русе';\r\n",
                "INSERT INTO [dbo].[participant] ([name], [sex], [age], [cityId]) SELECT N'Георги Братоев', 'm', 33, [id] FROM [dbo].[city] WHERE [dbo].[city].[name] = N'София';\r\n",
                "INSERT INTO [dbo].[participant] ([name], [sex], [age], [cityId]) SELECT N'Александър Цеков', 'm', 36, [id] FROM [dbo].[city] WHERE [dbo].[city].[name] = N'София';\r\n",
                "INSERT INTO [dbo].[participant] ([name], [sex], [age], [cityId]) SELECT N'Габриела Димитрова', 'f', 21, [id] FROM [dbo].[city] WHERE [dbo].[city].[name] = N'Варна';\r\n",
                "INSERT INTO [dbo].[participant] ([name], [sex], [age], [cityId]) SELECT N'Соня Милева', 'f', 43, [id] FROM [dbo].[city] WHERE [dbo].[city].[name] = N'София';\r\n",
                "INSERT INTO [dbo].[participant] ([name], [sex], [age], [cityId]) SELECT N'Елена Боянова', 'f', 27, [id] FROM [dbo].[city] WHERE [dbo].[city].[name] = N'Пловдив';\r\n",
                "INSERT INTO [dbo].[participant] ([name], [sex], [age], [cityId]) SELECT N'Семира Ал Сарай', 'f', 24, [id] FROM [dbo].[city] WHERE [dbo].[city].[name] = N'София';\r\n",
                "INSERT INTO [dbo].[participant] ([name], [sex], [age], [cityId]) SELECT N'Верислав Туджаров', 'm', 32, [id] FROM [dbo].[city] WHERE [dbo].[city].[name] = N'София';\r\n",
                "INSERT INTO [dbo].[participant] ([name], [sex], [age], [cityId]) SELECT N'Калоян Проданов', 'm', 32, [id] FROM [dbo].[city] WHERE [dbo].[city].[name] = N'Добрич';\r\n",
                "INSERT INTO [dbo].[participant] ([name], [sex], [age], [cityId]) SELECT N'Мартин Монев', 'm', 32, [id] FROM [dbo].[city] WHERE [dbo].[city].[name] = N'Стара Загора';\r\n",
                "\r\n",
                "INSERT INTO [dbo].[participant] ([name], [sex], [age], [cityId]) SELECT N'Стоян Димитров', 'm', 51, [id] FROM [dbo].[city] WHERE [dbo].[city].[name] = N'Ботевград';\r\n",
                "INSERT INTO [dbo].[participant] ([name], [sex], [age], [cityId]) SELECT N'Красима Кирова', 'f', 21, [id] FROM [dbo].[city] WHERE [dbo].[city].[name] = N'Варна';\r\n",
                "INSERT INTO [dbo].[participant] ([name], [sex], [age], [cityId]) SELECT N'Кремена Русева', 'f', 40, [id] FROM [dbo].[city] WHERE [dbo].[city].[name] = N'Хасково';\r\n",
                "INSERT INTO [dbo].[participant] ([name], [sex], [age], [cityId]) SELECT N'Валентин Мичев', 'm', 24, [id] FROM [dbo].[city] WHERE [dbo].[city].[name] = N'Пловдив';\r\n",
                "INSERT INTO [dbo].[participant] ([name], [sex], [age], [cityId]) SELECT N'Мани Ву Нанг Тъ', 'f', 34, [id] FROM [dbo].[city] WHERE [dbo].[city].[name] = N'Бургас';\r\n",
                "INSERT INTO [dbo].[participant] ([name], [sex], [age], [cityId]) SELECT N'Милена Мирева', 'f', 25, [id] FROM [dbo].[city] WHERE [dbo].[city].[name] = N'София';\r\n",
                "INSERT INTO [dbo].[participant] ([name], [sex], [age], [cityId]) SELECT N'Димитър Морунов', 'm', 32, [id] FROM [dbo].[city] WHERE [dbo].[city].[name] = N'Самоков';\r\n",
                "\r\n",
                "INSERT INTO [dbo].[participant] ([name], [sex], [age], [cityId]) SELECT N'Георги Рабухчиев', 'm', 24, [id] FROM [dbo].[city] WHERE [dbo].[city].[name] = N'Стара Загора';\r\n",
                "INSERT INTO [dbo].[participant] ([name], [sex], [age], [cityId]) SELECT N'Борис Налбантов', 'm', 27, [id] FROM [dbo].[city] WHERE [dbo].[city].[name] = N'София';\r\n",
                "INSERT INTO [dbo].[participant] ([name], [sex], [age], [cityId]) SELECT N'Елизабет Василева', 'f', 21, [id] FROM [dbo].[city] WHERE [dbo].[city].[name] = N'София';\r\n",
                "INSERT INTO [dbo].[participant] ([name], [sex], [age], [cityId]) SELECT N'Неделчо Богданов', 'm', 21, [id] FROM [dbo].[city] WHERE [dbo].[city].[name] = N'Несебър';\r\n",
                "INSERT INTO [dbo].[participant] ([name], [sex], [age], [cityId]) SELECT N'Стратимир Георгиев', 'm', 28, [id] FROM [dbo].[city] WHERE [dbo].[city].[name] = N'Варна';\r\n",
                "INSERT INTO [dbo].[participant] ([name], [sex], [age], [cityId]) SELECT N'Паулина Горанов', 'f', 24, [id] FROM [dbo].[city] WHERE [dbo].[city].[name] = N'Полша';\r\n",
                "INSERT INTO [dbo].[participant] ([name], [sex], [age], [cityId]) SELECT N'Симеон Станкович', 'm', 25, [id] FROM [dbo].[city] WHERE [dbo].[city].[name] = N'София';\r\n",
                "INSERT INTO [dbo].[participant] ([name], [sex], [age], [cityId]) SELECT N'Андрей Гридин', 'm', 28, [id] FROM [dbo].[city] WHERE [dbo].[city].[name] = N'Казахстан';\r\n",
                "\r\n",
                "INSERT INTO [dbo].[eventTribe] ([participantId], [tribeId], [event], [episode]) SELECT 53, [id], 'joins', 1 FROM [dbo].[tribes] WHERE [dbo].[tribes].[name] = N'Бойци';\r\n",
                "INSERT INTO [dbo].[eventTribe] ([participantId], [tribeId], [event], [episode]) SELECT 54, [id], 'joins', 1 FROM [dbo].[tribes] WHERE [dbo].[tribes].[name] = N'Бойци';\r\n",
                "INSERT INTO [dbo].[eventTribe] ([participantId], [tribeId], [event], [episode]) SELECT 55, [id], 'joins', 1 FROM [dbo].[tribes] WHERE [dbo].[tribes].[name] = N'Приключенци';\r\n",
                "INSERT INTO [dbo].[eventTribe] ([participantId], [tribeId], [event], [episode]) SELECT 56, [id], 'joins', 1 FROM [dbo].[tribes] WHERE [dbo].[tribes].[name] = N'Жълти';\r\n",
                "INSERT INTO [dbo].[eventTribe] ([participantId], [tribeId], [event], [episode]) SELECT 57, [id], 'joins', 1 FROM [dbo].[tribes] WHERE [dbo].[tribes].[name] = N'Жълти';\r\n",
                "INSERT INTO [dbo].[eventTribe] ([participantId], [tribeId], [event], [episode]) SELECT 58, [id], 'joins', 1 FROM [dbo].[tribes] WHERE [dbo].[tribes].[name] = N'Жълти';\r\n",
                "INSERT INTO [dbo].[eventTribe] ([participantId], [tribeId], [event], [episode]) SELECT 59, [id], 'joins', 1 FROM [dbo].[tribes] WHERE [dbo].[tribes].[name] = N'Бойци';\r\n",
                "INSERT INTO [dbo].[eventTribe] ([participantId], [tribeId], [event], [episode]) SELECT 60, [id], 'joins', 1 FROM [dbo].[tribes] WHERE [dbo].[tribes].[name] = N'Жълти';\r\n",
                "INSERT INTO [dbo].[eventTribe] ([participantId], [tribeId], [event], [episode]) SELECT 61, [id], 'joins', 1 FROM [dbo].[tribes] WHERE [dbo].[tribes].[name] = N'Приключенци';\r\n",
                "INSERT INTO [dbo].[eventTribe] ([participantId], [tribeId], [event], [episode]) SELECT 62, [id], 'joins', 1 FROM [dbo].[tribes] WHERE [dbo].[tribes].[name] = N'Приключенци';\r\n",
                "INSERT INTO [dbo].[eventTribe] ([participantId], [tribeId], [event], [episode]) SELECT 63, [id], 'joins', 1 FROM [dbo].[tribes] WHERE [dbo].[tribes].[name] = N'Бойци';\r\n",
                "INSERT INTO [dbo].[eventTribe] ([participantId], [tribeId], [event], [episode]) SELECT 64, [id], 'joins', 1 FROM [dbo].[tribes] WHERE [dbo].[tribes].[name] = N'Бойци';\r\n",
                "\r\n",
                "INSERT INTO [dbo].[eventTribe] ([participantId], [tribeId], [event], [episode]) SELECT 65, [id], 'joins', 1 FROM [dbo].[tribes] WHERE [dbo].[tribes].[name] = N'Бойци';\r\n",
                "INSERT INTO [dbo].[eventTribe] ([participantId], [tribeId], [event], [episode]) SELECT 66, [id], 'joins', 1 FROM [dbo].[tribes] WHERE [dbo].[tribes].[name] = N'Жълти';\r\n",
                "INSERT INTO [dbo].[eventTribe] ([participantId], [tribeId], [event], [episode]) SELECT 67, [id], 'joins', 1 FROM [dbo].[tribes] WHERE [dbo].[tribes].[name] = N'Бойци';\r\n",
                "INSERT INTO [dbo].[eventTribe] ([participantId], [tribeId], [event], [episode]) SELECT 68, [id], 'joins', 1 FROM [dbo].[tribes] WHERE [dbo].[tribes].[name] = N'Приключенци';\r\n",
                "INSERT INTO [dbo].[eventTribe] ([participantId], [tribeId], [event], [episode]) SELECT 69, [id], 'joins', 1 FROM [dbo].[tribes] WHERE [dbo].[tribes].[name] = N'Бойци';\r\n",
                "INSERT INTO [dbo].[eventTribe] ([participantId], [tribeId], [event], [episode]) SELECT 70, [id], 'joins', 1 FROM [dbo].[tribes] WHERE [dbo].[tribes].[name] = N'Приключенци';\r\n",
                "INSERT INTO [dbo].[eventTribe] ([participantId], [tribeId], [event], [episode]) SELECT 71, [id], 'joins', 1 FROM [dbo].[tribes] WHERE [dbo].[tribes].[name] = N'Бойци';\r\n",
                "\r\n",
                "INSERT INTO [dbo].[eventTribe] ([participantId], [tribeId], [event], [episode]) SELECT 72, [id], 'joins', 1 FROM [dbo].[tribes] WHERE [dbo].[tribes].[name] = N'Приключенци';\r\n",
                "INSERT INTO [dbo].[eventTribe] ([participantId], [tribeId], [event], [episode]) SELECT 73, [id], 'joins', 1 FROM [dbo].[tribes] WHERE [dbo].[tribes].[name] = N'Жълти';\r\n",
                "INSERT INTO [dbo].[eventTribe] ([participantId], [tribeId], [event], [episode]) SELECT 74, [id], 'joins', 1 FROM [dbo].[tribes] WHERE [dbo].[tribes].[name] = N'Жълти';\r\n",
                "INSERT INTO [dbo].[eventTribe] ([participantId], [tribeId], [event], [episode]) SELECT 75, [id], 'joins', 1 FROM [dbo].[tribes] WHERE [dbo].[tribes].[name] = N'Бойци';\r\n",
                "INSERT INTO [dbo].[eventTribe] ([participantId], [tribeId], [event], [episode]) SELECT 76, [id], 'joins', 1 FROM [dbo].[tribes] WHERE [dbo].[tribes].[name] = N'Приключенци';\r\n",
                "INSERT INTO [dbo].[eventTribe] ([participantId], [tribeId], [event], [episode]) SELECT 77, [id], 'joins', 1 FROM [dbo].[tribes] WHERE [dbo].[tribes].[name] = N'Приключенци';\r\n",
                "INSERT INTO [dbo].[eventTribe] ([participantId], [tribeId], [event], [episode]) SELECT 78, [id], 'joins', 1 FROM [dbo].[tribes] WHERE [dbo].[tribes].[name] = N'Жълти';\r\n",
                "INSERT INTO [dbo].[eventTribe] ([participantId], [tribeId], [event], [episode]) SELECT 79, [id], 'joins', 1 FROM [dbo].[tribes] WHERE [dbo].[tribes].[name] = N'Жълти';\r\n",
                "\r\n",
                "/*Season 4*/\r\n",
                "\r\n",
                "INSERT INTO [dbo].[participant] ([name], [sex], [age], [cityId]) VALUES (N'Илина Георгиева', 'f', 30, 18);\r\n",
                "INSERT INTO [dbo].[participant] ([name], [sex], [age], [cityId]) VALUES (N'Иван Мирчев', 'm', 29, 9);\r\n",
                "INSERT INTO [dbo].[participant] ([name], [sex], [age], [cityId]) VALUES (N'Димитър Куков', 'm', 32, 1);\r\n",
                "INSERT INTO [dbo].[participant] ([name], [sex], [age], [cityId]) VALUES (N'Иван Гайтанов', 'm', 20, 8);\r\n",
                "INSERT INTO [dbo].[participant] ([name], [sex], [age], [cityId]) VALUES (N'Велислава Ангелова', 'f', 29, 19);\r\n",
                "INSERT INTO [dbo].[participant] ([name], [sex], [age], [cityId]) VALUES (N'Елина Пашаланова', 'f', 30, 20);\r\n",
                "INSERT INTO [dbo].[participant] ([name], [sex], [age], [cityId]) VALUES (N'Аспарух Тотев', 'm', 23, 1);\r\n",
                "INSERT INTO [dbo].[participant] ([name], [sex], [age], [cityId]) VALUES (N'Веселина Ефремова', 'f', 42, 1);\r\n",
                "INSERT INTO [dbo].[participant] ([name], [sex], [age], [cityId]) VALUES (N'Николай Чакалов', 'm', 26, 21);\r\n",
                "INSERT INTO [dbo].[participant] ([name], [sex], [age], [cityId]) VALUES (N'Валери Григоров', 'm', 23, 1);\r\n",
                "INSERT INTO [dbo].[participant] ([name], [sex], [age], [cityId]) VALUES (N'Звезделина Георгиева', 'f', 30, 3);\r\n",
                "INSERT INTO [dbo].[participant] ([name], [sex], [age], [cityId]) VALUES (N'Касим Касимов', 'm', 21, 22);\r\n",
                "INSERT INTO [dbo].[participant] ([name], [sex], [age], [cityId]) VALUES (N'Илиян Цветков', 'm', 20, 8);\r\n",
                "INSERT INTO [dbo].[participant] ([name], [sex], [age], [cityId]) VALUES (N'Цветан Петров', 'm', 34, 1);\r\n",
                "\r\n",
                "INSERT INTO [dbo].[participant] ([name], [sex], [age], [cityId]) VALUES (N'Елица Янкова', 'f', 27, 3);\r\n",
                "INSERT INTO [dbo].[participant] ([name], [sex], [age], [cityId]) VALUES (N'Михаела Тодорова', 'f', 26, 1);\r\n",
                "INSERT INTO [dbo].[participant] ([name], [sex], [age], [cityId]) VALUES (N'Александра Фейгин', 'f', 19, 23);\r\n",
                "INSERT INTO [dbo].[participant] ([name], [sex], [age], [cityId]) VALUES (N'Мирела Илиева', 'f', 21, 3);\r\n",
                "INSERT INTO [dbo].[participant] ([name], [sex], [age], [cityId]) VALUES (N'Димитър Лефтеров', 'm', 28, 18);\r\n",
                "INSERT INTO [dbo].[participant] ([name], [sex], [age], [cityId]) VALUES (N'Генчо Генчев', 'm', 33, 24);\r\n",
                "INSERT INTO [dbo].[participant] ([name], [sex], [age], [cityId]) VALUES (N'Зорница Стоилова', 'm', 21, 1);\r\n",
                "\r\n",
                "INSERT INTO [dbo].[participant] ([name], [sex], [age], [cityId]) VALUES (N'Мирослава Профирова', 'f', 35, 25);\r\n",
                "INSERT INTO [dbo].[participant] ([name], [sex], [age], [cityId]) VALUES (N'Мануела Тонева „Мани“', 'f', 25, 26);\r\n",
                "INSERT INTO [dbo].[participant] ([name], [sex], [age], [cityId]) VALUES (N'Евгения Джаферович', 'f', 32, 1);\r\n",
                "INSERT INTO [dbo].[participant] ([name], [sex], [age], [cityId]) VALUES (N'Ралица Кашинова', 'f', 29, 27);\r\n",
                "INSERT INTO [dbo].[participant] ([name], [sex], [age], [cityId]) VALUES (N'Виктория Григорова', 'f', 32, 1);\r\n",
                "INSERT INTO [dbo].[participant] ([name], [sex], [age], [cityId]) VALUES (N'Георги Петков „Гого“', 'm', 25, 20);\r\n",
                "INSERT INTO [dbo].[participant] ([name], [sex], [age], [cityId]) VALUES (N'Георги Янев', 'm', 21, 1);\r\n",
                "INSERT INTO [dbo].[participant] ([name], [sex], [age], [cityId]) VALUES (N'Филип Атанасов', 'm', 29, 1);\r\n",
                "INSERT INTO [dbo].[participant] ([name], [sex], [age], [cityId]) VALUES (N'Алекса Ерски', 'm', 25, 28);\r\n",
                "\r\n",
                "INSERT INTO [dbo].[eventTribe] ([participantId], [tribeId], [event], [episode]) SELECT 80, [id], 'joins', 1 FROM [dbo].[tribes] WHERE [dbo].[tribes].[name] = N'Безстрашни';\r\n",
                "INSERT INTO [dbo].[eventTribe] ([participantId], [tribeId], [event], [episode]) SELECT 81, [id], 'joins', 1 FROM [dbo].[tribes] WHERE [dbo].[tribes].[name] = N'Резерви';\r\n",
                "INSERT INTO [dbo].[eventTribe] ([participantId], [tribeId], [event], [episode]) SELECT 82, [id], 'joins', 1 FROM [dbo].[tribes] WHERE [dbo].[tribes].[name] = N'Непобедими';\r\n",
                "INSERT INTO [dbo].[eventTribe] ([participantId], [tribeId], [event], [episode]) SELECT 83, [id], 'joins', 1 FROM [dbo].[tribes] WHERE [dbo].[tribes].[name] = N'Резерви';\r\n",
                "INSERT INTO [dbo].[eventTribe] ([participantId], [tribeId], [event], [episode]) SELECT 84, [id], 'joins', 1 FROM [dbo].[tribes] WHERE [dbo].[tribes].[name] = N'Супергерои';\r\n",
                "INSERT INTO [dbo].[eventTribe] ([participantId], [tribeId], [event], [episode]) SELECT 85, [id], 'joins', 1 FROM [dbo].[tribes] WHERE [dbo].[tribes].[name] = N'Резерви';\r\n",
                "INSERT INTO [dbo].[eventTribe] ([participantId], [tribeId], [event], [episode]) SELECT 86, [id], 'joins', 1 FROM [dbo].[tribes] WHERE [dbo].[tribes].[name] = N'Непобедими';\r\n",
                "INSERT INTO [dbo].[eventTribe] ([participantId], [tribeId], [event], [episode]) SELECT 87, [id], 'joins', 1 FROM [dbo].[tribes] WHERE [dbo].[tribes].[name] = N'Резерви';\r\n",
                "INSERT INTO [dbo].[eventTribe] ([participantId], [tribeId], [event], [episode]) SELECT 88, [id], 'joins', 1 FROM [dbo].[tribes] WHERE [dbo].[tribes].[name] = N'Резерви';\r\n",
                "INSERT INTO [dbo].[eventTribe] ([participantId], [tribeId], [event], [episode]) SELECT 89, [id], 'joins', 1 FROM [dbo].[tribes] WHERE [dbo].[tribes].[name] = N'Безстрашни';\r\n",
                "INSERT INTO [dbo].[eventTribe] ([participantId], [tribeId], [event], [episode]) SELECT 90, [id], 'joins', 1 FROM [dbo].[tribes] WHERE [dbo].[tribes].[name] = N'Непобедими';\r\n",
                "INSERT INTO [dbo].[eventTribe] ([participantId], [tribeId], [event], [episode]) SELECT 91, [id], 'joins', 1 FROM [dbo].[tribes] WHERE [dbo].[tribes].[name] = N'Супергерои';\r\n",
                "INSERT INTO [dbo].[eventTribe] ([participantId], [tribeId], [event], [episode]) SELECT 92, [id], 'joins', 1 FROM [dbo].[tribes] WHERE [dbo].[tribes].[name] = N'Супергерои';\r\n",
                "INSERT INTO [dbo].[eventTribe] ([participantId], [tribeId], [event], [episode]) SELECT 93, [id], 'joins', 1 FROM [dbo].[tribes] WHERE [dbo].[tribes].[name] = N'Супергерои';\r\n",
                "\r\n",
                "INSERT INTO [dbo].[eventTribe] ([participantId], [tribeId], [event], [episode]) SELECT 94, [id], 'joins', 1 FROM [dbo].[tribes] WHERE [dbo].[tribes].[name] = N'Непобедими';\r\n",
                "INSERT INTO [dbo].[eventTribe] ([participantId], [tribeId], [event], [episode]) SELECT 95, [id], 'joins', 1 FROM [dbo].[tribes] WHERE [dbo].[tribes].[name] = N'Безстрашни';\r\n",
                "INSERT INTO [dbo].[eventTribe] ([participantId], [tribeId], [event], [episode]) SELECT 96, [id], 'joins', 1 FROM [dbo].[tribes] WHERE [dbo].[tribes].[name] = N'Супергерои';\r\n",
                "INSERT INTO [dbo].[eventTribe] ([participantId], [tribeId], [event], [episode]) SELECT 97, [id], 'joins', 1 FROM [dbo].[tribes] WHERE [dbo].[tribes].[name] = N'Безстрашни';\r\n",
                "INSERT INTO [dbo].[eventTribe] ([participantId], [tribeId], [event], [episode]) SELECT 98, [id], 'joins', 1 FROM [dbo].[tribes] WHERE [dbo].[tribes].[name] = N'Безстрашни';\r\n",
                "INSERT INTO [dbo].[eventTribe] ([participantId], [tribeId], [event], [episode]) SELECT 99, [id], 'joins', 1 FROM [dbo].[tribes] WHERE [dbo].[tribes].[name] = N'Непобедими';\r\n",
                "INSERT INTO [dbo].[eventTribe] ([participantId], [tribeId], [event], [episode]) SELECT 100, [id], 'joins', 1 FROM [dbo].[tribes] WHERE [dbo].[tribes].[name] = N'Резерви';\r\n",
                "\r\n",
                "INSERT INTO [dbo].[eventTribe] ([participantId], [tribeId], [event], [episode]) SELECT 101, [id], 'joins', 1 FROM [dbo].[tribes] WHERE [dbo].[tribes].[name] = N'Непобедими';\r\n",
                "INSERT INTO [dbo].[eventTribe] ([participantId], [tribeId], [event], [episode]) SELECT 102, [id], 'joins', 1 FROM [dbo].[tribes] WHERE [dbo].[tribes].[name] = N'Супергерои';\r\n",
                "INSERT INTO [dbo].[eventTribe] ([participantId], [tribeId], [event], [episode]) SELECT 103, [id], 'joins', 1 FROM [dbo].[tribes] WHERE [dbo].[tribes].[name] = N'Безстрашни';\r\n",
                "INSERT INTO [dbo].[eventTribe] ([participantId], [tribeId], [event], [episode]) SELECT 104, [id], 'joins', 1 FROM [dbo].[tribes] WHERE [dbo].[tribes].[name] = N'Безстрашни';\r\n",
                "INSERT INTO [dbo].[eventTribe] ([participantId], [tribeId], [event], [episode]) SELECT 105, [id], 'joins', 1 FROM [dbo].[tribes] WHERE [dbo].[tribes].[name] = N'Резерви';\r\n",
                "INSERT INTO [dbo].[eventTribe] ([participantId], [tribeId], [event], [episode]) SELECT 106, [id], 'joins', 1 FROM [dbo].[tribes] WHERE [dbo].[tribes].[name] = N'Супергерои';\r\n",
                "INSERT INTO [dbo].[eventTribe] ([participantId], [tribeId], [event], [episode]) SELECT 107, [id], 'joins', 1 FROM [dbo].[tribes] WHERE [dbo].[tribes].[name] = N'Непобедими';\r\n",
                "INSERT INTO [dbo].[eventTribe] ([participantId], [tribeId], [event], [episode]) SELECT 108, [id], 'joins', 1 FROM [dbo].[tribes] WHERE [dbo].[tribes].[name] = N'Резерви';\r\n",
                "INSERT INTO [dbo].[eventTribe] ([participantId], [tribeId], [event], [episode]) SELECT 109, [id], 'joins', 1 FROM [dbo].[tribes] WHERE [dbo].[tribes].[name] = N'Резерви';\r\n",
                "\r\n",
                "/*Season 5*/\r\n",
                "\r\n",
                "INSERT INTO [dbo].[participant] ([name], [sex], [age], [cityId]) SELECT N'Трифон Симеонов „Туньо“', 'm', 33, [id] FROM [dbo].[city] WHERE [dbo].[city].[name] = N'Пазарджик';\r\n",
                "INSERT INTO [dbo].[eventTribe] ([participantId], [tribeId], [event], [episode]) SELECT 110, [id], 'joins', 1 FROM [dbo].[tribes] WHERE [dbo].[tribes].[name] = N'Старейшини';\r\n",
                ""
            ],
            "metadata": {
                "azdata_cell_guid": "b4a60002-94eb-4b85-8a22-ccbafc39bc1e",
                "language": "sql",
                "tags": []
            },
            "outputs": [
                {
                    "output_type": "display_data",
                    "data": {
                        "text/html": "(1 row affected)"
                    },
                    "metadata": {}
                },
                {
                    "output_type": "display_data",
                    "data": {
                        "text/html": "(1 row affected)"
                    },
                    "metadata": {}
                },
                {
                    "output_type": "display_data",
                    "data": {
                        "text/html": "(1 row affected)"
                    },
                    "metadata": {}
                },
                {
                    "output_type": "display_data",
                    "data": {
                        "text/html": "(1 row affected)"
                    },
                    "metadata": {}
                },
                {
                    "output_type": "display_data",
                    "data": {
                        "text/html": "(1 row affected)"
                    },
                    "metadata": {}
                },
                {
                    "output_type": "display_data",
                    "data": {
                        "text/html": "(1 row affected)"
                    },
                    "metadata": {}
                },
                {
                    "output_type": "display_data",
                    "data": {
                        "text/html": "(1 row affected)"
                    },
                    "metadata": {}
                },
                {
                    "output_type": "display_data",
                    "data": {
                        "text/html": "(1 row affected)"
                    },
                    "metadata": {}
                },
                {
                    "output_type": "display_data",
                    "data": {
                        "text/html": "(1 row affected)"
                    },
                    "metadata": {}
                },
                {
                    "output_type": "display_data",
                    "data": {
                        "text/html": "(1 row affected)"
                    },
                    "metadata": {}
                },
                {
                    "output_type": "display_data",
                    "data": {
                        "text/html": "(1 row affected)"
                    },
                    "metadata": {}
                },
                {
                    "output_type": "display_data",
                    "data": {
                        "text/html": "(1 row affected)"
                    },
                    "metadata": {}
                },
                {
                    "output_type": "display_data",
                    "data": {
                        "text/html": "(1 row affected)"
                    },
                    "metadata": {}
                },
                {
                    "output_type": "display_data",
                    "data": {
                        "text/html": "(1 row affected)"
                    },
                    "metadata": {}
                },
                {
                    "output_type": "display_data",
                    "data": {
                        "text/html": "(1 row affected)"
                    },
                    "metadata": {}
                },
                {
                    "output_type": "display_data",
                    "data": {
                        "text/html": "(1 row affected)"
                    },
                    "metadata": {}
                },
                {
                    "output_type": "display_data",
                    "data": {
                        "text/html": "(1 row affected)"
                    },
                    "metadata": {}
                },
                {
                    "output_type": "display_data",
                    "data": {
                        "text/html": "(1 row affected)"
                    },
                    "metadata": {}
                },
                {
                    "output_type": "display_data",
                    "data": {
                        "text/html": "(1 row affected)"
                    },
                    "metadata": {}
                },
                {
                    "output_type": "display_data",
                    "data": {
                        "text/html": "(1 row affected)"
                    },
                    "metadata": {}
                },
                {
                    "output_type": "display_data",
                    "data": {
                        "text/html": "(1 row affected)"
                    },
                    "metadata": {}
                },
                {
                    "output_type": "display_data",
                    "data": {
                        "text/html": "(1 row affected)"
                    },
                    "metadata": {}
                },
                {
                    "output_type": "display_data",
                    "data": {
                        "text/html": "(1 row affected)"
                    },
                    "metadata": {}
                },
                {
                    "output_type": "display_data",
                    "data": {
                        "text/html": "(1 row affected)"
                    },
                    "metadata": {}
                },
                {
                    "output_type": "display_data",
                    "data": {
                        "text/html": "(1 row affected)"
                    },
                    "metadata": {}
                },
                {
                    "output_type": "display_data",
                    "data": {
                        "text/html": "(1 row affected)"
                    },
                    "metadata": {}
                },
                {
                    "output_type": "display_data",
                    "data": {
                        "text/html": "(1 row affected)"
                    },
                    "metadata": {}
                },
                {
                    "output_type": "display_data",
                    "data": {
                        "text/html": "(1 row affected)"
                    },
                    "metadata": {}
                },
                {
                    "output_type": "display_data",
                    "data": {
                        "text/html": "(1 row affected)"
                    },
                    "metadata": {}
                },
                {
                    "output_type": "display_data",
                    "data": {
                        "text/html": "(1 row affected)"
                    },
                    "metadata": {}
                },
                {
                    "output_type": "display_data",
                    "data": {
                        "text/html": "(1 row affected)"
                    },
                    "metadata": {}
                },
                {
                    "output_type": "display_data",
                    "data": {
                        "text/html": "(1 row affected)"
                    },
                    "metadata": {}
                },
                {
                    "output_type": "display_data",
                    "data": {
                        "text/html": "(1 row affected)"
                    },
                    "metadata": {}
                },
                {
                    "output_type": "display_data",
                    "data": {
                        "text/html": "(1 row affected)"
                    },
                    "metadata": {}
                },
                {
                    "output_type": "display_data",
                    "data": {
                        "text/html": "(1 row affected)"
                    },
                    "metadata": {}
                },
                {
                    "output_type": "display_data",
                    "data": {
                        "text/html": "(1 row affected)"
                    },
                    "metadata": {}
                },
                {
                    "output_type": "display_data",
                    "data": {
                        "text/html": "(1 row affected)"
                    },
                    "metadata": {}
                },
                {
                    "output_type": "display_data",
                    "data": {
                        "text/html": "(1 row affected)"
                    },
                    "metadata": {}
                },
                {
                    "output_type": "display_data",
                    "data": {
                        "text/html": "(1 row affected)"
                    },
                    "metadata": {}
                },
                {
                    "output_type": "display_data",
                    "data": {
                        "text/html": "(1 row affected)"
                    },
                    "metadata": {}
                },
                {
                    "output_type": "display_data",
                    "data": {
                        "text/html": "(1 row affected)"
                    },
                    "metadata": {}
                },
                {
                    "output_type": "display_data",
                    "data": {
                        "text/html": "(1 row affected)"
                    },
                    "metadata": {}
                },
                {
                    "output_type": "display_data",
                    "data": {
                        "text/html": "(1 row affected)"
                    },
                    "metadata": {}
                },
                {
                    "output_type": "display_data",
                    "data": {
                        "text/html": "(1 row affected)"
                    },
                    "metadata": {}
                },
                {
                    "output_type": "display_data",
                    "data": {
                        "text/html": "(1 row affected)"
                    },
                    "metadata": {}
                },
                {
                    "output_type": "display_data",
                    "data": {
                        "text/html": "(1 row affected)"
                    },
                    "metadata": {}
                },
                {
                    "output_type": "display_data",
                    "data": {
                        "text/html": "(1 row affected)"
                    },
                    "metadata": {}
                },
                {
                    "output_type": "display_data",
                    "data": {
                        "text/html": "(1 row affected)"
                    },
                    "metadata": {}
                },
                {
                    "output_type": "display_data",
                    "data": {
                        "text/html": "(1 row affected)"
                    },
                    "metadata": {}
                },
                {
                    "output_type": "display_data",
                    "data": {
                        "text/html": "(1 row affected)"
                    },
                    "metadata": {}
                },
                {
                    "output_type": "display_data",
                    "data": {
                        "text/html": "(1 row affected)"
                    },
                    "metadata": {}
                },
                {
                    "output_type": "display_data",
                    "data": {
                        "text/html": "(1 row affected)"
                    },
                    "metadata": {}
                },
                {
                    "output_type": "display_data",
                    "data": {
                        "text/html": "(1 row affected)"
                    },
                    "metadata": {}
                },
                {
                    "output_type": "display_data",
                    "data": {
                        "text/html": "(1 row affected)"
                    },
                    "metadata": {}
                },
                {
                    "output_type": "display_data",
                    "data": {
                        "text/html": "(1 row affected)"
                    },
                    "metadata": {}
                },
                {
                    "output_type": "display_data",
                    "data": {
                        "text/html": "(1 row affected)"
                    },
                    "metadata": {}
                },
                {
                    "output_type": "display_data",
                    "data": {
                        "text/html": "(1 row affected)"
                    },
                    "metadata": {}
                },
                {
                    "output_type": "display_data",
                    "data": {
                        "text/html": "(1 row affected)"
                    },
                    "metadata": {}
                },
                {
                    "output_type": "display_data",
                    "data": {
                        "text/html": "(1 row affected)"
                    },
                    "metadata": {}
                },
                {
                    "output_type": "display_data",
                    "data": {
                        "text/html": "(1 row affected)"
                    },
                    "metadata": {}
                },
                {
                    "output_type": "display_data",
                    "data": {
                        "text/html": "(1 row affected)"
                    },
                    "metadata": {}
                },
                {
                    "output_type": "display_data",
                    "data": {
                        "text/html": "(1 row affected)"
                    },
                    "metadata": {}
                },
                {
                    "output_type": "display_data",
                    "data": {
                        "text/html": "(1 row affected)"
                    },
                    "metadata": {}
                },
                {
                    "output_type": "display_data",
                    "data": {
                        "text/html": "(1 row affected)"
                    },
                    "metadata": {}
                },
                {
                    "output_type": "display_data",
                    "data": {
                        "text/html": "(1 row affected)"
                    },
                    "metadata": {}
                },
                {
                    "output_type": "display_data",
                    "data": {
                        "text/html": "(1 row affected)"
                    },
                    "metadata": {}
                },
                {
                    "output_type": "display_data",
                    "data": {
                        "text/html": "(1 row affected)"
                    },
                    "metadata": {}
                },
                {
                    "output_type": "display_data",
                    "data": {
                        "text/html": "(1 row affected)"
                    },
                    "metadata": {}
                },
                {
                    "output_type": "display_data",
                    "data": {
                        "text/html": "(1 row affected)"
                    },
                    "metadata": {}
                },
                {
                    "output_type": "display_data",
                    "data": {
                        "text/html": "(1 row affected)"
                    },
                    "metadata": {}
                },
                {
                    "output_type": "display_data",
                    "data": {
                        "text/html": "(1 row affected)"
                    },
                    "metadata": {}
                },
                {
                    "output_type": "display_data",
                    "data": {
                        "text/html": "(1 row affected)"
                    },
                    "metadata": {}
                },
                {
                    "output_type": "display_data",
                    "data": {
                        "text/html": "(1 row affected)"
                    },
                    "metadata": {}
                },
                {
                    "output_type": "display_data",
                    "data": {
                        "text/html": "(1 row affected)"
                    },
                    "metadata": {}
                },
                {
                    "output_type": "display_data",
                    "data": {
                        "text/html": "(1 row affected)"
                    },
                    "metadata": {}
                },
                {
                    "output_type": "display_data",
                    "data": {
                        "text/html": "(1 row affected)"
                    },
                    "metadata": {}
                },
                {
                    "output_type": "display_data",
                    "data": {
                        "text/html": "(1 row affected)"
                    },
                    "metadata": {}
                },
                {
                    "output_type": "display_data",
                    "data": {
                        "text/html": "(1 row affected)"
                    },
                    "metadata": {}
                },
                {
                    "output_type": "display_data",
                    "data": {
                        "text/html": "(1 row affected)"
                    },
                    "metadata": {}
                },
                {
                    "output_type": "display_data",
                    "data": {
                        "text/html": "(1 row affected)"
                    },
                    "metadata": {}
                },
                {
                    "output_type": "display_data",
                    "data": {
                        "text/html": "(1 row affected)"
                    },
                    "metadata": {}
                },
                {
                    "output_type": "display_data",
                    "data": {
                        "text/html": "(1 row affected)"
                    },
                    "metadata": {}
                },
                {
                    "output_type": "display_data",
                    "data": {
                        "text/html": "(1 row affected)"
                    },
                    "metadata": {}
                },
                {
                    "output_type": "display_data",
                    "data": {
                        "text/html": "(1 row affected)"
                    },
                    "metadata": {}
                },
                {
                    "output_type": "display_data",
                    "data": {
                        "text/html": "(1 row affected)"
                    },
                    "metadata": {}
                },
                {
                    "output_type": "display_data",
                    "data": {
                        "text/html": "(1 row affected)"
                    },
                    "metadata": {}
                },
                {
                    "output_type": "display_data",
                    "data": {
                        "text/html": "(1 row affected)"
                    },
                    "metadata": {}
                },
                {
                    "output_type": "display_data",
                    "data": {
                        "text/html": "(1 row affected)"
                    },
                    "metadata": {}
                },
                {
                    "output_type": "display_data",
                    "data": {
                        "text/html": "(1 row affected)"
                    },
                    "metadata": {}
                },
                {
                    "output_type": "display_data",
                    "data": {
                        "text/html": "(1 row affected)"
                    },
                    "metadata": {}
                },
                {
                    "output_type": "display_data",
                    "data": {
                        "text/html": "(1 row affected)"
                    },
                    "metadata": {}
                },
                {
                    "output_type": "display_data",
                    "data": {
                        "text/html": "(1 row affected)"
                    },
                    "metadata": {}
                },
                {
                    "output_type": "display_data",
                    "data": {
                        "text/html": "(1 row affected)"
                    },
                    "metadata": {}
                },
                {
                    "output_type": "display_data",
                    "data": {
                        "text/html": "(1 row affected)"
                    },
                    "metadata": {}
                },
                {
                    "output_type": "display_data",
                    "data": {
                        "text/html": "(1 row affected)"
                    },
                    "metadata": {}
                },
                {
                    "output_type": "display_data",
                    "data": {
                        "text/html": "(1 row affected)"
                    },
                    "metadata": {}
                },
                {
                    "output_type": "display_data",
                    "data": {
                        "text/html": "(1 row affected)"
                    },
                    "metadata": {}
                },
                {
                    "output_type": "display_data",
                    "data": {
                        "text/html": "(1 row affected)"
                    },
                    "metadata": {}
                },
                {
                    "output_type": "display_data",
                    "data": {
                        "text/html": "(1 row affected)"
                    },
                    "metadata": {}
                },
                {
                    "output_type": "display_data",
                    "data": {
                        "text/html": "(1 row affected)"
                    },
                    "metadata": {}
                },
                {
                    "output_type": "display_data",
                    "data": {
                        "text/html": "(1 row affected)"
                    },
                    "metadata": {}
                },
                {
                    "output_type": "display_data",
                    "data": {
                        "text/html": "(1 row affected)"
                    },
                    "metadata": {}
                },
                {
                    "output_type": "display_data",
                    "data": {
                        "text/html": "(1 row affected)"
                    },
                    "metadata": {}
                },
                {
                    "output_type": "display_data",
                    "data": {
                        "text/html": "(1 row affected)"
                    },
                    "metadata": {}
                },
                {
                    "output_type": "display_data",
                    "data": {
                        "text/html": "(1 row affected)"
                    },
                    "metadata": {}
                },
                {
                    "output_type": "display_data",
                    "data": {
                        "text/html": "(1 row affected)"
                    },
                    "metadata": {}
                },
                {
                    "output_type": "display_data",
                    "data": {
                        "text/html": "(1 row affected)"
                    },
                    "metadata": {}
                },
                {
                    "output_type": "display_data",
                    "data": {
                        "text/html": "(1 row affected)"
                    },
                    "metadata": {}
                },
                {
                    "output_type": "display_data",
                    "data": {
                        "text/html": "(1 row affected)"
                    },
                    "metadata": {}
                },
                {
                    "output_type": "display_data",
                    "data": {
                        "text/html": "(1 row affected)"
                    },
                    "metadata": {}
                },
                {
                    "output_type": "display_data",
                    "data": {
                        "text/html": "(1 row affected)"
                    },
                    "metadata": {}
                },
                {
                    "output_type": "display_data",
                    "data": {
                        "text/html": "(1 row affected)"
                    },
                    "metadata": {}
                },
                {
                    "output_type": "display_data",
                    "data": {
                        "text/html": "(1 row affected)"
                    },
                    "metadata": {}
                },
                {
                    "output_type": "display_data",
                    "data": {
                        "text/html": "(1 row affected)"
                    },
                    "metadata": {}
                },
                {
                    "output_type": "display_data",
                    "data": {
                        "text/html": "(1 row affected)"
                    },
                    "metadata": {}
                },
                {
                    "output_type": "display_data",
                    "data": {
                        "text/html": "(1 row affected)"
                    },
                    "metadata": {}
                },
                {
                    "output_type": "display_data",
                    "data": {
                        "text/html": "(1 row affected)"
                    },
                    "metadata": {}
                },
                {
                    "output_type": "display_data",
                    "data": {
                        "text/html": "(1 row affected)"
                    },
                    "metadata": {}
                },
                {
                    "output_type": "display_data",
                    "data": {
                        "text/html": "(1 row affected)"
                    },
                    "metadata": {}
                },
                {
                    "output_type": "display_data",
                    "data": {
                        "text/html": "(1 row affected)"
                    },
                    "metadata": {}
                },
                {
                    "output_type": "display_data",
                    "data": {
                        "text/html": "(1 row affected)"
                    },
                    "metadata": {}
                },
                {
                    "output_type": "display_data",
                    "data": {
                        "text/html": "(1 row affected)"
                    },
                    "metadata": {}
                },
                {
                    "output_type": "display_data",
                    "data": {
                        "text/html": "(1 row affected)"
                    },
                    "metadata": {}
                },
                {
                    "output_type": "display_data",
                    "data": {
                        "text/html": "(1 row affected)"
                    },
                    "metadata": {}
                },
                {
                    "output_type": "display_data",
                    "data": {
                        "text/html": "(1 row affected)"
                    },
                    "metadata": {}
                },
                {
                    "output_type": "display_data",
                    "data": {
                        "text/html": "(1 row affected)"
                    },
                    "metadata": {}
                },
                {
                    "output_type": "display_data",
                    "data": {
                        "text/html": "(1 row affected)"
                    },
                    "metadata": {}
                },
                {
                    "output_type": "display_data",
                    "data": {
                        "text/html": "(1 row affected)"
                    },
                    "metadata": {}
                },
                {
                    "output_type": "display_data",
                    "data": {
                        "text/html": "(1 row affected)"
                    },
                    "metadata": {}
                },
                {
                    "output_type": "display_data",
                    "data": {
                        "text/html": "(1 row affected)"
                    },
                    "metadata": {}
                },
                {
                    "output_type": "display_data",
                    "data": {
                        "text/html": "(1 row affected)"
                    },
                    "metadata": {}
                },
                {
                    "output_type": "display_data",
                    "data": {
                        "text/html": "(1 row affected)"
                    },
                    "metadata": {}
                },
                {
                    "output_type": "display_data",
                    "data": {
                        "text/html": "(1 row affected)"
                    },
                    "metadata": {}
                },
                {
                    "output_type": "display_data",
                    "data": {
                        "text/html": "(1 row affected)"
                    },
                    "metadata": {}
                },
                {
                    "output_type": "display_data",
                    "data": {
                        "text/html": "(1 row affected)"
                    },
                    "metadata": {}
                },
                {
                    "output_type": "display_data",
                    "data": {
                        "text/html": "(1 row affected)"
                    },
                    "metadata": {}
                },
                {
                    "output_type": "display_data",
                    "data": {
                        "text/html": "(1 row affected)"
                    },
                    "metadata": {}
                },
                {
                    "output_type": "display_data",
                    "data": {
                        "text/html": "(1 row affected)"
                    },
                    "metadata": {}
                },
                {
                    "output_type": "display_data",
                    "data": {
                        "text/html": "(1 row affected)"
                    },
                    "metadata": {}
                },
                {
                    "output_type": "display_data",
                    "data": {
                        "text/html": "(1 row affected)"
                    },
                    "metadata": {}
                },
                {
                    "output_type": "display_data",
                    "data": {
                        "text/html": "(1 row affected)"
                    },
                    "metadata": {}
                },
                {
                    "output_type": "display_data",
                    "data": {
                        "text/html": "(1 row affected)"
                    },
                    "metadata": {}
                },
                {
                    "output_type": "display_data",
                    "data": {
                        "text/html": "(1 row affected)"
                    },
                    "metadata": {}
                },
                {
                    "output_type": "display_data",
                    "data": {
                        "text/html": "(1 row affected)"
                    },
                    "metadata": {}
                },
                {
                    "output_type": "display_data",
                    "data": {
                        "text/html": "(1 row affected)"
                    },
                    "metadata": {}
                },
                {
                    "output_type": "display_data",
                    "data": {
                        "text/html": "(1 row affected)"
                    },
                    "metadata": {}
                },
                {
                    "output_type": "display_data",
                    "data": {
                        "text/html": "(1 row affected)"
                    },
                    "metadata": {}
                },
                {
                    "output_type": "display_data",
                    "data": {
                        "text/html": "(1 row affected)"
                    },
                    "metadata": {}
                },
                {
                    "output_type": "display_data",
                    "data": {
                        "text/html": "(1 row affected)"
                    },
                    "metadata": {}
                },
                {
                    "output_type": "display_data",
                    "data": {
                        "text/html": "(1 row affected)"
                    },
                    "metadata": {}
                },
                {
                    "output_type": "display_data",
                    "data": {
                        "text/html": "(1 row affected)"
                    },
                    "metadata": {}
                },
                {
                    "output_type": "display_data",
                    "data": {
                        "text/html": "(1 row affected)"
                    },
                    "metadata": {}
                },
                {
                    "output_type": "display_data",
                    "data": {
                        "text/html": "(1 row affected)"
                    },
                    "metadata": {}
                },
                {
                    "output_type": "display_data",
                    "data": {
                        "text/html": "(1 row affected)"
                    },
                    "metadata": {}
                },
                {
                    "output_type": "display_data",
                    "data": {
                        "text/html": "(1 row affected)"
                    },
                    "metadata": {}
                },
                {
                    "output_type": "display_data",
                    "data": {
                        "text/html": "(1 row affected)"
                    },
                    "metadata": {}
                },
                {
                    "output_type": "display_data",
                    "data": {
                        "text/html": "(1 row affected)"
                    },
                    "metadata": {}
                },
                {
                    "output_type": "display_data",
                    "data": {
                        "text/html": "(1 row affected)"
                    },
                    "metadata": {}
                },
                {
                    "output_type": "display_data",
                    "data": {
                        "text/html": "(1 row affected)"
                    },
                    "metadata": {}
                },
                {
                    "output_type": "display_data",
                    "data": {
                        "text/html": "(1 row affected)"
                    },
                    "metadata": {}
                },
                {
                    "output_type": "display_data",
                    "data": {
                        "text/html": "(1 row affected)"
                    },
                    "metadata": {}
                },
                {
                    "output_type": "display_data",
                    "data": {
                        "text/html": "(1 row affected)"
                    },
                    "metadata": {}
                },
                {
                    "output_type": "display_data",
                    "data": {
                        "text/html": "(1 row affected)"
                    },
                    "metadata": {}
                },
                {
                    "output_type": "display_data",
                    "data": {
                        "text/html": "(1 row affected)"
                    },
                    "metadata": {}
                },
                {
                    "output_type": "display_data",
                    "data": {
                        "text/html": "(1 row affected)"
                    },
                    "metadata": {}
                },
                {
                    "output_type": "display_data",
                    "data": {
                        "text/html": "(1 row affected)"
                    },
                    "metadata": {}
                },
                {
                    "output_type": "display_data",
                    "data": {
                        "text/html": "(1 row affected)"
                    },
                    "metadata": {}
                },
                {
                    "output_type": "display_data",
                    "data": {
                        "text/html": "(1 row affected)"
                    },
                    "metadata": {}
                },
                {
                    "output_type": "display_data",
                    "data": {
                        "text/html": "(1 row affected)"
                    },
                    "metadata": {}
                },
                {
                    "output_type": "display_data",
                    "data": {
                        "text/html": "(1 row affected)"
                    },
                    "metadata": {}
                },
                {
                    "output_type": "display_data",
                    "data": {
                        "text/html": "(1 row affected)"
                    },
                    "metadata": {}
                },
                {
                    "output_type": "display_data",
                    "data": {
                        "text/html": "(1 row affected)"
                    },
                    "metadata": {}
                },
                {
                    "output_type": "display_data",
                    "data": {
                        "text/html": "(1 row affected)"
                    },
                    "metadata": {}
                },
                {
                    "output_type": "display_data",
                    "data": {
                        "text/html": "(1 row affected)"
                    },
                    "metadata": {}
                },
                {
                    "output_type": "display_data",
                    "data": {
                        "text/html": "(1 row affected)"
                    },
                    "metadata": {}
                },
                {
                    "output_type": "display_data",
                    "data": {
                        "text/html": "(1 row affected)"
                    },
                    "metadata": {}
                },
                {
                    "output_type": "display_data",
                    "data": {
                        "text/html": "(1 row affected)"
                    },
                    "metadata": {}
                },
                {
                    "output_type": "display_data",
                    "data": {
                        "text/html": "(1 row affected)"
                    },
                    "metadata": {}
                },
                {
                    "output_type": "display_data",
                    "data": {
                        "text/html": "(1 row affected)"
                    },
                    "metadata": {}
                },
                {
                    "output_type": "display_data",
                    "data": {
                        "text/html": "(1 row affected)"
                    },
                    "metadata": {}
                },
                {
                    "output_type": "display_data",
                    "data": {
                        "text/html": "(1 row affected)"
                    },
                    "metadata": {}
                },
                {
                    "output_type": "display_data",
                    "data": {
                        "text/html": "(1 row affected)"
                    },
                    "metadata": {}
                },
                {
                    "output_type": "display_data",
                    "data": {
                        "text/html": "(1 row affected)"
                    },
                    "metadata": {}
                },
                {
                    "output_type": "display_data",
                    "data": {
                        "text/html": "(1 row affected)"
                    },
                    "metadata": {}
                },
                {
                    "output_type": "display_data",
                    "data": {
                        "text/html": "(1 row affected)"
                    },
                    "metadata": {}
                },
                {
                    "output_type": "display_data",
                    "data": {
                        "text/html": "(1 row affected)"
                    },
                    "metadata": {}
                },
                {
                    "output_type": "display_data",
                    "data": {
                        "text/html": "(1 row affected)"
                    },
                    "metadata": {}
                },
                {
                    "output_type": "display_data",
                    "data": {
                        "text/html": "(1 row affected)"
                    },
                    "metadata": {}
                },
                {
                    "output_type": "display_data",
                    "data": {
                        "text/html": "(1 row affected)"
                    },
                    "metadata": {}
                },
                {
                    "output_type": "display_data",
                    "data": {
                        "text/html": "(1 row affected)"
                    },
                    "metadata": {}
                },
                {
                    "output_type": "display_data",
                    "data": {
                        "text/html": "(1 row affected)"
                    },
                    "metadata": {}
                },
                {
                    "output_type": "display_data",
                    "data": {
                        "text/html": "(1 row affected)"
                    },
                    "metadata": {}
                },
                {
                    "output_type": "display_data",
                    "data": {
                        "text/html": "(1 row affected)"
                    },
                    "metadata": {}
                },
                {
                    "output_type": "display_data",
                    "data": {
                        "text/html": "(1 row affected)"
                    },
                    "metadata": {}
                },
                {
                    "output_type": "display_data",
                    "data": {
                        "text/html": "(1 row affected)"
                    },
                    "metadata": {}
                },
                {
                    "output_type": "display_data",
                    "data": {
                        "text/html": "(1 row affected)"
                    },
                    "metadata": {}
                },
                {
                    "output_type": "display_data",
                    "data": {
                        "text/html": "(1 row affected)"
                    },
                    "metadata": {}
                },
                {
                    "output_type": "display_data",
                    "data": {
                        "text/html": "(1 row affected)"
                    },
                    "metadata": {}
                },
                {
                    "output_type": "display_data",
                    "data": {
                        "text/html": "(1 row affected)"
                    },
                    "metadata": {}
                },
                {
                    "output_type": "display_data",
                    "data": {
                        "text/html": "(1 row affected)"
                    },
                    "metadata": {}
                },
                {
                    "output_type": "display_data",
                    "data": {
                        "text/html": "(1 row affected)"
                    },
                    "metadata": {}
                },
                {
                    "output_type": "display_data",
                    "data": {
                        "text/html": "(1 row affected)"
                    },
                    "metadata": {}
                },
                {
                    "output_type": "display_data",
                    "data": {
                        "text/html": "(1 row affected)"
                    },
                    "metadata": {}
                },
                {
                    "output_type": "display_data",
                    "data": {
                        "text/html": "(1 row affected)"
                    },
                    "metadata": {}
                },
                {
                    "output_type": "display_data",
                    "data": {
                        "text/html": "(1 row affected)"
                    },
                    "metadata": {}
                },
                {
                    "output_type": "display_data",
                    "data": {
                        "text/html": "(1 row affected)"
                    },
                    "metadata": {}
                },
                {
                    "output_type": "display_data",
                    "data": {
                        "text/html": "(1 row affected)"
                    },
                    "metadata": {}
                },
                {
                    "output_type": "display_data",
                    "data": {
                        "text/html": "(1 row affected)"
                    },
                    "metadata": {}
                },
                {
                    "output_type": "display_data",
                    "data": {
                        "text/html": "(1 row affected)"
                    },
                    "metadata": {}
                },
                {
                    "output_type": "display_data",
                    "data": {
                        "text/html": "(1 row affected)"
                    },
                    "metadata": {}
                },
                {
                    "output_type": "display_data",
                    "data": {
                        "text/html": "(1 row affected)"
                    },
                    "metadata": {}
                },
                {
                    "output_type": "display_data",
                    "data": {
                        "text/html": "(1 row affected)"
                    },
                    "metadata": {}
                },
                {
                    "output_type": "display_data",
                    "data": {
                        "text/html": "(1 row affected)"
                    },
                    "metadata": {}
                },
                {
                    "output_type": "display_data",
                    "data": {
                        "text/html": "(1 row affected)"
                    },
                    "metadata": {}
                },
                {
                    "output_type": "display_data",
                    "data": {
                        "text/html": "(1 row affected)"
                    },
                    "metadata": {}
                },
                {
                    "output_type": "display_data",
                    "data": {
                        "text/html": "(1 row affected)"
                    },
                    "metadata": {}
                },
                {
                    "output_type": "display_data",
                    "data": {
                        "text/html": "(1 row affected)"
                    },
                    "metadata": {}
                },
                {
                    "output_type": "display_data",
                    "data": {
                        "text/html": "(1 row affected)"
                    },
                    "metadata": {}
                },
                {
                    "output_type": "display_data",
                    "data": {
                        "text/html": "Total execution time: 00:00:01.877"
                    },
                    "metadata": {}
                }
            ],
            "execution_count": 47
        }
    ]
}