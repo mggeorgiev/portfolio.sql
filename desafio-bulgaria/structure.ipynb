{
    "metadata": {
        "kernelspec": {
            "name": "SQL",
            "display_name": "SQL",
            "language": "sql"
        },
        "language_info": {
            "name": "sql",
            "version": ""
        }
    },
    "nbformat_minor": 2,
    "nbformat": 4,
    "cells": [
        {
            "cell_type": "markdown",
            "source": [
                "Source https://bg.wikipedia.org/wiki/%D0%98%D0%B3%D1%80%D0%B8\\_%D0%BD%D0%B0\\_%D0%B2%D0%BE%D0%BB%D1%8F%D1%82%D0%B0#%D0%A1%D0%B5%D0%B7%D0%BE%D0%BD%D0%B8"
            ],
            "metadata": {
                "language": "sql",
                "azdata_cell_guid": "fc8a3a49-31e0-43c9-b72e-dc7d0e2a4db2"
            },
            "attachments": {}
        },
        {
            "cell_type": "code",
            "source": [
                "-- DROP DATABASE desafio;\r\n",
                "-- GO\r\n",
                "-- Create a new database called 'desafio'\r\n",
                "-- Connect to the 'master' database to run this snippet\r\n",
                "USE master\r\n",
                "GO\r\n",
                "-- Create the new database if it does not exist already\r\n",
                "IF NOT EXISTS (\r\n",
                "    SELECT [name]\r\n",
                "        FROM sys.databases\r\n",
                "        WHERE [name] = N'desafio'\r\n",
                ")\r\n",
                "CREATE DATABASE desafio\r\n",
                "GO"
            ],
            "metadata": {
                "azdata_cell_guid": "01ba4e0e-6542-4e08-a73e-9de7802b0809",
                "language": "sql"
            },
            "outputs": [
                {
                    "output_type": "display_data",
                    "data": {
                        "text/html": "Commands completed successfully."
                    },
                    "metadata": {}
                },
                {
                    "output_type": "display_data",
                    "data": {
                        "text/html": "Commands completed successfully."
                    },
                    "metadata": {}
                },
                {
                    "output_type": "display_data",
                    "data": {
                        "text/html": "Commands completed successfully."
                    },
                    "metadata": {}
                },
                {
                    "output_type": "display_data",
                    "data": {
                        "text/html": "Commands completed successfully."
                    },
                    "metadata": {}
                },
                {
                    "output_type": "display_data",
                    "data": {
                        "text/html": "Commands completed successfully."
                    },
                    "metadata": {}
                },
                {
                    "output_type": "display_data",
                    "data": {
                        "text/html": "Commands completed successfully."
                    },
                    "metadata": {}
                },
                {
                    "output_type": "display_data",
                    "data": {
                        "text/html": "Commands completed successfully."
                    },
                    "metadata": {}
                },
                {
                    "output_type": "display_data",
                    "data": {
                        "text/html": "Total execution time: 00:00:00.743"
                    },
                    "metadata": {}
                }
            ],
            "execution_count": 77
        },
        {
            "cell_type": "code",
            "source": [
                "-- Create a new table called '[teritory]' in schema '[dbo]'\r\n",
                "-- Drop the table if it already exists\r\n",
                "IF OBJECT_ID('[dbo].[teritory]', 'U') IS NOT NULL\r\n",
                "DROP TABLE [dbo].[teritory]\r\n",
                "GO\r\n",
                "-- Create the table in the specified schema\r\n",
                "CREATE TABLE [dbo].[teritory]\r\n",
                "(\r\n",
                "    [id] INT NOT NULL PRIMARY KEY IDENTITY, -- Primary Key column\r\n",
                "    [name] NVARCHAR(50) NOT NULL\r\n",
                ");\r\n",
                "GO\r\n",
                "\r\n",
                "INSERT INTO [desafio].[dbo].[teritory] ([name]) VALUES (N'Резиденция');\r\n",
                "INSERT INTO [desafio].[dbo].[teritory] ([name]) VALUES (N'Стопанството');\r\n",
                "INSERT INTO [desafio].[dbo].[teritory] ([name]) VALUES (N'Дивата река');\r\n",
                "INSERT INTO [desafio].[dbo].[teritory] ([name]) VALUES (N'Чистилище');\r\n",
                "INSERT INTO [desafio].[dbo].[teritory] ([name]) VALUES (N'Плажа');"
            ],
            "metadata": {
                "language": "sql",
                "azdata_cell_guid": "aa91e373-234c-44b1-ad8a-a58066ed8592",
                "tags": []
            },
            "outputs": [
                {
                    "output_type": "display_data",
                    "data": {
                        "text/html": "Commands completed successfully."
                    },
                    "metadata": {}
                },
                {
                    "output_type": "display_data",
                    "data": {
                        "text/html": "Commands completed successfully."
                    },
                    "metadata": {}
                },
                {
                    "output_type": "display_data",
                    "data": {
                        "text/html": "(1 row affected)"
                    },
                    "metadata": {}
                },
                {
                    "output_type": "display_data",
                    "data": {
                        "text/html": "(1 row affected)"
                    },
                    "metadata": {}
                },
                {
                    "output_type": "display_data",
                    "data": {
                        "text/html": "(1 row affected)"
                    },
                    "metadata": {}
                },
                {
                    "output_type": "display_data",
                    "data": {
                        "text/html": "(1 row affected)"
                    },
                    "metadata": {}
                },
                {
                    "output_type": "display_data",
                    "data": {
                        "text/html": "(1 row affected)"
                    },
                    "metadata": {}
                },
                {
                    "output_type": "display_data",
                    "data": {
                        "text/html": "Total execution time: 00:00:00.875"
                    },
                    "metadata": {}
                }
            ],
            "execution_count": 78
        },
        {
            "cell_type": "code",
            "source": [
                "-- Create a new table called '[season]' in schema '[dbo]'\r\n",
                "-- Drop the table if it already exists\r\n",
                "IF OBJECT_ID('[dbo].[season]', 'U') IS NOT NULL\r\n",
                "DROP TABLE [dbo].[season]\r\n",
                "GO\r\n",
                "-- Create the table in the specified schema\r\n",
                "CREATE TABLE [dbo].[season]\r\n",
                "(\r\n",
                "    [id] INT NOT NULL PRIMARY KEY IDENTITY, -- Primary Key column\r\n",
                "    [name] int NOT NULL,\r\n",
                "    [startDate] DATETIME,\r\n",
                "    [endDate] DATETIME,\r\n",
                "    [episodes] INT\r\n",
                "    -- Specify more columns here\r\n",
                ");\r\n",
                "GO\r\n",
                "\r\n",
                "INSERT INTO [dbo].[season] ([name], [startDate], [endDate],[episodes]) VALUES (1, '20190906 00:00:00 AM', '20191206 00:00:00 AM', 66);\r\n",
                "INSERT INTO [dbo].[season] ([name], [startDate], [endDate],[episodes]) VALUES (2, '20200906 00:00:00 AM', '20201204 00:00:00 AM', 66);\r\n",
                "INSERT INTO [dbo].[season] ([name], [startDate], [endDate],[episodes]) VALUES (3, '20210904 00:00:00 AM', '20211203 00:00:00 AM', 67);\r\n",
                "INSERT INTO [dbo].[season] ([name], [startDate], [endDate],[episodes]) VALUES (4, '20220903 00:00:00 AM', '20221129 00:00:00 AM', 63);\r\n",
                "INSERT INTO [dbo].[season] ([name], [startDate], [endDate],[episodes]) VALUES (5, '20230902 00:00:00 AM', '20231204 00:00:00 AM', 20);"
            ],
            "metadata": {
                "language": "sql",
                "azdata_cell_guid": "d91be1a7-d0f6-4489-8199-499afea52cb5"
            },
            "outputs": [
                {
                    "output_type": "display_data",
                    "data": {
                        "text/html": "Commands completed successfully."
                    },
                    "metadata": {}
                },
                {
                    "output_type": "display_data",
                    "data": {
                        "text/html": "Commands completed successfully."
                    },
                    "metadata": {}
                },
                {
                    "output_type": "display_data",
                    "data": {
                        "text/html": "(1 row affected)"
                    },
                    "metadata": {}
                },
                {
                    "output_type": "display_data",
                    "data": {
                        "text/html": "(1 row affected)"
                    },
                    "metadata": {}
                },
                {
                    "output_type": "display_data",
                    "data": {
                        "text/html": "(1 row affected)"
                    },
                    "metadata": {}
                },
                {
                    "output_type": "display_data",
                    "data": {
                        "text/html": "(1 row affected)"
                    },
                    "metadata": {}
                },
                {
                    "output_type": "display_data",
                    "data": {
                        "text/html": "(1 row affected)"
                    },
                    "metadata": {}
                },
                {
                    "output_type": "display_data",
                    "data": {
                        "text/html": "Total execution time: 00:00:00.499"
                    },
                    "metadata": {}
                }
            ],
            "execution_count": 131
        },
        {
            "cell_type": "code",
            "source": [
                "USE desafio;\r\n",
                "GO\r\n",
                "\r\n",
                "-- Create a new table called '[episodes]' in schema '[dbo]'\r\n",
                "-- Drop the table if it already exists\r\n",
                "IF OBJECT_ID('[dbo].[episodes]', 'U') IS NOT NULL\r\n",
                "DROP TABLE [dbo].[episodes]\r\n",
                "GO\r\n",
                "-- Create the table in the specified schema\r\n",
                "CREATE TABLE [dbo].[episodes]\r\n",
                "(\r\n",
                "    [Id] INT NOT NULL PRIMARY KEY IDENTITY, -- Primary Key column\r\n",
                "    [seasonId] INT,\r\n",
                "    [episode] INT,\r\n",
                "    [airDate] DATE\r\n",
                "    -- Specify more columns here\r\n",
                ");\r\n",
                "GO\r\n",
                "\r\n",
                "-- insert repisodes per season\r\n",
                "WITH episodesCTE AS (\r\n",
                "    SELECT 1 AS Number, 1 as Season\r\n",
                "    UNION ALL\r\n",
                "    SELECT Number + 1, 1 as Season\r\n",
                "    FROM episodesCTE\r\n",
                "    WHERE Number <= (SELECT [episodes] FROM [desafio].[dbo].[season] WHERE id = 1)\r\n",
                ")\r\n",
                "INSERT INTO [dbo].[episodes] ([episode], [seasonId])\r\n",
                "SELECT Number, Season\r\n",
                "FROM episodesCTE;\r\n",
                "\r\n",
                "-- insert repisodes per season\r\n",
                "WITH episodesCTE AS (\r\n",
                "    SELECT 1 AS Number, 2 as Season\r\n",
                "    UNION ALL\r\n",
                "    SELECT Number + 1, 2 as Season\r\n",
                "    FROM episodesCTE\r\n",
                "    WHERE Number <= (SELECT [episodes] FROM [desafio].[dbo].[season] WHERE id = 2)\r\n",
                ")\r\n",
                "\r\n",
                "INSERT INTO [dbo].[episodes] ([episode], [seasonId])\r\n",
                "SELECT Number, Season\r\n",
                "FROM episodesCTE;\r\n",
                "\r\n",
                "-- insert repisodes per season\r\n",
                "WITH episodesCTE AS (\r\n",
                "    SELECT 1 AS Number, 3 as Season\r\n",
                "    UNION ALL\r\n",
                "    SELECT Number + 1, 3 as Season\r\n",
                "    FROM episodesCTE\r\n",
                "    WHERE Number <= (SELECT [episodes] FROM [desafio].[dbo].[season] WHERE id = 3)\r\n",
                ")\r\n",
                "\r\n",
                "INSERT INTO [dbo].[episodes] ([episode], [seasonId])\r\n",
                "SELECT Number, Season\r\n",
                "FROM episodesCTE;\r\n",
                "\r\n",
                "-- insert repisodes per season\r\n",
                "WITH episodesCTE AS (\r\n",
                "    SELECT 1 AS Number, 4 as Season\r\n",
                "    UNION ALL\r\n",
                "    SELECT Number + 1, 4 as Season\r\n",
                "    FROM episodesCTE\r\n",
                "    WHERE Number <= (SELECT [episodes] FROM [desafio].[dbo].[season] WHERE id = 4)\r\n",
                ")\r\n",
                "\r\n",
                "INSERT INTO [dbo].[episodes] ([episode], [seasonId])\r\n",
                "SELECT Number, Season\r\n",
                "FROM episodesCTE;\r\n",
                "\r\n",
                "INSERT INTO [dbo].[episodes] ([episode], [seasonId], [airDate]) SELECT 1, 5, TRY_CONVERT(date,'09-02-2023');\r\n",
                "INSERT INTO [dbo].[episodes] ([episode], [seasonId], [airDate]) SELECT 2, 5, TRY_CONVERT(date,'09-03-2023');\r\n",
                "INSERT INTO [dbo].[episodes] ([episode], [seasonId], [airDate]) SELECT 3, 5, TRY_CONVERT(date,'09-04-2023');\r\n",
                "INSERT INTO [dbo].[episodes] ([episode], [seasonId], [airDate]) SELECT 4, 5, TRY_CONVERT(date,'09-05-2023');"
            ],
            "metadata": {
                "azdata_cell_guid": "c8290236-efc0-49b2-80fc-3eea1d9722f3",
                "language": "sql",
                "tags": []
            },
            "outputs": [
                {
                    "output_type": "display_data",
                    "data": {
                        "text/html": "Commands completed successfully."
                    },
                    "metadata": {}
                },
                {
                    "output_type": "display_data",
                    "data": {
                        "text/html": "Commands completed successfully."
                    },
                    "metadata": {}
                },
                {
                    "output_type": "display_data",
                    "data": {
                        "text/html": "Commands completed successfully."
                    },
                    "metadata": {}
                },
                {
                    "output_type": "display_data",
                    "data": {
                        "text/html": "(67 rows affected)"
                    },
                    "metadata": {}
                },
                {
                    "output_type": "display_data",
                    "data": {
                        "text/html": "(67 rows affected)"
                    },
                    "metadata": {}
                },
                {
                    "output_type": "display_data",
                    "data": {
                        "text/html": "(68 rows affected)"
                    },
                    "metadata": {}
                },
                {
                    "output_type": "display_data",
                    "data": {
                        "text/html": "(64 rows affected)"
                    },
                    "metadata": {}
                },
                {
                    "output_type": "display_data",
                    "data": {
                        "text/html": "(1 row affected)"
                    },
                    "metadata": {}
                },
                {
                    "output_type": "display_data",
                    "data": {
                        "text/html": "(1 row affected)"
                    },
                    "metadata": {}
                },
                {
                    "output_type": "display_data",
                    "data": {
                        "text/html": "(1 row affected)"
                    },
                    "metadata": {}
                },
                {
                    "output_type": "display_data",
                    "data": {
                        "text/html": "(1 row affected)"
                    },
                    "metadata": {}
                },
                {
                    "output_type": "display_data",
                    "data": {
                        "text/html": "Total execution time: 00:00:08.028"
                    },
                    "metadata": {}
                }
            ],
            "execution_count": 113
        },
        {
            "cell_type": "code",
            "source": [
                "-- Create a new table called '[city]' in schema '[dbo]'\r\n",
                "-- Drop the table if it already exists\r\n",
                "IF OBJECT_ID('[dbo].[city]', 'U') IS NOT NULL\r\n",
                "DROP TABLE [dbo].[city]\r\n",
                "GO\r\n",
                "-- Create the table in the specified schema\r\n",
                "CREATE TABLE [dbo].[city]\r\n",
                "(\r\n",
                "    [id] INT NOT NULL PRIMARY KEY IDENTITY, -- Primary Key column\r\n",
                "    [name] NVARCHAR(50) NOT NULL,\r\n",
                "    CONSTRAINT AK_name UNIQUE(name)\r\n",
                ");\r\n",
                "GO\r\n",
                "\r\n",
                "INSERT INTO [dbo].[city] ([name]) VALUES (N'София');\r\n",
                "INSERT INTO [dbo].[city] ([name]) VALUES (N'Ботевград');\r\n",
                "INSERT INTO [dbo].[city] ([name]) VALUES (N'Варна');\r\n",
                "INSERT INTO [dbo].[city] ([name]) VALUES (N'Петрич');\r\n",
                "INSERT INTO [dbo].[city] ([name]) VALUES (N'Тополовград');\r\n",
                "INSERT INTO [dbo].[city] ([name]) VALUES (N'Монтана');\r\n",
                "INSERT INTO [dbo].[city] ([name]) VALUES (N'Ямбол');\r\n",
                "INSERT INTO [dbo].[city] ([name]) VALUES (N'Бургас');\r\n",
                "INSERT INTO [dbo].[city] ([name]) VALUES (N'Благоевград');\r\n",
                "INSERT INTO [dbo].[city] ([name]) VALUES (N'Кавала');\r\n",
                "INSERT INTO [dbo].[city] ([name]) VALUES (N'Кюстендил');\r\n",
                "INSERT INTO [dbo].[city] ([name]) VALUES (N'Несебър');\r\n",
                "INSERT INTO [dbo].[city] ([name]) VALUES (N'Радомир');\r\n",
                "INSERT INTO [dbo].[city] ([name]) VALUES (N'Берлин');\r\n",
                "INSERT INTO [dbo].[city] ([name]) VALUES (N'Разград');\r\n",
                "INSERT INTO [dbo].[city] ([name]) VALUES (N'Плевен');\r\n",
                "INSERT INTO [dbo].[city] ([name]) VALUES (N'Карнобат');\r\n",
                "INSERT INTO [dbo].[city] ([name]) VALUES (N'Велико Търново');\r\n",
                "INSERT INTO [dbo].[city] ([name]) VALUES (N'Панагюрище');\r\n",
                "INSERT INTO [dbo].[city] ([name]) VALUES (N'Сливен');\r\n",
                "INSERT INTO [dbo].[city] ([name]) VALUES (N'Славяново');\r\n",
                "INSERT INTO [dbo].[city] ([name]) VALUES (N'Русе');\r\n",
                "INSERT INTO [dbo].[city] ([name]) VALUES (N'Йерусалим');\r\n",
                "INSERT INTO [dbo].[city] ([name]) VALUES (N'Харманли');\r\n",
                "INSERT INTO [dbo].[city] ([name]) VALUES (N'Златоград');\r\n",
                "INSERT INTO [dbo].[city] ([name]) VALUES (N'Карлово');\r\n",
                "INSERT INTO [dbo].[city] ([name]) VALUES (N'Самоков');\r\n",
                "INSERT INTO [dbo].[city] ([name]) VALUES (N'Белград');\r\n",
                "INSERT INTO [dbo].[city] ([name]) VALUES (N'Ловеч');\r\n",
                "INSERT INTO [dbo].[city] ([name]) VALUES (N'Добрич');\r\n",
                "INSERT INTO [dbo].[city] ([name]) VALUES (N'Пловдив');\r\n",
                "INSERT INTO [dbo].[city] ([name]) VALUES (N'Оксфорд');\r\n",
                "INSERT INTO [dbo].[city] ([name]) VALUES (N'Пазарджик');\r\n",
                "INSERT INTO [dbo].[city] ([name]) VALUES (N'Мездра');\r\n",
                "INSERT INTO [dbo].[city] ([name]) VALUES (N'Стара Загора');\r\n",
                "INSERT INTO [dbo].[city] ([name]) VALUES (N'Хасково');\r\n",
                "INSERT INTO [dbo].[city] ([name]) VALUES (N'Полша');\r\n",
                "INSERT INTO [dbo].[city] ([name]) VALUES (N'Казахстан');\r\n",
                "INSERT INTO [dbo].[city] ([name]) VALUES (N'Челопеч');\r\n",
                "INSERT INTO [dbo].[city] ([name]) VALUES (N'Куклен');\r\n",
                "INSERT INTO [dbo].[city] ([name]) VALUES (N'Стратфорд');\r\n",
                "INSERT INTO [dbo].[city] ([name]) VALUES (N'Сандански');\r\n",
                "INSERT INTO [dbo].[city] ([name]) VALUES (N'Симитли');\r\n",
                "INSERT INTO [dbo].[city] ([name]) VALUES (N'Враца');\r\n",
                "INSERT INTO [dbo].[city] ([name]) VALUES (N'Промени');\r\n",
                ""
            ],
            "metadata": {
                "language": "sql",
                "azdata_cell_guid": "e961101a-2d2c-4b8d-b1ea-a03f11ffcabc"
            },
            "outputs": [
                {
                    "output_type": "display_data",
                    "data": {
                        "text/html": "Commands completed successfully."
                    },
                    "metadata": {}
                },
                {
                    "output_type": "display_data",
                    "data": {
                        "text/html": "Commands completed successfully."
                    },
                    "metadata": {}
                },
                {
                    "output_type": "display_data",
                    "data": {
                        "text/html": "(1 row affected)"
                    },
                    "metadata": {}
                },
                {
                    "output_type": "display_data",
                    "data": {
                        "text/html": "(1 row affected)"
                    },
                    "metadata": {}
                },
                {
                    "output_type": "display_data",
                    "data": {
                        "text/html": "(1 row affected)"
                    },
                    "metadata": {}
                },
                {
                    "output_type": "display_data",
                    "data": {
                        "text/html": "(1 row affected)"
                    },
                    "metadata": {}
                },
                {
                    "output_type": "display_data",
                    "data": {
                        "text/html": "(1 row affected)"
                    },
                    "metadata": {}
                },
                {
                    "output_type": "display_data",
                    "data": {
                        "text/html": "(1 row affected)"
                    },
                    "metadata": {}
                },
                {
                    "output_type": "display_data",
                    "data": {
                        "text/html": "(1 row affected)"
                    },
                    "metadata": {}
                },
                {
                    "output_type": "display_data",
                    "data": {
                        "text/html": "(1 row affected)"
                    },
                    "metadata": {}
                },
                {
                    "output_type": "display_data",
                    "data": {
                        "text/html": "(1 row affected)"
                    },
                    "metadata": {}
                },
                {
                    "output_type": "display_data",
                    "data": {
                        "text/html": "(1 row affected)"
                    },
                    "metadata": {}
                },
                {
                    "output_type": "display_data",
                    "data": {
                        "text/html": "(1 row affected)"
                    },
                    "metadata": {}
                },
                {
                    "output_type": "display_data",
                    "data": {
                        "text/html": "(1 row affected)"
                    },
                    "metadata": {}
                },
                {
                    "output_type": "display_data",
                    "data": {
                        "text/html": "(1 row affected)"
                    },
                    "metadata": {}
                },
                {
                    "output_type": "display_data",
                    "data": {
                        "text/html": "(1 row affected)"
                    },
                    "metadata": {}
                },
                {
                    "output_type": "display_data",
                    "data": {
                        "text/html": "(1 row affected)"
                    },
                    "metadata": {}
                },
                {
                    "output_type": "display_data",
                    "data": {
                        "text/html": "(1 row affected)"
                    },
                    "metadata": {}
                },
                {
                    "output_type": "display_data",
                    "data": {
                        "text/html": "(1 row affected)"
                    },
                    "metadata": {}
                },
                {
                    "output_type": "display_data",
                    "data": {
                        "text/html": "(1 row affected)"
                    },
                    "metadata": {}
                },
                {
                    "output_type": "display_data",
                    "data": {
                        "text/html": "(1 row affected)"
                    },
                    "metadata": {}
                },
                {
                    "output_type": "display_data",
                    "data": {
                        "text/html": "(1 row affected)"
                    },
                    "metadata": {}
                },
                {
                    "output_type": "display_data",
                    "data": {
                        "text/html": "(1 row affected)"
                    },
                    "metadata": {}
                },
                {
                    "output_type": "display_data",
                    "data": {
                        "text/html": "(1 row affected)"
                    },
                    "metadata": {}
                },
                {
                    "output_type": "display_data",
                    "data": {
                        "text/html": "(1 row affected)"
                    },
                    "metadata": {}
                },
                {
                    "output_type": "display_data",
                    "data": {
                        "text/html": "(1 row affected)"
                    },
                    "metadata": {}
                },
                {
                    "output_type": "display_data",
                    "data": {
                        "text/html": "(1 row affected)"
                    },
                    "metadata": {}
                },
                {
                    "output_type": "display_data",
                    "data": {
                        "text/html": "(1 row affected)"
                    },
                    "metadata": {}
                },
                {
                    "output_type": "display_data",
                    "data": {
                        "text/html": "(1 row affected)"
                    },
                    "metadata": {}
                },
                {
                    "output_type": "display_data",
                    "data": {
                        "text/html": "(1 row affected)"
                    },
                    "metadata": {}
                },
                {
                    "output_type": "display_data",
                    "data": {
                        "text/html": "(1 row affected)"
                    },
                    "metadata": {}
                },
                {
                    "output_type": "display_data",
                    "data": {
                        "text/html": "(1 row affected)"
                    },
                    "metadata": {}
                },
                {
                    "output_type": "display_data",
                    "data": {
                        "text/html": "(1 row affected)"
                    },
                    "metadata": {}
                },
                {
                    "output_type": "display_data",
                    "data": {
                        "text/html": "(1 row affected)"
                    },
                    "metadata": {}
                },
                {
                    "output_type": "display_data",
                    "data": {
                        "text/html": "(1 row affected)"
                    },
                    "metadata": {}
                },
                {
                    "output_type": "display_data",
                    "data": {
                        "text/html": "(1 row affected)"
                    },
                    "metadata": {}
                },
                {
                    "output_type": "display_data",
                    "data": {
                        "text/html": "(1 row affected)"
                    },
                    "metadata": {}
                },
                {
                    "output_type": "display_data",
                    "data": {
                        "text/html": "(1 row affected)"
                    },
                    "metadata": {}
                },
                {
                    "output_type": "display_data",
                    "data": {
                        "text/html": "(1 row affected)"
                    },
                    "metadata": {}
                },
                {
                    "output_type": "display_data",
                    "data": {
                        "text/html": "(1 row affected)"
                    },
                    "metadata": {}
                },
                {
                    "output_type": "display_data",
                    "data": {
                        "text/html": "(1 row affected)"
                    },
                    "metadata": {}
                },
                {
                    "output_type": "display_data",
                    "data": {
                        "text/html": "(1 row affected)"
                    },
                    "metadata": {}
                },
                {
                    "output_type": "display_data",
                    "data": {
                        "text/html": "(1 row affected)"
                    },
                    "metadata": {}
                },
                {
                    "output_type": "display_data",
                    "data": {
                        "text/html": "(1 row affected)"
                    },
                    "metadata": {}
                },
                {
                    "output_type": "display_data",
                    "data": {
                        "text/html": "(1 row affected)"
                    },
                    "metadata": {}
                },
                {
                    "output_type": "display_data",
                    "data": {
                        "text/html": "(1 row affected)"
                    },
                    "metadata": {}
                },
                {
                    "output_type": "display_data",
                    "data": {
                        "text/html": "(1 row affected)"
                    },
                    "metadata": {}
                },
                {
                    "output_type": "display_data",
                    "data": {
                        "text/html": "Total execution time: 00:00:01.519"
                    },
                    "metadata": {}
                }
            ],
            "execution_count": 81
        },
        {
            "cell_type": "code",
            "source": [
                "-- Create a new table called '[tribes]' in schema '[dbo]'\r\n",
                "-- Drop the table if it already exists\r\n",
                "IF OBJECT_ID('[dbo].[tribes]', 'U') IS NOT NULL\r\n",
                "DROP TABLE [dbo].[tribes]\r\n",
                "GO\r\n",
                "-- Create the table in the specified schema\r\n",
                "CREATE TABLE [dbo].[tribes]\r\n",
                "(\r\n",
                "    [id] INT NOT NULL PRIMARY KEY IDENTITY, -- Primary Key column\r\n",
                "    [name] NVARCHAR(50) NOT NULL,\r\n",
                "    [seasonId] INT NOT NULL\r\n",
                "    -- Specify more columns here\r\n",
                ");\r\n",
                "GO\r\n",
                "\r\n",
                "INSERT INTO [dbo].[tribes] ([name],[seasonId]) VALUES (N'Прабългари',1);\r\n",
                "INSERT INTO [dbo].[tribes] ([name],[seasonId]) VALUES (N'Траки',1);\r\n",
                "INSERT INTO [dbo].[tribes] ([name],[seasonId]) VALUES (N'Славяни',1);\r\n",
                "\r\n",
                "INSERT INTO [dbo].[tribes] ([name],[seasonId]) VALUES (N'Ловци',2);\r\n",
                "INSERT INTO [dbo].[tribes] ([name],[seasonId]) VALUES (N'Жътвари',2);\r\n",
                "INSERT INTO [dbo].[tribes] ([name],[seasonId]) VALUES (N'Рибари',2);\r\n",
                "\r\n",
                "INSERT INTO [dbo].[tribes] ([name],[seasonId]) VALUES (N'Бойци',3);\r\n",
                "INSERT INTO [dbo].[tribes] ([name],[seasonId]) VALUES (N'Приключенци',3);\r\n",
                "INSERT INTO [dbo].[tribes] ([name],[seasonId]) VALUES (N'Жълти',3);\r\n",
                "\r\n",
                "INSERT INTO [dbo].[tribes] ([name],[seasonId]) VALUES (N'Безстрашни',4);\r\n",
                "INSERT INTO [dbo].[tribes] ([name],[seasonId]) VALUES (N'Непобедими',4);\r\n",
                "INSERT INTO [dbo].[tribes] ([name],[seasonId]) VALUES (N'Супергерои',4);\r\n",
                "INSERT INTO [dbo].[tribes] ([name],[seasonId]) VALUES (N'Резерви',4);\r\n",
                "\r\n",
                "INSERT INTO [dbo].[tribes] ([name],[seasonId]) VALUES (N'Старейшини',5);\r\n",
                "INSERT INTO [dbo].[tribes] ([name],[seasonId]) VALUES (N'Гладиатори',5);\r\n",
                "INSERT INTO [dbo].[tribes] ([name],[seasonId]) VALUES (N'Амазонки',5);\r\n",
                "INSERT INTO [dbo].[tribes] ([name],[seasonId]) VALUES (N'Изгубени',5);\r\n",
                "INSERT INTO [dbo].[tribes] ([name],[seasonId]) VALUES (N'Двойки',5);\r\n",
                "INSERT INTO [dbo].[tribes] ([name],[seasonId]) VALUES (N'Момчета',5);\r\n",
                "INSERT INTO [dbo].[tribes] ([name],[seasonId]) VALUES (N'Момичета',5);\r\n",
                "\r\n",
                "INSERT INTO [dbo].[tribes] ([name],[seasonId]) VALUES (N'Финалисти',5);"
            ],
            "metadata": {
                "language": "sql",
                "azdata_cell_guid": "e26595af-2601-4b9d-a39a-e1e82df55629"
            },
            "outputs": [
                {
                    "output_type": "display_data",
                    "data": {
                        "text/html": "Commands completed successfully."
                    },
                    "metadata": {}
                },
                {
                    "output_type": "display_data",
                    "data": {
                        "text/html": "Commands completed successfully."
                    },
                    "metadata": {}
                },
                {
                    "output_type": "display_data",
                    "data": {
                        "text/html": "(1 row affected)"
                    },
                    "metadata": {}
                },
                {
                    "output_type": "display_data",
                    "data": {
                        "text/html": "(1 row affected)"
                    },
                    "metadata": {}
                },
                {
                    "output_type": "display_data",
                    "data": {
                        "text/html": "(1 row affected)"
                    },
                    "metadata": {}
                },
                {
                    "output_type": "display_data",
                    "data": {
                        "text/html": "(1 row affected)"
                    },
                    "metadata": {}
                },
                {
                    "output_type": "display_data",
                    "data": {
                        "text/html": "(1 row affected)"
                    },
                    "metadata": {}
                },
                {
                    "output_type": "display_data",
                    "data": {
                        "text/html": "(1 row affected)"
                    },
                    "metadata": {}
                },
                {
                    "output_type": "display_data",
                    "data": {
                        "text/html": "(1 row affected)"
                    },
                    "metadata": {}
                },
                {
                    "output_type": "display_data",
                    "data": {
                        "text/html": "(1 row affected)"
                    },
                    "metadata": {}
                },
                {
                    "output_type": "display_data",
                    "data": {
                        "text/html": "(1 row affected)"
                    },
                    "metadata": {}
                },
                {
                    "output_type": "display_data",
                    "data": {
                        "text/html": "(1 row affected)"
                    },
                    "metadata": {}
                },
                {
                    "output_type": "display_data",
                    "data": {
                        "text/html": "(1 row affected)"
                    },
                    "metadata": {}
                },
                {
                    "output_type": "display_data",
                    "data": {
                        "text/html": "(1 row affected)"
                    },
                    "metadata": {}
                },
                {
                    "output_type": "display_data",
                    "data": {
                        "text/html": "(1 row affected)"
                    },
                    "metadata": {}
                },
                {
                    "output_type": "display_data",
                    "data": {
                        "text/html": "(1 row affected)"
                    },
                    "metadata": {}
                },
                {
                    "output_type": "display_data",
                    "data": {
                        "text/html": "(1 row affected)"
                    },
                    "metadata": {}
                },
                {
                    "output_type": "display_data",
                    "data": {
                        "text/html": "(1 row affected)"
                    },
                    "metadata": {}
                },
                {
                    "output_type": "display_data",
                    "data": {
                        "text/html": "(1 row affected)"
                    },
                    "metadata": {}
                },
                {
                    "output_type": "display_data",
                    "data": {
                        "text/html": "(1 row affected)"
                    },
                    "metadata": {}
                },
                {
                    "output_type": "display_data",
                    "data": {
                        "text/html": "(1 row affected)"
                    },
                    "metadata": {}
                },
                {
                    "output_type": "display_data",
                    "data": {
                        "text/html": "(1 row affected)"
                    },
                    "metadata": {}
                },
                {
                    "output_type": "display_data",
                    "data": {
                        "text/html": "(1 row affected)"
                    },
                    "metadata": {}
                },
                {
                    "output_type": "display_data",
                    "data": {
                        "text/html": "Total execution time: 00:00:00.639"
                    },
                    "metadata": {}
                }
            ],
            "execution_count": 82
        },
        {
            "cell_type": "code",
            "source": [
                "-- Create a new table called '[skills]' in schema '[dbo]'\r\n",
                "-- Drop the table if it already exists\r\n",
                "IF OBJECT_ID('[dbo].[skills]', 'U') IS NOT NULL\r\n",
                "DROP TABLE [dbo].[skills]\r\n",
                "GO\r\n",
                "-- Create the table in the specified schema\r\n",
                "CREATE TABLE [dbo].[skills]\r\n",
                "(\r\n",
                "    [Id] INT NOT NULL PRIMARY KEY IDENTITY, -- Primary Key column\r\n",
                "    [name] NVARCHAR(50) NOT NULL\r\n",
                ");\r\n",
                "GO\r\n",
                "\r\n",
                "INSERT INTO [dbo].[skills] ([name]) VALUES(N'издържливост');\r\n",
                "INSERT INTO [dbo].[skills] ([name]) VALUES(N'баланс');\r\n",
                "INSERT INTO [dbo].[skills] ([name]) VALUES(N'ловкост');\r\n",
                "INSERT INTO [dbo].[skills] ([name]) VALUES(N'късмет');\r\n",
                "INSERT INTO [dbo].[skills] ([name]) VALUES(N'точност');\r\n",
                "INSERT INTO [dbo].[skills] ([name]) VALUES(N'съобразителност');\r\n",
                "INSERT INTO [dbo].[skills] ([name]) VALUES(N'изометрия');"
            ],
            "metadata": {
                "azdata_cell_guid": "56af1719-fd1d-4eb6-9908-d6ace251ba69",
                "language": "sql"
            },
            "outputs": [
                {
                    "output_type": "display_data",
                    "data": {
                        "text/html": "Commands completed successfully."
                    },
                    "metadata": {}
                },
                {
                    "output_type": "display_data",
                    "data": {
                        "text/html": "Commands completed successfully."
                    },
                    "metadata": {}
                },
                {
                    "output_type": "display_data",
                    "data": {
                        "text/html": "(1 row affected)"
                    },
                    "metadata": {}
                },
                {
                    "output_type": "display_data",
                    "data": {
                        "text/html": "(1 row affected)"
                    },
                    "metadata": {}
                },
                {
                    "output_type": "display_data",
                    "data": {
                        "text/html": "(1 row affected)"
                    },
                    "metadata": {}
                },
                {
                    "output_type": "display_data",
                    "data": {
                        "text/html": "(1 row affected)"
                    },
                    "metadata": {}
                },
                {
                    "output_type": "display_data",
                    "data": {
                        "text/html": "(1 row affected)"
                    },
                    "metadata": {}
                },
                {
                    "output_type": "display_data",
                    "data": {
                        "text/html": "(1 row affected)"
                    },
                    "metadata": {}
                },
                {
                    "output_type": "display_data",
                    "data": {
                        "text/html": "(1 row affected)"
                    },
                    "metadata": {}
                },
                {
                    "output_type": "display_data",
                    "data": {
                        "text/html": "Total execution time: 00:00:00.283"
                    },
                    "metadata": {}
                }
            ],
            "execution_count": 83
        },
        {
            "cell_type": "code",
            "source": [
                "-- Create a new table called '[battleComponent]' in schema '[dbo]'\r\n",
                "-- Drop the table if it already exists\r\n",
                "IF OBJECT_ID('[dbo].[battleComponent]', 'U') IS NOT NULL\r\n",
                "DROP TABLE [dbo].[battleComponent]\r\n",
                "GO\r\n",
                "-- Create the table in the specified schema\r\n",
                "CREATE TABLE [dbo].[battleComponent]\r\n",
                "(\r\n",
                "    [Id] INT NOT NULL PRIMARY KEY IDENTITY, -- Primary Key column\r\n",
                "    [name] NVARCHAR(50) NOT NULL,\r\n",
                "    [type] NVARCHAR(50) NOT NULL,\r\n",
                "    -- Specify more columns here\r\n",
                ");\r\n",
                "GO\r\n",
                "\r\n",
                "INSERT INTO [dbo].[battleComponent] ([name], [type]) VALUES (N'Мелница', '');\r\n",
                "INSERT INTO [dbo].[battleComponent] ([name], [type]) VALUES (N'Изометрия над басейн', '');\r\n",
                "INSERT INTO [dbo].[battleComponent] ([name], [type]) VALUES (N'Хималайска стълба', '');\r\n",
                "INSERT INTO [dbo].[battleComponent] ([name], [type]) VALUES (N'Рибна глава', '');\r\n",
                "INSERT INTO [dbo].[battleComponent] ([name], [type]) VALUES (N'Риболов на куки', '');\r\n",
                "INSERT INTO [dbo].[battleComponent] ([name], [type]) VALUES (N'Хващане на куки с котва', '');\r\n",
                "INSERT INTO [dbo].[battleComponent] ([name], [type]) VALUES (N'Басейн с торбички', '');"
            ],
            "metadata": {
                "azdata_cell_guid": "35746813-5211-4b03-9617-ae33b6c869f5",
                "language": "sql"
            },
            "outputs": [
                {
                    "output_type": "display_data",
                    "data": {
                        "text/html": "Commands completed successfully."
                    },
                    "metadata": {}
                },
                {
                    "output_type": "display_data",
                    "data": {
                        "text/html": "Commands completed successfully."
                    },
                    "metadata": {}
                },
                {
                    "output_type": "display_data",
                    "data": {
                        "text/html": "(1 row affected)"
                    },
                    "metadata": {}
                },
                {
                    "output_type": "display_data",
                    "data": {
                        "text/html": "(1 row affected)"
                    },
                    "metadata": {}
                },
                {
                    "output_type": "display_data",
                    "data": {
                        "text/html": "(1 row affected)"
                    },
                    "metadata": {}
                },
                {
                    "output_type": "display_data",
                    "data": {
                        "text/html": "(1 row affected)"
                    },
                    "metadata": {}
                },
                {
                    "output_type": "display_data",
                    "data": {
                        "text/html": "(1 row affected)"
                    },
                    "metadata": {}
                },
                {
                    "output_type": "display_data",
                    "data": {
                        "text/html": "(1 row affected)"
                    },
                    "metadata": {}
                },
                {
                    "output_type": "display_data",
                    "data": {
                        "text/html": "(1 row affected)"
                    },
                    "metadata": {}
                },
                {
                    "output_type": "display_data",
                    "data": {
                        "text/html": "Total execution time: 00:00:00.286"
                    },
                    "metadata": {}
                }
            ],
            "execution_count": 84
        },
        {
            "cell_type": "code",
            "source": [
                "-- Create a new table called '[participant]' in schema '[dbo]'\r\n",
                "-- Drop the table if it already exists\r\n",
                "IF OBJECT_ID('[dbo].[participant]', 'U') IS NOT NULL\r\n",
                "DROP TABLE [dbo].[participant]\r\n",
                "GO\r\n",
                "-- Create the table in the specified schema\r\n",
                "CREATE TABLE [dbo].[participant]\r\n",
                "(\r\n",
                "    [id] INT NOT NULL PRIMARY KEY IDENTITY, -- Primary Key column\r\n",
                "    [name] NVARCHAR(50) NOT NULL,\r\n",
                "    [sex] VARCHAR (1) NOT NULL,\r\n",
                "    [age] INT NOT NULL,\r\n",
                "    [seasonId] INT,\r\n",
                "    [cityId] INT NOT NULL\r\n",
                "    -- Specify more columns here\r\n",
                ");\r\n",
                "GO\r\n",
                "\r\n",
                "/*Season 1*/\r\n",
                "\r\n",
                "INSERT INTO [dbo].[participant] ([name], [sex], [age], [seasonId], [cityId]) SELECT N'Анита Аризанова', 'f', 35, 1, [id] FROM [dbo].[city] WHERE [dbo].[city].[name] = N'София';\r\n",
                "INSERT INTO [dbo].[participant] ([name], [sex], [age], [seasonId], [cityId]) SELECT N'Гичка Пътникова', 'f', 25, 1, [id] FROM [dbo].[city] WHERE [dbo].[city].[name] = N'Петрич';\r\n",
                "INSERT INTO [dbo].[participant] ([name], [sex], [age], [seasonId], [cityId]) SELECT N'Илиян Миланов', 'm', 27, 1, [id] FROM [dbo].[city] WHERE [dbo].[city].[name] = N'Тополовград';\r\n",
                "INSERT INTO [dbo].[participant] ([name], [sex], [age], [seasonId], [cityId]) SELECT N'Йоана Емилова', 'f', 20, 1, [id] FROM [dbo].[city] WHERE [dbo].[city].[name] = N'Монтана';\r\n",
                "INSERT INTO [dbo].[participant] ([name], [sex], [age], [seasonId], [cityId]) SELECT N'Георги Иванов', 'm', 28, 1, [id] FROM [dbo].[city] WHERE [dbo].[city].[name] = N'Ямбол';\r\n",
                "INSERT INTO [dbo].[participant] ([name], [sex], [age], [seasonId], [cityId]) SELECT N'Бояна Генова', 'm', 27, 1, [id] FROM [dbo].[city] WHERE [dbo].[city].[name] = N'Бургас';\r\n",
                "INSERT INTO [dbo].[participant] ([name], [sex], [age], [seasonId], [cityId]) SELECT N'Марешка Глущук', 'f', 23, 1, [id] FROM [dbo].[city] WHERE [dbo].[city].[name] = N'Варна';\r\n",
                "INSERT INTO [dbo].[participant] ([name], [sex], [age], [seasonId], [cityId]) SELECT N'Атанас Бръндев', 'm', 29, 1, [id] FROM [dbo].[city] WHERE [dbo].[city].[name] = N'Благоевград';\r\n",
                "INSERT INTO [dbo].[participant] ([name], [sex], [age], [seasonId], [cityId]) SELECT N'Амелия-Мира Маркова', 'f', 27, 1, [id] FROM [dbo].[city] WHERE [dbo].[city].[name] = N'София';\r\n",
                "INSERT INTO [dbo].[participant] ([name], [sex], [age], [seasonId], [cityId]) SELECT N'Георгиос Сърбинов', 'm', 32, 1, [id] FROM [dbo].[city] WHERE [dbo].[city].[name] = N'Кавала';\r\n",
                "INSERT INTO [dbo].[participant] ([name], [sex], [age], [seasonId], [cityId]) SELECT N'Александър Кирилов', 'm', 32, 1, [id] FROM [dbo].[city] WHERE [dbo].[city].[name] = N'Петрич';\r\n",
                "INSERT INTO [dbo].[participant] ([name], [sex], [age], [seasonId], [cityId]) SELECT N'Стоян Вълчев', 'm', 23, 1, [id] FROM [dbo].[city] WHERE [dbo].[city].[name] = N'Несебър';\r\n",
                "INSERT INTO [dbo].[participant] ([name], [sex], [age], [seasonId], [cityId]) SELECT N'Роберта Стойнева', 'm', 23, 1, [id] FROM [dbo].[city] WHERE [dbo].[city].[name] = N'Радомир';\r\n",
                "INSERT INTO [dbo].[participant] ([name], [sex], [age], [seasonId], [cityId]) SELECT N'Март Лачев', 'm', 25, 1, [id] FROM [dbo].[city] WHERE [dbo].[city].[name] = N'София';\r\n",
                "INSERT INTO [dbo].[participant] ([name], [sex], [age], [seasonId], [cityId]) SELECT N'Елена Иванова', 'f', 32, 1, [id] FROM [dbo].[city] WHERE [dbo].[city].[name] = N'София';\r\n",
                "INSERT INTO [dbo].[participant] ([name], [sex], [age], [seasonId], [cityId]) SELECT N'Стефания Иванова', 'f', 32, 1, [id] FROM [dbo].[city] WHERE [dbo].[city].[name] = N'София';\r\n",
                "INSERT INTO [dbo].[participant] ([name], [sex], [age], [seasonId], [cityId]) SELECT N'Томас Нацидис', 'm', 25, 1, [id] FROM [dbo].[city] WHERE [dbo].[city].[name] = N'Ямбол';\r\n",
                "INSERT INTO [dbo].[participant] ([name], [sex], [age], [seasonId], [cityId]) SELECT N'Венцислава Панева', 'f', 34, 1, [id] FROM [dbo].[city] WHERE [dbo].[city].[name] = N'Ямбол';\r\n",
                "INSERT INTO [dbo].[participant] ([name], [sex], [age], [seasonId], [cityId]) SELECT N'Радостина Бохорова', 'f', 39, 1, [id] FROM [dbo].[city] WHERE [dbo].[city].[name] = N'Ямбол';\r\n",
                "INSERT INTO [dbo].[participant] ([name], [sex], [age], [seasonId], [cityId]) SELECT N'Пламен Младенов', 'm', 31, 1, [id] FROM [dbo].[city] WHERE [dbo].[city].[name] = N'Ямбол';\r\n",
                "INSERT INTO [dbo].[participant] ([name], [sex], [age], [seasonId], [cityId]) SELECT N'Анна-Мария Крайчева', 'f', 27, 1, [id] FROM [dbo].[city] WHERE [dbo].[city].[name] = N'Ямбол';\r\n",
                "INSERT INTO [dbo].[participant] ([name], [sex], [age], [seasonId], [cityId]) SELECT N'Веселин Панчев', 'm', 32, 1, [id] FROM [dbo].[city] WHERE [dbo].[city].[name] = N'Ямбол';\r\n",
                "INSERT INTO [dbo].[participant] ([name], [sex], [age], [seasonId], [cityId]) SELECT N'Юлиян Златев', 'm', 30, 1, [id] FROM [dbo].[city] WHERE [dbo].[city].[name] = N'Ямбол';\r\n",
                "INSERT INTO [dbo].[participant] ([name], [sex], [age], [seasonId], [cityId]) SELECT N'Добрин Николов', 'm', 27, 1, [id] FROM [dbo].[city] WHERE [dbo].[city].[name] = N'Ямбол';\r\n",
                "\r\n",
                "/*Season 2*/\r\n",
                "\r\n",
                "INSERT INTO [dbo].[participant] ([name], [sex], [age], [seasonId], [cityId]) SELECT N'Пламен Диков', 'm', 21, 2, [id] FROM [dbo].[city] WHERE [dbo].[city].[name] = N'София';\r\n",
                "INSERT INTO [dbo].[participant] ([name], [sex], [age], [seasonId], [cityId]) SELECT N'Елена Василева', 'f', 20, 2, [id] FROM [dbo].[city] WHERE [dbo].[city].[name] = N'Ботевград';\r\n",
                "INSERT INTO [dbo].[participant] ([name], [sex], [age], [seasonId], [cityId]) SELECT N'Ева Карамфилова', 'f', 24, 2, [id] FROM [dbo].[city] WHERE [dbo].[city].[name] = N'Варна';\r\n",
                "INSERT INTO [dbo].[participant] ([name], [sex], [age], [seasonId], [cityId]) SELECT N'Мая Тановска', 'f', 30, 2, [id] FROM [dbo].[city] WHERE [dbo].[city].[name] = N'София';\r\n",
                "INSERT INTO [dbo].[participant] ([name], [sex], [age], [seasonId], [cityId]) SELECT N'Иван Драганов', 'm', 38, 2, [id] FROM [dbo].[city] WHERE [dbo].[city].[name] = N'София';\r\n",
                "INSERT INTO [dbo].[participant] ([name], [sex], [age], [seasonId], [cityId]) SELECT N'Димитър Банчев', 'm', 33, 2, [id] FROM [dbo].[city] WHERE [dbo].[city].[name] = N'Сливен';\r\n",
                "INSERT INTO [dbo].[participant] ([name], [sex], [age], [seasonId], [cityId]) SELECT N'Ивайло Тодоров', 'm', 25, 2, [id] FROM [dbo].[city] WHERE [dbo].[city].[name] = N'Сливен';\r\n",
                "INSERT INTO [dbo].[participant] ([name], [sex], [age], [seasonId], [cityId]) SELECT N'Христа Аспарухова', 'f', 35, 2, [id] FROM [dbo].[city] WHERE [dbo].[city].[name] = N'Плевен';\r\n",
                "INSERT INTO [dbo].[participant] ([name], [sex], [age], [seasonId], [cityId]) SELECT N'Сюзън Георгиева', 'f', 20, 2, [id] FROM [dbo].[city] WHERE [dbo].[city].[name] = N'София';\r\n",
                "INSERT INTO [dbo].[participant] ([name], [sex], [age], [seasonId], [cityId]) SELECT N'Станимира Неделчева', 'f', 25, 2, [id] FROM [dbo].[city] WHERE [dbo].[city].[name] = N'Бургас';\r\n",
                "\r\n",
                "INSERT INTO [dbo].[participant] ([name], [sex], [age], [seasonId], [cityId]) SELECT N'Александър Димитров', 'm', 32, 2, [id] FROM [dbo].[city] WHERE [dbo].[city].[name] = N'Варна';\r\n",
                "INSERT INTO [dbo].[participant] ([name], [sex], [age], [seasonId], [cityId]) SELECT N'Ивана Дилова', 'f', 21, 2, [id] FROM [dbo].[city] WHERE [dbo].[city].[name] = N'София';\r\n",
                "INSERT INTO [dbo].[participant] ([name], [sex], [age], [seasonId], [cityId]) SELECT N'Симона Станиславова', 'f', 28, 2, [id] FROM [dbo].[city] WHERE [dbo].[city].[name] = N'Ловеч';\r\n",
                "INSERT INTO [dbo].[participant] ([name], [sex], [age], [seasonId], [cityId]) SELECT N'Владислав Стоименов', 'm', 31, 2, [id] FROM [dbo].[city] WHERE [dbo].[city].[name] = N'Кюстендил';\r\n",
                "INSERT INTO [dbo].[participant] ([name], [sex], [age], [seasonId], [cityId]) SELECT N'Николай Стефанов', 'm', 25, 2, [id] FROM [dbo].[city] WHERE [dbo].[city].[name] = N'София';\r\n",
                "INSERT INTO [dbo].[participant] ([name], [sex], [age], [seasonId], [cityId]) SELECT N'Любомир Костов', 'm', 29, 2, [id] FROM [dbo].[city] WHERE [dbo].[city].[name] = N'Петрич';\r\n",
                "INSERT INTO [dbo].[participant] ([name], [sex], [age], [seasonId], [cityId]) SELECT N'Чудомир Григоров', 'm', 31, 2, [id] FROM [dbo].[city] WHERE [dbo].[city].[name] = N'Пловдив';\r\n",
                "\r\n",
                "INSERT INTO [dbo].[participant] ([name], [sex], [age], [seasonId], [cityId]) SELECT N'Тодор Желязков', 'm', 33, 2, [id] FROM [dbo].[city] WHERE [dbo].[city].[name] = N'Бургас';\r\n",
                "INSERT INTO [dbo].[participant] ([name], [sex], [age], [seasonId], [cityId]) SELECT N'Екатерина Лазарова', 'f', 29, 2, [id] FROM [dbo].[city] WHERE [dbo].[city].[name] = N'София';\r\n",
                "INSERT INTO [dbo].[participant] ([name], [sex], [age], [seasonId], [cityId]) SELECT N'Джералдин Тодорова', 'f', 18, 2, [id] FROM [dbo].[city] WHERE [dbo].[city].[name] = N'Оксфорд';\r\n",
                "INSERT INTO [dbo].[participant] ([name], [sex], [age], [seasonId], [cityId]) SELECT N'Николай Лазаринов', 'm', 23, 2, [id] FROM [dbo].[city] WHERE [dbo].[city].[name] = N'Пловдив';\r\n",
                "INSERT INTO [dbo].[participant] ([name], [sex], [age], [seasonId], [cityId]) SELECT N'Йоанна Лазарова', 'f', 22, 2, [id] FROM [dbo].[city] WHERE [dbo].[city].[name] = N'София';\r\n",
                "INSERT INTO [dbo].[participant] ([name], [sex], [age], [seasonId], [cityId]) SELECT N'Вайс Сайфи', 'f', 28, 2, [id] FROM [dbo].[city] WHERE [dbo].[city].[name] = N'Пазарджик';\r\n",
                "INSERT INTO [dbo].[participant] ([name], [sex], [age], [seasonId], [cityId]) SELECT N'Ваня Запрянова', 'f', 27, 2, [id] FROM [dbo].[city] WHERE [dbo].[city].[name] = N'Карнобат';\r\n",
                "INSERT INTO [dbo].[participant] ([name], [sex], [age], [seasonId], [cityId]) SELECT N'Борислав Лазаров', 'm', 27, 2, [id] FROM [dbo].[city] WHERE [dbo].[city].[name] = N'София';\r\n",
                "INSERT INTO [dbo].[participant] ([name], [sex], [age], [seasonId], [cityId]) SELECT N'Милен Цветков', 'm', 31, 2, [id] FROM [dbo].[city] WHERE [dbo].[city].[name] = N'Пазарджик';\r\n",
                "\r\n",
                "/*Season 3*/\r\n",
                "\r\n",
                "INSERT INTO [dbo].[participant] ([name], [sex], [age], [seasonId], [cityId]) SELECT N'Иван Булкин', 'm', 26, 3, [id] FROM [dbo].[city] WHERE [dbo].[city].[name] = N'Пловдив';\r\n",
                "INSERT INTO [dbo].[participant] ([name], [sex], [age], [seasonId], [cityId]) SELECT N'Златозар Атанасов', 'm', 31, 3, [id] FROM [dbo].[city] WHERE [dbo].[city].[name] = N'Пловдив';\r\n",
                "INSERT INTO [dbo].[participant] ([name], [sex], [age], [seasonId], [cityId]) SELECT N'Елия Мицова', 'f', 28, 3, [id] FROM [dbo].[city] WHERE [dbo].[city].[name] = N'Кюстендил';\r\n",
                "INSERT INTO [dbo].[participant] ([name], [sex], [age], [seasonId], [cityId]) SELECT N'Станислава Петрова', 'f', 24, 3, [id] FROM [dbo].[city] WHERE [dbo].[city].[name] = N'Бургас';\r\n",
                "INSERT INTO [dbo].[participant] ([name], [sex], [age], [seasonId], [cityId]) SELECT N'Виктория Петрова', 'f', 35, 3, [id] FROM [dbo].[city] WHERE [dbo].[city].[name] = N'Русе';\r\n",
                "INSERT INTO [dbo].[participant] ([name], [sex], [age], [seasonId], [cityId]) SELECT N'Георги Братоев', 'm', 33, 3, [id] FROM [dbo].[city] WHERE [dbo].[city].[name] = N'София';\r\n",
                "INSERT INTO [dbo].[participant] ([name], [sex], [age], [seasonId], [cityId]) SELECT N'Александър Цеков', 'm', 36, 3, [id] FROM [dbo].[city] WHERE [dbo].[city].[name] = N'София';\r\n",
                "INSERT INTO [dbo].[participant] ([name], [sex], [age], [seasonId], [cityId]) SELECT N'Габриела Димитрова', 'f', 21, 3, [id] FROM [dbo].[city] WHERE [dbo].[city].[name] = N'Варна';\r\n",
                "INSERT INTO [dbo].[participant] ([name], [sex], [age], [seasonId], [cityId]) SELECT N'Соня Милева', 'f', 43, 3, [id] FROM [dbo].[city] WHERE [dbo].[city].[name] = N'София';\r\n",
                "INSERT INTO [dbo].[participant] ([name], [sex], [age], [seasonId], [cityId]) SELECT N'Елена Боянова', 'f', 27, 3, [id] FROM [dbo].[city] WHERE [dbo].[city].[name] = N'Пловдив';\r\n",
                "INSERT INTO [dbo].[participant] ([name], [sex], [age], [seasonId], [cityId]) SELECT N'Семира Ал Сарай', 'f', 24, 3, [id] FROM [dbo].[city] WHERE [dbo].[city].[name] = N'София';\r\n",
                "INSERT INTO [dbo].[participant] ([name], [sex], [age], [seasonId], [cityId]) SELECT N'Верислав Туджаров', 'm', 32, 3, [id] FROM [dbo].[city] WHERE [dbo].[city].[name] = N'София';\r\n",
                "INSERT INTO [dbo].[participant] ([name], [sex], [age], [seasonId], [cityId]) SELECT N'Калоян Проданов', 'm', 32, 3, [id] FROM [dbo].[city] WHERE [dbo].[city].[name] = N'Добрич';\r\n",
                "INSERT INTO [dbo].[participant] ([name], [sex], [age], [seasonId], [cityId]) SELECT N'Мартин Монев', 'm', 32, 3, [id] FROM [dbo].[city] WHERE [dbo].[city].[name] = N'Стара Загора';\r\n",
                "\r\n",
                "INSERT INTO [dbo].[participant] ([name], [sex], [age], [seasonId], [cityId]) SELECT N'Стоян Димитров', 'm', 51, 3, [id] FROM [dbo].[city] WHERE [dbo].[city].[name] = N'Ботевград';\r\n",
                "INSERT INTO [dbo].[participant] ([name], [sex], [age], [seasonId], [cityId]) SELECT N'Красима Кирова', 'f', 21, 3, [id] FROM [dbo].[city] WHERE [dbo].[city].[name] = N'Варна';\r\n",
                "INSERT INTO [dbo].[participant] ([name], [sex], [age], [seasonId], [cityId]) SELECT N'Кремена Русева', 'f', 40, 3, [id] FROM [dbo].[city] WHERE [dbo].[city].[name] = N'Хасково';\r\n",
                "INSERT INTO [dbo].[participant] ([name], [sex], [age], [seasonId], [cityId]) SELECT N'Валентин Мичев', 'm', 24, 3, [id] FROM [dbo].[city] WHERE [dbo].[city].[name] = N'Пловдив';\r\n",
                "INSERT INTO [dbo].[participant] ([name], [sex], [age], [seasonId], [cityId]) SELECT N'Мани Ву Нанг Тъ', 'f', 34, 3, [id] FROM [dbo].[city] WHERE [dbo].[city].[name] = N'Бургас';\r\n",
                "INSERT INTO [dbo].[participant] ([name], [sex], [age], [seasonId], [cityId]) SELECT N'Милена Мирева', 'f', 25, 3, [id] FROM [dbo].[city] WHERE [dbo].[city].[name] = N'София';\r\n",
                "INSERT INTO [dbo].[participant] ([name], [sex], [age], [seasonId], [cityId]) SELECT N'Димитър Морунов', 'm', 32, 3, [id] FROM [dbo].[city] WHERE [dbo].[city].[name] = N'Самоков';\r\n",
                "\r\n",
                "INSERT INTO [dbo].[participant] ([name], [sex], [age], [seasonId], [cityId]) SELECT N'Георги Рабухчиев', 'm', 24, 3, [id] FROM [dbo].[city] WHERE [dbo].[city].[name] = N'Стара Загора';\r\n",
                "INSERT INTO [dbo].[participant] ([name], [sex], [age], [seasonId], [cityId]) SELECT N'Борис Налбантов', 'm', 27, 3, [id] FROM [dbo].[city] WHERE [dbo].[city].[name] = N'София';\r\n",
                "INSERT INTO [dbo].[participant] ([name], [sex], [age], [seasonId], [cityId]) SELECT N'Елизабет Василева', 'f', 21, 3, [id] FROM [dbo].[city] WHERE [dbo].[city].[name] = N'София';\r\n",
                "INSERT INTO [dbo].[participant] ([name], [sex], [age], [seasonId], [cityId]) SELECT N'Неделчо Богданов', 'm', 21, 3, [id] FROM [dbo].[city] WHERE [dbo].[city].[name] = N'Несебър';\r\n",
                "INSERT INTO [dbo].[participant] ([name], [sex], [age], [seasonId], [cityId]) SELECT N'Стратимир Георгиев', 'm', 28, 3, [id] FROM [dbo].[city] WHERE [dbo].[city].[name] = N'Варна';\r\n",
                "INSERT INTO [dbo].[participant] ([name], [sex], [age], [seasonId], [cityId]) SELECT N'Паулина Горанов', 'f', 24, 3, [id] FROM [dbo].[city] WHERE [dbo].[city].[name] = N'Полша';\r\n",
                "INSERT INTO [dbo].[participant] ([name], [sex], [age], [seasonId], [cityId]) SELECT N'Симеон Станкович', 'm', 25, 3, [id] FROM [dbo].[city] WHERE [dbo].[city].[name] = N'София';\r\n",
                "INSERT INTO [dbo].[participant] ([name], [sex], [age], [seasonId], [cityId]) SELECT N'Андрей Гридин', 'm', 28, 3, [id] FROM [dbo].[city] WHERE [dbo].[city].[name] = N'Казахстан';\r\n",
                "\r\n",
                "/*Season 4*/\r\n",
                "\r\n",
                "INSERT INTO [dbo].[participant] ([name], [sex], [age], [seasonId], [cityId]) SELECT N'Илина Георгиева', 'f', 30, 4, [id] FROM [dbo].[city] WHERE [dbo].[city].[name] = N'Велико Търново';\r\n",
                "INSERT INTO [dbo].[participant] ([name], [sex], [age], [seasonId], [cityId]) SELECT N'Иван Мирчев', 'm', 29, 4, [id] FROM [dbo].[city] WHERE [dbo].[city].[name] = N'Благоевград';\r\n",
                "INSERT INTO [dbo].[participant] ([name], [sex], [age], [seasonId], [cityId]) SELECT N'Димитър Куков', 'm', 32, 4, [id] FROM [dbo].[city] WHERE [dbo].[city].[name] = N'София';\r\n",
                "INSERT INTO [dbo].[participant] ([name], [sex], [age], [seasonId], [cityId]) SELECT N'Иван Гайтанов', 'm', 20, 4, [id] FROM [dbo].[city] WHERE [dbo].[city].[name] = N'Бургас';\r\n",
                "INSERT INTO [dbo].[participant] ([name], [sex], [age], [seasonId], [cityId]) SELECT N'Велислава Ангелова', 'f', 29, 4, [id] FROM [dbo].[city] WHERE [dbo].[city].[name] = N'Панагюрище';\r\n",
                "INSERT INTO [dbo].[participant] ([name], [sex], [age], [seasonId], [cityId]) SELECT N'Елина Пашаланова', 'f', 30, 4, [id] FROM [dbo].[city] WHERE [dbo].[city].[name] = N'Сливен';\r\n",
                "INSERT INTO [dbo].[participant] ([name], [sex], [age], [seasonId], [cityId]) SELECT N'Аспарух Тотев', 'm', 23, 4, [id] FROM [dbo].[city] WHERE [dbo].[city].[name] = N'София';\r\n",
                "INSERT INTO [dbo].[participant] ([name], [sex], [age], [seasonId], [cityId]) SELECT N'Веселина Ефремова', 'f', 42, 4, [id] FROM [dbo].[city] WHERE [dbo].[city].[name] = N'София';\r\n",
                "INSERT INTO [dbo].[participant] ([name], [sex], [age], [seasonId], [cityId]) SELECT N'Николай Чакалов', 'm', 26, 4, [id] FROM [dbo].[city] WHERE [dbo].[city].[name] = N'Славяново';\r\n",
                "INSERT INTO [dbo].[participant] ([name], [sex], [age], [seasonId], [cityId]) SELECT N'Валери Григоров', 'm', 23, 4, [id] FROM [dbo].[city] WHERE [dbo].[city].[name] = N'София';\r\n",
                "INSERT INTO [dbo].[participant] ([name], [sex], [age], [seasonId], [cityId]) SELECT N'Звезделина Георгиева', 'f', 30, 4, [id] FROM [dbo].[city] WHERE [dbo].[city].[name] = N'Варна';\r\n",
                "INSERT INTO [dbo].[participant] ([name], [sex], [age], [seasonId], [cityId]) SELECT N'Касим Касимов', 'm', 21, 4, [id] FROM [dbo].[city] WHERE [dbo].[city].[name] = N'Русе';\r\n",
                "INSERT INTO [dbo].[participant] ([name], [sex], [age], [seasonId], [cityId]) SELECT N'Илиян Цветков', 'm', 20, 4, [id] FROM [dbo].[city] WHERE [dbo].[city].[name] = N'Бургас';\r\n",
                "INSERT INTO [dbo].[participant] ([name], [sex], [age], [seasonId], [cityId]) SELECT N'Цветан Петров', 'm', 34, 4, [id] FROM [dbo].[city] WHERE [dbo].[city].[name] = N'София';\r\n",
                "\r\n",
                "INSERT INTO [dbo].[participant] ([name], [sex], [age], [seasonId], [cityId]) SELECT N'Елица Янкова', 'f', 27, 4, [id] FROM [dbo].[city] WHERE [dbo].[city].[name] = N'Варна';\r\n",
                "INSERT INTO [dbo].[participant] ([name], [sex], [age], [seasonId], [cityId]) SELECT N'Михаела Тодорова', 'f', 26, 4, [id] FROM [dbo].[city] WHERE [dbo].[city].[name] = N'София';\r\n",
                "INSERT INTO [dbo].[participant] ([name], [sex], [age], [seasonId], [cityId]) SELECT N'Александра Фейгин', 'f', 19, 4, [id] FROM [dbo].[city] WHERE [dbo].[city].[name] = N'Йерусалим';\r\n",
                "INSERT INTO [dbo].[participant] ([name], [sex], [age], [seasonId], [cityId]) SELECT N'Мирела Илиева', 'f', 21, 4, [id] FROM [dbo].[city] WHERE [dbo].[city].[name] = N'Варна';\r\n",
                "INSERT INTO [dbo].[participant] ([name], [sex], [age], [seasonId], [cityId]) SELECT N'Димитър Лефтеров', 'm', 28, 4, [id] FROM [dbo].[city] WHERE [dbo].[city].[name] = N'Велико Търново';\r\n",
                "INSERT INTO [dbo].[participant] ([name], [sex], [age], [seasonId], [cityId]) SELECT N'Генчо Генчев', 'm', 33, 4, [id] FROM [dbo].[city] WHERE [dbo].[city].[name] = N'Харманли';\r\n",
                "INSERT INTO [dbo].[participant] ([name], [sex], [age], [seasonId], [cityId]) SELECT N'Зорница Стоилова', 'm', 21, 4, [id] FROM [dbo].[city] WHERE [dbo].[city].[name] = N'София';\r\n",
                "\r\n",
                "INSERT INTO [dbo].[participant] ([name], [sex], [age], [seasonId], [cityId]) SELECT N'Мирослава Профирова', 'f', 35, 4, [id] FROM [dbo].[city] WHERE [dbo].[city].[name] = N'Златоград';\r\n",
                "INSERT INTO [dbo].[participant] ([name], [sex], [age], [seasonId], [cityId]) SELECT N'Мануела Тонева „Мани“', 'f', 25, 4, [id] FROM [dbo].[city] WHERE [dbo].[city].[name] = N'Карлово';\r\n",
                "INSERT INTO [dbo].[participant] ([name], [sex], [age], [seasonId], [cityId]) SELECT N'Евгения Джаферович', 'f', 32, 4, [id] FROM [dbo].[city] WHERE [dbo].[city].[name] = N'София';\r\n",
                "INSERT INTO [dbo].[participant] ([name], [sex], [age], [seasonId], [cityId]) SELECT N'Ралица Кашинова', 'f', 29, 4, [id] FROM [dbo].[city] WHERE [dbo].[city].[name] = N'Самоков';\r\n",
                "INSERT INTO [dbo].[participant] ([name], [sex], [age], [seasonId], [cityId]) SELECT N'Виктория Григорова', 'f', 32, 4, [id] FROM [dbo].[city] WHERE [dbo].[city].[name] = N'София';\r\n",
                "INSERT INTO [dbo].[participant] ([name], [sex], [age], [seasonId], [cityId]) SELECT N'Георги Петков „Гого“', 'm', 25, 4, [id] FROM [dbo].[city] WHERE [dbo].[city].[name] = N'Сливен';\r\n",
                "INSERT INTO [dbo].[participant] ([name], [sex], [age], [seasonId], [cityId]) SELECT N'Георги Янев', 'm', 21, 4, [id] FROM [dbo].[city] WHERE [dbo].[city].[name] = N'София';\r\n",
                "INSERT INTO [dbo].[participant] ([name], [sex], [age], [seasonId], [cityId]) SELECT N'Филип Атанасов', 'm', 29, 4, [id] FROM [dbo].[city] WHERE [dbo].[city].[name] = N'София';\r\n",
                "INSERT INTO [dbo].[participant] ([name], [sex], [age], [seasonId], [cityId]) SELECT N'Алекса Ерски', 'm', 25, 4, [id] FROM [dbo].[city] WHERE [dbo].[city].[name] = N'Белград';\r\n",
                "\r\n",
                "/*Season 5*/\r\n",
                "\r\n",
                "INSERT INTO [dbo].[participant] ([name], [sex], [age], [seasonId], [cityId]) SELECT N'Трифон Симеонов „Туньо“', 'm', 33, 5, [id] FROM [dbo].[city] WHERE [dbo].[city].[name] = N'Пазарджик';\r\n",
                "INSERT INTO [dbo].[participant] ([name], [sex], [age], [seasonId], [cityId]) SELECT N'Радосвета Симеонова', 'f', 29, 5, [id] FROM [dbo].[city] WHERE [dbo].[city].[name] = N'Добрич';\r\n",
                "INSERT INTO [dbo].[participant] ([name], [sex], [age], [seasonId], [cityId]) SELECT N'Виолета Стайкова', 'f', 47, 5, [id] FROM [dbo].[city] WHERE [dbo].[city].[name] = N'София';\r\n",
                "\r\n",
                "INSERT INTO [dbo].[participant] ([name], [sex], [age], [seasonId], [cityId]) SELECT N'Албена Ситнилска', 'f', 41, 5, [id] FROM [dbo].[city] WHERE [dbo].[city].[name] = N'Промени';\r\n",
                "INSERT INTO [dbo].[participant] ([name], [sex], [age], [seasonId], [cityId]) SELECT N'Благомир Мастагарков', 'm', 31, 5, [id] FROM [dbo].[city] WHERE [dbo].[city].[name] = N'Пловдив';\r\n",
                "INSERT INTO [dbo].[participant] ([name], [sex], [age], [seasonId], [cityId]) SELECT N'Васил Василев', 'm', 31, 5, [id] FROM [dbo].[city] WHERE [dbo].[city].[name] = N'София';\r\n",
                "INSERT INTO [dbo].[participant] ([name], [sex], [age], [seasonId], [cityId]) SELECT N'Валентин Петров', 'm', 48, 5, [id] FROM [dbo].[city] WHERE [dbo].[city].[name] = N'Хасково';\r\n",
                "INSERT INTO [dbo].[participant] ([name], [sex], [age], [seasonId], [cityId]) SELECT N'Веселина Маринова', 'f', 29, 5, [id] FROM [dbo].[city] WHERE [dbo].[city].[name] = N'Русе';\r\n",
                "INSERT INTO [dbo].[participant] ([name], [sex], [age], [seasonId], [cityId]) SELECT N'Виктория Йорданова', 'f', 27, 5, [id] FROM [dbo].[city] WHERE [dbo].[city].[name] = N'Варна';\r\n",
                "INSERT INTO [dbo].[participant] ([name], [sex], [age], [seasonId], [cityId]) SELECT N'Даниел Димов', 'm', 34, 5, [id] FROM [dbo].[city] WHERE [dbo].[city].[name] = N'Стратфорд';\r\n",
                "INSERT INTO [dbo].[participant] ([name], [sex], [age], [seasonId], [cityId]) SELECT N'Денислава Велкова', 'f', 24, 5, [id] FROM [dbo].[city] WHERE [dbo].[city].[name] = N'София';\r\n",
                "INSERT INTO [dbo].[participant] ([name], [sex], [age], [seasonId], [cityId]) SELECT N'Елена Петрова', 'f', 20, 5, [id] FROM [dbo].[city] WHERE [dbo].[city].[name] = N'Хасково';\r\n",
                "INSERT INTO [dbo].[participant] ([name], [sex], [age], [seasonId], [cityId]) SELECT N'Ива Георгиева', 'f', 20, 5, [id] FROM [dbo].[city] WHERE [dbo].[city].[name] = N'Варна';\r\n",
                "INSERT INTO [dbo].[participant] ([name], [sex], [age], [seasonId], [cityId]) SELECT N'Иван Рълев', 'm', 25, 5, [id] FROM [dbo].[city] WHERE [dbo].[city].[name] = N'Симитли';\r\n",
                "INSERT INTO [dbo].[participant] ([name], [sex], [age], [seasonId], [cityId]) SELECT N'Калоян Митов', 'm', 22, 5, [id] FROM [dbo].[city] WHERE [dbo].[city].[name] = N'София';\r\n",
                "INSERT INTO [dbo].[participant] ([name], [sex], [age], [seasonId], [cityId]) SELECT N'Красимир Дунев', 'm', 50, 5, [id] FROM [dbo].[city] WHERE [dbo].[city].[name] = N'Пловдив';\r\n",
                "INSERT INTO [dbo].[participant] ([name], [sex], [age], [seasonId], [cityId]) SELECT N'Крум Апостолов', 'm', 25, 5, [id] FROM [dbo].[city] WHERE [dbo].[city].[name] = N'Куклен';\r\n",
                "INSERT INTO [dbo].[participant] ([name], [sex], [age], [seasonId], [cityId]) SELECT N'Мартин Николов „Елвиса“', 'm', 38, 5, [id] FROM [dbo].[city] WHERE [dbo].[city].[name] = N'София';\r\n",
                "INSERT INTO [dbo].[participant] ([name], [sex], [age], [seasonId], [cityId]) SELECT N'Мария Оряшкова', 'f', 34, 5, [id] FROM [dbo].[city] WHERE [dbo].[city].[name] = N'Челопеч';\r\n",
                "INSERT INTO [dbo].[participant] ([name], [sex], [age], [seasonId], [cityId]) SELECT N'Михаил Кръстев', 'm', 20, 5, [id] FROM [dbo].[city] WHERE [dbo].[city].[name] = N'Промени';\r\n",
                "INSERT INTO [dbo].[participant] ([name], [sex], [age], [seasonId], [cityId]) SELECT N'Момчил Василев', 'm', 25, 5, [id] FROM [dbo].[city] WHERE [dbo].[city].[name] = N'София';\r\n",
                "INSERT INTO [dbo].[participant] ([name], [sex], [age], [seasonId], [cityId]) SELECT N'Моника Николаева', 'f', 35, 5, [id] FROM [dbo].[city] WHERE [dbo].[city].[name] = N'Враца';\r\n",
                "INSERT INTO [dbo].[participant] ([name], [sex], [age], [seasonId], [cityId]) SELECT N'Николай Костадинов', 'm', 32, 5, [id] FROM [dbo].[city] WHERE [dbo].[city].[name] = N'Промени';\r\n",
                "INSERT INTO [dbo].[participant] ([name], [sex], [age], [seasonId], [cityId]) SELECT N'Николай Рълев', 'm', 19, 5, [id] FROM [dbo].[city] WHERE [dbo].[city].[name] = N'Промени';\r\n",
                "INSERT INTO [dbo].[participant] ([name], [sex], [age], [seasonId], [cityId]) SELECT N'Никол Дунев', 'f', 24, 5, [id] FROM [dbo].[city] WHERE [dbo].[city].[name] = N'Промени';\r\n",
                "INSERT INTO [dbo].[participant] ([name], [sex], [age], [seasonId], [cityId]) SELECT N'Пеньо Гатевски „Гатьо“', 'm', 41, 5, [id] FROM [dbo].[city] WHERE [dbo].[city].[name] = N'Пловдив';\r\n",
                "INSERT INTO [dbo].[participant] ([name], [sex], [age], [seasonId], [cityId]) SELECT N'Радостин Кръстев', 'm', 22, 5, [id] FROM [dbo].[city] WHERE [dbo].[city].[name] = N'Сандански';\r\n",
                "INSERT INTO [dbo].[participant] ([name], [sex], [age], [seasonId], [cityId]) SELECT N'Румен Радев', 'm', 26, 5, [id] FROM [dbo].[city] WHERE [dbo].[city].[name] = N'Сливен';\r\n",
                "INSERT INTO [dbo].[participant] ([name], [sex], [age], [seasonId], [cityId]) SELECT N'Теодора Маринова', 'f', 29, 5, [id] FROM [dbo].[city] WHERE [dbo].[city].[name] = N'Русе';\r\n",
                "INSERT INTO [dbo].[participant] ([name], [sex], [age], [seasonId], [cityId]) SELECT N'Теодора Мудева', 'f', 22, 5, [id] FROM [dbo].[city] WHERE [dbo].[city].[name] = N'Бургас';\r\n",
                "INSERT INTO [dbo].[participant] ([name], [sex], [age], [seasonId], [cityId]) SELECT N'Цветелин Гешов', 'm', 25, 5, [id] FROM [dbo].[city] WHERE [dbo].[city].[name] = N'София';\r\n",
                "INSERT INTO [dbo].[participant] ([name], [sex], [age], [seasonId], [cityId]) SELECT N'Цвети Станева', 'f', 22, 5, [id] FROM [dbo].[city] WHERE [dbo].[city].[name] = N'София';"
            ],
            "metadata": {
                "azdata_cell_guid": "b4a60002-94eb-4b85-8a22-ccbafc39bc1e",
                "language": "sql",
                "tags": []
            },
            "outputs": [
                {
                    "output_type": "display_data",
                    "data": {
                        "text/html": "Commands completed successfully."
                    },
                    "metadata": {}
                },
                {
                    "output_type": "display_data",
                    "data": {
                        "text/html": "Commands completed successfully."
                    },
                    "metadata": {}
                },
                {
                    "output_type": "display_data",
                    "data": {
                        "text/html": "(1 row affected)"
                    },
                    "metadata": {}
                },
                {
                    "output_type": "display_data",
                    "data": {
                        "text/html": "(1 row affected)"
                    },
                    "metadata": {}
                },
                {
                    "output_type": "display_data",
                    "data": {
                        "text/html": "(1 row affected)"
                    },
                    "metadata": {}
                },
                {
                    "output_type": "display_data",
                    "data": {
                        "text/html": "(1 row affected)"
                    },
                    "metadata": {}
                },
                {
                    "output_type": "display_data",
                    "data": {
                        "text/html": "(1 row affected)"
                    },
                    "metadata": {}
                },
                {
                    "output_type": "display_data",
                    "data": {
                        "text/html": "(1 row affected)"
                    },
                    "metadata": {}
                },
                {
                    "output_type": "display_data",
                    "data": {
                        "text/html": "(1 row affected)"
                    },
                    "metadata": {}
                },
                {
                    "output_type": "display_data",
                    "data": {
                        "text/html": "(1 row affected)"
                    },
                    "metadata": {}
                },
                {
                    "output_type": "display_data",
                    "data": {
                        "text/html": "(1 row affected)"
                    },
                    "metadata": {}
                },
                {
                    "output_type": "display_data",
                    "data": {
                        "text/html": "(1 row affected)"
                    },
                    "metadata": {}
                },
                {
                    "output_type": "display_data",
                    "data": {
                        "text/html": "(1 row affected)"
                    },
                    "metadata": {}
                },
                {
                    "output_type": "display_data",
                    "data": {
                        "text/html": "(1 row affected)"
                    },
                    "metadata": {}
                },
                {
                    "output_type": "display_data",
                    "data": {
                        "text/html": "(1 row affected)"
                    },
                    "metadata": {}
                },
                {
                    "output_type": "display_data",
                    "data": {
                        "text/html": "(1 row affected)"
                    },
                    "metadata": {}
                },
                {
                    "output_type": "display_data",
                    "data": {
                        "text/html": "(1 row affected)"
                    },
                    "metadata": {}
                },
                {
                    "output_type": "display_data",
                    "data": {
                        "text/html": "(1 row affected)"
                    },
                    "metadata": {}
                },
                {
                    "output_type": "display_data",
                    "data": {
                        "text/html": "(1 row affected)"
                    },
                    "metadata": {}
                },
                {
                    "output_type": "display_data",
                    "data": {
                        "text/html": "(1 row affected)"
                    },
                    "metadata": {}
                },
                {
                    "output_type": "display_data",
                    "data": {
                        "text/html": "(1 row affected)"
                    },
                    "metadata": {}
                },
                {
                    "output_type": "display_data",
                    "data": {
                        "text/html": "(1 row affected)"
                    },
                    "metadata": {}
                },
                {
                    "output_type": "display_data",
                    "data": {
                        "text/html": "(1 row affected)"
                    },
                    "metadata": {}
                },
                {
                    "output_type": "display_data",
                    "data": {
                        "text/html": "(1 row affected)"
                    },
                    "metadata": {}
                },
                {
                    "output_type": "display_data",
                    "data": {
                        "text/html": "(1 row affected)"
                    },
                    "metadata": {}
                },
                {
                    "output_type": "display_data",
                    "data": {
                        "text/html": "(1 row affected)"
                    },
                    "metadata": {}
                },
                {
                    "output_type": "display_data",
                    "data": {
                        "text/html": "(1 row affected)"
                    },
                    "metadata": {}
                },
                {
                    "output_type": "display_data",
                    "data": {
                        "text/html": "(1 row affected)"
                    },
                    "metadata": {}
                },
                {
                    "output_type": "display_data",
                    "data": {
                        "text/html": "(1 row affected)"
                    },
                    "metadata": {}
                },
                {
                    "output_type": "display_data",
                    "data": {
                        "text/html": "(1 row affected)"
                    },
                    "metadata": {}
                },
                {
                    "output_type": "display_data",
                    "data": {
                        "text/html": "(1 row affected)"
                    },
                    "metadata": {}
                },
                {
                    "output_type": "display_data",
                    "data": {
                        "text/html": "(1 row affected)"
                    },
                    "metadata": {}
                },
                {
                    "output_type": "display_data",
                    "data": {
                        "text/html": "(1 row affected)"
                    },
                    "metadata": {}
                },
                {
                    "output_type": "display_data",
                    "data": {
                        "text/html": "(1 row affected)"
                    },
                    "metadata": {}
                },
                {
                    "output_type": "display_data",
                    "data": {
                        "text/html": "(1 row affected)"
                    },
                    "metadata": {}
                },
                {
                    "output_type": "display_data",
                    "data": {
                        "text/html": "(1 row affected)"
                    },
                    "metadata": {}
                },
                {
                    "output_type": "display_data",
                    "data": {
                        "text/html": "(1 row affected)"
                    },
                    "metadata": {}
                },
                {
                    "output_type": "display_data",
                    "data": {
                        "text/html": "(1 row affected)"
                    },
                    "metadata": {}
                },
                {
                    "output_type": "display_data",
                    "data": {
                        "text/html": "(1 row affected)"
                    },
                    "metadata": {}
                },
                {
                    "output_type": "display_data",
                    "data": {
                        "text/html": "(1 row affected)"
                    },
                    "metadata": {}
                },
                {
                    "output_type": "display_data",
                    "data": {
                        "text/html": "(1 row affected)"
                    },
                    "metadata": {}
                },
                {
                    "output_type": "display_data",
                    "data": {
                        "text/html": "(1 row affected)"
                    },
                    "metadata": {}
                },
                {
                    "output_type": "display_data",
                    "data": {
                        "text/html": "(1 row affected)"
                    },
                    "metadata": {}
                },
                {
                    "output_type": "display_data",
                    "data": {
                        "text/html": "(1 row affected)"
                    },
                    "metadata": {}
                },
                {
                    "output_type": "display_data",
                    "data": {
                        "text/html": "(1 row affected)"
                    },
                    "metadata": {}
                },
                {
                    "output_type": "display_data",
                    "data": {
                        "text/html": "(1 row affected)"
                    },
                    "metadata": {}
                },
                {
                    "output_type": "display_data",
                    "data": {
                        "text/html": "(1 row affected)"
                    },
                    "metadata": {}
                },
                {
                    "output_type": "display_data",
                    "data": {
                        "text/html": "(1 row affected)"
                    },
                    "metadata": {}
                },
                {
                    "output_type": "display_data",
                    "data": {
                        "text/html": "(1 row affected)"
                    },
                    "metadata": {}
                },
                {
                    "output_type": "display_data",
                    "data": {
                        "text/html": "(1 row affected)"
                    },
                    "metadata": {}
                },
                {
                    "output_type": "display_data",
                    "data": {
                        "text/html": "(1 row affected)"
                    },
                    "metadata": {}
                },
                {
                    "output_type": "display_data",
                    "data": {
                        "text/html": "(1 row affected)"
                    },
                    "metadata": {}
                },
                {
                    "output_type": "display_data",
                    "data": {
                        "text/html": "(1 row affected)"
                    },
                    "metadata": {}
                },
                {
                    "output_type": "display_data",
                    "data": {
                        "text/html": "(1 row affected)"
                    },
                    "metadata": {}
                },
                {
                    "output_type": "display_data",
                    "data": {
                        "text/html": "(1 row affected)"
                    },
                    "metadata": {}
                },
                {
                    "output_type": "display_data",
                    "data": {
                        "text/html": "(1 row affected)"
                    },
                    "metadata": {}
                },
                {
                    "output_type": "display_data",
                    "data": {
                        "text/html": "(1 row affected)"
                    },
                    "metadata": {}
                },
                {
                    "output_type": "display_data",
                    "data": {
                        "text/html": "(1 row affected)"
                    },
                    "metadata": {}
                },
                {
                    "output_type": "display_data",
                    "data": {
                        "text/html": "(1 row affected)"
                    },
                    "metadata": {}
                },
                {
                    "output_type": "display_data",
                    "data": {
                        "text/html": "(1 row affected)"
                    },
                    "metadata": {}
                },
                {
                    "output_type": "display_data",
                    "data": {
                        "text/html": "(1 row affected)"
                    },
                    "metadata": {}
                },
                {
                    "output_type": "display_data",
                    "data": {
                        "text/html": "(1 row affected)"
                    },
                    "metadata": {}
                },
                {
                    "output_type": "display_data",
                    "data": {
                        "text/html": "(1 row affected)"
                    },
                    "metadata": {}
                },
                {
                    "output_type": "display_data",
                    "data": {
                        "text/html": "(1 row affected)"
                    },
                    "metadata": {}
                },
                {
                    "output_type": "display_data",
                    "data": {
                        "text/html": "(1 row affected)"
                    },
                    "metadata": {}
                },
                {
                    "output_type": "display_data",
                    "data": {
                        "text/html": "(1 row affected)"
                    },
                    "metadata": {}
                },
                {
                    "output_type": "display_data",
                    "data": {
                        "text/html": "(1 row affected)"
                    },
                    "metadata": {}
                },
                {
                    "output_type": "display_data",
                    "data": {
                        "text/html": "(1 row affected)"
                    },
                    "metadata": {}
                },
                {
                    "output_type": "display_data",
                    "data": {
                        "text/html": "(1 row affected)"
                    },
                    "metadata": {}
                },
                {
                    "output_type": "display_data",
                    "data": {
                        "text/html": "(1 row affected)"
                    },
                    "metadata": {}
                },
                {
                    "output_type": "display_data",
                    "data": {
                        "text/html": "(1 row affected)"
                    },
                    "metadata": {}
                },
                {
                    "output_type": "display_data",
                    "data": {
                        "text/html": "(1 row affected)"
                    },
                    "metadata": {}
                },
                {
                    "output_type": "display_data",
                    "data": {
                        "text/html": "(1 row affected)"
                    },
                    "metadata": {}
                },
                {
                    "output_type": "display_data",
                    "data": {
                        "text/html": "(1 row affected)"
                    },
                    "metadata": {}
                },
                {
                    "output_type": "display_data",
                    "data": {
                        "text/html": "(1 row affected)"
                    },
                    "metadata": {}
                },
                {
                    "output_type": "display_data",
                    "data": {
                        "text/html": "(1 row affected)"
                    },
                    "metadata": {}
                },
                {
                    "output_type": "display_data",
                    "data": {
                        "text/html": "(1 row affected)"
                    },
                    "metadata": {}
                },
                {
                    "output_type": "display_data",
                    "data": {
                        "text/html": "(1 row affected)"
                    },
                    "metadata": {}
                },
                {
                    "output_type": "display_data",
                    "data": {
                        "text/html": "(1 row affected)"
                    },
                    "metadata": {}
                },
                {
                    "output_type": "display_data",
                    "data": {
                        "text/html": "(1 row affected)"
                    },
                    "metadata": {}
                },
                {
                    "output_type": "display_data",
                    "data": {
                        "text/html": "(1 row affected)"
                    },
                    "metadata": {}
                },
                {
                    "output_type": "display_data",
                    "data": {
                        "text/html": "(1 row affected)"
                    },
                    "metadata": {}
                },
                {
                    "output_type": "display_data",
                    "data": {
                        "text/html": "(1 row affected)"
                    },
                    "metadata": {}
                },
                {
                    "output_type": "display_data",
                    "data": {
                        "text/html": "(1 row affected)"
                    },
                    "metadata": {}
                },
                {
                    "output_type": "display_data",
                    "data": {
                        "text/html": "(1 row affected)"
                    },
                    "metadata": {}
                },
                {
                    "output_type": "display_data",
                    "data": {
                        "text/html": "(1 row affected)"
                    },
                    "metadata": {}
                },
                {
                    "output_type": "display_data",
                    "data": {
                        "text/html": "(1 row affected)"
                    },
                    "metadata": {}
                },
                {
                    "output_type": "display_data",
                    "data": {
                        "text/html": "(1 row affected)"
                    },
                    "metadata": {}
                },
                {
                    "output_type": "display_data",
                    "data": {
                        "text/html": "(1 row affected)"
                    },
                    "metadata": {}
                },
                {
                    "output_type": "display_data",
                    "data": {
                        "text/html": "(1 row affected)"
                    },
                    "metadata": {}
                },
                {
                    "output_type": "display_data",
                    "data": {
                        "text/html": "(1 row affected)"
                    },
                    "metadata": {}
                },
                {
                    "output_type": "display_data",
                    "data": {
                        "text/html": "(1 row affected)"
                    },
                    "metadata": {}
                },
                {
                    "output_type": "display_data",
                    "data": {
                        "text/html": "(1 row affected)"
                    },
                    "metadata": {}
                },
                {
                    "output_type": "display_data",
                    "data": {
                        "text/html": "(1 row affected)"
                    },
                    "metadata": {}
                },
                {
                    "output_type": "display_data",
                    "data": {
                        "text/html": "(1 row affected)"
                    },
                    "metadata": {}
                },
                {
                    "output_type": "display_data",
                    "data": {
                        "text/html": "(1 row affected)"
                    },
                    "metadata": {}
                },
                {
                    "output_type": "display_data",
                    "data": {
                        "text/html": "(1 row affected)"
                    },
                    "metadata": {}
                },
                {
                    "output_type": "display_data",
                    "data": {
                        "text/html": "(1 row affected)"
                    },
                    "metadata": {}
                },
                {
                    "output_type": "display_data",
                    "data": {
                        "text/html": "(1 row affected)"
                    },
                    "metadata": {}
                },
                {
                    "output_type": "display_data",
                    "data": {
                        "text/html": "(1 row affected)"
                    },
                    "metadata": {}
                },
                {
                    "output_type": "display_data",
                    "data": {
                        "text/html": "(1 row affected)"
                    },
                    "metadata": {}
                },
                {
                    "output_type": "display_data",
                    "data": {
                        "text/html": "(1 row affected)"
                    },
                    "metadata": {}
                },
                {
                    "output_type": "display_data",
                    "data": {
                        "text/html": "(1 row affected)"
                    },
                    "metadata": {}
                },
                {
                    "output_type": "display_data",
                    "data": {
                        "text/html": "(1 row affected)"
                    },
                    "metadata": {}
                },
                {
                    "output_type": "display_data",
                    "data": {
                        "text/html": "(1 row affected)"
                    },
                    "metadata": {}
                },
                {
                    "output_type": "display_data",
                    "data": {
                        "text/html": "(1 row affected)"
                    },
                    "metadata": {}
                },
                {
                    "output_type": "display_data",
                    "data": {
                        "text/html": "(1 row affected)"
                    },
                    "metadata": {}
                },
                {
                    "output_type": "display_data",
                    "data": {
                        "text/html": "(1 row affected)"
                    },
                    "metadata": {}
                },
                {
                    "output_type": "display_data",
                    "data": {
                        "text/html": "(1 row affected)"
                    },
                    "metadata": {}
                },
                {
                    "output_type": "display_data",
                    "data": {
                        "text/html": "(1 row affected)"
                    },
                    "metadata": {}
                },
                {
                    "output_type": "display_data",
                    "data": {
                        "text/html": "(1 row affected)"
                    },
                    "metadata": {}
                },
                {
                    "output_type": "display_data",
                    "data": {
                        "text/html": "(1 row affected)"
                    },
                    "metadata": {}
                },
                {
                    "output_type": "display_data",
                    "data": {
                        "text/html": "(1 row affected)"
                    },
                    "metadata": {}
                },
                {
                    "output_type": "display_data",
                    "data": {
                        "text/html": "(1 row affected)"
                    },
                    "metadata": {}
                },
                {
                    "output_type": "display_data",
                    "data": {
                        "text/html": "(1 row affected)"
                    },
                    "metadata": {}
                },
                {
                    "output_type": "display_data",
                    "data": {
                        "text/html": "(1 row affected)"
                    },
                    "metadata": {}
                },
                {
                    "output_type": "display_data",
                    "data": {
                        "text/html": "(1 row affected)"
                    },
                    "metadata": {}
                },
                {
                    "output_type": "display_data",
                    "data": {
                        "text/html": "(1 row affected)"
                    },
                    "metadata": {}
                },
                {
                    "output_type": "display_data",
                    "data": {
                        "text/html": "(1 row affected)"
                    },
                    "metadata": {}
                },
                {
                    "output_type": "display_data",
                    "data": {
                        "text/html": "(1 row affected)"
                    },
                    "metadata": {}
                },
                {
                    "output_type": "display_data",
                    "data": {
                        "text/html": "(1 row affected)"
                    },
                    "metadata": {}
                },
                {
                    "output_type": "display_data",
                    "data": {
                        "text/html": "(1 row affected)"
                    },
                    "metadata": {}
                },
                {
                    "output_type": "display_data",
                    "data": {
                        "text/html": "(1 row affected)"
                    },
                    "metadata": {}
                },
                {
                    "output_type": "display_data",
                    "data": {
                        "text/html": "(1 row affected)"
                    },
                    "metadata": {}
                },
                {
                    "output_type": "display_data",
                    "data": {
                        "text/html": "(1 row affected)"
                    },
                    "metadata": {}
                },
                {
                    "output_type": "display_data",
                    "data": {
                        "text/html": "(1 row affected)"
                    },
                    "metadata": {}
                },
                {
                    "output_type": "display_data",
                    "data": {
                        "text/html": "(1 row affected)"
                    },
                    "metadata": {}
                },
                {
                    "output_type": "display_data",
                    "data": {
                        "text/html": "(1 row affected)"
                    },
                    "metadata": {}
                },
                {
                    "output_type": "display_data",
                    "data": {
                        "text/html": "(1 row affected)"
                    },
                    "metadata": {}
                },
                {
                    "output_type": "display_data",
                    "data": {
                        "text/html": "(1 row affected)"
                    },
                    "metadata": {}
                },
                {
                    "output_type": "display_data",
                    "data": {
                        "text/html": "(1 row affected)"
                    },
                    "metadata": {}
                },
                {
                    "output_type": "display_data",
                    "data": {
                        "text/html": "(1 row affected)"
                    },
                    "metadata": {}
                },
                {
                    "output_type": "display_data",
                    "data": {
                        "text/html": "(1 row affected)"
                    },
                    "metadata": {}
                },
                {
                    "output_type": "display_data",
                    "data": {
                        "text/html": "(1 row affected)"
                    },
                    "metadata": {}
                },
                {
                    "output_type": "display_data",
                    "data": {
                        "text/html": "(1 row affected)"
                    },
                    "metadata": {}
                },
                {
                    "output_type": "display_data",
                    "data": {
                        "text/html": "(1 row affected)"
                    },
                    "metadata": {}
                },
                {
                    "output_type": "display_data",
                    "data": {
                        "text/html": "(1 row affected)"
                    },
                    "metadata": {}
                },
                {
                    "output_type": "display_data",
                    "data": {
                        "text/html": "(1 row affected)"
                    },
                    "metadata": {}
                },
                {
                    "output_type": "display_data",
                    "data": {
                        "text/html": "(1 row affected)"
                    },
                    "metadata": {}
                },
                {
                    "output_type": "display_data",
                    "data": {
                        "text/html": "(1 row affected)"
                    },
                    "metadata": {}
                },
                {
                    "output_type": "display_data",
                    "data": {
                        "text/html": "(1 row affected)"
                    },
                    "metadata": {}
                },
                {
                    "output_type": "display_data",
                    "data": {
                        "text/html": "(1 row affected)"
                    },
                    "metadata": {}
                },
                {
                    "output_type": "display_data",
                    "data": {
                        "text/html": "(1 row affected)"
                    },
                    "metadata": {}
                },
                {
                    "output_type": "display_data",
                    "data": {
                        "text/html": "Total execution time: 00:00:03.045"
                    },
                    "metadata": {}
                }
            ],
            "execution_count": 85
        },
        {
            "cell_type": "code",
            "source": [
                "USE [desafio];\r\n",
                "GO\r\n",
                "\r\n",
                "-- Create a new table called '[eventTribe]' in schema '[dbo]'\r\n",
                "-- Drop the table if it already exists\r\n",
                "IF OBJECT_ID('[dbo].[eventTribe]', 'U') IS NOT NULL\r\n",
                "DROP TABLE [dbo].[eventTribe]\r\n",
                "GO\r\n",
                "-- Create the table in the specified schema\r\n",
                "CREATE TABLE [dbo].[eventTribe]\r\n",
                "(\r\n",
                "    [id] INT NOT NULL PRIMARY KEY IDENTITY, -- Primary Key column\r\n",
                "    [participantId] INT NOT NULL,\r\n",
                "    [tribeId] INT NOT NULL,\r\n",
                "    [event] NVARCHAR(50) NOT NULL,\r\n",
                "    [episode] INT\r\n",
                "    -- Specify more columns here\r\n",
                ");\r\n",
                "GO\r\n",
                "\r\n",
                "/*Season 1*/\r\n",
                "\r\n",
                "INSERT INTO [dbo].[eventTribe] ([participantId], [tribeId], [event], [episode]) VALUES (1, 1, 'joins', 1);\r\n",
                "INSERT INTO [dbo].[eventTribe] ([participantId], [tribeId], [event], [episode]) VALUES (2, 1, 'joins', 1);\r\n",
                "INSERT INTO [dbo].[eventTribe] ([participantId], [tribeId], [event], [episode]) VALUES (5, 1, 'joins', 1);\r\n",
                "INSERT INTO [dbo].[eventTribe] ([participantId], [tribeId], [event], [episode]) VALUES (12, 1, 'joins', 1);\r\n",
                "INSERT INTO [dbo].[eventTribe] ([participantId], [tribeId], [event], [episode]) VALUES (13, 1, 'joins', 1);\r\n",
                "INSERT INTO [dbo].[eventTribe] ([participantId], [tribeId], [event], [episode]) VALUES (18, 1, 'joins', 1);\r\n",
                "INSERT INTO [dbo].[eventTribe] ([participantId], [tribeId], [event], [episode]) VALUES (20, 1, 'joins', 1);\r\n",
                "INSERT INTO [dbo].[eventTribe] ([participantId], [tribeId], [event], [episode]) VALUES (23, 1, 'joins', 1);\r\n",
                "\r\n",
                "INSERT INTO [dbo].[eventTribe] ([participantId], [tribeId], [event], [episode]) VALUES (11, 2, 'joins', 1);\r\n",
                "INSERT INTO [dbo].[eventTribe] ([participantId], [tribeId], [event], [episode]) VALUES (21, 2, 'joins', 1);\r\n",
                "INSERT INTO [dbo].[eventTribe] ([participantId], [tribeId], [event], [episode]) VALUES (8, 2, 'joins', 1);\r\n",
                "INSERT INTO [dbo].[eventTribe] ([participantId], [tribeId], [event], [episode]) VALUES (24, 2, 'joins', 1);\r\n",
                "INSERT INTO [dbo].[eventTribe] ([participantId], [tribeId], [event], [episode]) VALUES (15, 2, 'joins', 1);\r\n",
                "INSERT INTO [dbo].[eventTribe] ([participantId], [tribeId], [event], [episode]) VALUES (3, 2, 'joins', 1);\r\n",
                "INSERT INTO [dbo].[eventTribe] ([participantId], [tribeId], [event], [episode]) VALUES (19, 2, 'joins', 1);\r\n",
                "INSERT INTO [dbo].[eventTribe] ([participantId], [tribeId], [event], [episode]) VALUES (16, 2, 'joins', 1);\r\n",
                "\r\n",
                "INSERT INTO [dbo].[eventTribe] ([participantId], [tribeId], [event], [episode]) VALUES (9, 3, 'joins', 1);\r\n",
                "INSERT INTO [dbo].[eventTribe] ([participantId], [tribeId], [event], [episode]) VALUES (6, 3, 'joins', 1);\r\n",
                "INSERT INTO [dbo].[eventTribe] ([participantId], [tribeId], [event], [episode]) VALUES (22, 3, 'joins', 1);\r\n",
                "INSERT INTO [dbo].[eventTribe] ([participantId], [tribeId], [event], [episode]) VALUES (10, 3, 'joins', 1);\r\n",
                "INSERT INTO [dbo].[eventTribe] ([participantId], [tribeId], [event], [episode]) VALUES (4, 3, 'joins', 1);\r\n",
                "INSERT INTO [dbo].[eventTribe] ([participantId], [tribeId], [event], [episode]) VALUES (7, 3, 'joins', 1);\r\n",
                "INSERT INTO [dbo].[eventTribe] ([participantId], [tribeId], [event], [episode]) VALUES (14, 3, 'joins', 1);\r\n",
                "INSERT INTO [dbo].[eventTribe] ([participantId], [tribeId], [event], [episode]) VALUES (17, 3, 'joins', 1);\r\n",
                "\r\n",
                "/*Season 2*/\r\n",
                "\r\n",
                "INSERT INTO [dbo].[eventTribe] ([participantId], [tribeId], [event], [episode]) SELECT 25, [id], 'joins', 1 FROM [dbo].[tribes] WHERE [dbo].[tribes].[name] = N'Ловци';\r\n",
                "INSERT INTO [dbo].[eventTribe] ([participantId], [tribeId], [event], [episode]) SELECT 26, [id], 'joins', 1 FROM [dbo].[tribes] WHERE [dbo].[tribes].[name] = N'Жътвари';\r\n",
                "INSERT INTO [dbo].[eventTribe] ([participantId], [tribeId], [event], [episode]) SELECT 27, [id], 'joins', 1 FROM [dbo].[tribes] WHERE [dbo].[tribes].[name] = N'Ловци';\r\n",
                "INSERT INTO [dbo].[eventTribe] ([participantId], [tribeId], [event], [episode]) SELECT 28, 6, 'joins', 1;\r\n",
                "INSERT INTO [dbo].[eventTribe] ([participantId], [tribeId], [event], [episode]) SELECT 29, 6, 'joins', 1;\r\n",
                "INSERT INTO [dbo].[eventTribe] ([participantId], [tribeId], [event], [episode]) SELECT 30, [id], 'joins', 1 FROM [dbo].[tribes] WHERE [dbo].[tribes].[name] = N'Жътвари';\r\n",
                "INSERT INTO [dbo].[eventTribe] ([participantId], [tribeId], [event], [episode]) SELECT 31, 6, 'joins', 1;\r\n",
                "INSERT INTO [dbo].[eventTribe] ([participantId], [tribeId], [event], [episode]) SELECT 32, 6, 'joins', 1;\r\n",
                "INSERT INTO [dbo].[eventTribe] ([participantId], [tribeId], [event], [episode]) SELECT 33, [id], 'joins', 1 FROM [dbo].[tribes] WHERE [dbo].[tribes].[name] = N'Жътвари';\r\n",
                "INSERT INTO [dbo].[eventTribe] ([participantId], [tribeId], [event], [episode]) SELECT 34, 6, 'joins', 1;\r\n",
                "\r\n",
                "INSERT INTO [dbo].[eventTribe] ([participantId], [tribeId], [event], [episode]) SELECT 35, 6, 'joins', 1;\r\n",
                "INSERT INTO [dbo].[eventTribe] ([participantId], [tribeId], [event], [episode]) SELECT 36, [id], 'joins', 1 FROM [dbo].[tribes] WHERE [dbo].[tribes].[name] = N'Жътвари';\r\n",
                "INSERT INTO [dbo].[eventTribe] ([participantId], [tribeId], [event], [episode]) SELECT 37, [id], 'joins', 1 FROM [dbo].[tribes] WHERE [dbo].[tribes].[name] = N'Ловци';\r\n",
                "INSERT INTO [dbo].[eventTribe] ([participantId], [tribeId], [event], [episode]) SELECT 38, [id], 'joins', 1 FROM [dbo].[tribes] WHERE [dbo].[tribes].[name] = N'Жътвари';\r\n",
                "INSERT INTO [dbo].[eventTribe] ([participantId], [tribeId], [event], [episode]) SELECT 39, [id], 'joins', 1 FROM [dbo].[tribes] WHERE [dbo].[tribes].[name] = N'Ловци';\r\n",
                "INSERT INTO [dbo].[eventTribe] ([participantId], [tribeId], [event], [episode]) SELECT 40, [id], 'joins', 1 FROM [dbo].[tribes] WHERE [dbo].[tribes].[name] = N'Жътвари';\r\n",
                "INSERT INTO [dbo].[eventTribe] ([participantId], [tribeId], [event], [episode]) SELECT 41, 6, 'joins', 1;\r\n",
                "\r\n",
                "INSERT INTO [dbo].[eventTribe] ([participantId], [tribeId], [event], [episode]) SELECT 42, [id], 'joins', 1 FROM [dbo].[tribes] WHERE [dbo].[tribes].[name] = N'Ловци';\r\n",
                "INSERT INTO [dbo].[eventTribe] ([participantId], [tribeId], [event], [episode]) SELECT 43, 6, 'joins', 1;\r\n",
                "INSERT INTO [dbo].[eventTribe] ([participantId], [tribeId], [event], [episode]) SELECT 44, [id], 'joins', 1 FROM [dbo].[tribes] WHERE [dbo].[tribes].[name] = N'Жътвари';\r\n",
                "INSERT INTO [dbo].[eventTribe] ([participantId], [tribeId], [event], [episode]) SELECT 45, [id], 'joins', 1 FROM [dbo].[tribes] WHERE [dbo].[tribes].[name] = N'Ловци';\r\n",
                "INSERT INTO [dbo].[eventTribe] ([participantId], [tribeId], [event], [episode]) SELECT 46, [id], 'joins', 1 FROM [dbo].[tribes] WHERE [dbo].[tribes].[name] = N'Ловци';\r\n",
                "INSERT INTO [dbo].[eventTribe] ([participantId], [tribeId], [event], [episode]) SELECT 47, [id], 'joins', 1 FROM [dbo].[tribes] WHERE [dbo].[tribes].[name] = N'Жътвари';\r\n",
                "INSERT INTO [dbo].[eventTribe] ([participantId], [tribeId], [event], [episode]) SELECT 48, [id], 'joins', 1 FROM [dbo].[tribes] WHERE [dbo].[tribes].[name] = N'Ловци';\r\n",
                "INSERT INTO [dbo].[eventTribe] ([participantId], [tribeId], [event], [episode]) SELECT 49, [id], 'joins', 1 FROM [dbo].[tribes] WHERE [dbo].[tribes].[name] = N'Ловци';\r\n",
                "INSERT INTO [dbo].[eventTribe] ([participantId], [tribeId], [event], [episode]) SELECT 50, [id], 'joins', 1 FROM [dbo].[tribes] WHERE [dbo].[tribes].[name] = N'Ловци';\r\n",
                "\r\n",
                "/*Season 3*/\r\n",
                "\r\n",
                "INSERT INTO [dbo].[eventTribe] ([participantId], [tribeId], [event], [episode]) SELECT 53, [id], 'joins', 1 FROM [dbo].[tribes] WHERE [dbo].[tribes].[name] = N'Бойци';\r\n",
                "INSERT INTO [dbo].[eventTribe] ([participantId], [tribeId], [event], [episode]) SELECT 54, [id], 'joins', 1 FROM [dbo].[tribes] WHERE [dbo].[tribes].[name] = N'Бойци';\r\n",
                "INSERT INTO [dbo].[eventTribe] ([participantId], [tribeId], [event], [episode]) SELECT 55, [id], 'joins', 1 FROM [dbo].[tribes] WHERE [dbo].[tribes].[name] = N'Приключенци';\r\n",
                "INSERT INTO [dbo].[eventTribe] ([participantId], [tribeId], [event], [episode]) SELECT 56, [id], 'joins', 1 FROM [dbo].[tribes] WHERE [dbo].[tribes].[name] = N'Жълти';\r\n",
                "INSERT INTO [dbo].[eventTribe] ([participantId], [tribeId], [event], [episode]) SELECT 57, [id], 'joins', 1 FROM [dbo].[tribes] WHERE [dbo].[tribes].[name] = N'Жълти';\r\n",
                "INSERT INTO [dbo].[eventTribe] ([participantId], [tribeId], [event], [episode]) SELECT 58, [id], 'joins', 1 FROM [dbo].[tribes] WHERE [dbo].[tribes].[name] = N'Жълти';\r\n",
                "INSERT INTO [dbo].[eventTribe] ([participantId], [tribeId], [event], [episode]) SELECT 59, [id], 'joins', 1 FROM [dbo].[tribes] WHERE [dbo].[tribes].[name] = N'Бойци';\r\n",
                "INSERT INTO [dbo].[eventTribe] ([participantId], [tribeId], [event], [episode]) SELECT 60, [id], 'joins', 1 FROM [dbo].[tribes] WHERE [dbo].[tribes].[name] = N'Жълти';\r\n",
                "INSERT INTO [dbo].[eventTribe] ([participantId], [tribeId], [event], [episode]) SELECT 61, [id], 'joins', 1 FROM [dbo].[tribes] WHERE [dbo].[tribes].[name] = N'Приключенци';\r\n",
                "INSERT INTO [dbo].[eventTribe] ([participantId], [tribeId], [event], [episode]) SELECT 62, [id], 'joins', 1 FROM [dbo].[tribes] WHERE [dbo].[tribes].[name] = N'Приключенци';\r\n",
                "INSERT INTO [dbo].[eventTribe] ([participantId], [tribeId], [event], [episode]) SELECT 63, [id], 'joins', 1 FROM [dbo].[tribes] WHERE [dbo].[tribes].[name] = N'Бойци';\r\n",
                "INSERT INTO [dbo].[eventTribe] ([participantId], [tribeId], [event], [episode]) SELECT 64, [id], 'joins', 1 FROM [dbo].[tribes] WHERE [dbo].[tribes].[name] = N'Бойци';\r\n",
                "\r\n",
                "INSERT INTO [dbo].[eventTribe] ([participantId], [tribeId], [event], [episode]) SELECT 65, [id], 'joins', 1 FROM [dbo].[tribes] WHERE [dbo].[tribes].[name] = N'Бойци';\r\n",
                "INSERT INTO [dbo].[eventTribe] ([participantId], [tribeId], [event], [episode]) SELECT 66, [id], 'joins', 1 FROM [dbo].[tribes] WHERE [dbo].[tribes].[name] = N'Жълти';\r\n",
                "INSERT INTO [dbo].[eventTribe] ([participantId], [tribeId], [event], [episode]) SELECT 67, [id], 'joins', 1 FROM [dbo].[tribes] WHERE [dbo].[tribes].[name] = N'Бойци';\r\n",
                "INSERT INTO [dbo].[eventTribe] ([participantId], [tribeId], [event], [episode]) SELECT 68, [id], 'joins', 1 FROM [dbo].[tribes] WHERE [dbo].[tribes].[name] = N'Приключенци';\r\n",
                "INSERT INTO [dbo].[eventTribe] ([participantId], [tribeId], [event], [episode]) SELECT 69, [id], 'joins', 1 FROM [dbo].[tribes] WHERE [dbo].[tribes].[name] = N'Бойци';\r\n",
                "INSERT INTO [dbo].[eventTribe] ([participantId], [tribeId], [event], [episode]) SELECT 70, [id], 'joins', 1 FROM [dbo].[tribes] WHERE [dbo].[tribes].[name] = N'Приключенци';\r\n",
                "INSERT INTO [dbo].[eventTribe] ([participantId], [tribeId], [event], [episode]) SELECT 71, [id], 'joins', 1 FROM [dbo].[tribes] WHERE [dbo].[tribes].[name] = N'Бойци';\r\n",
                "\r\n",
                "INSERT INTO [dbo].[eventTribe] ([participantId], [tribeId], [event], [episode]) SELECT 72, [id], 'joins', 1 FROM [dbo].[tribes] WHERE [dbo].[tribes].[name] = N'Приключенци';\r\n",
                "INSERT INTO [dbo].[eventTribe] ([participantId], [tribeId], [event], [episode]) SELECT 73, [id], 'joins', 1 FROM [dbo].[tribes] WHERE [dbo].[tribes].[name] = N'Жълти';\r\n",
                "INSERT INTO [dbo].[eventTribe] ([participantId], [tribeId], [event], [episode]) SELECT 74, [id], 'joins', 1 FROM [dbo].[tribes] WHERE [dbo].[tribes].[name] = N'Жълти';\r\n",
                "INSERT INTO [dbo].[eventTribe] ([participantId], [tribeId], [event], [episode]) SELECT 75, [id], 'joins', 1 FROM [dbo].[tribes] WHERE [dbo].[tribes].[name] = N'Бойци';\r\n",
                "INSERT INTO [dbo].[eventTribe] ([participantId], [tribeId], [event], [episode]) SELECT 76, [id], 'joins', 1 FROM [dbo].[tribes] WHERE [dbo].[tribes].[name] = N'Приключенци';\r\n",
                "INSERT INTO [dbo].[eventTribe] ([participantId], [tribeId], [event], [episode]) SELECT 77, [id], 'joins', 1 FROM [dbo].[tribes] WHERE [dbo].[tribes].[name] = N'Приключенци';\r\n",
                "INSERT INTO [dbo].[eventTribe] ([participantId], [tribeId], [event], [episode]) SELECT 78, [id], 'joins', 1 FROM [dbo].[tribes] WHERE [dbo].[tribes].[name] = N'Жълти';\r\n",
                "INSERT INTO [dbo].[eventTribe] ([participantId], [tribeId], [event], [episode]) SELECT 79, [id], 'joins', 1 FROM [dbo].[tribes] WHERE [dbo].[tribes].[name] = N'Жълти';\r\n",
                "\r\n",
                "/*Season 4*/\r\n",
                "\r\n",
                "INSERT INTO [dbo].[eventTribe] ([participantId], [tribeId], [event], [episode]) SELECT 80, [id], 'joins', 1 FROM [dbo].[tribes] WHERE [dbo].[tribes].[name] = N'Безстрашни';\r\n",
                "INSERT INTO [dbo].[eventTribe] ([participantId], [tribeId], [event], [episode]) SELECT 81, [id], 'joins', 1 FROM [dbo].[tribes] WHERE [dbo].[tribes].[name] = N'Резерви';\r\n",
                "INSERT INTO [dbo].[eventTribe] ([participantId], [tribeId], [event], [episode]) SELECT 82, [id], 'joins', 1 FROM [dbo].[tribes] WHERE [dbo].[tribes].[name] = N'Непобедими';\r\n",
                "INSERT INTO [dbo].[eventTribe] ([participantId], [tribeId], [event], [episode]) SELECT 83, [id], 'joins', 1 FROM [dbo].[tribes] WHERE [dbo].[tribes].[name] = N'Резерви';\r\n",
                "INSERT INTO [dbo].[eventTribe] ([participantId], [tribeId], [event], [episode]) SELECT 84, [id], 'joins', 1 FROM [dbo].[tribes] WHERE [dbo].[tribes].[name] = N'Супергерои';\r\n",
                "INSERT INTO [dbo].[eventTribe] ([participantId], [tribeId], [event], [episode]) SELECT 85, [id], 'joins', 1 FROM [dbo].[tribes] WHERE [dbo].[tribes].[name] = N'Резерви';\r\n",
                "INSERT INTO [dbo].[eventTribe] ([participantId], [tribeId], [event], [episode]) SELECT 86, [id], 'joins', 1 FROM [dbo].[tribes] WHERE [dbo].[tribes].[name] = N'Непобедими';\r\n",
                "INSERT INTO [dbo].[eventTribe] ([participantId], [tribeId], [event], [episode]) SELECT 87, [id], 'joins', 1 FROM [dbo].[tribes] WHERE [dbo].[tribes].[name] = N'Резерви';\r\n",
                "INSERT INTO [dbo].[eventTribe] ([participantId], [tribeId], [event], [episode]) SELECT 88, [id], 'joins', 1 FROM [dbo].[tribes] WHERE [dbo].[tribes].[name] = N'Резерви';\r\n",
                "INSERT INTO [dbo].[eventTribe] ([participantId], [tribeId], [event], [episode]) SELECT 89, [id], 'joins', 1 FROM [dbo].[tribes] WHERE [dbo].[tribes].[name] = N'Безстрашни';\r\n",
                "INSERT INTO [dbo].[eventTribe] ([participantId], [tribeId], [event], [episode]) SELECT 90, [id], 'joins', 1 FROM [dbo].[tribes] WHERE [dbo].[tribes].[name] = N'Непобедими';\r\n",
                "INSERT INTO [dbo].[eventTribe] ([participantId], [tribeId], [event], [episode]) SELECT 91, [id], 'joins', 1 FROM [dbo].[tribes] WHERE [dbo].[tribes].[name] = N'Супергерои';\r\n",
                "INSERT INTO [dbo].[eventTribe] ([participantId], [tribeId], [event], [episode]) SELECT 92, [id], 'joins', 1 FROM [dbo].[tribes] WHERE [dbo].[tribes].[name] = N'Супергерои';\r\n",
                "INSERT INTO [dbo].[eventTribe] ([participantId], [tribeId], [event], [episode]) SELECT 93, [id], 'joins', 1 FROM [dbo].[tribes] WHERE [dbo].[tribes].[name] = N'Супергерои';\r\n",
                "\r\n",
                "INSERT INTO [dbo].[eventTribe] ([participantId], [tribeId], [event], [episode]) SELECT 94, [id], 'joins', 1 FROM [dbo].[tribes] WHERE [dbo].[tribes].[name] = N'Непобедими';\r\n",
                "INSERT INTO [dbo].[eventTribe] ([participantId], [tribeId], [event], [episode]) SELECT 95, [id], 'joins', 1 FROM [dbo].[tribes] WHERE [dbo].[tribes].[name] = N'Безстрашни';\r\n",
                "INSERT INTO [dbo].[eventTribe] ([participantId], [tribeId], [event], [episode]) SELECT 96, [id], 'joins', 1 FROM [dbo].[tribes] WHERE [dbo].[tribes].[name] = N'Супергерои';\r\n",
                "INSERT INTO [dbo].[eventTribe] ([participantId], [tribeId], [event], [episode]) SELECT 97, [id], 'joins', 1 FROM [dbo].[tribes] WHERE [dbo].[tribes].[name] = N'Безстрашни';\r\n",
                "INSERT INTO [dbo].[eventTribe] ([participantId], [tribeId], [event], [episode]) SELECT 98, [id], 'joins', 1 FROM [dbo].[tribes] WHERE [dbo].[tribes].[name] = N'Безстрашни';\r\n",
                "INSERT INTO [dbo].[eventTribe] ([participantId], [tribeId], [event], [episode]) SELECT 99, [id], 'joins', 1 FROM [dbo].[tribes] WHERE [dbo].[tribes].[name] = N'Непобедими';\r\n",
                "INSERT INTO [dbo].[eventTribe] ([participantId], [tribeId], [event], [episode]) SELECT 100, [id], 'joins', 1 FROM [dbo].[tribes] WHERE [dbo].[tribes].[name] = N'Резерви';\r\n",
                "\r\n",
                "INSERT INTO [dbo].[eventTribe] ([participantId], [tribeId], [event], [episode]) SELECT 101, [id], 'joins', 1 FROM [dbo].[tribes] WHERE [dbo].[tribes].[name] = N'Непобедими';\r\n",
                "INSERT INTO [dbo].[eventTribe] ([participantId], [tribeId], [event], [episode]) SELECT 102, [id], 'joins', 1 FROM [dbo].[tribes] WHERE [dbo].[tribes].[name] = N'Супергерои';\r\n",
                "INSERT INTO [dbo].[eventTribe] ([participantId], [tribeId], [event], [episode]) SELECT 103, [id], 'joins', 1 FROM [dbo].[tribes] WHERE [dbo].[tribes].[name] = N'Безстрашни';\r\n",
                "INSERT INTO [dbo].[eventTribe] ([participantId], [tribeId], [event], [episode]) SELECT 104, [id], 'joins', 1 FROM [dbo].[tribes] WHERE [dbo].[tribes].[name] = N'Безстрашни';\r\n",
                "INSERT INTO [dbo].[eventTribe] ([participantId], [tribeId], [event], [episode]) SELECT 105, [id], 'joins', 1 FROM [dbo].[tribes] WHERE [dbo].[tribes].[name] = N'Резерви';\r\n",
                "INSERT INTO [dbo].[eventTribe] ([participantId], [tribeId], [event], [episode]) SELECT 106, [id], 'joins', 1 FROM [dbo].[tribes] WHERE [dbo].[tribes].[name] = N'Супергерои';\r\n",
                "INSERT INTO [dbo].[eventTribe] ([participantId], [tribeId], [event], [episode]) SELECT 107, [id], 'joins', 1 FROM [dbo].[tribes] WHERE [dbo].[tribes].[name] = N'Непобедими';\r\n",
                "INSERT INTO [dbo].[eventTribe] ([participantId], [tribeId], [event], [episode]) SELECT 108, [id], 'joins', 1 FROM [dbo].[tribes] WHERE [dbo].[tribes].[name] = N'Резерви';\r\n",
                "INSERT INTO [dbo].[eventTribe] ([participantId], [tribeId], [event], [episode]) SELECT 109, [id], 'joins', 1 FROM [dbo].[tribes] WHERE [dbo].[tribes].[name] = N'Резерви';\r\n",
                "\r\n",
                "/*Season 5*/\r\n",
                "\r\n",
                "INSERT    INTO [dbo].[eventTribe] ([participantId], [tribeId], [event], [episode])\r\n",
                "SELECT    (\r\n",
                "          SELECT    [id]\r\n",
                "          FROM      [desafio].[dbo].[participant]\r\n",
                "          WHERE     [desafio].[dbo].[participant].[name] = N'Даниел Димов'\r\n",
                "          AND       [desafio].[dbo].[participant].[age] = 34\r\n",
                "          ),\r\n",
                "          [id],\r\n",
                "          'joins',\r\n",
                "          1\r\n",
                "FROM      [dbo].[tribes]\r\n",
                "WHERE     [dbo].[tribes].[name] = N'Момчета';\r\n",
                "\r\n",
                "INSERT    INTO [dbo].[eventTribe] ([participantId], [tribeId], [event], [episode])\r\n",
                "SELECT    (\r\n",
                "          SELECT    [id]\r\n",
                "          FROM      [desafio].[dbo].[participant]\r\n",
                "          WHERE     [desafio].[dbo].[participant].[name] = N'Калоян Митов'\r\n",
                "          AND       [desafio].[dbo].[participant].[age] = 22\r\n",
                "          ),\r\n",
                "          [id],\r\n",
                "          'joins',\r\n",
                "          1\r\n",
                "FROM      [dbo].[tribes]\r\n",
                "WHERE     [dbo].[tribes].[name] = N'Момчета';\r\n",
                "\r\n",
                "INSERT    INTO [dbo].[eventTribe] ([participantId], [tribeId], [event], [episode])\r\n",
                "SELECT    (\r\n",
                "          SELECT    [id]\r\n",
                "          FROM      [desafio].[dbo].[participant]\r\n",
                "          WHERE     [desafio].[dbo].[participant].[name] = N'Крум Апостолов'\r\n",
                "          AND       [desafio].[dbo].[participant].[age] = 25\r\n",
                "          ),\r\n",
                "          [id],\r\n",
                "          'joins',\r\n",
                "          1\r\n",
                "FROM      [dbo].[tribes]\r\n",
                "WHERE     [dbo].[tribes].[name] = N'Момчета';\r\n",
                "\r\n",
                "INSERT    INTO [dbo].[eventTribe] ([participantId], [tribeId], [event], [episode])\r\n",
                "SELECT    (\r\n",
                "          SELECT    [id]\r\n",
                "          FROM      [desafio].[dbo].[participant]\r\n",
                "          WHERE     [desafio].[dbo].[participant].[name] = N'Николай Костадинов'\r\n",
                "          AND       [desafio].[dbo].[participant].[age] = 32\r\n",
                "          ),\r\n",
                "          [id],\r\n",
                "          'joins',\r\n",
                "          1\r\n",
                "FROM      [dbo].[tribes]\r\n",
                "WHERE     [dbo].[tribes].[name] = N'Момчета';\r\n",
                "\r\n",
                "INSERT    INTO [dbo].[eventTribe] ([participantId], [tribeId], [event], [episode])\r\n",
                "SELECT    (\r\n",
                "          SELECT    [id]\r\n",
                "          FROM      [desafio].[dbo].[participant]\r\n",
                "          WHERE     [desafio].[dbo].[participant].[name] = N'Пеньо Гатевски „Гатьо“'\r\n",
                "          AND       [desafio].[dbo].[participant].[age] = 41\r\n",
                "          ),\r\n",
                "          [id],\r\n",
                "          'joins',\r\n",
                "          1\r\n",
                "FROM      [dbo].[tribes]\r\n",
                "WHERE     [dbo].[tribes].[name] = N'Момчета';\r\n",
                "\r\n",
                "INSERT    INTO [dbo].[eventTribe] ([participantId], [tribeId], [event], [episode])\r\n",
                "SELECT    (\r\n",
                "          SELECT    [id]\r\n",
                "          FROM      [desafio].[dbo].[participant]\r\n",
                "          WHERE     [desafio].[dbo].[participant].[name] = N'Цветелин Гешов'\r\n",
                "          AND       [desafio].[dbo].[participant].[age] = 25\r\n",
                "          ),\r\n",
                "          [id],\r\n",
                "          'joins',\r\n",
                "          1\r\n",
                "FROM      [dbo].[tribes]\r\n",
                "WHERE     [dbo].[tribes].[name] = N'Момчета';\r\n",
                "\r\n",
                "---\r\n",
                "\r\n",
                "INSERT    INTO [dbo].[eventTribe] ([participantId], [tribeId], [event], [episode])\r\n",
                "SELECT    (\r\n",
                "          SELECT    [id]\r\n",
                "          FROM      [desafio].[dbo].[participant]\r\n",
                "          WHERE     [desafio].[dbo].[participant].[name] = N'Васил Василев'\r\n",
                "          AND       [desafio].[dbo].[participant].[age] = 31\r\n",
                "          ),\r\n",
                "          [id],\r\n",
                "          'joins',\r\n",
                "          1\r\n",
                "FROM      [dbo].[tribes]\r\n",
                "WHERE     [dbo].[tribes].[name] = N'Двойки';\r\n",
                "\r\n",
                "INSERT    INTO [dbo].[eventTribe] ([participantId], [tribeId], [event], [episode])\r\n",
                "SELECT    (\r\n",
                "          SELECT    [id]\r\n",
                "          FROM      [desafio].[dbo].[participant]\r\n",
                "          WHERE     [desafio].[dbo].[participant].[name] = N'Момчил Василев'\r\n",
                "          AND       [desafio].[dbo].[participant].[age] = 25\r\n",
                "          ),\r\n",
                "          [id],\r\n",
                "          'joins',\r\n",
                "          1\r\n",
                "FROM      [dbo].[tribes]\r\n",
                "WHERE     [dbo].[tribes].[name] = N'Двойки';\r\n",
                "\r\n",
                "INSERT    INTO [dbo].[eventTribe] ([participantId], [tribeId], [event], [episode])\r\n",
                "SELECT    (\r\n",
                "          SELECT    [id]\r\n",
                "          FROM      [desafio].[dbo].[participant]\r\n",
                "          WHERE     [desafio].[dbo].[participant].[name] = N'Красимир Дунев'\r\n",
                "          AND       [desafio].[dbo].[participant].[age] = 50\r\n",
                "          ),\r\n",
                "          [id],\r\n",
                "          'joins',\r\n",
                "          1\r\n",
                "FROM      [dbo].[tribes]\r\n",
                "WHERE     [dbo].[tribes].[name] = N'Двойки';\r\n",
                "\r\n",
                "INSERT    INTO [dbo].[eventTribe] ([participantId], [tribeId], [event], [episode])\r\n",
                "SELECT    (\r\n",
                "          SELECT    [id]\r\n",
                "          FROM      [desafio].[dbo].[participant]\r\n",
                "          WHERE     [desafio].[dbo].[participant].[name] = N'Никол Дунев'\r\n",
                "          AND       [desafio].[dbo].[participant].[age] = 24\r\n",
                "          ),\r\n",
                "          [id],\r\n",
                "          'joins',\r\n",
                "          1\r\n",
                "FROM      [dbo].[tribes]\r\n",
                "WHERE     [dbo].[tribes].[name] = N'Двойки';\r\n",
                "\r\n",
                "INSERT    INTO [dbo].[eventTribe] ([participantId], [tribeId], [event], [episode])\r\n",
                "SELECT    (\r\n",
                "          SELECT    [id]\r\n",
                "          FROM      [desafio].[dbo].[participant]\r\n",
                "          WHERE     [desafio].[dbo].[participant].[name] = N'Румен Радев'\r\n",
                "          AND       [desafio].[dbo].[participant].[age] = 26\r\n",
                "          ),\r\n",
                "          [id],\r\n",
                "          'joins',\r\n",
                "          1\r\n",
                "FROM      [dbo].[tribes]\r\n",
                "WHERE     [dbo].[tribes].[name] = N'Двойки';\r\n",
                "\r\n",
                "INSERT    INTO [dbo].[eventTribe] ([participantId], [tribeId], [event], [episode])\r\n",
                "SELECT    (\r\n",
                "          SELECT    [id]\r\n",
                "          FROM      [desafio].[dbo].[participant]\r\n",
                "          WHERE     [desafio].[dbo].[participant].[name] = N'Теодора Мудева'\r\n",
                "          AND       [desafio].[dbo].[participant].[age] = 22\r\n",
                "          ),\r\n",
                "          [id],\r\n",
                "          'joins',\r\n",
                "          1\r\n",
                "FROM      [dbo].[tribes]\r\n",
                "WHERE     [dbo].[tribes].[name] = N'Двойки';\r\n",
                "\r\n",
                "---\r\n",
                "\r\n",
                "INSERT    INTO [dbo].[eventTribe] ([participantId], [tribeId], [event], [episode])\r\n",
                "SELECT    (\r\n",
                "          SELECT    [id]\r\n",
                "          FROM      [desafio].[dbo].[participant]\r\n",
                "          WHERE     [desafio].[dbo].[participant].[name] = N'Албена Ситнилска'\r\n",
                "          AND       [desafio].[dbo].[participant].[age] = 41\r\n",
                "          ),\r\n",
                "          [id],\r\n",
                "          'joins',\r\n",
                "          1\r\n",
                "FROM      [dbo].[tribes]\r\n",
                "WHERE     [dbo].[tribes].[name] = N'Момичета';\r\n",
                "\r\n",
                "INSERT    INTO [dbo].[eventTribe] ([participantId], [tribeId], [event], [episode])\r\n",
                "SELECT    (\r\n",
                "          SELECT    [id]\r\n",
                "          FROM      [desafio].[dbo].[participant]\r\n",
                "          WHERE     [desafio].[dbo].[participant].[name] = N'Виктория Йорданова'\r\n",
                "          AND       [desafio].[dbo].[participant].[age] = 27\r\n",
                "          ),\r\n",
                "          [id],\r\n",
                "          'joins',\r\n",
                "          1\r\n",
                "FROM      [dbo].[tribes]\r\n",
                "WHERE     [dbo].[tribes].[name] = N'Момичета';\r\n",
                "\r\n",
                "INSERT    INTO [dbo].[eventTribe] ([participantId], [tribeId], [event], [episode])\r\n",
                "SELECT    (\r\n",
                "          SELECT    [id]\r\n",
                "          FROM      [desafio].[dbo].[participant]\r\n",
                "          WHERE     [desafio].[dbo].[participant].[name] = N'Ива Георгиева'\r\n",
                "          AND       [desafio].[dbo].[participant].[age] = 20\r\n",
                "          ),\r\n",
                "          [id],\r\n",
                "          'joins',\r\n",
                "          1\r\n",
                "FROM      [dbo].[tribes]\r\n",
                "WHERE     [dbo].[tribes].[name] = N'Момичета';\r\n",
                "\r\n",
                "INSERT    INTO [dbo].[eventTribe] ([participantId], [tribeId], [event], [episode])\r\n",
                "SELECT    (\r\n",
                "          SELECT    [id]\r\n",
                "          FROM      [desafio].[dbo].[participant]\r\n",
                "          WHERE     [desafio].[dbo].[participant].[name] = N'Мария Оряшкова'\r\n",
                "          AND       [desafio].[dbo].[participant].[age] = 34\r\n",
                "          ),\r\n",
                "          [id],\r\n",
                "          'joins',\r\n",
                "          1\r\n",
                "FROM      [dbo].[tribes]\r\n",
                "WHERE     [dbo].[tribes].[name] = N'Момичета';\r\n",
                "\r\n",
                "INSERT    INTO [dbo].[eventTribe] ([participantId], [tribeId], [event], [episode])\r\n",
                "SELECT    (\r\n",
                "          SELECT    [id]\r\n",
                "          FROM      [desafio].[dbo].[participant]\r\n",
                "          WHERE     [desafio].[dbo].[participant].[name] = N'Радосвета Симеонова'\r\n",
                "          AND       [desafio].[dbo].[participant].[age] = 29\r\n",
                "          ),\r\n",
                "          [id],\r\n",
                "          'joins',\r\n",
                "          1\r\n",
                "FROM      [dbo].[tribes]\r\n",
                "WHERE     [dbo].[tribes].[name] = N'Момичета';\r\n",
                "\r\n",
                "INSERT    INTO [dbo].[eventTribe] ([participantId], [tribeId], [event], [episode])\r\n",
                "SELECT    (\r\n",
                "          SELECT    [id]\r\n",
                "          FROM      [desafio].[dbo].[participant]\r\n",
                "          WHERE     [desafio].[dbo].[participant].[name] = N'Цвети Станева'\r\n",
                "          AND       [desafio].[dbo].[participant].[age] = 22\r\n",
                "          ),\r\n",
                "          [id],\r\n",
                "          'joins',\r\n",
                "          1\r\n",
                "FROM      [dbo].[tribes]\r\n",
                "WHERE     [dbo].[tribes].[name] = N'Момичета';\r\n",
                "\r\n",
                "--\r\n",
                "\r\n",
                "INSERT    INTO [dbo].[eventTribe] ([participantId], [tribeId], [event], [episode])\r\n",
                "SELECT    (\r\n",
                "          SELECT    [id]\r\n",
                "          FROM      [desafio].[dbo].[participant]\r\n",
                "          WHERE     [desafio].[dbo].[participant].[name] = N'Васил Василев'\r\n",
                "          AND       [desafio].[dbo].[participant].[age] = 31\r\n",
                "          ),\r\n",
                "          [id],\r\n",
                "          'joins',\r\n",
                "          2\r\n",
                "FROM      [dbo].[tribes]\r\n",
                "WHERE     [dbo].[tribes].[name] = N'Изгубени';\r\n",
                "\r\n",
                "INSERT    INTO [dbo].[eventTribe] ([participantId], [tribeId], [event], [episode])\r\n",
                "SELECT    (\r\n",
                "          SELECT    [id]\r\n",
                "          FROM      [desafio].[dbo].[participant]\r\n",
                "          WHERE     [desafio].[dbo].[participant].[name] = N'Веселина Маринова'\r\n",
                "          AND       [desafio].[dbo].[participant].[age] = 29\r\n",
                "          ),\r\n",
                "          [id],\r\n",
                "          'joins',\r\n",
                "          2\r\n",
                "FROM      [dbo].[tribes]\r\n",
                "WHERE     [dbo].[tribes].[name] = N'Изгубени';\r\n",
                "\r\n",
                "INSERT    INTO [dbo].[eventTribe] ([participantId], [tribeId], [event], [episode])\r\n",
                "SELECT    (\r\n",
                "          SELECT    [id]\r\n",
                "          FROM      [desafio].[dbo].[participant]\r\n",
                "          WHERE     [desafio].[dbo].[participant].[name] = N'Денислава Велкова'\r\n",
                "          AND       [desafio].[dbo].[participant].[age] = 24\r\n",
                "          ),\r\n",
                "          [id],\r\n",
                "          'joins',\r\n",
                "          2\r\n",
                "FROM      [dbo].[tribes]\r\n",
                "WHERE     [dbo].[tribes].[name] = N'Изгубени';\r\n",
                "\r\n",
                "INSERT    INTO [dbo].[eventTribe] ([participantId], [tribeId], [event], [episode])\r\n",
                "SELECT    (\r\n",
                "          SELECT    [id]\r\n",
                "          FROM      [desafio].[dbo].[participant]\r\n",
                "          WHERE     [desafio].[dbo].[participant].[name] = N'Елена Петрова'\r\n",
                "          AND       [desafio].[dbo].[participant].[age] = 20\r\n",
                "          ),\r\n",
                "          [id],\r\n",
                "          'joins',\r\n",
                "          2\r\n",
                "FROM      [dbo].[tribes]\r\n",
                "WHERE     [dbo].[tribes].[name] = N'Изгубени';\r\n",
                "\r\n",
                "INSERT    INTO [dbo].[eventTribe] ([participantId], [tribeId], [event], [episode])\r\n",
                "SELECT    (\r\n",
                "          SELECT    [id]\r\n",
                "          FROM      [desafio].[dbo].[participant]\r\n",
                "          WHERE     [desafio].[dbo].[participant].[name] = N'Михаил Кръстев'\r\n",
                "          AND       [desafio].[dbo].[participant].[age] = 20\r\n",
                "          ),\r\n",
                "          [id],\r\n",
                "          'joins',\r\n",
                "          2\r\n",
                "FROM      [dbo].[tribes]\r\n",
                "WHERE     [dbo].[tribes].[name] = N'Изгубени';\r\n",
                "\r\n",
                "INSERT    INTO [dbo].[eventTribe] ([participantId], [tribeId], [event], [episode])\r\n",
                "SELECT    (\r\n",
                "          SELECT    [id]\r\n",
                "          FROM      [desafio].[dbo].[participant]\r\n",
                "          WHERE     [desafio].[dbo].[participant].[name] = N'Никол Дунев'\r\n",
                "          AND       [desafio].[dbo].[participant].[age] = 24\r\n",
                "          ),\r\n",
                "          [id],\r\n",
                "          'joins',\r\n",
                "          2\r\n",
                "FROM      [dbo].[tribes]\r\n",
                "WHERE     [dbo].[tribes].[name] = N'Изгубени';\r\n",
                "\r\n",
                "INSERT    INTO [dbo].[eventTribe] ([participantId], [tribeId], [event], [episode])\r\n",
                "SELECT    (\r\n",
                "          SELECT    [id]\r\n",
                "          FROM      [desafio].[dbo].[participant]\r\n",
                "          WHERE     [desafio].[dbo].[participant].[name] = N'Николай Рълев'\r\n",
                "          AND       [desafio].[dbo].[participant].[age] = 19\r\n",
                "          ),\r\n",
                "          [id],\r\n",
                "          'joins',\r\n",
                "          2\r\n",
                "FROM      [dbo].[tribes]\r\n",
                "WHERE     [dbo].[tribes].[name] = N'Изгубени';\r\n",
                "\r\n",
                "INSERT    INTO [dbo].[eventTribe] ([participantId], [tribeId], [event], [episode])\r\n",
                "SELECT    (\r\n",
                "          SELECT    [id]\r\n",
                "          FROM      [desafio].[dbo].[participant]\r\n",
                "          WHERE     [desafio].[dbo].[participant].[name] = N'Румен Радев'\r\n",
                "          AND       [desafio].[dbo].[participant].[age] = 26\r\n",
                "          ),\r\n",
                "          [id],\r\n",
                "          'joins',\r\n",
                "          2\r\n",
                "FROM      [dbo].[tribes]\r\n",
                "WHERE     [dbo].[tribes].[name] = N'Изгубени';\r\n",
                "\r\n",
                "--\r\n",
                "\r\n",
                "INSERT    INTO [dbo].[eventTribe] ([participantId], [tribeId], [event], [episode])\r\n",
                "SELECT    (\r\n",
                "          SELECT    [id]\r\n",
                "          FROM      [desafio].[dbo].[participant]\r\n",
                "          WHERE     [desafio].[dbo].[participant].[name] = N'Николай Костадинов'\r\n",
                "          AND       [desafio].[dbo].[participant].[age] = 32\r\n",
                "          ),\r\n",
                "          [id],\r\n",
                "          'joins',\r\n",
                "          2\r\n",
                "FROM      [dbo].[tribes]\r\n",
                "WHERE     [dbo].[tribes].[name] = N'Гладиатори';\r\n",
                "\r\n",
                "INSERT    INTO [dbo].[eventTribe] ([participantId], [tribeId], [event], [episode])\r\n",
                "SELECT    (\r\n",
                "          SELECT    [id]\r\n",
                "          FROM      [desafio].[dbo].[participant]\r\n",
                "          WHERE     [desafio].[dbo].[participant].[name] = N'Цветелин Гешов'\r\n",
                "          AND       [desafio].[dbo].[participant].[age] = 25\r\n",
                "          ),\r\n",
                "          [id],\r\n",
                "          'joins',\r\n",
                "          2\r\n",
                "FROM      [dbo].[tribes]\r\n",
                "WHERE     [dbo].[tribes].[name] = N'Гладиатори';\r\n",
                "\r\n",
                "INSERT    INTO [dbo].[eventTribe] ([participantId], [tribeId], [event], [episode])\r\n",
                "SELECT    (\r\n",
                "          SELECT    [id]\r\n",
                "          FROM      [desafio].[dbo].[participant]\r\n",
                "          WHERE     [desafio].[dbo].[participant].[name] = N'Пеньо Гатевски „Гатьо“'\r\n",
                "          AND       [desafio].[dbo].[participant].[age] = 41\r\n",
                "          ),\r\n",
                "          [id],\r\n",
                "          'joins',\r\n",
                "          2\r\n",
                "FROM      [dbo].[tribes]\r\n",
                "WHERE     [dbo].[tribes].[name] = N'Гладиатори';\r\n",
                "\r\n",
                "INSERT    INTO [dbo].[eventTribe] ([participantId], [tribeId], [event], [episode])\r\n",
                "SELECT    (\r\n",
                "          SELECT    [id]\r\n",
                "          FROM      [desafio].[dbo].[participant]\r\n",
                "          WHERE     [desafio].[dbo].[participant].[name] = N'Крум Апостолов'\r\n",
                "          AND       [desafio].[dbo].[participant].[age] = 25\r\n",
                "          ),\r\n",
                "          [id],\r\n",
                "          'joins',\r\n",
                "          2\r\n",
                "FROM      [dbo].[tribes]\r\n",
                "WHERE     [dbo].[tribes].[name] = N'Гладиатори';\r\n",
                "\r\n",
                "INSERT    INTO [dbo].[eventTribe] ([participantId], [tribeId], [event], [episode])\r\n",
                "SELECT    (\r\n",
                "          SELECT    [id]\r\n",
                "          FROM      [desafio].[dbo].[participant]\r\n",
                "          WHERE     [desafio].[dbo].[participant].[name] = N'Калоян Митов'\r\n",
                "          AND       [desafio].[dbo].[participant].[age] = 22\r\n",
                "          ),\r\n",
                "          [id],\r\n",
                "          'joins',\r\n",
                "          2\r\n",
                "FROM      [dbo].[tribes]\r\n",
                "WHERE     [dbo].[tribes].[name] = N'Гладиатори';\r\n",
                "\r\n",
                "INSERT    INTO [dbo].[eventTribe] ([participantId], [tribeId], [event], [episode])\r\n",
                "SELECT    (\r\n",
                "          SELECT    [id]\r\n",
                "          FROM      [desafio].[dbo].[participant]\r\n",
                "          WHERE     [desafio].[dbo].[participant].[name] = N'Даниел Димов'\r\n",
                "          AND       [desafio].[dbo].[participant].[age] = 34\r\n",
                "          ),\r\n",
                "          [id],\r\n",
                "          'joins',\r\n",
                "          2\r\n",
                "FROM      [dbo].[tribes]\r\n",
                "WHERE     [dbo].[tribes].[name] = N'Гладиатори';\r\n",
                "\r\n",
                "INSERT    INTO [dbo].[eventTribe] ([participantId], [tribeId], [event], [episode])\r\n",
                "SELECT    (\r\n",
                "          SELECT    [id]\r\n",
                "          FROM      [desafio].[dbo].[participant]\r\n",
                "          WHERE     [desafio].[dbo].[participant].[name] = N'Радостин Кръстев'\r\n",
                "          AND       [desafio].[dbo].[participant].[age] = 22\r\n",
                "          ),\r\n",
                "          [id],\r\n",
                "          'joins',\r\n",
                "          2\r\n",
                "FROM      [dbo].[tribes]\r\n",
                "WHERE     [dbo].[tribes].[name] = N'Гладиатори';\r\n",
                "\r\n",
                "INSERT    INTO [dbo].[eventTribe] ([participantId], [tribeId], [event], [episode])\r\n",
                "SELECT    (\r\n",
                "          SELECT    [id]\r\n",
                "          FROM      [desafio].[dbo].[participant]\r\n",
                "          WHERE     [desafio].[dbo].[participant].[name] = N'Иван Рълев'\r\n",
                "          AND       [desafio].[dbo].[participant].[age] = 25\r\n",
                "          ),\r\n",
                "          [id],\r\n",
                "          'joins',\r\n",
                "          2\r\n",
                "FROM      [dbo].[tribes]\r\n",
                "WHERE     [dbo].[tribes].[name] = N'Гладиатори';\r\n",
                "\r\n",
                "--\r\n",
                "\r\n",
                "INSERT    INTO [dbo].[eventTribe] ([participantId], [tribeId], [event], [episode])\r\n",
                "SELECT    (\r\n",
                "          SELECT    [id]\r\n",
                "          FROM      [desafio].[dbo].[participant]\r\n",
                "          WHERE     [desafio].[dbo].[participant].[name] = N'Трифон Симеонов „Туньо“'\r\n",
                "          AND       [desafio].[dbo].[participant].[age] = 33\r\n",
                "          ),\r\n",
                "          [id],\r\n",
                "          'joins',\r\n",
                "          2\r\n",
                "FROM      [dbo].[tribes]\r\n",
                "WHERE     [dbo].[tribes].[name] = N'Старейшини';\r\n",
                "\r\n",
                "INSERT    INTO [dbo].[eventTribe] ([participantId], [tribeId], [event], [episode])\r\n",
                "SELECT    (\r\n",
                "          SELECT    [id]\r\n",
                "          FROM      [desafio].[dbo].[participant]\r\n",
                "          WHERE     [desafio].[dbo].[participant].[name] = N'Виолета Стайкова'\r\n",
                "          AND       [desafio].[dbo].[participant].[age] = 47\r\n",
                "          ),\r\n",
                "          [id],\r\n",
                "          'joins',\r\n",
                "          2\r\n",
                "FROM      [dbo].[tribes]\r\n",
                "WHERE     [dbo].[tribes].[name] = N'Старейшини';\r\n",
                "\r\n",
                "INSERT    INTO [dbo].[eventTribe] ([participantId], [tribeId], [event], [episode])\r\n",
                "SELECT    (\r\n",
                "          SELECT    [id]\r\n",
                "          FROM      [desafio].[dbo].[participant]\r\n",
                "          WHERE     [desafio].[dbo].[participant].[name] = N'Моника Николаева'\r\n",
                "          AND       [desafio].[dbo].[participant].[age] = 35\r\n",
                "          ),\r\n",
                "          [id],\r\n",
                "          'joins',\r\n",
                "          2\r\n",
                "FROM      [dbo].[tribes]\r\n",
                "WHERE     [dbo].[tribes].[name] = N'Старейшини';\r\n",
                "\r\n",
                "INSERT    INTO [dbo].[eventTribe] ([participantId], [tribeId], [event], [episode])\r\n",
                "SELECT    (\r\n",
                "          SELECT    [id]\r\n",
                "          FROM      [desafio].[dbo].[participant]\r\n",
                "          WHERE     [desafio].[dbo].[participant].[name] = N'Момчил Василев'\r\n",
                "          AND       [desafio].[dbo].[participant].[age] = 25\r\n",
                "          ),\r\n",
                "          [id],\r\n",
                "          'joins',\r\n",
                "          2\r\n",
                "FROM      [dbo].[tribes]\r\n",
                "WHERE     [dbo].[tribes].[name] = N'Старейшини';\r\n",
                "\r\n",
                "INSERT    INTO [dbo].[eventTribe] ([participantId], [tribeId], [event], [episode])\r\n",
                "SELECT    (\r\n",
                "          SELECT    [id]\r\n",
                "          FROM      [desafio].[dbo].[participant]\r\n",
                "          WHERE     [desafio].[dbo].[participant].[name] = N'Красимир Дунев'\r\n",
                "          AND       [desafio].[dbo].[participant].[age] = 50\r\n",
                "          ),\r\n",
                "          [id],\r\n",
                "          'joins',\r\n",
                "          2\r\n",
                "FROM      [dbo].[tribes]\r\n",
                "WHERE     [dbo].[tribes].[name] = N'Старейшини';\r\n",
                "\r\n",
                "INSERT    INTO [dbo].[eventTribe] ([participantId], [tribeId], [event], [episode])\r\n",
                "SELECT    (\r\n",
                "          SELECT    [id]\r\n",
                "          FROM      [desafio].[dbo].[participant]\r\n",
                "          WHERE     [desafio].[dbo].[participant].[name] = N'Благомир Мастагарков'\r\n",
                "          AND       [desafio].[dbo].[participant].[age] = 31\r\n",
                "          ),\r\n",
                "          [id],\r\n",
                "          'joins',\r\n",
                "          2\r\n",
                "FROM      [dbo].[tribes]\r\n",
                "WHERE     [dbo].[tribes].[name] = N'Старейшини';\r\n",
                "\r\n",
                "INSERT    INTO [dbo].[eventTribe] ([participantId], [tribeId], [event], [episode])\r\n",
                "SELECT    (\r\n",
                "          SELECT    [id]\r\n",
                "          FROM      [desafio].[dbo].[participant]\r\n",
                "          WHERE     [desafio].[dbo].[participant].[name] = N'Валентин Петров'\r\n",
                "          AND       [desafio].[dbo].[participant].[age] = 48\r\n",
                "          ),\r\n",
                "          [id],\r\n",
                "          'joins',\r\n",
                "          2\r\n",
                "FROM      [dbo].[tribes]\r\n",
                "WHERE     [dbo].[tribes].[name] = N'Старейшини';\r\n",
                "\r\n",
                "INSERT    INTO [dbo].[eventTribe] ([participantId], [tribeId], [event], [episode])\r\n",
                "SELECT    (\r\n",
                "          SELECT    [id]\r\n",
                "          FROM      [desafio].[dbo].[participant]\r\n",
                "          WHERE     [desafio].[dbo].[participant].[name] = N'Мартин Николов „Елвиса“'\r\n",
                "          AND       [desafio].[dbo].[participant].[age] = 38\r\n",
                "          ),\r\n",
                "          [id],\r\n",
                "          'joins',\r\n",
                "          2\r\n",
                "FROM      [dbo].[tribes]\r\n",
                "WHERE     [dbo].[tribes].[name] = N'Старейшини';\r\n",
                "\r\n",
                "--\r\n",
                "\r\n",
                "INSERT    INTO [dbo].[eventTribe] ([participantId], [tribeId], [event], [episode])\r\n",
                "SELECT    (\r\n",
                "          SELECT    [id]\r\n",
                "          FROM      [desafio].[dbo].[participant]\r\n",
                "          WHERE     [desafio].[dbo].[participant].[name] = N'Албена Ситнилска'\r\n",
                "          AND       [desafio].[dbo].[participant].[age] = 41\r\n",
                "          ),\r\n",
                "          [id],\r\n",
                "          'joins',\r\n",
                "          2\r\n",
                "FROM      [dbo].[tribes]\r\n",
                "WHERE     [dbo].[tribes].[name] = N'Амазонки';\r\n",
                "\r\n",
                "INSERT    INTO [dbo].[eventTribe] ([participantId], [tribeId], [event], [episode])\r\n",
                "SELECT    (\r\n",
                "          SELECT    [id]\r\n",
                "          FROM      [desafio].[dbo].[participant]\r\n",
                "          WHERE     [desafio].[dbo].[participant].[name] = N'Веселина Маринова'\r\n",
                "          AND       [desafio].[dbo].[participant].[age] = 29\r\n",
                "          ),\r\n",
                "          [id],\r\n",
                "          'joins',\r\n",
                "          2\r\n",
                "FROM      [dbo].[tribes]\r\n",
                "WHERE     [dbo].[tribes].[name] = N'Амазонки';\r\n",
                "\r\n",
                "INSERT    INTO [dbo].[eventTribe] ([participantId], [tribeId], [event], [episode])\r\n",
                "SELECT    (\r\n",
                "          SELECT    [id]\r\n",
                "          FROM      [desafio].[dbo].[participant]\r\n",
                "          WHERE     [desafio].[dbo].[participant].[name] = N'Виктория Йорданова'\r\n",
                "          AND       [desafio].[dbo].[participant].[age] = 27\r\n",
                "          ),\r\n",
                "          [id],\r\n",
                "          'joins',\r\n",
                "          2\r\n",
                "FROM      [dbo].[tribes]\r\n",
                "WHERE     [dbo].[tribes].[name] = N'Амазонки';\r\n",
                "\r\n",
                "INSERT    INTO [dbo].[eventTribe] ([participantId], [tribeId], [event], [episode])\r\n",
                "SELECT    (\r\n",
                "          SELECT    [id]\r\n",
                "          FROM      [desafio].[dbo].[participant]\r\n",
                "          WHERE     [desafio].[dbo].[participant].[name] = N'Ива Георгиева'\r\n",
                "          AND       [desafio].[dbo].[participant].[age] = 20\r\n",
                "          ),\r\n",
                "          [id],\r\n",
                "          'joins',\r\n",
                "          2\r\n",
                "FROM      [dbo].[tribes]\r\n",
                "WHERE     [dbo].[tribes].[name] = N'Амазонки';\r\n",
                "\r\n",
                "INSERT    INTO [dbo].[eventTribe] ([participantId], [tribeId], [event], [episode])\r\n",
                "SELECT    (\r\n",
                "          SELECT    [id]\r\n",
                "          FROM      [desafio].[dbo].[participant]\r\n",
                "          WHERE     [desafio].[dbo].[participant].[name] = N'Мария Оряшкова'\r\n",
                "          AND       [desafio].[dbo].[participant].[age] = 34\r\n",
                "          ),\r\n",
                "          [id],\r\n",
                "          'joins',\r\n",
                "          2\r\n",
                "FROM      [dbo].[tribes]\r\n",
                "WHERE     [dbo].[tribes].[name] = N'Амазонки';\r\n",
                "\r\n",
                "INSERT    INTO [dbo].[eventTribe] ([participantId], [tribeId], [event], [episode])\r\n",
                "SELECT    (\r\n",
                "          SELECT    [id]\r\n",
                "          FROM      [desafio].[dbo].[participant]\r\n",
                "          WHERE     [desafio].[dbo].[participant].[name] = N'Теодора Маринова'\r\n",
                "          AND       [desafio].[dbo].[participant].[age] = 29\r\n",
                "          ),\r\n",
                "          [id],\r\n",
                "          'joins',\r\n",
                "          2\r\n",
                "FROM      [dbo].[tribes]\r\n",
                "WHERE     [dbo].[tribes].[name] = N'Амазонки';\r\n",
                "\r\n",
                "INSERT    INTO [dbo].[eventTribe] ([participantId], [tribeId], [event], [episode])\r\n",
                "SELECT    (\r\n",
                "          SELECT    [id]\r\n",
                "          FROM      [desafio].[dbo].[participant]\r\n",
                "          WHERE     [desafio].[dbo].[participant].[name] = N'Радосвета Симеонова'\r\n",
                "          AND       [desafio].[dbo].[participant].[age] = 29\r\n",
                "          ),\r\n",
                "          [id],\r\n",
                "          'joins',\r\n",
                "          2\r\n",
                "FROM      [dbo].[tribes]\r\n",
                "WHERE     [dbo].[tribes].[name] = N'Амазонки';\r\n",
                "\r\n",
                "INSERT    INTO [dbo].[eventTribe] ([participantId], [tribeId], [event], [episode])\r\n",
                "SELECT    (\r\n",
                "          SELECT    [id]\r\n",
                "          FROM      [desafio].[dbo].[participant]\r\n",
                "          WHERE     [desafio].[dbo].[participant].[name] = N'Цвети Станева'\r\n",
                "          AND       [desafio].[dbo].[participant].[age] = 22\r\n",
                "          ),\r\n",
                "          [id],\r\n",
                "          'joins',\r\n",
                "          2\r\n",
                "FROM      [dbo].[tribes]\r\n",
                "WHERE     [dbo].[tribes].[name] = N'Амазонки';\r\n",
                "\r\n",
                "INSERT    INTO [dbo].[eventTribe] ([participantId], [tribeId], [event], [episode])\r\n",
                "SELECT    (\r\n",
                "          SELECT    [id]\r\n",
                "          FROM      [desafio].[dbo].[participant]\r\n",
                "          WHERE     [desafio].[dbo].[participant].[name] = N'Теодора Мудева'\r\n",
                "          AND       [desafio].[dbo].[participant].[age] = 22\r\n",
                "          ),\r\n",
                "          [id],\r\n",
                "          'joins',\r\n",
                "          2\r\n",
                "FROM      [dbo].[tribes]\r\n",
                "WHERE     [dbo].[tribes].[name] = N'Амазонки';\r\n",
                "\r\n",
                "--\r\n",
                "\r\n",
                "INSERT    INTO [dbo].[eventTribe] ([participantId], [tribeId], [event], [episode])\r\n",
                "SELECT    (\r\n",
                "          SELECT    [id]\r\n",
                "          FROM      [desafio].[dbo].[participant]\r\n",
                "          WHERE     [desafio].[dbo].[participant].[name] = N'Васил Василев'\r\n",
                "          AND       [desafio].[dbo].[participant].[age] = 31\r\n",
                "          ),\r\n",
                "          [id],\r\n",
                "          'joins',\r\n",
                "          13\r\n",
                "FROM      [dbo].[tribes]\r\n",
                "WHERE     [dbo].[tribes].[name] = N'Старейшини';\r\n",
                "\r\n",
                "INSERT    INTO [dbo].[eventTribe] ([participantId], [tribeId], [event], [episode])\r\n",
                "SELECT    (\r\n",
                "          SELECT    [id]\r\n",
                "          FROM      [desafio].[dbo].[participant]\r\n",
                "          WHERE     [desafio].[dbo].[participant].[name] = N'Валентин Петров'\r\n",
                "          AND       [desafio].[dbo].[participant].[age] = 48\r\n",
                "          ),\r\n",
                "          [id],\r\n",
                "          'joins',\r\n",
                "          13\r\n",
                "FROM      [dbo].[tribes]\r\n",
                "WHERE     [dbo].[tribes].[name] = N'Изгубени';\r\n",
                "\r\n",
                "INSERT    INTO [dbo].[eventTribe] ([participantId], [tribeId], [event], [episode])\r\n",
                "SELECT    (\r\n",
                "          SELECT    [id]\r\n",
                "          FROM      [desafio].[dbo].[participant]\r\n",
                "          WHERE     [desafio].[dbo].[participant].[name] = N'Пеньо Гатевски „Гатьо“'\r\n",
                "          AND       [desafio].[dbo].[participant].[age] = 41\r\n",
                "          ),\r\n",
                "          [id],\r\n",
                "          'joins',\r\n",
                "          14\r\n",
                "FROM      [dbo].[tribes]\r\n",
                "WHERE     [dbo].[tribes].[name] = N'Амазонки';\r\n",
                "\r\n",
                "INSERT    INTO [dbo].[eventTribe] ([participantId], [tribeId], [event], [episode])\r\n",
                "SELECT    (\r\n",
                "          SELECT    [id]\r\n",
                "          FROM      [desafio].[dbo].[participant]\r\n",
                "          WHERE     [desafio].[dbo].[participant].[name] = N'Цветелин Гешов'\r\n",
                "          AND       [desafio].[dbo].[participant].[age] = 25\r\n",
                "          ),\r\n",
                "          [id],\r\n",
                "          'joins',\r\n",
                "          14\r\n",
                "FROM      [dbo].[tribes]\r\n",
                "WHERE     [dbo].[tribes].[name] = N'Амазонки';\r\n",
                "\r\n",
                "INSERT    INTO [dbo].[eventTribe] ([participantId], [tribeId], [event], [episode])\r\n",
                "SELECT    (\r\n",
                "          SELECT    [id]\r\n",
                "          FROM      [desafio].[dbo].[participant]\r\n",
                "          WHERE     [desafio].[dbo].[participant].[name] = N'Цвети Станева'\r\n",
                "          AND       [desafio].[dbo].[participant].[age] = 22\r\n",
                "          ),\r\n",
                "          [id],\r\n",
                "          'joins',\r\n",
                "          16\r\n",
                "FROM      [dbo].[tribes]\r\n",
                "WHERE     [dbo].[tribes].[name] = N'Гладиатори';\r\n",
                "\r\n",
                "INSERT    INTO [dbo].[eventTribe] ([participantId], [tribeId], [event], [episode])\r\n",
                "SELECT    (\r\n",
                "          SELECT    [id]\r\n",
                "          FROM      [desafio].[dbo].[participant]\r\n",
                "          WHERE     [desafio].[dbo].[participant].[name] = N'Момчил Василев'\r\n",
                "          AND       [desafio].[dbo].[participant].[age] = 25\r\n",
                "          ),\r\n",
                "          [id],\r\n",
                "          'joins',\r\n",
                "          17\r\n",
                "FROM      [dbo].[tribes]\r\n",
                "WHERE     [dbo].[tribes].[name] = N'Амазонки';\r\n",
                "\r\n",
                "INSERT    INTO [dbo].[eventTribe] ([participantId], [tribeId], [event], [episode])\r\n",
                "SELECT    (\r\n",
                "          SELECT    [id]\r\n",
                "          FROM      [desafio].[dbo].[participant]\r\n",
                "          WHERE     [desafio].[dbo].[participant].[name] = N'Виктория Йорданова'\r\n",
                "          AND       [desafio].[dbo].[participant].[age] = 27\r\n",
                "          ),\r\n",
                "          [id],\r\n",
                "          'joins',\r\n",
                "          17\r\n",
                "FROM      [dbo].[tribes]\r\n",
                "WHERE     [dbo].[tribes].[name] = N'Старейшини';\r\n",
                "\r\n",
                "INSERT    INTO [dbo].[eventTribe] ([participantId], [tribeId], [event], [episode])\r\n",
                "SELECT    (\r\n",
                "          SELECT    [id]\r\n",
                "          FROM      [desafio].[dbo].[participant]\r\n",
                "          WHERE     [desafio].[dbo].[participant].[name] = N'Денислава Велкова'\r\n",
                "          AND       [desafio].[dbo].[participant].[age] = 24\r\n",
                "          ),\r\n",
                "          [id],\r\n",
                "          'joins',\r\n",
                "          17\r\n",
                "FROM      [dbo].[tribes]\r\n",
                "WHERE     [dbo].[tribes].[name] = N'Старейшини';\r\n",
                "\r\n",
                "INSERT    INTO [dbo].[eventTribe] ([participantId], [tribeId], [event], [episode])\r\n",
                "SELECT    (\r\n",
                "          SELECT    [id]\r\n",
                "          FROM      [desafio].[dbo].[participant]\r\n",
                "          WHERE     [desafio].[dbo].[participant].[name] = N'Виктория Йорданова'\r\n",
                "          AND       [desafio].[dbo].[participant].[age] = 27\r\n",
                "          ),\r\n",
                "          [id],\r\n",
                "          'joins',\r\n",
                "          18\r\n",
                "FROM      [dbo].[tribes]\r\n",
                "WHERE     [dbo].[tribes].[name] = N'Изгубени';\r\n",
                "\r\n",
                "INSERT    INTO [dbo].[eventTribe] ([participantId], [tribeId], [event], [episode])\r\n",
                "SELECT    (\r\n",
                "          SELECT    [id]\r\n",
                "          FROM      [desafio].[dbo].[participant]\r\n",
                "          WHERE     [desafio].[dbo].[participant].[name] = N'Виктория Йорданова'\r\n",
                "          AND       [desafio].[dbo].[participant].[age] = 27\r\n",
                "          ),\r\n",
                "          [id],\r\n",
                "          'joins',\r\n",
                "          19\r\n",
                "FROM      [dbo].[tribes]\r\n",
                "WHERE     [dbo].[tribes].[name] = N'Старейшини';\r\n",
                "\r\n",
                "INSERT    INTO [dbo].[eventTribe] ([participantId], [tribeId], [event], [episode])\r\n",
                "SELECT    (\r\n",
                "          SELECT    [id]\r\n",
                "          FROM      [desafio].[dbo].[participant]\r\n",
                "          WHERE     [desafio].[dbo].[participant].[name] = N'Мартин Николов „Елвиса“'\r\n",
                "          AND       [desafio].[dbo].[participant].[age] = 38\r\n",
                "          ),\r\n",
                "          [id],\r\n",
                "          'joins',\r\n",
                "          19\r\n",
                "FROM      [dbo].[tribes]\r\n",
                "WHERE     [dbo].[tribes].[name] = N'Изгубени';"
            ],
            "metadata": {
                "azdata_cell_guid": "df63dc98-0e4b-42e8-9f3d-b99562e2590f",
                "language": "sql"
            },
            "outputs": [
                {
                    "output_type": "display_data",
                    "data": {
                        "text/html": "Commands completed successfully."
                    },
                    "metadata": {}
                },
                {
                    "output_type": "display_data",
                    "data": {
                        "text/html": "Commands completed successfully."
                    },
                    "metadata": {}
                },
                {
                    "output_type": "display_data",
                    "data": {
                        "text/html": "Commands completed successfully."
                    },
                    "metadata": {}
                },
                {
                    "output_type": "display_data",
                    "data": {
                        "text/html": "(1 row affected)"
                    },
                    "metadata": {}
                },
                {
                    "output_type": "display_data",
                    "data": {
                        "text/html": "(1 row affected)"
                    },
                    "metadata": {}
                },
                {
                    "output_type": "display_data",
                    "data": {
                        "text/html": "(1 row affected)"
                    },
                    "metadata": {}
                },
                {
                    "output_type": "display_data",
                    "data": {
                        "text/html": "(1 row affected)"
                    },
                    "metadata": {}
                },
                {
                    "output_type": "display_data",
                    "data": {
                        "text/html": "(1 row affected)"
                    },
                    "metadata": {}
                },
                {
                    "output_type": "display_data",
                    "data": {
                        "text/html": "(1 row affected)"
                    },
                    "metadata": {}
                },
                {
                    "output_type": "display_data",
                    "data": {
                        "text/html": "(1 row affected)"
                    },
                    "metadata": {}
                },
                {
                    "output_type": "display_data",
                    "data": {
                        "text/html": "(1 row affected)"
                    },
                    "metadata": {}
                },
                {
                    "output_type": "display_data",
                    "data": {
                        "text/html": "(1 row affected)"
                    },
                    "metadata": {}
                },
                {
                    "output_type": "display_data",
                    "data": {
                        "text/html": "(1 row affected)"
                    },
                    "metadata": {}
                },
                {
                    "output_type": "display_data",
                    "data": {
                        "text/html": "(1 row affected)"
                    },
                    "metadata": {}
                },
                {
                    "output_type": "display_data",
                    "data": {
                        "text/html": "(1 row affected)"
                    },
                    "metadata": {}
                },
                {
                    "output_type": "display_data",
                    "data": {
                        "text/html": "(1 row affected)"
                    },
                    "metadata": {}
                },
                {
                    "output_type": "display_data",
                    "data": {
                        "text/html": "(1 row affected)"
                    },
                    "metadata": {}
                },
                {
                    "output_type": "display_data",
                    "data": {
                        "text/html": "(1 row affected)"
                    },
                    "metadata": {}
                },
                {
                    "output_type": "display_data",
                    "data": {
                        "text/html": "(1 row affected)"
                    },
                    "metadata": {}
                },
                {
                    "output_type": "display_data",
                    "data": {
                        "text/html": "(1 row affected)"
                    },
                    "metadata": {}
                },
                {
                    "output_type": "display_data",
                    "data": {
                        "text/html": "(1 row affected)"
                    },
                    "metadata": {}
                },
                {
                    "output_type": "display_data",
                    "data": {
                        "text/html": "(1 row affected)"
                    },
                    "metadata": {}
                },
                {
                    "output_type": "display_data",
                    "data": {
                        "text/html": "(1 row affected)"
                    },
                    "metadata": {}
                },
                {
                    "output_type": "display_data",
                    "data": {
                        "text/html": "(1 row affected)"
                    },
                    "metadata": {}
                },
                {
                    "output_type": "display_data",
                    "data": {
                        "text/html": "(1 row affected)"
                    },
                    "metadata": {}
                },
                {
                    "output_type": "display_data",
                    "data": {
                        "text/html": "(1 row affected)"
                    },
                    "metadata": {}
                },
                {
                    "output_type": "display_data",
                    "data": {
                        "text/html": "(1 row affected)"
                    },
                    "metadata": {}
                },
                {
                    "output_type": "display_data",
                    "data": {
                        "text/html": "(1 row affected)"
                    },
                    "metadata": {}
                },
                {
                    "output_type": "display_data",
                    "data": {
                        "text/html": "(1 row affected)"
                    },
                    "metadata": {}
                },
                {
                    "output_type": "display_data",
                    "data": {
                        "text/html": "(1 row affected)"
                    },
                    "metadata": {}
                },
                {
                    "output_type": "display_data",
                    "data": {
                        "text/html": "(1 row affected)"
                    },
                    "metadata": {}
                },
                {
                    "output_type": "display_data",
                    "data": {
                        "text/html": "(1 row affected)"
                    },
                    "metadata": {}
                },
                {
                    "output_type": "display_data",
                    "data": {
                        "text/html": "(1 row affected)"
                    },
                    "metadata": {}
                },
                {
                    "output_type": "display_data",
                    "data": {
                        "text/html": "(1 row affected)"
                    },
                    "metadata": {}
                },
                {
                    "output_type": "display_data",
                    "data": {
                        "text/html": "(1 row affected)"
                    },
                    "metadata": {}
                },
                {
                    "output_type": "display_data",
                    "data": {
                        "text/html": "(1 row affected)"
                    },
                    "metadata": {}
                },
                {
                    "output_type": "display_data",
                    "data": {
                        "text/html": "(1 row affected)"
                    },
                    "metadata": {}
                },
                {
                    "output_type": "display_data",
                    "data": {
                        "text/html": "(1 row affected)"
                    },
                    "metadata": {}
                },
                {
                    "output_type": "display_data",
                    "data": {
                        "text/html": "(1 row affected)"
                    },
                    "metadata": {}
                },
                {
                    "output_type": "display_data",
                    "data": {
                        "text/html": "(1 row affected)"
                    },
                    "metadata": {}
                },
                {
                    "output_type": "display_data",
                    "data": {
                        "text/html": "(1 row affected)"
                    },
                    "metadata": {}
                },
                {
                    "output_type": "display_data",
                    "data": {
                        "text/html": "(1 row affected)"
                    },
                    "metadata": {}
                },
                {
                    "output_type": "display_data",
                    "data": {
                        "text/html": "(1 row affected)"
                    },
                    "metadata": {}
                },
                {
                    "output_type": "display_data",
                    "data": {
                        "text/html": "(1 row affected)"
                    },
                    "metadata": {}
                },
                {
                    "output_type": "display_data",
                    "data": {
                        "text/html": "(1 row affected)"
                    },
                    "metadata": {}
                },
                {
                    "output_type": "display_data",
                    "data": {
                        "text/html": "(1 row affected)"
                    },
                    "metadata": {}
                },
                {
                    "output_type": "display_data",
                    "data": {
                        "text/html": "(1 row affected)"
                    },
                    "metadata": {}
                },
                {
                    "output_type": "display_data",
                    "data": {
                        "text/html": "(1 row affected)"
                    },
                    "metadata": {}
                },
                {
                    "output_type": "display_data",
                    "data": {
                        "text/html": "(1 row affected)"
                    },
                    "metadata": {}
                },
                {
                    "output_type": "display_data",
                    "data": {
                        "text/html": "(1 row affected)"
                    },
                    "metadata": {}
                },
                {
                    "output_type": "display_data",
                    "data": {
                        "text/html": "(1 row affected)"
                    },
                    "metadata": {}
                },
                {
                    "output_type": "display_data",
                    "data": {
                        "text/html": "(1 row affected)"
                    },
                    "metadata": {}
                },
                {
                    "output_type": "display_data",
                    "data": {
                        "text/html": "(1 row affected)"
                    },
                    "metadata": {}
                },
                {
                    "output_type": "display_data",
                    "data": {
                        "text/html": "(1 row affected)"
                    },
                    "metadata": {}
                },
                {
                    "output_type": "display_data",
                    "data": {
                        "text/html": "(1 row affected)"
                    },
                    "metadata": {}
                },
                {
                    "output_type": "display_data",
                    "data": {
                        "text/html": "(1 row affected)"
                    },
                    "metadata": {}
                },
                {
                    "output_type": "display_data",
                    "data": {
                        "text/html": "(1 row affected)"
                    },
                    "metadata": {}
                },
                {
                    "output_type": "display_data",
                    "data": {
                        "text/html": "(1 row affected)"
                    },
                    "metadata": {}
                },
                {
                    "output_type": "display_data",
                    "data": {
                        "text/html": "(1 row affected)"
                    },
                    "metadata": {}
                },
                {
                    "output_type": "display_data",
                    "data": {
                        "text/html": "(1 row affected)"
                    },
                    "metadata": {}
                },
                {
                    "output_type": "display_data",
                    "data": {
                        "text/html": "(1 row affected)"
                    },
                    "metadata": {}
                },
                {
                    "output_type": "display_data",
                    "data": {
                        "text/html": "(1 row affected)"
                    },
                    "metadata": {}
                },
                {
                    "output_type": "display_data",
                    "data": {
                        "text/html": "(1 row affected)"
                    },
                    "metadata": {}
                },
                {
                    "output_type": "display_data",
                    "data": {
                        "text/html": "(1 row affected)"
                    },
                    "metadata": {}
                },
                {
                    "output_type": "display_data",
                    "data": {
                        "text/html": "(1 row affected)"
                    },
                    "metadata": {}
                },
                {
                    "output_type": "display_data",
                    "data": {
                        "text/html": "(1 row affected)"
                    },
                    "metadata": {}
                },
                {
                    "output_type": "display_data",
                    "data": {
                        "text/html": "(1 row affected)"
                    },
                    "metadata": {}
                },
                {
                    "output_type": "display_data",
                    "data": {
                        "text/html": "(1 row affected)"
                    },
                    "metadata": {}
                },
                {
                    "output_type": "display_data",
                    "data": {
                        "text/html": "(1 row affected)"
                    },
                    "metadata": {}
                },
                {
                    "output_type": "display_data",
                    "data": {
                        "text/html": "(1 row affected)"
                    },
                    "metadata": {}
                },
                {
                    "output_type": "display_data",
                    "data": {
                        "text/html": "(1 row affected)"
                    },
                    "metadata": {}
                },
                {
                    "output_type": "display_data",
                    "data": {
                        "text/html": "(1 row affected)"
                    },
                    "metadata": {}
                },
                {
                    "output_type": "display_data",
                    "data": {
                        "text/html": "(1 row affected)"
                    },
                    "metadata": {}
                },
                {
                    "output_type": "display_data",
                    "data": {
                        "text/html": "(1 row affected)"
                    },
                    "metadata": {}
                },
                {
                    "output_type": "display_data",
                    "data": {
                        "text/html": "(1 row affected)"
                    },
                    "metadata": {}
                },
                {
                    "output_type": "display_data",
                    "data": {
                        "text/html": "(1 row affected)"
                    },
                    "metadata": {}
                },
                {
                    "output_type": "display_data",
                    "data": {
                        "text/html": "(1 row affected)"
                    },
                    "metadata": {}
                },
                {
                    "output_type": "display_data",
                    "data": {
                        "text/html": "(1 row affected)"
                    },
                    "metadata": {}
                },
                {
                    "output_type": "display_data",
                    "data": {
                        "text/html": "(1 row affected)"
                    },
                    "metadata": {}
                },
                {
                    "output_type": "display_data",
                    "data": {
                        "text/html": "(1 row affected)"
                    },
                    "metadata": {}
                },
                {
                    "output_type": "display_data",
                    "data": {
                        "text/html": "(1 row affected)"
                    },
                    "metadata": {}
                },
                {
                    "output_type": "display_data",
                    "data": {
                        "text/html": "(1 row affected)"
                    },
                    "metadata": {}
                },
                {
                    "output_type": "display_data",
                    "data": {
                        "text/html": "(1 row affected)"
                    },
                    "metadata": {}
                },
                {
                    "output_type": "display_data",
                    "data": {
                        "text/html": "(1 row affected)"
                    },
                    "metadata": {}
                },
                {
                    "output_type": "display_data",
                    "data": {
                        "text/html": "(1 row affected)"
                    },
                    "metadata": {}
                },
                {
                    "output_type": "display_data",
                    "data": {
                        "text/html": "(1 row affected)"
                    },
                    "metadata": {}
                },
                {
                    "output_type": "display_data",
                    "data": {
                        "text/html": "(1 row affected)"
                    },
                    "metadata": {}
                },
                {
                    "output_type": "display_data",
                    "data": {
                        "text/html": "(1 row affected)"
                    },
                    "metadata": {}
                },
                {
                    "output_type": "display_data",
                    "data": {
                        "text/html": "(1 row affected)"
                    },
                    "metadata": {}
                },
                {
                    "output_type": "display_data",
                    "data": {
                        "text/html": "(1 row affected)"
                    },
                    "metadata": {}
                },
                {
                    "output_type": "display_data",
                    "data": {
                        "text/html": "(1 row affected)"
                    },
                    "metadata": {}
                },
                {
                    "output_type": "display_data",
                    "data": {
                        "text/html": "(1 row affected)"
                    },
                    "metadata": {}
                },
                {
                    "output_type": "display_data",
                    "data": {
                        "text/html": "(1 row affected)"
                    },
                    "metadata": {}
                },
                {
                    "output_type": "display_data",
                    "data": {
                        "text/html": "(1 row affected)"
                    },
                    "metadata": {}
                },
                {
                    "output_type": "display_data",
                    "data": {
                        "text/html": "(1 row affected)"
                    },
                    "metadata": {}
                },
                {
                    "output_type": "display_data",
                    "data": {
                        "text/html": "(1 row affected)"
                    },
                    "metadata": {}
                },
                {
                    "output_type": "display_data",
                    "data": {
                        "text/html": "(1 row affected)"
                    },
                    "metadata": {}
                },
                {
                    "output_type": "display_data",
                    "data": {
                        "text/html": "(1 row affected)"
                    },
                    "metadata": {}
                },
                {
                    "output_type": "display_data",
                    "data": {
                        "text/html": "(1 row affected)"
                    },
                    "metadata": {}
                },
                {
                    "output_type": "display_data",
                    "data": {
                        "text/html": "(1 row affected)"
                    },
                    "metadata": {}
                },
                {
                    "output_type": "display_data",
                    "data": {
                        "text/html": "(1 row affected)"
                    },
                    "metadata": {}
                },
                {
                    "output_type": "display_data",
                    "data": {
                        "text/html": "(1 row affected)"
                    },
                    "metadata": {}
                },
                {
                    "output_type": "display_data",
                    "data": {
                        "text/html": "(1 row affected)"
                    },
                    "metadata": {}
                },
                {
                    "output_type": "display_data",
                    "data": {
                        "text/html": "(1 row affected)"
                    },
                    "metadata": {}
                },
                {
                    "output_type": "display_data",
                    "data": {
                        "text/html": "(1 row affected)"
                    },
                    "metadata": {}
                },
                {
                    "output_type": "display_data",
                    "data": {
                        "text/html": "(1 row affected)"
                    },
                    "metadata": {}
                },
                {
                    "output_type": "display_data",
                    "data": {
                        "text/html": "(1 row affected)"
                    },
                    "metadata": {}
                },
                {
                    "output_type": "display_data",
                    "data": {
                        "text/html": "(1 row affected)"
                    },
                    "metadata": {}
                },
                {
                    "output_type": "display_data",
                    "data": {
                        "text/html": "(1 row affected)"
                    },
                    "metadata": {}
                },
                {
                    "output_type": "display_data",
                    "data": {
                        "text/html": "(1 row affected)"
                    },
                    "metadata": {}
                },
                {
                    "output_type": "display_data",
                    "data": {
                        "text/html": "(1 row affected)"
                    },
                    "metadata": {}
                },
                {
                    "output_type": "display_data",
                    "data": {
                        "text/html": "(1 row affected)"
                    },
                    "metadata": {}
                },
                {
                    "output_type": "display_data",
                    "data": {
                        "text/html": "(1 row affected)"
                    },
                    "metadata": {}
                },
                {
                    "output_type": "display_data",
                    "data": {
                        "text/html": "(1 row affected)"
                    },
                    "metadata": {}
                },
                {
                    "output_type": "display_data",
                    "data": {
                        "text/html": "(1 row affected)"
                    },
                    "metadata": {}
                },
                {
                    "output_type": "display_data",
                    "data": {
                        "text/html": "(1 row affected)"
                    },
                    "metadata": {}
                },
                {
                    "output_type": "display_data",
                    "data": {
                        "text/html": "(1 row affected)"
                    },
                    "metadata": {}
                },
                {
                    "output_type": "display_data",
                    "data": {
                        "text/html": "(1 row affected)"
                    },
                    "metadata": {}
                },
                {
                    "output_type": "display_data",
                    "data": {
                        "text/html": "(1 row affected)"
                    },
                    "metadata": {}
                },
                {
                    "output_type": "display_data",
                    "data": {
                        "text/html": "(1 row affected)"
                    },
                    "metadata": {}
                },
                {
                    "output_type": "display_data",
                    "data": {
                        "text/html": "(1 row affected)"
                    },
                    "metadata": {}
                },
                {
                    "output_type": "display_data",
                    "data": {
                        "text/html": "(1 row affected)"
                    },
                    "metadata": {}
                },
                {
                    "output_type": "display_data",
                    "data": {
                        "text/html": "(1 row affected)"
                    },
                    "metadata": {}
                },
                {
                    "output_type": "display_data",
                    "data": {
                        "text/html": "(1 row affected)"
                    },
                    "metadata": {}
                },
                {
                    "output_type": "display_data",
                    "data": {
                        "text/html": "(1 row affected)"
                    },
                    "metadata": {}
                },
                {
                    "output_type": "display_data",
                    "data": {
                        "text/html": "(1 row affected)"
                    },
                    "metadata": {}
                },
                {
                    "output_type": "display_data",
                    "data": {
                        "text/html": "(1 row affected)"
                    },
                    "metadata": {}
                },
                {
                    "output_type": "display_data",
                    "data": {
                        "text/html": "(1 row affected)"
                    },
                    "metadata": {}
                },
                {
                    "output_type": "display_data",
                    "data": {
                        "text/html": "(1 row affected)"
                    },
                    "metadata": {}
                },
                {
                    "output_type": "display_data",
                    "data": {
                        "text/html": "(1 row affected)"
                    },
                    "metadata": {}
                },
                {
                    "output_type": "display_data",
                    "data": {
                        "text/html": "(1 row affected)"
                    },
                    "metadata": {}
                },
                {
                    "output_type": "display_data",
                    "data": {
                        "text/html": "(1 row affected)"
                    },
                    "metadata": {}
                },
                {
                    "output_type": "display_data",
                    "data": {
                        "text/html": "(1 row affected)"
                    },
                    "metadata": {}
                },
                {
                    "output_type": "display_data",
                    "data": {
                        "text/html": "(1 row affected)"
                    },
                    "metadata": {}
                },
                {
                    "output_type": "display_data",
                    "data": {
                        "text/html": "(1 row affected)"
                    },
                    "metadata": {}
                },
                {
                    "output_type": "display_data",
                    "data": {
                        "text/html": "(1 row affected)"
                    },
                    "metadata": {}
                },
                {
                    "output_type": "display_data",
                    "data": {
                        "text/html": "(1 row affected)"
                    },
                    "metadata": {}
                },
                {
                    "output_type": "display_data",
                    "data": {
                        "text/html": "(1 row affected)"
                    },
                    "metadata": {}
                },
                {
                    "output_type": "display_data",
                    "data": {
                        "text/html": "(1 row affected)"
                    },
                    "metadata": {}
                },
                {
                    "output_type": "display_data",
                    "data": {
                        "text/html": "(1 row affected)"
                    },
                    "metadata": {}
                },
                {
                    "output_type": "display_data",
                    "data": {
                        "text/html": "(1 row affected)"
                    },
                    "metadata": {}
                },
                {
                    "output_type": "display_data",
                    "data": {
                        "text/html": "(1 row affected)"
                    },
                    "metadata": {}
                },
                {
                    "output_type": "display_data",
                    "data": {
                        "text/html": "(1 row affected)"
                    },
                    "metadata": {}
                },
                {
                    "output_type": "display_data",
                    "data": {
                        "text/html": "(1 row affected)"
                    },
                    "metadata": {}
                },
                {
                    "output_type": "display_data",
                    "data": {
                        "text/html": "(1 row affected)"
                    },
                    "metadata": {}
                },
                {
                    "output_type": "display_data",
                    "data": {
                        "text/html": "(1 row affected)"
                    },
                    "metadata": {}
                },
                {
                    "output_type": "display_data",
                    "data": {
                        "text/html": "(1 row affected)"
                    },
                    "metadata": {}
                },
                {
                    "output_type": "display_data",
                    "data": {
                        "text/html": "(1 row affected)"
                    },
                    "metadata": {}
                },
                {
                    "output_type": "display_data",
                    "data": {
                        "text/html": "(1 row affected)"
                    },
                    "metadata": {}
                },
                {
                    "output_type": "display_data",
                    "data": {
                        "text/html": "(1 row affected)"
                    },
                    "metadata": {}
                },
                {
                    "output_type": "display_data",
                    "data": {
                        "text/html": "(1 row affected)"
                    },
                    "metadata": {}
                },
                {
                    "output_type": "display_data",
                    "data": {
                        "text/html": "(1 row affected)"
                    },
                    "metadata": {}
                },
                {
                    "output_type": "display_data",
                    "data": {
                        "text/html": "(1 row affected)"
                    },
                    "metadata": {}
                },
                {
                    "output_type": "display_data",
                    "data": {
                        "text/html": "(1 row affected)"
                    },
                    "metadata": {}
                },
                {
                    "output_type": "display_data",
                    "data": {
                        "text/html": "(1 row affected)"
                    },
                    "metadata": {}
                },
                {
                    "output_type": "display_data",
                    "data": {
                        "text/html": "(1 row affected)"
                    },
                    "metadata": {}
                },
                {
                    "output_type": "display_data",
                    "data": {
                        "text/html": "(1 row affected)"
                    },
                    "metadata": {}
                },
                {
                    "output_type": "display_data",
                    "data": {
                        "text/html": "(1 row affected)"
                    },
                    "metadata": {}
                },
                {
                    "output_type": "display_data",
                    "data": {
                        "text/html": "(1 row affected)"
                    },
                    "metadata": {}
                },
                {
                    "output_type": "display_data",
                    "data": {
                        "text/html": "(1 row affected)"
                    },
                    "metadata": {}
                },
                {
                    "output_type": "display_data",
                    "data": {
                        "text/html": "(1 row affected)"
                    },
                    "metadata": {}
                },
                {
                    "output_type": "display_data",
                    "data": {
                        "text/html": "(1 row affected)"
                    },
                    "metadata": {}
                },
                {
                    "output_type": "display_data",
                    "data": {
                        "text/html": "(1 row affected)"
                    },
                    "metadata": {}
                },
                {
                    "output_type": "display_data",
                    "data": {
                        "text/html": "(1 row affected)"
                    },
                    "metadata": {}
                },
                {
                    "output_type": "display_data",
                    "data": {
                        "text/html": "(1 row affected)"
                    },
                    "metadata": {}
                },
                {
                    "output_type": "display_data",
                    "data": {
                        "text/html": "(1 row affected)"
                    },
                    "metadata": {}
                },
                {
                    "output_type": "display_data",
                    "data": {
                        "text/html": "(1 row affected)"
                    },
                    "metadata": {}
                },
                {
                    "output_type": "display_data",
                    "data": {
                        "text/html": "(1 row affected)"
                    },
                    "metadata": {}
                },
                {
                    "output_type": "display_data",
                    "data": {
                        "text/html": "(1 row affected)"
                    },
                    "metadata": {}
                },
                {
                    "output_type": "display_data",
                    "data": {
                        "text/html": "(1 row affected)"
                    },
                    "metadata": {}
                },
                {
                    "output_type": "display_data",
                    "data": {
                        "text/html": "(1 row affected)"
                    },
                    "metadata": {}
                },
                {
                    "output_type": "display_data",
                    "data": {
                        "text/html": "(1 row affected)"
                    },
                    "metadata": {}
                },
                {
                    "output_type": "display_data",
                    "data": {
                        "text/html": "Total execution time: 00:00:07.174"
                    },
                    "metadata": {}
                }
            ],
            "execution_count": 102
        },
        {
            "cell_type": "code",
            "source": [
                "USE desafio;\r\n",
                "GO\r\n",
                "\r\n",
                "-- Create a new table called '[battleComponentSkills]' in schema '[dbo]'\r\n",
                "-- Drop the table if it already exists\r\n",
                "IF OBJECT_ID('[dbo].[battleComponentSkills]', 'U') IS NOT NULL\r\n",
                "DROP TABLE [dbo].[battleComponentSkills]\r\n",
                "GO\r\n",
                "-- Create the table in the specified schema\r\n",
                "CREATE TABLE [dbo].[battleComponentSkills]\r\n",
                "(\r\n",
                "    [skillId] INT NOT NULL ,\r\n",
                "    [battleComponentId] INT NOT NULL,\r\n",
                "    -- CONSTRAINT PK_battleComponentSkills PRIMARY KEY (skillId, battleComponentId)\r\n",
                ");\r\n",
                "GO\r\n",
                "\r\n",
                "INSERT    INTO [dbo].[battleComponentSkills] ([skillId], [battleComponentId])\r\n",
                "SELECT    (\r\n",
                "          SELECT    [id]\r\n",
                "          FROM      [dbo].[skills]\r\n",
                "          WHERE     [name] = N'изометрия'\r\n",
                "          ) AS skillId,\r\n",
                "          [id]\r\n",
                "FROM      [dbo].[battleComponent]\r\n",
                "WHERE     [name] = N'Мелница';\r\n",
                "\r\n",
                "GO\r\n",
                "\r\n",
                "INSERT    INTO [dbo].[battleComponentSkills] ([skillId], [battleComponentId])\r\n",
                "SELECT    (\r\n",
                "          SELECT    [id]\r\n",
                "          FROM      [dbo].[skills]\r\n",
                "          WHERE     [name] = N'издържливост'\r\n",
                "          ) AS skillId,\r\n",
                "          [id]\r\n",
                "FROM      [dbo].[battleComponent]\r\n",
                "WHERE     [name] = N'Мелница';\r\n",
                "\r\n",
                "GO\r\n",
                "\r\n",
                "INSERT    INTO [dbo].[battleComponentSkills] ([skillId], [battleComponentId])\r\n",
                "SELECT    (\r\n",
                "          SELECT    [id]\r\n",
                "          FROM      [dbo].[skills]\r\n",
                "          WHERE     [name] = N'баланс'\r\n",
                "          ) AS skillId,\r\n",
                "          [id]\r\n",
                "FROM      [dbo].[battleComponent]\r\n",
                "WHERE     [name] = N'Колелото на смъртта';\r\n",
                "\r\n",
                "GO\r\n",
                "\r\n",
                "INSERT    INTO [dbo].[battleComponentSkills] ([skillId], [battleComponentId])\r\n",
                "SELECT    (\r\n",
                "          SELECT    [id]\r\n",
                "          FROM      [dbo].[skills]\r\n",
                "          WHERE     [name] = N'баланс'\r\n",
                "          ) AS skillId,\r\n",
                "          [id]\r\n",
                "FROM      [dbo].[battleComponent]\r\n",
                "WHERE     [name] = N'Хималайски стълба';\r\n",
                "\r\n",
                "GO\r\n",
                "\r\n",
                "INSERT    INTO [dbo].[battleComponentSkills] ([skillId], [battleComponentId])\r\n",
                "SELECT    (\r\n",
                "          SELECT    [id]\r\n",
                "          FROM      [dbo].[skills]\r\n",
                "          WHERE     [name] = N'ловкост'\r\n",
                "          ) AS skillId,\r\n",
                "          [id]\r\n",
                "FROM      [dbo].[battleComponent]\r\n",
                "WHERE     [name] = N'Рибна глава';\r\n",
                "\r\n",
                "GO\r\n",
                "\r\n",
                "INSERT    INTO [dbo].[battleComponentSkills] ([skillId], [battleComponentId])\r\n",
                "SELECT    (\r\n",
                "          SELECT    [id]\r\n",
                "          FROM      [dbo].[skills]\r\n",
                "          WHERE     [name] = N'точност'\r\n",
                "          ) AS skillId,\r\n",
                "          [id]\r\n",
                "FROM      [dbo].[battleComponent]\r\n",
                "WHERE     [name] = N'Риболов';\r\n",
                "\r\n",
                "GO\r\n",
                "\r\n",
                "INSERT    INTO [dbo].[battleComponentSkills] ([skillId], [battleComponentId])\r\n",
                "SELECT    (\r\n",
                "          SELECT    [id]\r\n",
                "          FROM      [dbo].[skills]\r\n",
                "          WHERE     [name] = N'късмет'\r\n",
                "          ) AS skillId,\r\n",
                "          [id]\r\n",
                "FROM      [dbo].[battleComponent]\r\n",
                "WHERE     [name] = N'Риболов';\r\n",
                "\r\n",
                "GO\r\n",
                "\r\n",
                "INSERT    INTO [dbo].[battleComponentSkills] ([skillId], [battleComponentId])\r\n",
                "SELECT    (\r\n",
                "          SELECT    [id]\r\n",
                "          FROM      [dbo].[skills]\r\n",
                "          WHERE     [name] = N'точност'\r\n",
                "          ) AS skillId,\r\n",
                "          [id]\r\n",
                "FROM      [dbo].[battleComponent]\r\n",
                "WHERE     [name] = N'Котва';\r\n",
                "\r\n",
                "GO\r\n",
                "\r\n",
                "INSERT    INTO [dbo].[battleComponentSkills] ([skillId], [battleComponentId])\r\n",
                "SELECT    (\r\n",
                "          SELECT    [id]\r\n",
                "          FROM      [dbo].[skills]\r\n",
                "          WHERE     [name] = N'късмет'\r\n",
                "          ) AS skillId,\r\n",
                "          [id]\r\n",
                "FROM      [dbo].[battleComponent]\r\n",
                "WHERE     [name] = N'Котва';\r\n",
                "\r\n",
                "GO\r\n",
                "\r\n",
                "INSERT    INTO [dbo].[battleComponentSkills] ([skillId], [battleComponentId])\r\n",
                "SELECT    (\r\n",
                "          SELECT    [id]\r\n",
                "          FROM      [dbo].[skills]\r\n",
                "          WHERE     [name] = N'късмет'\r\n",
                "          ) AS skillId,\r\n",
                "          [id]\r\n",
                "FROM      [dbo].[battleComponent]\r\n",
                "WHERE     [name] = N'Басейн с торбички';\r\n",
                "\r\n",
                "GO"
            ],
            "metadata": {
                "language": "sql",
                "azdata_cell_guid": "a5ebb675-ec93-4a20-b4ad-8002610b88bb"
            },
            "outputs": [
                {
                    "output_type": "display_data",
                    "data": {
                        "text/html": "Commands completed successfully."
                    },
                    "metadata": {}
                },
                {
                    "output_type": "display_data",
                    "data": {
                        "text/html": "Commands completed successfully."
                    },
                    "metadata": {}
                },
                {
                    "output_type": "display_data",
                    "data": {
                        "text/html": "Commands completed successfully."
                    },
                    "metadata": {}
                },
                {
                    "output_type": "display_data",
                    "data": {
                        "text/html": "(1 row affected)"
                    },
                    "metadata": {}
                },
                {
                    "output_type": "display_data",
                    "data": {
                        "text/html": "(1 row affected)"
                    },
                    "metadata": {}
                },
                {
                    "output_type": "display_data",
                    "data": {
                        "text/html": "(0 rows affected)"
                    },
                    "metadata": {}
                },
                {
                    "output_type": "display_data",
                    "data": {
                        "text/html": "(0 rows affected)"
                    },
                    "metadata": {}
                },
                {
                    "output_type": "display_data",
                    "data": {
                        "text/html": "(1 row affected)"
                    },
                    "metadata": {}
                },
                {
                    "output_type": "display_data",
                    "data": {
                        "text/html": "(0 rows affected)"
                    },
                    "metadata": {}
                },
                {
                    "output_type": "display_data",
                    "data": {
                        "text/html": "(0 rows affected)"
                    },
                    "metadata": {}
                },
                {
                    "output_type": "display_data",
                    "data": {
                        "text/html": "(0 rows affected)"
                    },
                    "metadata": {}
                },
                {
                    "output_type": "display_data",
                    "data": {
                        "text/html": "(0 rows affected)"
                    },
                    "metadata": {}
                },
                {
                    "output_type": "display_data",
                    "data": {
                        "text/html": "(1 row affected)"
                    },
                    "metadata": {}
                },
                {
                    "output_type": "display_data",
                    "data": {
                        "text/html": "Total execution time: 00:00:00.927"
                    },
                    "metadata": {}
                }
            ],
            "execution_count": 87
        },
        {
            "cell_type": "code",
            "source": [
                "USE [desafio];\r\n",
                "GO\r\n",
                "\r\n",
                "-- Create a new table called '[battles]' in schema '[dbo]'\r\n",
                "-- Drop the table if it already exists\r\n",
                "IF OBJECT_ID('[dbo].[battles]', 'U') IS NOT NULL\r\n",
                "DROP TABLE [dbo].[battles]\r\n",
                "GO\r\n",
                "-- Create the table in the specified schema\r\n",
                "CREATE TABLE [dbo].[battles]\r\n",
                "(\r\n",
                "    [Id] INT NOT NULL,\r\n",
                "    [battleComponentId] INT\r\n",
                ");\r\n",
                "GO\r\n",
                "\r\n",
                "INSERT INTO [desafio].[dbo].[battles] VALUES (1,1);"
            ],
            "metadata": {
                "language": "sql",
                "azdata_cell_guid": "8e97a16c-904f-4f8c-9c1b-28702c473d83"
            },
            "outputs": [
                {
                    "output_type": "display_data",
                    "data": {
                        "text/html": "Commands completed successfully."
                    },
                    "metadata": {}
                },
                {
                    "output_type": "display_data",
                    "data": {
                        "text/html": "Commands completed successfully."
                    },
                    "metadata": {}
                },
                {
                    "output_type": "display_data",
                    "data": {
                        "text/html": "Commands completed successfully."
                    },
                    "metadata": {}
                },
                {
                    "output_type": "display_data",
                    "data": {
                        "text/html": "(1 row affected)"
                    },
                    "metadata": {}
                },
                {
                    "output_type": "display_data",
                    "data": {
                        "text/html": "Total execution time: 00:00:00.268"
                    },
                    "metadata": {}
                }
            ],
            "execution_count": 103
        },
        {
            "cell_type": "code",
            "source": [
                "USE [desafio];\r\n",
                "GO\r\n",
                "\r\n",
                "-- Create a new table called '[battleLog]' in schema '[dbo]'\r\n",
                "-- Drop the table if it already exists\r\n",
                "IF OBJECT_ID('[dbo].[battleLog]', 'U') IS NOT NULL\r\n",
                "DROP TABLE [dbo].[battleLog]\r\n",
                "GO\r\n",
                "-- Create the table in the specified schema\r\n",
                "CREATE TABLE [dbo].[battleLog]\r\n",
                "(\r\n",
                "    [Id] INT NOT NULL PRIMARY KEY IDENTITY, -- Primary Key column\r\n",
                "    [battleId] INT,\r\n",
                "    [seasonId] INT NOT NULL,\r\n",
                "    [name] NVARCHAR(50),\r\n",
                "    [type] NVARCHAR(50),\r\n",
                "    [sequenceNumber] INT,\r\n",
                "    [episode] INT,\r\n",
                "\r\n",
                "    -- Specify more columns here\r\n",
                ");\r\n",
                "GO\r\n",
                "\r\n",
                "INSERT INTO [desafio].[dbo].[battleLog] ([battleId],[seasonId], [name], [type],[sequenceNumber], [episode] ) VALUES (1, 5, N'Териториална', N'Отборна',1, 1);\r\n",
                "INSERT INTO [desafio].[dbo].[battleLog] ([battleId],[seasonId], [name], [type],[sequenceNumber], [episode] ) VALUES (1, 5, N'Елиминаионна', N'Отборна',2, 2);\r\n",
                "INSERT INTO [desafio].[dbo].[battleLog] ([battleId],[seasonId], [name], [type],[sequenceNumber], [episode] ) VALUES (1, 5, N'Териториална', N'Отборна',3, 2);\r\n",
                "\r\n",
                "-- Create a new table called '[battleParticipants]' in schema '[dbo]'\r\n",
                "-- Drop the table if it already exists\r\n",
                "IF OBJECT_ID('[dbo].[battleParticipants]', 'U') IS NOT NULL\r\n",
                "DROP TABLE [dbo].[battleParticipants]\r\n",
                "GO\r\n",
                "-- Create the table in the specified schema\r\n",
                "CREATE TABLE [dbo].[battleParticipants]\r\n",
                "(\r\n",
                "    [id] INT NOT NULL PRIMARY KEY IDENTITY, -- Primary Key column\r\n",
                "    [battleLogId] INT NOT NULL,\r\n",
                "    [participantId] INT NOT NULL,\r\n",
                "    [rank] INT\r\n",
                ");\r\n",
                "GO\r\n",
                "\r\n",
                "BEGIN TRAN BATTLE1;\r\n",
                "\r\n",
                "INSERT INTO [dbo].[battleParticipants] (battleLogId, participantId, [rank]) SELECT 1, [id], 1 FROM [dbo].[participant] WHERE [name] = N'Васил Василев' AND [age] = 31;\r\n",
                "INSERT INTO [dbo].[battleParticipants] (battleLogId, participantId, [rank]) SELECT 1, [id], 1 FROM [dbo].[participant] WHERE [name] = N'Красимир Дунев' AND [age] = 50;\r\n",
                "INSERT INTO [dbo].[battleParticipants] (battleLogId, participantId, [rank]) SELECT 1, [id], 1 FROM [dbo].[participant] WHERE [name] = N'Момчил Василев' AND [age] = 25;\r\n",
                "INSERT INTO [dbo].[battleParticipants] (battleLogId, participantId, [rank]) SELECT 1, [id], 1 FROM [dbo].[participant] WHERE [name] = N'Никол Дунев' AND [age] = 24;\r\n",
                "INSERT INTO [dbo].[battleParticipants] (battleLogId, participantId, [rank]) SELECT 1, [id], 1 FROM [dbo].[participant] WHERE [name] = N'Румен Радев' AND [age] = 26;\r\n",
                "INSERT INTO [dbo].[battleParticipants] (battleLogId, participantId, [rank]) SELECT 1, [id], 1 FROM [dbo].[participant] WHERE [name] = N'Теодора Мудева' AND [age] = 22;\r\n",
                "\r\n",
                "INSERT INTO [dbo].[battleParticipants] (battleLogId, participantId, [rank]) SELECT 1, [id], 3 FROM [dbo].[participant] WHERE [name] = N'Албена Ситнилска' AND [age] = 41;\r\n",
                "INSERT INTO [dbo].[battleParticipants] (battleLogId, participantId, [rank]) SELECT 1, [id], 3 FROM [dbo].[participant] WHERE [name] = N'Виктория Йорданова' AND [age] = 27;\r\n",
                "INSERT INTO [dbo].[battleParticipants] (battleLogId, participantId, [rank]) SELECT 1, [id], 3 FROM [dbo].[participant] WHERE [name] = N'Ива Георгиева' AND [age] = 20;\r\n",
                "INSERT INTO [dbo].[battleParticipants] (battleLogId, participantId, [rank]) SELECT 1, [id], 3 FROM [dbo].[participant] WHERE [name] = N'Мария Оряшкова' AND [age] = 34;\r\n",
                "INSERT INTO [dbo].[battleParticipants] (battleLogId, participantId, [rank]) SELECT 1, [id], 3 FROM [dbo].[participant] WHERE [name] = N'Радосвета Симеонова' AND [age] = 29;\r\n",
                "INSERT INTO [dbo].[battleParticipants] (battleLogId, participantId, [rank]) SELECT 1, [id], 3 FROM [dbo].[participant] WHERE [name] = N'Цвети Станева' AND [age] = 22;\r\n",
                "\r\n",
                "INSERT INTO [dbo].[battleParticipants] (battleLogId, participantId, [rank]) SELECT 1, [id], 2 FROM [dbo].[participant] WHERE [name] = N'Даниел Димов' AND [age] = 34;\r\n",
                "INSERT INTO [dbo].[battleParticipants] (battleLogId, participantId, [rank]) SELECT 1, [id], 2 FROM [dbo].[participant] WHERE [name] = N'Калоян Митов' AND [age] = 22;\r\n",
                "INSERT INTO [dbo].[battleParticipants] (battleLogId, participantId, [rank]) SELECT 1, [id], 2 FROM [dbo].[participant] WHERE [name] = N'Крум Апостолов' AND [age] = 25;\r\n",
                "INSERT INTO [dbo].[battleParticipants] (battleLogId, participantId, [rank]) SELECT 1, [id], 2 FROM [dbo].[participant] WHERE [name] = N'Николай Костадинов' AND [age] = 32;\r\n",
                "INSERT INTO [dbo].[battleParticipants] (battleLogId, participantId, [rank]) SELECT 1, [id], 2 FROM [dbo].[participant] WHERE [name] = N'Пеньо Гатевски „Гатьо“' AND [age] = 41;\r\n",
                "INSERT INTO [dbo].[battleParticipants] (battleLogId, participantId, [rank]) SELECT 1, [id], 2 FROM [dbo].[participant] WHERE [name] = N'Цветелин Гешов' AND [age] = 25;\r\n",
                "\r\n",
                "COMMIT TRAN BATTLE1;\r\n",
                "\r\n",
                "BEGIN TRAN BATTLE2;\r\n",
                "\r\n",
                "INSERT INTO [dbo].[battleParticipants] (battleLogId, participantId, [rank]) SELECT 2, [id], 1 FROM [dbo].[participant] WHERE [name] = N'Благомир Мастагарков' AND [age] = 31;\r\n",
                "INSERT INTO [dbo].[battleParticipants] (battleLogId, participantId, [rank]) SELECT 2, [id], 1 FROM [dbo].[participant] WHERE [name] = N'Валентин Петров' AND [age] = 48;\r\n",
                "INSERT INTO [dbo].[battleParticipants] (battleLogId, participantId, [rank]) SELECT 2, [id], 1 FROM [dbo].[participant] WHERE [name] = N'Виолета Стайкова' AND [age] = 47;\r\n",
                "INSERT INTO [dbo].[battleParticipants] (battleLogId, participantId, [rank]) SELECT 2, [id], 1 FROM [dbo].[participant] WHERE [name] = N'Красимир Дунев' AND [age] = 50;\r\n",
                "INSERT INTO [dbo].[battleParticipants] (battleLogId, participantId, [rank]) SELECT 2, [id], 1 FROM [dbo].[participant] WHERE [name] = N'Мартин Николов „Елвиса“' AND [age] = 38;\r\n",
                "INSERT INTO [dbo].[battleParticipants] (battleLogId, participantId, [rank]) SELECT 2, [id], 1 FROM [dbo].[participant] WHERE [name] = N'Момчил Василев' AND [age] = 25;\r\n",
                "INSERT INTO [dbo].[battleParticipants] (battleLogId, participantId, [rank]) SELECT 2, [id], 1 FROM [dbo].[participant] WHERE [name] = N'Моника Николаева' AND [age] = 35;\r\n",
                "INSERT INTO [dbo].[battleParticipants] (battleLogId, participantId, [rank]) SELECT 2, [id], 1 FROM [dbo].[participant] WHERE [name] = N'Трифон Симеонов „Туньо“' AND [age] = 33;\r\n",
                "\r\n",
                "INSERT INTO [dbo].[battleParticipants] (battleLogId, participantId, [rank]) SELECT 2, [id], 3 FROM [dbo].[participant] WHERE [name] = N'Албена Ситнилска' AND [age] = 41;\r\n",
                "INSERT INTO [dbo].[battleParticipants] (battleLogId, participantId, [rank]) SELECT 2, [id], 3 FROM [dbo].[participant] WHERE [name] = N'Виктория Йорданова' AND [age] = 27;\r\n",
                "INSERT INTO [dbo].[battleParticipants] (battleLogId, participantId, [rank]) SELECT 2, [id], 3 FROM [dbo].[participant] WHERE [name] = N'Ива Георгиева' AND [age] = 20;\r\n",
                "INSERT INTO [dbo].[battleParticipants] (battleLogId, participantId, [rank]) SELECT 2, [id], 3 FROM [dbo].[participant] WHERE [name] = N'Мария Оряшкова' AND [age] = 34;\r\n",
                "INSERT INTO [dbo].[battleParticipants] (battleLogId, participantId, [rank]) SELECT 2, [id], 3 FROM [dbo].[participant] WHERE [name] = N'Радосвета Симеонова' AND [age] = 29;\r\n",
                "INSERT INTO [dbo].[battleParticipants] (battleLogId, participantId, [rank]) SELECT 2, [id], 3 FROM [dbo].[participant] WHERE [name] = N'Теодора Мудева' AND [age] = 22;\r\n",
                "INSERT INTO [dbo].[battleParticipants] (battleLogId, participantId, [rank]) SELECT 2, [id], 3 FROM [dbo].[participant] WHERE [name] = N'Теодора Маринова' AND [age] = 22;\r\n",
                "INSERT INTO [dbo].[battleParticipants] (battleLogId, participantId, [rank]) SELECT 2, [id], 3 FROM [dbo].[participant] WHERE [name] = N'Цвети Станева' AND [age] = 22;\r\n",
                "\r\n",
                "INSERT INTO [dbo].[battleParticipants] (battleLogId, participantId, [rank]) SELECT 2, [id], 2 FROM [dbo].[participant] WHERE [name] = N'Даниел Димов' AND [age] = 34;\r\n",
                "INSERT INTO [dbo].[battleParticipants] (battleLogId, participantId, [rank]) SELECT 2, [id], 2 FROM [dbo].[participant] WHERE [name] = N'Иван Рълев' AND [age] = 25;\r\n",
                "INSERT INTO [dbo].[battleParticipants] (battleLogId, participantId, [rank]) SELECT 2, [id], 2 FROM [dbo].[participant] WHERE [name] = N'Калоян Митов' AND [age] = 22;\r\n",
                "INSERT INTO [dbo].[battleParticipants] (battleLogId, participantId, [rank]) SELECT 2, [id], 2 FROM [dbo].[participant] WHERE [name] = N'Крум Апостолов' AND [age] = 25;\r\n",
                "INSERT INTO [dbo].[battleParticipants] (battleLogId, participantId, [rank]) SELECT 2, [id], 2 FROM [dbo].[participant] WHERE [name] = N'Николай Костадинов' AND [age] = 32;\r\n",
                "INSERT INTO [dbo].[battleParticipants] (battleLogId, participantId, [rank]) SELECT 2, [id], 2 FROM [dbo].[participant] WHERE [name] = N'Пеньо Гатевски „Гатьо“' AND [age] = 41;\r\n",
                "INSERT INTO [dbo].[battleParticipants] (battleLogId, participantId, [rank]) SELECT 2, [id], 2 FROM [dbo].[participant] WHERE [name] = N'Радостин Кръстев' AND [age] = 22;\r\n",
                "INSERT INTO [dbo].[battleParticipants] (battleLogId, participantId, [rank]) SELECT 2, [id], 2 FROM [dbo].[participant] WHERE [name] = N'Цветелин Гешов' AND [age] = 25;\r\n",
                "\r\n",
                "INSERT INTO [dbo].[battleParticipants] (battleLogId, participantId, [rank]) SELECT 2, [id], 4 FROM [dbo].[participant] WHERE [name] = N'Васил Василев' AND [age] = 31;\r\n",
                "INSERT INTO [dbo].[battleParticipants] (battleLogId, participantId, [rank]) SELECT 2, [id], 4 FROM [dbo].[participant] WHERE [name] = N'Веселина Маринова' AND [age] = 31;\r\n",
                "INSERT INTO [dbo].[battleParticipants] (battleLogId, participantId, [rank]) SELECT 2, [id], 4 FROM [dbo].[participant] WHERE [name] = N'Денислава Велкова' AND [age] = 31;\r\n",
                "INSERT INTO [dbo].[battleParticipants] (battleLogId, participantId, [rank]) SELECT 2, [id], 4 FROM [dbo].[participant] WHERE [name] = N'Елена Петрова' AND [age] = 31;\r\n",
                "INSERT INTO [dbo].[battleParticipants] (battleLogId, participantId, [rank]) SELECT 2, [id], 4 FROM [dbo].[participant] WHERE [name] = N'Михаил Кръстев' AND [age] = 31;\r\n",
                "INSERT INTO [dbo].[battleParticipants] (battleLogId, participantId, [rank]) SELECT 2, [id], 3 FROM [dbo].[participant] WHERE [name] = N'Никол Дунев' AND [age] = 24;\r\n",
                "INSERT INTO [dbo].[battleParticipants] (battleLogId, participantId, [rank]) SELECT 2, [id], 4 FROM [dbo].[participant] WHERE [name] = N'Николай Рълев' AND [age] = 31;\r\n",
                "INSERT INTO [dbo].[battleParticipants] (battleLogId, participantId, [rank]) SELECT 2, [id], 4 FROM [dbo].[participant] WHERE [name] = N'Румен Радев' AND [age] = 26;\r\n",
                "\r\n",
                "COMMIT TRAN BATTLE2;\r\n",
                "\r\n",
                "BEGIN TRAN BATTLE3;\r\n",
                "\r\n",
                "INSERT INTO [dbo].[battleParticipants] (battleLogId, participantId, [rank]) SELECT 3, [id], 1 FROM [dbo].[participant] WHERE [name] = N'Благомир Мастагарков' AND [age] = 31;\r\n",
                "INSERT INTO [dbo].[battleParticipants] (battleLogId, participantId, [rank]) SELECT 3, [id], 1 FROM [dbo].[participant] WHERE [name] = N'Валентин Петров' AND [age] = 48;\r\n",
                "INSERT INTO [dbo].[battleParticipants] (battleLogId, participantId, [rank]) SELECT 3, [id], 1 FROM [dbo].[participant] WHERE [name] = N'Виолета Стайкова' AND [age] = 47;\r\n",
                "INSERT INTO [dbo].[battleParticipants] (battleLogId, participantId, [rank]) SELECT 3, [id], 1 FROM [dbo].[participant] WHERE [name] = N'Красимир Дунев' AND [age] = 50;\r\n",
                "INSERT INTO [dbo].[battleParticipants] (battleLogId, participantId, [rank]) SELECT 3, [id], 1 FROM [dbo].[participant] WHERE [name] = N'Мартин Николов „Елвиса“' AND [age] = 38;\r\n",
                "INSERT INTO [dbo].[battleParticipants] (battleLogId, participantId, [rank]) SELECT 3, [id], 1 FROM [dbo].[participant] WHERE [name] = N'Момчил Василев' AND [age] = 25;\r\n",
                "INSERT INTO [dbo].[battleParticipants] (battleLogId, participantId, [rank]) SELECT 3, [id], 1 FROM [dbo].[participant] WHERE [name] = N'Моника Николаева' AND [age] = 35;\r\n",
                "INSERT INTO [dbo].[battleParticipants] (battleLogId, participantId, [rank]) SELECT 3, [id], 1 FROM [dbo].[participant] WHERE [name] = N'Трифон Симеонов „Туньо“' AND [age] = 33;\r\n",
                "\r\n",
                "INSERT INTO [dbo].[battleParticipants] (battleLogId, participantId, [rank]) SELECT 3, [id], 3 FROM [dbo].[participant] WHERE [name] = N'Албена Ситнилска' AND [age] = 41;\r\n",
                "INSERT INTO [dbo].[battleParticipants] (battleLogId, participantId, [rank]) SELECT 3, [id], 3 FROM [dbo].[participant] WHERE [name] = N'Виктория Йорданова' AND [age] = 27;\r\n",
                "INSERT INTO [dbo].[battleParticipants] (battleLogId, participantId, [rank]) SELECT 3, [id], 3 FROM [dbo].[participant] WHERE [name] = N'Ива Георгиева' AND [age] = 20;\r\n",
                "INSERT INTO [dbo].[battleParticipants] (battleLogId, participantId, [rank]) SELECT 3, [id], 3 FROM [dbo].[participant] WHERE [name] = N'Мария Оряшкова' AND [age] = 34;\r\n",
                "INSERT INTO [dbo].[battleParticipants] (battleLogId, participantId, [rank]) SELECT 3, [id], 3 FROM [dbo].[participant] WHERE [name] = N'Радосвета Симеонова' AND [age] = 29;\r\n",
                "INSERT INTO [dbo].[battleParticipants] (battleLogId, participantId, [rank]) SELECT 3, [id], 3 FROM [dbo].[participant] WHERE [name] = N'Теодора Мудева' AND [age] = 22;\r\n",
                "INSERT INTO [dbo].[battleParticipants] (battleLogId, participantId, [rank]) SELECT 3, [id], 3 FROM [dbo].[participant] WHERE [name] = N'Теодора Маринова' AND [age] = 22;\r\n",
                "INSERT INTO [dbo].[battleParticipants] (battleLogId, participantId, [rank]) SELECT 3, [id], 3 FROM [dbo].[participant] WHERE [name] = N'Цвети Станева' AND [age] = 22;\r\n",
                "\r\n",
                "INSERT INTO [dbo].[battleParticipants] (battleLogId, participantId, [rank]) SELECT 3, [id], 2 FROM [dbo].[participant] WHERE [name] = N'Даниел Димов' AND [age] = 34;\r\n",
                "INSERT INTO [dbo].[battleParticipants] (battleLogId, participantId, [rank]) SELECT 3, [id], 2 FROM [dbo].[participant] WHERE [name] = N'Иван Рълев' AND [age] = 25;\r\n",
                "INSERT INTO [dbo].[battleParticipants] (battleLogId, participantId, [rank]) SELECT 3, [id], 2 FROM [dbo].[participant] WHERE [name] = N'Калоян Митов' AND [age] = 22;\r\n",
                "INSERT INTO [dbo].[battleParticipants] (battleLogId, participantId, [rank]) SELECT 3, [id], 2 FROM [dbo].[participant] WHERE [name] = N'Крум Апостолов' AND [age] = 25;\r\n",
                "INSERT INTO [dbo].[battleParticipants] (battleLogId, participantId, [rank]) SELECT 3, [id], 2 FROM [dbo].[participant] WHERE [name] = N'Николай Костадинов' AND [age] = 32;\r\n",
                "INSERT INTO [dbo].[battleParticipants] (battleLogId, participantId, [rank]) SELECT 3, [id], 2 FROM [dbo].[participant] WHERE [name] = N'Пеньо Гатевски „Гатьо“' AND [age] = 41;\r\n",
                "INSERT INTO [dbo].[battleParticipants] (battleLogId, participantId, [rank]) SELECT 3, [id], 2 FROM [dbo].[participant] WHERE [name] = N'Радостин Кръстев' AND [age] = 22;\r\n",
                "INSERT INTO [dbo].[battleParticipants] (battleLogId, participantId, [rank]) SELECT 3, [id], 2 FROM [dbo].[participant] WHERE [name] = N'Цветелин Гешов' AND [age] = 25;\r\n",
                "\r\n",
                "COMMIT TRAN BATTLE3;\r\n",
                "\r\n",
                "BEGIN TRAN BATTLE100;\r\n",
                "\r\n",
                "INSERT INTO [dbo].[battleParticipants] (battleLogId, participantId, [rank]) SELECT 100, [id] ,3 FROM [dbo].[participant] WHERE [name] = N'Виктория Йорданова' AND [age] = 27;\r\n",
                "INSERT INTO [dbo].[battleParticipants] (battleLogId, participantId, [rank]) SELECT 100, [id], 1 FROM [dbo].[participant] WHERE [name] = N'Виолета Стайкова';\r\n",
                "INSERT INTO [dbo].[battleParticipants] (battleLogId, participantId, [rank]) SELECT 100, [id], 2 FROM [dbo].[participant] WHERE [name] = N'Моника Николаева' AND [age] = 35;\r\n",
                "INSERT INTO [dbo].[battleParticipants] (battleLogId, participantId, [rank]) SELECT 100, [id], 4 FROM [dbo].[participant] WHERE [name] = N'Радосвета Симеонова' AND [age] = 29;\r\n",
                "\r\n",
                "COMMIT TRAN BATTLE100;"
            ],
            "metadata": {
                "language": "sql",
                "azdata_cell_guid": "929ce9cd-c06f-42ee-af1c-a4e4c727a332"
            },
            "outputs": [
                {
                    "output_type": "display_data",
                    "data": {
                        "text/html": "Commands completed successfully."
                    },
                    "metadata": {}
                },
                {
                    "output_type": "display_data",
                    "data": {
                        "text/html": "Commands completed successfully."
                    },
                    "metadata": {}
                },
                {
                    "output_type": "display_data",
                    "data": {
                        "text/html": "Commands completed successfully."
                    },
                    "metadata": {}
                },
                {
                    "output_type": "display_data",
                    "data": {
                        "text/html": "(1 row affected)"
                    },
                    "metadata": {}
                },
                {
                    "output_type": "display_data",
                    "data": {
                        "text/html": "(1 row affected)"
                    },
                    "metadata": {}
                },
                {
                    "output_type": "display_data",
                    "data": {
                        "text/html": "(1 row affected)"
                    },
                    "metadata": {}
                },
                {
                    "output_type": "display_data",
                    "data": {
                        "text/html": "Commands completed successfully."
                    },
                    "metadata": {}
                },
                {
                    "output_type": "display_data",
                    "data": {
                        "text/html": "(1 row affected)"
                    },
                    "metadata": {}
                },
                {
                    "output_type": "display_data",
                    "data": {
                        "text/html": "(1 row affected)"
                    },
                    "metadata": {}
                },
                {
                    "output_type": "display_data",
                    "data": {
                        "text/html": "(1 row affected)"
                    },
                    "metadata": {}
                },
                {
                    "output_type": "display_data",
                    "data": {
                        "text/html": "(1 row affected)"
                    },
                    "metadata": {}
                },
                {
                    "output_type": "display_data",
                    "data": {
                        "text/html": "(1 row affected)"
                    },
                    "metadata": {}
                },
                {
                    "output_type": "display_data",
                    "data": {
                        "text/html": "(1 row affected)"
                    },
                    "metadata": {}
                },
                {
                    "output_type": "display_data",
                    "data": {
                        "text/html": "(1 row affected)"
                    },
                    "metadata": {}
                },
                {
                    "output_type": "display_data",
                    "data": {
                        "text/html": "(1 row affected)"
                    },
                    "metadata": {}
                },
                {
                    "output_type": "display_data",
                    "data": {
                        "text/html": "(1 row affected)"
                    },
                    "metadata": {}
                },
                {
                    "output_type": "display_data",
                    "data": {
                        "text/html": "(1 row affected)"
                    },
                    "metadata": {}
                },
                {
                    "output_type": "display_data",
                    "data": {
                        "text/html": "(1 row affected)"
                    },
                    "metadata": {}
                },
                {
                    "output_type": "display_data",
                    "data": {
                        "text/html": "(1 row affected)"
                    },
                    "metadata": {}
                },
                {
                    "output_type": "display_data",
                    "data": {
                        "text/html": "(1 row affected)"
                    },
                    "metadata": {}
                },
                {
                    "output_type": "display_data",
                    "data": {
                        "text/html": "(1 row affected)"
                    },
                    "metadata": {}
                },
                {
                    "output_type": "display_data",
                    "data": {
                        "text/html": "(1 row affected)"
                    },
                    "metadata": {}
                },
                {
                    "output_type": "display_data",
                    "data": {
                        "text/html": "(1 row affected)"
                    },
                    "metadata": {}
                },
                {
                    "output_type": "display_data",
                    "data": {
                        "text/html": "(1 row affected)"
                    },
                    "metadata": {}
                },
                {
                    "output_type": "display_data",
                    "data": {
                        "text/html": "(1 row affected)"
                    },
                    "metadata": {}
                },
                {
                    "output_type": "display_data",
                    "data": {
                        "text/html": "(1 row affected)"
                    },
                    "metadata": {}
                },
                {
                    "output_type": "display_data",
                    "data": {
                        "text/html": "(1 row affected)"
                    },
                    "metadata": {}
                },
                {
                    "output_type": "display_data",
                    "data": {
                        "text/html": "(1 row affected)"
                    },
                    "metadata": {}
                },
                {
                    "output_type": "display_data",
                    "data": {
                        "text/html": "(1 row affected)"
                    },
                    "metadata": {}
                },
                {
                    "output_type": "display_data",
                    "data": {
                        "text/html": "(1 row affected)"
                    },
                    "metadata": {}
                },
                {
                    "output_type": "display_data",
                    "data": {
                        "text/html": "(1 row affected)"
                    },
                    "metadata": {}
                },
                {
                    "output_type": "display_data",
                    "data": {
                        "text/html": "(1 row affected)"
                    },
                    "metadata": {}
                },
                {
                    "output_type": "display_data",
                    "data": {
                        "text/html": "(1 row affected)"
                    },
                    "metadata": {}
                },
                {
                    "output_type": "display_data",
                    "data": {
                        "text/html": "(1 row affected)"
                    },
                    "metadata": {}
                },
                {
                    "output_type": "display_data",
                    "data": {
                        "text/html": "(1 row affected)"
                    },
                    "metadata": {}
                },
                {
                    "output_type": "display_data",
                    "data": {
                        "text/html": "(1 row affected)"
                    },
                    "metadata": {}
                },
                {
                    "output_type": "display_data",
                    "data": {
                        "text/html": "(1 row affected)"
                    },
                    "metadata": {}
                },
                {
                    "output_type": "display_data",
                    "data": {
                        "text/html": "(1 row affected)"
                    },
                    "metadata": {}
                },
                {
                    "output_type": "display_data",
                    "data": {
                        "text/html": "(1 row affected)"
                    },
                    "metadata": {}
                },
                {
                    "output_type": "display_data",
                    "data": {
                        "text/html": "(0 rows affected)"
                    },
                    "metadata": {}
                },
                {
                    "output_type": "display_data",
                    "data": {
                        "text/html": "(1 row affected)"
                    },
                    "metadata": {}
                },
                {
                    "output_type": "display_data",
                    "data": {
                        "text/html": "(1 row affected)"
                    },
                    "metadata": {}
                },
                {
                    "output_type": "display_data",
                    "data": {
                        "text/html": "(1 row affected)"
                    },
                    "metadata": {}
                },
                {
                    "output_type": "display_data",
                    "data": {
                        "text/html": "(1 row affected)"
                    },
                    "metadata": {}
                },
                {
                    "output_type": "display_data",
                    "data": {
                        "text/html": "(1 row affected)"
                    },
                    "metadata": {}
                },
                {
                    "output_type": "display_data",
                    "data": {
                        "text/html": "(1 row affected)"
                    },
                    "metadata": {}
                },
                {
                    "output_type": "display_data",
                    "data": {
                        "text/html": "(1 row affected)"
                    },
                    "metadata": {}
                },
                {
                    "output_type": "display_data",
                    "data": {
                        "text/html": "(1 row affected)"
                    },
                    "metadata": {}
                },
                {
                    "output_type": "display_data",
                    "data": {
                        "text/html": "(1 row affected)"
                    },
                    "metadata": {}
                },
                {
                    "output_type": "display_data",
                    "data": {
                        "text/html": "(1 row affected)"
                    },
                    "metadata": {}
                },
                {
                    "output_type": "display_data",
                    "data": {
                        "text/html": "(0 rows affected)"
                    },
                    "metadata": {}
                },
                {
                    "output_type": "display_data",
                    "data": {
                        "text/html": "(0 rows affected)"
                    },
                    "metadata": {}
                },
                {
                    "output_type": "display_data",
                    "data": {
                        "text/html": "(0 rows affected)"
                    },
                    "metadata": {}
                },
                {
                    "output_type": "display_data",
                    "data": {
                        "text/html": "(0 rows affected)"
                    },
                    "metadata": {}
                },
                {
                    "output_type": "display_data",
                    "data": {
                        "text/html": "(1 row affected)"
                    },
                    "metadata": {}
                },
                {
                    "output_type": "display_data",
                    "data": {
                        "text/html": "(0 rows affected)"
                    },
                    "metadata": {}
                },
                {
                    "output_type": "display_data",
                    "data": {
                        "text/html": "(1 row affected)"
                    },
                    "metadata": {}
                },
                {
                    "output_type": "display_data",
                    "data": {
                        "text/html": "(1 row affected)"
                    },
                    "metadata": {}
                },
                {
                    "output_type": "display_data",
                    "data": {
                        "text/html": "(1 row affected)"
                    },
                    "metadata": {}
                },
                {
                    "output_type": "display_data",
                    "data": {
                        "text/html": "(1 row affected)"
                    },
                    "metadata": {}
                },
                {
                    "output_type": "display_data",
                    "data": {
                        "text/html": "(1 row affected)"
                    },
                    "metadata": {}
                },
                {
                    "output_type": "display_data",
                    "data": {
                        "text/html": "(1 row affected)"
                    },
                    "metadata": {}
                },
                {
                    "output_type": "display_data",
                    "data": {
                        "text/html": "(1 row affected)"
                    },
                    "metadata": {}
                },
                {
                    "output_type": "display_data",
                    "data": {
                        "text/html": "(1 row affected)"
                    },
                    "metadata": {}
                },
                {
                    "output_type": "display_data",
                    "data": {
                        "text/html": "(1 row affected)"
                    },
                    "metadata": {}
                },
                {
                    "output_type": "display_data",
                    "data": {
                        "text/html": "(1 row affected)"
                    },
                    "metadata": {}
                },
                {
                    "output_type": "display_data",
                    "data": {
                        "text/html": "(1 row affected)"
                    },
                    "metadata": {}
                },
                {
                    "output_type": "display_data",
                    "data": {
                        "text/html": "(1 row affected)"
                    },
                    "metadata": {}
                },
                {
                    "output_type": "display_data",
                    "data": {
                        "text/html": "(1 row affected)"
                    },
                    "metadata": {}
                },
                {
                    "output_type": "display_data",
                    "data": {
                        "text/html": "(1 row affected)"
                    },
                    "metadata": {}
                },
                {
                    "output_type": "display_data",
                    "data": {
                        "text/html": "(1 row affected)"
                    },
                    "metadata": {}
                },
                {
                    "output_type": "display_data",
                    "data": {
                        "text/html": "(0 rows affected)"
                    },
                    "metadata": {}
                },
                {
                    "output_type": "display_data",
                    "data": {
                        "text/html": "(1 row affected)"
                    },
                    "metadata": {}
                },
                {
                    "output_type": "display_data",
                    "data": {
                        "text/html": "(1 row affected)"
                    },
                    "metadata": {}
                },
                {
                    "output_type": "display_data",
                    "data": {
                        "text/html": "(1 row affected)"
                    },
                    "metadata": {}
                },
                {
                    "output_type": "display_data",
                    "data": {
                        "text/html": "(1 row affected)"
                    },
                    "metadata": {}
                },
                {
                    "output_type": "display_data",
                    "data": {
                        "text/html": "(1 row affected)"
                    },
                    "metadata": {}
                },
                {
                    "output_type": "display_data",
                    "data": {
                        "text/html": "(1 row affected)"
                    },
                    "metadata": {}
                },
                {
                    "output_type": "display_data",
                    "data": {
                        "text/html": "(1 row affected)"
                    },
                    "metadata": {}
                },
                {
                    "output_type": "display_data",
                    "data": {
                        "text/html": "(1 row affected)"
                    },
                    "metadata": {}
                },
                {
                    "output_type": "display_data",
                    "data": {
                        "text/html": "(1 row affected)"
                    },
                    "metadata": {}
                },
                {
                    "output_type": "display_data",
                    "data": {
                        "text/html": "(1 row affected)"
                    },
                    "metadata": {}
                },
                {
                    "output_type": "display_data",
                    "data": {
                        "text/html": "(1 row affected)"
                    },
                    "metadata": {}
                },
                {
                    "output_type": "display_data",
                    "data": {
                        "text/html": "(1 row affected)"
                    },
                    "metadata": {}
                },
                {
                    "output_type": "display_data",
                    "data": {
                        "text/html": "(1 row affected)"
                    },
                    "metadata": {}
                },
                {
                    "output_type": "display_data",
                    "data": {
                        "text/html": "Total execution time: 00:00:00.707"
                    },
                    "metadata": {}
                }
            ],
            "execution_count": 134
        },
        {
            "cell_type": "code",
            "source": [
                "USE [desafio];\r\n",
                "GO\r\n",
                "\r\n",
                "-- Create a new table called '[teritoryLog]' in schema '[dbo]'\r\n",
                "-- Drop the table if it already exists\r\n",
                "IF OBJECT_ID('[dbo].[teritoryLog]', 'U') IS NOT NULL\r\n",
                "DROP TABLE [dbo].[teritoryLog]\r\n",
                "GO\r\n",
                "-- Create the table in the specified schema\r\n",
                "CREATE TABLE [dbo].[teritoryLog]\r\n",
                "(\r\n",
                "    [Id] INT NOT NULL PRIMARY KEY IDENTITY, -- Primary Key column\r\n",
                "    [territoryId] INT NOT NULL, \r\n",
                "    [seasonId] INT NOT NULL,\r\n",
                "    [participantId] INT NOT NULL,\r\n",
                "    [sequenceNumber] INT,\r\n",
                "    [episode] INT,\r\n",
                "\r\n",
                "    -- Specify more columns here\r\n",
                ");\r\n",
                "GO\r\n",
                "\r\n",
                "/*Преместване на играчи по територии*/\r\n",
                "\r\n",
                "USE [desafio];\r\n",
                "GO\r\n",
                "\r\n",
                "/*1*/\r\n",
                "\r\n",
                "INSERT INTO [desafio].[dbo].[teritoryLog] ([territoryId], [seasonId], [participantId], [sequenceNumber], [episode])\r\n",
                "SELECT    (\r\n",
                "          SELECT    [id]\r\n",
                "          FROM      [dbo].[teritory]\r\n",
                "          WHERE     [name] = N'Плажа'\r\n",
                "          ) AS skillId,\r\n",
                "          5,\r\n",
                "          [id],\r\n",
                "          0,\r\n",
                "          1\r\n",
                "FROM      [dbo].[participant]\r\n",
                "WHERE     [name] = N'Румен Радев';\r\n",
                "\r\n",
                "INSERT INTO [desafio].[dbo].[teritoryLog] ([territoryId], [seasonId], [participantId], [sequenceNumber], [episode])\r\n",
                "SELECT    (\r\n",
                "          SELECT    [id]\r\n",
                "          FROM      [dbo].[teritory]\r\n",
                "          WHERE     [name] = N'Плажа'\r\n",
                "          ) AS skillId,\r\n",
                "          5,\r\n",
                "          [id],\r\n",
                "          0,\r\n",
                "          1\r\n",
                "FROM      [dbo].[participant]\r\n",
                "WHERE     [name] = N'Никол Дунев';\r\n",
                "\r\n",
                "/*2*/\r\n",
                "\r\n",
                "INSERT INTO [desafio].[dbo].[teritoryLog] ([territoryId], [seasonId], [participantId], [sequenceNumber], [episode])\r\n",
                "SELECT    (\r\n",
                "          SELECT    [id]\r\n",
                "          FROM      [dbo].[teritory]\r\n",
                "          WHERE     [name] = N'Чистилище'\r\n",
                "          ) AS skillId,\r\n",
                "          5,\r\n",
                "          [id],\r\n",
                "          0,\r\n",
                "          2\r\n",
                "FROM      [dbo].[participant]\r\n",
                "WHERE     [name] = N'Румен Радев';\r\n",
                "\r\n",
                "INSERT INTO [desafio].[dbo].[teritoryLog] ([territoryId], [seasonId], [participantId], [sequenceNumber], [episode])\r\n",
                "SELECT    (\r\n",
                "          SELECT    [id]\r\n",
                "          FROM      [dbo].[teritory]\r\n",
                "          WHERE     [name] = N'Чистилище'\r\n",
                "          ) AS skillId,\r\n",
                "          5,\r\n",
                "          [id],\r\n",
                "          0,\r\n",
                "          2\r\n",
                "FROM      [dbo].[participant]\r\n",
                "WHERE     [name] = N'Никол Дунев';\r\n",
                "\r\n",
                "INSERT INTO [desafio].[dbo].[teritoryLog] ([territoryId], [seasonId], [participantId], [sequenceNumber], [episode])\r\n",
                "SELECT    (\r\n",
                "          SELECT    [id]\r\n",
                "          FROM      [dbo].[teritory]\r\n",
                "          WHERE     [name] = N'Чистилище'\r\n",
                "          ) AS skillId,\r\n",
                "          5,\r\n",
                "          [id],\r\n",
                "          0,\r\n",
                "          2\r\n",
                "FROM      [dbo].[participant]\r\n",
                "WHERE     [name] = N'Денислава Велкова';\r\n",
                "\r\n",
                "INSERT INTO [desafio].[dbo].[teritoryLog] ([territoryId], [seasonId], [participantId], [sequenceNumber], [episode])\r\n",
                "SELECT    (\r\n",
                "          SELECT    [id]\r\n",
                "          FROM      [dbo].[teritory]\r\n",
                "          WHERE     [name] = N'Чистилище'\r\n",
                "          ) AS skillId,\r\n",
                "          5,\r\n",
                "          [id],\r\n",
                "          0,\r\n",
                "          2\r\n",
                "FROM      [dbo].[participant]\r\n",
                "WHERE     [name] = N'Веселина Маринова';\r\n",
                "\r\n",
                "INSERT INTO [desafio].[dbo].[teritoryLog] ([territoryId], [seasonId], [participantId], [sequenceNumber], [episode])\r\n",
                "SELECT    (\r\n",
                "          SELECT    [id]\r\n",
                "          FROM      [dbo].[teritory]\r\n",
                "          WHERE     [name] = N'Чистилище'\r\n",
                "          ) AS skillId,\r\n",
                "          5,\r\n",
                "          [id],\r\n",
                "          0,\r\n",
                "          2\r\n",
                "FROM      [dbo].[participant]\r\n",
                "WHERE     [name] = N'Михаил Кръстев';\r\n",
                "\r\n",
                "INSERT INTO [desafio].[dbo].[teritoryLog] ([territoryId], [seasonId], [participantId], [sequenceNumber], [episode])\r\n",
                "SELECT    (\r\n",
                "          SELECT    [id]\r\n",
                "          FROM      [dbo].[teritory]\r\n",
                "          WHERE     [name] = N'Чистилище'\r\n",
                "          ) AS skillId,\r\n",
                "          5,\r\n",
                "          [id],\r\n",
                "          0,\r\n",
                "          2\r\n",
                "FROM      [dbo].[participant]\r\n",
                "WHERE     [name] = N'Елена Петрова';\r\n",
                "\r\n",
                "INSERT INTO [desafio].[dbo].[teritoryLog] ([territoryId], [seasonId], [participantId], [sequenceNumber], [episode])\r\n",
                "SELECT    (\r\n",
                "          SELECT    [id]\r\n",
                "          FROM      [dbo].[teritory]\r\n",
                "          WHERE     [name] = N'Чистилище'\r\n",
                "          ) AS skillId,\r\n",
                "          5,\r\n",
                "          [id],\r\n",
                "          0,\r\n",
                "          2\r\n",
                "FROM      [dbo].[participant]\r\n",
                "WHERE     [name] = N'Николай Рълев';\r\n",
                "\r\n",
                "INSERT INTO [desafio].[dbo].[teritoryLog] ([territoryId], [seasonId], [participantId], [sequenceNumber], [episode])\r\n",
                "SELECT    (\r\n",
                "          SELECT    [id]\r\n",
                "          FROM      [dbo].[teritory]\r\n",
                "          WHERE     [name] = N'Чистилище'\r\n",
                "          ) AS skillId,\r\n",
                "          5,\r\n",
                "          [id],\r\n",
                "          0,\r\n",
                "          2\r\n",
                "FROM      [dbo].[participant]\r\n",
                "WHERE     [name] = N'Васил Василев';\r\n",
                "\r\n",
                "\r\n",
                "\r\n",
                "INSERT INTO [desafio].[dbo].[teritoryLog] ([territoryId], [seasonId], [participantId], [sequenceNumber], [episode])\r\n",
                "SELECT    (\r\n",
                "          SELECT    [id]\r\n",
                "          FROM      [dbo].[teritory]\r\n",
                "          WHERE     [name] = N'Стопанството'\r\n",
                "          ) AS skillId,\r\n",
                "          5,\r\n",
                "          [id],\r\n",
                "          0,\r\n",
                "          2\r\n",
                "FROM      [dbo].[participant]\r\n",
                "WHERE     [name] = N'Даниел Димов';\r\n",
                "\r\n",
                "INSERT INTO [desafio].[dbo].[teritoryLog] ([territoryId], [seasonId], [participantId], [sequenceNumber], [episode])\r\n",
                "SELECT    (\r\n",
                "          SELECT    [id]\r\n",
                "          FROM      [dbo].[teritory]\r\n",
                "          WHERE     [name] = N'Стопанството'\r\n",
                "          ) AS skillId,\r\n",
                "          5,\r\n",
                "          [id],\r\n",
                "          0,\r\n",
                "          2\r\n",
                "FROM      [dbo].[participant]\r\n",
                "WHERE     [name] = N'Иван Рълев';\r\n",
                "\r\n",
                "INSERT INTO [desafio].[dbo].[teritoryLog] ([territoryId], [seasonId], [participantId], [sequenceNumber], [episode])\r\n",
                "SELECT    (\r\n",
                "          SELECT    [id]\r\n",
                "          FROM      [dbo].[teritory]\r\n",
                "          WHERE     [name] = N'Стопанството'\r\n",
                "          ) AS skillId,\r\n",
                "          5,\r\n",
                "          [id],\r\n",
                "          0,\r\n",
                "          2\r\n",
                "FROM      [dbo].[participant]\r\n",
                "WHERE     [name] = N'Калоян Митов';\r\n",
                "\r\n",
                "INSERT INTO [desafio].[dbo].[teritoryLog] ([territoryId], [seasonId], [participantId], [sequenceNumber], [episode])\r\n",
                "SELECT    (\r\n",
                "          SELECT    [id]\r\n",
                "          FROM      [dbo].[teritory]\r\n",
                "          WHERE     [name] = N'Стопанството'\r\n",
                "          ) AS skillId,\r\n",
                "          5,\r\n",
                "          [id],\r\n",
                "          0,\r\n",
                "          2\r\n",
                "FROM      [dbo].[participant]\r\n",
                "WHERE     [name] = N'Крум Апостолов';\r\n",
                "\r\n",
                "INSERT INTO [desafio].[dbo].[teritoryLog] ([territoryId], [seasonId], [participantId], [sequenceNumber], [episode])\r\n",
                "SELECT    (\r\n",
                "          SELECT    [id]\r\n",
                "          FROM      [dbo].[teritory]\r\n",
                "          WHERE     [name] = N'Стопанството'\r\n",
                "          ) AS skillId,\r\n",
                "          5,\r\n",
                "          [id],\r\n",
                "          0,\r\n",
                "          2\r\n",
                "FROM      [dbo].[participant]\r\n",
                "WHERE     [name] = N'Николай Костадинов';\r\n",
                "\r\n",
                "INSERT INTO [desafio].[dbo].[teritoryLog] ([territoryId], [seasonId], [participantId], [sequenceNumber], [episode])\r\n",
                "SELECT    (\r\n",
                "          SELECT    [id]\r\n",
                "          FROM      [dbo].[teritory]\r\n",
                "          WHERE     [name] = N'Стопанството'\r\n",
                "          ) AS skillId,\r\n",
                "          5,\r\n",
                "          [id],\r\n",
                "          0,\r\n",
                "          2\r\n",
                "FROM      [dbo].[participant]\r\n",
                "WHERE     [name] = N'Пеньо Гатевски „Гатьо“';\r\n",
                "\r\n",
                "INSERT INTO [desafio].[dbo].[teritoryLog] ([territoryId], [seasonId], [participantId], [sequenceNumber], [episode])\r\n",
                "SELECT    (\r\n",
                "          SELECT    [id]\r\n",
                "          FROM      [dbo].[teritory]\r\n",
                "          WHERE     [name] = N'Стопанството'\r\n",
                "          ) AS skillId,\r\n",
                "          5,\r\n",
                "          [id],\r\n",
                "          0,\r\n",
                "          2\r\n",
                "FROM      [dbo].[participant]\r\n",
                "WHERE     [name] = N'Радостин Кръстев';\r\n",
                "\r\n",
                "INSERT INTO [desafio].[dbo].[teritoryLog] ([territoryId], [seasonId], [participantId], [sequenceNumber], [episode])\r\n",
                "SELECT    (\r\n",
                "          SELECT    [id]\r\n",
                "          FROM      [dbo].[teritory]\r\n",
                "          WHERE     [name] = N'Стопанството'\r\n",
                "          ) AS skillId,\r\n",
                "          5,\r\n",
                "          [id],\r\n",
                "          0,\r\n",
                "          2\r\n",
                "FROM      [dbo].[participant]\r\n",
                "WHERE     [name] = N'Цветелин Гешов';\r\n",
                "\r\n",
                "\r\n",
                "\r\n",
                "\r\n",
                "INSERT INTO [desafio].[dbo].[teritoryLog] ([territoryId], [seasonId], [participantId], [sequenceNumber], [episode])\r\n",
                "SELECT    (\r\n",
                "          SELECT    [id]\r\n",
                "          FROM      [dbo].[teritory]\r\n",
                "          WHERE     [name] = N'Резиденция'\r\n",
                "          ) AS skillId,\r\n",
                "          5,\r\n",
                "          [id],\r\n",
                "          0,\r\n",
                "          2\r\n",
                "FROM      [dbo].[participant]\r\n",
                "WHERE     [name] = N'Благомир Мастагарков';\r\n",
                "\r\n",
                "INSERT INTO [desafio].[dbo].[teritoryLog] ([territoryId], [seasonId], [participantId], [sequenceNumber], [episode])\r\n",
                "SELECT    (\r\n",
                "          SELECT    [id]\r\n",
                "          FROM      [dbo].[teritory]\r\n",
                "          WHERE     [name] = N'Резиденция'\r\n",
                "          ) AS skillId,\r\n",
                "          5,\r\n",
                "          [id],\r\n",
                "          0,\r\n",
                "          2\r\n",
                "FROM      [dbo].[participant]\r\n",
                "WHERE     [name] = N'Валентин Петров';\r\n",
                "\r\n",
                "INSERT INTO [desafio].[dbo].[teritoryLog] ([territoryId], [seasonId], [participantId], [sequenceNumber], [episode])\r\n",
                "SELECT    (\r\n",
                "          SELECT    [id]\r\n",
                "          FROM      [dbo].[teritory]\r\n",
                "          WHERE     [name] = N'Резиденция'\r\n",
                "          ) AS skillId,\r\n",
                "          5,\r\n",
                "          [id],\r\n",
                "          0,\r\n",
                "          2\r\n",
                "FROM      [dbo].[participant]\r\n",
                "WHERE     [name] = N'Виолета Стайкова';\r\n",
                "\r\n",
                "INSERT INTO [desafio].[dbo].[teritoryLog] ([territoryId], [seasonId], [participantId], [sequenceNumber], [episode])\r\n",
                "SELECT    (\r\n",
                "          SELECT    [id]\r\n",
                "          FROM      [dbo].[teritory]\r\n",
                "          WHERE     [name] = N'Резиденция'\r\n",
                "          ) AS skillId,\r\n",
                "          5,\r\n",
                "          [id],\r\n",
                "          0,\r\n",
                "          2\r\n",
                "FROM      [dbo].[participant]\r\n",
                "WHERE     [name] = N'Красимир Дунев';\r\n",
                "\r\n",
                "INSERT INTO [desafio].[dbo].[teritoryLog] ([territoryId], [seasonId], [participantId], [sequenceNumber], [episode])\r\n",
                "SELECT    (\r\n",
                "          SELECT    [id]\r\n",
                "          FROM      [dbo].[teritory]\r\n",
                "          WHERE     [name] = N'Резиденция'\r\n",
                "          ) AS skillId,\r\n",
                "          5,\r\n",
                "          [id],\r\n",
                "          0,\r\n",
                "          2\r\n",
                "FROM      [dbo].[participant]\r\n",
                "WHERE     [name] = N'Мартин Николов „Елвиса“';\r\n",
                "\r\n",
                "INSERT INTO [desafio].[dbo].[teritoryLog] ([territoryId], [seasonId], [participantId], [sequenceNumber], [episode])\r\n",
                "SELECT    (\r\n",
                "          SELECT    [id]\r\n",
                "          FROM      [dbo].[teritory]\r\n",
                "          WHERE     [name] = N'Резиденция'\r\n",
                "          ) AS skillId,\r\n",
                "          5,\r\n",
                "          [id],\r\n",
                "          0,\r\n",
                "          2\r\n",
                "FROM      [dbo].[participant]\r\n",
                "WHERE     [name] = N'Момчил Василев';\r\n",
                "\r\n",
                "INSERT INTO [desafio].[dbo].[teritoryLog] ([territoryId], [seasonId], [participantId], [sequenceNumber], [episode])\r\n",
                "SELECT    (\r\n",
                "          SELECT    [id]\r\n",
                "          FROM      [dbo].[teritory]\r\n",
                "          WHERE     [name] = N'Резиденция'\r\n",
                "          ) AS skillId,\r\n",
                "          5,\r\n",
                "          [id],\r\n",
                "          0,\r\n",
                "          2\r\n",
                "FROM      [dbo].[participant]\r\n",
                "WHERE     [name] = N'Моника Николаева';\r\n",
                "\r\n",
                "INSERT INTO [desafio].[dbo].[teritoryLog] ([territoryId], [seasonId], [participantId], [sequenceNumber], [episode])\r\n",
                "SELECT    (\r\n",
                "          SELECT    [id]\r\n",
                "          FROM      [dbo].[teritory]\r\n",
                "          WHERE     [name] = N'Резиденция'\r\n",
                "          ) AS skillId,\r\n",
                "          5,\r\n",
                "          [id],\r\n",
                "          0,\r\n",
                "          2\r\n",
                "FROM      [dbo].[participant]\r\n",
                "WHERE     [name] = N'Трифон Симеонов „Туньо“';\r\n",
                "\r\n",
                "\r\n",
                "\r\n",
                "\r\n",
                "INSERT INTO [desafio].[dbo].[teritoryLog] ([territoryId], [seasonId], [participantId], [sequenceNumber], [episode])\r\n",
                "SELECT    (\r\n",
                "          SELECT    [id]\r\n",
                "          FROM      [dbo].[teritory]\r\n",
                "          WHERE     [name] = N'Дивата река'\r\n",
                "          ) AS skillId,\r\n",
                "          5,\r\n",
                "          [id],\r\n",
                "          0,\r\n",
                "          2\r\n",
                "FROM      [dbo].[participant]\r\n",
                "WHERE     [name] = N'Албена Ситнилска';\r\n",
                "\r\n",
                "INSERT INTO [desafio].[dbo].[teritoryLog] ([territoryId], [seasonId], [participantId], [sequenceNumber], [episode])\r\n",
                "SELECT    (\r\n",
                "          SELECT    [id]\r\n",
                "          FROM      [dbo].[teritory]\r\n",
                "          WHERE     [name] = N'Дивата река'\r\n",
                "          ) AS skillId,\r\n",
                "          5,\r\n",
                "          [id],\r\n",
                "          0,\r\n",
                "          2\r\n",
                "FROM      [dbo].[participant]\r\n",
                "WHERE     [name] = N'Виктория Йорданова';\r\n",
                "\r\n",
                "INSERT INTO [desafio].[dbo].[teritoryLog] ([territoryId], [seasonId], [participantId], [sequenceNumber], [episode])\r\n",
                "SELECT    (\r\n",
                "          SELECT    [id]\r\n",
                "          FROM      [dbo].[teritory]\r\n",
                "          WHERE     [name] = N'Дивата река'\r\n",
                "          ) AS skillId,\r\n",
                "          5,\r\n",
                "          [id],\r\n",
                "          0,\r\n",
                "          2\r\n",
                "FROM      [dbo].[participant]\r\n",
                "WHERE     [name] = N'Ива Георгиева';\r\n",
                "\r\n",
                "INSERT INTO [desafio].[dbo].[teritoryLog] ([territoryId], [seasonId], [participantId], [sequenceNumber], [episode])\r\n",
                "SELECT    (\r\n",
                "          SELECT    [id]\r\n",
                "          FROM      [dbo].[teritory]\r\n",
                "          WHERE     [name] = N'Дивата река'\r\n",
                "          ) AS skillId,\r\n",
                "          5,\r\n",
                "          [id],\r\n",
                "          0,\r\n",
                "          2\r\n",
                "FROM      [dbo].[participant]\r\n",
                "WHERE     [name] = N'Мария Оряшкова';\r\n",
                "\r\n",
                "INSERT INTO [desafio].[dbo].[teritoryLog] ([territoryId], [seasonId], [participantId], [sequenceNumber], [episode])\r\n",
                "SELECT    (\r\n",
                "          SELECT    [id]\r\n",
                "          FROM      [dbo].[teritory]\r\n",
                "          WHERE     [name] = N'Дивата река'\r\n",
                "          ) AS skillId,\r\n",
                "          5,\r\n",
                "          [id],\r\n",
                "          0,\r\n",
                "          2\r\n",
                "FROM      [dbo].[participant]\r\n",
                "WHERE     [name] = N'Радосвета Симеонова';\r\n",
                "\r\n",
                "INSERT INTO [desafio].[dbo].[teritoryLog] ([territoryId], [seasonId], [participantId], [sequenceNumber], [episode])\r\n",
                "SELECT    (\r\n",
                "          SELECT    [id]\r\n",
                "          FROM      [dbo].[teritory]\r\n",
                "          WHERE     [name] = N'Дивата река'\r\n",
                "          ) AS skillId,\r\n",
                "          5,\r\n",
                "          [id],\r\n",
                "          0,\r\n",
                "          2\r\n",
                "FROM      [dbo].[participant]\r\n",
                "WHERE     [name] = N'Теодора Маринова';\r\n",
                "\r\n",
                "INSERT INTO [desafio].[dbo].[teritoryLog] ([territoryId], [seasonId], [participantId], [sequenceNumber], [episode])\r\n",
                "SELECT    (\r\n",
                "          SELECT    [id]\r\n",
                "          FROM      [dbo].[teritory]\r\n",
                "          WHERE     [name] = N'Дивата река'\r\n",
                "          ) AS skillId,\r\n",
                "          5,\r\n",
                "          [id],\r\n",
                "          0,\r\n",
                "          2\r\n",
                "FROM      [dbo].[participant]\r\n",
                "WHERE     [name] = N'Теодора Мудева';\r\n",
                "\r\n",
                "INSERT INTO [desafio].[dbo].[teritoryLog] ([territoryId], [seasonId], [participantId], [sequenceNumber], [episode])\r\n",
                "SELECT    (\r\n",
                "          SELECT    [id]\r\n",
                "          FROM      [dbo].[teritory]\r\n",
                "          WHERE     [name] = N'Дивата река'\r\n",
                "          ) AS skillId,\r\n",
                "          5,\r\n",
                "          [id],\r\n",
                "          0,\r\n",
                "          2\r\n",
                "FROM      [dbo].[participant]\r\n",
                "WHERE     [name] = N'Цвети Станева';\r\n",
                "\r\n",
                "/*8*/\r\n",
                "\r\n",
                "INSERT INTO [desafio].[dbo].[teritoryLog] ([territoryId], [seasonId], [participantId], [sequenceNumber], [episode])\r\n",
                "SELECT    (\r\n",
                "          SELECT    [id]\r\n",
                "          FROM      [dbo].[teritory]\r\n",
                "          WHERE     [name] = N'Стопанството'\r\n",
                "          ) AS skillId,\r\n",
                "          5,\r\n",
                "          [id],\r\n",
                "          0,\r\n",
                "          8\r\n",
                "FROM      [dbo].[participant]\r\n",
                "WHERE     [name] = N'Благомир Мастагарков';\r\n",
                "\r\n",
                "INSERT INTO [desafio].[dbo].[teritoryLog] ([territoryId], [seasonId], [participantId], [sequenceNumber], [episode])\r\n",
                "SELECT    (\r\n",
                "          SELECT    [id]\r\n",
                "          FROM      [dbo].[teritory]\r\n",
                "          WHERE     [name] = N'Стопанството'\r\n",
                "          ) AS skillId,\r\n",
                "          5,\r\n",
                "          [id],\r\n",
                "          0,\r\n",
                "          8\r\n",
                "FROM      [dbo].[participant]\r\n",
                "WHERE     [name] = N'Валентин Петров';\r\n",
                "\r\n",
                "INSERT INTO [desafio].[dbo].[teritoryLog] ([territoryId], [seasonId], [participantId], [sequenceNumber], [episode])\r\n",
                "SELECT    (\r\n",
                "          SELECT    [id]\r\n",
                "          FROM      [dbo].[teritory]\r\n",
                "          WHERE     [name] = N'Стопанството'\r\n",
                "          ) AS skillId,\r\n",
                "          5,\r\n",
                "          [id],\r\n",
                "          0,\r\n",
                "          8\r\n",
                "FROM      [dbo].[participant]\r\n",
                "WHERE     [name] = N'Виолета Стайкова';\r\n",
                "\r\n",
                "INSERT INTO [desafio].[dbo].[teritoryLog] ([territoryId], [seasonId], [participantId], [sequenceNumber], [episode])\r\n",
                "SELECT    (\r\n",
                "          SELECT    [id]\r\n",
                "          FROM      [dbo].[teritory]\r\n",
                "          WHERE     [name] = N'Стопанството'\r\n",
                "          ) AS skillId,\r\n",
                "          5,\r\n",
                "          [id],\r\n",
                "          0,\r\n",
                "          8\r\n",
                "FROM      [dbo].[participant]\r\n",
                "WHERE     [name] = N'Красимир Дунев';\r\n",
                "\r\n",
                "INSERT INTO [desafio].[dbo].[teritoryLog] ([territoryId], [seasonId], [participantId], [sequenceNumber], [episode])\r\n",
                "SELECT    (\r\n",
                "          SELECT    [id]\r\n",
                "          FROM      [dbo].[teritory]\r\n",
                "          WHERE     [name] = N'Стопанството'\r\n",
                "          ) AS skillId,\r\n",
                "          5,\r\n",
                "          [id],\r\n",
                "          0,\r\n",
                "          8\r\n",
                "FROM      [dbo].[participant]\r\n",
                "WHERE     [name] = N'Мартин Николов „Елвиса“';\r\n",
                "\r\n",
                "INSERT INTO [desafio].[dbo].[teritoryLog] ([territoryId], [seasonId], [participantId], [sequenceNumber], [episode])\r\n",
                "SELECT    (\r\n",
                "          SELECT    [id]\r\n",
                "          FROM      [dbo].[teritory]\r\n",
                "          WHERE     [name] = N'Стопанството'\r\n",
                "          ) AS skillId,\r\n",
                "          5,\r\n",
                "          [id],\r\n",
                "          0,\r\n",
                "          8\r\n",
                "FROM      [dbo].[participant]\r\n",
                "WHERE     [name] = N'Момчил Василев';\r\n",
                "\r\n",
                "INSERT INTO [desafio].[dbo].[teritoryLog] ([territoryId], [seasonId], [participantId], [sequenceNumber], [episode])\r\n",
                "SELECT    (\r\n",
                "          SELECT    [id]\r\n",
                "          FROM      [dbo].[teritory]\r\n",
                "          WHERE     [name] = N'Стопанството'\r\n",
                "          ) AS skillId,\r\n",
                "          5,\r\n",
                "          [id],\r\n",
                "          0,\r\n",
                "          8\r\n",
                "FROM      [dbo].[participant]\r\n",
                "WHERE     [name] = N'Моника Николаева';\r\n",
                "\r\n",
                "\r\n",
                "\r\n",
                "INSERT INTO [desafio].[dbo].[teritoryLog] ([territoryId], [seasonId], [participantId], [sequenceNumber], [episode])\r\n",
                "SELECT    (\r\n",
                "          SELECT    [id]\r\n",
                "          FROM      [dbo].[teritory]\r\n",
                "          WHERE     [name] = N'Резиденция'\r\n",
                "          ) AS skillId,\r\n",
                "          5,\r\n",
                "          [id],\r\n",
                "          0,\r\n",
                "          8\r\n",
                "FROM      [dbo].[participant]\r\n",
                "WHERE     [name] = N'Даниел Димов';\r\n",
                "\r\n",
                "INSERT INTO [desafio].[dbo].[teritoryLog] ([territoryId], [seasonId], [participantId], [sequenceNumber], [episode])\r\n",
                "SELECT    (\r\n",
                "          SELECT    [id]\r\n",
                "          FROM      [dbo].[teritory]\r\n",
                "          WHERE     [name] = N'Резиденция'\r\n",
                "          ) AS skillId,\r\n",
                "          5,\r\n",
                "          [id],\r\n",
                "          0,\r\n",
                "          8\r\n",
                "FROM      [dbo].[participant]\r\n",
                "WHERE     [name] = N'Иван Рълев';\r\n",
                "\r\n",
                "INSERT INTO [desafio].[dbo].[teritoryLog] ([territoryId], [seasonId], [participantId], [sequenceNumber], [episode])\r\n",
                "SELECT    (\r\n",
                "          SELECT    [id]\r\n",
                "          FROM      [dbo].[teritory]\r\n",
                "          WHERE     [name] = N'Резиденция'\r\n",
                "          ) AS skillId,\r\n",
                "          5,\r\n",
                "          [id],\r\n",
                "          0,\r\n",
                "          8\r\n",
                "FROM      [dbo].[participant]\r\n",
                "WHERE     [name] = N'Калоян Митов';\r\n",
                "\r\n",
                "INSERT INTO [desafio].[dbo].[teritoryLog] ([territoryId], [seasonId], [participantId], [sequenceNumber], [episode])\r\n",
                "SELECT    (\r\n",
                "          SELECT    [id]\r\n",
                "          FROM      [dbo].[teritory]\r\n",
                "          WHERE     [name] = N'Резиденция'\r\n",
                "          ) AS skillId,\r\n",
                "          5,\r\n",
                "          [id],\r\n",
                "          0,\r\n",
                "          8\r\n",
                "FROM      [dbo].[participant]\r\n",
                "WHERE     [name] = N'Крум Апостолов';\r\n",
                "\r\n",
                "INSERT INTO [desafio].[dbo].[teritoryLog] ([territoryId], [seasonId], [participantId], [sequenceNumber], [episode])\r\n",
                "SELECT    (\r\n",
                "          SELECT    [id]\r\n",
                "          FROM      [dbo].[teritory]\r\n",
                "          WHERE     [name] = N'Резиденция'\r\n",
                "          ) AS skillId,\r\n",
                "          5,\r\n",
                "          [id],\r\n",
                "          0,\r\n",
                "          8\r\n",
                "FROM      [dbo].[participant]\r\n",
                "WHERE     [name] = N'Николай Костадинов';\r\n",
                "\r\n",
                "INSERT INTO [desafio].[dbo].[teritoryLog] ([territoryId], [seasonId], [participantId], [sequenceNumber], [episode])\r\n",
                "SELECT    (\r\n",
                "          SELECT    [id]\r\n",
                "          FROM      [dbo].[teritory]\r\n",
                "          WHERE     [name] = N'Резиденция'\r\n",
                "          ) AS skillId,\r\n",
                "          5,\r\n",
                "          [id],\r\n",
                "          0,\r\n",
                "          8\r\n",
                "FROM      [dbo].[participant]\r\n",
                "WHERE     [name] = N'Пеньо Гатевски „Гатьо“';\r\n",
                "\r\n",
                "INSERT INTO [desafio].[dbo].[teritoryLog] ([territoryId], [seasonId], [participantId], [sequenceNumber], [episode])\r\n",
                "SELECT    (\r\n",
                "          SELECT    [id]\r\n",
                "          FROM      [dbo].[teritory]\r\n",
                "          WHERE     [name] = N'Резиденция'\r\n",
                "          ) AS skillId,\r\n",
                "          5,\r\n",
                "          [id],\r\n",
                "          0,\r\n",
                "          8\r\n",
                "FROM      [dbo].[participant]\r\n",
                "WHERE     [name] = N'Радостин Кръстев';\r\n",
                "\r\n",
                "INSERT INTO [desafio].[dbo].[teritoryLog] ([territoryId], [seasonId], [participantId], [sequenceNumber], [episode])\r\n",
                "SELECT    (\r\n",
                "          SELECT    [id]\r\n",
                "          FROM      [dbo].[teritory]\r\n",
                "          WHERE     [name] = N'Резиденция'\r\n",
                "          ) AS skillId,\r\n",
                "          5,\r\n",
                "          [id],\r\n",
                "          0,\r\n",
                "          8\r\n",
                "FROM      [dbo].[participant]\r\n",
                "WHERE     [name] = N'Цветелин Гешов';\r\n",
                "\r\n",
                "/*13*/\r\n",
                "\r\n",
                "INSERT INTO [desafio].[dbo].[teritoryLog] ([territoryId], [seasonId], [participantId], [sequenceNumber], [episode])\r\n",
                "SELECT    (\r\n",
                "          SELECT    [id]\r\n",
                "          FROM      [dbo].[teritory]\r\n",
                "          WHERE     [name] = N'Чистилище'\r\n",
                "          ) AS skillId,\r\n",
                "          5,\r\n",
                "          [id],\r\n",
                "          0,\r\n",
                "          13\r\n",
                "FROM      [dbo].[participant]\r\n",
                "WHERE     [name] = N'Валентин Петров';\r\n",
                "\r\n",
                "INSERT INTO [desafio].[dbo].[teritoryLog] ([territoryId], [seasonId], [participantId], [sequenceNumber], [episode])\r\n",
                "SELECT    (\r\n",
                "          SELECT    [id]\r\n",
                "          FROM      [dbo].[teritory]\r\n",
                "          WHERE     [name] = N'Стопанството'\r\n",
                "          ) AS skillId,\r\n",
                "          5,\r\n",
                "          [id],\r\n",
                "          0,\r\n",
                "          13\r\n",
                "FROM      [dbo].[participant]\r\n",
                "WHERE     [name] = N'Васил Василев';\r\n",
                "\r\n",
                "\r\n",
                "/*14*/\r\n",
                "\r\n",
                "INSERT INTO [desafio].[dbo].[teritoryLog] ([territoryId], [seasonId], [participantId], [sequenceNumber], [episode])\r\n",
                "SELECT    (\r\n",
                "          SELECT    [id]\r\n",
                "          FROM      [dbo].[teritory]\r\n",
                "          WHERE     [name] = N'Дивата река'\r\n",
                "          ) AS skillId,\r\n",
                "          5,\r\n",
                "          [id],\r\n",
                "          0,\r\n",
                "          14\r\n",
                "FROM      [dbo].[participant]\r\n",
                "WHERE     [name] = N'Пеньо Гатевски „Гатьо“';\r\n",
                "\r\n",
                "INSERT INTO [desafio].[dbo].[teritoryLog] ([territoryId], [seasonId], [participantId], [sequenceNumber], [episode])\r\n",
                "SELECT    (\r\n",
                "          SELECT    [id]\r\n",
                "          FROM      [dbo].[teritory]\r\n",
                "          WHERE     [name] = N'Дивата река'\r\n",
                "          ) AS skillId,\r\n",
                "          5,\r\n",
                "          [id],\r\n",
                "          0,\r\n",
                "          14\r\n",
                "FROM      [dbo].[participant]\r\n",
                "WHERE     [name] = N'Цветелин Гешов';\r\n",
                "\r\n",
                "/*16*/\r\n",
                "\r\n",
                "INSERT INTO [desafio].[dbo].[teritoryLog] ([territoryId], [seasonId], [participantId], [sequenceNumber], [episode])\r\n",
                "SELECT    (\r\n",
                "          SELECT    [id]\r\n",
                "          FROM      [dbo].[teritory]\r\n",
                "          WHERE     [name] = N'Резиденция'\r\n",
                "          ) AS skillId,\r\n",
                "          5,\r\n",
                "          [id],\r\n",
                "          0,\r\n",
                "          16\r\n",
                "FROM      [dbo].[participant]\r\n",
                "WHERE     [name] = N'Благомир Мастагарков';\r\n",
                "\r\n",
                "INSERT INTO [desafio].[dbo].[teritoryLog] ([territoryId], [seasonId], [participantId], [sequenceNumber], [episode])\r\n",
                "SELECT    (\r\n",
                "          SELECT    [id]\r\n",
                "          FROM      [dbo].[teritory]\r\n",
                "          WHERE     [name] = N'Резиденция'\r\n",
                "          ) AS skillId,\r\n",
                "          5,\r\n",
                "          [id],\r\n",
                "          0,\r\n",
                "          16\r\n",
                "FROM      [dbo].[participant]\r\n",
                "WHERE     [name] = N'Васил Василев';\r\n",
                "\r\n",
                "INSERT INTO [desafio].[dbo].[teritoryLog] ([territoryId], [seasonId], [participantId], [sequenceNumber], [episode])\r\n",
                "SELECT    (\r\n",
                "          SELECT    [id]\r\n",
                "          FROM      [dbo].[teritory]\r\n",
                "          WHERE     [name] = N'Резиденция'\r\n",
                "          ) AS skillId,\r\n",
                "          5,\r\n",
                "          [id],\r\n",
                "          0,\r\n",
                "          16\r\n",
                "FROM      [dbo].[participant]\r\n",
                "WHERE     [name] = N'Виолета Стайкова';\r\n",
                "\r\n",
                "INSERT INTO [desafio].[dbo].[teritoryLog] ([territoryId], [seasonId], [participantId], [sequenceNumber], [episode])\r\n",
                "SELECT    (\r\n",
                "          SELECT    [id]\r\n",
                "          FROM      [dbo].[teritory]\r\n",
                "          WHERE     [name] = N'Резиденция'\r\n",
                "          ) AS skillId,\r\n",
                "          5,\r\n",
                "          [id],\r\n",
                "          0,\r\n",
                "          16\r\n",
                "FROM      [dbo].[participant]\r\n",
                "WHERE     [name] = N'Красимир Дунев';\r\n",
                "\r\n",
                "INSERT INTO [desafio].[dbo].[teritoryLog] ([territoryId], [seasonId], [participantId], [sequenceNumber], [episode])\r\n",
                "SELECT    (\r\n",
                "          SELECT    [id]\r\n",
                "          FROM      [dbo].[teritory]\r\n",
                "          WHERE     [name] = N'Резиденция'\r\n",
                "          ) AS skillId,\r\n",
                "          5,\r\n",
                "          [id],\r\n",
                "          0,\r\n",
                "          16\r\n",
                "FROM      [dbo].[participant]\r\n",
                "WHERE     [name] = N'Мартин Николов „Елвиса“';\r\n",
                "\r\n",
                "INSERT INTO [desafio].[dbo].[teritoryLog] ([territoryId], [seasonId], [participantId], [sequenceNumber], [episode])\r\n",
                "SELECT    (\r\n",
                "          SELECT    [id]\r\n",
                "          FROM      [dbo].[teritory]\r\n",
                "          WHERE     [name] = N'Резиденция'\r\n",
                "          ) AS skillId,\r\n",
                "          5,\r\n",
                "          [id],\r\n",
                "          0,\r\n",
                "          16\r\n",
                "FROM      [dbo].[participant]\r\n",
                "WHERE     [name] = N'Момчил Василев';\r\n",
                "\r\n",
                "INSERT INTO [desafio].[dbo].[teritoryLog] ([territoryId], [seasonId], [participantId], [sequenceNumber], [episode])\r\n",
                "SELECT    (\r\n",
                "          SELECT    [id]\r\n",
                "          FROM      [dbo].[teritory]\r\n",
                "          WHERE     [name] = N'Резиденция'\r\n",
                "          ) AS skillId,\r\n",
                "          5,\r\n",
                "          [id],\r\n",
                "          0,\r\n",
                "          16\r\n",
                "FROM      [dbo].[participant]\r\n",
                "WHERE     [name] = N'Моника Николаева';\r\n",
                "\r\n",
                "\r\n",
                "\r\n",
                "INSERT INTO [desafio].[dbo].[teritoryLog] ([territoryId], [seasonId], [participantId], [sequenceNumber], [episode])\r\n",
                "SELECT    (\r\n",
                "          SELECT    [id]\r\n",
                "          FROM      [dbo].[teritory]\r\n",
                "          WHERE     [name] = N'Стопанството'\r\n",
                "          ) AS skillId,\r\n",
                "          5,\r\n",
                "          [id],\r\n",
                "          0,\r\n",
                "          16\r\n",
                "FROM      [dbo].[participant]\r\n",
                "WHERE     [name] = N'Цвети Станева';\r\n",
                "\r\n",
                "\r\n",
                "INSERT INTO [desafio].[dbo].[teritoryLog] ([territoryId], [seasonId], [participantId], [sequenceNumber], [episode])\r\n",
                "SELECT    (\r\n",
                "          SELECT    [id]\r\n",
                "          FROM      [dbo].[teritory]\r\n",
                "          WHERE     [name] = N'Стопанството'\r\n",
                "          ) AS skillId,\r\n",
                "          5,\r\n",
                "          [id],\r\n",
                "          0,\r\n",
                "          16\r\n",
                "FROM      [dbo].[participant]\r\n",
                "WHERE     [name] = N'Даниел Димов';\r\n",
                "\r\n",
                "INSERT INTO [desafio].[dbo].[teritoryLog] ([territoryId], [seasonId], [participantId], [sequenceNumber], [episode])\r\n",
                "SELECT    (\r\n",
                "          SELECT    [id]\r\n",
                "          FROM      [dbo].[teritory]\r\n",
                "          WHERE     [name] = N'Стопанството'\r\n",
                "          ) AS skillId,\r\n",
                "          5,\r\n",
                "          [id],\r\n",
                "          0,\r\n",
                "          16\r\n",
                "FROM      [dbo].[participant]\r\n",
                "WHERE     [name] = N'Иван Рълев';\r\n",
                "\r\n",
                "INSERT INTO [desafio].[dbo].[teritoryLog] ([territoryId], [seasonId], [participantId], [sequenceNumber], [episode])\r\n",
                "SELECT    (\r\n",
                "          SELECT    [id]\r\n",
                "          FROM      [dbo].[teritory]\r\n",
                "          WHERE     [name] = N'Стопанството'\r\n",
                "          ) AS skillId,\r\n",
                "          5,\r\n",
                "          [id],\r\n",
                "          0,\r\n",
                "          16\r\n",
                "FROM      [dbo].[participant]\r\n",
                "WHERE     [name] = N'Калоян Митов';\r\n",
                "\r\n",
                "INSERT INTO [desafio].[dbo].[teritoryLog] ([territoryId], [seasonId], [participantId], [sequenceNumber], [episode])\r\n",
                "SELECT    (\r\n",
                "          SELECT    [id]\r\n",
                "          FROM      [dbo].[teritory]\r\n",
                "          WHERE     [name] = N'Стопанството'\r\n",
                "          ) AS skillId,\r\n",
                "          5,\r\n",
                "          [id],\r\n",
                "          0,\r\n",
                "          16\r\n",
                "FROM      [dbo].[participant]\r\n",
                "WHERE     [name] = N'Крум Апостолов';\r\n",
                "\r\n",
                "INSERT INTO [desafio].[dbo].[teritoryLog] ([territoryId], [seasonId], [participantId], [sequenceNumber], [episode])\r\n",
                "SELECT    (\r\n",
                "          SELECT    [id]\r\n",
                "          FROM      [dbo].[teritory]\r\n",
                "          WHERE     [name] = N'Стопанството'\r\n",
                "          ) AS skillId,\r\n",
                "          5,\r\n",
                "          [id],\r\n",
                "          0,\r\n",
                "          16\r\n",
                "FROM      [dbo].[participant]\r\n",
                "WHERE     [name] = N'Николай Костадинов';\r\n",
                "\r\n",
                "INSERT INTO [desafio].[dbo].[teritoryLog] ([territoryId], [seasonId], [participantId], [sequenceNumber], [episode])\r\n",
                "SELECT    (\r\n",
                "          SELECT    [id]\r\n",
                "          FROM      [dbo].[teritory]\r\n",
                "          WHERE     [name] = N'Стопанството'\r\n",
                "          ) AS skillId,\r\n",
                "          5,\r\n",
                "          [id],\r\n",
                "          0,\r\n",
                "          16\r\n",
                "FROM      [dbo].[participant]\r\n",
                "WHERE     [name] = N'Радостин Кръстев';\r\n",
                "\r\n",
                "/*17*/\r\n",
                "\r\n",
                "INSERT INTO [desafio].[dbo].[teritoryLog] ([territoryId], [seasonId], [participantId], [sequenceNumber], [episode])\r\n",
                "SELECT    (\r\n",
                "          SELECT    [id]\r\n",
                "          FROM      [dbo].[teritory]\r\n",
                "          WHERE     [name] = N'Резиденция'\r\n",
                "          ) AS skillId,\r\n",
                "          5,\r\n",
                "          [id],\r\n",
                "          0,\r\n",
                "          17\r\n",
                "FROM      [dbo].[participant]\r\n",
                "WHERE     [name] = N'Виктория Йорданова';\r\n",
                "\r\n",
                "INSERT INTO [desafio].[dbo].[teritoryLog] ([territoryId], [seasonId], [participantId], [sequenceNumber], [episode])\r\n",
                "SELECT    (\r\n",
                "          SELECT    [id]\r\n",
                "          FROM      [dbo].[teritory]\r\n",
                "          WHERE     [name] = N'Дивата река'\r\n",
                "          ) AS skillId,\r\n",
                "          5,\r\n",
                "          [id],\r\n",
                "          0,\r\n",
                "          17\r\n",
                "FROM      [dbo].[participant]\r\n",
                "WHERE     [name] = N'Момчил Василев';\r\n",
                "\r\n",
                "INSERT INTO [desafio].[dbo].[teritoryLog] ([territoryId], [seasonId], [participantId], [sequenceNumber], [episode])\r\n",
                "SELECT    (\r\n",
                "          SELECT    [id]\r\n",
                "          FROM      [dbo].[teritory]\r\n",
                "          WHERE     [name] = N'Резиденция'\r\n",
                "          ) AS skillId,\r\n",
                "          5,\r\n",
                "          [id],\r\n",
                "          0,\r\n",
                "          17\r\n",
                "FROM      [dbo].[participant]\r\n",
                "WHERE     [name] = N'Денислава Велкова';\r\n",
                "\r\n",
                "/*18*/\r\n",
                "\r\n",
                "INSERT INTO [desafio].[dbo].[teritoryLog] ([territoryId], [seasonId], [participantId], [sequenceNumber], [episode])\r\n",
                "SELECT    (\r\n",
                "          SELECT    [id]\r\n",
                "          FROM      [dbo].[teritory]\r\n",
                "          WHERE     [name] = N'Чистилище'\r\n",
                "          ) AS skillId,\r\n",
                "          5,\r\n",
                "          [id],\r\n",
                "          0,\r\n",
                "          18\r\n",
                "FROM      [dbo].[participant]\r\n",
                "WHERE     [name] = N'Виктория Йорданова';\r\n",
                "\r\n",
                "/*19*/\r\n",
                "\r\n",
                "INSERT INTO [desafio].[dbo].[teritoryLog] ([territoryId], [seasonId], [participantId], [sequenceNumber], [episode])\r\n",
                "SELECT    (\r\n",
                "          SELECT    [id]\r\n",
                "          FROM      [dbo].[teritory]\r\n",
                "          WHERE     [name] = N'Резиденция'\r\n",
                "          ) AS skillId,\r\n",
                "          5,\r\n",
                "          [id],\r\n",
                "          0,\r\n",
                "          18\r\n",
                "FROM      [dbo].[participant]\r\n",
                "WHERE     [name] = N'Виктория Йорданова';\r\n",
                "\r\n",
                "INSERT INTO [desafio].[dbo].[teritoryLog] ([territoryId], [seasonId], [participantId], [sequenceNumber], [episode])\r\n",
                "SELECT    (\r\n",
                "          SELECT    [id]\r\n",
                "          FROM      [dbo].[teritory]\r\n",
                "          WHERE     [name] = N'Чистилище'\r\n",
                "          ) AS skillId,\r\n",
                "          5,\r\n",
                "          [id],\r\n",
                "          0,\r\n",
                "          18\r\n",
                "FROM      [dbo].[participant]\r\n",
                "WHERE     [name] = N'Мартин Николов „Елвиса“';"
            ],
            "metadata": {
                "language": "sql",
                "azdata_cell_guid": "156ec67a-7d30-4ebd-a534-534a17d268a5"
            },
            "outputs": [
                {
                    "output_type": "display_data",
                    "data": {
                        "text/html": "Commands completed successfully."
                    },
                    "metadata": {}
                },
                {
                    "output_type": "display_data",
                    "data": {
                        "text/html": "Commands completed successfully."
                    },
                    "metadata": {}
                },
                {
                    "output_type": "display_data",
                    "data": {
                        "text/html": "Commands completed successfully."
                    },
                    "metadata": {}
                },
                {
                    "output_type": "display_data",
                    "data": {
                        "text/html": "Commands completed successfully."
                    },
                    "metadata": {}
                },
                {
                    "output_type": "display_data",
                    "data": {
                        "text/html": "(1 row affected)"
                    },
                    "metadata": {}
                },
                {
                    "output_type": "display_data",
                    "data": {
                        "text/html": "(1 row affected)"
                    },
                    "metadata": {}
                },
                {
                    "output_type": "display_data",
                    "data": {
                        "text/html": "(1 row affected)"
                    },
                    "metadata": {}
                },
                {
                    "output_type": "display_data",
                    "data": {
                        "text/html": "(1 row affected)"
                    },
                    "metadata": {}
                },
                {
                    "output_type": "display_data",
                    "data": {
                        "text/html": "(1 row affected)"
                    },
                    "metadata": {}
                },
                {
                    "output_type": "display_data",
                    "data": {
                        "text/html": "(1 row affected)"
                    },
                    "metadata": {}
                },
                {
                    "output_type": "display_data",
                    "data": {
                        "text/html": "(1 row affected)"
                    },
                    "metadata": {}
                },
                {
                    "output_type": "display_data",
                    "data": {
                        "text/html": "(1 row affected)"
                    },
                    "metadata": {}
                },
                {
                    "output_type": "display_data",
                    "data": {
                        "text/html": "(1 row affected)"
                    },
                    "metadata": {}
                },
                {
                    "output_type": "display_data",
                    "data": {
                        "text/html": "(1 row affected)"
                    },
                    "metadata": {}
                },
                {
                    "output_type": "display_data",
                    "data": {
                        "text/html": "(1 row affected)"
                    },
                    "metadata": {}
                },
                {
                    "output_type": "display_data",
                    "data": {
                        "text/html": "(1 row affected)"
                    },
                    "metadata": {}
                },
                {
                    "output_type": "display_data",
                    "data": {
                        "text/html": "(1 row affected)"
                    },
                    "metadata": {}
                },
                {
                    "output_type": "display_data",
                    "data": {
                        "text/html": "(1 row affected)"
                    },
                    "metadata": {}
                },
                {
                    "output_type": "display_data",
                    "data": {
                        "text/html": "(1 row affected)"
                    },
                    "metadata": {}
                },
                {
                    "output_type": "display_data",
                    "data": {
                        "text/html": "(1 row affected)"
                    },
                    "metadata": {}
                },
                {
                    "output_type": "display_data",
                    "data": {
                        "text/html": "(1 row affected)"
                    },
                    "metadata": {}
                },
                {
                    "output_type": "display_data",
                    "data": {
                        "text/html": "(1 row affected)"
                    },
                    "metadata": {}
                },
                {
                    "output_type": "display_data",
                    "data": {
                        "text/html": "(1 row affected)"
                    },
                    "metadata": {}
                },
                {
                    "output_type": "display_data",
                    "data": {
                        "text/html": "(1 row affected)"
                    },
                    "metadata": {}
                },
                {
                    "output_type": "display_data",
                    "data": {
                        "text/html": "(1 row affected)"
                    },
                    "metadata": {}
                },
                {
                    "output_type": "display_data",
                    "data": {
                        "text/html": "(1 row affected)"
                    },
                    "metadata": {}
                },
                {
                    "output_type": "display_data",
                    "data": {
                        "text/html": "(1 row affected)"
                    },
                    "metadata": {}
                },
                {
                    "output_type": "display_data",
                    "data": {
                        "text/html": "(1 row affected)"
                    },
                    "metadata": {}
                },
                {
                    "output_type": "display_data",
                    "data": {
                        "text/html": "(1 row affected)"
                    },
                    "metadata": {}
                },
                {
                    "output_type": "display_data",
                    "data": {
                        "text/html": "(1 row affected)"
                    },
                    "metadata": {}
                },
                {
                    "output_type": "display_data",
                    "data": {
                        "text/html": "(1 row affected)"
                    },
                    "metadata": {}
                },
                {
                    "output_type": "display_data",
                    "data": {
                        "text/html": "(1 row affected)"
                    },
                    "metadata": {}
                },
                {
                    "output_type": "display_data",
                    "data": {
                        "text/html": "(1 row affected)"
                    },
                    "metadata": {}
                },
                {
                    "output_type": "display_data",
                    "data": {
                        "text/html": "(1 row affected)"
                    },
                    "metadata": {}
                },
                {
                    "output_type": "display_data",
                    "data": {
                        "text/html": "(1 row affected)"
                    },
                    "metadata": {}
                },
                {
                    "output_type": "display_data",
                    "data": {
                        "text/html": "(1 row affected)"
                    },
                    "metadata": {}
                },
                {
                    "output_type": "display_data",
                    "data": {
                        "text/html": "(1 row affected)"
                    },
                    "metadata": {}
                },
                {
                    "output_type": "display_data",
                    "data": {
                        "text/html": "(1 row affected)"
                    },
                    "metadata": {}
                },
                {
                    "output_type": "display_data",
                    "data": {
                        "text/html": "(1 row affected)"
                    },
                    "metadata": {}
                },
                {
                    "output_type": "display_data",
                    "data": {
                        "text/html": "(1 row affected)"
                    },
                    "metadata": {}
                },
                {
                    "output_type": "display_data",
                    "data": {
                        "text/html": "(1 row affected)"
                    },
                    "metadata": {}
                },
                {
                    "output_type": "display_data",
                    "data": {
                        "text/html": "(1 row affected)"
                    },
                    "metadata": {}
                },
                {
                    "output_type": "display_data",
                    "data": {
                        "text/html": "(1 row affected)"
                    },
                    "metadata": {}
                },
                {
                    "output_type": "display_data",
                    "data": {
                        "text/html": "(1 row affected)"
                    },
                    "metadata": {}
                },
                {
                    "output_type": "display_data",
                    "data": {
                        "text/html": "(1 row affected)"
                    },
                    "metadata": {}
                },
                {
                    "output_type": "display_data",
                    "data": {
                        "text/html": "(1 row affected)"
                    },
                    "metadata": {}
                },
                {
                    "output_type": "display_data",
                    "data": {
                        "text/html": "(1 row affected)"
                    },
                    "metadata": {}
                },
                {
                    "output_type": "display_data",
                    "data": {
                        "text/html": "(1 row affected)"
                    },
                    "metadata": {}
                },
                {
                    "output_type": "display_data",
                    "data": {
                        "text/html": "(1 row affected)"
                    },
                    "metadata": {}
                },
                {
                    "output_type": "display_data",
                    "data": {
                        "text/html": "(1 row affected)"
                    },
                    "metadata": {}
                },
                {
                    "output_type": "display_data",
                    "data": {
                        "text/html": "(1 row affected)"
                    },
                    "metadata": {}
                },
                {
                    "output_type": "display_data",
                    "data": {
                        "text/html": "(1 row affected)"
                    },
                    "metadata": {}
                },
                {
                    "output_type": "display_data",
                    "data": {
                        "text/html": "(1 row affected)"
                    },
                    "metadata": {}
                },
                {
                    "output_type": "display_data",
                    "data": {
                        "text/html": "(1 row affected)"
                    },
                    "metadata": {}
                },
                {
                    "output_type": "display_data",
                    "data": {
                        "text/html": "(1 row affected)"
                    },
                    "metadata": {}
                },
                {
                    "output_type": "display_data",
                    "data": {
                        "text/html": "(1 row affected)"
                    },
                    "metadata": {}
                },
                {
                    "output_type": "display_data",
                    "data": {
                        "text/html": "(1 row affected)"
                    },
                    "metadata": {}
                },
                {
                    "output_type": "display_data",
                    "data": {
                        "text/html": "(1 row affected)"
                    },
                    "metadata": {}
                },
                {
                    "output_type": "display_data",
                    "data": {
                        "text/html": "(1 row affected)"
                    },
                    "metadata": {}
                },
                {
                    "output_type": "display_data",
                    "data": {
                        "text/html": "(1 row affected)"
                    },
                    "metadata": {}
                },
                {
                    "output_type": "display_data",
                    "data": {
                        "text/html": "(1 row affected)"
                    },
                    "metadata": {}
                },
                {
                    "output_type": "display_data",
                    "data": {
                        "text/html": "(1 row affected)"
                    },
                    "metadata": {}
                },
                {
                    "output_type": "display_data",
                    "data": {
                        "text/html": "(1 row affected)"
                    },
                    "metadata": {}
                },
                {
                    "output_type": "display_data",
                    "data": {
                        "text/html": "(1 row affected)"
                    },
                    "metadata": {}
                },
                {
                    "output_type": "display_data",
                    "data": {
                        "text/html": "(1 row affected)"
                    },
                    "metadata": {}
                },
                {
                    "output_type": "display_data",
                    "data": {
                        "text/html": "(1 row affected)"
                    },
                    "metadata": {}
                },
                {
                    "output_type": "display_data",
                    "data": {
                        "text/html": "(1 row affected)"
                    },
                    "metadata": {}
                },
                {
                    "output_type": "display_data",
                    "data": {
                        "text/html": "(1 row affected)"
                    },
                    "metadata": {}
                },
                {
                    "output_type": "display_data",
                    "data": {
                        "text/html": "(1 row affected)"
                    },
                    "metadata": {}
                },
                {
                    "output_type": "display_data",
                    "data": {
                        "text/html": "(1 row affected)"
                    },
                    "metadata": {}
                },
                {
                    "output_type": "display_data",
                    "data": {
                        "text/html": "(1 row affected)"
                    },
                    "metadata": {}
                },
                {
                    "output_type": "display_data",
                    "data": {
                        "text/html": "(1 row affected)"
                    },
                    "metadata": {}
                },
                {
                    "output_type": "display_data",
                    "data": {
                        "text/html": "(1 row affected)"
                    },
                    "metadata": {}
                },
                {
                    "output_type": "display_data",
                    "data": {
                        "text/html": "(1 row affected)"
                    },
                    "metadata": {}
                },
                {
                    "output_type": "display_data",
                    "data": {
                        "text/html": "(1 row affected)"
                    },
                    "metadata": {}
                },
                {
                    "output_type": "display_data",
                    "data": {
                        "text/html": "(1 row affected)"
                    },
                    "metadata": {}
                },
                {
                    "output_type": "display_data",
                    "data": {
                        "text/html": "(1 row affected)"
                    },
                    "metadata": {}
                },
                {
                    "output_type": "display_data",
                    "data": {
                        "text/html": "Total execution time: 00:00:01.226"
                    },
                    "metadata": {}
                }
            ],
            "execution_count": 130
        },
        {
            "cell_type": "code",
            "source": [
                "USE [desafio];\r\n",
                "GO\r\n",
                "\r\n",
                "-- Create a new table called '[participantsBio]' in schema '[dbo]'\r\n",
                "-- Drop the table if it already exists\r\n",
                "IF OBJECT_ID('[dbo].[participantsBio]', 'U') IS NOT NULL\r\n",
                "DROP TABLE [dbo].[participantsBio]\r\n",
                "GO\r\n",
                "-- Create the table in the specified schema\r\n",
                "CREATE TABLE [dbo].[participantsBio]\r\n",
                "(\r\n",
                "    [id] INT NOT NULL PRIMARY KEY IDENTITY, -- Primary Key column\r\n",
                "    [participantId] INT NOT NULL,\r\n",
                "    [bio] NVARCHAR(500) NOT NULL\r\n",
                "    -- Specify more columns here\r\n",
                ");\r\n",
                "GO\r\n",
                "\r\n",
                "INSERT    INTO [dbo].[participantsBio] ([participantId], [bio])\r\n",
                "SELECT    [id],\r\n",
                "          N'Мария Оряшкова е на 34 години и от Челопеч. Тя е десеткратна европейска шампионка по самбо и шест пъти носителка на световната титла. Оряшкова е републиканска шампионка и вицешампион на Европа по джудо, републиканска шампионка по борба и републиканска и европейска шампионка по сумо. Има докторантура в направление “Спорт” в Национална спортна академия. Не харесва егоцентрици и дървени философи.'\r\n",
                "FROM      [desafio].[dbo].[participant]\r\n",
                "WHERE     [desafio].[dbo].[participant].[name] = N'Мария Оряшкова'\r\n",
                "AND       [desafio].[dbo].[participant].[age] = 34;\r\n",
                "\r\n",
                "INSERT    INTO [dbo].[participantsBio] ([participantId], [bio])\r\n",
                "SELECT    [id],\r\n",
                "          N'Радосвета Симеонова е на 29 години, от гр. Добрич. По професия е учител и преподава английски език на ученици от 5-ти до 7-ми клас. Определя себе си като динамична личност и тренира всеки ден. Маратонец е и е един от най-разпознаваемите спортисти в родния си град. Била е над 10 пъти републиканска шампионка по спортно ходене 20 км и балканска вицешампионка по маратон. Обвързана е. \r\n",
                "\r\n",
                "Радосвета напусна предаването на 15 септември.'\r\n",
                "FROM      [desafio].[dbo].[participant]\r\n",
                "WHERE     [desafio].[dbo].[participant].[name] = N'Радосвета Симеонова'\r\n",
                "AND       [desafio].[dbo].[participant].[age] = 29;\r\n",
                "\r\n",
                "INSERT    INTO [dbo].[participantsBio] ([participantId], [bio])\r\n",
                "SELECT    [id],\r\n",
                "          N'Трифон Симеонов-Туньо е на 33 години, от гр. Пазарджик. Работи като редактор-репортер в кабелна телевизия. Обича да задава провокативни въпроси и да спори. Определя себе си като “доста дразнеща личност”. Смята, че е много подготвен за стратегическата част от играта. Изгледал е всички епизоди на “Игри на волята” и ги е анализирал като част от подготовката си за състезанието.  \r\n",
                "\r\n",
                "Туньо е първият отпаднал от \"Игри на волята\" 5 на 8 септември.'\r\n",
                "FROM      [desafio].[dbo].[participant]\r\n",
                "WHERE     [desafio].[dbo].[participant].[name] = N'Трифон Симеонов „Туньо“'\r\n",
                "AND       [desafio].[dbo].[participant].[age] = 33;\r\n",
                "\r\n",
                "INSERT    INTO [dbo].[participantsBio] ([participantId], [bio])\r\n",
                "SELECT    [id],\r\n",
                "          N'Веселина Маринова е на 29 години, от гр. Русе. Живее и работи във Варна. По професия е кеш анализатор. Като своя слабост посочва, че е избухливостта. Като дете тренира волейбол, но се отказва заради ръста си и започва да се занимава с фитнес. В залата е седем дни в седмицата. Тя е републиканска шампионка и се готви за световно първенство. \r\n",
                "\r\n",
                "Влиза в “Игри на волята” с еднояйчната си близначка Теодора Маринова. \r\n",
                "\r\n",
                "Веселина напусна предването на 14 септември.'\r\n",
                "FROM      [desafio].[dbo].[participant]\r\n",
                "WHERE     [desafio].[dbo].[participant].[name] = N'Веселина Маринова'\r\n",
                "AND       [desafio].[dbo].[participant].[age] = 29;\r\n",
                "\r\n",
                "INSERT    INTO [dbo].[participantsBio] ([participantId], [bio])\r\n",
                "SELECT    [id],\r\n",
                "          N'Валентин Петров е на 48 години, от гр. Хасково. Той е трикратен балкански шампион по културизъм и треньор. По професия е инженер по телекомуникации. Започва да се занимава професионално със спорт едва на 37 години.  \r\n",
                "\r\n",
                "Влиза в “Игри на волята” с дъщеря си Елена Петрова.  \r\n",
                "\r\n",
                "Валентин напусна предването на 22 септември.'\r\n",
                "FROM      [desafio].[dbo].[participant]\r\n",
                "WHERE     [desafio].[dbo].[participant].[name] = N'Валентин Петров'\r\n",
                "AND       [desafio].[dbo].[participant].[age] = 48;\r\n",
                "\r\n",
                "INSERT    INTO [dbo].[participantsBio] ([participantId], [bio])\r\n",
                "SELECT    [id],\r\n",
                "          N'Васил Василев е на 31 години, от гр. София. Работи като специалист по вътрешен контрол. Определя се като авантюрист, който обича екстремни спортове и преживявания. Тренирал е плуване и има две републикански титли по кикбокс. Състезател е по триатлон. \r\n",
                "\r\n",
                "Влиза в “Игри на волята” с брат си Момчил.  \r\n",
                "\r\n",
                "Васил напусна предването на 22 септември.'\r\n",
                "FROM      [desafio].[dbo].[participant]\r\n",
                "WHERE     [desafio].[dbo].[participant].[name] = N'Васил Василев'\r\n",
                "AND       [desafio].[dbo].[participant].[age] = 31;"
            ],
            "metadata": {
                "azdata_cell_guid": "1ebf8ae8-bf9b-45f3-9924-b60aa86129ab",
                "language": "sql",
                "tags": []
            },
            "outputs": [
                {
                    "output_type": "display_data",
                    "data": {
                        "text/html": "Commands completed successfully."
                    },
                    "metadata": {}
                },
                {
                    "output_type": "display_data",
                    "data": {
                        "text/html": "Commands completed successfully."
                    },
                    "metadata": {}
                },
                {
                    "output_type": "display_data",
                    "data": {
                        "text/html": "Commands completed successfully."
                    },
                    "metadata": {}
                },
                {
                    "output_type": "display_data",
                    "data": {
                        "text/html": "(1 row affected)"
                    },
                    "metadata": {}
                },
                {
                    "output_type": "display_data",
                    "data": {
                        "text/html": "(1 row affected)"
                    },
                    "metadata": {}
                },
                {
                    "output_type": "display_data",
                    "data": {
                        "text/html": "(1 row affected)"
                    },
                    "metadata": {}
                },
                {
                    "output_type": "display_data",
                    "data": {
                        "text/html": "(1 row affected)"
                    },
                    "metadata": {}
                },
                {
                    "output_type": "display_data",
                    "data": {
                        "text/html": "(1 row affected)"
                    },
                    "metadata": {}
                },
                {
                    "output_type": "display_data",
                    "data": {
                        "text/html": "(1 row affected)"
                    },
                    "metadata": {}
                },
                {
                    "output_type": "display_data",
                    "data": {
                        "text/html": "Total execution time: 00:00:00.698"
                    },
                    "metadata": {}
                }
            ],
            "execution_count": 90
        },
        {
            "cell_type": "code",
            "source": [
                "USE [desafio];\r\n",
                "GO\r\n",
                "\r\n",
                "-- Create a new table called '[participantFinalResult]' in schema '[dbo]'\r\n",
                "-- Drop the table if it already exists\r\n",
                "IF OBJECT_ID('[dbo].[participantFinalResult]', 'U') IS NOT NULL\r\n",
                "DROP TABLE [dbo].[participantFinalResult]\r\n",
                "GO\r\n",
                "-- Create the table in the specified schema\r\n",
                "CREATE TABLE [dbo].[participantFinalResult]\r\n",
                "(\r\n",
                "    [id] INT NOT NULL PRIMARY KEY IDENTITY, -- Primary Key column\r\n",
                "    [participantId] INT NOT NULL,\r\n",
                "    [result] NVARCHAR(50) NOT NULL,\r\n",
                "    [seasonId] INT NOT NULL,\r\n",
                "    [episode] INT NOT NULL,\r\n",
                "    [eliminatedById] INT\r\n",
                "    -- Specify more columns here\r\n",
                ");\r\n",
                "GO\r\n",
                "\r\n",
                "/*4*/\r\n",
                "\r\n",
                "INSERT    INTO desafio.dbo.participantFinalResult (\r\n",
                "          participantId,\r\n",
                "          [result],\r\n",
                "          seasonId,\r\n",
                "          episode,\r\n",
                "          eliminatedById\r\n",
                "          )\r\n",
                "SELECT    (\r\n",
                "          SELECT    [id]\r\n",
                "          FROM      [desafio].[dbo].[participant]\r\n",
                "          WHERE     [desafio].[dbo].[participant].[name] = N'Илина Георгиева'\r\n",
                "          AND       [desafio].[dbo].[participant].[age] = 30\r\n",
                "          ),\r\n",
                "          N'Елиминиран',\r\n",
                "          4,\r\n",
                "          1,\r\n",
                "          (\r\n",
                "          SELECT    [id]\r\n",
                "          FROM      [desafio].[dbo].[participant]\r\n",
                "          WHERE     [desafio].[dbo].[participant].[name] = N'Виктория Григорова'\r\n",
                "          AND       [desafio].[dbo].[participant].[age] = 32\r\n",
                "          );\r\n",
                "\r\n",
                "INSERT    INTO desafio.dbo.participantFinalResult (\r\n",
                "          participantId,\r\n",
                "          [result],\r\n",
                "          seasonId,\r\n",
                "          episode,\r\n",
                "          eliminatedById\r\n",
                "          )\r\n",
                "SELECT    (\r\n",
                "          SELECT    [id]\r\n",
                "          FROM      [desafio].[dbo].[participant]\r\n",
                "          WHERE     [desafio].[dbo].[participant].[name] = N'Иван Мирчев'\r\n",
                "          AND       [desafio].[dbo].[participant].[age] = 29\r\n",
                "          ),\r\n",
                "          N'Елиминиран след гласуване на племенен съвет',\r\n",
                "          4,\r\n",
                "          2,\r\n",
                "          null;\r\n",
                "\r\n",
                "INSERT    INTO [desafio].[dbo].[participantFinalResult] (\r\n",
                "          [participantId],\r\n",
                "          [result],\r\n",
                "          [seasonId],\r\n",
                "          [episode],\r\n",
                "          [eliminatedById]\r\n",
                "          )\r\n",
                "SELECT    (\r\n",
                "          SELECT    [id]\r\n",
                "          FROM      [desafio].[dbo].[participant]\r\n",
                "          WHERE     [desafio].[dbo].[participant].[name] = N'Димитър Куков'\r\n",
                "          AND       [desafio].[dbo].[participant].[age] = 32\r\n",
                "          ),\r\n",
                "          N'Елиминиран',\r\n",
                "          4,\r\n",
                "          3,\r\n",
                "          (\r\n",
                "          SELECT    [id]\r\n",
                "          FROM      [desafio].[dbo].[participant]\r\n",
                "          WHERE     [desafio].[dbo].[participant].[name] = N'Генчо Генчев'\r\n",
                "          AND       [desafio].[dbo].[participant].[age] = 33\r\n",
                "          );\r\n",
                "\r\n",
                "INSERT    INTO [desafio].[dbo].[participantFinalResult] (\r\n",
                "          [participantId],\r\n",
                "          [result],\r\n",
                "          [seasonId],\r\n",
                "          [episode],\r\n",
                "          [eliminatedById]\r\n",
                "          )\r\n",
                "SELECT    (\r\n",
                "          SELECT    [id]\r\n",
                "          FROM      [desafio].[dbo].[participant]\r\n",
                "          WHERE     [desafio].[dbo].[participant].[name] = N'Иван Гайтанов'\r\n",
                "          AND       [desafio].[dbo].[participant].[age] = 20\r\n",
                "          ),\r\n",
                "          N'Елиминиран след гласуване на племенен съвет',\r\n",
                "          4,\r\n",
                "          4,\r\n",
                "          null;\r\n",
                "\r\n",
                "INSERT    INTO [desafio].[dbo].[participantFinalResult] (\r\n",
                "          [participantId],\r\n",
                "          [result],\r\n",
                "          [seasonId],\r\n",
                "          [episode],\r\n",
                "          [eliminatedById]\r\n",
                "          )\r\n",
                "SELECT    (\r\n",
                "          SELECT    [id]\r\n",
                "          FROM      [desafio].[dbo].[participant]\r\n",
                "          WHERE     [desafio].[dbo].[participant].[name] = N'Велислава Ангелова'\r\n",
                "          AND       [desafio].[dbo].[participant].[age] = 29\r\n",
                "          ),\r\n",
                "          N'Елиминиран',\r\n",
                "          4,\r\n",
                "          5,\r\n",
                "          (\r\n",
                "          SELECT    [id]\r\n",
                "          FROM      [desafio].[dbo].[participant]\r\n",
                "          WHERE     [desafio].[dbo].[participant].[name] = N'Георги Янев'\r\n",
                "          AND       [desafio].[dbo].[participant].[age] = 21\r\n",
                "          );\r\n",
                "\r\n",
                "INSERT    INTO [desafio].[dbo].[participantFinalResult] (\r\n",
                "          [participantId],\r\n",
                "          [result],\r\n",
                "          [seasonId],\r\n",
                "          [episode],\r\n",
                "          [eliminatedById]\r\n",
                "          )\r\n",
                "SELECT    (\r\n",
                "          SELECT    [id]\r\n",
                "          FROM      [desafio].[dbo].[participant]\r\n",
                "          WHERE     [desafio].[dbo].[participant].[name] = N'Елина Пашаланова'\r\n",
                "          AND       [desafio].[dbo].[participant].[age] = 30\r\n",
                "          ),\r\n",
                "          N'Елиминиран',\r\n",
                "          4,\r\n",
                "          6,\r\n",
                "          (\r\n",
                "          SELECT    [id]\r\n",
                "          FROM      [desafio].[dbo].[participant]\r\n",
                "          WHERE     [desafio].[dbo].[participant].[name] = N'Аспарух Тотев'\r\n",
                "          AND       [desafio].[dbo].[participant].[age] = 23\r\n",
                "          );\r\n",
                "\r\n",
                "INSERT    INTO [desafio].[dbo].[participantFinalResult] (\r\n",
                "          [participantId],\r\n",
                "          [result],\r\n",
                "          [seasonId],\r\n",
                "          [episode],\r\n",
                "          [eliminatedById]\r\n",
                "          )\r\n",
                "SELECT    (\r\n",
                "          SELECT    [id]\r\n",
                "          FROM      [desafio].[dbo].[participant]\r\n",
                "          WHERE     [desafio].[dbo].[participant].[name] = N'Аспарух Тотев'\r\n",
                "          AND       [desafio].[dbo].[participant].[age] = 23\r\n",
                "          ),\r\n",
                "          N'Елиминиран',\r\n",
                "          4,\r\n",
                "          7,\r\n",
                "          (\r\n",
                "          SELECT    [id]\r\n",
                "          FROM      [desafio].[dbo].[participant]\r\n",
                "          WHERE     [desafio].[dbo].[participant].[name] = N'Филип Атанасов'\r\n",
                "          AND       [desafio].[dbo].[participant].[age] = 29\r\n",
                "          );\r\n",
                "\r\n",
                "INSERT    INTO [desafio].[dbo].[participantFinalResult] (\r\n",
                "          [participantId],\r\n",
                "          [result],\r\n",
                "          [seasonId],\r\n",
                "          [episode],\r\n",
                "          [eliminatedById]\r\n",
                "          )\r\n",
                "SELECT    (\r\n",
                "          SELECT    [id]\r\n",
                "          FROM      [desafio].[dbo].[participant]\r\n",
                "          WHERE     [desafio].[dbo].[participant].[name] = N'Веселина Ефремова'\r\n",
                "          AND       [desafio].[dbo].[participant].[age] = 42\r\n",
                "          ),\r\n",
                "          N'Елиминиран след загуба в битка за спасение',\r\n",
                "          4,\r\n",
                "          8,\r\n",
                "          null;\r\n",
                "\r\n",
                "INSERT    INTO [desafio].[dbo].[participantFinalResult] (\r\n",
                "          [participantId],\r\n",
                "          [result],\r\n",
                "          [seasonId],\r\n",
                "          [episode],\r\n",
                "          [eliminatedById]\r\n",
                "          )\r\n",
                "SELECT    (\r\n",
                "          SELECT    [id]\r\n",
                "          FROM      [desafio].[dbo].[participant]\r\n",
                "          WHERE     [desafio].[dbo].[participant].[name] = N'Николай Чакалов'\r\n",
                "          AND       [desafio].[dbo].[participant].[age] = 26\r\n",
                "          ),\r\n",
                "          N'Елиминиран',\r\n",
                "          4,\r\n",
                "          9,\r\n",
                "          (\r\n",
                "          SELECT    [id]\r\n",
                "          FROM      [desafio].[dbo].[participant]\r\n",
                "          WHERE     [desafio].[dbo].[participant].[name] = N'Филип Атанасов'\r\n",
                "          AND       [desafio].[dbo].[participant].[age] = 29\r\n",
                "          );\r\n",
                "\r\n",
                "INSERT    INTO [desafio].[dbo].[participantFinalResult] (\r\n",
                "          [participantId],\r\n",
                "          [result],\r\n",
                "          [seasonId],\r\n",
                "          [episode],\r\n",
                "          [eliminatedById]\r\n",
                "          )\r\n",
                "SELECT    (\r\n",
                "          SELECT    [id]\r\n",
                "          FROM      [desafio].[dbo].[participant]\r\n",
                "          WHERE     [desafio].[dbo].[participant].[name] = N'Валери Григоров'\r\n",
                "          AND       [desafio].[dbo].[participant].[age] = 23\r\n",
                "          ),\r\n",
                "          N'Елиминиран след загуба в капитанска битка',\r\n",
                "          4,\r\n",
                "          10,\r\n",
                "          (\r\n",
                "          SELECT    [id]\r\n",
                "          FROM      [desafio].[dbo].[participant]\r\n",
                "          WHERE     [desafio].[dbo].[participant].[name] = N'Зорница Стоилова'\r\n",
                "          AND       [desafio].[dbo].[participant].[age] = 21\r\n",
                "          );\r\n",
                "\r\n",
                "INSERT    INTO [desafio].[dbo].[participantFinalResult] (\r\n",
                "          [participantId],\r\n",
                "          [result],\r\n",
                "          [seasonId],\r\n",
                "          [episode],\r\n",
                "          [eliminatedById]\r\n",
                "          )\r\n",
                "SELECT    (\r\n",
                "          SELECT    [id]\r\n",
                "          FROM      [desafio].[dbo].[participant]\r\n",
                "          WHERE     [desafio].[dbo].[participant].[name] = N'Звезделина Георгиева'\r\n",
                "          AND       [desafio].[dbo].[participant].[age] = 30\r\n",
                "          ),\r\n",
                "          N'Елиминиран',\r\n",
                "          4,\r\n",
                "          11,\r\n",
                "          (\r\n",
                "          SELECT    [id]\r\n",
                "          FROM      [desafio].[dbo].[participant]\r\n",
                "          WHERE     [desafio].[dbo].[participant].[name] = N'Генчо Генчев'\r\n",
                "          AND       [desafio].[dbo].[participant].[age] = 33\r\n",
                "          );\r\n",
                "\r\n",
                "INSERT    INTO [desafio].[dbo].[participantFinalResult] (\r\n",
                "          [participantId],\r\n",
                "          [result],\r\n",
                "          [seasonId],\r\n",
                "          [episode],\r\n",
                "          [eliminatedById]\r\n",
                "          )\r\n",
                "SELECT    (\r\n",
                "          SELECT    [id]\r\n",
                "          FROM      [desafio].[dbo].[participant]\r\n",
                "          WHERE     [desafio].[dbo].[participant].[name] = N'Касим Касимов'\r\n",
                "          AND       [desafio].[dbo].[participant].[age] = 21\r\n",
                "          ),\r\n",
                "          N'Елиминиран',\r\n",
                "          4,\r\n",
                "          12,\r\n",
                "          (\r\n",
                "          SELECT    [id]\r\n",
                "          FROM      [desafio].[dbo].[participant]\r\n",
                "          WHERE     [desafio].[dbo].[participant].[name] = N'Генчо Генчев'\r\n",
                "          AND       [desafio].[dbo].[participant].[age] = 33\r\n",
                "          );\r\n",
                "\r\n",
                "INSERT    INTO [desafio].[dbo].[participantFinalResult] (\r\n",
                "          [participantId],\r\n",
                "          [result],\r\n",
                "          [seasonId],\r\n",
                "          [episode],\r\n",
                "          [eliminatedById]\r\n",
                "          )\r\n",
                "SELECT    (\r\n",
                "          SELECT    [id]\r\n",
                "          FROM      [desafio].[dbo].[participant]\r\n",
                "          WHERE     [desafio].[dbo].[participant].[name] = N'Илиян Цветков'\r\n",
                "          AND       [desafio].[dbo].[participant].[age] = 20\r\n",
                "          ),\r\n",
                "          N'Елиминиран след загуба в битка за спасение',\r\n",
                "          4,\r\n",
                "          13,\r\n",
                "          (\r\n",
                "          SELECT    [id]\r\n",
                "          FROM      [desafio].[dbo].[participant]\r\n",
                "          WHERE     [desafio].[dbo].[participant].[name] = N'Генчо Генчев'\r\n",
                "          AND       [desafio].[dbo].[participant].[age] = 33\r\n",
                "          );\r\n",
                "\r\n",
                "INSERT    INTO [desafio].[dbo].[participantFinalResult] (\r\n",
                "          [participantId],\r\n",
                "          [result],\r\n",
                "          [seasonId],\r\n",
                "          [episode],\r\n",
                "          [eliminatedById]\r\n",
                "          )\r\n",
                "SELECT    (\r\n",
                "          SELECT    [id]\r\n",
                "          FROM      [desafio].[dbo].[participant]\r\n",
                "          WHERE     [desafio].[dbo].[participant].[name] = N'Цветан Петров'\r\n",
                "          AND       [desafio].[dbo].[participant].[age] = 34\r\n",
                "          ),\r\n",
                "          N'Елиминиран',\r\n",
                "          4,\r\n",
                "          14,\r\n",
                "          (\r\n",
                "          SELECT    [id]\r\n",
                "          FROM      [desafio].[dbo].[participant]\r\n",
                "          WHERE     [desafio].[dbo].[participant].[name] = N'Генчо Генчев'\r\n",
                "          AND       [desafio].[dbo].[participant].[age] = 33\r\n",
                "          );\r\n",
                "\r\n",
                "INSERT    INTO [desafio].[dbo].[participantFinalResult] (\r\n",
                "          [participantId],\r\n",
                "          [result],\r\n",
                "          [seasonId],\r\n",
                "          [episode],\r\n",
                "          [eliminatedById]\r\n",
                "          )\r\n",
                "SELECT    (\r\n",
                "          SELECT    [id]\r\n",
                "          FROM      [desafio].[dbo].[participant]\r\n",
                "          WHERE     [desafio].[dbo].[participant].[name] = N'Елица Янкова'\r\n",
                "          AND       [desafio].[dbo].[participant].[age] = 27\r\n",
                "          ),\r\n",
                "          N'Елиминиран след загуба в капитанска битка',\r\n",
                "          4,\r\n",
                "          15,\r\n",
                "          (\r\n",
                "          SELECT    [id]\r\n",
                "          FROM      [desafio].[dbo].[participant]\r\n",
                "          WHERE     [desafio].[dbo].[participant].[name] = N'Ралица Кашинова'\r\n",
                "          AND       [desafio].[dbo].[participant].[age] = 29\r\n",
                "          );\r\n",
                "\r\n",
                "INSERT    INTO [desafio].[dbo].[participantFinalResult] (\r\n",
                "          [participantId],\r\n",
                "          [result],\r\n",
                "          [seasonId],\r\n",
                "          [episode],\r\n",
                "          [eliminatedById]\r\n",
                "          )\r\n",
                "SELECT    (\r\n",
                "          SELECT    [id]\r\n",
                "          FROM      [desafio].[dbo].[participant]\r\n",
                "          WHERE     [desafio].[dbo].[participant].[name] = N'Михаела Тодорова'\r\n",
                "          AND       [desafio].[dbo].[participant].[age] = 26\r\n",
                "          ),\r\n",
                "          N'Елиминиран',\r\n",
                "          4,\r\n",
                "          16,\r\n",
                "          (\r\n",
                "          SELECT    [id]\r\n",
                "          FROM      [desafio].[dbo].[participant]\r\n",
                "          WHERE     [desafio].[dbo].[participant].[name] = N'Георги Янев'\r\n",
                "          AND       [desafio].[dbo].[participant].[age] = 21\r\n",
                "          );\r\n",
                "\r\n",
                "INSERT    INTO [desafio].[dbo].[participantFinalResult] (\r\n",
                "          [participantId],\r\n",
                "          [result],\r\n",
                "          [seasonId],\r\n",
                "          [episode],\r\n",
                "          [eliminatedById]\r\n",
                "          )\r\n",
                "SELECT    (\r\n",
                "          SELECT    [id]\r\n",
                "          FROM      [desafio].[dbo].[participant]\r\n",
                "          WHERE     [desafio].[dbo].[participant].[name] = N'Александра Фейгин'\r\n",
                "          AND       [desafio].[dbo].[participant].[age] = 19\r\n",
                "          ),\r\n",
                "          N'Елиминиран',\r\n",
                "          4,\r\n",
                "          17,\r\n",
                "          (\r\n",
                "          SELECT    [id]\r\n",
                "          FROM      [desafio].[dbo].[participant]\r\n",
                "          WHERE     [desafio].[dbo].[participant].[name] = N'Мануела Тонева „Мани“'\r\n",
                "          AND       [desafio].[dbo].[participant].[age] = 25\r\n",
                "          );\r\n",
                "\r\n",
                "INSERT    INTO [desafio].[dbo].[participantFinalResult] (\r\n",
                "          [participantId],\r\n",
                "          [result],\r\n",
                "          [seasonId],\r\n",
                "          [episode],\r\n",
                "          [eliminatedById]\r\n",
                "          )\r\n",
                "SELECT    (\r\n",
                "          SELECT    [id]\r\n",
                "          FROM      [desafio].[dbo].[participant]\r\n",
                "          WHERE     [desafio].[dbo].[participant].[name] = N'Мирела Илиева'\r\n",
                "          AND       [desafio].[dbo].[participant].[age] = 21\r\n",
                "          ),\r\n",
                "          N'Елиминиран след загуба в капитанска битка',\r\n",
                "          4,\r\n",
                "          18,\r\n",
                "          (\r\n",
                "          SELECT    [id]\r\n",
                "          FROM      [desafio].[dbo].[participant]\r\n",
                "          WHERE     [desafio].[dbo].[participant].[name] = N'Алекса Ерски'\r\n",
                "          AND       [desafio].[dbo].[participant].[age] = 25\r\n",
                "          );\r\n",
                "\r\n",
                "INSERT    INTO [desafio].[dbo].[participantFinalResult] (\r\n",
                "          [participantId],\r\n",
                "          [result],\r\n",
                "          [seasonId],\r\n",
                "          [episode],\r\n",
                "          [eliminatedById]\r\n",
                "          )\r\n",
                "SELECT    (\r\n",
                "          SELECT    [id]\r\n",
                "          FROM      [desafio].[dbo].[participant]\r\n",
                "          WHERE     [desafio].[dbo].[participant].[name] = N'Димитър Лефтеров'\r\n",
                "          AND       [desafio].[dbo].[participant].[age] = 28\r\n",
                "          ),\r\n",
                "          N'Елиминиран',\r\n",
                "          4,\r\n",
                "          19,\r\n",
                "          (\r\n",
                "          SELECT    [id]\r\n",
                "          FROM      [desafio].[dbo].[participant]\r\n",
                "          WHERE     [desafio].[dbo].[participant].[name] = N'Георги Петков „Гого“'\r\n",
                "          AND       [desafio].[dbo].[participant].[age] = 25\r\n",
                "          );\r\n",
                "\r\n",
                "INSERT    INTO [desafio].[dbo].[participantFinalResult] (\r\n",
                "          [participantId],\r\n",
                "          [result],\r\n",
                "          [seasonId],\r\n",
                "          [episode],\r\n",
                "          [eliminatedById]\r\n",
                "          )\r\n",
                "SELECT    (\r\n",
                "          SELECT    [id]\r\n",
                "          FROM      [desafio].[dbo].[participant]\r\n",
                "          WHERE     [desafio].[dbo].[participant].[name] = N'Генчо Генчев'\r\n",
                "          AND       [desafio].[dbo].[participant].[age] = 33\r\n",
                "          ),\r\n",
                "          N'Елиминиран след загуба в капитанска битка',\r\n",
                "          4,\r\n",
                "          21,\r\n",
                "          (\r\n",
                "          SELECT    [id]\r\n",
                "          FROM      [desafio].[dbo].[participant]\r\n",
                "          WHERE     [desafio].[dbo].[participant].[name] = N'Евгения Джаферович'\r\n",
                "          AND       [desafio].[dbo].[participant].[age] = 32\r\n",
                "          );\r\n",
                "\r\n",
                "INSERT    INTO [desafio].[dbo].[participantFinalResult] (\r\n",
                "          [participantId],\r\n",
                "          [result],\r\n",
                "          [seasonId],\r\n",
                "          [episode],\r\n",
                "          [eliminatedById]\r\n",
                "          )\r\n",
                "SELECT    (\r\n",
                "          SELECT    [id]\r\n",
                "          FROM      [desafio].[dbo].[participant]\r\n",
                "          WHERE     [desafio].[dbo].[participant].[name] = N'Зорница Стоилова'\r\n",
                "          AND       [desafio].[dbo].[participant].[age] = 21\r\n",
                "          ),\r\n",
                "          N'Елиминиран',\r\n",
                "          4,\r\n",
                "          22,\r\n",
                "          (\r\n",
                "          SELECT    [id]\r\n",
                "          FROM      [desafio].[dbo].[participant]\r\n",
                "          WHERE     [desafio].[dbo].[participant].[name] = N'Алекса Ерски'\r\n",
                "          AND       [desafio].[dbo].[participant].[age] = 25\r\n",
                "          );\r\n",
                "\r\n",
                "INSERT    INTO [desafio].[dbo].[participantFinalResult] (\r\n",
                "          [participantId],\r\n",
                "          [result],\r\n",
                "          [seasonId],\r\n",
                "          [episode],\r\n",
                "          [eliminatedById]\r\n",
                "          )\r\n",
                "SELECT    (\r\n",
                "          SELECT    [id]\r\n",
                "          FROM      [desafio].[dbo].[participant]\r\n",
                "          WHERE     [desafio].[dbo].[participant].[name] = N'Мирослава Профирова'\r\n",
                "          AND       [desafio].[dbo].[participant].[age] = 35\r\n",
                "          ),\r\n",
                "          N'Елиминиран в предизвикателство',\r\n",
                "          4,\r\n",
                "          23,\r\n",
                "          (\r\n",
                "          SELECT    [id]\r\n",
                "          FROM      [desafio].[dbo].[participant]\r\n",
                "          WHERE     [desafio].[dbo].[participant].[name] = N'Ралица Кашинова'\r\n",
                "          AND       [desafio].[dbo].[participant].[age] = 29\r\n",
                "          );\r\n",
                "\r\n",
                "INSERT    INTO [desafio].[dbo].[participantFinalResult] (\r\n",
                "          [participantId],\r\n",
                "          [result],\r\n",
                "          [seasonId],\r\n",
                "          [episode],\r\n",
                "          [eliminatedById]\r\n",
                "          )\r\n",
                "SELECT    (\r\n",
                "          SELECT    [id]\r\n",
                "          FROM      [desafio].[dbo].[participant]\r\n",
                "          WHERE     [desafio].[dbo].[participant].[name] = N'Мануела Тонева „Мани“'\r\n",
                "          AND       [desafio].[dbo].[participant].[age] = 25\r\n",
                "          ),\r\n",
                "          N'Елиминиран в предизвикателство',\r\n",
                "          4,\r\n",
                "          24,\r\n",
                "          (\r\n",
                "          SELECT    [id]\r\n",
                "          FROM      [desafio].[dbo].[participant]\r\n",
                "          WHERE     [desafio].[dbo].[participant].[name] = N'Ралица Кашинова'\r\n",
                "          AND       [desafio].[dbo].[participant].[age] = 29\r\n",
                "          );\r\n",
                "\r\n",
                "INSERT    INTO [desafio].[dbo].[participantFinalResult] (\r\n",
                "          [participantId],\r\n",
                "          [result],\r\n",
                "          [seasonId],\r\n",
                "          [episode],\r\n",
                "          [eliminatedById]\r\n",
                "          )\r\n",
                "SELECT    (\r\n",
                "          SELECT    [id]\r\n",
                "          FROM      [desafio].[dbo].[participant]\r\n",
                "          WHERE     [desafio].[dbo].[participant].[name] = N'Евгения Джаферович'\r\n",
                "          AND       [desafio].[dbo].[participant].[age] = 32\r\n",
                "          ),\r\n",
                "          N'Елиминиран в предизвикателство',\r\n",
                "          4,\r\n",
                "          24,\r\n",
                "          (\r\n",
                "          SELECT    [id]\r\n",
                "          FROM      [desafio].[dbo].[participant]\r\n",
                "          WHERE     [desafio].[dbo].[participant].[name] = N'Ралица Кашинова'\r\n",
                "          AND       [desafio].[dbo].[participant].[age] = 29\r\n",
                "          );\r\n",
                "\r\n",
                "INSERT    INTO [desafio].[dbo].[participantFinalResult] (\r\n",
                "          [participantId],\r\n",
                "          [result],\r\n",
                "          [seasonId],\r\n",
                "          [episode],\r\n",
                "          [eliminatedById]\r\n",
                "          )\r\n",
                "SELECT    (\r\n",
                "          SELECT    [id]\r\n",
                "          FROM      [desafio].[dbo].[participant]\r\n",
                "          WHERE     [desafio].[dbo].[participant].[name] = N'Ралица Кашинова'\r\n",
                "          AND       [desafio].[dbo].[participant].[age] = 29\r\n",
                "          ),\r\n",
                "          N'Елиминиран в предизвикателство',\r\n",
                "          4,\r\n",
                "          25,\r\n",
                "          (\r\n",
                "          SELECT    [id]\r\n",
                "          FROM      [desafio].[dbo].[participant]\r\n",
                "          WHERE     [desafio].[dbo].[participant].[name] = N'Виктория Григорова'\r\n",
                "          AND       [desafio].[dbo].[participant].[age] = 32\r\n",
                "          );\r\n",
                "\r\n",
                "INSERT    INTO [desafio].[dbo].[participantFinalResult] (\r\n",
                "          [participantId],\r\n",
                "          [result],\r\n",
                "          [seasonId],\r\n",
                "          [episode],\r\n",
                "          [eliminatedById]\r\n",
                "          )\r\n",
                "SELECT    (\r\n",
                "          SELECT    [id]\r\n",
                "          FROM      [desafio].[dbo].[participant]\r\n",
                "          WHERE     [desafio].[dbo].[participant].[name] = N'Виктория Григорова'\r\n",
                "          AND       [desafio].[dbo].[participant].[age] = 32\r\n",
                "          ),\r\n",
                "          N'Елиминиран в предизвикателство',\r\n",
                "          4,\r\n",
                "          26,\r\n",
                "          (\r\n",
                "          SELECT    [id]\r\n",
                "          FROM      [desafio].[dbo].[participant]\r\n",
                "          WHERE     [desafio].[dbo].[participant].[name] = N'Георги Янев'\r\n",
                "          AND       [desafio].[dbo].[participant].[age] = 21\r\n",
                "          );\r\n",
                "\r\n",
                "INSERT    INTO [desafio].[dbo].[participantFinalResult] (\r\n",
                "          [participantId],\r\n",
                "          [result],\r\n",
                "          [seasonId],\r\n",
                "          [episode],\r\n",
                "          [eliminatedById]\r\n",
                "          )\r\n",
                "SELECT    (\r\n",
                "          SELECT    [id]\r\n",
                "          FROM      [desafio].[dbo].[participant]\r\n",
                "          WHERE     [desafio].[dbo].[participant].[name] = N'Георги Петков „Гого“'\r\n",
                "          AND       [desafio].[dbo].[participant].[age] = 25\r\n",
                "          ),\r\n",
                "          N'Елиминиран в предизвикателство',\r\n",
                "          4,\r\n",
                "          27,\r\n",
                "          (\r\n",
                "          SELECT    [id]\r\n",
                "          FROM      [desafio].[dbo].[participant]\r\n",
                "          WHERE     [desafio].[dbo].[participant].[name] = N'Георги Янев'\r\n",
                "          AND       [desafio].[dbo].[participant].[age] = 21\r\n",
                "          );\r\n",
                "\r\n",
                "INSERT    INTO [desafio].[dbo].[participantFinalResult] (\r\n",
                "          [participantId],\r\n",
                "          [result],\r\n",
                "          [seasonId],\r\n",
                "          [episode],\r\n",
                "          [eliminatedById]\r\n",
                "          )\r\n",
                "SELECT    (\r\n",
                "          SELECT    [id]\r\n",
                "          FROM      [desafio].[dbo].[participant]\r\n",
                "          WHERE     [desafio].[dbo].[participant].[name] = N'Георги Янев'\r\n",
                "          AND       [desafio].[dbo].[participant].[age] = 21\r\n",
                "          ),\r\n",
                "          N'Трето място',\r\n",
                "          4,\r\n",
                "          28,\r\n",
                "          null;\r\n",
                "\r\n",
                "INSERT    INTO [desafio].[dbo].[participantFinalResult] (\r\n",
                "          [participantId],\r\n",
                "          [result],\r\n",
                "          [seasonId],\r\n",
                "          [episode],\r\n",
                "          [eliminatedById]\r\n",
                "          )\r\n",
                "SELECT    (\r\n",
                "          SELECT    [id]\r\n",
                "          FROM      [desafio].[dbo].[participant]\r\n",
                "          WHERE     [desafio].[dbo].[participant].[name] = N'Филип Атанасов'\r\n",
                "          AND       [desafio].[dbo].[participant].[age] = 29\r\n",
                "          ),\r\n",
                "          N'Второ място',\r\n",
                "          4,\r\n",
                "          29,\r\n",
                "          null;\r\n",
                "\r\n",
                "INSERT    INTO [desafio].[dbo].[participantFinalResult] (\r\n",
                "          [participantId],\r\n",
                "          [result],\r\n",
                "          [seasonId],\r\n",
                "          [episode],\r\n",
                "          [eliminatedById]\r\n",
                "          )\r\n",
                "SELECT    (\r\n",
                "          SELECT    [id]\r\n",
                "          FROM      [desafio].[dbo].[participant]\r\n",
                "          WHERE     [desafio].[dbo].[participant].[name] = N'Алекса Ерски'\r\n",
                "          AND       [desafio].[dbo].[participant].[age] = 25\r\n",
                "          ),\r\n",
                "          N'Победител',\r\n",
                "          4,\r\n",
                "          29,\r\n",
                "          null;\r\n",
                "\r\n",
                "/*5*/\r\n",
                "\r\n",
                "INSERT    INTO desafio.dbo.participantFinalResult (\r\n",
                "          participantId,\r\n",
                "          [result],\r\n",
                "          seasonId,\r\n",
                "          episode,\r\n",
                "          eliminatedById\r\n",
                "          )\r\n",
                "SELECT    (\r\n",
                "          SELECT    [id]\r\n",
                "          FROM      [desafio].[dbo].[participant]\r\n",
                "          WHERE     [desafio].[dbo].[participant].[name] = N'Трифон Симеонов „Туньо“'\r\n",
                "          AND       [desafio].[dbo].[participant].[age] = 33\r\n",
                "          ),\r\n",
                "          N'Елиминиран',\r\n",
                "          5,\r\n",
                "          7,\r\n",
                "          (\r\n",
                "          SELECT    [id]\r\n",
                "          FROM      [desafio].[dbo].[participant]\r\n",
                "          WHERE     [desafio].[dbo].[participant].[name] = N'Момчил Василев'\r\n",
                "          AND       [desafio].[dbo].[participant].[age] = 25\r\n",
                "          );\r\n",
                "\r\n",
                "INSERT    INTO desafio.dbo.participantFinalResult (\r\n",
                "          participantId,\r\n",
                "          [result],\r\n",
                "          seasonId,\r\n",
                "          episode,\r\n",
                "          eliminatedById\r\n",
                "          )\r\n",
                "SELECT    (\r\n",
                "          SELECT    [id]\r\n",
                "          FROM      [desafio].[dbo].[participant]\r\n",
                "          WHERE     [desafio].[dbo].[participant].[name] = N'Веселина Маринова'\r\n",
                "          AND       [desafio].[dbo].[participant].[age] = 29\r\n",
                "          ),\r\n",
                "          N'Елиминиран след гласуване на племенен съвет',\r\n",
                "          5,\r\n",
                "          7,\r\n",
                "          null;\r\n",
                "\r\n",
                "INSERT    INTO desafio.dbo.participantFinalResult (\r\n",
                "          participantId,\r\n",
                "          [result],\r\n",
                "          seasonId,\r\n",
                "          episode,\r\n",
                "          eliminatedById\r\n",
                "          )\r\n",
                "SELECT    (\r\n",
                "          SELECT    [id]\r\n",
                "          FROM      [desafio].[dbo].[participant]\r\n",
                "          WHERE     [desafio].[dbo].[participant].[name] = N'Радосвета Симеонова'\r\n",
                "          AND       [desafio].[dbo].[participant].[age] = 29\r\n",
                "          ),\r\n",
                "          N'Елиминиран',\r\n",
                "          5,\r\n",
                "          14,\r\n",
                "          (\r\n",
                "          SELECT    [id]\r\n",
                "          FROM      [desafio].[dbo].[participant]\r\n",
                "          WHERE     [desafio].[dbo].[participant].[name] = N'Виктория Йорданова'\r\n",
                "          AND       [desafio].[dbo].[participant].[age] = 27\r\n",
                "          );\r\n",
                "\r\n",
                "INSERT    INTO desafio.dbo.participantFinalResult (\r\n",
                "          participantId,\r\n",
                "          [result],\r\n",
                "          seasonId,\r\n",
                "          episode,\r\n",
                "          eliminatedById\r\n",
                "          )\r\n",
                "SELECT    (\r\n",
                "          SELECT    [id]\r\n",
                "          FROM      [desafio].[dbo].[participant]\r\n",
                "          WHERE     [desafio].[dbo].[participant].[name] = N'Валентин Петров'\r\n",
                "          AND       [desafio].[dbo].[participant].[age] = 48\r\n",
                "          ),\r\n",
                "          N'Елиминиран след гласуване на племенен съвет',\r\n",
                "          5,\r\n",
                "          19,\r\n",
                "          null;\r\n",
                "\r\n",
                "INSERT    INTO desafio.dbo.participantFinalResult (\r\n",
                "          participantId,\r\n",
                "          [result],\r\n",
                "          seasonId,\r\n",
                "          episode,\r\n",
                "          eliminatedById\r\n",
                "          )\r\n",
                "SELECT    (\r\n",
                "          SELECT    [id]\r\n",
                "          FROM      [desafio].[dbo].[participant]\r\n",
                "          WHERE     [desafio].[dbo].[participant].[name] = N'Васил Василев'\r\n",
                "          AND       [desafio].[dbo].[participant].[age] = 31\r\n",
                "          ),\r\n",
                "          N'Елиминиран поради здравословен проблем',\r\n",
                "          5,\r\n",
                "          19,\r\n",
                "          (\r\n",
                "          SELECT    [id]\r\n",
                "          FROM      [desafio].[dbo].[participant]\r\n",
                "          WHERE     [desafio].[dbo].[participant].[name] = N'Цвети Станева'\r\n",
                "          AND       [desafio].[dbo].[participant].[age] = 22\r\n",
                "          );"
            ],
            "metadata": {
                "azdata_cell_guid": "63041d8b-bcda-40a0-a0c3-4c84c2c28ae7",
                "language": "sql"
            },
            "outputs": [
                {
                    "output_type": "display_data",
                    "data": {
                        "text/html": "Commands completed successfully."
                    },
                    "metadata": {}
                },
                {
                    "output_type": "display_data",
                    "data": {
                        "text/html": "Commands completed successfully."
                    },
                    "metadata": {}
                },
                {
                    "output_type": "display_data",
                    "data": {
                        "text/html": "Commands completed successfully."
                    },
                    "metadata": {}
                },
                {
                    "output_type": "display_data",
                    "data": {
                        "text/html": "(1 row affected)"
                    },
                    "metadata": {}
                },
                {
                    "output_type": "display_data",
                    "data": {
                        "text/html": "(1 row affected)"
                    },
                    "metadata": {}
                },
                {
                    "output_type": "display_data",
                    "data": {
                        "text/html": "(1 row affected)"
                    },
                    "metadata": {}
                },
                {
                    "output_type": "display_data",
                    "data": {
                        "text/html": "(1 row affected)"
                    },
                    "metadata": {}
                },
                {
                    "output_type": "display_data",
                    "data": {
                        "text/html": "(1 row affected)"
                    },
                    "metadata": {}
                },
                {
                    "output_type": "display_data",
                    "data": {
                        "text/html": "(1 row affected)"
                    },
                    "metadata": {}
                },
                {
                    "output_type": "display_data",
                    "data": {
                        "text/html": "(1 row affected)"
                    },
                    "metadata": {}
                },
                {
                    "output_type": "display_data",
                    "data": {
                        "text/html": "(1 row affected)"
                    },
                    "metadata": {}
                },
                {
                    "output_type": "display_data",
                    "data": {
                        "text/html": "(1 row affected)"
                    },
                    "metadata": {}
                },
                {
                    "output_type": "display_data",
                    "data": {
                        "text/html": "(1 row affected)"
                    },
                    "metadata": {}
                },
                {
                    "output_type": "display_data",
                    "data": {
                        "text/html": "(1 row affected)"
                    },
                    "metadata": {}
                },
                {
                    "output_type": "display_data",
                    "data": {
                        "text/html": "(1 row affected)"
                    },
                    "metadata": {}
                },
                {
                    "output_type": "display_data",
                    "data": {
                        "text/html": "(1 row affected)"
                    },
                    "metadata": {}
                },
                {
                    "output_type": "display_data",
                    "data": {
                        "text/html": "(1 row affected)"
                    },
                    "metadata": {}
                },
                {
                    "output_type": "display_data",
                    "data": {
                        "text/html": "(1 row affected)"
                    },
                    "metadata": {}
                },
                {
                    "output_type": "display_data",
                    "data": {
                        "text/html": "(1 row affected)"
                    },
                    "metadata": {}
                },
                {
                    "output_type": "display_data",
                    "data": {
                        "text/html": "(1 row affected)"
                    },
                    "metadata": {}
                },
                {
                    "output_type": "display_data",
                    "data": {
                        "text/html": "(1 row affected)"
                    },
                    "metadata": {}
                },
                {
                    "output_type": "display_data",
                    "data": {
                        "text/html": "(1 row affected)"
                    },
                    "metadata": {}
                },
                {
                    "output_type": "display_data",
                    "data": {
                        "text/html": "(1 row affected)"
                    },
                    "metadata": {}
                },
                {
                    "output_type": "display_data",
                    "data": {
                        "text/html": "(1 row affected)"
                    },
                    "metadata": {}
                },
                {
                    "output_type": "display_data",
                    "data": {
                        "text/html": "(1 row affected)"
                    },
                    "metadata": {}
                },
                {
                    "output_type": "display_data",
                    "data": {
                        "text/html": "(1 row affected)"
                    },
                    "metadata": {}
                },
                {
                    "output_type": "display_data",
                    "data": {
                        "text/html": "(1 row affected)"
                    },
                    "metadata": {}
                },
                {
                    "output_type": "display_data",
                    "data": {
                        "text/html": "(1 row affected)"
                    },
                    "metadata": {}
                },
                {
                    "output_type": "display_data",
                    "data": {
                        "text/html": "(1 row affected)"
                    },
                    "metadata": {}
                },
                {
                    "output_type": "display_data",
                    "data": {
                        "text/html": "(1 row affected)"
                    },
                    "metadata": {}
                },
                {
                    "output_type": "display_data",
                    "data": {
                        "text/html": "(1 row affected)"
                    },
                    "metadata": {}
                },
                {
                    "output_type": "display_data",
                    "data": {
                        "text/html": "(1 row affected)"
                    },
                    "metadata": {}
                },
                {
                    "output_type": "display_data",
                    "data": {
                        "text/html": "(1 row affected)"
                    },
                    "metadata": {}
                },
                {
                    "output_type": "display_data",
                    "data": {
                        "text/html": "(1 row affected)"
                    },
                    "metadata": {}
                },
                {
                    "output_type": "display_data",
                    "data": {
                        "text/html": "(1 row affected)"
                    },
                    "metadata": {}
                },
                {
                    "output_type": "display_data",
                    "data": {
                        "text/html": "(1 row affected)"
                    },
                    "metadata": {}
                },
                {
                    "output_type": "display_data",
                    "data": {
                        "text/html": "(1 row affected)"
                    },
                    "metadata": {}
                },
                {
                    "output_type": "display_data",
                    "data": {
                        "text/html": "(1 row affected)"
                    },
                    "metadata": {}
                },
                {
                    "output_type": "display_data",
                    "data": {
                        "text/html": "Total execution time: 00:00:02.137"
                    },
                    "metadata": {}
                }
            ],
            "execution_count": 91
        }
    ]
}