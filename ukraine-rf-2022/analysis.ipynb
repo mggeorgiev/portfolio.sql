{
    "metadata": {
        "kernelspec": {
            "name": "SQL",
            "display_name": "SQL",
            "language": "sql"
        },
        "language_info": {
            "name": "sql",
            "version": ""
        }
    },
    "nbformat_minor": 2,
    "nbformat": 4,
    "cells": [
        {
            "cell_type": "code",
            "source": [
                "SELECT TOP (1000) p.[Id]\r\n",
                "      ,u.[Name]\r\n",
                "      ,[Date]\r\n",
                "      ,[Location]\r\n",
                "      ,[latitude]\r\n",
                "      ,[longitude]\r\n",
                "      ,[Native_Name]\r\n",
                "  FROM [Ukraine_RF].[dbo].[Positions] p\r\n",
                "  JOIN [Ukraine_RF].[dbo].[Units] u ON u.Id = p.Unit_id\r\n",
                "  WHERE [Location] = 'Hostomel' OR [Location]='Marioupul'\r\n",
                "  ORDER BY [Date]"
            ],
            "metadata": {
                "azdata_cell_guid": "fa1941f4-ad47-40bd-ab7f-ae223193c207",
                "language": "sql"
            },
            "outputs": [
                {
                    "output_type": "display_data",
                    "data": {
                        "text/html": "(6 rows affected)"
                    },
                    "metadata": {}
                },
                {
                    "output_type": "display_data",
                    "data": {
                        "text/html": "Total execution time: 00:00:00.216"
                    },
                    "metadata": {}
                },
                {
                    "output_type": "execute_result",
                    "metadata": {},
                    "execution_count": 5,
                    "data": {
                        "application/vnd.dataresource+json": {
                            "schema": {
                                "fields": [
                                    {
                                        "name": "Id"
                                    },
                                    {
                                        "name": "Name"
                                    },
                                    {
                                        "name": "Date"
                                    },
                                    {
                                        "name": "Location"
                                    },
                                    {
                                        "name": "latitude"
                                    },
                                    {
                                        "name": "longitude"
                                    },
                                    {
                                        "name": "Native_Name"
                                    }
                                ]
                            },
                            "data": [
                                {
                                    "0": "12",
                                    "1": "31st Guards Air Assault Brigade (VDV)",
                                    "2": "2022-02-24 00:00:00.000",
                                    "3": "Hostomel",
                                    "4": "50.595957",
                                    "5": "30.20544",
                                    "6": "31-я отдельная гвардейская десантно-штурмовая бригада"
                                },
                                {
                                    "0": "26",
                                    "1": "56th Motorized Brigade",
                                    "2": "2022-02-24 00:00:00.000",
                                    "3": "Marioupul",
                                    "4": "0",
                                    "5": "0",
                                    "6": ""
                                },
                                {
                                    "0": "27",
                                    "1": "8th Combined Arms Army",
                                    "2": "2022-02-24 00:00:00.000",
                                    "3": "Marioupul",
                                    "4": "0",
                                    "5": "0",
                                    "6": "8-я общевойсковая армия"
                                },
                                {
                                    "0": "58",
                                    "1": "Ukrainian Armed Forces",
                                    "2": "2022-02-28 00:00:00.000",
                                    "3": "Marioupul",
                                    "4": "0",
                                    "5": "0",
                                    "6": "Збройні сили України"
                                },
                                {
                                    "0": "61",
                                    "1": "Russian Armed Forces",
                                    "2": "2022-02-28 00:00:00.000",
                                    "3": "Marioupul",
                                    "4": "0",
                                    "5": "0",
                                    "6": "Вооружённые си́лы Росси́йской Федера́ции"
                                },
                                {
                                    "0": "66",
                                    "1": "58th Combined Arms Army",
                                    "2": "2022-03-01 00:00:00.000",
                                    "3": "Marioupul",
                                    "4": "0",
                                    "5": "0",
                                    "6": "58-я общевойсковая армия"
                                }
                            ]
                        },
                        "text/html": [
                            "<table>",
                            "<tr><th>Id</th><th>Name</th><th>Date</th><th>Location</th><th>latitude</th><th>longitude</th><th>Native_Name</th></tr>",
                            "<tr><td>12</td><td>31st Guards Air Assault Brigade (VDV)</td><td>2022-02-24 00:00:00.000</td><td>Hostomel</td><td>50.595957</td><td>30.20544</td><td>31-я отдельная гвардейская десантно-штурмовая бригада</td></tr>",
                            "<tr><td>26</td><td>56th Motorized Brigade</td><td>2022-02-24 00:00:00.000</td><td>Marioupul</td><td>0</td><td>0</td><td></td></tr>",
                            "<tr><td>27</td><td>8th Combined Arms Army</td><td>2022-02-24 00:00:00.000</td><td>Marioupul</td><td>0</td><td>0</td><td>8-я общевойсковая армия</td></tr>",
                            "<tr><td>58</td><td>Ukrainian Armed Forces</td><td>2022-02-28 00:00:00.000</td><td>Marioupul</td><td>0</td><td>0</td><td>Збройні сили України</td></tr>",
                            "<tr><td>61</td><td>Russian Armed Forces</td><td>2022-02-28 00:00:00.000</td><td>Marioupul</td><td>0</td><td>0</td><td>Вооружённые си́лы Росси́йской Федера́ции</td></tr>",
                            "<tr><td>66</td><td>58th Combined Arms Army</td><td>2022-03-01 00:00:00.000</td><td>Marioupul</td><td>0</td><td>0</td><td>58-я общевойсковая армия</td></tr>",
                            "</table>"
                        ]
                    }
                }
            ],
            "execution_count": 5
        }
    ]
}