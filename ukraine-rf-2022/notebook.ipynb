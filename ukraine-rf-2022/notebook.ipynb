{
    "metadata": {
        "kernelspec": {
            "name": "SQL",
            "display_name": "SQL",
            "language": "sql"
        },
        "language_info": {
            "name": "sql",
            "version": ""
        }
    },
    "nbformat_minor": 2,
    "nbformat": 4,
    "cells": [
        {
            "cell_type": "code",
            "source": [
                "-- Create a new table called '[organization]' in schema '[dbo]'\r\n",
                "-- Drop the table if it already exists\r\n",
                "IF OBJECT_ID('[dbo].[organization]', 'U') IS NOT NULL\r\n",
                "DROP TABLE [dbo].[organization]\r\n",
                "GO\r\n",
                "-- Create the table in the specified schema\r\n",
                "CREATE TABLE [dbo].[organization]\r\n",
                "(\r\n",
                "    [Id] INT NOT NULL PRIMARY KEY, -- Primary Key column\r\n",
                "    [Country] NVARCHAR(50) NOT NULL,\r\n",
                "    [Name] NVARCHAR(50) NOT NULL,\r\n",
                "    [ParentId] int  \r\n",
                "    -- Specify more columns here\r\n",
                ");\r\n",
                "GO\r\n",
                "\r\n",
                "-- Create a new table called '[Element]' in schema '[dbo]'\r\n",
                "-- Drop the table if it already exists\r\n",
                "IF OBJECT_ID('[dbo].[Element]', 'U') IS NOT NULL\r\n",
                "DROP TABLE [dbo].[Element]\r\n",
                "GO\r\n",
                "-- Create the table in the specified schema\r\n",
                "CREATE TABLE [dbo].[Element]\r\n",
                "(\r\n",
                "    [Id] INT NOT NULL PRIMARY KEY, -- Primary Key column\r\n",
                "    [Name] NVARCHAR(50) NOT NULL,\r\n",
                "    [Number] INT NOT NULL,\r\n",
                "    [Organization_id] int \r\n",
                "    -- Specify more columns here\r\n",
                ");\r\n",
                "GO\r\n",
                "\r\n",
                "-- Create a new table called '[Arms]' in schema '[dbo]'\r\n",
                "-- Drop the table if it already exists\r\n",
                "IF OBJECT_ID('[dbo].[Arms]', 'U') IS NOT NULL\r\n",
                "DROP TABLE [dbo].[Arms]\r\n",
                "GO\r\n",
                "-- Create the table in the specified schema\r\n",
                "CREATE TABLE [dbo].[Arms]\r\n",
                "(\r\n",
                "    [Id] INT NOT NULL PRIMARY KEY, -- Primary Key column\r\n",
                "    [Name] NVARCHAR(50), \r\n",
                "    [Type] NVARCHAR(50), \r\n",
                "    [Country] NVARCHAR(50)\r\n",
                "    -- Specify more columns here\r\n",
                ");\r\n",
                "GO"
            ],
            "metadata": {
                "azdata_cell_guid": "3176b620-595f-4432-9a57-0896ebb324d9",
                "language": "sql"
            },
            "outputs": [],
            "execution_count": null
        },
        {
            "cell_type": "code",
            "source": [
                ""
            ],
            "metadata": {
                "language": "sql",
                "azdata_cell_guid": "063b8e32-c5d1-44fc-a3a8-005211767ea7"
            },
            "outputs": [],
            "execution_count": null
        }
    ]
}