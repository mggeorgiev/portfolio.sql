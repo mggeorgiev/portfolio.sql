{
    "metadata": {
        "kernelspec": {
            "name": "SQL",
            "display_name": "SQL",
            "language": "sql"
        },
        "language_info": {
            "name": "sql",
            "version": ""
        }
    },
    "nbformat_minor": 2,
    "nbformat": 4,
    "cells": [
        {
            "cell_type": "markdown",
            "source": [
                "Description"
            ],
            "metadata": {
                "azdata_cell_guid": "2b887162-c5f4-44f3-a9dd-289ce476df8b"
            },
            "attachments": {}
        },
        {
            "cell_type": "code",
            "source": [
                "-- Create a new database called 'portfolio'\r\n",
                "-- Connect to the 'master' database to run this snippet\r\n",
                "USE master\r\n",
                "GO\r\n",
                "-- Create the new database if it does not exist already\r\n",
                "IF NOT EXISTS (\r\n",
                "    SELECT [name]\r\n",
                "        FROM sys.databases\r\n",
                "        WHERE [name] = N'portfolio'\r\n",
                ")\r\n",
                "CREATE DATABASE portfolio\r\n",
                "GO\r\n",
                "\r\n",
                "USE portfolio;\r\n",
                "GO\r\n",
                "\r\n",
                "IF NOT EXISTS ( SELECT  *\r\n",
                "                FROM    sys.schemas\r\n",
                "                WHERE   name = N'horses-ranking' )\r\n",
                "    EXEC('CREATE SCHEMA [horses-ranking]');\r\n",
                "GO\r\n",
                "\r\n",
                "-- Create a new table called '[items]' in schema '[cantine]'\r\n",
                "-- Drop the table if it already exists\r\n",
                "IF OBJECT_ID('[portfolio].[horses-ranking].[groups]', 'U') IS NOT NULL\r\n",
                "DROP TABLE [portfolio].[horses-ranking].[groups];\r\n",
                "GO\r\n",
                "-- Create the table in the specified schema\r\n",
                "CREATE TABLE [portfolio].[horses-ranking].[groups]\r\n",
                "(\r\n",
                "    [Id] INT Identity(1,1) -- Primary Key column\r\n",
                "    ,[name] NVARCHAR(50) NOT NULL\r\n",
                "    ,CONSTRAINT PK_horses_ranking_groups PRIMARY KEY CLUSTERED (Id)\r\n",
                ");\r\n",
                "GO\r\n",
                "\r\n",
                "-- Create a new table called '[items]' in schema '[cantine]'\r\n",
                "-- Drop the table if it already exists\r\n",
                "IF OBJECT_ID('[portfolio].[horses-ranking].[horses]', 'U') IS NOT NULL\r\n",
                "DROP TABLE [portfolio].[horses-ranking].[horses]\r\n",
                "GO\r\n",
                "-- Create the table in the specified schema\r\n",
                "CREATE TABLE [portfolio].[horses-ranking].[horses]\r\n",
                "(\r\n",
                "    [Id] INT Identity(1,1) -- Primary Key column\r\n",
                "    ,[name] NVARCHAR(50) NOT NULL\r\n",
                "    ,[speed] INT default FLOOR(RAND()*(25-1+1))+1\r\n",
                "    ,[groupId] INT\r\n",
                "    ,CONSTRAINT PK_horses_ranking_horses PRIMARY KEY CLUSTERED (Id)\r\n",
                "    -- Specify more columns here\r\n",
                ");\r\n",
                "GO\r\n",
                "\r\n",
                "--ALTER TABLE portfolio.[horses-ranking].horses DROP CONSTRAINT PK_horses_ranking_horses;\r\n",
                "-- ALTER TABLE [portfolio].[horses-ranking].[horses]\r\n",
                "--    ADD CONSTRAINT FK_horses_Shorses FOREIGN KEY (groupId)\r\n",
                "--       REFERENCES [portfolio].[horses-ranking].[groups] (Id)\r\n",
                "--       ON DELETE CASCADE\r\n",
                "--       ON UPDATE CASCADE;\r\n",
                ""
            ],
            "metadata": {
                "azdata_cell_guid": "2b0a8ac0-eea8-45e1-970e-ab003dd753e9",
                "language": "sql",
                "tags": []
            },
            "outputs": [
                {
                    "output_type": "display_data",
                    "data": {
                        "text/html": "Commands completed successfully."
                    },
                    "metadata": {}
                },
                {
                    "output_type": "display_data",
                    "data": {
                        "text/html": "Commands completed successfully."
                    },
                    "metadata": {}
                },
                {
                    "output_type": "display_data",
                    "data": {
                        "text/html": "Commands completed successfully."
                    },
                    "metadata": {}
                },
                {
                    "output_type": "display_data",
                    "data": {
                        "text/html": "Commands completed successfully."
                    },
                    "metadata": {}
                },
                {
                    "output_type": "display_data",
                    "data": {
                        "text/html": "Commands completed successfully."
                    },
                    "metadata": {}
                },
                {
                    "output_type": "display_data",
                    "data": {
                        "text/html": "Commands completed successfully."
                    },
                    "metadata": {}
                },
                {
                    "output_type": "display_data",
                    "data": {
                        "text/html": "Commands completed successfully."
                    },
                    "metadata": {}
                },
                {
                    "output_type": "display_data",
                    "data": {
                        "text/html": "Commands completed successfully."
                    },
                    "metadata": {}
                },
                {
                    "output_type": "display_data",
                    "data": {
                        "text/html": "Commands completed successfully."
                    },
                    "metadata": {}
                },
                {
                    "output_type": "display_data",
                    "data": {
                        "text/html": "Total execution time: 00:00:00.795"
                    },
                    "metadata": {}
                }
            ],
            "execution_count": 96
        },
        {
            "cell_type": "code",
            "source": [
                "/*insert grpups and horses randomising the speed*/\r\n",
                "\r\n",
                "INSERT INTO [horses-ranking].[groups] ([name]) VALUES ('A');\r\n",
                "INSERT INTO [horses-ranking].[groups] ([name]) VALUES ('B');\r\n",
                "INSERT INTO [horses-ranking].[groups] ([name]) VALUES ('C');\r\n",
                "INSERT INTO [horses-ranking].[groups] ([name]) VALUES ('D');\r\n",
                "INSERT INTO [horses-ranking].[groups] ([name]) VALUES ('E');\r\n",
                "\r\n",
                "INSERT INTO [horses-ranking].[horses] ([name], [groupId], [speed]) VALUES ('A1', 1, FLOOR(RAND()*(75-1+1))+1);\r\n",
                "INSERT INTO [horses-ranking].[horses] ([name], [groupId], [speed]) VALUES ('A2', 1, FLOOR(RAND()*(75-1+1))+1);\r\n",
                "INSERT INTO [horses-ranking].[horses] ([name], [groupId], [speed]) VALUES ('A3', 1, FLOOR(RAND()*(75-1+1))+1);\r\n",
                "INSERT INTO [horses-ranking].[horses] ([name], [groupId], [speed]) VALUES ('A4', 1, FLOOR(RAND()*(75-1+1))+1);\r\n",
                "INSERT INTO [horses-ranking].[horses] ([name], [groupId], [speed]) VALUES ('A5', 1, FLOOR(RAND()*(75-1+1))+1);\r\n",
                "INSERT INTO [horses-ranking].[horses] ([name], [groupId], [speed]) VALUES ('B1', 2, FLOOR(RAND()*(75-1+1))+1);\r\n",
                "INSERT INTO [horses-ranking].[horses] ([name], [groupId], [speed]) VALUES ('B2', 2, FLOOR(RAND()*(75-1+1))+1);\r\n",
                "INSERT INTO [horses-ranking].[horses] ([name], [groupId], [speed]) VALUES ('B3', 2, FLOOR(RAND()*(75-1+1))+1);\r\n",
                "INSERT INTO [horses-ranking].[horses] ([name], [groupId], [speed]) VALUES ('B4', 2, FLOOR(RAND()*(75-1+1))+1);\r\n",
                "INSERT INTO [horses-ranking].[horses] ([name], [groupId], [speed]) VALUES ('B5', 2, FLOOR(RAND()*(75-1+1))+1);\r\n",
                "INSERT INTO [horses-ranking].[horses] ([name], [groupId], [speed]) VALUES ('C1', 3, FLOOR(RAND()*(75-1+1))+1);\r\n",
                "INSERT INTO [horses-ranking].[horses] ([name], [groupId], [speed]) VALUES ('C2', 3, FLOOR(RAND()*(75-1+1))+1);\r\n",
                "INSERT INTO [horses-ranking].[horses] ([name], [groupId], [speed]) VALUES ('C3', 3, FLOOR(RAND()*(75-1+1))+1);\r\n",
                "INSERT INTO [horses-ranking].[horses] ([name], [groupId], [speed]) VALUES ('C4', 3, FLOOR(RAND()*(75-1+1))+1);\r\n",
                "INSERT INTO [horses-ranking].[horses] ([name], [groupId], [speed]) VALUES ('C5', 3, FLOOR(RAND()*(75-1+1))+1);\r\n",
                "INSERT INTO [horses-ranking].[horses] ([name], [groupId], [speed]) VALUES ('D1', 4, FLOOR(RAND()*(75-1+1))+1);\r\n",
                "INSERT INTO [horses-ranking].[horses] ([name], [groupId], [speed]) VALUES ('D2', 4, FLOOR(RAND()*(75-1+1))+1);\r\n",
                "INSERT INTO [horses-ranking].[horses] ([name], [groupId], [speed]) VALUES ('D3', 4, FLOOR(RAND()*(75-1+1))+1);\r\n",
                "INSERT INTO [horses-ranking].[horses] ([name], [groupId], [speed]) VALUES ('D4', 4, FLOOR(RAND()*(75-1+1))+1);\r\n",
                "INSERT INTO [horses-ranking].[horses] ([name], [groupId], [speed]) VALUES ('D5', 4, FLOOR(RAND()*(75-1+1))+1);\r\n",
                "INSERT INTO [horses-ranking].[horses] ([name], [groupId], [speed]) VALUES ('E1', 5, FLOOR(RAND()*(75-1+1))+1);\r\n",
                "INSERT INTO [horses-ranking].[horses] ([name], [groupId], [speed]) VALUES ('E2', 5, FLOOR(RAND()*(75-1+1))+1);\r\n",
                "INSERT INTO [horses-ranking].[horses] ([name], [groupId], [speed]) VALUES ('E3', 5, FLOOR(RAND()*(75-1+1))+1);\r\n",
                "INSERT INTO [horses-ranking].[horses] ([name], [groupId], [speed]) VALUES ('E4', 5, FLOOR(RAND()*(75-1+1))+1);\r\n",
                "INSERT INTO [horses-ranking].[horses] ([name], [groupId], [speed]) VALUES ('E5', 5, FLOOR(RAND()*(75-1+1))+1);"
            ],
            "metadata": {
                "azdata_cell_guid": "181ddcfe-fecd-4333-8d3c-0a8af706321f",
                "language": "sql"
            },
            "outputs": [
                {
                    "output_type": "display_data",
                    "data": {
                        "text/html": "(1 row affected)"
                    },
                    "metadata": {}
                },
                {
                    "output_type": "display_data",
                    "data": {
                        "text/html": "(1 row affected)"
                    },
                    "metadata": {}
                },
                {
                    "output_type": "display_data",
                    "data": {
                        "text/html": "(1 row affected)"
                    },
                    "metadata": {}
                },
                {
                    "output_type": "display_data",
                    "data": {
                        "text/html": "(1 row affected)"
                    },
                    "metadata": {}
                },
                {
                    "output_type": "display_data",
                    "data": {
                        "text/html": "(1 row affected)"
                    },
                    "metadata": {}
                },
                {
                    "output_type": "display_data",
                    "data": {
                        "text/html": "(1 row affected)"
                    },
                    "metadata": {}
                },
                {
                    "output_type": "display_data",
                    "data": {
                        "text/html": "(1 row affected)"
                    },
                    "metadata": {}
                },
                {
                    "output_type": "display_data",
                    "data": {
                        "text/html": "(1 row affected)"
                    },
                    "metadata": {}
                },
                {
                    "output_type": "display_data",
                    "data": {
                        "text/html": "(1 row affected)"
                    },
                    "metadata": {}
                },
                {
                    "output_type": "display_data",
                    "data": {
                        "text/html": "(1 row affected)"
                    },
                    "metadata": {}
                },
                {
                    "output_type": "display_data",
                    "data": {
                        "text/html": "(1 row affected)"
                    },
                    "metadata": {}
                },
                {
                    "output_type": "display_data",
                    "data": {
                        "text/html": "(1 row affected)"
                    },
                    "metadata": {}
                },
                {
                    "output_type": "display_data",
                    "data": {
                        "text/html": "(1 row affected)"
                    },
                    "metadata": {}
                },
                {
                    "output_type": "display_data",
                    "data": {
                        "text/html": "(1 row affected)"
                    },
                    "metadata": {}
                },
                {
                    "output_type": "display_data",
                    "data": {
                        "text/html": "(1 row affected)"
                    },
                    "metadata": {}
                },
                {
                    "output_type": "display_data",
                    "data": {
                        "text/html": "(1 row affected)"
                    },
                    "metadata": {}
                },
                {
                    "output_type": "display_data",
                    "data": {
                        "text/html": "(1 row affected)"
                    },
                    "metadata": {}
                },
                {
                    "output_type": "display_data",
                    "data": {
                        "text/html": "(1 row affected)"
                    },
                    "metadata": {}
                },
                {
                    "output_type": "display_data",
                    "data": {
                        "text/html": "(1 row affected)"
                    },
                    "metadata": {}
                },
                {
                    "output_type": "display_data",
                    "data": {
                        "text/html": "(1 row affected)"
                    },
                    "metadata": {}
                },
                {
                    "output_type": "display_data",
                    "data": {
                        "text/html": "(1 row affected)"
                    },
                    "metadata": {}
                },
                {
                    "output_type": "display_data",
                    "data": {
                        "text/html": "(1 row affected)"
                    },
                    "metadata": {}
                },
                {
                    "output_type": "display_data",
                    "data": {
                        "text/html": "(1 row affected)"
                    },
                    "metadata": {}
                },
                {
                    "output_type": "display_data",
                    "data": {
                        "text/html": "(1 row affected)"
                    },
                    "metadata": {}
                },
                {
                    "output_type": "display_data",
                    "data": {
                        "text/html": "(1 row affected)"
                    },
                    "metadata": {}
                },
                {
                    "output_type": "display_data",
                    "data": {
                        "text/html": "(1 row affected)"
                    },
                    "metadata": {}
                },
                {
                    "output_type": "display_data",
                    "data": {
                        "text/html": "(1 row affected)"
                    },
                    "metadata": {}
                },
                {
                    "output_type": "display_data",
                    "data": {
                        "text/html": "(1 row affected)"
                    },
                    "metadata": {}
                },
                {
                    "output_type": "display_data",
                    "data": {
                        "text/html": "(1 row affected)"
                    },
                    "metadata": {}
                },
                {
                    "output_type": "display_data",
                    "data": {
                        "text/html": "(1 row affected)"
                    },
                    "metadata": {}
                },
                {
                    "output_type": "display_data",
                    "data": {
                        "text/html": "Total execution time: 00:00:01.479"
                    },
                    "metadata": {}
                }
            ],
            "execution_count": 97
        },
        {
            "cell_type": "code",
            "source": [
                "SELECT TOP (1000) [Id]\r\n",
                "      ,[name]\r\n",
                "  FROM [portfolio].[horses-ranking].[groups];"
            ],
            "metadata": {
                "azdata_cell_guid": "62a9dd74-c16b-43b8-99e1-76cb6775be43",
                "language": "sql"
            },
            "outputs": [
                {
                    "output_type": "display_data",
                    "data": {
                        "text/html": "(5 rows affected)"
                    },
                    "metadata": {}
                },
                {
                    "output_type": "display_data",
                    "data": {
                        "text/html": "Total execution time: 00:00:00.065"
                    },
                    "metadata": {}
                },
                {
                    "output_type": "execute_result",
                    "metadata": {},
                    "execution_count": 98,
                    "data": {
                        "application/vnd.dataresource+json": {
                            "schema": {
                                "fields": [
                                    {
                                        "name": "Id"
                                    },
                                    {
                                        "name": "name"
                                    }
                                ]
                            },
                            "data": [
                                {
                                    "Id": "1",
                                    "name": "A"
                                },
                                {
                                    "Id": "2",
                                    "name": "B"
                                },
                                {
                                    "Id": "3",
                                    "name": "C"
                                },
                                {
                                    "Id": "4",
                                    "name": "D"
                                },
                                {
                                    "Id": "5",
                                    "name": "E"
                                }
                            ]
                        },
                        "text/html": [
                            "<table>",
                            "<tr><th>Id</th><th>name</th></tr>",
                            "<tr><td>1</td><td>A</td></tr>",
                            "<tr><td>2</td><td>B</td></tr>",
                            "<tr><td>3</td><td>C</td></tr>",
                            "<tr><td>4</td><td>D</td></tr>",
                            "<tr><td>5</td><td>E</td></tr>",
                            "</table>"
                        ]
                    }
                }
            ],
            "execution_count": 98
        },
        {
            "cell_type": "code",
            "source": [
                "SELECT TOP (100) \r\n",
                "       h.[Id]\r\n",
                "      ,h.[name]\r\n",
                "      ,h.[speed]\r\n",
                "      ,g.[name]\r\n",
                "  FROM [portfolio].[horses-ranking].[horses] h\r\n",
                "  JOIN [portfolio].[horses-ranking].[groups] g ON g.Id = h.groupId\r\n",
                "  ORDER BY [speed] DESC ,[groupId], h.[name];"
            ],
            "metadata": {
                "azdata_cell_guid": "f1e1b615-a12f-4a6b-96cc-6076d8079f0b",
                "language": "sql"
            },
            "outputs": [
                {
                    "output_type": "display_data",
                    "data": {
                        "text/html": "(25 rows affected)"
                    },
                    "metadata": {}
                },
                {
                    "output_type": "display_data",
                    "data": {
                        "text/html": "Total execution time: 00:00:00.092"
                    },
                    "metadata": {}
                },
                {
                    "output_type": "execute_result",
                    "metadata": {},
                    "execution_count": 110,
                    "data": {
                        "application/vnd.dataresource+json": {
                            "schema": {
                                "fields": [
                                    {
                                        "name": "Id"
                                    },
                                    {
                                        "name": "name"
                                    },
                                    {
                                        "name": "speed"
                                    },
                                    {
                                        "name": "name"
                                    }
                                ]
                            },
                            "data": [
                                {
                                    "Id": "14",
                                    "name": "C",
                                    "speed": "75"
                                },
                                {
                                    "Id": "10",
                                    "name": "B",
                                    "speed": "74"
                                },
                                {
                                    "Id": "21",
                                    "name": "E",
                                    "speed": "74"
                                },
                                {
                                    "Id": "18",
                                    "name": "D",
                                    "speed": "70"
                                },
                                {
                                    "Id": "8",
                                    "name": "B",
                                    "speed": "69"
                                },
                                {
                                    "Id": "25",
                                    "name": "E",
                                    "speed": "67"
                                },
                                {
                                    "Id": "17",
                                    "name": "D",
                                    "speed": "65"
                                },
                                {
                                    "Id": "13",
                                    "name": "C",
                                    "speed": "61"
                                },
                                {
                                    "Id": "23",
                                    "name": "E",
                                    "speed": "58"
                                },
                                {
                                    "Id": "11",
                                    "name": "C",
                                    "speed": "56"
                                },
                                {
                                    "Id": "5",
                                    "name": "A",
                                    "speed": "53"
                                },
                                {
                                    "Id": "4",
                                    "name": "A",
                                    "speed": "49"
                                },
                                {
                                    "Id": "19",
                                    "name": "D",
                                    "speed": "47"
                                },
                                {
                                    "Id": "9",
                                    "name": "B",
                                    "speed": "46"
                                },
                                {
                                    "Id": "16",
                                    "name": "D",
                                    "speed": "40"
                                },
                                {
                                    "Id": "20",
                                    "name": "D",
                                    "speed": "39"
                                },
                                {
                                    "Id": "12",
                                    "name": "C",
                                    "speed": "36"
                                },
                                {
                                    "Id": "6",
                                    "name": "B",
                                    "speed": "34"
                                },
                                {
                                    "Id": "22",
                                    "name": "E",
                                    "speed": "32"
                                },
                                {
                                    "Id": "7",
                                    "name": "B",
                                    "speed": "28"
                                },
                                {
                                    "Id": "1",
                                    "name": "A",
                                    "speed": "24"
                                },
                                {
                                    "Id": "24",
                                    "name": "E",
                                    "speed": "21"
                                },
                                {
                                    "Id": "15",
                                    "name": "C",
                                    "speed": "17"
                                },
                                {
                                    "Id": "3",
                                    "name": "A",
                                    "speed": "14"
                                },
                                {
                                    "Id": "2",
                                    "name": "A",
                                    "speed": "1"
                                }
                            ]
                        },
                        "text/html": [
                            "<table>",
                            "<tr><th>Id</th><th>name</th><th>speed</th><th>name</th></tr>",
                            "<tr><td>14</td><td>C4</td><td>75</td><td>C</td></tr>",
                            "<tr><td>10</td><td>B5</td><td>74</td><td>B</td></tr>",
                            "<tr><td>21</td><td>E1</td><td>74</td><td>E</td></tr>",
                            "<tr><td>18</td><td>D3</td><td>70</td><td>D</td></tr>",
                            "<tr><td>8</td><td>B3</td><td>69</td><td>B</td></tr>",
                            "<tr><td>25</td><td>E5</td><td>67</td><td>E</td></tr>",
                            "<tr><td>17</td><td>D2</td><td>65</td><td>D</td></tr>",
                            "<tr><td>13</td><td>C3</td><td>61</td><td>C</td></tr>",
                            "<tr><td>23</td><td>E3</td><td>58</td><td>E</td></tr>",
                            "<tr><td>11</td><td>C1</td><td>56</td><td>C</td></tr>",
                            "<tr><td>5</td><td>A5</td><td>53</td><td>A</td></tr>",
                            "<tr><td>4</td><td>A4</td><td>49</td><td>A</td></tr>",
                            "<tr><td>19</td><td>D4</td><td>47</td><td>D</td></tr>",
                            "<tr><td>9</td><td>B4</td><td>46</td><td>B</td></tr>",
                            "<tr><td>16</td><td>D1</td><td>40</td><td>D</td></tr>",
                            "<tr><td>20</td><td>D5</td><td>39</td><td>D</td></tr>",
                            "<tr><td>12</td><td>C2</td><td>36</td><td>C</td></tr>",
                            "<tr><td>6</td><td>B1</td><td>34</td><td>B</td></tr>",
                            "<tr><td>22</td><td>E2</td><td>32</td><td>E</td></tr>",
                            "<tr><td>7</td><td>B2</td><td>28</td><td>B</td></tr>",
                            "<tr><td>1</td><td>A1</td><td>24</td><td>A</td></tr>",
                            "<tr><td>24</td><td>E4</td><td>21</td><td>E</td></tr>",
                            "<tr><td>15</td><td>C5</td><td>17</td><td>C</td></tr>",
                            "<tr><td>3</td><td>A3</td><td>14</td><td>A</td></tr>",
                            "<tr><td>2</td><td>A2</td><td>1</td><td>A</td></tr>",
                            "</table>"
                        ]
                    }
                }
            ],
            "execution_count": 110
        },
        {
            "cell_type": "code",
            "source": [
                "/*Race the horses in groups*/\r\n",
                "USE portfolio;\r\n",
                "GO\r\n",
                "\r\n",
                "CREATE OR ALTER VIEW [horses-ranking].[v_horse_ranking_in_group] (id, [name], speed, groupId, horse_speed_rang)\r\n",
                "AS\r\n",
                "SELECT TOP (100) [Id]\r\n",
                "      ,[name]\r\n",
                "      ,[speed]\r\n",
                "      ,[groupId]\r\n",
                "      ,ROW_NUMBER() over (order by [speed] DESC, [groupId]) as [horse_speed_rang]\r\n",
                "  FROM [portfolio].[horses-ranking].[horses]\r\n",
                "  ORDER BY [groupId], [speed] DESC, [name];\r\n",
                "GO\r\n",
                "\r\n",
                "SElECT [Id]\r\n",
                "      ,[name]\r\n",
                "      ,[speed]\r\n",
                "      ,[groupId]\r\n",
                "      ,[horse_speed_rang]\r\n",
                "FROM [horses-ranking].[v_horse_ranking_in_group];"
            ],
            "metadata": {
                "language": "sql",
                "azdata_cell_guid": "8539d301-e861-47ee-9f14-19d20341e447"
            },
            "outputs": [
                {
                    "output_type": "display_data",
                    "data": {
                        "text/html": "Commands completed successfully."
                    },
                    "metadata": {}
                },
                {
                    "output_type": "display_data",
                    "data": {
                        "text/html": "Commands completed successfully."
                    },
                    "metadata": {}
                },
                {
                    "output_type": "display_data",
                    "data": {
                        "text/html": "(25 rows affected)"
                    },
                    "metadata": {}
                },
                {
                    "output_type": "display_data",
                    "data": {
                        "text/html": "Total execution time: 00:00:00.182"
                    },
                    "metadata": {}
                },
                {
                    "output_type": "execute_result",
                    "metadata": {},
                    "execution_count": 111,
                    "data": {
                        "application/vnd.dataresource+json": {
                            "schema": {
                                "fields": [
                                    {
                                        "name": "Id"
                                    },
                                    {
                                        "name": "name"
                                    },
                                    {
                                        "name": "speed"
                                    },
                                    {
                                        "name": "groupId"
                                    },
                                    {
                                        "name": "horse_speed_rang"
                                    }
                                ]
                            },
                            "data": [
                                {
                                    "Id": "5",
                                    "name": "A5",
                                    "speed": "53",
                                    "groupId": "1",
                                    "horse_speed_rang": "11"
                                },
                                {
                                    "Id": "4",
                                    "name": "A4",
                                    "speed": "49",
                                    "groupId": "1",
                                    "horse_speed_rang": "12"
                                },
                                {
                                    "Id": "1",
                                    "name": "A1",
                                    "speed": "24",
                                    "groupId": "1",
                                    "horse_speed_rang": "21"
                                },
                                {
                                    "Id": "3",
                                    "name": "A3",
                                    "speed": "14",
                                    "groupId": "1",
                                    "horse_speed_rang": "24"
                                },
                                {
                                    "Id": "2",
                                    "name": "A2",
                                    "speed": "1",
                                    "groupId": "1",
                                    "horse_speed_rang": "25"
                                },
                                {
                                    "Id": "10",
                                    "name": "B5",
                                    "speed": "74",
                                    "groupId": "2",
                                    "horse_speed_rang": "2"
                                },
                                {
                                    "Id": "8",
                                    "name": "B3",
                                    "speed": "69",
                                    "groupId": "2",
                                    "horse_speed_rang": "5"
                                },
                                {
                                    "Id": "9",
                                    "name": "B4",
                                    "speed": "46",
                                    "groupId": "2",
                                    "horse_speed_rang": "14"
                                },
                                {
                                    "Id": "6",
                                    "name": "B1",
                                    "speed": "34",
                                    "groupId": "2",
                                    "horse_speed_rang": "18"
                                },
                                {
                                    "Id": "7",
                                    "name": "B2",
                                    "speed": "28",
                                    "groupId": "2",
                                    "horse_speed_rang": "20"
                                },
                                {
                                    "Id": "14",
                                    "name": "C4",
                                    "speed": "75",
                                    "groupId": "3",
                                    "horse_speed_rang": "1"
                                },
                                {
                                    "Id": "13",
                                    "name": "C3",
                                    "speed": "61",
                                    "groupId": "3",
                                    "horse_speed_rang": "8"
                                },
                                {
                                    "Id": "11",
                                    "name": "C1",
                                    "speed": "56",
                                    "groupId": "3",
                                    "horse_speed_rang": "10"
                                },
                                {
                                    "Id": "12",
                                    "name": "C2",
                                    "speed": "36",
                                    "groupId": "3",
                                    "horse_speed_rang": "17"
                                },
                                {
                                    "Id": "15",
                                    "name": "C5",
                                    "speed": "17",
                                    "groupId": "3",
                                    "horse_speed_rang": "23"
                                },
                                {
                                    "Id": "18",
                                    "name": "D3",
                                    "speed": "70",
                                    "groupId": "4",
                                    "horse_speed_rang": "4"
                                },
                                {
                                    "Id": "17",
                                    "name": "D2",
                                    "speed": "65",
                                    "groupId": "4",
                                    "horse_speed_rang": "7"
                                },
                                {
                                    "Id": "19",
                                    "name": "D4",
                                    "speed": "47",
                                    "groupId": "4",
                                    "horse_speed_rang": "13"
                                },
                                {
                                    "Id": "16",
                                    "name": "D1",
                                    "speed": "40",
                                    "groupId": "4",
                                    "horse_speed_rang": "15"
                                },
                                {
                                    "Id": "20",
                                    "name": "D5",
                                    "speed": "39",
                                    "groupId": "4",
                                    "horse_speed_rang": "16"
                                },
                                {
                                    "Id": "21",
                                    "name": "E1",
                                    "speed": "74",
                                    "groupId": "5",
                                    "horse_speed_rang": "3"
                                },
                                {
                                    "Id": "25",
                                    "name": "E5",
                                    "speed": "67",
                                    "groupId": "5",
                                    "horse_speed_rang": "6"
                                },
                                {
                                    "Id": "23",
                                    "name": "E3",
                                    "speed": "58",
                                    "groupId": "5",
                                    "horse_speed_rang": "9"
                                },
                                {
                                    "Id": "22",
                                    "name": "E2",
                                    "speed": "32",
                                    "groupId": "5",
                                    "horse_speed_rang": "19"
                                },
                                {
                                    "Id": "24",
                                    "name": "E4",
                                    "speed": "21",
                                    "groupId": "5",
                                    "horse_speed_rang": "22"
                                }
                            ]
                        },
                        "text/html": [
                            "<table>",
                            "<tr><th>Id</th><th>name</th><th>speed</th><th>groupId</th><th>horse_speed_rang</th></tr>",
                            "<tr><td>5</td><td>A5</td><td>53</td><td>1</td><td>11</td></tr>",
                            "<tr><td>4</td><td>A4</td><td>49</td><td>1</td><td>12</td></tr>",
                            "<tr><td>1</td><td>A1</td><td>24</td><td>1</td><td>21</td></tr>",
                            "<tr><td>3</td><td>A3</td><td>14</td><td>1</td><td>24</td></tr>",
                            "<tr><td>2</td><td>A2</td><td>1</td><td>1</td><td>25</td></tr>",
                            "<tr><td>10</td><td>B5</td><td>74</td><td>2</td><td>2</td></tr>",
                            "<tr><td>8</td><td>B3</td><td>69</td><td>2</td><td>5</td></tr>",
                            "<tr><td>9</td><td>B4</td><td>46</td><td>2</td><td>14</td></tr>",
                            "<tr><td>6</td><td>B1</td><td>34</td><td>2</td><td>18</td></tr>",
                            "<tr><td>7</td><td>B2</td><td>28</td><td>2</td><td>20</td></tr>",
                            "<tr><td>14</td><td>C4</td><td>75</td><td>3</td><td>1</td></tr>",
                            "<tr><td>13</td><td>C3</td><td>61</td><td>3</td><td>8</td></tr>",
                            "<tr><td>11</td><td>C1</td><td>56</td><td>3</td><td>10</td></tr>",
                            "<tr><td>12</td><td>C2</td><td>36</td><td>3</td><td>17</td></tr>",
                            "<tr><td>15</td><td>C5</td><td>17</td><td>3</td><td>23</td></tr>",
                            "<tr><td>18</td><td>D3</td><td>70</td><td>4</td><td>4</td></tr>",
                            "<tr><td>17</td><td>D2</td><td>65</td><td>4</td><td>7</td></tr>",
                            "<tr><td>19</td><td>D4</td><td>47</td><td>4</td><td>13</td></tr>",
                            "<tr><td>16</td><td>D1</td><td>40</td><td>4</td><td>15</td></tr>",
                            "<tr><td>20</td><td>D5</td><td>39</td><td>4</td><td>16</td></tr>",
                            "<tr><td>21</td><td>E1</td><td>74</td><td>5</td><td>3</td></tr>",
                            "<tr><td>25</td><td>E5</td><td>67</td><td>5</td><td>6</td></tr>",
                            "<tr><td>23</td><td>E3</td><td>58</td><td>5</td><td>9</td></tr>",
                            "<tr><td>22</td><td>E2</td><td>32</td><td>5</td><td>19</td></tr>",
                            "<tr><td>24</td><td>E4</td><td>21</td><td>5</td><td>22</td></tr>",
                            "</table>"
                        ]
                    }
                }
            ],
            "execution_count": 111
        },
        {
            "cell_type": "code",
            "source": [
                "/*\r\n",
                "Returns the fastest horse in each group. the result is ordered by total speed.\r\n",
                "The order is by the fstest group to the slowest one.\r\n",
                "*/\r\n",
                "USE portfolio;\r\n",
                "GO\r\n",
                "\r\n",
                "CREATE OR ALTER VIEW [horses-ranking].[v_group_ranking] (groupId, max_speed, group_speed_rang)\r\n",
                "AS\r\n",
                "SELECT TOP (100) \r\n",
                "      [groupId]\r\n",
                "      ,max([speed]) as max_speed\r\n",
                "      ,row_number() over (order by max([speed])DESC) as [group_speed_rang]\r\n",
                "  FROM [portfolio].[horses-ranking].[horses]\r\n",
                "  GROUP BY [groupId]\r\n",
                "  ORDER BY max([speed]) DESC, [groupId];"
            ],
            "metadata": {
                "language": "sql",
                "azdata_cell_guid": "4b4cdad6-68c2-41dd-8748-04ec7cbe14b3"
            },
            "outputs": [
                {
                    "output_type": "display_data",
                    "data": {
                        "text/html": "Commands completed successfully."
                    },
                    "metadata": {}
                },
                {
                    "output_type": "display_data",
                    "data": {
                        "text/html": "Commands completed successfully."
                    },
                    "metadata": {}
                },
                {
                    "output_type": "display_data",
                    "data": {
                        "text/html": "Total execution time: 00:00:00.117"
                    },
                    "metadata": {}
                }
            ],
            "execution_count": 101
        },
        {
            "cell_type": "code",
            "source": [
                "SELECT * FROM [portfolio].[horses-ranking].[v_group_ranking];"
            ],
            "metadata": {
                "language": "sql",
                "azdata_cell_guid": "5023ab4b-6403-4232-917a-b52986d6b4a2"
            },
            "outputs": [
                {
                    "output_type": "display_data",
                    "data": {
                        "text/html": "(5 rows affected)"
                    },
                    "metadata": {}
                },
                {
                    "output_type": "display_data",
                    "data": {
                        "text/html": "Total execution time: 00:00:00.069"
                    },
                    "metadata": {}
                },
                {
                    "output_type": "execute_result",
                    "metadata": {},
                    "execution_count": 102,
                    "data": {
                        "application/vnd.dataresource+json": {
                            "schema": {
                                "fields": [
                                    {
                                        "name": "groupId"
                                    },
                                    {
                                        "name": "max_speed"
                                    },
                                    {
                                        "name": "group_speed_rang"
                                    }
                                ]
                            },
                            "data": [
                                {
                                    "groupId": "3",
                                    "max_speed": "75",
                                    "group_speed_rang": "1"
                                },
                                {
                                    "groupId": "2",
                                    "max_speed": "74",
                                    "group_speed_rang": "2"
                                },
                                {
                                    "groupId": "5",
                                    "max_speed": "74",
                                    "group_speed_rang": "3"
                                },
                                {
                                    "groupId": "4",
                                    "max_speed": "70",
                                    "group_speed_rang": "4"
                                },
                                {
                                    "groupId": "1",
                                    "max_speed": "53",
                                    "group_speed_rang": "5"
                                }
                            ]
                        },
                        "text/html": [
                            "<table>",
                            "<tr><th>groupId</th><th>max_speed</th><th>group_speed_rang</th></tr>",
                            "<tr><td>3</td><td>75</td><td>1</td></tr>",
                            "<tr><td>2</td><td>74</td><td>2</td></tr>",
                            "<tr><td>5</td><td>74</td><td>3</td></tr>",
                            "<tr><td>4</td><td>70</td><td>4</td></tr>",
                            "<tr><td>1</td><td>53</td><td>5</td></tr>",
                            "</table>"
                        ]
                    }
                }
            ],
            "execution_count": 102
        },
        {
            "cell_type": "code",
            "source": [
                "/*The fastest horse overall is*/\r\n",
                "\r\n",
                "SElECT * FROM (\r\n",
                "    SElECT [Id]\r\n",
                "        ,[name]\r\n",
                "        ,[speed]\r\n",
                "        ,[groupId]\r\n",
                "        ,[horse_speed_rang]\r\n",
                "        ,row_number() over (order by horse_speed_rang) as [rang]\r\n",
                "    FROM [portfolio].[horses-ranking].[v_horse_ranking_in_group]\r\n",
                "    WHERE groupId = (SELECT groupId FROM [portfolio].[horses-ranking].[v_group_ranking] WHERE group_speed_rang = 1)\r\n",
                "    ) AS fastest\r\n",
                "WHERE [rang] = 1\r\n",
                "GO"
            ],
            "metadata": {
                "language": "sql",
                "azdata_cell_guid": "715e4246-a75c-4994-8d2d-0def7b1e1add",
                "tags": [
                    "hide_input"
                ]
            },
            "outputs": [
                {
                    "output_type": "display_data",
                    "data": {
                        "text/html": "(1 row affected)"
                    },
                    "metadata": {}
                },
                {
                    "output_type": "display_data",
                    "data": {
                        "text/html": "Total execution time: 00:00:00.067"
                    },
                    "metadata": {}
                },
                {
                    "output_type": "execute_result",
                    "metadata": {},
                    "execution_count": 112,
                    "data": {
                        "application/vnd.dataresource+json": {
                            "schema": {
                                "fields": [
                                    {
                                        "name": "Id"
                                    },
                                    {
                                        "name": "name"
                                    },
                                    {
                                        "name": "speed"
                                    },
                                    {
                                        "name": "groupId"
                                    },
                                    {
                                        "name": "horse_speed_rang"
                                    },
                                    {
                                        "name": "rang"
                                    }
                                ]
                            },
                            "data": [
                                {
                                    "Id": "14",
                                    "name": "C4",
                                    "speed": "75",
                                    "groupId": "3",
                                    "horse_speed_rang": "1",
                                    "rang": "1"
                                }
                            ]
                        },
                        "text/html": [
                            "<table>",
                            "<tr><th>Id</th><th>name</th><th>speed</th><th>groupId</th><th>horse_speed_rang</th><th>rang</th></tr>",
                            "<tr><td>14</td><td>C4</td><td>75</td><td>3</td><td>1</td><td>1</td></tr>",
                            "</table>"
                        ]
                    }
                }
            ],
            "execution_count": 112
        },
        {
            "cell_type": "code",
            "source": [
                "/*Two more horses from the group of the fastest horse overall could be the second and third fastest overall*/\r\n",
                "SElECT * FROM (\r\n",
                "    SElECT [Id]\r\n",
                "        ,[name]\r\n",
                "        ,[speed]\r\n",
                "        ,[groupId]\r\n",
                "        ,[horse_speed_rang]\r\n",
                "        ,row_number() over (order by horse_speed_rang) as [rang]\r\n",
                "    FROM [portfolio].[horses-ranking].[v_horse_ranking_in_group]\r\n",
                "    WHERE groupId = (SELECT groupId FROM [portfolio].[horses-ranking].[v_group_ranking] WHERE group_speed_rang = 1)\r\n",
                "    ) AS fastest\r\n",
                "WHERE [rang] in (2 , 3)\r\n",
                "GO"
            ],
            "metadata": {
                "language": "sql",
                "azdata_cell_guid": "b9ad7425-fb47-4001-a469-46e392eeade4"
            },
            "outputs": [
                {
                    "output_type": "display_data",
                    "data": {
                        "text/html": "(2 rows affected)"
                    },
                    "metadata": {}
                },
                {
                    "output_type": "display_data",
                    "data": {
                        "text/html": "Total execution time: 00:00:00.063"
                    },
                    "metadata": {}
                },
                {
                    "output_type": "execute_result",
                    "metadata": {},
                    "execution_count": 116,
                    "data": {
                        "application/vnd.dataresource+json": {
                            "schema": {
                                "fields": [
                                    {
                                        "name": "Id"
                                    },
                                    {
                                        "name": "name"
                                    },
                                    {
                                        "name": "speed"
                                    },
                                    {
                                        "name": "groupId"
                                    },
                                    {
                                        "name": "horse_speed_rang"
                                    },
                                    {
                                        "name": "rang"
                                    }
                                ]
                            },
                            "data": [
                                {
                                    "Id": "13",
                                    "name": "C3",
                                    "speed": "61",
                                    "groupId": "3",
                                    "horse_speed_rang": "8",
                                    "rang": "2"
                                },
                                {
                                    "Id": "11",
                                    "name": "C1",
                                    "speed": "56",
                                    "groupId": "3",
                                    "horse_speed_rang": "10",
                                    "rang": "3"
                                }
                            ]
                        },
                        "text/html": [
                            "<table>",
                            "<tr><th>Id</th><th>name</th><th>speed</th><th>groupId</th><th>horse_speed_rang</th><th>rang</th></tr>",
                            "<tr><td>13</td><td>C3</td><td>61</td><td>3</td><td>8</td><td>2</td></tr>",
                            "<tr><td>11</td><td>C1</td><td>56</td><td>3</td><td>10</td><td>3</td></tr>",
                            "</table>"
                        ]
                    }
                }
            ],
            "execution_count": 116
        },
        {
            "cell_type": "code",
            "source": [
                "/*Two more horses from the group of the second fastest horse overall could be the second and third fastest overall*/\r\n",
                "SElECT * FROM (\r\n",
                "    SElECT [Id]\r\n",
                "        ,[name]\r\n",
                "        ,[speed]\r\n",
                "        ,[groupId]\r\n",
                "        ,[horse_speed_rang]\r\n",
                "        ,row_number() over (order by horse_speed_rang) as [rang]\r\n",
                "    FROM [portfolio].[horses-ranking].[v_horse_ranking_in_group]\r\n",
                "    WHERE groupId = (SELECT groupId FROM [portfolio].[horses-ranking].[v_group_ranking] WHERE group_speed_rang = 2)\r\n",
                "    ) AS secondFastest\r\n",
                "WHERE [rang] in (1,2)\r\n",
                "GO"
            ],
            "metadata": {
                "language": "sql",
                "azdata_cell_guid": "e00c4bb6-0450-4b47-98bc-e9975b681b0d"
            },
            "outputs": [
                {
                    "output_type": "display_data",
                    "data": {
                        "text/html": "(2 rows affected)"
                    },
                    "metadata": {}
                },
                {
                    "output_type": "display_data",
                    "data": {
                        "text/html": "Total execution time: 00:00:00.091"
                    },
                    "metadata": {}
                },
                {
                    "output_type": "execute_result",
                    "metadata": {},
                    "execution_count": 117,
                    "data": {
                        "application/vnd.dataresource+json": {
                            "schema": {
                                "fields": [
                                    {
                                        "name": "Id"
                                    },
                                    {
                                        "name": "name"
                                    },
                                    {
                                        "name": "speed"
                                    },
                                    {
                                        "name": "groupId"
                                    },
                                    {
                                        "name": "horse_speed_rang"
                                    },
                                    {
                                        "name": "rang"
                                    }
                                ]
                            },
                            "data": [
                                {
                                    "Id": "10",
                                    "name": "B5",
                                    "speed": "74",
                                    "groupId": "2",
                                    "horse_speed_rang": "2",
                                    "rang": "1"
                                },
                                {
                                    "Id": "8",
                                    "name": "B3",
                                    "speed": "69",
                                    "groupId": "2",
                                    "horse_speed_rang": "5",
                                    "rang": "2"
                                }
                            ]
                        },
                        "text/html": [
                            "<table>",
                            "<tr><th>Id</th><th>name</th><th>speed</th><th>groupId</th><th>horse_speed_rang</th><th>rang</th></tr>",
                            "<tr><td>10</td><td>B5</td><td>74</td><td>2</td><td>2</td><td>1</td></tr>",
                            "<tr><td>8</td><td>B3</td><td>69</td><td>2</td><td>5</td><td>2</td></tr>",
                            "</table>"
                        ]
                    }
                }
            ],
            "execution_count": 117
        },
        {
            "cell_type": "code",
            "source": [
                "/*Last is the first horse from the third group.*/\r\n",
                "SElECT * FROM (\r\n",
                "    SElECT [Id]\r\n",
                "        ,[name]\r\n",
                "        ,[speed]\r\n",
                "        ,[groupId]\r\n",
                "        ,[horse_speed_rang]\r\n",
                "        ,row_number() over (order by horse_speed_rang) as [rang]\r\n",
                "    FROM [portfolio].[horses-ranking].[v_horse_ranking_in_group]\r\n",
                "    WHERE groupId = (SELECT groupId FROM [portfolio].[horses-ranking].[v_group_ranking] WHERE group_speed_rang = 3)\r\n",
                "    ) AS thirdFastest\r\n",
                "WHERE [rang] =1\r\n",
                "GO"
            ],
            "metadata": {
                "language": "sql",
                "azdata_cell_guid": "2740f8e1-9a12-4b7f-b08a-c0e2c5c0de5e"
            },
            "outputs": [
                {
                    "output_type": "display_data",
                    "data": {
                        "text/html": "(1 row affected)"
                    },
                    "metadata": {}
                },
                {
                    "output_type": "display_data",
                    "data": {
                        "text/html": "Total execution time: 00:00:00.183"
                    },
                    "metadata": {}
                },
                {
                    "output_type": "execute_result",
                    "metadata": {},
                    "execution_count": 106,
                    "data": {
                        "application/vnd.dataresource+json": {
                            "schema": {
                                "fields": [
                                    {
                                        "name": "Id"
                                    },
                                    {
                                        "name": "name"
                                    },
                                    {
                                        "name": "speed"
                                    },
                                    {
                                        "name": "groupId"
                                    },
                                    {
                                        "name": "horse_speed_rang"
                                    },
                                    {
                                        "name": "rang"
                                    }
                                ]
                            },
                            "data": [
                                {
                                    "Id": "21",
                                    "name": "E1",
                                    "speed": "74",
                                    "groupId": "5",
                                    "horse_speed_rang": "3",
                                    "rang": "1"
                                }
                            ]
                        },
                        "text/html": [
                            "<table>",
                            "<tr><th>Id</th><th>name</th><th>speed</th><th>groupId</th><th>horse_speed_rang</th><th>rang</th></tr>",
                            "<tr><td>21</td><td>E1</td><td>74</td><td>5</td><td>3</td><td>1</td></tr>",
                            "</table>"
                        ]
                    }
                }
            ],
            "execution_count": 106
        },
        {
            "cell_type": "code",
            "source": [
                "/*Combine them all and do the final race to pick the secpond and third fastest overall*/\r\n",
                "SElECT TOP (2)\r\n",
                "            [Id]\r\n",
                "            ,[name]\r\n",
                "            ,[speed]\r\n",
                "            ,[groupId]\r\n",
                "            ,[horse_speed_rang]\r\n",
                "            , [rang]\r\n",
                "FROM (\r\n",
                "    SElECT * FROM (\r\n",
                "        SElECT [Id]\r\n",
                "            ,[name]\r\n",
                "            ,[speed]\r\n",
                "            ,[groupId]\r\n",
                "            ,[horse_speed_rang]\r\n",
                "            ,row_number() over (order by horse_speed_rang) as [rang]\r\n",
                "        FROM [portfolio].[horses-ranking].[v_horse_ranking_in_group]\r\n",
                "        WHERE groupId = (SELECT groupId FROM [portfolio].[horses-ranking].[v_group_ranking] WHERE group_speed_rang = 1)\r\n",
                "        ) AS fastest\r\n",
                "    WHERE [rang] in (2,3)\r\n",
                "    UNION ALL\r\n",
                "    SElECT * FROM (\r\n",
                "        SElECT [Id]\r\n",
                "            ,[name]\r\n",
                "            ,[speed]\r\n",
                "            ,[groupId]\r\n",
                "            ,[horse_speed_rang]\r\n",
                "            ,row_number() over (order by horse_speed_rang) as [rang]\r\n",
                "        FROM [portfolio].[horses-ranking].[v_horse_ranking_in_group]\r\n",
                "        WHERE groupId = (SELECT groupId FROM [portfolio].[horses-ranking].[v_group_ranking] WHERE group_speed_rang = 2)\r\n",
                "        ) AS secondFastest\r\n",
                "    WHERE [rang] in (1,2)\r\n",
                "    UNION ALL\r\n",
                "    SElECT * FROM (\r\n",
                "        SElECT [Id]\r\n",
                "            ,[name]\r\n",
                "            ,[speed]\r\n",
                "            ,[groupId]\r\n",
                "            ,[horse_speed_rang]\r\n",
                "            ,row_number() over (order by horse_speed_rang) as [rang]\r\n",
                "        FROM [portfolio].[horses-ranking].[v_horse_ranking_in_group]\r\n",
                "        WHERE groupId = (SELECT groupId FROM [portfolio].[horses-ranking].[v_group_ranking] WHERE group_speed_rang = 3)\r\n",
                "        ) AS thirdFastest\r\n",
                "    WHERE [rang] =1\r\n",
                ") as findSecondAndThirdFastestOverall\r\n",
                "ORDER BY [horse_speed_rang]\r\n",
                "GO"
            ],
            "metadata": {
                "language": "sql",
                "azdata_cell_guid": "add765b0-5a55-4941-9c0a-1432b9cfd224"
            },
            "outputs": [
                {
                    "output_type": "display_data",
                    "data": {
                        "text/html": "(2 rows affected)"
                    },
                    "metadata": {}
                },
                {
                    "output_type": "display_data",
                    "data": {
                        "text/html": "Total execution time: 00:00:00.067"
                    },
                    "metadata": {}
                },
                {
                    "output_type": "execute_result",
                    "metadata": {},
                    "execution_count": 119,
                    "data": {
                        "application/vnd.dataresource+json": {
                            "schema": {
                                "fields": [
                                    {
                                        "name": "Id"
                                    },
                                    {
                                        "name": "name"
                                    },
                                    {
                                        "name": "speed"
                                    },
                                    {
                                        "name": "groupId"
                                    },
                                    {
                                        "name": "horse_speed_rang"
                                    },
                                    {
                                        "name": "rang"
                                    }
                                ]
                            },
                            "data": [
                                {
                                    "Id": "10",
                                    "name": "B5",
                                    "speed": "74",
                                    "groupId": "2",
                                    "horse_speed_rang": "2",
                                    "rang": "1"
                                },
                                {
                                    "Id": "21",
                                    "name": "E1",
                                    "speed": "74",
                                    "groupId": "5",
                                    "horse_speed_rang": "3",
                                    "rang": "1"
                                }
                            ]
                        },
                        "text/html": [
                            "<table>",
                            "<tr><th>Id</th><th>name</th><th>speed</th><th>groupId</th><th>horse_speed_rang</th><th>rang</th></tr>",
                            "<tr><td>10</td><td>B5</td><td>74</td><td>2</td><td>2</td><td>1</td></tr>",
                            "<tr><td>21</td><td>E1</td><td>74</td><td>5</td><td>3</td><td>1</td></tr>",
                            "</table>"
                        ]
                    }
                }
            ],
            "execution_count": 119
        },
        {
            "cell_type": "code",
            "source": [
                "SElECT \r\n",
                "    [Id]\r\n",
                "    ,[name]\r\n",
                "    ,[speed]\r\n",
                "    ,[groupId]\r\n",
                "    ,[horse_speed_rang]\r\n",
                "    ,[group_speed_rang]\r\n",
                "FROM (\r\n",
                "    SElECT [Id]\r\n",
                "        ,[name]\r\n",
                "        ,[speed]\r\n",
                "        ,[groupId]\r\n",
                "        ,[horse_speed_rang]\r\n",
                "        ,row_number() over (order by horse_speed_rang) as [group_speed_rang]\r\n",
                "    FROM [portfolio].[horses-ranking].[v_horse_ranking_in_group]\r\n",
                "    WHERE groupId = (SELECT groupId FROM [portfolio].[horses-ranking].[v_group_ranking] WHERE group_speed_rang = 1)\r\n",
                "    ) AS fastest\r\n",
                "WHERE [group_speed_rang] = 1\r\n",
                "UNION ALL\r\n",
                "SElECT TOP (2)\r\n",
                "            [Id]\r\n",
                "            ,[name]\r\n",
                "            ,[speed]\r\n",
                "            ,[groupId]\r\n",
                "            ,[horse_speed_rang]\r\n",
                "            ,[group_speed_rang]\r\n",
                "FROM (\r\n",
                "    SElECT * FROM (\r\n",
                "        SElECT [Id]\r\n",
                "            ,[name]\r\n",
                "            ,[speed]\r\n",
                "            ,[groupId]\r\n",
                "            ,[horse_speed_rang]\r\n",
                "            ,row_number() over (order by horse_speed_rang) as [group_speed_rang]\r\n",
                "        FROM [portfolio].[horses-ranking].[v_horse_ranking_in_group]\r\n",
                "        WHERE groupId = (SELECT groupId FROM [portfolio].[horses-ranking].[v_group_ranking] WHERE group_speed_rang = 1)\r\n",
                "        ) AS fastest\r\n",
                "    WHERE [group_speed_rang] in (2,3)\r\n",
                "    UNION ALL\r\n",
                "    SElECT * FROM (\r\n",
                "        SElECT [Id]\r\n",
                "            ,[name]\r\n",
                "            ,[speed]\r\n",
                "            ,[groupId]\r\n",
                "            ,[horse_speed_rang]\r\n",
                "            ,row_number() over (order by horse_speed_rang) as [group_speed_rang]\r\n",
                "        FROM [portfolio].[horses-ranking].[v_horse_ranking_in_group]\r\n",
                "        WHERE groupId = (SELECT groupId FROM [portfolio].[horses-ranking].[v_group_ranking] WHERE group_speed_rang = 2)\r\n",
                "        ) AS secondFastest\r\n",
                "    WHERE [group_speed_rang] in (1,2)\r\n",
                "    UNION ALL\r\n",
                "    SElECT * FROM (\r\n",
                "        SElECT [Id]\r\n",
                "            ,[name]\r\n",
                "            ,[speed]\r\n",
                "            ,[groupId]\r\n",
                "            ,[horse_speed_rang]\r\n",
                "            ,row_number() over (order by horse_speed_rang) as [group_speed_rang]\r\n",
                "        FROM [portfolio].[horses-ranking].[v_horse_ranking_in_group]\r\n",
                "        WHERE groupId = (SELECT groupId FROM [portfolio].[horses-ranking].[v_group_ranking] WHERE group_speed_rang = 3)\r\n",
                "        ) AS thirdFastest\r\n",
                "    WHERE [group_speed_rang] =1\r\n",
                ") as findSecondAndThirdFastestOverall\r\n",
                "ORDER BY [horse_speed_rang]\r\n",
                "GO"
            ],
            "metadata": {
                "language": "sql",
                "azdata_cell_guid": "9803e9a1-1313-43b8-83a8-466c5c8921dc"
            },
            "outputs": [
                {
                    "output_type": "display_data",
                    "data": {
                        "text/html": "(3 rows affected)"
                    },
                    "metadata": {}
                },
                {
                    "output_type": "display_data",
                    "data": {
                        "text/html": "Total execution time: 00:00:00.157"
                    },
                    "metadata": {}
                },
                {
                    "output_type": "execute_result",
                    "metadata": {},
                    "execution_count": 125,
                    "data": {
                        "application/vnd.dataresource+json": {
                            "schema": {
                                "fields": [
                                    {
                                        "name": "Id"
                                    },
                                    {
                                        "name": "name"
                                    },
                                    {
                                        "name": "speed"
                                    },
                                    {
                                        "name": "groupId"
                                    },
                                    {
                                        "name": "horse_speed_rang"
                                    },
                                    {
                                        "name": "group_speed_rang"
                                    }
                                ]
                            },
                            "data": [
                                {
                                    "Id": "14",
                                    "name": "C4",
                                    "speed": "75",
                                    "groupId": "3",
                                    "horse_speed_rang": "1",
                                    "group_speed_rang": "1"
                                },
                                {
                                    "Id": "10",
                                    "name": "B5",
                                    "speed": "74",
                                    "groupId": "2",
                                    "horse_speed_rang": "2",
                                    "group_speed_rang": "1"
                                },
                                {
                                    "Id": "21",
                                    "name": "E1",
                                    "speed": "74",
                                    "groupId": "5",
                                    "horse_speed_rang": "3",
                                    "group_speed_rang": "1"
                                }
                            ]
                        },
                        "text/html": [
                            "<table>",
                            "<tr><th>Id</th><th>name</th><th>speed</th><th>groupId</th><th>horse_speed_rang</th><th>group_speed_rang</th></tr>",
                            "<tr><td>14</td><td>C4</td><td>75</td><td>3</td><td>1</td><td>1</td></tr>",
                            "<tr><td>10</td><td>B5</td><td>74</td><td>2</td><td>2</td><td>1</td></tr>",
                            "<tr><td>21</td><td>E1</td><td>74</td><td>5</td><td>3</td><td>1</td></tr>",
                            "</table>"
                        ]
                    }
                }
            ],
            "execution_count": 125
        }
    ]
}