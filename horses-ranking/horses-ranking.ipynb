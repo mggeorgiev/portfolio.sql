{
    "metadata": {
        "kernelspec": {
            "name": "SQL",
            "display_name": "SQL",
            "language": "sql"
        },
        "language_info": {
            "name": "sql",
            "version": ""
        }
    },
    "nbformat_minor": 2,
    "nbformat": 4,
    "cells": [
        {
            "cell_type": "markdown",
            "source": [
                "Description"
            ],
            "metadata": {
                "azdata_cell_guid": "2b887162-c5f4-44f3-a9dd-289ce476df8b"
            },
            "attachments": {}
        },
        {
            "cell_type": "code",
            "source": [
                "-- Create a new database called 'portfolio'\r\n",
                "-- Connect to the 'master' database to run this snippet\r\n",
                "USE master\r\n",
                "GO\r\n",
                "-- Create the new database if it does not exist already\r\n",
                "IF NOT EXISTS (\r\n",
                "    SELECT [name]\r\n",
                "        FROM sys.databases\r\n",
                "        WHERE [name] = N'portfolio'\r\n",
                ")\r\n",
                "CREATE DATABASE portfolio\r\n",
                "GO\r\n",
                "\r\n",
                "USE portfolio;\r\n",
                "GO\r\n",
                "\r\n",
                "IF NOT EXISTS ( SELECT  *\r\n",
                "                FROM    sys.schemas\r\n",
                "                WHERE   name = N'horses-ranking' )\r\n",
                "    EXEC('CREATE SCHEMA [horses-ranking]');\r\n",
                "GO\r\n",
                "\r\n",
                "-- Create a new table called '[items]' in schema '[cantine]'\r\n",
                "-- Drop the table if it already exists\r\n",
                "IF OBJECT_ID('[portfolio].[horses-ranking].[groups]', 'U') IS NOT NULL\r\n",
                "DROP TABLE [horses-ranking].[groups]\r\n",
                "GO\r\n",
                "-- Create the table in the specified schema\r\n",
                "CREATE TABLE [horses-ranking].[groups]\r\n",
                "(\r\n",
                "    [Id] INT Identity(1,1), -- Primary Key column\r\n",
                "    [name] NVARCHAR(50) NOT NULL,\r\n",
                ");\r\n",
                "GO\r\n",
                "\r\n",
                "-- Create a new table called '[items]' in schema '[cantine]'\r\n",
                "-- Drop the table if it already exists\r\n",
                "IF OBJECT_ID('[portfolio].[horses-ranking].[horses]', 'U') IS NOT NULL\r\n",
                "DROP TABLE [horses-ranking].[horses]\r\n",
                "GO\r\n",
                "-- Create the table in the specified schema\r\n",
                "CREATE TABLE [horses-ranking].[horses]\r\n",
                "(\r\n",
                "    [Id] INT Identity(1,1), -- Primary Key column\r\n",
                "    [name] NVARCHAR(50) NOT NULL,\r\n",
                "    [speed] INT default FLOOR(RAND()*(25-1+1))+1,\r\n",
                "    [groupId] INT\r\n",
                "    -- Specify more columns here\r\n",
                ");\r\n",
                "GO\r\n",
                "\r\n",
                "-- ALTER TABLE [portfolio].[horses-ranking].[horses]\r\n",
                "--    ADD CONSTRAINT FK_horses_Shorses FOREIGN KEY (groupId)\r\n",
                "--       REFERENCES [portfolio].[horses-ranking].[groups] (Id)\r\n",
                "--       ON DELETE CASCADE\r\n",
                "--       ON UPDATE CASCADE\r\n",
                "-- ;"
            ],
            "metadata": {
                "azdata_cell_guid": "2b0a8ac0-eea8-45e1-970e-ab003dd753e9",
                "language": "sql",
                "tags": []
            },
            "outputs": [
                {
                    "output_type": "display_data",
                    "data": {
                        "text/html": "Commands completed successfully."
                    },
                    "metadata": {}
                },
                {
                    "output_type": "display_data",
                    "data": {
                        "text/html": "Commands completed successfully."
                    },
                    "metadata": {}
                },
                {
                    "output_type": "display_data",
                    "data": {
                        "text/html": "Commands completed successfully."
                    },
                    "metadata": {}
                },
                {
                    "output_type": "display_data",
                    "data": {
                        "text/html": "Commands completed successfully."
                    },
                    "metadata": {}
                },
                {
                    "output_type": "display_data",
                    "data": {
                        "text/html": "Commands completed successfully."
                    },
                    "metadata": {}
                },
                {
                    "output_type": "display_data",
                    "data": {
                        "text/html": "Commands completed successfully."
                    },
                    "metadata": {}
                },
                {
                    "output_type": "display_data",
                    "data": {
                        "text/html": "Commands completed successfully."
                    },
                    "metadata": {}
                },
                {
                    "output_type": "display_data",
                    "data": {
                        "text/html": "Commands completed successfully."
                    },
                    "metadata": {}
                },
                {
                    "output_type": "display_data",
                    "data": {
                        "text/html": "Commands completed successfully."
                    },
                    "metadata": {}
                },
                {
                    "output_type": "display_data",
                    "data": {
                        "text/html": "Total execution time: 00:00:00.786"
                    },
                    "metadata": {}
                }
            ],
            "execution_count": 86
        },
        {
            "cell_type": "code",
            "source": [
                "/*insert grpups and horses randomising the speed*/\r\n",
                "\r\n",
                "INSERT INTO [horses-ranking].[groups] ([name]) VALUES ('A');\r\n",
                "INSERT INTO [horses-ranking].[groups] ([name]) VALUES ('B');\r\n",
                "INSERT INTO [horses-ranking].[groups] ([name]) VALUES ('C');\r\n",
                "INSERT INTO [horses-ranking].[groups] ([name]) VALUES ('D');\r\n",
                "INSERT INTO [horses-ranking].[groups] ([name]) VALUES ('E');\r\n",
                "\r\n",
                "INSERT INTO [horses-ranking].[horses] ([name], [groupId], [speed]) VALUES ('A1', 1, FLOOR(RAND()*(25-1+1))+1);\r\n",
                "INSERT INTO [horses-ranking].[horses] ([name], [groupId], [speed]) VALUES ('A2', 1, FLOOR(RAND()*(25-1+1))+1);\r\n",
                "INSERT INTO [horses-ranking].[horses] ([name], [groupId], [speed]) VALUES ('A3', 1, FLOOR(RAND()*(25-1+1))+1);\r\n",
                "INSERT INTO [horses-ranking].[horses] ([name], [groupId], [speed]) VALUES ('A4', 1, FLOOR(RAND()*(25-1+1))+1);\r\n",
                "INSERT INTO [horses-ranking].[horses] ([name], [groupId], [speed]) VALUES ('A5', 1, FLOOR(RAND()*(25-1+1))+1);\r\n",
                "INSERT INTO [horses-ranking].[horses] ([name], [groupId], [speed]) VALUES ('B1', 2, FLOOR(RAND()*(25-1+1))+1);\r\n",
                "INSERT INTO [horses-ranking].[horses] ([name], [groupId], [speed]) VALUES ('B2', 2, FLOOR(RAND()*(25-1+1))+1);\r\n",
                "INSERT INTO [horses-ranking].[horses] ([name], [groupId], [speed]) VALUES ('B3', 2, FLOOR(RAND()*(25-1+1))+1);\r\n",
                "INSERT INTO [horses-ranking].[horses] ([name], [groupId], [speed]) VALUES ('B4', 2, FLOOR(RAND()*(25-1+1))+1);\r\n",
                "INSERT INTO [horses-ranking].[horses] ([name], [groupId], [speed]) VALUES ('B5', 2, FLOOR(RAND()*(25-1+1))+1);\r\n",
                "INSERT INTO [horses-ranking].[horses] ([name], [groupId], [speed]) VALUES ('C1', 3, FLOOR(RAND()*(25-1+1))+1);\r\n",
                "INSERT INTO [horses-ranking].[horses] ([name], [groupId], [speed]) VALUES ('C2', 3, FLOOR(RAND()*(25-1+1))+1);\r\n",
                "INSERT INTO [horses-ranking].[horses] ([name], [groupId], [speed]) VALUES ('C3', 3, FLOOR(RAND()*(25-1+1))+1);\r\n",
                "INSERT INTO [horses-ranking].[horses] ([name], [groupId], [speed]) VALUES ('C4', 3, FLOOR(RAND()*(25-1+1))+1);\r\n",
                "INSERT INTO [horses-ranking].[horses] ([name], [groupId], [speed]) VALUES ('C5', 3, FLOOR(RAND()*(25-1+1))+1);\r\n",
                "INSERT INTO [horses-ranking].[horses] ([name], [groupId], [speed]) VALUES ('D1', 4, FLOOR(RAND()*(25-1+1))+1);\r\n",
                "INSERT INTO [horses-ranking].[horses] ([name], [groupId], [speed]) VALUES ('D2', 4, FLOOR(RAND()*(25-1+1))+1);\r\n",
                "INSERT INTO [horses-ranking].[horses] ([name], [groupId], [speed]) VALUES ('D3', 4, FLOOR(RAND()*(25-1+1))+1);\r\n",
                "INSERT INTO [horses-ranking].[horses] ([name], [groupId], [speed]) VALUES ('D4', 4, FLOOR(RAND()*(25-1+1))+1);\r\n",
                "INSERT INTO [horses-ranking].[horses] ([name], [groupId], [speed]) VALUES ('D5', 4, FLOOR(RAND()*(25-1+1))+1);\r\n",
                "INSERT INTO [horses-ranking].[horses] ([name], [groupId], [speed]) VALUES ('E1', 5, FLOOR(RAND()*(25-1+1))+1);\r\n",
                "INSERT INTO [horses-ranking].[horses] ([name], [groupId], [speed]) VALUES ('E2', 5, FLOOR(RAND()*(25-1+1))+1);\r\n",
                "INSERT INTO [horses-ranking].[horses] ([name], [groupId], [speed]) VALUES ('E3', 5, FLOOR(RAND()*(25-1+1))+1);\r\n",
                "INSERT INTO [horses-ranking].[horses] ([name], [groupId], [speed]) VALUES ('E4', 5, FLOOR(RAND()*(25-1+1))+1);\r\n",
                "INSERT INTO [horses-ranking].[horses] ([name], [groupId], [speed]) VALUES ('E5', 5, FLOOR(RAND()*(25-1+1))+1);"
            ],
            "metadata": {
                "azdata_cell_guid": "181ddcfe-fecd-4333-8d3c-0a8af706321f",
                "language": "sql"
            },
            "outputs": [
                {
                    "output_type": "display_data",
                    "data": {
                        "text/html": "(1 row affected)"
                    },
                    "metadata": {}
                },
                {
                    "output_type": "display_data",
                    "data": {
                        "text/html": "(1 row affected)"
                    },
                    "metadata": {}
                },
                {
                    "output_type": "display_data",
                    "data": {
                        "text/html": "(1 row affected)"
                    },
                    "metadata": {}
                },
                {
                    "output_type": "display_data",
                    "data": {
                        "text/html": "(1 row affected)"
                    },
                    "metadata": {}
                },
                {
                    "output_type": "display_data",
                    "data": {
                        "text/html": "(1 row affected)"
                    },
                    "metadata": {}
                },
                {
                    "output_type": "display_data",
                    "data": {
                        "text/html": "(1 row affected)"
                    },
                    "metadata": {}
                },
                {
                    "output_type": "display_data",
                    "data": {
                        "text/html": "(1 row affected)"
                    },
                    "metadata": {}
                },
                {
                    "output_type": "display_data",
                    "data": {
                        "text/html": "(1 row affected)"
                    },
                    "metadata": {}
                },
                {
                    "output_type": "display_data",
                    "data": {
                        "text/html": "(1 row affected)"
                    },
                    "metadata": {}
                },
                {
                    "output_type": "display_data",
                    "data": {
                        "text/html": "(1 row affected)"
                    },
                    "metadata": {}
                },
                {
                    "output_type": "display_data",
                    "data": {
                        "text/html": "(1 row affected)"
                    },
                    "metadata": {}
                },
                {
                    "output_type": "display_data",
                    "data": {
                        "text/html": "(1 row affected)"
                    },
                    "metadata": {}
                },
                {
                    "output_type": "display_data",
                    "data": {
                        "text/html": "(1 row affected)"
                    },
                    "metadata": {}
                },
                {
                    "output_type": "display_data",
                    "data": {
                        "text/html": "(1 row affected)"
                    },
                    "metadata": {}
                },
                {
                    "output_type": "display_data",
                    "data": {
                        "text/html": "(1 row affected)"
                    },
                    "metadata": {}
                },
                {
                    "output_type": "display_data",
                    "data": {
                        "text/html": "(1 row affected)"
                    },
                    "metadata": {}
                },
                {
                    "output_type": "display_data",
                    "data": {
                        "text/html": "(1 row affected)"
                    },
                    "metadata": {}
                },
                {
                    "output_type": "display_data",
                    "data": {
                        "text/html": "(1 row affected)"
                    },
                    "metadata": {}
                },
                {
                    "output_type": "display_data",
                    "data": {
                        "text/html": "(1 row affected)"
                    },
                    "metadata": {}
                },
                {
                    "output_type": "display_data",
                    "data": {
                        "text/html": "(1 row affected)"
                    },
                    "metadata": {}
                },
                {
                    "output_type": "display_data",
                    "data": {
                        "text/html": "(1 row affected)"
                    },
                    "metadata": {}
                },
                {
                    "output_type": "display_data",
                    "data": {
                        "text/html": "(1 row affected)"
                    },
                    "metadata": {}
                },
                {
                    "output_type": "display_data",
                    "data": {
                        "text/html": "(1 row affected)"
                    },
                    "metadata": {}
                },
                {
                    "output_type": "display_data",
                    "data": {
                        "text/html": "(1 row affected)"
                    },
                    "metadata": {}
                },
                {
                    "output_type": "display_data",
                    "data": {
                        "text/html": "(1 row affected)"
                    },
                    "metadata": {}
                },
                {
                    "output_type": "display_data",
                    "data": {
                        "text/html": "(1 row affected)"
                    },
                    "metadata": {}
                },
                {
                    "output_type": "display_data",
                    "data": {
                        "text/html": "(1 row affected)"
                    },
                    "metadata": {}
                },
                {
                    "output_type": "display_data",
                    "data": {
                        "text/html": "(1 row affected)"
                    },
                    "metadata": {}
                },
                {
                    "output_type": "display_data",
                    "data": {
                        "text/html": "(1 row affected)"
                    },
                    "metadata": {}
                },
                {
                    "output_type": "display_data",
                    "data": {
                        "text/html": "(1 row affected)"
                    },
                    "metadata": {}
                },
                {
                    "output_type": "display_data",
                    "data": {
                        "text/html": "Total execution time: 00:00:02.765"
                    },
                    "metadata": {}
                }
            ],
            "execution_count": 87
        },
        {
            "cell_type": "code",
            "source": [
                "SELECT TOP (1000) [Id]\r\n",
                "      ,[name]\r\n",
                "  FROM [portfolio].[horses-ranking].[groups];\r\n",
                "\r\n",
                "SELECT TOP (1000) [Id]\r\n",
                "      ,[name]\r\n",
                "      ,[speed]\r\n",
                "      ,[groupId]\r\n",
                "  FROM [portfolio].[horses-ranking].[horses]\r\n",
                "  ORDER BY [speed] DESC ,[groupId], [name];\r\n",
                ""
            ],
            "metadata": {
                "azdata_cell_guid": "62a9dd74-c16b-43b8-99e1-76cb6775be43",
                "language": "sql"
            },
            "outputs": [
                {
                    "output_type": "display_data",
                    "data": {
                        "text/html": "(5 rows affected)"
                    },
                    "metadata": {}
                },
                {
                    "output_type": "display_data",
                    "data": {
                        "text/html": "(25 rows affected)"
                    },
                    "metadata": {}
                },
                {
                    "output_type": "display_data",
                    "data": {
                        "text/html": "Total execution time: 00:00:00.095"
                    },
                    "metadata": {}
                },
                {
                    "output_type": "execute_result",
                    "metadata": {},
                    "execution_count": 88,
                    "data": {
                        "application/vnd.dataresource+json": {
                            "schema": {
                                "fields": [
                                    {
                                        "name": "Id"
                                    },
                                    {
                                        "name": "name"
                                    }
                                ]
                            },
                            "data": [
                                {
                                    "Id": "1",
                                    "name": "A"
                                },
                                {
                                    "Id": "2",
                                    "name": "B"
                                },
                                {
                                    "Id": "3",
                                    "name": "C"
                                },
                                {
                                    "Id": "4",
                                    "name": "D"
                                },
                                {
                                    "Id": "5",
                                    "name": "E"
                                }
                            ]
                        },
                        "text/html": [
                            "<table>",
                            "<tr><th>Id</th><th>name</th></tr>",
                            "<tr><td>1</td><td>A</td></tr>",
                            "<tr><td>2</td><td>B</td></tr>",
                            "<tr><td>3</td><td>C</td></tr>",
                            "<tr><td>4</td><td>D</td></tr>",
                            "<tr><td>5</td><td>E</td></tr>",
                            "</table>"
                        ]
                    }
                },
                {
                    "output_type": "execute_result",
                    "metadata": {},
                    "execution_count": 88,
                    "data": {
                        "application/vnd.dataresource+json": {
                            "schema": {
                                "fields": [
                                    {
                                        "name": "Id"
                                    },
                                    {
                                        "name": "name"
                                    },
                                    {
                                        "name": "speed"
                                    },
                                    {
                                        "name": "groupId"
                                    }
                                ]
                            },
                            "data": [
                                {
                                    "Id": "11",
                                    "name": "C1",
                                    "speed": "24",
                                    "groupId": "3"
                                },
                                {
                                    "Id": "1",
                                    "name": "A1",
                                    "speed": "22",
                                    "groupId": "1"
                                },
                                {
                                    "Id": "6",
                                    "name": "B1",
                                    "speed": "22",
                                    "groupId": "2"
                                },
                                {
                                    "Id": "3",
                                    "name": "A3",
                                    "speed": "21",
                                    "groupId": "1"
                                },
                                {
                                    "Id": "4",
                                    "name": "A4",
                                    "speed": "21",
                                    "groupId": "1"
                                },
                                {
                                    "Id": "8",
                                    "name": "B3",
                                    "speed": "21",
                                    "groupId": "2"
                                },
                                {
                                    "Id": "17",
                                    "name": "D2",
                                    "speed": "20",
                                    "groupId": "4"
                                },
                                {
                                    "Id": "18",
                                    "name": "D3",
                                    "speed": "19",
                                    "groupId": "4"
                                },
                                {
                                    "Id": "12",
                                    "name": "C2",
                                    "speed": "18",
                                    "groupId": "3"
                                },
                                {
                                    "Id": "24",
                                    "name": "E4",
                                    "speed": "18",
                                    "groupId": "5"
                                },
                                {
                                    "Id": "7",
                                    "name": "B2",
                                    "speed": "16",
                                    "groupId": "2"
                                },
                                {
                                    "Id": "22",
                                    "name": "E2",
                                    "speed": "16",
                                    "groupId": "5"
                                },
                                {
                                    "Id": "14",
                                    "name": "C4",
                                    "speed": "15",
                                    "groupId": "3"
                                },
                                {
                                    "Id": "9",
                                    "name": "B4",
                                    "speed": "14",
                                    "groupId": "2"
                                },
                                {
                                    "Id": "15",
                                    "name": "C5",
                                    "speed": "12",
                                    "groupId": "3"
                                },
                                {
                                    "Id": "21",
                                    "name": "E1",
                                    "speed": "12",
                                    "groupId": "5"
                                },
                                {
                                    "Id": "2",
                                    "name": "A2",
                                    "speed": "11",
                                    "groupId": "1"
                                },
                                {
                                    "Id": "20",
                                    "name": "D5",
                                    "speed": "11",
                                    "groupId": "4"
                                },
                                {
                                    "Id": "23",
                                    "name": "E3",
                                    "speed": "11",
                                    "groupId": "5"
                                },
                                {
                                    "Id": "16",
                                    "name": "D1",
                                    "speed": "10",
                                    "groupId": "4"
                                },
                                {
                                    "Id": "5",
                                    "name": "A5",
                                    "speed": "6",
                                    "groupId": "1"
                                },
                                {
                                    "Id": "10",
                                    "name": "B5",
                                    "speed": "4",
                                    "groupId": "2"
                                },
                                {
                                    "Id": "19",
                                    "name": "D4",
                                    "speed": "4",
                                    "groupId": "4"
                                },
                                {
                                    "Id": "13",
                                    "name": "C3",
                                    "speed": "2",
                                    "groupId": "3"
                                },
                                {
                                    "Id": "25",
                                    "name": "E5",
                                    "speed": "2",
                                    "groupId": "5"
                                }
                            ]
                        },
                        "text/html": [
                            "<table>",
                            "<tr><th>Id</th><th>name</th><th>speed</th><th>groupId</th></tr>",
                            "<tr><td>11</td><td>C1</td><td>24</td><td>3</td></tr>",
                            "<tr><td>1</td><td>A1</td><td>22</td><td>1</td></tr>",
                            "<tr><td>6</td><td>B1</td><td>22</td><td>2</td></tr>",
                            "<tr><td>3</td><td>A3</td><td>21</td><td>1</td></tr>",
                            "<tr><td>4</td><td>A4</td><td>21</td><td>1</td></tr>",
                            "<tr><td>8</td><td>B3</td><td>21</td><td>2</td></tr>",
                            "<tr><td>17</td><td>D2</td><td>20</td><td>4</td></tr>",
                            "<tr><td>18</td><td>D3</td><td>19</td><td>4</td></tr>",
                            "<tr><td>12</td><td>C2</td><td>18</td><td>3</td></tr>",
                            "<tr><td>24</td><td>E4</td><td>18</td><td>5</td></tr>",
                            "<tr><td>7</td><td>B2</td><td>16</td><td>2</td></tr>",
                            "<tr><td>22</td><td>E2</td><td>16</td><td>5</td></tr>",
                            "<tr><td>14</td><td>C4</td><td>15</td><td>3</td></tr>",
                            "<tr><td>9</td><td>B4</td><td>14</td><td>2</td></tr>",
                            "<tr><td>15</td><td>C5</td><td>12</td><td>3</td></tr>",
                            "<tr><td>21</td><td>E1</td><td>12</td><td>5</td></tr>",
                            "<tr><td>2</td><td>A2</td><td>11</td><td>1</td></tr>",
                            "<tr><td>20</td><td>D5</td><td>11</td><td>4</td></tr>",
                            "<tr><td>23</td><td>E3</td><td>11</td><td>5</td></tr>",
                            "<tr><td>16</td><td>D1</td><td>10</td><td>4</td></tr>",
                            "<tr><td>5</td><td>A5</td><td>6</td><td>1</td></tr>",
                            "<tr><td>10</td><td>B5</td><td>4</td><td>2</td></tr>",
                            "<tr><td>19</td><td>D4</td><td>4</td><td>4</td></tr>",
                            "<tr><td>13</td><td>C3</td><td>2</td><td>3</td></tr>",
                            "<tr><td>25</td><td>E5</td><td>2</td><td>5</td></tr>",
                            "</table>"
                        ]
                    }
                }
            ],
            "execution_count": 88
        },
        {
            "cell_type": "code",
            "source": [
                "SELECT TOP (1000) [Id]\r\n",
                "      ,[name]\r\n",
                "      ,[speed]\r\n",
                "      ,[groupId]\r\n",
                "  FROM [portfolio].[horses-ranking].[horses]\r\n",
                "  ORDER BY [groupId], [speed] DESC, [name];"
            ],
            "metadata": {
                "language": "sql",
                "azdata_cell_guid": "8539d301-e861-47ee-9f14-19d20341e447"
            },
            "outputs": [
                {
                    "output_type": "display_data",
                    "data": {
                        "text/html": "(25 rows affected)"
                    },
                    "metadata": {}
                },
                {
                    "output_type": "display_data",
                    "data": {
                        "text/html": "Total execution time: 00:00:00.056"
                    },
                    "metadata": {}
                },
                {
                    "output_type": "execute_result",
                    "metadata": {},
                    "execution_count": 91,
                    "data": {
                        "application/vnd.dataresource+json": {
                            "schema": {
                                "fields": [
                                    {
                                        "name": "Id"
                                    },
                                    {
                                        "name": "name"
                                    },
                                    {
                                        "name": "speed"
                                    },
                                    {
                                        "name": "groupId"
                                    }
                                ]
                            },
                            "data": [
                                {
                                    "Id": "1",
                                    "name": "A1",
                                    "speed": "22",
                                    "groupId": "1"
                                },
                                {
                                    "Id": "3",
                                    "name": "A3",
                                    "speed": "21",
                                    "groupId": "1"
                                },
                                {
                                    "Id": "4",
                                    "name": "A4",
                                    "speed": "21",
                                    "groupId": "1"
                                },
                                {
                                    "Id": "2",
                                    "name": "A2",
                                    "speed": "11",
                                    "groupId": "1"
                                },
                                {
                                    "Id": "5",
                                    "name": "A5",
                                    "speed": "6",
                                    "groupId": "1"
                                },
                                {
                                    "Id": "6",
                                    "name": "B1",
                                    "speed": "22",
                                    "groupId": "2"
                                },
                                {
                                    "Id": "8",
                                    "name": "B3",
                                    "speed": "21",
                                    "groupId": "2"
                                },
                                {
                                    "Id": "7",
                                    "name": "B2",
                                    "speed": "16",
                                    "groupId": "2"
                                },
                                {
                                    "Id": "9",
                                    "name": "B4",
                                    "speed": "14",
                                    "groupId": "2"
                                },
                                {
                                    "Id": "10",
                                    "name": "B5",
                                    "speed": "4",
                                    "groupId": "2"
                                },
                                {
                                    "Id": "11",
                                    "name": "C1",
                                    "speed": "24",
                                    "groupId": "3"
                                },
                                {
                                    "Id": "12",
                                    "name": "C2",
                                    "speed": "18",
                                    "groupId": "3"
                                },
                                {
                                    "Id": "14",
                                    "name": "C4",
                                    "speed": "15",
                                    "groupId": "3"
                                },
                                {
                                    "Id": "15",
                                    "name": "C5",
                                    "speed": "12",
                                    "groupId": "3"
                                },
                                {
                                    "Id": "13",
                                    "name": "C3",
                                    "speed": "2",
                                    "groupId": "3"
                                },
                                {
                                    "Id": "17",
                                    "name": "D2",
                                    "speed": "20",
                                    "groupId": "4"
                                },
                                {
                                    "Id": "18",
                                    "name": "D3",
                                    "speed": "19",
                                    "groupId": "4"
                                },
                                {
                                    "Id": "20",
                                    "name": "D5",
                                    "speed": "11",
                                    "groupId": "4"
                                },
                                {
                                    "Id": "16",
                                    "name": "D1",
                                    "speed": "10",
                                    "groupId": "4"
                                },
                                {
                                    "Id": "19",
                                    "name": "D4",
                                    "speed": "4",
                                    "groupId": "4"
                                },
                                {
                                    "Id": "24",
                                    "name": "E4",
                                    "speed": "18",
                                    "groupId": "5"
                                },
                                {
                                    "Id": "22",
                                    "name": "E2",
                                    "speed": "16",
                                    "groupId": "5"
                                },
                                {
                                    "Id": "21",
                                    "name": "E1",
                                    "speed": "12",
                                    "groupId": "5"
                                },
                                {
                                    "Id": "23",
                                    "name": "E3",
                                    "speed": "11",
                                    "groupId": "5"
                                },
                                {
                                    "Id": "25",
                                    "name": "E5",
                                    "speed": "2",
                                    "groupId": "5"
                                }
                            ]
                        },
                        "text/html": [
                            "<table>",
                            "<tr><th>Id</th><th>name</th><th>speed</th><th>groupId</th></tr>",
                            "<tr><td>1</td><td>A1</td><td>22</td><td>1</td></tr>",
                            "<tr><td>3</td><td>A3</td><td>21</td><td>1</td></tr>",
                            "<tr><td>4</td><td>A4</td><td>21</td><td>1</td></tr>",
                            "<tr><td>2</td><td>A2</td><td>11</td><td>1</td></tr>",
                            "<tr><td>5</td><td>A5</td><td>6</td><td>1</td></tr>",
                            "<tr><td>6</td><td>B1</td><td>22</td><td>2</td></tr>",
                            "<tr><td>8</td><td>B3</td><td>21</td><td>2</td></tr>",
                            "<tr><td>7</td><td>B2</td><td>16</td><td>2</td></tr>",
                            "<tr><td>9</td><td>B4</td><td>14</td><td>2</td></tr>",
                            "<tr><td>10</td><td>B5</td><td>4</td><td>2</td></tr>",
                            "<tr><td>11</td><td>C1</td><td>24</td><td>3</td></tr>",
                            "<tr><td>12</td><td>C2</td><td>18</td><td>3</td></tr>",
                            "<tr><td>14</td><td>C4</td><td>15</td><td>3</td></tr>",
                            "<tr><td>15</td><td>C5</td><td>12</td><td>3</td></tr>",
                            "<tr><td>13</td><td>C3</td><td>2</td><td>3</td></tr>",
                            "<tr><td>17</td><td>D2</td><td>20</td><td>4</td></tr>",
                            "<tr><td>18</td><td>D3</td><td>19</td><td>4</td></tr>",
                            "<tr><td>20</td><td>D5</td><td>11</td><td>4</td></tr>",
                            "<tr><td>16</td><td>D1</td><td>10</td><td>4</td></tr>",
                            "<tr><td>19</td><td>D4</td><td>4</td><td>4</td></tr>",
                            "<tr><td>24</td><td>E4</td><td>18</td><td>5</td></tr>",
                            "<tr><td>22</td><td>E2</td><td>16</td><td>5</td></tr>",
                            "<tr><td>21</td><td>E1</td><td>12</td><td>5</td></tr>",
                            "<tr><td>23</td><td>E3</td><td>11</td><td>5</td></tr>",
                            "<tr><td>25</td><td>E5</td><td>2</td><td>5</td></tr>",
                            "</table>"
                        ]
                    }
                }
            ],
            "execution_count": 91
        },
        {
            "cell_type": "code",
            "source": [
                "-- WITH NumberSequence AS (\r\n",
                "--     SELECT ROW_NUMBER() OVER (ORDER BY (SELECT NULL)) AS [name]\r\n",
                "--     FROM (VALUES (1),(1),(1),(1),(1)) AS v1(n)\r\n",
                "--     CROSS JOIN (VALUES (1),(1),(1),(1),(1)) AS v2(n)\r\n",
                "-- )\r\n",
                "-- INSERT INTO [portfolio].[horses-ranking].[horses] ([name], [groupId])\r\n",
                "-- SELECT \r\n",
                "--     [name]\r\n",
                "--     ,NTILE(5) OVER (ORDER BY [name]) AS groupId\r\n",
                "-- FROM NumberSequence\r\n",
                "-- ORDER BY [name];\r\n",
                "\r\n",
                "-- SELECT \r\n",
                "--     row_number() over (order by [groupId]) as [name]\r\n",
                "--     ,groupId\r\n",
                "--     ,speed\r\n",
                "-- FROM (\r\n",
                "--     select 1 as groupId ,FLOOR(RAND()*(25-1+1))+1 as speed\r\n",
                "--     UNION ALL\r\n",
                "--     select 2 as groupId ,FLOOR(RAND()*(25-1+1))+1 as speed\r\n",
                "--     UNION ALL\r\n",
                "--     select 3 as groupId ,FLOOR(RAND()*(25-1+1))+1 as speed\r\n",
                "-- ) as t1"
            ],
            "metadata": {
                "language": "sql",
                "azdata_cell_guid": "88b43ebb-35ef-40de-b150-721533d5a151",
                "tags": []
            },
            "outputs": [
                {
                    "output_type": "display_data",
                    "data": {
                        "text/html": "Commands completed successfully."
                    },
                    "metadata": {}
                },
                {
                    "output_type": "display_data",
                    "data": {
                        "text/html": "Total execution time: 00:00:00.055"
                    },
                    "metadata": {}
                }
            ],
            "execution_count": 90
        }
    ]
}