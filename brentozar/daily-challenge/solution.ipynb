{
    "metadata": {
        "kernelspec": {
            "name": "SQL",
            "display_name": "SQL",
            "language": "sql"
        },
        "language_info": {
            "name": "sql",
            "version": ""
        }
    },
    "nbformat_minor": 2,
    "nbformat": 4,
    "cells": [
        {
            "cell_type": "code",
            "source": [
                "/* A few queries to better understand the data set */\r\n",
                "USE tempdb;\r\n",
                "GO\r\n",
                "\r\n",
                "SELECT count(*) as number_of_rows FROM [tempdb].[dbo].[day_one];\r\n",
                "\r\n",
                "SELECT \r\n",
                "    count(*) as number_of_groups\r\n",
                "FROM [tempdb].[dbo].[day_one]\r\n",
                "WHERE [number]  is NULL;\r\n",
                "\r\n",
                "SELECT TOP (100) [Id]\r\n",
                "      ,[number]\r\n",
                "  FROM [tempdb].[dbo].[day_one];"
            ],
            "metadata": {
                "azdata_cell_guid": "ff8df09f-b9dc-44c5-bf04-91d8c0cf1266",
                "language": "sql"
            },
            "outputs": [],
            "execution_count": null
        },
        {
            "cell_type": "code",
            "source": [
                "/* Total number of calories */\r\n",
                "SELECT SUM([number]) as total_calories FROM [tempdb].[dbo].[day_one];"
            ],
            "metadata": {
                "azdata_cell_guid": "a5d7745e-db4c-43b9-a872-a14ca79c7be6",
                "language": "sql"
            },
            "outputs": [],
            "execution_count": null
        },
        {
            "cell_type": "code",
            "source": [
                "/* In the data set we have id. we need to find the group boundaries knowing that they end with an empty row (inserted as null.\r\n",
                "   The result is the lower and uper boundaries of a group */\r\n",
                "\r\n",
                "USE tempdb;\r\n",
                "GO\r\n",
                "\r\n",
                "SELECT \r\n",
                "    LAG([Id], 1) OVER (ORDER BY [Id]) AS PreviousId \r\n",
                "    ,[Id]\r\n",
                "    ,[number]\r\n",
                "FROM [tempdb].[dbo].[day_one]\r\n",
                "WHERE [number]  IS NULL\r\n",
                "ORDER BY [Id];"
            ],
            "metadata": {
                "language": "sql",
                "azdata_cell_guid": "851e7510-8fe2-443a-9a59-1f51b342140e"
            },
            "outputs": [],
            "execution_count": null
        },
        {
            "cell_type": "code",
            "source": [
                "/* test for a single group with manually adding the ids */\r\n",
                "\r\n",
                "USE tempdb;\r\n",
                "GO\r\n",
                "\r\n",
                "SELECT \r\n",
                "    SUM([number]) as sum_calories_in_group\r\n",
                "FROM [tempdb].[dbo].[day_one]\r\n",
                "WHERE [Id] >= 11 AND [Id] <= 13"
            ],
            "metadata": {
                "language": "sql",
                "azdata_cell_guid": "12f19580-6891-46aa-8057-98440cd29c0e",
                "tags": []
            },
            "outputs": [
                {
                    "output_type": "display_data",
                    "data": {
                        "text/html": "Commands completed successfully."
                    },
                    "metadata": {}
                },
                {
                    "output_type": "display_data",
                    "data": {
                        "text/html": "Warning: Null value is eliminated by an aggregate or other SET operation."
                    },
                    "metadata": {}
                },
                {
                    "output_type": "display_data",
                    "data": {
                        "text/html": "(1 row affected)"
                    },
                    "metadata": {}
                },
                {
                    "output_type": "display_data",
                    "data": {
                        "text/html": "Total execution time: 00:00:00.115"
                    },
                    "metadata": {}
                },
                {
                    "output_type": "execute_result",
                    "execution_count": 108,
                    "data": {
                        "application/vnd.dataresource+json": {
                            "schema": {
                                "fields": [
                                    {
                                        "name": "sum_calories_in_group"
                                    }
                                ]
                            },
                            "data": [
                                {
                                    "0": "22990"
                                }
                            ]
                        },
                        "text/html": "<table><tr><th>sum_calories_in_group</th></tr><tr><td>22990</td></tr></table>"
                    },
                    "metadata": {}
                }
            ],
            "execution_count": 108
        },
        {
            "cell_type": "code",
            "source": [
                "/* It is time for some CTEs */\r\n",
                "\r\n",
                "USE tempdb;\r\n",
                "GO\r\n",
                "\r\n",
                "/* Define the CTE expression name and column list. */\r\n",
                "WITH Groups_CTE (LowerLimit, UpperLimit)\r\n",
                "AS\r\n",
                "/* Define the CTE query. */\r\n",
                "(\r\n",
                "    SELECT \r\n",
                "         ISNULL(LAG([Id], 1) OVER (ORDER BY [Id]),1) AS LowerLimit \r\n",
                "        ,[Id] as UpperLimit\r\n",
                "    FROM [tempdb].[dbo].[day_one]\r\n",
                "    WHERE [number]  IS NULL\r\n",
                ")\r\n",
                "/* Define the outer query referencing the CTE name. */\r\n",
                "SELECT \r\n",
                "     LowerLimit\r\n",
                "    ,UpperLimit\r\n",
                "    ,(SELECT SUM([number]) FROM [tempdb].[dbo].[day_one] WHERE [Id] >= LowerLimit AND [Id] <= UpperLimit) as Calories_SUM\r\n",
                "FROM Groups_CTE ORDER BY LowerLimit"
            ],
            "metadata": {
                "language": "sql",
                "azdata_cell_guid": "3fd54d84-0572-4991-a34b-bbb87814064f",
                "tags": []
            },
            "outputs": [],
            "execution_count": null
        },
        {
            "cell_type": "code",
            "source": [
                "/* the next step is to recude the result set to only one - the max one */\r\n",
                "\r\n",
                "USE tempdb;\r\n",
                "GO\r\n",
                "\r\n",
                "/* Define the CTE expression name and column list. */\r\n",
                "WITH Groups_CTE (LowerLimit, UpperLimit)\r\n",
                "AS\r\n",
                "/* Define the CTE query. */\r\n",
                "(\r\n",
                "    SELECT \r\n",
                "         ISNULL(LAG([Id], 1) OVER (ORDER BY [Id]),1) AS LowerLimit \r\n",
                "        ,[Id] as UpperLimit\r\n",
                "    FROM [tempdb].[dbo].[day_one]\r\n",
                "    WHERE [number]  IS NULL\r\n",
                ")\r\n",
                "/* Define the outer query referencing the CTE name. */\r\n",
                "SELECT TOP 1\r\n",
                "    (SELECT SUM([number]) FROM [tempdb].[dbo].[day_one] WHERE [Id] >= LowerLimit AND [Id] <= UpperLimit) as Calories_SUM\r\n",
                "FROM Groups_CTE ORDER BY Calories_SUM DESC"
            ],
            "metadata": {
                "language": "sql",
                "azdata_cell_guid": "8a2b322e-c8d1-4701-b6d7-d35a531b5e75"
            },
            "outputs": [
                {
                    "output_type": "display_data",
                    "data": {
                        "text/html": "Commands completed successfully."
                    },
                    "metadata": {}
                },
                {
                    "output_type": "display_data",
                    "data": {
                        "text/html": "Warning: Null value is eliminated by an aggregate or other SET operation."
                    },
                    "metadata": {}
                },
                {
                    "output_type": "display_data",
                    "data": {
                        "text/html": "(1 row affected)"
                    },
                    "metadata": {}
                },
                {
                    "output_type": "display_data",
                    "data": {
                        "text/html": "Total execution time: 00:00:00.217"
                    },
                    "metadata": {}
                },
                {
                    "output_type": "execute_result",
                    "execution_count": 120,
                    "data": {
                        "application/vnd.dataresource+json": {
                            "schema": {
                                "fields": [
                                    {
                                        "name": "Calories_SUM"
                                    }
                                ]
                            },
                            "data": [
                                {
                                    "0": "71506"
                                }
                            ]
                        },
                        "text/html": "<table><tr><th>Calories_SUM</th></tr><tr><td>71506</td></tr></table>"
                    },
                    "metadata": {}
                }
            ],
            "execution_count": 120
        },
        {
            "cell_type": "markdown",
            "source": [
                "![](data:image/png;base64,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)\n",
                "\n",
                "in my set this was indeed the correct answer."
            ],
            "metadata": {
                "azdata_cell_guid": "4bd21b73-dfb5-428c-9d76-cae717e40a19"
            },
            "attachments": {}
        },
        {
            "cell_type": "markdown",
            "source": [
                "DECLARE @Id INT;\r\n",
                "DECLARE @number INT = 0;\r\n",
                " \r\n",
                "DECLARE CUR_TEST CURSOR FAST_FORWARD FOR\r\n",
                "    SELECT @CursorCaloriesMAX\r\n",
                "    FROM   [tempdb].[dbo].[day_one]\r\n",
                "    ORDER BY [Id];\r\n",
                " \r\n",
                "OPEN CUR_TEST\r\n",
                "FETCH NEXT FROM CUR_TEST INTO @Id\r\n",
                " \r\n",
                "WHILE @@FETCH_STATUS = 0\r\n",
                "BEGIN\r\n",
                "   UPDATE dbo.CursorTest \r\n",
                "   SET RunningTotal = @RunningTotal + @CursorTestID\r\n",
                "   WHERE CursorTestID = @CursorTestID;\r\n",
                "\r\n",
                "   SET @RunningTotal += @CursorTestID\r\n",
                "\r\n",
                "   FETCH NEXT FROM CUR_TEST INTO @CursorTestID\r\n",
                "END\r\n",
                "CLOSE CUR_TEST\r\n",
                "DEALLOCATE CUR_TEST\r\n",
                "GO"
            ],
            "metadata": {
                "azdata_cell_guid": "578e0518-a9c0-4b38-9062-0d439a748fcf",
                "language": ""
            },
            "attachments": {}
        }
    ]
}