{
    "metadata": {
        "kernelspec": {
            "name": "SQL",
            "display_name": "SQL",
            "language": "sql"
        },
        "language_info": {
            "name": "sql",
            "version": ""
        }
    },
    "nbformat_minor": 2,
    "nbformat": 4,
    "cells": [
        {
            "cell_type": "code",
            "source": [
                "/* A few queries to better understand the data set */\r\n",
                "USE tempdb;\r\n",
                "GO\r\n",
                "\r\n",
                "SELECT count(*) as number_of_rows FROM [tempdb].[dbo].[day_one];\r\n",
                "\r\n",
                "SELECT \r\n",
                "    count(*) as number_of_groups\r\n",
                "FROM [tempdb].[dbo].[day_one]\r\n",
                "WHERE [number]  is NULL;\r\n",
                "\r\n",
                "SELECT TOP (100) [Id]\r\n",
                "      ,[number]\r\n",
                "  FROM [tempdb].[dbo].[day_one];"
            ],
            "metadata": {
                "azdata_cell_guid": "ff8df09f-b9dc-44c5-bf04-91d8c0cf1266",
                "language": "sql"
            },
            "outputs": [],
            "execution_count": null
        },
        {
            "cell_type": "code",
            "source": [
                "/* Total number of calories */\r\n",
                "SELECT SUM([number]) as total_calories FROM [tempdb].[dbo].[day_one];"
            ],
            "metadata": {
                "azdata_cell_guid": "a5d7745e-db4c-43b9-a872-a14ca79c7be6",
                "language": "sql"
            },
            "outputs": [],
            "execution_count": null
        },
        {
            "cell_type": "code",
            "source": [
                "/* In the data set we have id. we need to find the group boundaries knowing that they end with an empty row (inserted as null.\r\n",
                "   The result is the lower and uper boundaries of a group */\r\n",
                "\r\n",
                "USE tempdb;\r\n",
                "GO\r\n",
                "\r\n",
                "SELECT \r\n",
                "    LAG([Id], 1) OVER (ORDER BY [Id]) AS PreviousId \r\n",
                "    ,[Id]\r\n",
                "    ,[number]\r\n",
                "FROM [tempdb].[dbo].[day_one]\r\n",
                "WHERE [number]  IS NULL\r\n",
                "ORDER BY [Id];"
            ],
            "metadata": {
                "language": "sql",
                "azdata_cell_guid": "851e7510-8fe2-443a-9a59-1f51b342140e"
            },
            "outputs": [],
            "execution_count": null
        },
        {
            "cell_type": "code",
            "source": [
                "/* test for a single group with manually adding the ids */\r\n",
                "\r\n",
                "USE tempdb;\r\n",
                "GO\r\n",
                "\r\n",
                "SELECT \r\n",
                "    SUM([number]) as sum_calories_in_group\r\n",
                "FROM [tempdb].[dbo].[day_one]\r\n",
                "WHERE [Id] >= 11 AND [Id] <= 13"
            ],
            "metadata": {
                "language": "sql",
                "azdata_cell_guid": "12f19580-6891-46aa-8057-98440cd29c0e",
                "tags": []
            },
            "outputs": [
                {
                    "output_type": "display_data",
                    "data": {
                        "text/html": "Commands completed successfully."
                    },
                    "metadata": {}
                },
                {
                    "output_type": "display_data",
                    "data": {
                        "text/html": "Warning: Null value is eliminated by an aggregate or other SET operation."
                    },
                    "metadata": {}
                },
                {
                    "output_type": "display_data",
                    "data": {
                        "text/html": "(1 row affected)"
                    },
                    "metadata": {}
                },
                {
                    "output_type": "display_data",
                    "data": {
                        "text/html": "Total execution time: 00:00:00.115"
                    },
                    "metadata": {}
                },
                {
                    "output_type": "execute_result",
                    "execution_count": 108,
                    "data": {
                        "application/vnd.dataresource+json": {
                            "schema": {
                                "fields": [
                                    {
                                        "name": "sum_calories_in_group"
                                    }
                                ]
                            },
                            "data": [
                                {
                                    "0": "22990"
                                }
                            ]
                        },
                        "text/html": "<table><tr><th>sum_calories_in_group</th></tr><tr><td>22990</td></tr></table>"
                    },
                    "metadata": {}
                }
            ],
            "execution_count": 108
        },
        {
            "cell_type": "code",
            "source": [
                "/* It is time for some CTEs */\r\n",
                "\r\n",
                "USE tempdb;\r\n",
                "GO\r\n",
                "\r\n",
                "/* Define the CTE expression name and column list. */\r\n",
                "WITH Groups_CTE (LowerLimit, UpperLimit)\r\n",
                "AS\r\n",
                "/* Define the CTE query. */\r\n",
                "(\r\n",
                "    SELECT \r\n",
                "         ISNULL(LAG([Id], 1) OVER (ORDER BY [Id]),1) AS LowerLimit \r\n",
                "        ,[Id] as UpperLimit\r\n",
                "    FROM [tempdb].[dbo].[day_one]\r\n",
                "    WHERE [number]  IS NULL\r\n",
                ")\r\n",
                "/* Define the outer query referencing the CTE name. */\r\n",
                "SELECT \r\n",
                "     LowerLimit\r\n",
                "    ,UpperLimit\r\n",
                "    ,(SELECT SUM([number]) FROM [tempdb].[dbo].[day_one] WHERE [Id] >= LowerLimit AND [Id] <= UpperLimit) as Calories_SUM\r\n",
                "FROM Groups_CTE ORDER BY LowerLimit"
            ],
            "metadata": {
                "language": "sql",
                "azdata_cell_guid": "3fd54d84-0572-4991-a34b-bbb87814064f",
                "tags": []
            },
            "outputs": [],
            "execution_count": null
        },
        {
            "cell_type": "code",
            "source": [
                "/* the next step is to recude the result set to only one - the max one */\r\n",
                "\r\n",
                "USE tempdb;\r\n",
                "GO\r\n",
                "\r\n",
                "/* Define the CTE expression name and column list. */\r\n",
                "WITH Groups_CTE (LowerLimit, UpperLimit)\r\n",
                "AS\r\n",
                "/* Define the CTE query. */\r\n",
                "(\r\n",
                "    SELECT \r\n",
                "         ISNULL(LAG([Id], 1) OVER (ORDER BY [Id]),1) AS LowerLimit \r\n",
                "        ,[Id] as UpperLimit\r\n",
                "    FROM [tempdb].[dbo].[day_one]\r\n",
                "    WHERE [number]  IS NULL\r\n",
                ")\r\n",
                "/* Define the outer query referencing the CTE name. */\r\n",
                "SELECT \r\n",
                "    max(Calories_SUM) as maxCalories\r\n",
                "    ,sum(Calories_SUM) as top3\r\n",
                "FROM (\r\n",
                "    SELECT TOP 3\r\n",
                "        (SELECT SUM([number]) FROM [tempdb].[dbo].[day_one] WHERE [Id] >= LowerLimit AND [Id] <= UpperLimit) as Calories_SUM\r\n",
                "    FROM Groups_CTE ORDER BY Calories_SUM DESC\r\n",
                ") as t"
            ],
            "metadata": {
                "language": "sql",
                "azdata_cell_guid": "8a2b322e-c8d1-4701-b6d7-d35a531b5e75"
            },
            "outputs": [
                {
                    "output_type": "display_data",
                    "data": {
                        "text/html": "Commands completed successfully."
                    },
                    "metadata": {}
                },
                {
                    "output_type": "display_data",
                    "data": {
                        "text/html": "Warning: Null value is eliminated by an aggregate or other SET operation."
                    },
                    "metadata": {}
                },
                {
                    "output_type": "display_data",
                    "data": {
                        "text/html": "(1 row affected)"
                    },
                    "metadata": {}
                },
                {
                    "output_type": "display_data",
                    "data": {
                        "text/html": "Total execution time: 00:00:00.327"
                    },
                    "metadata": {}
                },
                {
                    "output_type": "execute_result",
                    "metadata": {},
                    "execution_count": 11,
                    "data": {
                        "application/vnd.dataresource+json": {
                            "schema": {
                                "fields": [
                                    {
                                        "name": "maxCalories"
                                    },
                                    {
                                        "name": "top3"
                                    }
                                ]
                            },
                            "data": [
                                {
                                    "0": "71506",
                                    "1": "209603"
                                }
                            ]
                        },
                        "text/html": [
                            "<table>",
                            "<tr><th>maxCalories</th><th>top3</th></tr>",
                            "<tr><td>71506</td><td>209603</td></tr>",
                            "</table>"
                        ]
                    }
                }
            ],
            "execution_count": 11
        },
        {
            "cell_type": "markdown",
            "source": [
                "![](data:image/png;base64,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)\n",
                "\n",
                "in my set this was indeed the correct answer."
            ],
            "metadata": {
                "azdata_cell_guid": "4bd21b73-dfb5-428c-9d76-cae717e40a19"
            },
            "attachments": {}
        },
        {
            "cell_type": "code",
            "source": [
                "/* if Brent Ozar had in mind to use single column then we need a step in between\r\n",
                "   to split the string into rows */\r\n",
                "\r\n",
                "USE tempdb;\r\n",
                "GO\r\n",
                "\r\n",
                "-- Create a new table called '[day_one]' in schema '[dbo]'\r\n",
                "-- Drop the table if it already exists\r\n",
                "IF OBJECT_ID('[dbo].[day_one_single_row]', 'U') IS NOT NULL\r\n",
                "DROP TABLE [dbo].[day_one_single_row]\r\n",
                "GO\r\n",
                "-- Create the table in the specified schema\r\n",
                "CREATE TABLE [dbo].[day_one_single_row]\r\n",
                "(\r\n",
                "    [Id] INT identity(1,1), -- Primary Key column\r\n",
                "    [calories] NVARCHAR(max)\r\n",
                ")\r\n",
                "GO\r\n",
                "\r\n",
                "USE tempdb;\r\n",
                "GO\r\n",
                "\r\n",
                "insert into [dbo].[day_one_single_row] ([calories])\r\n",
                "values\r\n",
                "(N'6758\r\n",
                "5199\r\n",
                "10292\r\n",
                "8812\r\n",
                "3527\r\n",
                "10178\r\n",
                "1340\r\n",
                "2824\r\n",
                "\r\n",
                "62522\r\n",
                "\r\n",
                "22990\r\n",
                "\r\n",
                "6730\r\n",
                "\r\n",
                "7255\r\n",
                "3210\r\n",
                "3003\r\n",
                "8296\r\n",
                "8799\r\n",
                "7655\r\n",
                "10312\r\n",
                "\r\n",
                "18837\r\n",
                "19882\r\n",
                "5386\r\n",
                "15891\r\n",
                "\r\n",
                "4203\r\n",
                "36288\r\n",
                "\r\n",
                "1586\r\n",
                "2295\r\n",
                "4981\r\n",
                "2109\r\n",
                "2284\r\n",
                "5814\r\n",
                "4823\r\n",
                "5492\r\n",
                "1524\r\n",
                "5286\r\n",
                "2147\r\n",
                "2952\r\n",
                "4783\r\n",
                "4814\r\n",
                "3042\r\n",
                "\r\n",
                "8474\r\n",
                "4059\r\n",
                "14465\r\n",
                "13390\r\n",
                "\r\n",
                "4623\r\n",
                "2150\r\n",
                "7545\r\n",
                "7833\r\n",
                "3686\r\n",
                "2095\r\n",
                "3336\r\n",
                "5030\r\n",
                "7648\r\n",
                "4087\r\n",
                "4482\r\n",
                "\r\n",
                "31278\r\n",
                "29863\r\n",
                "\r\n",
                "1228\r\n",
                "4851\r\n",
                "2706\r\n",
                "1692\r\n",
                "3200\r\n",
                "3521\r\n",
                "5200\r\n",
                "3755\r\n",
                "3922\r\n",
                "5181\r\n",
                "5561\r\n",
                "5162\r\n",
                "5280\r\n",
                "2460\r\n",
                "\r\n",
                "1083\r\n",
                "4432\r\n",
                "4938\r\n",
                "4303\r\n",
                "6304\r\n",
                "3746\r\n",
                "3527\r\n",
                "3141\r\n",
                "3198\r\n",
                "4980\r\n",
                "4395\r\n",
                "\r\n",
                "8218\r\n",
                "3954\r\n",
                "1396\r\n",
                "2147\r\n",
                "7924\r\n",
                "4650\r\n",
                "4483\r\n",
                "6610\r\n",
                "4799\r\n",
                "3973\r\n",
                "\r\n",
                "3401\r\n",
                "4111\r\n",
                "7798\r\n",
                "5181\r\n",
                "8418\r\n",
                "5014\r\n",
                "5975\r\n",
                "7916\r\n",
                "7788\r\n",
                "1864\r\n",
                "\r\n",
                "8547\r\n",
                "13217\r\n",
                "9699\r\n",
                "5701\r\n",
                "11040\r\n",
                "2943\r\n",
                "\r\n",
                "6214\r\n",
                "3287\r\n",
                "4137\r\n",
                "6773\r\n",
                "2593\r\n",
                "4776\r\n",
                "1687\r\n",
                "2821\r\n",
                "7240\r\n",
                "3681\r\n",
                "1185\r\n",
                "6578\r\n",
                "\r\n",
                "7850\r\n",
                "6697\r\n",
                "4844\r\n",
                "2325\r\n",
                "1834\r\n",
                "6812\r\n",
                "3380\r\n",
                "2302\r\n",
                "2531\r\n",
                "4959\r\n",
                "\r\n",
                "5275\r\n",
                "1883\r\n",
                "6919\r\n",
                "2865\r\n",
                "7943\r\n",
                "7718\r\n",
                "9494\r\n",
                "7957\r\n",
                "\r\n",
                "28727\r\n",
                "22865\r\n",
                "\r\n",
                "3064\r\n",
                "4279\r\n",
                "2649\r\n",
                "12521\r\n",
                "\r\n",
                "10169\r\n",
                "16383\r\n",
                "3301\r\n",
                "12707\r\n",
                "\r\n",
                "3533\r\n",
                "2280\r\n",
                "9232\r\n",
                "10618\r\n",
                "1488\r\n",
                "7616\r\n",
                "4334\r\n",
                "7847\r\n",
                "\r\n",
                "4322\r\n",
                "1215\r\n",
                "3514\r\n",
                "5513\r\n",
                "3469\r\n",
                "5472\r\n",
                "3658\r\n",
                "1096\r\n",
                "3410\r\n",
                "1607\r\n",
                "5482\r\n",
                "3015\r\n",
                "5234\r\n",
                "2488\r\n",
                "\r\n",
                "1306\r\n",
                "8067\r\n",
                "3375\r\n",
                "4064\r\n",
                "2943\r\n",
                "6158\r\n",
                "3911\r\n",
                "7766\r\n",
                "2493\r\n",
                "4897\r\n",
                "6551\r\n",
                "\r\n",
                "10694\r\n",
                "13319\r\n",
                "\r\n",
                "10862\r\n",
                "2483\r\n",
                "8522\r\n",
                "4509\r\n",
                "5021\r\n",
                "8789\r\n",
                "6152\r\n",
                "\r\n",
                "7824\r\n",
                "23812\r\n",
                "6740\r\n",
                "\r\n",
                "6548\r\n",
                "2116\r\n",
                "14900\r\n",
                "\r\n",
                "3470\r\n",
                "1825\r\n",
                "2865\r\n",
                "4691\r\n",
                "4729\r\n",
                "4263\r\n",
                "4899\r\n",
                "4855\r\n",
                "3732\r\n",
                "4439\r\n",
                "5023\r\n",
                "1291\r\n",
                "3121\r\n",
                "5322\r\n",
                "\r\n",
                "6529\r\n",
                "\r\n",
                "5141\r\n",
                "2353\r\n",
                "8515\r\n",
                "9815\r\n",
                "9541\r\n",
                "10389\r\n",
                "1114\r\n",
                "1373\r\n",
                "\r\n",
                "11924\r\n",
                "11446\r\n",
                "20373\r\n",
                "\r\n",
                "37249\r\n",
                "\r\n",
                "5749\r\n",
                "2968\r\n",
                "5300\r\n",
                "5405\r\n",
                "7280\r\n",
                "6161\r\n",
                "4298\r\n",
                "7104\r\n",
                "7140\r\n",
                "3405\r\n",
                "5754\r\n",
                "\r\n",
                "4763\r\n",
                "11364\r\n",
                "7492\r\n",
                "5630\r\n",
                "15978\r\n",
                "\r\n",
                "3622\r\n",
                "2185\r\n",
                "12718\r\n",
                "2466\r\n",
                "5015\r\n",
                "11302\r\n",
                "\r\n",
                "65579\r\n",
                "\r\n",
                "5450\r\n",
                "6455\r\n",
                "\r\n",
                "5721\r\n",
                "1939\r\n",
                "8537\r\n",
                "7075\r\n",
                "1317\r\n",
                "1805\r\n",
                "1701\r\n",
                "4578\r\n",
                "8435\r\n",
                "1718\r\n",
                "\r\n",
                "10692\r\n",
                "6581\r\n",
                "3068\r\n",
                "9013\r\n",
                "1741\r\n",
                "4654\r\n",
                "2159\r\n",
                "5340\r\n",
                "\r\n",
                "4981\r\n",
                "6327\r\n",
                "6931\r\n",
                "3024\r\n",
                "1263\r\n",
                "4313\r\n",
                "6793\r\n",
                "2818\r\n",
                "6727\r\n",
                "2245\r\n",
                "4524\r\n",
                "5825\r\n",
                "\r\n",
                "10156\r\n",
                "11779\r\n",
                "1694\r\n",
                "7495\r\n",
                "1615\r\n",
                "8872\r\n",
                "11840\r\n",
                "\r\n",
                "7323\r\n",
                "7184\r\n",
                "4094\r\n",
                "3989\r\n",
                "1820\r\n",
                "2141\r\n",
                "7277\r\n",
                "3208\r\n",
                "2064\r\n",
                "7765\r\n",
                "5764\r\n",
                "\r\n",
                "2796\r\n",
                "3030\r\n",
                "2783\r\n",
                "3426\r\n",
                "5581\r\n",
                "1659\r\n",
                "2369\r\n",
                "2784\r\n",
                "5284\r\n",
                "4110\r\n",
                "1157\r\n",
                "3129\r\n",
                "6088\r\n",
                "2215\r\n",
                "3503\r\n",
                "\r\n",
                "20991\r\n",
                "1521\r\n",
                "\r\n",
                "1601\r\n",
                "4869\r\n",
                "9195\r\n",
                "1835\r\n",
                "5402\r\n",
                "2721\r\n",
                "1128\r\n",
                "1991\r\n",
                "9336\r\n",
                "\r\n",
                "2557\r\n",
                "6635\r\n",
                "6981\r\n",
                "6296\r\n",
                "5278\r\n",
                "3077\r\n",
                "7679\r\n",
                "5764\r\n",
                "2359\r\n",
                "2467\r\n",
                "6705\r\n",
                "\r\n",
                "2594\r\n",
                "2611\r\n",
                "3189\r\n",
                "1436\r\n",
                "1510\r\n",
                "1341\r\n",
                "8213\r\n",
                "8525\r\n",
                "5447\r\n",
                "2045\r\n",
                "\r\n",
                "3812\r\n",
                "2106\r\n",
                "6216\r\n",
                "3236\r\n",
                "7169\r\n",
                "5840\r\n",
                "4770\r\n",
                "1724\r\n",
                "1061\r\n",
                "5062\r\n",
                "7990\r\n",
                "\r\n",
                "5722\r\n",
                "4372\r\n",
                "3524\r\n",
                "1561\r\n",
                "3417\r\n",
                "5807\r\n",
                "3969\r\n",
                "3635\r\n",
                "3067\r\n",
                "3469\r\n",
                "4393\r\n",
                "1705\r\n",
                "4897\r\n",
                "4307\r\n",
                "2663\r\n",
                "\r\n",
                "28920\r\n",
                "3093\r\n",
                "\r\n",
                "12949\r\n",
                "9070\r\n",
                "9161\r\n",
                "3530\r\n",
                "6651\r\n",
                "\r\n",
                "12010\r\n",
                "1783\r\n",
                "21165\r\n",
                "\r\n",
                "4667\r\n",
                "3553\r\n",
                "6938\r\n",
                "5433\r\n",
                "3244\r\n",
                "1082\r\n",
                "7305\r\n",
                "7262\r\n",
                "6577\r\n",
                "1987\r\n",
                "2256\r\n",
                "\r\n",
                "4933\r\n",
                "1802\r\n",
                "1315\r\n",
                "1303\r\n",
                "1722\r\n",
                "2688\r\n",
                "6103\r\n",
                "2749\r\n",
                "1478\r\n",
                "4994\r\n",
                "4369\r\n",
                "5074\r\n",
                "5655\r\n",
                "2827\r\n",
                "3232\r\n",
                "\r\n",
                "1101\r\n",
                "2284\r\n",
                "4349\r\n",
                "4868\r\n",
                "3264\r\n",
                "3227\r\n",
                "1786\r\n",
                "5233\r\n",
                "6054\r\n",
                "6144\r\n",
                "3533\r\n",
                "1841\r\n",
                "1721\r\n",
                "4775\r\n",
                "\r\n",
                "16514\r\n",
                "\r\n",
                "7282\r\n",
                "7260\r\n",
                "2423\r\n",
                "1738\r\n",
                "4498\r\n",
                "5570\r\n",
                "3862\r\n",
                "3979\r\n",
                "3845\r\n",
                "4313\r\n",
                "3249\r\n",
                "5639\r\n",
                "\r\n",
                "7910\r\n",
                "9862\r\n",
                "7476\r\n",
                "9103\r\n",
                "2851\r\n",
                "3634\r\n",
                "8641\r\n",
                "7369\r\n",
                "\r\n",
                "8574\r\n",
                "1439\r\n",
                "1442\r\n",
                "12337\r\n",
                "1387\r\n",
                "7777\r\n",
                "\r\n",
                "18060\r\n",
                "\r\n",
                "10287\r\n",
                "1924\r\n",
                "4066\r\n",
                "12275\r\n",
                "14094\r\n",
                "\r\n",
                "4797\r\n",
                "5061\r\n",
                "2701\r\n",
                "1391\r\n",
                "6617\r\n",
                "5870\r\n",
                "4999\r\n",
                "4150\r\n",
                "2881\r\n",
                "2667\r\n",
                "2461\r\n",
                "1978\r\n",
                "1058\r\n",
                "\r\n",
                "12911\r\n",
                "7290\r\n",
                "9442\r\n",
                "2875\r\n",
                "5812\r\n",
                "\r\n",
                "13016\r\n",
                "4985\r\n",
                "2517\r\n",
                "9758\r\n",
                "11215\r\n",
                "\r\n",
                "2845\r\n",
                "11805\r\n",
                "6418\r\n",
                "8128\r\n",
                "1604\r\n",
                "\r\n",
                "9643\r\n",
                "6574\r\n",
                "6804\r\n",
                "3575\r\n",
                "9226\r\n",
                "6276\r\n",
                "1406\r\n",
                "4493\r\n",
                "8104\r\n",
                "\r\n",
                "11616\r\n",
                "7196\r\n",
                "5685\r\n",
                "1267\r\n",
                "3281\r\n",
                "1250\r\n",
                "7666\r\n",
                "\r\n",
                "9654\r\n",
                "8646\r\n",
                "7144\r\n",
                "2790\r\n",
                "7583\r\n",
                "2681\r\n",
                "1799\r\n",
                "5301\r\n",
                "1714\r\n",
                "\r\n",
                "30086\r\n",
                "23066\r\n",
                "\r\n",
                "10205\r\n",
                "7316\r\n",
                "1550\r\n",
                "4056\r\n",
                "2627\r\n",
                "10056\r\n",
                "\r\n",
                "9912\r\n",
                "1615\r\n",
                "1584\r\n",
                "2963\r\n",
                "1347\r\n",
                "9336\r\n",
                "8310\r\n",
                "8728\r\n",
                "\r\n",
                "2436\r\n",
                "4741\r\n",
                "6665\r\n",
                "5239\r\n",
                "5737\r\n",
                "4252\r\n",
                "1954\r\n",
                "4916\r\n",
                "5341\r\n",
                "7475\r\n",
                "5909\r\n",
                "5012\r\n",
                "\r\n",
                "4897\r\n",
                "8580\r\n",
                "5122\r\n",
                "1865\r\n",
                "8318\r\n",
                "5369\r\n",
                "2334\r\n",
                "5629\r\n",
                "7058\r\n",
                "\r\n",
                "14621\r\n",
                "2969\r\n",
                "15900\r\n",
                "14828\r\n",
                "2997\r\n",
                "\r\n",
                "7051\r\n",
                "3305\r\n",
                "7848\r\n",
                "7947\r\n",
                "3961\r\n",
                "3206\r\n",
                "5175\r\n",
                "7055\r\n",
                "3182\r\n",
                "5838\r\n",
                "1954\r\n",
                "\r\n",
                "6614\r\n",
                "3086\r\n",
                "7740\r\n",
                "6624\r\n",
                "4106\r\n",
                "7195\r\n",
                "\r\n",
                "3815\r\n",
                "4858\r\n",
                "3460\r\n",
                "1427\r\n",
                "5685\r\n",
                "5865\r\n",
                "4790\r\n",
                "6660\r\n",
                "1510\r\n",
                "5685\r\n",
                "2790\r\n",
                "5112\r\n",
                "\r\n",
                "13626\r\n",
                "1665\r\n",
                "16722\r\n",
                "9598\r\n",
                "\r\n",
                "15870\r\n",
                "\r\n",
                "3453\r\n",
                "8531\r\n",
                "9997\r\n",
                "8590\r\n",
                "5833\r\n",
                "7896\r\n",
                "8524\r\n",
                "\r\n",
                "6783\r\n",
                "5931\r\n",
                "3245\r\n",
                "4327\r\n",
                "5496\r\n",
                "5017\r\n",
                "2136\r\n",
                "3899\r\n",
                "3875\r\n",
                "2904\r\n",
                "5023\r\n",
                "3173\r\n",
                "3227\r\n",
                "\r\n",
                "4241\r\n",
                "4693\r\n",
                "1164\r\n",
                "1877\r\n",
                "5541\r\n",
                "5017\r\n",
                "3433\r\n",
                "3333\r\n",
                "4734\r\n",
                "3639\r\n",
                "1724\r\n",
                "2439\r\n",
                "1673\r\n",
                "4362\r\n",
                "\r\n",
                "6479\r\n",
                "3259\r\n",
                "3496\r\n",
                "6125\r\n",
                "1147\r\n",
                "3181\r\n",
                "3948\r\n",
                "5746\r\n",
                "3019\r\n",
                "1924\r\n",
                "\r\n",
                "6250\r\n",
                "26443\r\n",
                "\r\n",
                "4901\r\n",
                "6813\r\n",
                "6581\r\n",
                "3144\r\n",
                "1525\r\n",
                "6629\r\n",
                "3254\r\n",
                "6542\r\n",
                "1156\r\n",
                "6663\r\n",
                "3856\r\n",
                "4083\r\n",
                "1598\r\n",
                "\r\n",
                "7932\r\n",
                "8717\r\n",
                "9657\r\n",
                "1873\r\n",
                "2727\r\n",
                "2052\r\n",
                "2376\r\n",
                "\r\n",
                "6455\r\n",
                "13127\r\n",
                "3540\r\n",
                "8038\r\n",
                "6601\r\n",
                "2249\r\n",
                "\r\n",
                "6226\r\n",
                "5251\r\n",
                "3416\r\n",
                "5941\r\n",
                "7336\r\n",
                "5668\r\n",
                "4139\r\n",
                "1459\r\n",
                "2529\r\n",
                "7538\r\n",
                "\r\n",
                "6899\r\n",
                "4680\r\n",
                "10277\r\n",
                "2515\r\n",
                "16361\r\n",
                "\r\n",
                "23283\r\n",
                "2647\r\n",
                "\r\n",
                "1272\r\n",
                "3462\r\n",
                "6817\r\n",
                "3795\r\n",
                "4973\r\n",
                "6750\r\n",
                "2340\r\n",
                "7379\r\n",
                "3873\r\n",
                "1832\r\n",
                "7935\r\n",
                "\r\n",
                "4808\r\n",
                "4018\r\n",
                "11801\r\n",
                "7092\r\n",
                "8312\r\n",
                "9718\r\n",
                "6693\r\n",
                "\r\n",
                "7285\r\n",
                "7822\r\n",
                "7063\r\n",
                "2854\r\n",
                "7844\r\n",
                "1121\r\n",
                "4362\r\n",
                "4685\r\n",
                "5360\r\n",
                "7140\r\n",
                "6796\r\n",
                "\r\n",
                "17114\r\n",
                "20195\r\n",
                "9330\r\n",
                "\r\n",
                "19378\r\n",
                "27739\r\n",
                "\r\n",
                "16288\r\n",
                "15298\r\n",
                "13251\r\n",
                "5444\r\n",
                "10856\r\n",
                "\r\n",
                "7616\r\n",
                "6108\r\n",
                "3420\r\n",
                "9201\r\n",
                "3422\r\n",
                "4312\r\n",
                "4388\r\n",
                "3008\r\n",
                "9551\r\n",
                "\r\n",
                "1255\r\n",
                "7803\r\n",
                "1598\r\n",
                "3892\r\n",
                "6954\r\n",
                "7936\r\n",
                "8078\r\n",
                "5261\r\n",
                "2057\r\n",
                "2914\r\n",
                "\r\n",
                "7497\r\n",
                "10296\r\n",
                "2343\r\n",
                "10020\r\n",
                "1171\r\n",
                "3092\r\n",
                "2333\r\n",
                "\r\n",
                "1492\r\n",
                "4718\r\n",
                "4267\r\n",
                "10309\r\n",
                "7919\r\n",
                "7080\r\n",
                "1012\r\n",
                "9981\r\n",
                "\r\n",
                "17367\r\n",
                "1357\r\n",
                "16269\r\n",
                "7775\r\n",
                "\r\n",
                "13641\r\n",
                "3004\r\n",
                "13280\r\n",
                "\r\n",
                "6205\r\n",
                "3003\r\n",
                "1634\r\n",
                "4608\r\n",
                "2759\r\n",
                "6324\r\n",
                "4372\r\n",
                "4833\r\n",
                "6565\r\n",
                "2865\r\n",
                "7345\r\n",
                "3719\r\n",
                "\r\n",
                "4268\r\n",
                "2071\r\n",
                "2155\r\n",
                "4408\r\n",
                "4869\r\n",
                "2634\r\n",
                "1329\r\n",
                "2075\r\n",
                "4276\r\n",
                "4032\r\n",
                "2129\r\n",
                "5181\r\n",
                "2594\r\n",
                "2102\r\n",
                "2281\r\n",
                "\r\n",
                "2486\r\n",
                "7483\r\n",
                "6748\r\n",
                "4017\r\n",
                "5926\r\n",
                "3507\r\n",
                "4666\r\n",
                "3837\r\n",
                "\r\n",
                "8082\r\n",
                "13626\r\n",
                "12247\r\n",
                "5622\r\n",
                "13565\r\n",
                "\r\n",
                "7911\r\n",
                "1180\r\n",
                "1854\r\n",
                "5795\r\n",
                "7017\r\n",
                "6873\r\n",
                "7728\r\n",
                "5055\r\n",
                "5207\r\n",
                "7810\r\n",
                "7474\r\n",
                "\r\n",
                "3459\r\n",
                "5418\r\n",
                "1420\r\n",
                "5028\r\n",
                "6793\r\n",
                "4851\r\n",
                "2885\r\n",
                "2263\r\n",
                "2734\r\n",
                "4868\r\n",
                "6596\r\n",
                "1434\r\n",
                "5440\r\n",
                "\r\n",
                "3368\r\n",
                "3541\r\n",
                "5756\r\n",
                "3039\r\n",
                "4234\r\n",
                "2632\r\n",
                "6031\r\n",
                "5613\r\n",
                "4769\r\n",
                "1538\r\n",
                "4898\r\n",
                "5128\r\n",
                "4848\r\n",
                "\r\n",
                "2817\r\n",
                "3013\r\n",
                "2260\r\n",
                "4714\r\n",
                "6461\r\n",
                "3262\r\n",
                "3924\r\n",
                "4083\r\n",
                "2487\r\n",
                "4221\r\n",
                "5311\r\n",
                "4274\r\n",
                "5591\r\n",
                "1625\r\n",
                "\r\n",
                "8756\r\n",
                "8549\r\n",
                "9481\r\n",
                "7994\r\n",
                "7775\r\n",
                "6951\r\n",
                "5276\r\n",
                "7598\r\n",
                "9126\r\n",
                "\r\n",
                "11749\r\n",
                "7152\r\n",
                "14494\r\n",
                "\r\n",
                "14395\r\n",
                "7799\r\n",
                "16109\r\n",
                "14178\r\n",
                "\r\n",
                "24404\r\n",
                "4941\r\n",
                "\r\n",
                "5326\r\n",
                "9070\r\n",
                "3951\r\n",
                "1404\r\n",
                "6513\r\n",
                "9155\r\n",
                "5981\r\n",
                "3880\r\n",
                "1476\r\n",
                "\r\n",
                "12661\r\n",
                "10966\r\n",
                "\r\n",
                "3517\r\n",
                "7760\r\n",
                "4724\r\n",
                "6891\r\n",
                "1447\r\n",
                "3337\r\n",
                "3903\r\n",
                "7382\r\n",
                "7067\r\n",
                "1771\r\n",
                "1184\r\n",
                "\r\n",
                "3556\r\n",
                "13458\r\n",
                "12699\r\n",
                "12330\r\n",
                "13534\r\n",
                "11244\r\n",
                "\r\n",
                "10818\r\n",
                "31380\r\n",
                "\r\n",
                "17968\r\n",
                "3978\r\n",
                "17994\r\n",
                "\r\n",
                "9486\r\n",
                "6163\r\n",
                "1748\r\n",
                "3765\r\n",
                "7191\r\n",
                "1461\r\n",
                "2062\r\n",
                "8169\r\n",
                "9167\r\n",
                "\r\n",
                "3111\r\n",
                "4378\r\n",
                "3560\r\n",
                "6292\r\n",
                "5521\r\n",
                "2132\r\n",
                "5071\r\n",
                "4519\r\n",
                "1977\r\n",
                "6587\r\n",
                "\r\n",
                "11961\r\n",
                "2119\r\n",
                "11633\r\n",
                "10970\r\n",
                "4089\r\n",
                "7390\r\n",
                "6481\r\n",
                "\r\n",
                "4350\r\n",
                "5261\r\n",
                "4801\r\n",
                "1584\r\n",
                "1531\r\n",
                "5034\r\n",
                "5917\r\n",
                "4136\r\n",
                "6668\r\n",
                "5364\r\n",
                "3814\r\n",
                "3873\r\n",
                "4437\r\n",
                "\r\n",
                "2568\r\n",
                "2449\r\n",
                "5582\r\n",
                "1857\r\n",
                "6143\r\n",
                "5457\r\n",
                "4396\r\n",
                "3723\r\n",
                "2885\r\n",
                "2428\r\n",
                "2790\r\n",
                "4173\r\n",
                "1726\r\n",
                "5687\r\n",
                "\r\n",
                "21758\r\n",
                "\r\n",
                "32901\r\n",
                "\r\n",
                "4313\r\n",
                "12688\r\n",
                "14465\r\n",
                "1073\r\n",
                "6568\r\n",
                "\r\n",
                "2295\r\n",
                "3872\r\n",
                "5979\r\n",
                "3014\r\n",
                "1408\r\n",
                "1865\r\n",
                "2937\r\n",
                "4231\r\n",
                "5076\r\n",
                "2544\r\n",
                "3270\r\n",
                "2673\r\n",
                "6060\r\n",
                "4292\r\n",
                "1073\r\n",
                "\r\n",
                "5340\r\n",
                "10378\r\n",
                "10445\r\n",
                "11874\r\n",
                "8275\r\n",
                "8558\r\n",
                "1558\r\n",
                "\r\n",
                "3652\r\n",
                "9630\r\n",
                "15612\r\n",
                "18471\r\n",
                "\r\n",
                "5856\r\n",
                "4627\r\n",
                "4762\r\n",
                "6094\r\n",
                "5266\r\n",
                "2970\r\n",
                "1230\r\n",
                "6292\r\n",
                "5083\r\n",
                "4557\r\n",
                "6158\r\n",
                "5841\r\n",
                "6321\r\n",
                "3672\r\n",
                "\r\n",
                "4531\r\n",
                "2204\r\n",
                "4583\r\n",
                "4426\r\n",
                "4310\r\n",
                "6136\r\n",
                "5577\r\n",
                "4765\r\n",
                "6882\r\n",
                "1300\r\n",
                "2979\r\n",
                "6754\r\n",
                "4241\r\n",
                "\r\n",
                "3266\r\n",
                "6610\r\n",
                "2322\r\n",
                "12666\r\n",
                "11874\r\n",
                "10495\r\n",
                "\r\n",
                "7493\r\n",
                "2468\r\n",
                "2710\r\n",
                "6550\r\n",
                "7383\r\n",
                "4442\r\n",
                "3692\r\n",
                "8168\r\n",
                "\r\n",
                "4381\r\n",
                "3648\r\n",
                "4270\r\n",
                "3016\r\n",
                "4178\r\n",
                "3066\r\n",
                "1736\r\n",
                "5402\r\n",
                "4995\r\n",
                "1980\r\n",
                "5438\r\n",
                "5256\r\n",
                "4804\r\n",
                "4854\r\n",
                "2585\r\n",
                "\r\n",
                "4096\r\n",
                "4397\r\n",
                "4061\r\n",
                "3811\r\n",
                "2537\r\n",
                "3296\r\n",
                "1877\r\n",
                "4267\r\n",
                "2760\r\n",
                "3682\r\n",
                "5949\r\n",
                "3713\r\n",
                "3365\r\n",
                "4135\r\n",
                "1310\r\n",
                "\r\n",
                "30319\r\n",
                "\r\n",
                "7244\r\n",
                "6071\r\n",
                "1234\r\n",
                "6387\r\n",
                "1980\r\n",
                "1935\r\n",
                "3431\r\n",
                "6474\r\n",
                "6601\r\n",
                "1652\r\n",
                "\r\n",
                "10125\r\n",
                "11599\r\n",
                "\r\n",
                "4436\r\n",
                "3242\r\n",
                "6077\r\n",
                "6707\r\n",
                "1582\r\n",
                "6648\r\n",
                "3345\r\n",
                "5812\r\n",
                "1635\r\n",
                "2782\r\n",
                "2514\r\n",
                "2608\r\n",
                "\r\n",
                "9244\r\n",
                "1348\r\n",
                "5019\r\n",
                "2059\r\n",
                "9226\r\n",
                "2546\r\n",
                "5130\r\n",
                "8902\r\n",
                "7779\r\n",
                "\r\n",
                "10030\r\n",
                "10749\r\n",
                "3690\r\n",
                "8769\r\n",
                "9835\r\n",
                "7216\r\n",
                "2132\r\n",
                "\r\n",
                "6105\r\n",
                "1205\r\n",
                "1860\r\n",
                "3190\r\n",
                "5815\r\n",
                "1424\r\n",
                "2611\r\n",
                "1230\r\n",
                "4491\r\n",
                "1731\r\n",
                "5804\r\n",
                "2863\r\n",
                "1816\r\n",
                "3694\r\n",
                "\r\n",
                "4791\r\n",
                "6491\r\n",
                "3292\r\n",
                "3310\r\n",
                "2223\r\n",
                "4296\r\n",
                "6323\r\n",
                "3414\r\n",
                "1462\r\n",
                "6799\r\n",
                "3276\r\n",
                "4435\r\n",
                "5554\r\n",
                "\r\n",
                "2859\r\n",
                "2854\r\n",
                "1127\r\n",
                "4179\r\n",
                "6233\r\n",
                "6219\r\n",
                "5955\r\n",
                "3139\r\n",
                "2457\r\n",
                "3854\r\n",
                "5071\r\n",
                "4887\r\n",
                "4190\r\n",
                "4469\r\n",
                "\r\n",
                "67818\r\n",
                "\r\n",
                "7880\r\n",
                "6503\r\n",
                "4931\r\n",
                "5813\r\n",
                "1692\r\n",
                "2126\r\n",
                "6300\r\n",
                "8743\r\n",
                "4983\r\n",
                "2182\r\n",
                "\r\n",
                "1882\r\n",
                "5752\r\n",
                "6369\r\n",
                "1996\r\n",
                "2955\r\n",
                "5978\r\n",
                "6087\r\n",
                "5123\r\n",
                "2587\r\n",
                "2000\r\n",
                "4973\r\n",
                "2214\r\n",
                "5118\r\n",
                "3178\r\n",
                "\r\n",
                "10807\r\n",
                "9780\r\n",
                "8468\r\n",
                "2157\r\n",
                "1021\r\n",
                "8078\r\n",
                "4848\r\n",
                "\r\n",
                "3400\r\n",
                "1666\r\n",
                "6908\r\n",
                "10199\r\n",
                "1685\r\n",
                "4979\r\n",
                "\r\n",
                "2250\r\n",
                "5672\r\n",
                "2505\r\n",
                "9061\r\n",
                "5514\r\n",
                "8895\r\n",
                "4958\r\n",
                "8274\r\n",
                "7707\r\n",
                "\r\n",
                "15083\r\n",
                "2359\r\n",
                "23052\r\n",
                "\r\n",
                "6279\r\n",
                "1563\r\n",
                "4247\r\n",
                "4593\r\n",
                "4844\r\n",
                "5335\r\n",
                "7024\r\n",
                "7324\r\n",
                "5904\r\n",
                "1016\r\n",
                "3394\r\n",
                "3382\r\n",
                "\r\n",
                "2965\r\n",
                "2673\r\n",
                "3329\r\n",
                "1833\r\n",
                "1222\r\n",
                "1789\r\n",
                "1027\r\n",
                "6268\r\n",
                "4404\r\n",
                "1031\r\n",
                "1407\r\n",
                "4510\r\n",
                "4047\r\n",
                "1972\r\n",
                "\r\n",
                "4423\r\n",
                "8018\r\n",
                "4991\r\n",
                "7190\r\n",
                "7061\r\n",
                "6223\r\n",
                "5972\r\n",
                "2864\r\n",
                "5674\r\n",
                "\r\n",
                "1559\r\n",
                "1850\r\n",
                "4117\r\n",
                "1495\r\n",
                "2604\r\n",
                "2243\r\n",
                "1498\r\n",
                "4936\r\n",
                "2970\r\n",
                "4109\r\n",
                "1252\r\n",
                "6416\r\n",
                "5293\r\n",
                "3319\r\n",
                "\r\n",
                "5577\r\n",
                "4032\r\n",
                "3528\r\n",
                "6140\r\n",
                "5994\r\n",
                "2811\r\n",
                "3247\r\n",
                "7297\r\n",
                "5776\r\n",
                "3863\r\n",
                "4240\r\n",
                "3973\r\n",
                "\r\n",
                "9884\r\n",
                "8267\r\n",
                "\r\n",
                "3047\r\n",
                "4053\r\n",
                "2400\r\n",
                "4246\r\n",
                "3193\r\n",
                "2309\r\n",
                "4014\r\n",
                "1369\r\n",
                "1437\r\n",
                "\r\n",
                "10529\r\n",
                "2975\r\n",
                "3033\r\n",
                "10601\r\n",
                "13985\r\n",
                "\r\n",
                "12323\r\n",
                "9086\r\n",
                "2903\r\n",
                "7243\r\n",
                "8351\r\n",
                "12729\r\n",
                "\r\n",
                "13982\r\n",
                "7013\r\n",
                "7500\r\n",
                "11098\r\n",
                "9206\r\n",
                "\r\n",
                "11963\r\n",
                "3055\r\n",
                "9862\r\n",
                "2601\r\n",
                "13991\r\n",
                "\r\n",
                "66684\r\n",
                "\r\n",
                "6171\r\n",
                "1924\r\n",
                "1569\r\n",
                "3761\r\n",
                "4616\r\n",
                "5565\r\n",
                "3644\r\n",
                "1817\r\n",
                "4029\r\n",
                "2333\r\n",
                "1934\r\n",
                "2492\r\n",
                "6161\r\n",
                "\r\n",
                "2802\r\n",
                "1498\r\n",
                "3232\r\n",
                "7475\r\n",
                "5503\r\n",
                "4913\r\n",
                "6759\r\n",
                "8657\r\n",
                "4445\r\n",
                "\r\n",
                "18324\r\n",
                "19871\r\n",
                "\r\n",
                "6287\r\n",
                "4271\r\n",
                "7871\r\n",
                "1097\r\n",
                "1932\r\n",
                "5980\r\n",
                "5376\r\n",
                "7824\r\n",
                "4911\r\n",
                "4751\r\n",
                "6453\r\n",
                "\r\n",
                "8374\r\n",
                "3293\r\n",
                "7175\r\n",
                "8288\r\n",
                "1217\r\n",
                "4831\r\n",
                "1514\r\n",
                "6681\r\n",
                "2596\r\n",
                "6199\r\n",
                "\r\n",
                "32039\r\n",
                "\r\n",
                "1235\r\n",
                "2206\r\n",
                "6429\r\n",
                "4880\r\n",
                "5463\r\n",
                "6814\r\n",
                "1530\r\n",
                "3544\r\n",
                "4685\r\n",
                "3169\r\n",
                "6752\r\n",
                "5854\r\n",
                "6764\r\n",
                "\r\n",
                "6115\r\n",
                "6039\r\n",
                "6519\r\n",
                "6414\r\n",
                "4558\r\n",
                "5214\r\n",
                "4411\r\n",
                "2882\r\n",
                "6006\r\n",
                "5117\r\n",
                "5321\r\n",
                "2059\r\n",
                "\r\n",
                "2431\r\n",
                "5892\r\n",
                "1839\r\n",
                "5352\r\n",
                "3295\r\n",
                "2768\r\n",
                "4788\r\n",
                "5271\r\n",
                "1503\r\n",
                "1173\r\n",
                "4691\r\n",
                "4906\r\n",
                "4346\r\n",
                "1043\r\n",
                "\r\n",
                "5172\r\n",
                "5976\r\n",
                "6248\r\n",
                "4288\r\n",
                "3851\r\n",
                "8543\r\n",
                "4189\r\n",
                "4396\r\n",
                "\r\n",
                "10361\r\n",
                "14864\r\n",
                "18037\r\n",
                "\r\n",
                "7381\r\n",
                "5180\r\n",
                "1829\r\n",
                "3624\r\n",
                "3144\r\n",
                "3962\r\n",
                "5923\r\n",
                "4356\r\n",
                "1477\r\n",
                "3153\r\n",
                "2891\r\n",
                "5196\r\n",
                "\r\n",
                "3143\r\n",
                "3180\r\n",
                "4428\r\n",
                "3418\r\n",
                "6243\r\n",
                "3480\r\n",
                "1151\r\n",
                "4262\r\n",
                "4958\r\n",
                "4641\r\n",
                "3823\r\n",
                "1469\r\n",
                "2149\r\n",
                "\r\n",
                "3702\r\n",
                "4159\r\n",
                "3799\r\n",
                "4639\r\n",
                "5703\r\n",
                "2425\r\n",
                "4579\r\n",
                "2397\r\n",
                "2814\r\n",
                "3959\r\n",
                "3987\r\n",
                "3088\r\n",
                "2982\r\n",
                "2338\r\n",
                "3432\r\n",
                "\r\n",
                "7256\r\n",
                "16171\r\n",
                "12417\r\n",
                "11290\r\n",
                "13105\r\n",
                "\r\n",
                "2594\r\n",
                "5105\r\n",
                "6253\r\n",
                "4743\r\n",
                "4251\r\n",
                "6439\r\n",
                "3370\r\n",
                "5662\r\n",
                "2763\r\n",
                "3147\r\n",
                "6366\r\n",
                "4537\r\n",
                "6279\r\n",
                "6104\r\n",
                "\r\n",
                "7926\r\n",
                "3430\r\n",
                "2206\r\n",
                "4334\r\n",
                "5226\r\n",
                "1817\r\n",
                "2404\r\n",
                "2587\r\n",
                "8020\r\n",
                "1849\r\n",
                "\r\n",
                "1257\r\n",
                "6091\r\n",
                "2485\r\n",
                "6366\r\n",
                "3184\r\n",
                "4775\r\n",
                "5987\r\n",
                "3473\r\n",
                "5761\r\n",
                "1905\r\n",
                "3742\r\n",
                "5478\r\n",
                "5343\r\n",
                "\r\n",
                "3336\r\n",
                "5819\r\n",
                "2617\r\n",
                "2756\r\n",
                "5602\r\n",
                "3921\r\n",
                "4660\r\n",
                "5041\r\n",
                "1471\r\n",
                "2297\r\n",
                "5575\r\n",
                "1473\r\n",
                "6059\r\n",
                "3111\r\n",
                "5789\r\n",
                "\r\n",
                "2647\r\n",
                "6183\r\n",
                "5004\r\n",
                "2750\r\n",
                "2772\r\n",
                "1964\r\n",
                "4453\r\n",
                "2132\r\n",
                "3181\r\n",
                "2916\r\n",
                "1804\r\n",
                "4666\r\n",
                "1215\r\n",
                "6354\r\n",
                "\r\n",
                "1449\r\n",
                "1539\r\n",
                "3005\r\n",
                "3167\r\n",
                "1712\r\n",
                "6222\r\n",
                "6007\r\n",
                "4141\r\n",
                "1481\r\n",
                "6198\r\n",
                "4476\r\n",
                "3850\r\n",
                "3885\r\n",
                "5880\r\n",
                "\r\n",
                "1833\r\n",
                "5557\r\n",
                "3185\r\n",
                "6117\r\n",
                "3456\r\n",
                "2789\r\n",
                "4576\r\n",
                "1439\r\n",
                "3212\r\n",
                "5223\r\n",
                "2687\r\n",
                "2368\r\n",
                "3270\r\n",
                "4629\r\n",
                "4716\r\n",
                "\r\n",
                "10123\r\n",
                "6686\r\n",
                "12658\r\n",
                "\r\n",
                "6838\r\n",
                "4415\r\n",
                "10796\r\n",
                "6040\r\n",
                "3065\r\n",
                "1832\r\n",
                "11624\r\n",
                "\r\n",
                "69368\r\n",
                "\r\n",
                "5469\r\n",
                "8816\r\n",
                "7624\r\n",
                "13506\r\n",
                "\r\n",
                "8923\r\n",
                "1621\r\n",
                "10042\r\n",
                "\r\n",
                "6113\r\n",
                "9373\r\n",
                "9212\r\n",
                "7054\r\n",
                "3193\r\n",
                "6588\r\n",
                "7743\r\n",
                "4224\r\n",
                "4983\r\n",
                "\r\n",
                "1911\r\n",
                "1589\r\n",
                "2667\r\n",
                "3095\r\n",
                "3768\r\n",
                "5898\r\n",
                "4574\r\n",
                "3456\r\n",
                "3281\r\n",
                "4176\r\n",
                "1591\r\n",
                "3383\r\n",
                "5063\r\n",
                "\r\n",
                "1378\r\n",
                "5923\r\n",
                "9019\r\n",
                "4379\r\n",
                "2932\r\n",
                "3918\r\n",
                "9631\r\n",
                "\r\n",
                "7851\r\n",
                "6466\r\n",
                "2388\r\n",
                "13209\r\n",
                "7613\r\n",
                "2396\r\n",
                "\r\n",
                "3015\r\n",
                "1119\r\n",
                "4172\r\n",
                "2459\r\n",
                "3872\r\n",
                "5912\r\n",
                "4012\r\n",
                "2894\r\n",
                "2765\r\n",
                "1950\r\n",
                "4147\r\n",
                "4523\r\n",
                "2504\r\n",
                "4691\r\n",
                "2038\r\n",
                "\r\n",
                "4472\r\n",
                "5029\r\n",
                "3599\r\n",
                "6237\r\n",
                "8566\r\n",
                "3508\r\n",
                "7995\r\n",
                "3756\r\n",
                "6631\r\n",
                "3625\r\n",
                "\r\n",
                "16549\r\n",
                "15550\r\n",
                "22868\r\n",
                "\r\n",
                "7356\r\n",
                "11800\r\n",
                "8330\r\n",
                "14503\r\n",
                "9470\r\n",
                "\r\n",
                "1306\r\n",
                "1960\r\n",
                "6574\r\n",
                "7234\r\n",
                "3841\r\n",
                "1006\r\n",
                "4156\r\n",
                "2019\r\n",
                "6187\r\n",
                "2494\r\n",
                "7475\r\n",
                "5916\r\n",
                "\r\n",
                "8894\r\n",
                "9358\r\n",
                "9666\r\n",
                "8711\r\n",
                "10140\r\n",
                "11205\r\n",
                "\r\n",
                "8123\r\n",
                "19317\r\n",
                "11676\r\n",
                "7989\r\n",
                "\r\n",
                "7610\r\n",
                "3163\r\n",
                "9789\r\n",
                "6331\r\n",
                "6998\r\n",
                "7288\r\n",
                "4632\r\n",
                "5340\r\n",
                "\r\n",
                "7105\r\n",
                "15276\r\n",
                "22300\r\n",
                "\r\n",
                "11919\r\n",
                "6212\r\n",
                "5062\r\n",
                "\r\n",
                "18496\r\n",
                "10383\r\n",
                "10695\r\n",
                "4206\r\n",
                "\r\n",
                "8127\r\n",
                "2277\r\n",
                "10392\r\n",
                "1337\r\n",
                "2779\r\n",
                "5380\r\n",
                "3881\r\n",
                "6556\r\n",
                "\r\n",
                "5514\r\n",
                "6678\r\n",
                "2324\r\n",
                "4686\r\n",
                "3807\r\n",
                "4785\r\n",
                "3972\r\n",
                "\r\n",
                "1488\r\n",
                "3662\r\n",
                "4866\r\n",
                "2687\r\n",
                "3519\r\n",
                "2605\r\n",
                "5189\r\n",
                "5313\r\n",
                "4112\r\n",
                "2559\r\n",
                "1887\r\n",
                "5656\r\n",
                "5931\r\n",
                "1816\r\n",
                "\r\n",
                "9949\r\n",
                "11409\r\n",
                "8427\r\n",
                "15008\r\n",
                "2241\r\n",
                "\r\n",
                "1942\r\n",
                "1004\r\n",
                "1070\r\n",
                "5860\r\n",
                "4932\r\n",
                "4055\r\n",
                "2922\r\n",
                "5129\r\n",
                "1232\r\n",
                "4940\r\n",
                "5270\r\n",
                "1023\r\n",
                "5323\r\n",
                "2002\r\n",
                "2727\r\n",
                "\r\n",
                "48445\r\n",
                "\r\n",
                "6687\r\n",
                "4155\r\n",
                "2999\r\n",
                "3348\r\n",
                "\r\n",
                "5347\r\n",
                "4592\r\n",
                "1463\r\n",
                "3080\r\n",
                "3520\r\n",
                "5283\r\n",
                "3166\r\n",
                "2945\r\n",
                "2891\r\n",
                "1100\r\n",
                "5372\r\n",
                "5797\r\n",
                "3060\r\n",
                "5748\r\n",
                "5592\r\n",
                "\r\n",
                "8132\r\n",
                "3941\r\n",
                "7625\r\n",
                "4458\r\n",
                "2714\r\n",
                "7390\r\n",
                "4305\r\n",
                "1612\r\n",
                "6707\r\n",
                "\r\n",
                "2105\r\n",
                "2880\r\n",
                "6683\r\n",
                "6257\r\n",
                "6472\r\n",
                "1371\r\n",
                "3493\r\n",
                "1542\r\n",
                "4431\r\n",
                "5003\r\n",
                "3276\r\n",
                "2205\r\n",
                "3417\r\n",
                "\r\n",
                "6421\r\n",
                "4279\r\n",
                "1213\r\n",
                "6274\r\n",
                "3757\r\n",
                "6856\r\n",
                "3244\r\n",
                "1554\r\n",
                "2716\r\n",
                "1854\r\n",
                "1924\r\n",
                "3769\r\n",
                "6344\r\n",
                "\r\n",
                "1081\r\n",
                "2601\r\n",
                "2607\r\n",
                "6042\r\n",
                "1967\r\n",
                "2924\r\n",
                "4656\r\n",
                "6462\r\n",
                "1747\r\n",
                "4278\r\n",
                "6384\r\n",
                "4427\r\n",
                "5074\r\n",
                "6454\r\n",
                "\r\n",
                "6344\r\n",
                "13912\r\n",
                "15708\r\n",
                "1335\r\n",
                "5433\r\n",
                "\r\n",
                "5862\r\n",
                "7799\r\n",
                "3707\r\n",
                "9404\r\n",
                "10527\r\n",
                "10543\r\n",
                "6428\r\n",
                "\r\n",
                "2009\r\n",
                "17261\r\n",
                "13328\r\n",
                "\r\n",
                "10389\r\n",
                "9214\r\n",
                "9189\r\n",
                "8747\r\n",
                "12720\r\n",
                "9443\r\n",
                "\r\n",
                "7162\r\n",
                "2362\r\n",
                "3837\r\n",
                "8891\r\n",
                "2098\r\n",
                "8577\r\n",
                "9063\r\n",
                "3336\r\n",
                "5023\r\n",
                "\r\n",
                "1322\r\n",
                "12214\r\n",
                "5387\r\n",
                "9804\r\n",
                "9542\r\n",
                "6149\r\n",
                "\r\n",
                "1997\r\n",
                "6709\r\n",
                "6614\r\n",
                "5116\r\n",
                "6691\r\n",
                "5904\r\n",
                "5563\r\n",
                "2437\r\n",
                "4442\r\n",
                "7346\r\n",
                "5749\r\n",
                "7194\r\n",
                "\r\n",
                "5836\r\n",
                "15439\r\n",
                "9020\r\n",
                "9124\r\n",
                "\r\n",
                "6761\r\n",
                "4892\r\n",
                "5956\r\n",
                "2500\r\n",
                "6879\r\n",
                "1980\r\n",
                "1908\r\n",
                "1705\r\n",
                "6157\r\n",
                "4559\r\n",
                "5776\r\n",
                "1235\r\n",
                "3077\r\n",
                "\r\n",
                "10155\r\n",
                "8529\r\n",
                "7837\r\n",
                "7027\r\n",
                "7897\r\n",
                "6504\r\n",
                "4192\r\n",
                "7193\r\n",
                "\r\n",
                "9711\r\n",
                "17664\r\n",
                "4069\r\n",
                "10400\r\n",
                "\r\n",
                "24373\r\n",
                "20215\r\n",
                "\r\n",
                "2155\r\n",
                "9371\r\n",
                "9201\r\n",
                "5590\r\n",
                "9806\r\n",
                "13380\r\n",
                "\r\n",
                "7716\r\n",
                "1116\r\n",
                "6106\r\n",
                "2703\r\n",
                "2403\r\n",
                "3549\r\n",
                "3740\r\n",
                "6658\r\n",
                "4769\r\n",
                "\r\n",
                "13954\r\n",
                "36130\r\n",
                "\r\n",
                "1767\r\n",
                "7955\r\n",
                "5622\r\n",
                "5077\r\n",
                "2512\r\n",
                "8206\r\n",
                "4501\r\n",
                "2917\r\n",
                "9336\r\n",
                "\r\n",
                "1601\r\n",
                "23493\r\n",
                "16981\r\n",
                "\r\n",
                "3719\r\n",
                "2266\r\n",
                "1982\r\n",
                "4557\r\n",
                "3198\r\n",
                "3815\r\n",
                "5006\r\n",
                "2587\r\n",
                "4173\r\n",
                "2965\r\n",
                "2658\r\n",
                "4890\r\n",
                "5723\r\n",
                "4231\r\n",
                "\r\n",
                "19350\r\n",
                "\r\n",
                "19637\r\n",
                "13784\r\n",
                "21672\r\n",
                "\r\n",
                "17040\r\n",
                "29745\r\n",
                "\r\n",
                "2037\r\n",
                "7872\r\n",
                "5766\r\n",
                "7919\r\n",
                "1382\r\n",
                "9398\r\n",
                "3197\r\n",
                "\r\n",
                "11570\r\n",
                "12560\r\n",
                "6206\r\n",
                "12642\r\n",
                "3275\r\n",
                "\r\n",
                "1535\r\n",
                "6685\r\n",
                "5587\r\n",
                "12955\r\n",
                "12197\r\n",
                "\r\n",
                "2980\r\n",
                "15784\r\n",
                "12178\r\n",
                "12996\r\n",
                "\r\n",
                "7928\r\n",
                "8780\r\n",
                "7528\r\n",
                "5428\r\n",
                "8181\r\n",
                "8527\r\n",
                "5229\r\n",
                "3850\r\n",
                "2012\r\n",
                "2975\r\n",
                "\r\n",
                "30992\r\n",
                "26372\r\n",
                "\r\n",
                "4384\r\n",
                "2425\r\n",
                "2332\r\n",
                "1309\r\n",
                "3899\r\n",
                "3062\r\n",
                "4825\r\n",
                "1428\r\n",
                "1116\r\n",
                "3635\r\n",
                "1669\r\n",
                "1922\r\n",
                "5941\r\n",
                "4378\r\n",
                "2742\r\n",
                "\r\n",
                "1961\r\n",
                "4243\r\n",
                "4443\r\n",
                "3070\r\n",
                "5786\r\n",
                "3638\r\n",
                "6330\r\n",
                "2461\r\n",
                "1612\r\n",
                "4572\r\n",
                "3551\r\n",
                "3831\r\n",
                "3263\r\n",
                "6173\r\n",
                "\r\n",
                "2759\r\n",
                "3889\r\n",
                "5197\r\n",
                "4293\r\n",
                "2957\r\n",
                "6305\r\n",
                "3797\r\n",
                "1465\r\n",
                "4674\r\n",
                "5659\r\n",
                "5258\r\n",
                "3775\r\n",
                "4436\r\n",
                "2260\r\n",
                "\r\n",
                "5141\r\n",
                "8383\r\n",
                "6249\r\n",
                "9982\r\n",
                "4848\r\n",
                "2675\r\n",
                "4232\r\n",
                "8974\r\n",
                "\r\n",
                "11489\r\n",
                "11733\r\n",
                "9990\r\n",
                "4150\r\n",
                "4533\r\n",
                "3032\r\n",
                "1044\r\n",
                "\r\n",
                "62338\r\n",
                "\r\n",
                "3645\r\n",
                "5406\r\n",
                "4672\r\n",
                "3889\r\n",
                "5799\r\n",
                "5760\r\n",
                "4356\r\n",
                "5557\r\n",
                "4120\r\n",
                "2771\r\n",
                "3399\r\n",
                "5292\r\n",
                "3640\r\n",
                "3989\r\n",
                "6047\r\n",
                "\r\n",
                "4629\r\n",
                "6897\r\n",
                "4312\r\n",
                "2108\r\n",
                "5301\r\n",
                "1122\r\n",
                "1893\r\n",
                "5508\r\n",
                "3414\r\n",
                "2180\r\n",
                "4254');"
            ],
            "metadata": {
                "language": "sql",
                "azdata_cell_guid": "e1f66e62-3ed2-4aaf-94f5-99f7957e9ba5"
            },
            "outputs": [],
            "execution_count": null
        },
        {
            "cell_type": "code",
            "source": [
                "USE tempdb;\r\n",
                "GO\r\n",
                "\r\n",
                "SELECT TOP (1000) [Id]\r\n",
                "      ,[calories]\r\n",
                "  FROM [tempdb].[dbo].[day_one_single_row];\r\n",
                "\r\n",
                "SELECT * FROM STRING_SPLIT((select [calories] FROM [tempdb].[dbo].[day_one_single_row]), CHAR(10) );\r\n",
                "\r\n",
                "/* From there it is the same a s the solution above */"
            ],
            "metadata": {
                "azdata_cell_guid": "f526bb7a-8227-481c-8403-681e30254624",
                "language": "sql"
            },
            "outputs": [
                {
                    "output_type": "display_data",
                    "data": {
                        "text/html": "Commands completed successfully."
                    },
                    "metadata": {}
                },
                {
                    "output_type": "display_data",
                    "data": {
                        "text/html": "(1 row affected)"
                    },
                    "metadata": {}
                },
                {
                    "output_type": "display_data",
                    "data": {
                        "text/html": "(2255 rows affected)"
                    },
                    "metadata": {}
                },
                {
                    "output_type": "display_data",
                    "data": {
                        "text/html": "Total execution time: 00:00:00.814"
                    },
                    "metadata": {}
                },
                {
                    "output_type": "execute_result",
                    "execution_count": 1,
                    "data": {
                        "application/vnd.dataresource+json": {
                            "schema": {
                                "fields": [
                                    {
                                        "name": "Id"
                                    },
                                    {
                                        "name": "calories"
                                    }
                                ]
                            },
                            "data": [
                                {
                                    "0": "1",
                                    "1": "6758\r\n5199\r\n10292\r\n8812\r\n3527\r\n10178\r\n1340\r\n2824\r\n\r\n62522\r\n\r\n22990\r\n\r\n6730\r\n\r\n7255\r\n3210\r\n3003\r\n8296\r\n8799\r\n7655\r\n10312\r\n\r\n18837\r\n19882\r\n5386\r\n15891\r\n\r\n4203\r\n36288\r\n\r\n1586\r\n2295\r\n4981\r\n2109\r\n2284\r\n5814\r\n4823\r\n5492\r\n1524\r\n5286\r\n2147\r\n2952\r\n4783\r\n4814\r\n3042\r\n\r\n8474\r\n4059\r\n14465\r\n13390\r\n\r\n4623\r\n2150\r\n7545\r\n7833\r\n3686\r\n2095\r\n3336\r\n5030\r\n7648\r\n4087\r\n4482\r\n\r\n31278\r\n29863\r\n\r\n1228\r\n4851\r\n2706\r\n1692\r\n3200\r\n3521\r\n5200\r\n3755\r\n3922\r\n5181\r\n5561\r\n5162\r\n5280\r\n2460\r\n\r\n1083\r\n4432\r\n4938\r\n4303\r\n6304\r\n3746\r\n3527\r\n3141\r\n3198\r\n4980\r\n4395\r\n\r\n8218\r\n3954\r\n1396\r\n2147\r\n7924\r\n4650\r\n4483\r\n6610\r\n4799\r\n3973\r\n\r\n3401\r\n4111\r\n7798\r\n5181\r\n8418\r\n5014\r\n5975\r\n7916\r\n7788\r\n1864\r\n\r\n8547\r\n13217\r\n9699\r\n5701\r\n11040\r\n2943\r\n\r\n6214\r\n3287\r\n4137\r\n6773\r\n2593\r\n4776\r\n1687\r\n2821\r\n7240\r\n3681\r\n1185\r\n6578\r\n\r\n7850\r\n6697\r\n4844\r\n2325\r\n1834\r\n6812\r\n3380\r\n2302\r\n2531\r\n4959\r\n\r\n5275\r\n1883\r\n6919\r\n2865\r\n7943\r\n7718\r\n9494\r\n7957\r\n\r\n28727\r\n22865\r\n\r\n3064\r\n4279\r\n2649\r\n12521\r\n\r\n10169\r\n16383\r\n3301\r\n12707\r\n\r\n3533\r\n2280\r\n9232\r\n10618\r\n1488\r\n7616\r\n4334\r\n7847\r\n\r\n4322\r\n1215\r\n3514\r\n5513\r\n3469\r\n5472\r\n3658\r\n1096\r\n3410\r\n1607\r\n5482\r\n3015\r\n5234\r\n2488\r\n\r\n1306\r\n8067\r\n3375\r\n4064\r\n2943\r\n6158\r\n3911\r\n7766\r\n2493\r\n4897\r\n6551\r\n\r\n10694\r\n13319\r\n\r\n10862\r\n2483\r\n8522\r\n4509\r\n5021\r\n8789\r\n6152\r\n\r\n7824\r\n23812\r\n6740\r\n\r\n6548\r\n2116\r\n14900\r\n\r\n3470\r\n1825\r\n2865\r\n4691\r\n4729\r\n4263\r\n4899\r\n4855\r\n3732\r\n4439\r\n5023\r\n1291\r\n3121\r\n5322\r\n\r\n6529\r\n\r\n5141\r\n2353\r\n8515\r\n9815\r\n9541\r\n10389\r\n1114\r\n1373\r\n\r\n11924\r\n11446\r\n20373\r\n\r\n37249\r\n\r\n5749\r\n2968\r\n5300\r\n5405\r\n7280\r\n6161\r\n4298\r\n7104\r\n7140\r\n3405\r\n5754\r\n\r\n4763\r\n11364\r\n7492\r\n5630\r\n15978\r\n\r\n3622\r\n2185\r\n12718\r\n2466\r\n5015\r\n11302\r\n\r\n65579\r\n\r\n5450\r\n6455\r\n\r\n5721\r\n1939\r\n8537\r\n7075\r\n1317\r\n1805\r\n1701\r\n4578\r\n8435\r\n1718\r\n\r\n10692\r\n6581\r\n3068\r\n9013\r\n1741\r\n4654\r\n2159\r\n5340\r\n\r\n4981\r\n6327\r\n6931\r\n3024\r\n1263\r\n4313\r\n6793\r\n2818\r\n6727\r\n2245\r\n4524\r\n5825\r\n\r\n10156\r\n11779\r\n1694\r\n7495\r\n1615\r\n8872\r\n11840\r\n\r\n7323\r\n7184\r\n4094\r\n3989\r\n1820\r\n2141\r\n7277\r\n3208\r\n2064\r\n7765\r\n5764\r\n\r\n2796\r\n3030\r\n2783\r\n3426\r\n5581\r\n1659\r\n2369\r\n2784\r\n5284\r\n4110\r\n1157\r\n3129\r\n6088\r\n2215\r\n3503\r\n\r\n20991\r\n1521\r\n\r\n1601\r\n4869\r\n9195\r\n1835\r\n5402\r\n2721\r\n1128\r\n1991\r\n9336\r\n\r\n2557\r\n6635\r\n6981\r\n6296\r\n5278\r\n3077\r\n7679\r\n5764\r\n2359\r\n2467\r\n6705\r\n\r\n2594\r\n2611\r\n3189\r\n1436\r\n1510\r\n1341\r\n8213\r\n8525\r\n5447\r\n2045\r\n\r\n3812\r\n2106\r\n6216\r\n3236\r\n7169\r\n5840\r\n4770\r\n1724\r\n1061\r\n5062\r\n7990\r\n\r\n5722\r\n4372\r\n3524\r\n1561\r\n3417\r\n5807\r\n3969\r\n3635\r\n3067\r\n3469\r\n4393\r\n1705\r\n4897\r\n4307\r\n2663\r\n\r\n28920\r\n3093\r\n\r\n12949\r\n9070\r\n9161\r\n3530\r\n6651\r\n\r\n12010\r\n1783\r\n21165\r\n\r\n4667\r\n3553\r\n6938\r\n5433\r\n3244\r\n1082\r\n7305\r\n7262\r\n6577\r\n1987\r\n2256\r\n\r\n4933\r\n1802\r\n1315\r\n1303\r\n1722\r\n2688\r\n6103\r\n2749\r\n1478\r\n4994\r\n4369\r\n5074\r\n5655\r\n2827\r\n3232\r\n\r\n1101\r\n2284\r\n4349\r\n4868\r\n3264\r\n3227\r\n1786\r\n5233\r\n6054\r\n6144\r\n3533\r\n1841\r\n1721\r\n4775\r\n\r\n16514\r\n\r\n7282\r\n7260\r\n2423\r\n1738\r\n4498\r\n5570\r\n3862\r\n3979\r\n3845\r\n4313\r\n3249\r\n5639\r\n\r\n7910\r\n9862\r\n7476\r\n9103\r\n2851\r\n3634\r\n8641\r\n7369\r\n\r\n8574\r\n1439\r\n1442\r\n12337\r\n1387\r\n7777\r\n\r\n18060\r\n\r\n10287\r\n1924\r\n4066\r\n12275\r\n14094\r\n\r\n4797\r\n5061\r\n2701\r\n1391\r\n6617\r\n5870\r\n4999\r\n4150\r\n2881\r\n2667\r\n2461\r\n1978\r\n1058\r\n\r\n12911\r\n7290\r\n9442\r\n2875\r\n5812\r\n\r\n13016\r\n4985\r\n2517\r\n9758\r\n11215\r\n\r\n2845\r\n11805\r\n6418\r\n8128\r\n1604\r\n\r\n9643\r\n6574\r\n6804\r\n3575\r\n9226\r\n6276\r\n1406\r\n4493\r\n8104\r\n\r\n11616\r\n7196\r\n5685\r\n1267\r\n3281\r\n1250\r\n7666\r\n\r\n9654\r\n8646\r\n7144\r\n2790\r\n7583\r\n2681\r\n1799\r\n5301\r\n1714\r\n\r\n30086\r\n23066\r\n\r\n10205\r\n7316\r\n1550\r\n4056\r\n2627\r\n10056\r\n\r\n9912\r\n1615\r\n1584\r\n2963\r\n1347\r\n9336\r\n8310\r\n8728\r\n\r\n2436\r\n4741\r\n6665\r\n5239\r\n5737\r\n4252\r\n1954\r\n4916\r\n5341\r\n7475\r\n5909\r\n5012\r\n\r\n4897\r\n8580\r\n5122\r\n1865\r\n8318\r\n5369\r\n2334\r\n5629\r\n7058\r\n\r\n14621\r\n2969\r\n15900\r\n14828\r\n2997\r\n\r\n7051\r\n3305\r\n7848\r\n7947\r\n3961\r\n3206\r\n5175\r\n7055\r\n3182\r\n5838\r\n1954\r\n\r\n6614\r\n3086\r\n7740\r\n6624\r\n4106\r\n7195\r\n\r\n3815\r\n4858\r\n3460\r\n1427\r\n5685\r\n5865\r\n4790\r\n6660\r\n1510\r\n5685\r\n2790\r\n5112\r\n\r\n13626\r\n1665\r\n16722\r\n9598\r\n\r\n15870\r\n\r\n3453\r\n8531\r\n9997\r\n8590\r\n5833\r\n7896\r\n8524\r\n\r\n6783\r\n5931\r\n3245\r\n4327\r\n5496\r\n5017\r\n2136\r\n3899\r\n3875\r\n2904\r\n5023\r\n3173\r\n3227\r\n\r\n4241\r\n4693\r\n1164\r\n1877\r\n5541\r\n5017\r\n3433\r\n3333\r\n4734\r\n3639\r\n1724\r\n2439\r\n1673\r\n4362\r\n\r\n6479\r\n3259\r\n3496\r\n6125\r\n1147\r\n3181\r\n3948\r\n5746\r\n3019\r\n1924\r\n\r\n6250\r\n26443\r\n\r\n4901\r\n6813\r\n6581\r\n3144\r\n1525\r\n6629\r\n3254\r\n6542\r\n1156\r\n6663\r\n3856\r\n4083\r\n1598\r\n\r\n7932\r\n8717\r\n9657\r\n1873\r\n2727\r\n2052\r\n2376\r\n\r\n6455\r\n13127\r\n3540\r\n8038\r\n6601\r\n2249\r\n\r\n6226\r\n5251\r\n3416\r\n5941\r\n7336\r\n5668\r\n4139\r\n1459\r\n2529\r\n7538\r\n\r\n6899\r\n4680\r\n10277\r\n2515\r\n16361\r\n\r\n23283\r\n2647\r\n\r\n1272\r\n3462\r\n6817\r\n3795\r\n4973\r\n6750\r\n2340\r\n7379\r\n3873\r\n1832\r\n7935\r\n\r\n4808\r\n4018\r\n11801\r\n7092\r\n8312\r\n9718\r\n6693\r\n\r\n7285\r\n7822\r\n7063\r\n2854\r\n7844\r\n1121\r\n4362\r\n4685\r\n5360\r\n7140\r\n6796\r\n\r\n17114\r\n20195\r\n9330\r\n\r\n19378\r\n27739\r\n\r\n16288\r\n15298\r\n13251\r\n5444\r\n10856\r\n\r\n7616\r\n6108\r\n3420\r\n9201\r\n3422\r\n4312\r\n4388\r\n3008\r\n9551\r\n\r\n1255\r\n7803\r\n1598\r\n3892\r\n6954\r\n7936\r\n8078\r\n5261\r\n2057\r\n2914\r\n\r\n7497\r\n10296\r\n2343\r\n10020\r\n1171\r\n3092\r\n2333\r\n\r\n1492\r\n4718\r\n4267\r\n10309\r\n7919\r\n7080\r\n1012\r\n9981\r\n\r\n17367\r\n1357\r\n16269\r\n7775\r\n\r\n13641\r\n3004\r\n13280\r\n\r\n6205\r\n3003\r\n1634\r\n4608\r\n2759\r\n6324\r\n4372\r\n4833\r\n6565\r\n2865\r\n7345\r\n3719\r\n\r\n4268\r\n2071\r\n2155\r\n4408\r\n4869\r\n2634\r\n1329\r\n2075\r\n4276\r\n4032\r\n2129\r\n5181\r\n2594\r\n2102\r\n2281\r\n\r\n2486\r\n7483\r\n6748\r\n4017\r\n5926\r\n3507\r\n4666\r\n3837\r\n\r\n8082\r\n13626\r\n12247\r\n5622\r\n13565\r\n\r\n7911\r\n1180\r\n1854\r\n5795\r\n7017\r\n6873\r\n7728\r\n5055\r\n5207\r\n7810\r\n7474\r\n\r\n3459\r\n5418\r\n1420\r\n5028\r\n6793\r\n4851\r\n2885\r\n2263\r\n2734\r\n4868\r\n6596\r\n1434\r\n5440\r\n\r\n3368\r\n3541\r\n5756\r\n3039\r\n4234\r\n2632\r\n6031\r\n5613\r\n4769\r\n1538\r\n4898\r\n5128\r\n4848\r\n\r\n2817\r\n3013\r\n2260\r\n4714\r\n6461\r\n3262\r\n3924\r\n4083\r\n2487\r\n4221\r\n5311\r\n4274\r\n5591\r\n1625\r\n\r\n8756\r\n8549\r\n9481\r\n7994\r\n7775\r\n6951\r\n5276\r\n7598\r\n9126\r\n\r\n11749\r\n7152\r\n14494\r\n\r\n14395\r\n7799\r\n16109\r\n14178\r\n\r\n24404\r\n4941\r\n\r\n5326\r\n9070\r\n3951\r\n1404\r\n6513\r\n9155\r\n5981\r\n3880\r\n1476\r\n\r\n12661\r\n10966\r\n\r\n3517\r\n7760\r\n4724\r\n6891\r\n1447\r\n3337\r\n3903\r\n7382\r\n7067\r\n1771\r\n1184\r\n\r\n3556\r\n13458\r\n12699\r\n12330\r\n13534\r\n11244\r\n\r\n10818\r\n31380\r\n\r\n17968\r\n3978\r\n17994\r\n\r\n9486\r\n6163\r\n1748\r\n3765\r\n7191\r\n1461\r\n2062\r\n8169\r\n9167\r\n\r\n3111\r\n4378\r\n3560\r\n6292\r\n5521\r\n2132\r\n5071\r\n4519\r\n1977\r\n6587\r\n\r\n11961\r\n2119\r\n11633\r\n10970\r\n4089\r\n7390\r\n6481\r\n\r\n4350\r\n5261\r\n4801\r\n1584\r\n1531\r\n5034\r\n5917\r\n4136\r\n6668\r\n5364\r\n3814\r\n3873\r\n4437\r\n\r\n2568\r\n2449\r\n5582\r\n1857\r\n6143\r\n5457\r\n4396\r\n3723\r\n2885\r\n2428\r\n2790\r\n4173\r\n1726\r\n5687\r\n\r\n21758\r\n\r\n32901\r\n\r\n4313\r\n12688\r\n14465\r\n1073\r\n6568\r\n\r\n2295\r\n3872\r\n5979\r\n3014\r\n1408\r\n1865\r\n2937\r\n4231\r\n5076\r\n2544\r\n3270\r\n2673\r\n6060\r\n4292\r\n1073\r\n\r\n5340\r\n10378\r\n10445\r\n11874\r\n8275\r\n8558\r\n1558\r\n\r\n3652\r\n9630\r\n15612\r\n18471\r\n\r\n5856\r\n4627\r\n4762\r\n6094\r\n5266\r\n2970\r\n1230\r\n6292\r\n5083\r\n4557\r\n6158\r\n5841\r\n6321\r\n3672\r\n\r\n4531\r\n2204\r\n4583\r\n4426\r\n4310\r\n6136\r\n5577\r\n4765\r\n6882\r\n1300\r\n2979\r\n6754\r\n4241\r\n\r\n3266\r\n6610\r\n2322\r\n12666\r\n11874\r\n10495\r\n\r\n7493\r\n2468\r\n2710\r\n6550\r\n7383\r\n4442\r\n3692\r\n8168\r\n\r\n4381\r\n3648\r\n4270\r\n3016\r\n4178\r\n3066\r\n1736\r\n5402\r\n4995\r\n1980\r\n5438\r\n5256\r\n4804\r\n4854\r\n2585\r\n\r\n4096\r\n4397\r\n4061\r\n3811\r\n2537\r\n3296\r\n1877\r\n4267\r\n2760\r\n3682\r\n5949\r\n3713\r\n3365\r\n4135\r\n1310\r\n\r\n30319\r\n\r\n7244\r\n6071\r\n1234\r\n6387\r\n1980\r\n1935\r\n3431\r\n6474\r\n6601\r\n1652\r\n\r\n10125\r\n11599\r\n\r\n4436\r\n3242\r\n6077\r\n6707\r\n1582\r\n6648\r\n3345\r\n5812\r\n1635\r\n2782\r\n2514\r\n2608\r\n\r\n9244\r\n1348\r\n5019\r\n2059\r\n9226\r\n2546\r\n5130\r\n8902\r\n7779\r\n\r\n10030\r\n10749\r\n3690\r\n8769\r\n9835\r\n7216\r\n2132\r\n\r\n6105\r\n1205\r\n1860\r\n3190\r\n5815\r\n1424\r\n2611\r\n1230\r\n4491\r\n1731\r\n5804\r\n2863\r\n1816\r\n3694\r\n\r\n4791\r\n6491\r\n3292\r\n3310\r\n2223\r\n4296\r\n6323\r\n3414\r\n1462\r\n6799\r\n3276\r\n4435\r\n5554\r\n\r\n2859\r\n2854\r\n1127\r\n4179\r\n6233\r\n6219\r\n5955\r\n3139\r\n2457\r\n3854\r\n5071\r\n4887\r\n4190\r\n4469\r\n\r\n67818\r\n\r\n7880\r\n6503\r\n4931\r\n5813\r\n1692\r\n2126\r\n6300\r\n8743\r\n4983\r\n2182\r\n\r\n1882\r\n5752\r\n6369\r\n1996\r\n2955\r\n5978\r\n6087\r\n5123\r\n2587\r\n2000\r\n4973\r\n2214\r\n5118\r\n3178\r\n\r\n10807\r\n9780\r\n8468\r\n2157\r\n1021\r\n8078\r\n4848\r\n\r\n3400\r\n1666\r\n6908\r\n10199\r\n1685\r\n4979\r\n\r\n2250\r\n5672\r\n2505\r\n9061\r\n5514\r\n8895\r\n4958\r\n8274\r\n7707\r\n\r\n15083\r\n2359\r\n23052\r\n\r\n6279\r\n1563\r\n4247\r\n4593\r\n4844\r\n5335\r\n7024\r\n7324\r\n5904\r\n1016\r\n3394\r\n3382\r\n\r\n2965\r\n2673\r\n3329\r\n1833\r\n1222\r\n1789\r\n1027\r\n6268\r\n4404\r\n1031\r\n1407\r\n4510\r\n4047\r\n1972\r\n\r\n4423\r\n8018\r\n4991\r\n7190\r\n7061\r\n6223\r\n5972\r\n2864\r\n5674\r\n\r\n1559\r\n1850\r\n4117\r\n1495\r\n2604\r\n2243\r\n1498\r\n4936\r\n2970\r\n4109\r\n1252\r\n6416\r\n5293\r\n3319\r\n\r\n5577\r\n4032\r\n3528\r\n6140\r\n5994\r\n2811\r\n3247\r\n7297\r\n5776\r\n3863\r\n4240\r\n3973\r\n\r\n9884\r\n8267\r\n\r\n3047\r\n4053\r\n2400\r\n4246\r\n3193\r\n2309\r\n4014\r\n1369\r\n1437\r\n\r\n10529\r\n2975\r\n3033\r\n10601\r\n13985\r\n\r\n12323\r\n9086\r\n2903\r\n7243\r\n8351\r\n12729\r\n\r\n13982\r\n7013\r\n7500\r\n11098\r\n9206\r\n\r\n11963\r\n3055\r\n9862\r\n2601\r\n13991\r\n\r\n66684\r\n\r\n6171\r\n1924\r\n1569\r\n3761\r\n4616\r\n5565\r\n3644\r\n1817\r\n4029\r\n2333\r\n1934\r\n2492\r\n6161\r\n\r\n2802\r\n1498\r\n3232\r\n7475\r\n5503\r\n4913\r\n6759\r\n8657\r\n4445\r\n\r\n18324\r\n19871\r\n\r\n6287\r\n4271\r\n7871\r\n1097\r\n1932\r\n5980\r\n5376\r\n7824\r\n4911\r\n4751\r\n6453\r\n\r\n8374\r\n3293\r\n7175\r\n8288\r\n1217\r\n4831\r\n1514\r\n6681\r\n2596\r\n6199\r\n\r\n32039\r\n\r\n1235\r\n2206\r\n6429\r\n4880\r\n5463\r\n6814\r\n1530\r\n3544\r\n4685\r\n3169\r\n6752\r\n5854\r\n6764\r\n\r\n6115\r\n6039\r\n6519\r\n6414\r\n4558\r\n5214\r\n4411\r\n2882\r\n6006\r\n5117\r\n5321\r\n2059\r\n\r\n2431\r\n5892\r\n1839\r\n5352\r\n3295\r\n2768\r\n4788\r\n5271\r\n1503\r\n1173\r\n4691\r\n4906\r\n4346\r\n1043\r\n\r\n5172\r\n5976\r\n6248\r\n4288\r\n3851\r\n8543\r\n4189\r\n4396\r\n\r\n10361\r\n14864\r\n18037\r\n\r\n7381\r\n5180\r\n1829\r\n3624\r\n3144\r\n3962\r\n5923\r\n4356\r\n1477\r\n3153\r\n2891\r\n5196\r\n\r\n3143\r\n3180\r\n4428\r\n3418\r\n6243\r\n3480\r\n1151\r\n4262\r\n4958\r\n4641\r\n3823\r\n1469\r\n2149\r\n\r\n3702\r\n4159\r\n3799\r\n4639\r\n5703\r\n2425\r\n4579\r\n2397\r\n2814\r\n3959\r\n3987\r\n3088\r\n2982\r\n2338\r\n3432\r\n\r\n7256\r\n16171\r\n12417\r\n11290\r\n13105\r\n\r\n2594\r\n5105\r\n6253\r\n4743\r\n4251\r\n6439\r\n3370\r\n5662\r\n2763\r\n3147\r\n6366\r\n4537\r\n6279\r\n6104\r\n\r\n7926\r\n3430\r\n2206\r\n4334\r\n5226\r\n1817\r\n2404\r\n2587\r\n8020\r\n1849\r\n\r\n1257\r\n6091\r\n2485\r\n6366\r\n3184\r\n4775\r\n5987\r\n3473\r\n5761\r\n1905\r\n3742\r\n5478\r\n5343\r\n\r\n3336\r\n5819\r\n2617\r\n2756\r\n5602\r\n3921\r\n4660\r\n5041\r\n1471\r\n2297\r\n5575\r\n1473\r\n6059\r\n3111\r\n5789\r\n\r\n2647\r\n6183\r\n5004\r\n2750\r\n2772\r\n1964\r\n4453\r\n2132\r\n3181\r\n2916\r\n1804\r\n4666\r\n1215\r\n6354\r\n\r\n1449\r\n1539\r\n3005\r\n3167\r\n1712\r\n6222\r\n6007\r\n4141\r\n1481\r\n6198\r\n4476\r\n3850\r\n3885\r\n5880\r\n\r\n1833\r\n5557\r\n3185\r\n6117\r\n3456\r\n2789\r\n4576\r\n1439\r\n3212\r\n5223\r\n2687\r\n2368\r\n3270\r\n4629\r\n4716\r\n\r\n10123\r\n6686\r\n12658\r\n\r\n6838\r\n4415\r\n10796\r\n6040\r\n3065\r\n1832\r\n11624\r\n\r\n69368\r\n\r\n5469\r\n8816\r\n7624\r\n13506\r\n\r\n8923\r\n1621\r\n10042\r\n\r\n6113\r\n9373\r\n9212\r\n7054\r\n3193\r\n6588\r\n7743\r\n4224\r\n4983\r\n\r\n1911\r\n1589\r\n2667\r\n3095\r\n3768\r\n5898\r\n4574\r\n3456\r\n3281\r\n4176\r\n1591\r\n3383\r\n5063\r\n\r\n1378\r\n5923\r\n9019\r\n4379\r\n2932\r\n3918\r\n9631\r\n\r\n7851\r\n6466\r\n2388\r\n13209\r\n7613\r\n2396\r\n\r\n3015\r\n1119\r\n4172\r\n2459\r\n3872\r\n5912\r\n4012\r\n2894\r\n2765\r\n1950\r\n4147\r\n4523\r\n2504\r\n4691\r\n2038\r\n\r\n4472\r\n5029\r\n3599\r\n6237\r\n8566\r\n3508\r\n7995\r\n3756\r\n6631\r\n3625\r\n\r\n16549\r\n15550\r\n22868\r\n\r\n7356\r\n11800\r\n8330\r\n14503\r\n9470\r\n\r\n1306\r\n1960\r\n6574\r\n7234\r\n3841\r\n1006\r\n4156\r\n2019\r\n6187\r\n2494\r\n7475\r\n5916\r\n\r\n8894\r\n9358\r\n9666\r\n8711\r\n10140\r\n11205\r\n\r\n8123\r\n19317\r\n11676\r\n7989\r\n\r\n7610\r\n3163\r\n9789\r\n6331\r\n6998\r\n7288\r\n4632\r\n5340\r\n\r\n7105\r\n15276\r\n22300\r\n\r\n11919\r\n6212\r\n5062\r\n\r\n18496\r\n10383\r\n10695\r\n4206\r\n\r\n8127\r\n2277\r\n10392\r\n1337\r\n2779\r\n5380\r\n3881\r\n6556\r\n\r\n5514\r\n6678\r\n2324\r\n4686\r\n3807\r\n4785\r\n3972\r\n\r\n1488\r\n3662\r\n4866\r\n2687\r\n3519\r\n2605\r\n5189\r\n5313\r\n4112\r\n2559\r\n1887\r\n5656\r\n5931\r\n1816\r\n\r\n9949\r\n11409\r\n8427\r\n15008\r\n2241\r\n\r\n1942\r\n1004\r\n1070\r\n5860\r\n4932\r\n4055\r\n2922\r\n5129\r\n1232\r\n4940\r\n5270\r\n1023\r\n5323\r\n2002\r\n2727\r\n\r\n48445\r\n\r\n6687\r\n4155\r\n2999\r\n3348\r\n\r\n5347\r\n4592\r\n1463\r\n3080\r\n3520\r\n5283\r\n3166\r\n2945\r\n2891\r\n1100\r\n5372\r\n5797\r\n3060\r\n5748\r\n5592\r\n\r\n8132\r\n3941\r\n7625\r\n4458\r\n2714\r\n7390\r\n4305\r\n1612\r\n6707\r\n\r\n2105\r\n2880\r\n6683\r\n6257\r\n6472\r\n1371\r\n3493\r\n1542\r\n4431\r\n5003\r\n3276\r\n2205\r\n3417\r\n\r\n6421\r\n4279\r\n1213\r\n6274\r\n3757\r\n6856\r\n3244\r\n1554\r\n2716\r\n1854\r\n1924\r\n3769\r\n6344\r\n\r\n1081\r\n2601\r\n2607\r\n6042\r\n1967\r\n2924\r\n4656\r\n6462\r\n1747\r\n4278\r\n6384\r\n4427\r\n5074\r\n6454\r\n\r\n6344\r\n13912\r\n15708\r\n1335\r\n5433\r\n\r\n5862\r\n7799\r\n3707\r\n9404\r\n10527\r\n10543\r\n6428\r\n\r\n2009\r\n17261\r\n13328\r\n\r\n10389\r\n9214\r\n9189\r\n8747\r\n12720\r\n9443\r\n\r\n7162\r\n2362\r\n3837\r\n8891\r\n2098\r\n8577\r\n9063\r\n3336\r\n5023\r\n\r\n1322\r\n12214\r\n5387\r\n9804\r\n9542\r\n6149\r\n\r\n1997\r\n6709\r\n6614\r\n5116\r\n6691\r\n5904\r\n5563\r\n2437\r\n4442\r\n7346\r\n5749\r\n7194\r\n\r\n5836\r\n15439\r\n9020\r\n9124\r\n\r\n6761\r\n4892\r\n5956\r\n2500\r\n6879\r\n1980\r\n1908\r\n1705\r\n6157\r\n4559\r\n5776\r\n1235\r\n3077\r\n\r\n10155\r\n8529\r\n7837\r\n7027\r\n7897\r\n6504\r\n4192\r\n7193\r\n\r\n9711\r\n17664\r\n4069\r\n10400\r\n\r\n24373\r\n20215\r\n\r\n2155\r\n9371\r\n9201\r\n5590\r\n9806\r\n13380\r\n\r\n7716\r\n1116\r\n6106\r\n2703\r\n2403\r\n3549\r\n3740\r\n6658\r\n4769\r\n\r\n13954\r\n36130\r\n\r\n1767\r\n7955\r\n5622\r\n5077\r\n2512\r\n8206\r\n4501\r\n2917\r\n9336\r\n\r\n1601\r\n23493\r\n16981\r\n\r\n3719\r\n2266\r\n1982\r\n4557\r\n3198\r\n3815\r\n5006\r\n2587\r\n4173\r\n2965\r\n2658\r\n4890\r\n5723\r\n4231\r\n\r\n19350\r\n\r\n19637\r\n13784\r\n21672\r\n\r\n17040\r\n29745\r\n\r\n2037\r\n7872\r\n5766\r\n7919\r\n1382\r\n9398\r\n3197\r\n\r\n11570\r\n12560\r\n6206\r\n12642\r\n3275\r\n\r\n1535\r\n6685\r\n5587\r\n12955\r\n12197\r\n\r\n2980\r\n15784\r\n12178\r\n12996\r\n\r\n7928\r\n8780\r\n7528\r\n5428\r\n8181\r\n8527\r\n5229\r\n3850\r\n2012\r\n2975\r\n\r\n30992\r\n26372\r\n\r\n4384\r\n2425\r\n2332\r\n1309\r\n3899\r\n3062\r\n4825\r\n1428\r\n1116\r\n3635\r\n1669\r\n1922\r\n5941\r\n4378\r\n2742\r\n\r\n1961\r\n4243\r\n4443\r\n3070\r\n5786\r\n3638\r\n6330\r\n2461\r\n1612\r\n4572\r\n3551\r\n3831\r\n3263\r\n6173\r\n\r\n2759\r\n3889\r\n5197\r\n4293\r\n2957\r\n6305\r\n3797\r\n1465\r\n4674\r\n5659\r\n5258\r\n3775\r\n4436\r\n2260\r\n\r\n5141\r\n8383\r\n6249\r\n9982\r\n4848\r\n2675\r\n4232\r\n8974\r\n\r\n11489\r\n11733\r\n9990\r\n4150\r\n4533\r\n3032\r\n1044\r\n\r\n62338\r\n\r\n3645\r\n5406\r\n4672\r\n3889\r\n5799\r\n5760\r\n4356\r\n5557\r\n4120\r\n2771\r\n3399\r\n5292\r\n3640\r\n3989\r\n6047\r\n\r\n4629\r\n6897\r\n4312\r\n2108\r\n5301\r\n1122\r\n1893\r\n5508\r\n3414\r\n2180\r\n4254"
                                }
                            ]
                        },
                        "text/html": "<table><tr><th>Id</th><th>calories</th></tr><tr><td>1</td><td>6758\r\n5199\r\n10292\r\n8812\r\n3527\r\n10178\r\n1340\r\n2824\r\n\r\n62522\r\n\r\n22990\r\n\r\n6730\r\n\r\n7255\r\n3210\r\n3003\r\n8296\r\n8799\r\n7655\r\n10312\r\n\r\n18837\r\n19882\r\n5386\r\n15891\r\n\r\n4203\r\n36288\r\n\r\n1586\r\n2295\r\n4981\r\n2109\r\n2284\r\n5814\r\n4823\r\n5492\r\n1524\r\n5286\r\n2147\r\n2952\r\n4783\r\n4814\r\n3042\r\n\r\n8474\r\n4059\r\n14465\r\n13390\r\n\r\n4623\r\n2150\r\n7545\r\n7833\r\n3686\r\n2095\r\n3336\r\n5030\r\n7648\r\n4087\r\n4482\r\n\r\n31278\r\n29863\r\n\r\n1228\r\n4851\r\n2706\r\n1692\r\n3200\r\n3521\r\n5200\r\n3755\r\n3922\r\n5181\r\n5561\r\n5162\r\n5280\r\n2460\r\n\r\n1083\r\n4432\r\n4938\r\n4303\r\n6304\r\n3746\r\n3527\r\n3141\r\n3198\r\n4980\r\n4395\r\n\r\n8218\r\n3954\r\n1396\r\n2147\r\n7924\r\n4650\r\n4483\r\n6610\r\n4799\r\n3973\r\n\r\n3401\r\n4111\r\n7798\r\n5181\r\n8418\r\n5014\r\n5975\r\n7916\r\n7788\r\n1864\r\n\r\n8547\r\n13217\r\n9699\r\n5701\r\n11040\r\n2943\r\n\r\n6214\r\n3287\r\n4137\r\n6773\r\n2593\r\n4776\r\n1687\r\n2821\r\n7240\r\n3681\r\n1185\r\n6578\r\n\r\n7850\r\n6697\r\n4844\r\n2325\r\n1834\r\n6812\r\n3380\r\n2302\r\n2531\r\n4959\r\n\r\n5275\r\n1883\r\n6919\r\n2865\r\n7943\r\n7718\r\n9494\r\n7957\r\n\r\n28727\r\n22865\r\n\r\n3064\r\n4279\r\n2649\r\n12521\r\n\r\n10169\r\n16383\r\n3301\r\n12707\r\n\r\n3533\r\n2280\r\n9232\r\n10618\r\n1488\r\n7616\r\n4334\r\n7847\r\n\r\n4322\r\n1215\r\n3514\r\n5513\r\n3469\r\n5472\r\n3658\r\n1096\r\n3410\r\n1607\r\n5482\r\n3015\r\n5234\r\n2488\r\n\r\n1306\r\n8067\r\n3375\r\n4064\r\n2943\r\n6158\r\n3911\r\n7766\r\n2493\r\n4897\r\n6551\r\n\r\n10694\r\n13319\r\n\r\n10862\r\n2483\r\n8522\r\n4509\r\n5021\r\n8789\r\n6152\r\n\r\n7824\r\n23812\r\n6740\r\n\r\n6548\r\n2116\r\n14900\r\n\r\n3470\r\n1825\r\n2865\r\n4691\r\n4729\r\n4263\r\n4899\r\n4855\r\n3732\r\n4439\r\n5023\r\n1291\r\n3121\r\n5322\r\n\r\n6529\r\n\r\n5141\r\n2353\r\n8515\r\n9815\r\n9541\r\n10389\r\n1114\r\n1373\r\n\r\n11924\r\n11446\r\n20373\r\n\r\n37249\r\n\r\n5749\r\n2968\r\n5300\r\n5405\r\n7280\r\n6161\r\n4298\r\n7104\r\n7140\r\n3405\r\n5754\r\n\r\n4763\r\n11364\r\n7492\r\n5630\r\n15978\r\n\r\n3622\r\n2185\r\n12718\r\n2466\r\n5015\r\n11302\r\n\r\n65579\r\n\r\n5450\r\n6455\r\n\r\n5721\r\n1939\r\n8537\r\n7075\r\n1317\r\n1805\r\n1701\r\n4578\r\n8435\r\n1718\r\n\r\n10692\r\n6581\r\n3068\r\n9013\r\n1741\r\n4654\r\n2159\r\n5340\r\n\r\n4981\r\n6327\r\n6931\r\n3024\r\n1263\r\n4313\r\n6793\r\n2818\r\n6727\r\n2245\r\n4524\r\n5825\r\n\r\n10156\r\n11779\r\n1694\r\n7495\r\n1615\r\n8872\r\n11840\r\n\r\n7323\r\n7184\r\n4094\r\n3989\r\n1820\r\n2141\r\n7277\r\n3208\r\n2064\r\n7765\r\n5764\r\n\r\n2796\r\n3030\r\n2783\r\n3426\r\n5581\r\n1659\r\n2369\r\n2784\r\n5284\r\n4110\r\n1157\r\n3129\r\n6088\r\n2215\r\n3503\r\n\r\n20991\r\n1521\r\n\r\n1601\r\n4869\r\n9195\r\n1835\r\n5402\r\n2721\r\n1128\r\n1991\r\n9336\r\n\r\n2557\r\n6635\r\n6981\r\n6296\r\n5278\r\n3077\r\n7679\r\n5764\r\n2359\r\n2467\r\n6705\r\n\r\n2594\r\n2611\r\n3189\r\n1436\r\n1510\r\n1341\r\n8213\r\n8525\r\n5447\r\n2045\r\n\r\n3812\r\n2106\r\n6216\r\n3236\r\n7169\r\n5840\r\n4770\r\n1724\r\n1061\r\n5062\r\n7990\r\n\r\n5722\r\n4372\r\n3524\r\n1561\r\n3417\r\n5807\r\n3969\r\n3635\r\n3067\r\n3469\r\n4393\r\n1705\r\n4897\r\n4307\r\n2663\r\n\r\n28920\r\n3093\r\n\r\n12949\r\n9070\r\n9161\r\n3530\r\n6651\r\n\r\n12010\r\n1783\r\n21165\r\n\r\n4667\r\n3553\r\n6938\r\n5433\r\n3244\r\n1082\r\n7305\r\n7262\r\n6577\r\n1987\r\n2256\r\n\r\n4933\r\n1802\r\n1315\r\n1303\r\n1722\r\n2688\r\n6103\r\n2749\r\n1478\r\n4994\r\n4369\r\n5074\r\n5655\r\n2827\r\n3232\r\n\r\n1101\r\n2284\r\n4349\r\n4868\r\n3264\r\n3227\r\n1786\r\n5233\r\n6054\r\n6144\r\n3533\r\n1841\r\n1721\r\n4775\r\n\r\n16514\r\n\r\n7282\r\n7260\r\n2423\r\n1738\r\n4498\r\n5570\r\n3862\r\n3979\r\n3845\r\n4313\r\n3249\r\n5639\r\n\r\n7910\r\n9862\r\n7476\r\n9103\r\n2851\r\n3634\r\n8641\r\n7369\r\n\r\n8574\r\n1439\r\n1442\r\n12337\r\n1387\r\n7777\r\n\r\n18060\r\n\r\n10287\r\n1924\r\n4066\r\n12275\r\n14094\r\n\r\n4797\r\n5061\r\n2701\r\n1391\r\n6617\r\n5870\r\n4999\r\n4150\r\n2881\r\n2667\r\n2461\r\n1978\r\n1058\r\n\r\n12911\r\n7290\r\n9442\r\n2875\r\n5812\r\n\r\n13016\r\n4985\r\n2517\r\n9758\r\n11215\r\n\r\n2845\r\n11805\r\n6418\r\n8128\r\n1604\r\n\r\n9643\r\n6574\r\n6804\r\n3575\r\n9226\r\n6276\r\n1406\r\n4493\r\n8104\r\n\r\n11616\r\n7196\r\n5685\r\n1267\r\n3281\r\n1250\r\n7666\r\n\r\n9654\r\n8646\r\n7144\r\n2790\r\n7583\r\n2681\r\n1799\r\n5301\r\n1714\r\n\r\n30086\r\n23066\r\n\r\n10205\r\n7316\r\n1550\r\n4056\r\n2627\r\n10056\r\n\r\n9912\r\n1615\r\n1584\r\n2963\r\n1347\r\n9336\r\n8310\r\n8728\r\n\r\n2436\r\n4741\r\n6665\r\n5239\r\n5737\r\n4252\r\n1954\r\n4916\r\n5341\r\n7475\r\n5909\r\n5012\r\n\r\n4897\r\n8580\r\n5122\r\n1865\r\n8318\r\n5369\r\n2334\r\n5629\r\n7058\r\n\r\n14621\r\n2969\r\n15900\r\n14828\r\n2997\r\n\r\n7051\r\n3305\r\n7848\r\n7947\r\n3961\r\n3206\r\n5175\r\n7055\r\n3182\r\n5838\r\n1954\r\n\r\n6614\r\n3086\r\n7740\r\n6624\r\n4106\r\n7195\r\n\r\n3815\r\n4858\r\n3460\r\n1427\r\n5685\r\n5865\r\n4790\r\n6660\r\n1510\r\n5685\r\n2790\r\n5112\r\n\r\n13626\r\n1665\r\n16722\r\n9598\r\n\r\n15870\r\n\r\n3453\r\n8531\r\n9997\r\n8590\r\n5833\r\n7896\r\n8524\r\n\r\n6783\r\n5931\r\n3245\r\n4327\r\n5496\r\n5017\r\n2136\r\n3899\r\n3875\r\n2904\r\n5023\r\n3173\r\n3227\r\n\r\n4241\r\n4693\r\n1164\r\n1877\r\n5541\r\n5017\r\n3433\r\n3333\r\n4734\r\n3639\r\n1724\r\n2439\r\n1673\r\n4362\r\n\r\n6479\r\n3259\r\n3496\r\n6125\r\n1147\r\n3181\r\n3948\r\n5746\r\n3019\r\n1924\r\n\r\n6250\r\n26443\r\n\r\n4901\r\n6813\r\n6581\r\n3144\r\n1525\r\n6629\r\n3254\r\n6542\r\n1156\r\n6663\r\n3856\r\n4083\r\n1598\r\n\r\n7932\r\n8717\r\n9657\r\n1873\r\n2727\r\n2052\r\n2376\r\n\r\n6455\r\n13127\r\n3540\r\n8038\r\n6601\r\n2249\r\n\r\n6226\r\n5251\r\n3416\r\n5941\r\n7336\r\n5668\r\n4139\r\n1459\r\n2529\r\n7538\r\n\r\n6899\r\n4680\r\n10277\r\n2515\r\n16361\r\n\r\n23283\r\n2647\r\n\r\n1272\r\n3462\r\n6817\r\n3795\r\n4973\r\n6750\r\n2340\r\n7379\r\n3873\r\n1832\r\n7935\r\n\r\n4808\r\n4018\r\n11801\r\n7092\r\n8312\r\n9718\r\n6693\r\n\r\n7285\r\n7822\r\n7063\r\n2854\r\n7844\r\n1121\r\n4362\r\n4685\r\n5360\r\n7140\r\n6796\r\n\r\n17114\r\n20195\r\n9330\r\n\r\n19378\r\n27739\r\n\r\n16288\r\n15298\r\n13251\r\n5444\r\n10856\r\n\r\n7616\r\n6108\r\n3420\r\n9201\r\n3422\r\n4312\r\n4388\r\n3008\r\n9551\r\n\r\n1255\r\n7803\r\n1598\r\n3892\r\n6954\r\n7936\r\n8078\r\n5261\r\n2057\r\n2914\r\n\r\n7497\r\n10296\r\n2343\r\n10020\r\n1171\r\n3092\r\n2333\r\n\r\n1492\r\n4718\r\n4267\r\n10309\r\n7919\r\n7080\r\n1012\r\n9981\r\n\r\n17367\r\n1357\r\n16269\r\n7775\r\n\r\n13641\r\n3004\r\n13280\r\n\r\n6205\r\n3003\r\n1634\r\n4608\r\n2759\r\n6324\r\n4372\r\n4833\r\n6565\r\n2865\r\n7345\r\n3719\r\n\r\n4268\r\n2071\r\n2155\r\n4408\r\n4869\r\n2634\r\n1329\r\n2075\r\n4276\r\n4032\r\n2129\r\n5181\r\n2594\r\n2102\r\n2281\r\n\r\n2486\r\n7483\r\n6748\r\n4017\r\n5926\r\n3507\r\n4666\r\n3837\r\n\r\n8082\r\n13626\r\n12247\r\n5622\r\n13565\r\n\r\n7911\r\n1180\r\n1854\r\n5795\r\n7017\r\n6873\r\n7728\r\n5055\r\n5207\r\n7810\r\n7474\r\n\r\n3459\r\n5418\r\n1420\r\n5028\r\n6793\r\n4851\r\n2885\r\n2263\r\n2734\r\n4868\r\n6596\r\n1434\r\n5440\r\n\r\n3368\r\n3541\r\n5756\r\n3039\r\n4234\r\n2632\r\n6031\r\n5613\r\n4769\r\n1538\r\n4898\r\n5128\r\n4848\r\n\r\n2817\r\n3013\r\n2260\r\n4714\r\n6461\r\n3262\r\n3924\r\n4083\r\n2487\r\n4221\r\n5311\r\n4274\r\n5591\r\n1625\r\n\r\n8756\r\n8549\r\n9481\r\n7994\r\n7775\r\n6951\r\n5276\r\n7598\r\n9126\r\n\r\n11749\r\n7152\r\n14494\r\n\r\n14395\r\n7799\r\n16109\r\n14178\r\n\r\n24404\r\n4941\r\n\r\n5326\r\n9070\r\n3951\r\n1404\r\n6513\r\n9155\r\n5981\r\n3880\r\n1476\r\n\r\n12661\r\n10966\r\n\r\n3517\r\n7760\r\n4724\r\n6891\r\n1447\r\n3337\r\n3903\r\n7382\r\n7067\r\n1771\r\n1184\r\n\r\n3556\r\n13458\r\n12699\r\n12330\r\n13534\r\n11244\r\n\r\n10818\r\n31380\r\n\r\n17968\r\n3978\r\n17994\r\n\r\n9486\r\n6163\r\n1748\r\n3765\r\n7191\r\n1461\r\n2062\r\n8169\r\n9167\r\n\r\n3111\r\n4378\r\n3560\r\n6292\r\n5521\r\n2132\r\n5071\r\n4519\r\n1977\r\n6587\r\n\r\n11961\r\n2119\r\n11633\r\n10970\r\n4089\r\n7390\r\n6481\r\n\r\n4350\r\n5261\r\n4801\r\n1584\r\n1531\r\n5034\r\n5917\r\n4136\r\n6668\r\n5364\r\n3814\r\n3873\r\n4437\r\n\r\n2568\r\n2449\r\n5582\r\n1857\r\n6143\r\n5457\r\n4396\r\n3723\r\n2885\r\n2428\r\n2790\r\n4173\r\n1726\r\n5687\r\n\r\n21758\r\n\r\n32901\r\n\r\n4313\r\n12688\r\n14465\r\n1073\r\n6568\r\n\r\n2295\r\n3872\r\n5979\r\n3014\r\n1408\r\n1865\r\n2937\r\n4231\r\n5076\r\n2544\r\n3270\r\n2673\r\n6060\r\n4292\r\n1073\r\n\r\n5340\r\n10378\r\n10445\r\n11874\r\n8275\r\n8558\r\n1558\r\n\r\n3652\r\n9630\r\n15612\r\n18471\r\n\r\n5856\r\n4627\r\n4762\r\n6094\r\n5266\r\n2970\r\n1230\r\n6292\r\n5083\r\n4557\r\n6158\r\n5841\r\n6321\r\n3672\r\n\r\n4531\r\n2204\r\n4583\r\n4426\r\n4310\r\n6136\r\n5577\r\n4765\r\n6882\r\n1300\r\n2979\r\n6754\r\n4241\r\n\r\n3266\r\n6610\r\n2322\r\n12666\r\n11874\r\n10495\r\n\r\n7493\r\n2468\r\n2710\r\n6550\r\n7383\r\n4442\r\n3692\r\n8168\r\n\r\n4381\r\n3648\r\n4270\r\n3016\r\n4178\r\n3066\r\n1736\r\n5402\r\n4995\r\n1980\r\n5438\r\n5256\r\n4804\r\n4854\r\n2585\r\n\r\n4096\r\n4397\r\n4061\r\n3811\r\n2537\r\n3296\r\n1877\r\n4267\r\n2760\r\n3682\r\n5949\r\n3713\r\n3365\r\n4135\r\n1310\r\n\r\n30319\r\n\r\n7244\r\n6071\r\n1234\r\n6387\r\n1980\r\n1935\r\n3431\r\n6474\r\n6601\r\n1652\r\n\r\n10125\r\n11599\r\n\r\n4436\r\n3242\r\n6077\r\n6707\r\n1582\r\n6648\r\n3345\r\n5812\r\n1635\r\n2782\r\n2514\r\n2608\r\n\r\n9244\r\n1348\r\n5019\r\n2059\r\n9226\r\n2546\r\n5130\r\n8902\r\n7779\r\n\r\n10030\r\n10749\r\n3690\r\n8769\r\n9835\r\n7216\r\n2132\r\n\r\n6105\r\n1205\r\n1860\r\n3190\r\n5815\r\n1424\r\n2611\r\n1230\r\n4491\r\n1731\r\n5804\r\n2863\r\n1816\r\n3694\r\n\r\n4791\r\n6491\r\n3292\r\n3310\r\n2223\r\n4296\r\n6323\r\n3414\r\n1462\r\n6799\r\n3276\r\n4435\r\n5554\r\n\r\n2859\r\n2854\r\n1127\r\n4179\r\n6233\r\n6219\r\n5955\r\n3139\r\n2457\r\n3854\r\n5071\r\n4887\r\n4190\r\n4469\r\n\r\n67818\r\n\r\n7880\r\n6503\r\n4931\r\n5813\r\n1692\r\n2126\r\n6300\r\n8743\r\n4983\r\n2182\r\n\r\n1882\r\n5752\r\n6369\r\n1996\r\n2955\r\n5978\r\n6087\r\n5123\r\n2587\r\n2000\r\n4973\r\n2214\r\n5118\r\n3178\r\n\r\n10807\r\n9780\r\n8468\r\n2157\r\n1021\r\n8078\r\n4848\r\n\r\n3400\r\n1666\r\n6908\r\n10199\r\n1685\r\n4979\r\n\r\n2250\r\n5672\r\n2505\r\n9061\r\n5514\r\n8895\r\n4958\r\n8274\r\n7707\r\n\r\n15083\r\n2359\r\n23052\r\n\r\n6279\r\n1563\r\n4247\r\n4593\r\n4844\r\n5335\r\n7024\r\n7324\r\n5904\r\n1016\r\n3394\r\n3382\r\n\r\n2965\r\n2673\r\n3329\r\n1833\r\n1222\r\n1789\r\n1027\r\n6268\r\n4404\r\n1031\r\n1407\r\n4510\r\n4047\r\n1972\r\n\r\n4423\r\n8018\r\n4991\r\n7190\r\n7061\r\n6223\r\n5972\r\n2864\r\n5674\r\n\r\n1559\r\n1850\r\n4117\r\n1495\r\n2604\r\n2243\r\n1498\r\n4936\r\n2970\r\n4109\r\n1252\r\n6416\r\n5293\r\n3319\r\n\r\n5577\r\n4032\r\n3528\r\n6140\r\n5994\r\n2811\r\n3247\r\n7297\r\n5776\r\n3863\r\n4240\r\n3973\r\n\r\n9884\r\n8267\r\n\r\n3047\r\n4053\r\n2400\r\n4246\r\n3193\r\n2309\r\n4014\r\n1369\r\n1437\r\n\r\n10529\r\n2975\r\n3033\r\n10601\r\n13985\r\n\r\n12323\r\n9086\r\n2903\r\n7243\r\n8351\r\n12729\r\n\r\n13982\r\n7013\r\n7500\r\n11098\r\n9206\r\n\r\n11963\r\n3055\r\n9862\r\n2601\r\n13991\r\n\r\n66684\r\n\r\n6171\r\n1924\r\n1569\r\n3761\r\n4616\r\n5565\r\n3644\r\n1817\r\n4029\r\n2333\r\n1934\r\n2492\r\n6161\r\n\r\n2802\r\n1498\r\n3232\r\n7475\r\n5503\r\n4913\r\n6759\r\n8657\r\n4445\r\n\r\n18324\r\n19871\r\n\r\n6287\r\n4271\r\n7871\r\n1097\r\n1932\r\n5980\r\n5376\r\n7824\r\n4911\r\n4751\r\n6453\r\n\r\n8374\r\n3293\r\n7175\r\n8288\r\n1217\r\n4831\r\n1514\r\n6681\r\n2596\r\n6199\r\n\r\n32039\r\n\r\n1235\r\n2206\r\n6429\r\n4880\r\n5463\r\n6814\r\n1530\r\n3544\r\n4685\r\n3169\r\n6752\r\n5854\r\n6764\r\n\r\n6115\r\n6039\r\n6519\r\n6414\r\n4558\r\n5214\r\n4411\r\n2882\r\n6006\r\n5117\r\n5321\r\n2059\r\n\r\n2431\r\n5892\r\n1839\r\n5352\r\n3295\r\n2768\r\n4788\r\n5271\r\n1503\r\n1173\r\n4691\r\n4906\r\n4346\r\n1043\r\n\r\n5172\r\n5976\r\n6248\r\n4288\r\n3851\r\n8543\r\n4189\r\n4396\r\n\r\n10361\r\n14864\r\n18037\r\n\r\n7381\r\n5180\r\n1829\r\n3624\r\n3144\r\n3962\r\n5923\r\n4356\r\n1477\r\n3153\r\n2891\r\n5196\r\n\r\n3143\r\n3180\r\n4428\r\n3418\r\n6243\r\n3480\r\n1151\r\n4262\r\n4958\r\n4641\r\n3823\r\n1469\r\n2149\r\n\r\n3702\r\n4159\r\n3799\r\n4639\r\n5703\r\n2425\r\n4579\r\n2397\r\n2814\r\n3959\r\n3987\r\n3088\r\n2982\r\n2338\r\n3432\r\n\r\n7256\r\n16171\r\n12417\r\n11290\r\n13105\r\n\r\n2594\r\n5105\r\n6253\r\n4743\r\n4251\r\n6439\r\n3370\r\n5662\r\n2763\r\n3147\r\n6366\r\n4537\r\n6279\r\n6104\r\n\r\n7926\r\n3430\r\n2206\r\n4334\r\n5226\r\n1817\r\n2404\r\n2587\r\n8020\r\n1849\r\n\r\n1257\r\n6091\r\n2485\r\n6366\r\n3184\r\n4775\r\n5987\r\n3473\r\n5761\r\n1905\r\n3742\r\n5478\r\n5343\r\n\r\n3336\r\n5819\r\n2617\r\n2756\r\n5602\r\n3921\r\n4660\r\n5041\r\n1471\r\n2297\r\n5575\r\n1473\r\n6059\r\n3111\r\n5789\r\n\r\n2647\r\n6183\r\n5004\r\n2750\r\n2772\r\n1964\r\n4453\r\n2132\r\n3181\r\n2916\r\n1804\r\n4666\r\n1215\r\n6354\r\n\r\n1449\r\n1539\r\n3005\r\n3167\r\n1712\r\n6222\r\n6007\r\n4141\r\n1481\r\n6198\r\n4476\r\n3850\r\n3885\r\n5880\r\n\r\n1833\r\n5557\r\n3185\r\n6117\r\n3456\r\n2789\r\n4576\r\n1439\r\n3212\r\n5223\r\n2687\r\n2368\r\n3270\r\n4629\r\n4716\r\n\r\n10123\r\n6686\r\n12658\r\n\r\n6838\r\n4415\r\n10796\r\n6040\r\n3065\r\n1832\r\n11624\r\n\r\n69368\r\n\r\n5469\r\n8816\r\n7624\r\n13506\r\n\r\n8923\r\n1621\r\n10042\r\n\r\n6113\r\n9373\r\n9212\r\n7054\r\n3193\r\n6588\r\n7743\r\n4224\r\n4983\r\n\r\n1911\r\n1589\r\n2667\r\n3095\r\n3768\r\n5898\r\n4574\r\n3456\r\n3281\r\n4176\r\n1591\r\n3383\r\n5063\r\n\r\n1378\r\n5923\r\n9019\r\n4379\r\n2932\r\n3918\r\n9631\r\n\r\n7851\r\n6466\r\n2388\r\n13209\r\n7613\r\n2396\r\n\r\n3015\r\n1119\r\n4172\r\n2459\r\n3872\r\n5912\r\n4012\r\n2894\r\n2765\r\n1950\r\n4147\r\n4523\r\n2504\r\n4691\r\n2038\r\n\r\n4472\r\n5029\r\n3599\r\n6237\r\n8566\r\n3508\r\n7995\r\n3756\r\n6631\r\n3625\r\n\r\n16549\r\n15550\r\n22868\r\n\r\n7356\r\n11800\r\n8330\r\n14503\r\n9470\r\n\r\n1306\r\n1960\r\n6574\r\n7234\r\n3841\r\n1006\r\n4156\r\n2019\r\n6187\r\n2494\r\n7475\r\n5916\r\n\r\n8894\r\n9358\r\n9666\r\n8711\r\n10140\r\n11205\r\n\r\n8123\r\n19317\r\n11676\r\n7989\r\n\r\n7610\r\n3163\r\n9789\r\n6331\r\n6998\r\n7288\r\n4632\r\n5340\r\n\r\n7105\r\n15276\r\n22300\r\n\r\n11919\r\n6212\r\n5062\r\n\r\n18496\r\n10383\r\n10695\r\n4206\r\n\r\n8127\r\n2277\r\n10392\r\n1337\r\n2779\r\n5380\r\n3881\r\n6556\r\n\r\n5514\r\n6678\r\n2324\r\n4686\r\n3807\r\n4785\r\n3972\r\n\r\n1488\r\n3662\r\n4866\r\n2687\r\n3519\r\n2605\r\n5189\r\n5313\r\n4112\r\n2559\r\n1887\r\n5656\r\n5931\r\n1816\r\n\r\n9949\r\n11409\r\n8427\r\n15008\r\n2241\r\n\r\n1942\r\n1004\r\n1070\r\n5860\r\n4932\r\n4055\r\n2922\r\n5129\r\n1232\r\n4940\r\n5270\r\n1023\r\n5323\r\n2002\r\n2727\r\n\r\n48445\r\n\r\n6687\r\n4155\r\n2999\r\n3348\r\n\r\n5347\r\n4592\r\n1463\r\n3080\r\n3520\r\n5283\r\n3166\r\n2945\r\n2891\r\n1100\r\n5372\r\n5797\r\n3060\r\n5748\r\n5592\r\n\r\n8132\r\n3941\r\n7625\r\n4458\r\n2714\r\n7390\r\n4305\r\n1612\r\n6707\r\n\r\n2105\r\n2880\r\n6683\r\n6257\r\n6472\r\n1371\r\n3493\r\n1542\r\n4431\r\n5003\r\n3276\r\n2205\r\n3417\r\n\r\n6421\r\n4279\r\n1213\r\n6274\r\n3757\r\n6856\r\n3244\r\n1554\r\n2716\r\n1854\r\n1924\r\n3769\r\n6344\r\n\r\n1081\r\n2601\r\n2607\r\n6042\r\n1967\r\n2924\r\n4656\r\n6462\r\n1747\r\n4278\r\n6384\r\n4427\r\n5074\r\n6454\r\n\r\n6344\r\n13912\r\n15708\r\n1335\r\n5433\r\n\r\n5862\r\n7799\r\n3707\r\n9404\r\n10527\r\n10543\r\n6428\r\n\r\n2009\r\n17261\r\n13328\r\n\r\n10389\r\n9214\r\n9189\r\n8747\r\n12720\r\n9443\r\n\r\n7162\r\n2362\r\n3837\r\n8891\r\n2098\r\n8577\r\n9063\r\n3336\r\n5023\r\n\r\n1322\r\n12214\r\n5387\r\n9804\r\n9542\r\n6149\r\n\r\n1997\r\n6709\r\n6614\r\n5116\r\n6691\r\n5904\r\n5563\r\n2437\r\n4442\r\n7346\r\n5749\r\n7194\r\n\r\n5836\r\n15439\r\n9020\r\n9124\r\n\r\n6761\r\n4892\r\n5956\r\n2500\r\n6879\r\n1980\r\n1908\r\n1705\r\n6157\r\n4559\r\n5776\r\n1235\r\n3077\r\n\r\n10155\r\n8529\r\n7837\r\n7027\r\n7897\r\n6504\r\n4192\r\n7193\r\n\r\n9711\r\n17664\r\n4069\r\n10400\r\n\r\n24373\r\n20215\r\n\r\n2155\r\n9371\r\n9201\r\n5590\r\n9806\r\n13380\r\n\r\n7716\r\n1116\r\n6106\r\n2703\r\n2403\r\n3549\r\n3740\r\n6658\r\n4769\r\n\r\n13954\r\n36130\r\n\r\n1767\r\n7955\r\n5622\r\n5077\r\n2512\r\n8206\r\n4501\r\n2917\r\n9336\r\n\r\n1601\r\n23493\r\n16981\r\n\r\n3719\r\n2266\r\n1982\r\n4557\r\n3198\r\n3815\r\n5006\r\n2587\r\n4173\r\n2965\r\n2658\r\n4890\r\n5723\r\n4231\r\n\r\n19350\r\n\r\n19637\r\n13784\r\n21672\r\n\r\n17040\r\n29745\r\n\r\n2037\r\n7872\r\n5766\r\n7919\r\n1382\r\n9398\r\n3197\r\n\r\n11570\r\n12560\r\n6206\r\n12642\r\n3275\r\n\r\n1535\r\n6685\r\n5587\r\n12955\r\n12197\r\n\r\n2980\r\n15784\r\n12178\r\n12996\r\n\r\n7928\r\n8780\r\n7528\r\n5428\r\n8181\r\n8527\r\n5229\r\n3850\r\n2012\r\n2975\r\n\r\n30992\r\n26372\r\n\r\n4384\r\n2425\r\n2332\r\n1309\r\n3899\r\n3062\r\n4825\r\n1428\r\n1116\r\n3635\r\n1669\r\n1922\r\n5941\r\n4378\r\n2742\r\n\r\n1961\r\n4243\r\n4443\r\n3070\r\n5786\r\n3638\r\n6330\r\n2461\r\n1612\r\n4572\r\n3551\r\n3831\r\n3263\r\n6173\r\n\r\n2759\r\n3889\r\n5197\r\n4293\r\n2957\r\n6305\r\n3797\r\n1465\r\n4674\r\n5659\r\n5258\r\n3775\r\n4436\r\n2260\r\n\r\n5141\r\n8383\r\n6249\r\n9982\r\n4848\r\n2675\r\n4232\r\n8974\r\n\r\n11489\r\n11733\r\n9990\r\n4150\r\n4533\r\n3032\r\n1044\r\n\r\n62338\r\n\r\n3645\r\n5406\r\n4672\r\n3889\r\n5799\r\n5760\r\n4356\r\n5557\r\n4120\r\n2771\r\n3399\r\n5292\r\n3640\r\n3989\r\n6047\r\n\r\n4629\r\n6897\r\n4312\r\n2108\r\n5301\r\n1122\r\n1893\r\n5508\r\n3414\r\n2180\r\n4254</td></tr></table>"
                    },
                    "metadata": {}
                },
                {
                    "output_type": "execute_result",
                    "execution_count": 1,
                    "data": {
                        "application/vnd.dataresource+json": {
                            "schema": {
                                "fields": [
                                    {
                                        "name": "value"
                                    }
                                ]
                            },
                            "data": [
                                {
                                    "0": "6758\r"
                                },
                                {
                                    "0": "5199\r"
                                },
                                {
                                    "0": "10292\r"
                                },
                                {
                                    "0": "8812\r"
                                },
                                {
                                    "0": "3527\r"
                                },
                                {
                                    "0": "10178\r"
                                },
                                {
                                    "0": "1340\r"
                                },
                                {
                                    "0": "2824\r"
                                },
                                {
                                    "0": "\r"
                                },
                                {
                                    "0": "62522\r"
                                },
                                {
                                    "0": "\r"
                                },
                                {
                                    "0": "22990\r"
                                },
                                {
                                    "0": "\r"
                                },
                                {
                                    "0": "6730\r"
                                },
                                {
                                    "0": "\r"
                                },
                                {
                                    "0": "7255\r"
                                },
                                {
                                    "0": "3210\r"
                                },
                                {
                                    "0": "3003\r"
                                },
                                {
                                    "0": "8296\r"
                                },
                                {
                                    "0": "8799\r"
                                },
                                {
                                    "0": "7655\r"
                                },
                                {
                                    "0": "10312\r"
                                },
                                {
                                    "0": "\r"
                                },
                                {
                                    "0": "18837\r"
                                },
                                {
                                    "0": "19882\r"
                                },
                                {
                                    "0": "5386\r"
                                },
                                {
                                    "0": "15891\r"
                                },
                                {
                                    "0": "\r"
                                },
                                {
                                    "0": "4203\r"
                                },
                                {
                                    "0": "36288\r"
                                },
                                {
                                    "0": "\r"
                                },
                                {
                                    "0": "1586\r"
                                },
                                {
                                    "0": "2295\r"
                                },
                                {
                                    "0": "4981\r"
                                },
                                {
                                    "0": "2109\r"
                                },
                                {
                                    "0": "2284\r"
                                },
                                {
                                    "0": "5814\r"
                                },
                                {
                                    "0": "4823\r"
                                },
                                {
                                    "0": "5492\r"
                                },
                                {
                                    "0": "1524\r"
                                },
                                {
                                    "0": "5286\r"
                                },
                                {
                                    "0": "2147\r"
                                },
                                {
                                    "0": "2952\r"
                                },
                                {
                                    "0": "4783\r"
                                },
                                {
                                    "0": "4814\r"
                                },
                                {
                                    "0": "3042\r"
                                },
                                {
                                    "0": "\r"
                                },
                                {
                                    "0": "8474\r"
                                },
                                {
                                    "0": "4059\r"
                                },
                                {
                                    "0": "14465\r"
                                },
                                {
                                    "0": "13390\r"
                                },
                                {
                                    "0": "\r"
                                },
                                {
                                    "0": "4623\r"
                                },
                                {
                                    "0": "2150\r"
                                },
                                {
                                    "0": "7545\r"
                                },
                                {
                                    "0": "7833\r"
                                },
                                {
                                    "0": "3686\r"
                                },
                                {
                                    "0": "2095\r"
                                },
                                {
                                    "0": "3336\r"
                                },
                                {
                                    "0": "5030\r"
                                },
                                {
                                    "0": "7648\r"
                                },
                                {
                                    "0": "4087\r"
                                },
                                {
                                    "0": "4482\r"
                                },
                                {
                                    "0": "\r"
                                },
                                {
                                    "0": "31278\r"
                                },
                                {
                                    "0": "29863\r"
                                },
                                {
                                    "0": "\r"
                                },
                                {
                                    "0": "1228\r"
                                },
                                {
                                    "0": "4851\r"
                                },
                                {
                                    "0": "2706\r"
                                },
                                {
                                    "0": "1692\r"
                                },
                                {
                                    "0": "3200\r"
                                },
                                {
                                    "0": "3521\r"
                                },
                                {
                                    "0": "5200\r"
                                },
                                {
                                    "0": "3755\r"
                                },
                                {
                                    "0": "3922\r"
                                },
                                {
                                    "0": "5181\r"
                                },
                                {
                                    "0": "5561\r"
                                },
                                {
                                    "0": "5162\r"
                                },
                                {
                                    "0": "5280\r"
                                },
                                {
                                    "0": "2460\r"
                                },
                                {
                                    "0": "\r"
                                },
                                {
                                    "0": "1083\r"
                                },
                                {
                                    "0": "4432\r"
                                },
                                {
                                    "0": "4938\r"
                                },
                                {
                                    "0": "4303\r"
                                },
                                {
                                    "0": "6304\r"
                                },
                                {
                                    "0": "3746\r"
                                },
                                {
                                    "0": "3527\r"
                                },
                                {
                                    "0": "3141\r"
                                },
                                {
                                    "0": "3198\r"
                                },
                                {
                                    "0": "4980\r"
                                },
                                {
                                    "0": "4395\r"
                                },
                                {
                                    "0": "\r"
                                },
                                {
                                    "0": "8218\r"
                                },
                                {
                                    "0": "3954\r"
                                },
                                {
                                    "0": "1396\r"
                                },
                                {
                                    "0": "2147\r"
                                },
                                {
                                    "0": "7924\r"
                                },
                                {
                                    "0": "4650\r"
                                },
                                {
                                    "0": "4483\r"
                                },
                                {
                                    "0": "6610\r"
                                },
                                {
                                    "0": "4799\r"
                                },
                                {
                                    "0": "3973\r"
                                },
                                {
                                    "0": "\r"
                                },
                                {
                                    "0": "3401\r"
                                },
                                {
                                    "0": "4111\r"
                                },
                                {
                                    "0": "7798\r"
                                },
                                {
                                    "0": "5181\r"
                                },
                                {
                                    "0": "8418\r"
                                },
                                {
                                    "0": "5014\r"
                                },
                                {
                                    "0": "5975\r"
                                },
                                {
                                    "0": "7916\r"
                                },
                                {
                                    "0": "7788\r"
                                },
                                {
                                    "0": "1864\r"
                                },
                                {
                                    "0": "\r"
                                },
                                {
                                    "0": "8547\r"
                                },
                                {
                                    "0": "13217\r"
                                },
                                {
                                    "0": "9699\r"
                                },
                                {
                                    "0": "5701\r"
                                },
                                {
                                    "0": "11040\r"
                                },
                                {
                                    "0": "2943\r"
                                },
                                {
                                    "0": "\r"
                                },
                                {
                                    "0": "6214\r"
                                },
                                {
                                    "0": "3287\r"
                                },
                                {
                                    "0": "4137\r"
                                },
                                {
                                    "0": "6773\r"
                                },
                                {
                                    "0": "2593\r"
                                },
                                {
                                    "0": "4776\r"
                                },
                                {
                                    "0": "1687\r"
                                },
                                {
                                    "0": "2821\r"
                                },
                                {
                                    "0": "7240\r"
                                },
                                {
                                    "0": "3681\r"
                                },
                                {
                                    "0": "1185\r"
                                },
                                {
                                    "0": "6578\r"
                                },
                                {
                                    "0": "\r"
                                },
                                {
                                    "0": "7850\r"
                                },
                                {
                                    "0": "6697\r"
                                },
                                {
                                    "0": "4844\r"
                                },
                                {
                                    "0": "2325\r"
                                },
                                {
                                    "0": "1834\r"
                                },
                                {
                                    "0": "6812\r"
                                },
                                {
                                    "0": "3380\r"
                                },
                                {
                                    "0": "2302\r"
                                },
                                {
                                    "0": "2531\r"
                                },
                                {
                                    "0": "4959\r"
                                },
                                {
                                    "0": "\r"
                                },
                                {
                                    "0": "5275\r"
                                },
                                {
                                    "0": "1883\r"
                                },
                                {
                                    "0": "6919\r"
                                },
                                {
                                    "0": "2865\r"
                                },
                                {
                                    "0": "7943\r"
                                },
                                {
                                    "0": "7718\r"
                                },
                                {
                                    "0": "9494\r"
                                },
                                {
                                    "0": "7957\r"
                                },
                                {
                                    "0": "\r"
                                },
                                {
                                    "0": "28727\r"
                                },
                                {
                                    "0": "22865\r"
                                },
                                {
                                    "0": "\r"
                                },
                                {
                                    "0": "3064\r"
                                },
                                {
                                    "0": "4279\r"
                                },
                                {
                                    "0": "2649\r"
                                },
                                {
                                    "0": "12521\r"
                                },
                                {
                                    "0": "\r"
                                },
                                {
                                    "0": "10169\r"
                                },
                                {
                                    "0": "16383\r"
                                },
                                {
                                    "0": "3301\r"
                                },
                                {
                                    "0": "12707\r"
                                },
                                {
                                    "0": "\r"
                                },
                                {
                                    "0": "3533\r"
                                },
                                {
                                    "0": "2280\r"
                                },
                                {
                                    "0": "9232\r"
                                },
                                {
                                    "0": "10618\r"
                                },
                                {
                                    "0": "1488\r"
                                },
                                {
                                    "0": "7616\r"
                                },
                                {
                                    "0": "4334\r"
                                },
                                {
                                    "0": "7847\r"
                                },
                                {
                                    "0": "\r"
                                },
                                {
                                    "0": "4322\r"
                                },
                                {
                                    "0": "1215\r"
                                },
                                {
                                    "0": "3514\r"
                                },
                                {
                                    "0": "5513\r"
                                },
                                {
                                    "0": "3469\r"
                                },
                                {
                                    "0": "5472\r"
                                },
                                {
                                    "0": "3658\r"
                                },
                                {
                                    "0": "1096\r"
                                },
                                {
                                    "0": "3410\r"
                                },
                                {
                                    "0": "1607\r"
                                },
                                {
                                    "0": "5482\r"
                                },
                                {
                                    "0": "3015\r"
                                },
                                {
                                    "0": "5234\r"
                                },
                                {
                                    "0": "2488\r"
                                },
                                {
                                    "0": "\r"
                                },
                                {
                                    "0": "1306\r"
                                },
                                {
                                    "0": "8067\r"
                                },
                                {
                                    "0": "3375\r"
                                },
                                {
                                    "0": "4064\r"
                                },
                                {
                                    "0": "2943\r"
                                },
                                {
                                    "0": "6158\r"
                                },
                                {
                                    "0": "3911\r"
                                },
                                {
                                    "0": "7766\r"
                                },
                                {
                                    "0": "2493\r"
                                },
                                {
                                    "0": "4897\r"
                                },
                                {
                                    "0": "6551\r"
                                },
                                {
                                    "0": "\r"
                                },
                                {
                                    "0": "10694\r"
                                },
                                {
                                    "0": "13319\r"
                                },
                                {
                                    "0": "\r"
                                },
                                {
                                    "0": "10862\r"
                                },
                                {
                                    "0": "2483\r"
                                },
                                {
                                    "0": "8522\r"
                                },
                                {
                                    "0": "4509\r"
                                },
                                {
                                    "0": "5021\r"
                                },
                                {
                                    "0": "8789\r"
                                },
                                {
                                    "0": "6152\r"
                                },
                                {
                                    "0": "\r"
                                },
                                {
                                    "0": "7824\r"
                                },
                                {
                                    "0": "23812\r"
                                },
                                {
                                    "0": "6740\r"
                                },
                                {
                                    "0": "\r"
                                },
                                {
                                    "0": "6548\r"
                                },
                                {
                                    "0": "2116\r"
                                },
                                {
                                    "0": "14900\r"
                                },
                                {
                                    "0": "\r"
                                },
                                {
                                    "0": "3470\r"
                                },
                                {
                                    "0": "1825\r"
                                },
                                {
                                    "0": "2865\r"
                                },
                                {
                                    "0": "4691\r"
                                },
                                {
                                    "0": "4729\r"
                                },
                                {
                                    "0": "4263\r"
                                },
                                {
                                    "0": "4899\r"
                                },
                                {
                                    "0": "4855\r"
                                },
                                {
                                    "0": "3732\r"
                                },
                                {
                                    "0": "4439\r"
                                },
                                {
                                    "0": "5023\r"
                                },
                                {
                                    "0": "1291\r"
                                },
                                {
                                    "0": "3121\r"
                                },
                                {
                                    "0": "5322\r"
                                },
                                {
                                    "0": "\r"
                                },
                                {
                                    "0": "6529\r"
                                },
                                {
                                    "0": "\r"
                                },
                                {
                                    "0": "5141\r"
                                },
                                {
                                    "0": "2353\r"
                                },
                                {
                                    "0": "8515\r"
                                },
                                {
                                    "0": "9815\r"
                                },
                                {
                                    "0": "9541\r"
                                },
                                {
                                    "0": "10389\r"
                                },
                                {
                                    "0": "1114\r"
                                },
                                {
                                    "0": "1373\r"
                                },
                                {
                                    "0": "\r"
                                },
                                {
                                    "0": "11924\r"
                                },
                                {
                                    "0": "11446\r"
                                },
                                {
                                    "0": "20373\r"
                                },
                                {
                                    "0": "\r"
                                },
                                {
                                    "0": "37249\r"
                                },
                                {
                                    "0": "\r"
                                },
                                {
                                    "0": "5749\r"
                                },
                                {
                                    "0": "2968\r"
                                },
                                {
                                    "0": "5300\r"
                                },
                                {
                                    "0": "5405\r"
                                },
                                {
                                    "0": "7280\r"
                                },
                                {
                                    "0": "6161\r"
                                },
                                {
                                    "0": "4298\r"
                                },
                                {
                                    "0": "7104\r"
                                },
                                {
                                    "0": "7140\r"
                                },
                                {
                                    "0": "3405\r"
                                },
                                {
                                    "0": "5754\r"
                                },
                                {
                                    "0": "\r"
                                },
                                {
                                    "0": "4763\r"
                                },
                                {
                                    "0": "11364\r"
                                },
                                {
                                    "0": "7492\r"
                                },
                                {
                                    "0": "5630\r"
                                },
                                {
                                    "0": "15978\r"
                                },
                                {
                                    "0": "\r"
                                },
                                {
                                    "0": "3622\r"
                                },
                                {
                                    "0": "2185\r"
                                },
                                {
                                    "0": "12718\r"
                                },
                                {
                                    "0": "2466\r"
                                },
                                {
                                    "0": "5015\r"
                                },
                                {
                                    "0": "11302\r"
                                },
                                {
                                    "0": "\r"
                                },
                                {
                                    "0": "65579\r"
                                },
                                {
                                    "0": "\r"
                                },
                                {
                                    "0": "5450\r"
                                },
                                {
                                    "0": "6455\r"
                                },
                                {
                                    "0": "\r"
                                },
                                {
                                    "0": "5721\r"
                                },
                                {
                                    "0": "1939\r"
                                },
                                {
                                    "0": "8537\r"
                                },
                                {
                                    "0": "7075\r"
                                },
                                {
                                    "0": "1317\r"
                                },
                                {
                                    "0": "1805\r"
                                },
                                {
                                    "0": "1701\r"
                                },
                                {
                                    "0": "4578\r"
                                },
                                {
                                    "0": "8435\r"
                                },
                                {
                                    "0": "1718\r"
                                },
                                {
                                    "0": "\r"
                                },
                                {
                                    "0": "10692\r"
                                },
                                {
                                    "0": "6581\r"
                                },
                                {
                                    "0": "3068\r"
                                },
                                {
                                    "0": "9013\r"
                                },
                                {
                                    "0": "1741\r"
                                },
                                {
                                    "0": "4654\r"
                                },
                                {
                                    "0": "2159\r"
                                },
                                {
                                    "0": "5340\r"
                                },
                                {
                                    "0": "\r"
                                },
                                {
                                    "0": "4981\r"
                                },
                                {
                                    "0": "6327\r"
                                },
                                {
                                    "0": "6931\r"
                                },
                                {
                                    "0": "3024\r"
                                },
                                {
                                    "0": "1263\r"
                                },
                                {
                                    "0": "4313\r"
                                },
                                {
                                    "0": "6793\r"
                                },
                                {
                                    "0": "2818\r"
                                },
                                {
                                    "0": "6727\r"
                                },
                                {
                                    "0": "2245\r"
                                },
                                {
                                    "0": "4524\r"
                                },
                                {
                                    "0": "5825\r"
                                },
                                {
                                    "0": "\r"
                                },
                                {
                                    "0": "10156\r"
                                },
                                {
                                    "0": "11779\r"
                                },
                                {
                                    "0": "1694\r"
                                },
                                {
                                    "0": "7495\r"
                                },
                                {
                                    "0": "1615\r"
                                },
                                {
                                    "0": "8872\r"
                                },
                                {
                                    "0": "11840\r"
                                },
                                {
                                    "0": "\r"
                                },
                                {
                                    "0": "7323\r"
                                },
                                {
                                    "0": "7184\r"
                                },
                                {
                                    "0": "4094\r"
                                },
                                {
                                    "0": "3989\r"
                                },
                                {
                                    "0": "1820\r"
                                },
                                {
                                    "0": "2141\r"
                                },
                                {
                                    "0": "7277\r"
                                },
                                {
                                    "0": "3208\r"
                                },
                                {
                                    "0": "2064\r"
                                },
                                {
                                    "0": "7765\r"
                                },
                                {
                                    "0": "5764\r"
                                },
                                {
                                    "0": "\r"
                                },
                                {
                                    "0": "2796\r"
                                },
                                {
                                    "0": "3030\r"
                                },
                                {
                                    "0": "2783\r"
                                },
                                {
                                    "0": "3426\r"
                                },
                                {
                                    "0": "5581\r"
                                },
                                {
                                    "0": "1659\r"
                                },
                                {
                                    "0": "2369\r"
                                },
                                {
                                    "0": "2784\r"
                                },
                                {
                                    "0": "5284\r"
                                },
                                {
                                    "0": "4110\r"
                                },
                                {
                                    "0": "1157\r"
                                },
                                {
                                    "0": "3129\r"
                                },
                                {
                                    "0": "6088\r"
                                },
                                {
                                    "0": "2215\r"
                                },
                                {
                                    "0": "3503\r"
                                },
                                {
                                    "0": "\r"
                                },
                                {
                                    "0": "20991\r"
                                },
                                {
                                    "0": "1521\r"
                                },
                                {
                                    "0": "\r"
                                },
                                {
                                    "0": "1601\r"
                                },
                                {
                                    "0": "4869\r"
                                },
                                {
                                    "0": "9195\r"
                                },
                                {
                                    "0": "1835\r"
                                },
                                {
                                    "0": "5402\r"
                                },
                                {
                                    "0": "2721\r"
                                },
                                {
                                    "0": "1128\r"
                                },
                                {
                                    "0": "1991\r"
                                },
                                {
                                    "0": "9336\r"
                                },
                                {
                                    "0": "\r"
                                },
                                {
                                    "0": "2557\r"
                                },
                                {
                                    "0": "6635\r"
                                },
                                {
                                    "0": "6981\r"
                                },
                                {
                                    "0": "6296\r"
                                },
                                {
                                    "0": "5278\r"
                                },
                                {
                                    "0": "3077\r"
                                },
                                {
                                    "0": "7679\r"
                                },
                                {
                                    "0": "5764\r"
                                },
                                {
                                    "0": "2359\r"
                                },
                                {
                                    "0": "2467\r"
                                },
                                {
                                    "0": "6705\r"
                                },
                                {
                                    "0": "\r"
                                },
                                {
                                    "0": "2594\r"
                                },
                                {
                                    "0": "2611\r"
                                },
                                {
                                    "0": "3189\r"
                                },
                                {
                                    "0": "1436\r"
                                },
                                {
                                    "0": "1510\r"
                                },
                                {
                                    "0": "1341\r"
                                },
                                {
                                    "0": "8213\r"
                                },
                                {
                                    "0": "8525\r"
                                },
                                {
                                    "0": "5447\r"
                                },
                                {
                                    "0": "2045\r"
                                },
                                {
                                    "0": "\r"
                                },
                                {
                                    "0": "3812\r"
                                },
                                {
                                    "0": "2106\r"
                                },
                                {
                                    "0": "6216\r"
                                },
                                {
                                    "0": "3236\r"
                                },
                                {
                                    "0": "7169\r"
                                },
                                {
                                    "0": "5840\r"
                                },
                                {
                                    "0": "4770\r"
                                },
                                {
                                    "0": "1724\r"
                                },
                                {
                                    "0": "1061\r"
                                },
                                {
                                    "0": "5062\r"
                                },
                                {
                                    "0": "7990\r"
                                },
                                {
                                    "0": "\r"
                                },
                                {
                                    "0": "5722\r"
                                },
                                {
                                    "0": "4372\r"
                                },
                                {
                                    "0": "3524\r"
                                },
                                {
                                    "0": "1561\r"
                                },
                                {
                                    "0": "3417\r"
                                },
                                {
                                    "0": "5807\r"
                                },
                                {
                                    "0": "3969\r"
                                },
                                {
                                    "0": "3635\r"
                                },
                                {
                                    "0": "3067\r"
                                },
                                {
                                    "0": "3469\r"
                                },
                                {
                                    "0": "4393\r"
                                },
                                {
                                    "0": "1705\r"
                                },
                                {
                                    "0": "4897\r"
                                },
                                {
                                    "0": "4307\r"
                                },
                                {
                                    "0": "2663\r"
                                },
                                {
                                    "0": "\r"
                                },
                                {
                                    "0": "28920\r"
                                },
                                {
                                    "0": "3093\r"
                                },
                                {
                                    "0": "\r"
                                },
                                {
                                    "0": "12949\r"
                                },
                                {
                                    "0": "9070\r"
                                },
                                {
                                    "0": "9161\r"
                                },
                                {
                                    "0": "3530\r"
                                },
                                {
                                    "0": "6651\r"
                                },
                                {
                                    "0": "\r"
                                },
                                {
                                    "0": "12010\r"
                                },
                                {
                                    "0": "1783\r"
                                },
                                {
                                    "0": "21165\r"
                                },
                                {
                                    "0": "\r"
                                },
                                {
                                    "0": "4667\r"
                                },
                                {
                                    "0": "3553\r"
                                },
                                {
                                    "0": "6938\r"
                                },
                                {
                                    "0": "5433\r"
                                },
                                {
                                    "0": "3244\r"
                                },
                                {
                                    "0": "1082\r"
                                },
                                {
                                    "0": "7305\r"
                                },
                                {
                                    "0": "7262\r"
                                },
                                {
                                    "0": "6577\r"
                                },
                                {
                                    "0": "1987\r"
                                },
                                {
                                    "0": "2256\r"
                                },
                                {
                                    "0": "\r"
                                },
                                {
                                    "0": "4933\r"
                                },
                                {
                                    "0": "1802\r"
                                },
                                {
                                    "0": "1315\r"
                                },
                                {
                                    "0": "1303\r"
                                },
                                {
                                    "0": "1722\r"
                                },
                                {
                                    "0": "2688\r"
                                },
                                {
                                    "0": "6103\r"
                                },
                                {
                                    "0": "2749\r"
                                },
                                {
                                    "0": "1478\r"
                                },
                                {
                                    "0": "4994\r"
                                },
                                {
                                    "0": "4369\r"
                                },
                                {
                                    "0": "5074\r"
                                },
                                {
                                    "0": "5655\r"
                                },
                                {
                                    "0": "2827\r"
                                },
                                {
                                    "0": "3232\r"
                                },
                                {
                                    "0": "\r"
                                },
                                {
                                    "0": "1101\r"
                                },
                                {
                                    "0": "2284\r"
                                },
                                {
                                    "0": "4349\r"
                                },
                                {
                                    "0": "4868\r"
                                },
                                {
                                    "0": "3264\r"
                                },
                                {
                                    "0": "3227\r"
                                },
                                {
                                    "0": "1786\r"
                                },
                                {
                                    "0": "5233\r"
                                },
                                {
                                    "0": "6054\r"
                                },
                                {
                                    "0": "6144\r"
                                },
                                {
                                    "0": "3533\r"
                                },
                                {
                                    "0": "1841\r"
                                },
                                {
                                    "0": "1721\r"
                                },
                                {
                                    "0": "4775\r"
                                },
                                {
                                    "0": "\r"
                                },
                                {
                                    "0": "16514\r"
                                },
                                {
                                    "0": "\r"
                                },
                                {
                                    "0": "7282\r"
                                },
                                {
                                    "0": "7260\r"
                                },
                                {
                                    "0": "2423\r"
                                },
                                {
                                    "0": "1738\r"
                                },
                                {
                                    "0": "4498\r"
                                },
                                {
                                    "0": "5570\r"
                                },
                                {
                                    "0": "3862\r"
                                },
                                {
                                    "0": "3979\r"
                                },
                                {
                                    "0": "3845\r"
                                },
                                {
                                    "0": "4313\r"
                                },
                                {
                                    "0": "3249\r"
                                },
                                {
                                    "0": "5639\r"
                                },
                                {
                                    "0": "\r"
                                },
                                {
                                    "0": "7910\r"
                                },
                                {
                                    "0": "9862\r"
                                },
                                {
                                    "0": "7476\r"
                                },
                                {
                                    "0": "9103\r"
                                },
                                {
                                    "0": "2851\r"
                                },
                                {
                                    "0": "3634\r"
                                },
                                {
                                    "0": "8641\r"
                                },
                                {
                                    "0": "7369\r"
                                },
                                {
                                    "0": "\r"
                                },
                                {
                                    "0": "8574\r"
                                },
                                {
                                    "0": "1439\r"
                                },
                                {
                                    "0": "1442\r"
                                },
                                {
                                    "0": "12337\r"
                                },
                                {
                                    "0": "1387\r"
                                },
                                {
                                    "0": "7777\r"
                                },
                                {
                                    "0": "\r"
                                },
                                {
                                    "0": "18060\r"
                                },
                                {
                                    "0": "\r"
                                },
                                {
                                    "0": "10287\r"
                                },
                                {
                                    "0": "1924\r"
                                },
                                {
                                    "0": "4066\r"
                                },
                                {
                                    "0": "12275\r"
                                },
                                {
                                    "0": "14094\r"
                                },
                                {
                                    "0": "\r"
                                },
                                {
                                    "0": "4797\r"
                                },
                                {
                                    "0": "5061\r"
                                },
                                {
                                    "0": "2701\r"
                                },
                                {
                                    "0": "1391\r"
                                },
                                {
                                    "0": "6617\r"
                                },
                                {
                                    "0": "5870\r"
                                },
                                {
                                    "0": "4999\r"
                                },
                                {
                                    "0": "4150\r"
                                },
                                {
                                    "0": "2881\r"
                                },
                                {
                                    "0": "2667\r"
                                },
                                {
                                    "0": "2461\r"
                                },
                                {
                                    "0": "1978\r"
                                },
                                {
                                    "0": "1058\r"
                                },
                                {
                                    "0": "\r"
                                },
                                {
                                    "0": "12911\r"
                                },
                                {
                                    "0": "7290\r"
                                },
                                {
                                    "0": "9442\r"
                                },
                                {
                                    "0": "2875\r"
                                },
                                {
                                    "0": "5812\r"
                                },
                                {
                                    "0": "\r"
                                },
                                {
                                    "0": "13016\r"
                                },
                                {
                                    "0": "4985\r"
                                },
                                {
                                    "0": "2517\r"
                                },
                                {
                                    "0": "9758\r"
                                },
                                {
                                    "0": "11215\r"
                                },
                                {
                                    "0": "\r"
                                },
                                {
                                    "0": "2845\r"
                                },
                                {
                                    "0": "11805\r"
                                },
                                {
                                    "0": "6418\r"
                                },
                                {
                                    "0": "8128\r"
                                },
                                {
                                    "0": "1604\r"
                                },
                                {
                                    "0": "\r"
                                },
                                {
                                    "0": "9643\r"
                                },
                                {
                                    "0": "6574\r"
                                },
                                {
                                    "0": "6804\r"
                                },
                                {
                                    "0": "3575\r"
                                },
                                {
                                    "0": "9226\r"
                                },
                                {
                                    "0": "6276\r"
                                },
                                {
                                    "0": "1406\r"
                                },
                                {
                                    "0": "4493\r"
                                },
                                {
                                    "0": "8104\r"
                                },
                                {
                                    "0": "\r"
                                },
                                {
                                    "0": "11616\r"
                                },
                                {
                                    "0": "7196\r"
                                },
                                {
                                    "0": "5685\r"
                                },
                                {
                                    "0": "1267\r"
                                },
                                {
                                    "0": "3281\r"
                                },
                                {
                                    "0": "1250\r"
                                },
                                {
                                    "0": "7666\r"
                                },
                                {
                                    "0": "\r"
                                },
                                {
                                    "0": "9654\r"
                                },
                                {
                                    "0": "8646\r"
                                },
                                {
                                    "0": "7144\r"
                                },
                                {
                                    "0": "2790\r"
                                },
                                {
                                    "0": "7583\r"
                                },
                                {
                                    "0": "2681\r"
                                },
                                {
                                    "0": "1799\r"
                                },
                                {
                                    "0": "5301\r"
                                },
                                {
                                    "0": "1714\r"
                                },
                                {
                                    "0": "\r"
                                },
                                {
                                    "0": "30086\r"
                                },
                                {
                                    "0": "23066\r"
                                },
                                {
                                    "0": "\r"
                                },
                                {
                                    "0": "10205\r"
                                },
                                {
                                    "0": "7316\r"
                                },
                                {
                                    "0": "1550\r"
                                },
                                {
                                    "0": "4056\r"
                                },
                                {
                                    "0": "2627\r"
                                },
                                {
                                    "0": "10056\r"
                                },
                                {
                                    "0": "\r"
                                },
                                {
                                    "0": "9912\r"
                                },
                                {
                                    "0": "1615\r"
                                },
                                {
                                    "0": "1584\r"
                                },
                                {
                                    "0": "2963\r"
                                },
                                {
                                    "0": "1347\r"
                                },
                                {
                                    "0": "9336\r"
                                },
                                {
                                    "0": "8310\r"
                                },
                                {
                                    "0": "8728\r"
                                },
                                {
                                    "0": "\r"
                                },
                                {
                                    "0": "2436\r"
                                },
                                {
                                    "0": "4741\r"
                                },
                                {
                                    "0": "6665\r"
                                },
                                {
                                    "0": "5239\r"
                                },
                                {
                                    "0": "5737\r"
                                },
                                {
                                    "0": "4252\r"
                                },
                                {
                                    "0": "1954\r"
                                },
                                {
                                    "0": "4916\r"
                                },
                                {
                                    "0": "5341\r"
                                },
                                {
                                    "0": "7475\r"
                                },
                                {
                                    "0": "5909\r"
                                },
                                {
                                    "0": "5012\r"
                                },
                                {
                                    "0": "\r"
                                },
                                {
                                    "0": "4897\r"
                                },
                                {
                                    "0": "8580\r"
                                },
                                {
                                    "0": "5122\r"
                                },
                                {
                                    "0": "1865\r"
                                },
                                {
                                    "0": "8318\r"
                                },
                                {
                                    "0": "5369\r"
                                },
                                {
                                    "0": "2334\r"
                                },
                                {
                                    "0": "5629\r"
                                },
                                {
                                    "0": "7058\r"
                                },
                                {
                                    "0": "\r"
                                },
                                {
                                    "0": "14621\r"
                                },
                                {
                                    "0": "2969\r"
                                },
                                {
                                    "0": "15900\r"
                                },
                                {
                                    "0": "14828\r"
                                },
                                {
                                    "0": "2997\r"
                                },
                                {
                                    "0": "\r"
                                },
                                {
                                    "0": "7051\r"
                                },
                                {
                                    "0": "3305\r"
                                },
                                {
                                    "0": "7848\r"
                                },
                                {
                                    "0": "7947\r"
                                },
                                {
                                    "0": "3961\r"
                                },
                                {
                                    "0": "3206\r"
                                },
                                {
                                    "0": "5175\r"
                                },
                                {
                                    "0": "7055\r"
                                },
                                {
                                    "0": "3182\r"
                                },
                                {
                                    "0": "5838\r"
                                },
                                {
                                    "0": "1954\r"
                                },
                                {
                                    "0": "\r"
                                },
                                {
                                    "0": "6614\r"
                                },
                                {
                                    "0": "3086\r"
                                },
                                {
                                    "0": "7740\r"
                                },
                                {
                                    "0": "6624\r"
                                },
                                {
                                    "0": "4106\r"
                                },
                                {
                                    "0": "7195\r"
                                },
                                {
                                    "0": "\r"
                                },
                                {
                                    "0": "3815\r"
                                },
                                {
                                    "0": "4858\r"
                                },
                                {
                                    "0": "3460\r"
                                },
                                {
                                    "0": "1427\r"
                                },
                                {
                                    "0": "5685\r"
                                },
                                {
                                    "0": "5865\r"
                                },
                                {
                                    "0": "4790\r"
                                },
                                {
                                    "0": "6660\r"
                                },
                                {
                                    "0": "1510\r"
                                },
                                {
                                    "0": "5685\r"
                                },
                                {
                                    "0": "2790\r"
                                },
                                {
                                    "0": "5112\r"
                                },
                                {
                                    "0": "\r"
                                },
                                {
                                    "0": "13626\r"
                                },
                                {
                                    "0": "1665\r"
                                },
                                {
                                    "0": "16722\r"
                                },
                                {
                                    "0": "9598\r"
                                },
                                {
                                    "0": "\r"
                                },
                                {
                                    "0": "15870\r"
                                },
                                {
                                    "0": "\r"
                                },
                                {
                                    "0": "3453\r"
                                },
                                {
                                    "0": "8531\r"
                                },
                                {
                                    "0": "9997\r"
                                },
                                {
                                    "0": "8590\r"
                                },
                                {
                                    "0": "5833\r"
                                },
                                {
                                    "0": "7896\r"
                                },
                                {
                                    "0": "8524\r"
                                },
                                {
                                    "0": "\r"
                                },
                                {
                                    "0": "6783\r"
                                },
                                {
                                    "0": "5931\r"
                                },
                                {
                                    "0": "3245\r"
                                },
                                {
                                    "0": "4327\r"
                                },
                                {
                                    "0": "5496\r"
                                },
                                {
                                    "0": "5017\r"
                                },
                                {
                                    "0": "2136\r"
                                },
                                {
                                    "0": "3899\r"
                                },
                                {
                                    "0": "3875\r"
                                },
                                {
                                    "0": "2904\r"
                                },
                                {
                                    "0": "5023\r"
                                },
                                {
                                    "0": "3173\r"
                                },
                                {
                                    "0": "3227\r"
                                },
                                {
                                    "0": "\r"
                                },
                                {
                                    "0": "4241\r"
                                },
                                {
                                    "0": "4693\r"
                                },
                                {
                                    "0": "1164\r"
                                },
                                {
                                    "0": "1877\r"
                                },
                                {
                                    "0": "5541\r"
                                },
                                {
                                    "0": "5017\r"
                                },
                                {
                                    "0": "3433\r"
                                },
                                {
                                    "0": "3333\r"
                                },
                                {
                                    "0": "4734\r"
                                },
                                {
                                    "0": "3639\r"
                                },
                                {
                                    "0": "1724\r"
                                },
                                {
                                    "0": "2439\r"
                                },
                                {
                                    "0": "1673\r"
                                },
                                {
                                    "0": "4362\r"
                                },
                                {
                                    "0": "\r"
                                },
                                {
                                    "0": "6479\r"
                                },
                                {
                                    "0": "3259\r"
                                },
                                {
                                    "0": "3496\r"
                                },
                                {
                                    "0": "6125\r"
                                },
                                {
                                    "0": "1147\r"
                                },
                                {
                                    "0": "3181\r"
                                },
                                {
                                    "0": "3948\r"
                                },
                                {
                                    "0": "5746\r"
                                },
                                {
                                    "0": "3019\r"
                                },
                                {
                                    "0": "1924\r"
                                },
                                {
                                    "0": "\r"
                                },
                                {
                                    "0": "6250\r"
                                },
                                {
                                    "0": "26443\r"
                                },
                                {
                                    "0": "\r"
                                },
                                {
                                    "0": "4901\r"
                                },
                                {
                                    "0": "6813\r"
                                },
                                {
                                    "0": "6581\r"
                                },
                                {
                                    "0": "3144\r"
                                },
                                {
                                    "0": "1525\r"
                                },
                                {
                                    "0": "6629\r"
                                },
                                {
                                    "0": "3254\r"
                                },
                                {
                                    "0": "6542\r"
                                },
                                {
                                    "0": "1156\r"
                                },
                                {
                                    "0": "6663\r"
                                },
                                {
                                    "0": "3856\r"
                                },
                                {
                                    "0": "4083\r"
                                },
                                {
                                    "0": "1598\r"
                                },
                                {
                                    "0": "\r"
                                },
                                {
                                    "0": "7932\r"
                                },
                                {
                                    "0": "8717\r"
                                },
                                {
                                    "0": "9657\r"
                                },
                                {
                                    "0": "1873\r"
                                },
                                {
                                    "0": "2727\r"
                                },
                                {
                                    "0": "2052\r"
                                },
                                {
                                    "0": "2376\r"
                                },
                                {
                                    "0": "\r"
                                },
                                {
                                    "0": "6455\r"
                                },
                                {
                                    "0": "13127\r"
                                },
                                {
                                    "0": "3540\r"
                                },
                                {
                                    "0": "8038\r"
                                },
                                {
                                    "0": "6601\r"
                                },
                                {
                                    "0": "2249\r"
                                },
                                {
                                    "0": "\r"
                                },
                                {
                                    "0": "6226\r"
                                },
                                {
                                    "0": "5251\r"
                                },
                                {
                                    "0": "3416\r"
                                },
                                {
                                    "0": "5941\r"
                                },
                                {
                                    "0": "7336\r"
                                },
                                {
                                    "0": "5668\r"
                                },
                                {
                                    "0": "4139\r"
                                },
                                {
                                    "0": "1459\r"
                                },
                                {
                                    "0": "2529\r"
                                },
                                {
                                    "0": "7538\r"
                                },
                                {
                                    "0": "\r"
                                },
                                {
                                    "0": "6899\r"
                                },
                                {
                                    "0": "4680\r"
                                },
                                {
                                    "0": "10277\r"
                                },
                                {
                                    "0": "2515\r"
                                },
                                {
                                    "0": "16361\r"
                                },
                                {
                                    "0": "\r"
                                },
                                {
                                    "0": "23283\r"
                                },
                                {
                                    "0": "2647\r"
                                },
                                {
                                    "0": "\r"
                                },
                                {
                                    "0": "1272\r"
                                },
                                {
                                    "0": "3462\r"
                                },
                                {
                                    "0": "6817\r"
                                },
                                {
                                    "0": "3795\r"
                                },
                                {
                                    "0": "4973\r"
                                },
                                {
                                    "0": "6750\r"
                                },
                                {
                                    "0": "2340\r"
                                },
                                {
                                    "0": "7379\r"
                                },
                                {
                                    "0": "3873\r"
                                },
                                {
                                    "0": "1832\r"
                                },
                                {
                                    "0": "7935\r"
                                },
                                {
                                    "0": "\r"
                                },
                                {
                                    "0": "4808\r"
                                },
                                {
                                    "0": "4018\r"
                                },
                                {
                                    "0": "11801\r"
                                },
                                {
                                    "0": "7092\r"
                                },
                                {
                                    "0": "8312\r"
                                },
                                {
                                    "0": "9718\r"
                                },
                                {
                                    "0": "6693\r"
                                },
                                {
                                    "0": "\r"
                                },
                                {
                                    "0": "7285\r"
                                },
                                {
                                    "0": "7822\r"
                                },
                                {
                                    "0": "7063\r"
                                },
                                {
                                    "0": "2854\r"
                                },
                                {
                                    "0": "7844\r"
                                },
                                {
                                    "0": "1121\r"
                                },
                                {
                                    "0": "4362\r"
                                },
                                {
                                    "0": "4685\r"
                                },
                                {
                                    "0": "5360\r"
                                },
                                {
                                    "0": "7140\r"
                                },
                                {
                                    "0": "6796\r"
                                },
                                {
                                    "0": "\r"
                                },
                                {
                                    "0": "17114\r"
                                },
                                {
                                    "0": "20195\r"
                                },
                                {
                                    "0": "9330\r"
                                },
                                {
                                    "0": "\r"
                                },
                                {
                                    "0": "19378\r"
                                },
                                {
                                    "0": "27739\r"
                                },
                                {
                                    "0": "\r"
                                },
                                {
                                    "0": "16288\r"
                                },
                                {
                                    "0": "15298\r"
                                },
                                {
                                    "0": "13251\r"
                                },
                                {
                                    "0": "5444\r"
                                },
                                {
                                    "0": "10856\r"
                                },
                                {
                                    "0": "\r"
                                },
                                {
                                    "0": "7616\r"
                                },
                                {
                                    "0": "6108\r"
                                },
                                {
                                    "0": "3420\r"
                                },
                                {
                                    "0": "9201\r"
                                },
                                {
                                    "0": "3422\r"
                                },
                                {
                                    "0": "4312\r"
                                },
                                {
                                    "0": "4388\r"
                                },
                                {
                                    "0": "3008\r"
                                },
                                {
                                    "0": "9551\r"
                                },
                                {
                                    "0": "\r"
                                },
                                {
                                    "0": "1255\r"
                                },
                                {
                                    "0": "7803\r"
                                },
                                {
                                    "0": "1598\r"
                                },
                                {
                                    "0": "3892\r"
                                },
                                {
                                    "0": "6954\r"
                                },
                                {
                                    "0": "7936\r"
                                },
                                {
                                    "0": "8078\r"
                                },
                                {
                                    "0": "5261\r"
                                },
                                {
                                    "0": "2057\r"
                                },
                                {
                                    "0": "2914\r"
                                },
                                {
                                    "0": "\r"
                                },
                                {
                                    "0": "7497\r"
                                },
                                {
                                    "0": "10296\r"
                                },
                                {
                                    "0": "2343\r"
                                },
                                {
                                    "0": "10020\r"
                                },
                                {
                                    "0": "1171\r"
                                },
                                {
                                    "0": "3092\r"
                                },
                                {
                                    "0": "2333\r"
                                },
                                {
                                    "0": "\r"
                                },
                                {
                                    "0": "1492\r"
                                },
                                {
                                    "0": "4718\r"
                                },
                                {
                                    "0": "4267\r"
                                },
                                {
                                    "0": "10309\r"
                                },
                                {
                                    "0": "7919\r"
                                },
                                {
                                    "0": "7080\r"
                                },
                                {
                                    "0": "1012\r"
                                },
                                {
                                    "0": "9981\r"
                                },
                                {
                                    "0": "\r"
                                },
                                {
                                    "0": "17367\r"
                                },
                                {
                                    "0": "1357\r"
                                },
                                {
                                    "0": "16269\r"
                                },
                                {
                                    "0": "7775\r"
                                },
                                {
                                    "0": "\r"
                                },
                                {
                                    "0": "13641\r"
                                },
                                {
                                    "0": "3004\r"
                                },
                                {
                                    "0": "13280\r"
                                },
                                {
                                    "0": "\r"
                                },
                                {
                                    "0": "6205\r"
                                },
                                {
                                    "0": "3003\r"
                                },
                                {
                                    "0": "1634\r"
                                },
                                {
                                    "0": "4608\r"
                                },
                                {
                                    "0": "2759\r"
                                },
                                {
                                    "0": "6324\r"
                                },
                                {
                                    "0": "4372\r"
                                },
                                {
                                    "0": "4833\r"
                                },
                                {
                                    "0": "6565\r"
                                },
                                {
                                    "0": "2865\r"
                                },
                                {
                                    "0": "7345\r"
                                },
                                {
                                    "0": "3719\r"
                                },
                                {
                                    "0": "\r"
                                },
                                {
                                    "0": "4268\r"
                                },
                                {
                                    "0": "2071\r"
                                },
                                {
                                    "0": "2155\r"
                                },
                                {
                                    "0": "4408\r"
                                },
                                {
                                    "0": "4869\r"
                                },
                                {
                                    "0": "2634\r"
                                },
                                {
                                    "0": "1329\r"
                                },
                                {
                                    "0": "2075\r"
                                },
                                {
                                    "0": "4276\r"
                                },
                                {
                                    "0": "4032\r"
                                },
                                {
                                    "0": "2129\r"
                                },
                                {
                                    "0": "5181\r"
                                },
                                {
                                    "0": "2594\r"
                                },
                                {
                                    "0": "2102\r"
                                },
                                {
                                    "0": "2281\r"
                                },
                                {
                                    "0": "\r"
                                },
                                {
                                    "0": "2486\r"
                                },
                                {
                                    "0": "7483\r"
                                },
                                {
                                    "0": "6748\r"
                                },
                                {
                                    "0": "4017\r"
                                },
                                {
                                    "0": "5926\r"
                                },
                                {
                                    "0": "3507\r"
                                },
                                {
                                    "0": "4666\r"
                                },
                                {
                                    "0": "3837\r"
                                },
                                {
                                    "0": "\r"
                                },
                                {
                                    "0": "8082\r"
                                },
                                {
                                    "0": "13626\r"
                                },
                                {
                                    "0": "12247\r"
                                },
                                {
                                    "0": "5622\r"
                                },
                                {
                                    "0": "13565\r"
                                },
                                {
                                    "0": "\r"
                                },
                                {
                                    "0": "7911\r"
                                },
                                {
                                    "0": "1180\r"
                                },
                                {
                                    "0": "1854\r"
                                },
                                {
                                    "0": "5795\r"
                                },
                                {
                                    "0": "7017\r"
                                },
                                {
                                    "0": "6873\r"
                                },
                                {
                                    "0": "7728\r"
                                },
                                {
                                    "0": "5055\r"
                                },
                                {
                                    "0": "5207\r"
                                },
                                {
                                    "0": "7810\r"
                                },
                                {
                                    "0": "7474\r"
                                },
                                {
                                    "0": "\r"
                                },
                                {
                                    "0": "3459\r"
                                },
                                {
                                    "0": "5418\r"
                                },
                                {
                                    "0": "1420\r"
                                },
                                {
                                    "0": "5028\r"
                                },
                                {
                                    "0": "6793\r"
                                },
                                {
                                    "0": "4851\r"
                                },
                                {
                                    "0": "2885\r"
                                },
                                {
                                    "0": "2263\r"
                                },
                                {
                                    "0": "2734\r"
                                },
                                {
                                    "0": "4868\r"
                                },
                                {
                                    "0": "6596\r"
                                },
                                {
                                    "0": "1434\r"
                                },
                                {
                                    "0": "5440\r"
                                },
                                {
                                    "0": "\r"
                                },
                                {
                                    "0": "3368\r"
                                },
                                {
                                    "0": "3541\r"
                                },
                                {
                                    "0": "5756\r"
                                },
                                {
                                    "0": "3039\r"
                                },
                                {
                                    "0": "4234\r"
                                },
                                {
                                    "0": "2632\r"
                                },
                                {
                                    "0": "6031\r"
                                },
                                {
                                    "0": "5613\r"
                                },
                                {
                                    "0": "4769\r"
                                },
                                {
                                    "0": "1538\r"
                                },
                                {
                                    "0": "4898\r"
                                },
                                {
                                    "0": "5128\r"
                                },
                                {
                                    "0": "4848\r"
                                },
                                {
                                    "0": "\r"
                                },
                                {
                                    "0": "2817\r"
                                },
                                {
                                    "0": "3013\r"
                                },
                                {
                                    "0": "2260\r"
                                },
                                {
                                    "0": "4714\r"
                                },
                                {
                                    "0": "6461\r"
                                },
                                {
                                    "0": "3262\r"
                                },
                                {
                                    "0": "3924\r"
                                },
                                {
                                    "0": "4083\r"
                                },
                                {
                                    "0": "2487\r"
                                },
                                {
                                    "0": "4221\r"
                                },
                                {
                                    "0": "5311\r"
                                },
                                {
                                    "0": "4274\r"
                                },
                                {
                                    "0": "5591\r"
                                },
                                {
                                    "0": "1625\r"
                                },
                                {
                                    "0": "\r"
                                },
                                {
                                    "0": "8756\r"
                                },
                                {
                                    "0": "8549\r"
                                },
                                {
                                    "0": "9481\r"
                                },
                                {
                                    "0": "7994\r"
                                },
                                {
                                    "0": "7775\r"
                                },
                                {
                                    "0": "6951\r"
                                },
                                {
                                    "0": "5276\r"
                                },
                                {
                                    "0": "7598\r"
                                },
                                {
                                    "0": "9126\r"
                                },
                                {
                                    "0": "\r"
                                },
                                {
                                    "0": "11749\r"
                                },
                                {
                                    "0": "7152\r"
                                },
                                {
                                    "0": "14494\r"
                                },
                                {
                                    "0": "\r"
                                },
                                {
                                    "0": "14395\r"
                                },
                                {
                                    "0": "7799\r"
                                },
                                {
                                    "0": "16109\r"
                                },
                                {
                                    "0": "14178\r"
                                },
                                {
                                    "0": "\r"
                                },
                                {
                                    "0": "24404\r"
                                },
                                {
                                    "0": "4941\r"
                                },
                                {
                                    "0": "\r"
                                },
                                {
                                    "0": "5326\r"
                                },
                                {
                                    "0": "9070\r"
                                },
                                {
                                    "0": "3951\r"
                                },
                                {
                                    "0": "1404\r"
                                },
                                {
                                    "0": "6513\r"
                                },
                                {
                                    "0": "9155\r"
                                },
                                {
                                    "0": "5981\r"
                                },
                                {
                                    "0": "3880\r"
                                },
                                {
                                    "0": "1476\r"
                                },
                                {
                                    "0": "\r"
                                },
                                {
                                    "0": "12661\r"
                                },
                                {
                                    "0": "10966\r"
                                },
                                {
                                    "0": "\r"
                                },
                                {
                                    "0": "3517\r"
                                },
                                {
                                    "0": "7760\r"
                                },
                                {
                                    "0": "4724\r"
                                },
                                {
                                    "0": "6891\r"
                                },
                                {
                                    "0": "1447\r"
                                },
                                {
                                    "0": "3337\r"
                                },
                                {
                                    "0": "3903\r"
                                },
                                {
                                    "0": "7382\r"
                                },
                                {
                                    "0": "7067\r"
                                },
                                {
                                    "0": "1771\r"
                                },
                                {
                                    "0": "1184\r"
                                },
                                {
                                    "0": "\r"
                                },
                                {
                                    "0": "3556\r"
                                },
                                {
                                    "0": "13458\r"
                                },
                                {
                                    "0": "12699\r"
                                },
                                {
                                    "0": "12330\r"
                                },
                                {
                                    "0": "13534\r"
                                },
                                {
                                    "0": "11244\r"
                                },
                                {
                                    "0": "\r"
                                },
                                {
                                    "0": "10818\r"
                                },
                                {
                                    "0": "31380\r"
                                },
                                {
                                    "0": "\r"
                                },
                                {
                                    "0": "17968\r"
                                },
                                {
                                    "0": "3978\r"
                                },
                                {
                                    "0": "17994\r"
                                },
                                {
                                    "0": "\r"
                                },
                                {
                                    "0": "9486\r"
                                },
                                {
                                    "0": "6163\r"
                                },
                                {
                                    "0": "1748\r"
                                },
                                {
                                    "0": "3765\r"
                                },
                                {
                                    "0": "7191\r"
                                },
                                {
                                    "0": "1461\r"
                                },
                                {
                                    "0": "2062\r"
                                },
                                {
                                    "0": "8169\r"
                                },
                                {
                                    "0": "9167\r"
                                },
                                {
                                    "0": "\r"
                                },
                                {
                                    "0": "3111\r"
                                },
                                {
                                    "0": "4378\r"
                                },
                                {
                                    "0": "3560\r"
                                },
                                {
                                    "0": "6292\r"
                                },
                                {
                                    "0": "5521\r"
                                },
                                {
                                    "0": "2132\r"
                                },
                                {
                                    "0": "5071\r"
                                },
                                {
                                    "0": "4519\r"
                                },
                                {
                                    "0": "1977\r"
                                },
                                {
                                    "0": "6587\r"
                                },
                                {
                                    "0": "\r"
                                },
                                {
                                    "0": "11961\r"
                                },
                                {
                                    "0": "2119\r"
                                },
                                {
                                    "0": "11633\r"
                                },
                                {
                                    "0": "10970\r"
                                },
                                {
                                    "0": "4089\r"
                                },
                                {
                                    "0": "7390\r"
                                },
                                {
                                    "0": "6481\r"
                                },
                                {
                                    "0": "\r"
                                },
                                {
                                    "0": "4350\r"
                                },
                                {
                                    "0": "5261\r"
                                },
                                {
                                    "0": "4801\r"
                                },
                                {
                                    "0": "1584\r"
                                },
                                {
                                    "0": "1531\r"
                                },
                                {
                                    "0": "5034\r"
                                },
                                {
                                    "0": "5917\r"
                                },
                                {
                                    "0": "4136\r"
                                },
                                {
                                    "0": "6668\r"
                                },
                                {
                                    "0": "5364\r"
                                },
                                {
                                    "0": "3814\r"
                                },
                                {
                                    "0": "3873\r"
                                },
                                {
                                    "0": "4437\r"
                                },
                                {
                                    "0": "\r"
                                },
                                {
                                    "0": "2568\r"
                                },
                                {
                                    "0": "2449\r"
                                },
                                {
                                    "0": "5582\r"
                                },
                                {
                                    "0": "1857\r"
                                },
                                {
                                    "0": "6143\r"
                                },
                                {
                                    "0": "5457\r"
                                },
                                {
                                    "0": "4396\r"
                                },
                                {
                                    "0": "3723\r"
                                },
                                {
                                    "0": "2885\r"
                                },
                                {
                                    "0": "2428\r"
                                },
                                {
                                    "0": "2790\r"
                                },
                                {
                                    "0": "4173\r"
                                },
                                {
                                    "0": "1726\r"
                                },
                                {
                                    "0": "5687\r"
                                },
                                {
                                    "0": "\r"
                                },
                                {
                                    "0": "21758\r"
                                },
                                {
                                    "0": "\r"
                                },
                                {
                                    "0": "32901\r"
                                },
                                {
                                    "0": "\r"
                                },
                                {
                                    "0": "4313\r"
                                },
                                {
                                    "0": "12688\r"
                                },
                                {
                                    "0": "14465\r"
                                },
                                {
                                    "0": "1073\r"
                                },
                                {
                                    "0": "6568\r"
                                },
                                {
                                    "0": "\r"
                                },
                                {
                                    "0": "2295\r"
                                },
                                {
                                    "0": "3872\r"
                                },
                                {
                                    "0": "5979\r"
                                },
                                {
                                    "0": "3014\r"
                                },
                                {
                                    "0": "1408\r"
                                },
                                {
                                    "0": "1865\r"
                                },
                                {
                                    "0": "2937\r"
                                },
                                {
                                    "0": "4231\r"
                                },
                                {
                                    "0": "5076\r"
                                },
                                {
                                    "0": "2544\r"
                                },
                                {
                                    "0": "3270\r"
                                },
                                {
                                    "0": "2673\r"
                                },
                                {
                                    "0": "6060\r"
                                },
                                {
                                    "0": "4292\r"
                                },
                                {
                                    "0": "1073\r"
                                },
                                {
                                    "0": "\r"
                                },
                                {
                                    "0": "5340\r"
                                },
                                {
                                    "0": "10378\r"
                                },
                                {
                                    "0": "10445\r"
                                },
                                {
                                    "0": "11874\r"
                                },
                                {
                                    "0": "8275\r"
                                },
                                {
                                    "0": "8558\r"
                                },
                                {
                                    "0": "1558\r"
                                },
                                {
                                    "0": "\r"
                                },
                                {
                                    "0": "3652\r"
                                },
                                {
                                    "0": "9630\r"
                                },
                                {
                                    "0": "15612\r"
                                },
                                {
                                    "0": "18471\r"
                                },
                                {
                                    "0": "\r"
                                },
                                {
                                    "0": "5856\r"
                                },
                                {
                                    "0": "4627\r"
                                },
                                {
                                    "0": "4762\r"
                                },
                                {
                                    "0": "6094\r"
                                },
                                {
                                    "0": "5266\r"
                                },
                                {
                                    "0": "2970\r"
                                },
                                {
                                    "0": "1230\r"
                                },
                                {
                                    "0": "6292\r"
                                },
                                {
                                    "0": "5083\r"
                                },
                                {
                                    "0": "4557\r"
                                },
                                {
                                    "0": "6158\r"
                                },
                                {
                                    "0": "5841\r"
                                },
                                {
                                    "0": "6321\r"
                                },
                                {
                                    "0": "3672\r"
                                },
                                {
                                    "0": "\r"
                                },
                                {
                                    "0": "4531\r"
                                },
                                {
                                    "0": "2204\r"
                                },
                                {
                                    "0": "4583\r"
                                },
                                {
                                    "0": "4426\r"
                                },
                                {
                                    "0": "4310\r"
                                },
                                {
                                    "0": "6136\r"
                                },
                                {
                                    "0": "5577\r"
                                },
                                {
                                    "0": "4765\r"
                                },
                                {
                                    "0": "6882\r"
                                },
                                {
                                    "0": "1300\r"
                                },
                                {
                                    "0": "2979\r"
                                },
                                {
                                    "0": "6754\r"
                                },
                                {
                                    "0": "4241\r"
                                },
                                {
                                    "0": "\r"
                                },
                                {
                                    "0": "3266\r"
                                },
                                {
                                    "0": "6610\r"
                                },
                                {
                                    "0": "2322\r"
                                },
                                {
                                    "0": "12666\r"
                                },
                                {
                                    "0": "11874\r"
                                },
                                {
                                    "0": "10495\r"
                                },
                                {
                                    "0": "\r"
                                },
                                {
                                    "0": "7493\r"
                                },
                                {
                                    "0": "2468\r"
                                },
                                {
                                    "0": "2710\r"
                                },
                                {
                                    "0": "6550\r"
                                },
                                {
                                    "0": "7383\r"
                                },
                                {
                                    "0": "4442\r"
                                },
                                {
                                    "0": "3692\r"
                                },
                                {
                                    "0": "8168\r"
                                },
                                {
                                    "0": "\r"
                                },
                                {
                                    "0": "4381\r"
                                },
                                {
                                    "0": "3648\r"
                                },
                                {
                                    "0": "4270\r"
                                },
                                {
                                    "0": "3016\r"
                                },
                                {
                                    "0": "4178\r"
                                },
                                {
                                    "0": "3066\r"
                                },
                                {
                                    "0": "1736\r"
                                },
                                {
                                    "0": "5402\r"
                                },
                                {
                                    "0": "4995\r"
                                },
                                {
                                    "0": "1980\r"
                                },
                                {
                                    "0": "5438\r"
                                },
                                {
                                    "0": "5256\r"
                                },
                                {
                                    "0": "4804\r"
                                },
                                {
                                    "0": "4854\r"
                                },
                                {
                                    "0": "2585\r"
                                },
                                {
                                    "0": "\r"
                                },
                                {
                                    "0": "4096\r"
                                },
                                {
                                    "0": "4397\r"
                                },
                                {
                                    "0": "4061\r"
                                },
                                {
                                    "0": "3811\r"
                                },
                                {
                                    "0": "2537\r"
                                },
                                {
                                    "0": "3296\r"
                                },
                                {
                                    "0": "1877\r"
                                },
                                {
                                    "0": "4267\r"
                                },
                                {
                                    "0": "2760\r"
                                },
                                {
                                    "0": "3682\r"
                                },
                                {
                                    "0": "5949\r"
                                },
                                {
                                    "0": "3713\r"
                                },
                                {
                                    "0": "3365\r"
                                },
                                {
                                    "0": "4135\r"
                                },
                                {
                                    "0": "1310\r"
                                },
                                {
                                    "0": "\r"
                                },
                                {
                                    "0": "30319\r"
                                },
                                {
                                    "0": "\r"
                                },
                                {
                                    "0": "7244\r"
                                },
                                {
                                    "0": "6071\r"
                                },
                                {
                                    "0": "1234\r"
                                },
                                {
                                    "0": "6387\r"
                                },
                                {
                                    "0": "1980\r"
                                },
                                {
                                    "0": "1935\r"
                                },
                                {
                                    "0": "3431\r"
                                },
                                {
                                    "0": "6474\r"
                                },
                                {
                                    "0": "6601\r"
                                },
                                {
                                    "0": "1652\r"
                                },
                                {
                                    "0": "\r"
                                },
                                {
                                    "0": "10125\r"
                                },
                                {
                                    "0": "11599\r"
                                },
                                {
                                    "0": "\r"
                                },
                                {
                                    "0": "4436\r"
                                },
                                {
                                    "0": "3242\r"
                                },
                                {
                                    "0": "6077\r"
                                },
                                {
                                    "0": "6707\r"
                                },
                                {
                                    "0": "1582\r"
                                },
                                {
                                    "0": "6648\r"
                                },
                                {
                                    "0": "3345\r"
                                },
                                {
                                    "0": "5812\r"
                                },
                                {
                                    "0": "1635\r"
                                },
                                {
                                    "0": "2782\r"
                                },
                                {
                                    "0": "2514\r"
                                },
                                {
                                    "0": "2608\r"
                                },
                                {
                                    "0": "\r"
                                },
                                {
                                    "0": "9244\r"
                                },
                                {
                                    "0": "1348\r"
                                },
                                {
                                    "0": "5019\r"
                                },
                                {
                                    "0": "2059\r"
                                },
                                {
                                    "0": "9226\r"
                                },
                                {
                                    "0": "2546\r"
                                },
                                {
                                    "0": "5130\r"
                                },
                                {
                                    "0": "8902\r"
                                },
                                {
                                    "0": "7779\r"
                                },
                                {
                                    "0": "\r"
                                },
                                {
                                    "0": "10030\r"
                                },
                                {
                                    "0": "10749\r"
                                },
                                {
                                    "0": "3690\r"
                                },
                                {
                                    "0": "8769\r"
                                },
                                {
                                    "0": "9835\r"
                                },
                                {
                                    "0": "7216\r"
                                },
                                {
                                    "0": "2132\r"
                                },
                                {
                                    "0": "\r"
                                },
                                {
                                    "0": "6105\r"
                                },
                                {
                                    "0": "1205\r"
                                },
                                {
                                    "0": "1860\r"
                                },
                                {
                                    "0": "3190\r"
                                },
                                {
                                    "0": "5815\r"
                                },
                                {
                                    "0": "1424\r"
                                },
                                {
                                    "0": "2611\r"
                                },
                                {
                                    "0": "1230\r"
                                },
                                {
                                    "0": "4491\r"
                                },
                                {
                                    "0": "1731\r"
                                },
                                {
                                    "0": "5804\r"
                                },
                                {
                                    "0": "2863\r"
                                },
                                {
                                    "0": "1816\r"
                                },
                                {
                                    "0": "3694\r"
                                },
                                {
                                    "0": "\r"
                                },
                                {
                                    "0": "4791\r"
                                },
                                {
                                    "0": "6491\r"
                                },
                                {
                                    "0": "3292\r"
                                },
                                {
                                    "0": "3310\r"
                                },
                                {
                                    "0": "2223\r"
                                },
                                {
                                    "0": "4296\r"
                                },
                                {
                                    "0": "6323\r"
                                },
                                {
                                    "0": "3414\r"
                                },
                                {
                                    "0": "1462\r"
                                },
                                {
                                    "0": "6799\r"
                                },
                                {
                                    "0": "3276\r"
                                },
                                {
                                    "0": "4435\r"
                                },
                                {
                                    "0": "5554\r"
                                },
                                {
                                    "0": "\r"
                                },
                                {
                                    "0": "2859\r"
                                },
                                {
                                    "0": "2854\r"
                                },
                                {
                                    "0": "1127\r"
                                },
                                {
                                    "0": "4179\r"
                                },
                                {
                                    "0": "6233\r"
                                },
                                {
                                    "0": "6219\r"
                                },
                                {
                                    "0": "5955\r"
                                },
                                {
                                    "0": "3139\r"
                                },
                                {
                                    "0": "2457\r"
                                },
                                {
                                    "0": "3854\r"
                                },
                                {
                                    "0": "5071\r"
                                },
                                {
                                    "0": "4887\r"
                                },
                                {
                                    "0": "4190\r"
                                },
                                {
                                    "0": "4469\r"
                                },
                                {
                                    "0": "\r"
                                },
                                {
                                    "0": "67818\r"
                                },
                                {
                                    "0": "\r"
                                },
                                {
                                    "0": "7880\r"
                                },
                                {
                                    "0": "6503\r"
                                },
                                {
                                    "0": "4931\r"
                                },
                                {
                                    "0": "5813\r"
                                },
                                {
                                    "0": "1692\r"
                                },
                                {
                                    "0": "2126\r"
                                },
                                {
                                    "0": "6300\r"
                                },
                                {
                                    "0": "8743\r"
                                },
                                {
                                    "0": "4983\r"
                                },
                                {
                                    "0": "2182\r"
                                },
                                {
                                    "0": "\r"
                                },
                                {
                                    "0": "1882\r"
                                },
                                {
                                    "0": "5752\r"
                                },
                                {
                                    "0": "6369\r"
                                },
                                {
                                    "0": "1996\r"
                                },
                                {
                                    "0": "2955\r"
                                },
                                {
                                    "0": "5978\r"
                                },
                                {
                                    "0": "6087\r"
                                },
                                {
                                    "0": "5123\r"
                                },
                                {
                                    "0": "2587\r"
                                },
                                {
                                    "0": "2000\r"
                                },
                                {
                                    "0": "4973\r"
                                },
                                {
                                    "0": "2214\r"
                                },
                                {
                                    "0": "5118\r"
                                },
                                {
                                    "0": "3178\r"
                                },
                                {
                                    "0": "\r"
                                },
                                {
                                    "0": "10807\r"
                                },
                                {
                                    "0": "9780\r"
                                },
                                {
                                    "0": "8468\r"
                                },
                                {
                                    "0": "2157\r"
                                },
                                {
                                    "0": "1021\r"
                                },
                                {
                                    "0": "8078\r"
                                },
                                {
                                    "0": "4848\r"
                                },
                                {
                                    "0": "\r"
                                },
                                {
                                    "0": "3400\r"
                                },
                                {
                                    "0": "1666\r"
                                },
                                {
                                    "0": "6908\r"
                                },
                                {
                                    "0": "10199\r"
                                },
                                {
                                    "0": "1685\r"
                                },
                                {
                                    "0": "4979\r"
                                },
                                {
                                    "0": "\r"
                                },
                                {
                                    "0": "2250\r"
                                },
                                {
                                    "0": "5672\r"
                                },
                                {
                                    "0": "2505\r"
                                },
                                {
                                    "0": "9061\r"
                                },
                                {
                                    "0": "5514\r"
                                },
                                {
                                    "0": "8895\r"
                                },
                                {
                                    "0": "4958\r"
                                },
                                {
                                    "0": "8274\r"
                                },
                                {
                                    "0": "7707\r"
                                },
                                {
                                    "0": "\r"
                                },
                                {
                                    "0": "15083\r"
                                },
                                {
                                    "0": "2359\r"
                                },
                                {
                                    "0": "23052\r"
                                },
                                {
                                    "0": "\r"
                                },
                                {
                                    "0": "6279\r"
                                },
                                {
                                    "0": "1563\r"
                                },
                                {
                                    "0": "4247\r"
                                },
                                {
                                    "0": "4593\r"
                                },
                                {
                                    "0": "4844\r"
                                },
                                {
                                    "0": "5335\r"
                                },
                                {
                                    "0": "7024\r"
                                },
                                {
                                    "0": "7324\r"
                                },
                                {
                                    "0": "5904\r"
                                },
                                {
                                    "0": "1016\r"
                                },
                                {
                                    "0": "3394\r"
                                },
                                {
                                    "0": "3382\r"
                                },
                                {
                                    "0": "\r"
                                },
                                {
                                    "0": "2965\r"
                                },
                                {
                                    "0": "2673\r"
                                },
                                {
                                    "0": "3329\r"
                                },
                                {
                                    "0": "1833\r"
                                },
                                {
                                    "0": "1222\r"
                                },
                                {
                                    "0": "1789\r"
                                },
                                {
                                    "0": "1027\r"
                                },
                                {
                                    "0": "6268\r"
                                },
                                {
                                    "0": "4404\r"
                                },
                                {
                                    "0": "1031\r"
                                },
                                {
                                    "0": "1407\r"
                                },
                                {
                                    "0": "4510\r"
                                },
                                {
                                    "0": "4047\r"
                                },
                                {
                                    "0": "1972\r"
                                },
                                {
                                    "0": "\r"
                                },
                                {
                                    "0": "4423\r"
                                },
                                {
                                    "0": "8018\r"
                                },
                                {
                                    "0": "4991\r"
                                },
                                {
                                    "0": "7190\r"
                                },
                                {
                                    "0": "7061\r"
                                },
                                {
                                    "0": "6223\r"
                                },
                                {
                                    "0": "5972\r"
                                },
                                {
                                    "0": "2864\r"
                                },
                                {
                                    "0": "5674\r"
                                },
                                {
                                    "0": "\r"
                                },
                                {
                                    "0": "1559\r"
                                },
                                {
                                    "0": "1850\r"
                                },
                                {
                                    "0": "4117\r"
                                },
                                {
                                    "0": "1495\r"
                                },
                                {
                                    "0": "2604\r"
                                },
                                {
                                    "0": "2243\r"
                                },
                                {
                                    "0": "1498\r"
                                },
                                {
                                    "0": "4936\r"
                                },
                                {
                                    "0": "2970\r"
                                },
                                {
                                    "0": "4109\r"
                                },
                                {
                                    "0": "1252\r"
                                },
                                {
                                    "0": "6416\r"
                                },
                                {
                                    "0": "5293\r"
                                },
                                {
                                    "0": "3319\r"
                                },
                                {
                                    "0": "\r"
                                },
                                {
                                    "0": "5577\r"
                                },
                                {
                                    "0": "4032\r"
                                },
                                {
                                    "0": "3528\r"
                                },
                                {
                                    "0": "6140\r"
                                },
                                {
                                    "0": "5994\r"
                                },
                                {
                                    "0": "2811\r"
                                },
                                {
                                    "0": "3247\r"
                                },
                                {
                                    "0": "7297\r"
                                },
                                {
                                    "0": "5776\r"
                                },
                                {
                                    "0": "3863\r"
                                },
                                {
                                    "0": "4240\r"
                                },
                                {
                                    "0": "3973\r"
                                },
                                {
                                    "0": "\r"
                                },
                                {
                                    "0": "9884\r"
                                },
                                {
                                    "0": "8267\r"
                                },
                                {
                                    "0": "\r"
                                },
                                {
                                    "0": "3047\r"
                                },
                                {
                                    "0": "4053\r"
                                },
                                {
                                    "0": "2400\r"
                                },
                                {
                                    "0": "4246\r"
                                },
                                {
                                    "0": "3193\r"
                                },
                                {
                                    "0": "2309\r"
                                },
                                {
                                    "0": "4014\r"
                                },
                                {
                                    "0": "1369\r"
                                },
                                {
                                    "0": "1437\r"
                                },
                                {
                                    "0": "\r"
                                },
                                {
                                    "0": "10529\r"
                                },
                                {
                                    "0": "2975\r"
                                },
                                {
                                    "0": "3033\r"
                                },
                                {
                                    "0": "10601\r"
                                },
                                {
                                    "0": "13985\r"
                                },
                                {
                                    "0": "\r"
                                },
                                {
                                    "0": "12323\r"
                                },
                                {
                                    "0": "9086\r"
                                },
                                {
                                    "0": "2903\r"
                                },
                                {
                                    "0": "7243\r"
                                },
                                {
                                    "0": "8351\r"
                                },
                                {
                                    "0": "12729\r"
                                },
                                {
                                    "0": "\r"
                                },
                                {
                                    "0": "13982\r"
                                },
                                {
                                    "0": "7013\r"
                                },
                                {
                                    "0": "7500\r"
                                },
                                {
                                    "0": "11098\r"
                                },
                                {
                                    "0": "9206\r"
                                },
                                {
                                    "0": "\r"
                                },
                                {
                                    "0": "11963\r"
                                },
                                {
                                    "0": "3055\r"
                                },
                                {
                                    "0": "9862\r"
                                },
                                {
                                    "0": "2601\r"
                                },
                                {
                                    "0": "13991\r"
                                },
                                {
                                    "0": "\r"
                                },
                                {
                                    "0": "66684\r"
                                },
                                {
                                    "0": "\r"
                                },
                                {
                                    "0": "6171\r"
                                },
                                {
                                    "0": "1924\r"
                                },
                                {
                                    "0": "1569\r"
                                },
                                {
                                    "0": "3761\r"
                                },
                                {
                                    "0": "4616\r"
                                },
                                {
                                    "0": "5565\r"
                                },
                                {
                                    "0": "3644\r"
                                },
                                {
                                    "0": "1817\r"
                                },
                                {
                                    "0": "4029\r"
                                },
                                {
                                    "0": "2333\r"
                                },
                                {
                                    "0": "1934\r"
                                },
                                {
                                    "0": "2492\r"
                                },
                                {
                                    "0": "6161\r"
                                },
                                {
                                    "0": "\r"
                                },
                                {
                                    "0": "2802\r"
                                },
                                {
                                    "0": "1498\r"
                                },
                                {
                                    "0": "3232\r"
                                },
                                {
                                    "0": "7475\r"
                                },
                                {
                                    "0": "5503\r"
                                },
                                {
                                    "0": "4913\r"
                                },
                                {
                                    "0": "6759\r"
                                },
                                {
                                    "0": "8657\r"
                                },
                                {
                                    "0": "4445\r"
                                },
                                {
                                    "0": "\r"
                                },
                                {
                                    "0": "18324\r"
                                },
                                {
                                    "0": "19871\r"
                                },
                                {
                                    "0": "\r"
                                },
                                {
                                    "0": "6287\r"
                                },
                                {
                                    "0": "4271\r"
                                },
                                {
                                    "0": "7871\r"
                                },
                                {
                                    "0": "1097\r"
                                },
                                {
                                    "0": "1932\r"
                                },
                                {
                                    "0": "5980\r"
                                },
                                {
                                    "0": "5376\r"
                                },
                                {
                                    "0": "7824\r"
                                },
                                {
                                    "0": "4911\r"
                                },
                                {
                                    "0": "4751\r"
                                },
                                {
                                    "0": "6453\r"
                                },
                                {
                                    "0": "\r"
                                },
                                {
                                    "0": "8374\r"
                                },
                                {
                                    "0": "3293\r"
                                },
                                {
                                    "0": "7175\r"
                                },
                                {
                                    "0": "8288\r"
                                },
                                {
                                    "0": "1217\r"
                                },
                                {
                                    "0": "4831\r"
                                },
                                {
                                    "0": "1514\r"
                                },
                                {
                                    "0": "6681\r"
                                },
                                {
                                    "0": "2596\r"
                                },
                                {
                                    "0": "6199\r"
                                },
                                {
                                    "0": "\r"
                                },
                                {
                                    "0": "32039\r"
                                },
                                {
                                    "0": "\r"
                                },
                                {
                                    "0": "1235\r"
                                },
                                {
                                    "0": "2206\r"
                                },
                                {
                                    "0": "6429\r"
                                },
                                {
                                    "0": "4880\r"
                                },
                                {
                                    "0": "5463\r"
                                },
                                {
                                    "0": "6814\r"
                                },
                                {
                                    "0": "1530\r"
                                },
                                {
                                    "0": "3544\r"
                                },
                                {
                                    "0": "4685\r"
                                },
                                {
                                    "0": "3169\r"
                                },
                                {
                                    "0": "6752\r"
                                },
                                {
                                    "0": "5854\r"
                                },
                                {
                                    "0": "6764\r"
                                },
                                {
                                    "0": "\r"
                                },
                                {
                                    "0": "6115\r"
                                },
                                {
                                    "0": "6039\r"
                                },
                                {
                                    "0": "6519\r"
                                },
                                {
                                    "0": "6414\r"
                                },
                                {
                                    "0": "4558\r"
                                },
                                {
                                    "0": "5214\r"
                                },
                                {
                                    "0": "4411\r"
                                },
                                {
                                    "0": "2882\r"
                                },
                                {
                                    "0": "6006\r"
                                },
                                {
                                    "0": "5117\r"
                                },
                                {
                                    "0": "5321\r"
                                },
                                {
                                    "0": "2059\r"
                                },
                                {
                                    "0": "\r"
                                },
                                {
                                    "0": "2431\r"
                                },
                                {
                                    "0": "5892\r"
                                },
                                {
                                    "0": "1839\r"
                                },
                                {
                                    "0": "5352\r"
                                },
                                {
                                    "0": "3295\r"
                                },
                                {
                                    "0": "2768\r"
                                },
                                {
                                    "0": "4788\r"
                                },
                                {
                                    "0": "5271\r"
                                },
                                {
                                    "0": "1503\r"
                                },
                                {
                                    "0": "1173\r"
                                },
                                {
                                    "0": "4691\r"
                                },
                                {
                                    "0": "4906\r"
                                },
                                {
                                    "0": "4346\r"
                                },
                                {
                                    "0": "1043\r"
                                },
                                {
                                    "0": "\r"
                                },
                                {
                                    "0": "5172\r"
                                },
                                {
                                    "0": "5976\r"
                                },
                                {
                                    "0": "6248\r"
                                },
                                {
                                    "0": "4288\r"
                                },
                                {
                                    "0": "3851\r"
                                },
                                {
                                    "0": "8543\r"
                                },
                                {
                                    "0": "4189\r"
                                },
                                {
                                    "0": "4396\r"
                                },
                                {
                                    "0": "\r"
                                },
                                {
                                    "0": "10361\r"
                                },
                                {
                                    "0": "14864\r"
                                },
                                {
                                    "0": "18037\r"
                                },
                                {
                                    "0": "\r"
                                },
                                {
                                    "0": "7381\r"
                                },
                                {
                                    "0": "5180\r"
                                },
                                {
                                    "0": "1829\r"
                                },
                                {
                                    "0": "3624\r"
                                },
                                {
                                    "0": "3144\r"
                                },
                                {
                                    "0": "3962\r"
                                },
                                {
                                    "0": "5923\r"
                                },
                                {
                                    "0": "4356\r"
                                },
                                {
                                    "0": "1477\r"
                                },
                                {
                                    "0": "3153\r"
                                },
                                {
                                    "0": "2891\r"
                                },
                                {
                                    "0": "5196\r"
                                },
                                {
                                    "0": "\r"
                                },
                                {
                                    "0": "3143\r"
                                },
                                {
                                    "0": "3180\r"
                                },
                                {
                                    "0": "4428\r"
                                },
                                {
                                    "0": "3418\r"
                                },
                                {
                                    "0": "6243\r"
                                },
                                {
                                    "0": "3480\r"
                                },
                                {
                                    "0": "1151\r"
                                },
                                {
                                    "0": "4262\r"
                                },
                                {
                                    "0": "4958\r"
                                },
                                {
                                    "0": "4641\r"
                                },
                                {
                                    "0": "3823\r"
                                },
                                {
                                    "0": "1469\r"
                                },
                                {
                                    "0": "2149\r"
                                },
                                {
                                    "0": "\r"
                                },
                                {
                                    "0": "3702\r"
                                },
                                {
                                    "0": "4159\r"
                                },
                                {
                                    "0": "3799\r"
                                },
                                {
                                    "0": "4639\r"
                                },
                                {
                                    "0": "5703\r"
                                },
                                {
                                    "0": "2425\r"
                                },
                                {
                                    "0": "4579\r"
                                },
                                {
                                    "0": "2397\r"
                                },
                                {
                                    "0": "2814\r"
                                },
                                {
                                    "0": "3959\r"
                                },
                                {
                                    "0": "3987\r"
                                },
                                {
                                    "0": "3088\r"
                                },
                                {
                                    "0": "2982\r"
                                },
                                {
                                    "0": "2338\r"
                                },
                                {
                                    "0": "3432\r"
                                },
                                {
                                    "0": "\r"
                                },
                                {
                                    "0": "7256\r"
                                },
                                {
                                    "0": "16171\r"
                                },
                                {
                                    "0": "12417\r"
                                },
                                {
                                    "0": "11290\r"
                                },
                                {
                                    "0": "13105\r"
                                },
                                {
                                    "0": "\r"
                                },
                                {
                                    "0": "2594\r"
                                },
                                {
                                    "0": "5105\r"
                                },
                                {
                                    "0": "6253\r"
                                },
                                {
                                    "0": "4743\r"
                                },
                                {
                                    "0": "4251\r"
                                },
                                {
                                    "0": "6439\r"
                                },
                                {
                                    "0": "3370\r"
                                },
                                {
                                    "0": "5662\r"
                                },
                                {
                                    "0": "2763\r"
                                },
                                {
                                    "0": "3147\r"
                                },
                                {
                                    "0": "6366\r"
                                },
                                {
                                    "0": "4537\r"
                                },
                                {
                                    "0": "6279\r"
                                },
                                {
                                    "0": "6104\r"
                                },
                                {
                                    "0": "\r"
                                },
                                {
                                    "0": "7926\r"
                                },
                                {
                                    "0": "3430\r"
                                },
                                {
                                    "0": "2206\r"
                                },
                                {
                                    "0": "4334\r"
                                },
                                {
                                    "0": "5226\r"
                                },
                                {
                                    "0": "1817\r"
                                },
                                {
                                    "0": "2404\r"
                                },
                                {
                                    "0": "2587\r"
                                },
                                {
                                    "0": "8020\r"
                                },
                                {
                                    "0": "1849\r"
                                },
                                {
                                    "0": "\r"
                                },
                                {
                                    "0": "1257\r"
                                },
                                {
                                    "0": "6091\r"
                                },
                                {
                                    "0": "2485\r"
                                },
                                {
                                    "0": "6366\r"
                                },
                                {
                                    "0": "3184\r"
                                },
                                {
                                    "0": "4775\r"
                                },
                                {
                                    "0": "5987\r"
                                },
                                {
                                    "0": "3473\r"
                                },
                                {
                                    "0": "5761\r"
                                },
                                {
                                    "0": "1905\r"
                                },
                                {
                                    "0": "3742\r"
                                },
                                {
                                    "0": "5478\r"
                                },
                                {
                                    "0": "5343\r"
                                },
                                {
                                    "0": "\r"
                                },
                                {
                                    "0": "3336\r"
                                },
                                {
                                    "0": "5819\r"
                                },
                                {
                                    "0": "2617\r"
                                },
                                {
                                    "0": "2756\r"
                                },
                                {
                                    "0": "5602\r"
                                },
                                {
                                    "0": "3921\r"
                                },
                                {
                                    "0": "4660\r"
                                },
                                {
                                    "0": "5041\r"
                                },
                                {
                                    "0": "1471\r"
                                },
                                {
                                    "0": "2297\r"
                                },
                                {
                                    "0": "5575\r"
                                },
                                {
                                    "0": "1473\r"
                                },
                                {
                                    "0": "6059\r"
                                },
                                {
                                    "0": "3111\r"
                                },
                                {
                                    "0": "5789\r"
                                },
                                {
                                    "0": "\r"
                                },
                                {
                                    "0": "2647\r"
                                },
                                {
                                    "0": "6183\r"
                                },
                                {
                                    "0": "5004\r"
                                },
                                {
                                    "0": "2750\r"
                                },
                                {
                                    "0": "2772\r"
                                },
                                {
                                    "0": "1964\r"
                                },
                                {
                                    "0": "4453\r"
                                },
                                {
                                    "0": "2132\r"
                                },
                                {
                                    "0": "3181\r"
                                },
                                {
                                    "0": "2916\r"
                                },
                                {
                                    "0": "1804\r"
                                },
                                {
                                    "0": "4666\r"
                                },
                                {
                                    "0": "1215\r"
                                },
                                {
                                    "0": "6354\r"
                                },
                                {
                                    "0": "\r"
                                },
                                {
                                    "0": "1449\r"
                                },
                                {
                                    "0": "1539\r"
                                },
                                {
                                    "0": "3005\r"
                                },
                                {
                                    "0": "3167\r"
                                },
                                {
                                    "0": "1712\r"
                                },
                                {
                                    "0": "6222\r"
                                },
                                {
                                    "0": "6007\r"
                                },
                                {
                                    "0": "4141\r"
                                },
                                {
                                    "0": "1481\r"
                                },
                                {
                                    "0": "6198\r"
                                },
                                {
                                    "0": "4476\r"
                                },
                                {
                                    "0": "3850\r"
                                },
                                {
                                    "0": "3885\r"
                                },
                                {
                                    "0": "5880\r"
                                },
                                {
                                    "0": "\r"
                                },
                                {
                                    "0": "1833\r"
                                },
                                {
                                    "0": "5557\r"
                                },
                                {
                                    "0": "3185\r"
                                },
                                {
                                    "0": "6117\r"
                                },
                                {
                                    "0": "3456\r"
                                },
                                {
                                    "0": "2789\r"
                                },
                                {
                                    "0": "4576\r"
                                },
                                {
                                    "0": "1439\r"
                                },
                                {
                                    "0": "3212\r"
                                },
                                {
                                    "0": "5223\r"
                                },
                                {
                                    "0": "2687\r"
                                },
                                {
                                    "0": "2368\r"
                                },
                                {
                                    "0": "3270\r"
                                },
                                {
                                    "0": "4629\r"
                                },
                                {
                                    "0": "4716\r"
                                },
                                {
                                    "0": "\r"
                                },
                                {
                                    "0": "10123\r"
                                },
                                {
                                    "0": "6686\r"
                                },
                                {
                                    "0": "12658\r"
                                },
                                {
                                    "0": "\r"
                                },
                                {
                                    "0": "6838\r"
                                },
                                {
                                    "0": "4415\r"
                                },
                                {
                                    "0": "10796\r"
                                },
                                {
                                    "0": "6040\r"
                                },
                                {
                                    "0": "3065\r"
                                },
                                {
                                    "0": "1832\r"
                                },
                                {
                                    "0": "11624\r"
                                },
                                {
                                    "0": "\r"
                                },
                                {
                                    "0": "69368\r"
                                },
                                {
                                    "0": "\r"
                                },
                                {
                                    "0": "5469\r"
                                },
                                {
                                    "0": "8816\r"
                                },
                                {
                                    "0": "7624\r"
                                },
                                {
                                    "0": "13506\r"
                                },
                                {
                                    "0": "\r"
                                },
                                {
                                    "0": "8923\r"
                                },
                                {
                                    "0": "1621\r"
                                },
                                {
                                    "0": "10042\r"
                                },
                                {
                                    "0": "\r"
                                },
                                {
                                    "0": "6113\r"
                                },
                                {
                                    "0": "9373\r"
                                },
                                {
                                    "0": "9212\r"
                                },
                                {
                                    "0": "7054\r"
                                },
                                {
                                    "0": "3193\r"
                                },
                                {
                                    "0": "6588\r"
                                },
                                {
                                    "0": "7743\r"
                                },
                                {
                                    "0": "4224\r"
                                },
                                {
                                    "0": "4983\r"
                                },
                                {
                                    "0": "\r"
                                },
                                {
                                    "0": "1911\r"
                                },
                                {
                                    "0": "1589\r"
                                },
                                {
                                    "0": "2667\r"
                                },
                                {
                                    "0": "3095\r"
                                },
                                {
                                    "0": "3768\r"
                                },
                                {
                                    "0": "5898\r"
                                },
                                {
                                    "0": "4574\r"
                                },
                                {
                                    "0": "3456\r"
                                },
                                {
                                    "0": "3281\r"
                                },
                                {
                                    "0": "4176\r"
                                },
                                {
                                    "0": "1591\r"
                                },
                                {
                                    "0": "3383\r"
                                },
                                {
                                    "0": "5063\r"
                                },
                                {
                                    "0": "\r"
                                },
                                {
                                    "0": "1378\r"
                                },
                                {
                                    "0": "5923\r"
                                },
                                {
                                    "0": "9019\r"
                                },
                                {
                                    "0": "4379\r"
                                },
                                {
                                    "0": "2932\r"
                                },
                                {
                                    "0": "3918\r"
                                },
                                {
                                    "0": "9631\r"
                                },
                                {
                                    "0": "\r"
                                },
                                {
                                    "0": "7851\r"
                                },
                                {
                                    "0": "6466\r"
                                },
                                {
                                    "0": "2388\r"
                                },
                                {
                                    "0": "13209\r"
                                },
                                {
                                    "0": "7613\r"
                                },
                                {
                                    "0": "2396\r"
                                },
                                {
                                    "0": "\r"
                                },
                                {
                                    "0": "3015\r"
                                },
                                {
                                    "0": "1119\r"
                                },
                                {
                                    "0": "4172\r"
                                },
                                {
                                    "0": "2459\r"
                                },
                                {
                                    "0": "3872\r"
                                },
                                {
                                    "0": "5912\r"
                                },
                                {
                                    "0": "4012\r"
                                },
                                {
                                    "0": "2894\r"
                                },
                                {
                                    "0": "2765\r"
                                },
                                {
                                    "0": "1950\r"
                                },
                                {
                                    "0": "4147\r"
                                },
                                {
                                    "0": "4523\r"
                                },
                                {
                                    "0": "2504\r"
                                },
                                {
                                    "0": "4691\r"
                                },
                                {
                                    "0": "2038\r"
                                },
                                {
                                    "0": "\r"
                                },
                                {
                                    "0": "4472\r"
                                },
                                {
                                    "0": "5029\r"
                                },
                                {
                                    "0": "3599\r"
                                },
                                {
                                    "0": "6237\r"
                                },
                                {
                                    "0": "8566\r"
                                },
                                {
                                    "0": "3508\r"
                                },
                                {
                                    "0": "7995\r"
                                },
                                {
                                    "0": "3756\r"
                                },
                                {
                                    "0": "6631\r"
                                },
                                {
                                    "0": "3625\r"
                                },
                                {
                                    "0": "\r"
                                },
                                {
                                    "0": "16549\r"
                                },
                                {
                                    "0": "15550\r"
                                },
                                {
                                    "0": "22868\r"
                                },
                                {
                                    "0": "\r"
                                },
                                {
                                    "0": "7356\r"
                                },
                                {
                                    "0": "11800\r"
                                },
                                {
                                    "0": "8330\r"
                                },
                                {
                                    "0": "14503\r"
                                },
                                {
                                    "0": "9470\r"
                                },
                                {
                                    "0": "\r"
                                },
                                {
                                    "0": "1306\r"
                                },
                                {
                                    "0": "1960\r"
                                },
                                {
                                    "0": "6574\r"
                                },
                                {
                                    "0": "7234\r"
                                },
                                {
                                    "0": "3841\r"
                                },
                                {
                                    "0": "1006\r"
                                },
                                {
                                    "0": "4156\r"
                                },
                                {
                                    "0": "2019\r"
                                },
                                {
                                    "0": "6187\r"
                                },
                                {
                                    "0": "2494\r"
                                },
                                {
                                    "0": "7475\r"
                                },
                                {
                                    "0": "5916\r"
                                },
                                {
                                    "0": "\r"
                                },
                                {
                                    "0": "8894\r"
                                },
                                {
                                    "0": "9358\r"
                                },
                                {
                                    "0": "9666\r"
                                },
                                {
                                    "0": "8711\r"
                                },
                                {
                                    "0": "10140\r"
                                },
                                {
                                    "0": "11205\r"
                                },
                                {
                                    "0": "\r"
                                },
                                {
                                    "0": "8123\r"
                                },
                                {
                                    "0": "19317\r"
                                },
                                {
                                    "0": "11676\r"
                                },
                                {
                                    "0": "7989\r"
                                },
                                {
                                    "0": "\r"
                                },
                                {
                                    "0": "7610\r"
                                },
                                {
                                    "0": "3163\r"
                                },
                                {
                                    "0": "9789\r"
                                },
                                {
                                    "0": "6331\r"
                                },
                                {
                                    "0": "6998\r"
                                },
                                {
                                    "0": "7288\r"
                                },
                                {
                                    "0": "4632\r"
                                },
                                {
                                    "0": "5340\r"
                                },
                                {
                                    "0": "\r"
                                },
                                {
                                    "0": "7105\r"
                                },
                                {
                                    "0": "15276\r"
                                },
                                {
                                    "0": "22300\r"
                                },
                                {
                                    "0": "\r"
                                },
                                {
                                    "0": "11919\r"
                                },
                                {
                                    "0": "6212\r"
                                },
                                {
                                    "0": "5062\r"
                                },
                                {
                                    "0": "\r"
                                },
                                {
                                    "0": "18496\r"
                                },
                                {
                                    "0": "10383\r"
                                },
                                {
                                    "0": "10695\r"
                                },
                                {
                                    "0": "4206\r"
                                },
                                {
                                    "0": "\r"
                                },
                                {
                                    "0": "8127\r"
                                },
                                {
                                    "0": "2277\r"
                                },
                                {
                                    "0": "10392\r"
                                },
                                {
                                    "0": "1337\r"
                                },
                                {
                                    "0": "2779\r"
                                },
                                {
                                    "0": "5380\r"
                                },
                                {
                                    "0": "3881\r"
                                },
                                {
                                    "0": "6556\r"
                                },
                                {
                                    "0": "\r"
                                },
                                {
                                    "0": "5514\r"
                                },
                                {
                                    "0": "6678\r"
                                },
                                {
                                    "0": "2324\r"
                                },
                                {
                                    "0": "4686\r"
                                },
                                {
                                    "0": "3807\r"
                                },
                                {
                                    "0": "4785\r"
                                },
                                {
                                    "0": "3972\r"
                                },
                                {
                                    "0": "\r"
                                },
                                {
                                    "0": "1488\r"
                                },
                                {
                                    "0": "3662\r"
                                },
                                {
                                    "0": "4866\r"
                                },
                                {
                                    "0": "2687\r"
                                },
                                {
                                    "0": "3519\r"
                                },
                                {
                                    "0": "2605\r"
                                },
                                {
                                    "0": "5189\r"
                                },
                                {
                                    "0": "5313\r"
                                },
                                {
                                    "0": "4112\r"
                                },
                                {
                                    "0": "2559\r"
                                },
                                {
                                    "0": "1887\r"
                                },
                                {
                                    "0": "5656\r"
                                },
                                {
                                    "0": "5931\r"
                                },
                                {
                                    "0": "1816\r"
                                },
                                {
                                    "0": "\r"
                                },
                                {
                                    "0": "9949\r"
                                },
                                {
                                    "0": "11409\r"
                                },
                                {
                                    "0": "8427\r"
                                },
                                {
                                    "0": "15008\r"
                                },
                                {
                                    "0": "2241\r"
                                },
                                {
                                    "0": "\r"
                                },
                                {
                                    "0": "1942\r"
                                },
                                {
                                    "0": "1004\r"
                                },
                                {
                                    "0": "1070\r"
                                },
                                {
                                    "0": "5860\r"
                                },
                                {
                                    "0": "4932\r"
                                },
                                {
                                    "0": "4055\r"
                                },
                                {
                                    "0": "2922\r"
                                },
                                {
                                    "0": "5129\r"
                                },
                                {
                                    "0": "1232\r"
                                },
                                {
                                    "0": "4940\r"
                                },
                                {
                                    "0": "5270\r"
                                },
                                {
                                    "0": "1023\r"
                                },
                                {
                                    "0": "5323\r"
                                },
                                {
                                    "0": "2002\r"
                                },
                                {
                                    "0": "2727\r"
                                },
                                {
                                    "0": "\r"
                                },
                                {
                                    "0": "48445\r"
                                },
                                {
                                    "0": "\r"
                                },
                                {
                                    "0": "6687\r"
                                },
                                {
                                    "0": "4155\r"
                                },
                                {
                                    "0": "2999\r"
                                },
                                {
                                    "0": "3348\r"
                                },
                                {
                                    "0": "\r"
                                },
                                {
                                    "0": "5347\r"
                                },
                                {
                                    "0": "4592\r"
                                },
                                {
                                    "0": "1463\r"
                                },
                                {
                                    "0": "3080\r"
                                },
                                {
                                    "0": "3520\r"
                                },
                                {
                                    "0": "5283\r"
                                },
                                {
                                    "0": "3166\r"
                                },
                                {
                                    "0": "2945\r"
                                },
                                {
                                    "0": "2891\r"
                                },
                                {
                                    "0": "1100\r"
                                },
                                {
                                    "0": "5372\r"
                                },
                                {
                                    "0": "5797\r"
                                },
                                {
                                    "0": "3060\r"
                                },
                                {
                                    "0": "5748\r"
                                },
                                {
                                    "0": "5592\r"
                                },
                                {
                                    "0": "\r"
                                },
                                {
                                    "0": "8132\r"
                                },
                                {
                                    "0": "3941\r"
                                },
                                {
                                    "0": "7625\r"
                                },
                                {
                                    "0": "4458\r"
                                },
                                {
                                    "0": "2714\r"
                                },
                                {
                                    "0": "7390\r"
                                },
                                {
                                    "0": "4305\r"
                                },
                                {
                                    "0": "1612\r"
                                },
                                {
                                    "0": "6707\r"
                                },
                                {
                                    "0": "\r"
                                },
                                {
                                    "0": "2105\r"
                                },
                                {
                                    "0": "2880\r"
                                },
                                {
                                    "0": "6683\r"
                                },
                                {
                                    "0": "6257\r"
                                },
                                {
                                    "0": "6472\r"
                                },
                                {
                                    "0": "1371\r"
                                },
                                {
                                    "0": "3493\r"
                                },
                                {
                                    "0": "1542\r"
                                },
                                {
                                    "0": "4431\r"
                                },
                                {
                                    "0": "5003\r"
                                },
                                {
                                    "0": "3276\r"
                                },
                                {
                                    "0": "2205\r"
                                },
                                {
                                    "0": "3417\r"
                                },
                                {
                                    "0": "\r"
                                },
                                {
                                    "0": "6421\r"
                                },
                                {
                                    "0": "4279\r"
                                },
                                {
                                    "0": "1213\r"
                                },
                                {
                                    "0": "6274\r"
                                },
                                {
                                    "0": "3757\r"
                                },
                                {
                                    "0": "6856\r"
                                },
                                {
                                    "0": "3244\r"
                                },
                                {
                                    "0": "1554\r"
                                },
                                {
                                    "0": "2716\r"
                                },
                                {
                                    "0": "1854\r"
                                },
                                {
                                    "0": "1924\r"
                                },
                                {
                                    "0": "3769\r"
                                },
                                {
                                    "0": "6344\r"
                                },
                                {
                                    "0": "\r"
                                },
                                {
                                    "0": "1081\r"
                                },
                                {
                                    "0": "2601\r"
                                },
                                {
                                    "0": "2607\r"
                                },
                                {
                                    "0": "6042\r"
                                },
                                {
                                    "0": "1967\r"
                                },
                                {
                                    "0": "2924\r"
                                },
                                {
                                    "0": "4656\r"
                                },
                                {
                                    "0": "6462\r"
                                },
                                {
                                    "0": "1747\r"
                                },
                                {
                                    "0": "4278\r"
                                },
                                {
                                    "0": "6384\r"
                                },
                                {
                                    "0": "4427\r"
                                },
                                {
                                    "0": "5074\r"
                                },
                                {
                                    "0": "6454\r"
                                },
                                {
                                    "0": "\r"
                                },
                                {
                                    "0": "6344\r"
                                },
                                {
                                    "0": "13912\r"
                                },
                                {
                                    "0": "15708\r"
                                },
                                {
                                    "0": "1335\r"
                                },
                                {
                                    "0": "5433\r"
                                },
                                {
                                    "0": "\r"
                                },
                                {
                                    "0": "5862\r"
                                },
                                {
                                    "0": "7799\r"
                                },
                                {
                                    "0": "3707\r"
                                },
                                {
                                    "0": "9404\r"
                                },
                                {
                                    "0": "10527\r"
                                },
                                {
                                    "0": "10543\r"
                                },
                                {
                                    "0": "6428\r"
                                },
                                {
                                    "0": "\r"
                                },
                                {
                                    "0": "2009\r"
                                },
                                {
                                    "0": "17261\r"
                                },
                                {
                                    "0": "13328\r"
                                },
                                {
                                    "0": "\r"
                                },
                                {
                                    "0": "10389\r"
                                },
                                {
                                    "0": "9214\r"
                                },
                                {
                                    "0": "9189\r"
                                },
                                {
                                    "0": "8747\r"
                                },
                                {
                                    "0": "12720\r"
                                },
                                {
                                    "0": "9443\r"
                                },
                                {
                                    "0": "\r"
                                },
                                {
                                    "0": "7162\r"
                                },
                                {
                                    "0": "2362\r"
                                },
                                {
                                    "0": "3837\r"
                                },
                                {
                                    "0": "8891\r"
                                },
                                {
                                    "0": "2098\r"
                                },
                                {
                                    "0": "8577\r"
                                },
                                {
                                    "0": "9063\r"
                                },
                                {
                                    "0": "3336\r"
                                },
                                {
                                    "0": "5023\r"
                                },
                                {
                                    "0": "\r"
                                },
                                {
                                    "0": "1322\r"
                                },
                                {
                                    "0": "12214\r"
                                },
                                {
                                    "0": "5387\r"
                                },
                                {
                                    "0": "9804\r"
                                },
                                {
                                    "0": "9542\r"
                                },
                                {
                                    "0": "6149\r"
                                },
                                {
                                    "0": "\r"
                                },
                                {
                                    "0": "1997\r"
                                },
                                {
                                    "0": "6709\r"
                                },
                                {
                                    "0": "6614\r"
                                },
                                {
                                    "0": "5116\r"
                                },
                                {
                                    "0": "6691\r"
                                },
                                {
                                    "0": "5904\r"
                                },
                                {
                                    "0": "5563\r"
                                },
                                {
                                    "0": "2437\r"
                                },
                                {
                                    "0": "4442\r"
                                },
                                {
                                    "0": "7346\r"
                                },
                                {
                                    "0": "5749\r"
                                },
                                {
                                    "0": "7194\r"
                                },
                                {
                                    "0": "\r"
                                },
                                {
                                    "0": "5836\r"
                                },
                                {
                                    "0": "15439\r"
                                },
                                {
                                    "0": "9020\r"
                                },
                                {
                                    "0": "9124\r"
                                },
                                {
                                    "0": "\r"
                                },
                                {
                                    "0": "6761\r"
                                },
                                {
                                    "0": "4892\r"
                                },
                                {
                                    "0": "5956\r"
                                },
                                {
                                    "0": "2500\r"
                                },
                                {
                                    "0": "6879\r"
                                },
                                {
                                    "0": "1980\r"
                                },
                                {
                                    "0": "1908\r"
                                },
                                {
                                    "0": "1705\r"
                                },
                                {
                                    "0": "6157\r"
                                },
                                {
                                    "0": "4559\r"
                                },
                                {
                                    "0": "5776\r"
                                },
                                {
                                    "0": "1235\r"
                                },
                                {
                                    "0": "3077\r"
                                },
                                {
                                    "0": "\r"
                                },
                                {
                                    "0": "10155\r"
                                },
                                {
                                    "0": "8529\r"
                                },
                                {
                                    "0": "7837\r"
                                },
                                {
                                    "0": "7027\r"
                                },
                                {
                                    "0": "7897\r"
                                },
                                {
                                    "0": "6504\r"
                                },
                                {
                                    "0": "4192\r"
                                },
                                {
                                    "0": "7193\r"
                                },
                                {
                                    "0": "\r"
                                },
                                {
                                    "0": "9711\r"
                                },
                                {
                                    "0": "17664\r"
                                },
                                {
                                    "0": "4069\r"
                                },
                                {
                                    "0": "10400\r"
                                },
                                {
                                    "0": "\r"
                                },
                                {
                                    "0": "24373\r"
                                },
                                {
                                    "0": "20215\r"
                                },
                                {
                                    "0": "\r"
                                },
                                {
                                    "0": "2155\r"
                                },
                                {
                                    "0": "9371\r"
                                },
                                {
                                    "0": "9201\r"
                                },
                                {
                                    "0": "5590\r"
                                },
                                {
                                    "0": "9806\r"
                                },
                                {
                                    "0": "13380\r"
                                },
                                {
                                    "0": "\r"
                                },
                                {
                                    "0": "7716\r"
                                },
                                {
                                    "0": "1116\r"
                                },
                                {
                                    "0": "6106\r"
                                },
                                {
                                    "0": "2703\r"
                                },
                                {
                                    "0": "2403\r"
                                },
                                {
                                    "0": "3549\r"
                                },
                                {
                                    "0": "3740\r"
                                },
                                {
                                    "0": "6658\r"
                                },
                                {
                                    "0": "4769\r"
                                },
                                {
                                    "0": "\r"
                                },
                                {
                                    "0": "13954\r"
                                },
                                {
                                    "0": "36130\r"
                                },
                                {
                                    "0": "\r"
                                },
                                {
                                    "0": "1767\r"
                                },
                                {
                                    "0": "7955\r"
                                },
                                {
                                    "0": "5622\r"
                                },
                                {
                                    "0": "5077\r"
                                },
                                {
                                    "0": "2512\r"
                                },
                                {
                                    "0": "8206\r"
                                },
                                {
                                    "0": "4501\r"
                                },
                                {
                                    "0": "2917\r"
                                },
                                {
                                    "0": "9336\r"
                                },
                                {
                                    "0": "\r"
                                },
                                {
                                    "0": "1601\r"
                                },
                                {
                                    "0": "23493\r"
                                },
                                {
                                    "0": "16981\r"
                                },
                                {
                                    "0": "\r"
                                },
                                {
                                    "0": "3719\r"
                                },
                                {
                                    "0": "2266\r"
                                },
                                {
                                    "0": "1982\r"
                                },
                                {
                                    "0": "4557\r"
                                },
                                {
                                    "0": "3198\r"
                                },
                                {
                                    "0": "3815\r"
                                },
                                {
                                    "0": "5006\r"
                                },
                                {
                                    "0": "2587\r"
                                },
                                {
                                    "0": "4173\r"
                                },
                                {
                                    "0": "2965\r"
                                },
                                {
                                    "0": "2658\r"
                                },
                                {
                                    "0": "4890\r"
                                },
                                {
                                    "0": "5723\r"
                                },
                                {
                                    "0": "4231\r"
                                },
                                {
                                    "0": "\r"
                                },
                                {
                                    "0": "19350\r"
                                },
                                {
                                    "0": "\r"
                                },
                                {
                                    "0": "19637\r"
                                },
                                {
                                    "0": "13784\r"
                                },
                                {
                                    "0": "21672\r"
                                },
                                {
                                    "0": "\r"
                                },
                                {
                                    "0": "17040\r"
                                },
                                {
                                    "0": "29745\r"
                                },
                                {
                                    "0": "\r"
                                },
                                {
                                    "0": "2037\r"
                                },
                                {
                                    "0": "7872\r"
                                },
                                {
                                    "0": "5766\r"
                                },
                                {
                                    "0": "7919\r"
                                },
                                {
                                    "0": "1382\r"
                                },
                                {
                                    "0": "9398\r"
                                },
                                {
                                    "0": "3197\r"
                                },
                                {
                                    "0": "\r"
                                },
                                {
                                    "0": "11570\r"
                                },
                                {
                                    "0": "12560\r"
                                },
                                {
                                    "0": "6206\r"
                                },
                                {
                                    "0": "12642\r"
                                },
                                {
                                    "0": "3275\r"
                                },
                                {
                                    "0": "\r"
                                },
                                {
                                    "0": "1535\r"
                                },
                                {
                                    "0": "6685\r"
                                },
                                {
                                    "0": "5587\r"
                                },
                                {
                                    "0": "12955\r"
                                },
                                {
                                    "0": "12197\r"
                                },
                                {
                                    "0": "\r"
                                },
                                {
                                    "0": "2980\r"
                                },
                                {
                                    "0": "15784\r"
                                },
                                {
                                    "0": "12178\r"
                                },
                                {
                                    "0": "12996\r"
                                },
                                {
                                    "0": "\r"
                                },
                                {
                                    "0": "7928\r"
                                },
                                {
                                    "0": "8780\r"
                                },
                                {
                                    "0": "7528\r"
                                },
                                {
                                    "0": "5428\r"
                                },
                                {
                                    "0": "8181\r"
                                },
                                {
                                    "0": "8527\r"
                                },
                                {
                                    "0": "5229\r"
                                },
                                {
                                    "0": "3850\r"
                                },
                                {
                                    "0": "2012\r"
                                },
                                {
                                    "0": "2975\r"
                                },
                                {
                                    "0": "\r"
                                },
                                {
                                    "0": "30992\r"
                                },
                                {
                                    "0": "26372\r"
                                },
                                {
                                    "0": "\r"
                                },
                                {
                                    "0": "4384\r"
                                },
                                {
                                    "0": "2425\r"
                                },
                                {
                                    "0": "2332\r"
                                },
                                {
                                    "0": "1309\r"
                                },
                                {
                                    "0": "3899\r"
                                },
                                {
                                    "0": "3062\r"
                                },
                                {
                                    "0": "4825\r"
                                },
                                {
                                    "0": "1428\r"
                                },
                                {
                                    "0": "1116\r"
                                },
                                {
                                    "0": "3635\r"
                                },
                                {
                                    "0": "1669\r"
                                },
                                {
                                    "0": "1922\r"
                                },
                                {
                                    "0": "5941\r"
                                },
                                {
                                    "0": "4378\r"
                                },
                                {
                                    "0": "2742\r"
                                },
                                {
                                    "0": "\r"
                                },
                                {
                                    "0": "1961\r"
                                },
                                {
                                    "0": "4243\r"
                                },
                                {
                                    "0": "4443\r"
                                },
                                {
                                    "0": "3070\r"
                                },
                                {
                                    "0": "5786\r"
                                },
                                {
                                    "0": "3638\r"
                                },
                                {
                                    "0": "6330\r"
                                },
                                {
                                    "0": "2461\r"
                                },
                                {
                                    "0": "1612\r"
                                },
                                {
                                    "0": "4572\r"
                                },
                                {
                                    "0": "3551\r"
                                },
                                {
                                    "0": "3831\r"
                                },
                                {
                                    "0": "3263\r"
                                },
                                {
                                    "0": "6173\r"
                                },
                                {
                                    "0": "\r"
                                },
                                {
                                    "0": "2759\r"
                                },
                                {
                                    "0": "3889\r"
                                },
                                {
                                    "0": "5197\r"
                                },
                                {
                                    "0": "4293\r"
                                },
                                {
                                    "0": "2957\r"
                                },
                                {
                                    "0": "6305\r"
                                },
                                {
                                    "0": "3797\r"
                                },
                                {
                                    "0": "1465\r"
                                },
                                {
                                    "0": "4674\r"
                                },
                                {
                                    "0": "5659\r"
                                },
                                {
                                    "0": "5258\r"
                                },
                                {
                                    "0": "3775\r"
                                },
                                {
                                    "0": "4436\r"
                                },
                                {
                                    "0": "2260\r"
                                },
                                {
                                    "0": "\r"
                                },
                                {
                                    "0": "5141\r"
                                },
                                {
                                    "0": "8383\r"
                                },
                                {
                                    "0": "6249\r"
                                },
                                {
                                    "0": "9982\r"
                                },
                                {
                                    "0": "4848\r"
                                },
                                {
                                    "0": "2675\r"
                                },
                                {
                                    "0": "4232\r"
                                },
                                {
                                    "0": "8974\r"
                                },
                                {
                                    "0": "\r"
                                },
                                {
                                    "0": "11489\r"
                                },
                                {
                                    "0": "11733\r"
                                },
                                {
                                    "0": "9990\r"
                                },
                                {
                                    "0": "4150\r"
                                },
                                {
                                    "0": "4533\r"
                                },
                                {
                                    "0": "3032\r"
                                },
                                {
                                    "0": "1044\r"
                                },
                                {
                                    "0": "\r"
                                },
                                {
                                    "0": "62338\r"
                                },
                                {
                                    "0": "\r"
                                },
                                {
                                    "0": "3645\r"
                                },
                                {
                                    "0": "5406\r"
                                },
                                {
                                    "0": "4672\r"
                                },
                                {
                                    "0": "3889\r"
                                },
                                {
                                    "0": "5799\r"
                                },
                                {
                                    "0": "5760\r"
                                },
                                {
                                    "0": "4356\r"
                                },
                                {
                                    "0": "5557\r"
                                },
                                {
                                    "0": "4120\r"
                                },
                                {
                                    "0": "2771\r"
                                },
                                {
                                    "0": "3399\r"
                                },
                                {
                                    "0": "5292\r"
                                },
                                {
                                    "0": "3640\r"
                                },
                                {
                                    "0": "3989\r"
                                },
                                {
                                    "0": "6047\r"
                                },
                                {
                                    "0": "\r"
                                },
                                {
                                    "0": "4629\r"
                                },
                                {
                                    "0": "6897\r"
                                },
                                {
                                    "0": "4312\r"
                                },
                                {
                                    "0": "2108\r"
                                },
                                {
                                    "0": "5301\r"
                                },
                                {
                                    "0": "1122\r"
                                },
                                {
                                    "0": "1893\r"
                                },
                                {
                                    "0": "5508\r"
                                },
                                {
                                    "0": "3414\r"
                                },
                                {
                                    "0": "2180\r"
                                },
                                {
                                    "0": "4254"
                                }
                            ]
                        },
                        "text/html": "<table><tr><th>value</th></tr><tr><td>6758\r</td></tr><tr><td>5199\r</td></tr><tr><td>10292\r</td></tr><tr><td>8812\r</td></tr><tr><td>3527\r</td></tr><tr><td>10178\r</td></tr><tr><td>1340\r</td></tr><tr><td>2824\r</td></tr><tr><td>\r</td></tr><tr><td>62522\r</td></tr><tr><td>\r</td></tr><tr><td>22990\r</td></tr><tr><td>\r</td></tr><tr><td>6730\r</td></tr><tr><td>\r</td></tr><tr><td>7255\r</td></tr><tr><td>3210\r</td></tr><tr><td>3003\r</td></tr><tr><td>8296\r</td></tr><tr><td>8799\r</td></tr><tr><td>7655\r</td></tr><tr><td>10312\r</td></tr><tr><td>\r</td></tr><tr><td>18837\r</td></tr><tr><td>19882\r</td></tr><tr><td>5386\r</td></tr><tr><td>15891\r</td></tr><tr><td>\r</td></tr><tr><td>4203\r</td></tr><tr><td>36288\r</td></tr><tr><td>\r</td></tr><tr><td>1586\r</td></tr><tr><td>2295\r</td></tr><tr><td>4981\r</td></tr><tr><td>2109\r</td></tr><tr><td>2284\r</td></tr><tr><td>5814\r</td></tr><tr><td>4823\r</td></tr><tr><td>5492\r</td></tr><tr><td>1524\r</td></tr><tr><td>5286\r</td></tr><tr><td>2147\r</td></tr><tr><td>2952\r</td></tr><tr><td>4783\r</td></tr><tr><td>4814\r</td></tr><tr><td>3042\r</td></tr><tr><td>\r</td></tr><tr><td>8474\r</td></tr><tr><td>4059\r</td></tr><tr><td>14465\r</td></tr><tr><td>13390\r</td></tr><tr><td>\r</td></tr><tr><td>4623\r</td></tr><tr><td>2150\r</td></tr><tr><td>7545\r</td></tr><tr><td>7833\r</td></tr><tr><td>3686\r</td></tr><tr><td>2095\r</td></tr><tr><td>3336\r</td></tr><tr><td>5030\r</td></tr><tr><td>7648\r</td></tr><tr><td>4087\r</td></tr><tr><td>4482\r</td></tr><tr><td>\r</td></tr><tr><td>31278\r</td></tr><tr><td>29863\r</td></tr><tr><td>\r</td></tr><tr><td>1228\r</td></tr><tr><td>4851\r</td></tr><tr><td>2706\r</td></tr><tr><td>1692\r</td></tr><tr><td>3200\r</td></tr><tr><td>3521\r</td></tr><tr><td>5200\r</td></tr><tr><td>3755\r</td></tr><tr><td>3922\r</td></tr><tr><td>5181\r</td></tr><tr><td>5561\r</td></tr><tr><td>5162\r</td></tr><tr><td>5280\r</td></tr><tr><td>2460\r</td></tr><tr><td>\r</td></tr><tr><td>1083\r</td></tr><tr><td>4432\r</td></tr><tr><td>4938\r</td></tr><tr><td>4303\r</td></tr><tr><td>6304\r</td></tr><tr><td>3746\r</td></tr><tr><td>3527\r</td></tr><tr><td>3141\r</td></tr><tr><td>3198\r</td></tr><tr><td>4980\r</td></tr><tr><td>4395\r</td></tr><tr><td>\r</td></tr><tr><td>8218\r</td></tr><tr><td>3954\r</td></tr><tr><td>1396\r</td></tr><tr><td>2147\r</td></tr><tr><td>7924\r</td></tr><tr><td>4650\r</td></tr><tr><td>4483\r</td></tr><tr><td>6610\r</td></tr><tr><td>4799\r</td></tr><tr><td>3973\r</td></tr><tr><td>\r</td></tr><tr><td>3401\r</td></tr><tr><td>4111\r</td></tr><tr><td>7798\r</td></tr><tr><td>5181\r</td></tr><tr><td>8418\r</td></tr><tr><td>5014\r</td></tr><tr><td>5975\r</td></tr><tr><td>7916\r</td></tr><tr><td>7788\r</td></tr><tr><td>1864\r</td></tr><tr><td>\r</td></tr><tr><td>8547\r</td></tr><tr><td>13217\r</td></tr><tr><td>9699\r</td></tr><tr><td>5701\r</td></tr><tr><td>11040\r</td></tr><tr><td>2943\r</td></tr><tr><td>\r</td></tr><tr><td>6214\r</td></tr><tr><td>3287\r</td></tr><tr><td>4137\r</td></tr><tr><td>6773\r</td></tr><tr><td>2593\r</td></tr><tr><td>4776\r</td></tr><tr><td>1687\r</td></tr><tr><td>2821\r</td></tr><tr><td>7240\r</td></tr><tr><td>3681\r</td></tr><tr><td>1185\r</td></tr><tr><td>6578\r</td></tr><tr><td>\r</td></tr><tr><td>7850\r</td></tr><tr><td>6697\r</td></tr><tr><td>4844\r</td></tr><tr><td>2325\r</td></tr><tr><td>1834\r</td></tr><tr><td>6812\r</td></tr><tr><td>3380\r</td></tr><tr><td>2302\r</td></tr><tr><td>2531\r</td></tr><tr><td>4959\r</td></tr><tr><td>\r</td></tr><tr><td>5275\r</td></tr><tr><td>1883\r</td></tr><tr><td>6919\r</td></tr><tr><td>2865\r</td></tr><tr><td>7943\r</td></tr><tr><td>7718\r</td></tr><tr><td>9494\r</td></tr><tr><td>7957\r</td></tr><tr><td>\r</td></tr><tr><td>28727\r</td></tr><tr><td>22865\r</td></tr><tr><td>\r</td></tr><tr><td>3064\r</td></tr><tr><td>4279\r</td></tr><tr><td>2649\r</td></tr><tr><td>12521\r</td></tr><tr><td>\r</td></tr><tr><td>10169\r</td></tr><tr><td>16383\r</td></tr><tr><td>3301\r</td></tr><tr><td>12707\r</td></tr><tr><td>\r</td></tr><tr><td>3533\r</td></tr><tr><td>2280\r</td></tr><tr><td>9232\r</td></tr><tr><td>10618\r</td></tr><tr><td>1488\r</td></tr><tr><td>7616\r</td></tr><tr><td>4334\r</td></tr><tr><td>7847\r</td></tr><tr><td>\r</td></tr><tr><td>4322\r</td></tr><tr><td>1215\r</td></tr><tr><td>3514\r</td></tr><tr><td>5513\r</td></tr><tr><td>3469\r</td></tr><tr><td>5472\r</td></tr><tr><td>3658\r</td></tr><tr><td>1096\r</td></tr><tr><td>3410\r</td></tr><tr><td>1607\r</td></tr><tr><td>5482\r</td></tr><tr><td>3015\r</td></tr><tr><td>5234\r</td></tr><tr><td>2488\r</td></tr><tr><td>\r</td></tr><tr><td>1306\r</td></tr><tr><td>8067\r</td></tr><tr><td>3375\r</td></tr><tr><td>4064\r</td></tr><tr><td>2943\r</td></tr><tr><td>6158\r</td></tr><tr><td>3911\r</td></tr><tr><td>7766\r</td></tr><tr><td>2493\r</td></tr><tr><td>4897\r</td></tr><tr><td>6551\r</td></tr><tr><td>\r</td></tr><tr><td>10694\r</td></tr><tr><td>13319\r</td></tr><tr><td>\r</td></tr><tr><td>10862\r</td></tr><tr><td>2483\r</td></tr><tr><td>8522\r</td></tr><tr><td>4509\r</td></tr><tr><td>5021\r</td></tr><tr><td>8789\r</td></tr><tr><td>6152\r</td></tr><tr><td>\r</td></tr><tr><td>7824\r</td></tr><tr><td>23812\r</td></tr><tr><td>6740\r</td></tr><tr><td>\r</td></tr><tr><td>6548\r</td></tr><tr><td>2116\r</td></tr><tr><td>14900\r</td></tr><tr><td>\r</td></tr><tr><td>3470\r</td></tr><tr><td>1825\r</td></tr><tr><td>2865\r</td></tr><tr><td>4691\r</td></tr><tr><td>4729\r</td></tr><tr><td>4263\r</td></tr><tr><td>4899\r</td></tr><tr><td>4855\r</td></tr><tr><td>3732\r</td></tr><tr><td>4439\r</td></tr><tr><td>5023\r</td></tr><tr><td>1291\r</td></tr><tr><td>3121\r</td></tr><tr><td>5322\r</td></tr><tr><td>\r</td></tr><tr><td>6529\r</td></tr><tr><td>\r</td></tr><tr><td>5141\r</td></tr><tr><td>2353\r</td></tr><tr><td>8515\r</td></tr><tr><td>9815\r</td></tr><tr><td>9541\r</td></tr><tr><td>10389\r</td></tr><tr><td>1114\r</td></tr><tr><td>1373\r</td></tr><tr><td>\r</td></tr><tr><td>11924\r</td></tr><tr><td>11446\r</td></tr><tr><td>20373\r</td></tr><tr><td>\r</td></tr><tr><td>37249\r</td></tr><tr><td>\r</td></tr><tr><td>5749\r</td></tr><tr><td>2968\r</td></tr><tr><td>5300\r</td></tr><tr><td>5405\r</td></tr><tr><td>7280\r</td></tr><tr><td>6161\r</td></tr><tr><td>4298\r</td></tr><tr><td>7104\r</td></tr><tr><td>7140\r</td></tr><tr><td>3405\r</td></tr><tr><td>5754\r</td></tr><tr><td>\r</td></tr><tr><td>4763\r</td></tr><tr><td>11364\r</td></tr><tr><td>7492\r</td></tr><tr><td>5630\r</td></tr><tr><td>15978\r</td></tr><tr><td>\r</td></tr><tr><td>3622\r</td></tr><tr><td>2185\r</td></tr><tr><td>12718\r</td></tr><tr><td>2466\r</td></tr><tr><td>5015\r</td></tr><tr><td>11302\r</td></tr><tr><td>\r</td></tr><tr><td>65579\r</td></tr><tr><td>\r</td></tr><tr><td>5450\r</td></tr><tr><td>6455\r</td></tr><tr><td>\r</td></tr><tr><td>5721\r</td></tr><tr><td>1939\r</td></tr><tr><td>8537\r</td></tr><tr><td>7075\r</td></tr><tr><td>1317\r</td></tr><tr><td>1805\r</td></tr><tr><td>1701\r</td></tr><tr><td>4578\r</td></tr><tr><td>8435\r</td></tr><tr><td>1718\r</td></tr><tr><td>\r</td></tr><tr><td>10692\r</td></tr><tr><td>6581\r</td></tr><tr><td>3068\r</td></tr><tr><td>9013\r</td></tr><tr><td>1741\r</td></tr><tr><td>4654\r</td></tr><tr><td>2159\r</td></tr><tr><td>5340\r</td></tr><tr><td>\r</td></tr><tr><td>4981\r</td></tr><tr><td>6327\r</td></tr><tr><td>6931\r</td></tr><tr><td>3024\r</td></tr><tr><td>1263\r</td></tr><tr><td>4313\r</td></tr><tr><td>6793\r</td></tr><tr><td>2818\r</td></tr><tr><td>6727\r</td></tr><tr><td>2245\r</td></tr><tr><td>4524\r</td></tr><tr><td>5825\r</td></tr><tr><td>\r</td></tr><tr><td>10156\r</td></tr><tr><td>11779\r</td></tr><tr><td>1694\r</td></tr><tr><td>7495\r</td></tr><tr><td>1615\r</td></tr><tr><td>8872\r</td></tr><tr><td>11840\r</td></tr><tr><td>\r</td></tr><tr><td>7323\r</td></tr><tr><td>7184\r</td></tr><tr><td>4094\r</td></tr><tr><td>3989\r</td></tr><tr><td>1820\r</td></tr><tr><td>2141\r</td></tr><tr><td>7277\r</td></tr><tr><td>3208\r</td></tr><tr><td>2064\r</td></tr><tr><td>7765\r</td></tr><tr><td>5764\r</td></tr><tr><td>\r</td></tr><tr><td>2796\r</td></tr><tr><td>3030\r</td></tr><tr><td>2783\r</td></tr><tr><td>3426\r</td></tr><tr><td>5581\r</td></tr><tr><td>1659\r</td></tr><tr><td>2369\r</td></tr><tr><td>2784\r</td></tr><tr><td>5284\r</td></tr><tr><td>4110\r</td></tr><tr><td>1157\r</td></tr><tr><td>3129\r</td></tr><tr><td>6088\r</td></tr><tr><td>2215\r</td></tr><tr><td>3503\r</td></tr><tr><td>\r</td></tr><tr><td>20991\r</td></tr><tr><td>1521\r</td></tr><tr><td>\r</td></tr><tr><td>1601\r</td></tr><tr><td>4869\r</td></tr><tr><td>9195\r</td></tr><tr><td>1835\r</td></tr><tr><td>5402\r</td></tr><tr><td>2721\r</td></tr><tr><td>1128\r</td></tr><tr><td>1991\r</td></tr><tr><td>9336\r</td></tr><tr><td>\r</td></tr><tr><td>2557\r</td></tr><tr><td>6635\r</td></tr><tr><td>6981\r</td></tr><tr><td>6296\r</td></tr><tr><td>5278\r</td></tr><tr><td>3077\r</td></tr><tr><td>7679\r</td></tr><tr><td>5764\r</td></tr><tr><td>2359\r</td></tr><tr><td>2467\r</td></tr><tr><td>6705\r</td></tr><tr><td>\r</td></tr><tr><td>2594\r</td></tr><tr><td>2611\r</td></tr><tr><td>3189\r</td></tr><tr><td>1436\r</td></tr><tr><td>1510\r</td></tr><tr><td>1341\r</td></tr><tr><td>8213\r</td></tr><tr><td>8525\r</td></tr><tr><td>5447\r</td></tr><tr><td>2045\r</td></tr><tr><td>\r</td></tr><tr><td>3812\r</td></tr><tr><td>2106\r</td></tr><tr><td>6216\r</td></tr><tr><td>3236\r</td></tr><tr><td>7169\r</td></tr><tr><td>5840\r</td></tr><tr><td>4770\r</td></tr><tr><td>1724\r</td></tr><tr><td>1061\r</td></tr><tr><td>5062\r</td></tr><tr><td>7990\r</td></tr><tr><td>\r</td></tr><tr><td>5722\r</td></tr><tr><td>4372\r</td></tr><tr><td>3524\r</td></tr><tr><td>1561\r</td></tr><tr><td>3417\r</td></tr><tr><td>5807\r</td></tr><tr><td>3969\r</td></tr><tr><td>3635\r</td></tr><tr><td>3067\r</td></tr><tr><td>3469\r</td></tr><tr><td>4393\r</td></tr><tr><td>1705\r</td></tr><tr><td>4897\r</td></tr><tr><td>4307\r</td></tr><tr><td>2663\r</td></tr><tr><td>\r</td></tr><tr><td>28920\r</td></tr><tr><td>3093\r</td></tr><tr><td>\r</td></tr><tr><td>12949\r</td></tr><tr><td>9070\r</td></tr><tr><td>9161\r</td></tr><tr><td>3530\r</td></tr><tr><td>6651\r</td></tr><tr><td>\r</td></tr><tr><td>12010\r</td></tr><tr><td>1783\r</td></tr><tr><td>21165\r</td></tr><tr><td>\r</td></tr><tr><td>4667\r</td></tr><tr><td>3553\r</td></tr><tr><td>6938\r</td></tr><tr><td>5433\r</td></tr><tr><td>3244\r</td></tr><tr><td>1082\r</td></tr><tr><td>7305\r</td></tr><tr><td>7262\r</td></tr><tr><td>6577\r</td></tr><tr><td>1987\r</td></tr><tr><td>2256\r</td></tr><tr><td>\r</td></tr><tr><td>4933\r</td></tr><tr><td>1802\r</td></tr><tr><td>1315\r</td></tr><tr><td>1303\r</td></tr><tr><td>1722\r</td></tr><tr><td>2688\r</td></tr><tr><td>6103\r</td></tr><tr><td>2749\r</td></tr><tr><td>1478\r</td></tr><tr><td>4994\r</td></tr><tr><td>4369\r</td></tr><tr><td>5074\r</td></tr><tr><td>5655\r</td></tr><tr><td>2827\r</td></tr><tr><td>3232\r</td></tr><tr><td>\r</td></tr><tr><td>1101\r</td></tr><tr><td>2284\r</td></tr><tr><td>4349\r</td></tr><tr><td>4868\r</td></tr><tr><td>3264\r</td></tr><tr><td>3227\r</td></tr><tr><td>1786\r</td></tr><tr><td>5233\r</td></tr><tr><td>6054\r</td></tr><tr><td>6144\r</td></tr><tr><td>3533\r</td></tr><tr><td>1841\r</td></tr><tr><td>1721\r</td></tr><tr><td>4775\r</td></tr><tr><td>\r</td></tr><tr><td>16514\r</td></tr><tr><td>\r</td></tr><tr><td>7282\r</td></tr><tr><td>7260\r</td></tr><tr><td>2423\r</td></tr><tr><td>1738\r</td></tr><tr><td>4498\r</td></tr><tr><td>5570\r</td></tr><tr><td>3862\r</td></tr><tr><td>3979\r</td></tr><tr><td>3845\r</td></tr><tr><td>4313\r</td></tr><tr><td>3249\r</td></tr><tr><td>5639\r</td></tr><tr><td>\r</td></tr><tr><td>7910\r</td></tr><tr><td>9862\r</td></tr><tr><td>7476\r</td></tr><tr><td>9103\r</td></tr><tr><td>2851\r</td></tr><tr><td>3634\r</td></tr><tr><td>8641\r</td></tr><tr><td>7369\r</td></tr><tr><td>\r</td></tr><tr><td>8574\r</td></tr><tr><td>1439\r</td></tr><tr><td>1442\r</td></tr><tr><td>12337\r</td></tr><tr><td>1387\r</td></tr><tr><td>7777\r</td></tr><tr><td>\r</td></tr><tr><td>18060\r</td></tr><tr><td>\r</td></tr><tr><td>10287\r</td></tr><tr><td>1924\r</td></tr><tr><td>4066\r</td></tr><tr><td>12275\r</td></tr><tr><td>14094\r</td></tr><tr><td>\r</td></tr><tr><td>4797\r</td></tr><tr><td>5061\r</td></tr><tr><td>2701\r</td></tr><tr><td>1391\r</td></tr><tr><td>6617\r</td></tr><tr><td>5870\r</td></tr><tr><td>4999\r</td></tr><tr><td>4150\r</td></tr><tr><td>2881\r</td></tr><tr><td>2667\r</td></tr><tr><td>2461\r</td></tr><tr><td>1978\r</td></tr><tr><td>1058\r</td></tr><tr><td>\r</td></tr><tr><td>12911\r</td></tr><tr><td>7290\r</td></tr><tr><td>9442\r</td></tr><tr><td>2875\r</td></tr><tr><td>5812\r</td></tr><tr><td>\r</td></tr><tr><td>13016\r</td></tr><tr><td>4985\r</td></tr><tr><td>2517\r</td></tr><tr><td>9758\r</td></tr><tr><td>11215\r</td></tr><tr><td>\r</td></tr><tr><td>2845\r</td></tr><tr><td>11805\r</td></tr><tr><td>6418\r</td></tr><tr><td>8128\r</td></tr><tr><td>1604\r</td></tr><tr><td>\r</td></tr><tr><td>9643\r</td></tr><tr><td>6574\r</td></tr><tr><td>6804\r</td></tr><tr><td>3575\r</td></tr><tr><td>9226\r</td></tr><tr><td>6276\r</td></tr><tr><td>1406\r</td></tr><tr><td>4493\r</td></tr><tr><td>8104\r</td></tr><tr><td>\r</td></tr><tr><td>11616\r</td></tr><tr><td>7196\r</td></tr><tr><td>5685\r</td></tr><tr><td>1267\r</td></tr><tr><td>3281\r</td></tr><tr><td>1250\r</td></tr><tr><td>7666\r</td></tr><tr><td>\r</td></tr><tr><td>9654\r</td></tr><tr><td>8646\r</td></tr><tr><td>7144\r</td></tr><tr><td>2790\r</td></tr><tr><td>7583\r</td></tr><tr><td>2681\r</td></tr><tr><td>1799\r</td></tr><tr><td>5301\r</td></tr><tr><td>1714\r</td></tr><tr><td>\r</td></tr><tr><td>30086\r</td></tr><tr><td>23066\r</td></tr><tr><td>\r</td></tr><tr><td>10205\r</td></tr><tr><td>7316\r</td></tr><tr><td>1550\r</td></tr><tr><td>4056\r</td></tr><tr><td>2627\r</td></tr><tr><td>10056\r</td></tr><tr><td>\r</td></tr><tr><td>9912\r</td></tr><tr><td>1615\r</td></tr><tr><td>1584\r</td></tr><tr><td>2963\r</td></tr><tr><td>1347\r</td></tr><tr><td>9336\r</td></tr><tr><td>8310\r</td></tr><tr><td>8728\r</td></tr><tr><td>\r</td></tr><tr><td>2436\r</td></tr><tr><td>4741\r</td></tr><tr><td>6665\r</td></tr><tr><td>5239\r</td></tr><tr><td>5737\r</td></tr><tr><td>4252\r</td></tr><tr><td>1954\r</td></tr><tr><td>4916\r</td></tr><tr><td>5341\r</td></tr><tr><td>7475\r</td></tr><tr><td>5909\r</td></tr><tr><td>5012\r</td></tr><tr><td>\r</td></tr><tr><td>4897\r</td></tr><tr><td>8580\r</td></tr><tr><td>5122\r</td></tr><tr><td>1865\r</td></tr><tr><td>8318\r</td></tr><tr><td>5369\r</td></tr><tr><td>2334\r</td></tr><tr><td>5629\r</td></tr><tr><td>7058\r</td></tr><tr><td>\r</td></tr><tr><td>14621\r</td></tr><tr><td>2969\r</td></tr><tr><td>15900\r</td></tr><tr><td>14828\r</td></tr><tr><td>2997\r</td></tr><tr><td>\r</td></tr><tr><td>7051\r</td></tr><tr><td>3305\r</td></tr><tr><td>7848\r</td></tr><tr><td>7947\r</td></tr><tr><td>3961\r</td></tr><tr><td>3206\r</td></tr><tr><td>5175\r</td></tr><tr><td>7055\r</td></tr><tr><td>3182\r</td></tr><tr><td>5838\r</td></tr><tr><td>1954\r</td></tr><tr><td>\r</td></tr><tr><td>6614\r</td></tr><tr><td>3086\r</td></tr><tr><td>7740\r</td></tr><tr><td>6624\r</td></tr><tr><td>4106\r</td></tr><tr><td>7195\r</td></tr><tr><td>\r</td></tr><tr><td>3815\r</td></tr><tr><td>4858\r</td></tr><tr><td>3460\r</td></tr><tr><td>1427\r</td></tr><tr><td>5685\r</td></tr><tr><td>5865\r</td></tr><tr><td>4790\r</td></tr><tr><td>6660\r</td></tr><tr><td>1510\r</td></tr><tr><td>5685\r</td></tr><tr><td>2790\r</td></tr><tr><td>5112\r</td></tr><tr><td>\r</td></tr><tr><td>13626\r</td></tr><tr><td>1665\r</td></tr><tr><td>16722\r</td></tr><tr><td>9598\r</td></tr><tr><td>\r</td></tr><tr><td>15870\r</td></tr><tr><td>\r</td></tr><tr><td>3453\r</td></tr><tr><td>8531\r</td></tr><tr><td>9997\r</td></tr><tr><td>8590\r</td></tr><tr><td>5833\r</td></tr><tr><td>7896\r</td></tr><tr><td>8524\r</td></tr><tr><td>\r</td></tr><tr><td>6783\r</td></tr><tr><td>5931\r</td></tr><tr><td>3245\r</td></tr><tr><td>4327\r</td></tr><tr><td>5496\r</td></tr><tr><td>5017\r</td></tr><tr><td>2136\r</td></tr><tr><td>3899\r</td></tr><tr><td>3875\r</td></tr><tr><td>2904\r</td></tr><tr><td>5023\r</td></tr><tr><td>3173\r</td></tr><tr><td>3227\r</td></tr><tr><td>\r</td></tr><tr><td>4241\r</td></tr><tr><td>4693\r</td></tr><tr><td>1164\r</td></tr><tr><td>1877\r</td></tr><tr><td>5541\r</td></tr><tr><td>5017\r</td></tr><tr><td>3433\r</td></tr><tr><td>3333\r</td></tr><tr><td>4734\r</td></tr><tr><td>3639\r</td></tr><tr><td>1724\r</td></tr><tr><td>2439\r</td></tr><tr><td>1673\r</td></tr><tr><td>4362\r</td></tr><tr><td>\r</td></tr><tr><td>6479\r</td></tr><tr><td>3259\r</td></tr><tr><td>3496\r</td></tr><tr><td>6125\r</td></tr><tr><td>1147\r</td></tr><tr><td>3181\r</td></tr><tr><td>3948\r</td></tr><tr><td>5746\r</td></tr><tr><td>3019\r</td></tr><tr><td>1924\r</td></tr><tr><td>\r</td></tr><tr><td>6250\r</td></tr><tr><td>26443\r</td></tr><tr><td>\r</td></tr><tr><td>4901\r</td></tr><tr><td>6813\r</td></tr><tr><td>6581\r</td></tr><tr><td>3144\r</td></tr><tr><td>1525\r</td></tr><tr><td>6629\r</td></tr><tr><td>3254\r</td></tr><tr><td>6542\r</td></tr><tr><td>1156\r</td></tr><tr><td>6663\r</td></tr><tr><td>3856\r</td></tr><tr><td>4083\r</td></tr><tr><td>1598\r</td></tr><tr><td>\r</td></tr><tr><td>7932\r</td></tr><tr><td>8717\r</td></tr><tr><td>9657\r</td></tr><tr><td>1873\r</td></tr><tr><td>2727\r</td></tr><tr><td>2052\r</td></tr><tr><td>2376\r</td></tr><tr><td>\r</td></tr><tr><td>6455\r</td></tr><tr><td>13127\r</td></tr><tr><td>3540\r</td></tr><tr><td>8038\r</td></tr><tr><td>6601\r</td></tr><tr><td>2249\r</td></tr><tr><td>\r</td></tr><tr><td>6226\r</td></tr><tr><td>5251\r</td></tr><tr><td>3416\r</td></tr><tr><td>5941\r</td></tr><tr><td>7336\r</td></tr><tr><td>5668\r</td></tr><tr><td>4139\r</td></tr><tr><td>1459\r</td></tr><tr><td>2529\r</td></tr><tr><td>7538\r</td></tr><tr><td>\r</td></tr><tr><td>6899\r</td></tr><tr><td>4680\r</td></tr><tr><td>10277\r</td></tr><tr><td>2515\r</td></tr><tr><td>16361\r</td></tr><tr><td>\r</td></tr><tr><td>23283\r</td></tr><tr><td>2647\r</td></tr><tr><td>\r</td></tr><tr><td>1272\r</td></tr><tr><td>3462\r</td></tr><tr><td>6817\r</td></tr><tr><td>3795\r</td></tr><tr><td>4973\r</td></tr><tr><td>6750\r</td></tr><tr><td>2340\r</td></tr><tr><td>7379\r</td></tr><tr><td>3873\r</td></tr><tr><td>1832\r</td></tr><tr><td>7935\r</td></tr><tr><td>\r</td></tr><tr><td>4808\r</td></tr><tr><td>4018\r</td></tr><tr><td>11801\r</td></tr><tr><td>7092\r</td></tr><tr><td>8312\r</td></tr><tr><td>9718\r</td></tr><tr><td>6693\r</td></tr><tr><td>\r</td></tr><tr><td>7285\r</td></tr><tr><td>7822\r</td></tr><tr><td>7063\r</td></tr><tr><td>2854\r</td></tr><tr><td>7844\r</td></tr><tr><td>1121\r</td></tr><tr><td>4362\r</td></tr><tr><td>4685\r</td></tr><tr><td>5360\r</td></tr><tr><td>7140\r</td></tr><tr><td>6796\r</td></tr><tr><td>\r</td></tr><tr><td>17114\r</td></tr><tr><td>20195\r</td></tr><tr><td>9330\r</td></tr><tr><td>\r</td></tr><tr><td>19378\r</td></tr><tr><td>27739\r</td></tr><tr><td>\r</td></tr><tr><td>16288\r</td></tr><tr><td>15298\r</td></tr><tr><td>13251\r</td></tr><tr><td>5444\r</td></tr><tr><td>10856\r</td></tr><tr><td>\r</td></tr><tr><td>7616\r</td></tr><tr><td>6108\r</td></tr><tr><td>3420\r</td></tr><tr><td>9201\r</td></tr><tr><td>3422\r</td></tr><tr><td>4312\r</td></tr><tr><td>4388\r</td></tr><tr><td>3008\r</td></tr><tr><td>9551\r</td></tr><tr><td>\r</td></tr><tr><td>1255\r</td></tr><tr><td>7803\r</td></tr><tr><td>1598\r</td></tr><tr><td>3892\r</td></tr><tr><td>6954\r</td></tr><tr><td>7936\r</td></tr><tr><td>8078\r</td></tr><tr><td>5261\r</td></tr><tr><td>2057\r</td></tr><tr><td>2914\r</td></tr><tr><td>\r</td></tr><tr><td>7497\r</td></tr><tr><td>10296\r</td></tr><tr><td>2343\r</td></tr><tr><td>10020\r</td></tr><tr><td>1171\r</td></tr><tr><td>3092\r</td></tr><tr><td>2333\r</td></tr><tr><td>\r</td></tr><tr><td>1492\r</td></tr><tr><td>4718\r</td></tr><tr><td>4267\r</td></tr><tr><td>10309\r</td></tr><tr><td>7919\r</td></tr><tr><td>7080\r</td></tr><tr><td>1012\r</td></tr><tr><td>9981\r</td></tr><tr><td>\r</td></tr><tr><td>17367\r</td></tr><tr><td>1357\r</td></tr><tr><td>16269\r</td></tr><tr><td>7775\r</td></tr><tr><td>\r</td></tr><tr><td>13641\r</td></tr><tr><td>3004\r</td></tr><tr><td>13280\r</td></tr><tr><td>\r</td></tr><tr><td>6205\r</td></tr><tr><td>3003\r</td></tr><tr><td>1634\r</td></tr><tr><td>4608\r</td></tr><tr><td>2759\r</td></tr><tr><td>6324\r</td></tr><tr><td>4372\r</td></tr><tr><td>4833\r</td></tr><tr><td>6565\r</td></tr><tr><td>2865\r</td></tr><tr><td>7345\r</td></tr><tr><td>3719\r</td></tr><tr><td>\r</td></tr><tr><td>4268\r</td></tr><tr><td>2071\r</td></tr><tr><td>2155\r</td></tr><tr><td>4408\r</td></tr><tr><td>4869\r</td></tr><tr><td>2634\r</td></tr><tr><td>1329\r</td></tr><tr><td>2075\r</td></tr><tr><td>4276\r</td></tr><tr><td>4032\r</td></tr><tr><td>2129\r</td></tr><tr><td>5181\r</td></tr><tr><td>2594\r</td></tr><tr><td>2102\r</td></tr><tr><td>2281\r</td></tr><tr><td>\r</td></tr><tr><td>2486\r</td></tr><tr><td>7483\r</td></tr><tr><td>6748\r</td></tr><tr><td>4017\r</td></tr><tr><td>5926\r</td></tr><tr><td>3507\r</td></tr><tr><td>4666\r</td></tr><tr><td>3837\r</td></tr><tr><td>\r</td></tr><tr><td>8082\r</td></tr><tr><td>13626\r</td></tr><tr><td>12247\r</td></tr><tr><td>5622\r</td></tr><tr><td>13565\r</td></tr><tr><td>\r</td></tr><tr><td>7911\r</td></tr><tr><td>1180\r</td></tr><tr><td>1854\r</td></tr><tr><td>5795\r</td></tr><tr><td>7017\r</td></tr><tr><td>6873\r</td></tr><tr><td>7728\r</td></tr><tr><td>5055\r</td></tr><tr><td>5207\r</td></tr><tr><td>7810\r</td></tr><tr><td>7474\r</td></tr><tr><td>\r</td></tr><tr><td>3459\r</td></tr><tr><td>5418\r</td></tr><tr><td>1420\r</td></tr><tr><td>5028\r</td></tr><tr><td>6793\r</td></tr><tr><td>4851\r</td></tr><tr><td>2885\r</td></tr><tr><td>2263\r</td></tr><tr><td>2734\r</td></tr><tr><td>4868\r</td></tr><tr><td>6596\r</td></tr><tr><td>1434\r</td></tr><tr><td>5440\r</td></tr><tr><td>\r</td></tr><tr><td>3368\r</td></tr><tr><td>3541\r</td></tr><tr><td>5756\r</td></tr><tr><td>3039\r</td></tr><tr><td>4234\r</td></tr><tr><td>2632\r</td></tr><tr><td>6031\r</td></tr><tr><td>5613\r</td></tr><tr><td>4769\r</td></tr><tr><td>1538\r</td></tr><tr><td>4898\r</td></tr><tr><td>5128\r</td></tr><tr><td>4848\r</td></tr><tr><td>\r</td></tr><tr><td>2817\r</td></tr><tr><td>3013\r</td></tr><tr><td>2260\r</td></tr><tr><td>4714\r</td></tr><tr><td>6461\r</td></tr><tr><td>3262\r</td></tr><tr><td>3924\r</td></tr><tr><td>4083\r</td></tr><tr><td>2487\r</td></tr><tr><td>4221\r</td></tr><tr><td>5311\r</td></tr><tr><td>4274\r</td></tr><tr><td>5591\r</td></tr><tr><td>1625\r</td></tr><tr><td>\r</td></tr><tr><td>8756\r</td></tr><tr><td>8549\r</td></tr><tr><td>9481\r</td></tr><tr><td>7994\r</td></tr><tr><td>7775\r</td></tr><tr><td>6951\r</td></tr><tr><td>5276\r</td></tr><tr><td>7598\r</td></tr><tr><td>9126\r</td></tr><tr><td>\r</td></tr><tr><td>11749\r</td></tr><tr><td>7152\r</td></tr><tr><td>14494\r</td></tr><tr><td>\r</td></tr><tr><td>14395\r</td></tr><tr><td>7799\r</td></tr><tr><td>16109\r</td></tr><tr><td>14178\r</td></tr><tr><td>\r</td></tr><tr><td>24404\r</td></tr><tr><td>4941\r</td></tr><tr><td>\r</td></tr><tr><td>5326\r</td></tr><tr><td>9070\r</td></tr><tr><td>3951\r</td></tr><tr><td>1404\r</td></tr><tr><td>6513\r</td></tr><tr><td>9155\r</td></tr><tr><td>5981\r</td></tr><tr><td>3880\r</td></tr><tr><td>1476\r</td></tr><tr><td>\r</td></tr><tr><td>12661\r</td></tr><tr><td>10966\r</td></tr><tr><td>\r</td></tr><tr><td>3517\r</td></tr><tr><td>7760\r</td></tr><tr><td>4724\r</td></tr><tr><td>6891\r</td></tr><tr><td>1447\r</td></tr><tr><td>3337\r</td></tr><tr><td>3903\r</td></tr><tr><td>7382\r</td></tr><tr><td>7067\r</td></tr><tr><td>1771\r</td></tr><tr><td>1184\r</td></tr><tr><td>\r</td></tr><tr><td>3556\r</td></tr><tr><td>13458\r</td></tr><tr><td>12699\r</td></tr><tr><td>12330\r</td></tr><tr><td>13534\r</td></tr><tr><td>11244\r</td></tr><tr><td>\r</td></tr><tr><td>10818\r</td></tr><tr><td>31380\r</td></tr><tr><td>\r</td></tr><tr><td>17968\r</td></tr><tr><td>3978\r</td></tr><tr><td>17994\r</td></tr><tr><td>\r</td></tr><tr><td>9486\r</td></tr><tr><td>6163\r</td></tr><tr><td>1748\r</td></tr><tr><td>3765\r</td></tr><tr><td>7191\r</td></tr><tr><td>1461\r</td></tr><tr><td>2062\r</td></tr><tr><td>8169\r</td></tr><tr><td>9167\r</td></tr><tr><td>\r</td></tr><tr><td>3111\r</td></tr><tr><td>4378\r</td></tr><tr><td>3560\r</td></tr><tr><td>6292\r</td></tr><tr><td>5521\r</td></tr><tr><td>2132\r</td></tr><tr><td>5071\r</td></tr><tr><td>4519\r</td></tr><tr><td>1977\r</td></tr><tr><td>6587\r</td></tr><tr><td>\r</td></tr><tr><td>11961\r</td></tr><tr><td>2119\r</td></tr><tr><td>11633\r</td></tr><tr><td>10970\r</td></tr><tr><td>4089\r</td></tr><tr><td>7390\r</td></tr><tr><td>6481\r</td></tr><tr><td>\r</td></tr><tr><td>4350\r</td></tr><tr><td>5261\r</td></tr><tr><td>4801\r</td></tr><tr><td>1584\r</td></tr><tr><td>1531\r</td></tr><tr><td>5034\r</td></tr><tr><td>5917\r</td></tr><tr><td>4136\r</td></tr><tr><td>6668\r</td></tr><tr><td>5364\r</td></tr><tr><td>3814\r</td></tr><tr><td>3873\r</td></tr><tr><td>4437\r</td></tr><tr><td>\r</td></tr><tr><td>2568\r</td></tr><tr><td>2449\r</td></tr><tr><td>5582\r</td></tr><tr><td>1857\r</td></tr><tr><td>6143\r</td></tr><tr><td>5457\r</td></tr><tr><td>4396\r</td></tr><tr><td>3723\r</td></tr><tr><td>2885\r</td></tr><tr><td>2428\r</td></tr><tr><td>2790\r</td></tr><tr><td>4173\r</td></tr><tr><td>1726\r</td></tr><tr><td>5687\r</td></tr><tr><td>\r</td></tr><tr><td>21758\r</td></tr><tr><td>\r</td></tr><tr><td>32901\r</td></tr><tr><td>\r</td></tr><tr><td>4313\r</td></tr><tr><td>12688\r</td></tr><tr><td>14465\r</td></tr><tr><td>1073\r</td></tr><tr><td>6568\r</td></tr><tr><td>\r</td></tr><tr><td>2295\r</td></tr><tr><td>3872\r</td></tr><tr><td>5979\r</td></tr><tr><td>3014\r</td></tr><tr><td>1408\r</td></tr><tr><td>1865\r</td></tr><tr><td>2937\r</td></tr><tr><td>4231\r</td></tr><tr><td>5076\r</td></tr><tr><td>2544\r</td></tr><tr><td>3270\r</td></tr><tr><td>2673\r</td></tr><tr><td>6060\r</td></tr><tr><td>4292\r</td></tr><tr><td>1073\r</td></tr><tr><td>\r</td></tr><tr><td>5340\r</td></tr><tr><td>10378\r</td></tr><tr><td>10445\r</td></tr><tr><td>11874\r</td></tr><tr><td>8275\r</td></tr><tr><td>8558\r</td></tr><tr><td>1558\r</td></tr><tr><td>\r</td></tr><tr><td>3652\r</td></tr><tr><td>9630\r</td></tr><tr><td>15612\r</td></tr><tr><td>18471\r</td></tr><tr><td>\r</td></tr><tr><td>5856\r</td></tr><tr><td>4627\r</td></tr><tr><td>4762\r</td></tr><tr><td>6094\r</td></tr><tr><td>5266\r</td></tr><tr><td>2970\r</td></tr><tr><td>1230\r</td></tr><tr><td>6292\r</td></tr><tr><td>5083\r</td></tr><tr><td>4557\r</td></tr><tr><td>6158\r</td></tr><tr><td>5841\r</td></tr><tr><td>6321\r</td></tr><tr><td>3672\r</td></tr><tr><td>\r</td></tr><tr><td>4531\r</td></tr><tr><td>2204\r</td></tr><tr><td>4583\r</td></tr><tr><td>4426\r</td></tr><tr><td>4310\r</td></tr><tr><td>6136\r</td></tr><tr><td>5577\r</td></tr><tr><td>4765\r</td></tr><tr><td>6882\r</td></tr><tr><td>1300\r</td></tr><tr><td>2979\r</td></tr><tr><td>6754\r</td></tr><tr><td>4241\r</td></tr><tr><td>\r</td></tr><tr><td>3266\r</td></tr><tr><td>6610\r</td></tr><tr><td>2322\r</td></tr><tr><td>12666\r</td></tr><tr><td>11874\r</td></tr><tr><td>10495\r</td></tr><tr><td>\r</td></tr><tr><td>7493\r</td></tr><tr><td>2468\r</td></tr><tr><td>2710\r</td></tr><tr><td>6550\r</td></tr><tr><td>7383\r</td></tr><tr><td>4442\r</td></tr><tr><td>3692\r</td></tr><tr><td>8168\r</td></tr><tr><td>\r</td></tr><tr><td>4381\r</td></tr><tr><td>3648\r</td></tr><tr><td>4270\r</td></tr><tr><td>3016\r</td></tr><tr><td>4178\r</td></tr><tr><td>3066\r</td></tr><tr><td>1736\r</td></tr><tr><td>5402\r</td></tr><tr><td>4995\r</td></tr><tr><td>1980\r</td></tr><tr><td>5438\r</td></tr><tr><td>5256\r</td></tr><tr><td>4804\r</td></tr><tr><td>4854\r</td></tr><tr><td>2585\r</td></tr><tr><td>\r</td></tr><tr><td>4096\r</td></tr><tr><td>4397\r</td></tr><tr><td>4061\r</td></tr><tr><td>3811\r</td></tr><tr><td>2537\r</td></tr><tr><td>3296\r</td></tr><tr><td>1877\r</td></tr><tr><td>4267\r</td></tr><tr><td>2760\r</td></tr><tr><td>3682\r</td></tr><tr><td>5949\r</td></tr><tr><td>3713\r</td></tr><tr><td>3365\r</td></tr><tr><td>4135\r</td></tr><tr><td>1310\r</td></tr><tr><td>\r</td></tr><tr><td>30319\r</td></tr><tr><td>\r</td></tr><tr><td>7244\r</td></tr><tr><td>6071\r</td></tr><tr><td>1234\r</td></tr><tr><td>6387\r</td></tr><tr><td>1980\r</td></tr><tr><td>1935\r</td></tr><tr><td>3431\r</td></tr><tr><td>6474\r</td></tr><tr><td>6601\r</td></tr><tr><td>1652\r</td></tr><tr><td>\r</td></tr><tr><td>10125\r</td></tr><tr><td>11599\r</td></tr><tr><td>\r</td></tr><tr><td>4436\r</td></tr><tr><td>3242\r</td></tr><tr><td>6077\r</td></tr><tr><td>6707\r</td></tr><tr><td>1582\r</td></tr><tr><td>6648\r</td></tr><tr><td>3345\r</td></tr><tr><td>5812\r</td></tr><tr><td>1635\r</td></tr><tr><td>2782\r</td></tr><tr><td>2514\r</td></tr><tr><td>2608\r</td></tr><tr><td>\r</td></tr><tr><td>9244\r</td></tr><tr><td>1348\r</td></tr><tr><td>5019\r</td></tr><tr><td>2059\r</td></tr><tr><td>9226\r</td></tr><tr><td>2546\r</td></tr><tr><td>5130\r</td></tr><tr><td>8902\r</td></tr><tr><td>7779\r</td></tr><tr><td>\r</td></tr><tr><td>10030\r</td></tr><tr><td>10749\r</td></tr><tr><td>3690\r</td></tr><tr><td>8769\r</td></tr><tr><td>9835\r</td></tr><tr><td>7216\r</td></tr><tr><td>2132\r</td></tr><tr><td>\r</td></tr><tr><td>6105\r</td></tr><tr><td>1205\r</td></tr><tr><td>1860\r</td></tr><tr><td>3190\r</td></tr><tr><td>5815\r</td></tr><tr><td>1424\r</td></tr><tr><td>2611\r</td></tr><tr><td>1230\r</td></tr><tr><td>4491\r</td></tr><tr><td>1731\r</td></tr><tr><td>5804\r</td></tr><tr><td>2863\r</td></tr><tr><td>1816\r</td></tr><tr><td>3694\r</td></tr><tr><td>\r</td></tr><tr><td>4791\r</td></tr><tr><td>6491\r</td></tr><tr><td>3292\r</td></tr><tr><td>3310\r</td></tr><tr><td>2223\r</td></tr><tr><td>4296\r</td></tr><tr><td>6323\r</td></tr><tr><td>3414\r</td></tr><tr><td>1462\r</td></tr><tr><td>6799\r</td></tr><tr><td>3276\r</td></tr><tr><td>4435\r</td></tr><tr><td>5554\r</td></tr><tr><td>\r</td></tr><tr><td>2859\r</td></tr><tr><td>2854\r</td></tr><tr><td>1127\r</td></tr><tr><td>4179\r</td></tr><tr><td>6233\r</td></tr><tr><td>6219\r</td></tr><tr><td>5955\r</td></tr><tr><td>3139\r</td></tr><tr><td>2457\r</td></tr><tr><td>3854\r</td></tr><tr><td>5071\r</td></tr><tr><td>4887\r</td></tr><tr><td>4190\r</td></tr><tr><td>4469\r</td></tr><tr><td>\r</td></tr><tr><td>67818\r</td></tr><tr><td>\r</td></tr><tr><td>7880\r</td></tr><tr><td>6503\r</td></tr><tr><td>4931\r</td></tr><tr><td>5813\r</td></tr><tr><td>1692\r</td></tr><tr><td>2126\r</td></tr><tr><td>6300\r</td></tr><tr><td>8743\r</td></tr><tr><td>4983\r</td></tr><tr><td>2182\r</td></tr><tr><td>\r</td></tr><tr><td>1882\r</td></tr><tr><td>5752\r</td></tr><tr><td>6369\r</td></tr><tr><td>1996\r</td></tr><tr><td>2955\r</td></tr><tr><td>5978\r</td></tr><tr><td>6087\r</td></tr><tr><td>5123\r</td></tr><tr><td>2587\r</td></tr><tr><td>2000\r</td></tr><tr><td>4973\r</td></tr><tr><td>2214\r</td></tr><tr><td>5118\r</td></tr><tr><td>3178\r</td></tr><tr><td>\r</td></tr><tr><td>10807\r</td></tr><tr><td>9780\r</td></tr><tr><td>8468\r</td></tr><tr><td>2157\r</td></tr><tr><td>1021\r</td></tr><tr><td>8078\r</td></tr><tr><td>4848\r</td></tr><tr><td>\r</td></tr><tr><td>3400\r</td></tr><tr><td>1666\r</td></tr><tr><td>6908\r</td></tr><tr><td>10199\r</td></tr><tr><td>1685\r</td></tr><tr><td>4979\r</td></tr><tr><td>\r</td></tr><tr><td>2250\r</td></tr><tr><td>5672\r</td></tr><tr><td>2505\r</td></tr><tr><td>9061\r</td></tr><tr><td>5514\r</td></tr><tr><td>8895\r</td></tr><tr><td>4958\r</td></tr><tr><td>8274\r</td></tr><tr><td>7707\r</td></tr><tr><td>\r</td></tr><tr><td>15083\r</td></tr><tr><td>2359\r</td></tr><tr><td>23052\r</td></tr><tr><td>\r</td></tr><tr><td>6279\r</td></tr><tr><td>1563\r</td></tr><tr><td>4247\r</td></tr><tr><td>4593\r</td></tr><tr><td>4844\r</td></tr><tr><td>5335\r</td></tr><tr><td>7024\r</td></tr><tr><td>7324\r</td></tr><tr><td>5904\r</td></tr><tr><td>1016\r</td></tr><tr><td>3394\r</td></tr><tr><td>3382\r</td></tr><tr><td>\r</td></tr><tr><td>2965\r</td></tr><tr><td>2673\r</td></tr><tr><td>3329\r</td></tr><tr><td>1833\r</td></tr><tr><td>1222\r</td></tr><tr><td>1789\r</td></tr><tr><td>1027\r</td></tr><tr><td>6268\r</td></tr><tr><td>4404\r</td></tr><tr><td>1031\r</td></tr><tr><td>1407\r</td></tr><tr><td>4510\r</td></tr><tr><td>4047\r</td></tr><tr><td>1972\r</td></tr><tr><td>\r</td></tr><tr><td>4423\r</td></tr><tr><td>8018\r</td></tr><tr><td>4991\r</td></tr><tr><td>7190\r</td></tr><tr><td>7061\r</td></tr><tr><td>6223\r</td></tr><tr><td>5972\r</td></tr><tr><td>2864\r</td></tr><tr><td>5674\r</td></tr><tr><td>\r</td></tr><tr><td>1559\r</td></tr><tr><td>1850\r</td></tr><tr><td>4117\r</td></tr><tr><td>1495\r</td></tr><tr><td>2604\r</td></tr><tr><td>2243\r</td></tr><tr><td>1498\r</td></tr><tr><td>4936\r</td></tr><tr><td>2970\r</td></tr><tr><td>4109\r</td></tr><tr><td>1252\r</td></tr><tr><td>6416\r</td></tr><tr><td>5293\r</td></tr><tr><td>3319\r</td></tr><tr><td>\r</td></tr><tr><td>5577\r</td></tr><tr><td>4032\r</td></tr><tr><td>3528\r</td></tr><tr><td>6140\r</td></tr><tr><td>5994\r</td></tr><tr><td>2811\r</td></tr><tr><td>3247\r</td></tr><tr><td>7297\r</td></tr><tr><td>5776\r</td></tr><tr><td>3863\r</td></tr><tr><td>4240\r</td></tr><tr><td>3973\r</td></tr><tr><td>\r</td></tr><tr><td>9884\r</td></tr><tr><td>8267\r</td></tr><tr><td>\r</td></tr><tr><td>3047\r</td></tr><tr><td>4053\r</td></tr><tr><td>2400\r</td></tr><tr><td>4246\r</td></tr><tr><td>3193\r</td></tr><tr><td>2309\r</td></tr><tr><td>4014\r</td></tr><tr><td>1369\r</td></tr><tr><td>1437\r</td></tr><tr><td>\r</td></tr><tr><td>10529\r</td></tr><tr><td>2975\r</td></tr><tr><td>3033\r</td></tr><tr><td>10601\r</td></tr><tr><td>13985\r</td></tr><tr><td>\r</td></tr><tr><td>12323\r</td></tr><tr><td>9086\r</td></tr><tr><td>2903\r</td></tr><tr><td>7243\r</td></tr><tr><td>8351\r</td></tr><tr><td>12729\r</td></tr><tr><td>\r</td></tr><tr><td>13982\r</td></tr><tr><td>7013\r</td></tr><tr><td>7500\r</td></tr><tr><td>11098\r</td></tr><tr><td>9206\r</td></tr><tr><td>\r</td></tr><tr><td>11963\r</td></tr><tr><td>3055\r</td></tr><tr><td>9862\r</td></tr><tr><td>2601\r</td></tr><tr><td>13991\r</td></tr><tr><td>\r</td></tr><tr><td>66684\r</td></tr><tr><td>\r</td></tr><tr><td>6171\r</td></tr><tr><td>1924\r</td></tr><tr><td>1569\r</td></tr><tr><td>3761\r</td></tr><tr><td>4616\r</td></tr><tr><td>5565\r</td></tr><tr><td>3644\r</td></tr><tr><td>1817\r</td></tr><tr><td>4029\r</td></tr><tr><td>2333\r</td></tr><tr><td>1934\r</td></tr><tr><td>2492\r</td></tr><tr><td>6161\r</td></tr><tr><td>\r</td></tr><tr><td>2802\r</td></tr><tr><td>1498\r</td></tr><tr><td>3232\r</td></tr><tr><td>7475\r</td></tr><tr><td>5503\r</td></tr><tr><td>4913\r</td></tr><tr><td>6759\r</td></tr><tr><td>8657\r</td></tr><tr><td>4445\r</td></tr><tr><td>\r</td></tr><tr><td>18324\r</td></tr><tr><td>19871\r</td></tr><tr><td>\r</td></tr><tr><td>6287\r</td></tr><tr><td>4271\r</td></tr><tr><td>7871\r</td></tr><tr><td>1097\r</td></tr><tr><td>1932\r</td></tr><tr><td>5980\r</td></tr><tr><td>5376\r</td></tr><tr><td>7824\r</td></tr><tr><td>4911\r</td></tr><tr><td>4751\r</td></tr><tr><td>6453\r</td></tr><tr><td>\r</td></tr><tr><td>8374\r</td></tr><tr><td>3293\r</td></tr><tr><td>7175\r</td></tr><tr><td>8288\r</td></tr><tr><td>1217\r</td></tr><tr><td>4831\r</td></tr><tr><td>1514\r</td></tr><tr><td>6681\r</td></tr><tr><td>2596\r</td></tr><tr><td>6199\r</td></tr><tr><td>\r</td></tr><tr><td>32039\r</td></tr><tr><td>\r</td></tr><tr><td>1235\r</td></tr><tr><td>2206\r</td></tr><tr><td>6429\r</td></tr><tr><td>4880\r</td></tr><tr><td>5463\r</td></tr><tr><td>6814\r</td></tr><tr><td>1530\r</td></tr><tr><td>3544\r</td></tr><tr><td>4685\r</td></tr><tr><td>3169\r</td></tr><tr><td>6752\r</td></tr><tr><td>5854\r</td></tr><tr><td>6764\r</td></tr><tr><td>\r</td></tr><tr><td>6115\r</td></tr><tr><td>6039\r</td></tr><tr><td>6519\r</td></tr><tr><td>6414\r</td></tr><tr><td>4558\r</td></tr><tr><td>5214\r</td></tr><tr><td>4411\r</td></tr><tr><td>2882\r</td></tr><tr><td>6006\r</td></tr><tr><td>5117\r</td></tr><tr><td>5321\r</td></tr><tr><td>2059\r</td></tr><tr><td>\r</td></tr><tr><td>2431\r</td></tr><tr><td>5892\r</td></tr><tr><td>1839\r</td></tr><tr><td>5352\r</td></tr><tr><td>3295\r</td></tr><tr><td>2768\r</td></tr><tr><td>4788\r</td></tr><tr><td>5271\r</td></tr><tr><td>1503\r</td></tr><tr><td>1173\r</td></tr><tr><td>4691\r</td></tr><tr><td>4906\r</td></tr><tr><td>4346\r</td></tr><tr><td>1043\r</td></tr><tr><td>\r</td></tr><tr><td>5172\r</td></tr><tr><td>5976\r</td></tr><tr><td>6248\r</td></tr><tr><td>4288\r</td></tr><tr><td>3851\r</td></tr><tr><td>8543\r</td></tr><tr><td>4189\r</td></tr><tr><td>4396\r</td></tr><tr><td>\r</td></tr><tr><td>10361\r</td></tr><tr><td>14864\r</td></tr><tr><td>18037\r</td></tr><tr><td>\r</td></tr><tr><td>7381\r</td></tr><tr><td>5180\r</td></tr><tr><td>1829\r</td></tr><tr><td>3624\r</td></tr><tr><td>3144\r</td></tr><tr><td>3962\r</td></tr><tr><td>5923\r</td></tr><tr><td>4356\r</td></tr><tr><td>1477\r</td></tr><tr><td>3153\r</td></tr><tr><td>2891\r</td></tr><tr><td>5196\r</td></tr><tr><td>\r</td></tr><tr><td>3143\r</td></tr><tr><td>3180\r</td></tr><tr><td>4428\r</td></tr><tr><td>3418\r</td></tr><tr><td>6243\r</td></tr><tr><td>3480\r</td></tr><tr><td>1151\r</td></tr><tr><td>4262\r</td></tr><tr><td>4958\r</td></tr><tr><td>4641\r</td></tr><tr><td>3823\r</td></tr><tr><td>1469\r</td></tr><tr><td>2149\r</td></tr><tr><td>\r</td></tr><tr><td>3702\r</td></tr><tr><td>4159\r</td></tr><tr><td>3799\r</td></tr><tr><td>4639\r</td></tr><tr><td>5703\r</td></tr><tr><td>2425\r</td></tr><tr><td>4579\r</td></tr><tr><td>2397\r</td></tr><tr><td>2814\r</td></tr><tr><td>3959\r</td></tr><tr><td>3987\r</td></tr><tr><td>3088\r</td></tr><tr><td>2982\r</td></tr><tr><td>2338\r</td></tr><tr><td>3432\r</td></tr><tr><td>\r</td></tr><tr><td>7256\r</td></tr><tr><td>16171\r</td></tr><tr><td>12417\r</td></tr><tr><td>11290\r</td></tr><tr><td>13105\r</td></tr><tr><td>\r</td></tr><tr><td>2594\r</td></tr><tr><td>5105\r</td></tr><tr><td>6253\r</td></tr><tr><td>4743\r</td></tr><tr><td>4251\r</td></tr><tr><td>6439\r</td></tr><tr><td>3370\r</td></tr><tr><td>5662\r</td></tr><tr><td>2763\r</td></tr><tr><td>3147\r</td></tr><tr><td>6366\r</td></tr><tr><td>4537\r</td></tr><tr><td>6279\r</td></tr><tr><td>6104\r</td></tr><tr><td>\r</td></tr><tr><td>7926\r</td></tr><tr><td>3430\r</td></tr><tr><td>2206\r</td></tr><tr><td>4334\r</td></tr><tr><td>5226\r</td></tr><tr><td>1817\r</td></tr><tr><td>2404\r</td></tr><tr><td>2587\r</td></tr><tr><td>8020\r</td></tr><tr><td>1849\r</td></tr><tr><td>\r</td></tr><tr><td>1257\r</td></tr><tr><td>6091\r</td></tr><tr><td>2485\r</td></tr><tr><td>6366\r</td></tr><tr><td>3184\r</td></tr><tr><td>4775\r</td></tr><tr><td>5987\r</td></tr><tr><td>3473\r</td></tr><tr><td>5761\r</td></tr><tr><td>1905\r</td></tr><tr><td>3742\r</td></tr><tr><td>5478\r</td></tr><tr><td>5343\r</td></tr><tr><td>\r</td></tr><tr><td>3336\r</td></tr><tr><td>5819\r</td></tr><tr><td>2617\r</td></tr><tr><td>2756\r</td></tr><tr><td>5602\r</td></tr><tr><td>3921\r</td></tr><tr><td>4660\r</td></tr><tr><td>5041\r</td></tr><tr><td>1471\r</td></tr><tr><td>2297\r</td></tr><tr><td>5575\r</td></tr><tr><td>1473\r</td></tr><tr><td>6059\r</td></tr><tr><td>3111\r</td></tr><tr><td>5789\r</td></tr><tr><td>\r</td></tr><tr><td>2647\r</td></tr><tr><td>6183\r</td></tr><tr><td>5004\r</td></tr><tr><td>2750\r</td></tr><tr><td>2772\r</td></tr><tr><td>1964\r</td></tr><tr><td>4453\r</td></tr><tr><td>2132\r</td></tr><tr><td>3181\r</td></tr><tr><td>2916\r</td></tr><tr><td>1804\r</td></tr><tr><td>4666\r</td></tr><tr><td>1215\r</td></tr><tr><td>6354\r</td></tr><tr><td>\r</td></tr><tr><td>1449\r</td></tr><tr><td>1539\r</td></tr><tr><td>3005\r</td></tr><tr><td>3167\r</td></tr><tr><td>1712\r</td></tr><tr><td>6222\r</td></tr><tr><td>6007\r</td></tr><tr><td>4141\r</td></tr><tr><td>1481\r</td></tr><tr><td>6198\r</td></tr><tr><td>4476\r</td></tr><tr><td>3850\r</td></tr><tr><td>3885\r</td></tr><tr><td>5880\r</td></tr><tr><td>\r</td></tr><tr><td>1833\r</td></tr><tr><td>5557\r</td></tr><tr><td>3185\r</td></tr><tr><td>6117\r</td></tr><tr><td>3456\r</td></tr><tr><td>2789\r</td></tr><tr><td>4576\r</td></tr><tr><td>1439\r</td></tr><tr><td>3212\r</td></tr><tr><td>5223\r</td></tr><tr><td>2687\r</td></tr><tr><td>2368\r</td></tr><tr><td>3270\r</td></tr><tr><td>4629\r</td></tr><tr><td>4716\r</td></tr><tr><td>\r</td></tr><tr><td>10123\r</td></tr><tr><td>6686\r</td></tr><tr><td>12658\r</td></tr><tr><td>\r</td></tr><tr><td>6838\r</td></tr><tr><td>4415\r</td></tr><tr><td>10796\r</td></tr><tr><td>6040\r</td></tr><tr><td>3065\r</td></tr><tr><td>1832\r</td></tr><tr><td>11624\r</td></tr><tr><td>\r</td></tr><tr><td>69368\r</td></tr><tr><td>\r</td></tr><tr><td>5469\r</td></tr><tr><td>8816\r</td></tr><tr><td>7624\r</td></tr><tr><td>13506\r</td></tr><tr><td>\r</td></tr><tr><td>8923\r</td></tr><tr><td>1621\r</td></tr><tr><td>10042\r</td></tr><tr><td>\r</td></tr><tr><td>6113\r</td></tr><tr><td>9373\r</td></tr><tr><td>9212\r</td></tr><tr><td>7054\r</td></tr><tr><td>3193\r</td></tr><tr><td>6588\r</td></tr><tr><td>7743\r</td></tr><tr><td>4224\r</td></tr><tr><td>4983\r</td></tr><tr><td>\r</td></tr><tr><td>1911\r</td></tr><tr><td>1589\r</td></tr><tr><td>2667\r</td></tr><tr><td>3095\r</td></tr><tr><td>3768\r</td></tr><tr><td>5898\r</td></tr><tr><td>4574\r</td></tr><tr><td>3456\r</td></tr><tr><td>3281\r</td></tr><tr><td>4176\r</td></tr><tr><td>1591\r</td></tr><tr><td>3383\r</td></tr><tr><td>5063\r</td></tr><tr><td>\r</td></tr><tr><td>1378\r</td></tr><tr><td>5923\r</td></tr><tr><td>9019\r</td></tr><tr><td>4379\r</td></tr><tr><td>2932\r</td></tr><tr><td>3918\r</td></tr><tr><td>9631\r</td></tr><tr><td>\r</td></tr><tr><td>7851\r</td></tr><tr><td>6466\r</td></tr><tr><td>2388\r</td></tr><tr><td>13209\r</td></tr><tr><td>7613\r</td></tr><tr><td>2396\r</td></tr><tr><td>\r</td></tr><tr><td>3015\r</td></tr><tr><td>1119\r</td></tr><tr><td>4172\r</td></tr><tr><td>2459\r</td></tr><tr><td>3872\r</td></tr><tr><td>5912\r</td></tr><tr><td>4012\r</td></tr><tr><td>2894\r</td></tr><tr><td>2765\r</td></tr><tr><td>1950\r</td></tr><tr><td>4147\r</td></tr><tr><td>4523\r</td></tr><tr><td>2504\r</td></tr><tr><td>4691\r</td></tr><tr><td>2038\r</td></tr><tr><td>\r</td></tr><tr><td>4472\r</td></tr><tr><td>5029\r</td></tr><tr><td>3599\r</td></tr><tr><td>6237\r</td></tr><tr><td>8566\r</td></tr><tr><td>3508\r</td></tr><tr><td>7995\r</td></tr><tr><td>3756\r</td></tr><tr><td>6631\r</td></tr><tr><td>3625\r</td></tr><tr><td>\r</td></tr><tr><td>16549\r</td></tr><tr><td>15550\r</td></tr><tr><td>22868\r</td></tr><tr><td>\r</td></tr><tr><td>7356\r</td></tr><tr><td>11800\r</td></tr><tr><td>8330\r</td></tr><tr><td>14503\r</td></tr><tr><td>9470\r</td></tr><tr><td>\r</td></tr><tr><td>1306\r</td></tr><tr><td>1960\r</td></tr><tr><td>6574\r</td></tr><tr><td>7234\r</td></tr><tr><td>3841\r</td></tr><tr><td>1006\r</td></tr><tr><td>4156\r</td></tr><tr><td>2019\r</td></tr><tr><td>6187\r</td></tr><tr><td>2494\r</td></tr><tr><td>7475\r</td></tr><tr><td>5916\r</td></tr><tr><td>\r</td></tr><tr><td>8894\r</td></tr><tr><td>9358\r</td></tr><tr><td>9666\r</td></tr><tr><td>8711\r</td></tr><tr><td>10140\r</td></tr><tr><td>11205\r</td></tr><tr><td>\r</td></tr><tr><td>8123\r</td></tr><tr><td>19317\r</td></tr><tr><td>11676\r</td></tr><tr><td>7989\r</td></tr><tr><td>\r</td></tr><tr><td>7610\r</td></tr><tr><td>3163\r</td></tr><tr><td>9789\r</td></tr><tr><td>6331\r</td></tr><tr><td>6998\r</td></tr><tr><td>7288\r</td></tr><tr><td>4632\r</td></tr><tr><td>5340\r</td></tr><tr><td>\r</td></tr><tr><td>7105\r</td></tr><tr><td>15276\r</td></tr><tr><td>22300\r</td></tr><tr><td>\r</td></tr><tr><td>11919\r</td></tr><tr><td>6212\r</td></tr><tr><td>5062\r</td></tr><tr><td>\r</td></tr><tr><td>18496\r</td></tr><tr><td>10383\r</td></tr><tr><td>10695\r</td></tr><tr><td>4206\r</td></tr><tr><td>\r</td></tr><tr><td>8127\r</td></tr><tr><td>2277\r</td></tr><tr><td>10392\r</td></tr><tr><td>1337\r</td></tr><tr><td>2779\r</td></tr><tr><td>5380\r</td></tr><tr><td>3881\r</td></tr><tr><td>6556\r</td></tr><tr><td>\r</td></tr><tr><td>5514\r</td></tr><tr><td>6678\r</td></tr><tr><td>2324\r</td></tr><tr><td>4686\r</td></tr><tr><td>3807\r</td></tr><tr><td>4785\r</td></tr><tr><td>3972\r</td></tr><tr><td>\r</td></tr><tr><td>1488\r</td></tr><tr><td>3662\r</td></tr><tr><td>4866\r</td></tr><tr><td>2687\r</td></tr><tr><td>3519\r</td></tr><tr><td>2605\r</td></tr><tr><td>5189\r</td></tr><tr><td>5313\r</td></tr><tr><td>4112\r</td></tr><tr><td>2559\r</td></tr><tr><td>1887\r</td></tr><tr><td>5656\r</td></tr><tr><td>5931\r</td></tr><tr><td>1816\r</td></tr><tr><td>\r</td></tr><tr><td>9949\r</td></tr><tr><td>11409\r</td></tr><tr><td>8427\r</td></tr><tr><td>15008\r</td></tr><tr><td>2241\r</td></tr><tr><td>\r</td></tr><tr><td>1942\r</td></tr><tr><td>1004\r</td></tr><tr><td>1070\r</td></tr><tr><td>5860\r</td></tr><tr><td>4932\r</td></tr><tr><td>4055\r</td></tr><tr><td>2922\r</td></tr><tr><td>5129\r</td></tr><tr><td>1232\r</td></tr><tr><td>4940\r</td></tr><tr><td>5270\r</td></tr><tr><td>1023\r</td></tr><tr><td>5323\r</td></tr><tr><td>2002\r</td></tr><tr><td>2727\r</td></tr><tr><td>\r</td></tr><tr><td>48445\r</td></tr><tr><td>\r</td></tr><tr><td>6687\r</td></tr><tr><td>4155\r</td></tr><tr><td>2999\r</td></tr><tr><td>3348\r</td></tr><tr><td>\r</td></tr><tr><td>5347\r</td></tr><tr><td>4592\r</td></tr><tr><td>1463\r</td></tr><tr><td>3080\r</td></tr><tr><td>3520\r</td></tr><tr><td>5283\r</td></tr><tr><td>3166\r</td></tr><tr><td>2945\r</td></tr><tr><td>2891\r</td></tr><tr><td>1100\r</td></tr><tr><td>5372\r</td></tr><tr><td>5797\r</td></tr><tr><td>3060\r</td></tr><tr><td>5748\r</td></tr><tr><td>5592\r</td></tr><tr><td>\r</td></tr><tr><td>8132\r</td></tr><tr><td>3941\r</td></tr><tr><td>7625\r</td></tr><tr><td>4458\r</td></tr><tr><td>2714\r</td></tr><tr><td>7390\r</td></tr><tr><td>4305\r</td></tr><tr><td>1612\r</td></tr><tr><td>6707\r</td></tr><tr><td>\r</td></tr><tr><td>2105\r</td></tr><tr><td>2880\r</td></tr><tr><td>6683\r</td></tr><tr><td>6257\r</td></tr><tr><td>6472\r</td></tr><tr><td>1371\r</td></tr><tr><td>3493\r</td></tr><tr><td>1542\r</td></tr><tr><td>4431\r</td></tr><tr><td>5003\r</td></tr><tr><td>3276\r</td></tr><tr><td>2205\r</td></tr><tr><td>3417\r</td></tr><tr><td>\r</td></tr><tr><td>6421\r</td></tr><tr><td>4279\r</td></tr><tr><td>1213\r</td></tr><tr><td>6274\r</td></tr><tr><td>3757\r</td></tr><tr><td>6856\r</td></tr><tr><td>3244\r</td></tr><tr><td>1554\r</td></tr><tr><td>2716\r</td></tr><tr><td>1854\r</td></tr><tr><td>1924\r</td></tr><tr><td>3769\r</td></tr><tr><td>6344\r</td></tr><tr><td>\r</td></tr><tr><td>1081\r</td></tr><tr><td>2601\r</td></tr><tr><td>2607\r</td></tr><tr><td>6042\r</td></tr><tr><td>1967\r</td></tr><tr><td>2924\r</td></tr><tr><td>4656\r</td></tr><tr><td>6462\r</td></tr><tr><td>1747\r</td></tr><tr><td>4278\r</td></tr><tr><td>6384\r</td></tr><tr><td>4427\r</td></tr><tr><td>5074\r</td></tr><tr><td>6454\r</td></tr><tr><td>\r</td></tr><tr><td>6344\r</td></tr><tr><td>13912\r</td></tr><tr><td>15708\r</td></tr><tr><td>1335\r</td></tr><tr><td>5433\r</td></tr><tr><td>\r</td></tr><tr><td>5862\r</td></tr><tr><td>7799\r</td></tr><tr><td>3707\r</td></tr><tr><td>9404\r</td></tr><tr><td>10527\r</td></tr><tr><td>10543\r</td></tr><tr><td>6428\r</td></tr><tr><td>\r</td></tr><tr><td>2009\r</td></tr><tr><td>17261\r</td></tr><tr><td>13328\r</td></tr><tr><td>\r</td></tr><tr><td>10389\r</td></tr><tr><td>9214\r</td></tr><tr><td>9189\r</td></tr><tr><td>8747\r</td></tr><tr><td>12720\r</td></tr><tr><td>9443\r</td></tr><tr><td>\r</td></tr><tr><td>7162\r</td></tr><tr><td>2362\r</td></tr><tr><td>3837\r</td></tr><tr><td>8891\r</td></tr><tr><td>2098\r</td></tr><tr><td>8577\r</td></tr><tr><td>9063\r</td></tr><tr><td>3336\r</td></tr><tr><td>5023\r</td></tr><tr><td>\r</td></tr><tr><td>1322\r</td></tr><tr><td>12214\r</td></tr><tr><td>5387\r</td></tr><tr><td>9804\r</td></tr><tr><td>9542\r</td></tr><tr><td>6149\r</td></tr><tr><td>\r</td></tr><tr><td>1997\r</td></tr><tr><td>6709\r</td></tr><tr><td>6614\r</td></tr><tr><td>5116\r</td></tr><tr><td>6691\r</td></tr><tr><td>5904\r</td></tr><tr><td>5563\r</td></tr><tr><td>2437\r</td></tr><tr><td>4442\r</td></tr><tr><td>7346\r</td></tr><tr><td>5749\r</td></tr><tr><td>7194\r</td></tr><tr><td>\r</td></tr><tr><td>5836\r</td></tr><tr><td>15439\r</td></tr><tr><td>9020\r</td></tr><tr><td>9124\r</td></tr><tr><td>\r</td></tr><tr><td>6761\r</td></tr><tr><td>4892\r</td></tr><tr><td>5956\r</td></tr><tr><td>2500\r</td></tr><tr><td>6879\r</td></tr><tr><td>1980\r</td></tr><tr><td>1908\r</td></tr><tr><td>1705\r</td></tr><tr><td>6157\r</td></tr><tr><td>4559\r</td></tr><tr><td>5776\r</td></tr><tr><td>1235\r</td></tr><tr><td>3077\r</td></tr><tr><td>\r</td></tr><tr><td>10155\r</td></tr><tr><td>8529\r</td></tr><tr><td>7837\r</td></tr><tr><td>7027\r</td></tr><tr><td>7897\r</td></tr><tr><td>6504\r</td></tr><tr><td>4192\r</td></tr><tr><td>7193\r</td></tr><tr><td>\r</td></tr><tr><td>9711\r</td></tr><tr><td>17664\r</td></tr><tr><td>4069\r</td></tr><tr><td>10400\r</td></tr><tr><td>\r</td></tr><tr><td>24373\r</td></tr><tr><td>20215\r</td></tr><tr><td>\r</td></tr><tr><td>2155\r</td></tr><tr><td>9371\r</td></tr><tr><td>9201\r</td></tr><tr><td>5590\r</td></tr><tr><td>9806\r</td></tr><tr><td>13380\r</td></tr><tr><td>\r</td></tr><tr><td>7716\r</td></tr><tr><td>1116\r</td></tr><tr><td>6106\r</td></tr><tr><td>2703\r</td></tr><tr><td>2403\r</td></tr><tr><td>3549\r</td></tr><tr><td>3740\r</td></tr><tr><td>6658\r</td></tr><tr><td>4769\r</td></tr><tr><td>\r</td></tr><tr><td>13954\r</td></tr><tr><td>36130\r</td></tr><tr><td>\r</td></tr><tr><td>1767\r</td></tr><tr><td>7955\r</td></tr><tr><td>5622\r</td></tr><tr><td>5077\r</td></tr><tr><td>2512\r</td></tr><tr><td>8206\r</td></tr><tr><td>4501\r</td></tr><tr><td>2917\r</td></tr><tr><td>9336\r</td></tr><tr><td>\r</td></tr><tr><td>1601\r</td></tr><tr><td>23493\r</td></tr><tr><td>16981\r</td></tr><tr><td>\r</td></tr><tr><td>3719\r</td></tr><tr><td>2266\r</td></tr><tr><td>1982\r</td></tr><tr><td>4557\r</td></tr><tr><td>3198\r</td></tr><tr><td>3815\r</td></tr><tr><td>5006\r</td></tr><tr><td>2587\r</td></tr><tr><td>4173\r</td></tr><tr><td>2965\r</td></tr><tr><td>2658\r</td></tr><tr><td>4890\r</td></tr><tr><td>5723\r</td></tr><tr><td>4231\r</td></tr><tr><td>\r</td></tr><tr><td>19350\r</td></tr><tr><td>\r</td></tr><tr><td>19637\r</td></tr><tr><td>13784\r</td></tr><tr><td>21672\r</td></tr><tr><td>\r</td></tr><tr><td>17040\r</td></tr><tr><td>29745\r</td></tr><tr><td>\r</td></tr><tr><td>2037\r</td></tr><tr><td>7872\r</td></tr><tr><td>5766\r</td></tr><tr><td>7919\r</td></tr><tr><td>1382\r</td></tr><tr><td>9398\r</td></tr><tr><td>3197\r</td></tr><tr><td>\r</td></tr><tr><td>11570\r</td></tr><tr><td>12560\r</td></tr><tr><td>6206\r</td></tr><tr><td>12642\r</td></tr><tr><td>3275\r</td></tr><tr><td>\r</td></tr><tr><td>1535\r</td></tr><tr><td>6685\r</td></tr><tr><td>5587\r</td></tr><tr><td>12955\r</td></tr><tr><td>12197\r</td></tr><tr><td>\r</td></tr><tr><td>2980\r</td></tr><tr><td>15784\r</td></tr><tr><td>12178\r</td></tr><tr><td>12996\r</td></tr><tr><td>\r</td></tr><tr><td>7928\r</td></tr><tr><td>8780\r</td></tr><tr><td>7528\r</td></tr><tr><td>5428\r</td></tr><tr><td>8181\r</td></tr><tr><td>8527\r</td></tr><tr><td>5229\r</td></tr><tr><td>3850\r</td></tr><tr><td>2012\r</td></tr><tr><td>2975\r</td></tr><tr><td>\r</td></tr><tr><td>30992\r</td></tr><tr><td>26372\r</td></tr><tr><td>\r</td></tr><tr><td>4384\r</td></tr><tr><td>2425\r</td></tr><tr><td>2332\r</td></tr><tr><td>1309\r</td></tr><tr><td>3899\r</td></tr><tr><td>3062\r</td></tr><tr><td>4825\r</td></tr><tr><td>1428\r</td></tr><tr><td>1116\r</td></tr><tr><td>3635\r</td></tr><tr><td>1669\r</td></tr><tr><td>1922\r</td></tr><tr><td>5941\r</td></tr><tr><td>4378\r</td></tr><tr><td>2742\r</td></tr><tr><td>\r</td></tr><tr><td>1961\r</td></tr><tr><td>4243\r</td></tr><tr><td>4443\r</td></tr><tr><td>3070\r</td></tr><tr><td>5786\r</td></tr><tr><td>3638\r</td></tr><tr><td>6330\r</td></tr><tr><td>2461\r</td></tr><tr><td>1612\r</td></tr><tr><td>4572\r</td></tr><tr><td>3551\r</td></tr><tr><td>3831\r</td></tr><tr><td>3263\r</td></tr><tr><td>6173\r</td></tr><tr><td>\r</td></tr><tr><td>2759\r</td></tr><tr><td>3889\r</td></tr><tr><td>5197\r</td></tr><tr><td>4293\r</td></tr><tr><td>2957\r</td></tr><tr><td>6305\r</td></tr><tr><td>3797\r</td></tr><tr><td>1465\r</td></tr><tr><td>4674\r</td></tr><tr><td>5659\r</td></tr><tr><td>5258\r</td></tr><tr><td>3775\r</td></tr><tr><td>4436\r</td></tr><tr><td>2260\r</td></tr><tr><td>\r</td></tr><tr><td>5141\r</td></tr><tr><td>8383\r</td></tr><tr><td>6249\r</td></tr><tr><td>9982\r</td></tr><tr><td>4848\r</td></tr><tr><td>2675\r</td></tr><tr><td>4232\r</td></tr><tr><td>8974\r</td></tr><tr><td>\r</td></tr><tr><td>11489\r</td></tr><tr><td>11733\r</td></tr><tr><td>9990\r</td></tr><tr><td>4150\r</td></tr><tr><td>4533\r</td></tr><tr><td>3032\r</td></tr><tr><td>1044\r</td></tr><tr><td>\r</td></tr><tr><td>62338\r</td></tr><tr><td>\r</td></tr><tr><td>3645\r</td></tr><tr><td>5406\r</td></tr><tr><td>4672\r</td></tr><tr><td>3889\r</td></tr><tr><td>5799\r</td></tr><tr><td>5760\r</td></tr><tr><td>4356\r</td></tr><tr><td>5557\r</td></tr><tr><td>4120\r</td></tr><tr><td>2771\r</td></tr><tr><td>3399\r</td></tr><tr><td>5292\r</td></tr><tr><td>3640\r</td></tr><tr><td>3989\r</td></tr><tr><td>6047\r</td></tr><tr><td>\r</td></tr><tr><td>4629\r</td></tr><tr><td>6897\r</td></tr><tr><td>4312\r</td></tr><tr><td>2108\r</td></tr><tr><td>5301\r</td></tr><tr><td>1122\r</td></tr><tr><td>1893\r</td></tr><tr><td>5508\r</td></tr><tr><td>3414\r</td></tr><tr><td>2180\r</td></tr><tr><td>4254</td></tr></table>"
                    },
                    "metadata": {}
                }
            ],
            "execution_count": 1
        }
    ]
}